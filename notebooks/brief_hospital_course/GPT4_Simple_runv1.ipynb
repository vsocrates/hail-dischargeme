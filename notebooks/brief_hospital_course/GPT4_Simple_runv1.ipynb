{
 "cells": [
  {
   "cell_type": "code",
   "execution_count": 1,
   "id": "d2e168a5-2666-446c-90bd-c8e72d6009c3",
   "metadata": {
    "editable": true,
    "execution": {
     "iopub.execute_input": "2024-04-07T17:16:42.439193Z",
     "iopub.status.busy": "2024-04-07T17:16:42.439050Z",
     "iopub.status.idle": "2024-04-07T17:16:42.441597Z",
     "shell.execute_reply": "2024-04-07T17:16:42.441276Z"
    },
    "papermill": {
     "duration": 0.014964,
     "end_time": "2024-04-07T17:16:42.442588",
     "exception": false,
     "start_time": "2024-04-07T17:16:42.427624",
     "status": "completed"
    },
    "slideshow": {
     "slide_type": ""
    },
    "tags": []
   },
   "outputs": [],
   "source": [
    "N = 3"
   ]
  },
  {
   "cell_type": "code",
   "execution_count": 2,
   "id": "71db9837",
   "metadata": {
    "execution": {
     "iopub.execute_input": "2024-04-07T17:16:42.462267Z",
     "iopub.status.busy": "2024-04-07T17:16:42.462126Z",
     "iopub.status.idle": "2024-04-07T17:16:42.464128Z",
     "shell.execute_reply": "2024-04-07T17:16:42.463811Z"
    },
    "papermill": {
     "duration": 0.0102,
     "end_time": "2024-04-07T17:16:42.465052",
     "exception": false,
     "start_time": "2024-04-07T17:16:42.454852",
     "status": "completed"
    },
    "tags": [
     "injected-parameters"
    ]
   },
   "outputs": [],
   "source": [
    "# Parameters\n",
    "N = 1000\n"
   ]
  },
  {
   "cell_type": "code",
   "execution_count": 3,
   "id": "ffd894ee-1492-46ee-a849-c9e9e2185a43",
   "metadata": {
    "editable": true,
    "execution": {
     "iopub.execute_input": "2024-04-07T17:16:42.479224Z",
     "iopub.status.busy": "2024-04-07T17:16:42.479086Z",
     "iopub.status.idle": "2024-04-07T17:16:43.607534Z",
     "shell.execute_reply": "2024-04-07T17:16:43.607012Z"
    },
    "papermill": {
     "duration": 1.1373,
     "end_time": "2024-04-07T17:16:43.608911",
     "exception": false,
     "start_time": "2024-04-07T17:16:42.471611",
     "status": "completed"
    },
    "slideshow": {
     "slide_type": ""
    },
    "tags": []
   },
   "outputs": [],
   "source": [
    "import sys\n",
    "import os\n",
    "import pandas as pd\n",
    "import tiktoken\n",
    "from tenacity import (\n",
    "    retry,\n",
    "    stop_after_attempt,\n",
    "    wait_random_exponential,\n",
    ")  # for exponential backoff\n",
    "\n",
    "#sys.path.append('/home/vs428/Documents/DischargeMe/hail-dischargeme/scoring/scoring.py')"
   ]
  },
  {
   "cell_type": "code",
   "execution_count": 4,
   "id": "b4232fdb-a965-439d-9b9e-cea1bd090939",
   "metadata": {
    "execution": {
     "iopub.execute_input": "2024-04-07T17:16:43.632911Z",
     "iopub.status.busy": "2024-04-07T17:16:43.632692Z",
     "iopub.status.idle": "2024-04-07T17:16:44.741500Z",
     "shell.execute_reply": "2024-04-07T17:16:44.741013Z"
    },
    "papermill": {
     "duration": 1.120455,
     "end_time": "2024-04-07T17:16:44.742941",
     "exception": false,
     "start_time": "2024-04-07T17:16:43.622486",
     "status": "completed"
    },
    "tags": []
   },
   "outputs": [],
   "source": [
    "import re\n",
    "import openai\n",
    "from datasets import load_dataset\n",
    "import pandas as pd"
   ]
  },
  {
   "cell_type": "code",
   "execution_count": 5,
   "id": "a58f0cb5-f130-411f-a450-f89d91fef0f9",
   "metadata": {
    "execution": {
     "iopub.execute_input": "2024-04-07T17:16:44.757372Z",
     "iopub.status.busy": "2024-04-07T17:16:44.757079Z",
     "iopub.status.idle": "2024-04-07T17:16:44.775209Z",
     "shell.execute_reply": "2024-04-07T17:16:44.774392Z"
    },
    "papermill": {
     "duration": 0.026158,
     "end_time": "2024-04-07T17:16:44.776163",
     "exception": false,
     "start_time": "2024-04-07T17:16:44.750005",
     "status": "completed"
    },
    "tags": []
   },
   "outputs": [],
   "source": [
    "%load_ext dotenv\n",
    "%dotenv /vast/palmer/home.mccleary/vs428/Documents/DischargeMe/hail-dischargeme/.env"
   ]
  },
  {
   "cell_type": "code",
   "execution_count": 6,
   "id": "afcd9251-1fb7-488d-9b53-5c61b1a9db6d",
   "metadata": {
    "execution": {
     "iopub.execute_input": "2024-04-07T17:16:44.790152Z",
     "iopub.status.busy": "2024-04-07T17:16:44.790005Z",
     "iopub.status.idle": "2024-04-07T17:16:44.793330Z",
     "shell.execute_reply": "2024-04-07T17:16:44.792647Z"
    },
    "papermill": {
     "duration": 0.011476,
     "end_time": "2024-04-07T17:16:44.794260",
     "exception": false,
     "start_time": "2024-04-07T17:16:44.782784",
     "status": "completed"
    },
    "tags": []
   },
   "outputs": [],
   "source": [
    "def num_tokens_from_string(string: str, encoding_name: str=\"cl100k_base\") -> int:\n",
    "    \"\"\"Returns the number of tokens in a text string.\"\"\"\n",
    "    encoding = tiktoken.get_encoding(encoding_name)\n",
    "    num_tokens = len(encoding.encode(string))\n",
    "    return num_tokens"
   ]
  },
  {
   "cell_type": "code",
   "execution_count": 7,
   "id": "9ea390ba-d078-4175-a556-1542984b0050",
   "metadata": {
    "execution": {
     "iopub.execute_input": "2024-04-07T17:16:44.809510Z",
     "iopub.status.busy": "2024-04-07T17:16:44.809358Z",
     "iopub.status.idle": "2024-04-07T17:16:44.811684Z",
     "shell.execute_reply": "2024-04-07T17:16:44.811360Z"
    },
    "papermill": {
     "duration": 0.011625,
     "end_time": "2024-04-07T17:16:44.812625",
     "exception": false,
     "start_time": "2024-04-07T17:16:44.801000",
     "status": "completed"
    },
    "tags": []
   },
   "outputs": [],
   "source": [
    "@retry(wait=wait_random_exponential(min=1, max=60), stop=stop_after_attempt(6))\n",
    "def completion_with_backoff(**kwargs):\n",
    "    return openai.ChatCompletion.create(**kwargs)\n"
   ]
  },
  {
   "cell_type": "code",
   "execution_count": 8,
   "id": "b28040ef-6883-401f-84ee-5a61b26da34b",
   "metadata": {
    "execution": {
     "iopub.execute_input": "2024-04-07T17:16:44.826914Z",
     "iopub.status.busy": "2024-04-07T17:16:44.826770Z",
     "iopub.status.idle": "2024-04-07T17:16:44.829159Z",
     "shell.execute_reply": "2024-04-07T17:16:44.828835Z"
    },
    "papermill": {
     "duration": 0.010881,
     "end_time": "2024-04-07T17:16:44.830085",
     "exception": false,
     "start_time": "2024-04-07T17:16:44.819204",
     "status": "completed"
    },
    "tags": []
   },
   "outputs": [],
   "source": [
    "from IPython.display import display, HTML\n",
    "\n",
    "def add_line_breaks(text):\n",
    "    return text.replace('\\n', '<br>')\n",
    "\n",
    "\n",
    "def pretty_print(df):\n",
    "    return display( HTML( df.to_html().replace(\"\\\\n\",\"<br>\") ) )"
   ]
  },
  {
   "cell_type": "code",
   "execution_count": 9,
   "id": "664561e4-293b-42ee-a071-10191825f43b",
   "metadata": {
    "execution": {
     "iopub.execute_input": "2024-04-07T17:16:44.844848Z",
     "iopub.status.busy": "2024-04-07T17:16:44.844706Z",
     "iopub.status.idle": "2024-04-07T17:16:44.846750Z",
     "shell.execute_reply": "2024-04-07T17:16:44.846420Z"
    },
    "papermill": {
     "duration": 0.010561,
     "end_time": "2024-04-07T17:16:44.847682",
     "exception": false,
     "start_time": "2024-04-07T17:16:44.837121",
     "status": "completed"
    },
    "tags": []
   },
   "outputs": [],
   "source": [
    "challenge_data_fp = \"/gpfs/gibbs/project/rtaylor/shared/DischargeMe/public/\"\n"
   ]
  },
  {
   "cell_type": "code",
   "execution_count": 10,
   "id": "42ff68b3-22cd-4a46-95a6-6a25e51ddc4f",
   "metadata": {
    "execution": {
     "iopub.execute_input": "2024-04-07T17:16:44.861865Z",
     "iopub.status.busy": "2024-04-07T17:16:44.861722Z",
     "iopub.status.idle": "2024-04-07T17:16:45.595043Z",
     "shell.execute_reply": "2024-04-07T17:16:45.594190Z"
    },
    "id": "s6f4z8EYmcJ6",
    "papermill": {
     "duration": 0.742263,
     "end_time": "2024-04-07T17:16:45.596424",
     "exception": false,
     "start_time": "2024-04-07T17:16:44.854161",
     "status": "completed"
    },
    "tags": []
   },
   "outputs": [],
   "source": [
    "test_dataset = load_dataset('json', data_files=\"/home/vs428/Documents/DischargeMe/hail-dischargeme/notebooks/data_processing/simple_test.json\", split=\"train\")"
   ]
  },
  {
   "cell_type": "code",
   "execution_count": 11,
   "id": "f779fef2-970e-4971-9f5d-627dd093b99a",
   "metadata": {
    "editable": true,
    "execution": {
     "iopub.execute_input": "2024-04-07T17:16:45.611680Z",
     "iopub.status.busy": "2024-04-07T17:16:45.611467Z",
     "iopub.status.idle": "2024-04-07T17:16:45.613952Z",
     "shell.execute_reply": "2024-04-07T17:16:45.613623Z"
    },
    "papermill": {
     "duration": 0.01103,
     "end_time": "2024-04-07T17:16:45.614889",
     "exception": false,
     "start_time": "2024-04-07T17:16:45.603859",
     "status": "completed"
    },
    "slideshow": {
     "slide_type": ""
    },
    "tags": []
   },
   "outputs": [],
   "source": [
    "openai.api_type = \"azure\"\n",
    "openai.api_base = os.getenv(\"AZURE_OPENAI_ENDPOINT\")\n",
    "openai.api_version = \"2023-07-01-preview\"\n",
    "openai.api_key = os.getenv(\"AZURE_OPENAI_KEY\")\n",
    "engine = \"decile-gpt-35-turbo-16k\""
   ]
  },
  {
   "cell_type": "markdown",
   "id": "bcd6407b-ed20-44ff-9774-32e208c5545b",
   "metadata": {
    "papermill": {
     "duration": 0.006501,
     "end_time": "2024-04-07T17:16:45.627894",
     "exception": false,
     "start_time": "2024-04-07T17:16:45.621393",
     "status": "completed"
    },
    "tags": []
   },
   "source": [
    "# Integrate Service/Ward info\n",
    "\n",
    "This section will integrate the service-file to match the structure of the note as much as possible. "
   ]
  },
  {
   "cell_type": "code",
   "execution_count": 12,
   "id": "f69ddb74-986a-47fe-9639-8d2b21b2cf97",
   "metadata": {
    "execution": {
     "iopub.execute_input": "2024-04-07T17:16:45.642659Z",
     "iopub.status.busy": "2024-04-07T17:16:45.642513Z",
     "iopub.status.idle": "2024-04-07T17:16:46.226791Z",
     "shell.execute_reply": "2024-04-07T17:16:46.226222Z"
    },
    "papermill": {
     "duration": 0.593515,
     "end_time": "2024-04-07T17:16:46.228220",
     "exception": false,
     "start_time": "2024-04-07T17:16:45.634705",
     "status": "completed"
    },
    "tags": []
   },
   "outputs": [],
   "source": [
    "target_test = pd.read_csv(challenge_data_fp + \"test_phase_1/discharge_target.csv.gz\", keep_default_na=False)\n"
   ]
  },
  {
   "cell_type": "code",
   "execution_count": 13,
   "id": "5579b3e5-c144-484a-b017-2f9f60151569",
   "metadata": {
    "execution": {
     "iopub.execute_input": "2024-04-07T17:16:46.243877Z",
     "iopub.status.busy": "2024-04-07T17:16:46.243706Z",
     "iopub.status.idle": "2024-04-07T17:16:46.533699Z",
     "shell.execute_reply": "2024-04-07T17:16:46.533124Z"
    },
    "papermill": {
     "duration": 0.299036,
     "end_time": "2024-04-07T17:16:46.535138",
     "exception": false,
     "start_time": "2024-04-07T17:16:46.236102",
     "status": "completed"
    },
    "tags": []
   },
   "outputs": [],
   "source": [
    "# ward transfers\n",
    "transfers = pd.read_pickle('/gpfs/gibbs/project/rtaylor/shared/DischargeMe/mimiciv/hosp/cohort_transfers.pkl')\n",
    "\n",
    "# higher-level services (ICU, CARD, etc)\n",
    "services = pd.read_pickle('/gpfs/gibbs/project/rtaylor/shared/DischargeMe/mimiciv/hosp/cohort_services.pkl')\n"
   ]
  },
  {
   "cell_type": "code",
   "execution_count": 14,
   "id": "c6a25751-6b74-4f40-a98b-14543fa426a3",
   "metadata": {
    "execution": {
     "iopub.execute_input": "2024-04-07T17:16:46.553124Z",
     "iopub.status.busy": "2024-04-07T17:16:46.552946Z",
     "iopub.status.idle": "2024-04-07T17:16:46.664215Z",
     "shell.execute_reply": "2024-04-07T17:16:46.663785Z"
    },
    "papermill": {
     "duration": 0.122851,
     "end_time": "2024-04-07T17:16:46.665674",
     "exception": false,
     "start_time": "2024-04-07T17:16:46.542823",
     "status": "completed"
    },
    "tags": []
   },
   "outputs": [],
   "source": [
    "transfers = transfers[transfers['eventtype'] != \"discharge\"]"
   ]
  },
  {
   "cell_type": "code",
   "execution_count": 15,
   "id": "e8180d9c-ce8c-45f2-9925-67fd247b9b01",
   "metadata": {
    "execution": {
     "iopub.execute_input": "2024-04-07T17:16:46.680595Z",
     "iopub.status.busy": "2024-04-07T17:16:46.680409Z",
     "iopub.status.idle": "2024-04-07T17:16:47.778669Z",
     "shell.execute_reply": "2024-04-07T17:16:47.777587Z"
    },
    "papermill": {
     "duration": 1.107521,
     "end_time": "2024-04-07T17:16:47.780241",
     "exception": false,
     "start_time": "2024-04-07T17:16:46.672720",
     "status": "completed"
    },
    "tags": []
   },
   "outputs": [],
   "source": [
    "transfers = transfers.sort_values(['hadm_id', \"intime\"])"
   ]
  },
  {
   "cell_type": "code",
   "execution_count": 16,
   "id": "22962026-5424-44dd-a325-7eae4964317d",
   "metadata": {
    "execution": {
     "iopub.execute_input": "2024-04-07T17:16:47.795584Z",
     "iopub.status.busy": "2024-04-07T17:16:47.795380Z",
     "iopub.status.idle": "2024-04-07T17:16:48.078567Z",
     "shell.execute_reply": "2024-04-07T17:16:48.078057Z"
    },
    "papermill": {
     "duration": 0.292437,
     "end_time": "2024-04-07T17:16:48.080005",
     "exception": false,
     "start_time": "2024-04-07T17:16:47.787568",
     "status": "completed"
    },
    "tags": []
   },
   "outputs": [],
   "source": [
    "discharging_transfer = transfers.groupby(\"hadm_id\").last().reset_index()"
   ]
  },
  {
   "cell_type": "code",
   "execution_count": 17,
   "id": "a97dd1e2-604c-49e5-9eb6-68a556f7ab9f",
   "metadata": {
    "execution": {
     "iopub.execute_input": "2024-04-07T17:16:48.096177Z",
     "iopub.status.busy": "2024-04-07T17:16:48.096001Z",
     "iopub.status.idle": "2024-04-07T17:16:48.550327Z",
     "shell.execute_reply": "2024-04-07T17:16:48.549361Z"
    },
    "papermill": {
     "duration": 0.464006,
     "end_time": "2024-04-07T17:16:48.551777",
     "exception": false,
     "start_time": "2024-04-07T17:16:48.087771",
     "status": "completed"
    },
    "tags": []
   },
   "outputs": [],
   "source": [
    "discharging_service = services.sort_values(['hadm_id', \"transfertime\"]).groupby(\"hadm_id\").last().reset_index()"
   ]
  },
  {
   "cell_type": "code",
   "execution_count": 18,
   "id": "0166749c-8801-44cb-87fc-e755f4ea8153",
   "metadata": {
    "execution": {
     "iopub.execute_input": "2024-04-07T17:16:48.567179Z",
     "iopub.status.busy": "2024-04-07T17:16:48.567006Z",
     "iopub.status.idle": "2024-04-07T17:16:48.982388Z",
     "shell.execute_reply": "2024-04-07T17:16:48.981800Z"
    },
    "papermill": {
     "duration": 0.424184,
     "end_time": "2024-04-07T17:16:48.983479",
     "exception": false,
     "start_time": "2024-04-07T17:16:48.559295",
     "status": "completed"
    },
    "tags": []
   },
   "outputs": [
    {
     "data": {
      "text/plain": [
       "(14702, 4)"
      ]
     },
     "execution_count": 18,
     "metadata": {},
     "output_type": "execute_result"
    }
   ],
   "source": [
    "test_dataset_df = test_dataset.to_pandas(); test_dataset_df.shape"
   ]
  },
  {
   "cell_type": "code",
   "execution_count": 19,
   "id": "26e4a470-eadf-4888-b683-0ec543dddd5b",
   "metadata": {
    "execution": {
     "iopub.execute_input": "2024-04-07T17:16:48.998079Z",
     "iopub.status.busy": "2024-04-07T17:16:48.997916Z",
     "iopub.status.idle": "2024-04-07T17:16:49.036888Z",
     "shell.execute_reply": "2024-04-07T17:16:49.036542Z"
    },
    "papermill": {
     "duration": 0.047379,
     "end_time": "2024-04-07T17:16:49.037960",
     "exception": false,
     "start_time": "2024-04-07T17:16:48.990581",
     "status": "completed"
    },
    "tags": []
   },
   "outputs": [
    {
     "data": {
      "text/plain": [
       "(14702, 6)"
      ]
     },
     "execution_count": 19,
     "metadata": {},
     "output_type": "execute_result"
    }
   ],
   "source": [
    "test_dataset_df = test_dataset_df.merge(discharging_transfer[['hadm_id', 'careunit', 'eventtype']], on=\"hadm_id\", how=\"left\"); test_dataset_df.shape"
   ]
  },
  {
   "cell_type": "code",
   "execution_count": 20,
   "id": "7dc4fd49-4a90-448d-9473-44821f62478a",
   "metadata": {
    "execution": {
     "iopub.execute_input": "2024-04-07T17:16:49.053124Z",
     "iopub.status.busy": "2024-04-07T17:16:49.052961Z",
     "iopub.status.idle": "2024-04-07T17:16:49.090724Z",
     "shell.execute_reply": "2024-04-07T17:16:49.090370Z"
    },
    "papermill": {
     "duration": 0.046345,
     "end_time": "2024-04-07T17:16:49.091817",
     "exception": false,
     "start_time": "2024-04-07T17:16:49.045472",
     "status": "completed"
    },
    "scrolled": true,
    "tags": []
   },
   "outputs": [
    {
     "data": {
      "text/html": [
       "<div>\n",
       "<style scoped>\n",
       "    .dataframe tbody tr th:only-of-type {\n",
       "        vertical-align: middle;\n",
       "    }\n",
       "\n",
       "    .dataframe tbody tr th {\n",
       "        vertical-align: top;\n",
       "    }\n",
       "\n",
       "    .dataframe thead th {\n",
       "        text-align: right;\n",
       "    }\n",
       "</style>\n",
       "<table border=\"1\" class=\"dataframe\">\n",
       "  <thead>\n",
       "    <tr style=\"text-align: right;\">\n",
       "      <th></th>\n",
       "      <th>note_id</th>\n",
       "      <th>hadm_id</th>\n",
       "      <th>input</th>\n",
       "      <th>output</th>\n",
       "      <th>careunit</th>\n",
       "      <th>eventtype</th>\n",
       "      <th>curr_service</th>\n",
       "    </tr>\n",
       "  </thead>\n",
       "  <tbody>\n",
       "    <tr>\n",
       "      <th>0</th>\n",
       "      <td>19766998-DS-20</td>\n",
       "      <td>26231944</td>\n",
       "      <td>\\nName:  ___                Unit No:   ___\\n ...</td>\n",
       "      <td>___ with PMH HCV, ETOH cirrhosis with ascites,...</td>\n",
       "      <td>Med/Surg</td>\n",
       "      <td>transfer</td>\n",
       "      <td>MED</td>\n",
       "    </tr>\n",
       "    <tr>\n",
       "      <th>1</th>\n",
       "      <td>10336082-DS-11</td>\n",
       "      <td>28542384</td>\n",
       "      <td>\\nName:  ___             Unit No:   ___\\n \\nA...</td>\n",
       "      <td>___ yo F with recent lumbar laminectomy c/b MS...</td>\n",
       "      <td>Neurology</td>\n",
       "      <td>admit</td>\n",
       "      <td>MED</td>\n",
       "    </tr>\n",
       "    <tr>\n",
       "      <th>2</th>\n",
       "      <td>10481170-DS-22</td>\n",
       "      <td>26489329</td>\n",
       "      <td>\\nName:  ___                Unit No:   ___\\n ...</td>\n",
       "      <td>The patient was seen ___ the emergency departm...</td>\n",
       "      <td>Med/Surg/GYN</td>\n",
       "      <td>transfer</td>\n",
       "      <td>SURG</td>\n",
       "    </tr>\n",
       "    <tr>\n",
       "      <th>3</th>\n",
       "      <td>11576109-DS-14</td>\n",
       "      <td>22641254</td>\n",
       "      <td>\\nName:  ___                Unit No:   ___\\n ...</td>\n",
       "      <td>Ms. ___ is a ___ woman with a history of T2DM,...</td>\n",
       "      <td>Medicine/Cardiology</td>\n",
       "      <td>transfer</td>\n",
       "      <td>CMED</td>\n",
       "    </tr>\n",
       "    <tr>\n",
       "      <th>4</th>\n",
       "      <td>19249697-DS-17</td>\n",
       "      <td>29265750</td>\n",
       "      <td>\\nName:  ___                       Unit No:  ...</td>\n",
       "      <td>___ with IDDM and h/o provoked PE on apixiban ...</td>\n",
       "      <td>Vascular</td>\n",
       "      <td>admit</td>\n",
       "      <td>MED</td>\n",
       "    </tr>\n",
       "    <tr>\n",
       "      <th>...</th>\n",
       "      <td>...</td>\n",
       "      <td>...</td>\n",
       "      <td>...</td>\n",
       "      <td>...</td>\n",
       "      <td>...</td>\n",
       "      <td>...</td>\n",
       "      <td>...</td>\n",
       "    </tr>\n",
       "    <tr>\n",
       "      <th>14697</th>\n",
       "      <td>18995174-DS-17</td>\n",
       "      <td>27445071</td>\n",
       "      <td>\\nName:  ___                  Unit No:   ___\\...</td>\n",
       "      <td>___ M PMHx dilated non-ischemic cardiomyopathy...</td>\n",
       "      <td>Medicine/Cardiology</td>\n",
       "      <td>admit</td>\n",
       "      <td>CMED</td>\n",
       "    </tr>\n",
       "    <tr>\n",
       "      <th>14698</th>\n",
       "      <td>13588195-DS-9</td>\n",
       "      <td>26192891</td>\n",
       "      <td>\\nName:  ___                Unit No:   ___\\n ...</td>\n",
       "      <td>Mr. ___ is a ___ year-old man with CAD, HTN, H...</td>\n",
       "      <td>Med/Surg</td>\n",
       "      <td>admit</td>\n",
       "      <td>MED</td>\n",
       "    </tr>\n",
       "    <tr>\n",
       "      <th>14699</th>\n",
       "      <td>10873131-DS-17</td>\n",
       "      <td>26584893</td>\n",
       "      <td>\\nName:  ___                     Unit No:   _...</td>\n",
       "      <td>___ year old female with past medical history ...</td>\n",
       "      <td>Medicine</td>\n",
       "      <td>transfer</td>\n",
       "      <td>MED</td>\n",
       "    </tr>\n",
       "    <tr>\n",
       "      <th>14700</th>\n",
       "      <td>12332377-DS-11</td>\n",
       "      <td>25623241</td>\n",
       "      <td>\\nName:  ___                Unit No:   ___\\n ...</td>\n",
       "      <td>Mr. ___ is a ___ male with a past medical hist...</td>\n",
       "      <td>Med/Surg/Trauma</td>\n",
       "      <td>admit</td>\n",
       "      <td>MED</td>\n",
       "    </tr>\n",
       "    <tr>\n",
       "      <th>14701</th>\n",
       "      <td>11030142-DS-22</td>\n",
       "      <td>23318613</td>\n",
       "      <td>\\nName:  ___                Unit No:   ___\\n ...</td>\n",
       "      <td>Mr. ___ is a ___ year old male with a history ...</td>\n",
       "      <td>Medicine</td>\n",
       "      <td>admit</td>\n",
       "      <td>MED</td>\n",
       "    </tr>\n",
       "  </tbody>\n",
       "</table>\n",
       "<p>14702 rows × 7 columns</p>\n",
       "</div>"
      ],
      "text/plain": [
       "              note_id   hadm_id  \\\n",
       "0      19766998-DS-20  26231944   \n",
       "1      10336082-DS-11  28542384   \n",
       "2      10481170-DS-22  26489329   \n",
       "3      11576109-DS-14  22641254   \n",
       "4      19249697-DS-17  29265750   \n",
       "...               ...       ...   \n",
       "14697  18995174-DS-17  27445071   \n",
       "14698   13588195-DS-9  26192891   \n",
       "14699  10873131-DS-17  26584893   \n",
       "14700  12332377-DS-11  25623241   \n",
       "14701  11030142-DS-22  23318613   \n",
       "\n",
       "                                                   input  \\\n",
       "0       \\nName:  ___                Unit No:   ___\\n ...   \n",
       "1       \\nName:  ___             Unit No:   ___\\n \\nA...   \n",
       "2       \\nName:  ___                Unit No:   ___\\n ...   \n",
       "3       \\nName:  ___                Unit No:   ___\\n ...   \n",
       "4       \\nName:  ___                       Unit No:  ...   \n",
       "...                                                  ...   \n",
       "14697   \\nName:  ___                  Unit No:   ___\\...   \n",
       "14698   \\nName:  ___                Unit No:   ___\\n ...   \n",
       "14699   \\nName:  ___                     Unit No:   _...   \n",
       "14700   \\nName:  ___                Unit No:   ___\\n ...   \n",
       "14701   \\nName:  ___                Unit No:   ___\\n ...   \n",
       "\n",
       "                                                  output             careunit  \\\n",
       "0      ___ with PMH HCV, ETOH cirrhosis with ascites,...             Med/Surg   \n",
       "1      ___ yo F with recent lumbar laminectomy c/b MS...            Neurology   \n",
       "2      The patient was seen ___ the emergency departm...         Med/Surg/GYN   \n",
       "3      Ms. ___ is a ___ woman with a history of T2DM,...  Medicine/Cardiology   \n",
       "4      ___ with IDDM and h/o provoked PE on apixiban ...             Vascular   \n",
       "...                                                  ...                  ...   \n",
       "14697  ___ M PMHx dilated non-ischemic cardiomyopathy...  Medicine/Cardiology   \n",
       "14698  Mr. ___ is a ___ year-old man with CAD, HTN, H...             Med/Surg   \n",
       "14699  ___ year old female with past medical history ...             Medicine   \n",
       "14700  Mr. ___ is a ___ male with a past medical hist...      Med/Surg/Trauma   \n",
       "14701  Mr. ___ is a ___ year old male with a history ...             Medicine   \n",
       "\n",
       "      eventtype curr_service  \n",
       "0      transfer          MED  \n",
       "1         admit          MED  \n",
       "2      transfer         SURG  \n",
       "3      transfer         CMED  \n",
       "4         admit          MED  \n",
       "...         ...          ...  \n",
       "14697     admit         CMED  \n",
       "14698     admit          MED  \n",
       "14699  transfer          MED  \n",
       "14700     admit          MED  \n",
       "14701     admit          MED  \n",
       "\n",
       "[14702 rows x 7 columns]"
      ]
     },
     "execution_count": 20,
     "metadata": {},
     "output_type": "execute_result"
    }
   ],
   "source": [
    "test_dataset_df = test_dataset_df.merge(discharging_service[['hadm_id', 'curr_service']], on=\"hadm_id\", how=\"left\"); test_dataset_df"
   ]
  },
  {
   "cell_type": "markdown",
   "id": "36b5a376-01b8-4a0b-aea7-2518f4cd77be",
   "metadata": {
    "papermill": {
     "duration": 0.007083,
     "end_time": "2024-04-07T17:16:49.106215",
     "exception": false,
     "start_time": "2024-04-07T17:16:49.099132",
     "status": "completed"
    },
    "tags": []
   },
   "source": [
    "# N-shot"
   ]
  },
  {
   "cell_type": "code",
   "execution_count": 21,
   "id": "8cfad60d-220c-4880-91c6-1ef6c5b4c0dc",
   "metadata": {
    "execution": {
     "iopub.execute_input": "2024-04-07T17:16:49.124360Z",
     "iopub.status.busy": "2024-04-07T17:16:49.124199Z",
     "iopub.status.idle": "2024-04-07T17:16:49.127028Z",
     "shell.execute_reply": "2024-04-07T17:16:49.126696Z"
    },
    "papermill": {
     "duration": 0.01457,
     "end_time": "2024-04-07T17:16:49.127970",
     "exception": false,
     "start_time": "2024-04-07T17:16:49.113400",
     "status": "completed"
    },
    "tags": []
   },
   "outputs": [],
   "source": [
    "ex1 = \"\"\"Mr. ___ presented to the ED s/p mechanical fall with head \n",
    "strike. CTH at OSH with subacute right SDH for which patient was \n",
    "transferred to ___ for evaluation and neurosurgery was \n",
    "consulted on arrival to ___ ED. \n",
    "\n",
    "#Right SDH\n",
    "Patient remained neurologically at his baseline in the ED. He \n",
    "was admitted to the neurosurgery service and transferred to the \n",
    "floor for continued neurological monitoring. Patient's INR on \n",
    "admission was 1.5 and he was given Vitamin K 10mg IV x1 and then \n",
    "vitamin K 5mg x2 for a total of 3 doses. Patient's INR was \n",
    "monitored closely during hospitalization and down trended \n",
    "appropriately. Repeat CTH showed a stable SDH size. Patient \n",
    "remained stable neurologically. He remained on TF as he was at \n",
    "home and will follow up with SLP and laryngologist outpatient. \n",
    "While hospitalized patient remained at his neurological \n",
    "baseline. \n",
    "\n",
    "#Hx colloid cyst rupture s/p bilateral VPS placement\n",
    "On patient's initial and repeat NCHCTs, his ventricles were \n",
    "shown to be slit. His bilateral VPS were turned up from 1.0 to \n",
    "1.5. No scan was repeated following adjustment of his VPS \n",
    "settings. He remained neurologically stable following this \n",
    "change. \n",
    "\n",
    "#Hx of DVT\n",
    "Patient with a history of bilateral femoral vein occlusive DVTs \n",
    "for which he was started on Eliquis. Due to this subacute SDH \n",
    "Eliquis was held and bilateral LENIs were obtained to assess \n",
    "DVTs. These were negative for thrombus and the Eliquis was \n",
    "stopped indefinitely. Patient was placed on ___ 24hrs s/p \n",
    "trauma. \n",
    "\n",
    "#Disposition\n",
    "Patient was evaluated by physical therapy who recommended \n",
    "___ rehab. Patient was discharged to rehab on ___. \n",
    "Patient discharged with follow up instructions with Dr. ___ in \n",
    "4 weeks with a repeat non contrast CTH\"\"\"\n",
    "\n",
    "ex2 = \"\"\"Mr. ___ is a ___ y/o man w/ HTN who presented w/ sudden-onset LUE \n",
    "weakness ___ AM). Next day, presented to ED. Pt noted to have \n",
    "L facial droop, LUE weakness (more prominent distally) and \n",
    "decreased LUE sensation. CTA showed significant R ICA stenosis; \n",
    "U/S indicated occlusion between 80 and 100%. MRI brain showed \n",
    "acute small infarcts in R frontal and parietal lobes in the MCA \n",
    "territory, consistent w/ watershed infarcts. Started on ASA and \n",
    "clopidogrel.\"\"\"\n",
    "\n",
    "examples = [ex1, ex2]"
   ]
  },
  {
   "cell_type": "code",
   "execution_count": 22,
   "id": "e9365571-b83f-4d02-b2ff-68e5fa1d9a8d",
   "metadata": {
    "execution": {
     "iopub.execute_input": "2024-04-07T17:16:49.142281Z",
     "iopub.status.busy": "2024-04-07T17:16:49.142132Z",
     "iopub.status.idle": "2024-04-07T17:16:49.144266Z",
     "shell.execute_reply": "2024-04-07T17:16:49.143943Z"
    },
    "papermill": {
     "duration": 0.010424,
     "end_time": "2024-04-07T17:16:49.145211",
     "exception": false,
     "start_time": "2024-04-07T17:16:49.134787",
     "status": "completed"
    },
    "tags": []
   },
   "outputs": [],
   "source": [
    "# take subset\n",
    "test_dataset_df = test_dataset_df[:N]"
   ]
  },
  {
   "cell_type": "code",
   "execution_count": 23,
   "id": "eb31cf29-fc62-4277-af8d-54b0c211acd8",
   "metadata": {
    "editable": true,
    "execution": {
     "iopub.execute_input": "2024-04-07T17:16:49.160303Z",
     "iopub.status.busy": "2024-04-07T17:16:49.160159Z",
     "iopub.status.idle": "2024-04-07T17:16:49.195227Z",
     "shell.execute_reply": "2024-04-07T17:16:49.194816Z"
    },
    "papermill": {
     "duration": 0.044053,
     "end_time": "2024-04-07T17:16:49.196262",
     "exception": false,
     "start_time": "2024-04-07T17:16:49.152209",
     "status": "completed"
    },
    "slideshow": {
     "slide_type": ""
    },
    "tags": []
   },
   "outputs": [],
   "source": [
    "gpt_inputs = []\n",
    "for _, row in test_dataset_df.iterrows():\n",
    "    message_text = [{\"role\":\"system\",\"content\":\"You are a physician generating a summary brief hospital course from the patient encounter information given\"}]\n",
    "    \n",
    "    gpt_service_prompt = {\"role\":\"user\",\n",
    "                     \"content\":f\"\"\"Summarize the following patient hospital encounter into a brief hospital course. All brief hospital courses start with 1-2 sentences of introduction, describing why the patient arrived to the ED and any relevant features of the initial presentation. If the discharging service is primarily medical, break down the rest of the brief hospital course by condition. Include section headers for 'ACTIVE ISSUES:', 'CHRONIC ISSUES:', and 'TRANSITIONAL ISSUES:' where appropriate. In this case, precede each condition with a #. For example, after the introduction, the first section might be '# Right SDH'. \n",
    "                     \n",
    "If the discharging service is primarily surgical, instead break down the subparagraphs by CV, Pulmonary, GI/GU/FEN, ID (stands for infectious disease), HEME (stands for hematology), and Prophylaxis. For example, after the introduction, the first section might be 'HEME: '. Describe the course of events that the patient went through during their stay in sequential order. The goal is to describe the clinical reasoning for various procedures, medications, imaging, and labs as you would to another physician on your care team. Organize your thoughts and then write the brief hospital course.\\n\\nUse these two brief hospital courses as examples:\\n\\nEXAMPLE\\n-------------\\n{'\\n\\nEXAMPLE\\n-------------\\n'.join(examples)}\\n\\n\\n\\nPATIENT ENCOUNTER INFORMATION:\\n----------------\\n\\nDischarging Service:{row['careunit']}\\n\\n{row['input']}.\"\"\"}\n",
    "    \n",
    "    message_text.append(gpt_service_prompt)\n",
    "    \n",
    "    gpt_inputs.append(message_text)"
   ]
  },
  {
   "cell_type": "code",
   "execution_count": 24,
   "id": "dbe87404-1c35-4cee-935f-c1523dfa00a9",
   "metadata": {
    "execution": {
     "iopub.execute_input": "2024-04-07T17:16:49.211222Z",
     "iopub.status.busy": "2024-04-07T17:16:49.211078Z",
     "iopub.status.idle": "2024-04-07T17:16:49.215132Z",
     "shell.execute_reply": "2024-04-07T17:16:49.214734Z"
    },
    "papermill": {
     "duration": 0.012684,
     "end_time": "2024-04-07T17:16:49.216067",
     "exception": false,
     "start_time": "2024-04-07T17:16:49.203383",
     "status": "completed"
    },
    "scrolled": true,
    "tags": []
   },
   "outputs": [
    {
     "name": "stdout",
     "output_type": "stream",
     "text": [
      "Summarize the following patient hospital encounter into a brief hospital course. All brief hospital courses start with 1-2 sentences of introduction, describing why the patient arrived to the ED and any relevant features of the initial presentation. If the discharging service is primarily medical, break down the rest of the brief hospital course by condition. Include section headers for 'ACTIVE ISSUES:', 'CHRONIC ISSUES:', and 'TRANSITIONAL ISSUES:' where appropriate. In this case, precede each condition with a #. For example, after the introduction, the first section might be '# Right SDH'. \n",
      "                     \n",
      "If the discharging service is primarily surgical, instead break down the subparagraphs by CV, Pulmonary, GI/GU/FEN, ID (stands for infectious disease), HEME (stands for hematology), and Prophylaxis. For example, after the introduction, the first section might be 'HEME: '. Describe the course of events that the patient went through during their stay in sequential order. The goal is to describe the clinical reasoning for various procedures, medications, imaging, and labs as you would to another physician on your care team. Organize your thoughts and then write the brief hospital course.\n",
      "\n",
      "Use these two brief hospital courses as examples:\n",
      "\n",
      "EXAMPLE\n",
      "-------------\n",
      "Mr. ___ presented to the ED s/p mechanical fall with head \n",
      "strike. CTH at OSH with subacute right SDH for which patient was \n",
      "transferred to ___ for evaluation and neurosurgery was \n",
      "consulted on arrival to ___ ED. \n",
      "\n",
      "#Right SDH\n",
      "Patient remained neurologically at his baseline in the ED. He \n",
      "was admitted to the neurosurgery service and transferred to the \n",
      "floor for continued neurological monitoring. Patient's INR on \n",
      "admission was 1.5 and he was given Vitamin K 10mg IV x1 and then \n",
      "vitamin K 5mg x2 for a total of 3 doses. Patient's INR was \n",
      "monitored closely during hospitalization and down trended \n",
      "appropriately. Repeat CTH showed a stable SDH size. Patient \n",
      "remained stable neurologically. He remained on TF as he was at \n",
      "home and will follow up with SLP and laryngologist outpatient. \n",
      "While hospitalized patient remained at his neurological \n",
      "baseline. \n",
      "\n",
      "#Hx colloid cyst rupture s/p bilateral VPS placement\n",
      "On patient's initial and repeat NCHCTs, his ventricles were \n",
      "shown to be slit. His bilateral VPS were turned up from 1.0 to \n",
      "1.5. No scan was repeated following adjustment of his VPS \n",
      "settings. He remained neurologically stable following this \n",
      "change. \n",
      "\n",
      "#Hx of DVT\n",
      "Patient with a history of bilateral femoral vein occlusive DVTs \n",
      "for which he was started on Eliquis. Due to this subacute SDH \n",
      "Eliquis was held and bilateral LENIs were obtained to assess \n",
      "DVTs. These were negative for thrombus and the Eliquis was \n",
      "stopped indefinitely. Patient was placed on ___ 24hrs s/p \n",
      "trauma. \n",
      "\n",
      "#Disposition\n",
      "Patient was evaluated by physical therapy who recommended \n",
      "___ rehab. Patient was discharged to rehab on ___. \n",
      "Patient discharged with follow up instructions with Dr. ___ in \n",
      "4 weeks with a repeat non contrast CTH\n",
      "\n",
      "EXAMPLE\n",
      "-------------\n",
      "Mr. ___ is a ___ y/o man w/ HTN who presented w/ sudden-onset LUE \n",
      "weakness ___ AM). Next day, presented to ED. Pt noted to have \n",
      "L facial droop, LUE weakness (more prominent distally) and \n",
      "decreased LUE sensation. CTA showed significant R ICA stenosis; \n",
      "U/S indicated occlusion between 80 and 100%. MRI brain showed \n",
      "acute small infarcts in R frontal and parietal lobes in the MCA \n",
      "territory, consistent w/ watershed infarcts. Started on ASA and \n",
      "clopidogrel.\n",
      "\n",
      "\n",
      "\n",
      "PATIENT ENCOUNTER INFORMATION:\n",
      "----------------\n",
      "\n",
      "Discharging Service:Neurology\n",
      "\n",
      " \n",
      "Name:  ___             Unit No:   ___\n",
      " \n",
      "Admission Date:  ___              Discharge Date:   ___\n",
      " \n",
      "Date of Birth:  ___             Sex:   F\n",
      " \n",
      "Service: MEDICINE\n",
      " \n",
      "Allergies: \n",
      "latex\n",
      " \n",
      "Attending: ___.\n",
      " \n",
      "Chief Complaint:\n",
      "bleeding from surgical wound \n",
      " \n",
      "Major Surgical or Invasive Procedure:\n",
      "none\n",
      " \n",
      "History of Present Illness:\n",
      "___ yo F s/p L4-5 discectomy/fusion (___) by neurosurgery c/b \n",
      "wound infection with MSSA and pseudomonas requiring \n",
      "reexploration ___ and pip/tazo as well as course c/b afib \n",
      "now on Lovenox, coumadin presents with bleeding from wound. Her \n",
      "son reports that she was discharged 4 days ago and has been in \n",
      "rehabilitation. She was doing well, and working with physical \n",
      "therapy without issues. However this morning around 7:30 am she \n",
      "began to have bleeding from her wound. This could not be \n",
      "controlled with direct pressure and he noted a large volume of \n",
      "blood loss. She also has worsening pain in her back directly at \n",
      "the incision site without radiation, ___, which sometimes \n",
      "radiates down the back of both her legs.  \n",
      "During prior admission ___, patient with ongoing serosanguinous \n",
      "drainage from lumbar surgical site. She became febrile with \n",
      "elevated WBC count on ___. All ___ blood cultures grew MSSA. \n",
      "MRI spine done which showed large paraspinal fluid collection \n",
      "and patient taken back to OR for drainage of abcess which \n",
      "ultimately grew MSSA and pansensitive pseudomonas. ID was \n",
      "consulted and recommended changing to Zosyn to cover both \n",
      "organisms. 2 JP drains were left in near posterior incision and \n",
      "were removed on ___ and ___ respectively when wound drainage \n",
      "had slowed. Patient defervesced on antibiotics with no further \n",
      "positive blood cultures. ___ placed with plan for 6 week \n",
      "antibiotic course with possible transition to oral antibiotics \n",
      "at follow-up with ID on ___. Discharged ___.  \n",
      "Patient also had newly discovered A Fib and was initated on \n",
      "warfarin with lovenox bridge during that admission. Her son \n",
      "notes that for the past 2 days she was having bleeding at the \n",
      "site of the lovenox injections and also nose bleeding so he had \n",
      "___ the rehab to stop those and to also stop her aspirin. He \n",
      "thinks the last dose of both was ___.  \n",
      "In the ED initial vitals were: 98.2 92 165/76 18 97%  \n",
      "- Labs were significant for Hct 23.8, INR 3, K 3.2.  \n",
      "Neurosurgery evaluated patient who said: Neurologically stable, \n",
      "continuous bloody drainage from incision. Please reverse INR \n",
      "with FFP to normal INR, stop coumadin, evaluate for possible \n",
      "blood transfusion given recent MI and hgb 7.2 with hct of 23.8. \n",
      "Please obtain CT lumbar spine to evaluate bleeding at surgical \n",
      "site.  \n",
      "Patient was given morphine, 10mg IV Vitamin K, and IV Zosyn.  \n",
      " \n",
      "Review of Systems:  \n",
      "(+) per HPI  \n",
      "(-) fever, chills, night sweats, headache, vision changes, \n",
      "rhinorrhea, congestion, sore throat, cough, shortness of breath, \n",
      "chest pain, abdominal pain, nausea, vomiting, diarrhea, \n",
      "constipation, BRBPR, melena, hematochezia, dysuria, hematuria.  \n",
      " \n",
      "\n",
      " \n",
      "Past Medical History:\n",
      "CVA w/ residual visual field deficits  \n",
      "Low Back Pain s/p L4-L5 medial facetectomies/foraminotomies \n",
      "___  \n",
      "MI in ___, missed, no interventions  \n",
      "sCHF, EF 40%, ischemic as above  \n",
      "afib, CHADS2 score of 4 on warfarin  \n",
      "HTN  \n",
      "Rheumatoid arthitis  \n",
      "Hypothyroid  \n",
      "GERD  \n",
      "Hysterectomy  \n",
      "Right knee replacement  \n",
      "Renal biopsies  \n",
      "Appendectomy  \n",
      "Cholecystectomy  \n",
      "ERCP  \n",
      "Migraines  \n",
      "\n",
      " \n",
      "Social History:\n",
      "___\n",
      "Family History:\n",
      "No family history of arrhytmias, heart disease, renal disease  \n",
      "\n",
      " \n",
      "Physical Exam:\n",
      "ADMISSION EXAM\n",
      "Vitals - 97.9, 189/99, 107, 20, 100% 2L NC  \n",
      "GENERAL: moderate distress due to pain, laying on her right side \n",
      " \n",
      "HEENT: AT/NC, EOMI, PERRL, anicteric sclera, pink conjunctiva, \n",
      "MMM, nontender supple neck, no LAD, no JVD  \n",
      "CARDIAC: RRR, S1/S2, no murmurs, gallops, or rubs  \n",
      "LUNG: CTAB, no wheezes, rales, rhonchi, breathing comfortably \n",
      "without use of accessory muscles  \n",
      "ABDOMEN: nondistended, +BS, nontender in all quadrants, no \n",
      "rebound/guarding, no hepatosplenomegaly  \n",
      "EXTREMITIES: moving all extremities well, no cyanosis, clubbing \n",
      "or edema  \n",
      "PULSES: 2+ DP pulses bilaterally  \n",
      "NEURO: CN II-XII intact, bilateral lower extremities with \n",
      "sensation in tact to light touch on dermatomes L2-S1, strength \n",
      "4+/5 in bilateral hip flexion, knee extension, plantar and dorsi \n",
      "flexion of ankles.  \n",
      "SKIN: warm and well perfused, no excoriations or lesions, no \n",
      "rashes. lumbar spine with midline incision draining \n",
      "serosanguinous fluid, no wound dehiscense, no fluctuance  \n",
      "\n",
      "DISCHARGE EXAM\n",
      "Vitals - 97.9, 188/102, 94, 20, 98% RA \n",
      "GENERAL: NAD, Well appearing sitting in bed\n",
      "HEENT: AT/NC, EOMI, PERRL, anicteric sclera, pink conjunctiva, \n",
      "MMM, nontender supple neck, no LAD, no JVD  \n",
      "CARDIAC: RRR, S1/S2, no murmurs, gallops, or rubs  \n",
      "LUNG: CTAB, no wheezes, rales, rhonchi, breathing comfortably \n",
      "without use of accessory muscles  \n",
      "ABDOMEN: nondistended, +BS, nontender in all quadrants, no \n",
      "rebound/guarding, no hepatosplenomegaly  \n",
      "EXTREMITIES: Tenderness to palpation over the lateral ankles, no \n",
      "eythema, no edema, no cyanosis\n",
      "NEURO: CN II-XII intact, bilateral lower extremities with \n",
      "sensation in tact to light touch on dermatomes L2-S1, strength \n",
      "4+/5 in bilateral hip flexion, knee extension, plantar and dorsi \n",
      "flexion of ankles.  \n",
      "SKIN: warm and well perfused, no excoriations or lesions, no \n",
      "rashes. lumbar spine with midline incision draining minimal \n",
      "serosanguinous fluid, no wound dehiscense, no fluctuance  \n",
      "\n",
      " \n",
      "Pertinent Results:\n",
      "ADMISSION LABS\n",
      "\n",
      "___ 01:15PM BLOOD WBC-8.8 RBC-2.49* Hgb-7.2* Hct-23.8* \n",
      "MCV-95 MCH-29.0 MCHC-30.5* RDW-16.4* Plt ___\n",
      "___ 01:15PM BLOOD ___ PTT-38.0* ___\n",
      "___ 01:15PM BLOOD Glucose-99 UreaN-11 Creat-0.9 Na-139 \n",
      "K-3.2* Cl-102 HCO3-26 AnGap-14\n",
      "\n",
      "DISCHARGE LABS\n",
      "___ 11:33AM BLOOD WBC-5.5 RBC-3.46*# Hgb-10.3*# Hct-32.8*# \n",
      "MCV-95 MCH-29.8 MCHC-31.4 RDW-16.8* Plt ___\n",
      "___ 06:09AM BLOOD ___ PTT-22.6* ___\n",
      "\n",
      "OTHER RESULTS\n",
      "___ 01:15PM BLOOD ___ PTT-38.0* ___\n",
      "___ 05:30AM BLOOD ___ PTT-25.7 ___\n",
      "___ 05:00AM BLOOD ___ PTT-27.0 ___\n",
      "___ 05:00AM BLOOD ___ PTT-28.3 ___\n",
      "___ 06:09AM BLOOD ___ PTT-22.6* ___\n",
      "\n",
      "MICRO\n",
      "None\n",
      "\n",
      "REPORTS\n",
      "\n",
      "___   Imaging CT L-SPINE W/O CONTRAST \n",
      "\n",
      "IMPRESSION:   \n",
      "  \n",
      "1. Interval development of a large hematoma in the low back as \n",
      "described \n",
      "above. There is persistent fluid and locules of gas in the \n",
      "paraspinal soft tissues and the laminectomy bed related to known \n",
      "wound and prior drain. Suprinfection cannot be excluded.  \n",
      "  \n",
      "2. Spinal canal is poorly evaluated. \n",
      "\n",
      "___   Imaging CHEST (PORTABLE AP) \n",
      "IMPRESSION:  \n",
      "  \n",
      "As compared to the previous radiograph, the PICC line is better \n",
      "visible. The tip of the line projects over the mid to lower SVC. \n",
      "The course of the line is unremarkable. No pneumothorax or other \n",
      "complication. Borderline size of the cardiac silhouette. No \n",
      "larger pleural effusions. No pulmonary edema. \n",
      "\n",
      " \n",
      ".\n"
     ]
    }
   ],
   "source": [
    "print(gpt_inputs[1][1]['content'])"
   ]
  },
  {
   "cell_type": "code",
   "execution_count": 25,
   "id": "572e845b-49e1-4898-a4f1-8e6b894df06b",
   "metadata": {
    "execution": {
     "iopub.execute_input": "2024-04-07T17:16:49.233575Z",
     "iopub.status.busy": "2024-04-07T17:16:49.233421Z",
     "iopub.status.idle": "2024-04-07T18:41:29.660250Z",
     "shell.execute_reply": "2024-04-07T18:41:29.659848Z"
    },
    "papermill": {
     "duration": null,
     "end_time": null,
     "exception": false,
     "start_time": "2024-04-07T17:16:49.225644",
     "status": "running"
    },
    "scrolled": true,
    "tags": []
   },
   "outputs": [
    {
     "name": "stdout",
     "output_type": "stream",
     "text": [
      "0\n"
     ]
    },
    {
     "name": "stdout",
     "output_type": "stream",
     "text": [
      "1\n"
     ]
    },
    {
     "name": "stdout",
     "output_type": "stream",
     "text": [
      "2\n"
     ]
    },
    {
     "name": "stdout",
     "output_type": "stream",
     "text": [
      "3\n"
     ]
    },
    {
     "name": "stdout",
     "output_type": "stream",
     "text": [
      "4\n"
     ]
    },
    {
     "name": "stdout",
     "output_type": "stream",
     "text": [
      "5\n"
     ]
    },
    {
     "name": "stdout",
     "output_type": "stream",
     "text": [
      "6\n"
     ]
    },
    {
     "name": "stdout",
     "output_type": "stream",
     "text": [
      "7\n"
     ]
    },
    {
     "name": "stdout",
     "output_type": "stream",
     "text": [
      "8\n"
     ]
    },
    {
     "name": "stdout",
     "output_type": "stream",
     "text": [
      "9\n"
     ]
    },
    {
     "name": "stdout",
     "output_type": "stream",
     "text": [
      "10\n"
     ]
    },
    {
     "name": "stdout",
     "output_type": "stream",
     "text": [
      "11\n"
     ]
    },
    {
     "name": "stdout",
     "output_type": "stream",
     "text": [
      "12\n"
     ]
    },
    {
     "name": "stdout",
     "output_type": "stream",
     "text": [
      "13\n"
     ]
    },
    {
     "name": "stdout",
     "output_type": "stream",
     "text": [
      "14\n"
     ]
    },
    {
     "name": "stdout",
     "output_type": "stream",
     "text": [
      "15\n"
     ]
    },
    {
     "name": "stdout",
     "output_type": "stream",
     "text": [
      "16\n"
     ]
    },
    {
     "name": "stdout",
     "output_type": "stream",
     "text": [
      "17\n"
     ]
    },
    {
     "name": "stdout",
     "output_type": "stream",
     "text": [
      "18\n"
     ]
    },
    {
     "name": "stdout",
     "output_type": "stream",
     "text": [
      "19\n"
     ]
    },
    {
     "name": "stdout",
     "output_type": "stream",
     "text": [
      "20\n"
     ]
    },
    {
     "name": "stdout",
     "output_type": "stream",
     "text": [
      "21\n"
     ]
    },
    {
     "name": "stdout",
     "output_type": "stream",
     "text": [
      "22\n"
     ]
    },
    {
     "name": "stdout",
     "output_type": "stream",
     "text": [
      "23\n"
     ]
    },
    {
     "name": "stdout",
     "output_type": "stream",
     "text": [
      "24\n"
     ]
    },
    {
     "name": "stdout",
     "output_type": "stream",
     "text": [
      "25\n"
     ]
    },
    {
     "name": "stdout",
     "output_type": "stream",
     "text": [
      "26\n"
     ]
    },
    {
     "name": "stdout",
     "output_type": "stream",
     "text": [
      "27\n"
     ]
    },
    {
     "name": "stdout",
     "output_type": "stream",
     "text": [
      "28\n"
     ]
    },
    {
     "name": "stdout",
     "output_type": "stream",
     "text": [
      "29\n"
     ]
    },
    {
     "name": "stdout",
     "output_type": "stream",
     "text": [
      "30\n"
     ]
    },
    {
     "name": "stdout",
     "output_type": "stream",
     "text": [
      "31\n"
     ]
    },
    {
     "name": "stdout",
     "output_type": "stream",
     "text": [
      "32\n"
     ]
    },
    {
     "name": "stdout",
     "output_type": "stream",
     "text": [
      "33\n"
     ]
    },
    {
     "name": "stdout",
     "output_type": "stream",
     "text": [
      "34\n"
     ]
    },
    {
     "name": "stdout",
     "output_type": "stream",
     "text": [
      "35\n"
     ]
    },
    {
     "name": "stdout",
     "output_type": "stream",
     "text": [
      "36\n"
     ]
    },
    {
     "name": "stdout",
     "output_type": "stream",
     "text": [
      "37\n"
     ]
    },
    {
     "name": "stdout",
     "output_type": "stream",
     "text": [
      "38\n"
     ]
    },
    {
     "name": "stdout",
     "output_type": "stream",
     "text": [
      "39\n"
     ]
    },
    {
     "name": "stdout",
     "output_type": "stream",
     "text": [
      "40\n"
     ]
    },
    {
     "name": "stdout",
     "output_type": "stream",
     "text": [
      "41\n"
     ]
    },
    {
     "name": "stdout",
     "output_type": "stream",
     "text": [
      "42\n"
     ]
    },
    {
     "name": "stdout",
     "output_type": "stream",
     "text": [
      "43\n"
     ]
    },
    {
     "name": "stdout",
     "output_type": "stream",
     "text": [
      "44\n"
     ]
    },
    {
     "name": "stdout",
     "output_type": "stream",
     "text": [
      "45\n"
     ]
    },
    {
     "name": "stdout",
     "output_type": "stream",
     "text": [
      "46\n"
     ]
    },
    {
     "name": "stdout",
     "output_type": "stream",
     "text": [
      "47\n"
     ]
    },
    {
     "name": "stdout",
     "output_type": "stream",
     "text": [
      "48\n"
     ]
    },
    {
     "name": "stdout",
     "output_type": "stream",
     "text": [
      "49\n"
     ]
    },
    {
     "name": "stdout",
     "output_type": "stream",
     "text": [
      "50\n"
     ]
    },
    {
     "name": "stdout",
     "output_type": "stream",
     "text": [
      "51\n"
     ]
    },
    {
     "name": "stdout",
     "output_type": "stream",
     "text": [
      "52\n"
     ]
    },
    {
     "name": "stdout",
     "output_type": "stream",
     "text": [
      "53\n"
     ]
    },
    {
     "name": "stdout",
     "output_type": "stream",
     "text": [
      "54\n"
     ]
    },
    {
     "name": "stdout",
     "output_type": "stream",
     "text": [
      "55\n"
     ]
    },
    {
     "name": "stdout",
     "output_type": "stream",
     "text": [
      "56\n"
     ]
    },
    {
     "name": "stdout",
     "output_type": "stream",
     "text": [
      "57\n"
     ]
    },
    {
     "name": "stdout",
     "output_type": "stream",
     "text": [
      "58\n"
     ]
    },
    {
     "name": "stdout",
     "output_type": "stream",
     "text": [
      "59\n"
     ]
    },
    {
     "name": "stdout",
     "output_type": "stream",
     "text": [
      "60\n"
     ]
    },
    {
     "name": "stdout",
     "output_type": "stream",
     "text": [
      "61\n"
     ]
    },
    {
     "name": "stdout",
     "output_type": "stream",
     "text": [
      "62\n"
     ]
    },
    {
     "name": "stdout",
     "output_type": "stream",
     "text": [
      "63\n"
     ]
    },
    {
     "name": "stdout",
     "output_type": "stream",
     "text": [
      "64\n"
     ]
    },
    {
     "name": "stdout",
     "output_type": "stream",
     "text": [
      "65\n"
     ]
    },
    {
     "name": "stdout",
     "output_type": "stream",
     "text": [
      "66\n"
     ]
    },
    {
     "name": "stdout",
     "output_type": "stream",
     "text": [
      "67\n"
     ]
    },
    {
     "name": "stdout",
     "output_type": "stream",
     "text": [
      "68\n"
     ]
    },
    {
     "name": "stdout",
     "output_type": "stream",
     "text": [
      "69\n"
     ]
    },
    {
     "name": "stdout",
     "output_type": "stream",
     "text": [
      "70\n"
     ]
    },
    {
     "name": "stdout",
     "output_type": "stream",
     "text": [
      "71\n"
     ]
    },
    {
     "name": "stdout",
     "output_type": "stream",
     "text": [
      "72\n"
     ]
    },
    {
     "name": "stdout",
     "output_type": "stream",
     "text": [
      "73\n"
     ]
    },
    {
     "name": "stdout",
     "output_type": "stream",
     "text": [
      "74\n"
     ]
    },
    {
     "name": "stdout",
     "output_type": "stream",
     "text": [
      "75\n"
     ]
    },
    {
     "name": "stdout",
     "output_type": "stream",
     "text": [
      "76\n"
     ]
    },
    {
     "name": "stdout",
     "output_type": "stream",
     "text": [
      "77\n"
     ]
    },
    {
     "name": "stdout",
     "output_type": "stream",
     "text": [
      "78\n"
     ]
    },
    {
     "name": "stdout",
     "output_type": "stream",
     "text": [
      "79\n"
     ]
    },
    {
     "name": "stdout",
     "output_type": "stream",
     "text": [
      "80\n"
     ]
    },
    {
     "name": "stdout",
     "output_type": "stream",
     "text": [
      "81\n"
     ]
    },
    {
     "name": "stdout",
     "output_type": "stream",
     "text": [
      "82\n"
     ]
    },
    {
     "name": "stdout",
     "output_type": "stream",
     "text": [
      "83\n"
     ]
    },
    {
     "name": "stdout",
     "output_type": "stream",
     "text": [
      "84\n"
     ]
    },
    {
     "name": "stdout",
     "output_type": "stream",
     "text": [
      "85\n"
     ]
    },
    {
     "name": "stdout",
     "output_type": "stream",
     "text": [
      "86\n"
     ]
    },
    {
     "name": "stdout",
     "output_type": "stream",
     "text": [
      "87\n"
     ]
    },
    {
     "name": "stdout",
     "output_type": "stream",
     "text": [
      "88\n"
     ]
    },
    {
     "name": "stdout",
     "output_type": "stream",
     "text": [
      "89\n"
     ]
    },
    {
     "name": "stdout",
     "output_type": "stream",
     "text": [
      "90\n"
     ]
    },
    {
     "name": "stdout",
     "output_type": "stream",
     "text": [
      "91\n"
     ]
    },
    {
     "name": "stdout",
     "output_type": "stream",
     "text": [
      "92\n"
     ]
    },
    {
     "name": "stdout",
     "output_type": "stream",
     "text": [
      "93\n"
     ]
    },
    {
     "name": "stdout",
     "output_type": "stream",
     "text": [
      "94\n"
     ]
    },
    {
     "name": "stdout",
     "output_type": "stream",
     "text": [
      "95\n"
     ]
    },
    {
     "name": "stdout",
     "output_type": "stream",
     "text": [
      "96\n"
     ]
    },
    {
     "name": "stdout",
     "output_type": "stream",
     "text": [
      "97\n"
     ]
    },
    {
     "name": "stdout",
     "output_type": "stream",
     "text": [
      "98\n"
     ]
    },
    {
     "name": "stdout",
     "output_type": "stream",
     "text": [
      "99\n"
     ]
    },
    {
     "name": "stdout",
     "output_type": "stream",
     "text": [
      "100\n"
     ]
    },
    {
     "name": "stdout",
     "output_type": "stream",
     "text": [
      "101\n"
     ]
    },
    {
     "name": "stdout",
     "output_type": "stream",
     "text": [
      "102\n"
     ]
    },
    {
     "name": "stdout",
     "output_type": "stream",
     "text": [
      "103\n"
     ]
    },
    {
     "name": "stdout",
     "output_type": "stream",
     "text": [
      "104\n"
     ]
    },
    {
     "name": "stdout",
     "output_type": "stream",
     "text": [
      "105\n"
     ]
    },
    {
     "name": "stdout",
     "output_type": "stream",
     "text": [
      "106\n"
     ]
    },
    {
     "name": "stdout",
     "output_type": "stream",
     "text": [
      "107\n"
     ]
    },
    {
     "name": "stdout",
     "output_type": "stream",
     "text": [
      "108\n"
     ]
    },
    {
     "name": "stdout",
     "output_type": "stream",
     "text": [
      "109\n"
     ]
    },
    {
     "name": "stdout",
     "output_type": "stream",
     "text": [
      "110\n"
     ]
    },
    {
     "name": "stdout",
     "output_type": "stream",
     "text": [
      "111\n"
     ]
    },
    {
     "name": "stdout",
     "output_type": "stream",
     "text": [
      "112\n"
     ]
    },
    {
     "name": "stdout",
     "output_type": "stream",
     "text": [
      "113\n"
     ]
    },
    {
     "name": "stdout",
     "output_type": "stream",
     "text": [
      "114\n"
     ]
    },
    {
     "name": "stdout",
     "output_type": "stream",
     "text": [
      "115\n"
     ]
    },
    {
     "name": "stdout",
     "output_type": "stream",
     "text": [
      "116\n"
     ]
    },
    {
     "name": "stdout",
     "output_type": "stream",
     "text": [
      "117\n"
     ]
    },
    {
     "name": "stdout",
     "output_type": "stream",
     "text": [
      "118\n"
     ]
    },
    {
     "name": "stdout",
     "output_type": "stream",
     "text": [
      "119\n"
     ]
    },
    {
     "name": "stdout",
     "output_type": "stream",
     "text": [
      "120\n"
     ]
    },
    {
     "name": "stdout",
     "output_type": "stream",
     "text": [
      "121\n"
     ]
    },
    {
     "name": "stdout",
     "output_type": "stream",
     "text": [
      "122\n"
     ]
    },
    {
     "name": "stdout",
     "output_type": "stream",
     "text": [
      "123\n"
     ]
    },
    {
     "name": "stdout",
     "output_type": "stream",
     "text": [
      "124\n"
     ]
    },
    {
     "name": "stdout",
     "output_type": "stream",
     "text": [
      "125\n"
     ]
    },
    {
     "name": "stdout",
     "output_type": "stream",
     "text": [
      "126\n"
     ]
    },
    {
     "name": "stdout",
     "output_type": "stream",
     "text": [
      "127\n"
     ]
    },
    {
     "name": "stdout",
     "output_type": "stream",
     "text": [
      "128\n"
     ]
    },
    {
     "name": "stdout",
     "output_type": "stream",
     "text": [
      "129\n"
     ]
    },
    {
     "name": "stdout",
     "output_type": "stream",
     "text": [
      "130\n"
     ]
    },
    {
     "name": "stdout",
     "output_type": "stream",
     "text": [
      "131\n"
     ]
    },
    {
     "name": "stdout",
     "output_type": "stream",
     "text": [
      "132\n"
     ]
    },
    {
     "name": "stdout",
     "output_type": "stream",
     "text": [
      "133\n"
     ]
    },
    {
     "name": "stdout",
     "output_type": "stream",
     "text": [
      "134\n"
     ]
    },
    {
     "name": "stdout",
     "output_type": "stream",
     "text": [
      "135\n"
     ]
    },
    {
     "name": "stdout",
     "output_type": "stream",
     "text": [
      "136\n"
     ]
    },
    {
     "name": "stdout",
     "output_type": "stream",
     "text": [
      "137\n"
     ]
    },
    {
     "name": "stdout",
     "output_type": "stream",
     "text": [
      "138\n"
     ]
    },
    {
     "name": "stdout",
     "output_type": "stream",
     "text": [
      "139\n"
     ]
    },
    {
     "name": "stdout",
     "output_type": "stream",
     "text": [
      "140\n"
     ]
    },
    {
     "name": "stdout",
     "output_type": "stream",
     "text": [
      "141\n"
     ]
    },
    {
     "name": "stdout",
     "output_type": "stream",
     "text": [
      "142\n"
     ]
    },
    {
     "name": "stdout",
     "output_type": "stream",
     "text": [
      "143\n"
     ]
    },
    {
     "name": "stdout",
     "output_type": "stream",
     "text": [
      "144\n"
     ]
    },
    {
     "name": "stdout",
     "output_type": "stream",
     "text": [
      "145\n"
     ]
    },
    {
     "name": "stdout",
     "output_type": "stream",
     "text": [
      "146\n"
     ]
    },
    {
     "name": "stdout",
     "output_type": "stream",
     "text": [
      "147\n"
     ]
    },
    {
     "name": "stdout",
     "output_type": "stream",
     "text": [
      "148\n"
     ]
    },
    {
     "name": "stdout",
     "output_type": "stream",
     "text": [
      "149\n"
     ]
    },
    {
     "name": "stdout",
     "output_type": "stream",
     "text": [
      "150\n"
     ]
    },
    {
     "name": "stdout",
     "output_type": "stream",
     "text": [
      "151\n"
     ]
    },
    {
     "name": "stdout",
     "output_type": "stream",
     "text": [
      "152\n"
     ]
    },
    {
     "name": "stdout",
     "output_type": "stream",
     "text": [
      "153\n"
     ]
    },
    {
     "name": "stdout",
     "output_type": "stream",
     "text": [
      "154\n"
     ]
    },
    {
     "name": "stdout",
     "output_type": "stream",
     "text": [
      "155\n"
     ]
    },
    {
     "name": "stdout",
     "output_type": "stream",
     "text": [
      "156\n"
     ]
    },
    {
     "name": "stdout",
     "output_type": "stream",
     "text": [
      "157\n"
     ]
    },
    {
     "name": "stdout",
     "output_type": "stream",
     "text": [
      "158\n"
     ]
    },
    {
     "name": "stdout",
     "output_type": "stream",
     "text": [
      "159\n"
     ]
    },
    {
     "name": "stdout",
     "output_type": "stream",
     "text": [
      "160\n"
     ]
    },
    {
     "name": "stdout",
     "output_type": "stream",
     "text": [
      "161\n"
     ]
    },
    {
     "name": "stdout",
     "output_type": "stream",
     "text": [
      "162\n"
     ]
    },
    {
     "name": "stdout",
     "output_type": "stream",
     "text": [
      "163\n"
     ]
    },
    {
     "name": "stdout",
     "output_type": "stream",
     "text": [
      "164\n"
     ]
    },
    {
     "name": "stdout",
     "output_type": "stream",
     "text": [
      "165\n"
     ]
    },
    {
     "name": "stdout",
     "output_type": "stream",
     "text": [
      "166\n"
     ]
    },
    {
     "name": "stdout",
     "output_type": "stream",
     "text": [
      "167\n"
     ]
    },
    {
     "name": "stdout",
     "output_type": "stream",
     "text": [
      "168\n"
     ]
    },
    {
     "name": "stdout",
     "output_type": "stream",
     "text": [
      "169\n"
     ]
    },
    {
     "name": "stdout",
     "output_type": "stream",
     "text": [
      "170\n"
     ]
    },
    {
     "name": "stdout",
     "output_type": "stream",
     "text": [
      "171\n"
     ]
    },
    {
     "name": "stdout",
     "output_type": "stream",
     "text": [
      "172\n"
     ]
    },
    {
     "name": "stdout",
     "output_type": "stream",
     "text": [
      "173\n"
     ]
    },
    {
     "name": "stdout",
     "output_type": "stream",
     "text": [
      "174\n"
     ]
    },
    {
     "name": "stdout",
     "output_type": "stream",
     "text": [
      "175\n"
     ]
    },
    {
     "name": "stdout",
     "output_type": "stream",
     "text": [
      "176\n"
     ]
    },
    {
     "name": "stdout",
     "output_type": "stream",
     "text": [
      "177\n"
     ]
    },
    {
     "name": "stdout",
     "output_type": "stream",
     "text": [
      "178\n"
     ]
    },
    {
     "name": "stdout",
     "output_type": "stream",
     "text": [
      "179\n"
     ]
    },
    {
     "name": "stdout",
     "output_type": "stream",
     "text": [
      "180\n"
     ]
    },
    {
     "name": "stdout",
     "output_type": "stream",
     "text": [
      "181\n"
     ]
    },
    {
     "name": "stdout",
     "output_type": "stream",
     "text": [
      "182\n"
     ]
    },
    {
     "name": "stdout",
     "output_type": "stream",
     "text": [
      "183\n"
     ]
    },
    {
     "name": "stdout",
     "output_type": "stream",
     "text": [
      "184\n"
     ]
    },
    {
     "name": "stdout",
     "output_type": "stream",
     "text": [
      "185\n"
     ]
    },
    {
     "name": "stdout",
     "output_type": "stream",
     "text": [
      "186\n"
     ]
    },
    {
     "name": "stdout",
     "output_type": "stream",
     "text": [
      "187\n"
     ]
    },
    {
     "name": "stdout",
     "output_type": "stream",
     "text": [
      "188\n"
     ]
    },
    {
     "name": "stdout",
     "output_type": "stream",
     "text": [
      "189\n"
     ]
    },
    {
     "name": "stdout",
     "output_type": "stream",
     "text": [
      "190\n"
     ]
    },
    {
     "name": "stdout",
     "output_type": "stream",
     "text": [
      "191\n"
     ]
    },
    {
     "name": "stdout",
     "output_type": "stream",
     "text": [
      "192\n"
     ]
    },
    {
     "name": "stdout",
     "output_type": "stream",
     "text": [
      "193\n"
     ]
    },
    {
     "name": "stdout",
     "output_type": "stream",
     "text": [
      "194\n"
     ]
    },
    {
     "name": "stdout",
     "output_type": "stream",
     "text": [
      "195\n"
     ]
    },
    {
     "name": "stdout",
     "output_type": "stream",
     "text": [
      "196\n"
     ]
    },
    {
     "name": "stdout",
     "output_type": "stream",
     "text": [
      "197\n"
     ]
    },
    {
     "name": "stdout",
     "output_type": "stream",
     "text": [
      "198\n"
     ]
    },
    {
     "name": "stdout",
     "output_type": "stream",
     "text": [
      "199\n"
     ]
    },
    {
     "name": "stdout",
     "output_type": "stream",
     "text": [
      "200\n"
     ]
    },
    {
     "name": "stdout",
     "output_type": "stream",
     "text": [
      "201\n"
     ]
    },
    {
     "name": "stdout",
     "output_type": "stream",
     "text": [
      "202\n"
     ]
    },
    {
     "name": "stdout",
     "output_type": "stream",
     "text": [
      "203\n"
     ]
    },
    {
     "name": "stdout",
     "output_type": "stream",
     "text": [
      "204\n"
     ]
    },
    {
     "name": "stdout",
     "output_type": "stream",
     "text": [
      "205\n"
     ]
    },
    {
     "name": "stdout",
     "output_type": "stream",
     "text": [
      "206\n"
     ]
    },
    {
     "name": "stdout",
     "output_type": "stream",
     "text": [
      "207\n"
     ]
    },
    {
     "name": "stdout",
     "output_type": "stream",
     "text": [
      "208\n"
     ]
    },
    {
     "name": "stdout",
     "output_type": "stream",
     "text": [
      "209\n"
     ]
    },
    {
     "name": "stdout",
     "output_type": "stream",
     "text": [
      "210\n"
     ]
    },
    {
     "name": "stdout",
     "output_type": "stream",
     "text": [
      "211\n"
     ]
    },
    {
     "name": "stdout",
     "output_type": "stream",
     "text": [
      "212\n"
     ]
    },
    {
     "name": "stdout",
     "output_type": "stream",
     "text": [
      "213\n"
     ]
    },
    {
     "name": "stdout",
     "output_type": "stream",
     "text": [
      "214\n"
     ]
    },
    {
     "name": "stdout",
     "output_type": "stream",
     "text": [
      "215\n"
     ]
    },
    {
     "name": "stdout",
     "output_type": "stream",
     "text": [
      "216\n"
     ]
    },
    {
     "name": "stdout",
     "output_type": "stream",
     "text": [
      "217\n"
     ]
    },
    {
     "name": "stdout",
     "output_type": "stream",
     "text": [
      "218\n"
     ]
    },
    {
     "name": "stdout",
     "output_type": "stream",
     "text": [
      "219\n"
     ]
    },
    {
     "name": "stdout",
     "output_type": "stream",
     "text": [
      "220\n"
     ]
    },
    {
     "name": "stdout",
     "output_type": "stream",
     "text": [
      "221\n"
     ]
    },
    {
     "name": "stdout",
     "output_type": "stream",
     "text": [
      "222\n"
     ]
    },
    {
     "name": "stdout",
     "output_type": "stream",
     "text": [
      "223\n"
     ]
    },
    {
     "name": "stdout",
     "output_type": "stream",
     "text": [
      "224\n"
     ]
    },
    {
     "name": "stdout",
     "output_type": "stream",
     "text": [
      "225\n"
     ]
    },
    {
     "name": "stdout",
     "output_type": "stream",
     "text": [
      "226\n"
     ]
    },
    {
     "name": "stdout",
     "output_type": "stream",
     "text": [
      "227\n"
     ]
    },
    {
     "name": "stdout",
     "output_type": "stream",
     "text": [
      "228\n"
     ]
    },
    {
     "name": "stdout",
     "output_type": "stream",
     "text": [
      "229\n"
     ]
    },
    {
     "name": "stdout",
     "output_type": "stream",
     "text": [
      "230\n"
     ]
    },
    {
     "name": "stdout",
     "output_type": "stream",
     "text": [
      "231\n"
     ]
    },
    {
     "name": "stdout",
     "output_type": "stream",
     "text": [
      "232\n"
     ]
    },
    {
     "name": "stdout",
     "output_type": "stream",
     "text": [
      "233\n"
     ]
    },
    {
     "name": "stdout",
     "output_type": "stream",
     "text": [
      "234\n"
     ]
    },
    {
     "name": "stdout",
     "output_type": "stream",
     "text": [
      "235\n"
     ]
    },
    {
     "name": "stdout",
     "output_type": "stream",
     "text": [
      "236\n"
     ]
    },
    {
     "name": "stdout",
     "output_type": "stream",
     "text": [
      "237\n"
     ]
    },
    {
     "name": "stdout",
     "output_type": "stream",
     "text": [
      "238\n"
     ]
    },
    {
     "name": "stdout",
     "output_type": "stream",
     "text": [
      "239\n"
     ]
    },
    {
     "name": "stdout",
     "output_type": "stream",
     "text": [
      "240\n"
     ]
    },
    {
     "name": "stdout",
     "output_type": "stream",
     "text": [
      "241\n"
     ]
    },
    {
     "name": "stdout",
     "output_type": "stream",
     "text": [
      "242\n"
     ]
    },
    {
     "name": "stdout",
     "output_type": "stream",
     "text": [
      "243\n"
     ]
    },
    {
     "name": "stdout",
     "output_type": "stream",
     "text": [
      "244\n"
     ]
    },
    {
     "name": "stdout",
     "output_type": "stream",
     "text": [
      "245\n"
     ]
    },
    {
     "name": "stdout",
     "output_type": "stream",
     "text": [
      "246\n"
     ]
    },
    {
     "name": "stdout",
     "output_type": "stream",
     "text": [
      "247\n"
     ]
    },
    {
     "name": "stdout",
     "output_type": "stream",
     "text": [
      "248\n"
     ]
    },
    {
     "name": "stdout",
     "output_type": "stream",
     "text": [
      "249\n"
     ]
    },
    {
     "name": "stdout",
     "output_type": "stream",
     "text": [
      "250\n"
     ]
    },
    {
     "name": "stdout",
     "output_type": "stream",
     "text": [
      "251\n"
     ]
    },
    {
     "name": "stdout",
     "output_type": "stream",
     "text": [
      "252\n"
     ]
    },
    {
     "name": "stdout",
     "output_type": "stream",
     "text": [
      "253\n"
     ]
    },
    {
     "name": "stdout",
     "output_type": "stream",
     "text": [
      "254\n"
     ]
    },
    {
     "name": "stdout",
     "output_type": "stream",
     "text": [
      "255\n"
     ]
    },
    {
     "name": "stdout",
     "output_type": "stream",
     "text": [
      "256\n"
     ]
    },
    {
     "name": "stdout",
     "output_type": "stream",
     "text": [
      "257\n"
     ]
    },
    {
     "name": "stdout",
     "output_type": "stream",
     "text": [
      "258\n"
     ]
    },
    {
     "name": "stdout",
     "output_type": "stream",
     "text": [
      "259\n"
     ]
    },
    {
     "name": "stdout",
     "output_type": "stream",
     "text": [
      "260\n"
     ]
    },
    {
     "name": "stdout",
     "output_type": "stream",
     "text": [
      "261\n"
     ]
    },
    {
     "name": "stdout",
     "output_type": "stream",
     "text": [
      "262\n"
     ]
    },
    {
     "name": "stdout",
     "output_type": "stream",
     "text": [
      "263\n"
     ]
    },
    {
     "name": "stdout",
     "output_type": "stream",
     "text": [
      "264\n"
     ]
    },
    {
     "name": "stdout",
     "output_type": "stream",
     "text": [
      "265\n"
     ]
    },
    {
     "name": "stdout",
     "output_type": "stream",
     "text": [
      "266\n"
     ]
    },
    {
     "name": "stdout",
     "output_type": "stream",
     "text": [
      "267\n"
     ]
    },
    {
     "name": "stdout",
     "output_type": "stream",
     "text": [
      "268\n"
     ]
    },
    {
     "name": "stdout",
     "output_type": "stream",
     "text": [
      "269\n"
     ]
    },
    {
     "name": "stdout",
     "output_type": "stream",
     "text": [
      "270\n"
     ]
    },
    {
     "name": "stdout",
     "output_type": "stream",
     "text": [
      "271\n"
     ]
    },
    {
     "name": "stdout",
     "output_type": "stream",
     "text": [
      "272\n"
     ]
    },
    {
     "name": "stdout",
     "output_type": "stream",
     "text": [
      "273\n"
     ]
    },
    {
     "name": "stdout",
     "output_type": "stream",
     "text": [
      "274\n"
     ]
    },
    {
     "name": "stdout",
     "output_type": "stream",
     "text": [
      "275\n"
     ]
    },
    {
     "name": "stdout",
     "output_type": "stream",
     "text": [
      "276\n"
     ]
    },
    {
     "name": "stdout",
     "output_type": "stream",
     "text": [
      "277\n"
     ]
    },
    {
     "name": "stdout",
     "output_type": "stream",
     "text": [
      "278\n"
     ]
    },
    {
     "name": "stdout",
     "output_type": "stream",
     "text": [
      "279\n"
     ]
    },
    {
     "name": "stdout",
     "output_type": "stream",
     "text": [
      "280\n"
     ]
    },
    {
     "name": "stdout",
     "output_type": "stream",
     "text": [
      "281\n"
     ]
    },
    {
     "name": "stdout",
     "output_type": "stream",
     "text": [
      "282\n"
     ]
    },
    {
     "name": "stdout",
     "output_type": "stream",
     "text": [
      "283\n"
     ]
    },
    {
     "name": "stdout",
     "output_type": "stream",
     "text": [
      "284\n"
     ]
    },
    {
     "name": "stdout",
     "output_type": "stream",
     "text": [
      "285\n"
     ]
    },
    {
     "name": "stdout",
     "output_type": "stream",
     "text": [
      "286\n"
     ]
    },
    {
     "name": "stdout",
     "output_type": "stream",
     "text": [
      "287\n"
     ]
    },
    {
     "name": "stdout",
     "output_type": "stream",
     "text": [
      "288\n"
     ]
    },
    {
     "name": "stdout",
     "output_type": "stream",
     "text": [
      "289\n"
     ]
    },
    {
     "name": "stdout",
     "output_type": "stream",
     "text": [
      "290\n"
     ]
    },
    {
     "name": "stdout",
     "output_type": "stream",
     "text": [
      "291\n"
     ]
    },
    {
     "name": "stdout",
     "output_type": "stream",
     "text": [
      "292\n"
     ]
    },
    {
     "name": "stdout",
     "output_type": "stream",
     "text": [
      "293\n"
     ]
    },
    {
     "name": "stdout",
     "output_type": "stream",
     "text": [
      "294\n"
     ]
    },
    {
     "name": "stdout",
     "output_type": "stream",
     "text": [
      "295\n"
     ]
    },
    {
     "name": "stdout",
     "output_type": "stream",
     "text": [
      "296\n"
     ]
    },
    {
     "name": "stdout",
     "output_type": "stream",
     "text": [
      "297\n"
     ]
    },
    {
     "name": "stdout",
     "output_type": "stream",
     "text": [
      "298\n"
     ]
    },
    {
     "name": "stdout",
     "output_type": "stream",
     "text": [
      "299\n"
     ]
    },
    {
     "name": "stdout",
     "output_type": "stream",
     "text": [
      "300\n"
     ]
    },
    {
     "name": "stdout",
     "output_type": "stream",
     "text": [
      "301\n"
     ]
    },
    {
     "name": "stdout",
     "output_type": "stream",
     "text": [
      "302\n"
     ]
    },
    {
     "name": "stdout",
     "output_type": "stream",
     "text": [
      "303\n"
     ]
    },
    {
     "name": "stdout",
     "output_type": "stream",
     "text": [
      "304\n"
     ]
    },
    {
     "name": "stdout",
     "output_type": "stream",
     "text": [
      "305\n"
     ]
    },
    {
     "name": "stdout",
     "output_type": "stream",
     "text": [
      "306\n"
     ]
    },
    {
     "name": "stdout",
     "output_type": "stream",
     "text": [
      "307\n"
     ]
    },
    {
     "name": "stdout",
     "output_type": "stream",
     "text": [
      "308\n"
     ]
    },
    {
     "name": "stdout",
     "output_type": "stream",
     "text": [
      "309\n"
     ]
    },
    {
     "name": "stdout",
     "output_type": "stream",
     "text": [
      "310\n"
     ]
    },
    {
     "name": "stdout",
     "output_type": "stream",
     "text": [
      "311\n"
     ]
    },
    {
     "name": "stdout",
     "output_type": "stream",
     "text": [
      "312\n"
     ]
    },
    {
     "name": "stdout",
     "output_type": "stream",
     "text": [
      "313\n"
     ]
    },
    {
     "name": "stdout",
     "output_type": "stream",
     "text": [
      "314\n"
     ]
    },
    {
     "name": "stdout",
     "output_type": "stream",
     "text": [
      "315\n"
     ]
    },
    {
     "name": "stdout",
     "output_type": "stream",
     "text": [
      "316\n"
     ]
    },
    {
     "name": "stdout",
     "output_type": "stream",
     "text": [
      "317\n"
     ]
    },
    {
     "name": "stdout",
     "output_type": "stream",
     "text": [
      "318\n"
     ]
    },
    {
     "name": "stdout",
     "output_type": "stream",
     "text": [
      "319\n"
     ]
    },
    {
     "name": "stdout",
     "output_type": "stream",
     "text": [
      "320\n"
     ]
    },
    {
     "name": "stdout",
     "output_type": "stream",
     "text": [
      "321\n"
     ]
    },
    {
     "name": "stdout",
     "output_type": "stream",
     "text": [
      "322\n"
     ]
    },
    {
     "name": "stdout",
     "output_type": "stream",
     "text": [
      "323\n"
     ]
    },
    {
     "name": "stdout",
     "output_type": "stream",
     "text": [
      "324\n"
     ]
    },
    {
     "name": "stdout",
     "output_type": "stream",
     "text": [
      "325\n"
     ]
    },
    {
     "name": "stdout",
     "output_type": "stream",
     "text": [
      "326\n"
     ]
    },
    {
     "name": "stdout",
     "output_type": "stream",
     "text": [
      "327\n"
     ]
    },
    {
     "name": "stdout",
     "output_type": "stream",
     "text": [
      "328\n"
     ]
    },
    {
     "name": "stdout",
     "output_type": "stream",
     "text": [
      "329\n"
     ]
    },
    {
     "name": "stdout",
     "output_type": "stream",
     "text": [
      "330\n"
     ]
    },
    {
     "name": "stdout",
     "output_type": "stream",
     "text": [
      "331\n"
     ]
    },
    {
     "name": "stdout",
     "output_type": "stream",
     "text": [
      "332\n"
     ]
    },
    {
     "name": "stdout",
     "output_type": "stream",
     "text": [
      "333\n"
     ]
    },
    {
     "name": "stdout",
     "output_type": "stream",
     "text": [
      "334\n"
     ]
    },
    {
     "name": "stdout",
     "output_type": "stream",
     "text": [
      "335\n"
     ]
    },
    {
     "name": "stdout",
     "output_type": "stream",
     "text": [
      "336\n"
     ]
    },
    {
     "name": "stdout",
     "output_type": "stream",
     "text": [
      "337\n"
     ]
    },
    {
     "name": "stdout",
     "output_type": "stream",
     "text": [
      "338\n"
     ]
    },
    {
     "name": "stdout",
     "output_type": "stream",
     "text": [
      "339\n"
     ]
    },
    {
     "name": "stdout",
     "output_type": "stream",
     "text": [
      "340\n"
     ]
    },
    {
     "name": "stdout",
     "output_type": "stream",
     "text": [
      "341\n"
     ]
    },
    {
     "name": "stdout",
     "output_type": "stream",
     "text": [
      "342\n"
     ]
    },
    {
     "name": "stdout",
     "output_type": "stream",
     "text": [
      "343\n"
     ]
    },
    {
     "name": "stdout",
     "output_type": "stream",
     "text": [
      "344\n"
     ]
    },
    {
     "name": "stdout",
     "output_type": "stream",
     "text": [
      "345\n"
     ]
    },
    {
     "name": "stdout",
     "output_type": "stream",
     "text": [
      "346\n"
     ]
    },
    {
     "name": "stdout",
     "output_type": "stream",
     "text": [
      "347\n"
     ]
    },
    {
     "name": "stdout",
     "output_type": "stream",
     "text": [
      "348\n"
     ]
    },
    {
     "name": "stdout",
     "output_type": "stream",
     "text": [
      "349\n"
     ]
    },
    {
     "name": "stdout",
     "output_type": "stream",
     "text": [
      "350\n"
     ]
    },
    {
     "name": "stdout",
     "output_type": "stream",
     "text": [
      "351\n"
     ]
    },
    {
     "name": "stdout",
     "output_type": "stream",
     "text": [
      "352\n"
     ]
    },
    {
     "name": "stdout",
     "output_type": "stream",
     "text": [
      "353\n"
     ]
    },
    {
     "name": "stdout",
     "output_type": "stream",
     "text": [
      "354\n"
     ]
    },
    {
     "name": "stdout",
     "output_type": "stream",
     "text": [
      "355\n"
     ]
    },
    {
     "name": "stdout",
     "output_type": "stream",
     "text": [
      "356\n"
     ]
    },
    {
     "name": "stdout",
     "output_type": "stream",
     "text": [
      "357\n"
     ]
    },
    {
     "name": "stdout",
     "output_type": "stream",
     "text": [
      "358\n"
     ]
    },
    {
     "name": "stdout",
     "output_type": "stream",
     "text": [
      "359\n"
     ]
    },
    {
     "name": "stdout",
     "output_type": "stream",
     "text": [
      "360\n"
     ]
    },
    {
     "name": "stdout",
     "output_type": "stream",
     "text": [
      "361\n"
     ]
    },
    {
     "name": "stdout",
     "output_type": "stream",
     "text": [
      "362\n"
     ]
    },
    {
     "name": "stdout",
     "output_type": "stream",
     "text": [
      "363\n"
     ]
    },
    {
     "name": "stdout",
     "output_type": "stream",
     "text": [
      "364\n"
     ]
    },
    {
     "name": "stdout",
     "output_type": "stream",
     "text": [
      "365\n"
     ]
    },
    {
     "name": "stdout",
     "output_type": "stream",
     "text": [
      "366\n"
     ]
    },
    {
     "name": "stdout",
     "output_type": "stream",
     "text": [
      "367\n"
     ]
    },
    {
     "name": "stdout",
     "output_type": "stream",
     "text": [
      "368\n"
     ]
    },
    {
     "name": "stdout",
     "output_type": "stream",
     "text": [
      "369\n"
     ]
    },
    {
     "name": "stdout",
     "output_type": "stream",
     "text": [
      "370\n"
     ]
    },
    {
     "name": "stdout",
     "output_type": "stream",
     "text": [
      "371\n"
     ]
    },
    {
     "name": "stdout",
     "output_type": "stream",
     "text": [
      "372\n"
     ]
    },
    {
     "name": "stdout",
     "output_type": "stream",
     "text": [
      "373\n"
     ]
    },
    {
     "name": "stdout",
     "output_type": "stream",
     "text": [
      "374\n"
     ]
    },
    {
     "name": "stdout",
     "output_type": "stream",
     "text": [
      "375\n"
     ]
    },
    {
     "name": "stdout",
     "output_type": "stream",
     "text": [
      "376\n"
     ]
    },
    {
     "name": "stdout",
     "output_type": "stream",
     "text": [
      "377\n"
     ]
    },
    {
     "name": "stdout",
     "output_type": "stream",
     "text": [
      "378\n"
     ]
    },
    {
     "name": "stdout",
     "output_type": "stream",
     "text": [
      "379\n"
     ]
    },
    {
     "name": "stdout",
     "output_type": "stream",
     "text": [
      "380\n"
     ]
    },
    {
     "name": "stdout",
     "output_type": "stream",
     "text": [
      "381\n"
     ]
    },
    {
     "name": "stdout",
     "output_type": "stream",
     "text": [
      "382\n"
     ]
    },
    {
     "name": "stdout",
     "output_type": "stream",
     "text": [
      "383\n"
     ]
    },
    {
     "name": "stdout",
     "output_type": "stream",
     "text": [
      "384\n"
     ]
    },
    {
     "name": "stdout",
     "output_type": "stream",
     "text": [
      "385\n"
     ]
    },
    {
     "name": "stdout",
     "output_type": "stream",
     "text": [
      "386\n"
     ]
    },
    {
     "name": "stdout",
     "output_type": "stream",
     "text": [
      "387\n"
     ]
    },
    {
     "name": "stdout",
     "output_type": "stream",
     "text": [
      "388\n"
     ]
    },
    {
     "name": "stdout",
     "output_type": "stream",
     "text": [
      "389\n"
     ]
    },
    {
     "name": "stdout",
     "output_type": "stream",
     "text": [
      "390\n"
     ]
    },
    {
     "name": "stdout",
     "output_type": "stream",
     "text": [
      "391\n"
     ]
    },
    {
     "name": "stdout",
     "output_type": "stream",
     "text": [
      "392\n"
     ]
    },
    {
     "name": "stdout",
     "output_type": "stream",
     "text": [
      "393\n"
     ]
    },
    {
     "name": "stdout",
     "output_type": "stream",
     "text": [
      "394\n"
     ]
    },
    {
     "name": "stdout",
     "output_type": "stream",
     "text": [
      "395\n"
     ]
    },
    {
     "name": "stdout",
     "output_type": "stream",
     "text": [
      "396\n"
     ]
    },
    {
     "name": "stdout",
     "output_type": "stream",
     "text": [
      "397\n"
     ]
    },
    {
     "name": "stdout",
     "output_type": "stream",
     "text": [
      "398\n"
     ]
    },
    {
     "name": "stdout",
     "output_type": "stream",
     "text": [
      "399\n"
     ]
    },
    {
     "name": "stdout",
     "output_type": "stream",
     "text": [
      "400\n"
     ]
    },
    {
     "name": "stdout",
     "output_type": "stream",
     "text": [
      "401\n"
     ]
    },
    {
     "name": "stdout",
     "output_type": "stream",
     "text": [
      "402\n"
     ]
    },
    {
     "name": "stdout",
     "output_type": "stream",
     "text": [
      "403\n"
     ]
    },
    {
     "name": "stdout",
     "output_type": "stream",
     "text": [
      "404\n"
     ]
    },
    {
     "name": "stdout",
     "output_type": "stream",
     "text": [
      "405\n"
     ]
    },
    {
     "name": "stdout",
     "output_type": "stream",
     "text": [
      "406\n"
     ]
    },
    {
     "name": "stdout",
     "output_type": "stream",
     "text": [
      "407\n"
     ]
    },
    {
     "name": "stdout",
     "output_type": "stream",
     "text": [
      "408\n"
     ]
    },
    {
     "name": "stdout",
     "output_type": "stream",
     "text": [
      "409\n"
     ]
    },
    {
     "name": "stdout",
     "output_type": "stream",
     "text": [
      "410\n"
     ]
    },
    {
     "name": "stdout",
     "output_type": "stream",
     "text": [
      "411\n"
     ]
    },
    {
     "name": "stdout",
     "output_type": "stream",
     "text": [
      "412\n"
     ]
    },
    {
     "name": "stdout",
     "output_type": "stream",
     "text": [
      "413\n"
     ]
    },
    {
     "name": "stdout",
     "output_type": "stream",
     "text": [
      "414\n"
     ]
    },
    {
     "name": "stdout",
     "output_type": "stream",
     "text": [
      "415\n"
     ]
    },
    {
     "name": "stdout",
     "output_type": "stream",
     "text": [
      "416\n"
     ]
    },
    {
     "name": "stdout",
     "output_type": "stream",
     "text": [
      "417\n"
     ]
    },
    {
     "name": "stdout",
     "output_type": "stream",
     "text": [
      "418\n"
     ]
    },
    {
     "name": "stdout",
     "output_type": "stream",
     "text": [
      "419\n"
     ]
    },
    {
     "name": "stdout",
     "output_type": "stream",
     "text": [
      "420\n"
     ]
    },
    {
     "name": "stdout",
     "output_type": "stream",
     "text": [
      "421\n"
     ]
    },
    {
     "name": "stdout",
     "output_type": "stream",
     "text": [
      "422\n"
     ]
    },
    {
     "name": "stdout",
     "output_type": "stream",
     "text": [
      "423\n"
     ]
    },
    {
     "name": "stdout",
     "output_type": "stream",
     "text": [
      "424\n"
     ]
    },
    {
     "name": "stdout",
     "output_type": "stream",
     "text": [
      "425\n"
     ]
    },
    {
     "name": "stdout",
     "output_type": "stream",
     "text": [
      "426\n"
     ]
    },
    {
     "name": "stdout",
     "output_type": "stream",
     "text": [
      "427\n"
     ]
    },
    {
     "name": "stdout",
     "output_type": "stream",
     "text": [
      "428\n"
     ]
    },
    {
     "name": "stdout",
     "output_type": "stream",
     "text": [
      "429\n"
     ]
    },
    {
     "name": "stdout",
     "output_type": "stream",
     "text": [
      "430\n"
     ]
    },
    {
     "name": "stdout",
     "output_type": "stream",
     "text": [
      "431\n"
     ]
    },
    {
     "name": "stdout",
     "output_type": "stream",
     "text": [
      "432\n"
     ]
    },
    {
     "name": "stdout",
     "output_type": "stream",
     "text": [
      "433\n"
     ]
    },
    {
     "name": "stdout",
     "output_type": "stream",
     "text": [
      "434\n"
     ]
    },
    {
     "name": "stdout",
     "output_type": "stream",
     "text": [
      "435\n"
     ]
    },
    {
     "name": "stdout",
     "output_type": "stream",
     "text": [
      "436\n"
     ]
    },
    {
     "name": "stdout",
     "output_type": "stream",
     "text": [
      "437\n"
     ]
    },
    {
     "name": "stdout",
     "output_type": "stream",
     "text": [
      "438\n"
     ]
    },
    {
     "name": "stdout",
     "output_type": "stream",
     "text": [
      "439\n"
     ]
    },
    {
     "name": "stdout",
     "output_type": "stream",
     "text": [
      "440\n"
     ]
    },
    {
     "name": "stdout",
     "output_type": "stream",
     "text": [
      "441\n"
     ]
    },
    {
     "name": "stdout",
     "output_type": "stream",
     "text": [
      "442\n"
     ]
    },
    {
     "name": "stdout",
     "output_type": "stream",
     "text": [
      "443\n"
     ]
    },
    {
     "name": "stdout",
     "output_type": "stream",
     "text": [
      "444\n"
     ]
    },
    {
     "name": "stdout",
     "output_type": "stream",
     "text": [
      "445\n"
     ]
    },
    {
     "name": "stdout",
     "output_type": "stream",
     "text": [
      "446\n"
     ]
    },
    {
     "name": "stdout",
     "output_type": "stream",
     "text": [
      "447\n"
     ]
    },
    {
     "name": "stdout",
     "output_type": "stream",
     "text": [
      "448\n"
     ]
    },
    {
     "name": "stdout",
     "output_type": "stream",
     "text": [
      "449\n"
     ]
    },
    {
     "name": "stdout",
     "output_type": "stream",
     "text": [
      "450\n"
     ]
    },
    {
     "name": "stdout",
     "output_type": "stream",
     "text": [
      "451\n"
     ]
    },
    {
     "name": "stdout",
     "output_type": "stream",
     "text": [
      "452\n"
     ]
    },
    {
     "name": "stdout",
     "output_type": "stream",
     "text": [
      "453\n"
     ]
    },
    {
     "name": "stdout",
     "output_type": "stream",
     "text": [
      "454\n"
     ]
    },
    {
     "name": "stdout",
     "output_type": "stream",
     "text": [
      "455\n"
     ]
    },
    {
     "name": "stdout",
     "output_type": "stream",
     "text": [
      "456\n"
     ]
    },
    {
     "name": "stdout",
     "output_type": "stream",
     "text": [
      "457\n"
     ]
    },
    {
     "name": "stdout",
     "output_type": "stream",
     "text": [
      "458\n"
     ]
    },
    {
     "name": "stdout",
     "output_type": "stream",
     "text": [
      "459\n"
     ]
    },
    {
     "name": "stdout",
     "output_type": "stream",
     "text": [
      "460\n"
     ]
    },
    {
     "name": "stdout",
     "output_type": "stream",
     "text": [
      "461\n"
     ]
    },
    {
     "name": "stdout",
     "output_type": "stream",
     "text": [
      "462\n"
     ]
    },
    {
     "name": "stdout",
     "output_type": "stream",
     "text": [
      "463\n"
     ]
    },
    {
     "name": "stdout",
     "output_type": "stream",
     "text": [
      "464\n"
     ]
    },
    {
     "name": "stdout",
     "output_type": "stream",
     "text": [
      "465\n"
     ]
    },
    {
     "name": "stdout",
     "output_type": "stream",
     "text": [
      "466\n"
     ]
    },
    {
     "name": "stdout",
     "output_type": "stream",
     "text": [
      "467\n"
     ]
    },
    {
     "name": "stdout",
     "output_type": "stream",
     "text": [
      "468\n"
     ]
    },
    {
     "name": "stdout",
     "output_type": "stream",
     "text": [
      "469\n"
     ]
    },
    {
     "name": "stdout",
     "output_type": "stream",
     "text": [
      "470\n"
     ]
    },
    {
     "name": "stdout",
     "output_type": "stream",
     "text": [
      "471\n"
     ]
    },
    {
     "name": "stdout",
     "output_type": "stream",
     "text": [
      "472\n"
     ]
    },
    {
     "name": "stdout",
     "output_type": "stream",
     "text": [
      "473\n"
     ]
    },
    {
     "name": "stdout",
     "output_type": "stream",
     "text": [
      "474\n"
     ]
    },
    {
     "name": "stdout",
     "output_type": "stream",
     "text": [
      "475\n"
     ]
    },
    {
     "name": "stdout",
     "output_type": "stream",
     "text": [
      "476\n"
     ]
    },
    {
     "name": "stdout",
     "output_type": "stream",
     "text": [
      "477\n"
     ]
    },
    {
     "name": "stdout",
     "output_type": "stream",
     "text": [
      "478\n"
     ]
    },
    {
     "name": "stdout",
     "output_type": "stream",
     "text": [
      "479\n"
     ]
    },
    {
     "name": "stdout",
     "output_type": "stream",
     "text": [
      "480\n"
     ]
    },
    {
     "name": "stdout",
     "output_type": "stream",
     "text": [
      "481\n"
     ]
    },
    {
     "name": "stdout",
     "output_type": "stream",
     "text": [
      "482\n"
     ]
    },
    {
     "name": "stdout",
     "output_type": "stream",
     "text": [
      "483\n"
     ]
    },
    {
     "name": "stdout",
     "output_type": "stream",
     "text": [
      "484\n"
     ]
    },
    {
     "name": "stdout",
     "output_type": "stream",
     "text": [
      "485\n"
     ]
    },
    {
     "name": "stdout",
     "output_type": "stream",
     "text": [
      "486\n"
     ]
    },
    {
     "name": "stdout",
     "output_type": "stream",
     "text": [
      "487\n"
     ]
    },
    {
     "name": "stdout",
     "output_type": "stream",
     "text": [
      "488\n"
     ]
    },
    {
     "name": "stdout",
     "output_type": "stream",
     "text": [
      "489\n"
     ]
    },
    {
     "name": "stdout",
     "output_type": "stream",
     "text": [
      "490\n"
     ]
    },
    {
     "name": "stdout",
     "output_type": "stream",
     "text": [
      "491\n"
     ]
    },
    {
     "name": "stdout",
     "output_type": "stream",
     "text": [
      "492\n"
     ]
    },
    {
     "name": "stdout",
     "output_type": "stream",
     "text": [
      "493\n"
     ]
    },
    {
     "name": "stdout",
     "output_type": "stream",
     "text": [
      "494\n"
     ]
    },
    {
     "name": "stdout",
     "output_type": "stream",
     "text": [
      "495\n"
     ]
    },
    {
     "name": "stdout",
     "output_type": "stream",
     "text": [
      "496\n"
     ]
    },
    {
     "name": "stdout",
     "output_type": "stream",
     "text": [
      "497\n"
     ]
    },
    {
     "name": "stdout",
     "output_type": "stream",
     "text": [
      "498\n"
     ]
    },
    {
     "name": "stdout",
     "output_type": "stream",
     "text": [
      "499\n"
     ]
    },
    {
     "name": "stdout",
     "output_type": "stream",
     "text": [
      "500\n"
     ]
    },
    {
     "name": "stdout",
     "output_type": "stream",
     "text": [
      "501\n"
     ]
    },
    {
     "name": "stdout",
     "output_type": "stream",
     "text": [
      "502\n"
     ]
    },
    {
     "name": "stdout",
     "output_type": "stream",
     "text": [
      "503\n"
     ]
    },
    {
     "name": "stdout",
     "output_type": "stream",
     "text": [
      "504\n"
     ]
    },
    {
     "name": "stdout",
     "output_type": "stream",
     "text": [
      "505\n"
     ]
    },
    {
     "name": "stdout",
     "output_type": "stream",
     "text": [
      "506\n"
     ]
    },
    {
     "name": "stdout",
     "output_type": "stream",
     "text": [
      "507\n"
     ]
    },
    {
     "name": "stdout",
     "output_type": "stream",
     "text": [
      "508\n"
     ]
    },
    {
     "name": "stdout",
     "output_type": "stream",
     "text": [
      "509\n"
     ]
    },
    {
     "name": "stdout",
     "output_type": "stream",
     "text": [
      "510\n"
     ]
    },
    {
     "name": "stdout",
     "output_type": "stream",
     "text": [
      "511\n"
     ]
    },
    {
     "name": "stdout",
     "output_type": "stream",
     "text": [
      "512\n"
     ]
    },
    {
     "name": "stdout",
     "output_type": "stream",
     "text": [
      "513\n"
     ]
    },
    {
     "name": "stdout",
     "output_type": "stream",
     "text": [
      "514\n"
     ]
    },
    {
     "name": "stdout",
     "output_type": "stream",
     "text": [
      "515\n"
     ]
    },
    {
     "name": "stdout",
     "output_type": "stream",
     "text": [
      "516\n"
     ]
    },
    {
     "name": "stdout",
     "output_type": "stream",
     "text": [
      "517\n"
     ]
    },
    {
     "name": "stdout",
     "output_type": "stream",
     "text": [
      "518\n"
     ]
    },
    {
     "name": "stdout",
     "output_type": "stream",
     "text": [
      "519\n"
     ]
    },
    {
     "name": "stdout",
     "output_type": "stream",
     "text": [
      "520\n"
     ]
    },
    {
     "name": "stdout",
     "output_type": "stream",
     "text": [
      "521\n"
     ]
    },
    {
     "name": "stdout",
     "output_type": "stream",
     "text": [
      "522\n"
     ]
    },
    {
     "name": "stdout",
     "output_type": "stream",
     "text": [
      "523\n"
     ]
    },
    {
     "name": "stdout",
     "output_type": "stream",
     "text": [
      "524\n"
     ]
    },
    {
     "name": "stdout",
     "output_type": "stream",
     "text": [
      "525\n"
     ]
    },
    {
     "name": "stdout",
     "output_type": "stream",
     "text": [
      "526\n"
     ]
    },
    {
     "name": "stdout",
     "output_type": "stream",
     "text": [
      "527\n"
     ]
    },
    {
     "name": "stdout",
     "output_type": "stream",
     "text": [
      "528\n"
     ]
    },
    {
     "name": "stdout",
     "output_type": "stream",
     "text": [
      "529\n"
     ]
    },
    {
     "name": "stdout",
     "output_type": "stream",
     "text": [
      "530\n"
     ]
    },
    {
     "name": "stdout",
     "output_type": "stream",
     "text": [
      "531\n"
     ]
    },
    {
     "name": "stdout",
     "output_type": "stream",
     "text": [
      "532\n"
     ]
    },
    {
     "name": "stdout",
     "output_type": "stream",
     "text": [
      "533\n"
     ]
    },
    {
     "name": "stdout",
     "output_type": "stream",
     "text": [
      "534\n"
     ]
    },
    {
     "name": "stdout",
     "output_type": "stream",
     "text": [
      "535\n"
     ]
    },
    {
     "name": "stdout",
     "output_type": "stream",
     "text": [
      "536\n"
     ]
    },
    {
     "name": "stdout",
     "output_type": "stream",
     "text": [
      "537\n"
     ]
    },
    {
     "name": "stdout",
     "output_type": "stream",
     "text": [
      "538\n"
     ]
    },
    {
     "name": "stdout",
     "output_type": "stream",
     "text": [
      "539\n"
     ]
    },
    {
     "name": "stdout",
     "output_type": "stream",
     "text": [
      "540\n"
     ]
    },
    {
     "name": "stdout",
     "output_type": "stream",
     "text": [
      "541\n"
     ]
    },
    {
     "name": "stdout",
     "output_type": "stream",
     "text": [
      "542\n"
     ]
    },
    {
     "name": "stdout",
     "output_type": "stream",
     "text": [
      "543\n"
     ]
    },
    {
     "name": "stdout",
     "output_type": "stream",
     "text": [
      "544\n"
     ]
    },
    {
     "name": "stdout",
     "output_type": "stream",
     "text": [
      "545\n"
     ]
    },
    {
     "name": "stdout",
     "output_type": "stream",
     "text": [
      "546\n"
     ]
    },
    {
     "name": "stdout",
     "output_type": "stream",
     "text": [
      "547\n"
     ]
    },
    {
     "name": "stdout",
     "output_type": "stream",
     "text": [
      "548\n"
     ]
    },
    {
     "name": "stdout",
     "output_type": "stream",
     "text": [
      "549\n"
     ]
    },
    {
     "name": "stdout",
     "output_type": "stream",
     "text": [
      "550\n"
     ]
    },
    {
     "name": "stdout",
     "output_type": "stream",
     "text": [
      "551\n"
     ]
    },
    {
     "name": "stdout",
     "output_type": "stream",
     "text": [
      "552\n"
     ]
    },
    {
     "name": "stdout",
     "output_type": "stream",
     "text": [
      "553\n"
     ]
    },
    {
     "name": "stdout",
     "output_type": "stream",
     "text": [
      "554\n"
     ]
    },
    {
     "name": "stdout",
     "output_type": "stream",
     "text": [
      "555\n"
     ]
    },
    {
     "name": "stdout",
     "output_type": "stream",
     "text": [
      "556\n"
     ]
    },
    {
     "name": "stdout",
     "output_type": "stream",
     "text": [
      "557\n"
     ]
    },
    {
     "name": "stdout",
     "output_type": "stream",
     "text": [
      "558\n"
     ]
    },
    {
     "name": "stdout",
     "output_type": "stream",
     "text": [
      "559\n"
     ]
    },
    {
     "name": "stdout",
     "output_type": "stream",
     "text": [
      "560\n"
     ]
    },
    {
     "name": "stdout",
     "output_type": "stream",
     "text": [
      "561\n"
     ]
    },
    {
     "name": "stdout",
     "output_type": "stream",
     "text": [
      "562\n"
     ]
    },
    {
     "name": "stdout",
     "output_type": "stream",
     "text": [
      "563\n"
     ]
    },
    {
     "name": "stdout",
     "output_type": "stream",
     "text": [
      "564\n"
     ]
    },
    {
     "name": "stdout",
     "output_type": "stream",
     "text": [
      "565\n"
     ]
    },
    {
     "name": "stdout",
     "output_type": "stream",
     "text": [
      "566\n"
     ]
    },
    {
     "name": "stdout",
     "output_type": "stream",
     "text": [
      "567\n"
     ]
    },
    {
     "name": "stdout",
     "output_type": "stream",
     "text": [
      "568\n"
     ]
    },
    {
     "name": "stdout",
     "output_type": "stream",
     "text": [
      "569\n"
     ]
    },
    {
     "name": "stdout",
     "output_type": "stream",
     "text": [
      "570\n"
     ]
    },
    {
     "name": "stdout",
     "output_type": "stream",
     "text": [
      "571\n"
     ]
    },
    {
     "name": "stdout",
     "output_type": "stream",
     "text": [
      "572\n"
     ]
    },
    {
     "name": "stdout",
     "output_type": "stream",
     "text": [
      "573\n"
     ]
    },
    {
     "name": "stdout",
     "output_type": "stream",
     "text": [
      "574\n"
     ]
    },
    {
     "name": "stdout",
     "output_type": "stream",
     "text": [
      "575\n"
     ]
    },
    {
     "name": "stdout",
     "output_type": "stream",
     "text": [
      "576\n"
     ]
    },
    {
     "name": "stdout",
     "output_type": "stream",
     "text": [
      "577\n"
     ]
    },
    {
     "name": "stdout",
     "output_type": "stream",
     "text": [
      "578\n"
     ]
    },
    {
     "name": "stdout",
     "output_type": "stream",
     "text": [
      "579\n"
     ]
    },
    {
     "name": "stdout",
     "output_type": "stream",
     "text": [
      "580\n"
     ]
    },
    {
     "name": "stdout",
     "output_type": "stream",
     "text": [
      "581\n"
     ]
    },
    {
     "name": "stdout",
     "output_type": "stream",
     "text": [
      "582\n"
     ]
    },
    {
     "name": "stdout",
     "output_type": "stream",
     "text": [
      "583\n"
     ]
    },
    {
     "name": "stdout",
     "output_type": "stream",
     "text": [
      "584\n"
     ]
    },
    {
     "name": "stdout",
     "output_type": "stream",
     "text": [
      "585\n"
     ]
    },
    {
     "name": "stdout",
     "output_type": "stream",
     "text": [
      "586\n"
     ]
    },
    {
     "name": "stdout",
     "output_type": "stream",
     "text": [
      "587\n"
     ]
    },
    {
     "name": "stdout",
     "output_type": "stream",
     "text": [
      "588\n"
     ]
    },
    {
     "name": "stdout",
     "output_type": "stream",
     "text": [
      "589\n"
     ]
    },
    {
     "name": "stdout",
     "output_type": "stream",
     "text": [
      "590\n"
     ]
    },
    {
     "name": "stdout",
     "output_type": "stream",
     "text": [
      "591\n"
     ]
    },
    {
     "name": "stdout",
     "output_type": "stream",
     "text": [
      "592\n"
     ]
    },
    {
     "name": "stdout",
     "output_type": "stream",
     "text": [
      "593\n"
     ]
    },
    {
     "name": "stdout",
     "output_type": "stream",
     "text": [
      "594\n"
     ]
    },
    {
     "name": "stdout",
     "output_type": "stream",
     "text": [
      "595\n"
     ]
    },
    {
     "name": "stdout",
     "output_type": "stream",
     "text": [
      "596\n"
     ]
    },
    {
     "name": "stdout",
     "output_type": "stream",
     "text": [
      "597\n"
     ]
    },
    {
     "name": "stdout",
     "output_type": "stream",
     "text": [
      "598\n"
     ]
    },
    {
     "name": "stdout",
     "output_type": "stream",
     "text": [
      "599\n"
     ]
    },
    {
     "name": "stdout",
     "output_type": "stream",
     "text": [
      "600\n"
     ]
    },
    {
     "name": "stdout",
     "output_type": "stream",
     "text": [
      "601\n"
     ]
    },
    {
     "name": "stdout",
     "output_type": "stream",
     "text": [
      "602\n"
     ]
    },
    {
     "name": "stdout",
     "output_type": "stream",
     "text": [
      "603\n"
     ]
    },
    {
     "name": "stdout",
     "output_type": "stream",
     "text": [
      "604\n"
     ]
    },
    {
     "name": "stdout",
     "output_type": "stream",
     "text": [
      "605\n"
     ]
    },
    {
     "name": "stdout",
     "output_type": "stream",
     "text": [
      "606\n"
     ]
    },
    {
     "name": "stdout",
     "output_type": "stream",
     "text": [
      "607\n"
     ]
    },
    {
     "name": "stdout",
     "output_type": "stream",
     "text": [
      "608\n"
     ]
    },
    {
     "name": "stdout",
     "output_type": "stream",
     "text": [
      "609\n"
     ]
    },
    {
     "name": "stdout",
     "output_type": "stream",
     "text": [
      "610\n"
     ]
    },
    {
     "name": "stdout",
     "output_type": "stream",
     "text": [
      "611\n"
     ]
    },
    {
     "name": "stdout",
     "output_type": "stream",
     "text": [
      "612\n"
     ]
    },
    {
     "name": "stdout",
     "output_type": "stream",
     "text": [
      "613\n"
     ]
    },
    {
     "name": "stdout",
     "output_type": "stream",
     "text": [
      "614\n"
     ]
    },
    {
     "name": "stdout",
     "output_type": "stream",
     "text": [
      "615\n"
     ]
    },
    {
     "name": "stdout",
     "output_type": "stream",
     "text": [
      "616\n"
     ]
    },
    {
     "name": "stdout",
     "output_type": "stream",
     "text": [
      "617\n"
     ]
    },
    {
     "name": "stdout",
     "output_type": "stream",
     "text": [
      "618\n"
     ]
    },
    {
     "name": "stdout",
     "output_type": "stream",
     "text": [
      "619\n"
     ]
    },
    {
     "name": "stdout",
     "output_type": "stream",
     "text": [
      "620\n"
     ]
    },
    {
     "name": "stdout",
     "output_type": "stream",
     "text": [
      "621\n"
     ]
    },
    {
     "name": "stdout",
     "output_type": "stream",
     "text": [
      "622\n"
     ]
    },
    {
     "name": "stdout",
     "output_type": "stream",
     "text": [
      "623\n"
     ]
    },
    {
     "name": "stdout",
     "output_type": "stream",
     "text": [
      "624\n"
     ]
    },
    {
     "name": "stdout",
     "output_type": "stream",
     "text": [
      "625\n"
     ]
    },
    {
     "name": "stdout",
     "output_type": "stream",
     "text": [
      "626\n"
     ]
    },
    {
     "name": "stdout",
     "output_type": "stream",
     "text": [
      "627\n"
     ]
    },
    {
     "name": "stdout",
     "output_type": "stream",
     "text": [
      "628\n"
     ]
    },
    {
     "name": "stdout",
     "output_type": "stream",
     "text": [
      "629\n"
     ]
    },
    {
     "name": "stdout",
     "output_type": "stream",
     "text": [
      "630\n"
     ]
    },
    {
     "name": "stdout",
     "output_type": "stream",
     "text": [
      "631\n"
     ]
    },
    {
     "name": "stdout",
     "output_type": "stream",
     "text": [
      "632\n"
     ]
    },
    {
     "name": "stdout",
     "output_type": "stream",
     "text": [
      "633\n"
     ]
    },
    {
     "name": "stdout",
     "output_type": "stream",
     "text": [
      "634\n"
     ]
    },
    {
     "name": "stdout",
     "output_type": "stream",
     "text": [
      "635\n"
     ]
    },
    {
     "name": "stdout",
     "output_type": "stream",
     "text": [
      "636\n"
     ]
    },
    {
     "name": "stdout",
     "output_type": "stream",
     "text": [
      "637\n"
     ]
    },
    {
     "name": "stdout",
     "output_type": "stream",
     "text": [
      "638\n"
     ]
    },
    {
     "name": "stdout",
     "output_type": "stream",
     "text": [
      "639\n"
     ]
    },
    {
     "name": "stdout",
     "output_type": "stream",
     "text": [
      "640\n"
     ]
    },
    {
     "name": "stdout",
     "output_type": "stream",
     "text": [
      "641\n"
     ]
    },
    {
     "name": "stdout",
     "output_type": "stream",
     "text": [
      "642\n"
     ]
    },
    {
     "name": "stdout",
     "output_type": "stream",
     "text": [
      "643\n"
     ]
    },
    {
     "name": "stdout",
     "output_type": "stream",
     "text": [
      "644\n"
     ]
    },
    {
     "name": "stdout",
     "output_type": "stream",
     "text": [
      "645\n"
     ]
    },
    {
     "name": "stdout",
     "output_type": "stream",
     "text": [
      "646\n"
     ]
    },
    {
     "name": "stdout",
     "output_type": "stream",
     "text": [
      "647\n"
     ]
    },
    {
     "name": "stdout",
     "output_type": "stream",
     "text": [
      "648\n"
     ]
    },
    {
     "name": "stdout",
     "output_type": "stream",
     "text": [
      "649\n"
     ]
    },
    {
     "name": "stdout",
     "output_type": "stream",
     "text": [
      "650\n"
     ]
    },
    {
     "name": "stdout",
     "output_type": "stream",
     "text": [
      "651\n"
     ]
    },
    {
     "name": "stdout",
     "output_type": "stream",
     "text": [
      "652\n"
     ]
    },
    {
     "name": "stdout",
     "output_type": "stream",
     "text": [
      "653\n"
     ]
    },
    {
     "name": "stdout",
     "output_type": "stream",
     "text": [
      "654\n"
     ]
    },
    {
     "name": "stdout",
     "output_type": "stream",
     "text": [
      "655\n"
     ]
    },
    {
     "name": "stdout",
     "output_type": "stream",
     "text": [
      "656\n"
     ]
    },
    {
     "name": "stdout",
     "output_type": "stream",
     "text": [
      "657\n"
     ]
    },
    {
     "name": "stdout",
     "output_type": "stream",
     "text": [
      "658\n"
     ]
    },
    {
     "name": "stdout",
     "output_type": "stream",
     "text": [
      "659\n"
     ]
    },
    {
     "name": "stdout",
     "output_type": "stream",
     "text": [
      "660\n"
     ]
    },
    {
     "name": "stdout",
     "output_type": "stream",
     "text": [
      "661\n"
     ]
    },
    {
     "name": "stdout",
     "output_type": "stream",
     "text": [
      "662\n"
     ]
    },
    {
     "name": "stdout",
     "output_type": "stream",
     "text": [
      "663\n"
     ]
    },
    {
     "name": "stdout",
     "output_type": "stream",
     "text": [
      "664\n"
     ]
    },
    {
     "name": "stdout",
     "output_type": "stream",
     "text": [
      "665\n"
     ]
    },
    {
     "name": "stdout",
     "output_type": "stream",
     "text": [
      "666\n"
     ]
    },
    {
     "name": "stdout",
     "output_type": "stream",
     "text": [
      "667\n"
     ]
    },
    {
     "name": "stdout",
     "output_type": "stream",
     "text": [
      "668\n"
     ]
    },
    {
     "name": "stdout",
     "output_type": "stream",
     "text": [
      "669\n"
     ]
    },
    {
     "name": "stdout",
     "output_type": "stream",
     "text": [
      "670\n"
     ]
    },
    {
     "name": "stdout",
     "output_type": "stream",
     "text": [
      "671\n"
     ]
    },
    {
     "name": "stdout",
     "output_type": "stream",
     "text": [
      "672\n"
     ]
    },
    {
     "name": "stdout",
     "output_type": "stream",
     "text": [
      "673\n"
     ]
    },
    {
     "name": "stdout",
     "output_type": "stream",
     "text": [
      "674\n"
     ]
    },
    {
     "name": "stdout",
     "output_type": "stream",
     "text": [
      "675\n"
     ]
    },
    {
     "name": "stdout",
     "output_type": "stream",
     "text": [
      "676\n"
     ]
    },
    {
     "name": "stdout",
     "output_type": "stream",
     "text": [
      "677\n"
     ]
    },
    {
     "name": "stdout",
     "output_type": "stream",
     "text": [
      "678\n"
     ]
    },
    {
     "name": "stdout",
     "output_type": "stream",
     "text": [
      "679\n"
     ]
    },
    {
     "name": "stdout",
     "output_type": "stream",
     "text": [
      "680\n"
     ]
    },
    {
     "name": "stdout",
     "output_type": "stream",
     "text": [
      "681\n"
     ]
    },
    {
     "name": "stdout",
     "output_type": "stream",
     "text": [
      "682\n"
     ]
    },
    {
     "name": "stdout",
     "output_type": "stream",
     "text": [
      "683\n"
     ]
    },
    {
     "name": "stdout",
     "output_type": "stream",
     "text": [
      "684\n"
     ]
    },
    {
     "name": "stdout",
     "output_type": "stream",
     "text": [
      "685\n"
     ]
    },
    {
     "name": "stdout",
     "output_type": "stream",
     "text": [
      "686\n"
     ]
    },
    {
     "name": "stdout",
     "output_type": "stream",
     "text": [
      "687\n"
     ]
    },
    {
     "name": "stdout",
     "output_type": "stream",
     "text": [
      "688\n"
     ]
    },
    {
     "name": "stdout",
     "output_type": "stream",
     "text": [
      "689\n"
     ]
    },
    {
     "name": "stdout",
     "output_type": "stream",
     "text": [
      "690\n"
     ]
    },
    {
     "name": "stdout",
     "output_type": "stream",
     "text": [
      "691\n"
     ]
    },
    {
     "name": "stdout",
     "output_type": "stream",
     "text": [
      "692\n"
     ]
    },
    {
     "name": "stdout",
     "output_type": "stream",
     "text": [
      "693\n"
     ]
    },
    {
     "name": "stdout",
     "output_type": "stream",
     "text": [
      "694\n"
     ]
    },
    {
     "name": "stdout",
     "output_type": "stream",
     "text": [
      "695\n"
     ]
    },
    {
     "name": "stdout",
     "output_type": "stream",
     "text": [
      "696\n"
     ]
    },
    {
     "name": "stdout",
     "output_type": "stream",
     "text": [
      "697\n"
     ]
    },
    {
     "name": "stdout",
     "output_type": "stream",
     "text": [
      "698\n"
     ]
    },
    {
     "name": "stdout",
     "output_type": "stream",
     "text": [
      "699\n"
     ]
    },
    {
     "name": "stdout",
     "output_type": "stream",
     "text": [
      "700\n"
     ]
    },
    {
     "name": "stdout",
     "output_type": "stream",
     "text": [
      "701\n"
     ]
    },
    {
     "name": "stdout",
     "output_type": "stream",
     "text": [
      "702\n"
     ]
    },
    {
     "name": "stdout",
     "output_type": "stream",
     "text": [
      "703\n"
     ]
    },
    {
     "name": "stdout",
     "output_type": "stream",
     "text": [
      "704\n"
     ]
    },
    {
     "name": "stdout",
     "output_type": "stream",
     "text": [
      "705\n"
     ]
    },
    {
     "name": "stdout",
     "output_type": "stream",
     "text": [
      "706\n"
     ]
    },
    {
     "name": "stdout",
     "output_type": "stream",
     "text": [
      "707\n"
     ]
    },
    {
     "name": "stdout",
     "output_type": "stream",
     "text": [
      "708\n"
     ]
    },
    {
     "name": "stdout",
     "output_type": "stream",
     "text": [
      "709\n"
     ]
    },
    {
     "name": "stdout",
     "output_type": "stream",
     "text": [
      "710\n"
     ]
    },
    {
     "name": "stdout",
     "output_type": "stream",
     "text": [
      "711\n"
     ]
    },
    {
     "name": "stdout",
     "output_type": "stream",
     "text": [
      "712\n"
     ]
    },
    {
     "name": "stdout",
     "output_type": "stream",
     "text": [
      "713\n"
     ]
    },
    {
     "name": "stdout",
     "output_type": "stream",
     "text": [
      "714\n"
     ]
    },
    {
     "name": "stdout",
     "output_type": "stream",
     "text": [
      "715\n"
     ]
    },
    {
     "name": "stdout",
     "output_type": "stream",
     "text": [
      "716\n"
     ]
    },
    {
     "name": "stdout",
     "output_type": "stream",
     "text": [
      "717\n"
     ]
    },
    {
     "name": "stdout",
     "output_type": "stream",
     "text": [
      "718\n"
     ]
    },
    {
     "name": "stdout",
     "output_type": "stream",
     "text": [
      "719\n"
     ]
    },
    {
     "name": "stdout",
     "output_type": "stream",
     "text": [
      "720\n"
     ]
    },
    {
     "name": "stdout",
     "output_type": "stream",
     "text": [
      "721\n"
     ]
    },
    {
     "name": "stdout",
     "output_type": "stream",
     "text": [
      "722\n"
     ]
    },
    {
     "name": "stdout",
     "output_type": "stream",
     "text": [
      "723\n"
     ]
    },
    {
     "name": "stdout",
     "output_type": "stream",
     "text": [
      "724\n"
     ]
    },
    {
     "name": "stdout",
     "output_type": "stream",
     "text": [
      "725\n"
     ]
    },
    {
     "name": "stdout",
     "output_type": "stream",
     "text": [
      "726\n"
     ]
    },
    {
     "name": "stdout",
     "output_type": "stream",
     "text": [
      "727\n"
     ]
    },
    {
     "name": "stdout",
     "output_type": "stream",
     "text": [
      "728\n"
     ]
    },
    {
     "name": "stdout",
     "output_type": "stream",
     "text": [
      "729\n"
     ]
    },
    {
     "name": "stdout",
     "output_type": "stream",
     "text": [
      "730\n"
     ]
    },
    {
     "name": "stdout",
     "output_type": "stream",
     "text": [
      "731\n"
     ]
    },
    {
     "name": "stdout",
     "output_type": "stream",
     "text": [
      "732\n"
     ]
    },
    {
     "name": "stdout",
     "output_type": "stream",
     "text": [
      "733\n"
     ]
    },
    {
     "name": "stdout",
     "output_type": "stream",
     "text": [
      "734\n"
     ]
    },
    {
     "name": "stdout",
     "output_type": "stream",
     "text": [
      "735\n"
     ]
    },
    {
     "name": "stdout",
     "output_type": "stream",
     "text": [
      "736\n"
     ]
    },
    {
     "name": "stdout",
     "output_type": "stream",
     "text": [
      "737\n"
     ]
    },
    {
     "name": "stdout",
     "output_type": "stream",
     "text": [
      "738\n"
     ]
    },
    {
     "name": "stdout",
     "output_type": "stream",
     "text": [
      "739\n"
     ]
    },
    {
     "name": "stdout",
     "output_type": "stream",
     "text": [
      "740\n"
     ]
    },
    {
     "name": "stdout",
     "output_type": "stream",
     "text": [
      "741\n"
     ]
    },
    {
     "name": "stdout",
     "output_type": "stream",
     "text": [
      "742\n"
     ]
    },
    {
     "name": "stdout",
     "output_type": "stream",
     "text": [
      "743\n"
     ]
    },
    {
     "name": "stdout",
     "output_type": "stream",
     "text": [
      "744\n"
     ]
    },
    {
     "name": "stdout",
     "output_type": "stream",
     "text": [
      "745\n"
     ]
    },
    {
     "name": "stdout",
     "output_type": "stream",
     "text": [
      "746\n"
     ]
    },
    {
     "name": "stdout",
     "output_type": "stream",
     "text": [
      "747\n"
     ]
    },
    {
     "name": "stdout",
     "output_type": "stream",
     "text": [
      "748\n"
     ]
    },
    {
     "name": "stdout",
     "output_type": "stream",
     "text": [
      "749\n"
     ]
    },
    {
     "name": "stdout",
     "output_type": "stream",
     "text": [
      "750\n"
     ]
    },
    {
     "name": "stdout",
     "output_type": "stream",
     "text": [
      "751\n"
     ]
    },
    {
     "name": "stdout",
     "output_type": "stream",
     "text": [
      "752\n"
     ]
    },
    {
     "name": "stdout",
     "output_type": "stream",
     "text": [
      "753\n"
     ]
    },
    {
     "name": "stdout",
     "output_type": "stream",
     "text": [
      "754\n"
     ]
    },
    {
     "name": "stdout",
     "output_type": "stream",
     "text": [
      "755\n"
     ]
    },
    {
     "name": "stdout",
     "output_type": "stream",
     "text": [
      "756\n"
     ]
    },
    {
     "name": "stdout",
     "output_type": "stream",
     "text": [
      "757\n"
     ]
    },
    {
     "name": "stdout",
     "output_type": "stream",
     "text": [
      "758\n"
     ]
    },
    {
     "name": "stdout",
     "output_type": "stream",
     "text": [
      "759\n"
     ]
    },
    {
     "name": "stdout",
     "output_type": "stream",
     "text": [
      "760\n"
     ]
    },
    {
     "name": "stdout",
     "output_type": "stream",
     "text": [
      "761\n"
     ]
    },
    {
     "name": "stdout",
     "output_type": "stream",
     "text": [
      "762\n"
     ]
    },
    {
     "name": "stdout",
     "output_type": "stream",
     "text": [
      "763\n"
     ]
    },
    {
     "name": "stdout",
     "output_type": "stream",
     "text": [
      "764\n"
     ]
    },
    {
     "name": "stdout",
     "output_type": "stream",
     "text": [
      "765\n"
     ]
    },
    {
     "name": "stdout",
     "output_type": "stream",
     "text": [
      "766\n"
     ]
    },
    {
     "name": "stdout",
     "output_type": "stream",
     "text": [
      "767\n"
     ]
    },
    {
     "name": "stdout",
     "output_type": "stream",
     "text": [
      "768\n"
     ]
    },
    {
     "name": "stdout",
     "output_type": "stream",
     "text": [
      "769\n"
     ]
    },
    {
     "name": "stdout",
     "output_type": "stream",
     "text": [
      "770\n"
     ]
    },
    {
     "name": "stdout",
     "output_type": "stream",
     "text": [
      "771\n"
     ]
    },
    {
     "name": "stdout",
     "output_type": "stream",
     "text": [
      "772\n"
     ]
    },
    {
     "name": "stdout",
     "output_type": "stream",
     "text": [
      "773\n"
     ]
    },
    {
     "name": "stdout",
     "output_type": "stream",
     "text": [
      "774\n"
     ]
    },
    {
     "name": "stdout",
     "output_type": "stream",
     "text": [
      "775\n"
     ]
    },
    {
     "name": "stdout",
     "output_type": "stream",
     "text": [
      "776\n"
     ]
    },
    {
     "name": "stdout",
     "output_type": "stream",
     "text": [
      "777\n"
     ]
    },
    {
     "name": "stdout",
     "output_type": "stream",
     "text": [
      "778\n"
     ]
    },
    {
     "name": "stdout",
     "output_type": "stream",
     "text": [
      "779\n"
     ]
    },
    {
     "name": "stdout",
     "output_type": "stream",
     "text": [
      "780\n"
     ]
    },
    {
     "name": "stdout",
     "output_type": "stream",
     "text": [
      "781\n"
     ]
    },
    {
     "name": "stdout",
     "output_type": "stream",
     "text": [
      "782\n"
     ]
    },
    {
     "name": "stdout",
     "output_type": "stream",
     "text": [
      "783\n"
     ]
    },
    {
     "name": "stdout",
     "output_type": "stream",
     "text": [
      "784\n"
     ]
    },
    {
     "name": "stdout",
     "output_type": "stream",
     "text": [
      "785\n"
     ]
    },
    {
     "name": "stdout",
     "output_type": "stream",
     "text": [
      "786\n"
     ]
    },
    {
     "name": "stdout",
     "output_type": "stream",
     "text": [
      "787\n"
     ]
    },
    {
     "name": "stdout",
     "output_type": "stream",
     "text": [
      "788\n"
     ]
    },
    {
     "name": "stdout",
     "output_type": "stream",
     "text": [
      "789\n"
     ]
    },
    {
     "name": "stdout",
     "output_type": "stream",
     "text": [
      "790\n"
     ]
    },
    {
     "name": "stdout",
     "output_type": "stream",
     "text": [
      "791\n"
     ]
    },
    {
     "name": "stdout",
     "output_type": "stream",
     "text": [
      "792\n"
     ]
    },
    {
     "name": "stdout",
     "output_type": "stream",
     "text": [
      "793\n"
     ]
    },
    {
     "name": "stdout",
     "output_type": "stream",
     "text": [
      "794\n"
     ]
    },
    {
     "name": "stdout",
     "output_type": "stream",
     "text": [
      "795\n"
     ]
    },
    {
     "name": "stdout",
     "output_type": "stream",
     "text": [
      "796\n"
     ]
    },
    {
     "name": "stdout",
     "output_type": "stream",
     "text": [
      "797\n"
     ]
    },
    {
     "name": "stdout",
     "output_type": "stream",
     "text": [
      "798\n"
     ]
    },
    {
     "name": "stdout",
     "output_type": "stream",
     "text": [
      "799\n"
     ]
    },
    {
     "name": "stdout",
     "output_type": "stream",
     "text": [
      "800\n"
     ]
    },
    {
     "name": "stdout",
     "output_type": "stream",
     "text": [
      "801\n"
     ]
    },
    {
     "name": "stdout",
     "output_type": "stream",
     "text": [
      "802\n"
     ]
    },
    {
     "name": "stdout",
     "output_type": "stream",
     "text": [
      "803\n"
     ]
    },
    {
     "name": "stdout",
     "output_type": "stream",
     "text": [
      "804\n"
     ]
    },
    {
     "name": "stdout",
     "output_type": "stream",
     "text": [
      "805\n"
     ]
    },
    {
     "name": "stdout",
     "output_type": "stream",
     "text": [
      "806\n"
     ]
    },
    {
     "name": "stdout",
     "output_type": "stream",
     "text": [
      "807\n"
     ]
    },
    {
     "name": "stdout",
     "output_type": "stream",
     "text": [
      "808\n"
     ]
    },
    {
     "name": "stdout",
     "output_type": "stream",
     "text": [
      "809\n"
     ]
    },
    {
     "name": "stdout",
     "output_type": "stream",
     "text": [
      "810\n"
     ]
    },
    {
     "name": "stdout",
     "output_type": "stream",
     "text": [
      "811\n"
     ]
    },
    {
     "name": "stdout",
     "output_type": "stream",
     "text": [
      "812\n"
     ]
    },
    {
     "name": "stdout",
     "output_type": "stream",
     "text": [
      "813\n"
     ]
    },
    {
     "name": "stdout",
     "output_type": "stream",
     "text": [
      "814\n"
     ]
    },
    {
     "name": "stdout",
     "output_type": "stream",
     "text": [
      "815\n"
     ]
    },
    {
     "name": "stdout",
     "output_type": "stream",
     "text": [
      "816\n"
     ]
    },
    {
     "name": "stdout",
     "output_type": "stream",
     "text": [
      "817\n"
     ]
    },
    {
     "name": "stdout",
     "output_type": "stream",
     "text": [
      "818\n"
     ]
    },
    {
     "name": "stdout",
     "output_type": "stream",
     "text": [
      "819\n"
     ]
    },
    {
     "name": "stdout",
     "output_type": "stream",
     "text": [
      "820\n"
     ]
    },
    {
     "name": "stdout",
     "output_type": "stream",
     "text": [
      "821\n"
     ]
    },
    {
     "name": "stdout",
     "output_type": "stream",
     "text": [
      "822\n"
     ]
    },
    {
     "name": "stdout",
     "output_type": "stream",
     "text": [
      "823\n"
     ]
    },
    {
     "name": "stdout",
     "output_type": "stream",
     "text": [
      "824\n"
     ]
    },
    {
     "name": "stdout",
     "output_type": "stream",
     "text": [
      "825\n"
     ]
    },
    {
     "name": "stdout",
     "output_type": "stream",
     "text": [
      "826\n"
     ]
    },
    {
     "name": "stdout",
     "output_type": "stream",
     "text": [
      "827\n"
     ]
    },
    {
     "name": "stdout",
     "output_type": "stream",
     "text": [
      "828\n"
     ]
    },
    {
     "name": "stdout",
     "output_type": "stream",
     "text": [
      "829\n"
     ]
    },
    {
     "name": "stdout",
     "output_type": "stream",
     "text": [
      "830\n"
     ]
    },
    {
     "name": "stdout",
     "output_type": "stream",
     "text": [
      "831\n"
     ]
    },
    {
     "name": "stdout",
     "output_type": "stream",
     "text": [
      "832\n"
     ]
    },
    {
     "name": "stdout",
     "output_type": "stream",
     "text": [
      "833\n"
     ]
    },
    {
     "name": "stdout",
     "output_type": "stream",
     "text": [
      "834\n"
     ]
    },
    {
     "name": "stdout",
     "output_type": "stream",
     "text": [
      "835\n"
     ]
    },
    {
     "name": "stdout",
     "output_type": "stream",
     "text": [
      "836\n"
     ]
    },
    {
     "name": "stdout",
     "output_type": "stream",
     "text": [
      "837\n"
     ]
    },
    {
     "name": "stdout",
     "output_type": "stream",
     "text": [
      "838\n"
     ]
    },
    {
     "name": "stdout",
     "output_type": "stream",
     "text": [
      "839\n"
     ]
    },
    {
     "name": "stdout",
     "output_type": "stream",
     "text": [
      "840\n"
     ]
    },
    {
     "name": "stdout",
     "output_type": "stream",
     "text": [
      "841\n"
     ]
    },
    {
     "name": "stdout",
     "output_type": "stream",
     "text": [
      "842\n"
     ]
    },
    {
     "name": "stdout",
     "output_type": "stream",
     "text": [
      "843\n"
     ]
    },
    {
     "name": "stdout",
     "output_type": "stream",
     "text": [
      "844\n"
     ]
    },
    {
     "name": "stdout",
     "output_type": "stream",
     "text": [
      "845\n"
     ]
    },
    {
     "name": "stdout",
     "output_type": "stream",
     "text": [
      "846\n"
     ]
    },
    {
     "name": "stdout",
     "output_type": "stream",
     "text": [
      "847\n"
     ]
    },
    {
     "name": "stdout",
     "output_type": "stream",
     "text": [
      "848\n"
     ]
    },
    {
     "name": "stdout",
     "output_type": "stream",
     "text": [
      "849\n"
     ]
    },
    {
     "name": "stdout",
     "output_type": "stream",
     "text": [
      "850\n"
     ]
    },
    {
     "name": "stdout",
     "output_type": "stream",
     "text": [
      "851\n"
     ]
    },
    {
     "name": "stdout",
     "output_type": "stream",
     "text": [
      "852\n"
     ]
    },
    {
     "name": "stdout",
     "output_type": "stream",
     "text": [
      "853\n"
     ]
    },
    {
     "name": "stdout",
     "output_type": "stream",
     "text": [
      "854\n"
     ]
    },
    {
     "name": "stdout",
     "output_type": "stream",
     "text": [
      "855\n"
     ]
    },
    {
     "name": "stdout",
     "output_type": "stream",
     "text": [
      "856\n"
     ]
    },
    {
     "name": "stdout",
     "output_type": "stream",
     "text": [
      "857\n"
     ]
    },
    {
     "name": "stdout",
     "output_type": "stream",
     "text": [
      "858\n"
     ]
    },
    {
     "name": "stdout",
     "output_type": "stream",
     "text": [
      "859\n"
     ]
    },
    {
     "name": "stdout",
     "output_type": "stream",
     "text": [
      "860\n"
     ]
    },
    {
     "name": "stdout",
     "output_type": "stream",
     "text": [
      "861\n"
     ]
    },
    {
     "name": "stdout",
     "output_type": "stream",
     "text": [
      "862\n"
     ]
    },
    {
     "name": "stdout",
     "output_type": "stream",
     "text": [
      "863\n"
     ]
    },
    {
     "name": "stdout",
     "output_type": "stream",
     "text": [
      "864\n"
     ]
    },
    {
     "name": "stdout",
     "output_type": "stream",
     "text": [
      "865\n"
     ]
    },
    {
     "name": "stdout",
     "output_type": "stream",
     "text": [
      "866\n"
     ]
    },
    {
     "name": "stdout",
     "output_type": "stream",
     "text": [
      "867\n"
     ]
    },
    {
     "name": "stdout",
     "output_type": "stream",
     "text": [
      "868\n"
     ]
    },
    {
     "name": "stdout",
     "output_type": "stream",
     "text": [
      "869\n"
     ]
    },
    {
     "name": "stdout",
     "output_type": "stream",
     "text": [
      "870\n"
     ]
    },
    {
     "name": "stdout",
     "output_type": "stream",
     "text": [
      "871\n"
     ]
    },
    {
     "name": "stdout",
     "output_type": "stream",
     "text": [
      "872\n"
     ]
    },
    {
     "name": "stdout",
     "output_type": "stream",
     "text": [
      "873\n"
     ]
    },
    {
     "name": "stdout",
     "output_type": "stream",
     "text": [
      "874\n"
     ]
    },
    {
     "name": "stdout",
     "output_type": "stream",
     "text": [
      "875\n"
     ]
    },
    {
     "name": "stdout",
     "output_type": "stream",
     "text": [
      "876\n"
     ]
    },
    {
     "name": "stdout",
     "output_type": "stream",
     "text": [
      "877\n"
     ]
    },
    {
     "name": "stdout",
     "output_type": "stream",
     "text": [
      "878\n"
     ]
    },
    {
     "name": "stdout",
     "output_type": "stream",
     "text": [
      "879\n"
     ]
    },
    {
     "name": "stdout",
     "output_type": "stream",
     "text": [
      "880\n"
     ]
    },
    {
     "name": "stdout",
     "output_type": "stream",
     "text": [
      "881\n"
     ]
    },
    {
     "name": "stdout",
     "output_type": "stream",
     "text": [
      "882\n"
     ]
    },
    {
     "name": "stdout",
     "output_type": "stream",
     "text": [
      "883\n"
     ]
    },
    {
     "name": "stdout",
     "output_type": "stream",
     "text": [
      "884\n"
     ]
    },
    {
     "name": "stdout",
     "output_type": "stream",
     "text": [
      "885\n"
     ]
    },
    {
     "name": "stdout",
     "output_type": "stream",
     "text": [
      "886\n"
     ]
    },
    {
     "name": "stdout",
     "output_type": "stream",
     "text": [
      "887\n"
     ]
    },
    {
     "name": "stdout",
     "output_type": "stream",
     "text": [
      "888\n"
     ]
    },
    {
     "name": "stdout",
     "output_type": "stream",
     "text": [
      "889\n"
     ]
    },
    {
     "name": "stdout",
     "output_type": "stream",
     "text": [
      "890\n"
     ]
    },
    {
     "name": "stdout",
     "output_type": "stream",
     "text": [
      "891\n"
     ]
    },
    {
     "name": "stdout",
     "output_type": "stream",
     "text": [
      "892\n"
     ]
    },
    {
     "name": "stdout",
     "output_type": "stream",
     "text": [
      "893\n"
     ]
    },
    {
     "name": "stdout",
     "output_type": "stream",
     "text": [
      "894\n"
     ]
    },
    {
     "name": "stdout",
     "output_type": "stream",
     "text": [
      "895\n"
     ]
    },
    {
     "name": "stdout",
     "output_type": "stream",
     "text": [
      "896\n"
     ]
    },
    {
     "name": "stdout",
     "output_type": "stream",
     "text": [
      "897\n"
     ]
    },
    {
     "name": "stdout",
     "output_type": "stream",
     "text": [
      "898\n"
     ]
    },
    {
     "name": "stdout",
     "output_type": "stream",
     "text": [
      "899\n"
     ]
    },
    {
     "name": "stdout",
     "output_type": "stream",
     "text": [
      "900\n"
     ]
    },
    {
     "name": "stdout",
     "output_type": "stream",
     "text": [
      "901\n"
     ]
    },
    {
     "name": "stdout",
     "output_type": "stream",
     "text": [
      "902\n"
     ]
    },
    {
     "name": "stdout",
     "output_type": "stream",
     "text": [
      "903\n"
     ]
    },
    {
     "name": "stdout",
     "output_type": "stream",
     "text": [
      "904\n"
     ]
    },
    {
     "name": "stdout",
     "output_type": "stream",
     "text": [
      "905\n"
     ]
    },
    {
     "name": "stdout",
     "output_type": "stream",
     "text": [
      "906\n"
     ]
    },
    {
     "name": "stdout",
     "output_type": "stream",
     "text": [
      "907\n"
     ]
    },
    {
     "name": "stdout",
     "output_type": "stream",
     "text": [
      "908\n"
     ]
    },
    {
     "name": "stdout",
     "output_type": "stream",
     "text": [
      "909\n"
     ]
    },
    {
     "name": "stdout",
     "output_type": "stream",
     "text": [
      "910\n"
     ]
    },
    {
     "name": "stdout",
     "output_type": "stream",
     "text": [
      "911\n"
     ]
    },
    {
     "name": "stdout",
     "output_type": "stream",
     "text": [
      "912\n"
     ]
    },
    {
     "name": "stdout",
     "output_type": "stream",
     "text": [
      "913\n"
     ]
    },
    {
     "name": "stdout",
     "output_type": "stream",
     "text": [
      "914\n"
     ]
    },
    {
     "name": "stdout",
     "output_type": "stream",
     "text": [
      "915\n"
     ]
    },
    {
     "name": "stdout",
     "output_type": "stream",
     "text": [
      "916\n"
     ]
    },
    {
     "name": "stdout",
     "output_type": "stream",
     "text": [
      "917\n"
     ]
    },
    {
     "name": "stdout",
     "output_type": "stream",
     "text": [
      "918\n"
     ]
    },
    {
     "name": "stdout",
     "output_type": "stream",
     "text": [
      "919\n"
     ]
    },
    {
     "name": "stdout",
     "output_type": "stream",
     "text": [
      "920\n"
     ]
    },
    {
     "name": "stdout",
     "output_type": "stream",
     "text": [
      "921\n"
     ]
    },
    {
     "name": "stdout",
     "output_type": "stream",
     "text": [
      "922\n"
     ]
    },
    {
     "name": "stdout",
     "output_type": "stream",
     "text": [
      "923\n"
     ]
    },
    {
     "name": "stdout",
     "output_type": "stream",
     "text": [
      "924\n"
     ]
    },
    {
     "name": "stdout",
     "output_type": "stream",
     "text": [
      "925\n"
     ]
    },
    {
     "name": "stdout",
     "output_type": "stream",
     "text": [
      "926\n"
     ]
    },
    {
     "name": "stdout",
     "output_type": "stream",
     "text": [
      "927\n"
     ]
    },
    {
     "name": "stdout",
     "output_type": "stream",
     "text": [
      "928\n"
     ]
    },
    {
     "name": "stdout",
     "output_type": "stream",
     "text": [
      "929\n"
     ]
    },
    {
     "name": "stdout",
     "output_type": "stream",
     "text": [
      "930\n"
     ]
    },
    {
     "name": "stdout",
     "output_type": "stream",
     "text": [
      "931\n"
     ]
    },
    {
     "name": "stdout",
     "output_type": "stream",
     "text": [
      "932\n"
     ]
    },
    {
     "name": "stdout",
     "output_type": "stream",
     "text": [
      "933\n"
     ]
    },
    {
     "name": "stdout",
     "output_type": "stream",
     "text": [
      "934\n"
     ]
    },
    {
     "name": "stdout",
     "output_type": "stream",
     "text": [
      "935\n"
     ]
    },
    {
     "name": "stdout",
     "output_type": "stream",
     "text": [
      "936\n"
     ]
    },
    {
     "name": "stdout",
     "output_type": "stream",
     "text": [
      "937\n"
     ]
    },
    {
     "name": "stdout",
     "output_type": "stream",
     "text": [
      "938\n"
     ]
    },
    {
     "name": "stdout",
     "output_type": "stream",
     "text": [
      "939\n"
     ]
    },
    {
     "name": "stdout",
     "output_type": "stream",
     "text": [
      "940\n"
     ]
    },
    {
     "name": "stdout",
     "output_type": "stream",
     "text": [
      "941\n"
     ]
    },
    {
     "name": "stdout",
     "output_type": "stream",
     "text": [
      "942\n"
     ]
    },
    {
     "name": "stdout",
     "output_type": "stream",
     "text": [
      "943\n"
     ]
    },
    {
     "name": "stdout",
     "output_type": "stream",
     "text": [
      "944\n"
     ]
    },
    {
     "name": "stdout",
     "output_type": "stream",
     "text": [
      "945\n"
     ]
    },
    {
     "name": "stdout",
     "output_type": "stream",
     "text": [
      "946\n"
     ]
    },
    {
     "name": "stdout",
     "output_type": "stream",
     "text": [
      "947\n"
     ]
    },
    {
     "name": "stdout",
     "output_type": "stream",
     "text": [
      "948\n"
     ]
    },
    {
     "name": "stdout",
     "output_type": "stream",
     "text": [
      "949\n"
     ]
    },
    {
     "name": "stdout",
     "output_type": "stream",
     "text": [
      "950\n"
     ]
    },
    {
     "name": "stdout",
     "output_type": "stream",
     "text": [
      "951\n"
     ]
    },
    {
     "name": "stdout",
     "output_type": "stream",
     "text": [
      "952\n"
     ]
    },
    {
     "name": "stdout",
     "output_type": "stream",
     "text": [
      "953\n"
     ]
    },
    {
     "name": "stdout",
     "output_type": "stream",
     "text": [
      "954\n"
     ]
    },
    {
     "name": "stdout",
     "output_type": "stream",
     "text": [
      "955\n"
     ]
    },
    {
     "name": "stdout",
     "output_type": "stream",
     "text": [
      "956\n"
     ]
    },
    {
     "name": "stdout",
     "output_type": "stream",
     "text": [
      "957\n"
     ]
    },
    {
     "name": "stdout",
     "output_type": "stream",
     "text": [
      "958\n"
     ]
    },
    {
     "name": "stdout",
     "output_type": "stream",
     "text": [
      "959\n"
     ]
    },
    {
     "name": "stdout",
     "output_type": "stream",
     "text": [
      "960\n"
     ]
    },
    {
     "name": "stdout",
     "output_type": "stream",
     "text": [
      "961\n"
     ]
    },
    {
     "name": "stdout",
     "output_type": "stream",
     "text": [
      "962\n"
     ]
    },
    {
     "name": "stdout",
     "output_type": "stream",
     "text": [
      "963\n"
     ]
    },
    {
     "name": "stdout",
     "output_type": "stream",
     "text": [
      "964\n"
     ]
    },
    {
     "name": "stdout",
     "output_type": "stream",
     "text": [
      "965\n"
     ]
    },
    {
     "name": "stdout",
     "output_type": "stream",
     "text": [
      "966\n"
     ]
    },
    {
     "name": "stdout",
     "output_type": "stream",
     "text": [
      "967\n"
     ]
    },
    {
     "name": "stdout",
     "output_type": "stream",
     "text": [
      "968\n"
     ]
    },
    {
     "name": "stdout",
     "output_type": "stream",
     "text": [
      "969\n"
     ]
    },
    {
     "name": "stdout",
     "output_type": "stream",
     "text": [
      "970\n"
     ]
    },
    {
     "name": "stdout",
     "output_type": "stream",
     "text": [
      "971\n"
     ]
    },
    {
     "name": "stdout",
     "output_type": "stream",
     "text": [
      "972\n"
     ]
    },
    {
     "name": "stdout",
     "output_type": "stream",
     "text": [
      "973\n"
     ]
    },
    {
     "name": "stdout",
     "output_type": "stream",
     "text": [
      "974\n"
     ]
    },
    {
     "name": "stdout",
     "output_type": "stream",
     "text": [
      "975\n"
     ]
    },
    {
     "name": "stdout",
     "output_type": "stream",
     "text": [
      "976\n"
     ]
    },
    {
     "name": "stdout",
     "output_type": "stream",
     "text": [
      "977\n"
     ]
    },
    {
     "name": "stdout",
     "output_type": "stream",
     "text": [
      "978\n"
     ]
    },
    {
     "name": "stdout",
     "output_type": "stream",
     "text": [
      "979\n"
     ]
    },
    {
     "name": "stdout",
     "output_type": "stream",
     "text": [
      "980\n"
     ]
    },
    {
     "name": "stdout",
     "output_type": "stream",
     "text": [
      "981\n"
     ]
    },
    {
     "name": "stdout",
     "output_type": "stream",
     "text": [
      "982\n"
     ]
    },
    {
     "name": "stdout",
     "output_type": "stream",
     "text": [
      "983\n"
     ]
    },
    {
     "name": "stdout",
     "output_type": "stream",
     "text": [
      "984\n"
     ]
    },
    {
     "name": "stdout",
     "output_type": "stream",
     "text": [
      "985\n"
     ]
    },
    {
     "name": "stdout",
     "output_type": "stream",
     "text": [
      "986\n"
     ]
    },
    {
     "name": "stdout",
     "output_type": "stream",
     "text": [
      "987\n"
     ]
    },
    {
     "name": "stdout",
     "output_type": "stream",
     "text": [
      "988\n"
     ]
    },
    {
     "name": "stdout",
     "output_type": "stream",
     "text": [
      "989\n"
     ]
    },
    {
     "name": "stdout",
     "output_type": "stream",
     "text": [
      "990\n"
     ]
    },
    {
     "name": "stdout",
     "output_type": "stream",
     "text": [
      "991\n"
     ]
    },
    {
     "name": "stdout",
     "output_type": "stream",
     "text": [
      "992\n"
     ]
    },
    {
     "name": "stdout",
     "output_type": "stream",
     "text": [
      "993\n"
     ]
    },
    {
     "name": "stdout",
     "output_type": "stream",
     "text": [
      "994\n"
     ]
    },
    {
     "name": "stdout",
     "output_type": "stream",
     "text": [
      "995\n"
     ]
    },
    {
     "name": "stdout",
     "output_type": "stream",
     "text": [
      "996\n"
     ]
    },
    {
     "name": "stdout",
     "output_type": "stream",
     "text": [
      "997\n"
     ]
    },
    {
     "name": "stdout",
     "output_type": "stream",
     "text": [
      "998\n"
     ]
    },
    {
     "name": "stdout",
     "output_type": "stream",
     "text": [
      "999\n"
     ]
    }
   ],
   "source": [
    "completions = []\n",
    "for idx, gpt_input in enumerate(gpt_inputs):\n",
    "    completion = completion_with_backoff(\n",
    "      engine=engine,\n",
    "      messages = gpt_input,        \n",
    "    )\n",
    "    print(idx)\n",
    "    completions.append(completion['choices'][0]['message']['content'])"
   ]
  },
  {
   "cell_type": "code",
   "execution_count": null,
   "id": "baf72e3c-4791-45f5-b043-0a861798af29",
   "metadata": {
    "editable": true,
    "execution": {
     "iopub.execute_input": "2024-04-07T17:08:09.328053Z",
     "iopub.status.busy": "2024-04-07T17:08:09.327899Z",
     "iopub.status.idle": "2024-04-07T17:08:09.331322Z",
     "shell.execute_reply": "2024-04-07T17:08:09.331002Z"
    },
    "papermill": {
     "duration": null,
     "end_time": null,
     "exception": null,
     "start_time": null,
     "status": "completed"
    },
    "scrolled": true,
    "slideshow": {
     "slide_type": ""
    },
    "tags": []
   },
   "outputs": [],
   "source": [
    "completions[187]"
   ]
  },
  {
   "cell_type": "code",
   "execution_count": null,
   "id": "f43a29cf-3fd1-48ca-88b0-52fc3d441fe2",
   "metadata": {
    "execution": {
     "iopub.execute_input": "2024-04-07T17:08:09.349199Z",
     "iopub.status.busy": "2024-04-07T17:08:09.349054Z",
     "iopub.status.idle": "2024-04-07T17:08:11.336776Z",
     "shell.execute_reply": "2024-04-07T17:08:11.336399Z"
    },
    "papermill": {
     "duration": null,
     "end_time": null,
     "exception": null,
     "start_time": null,
     "status": "completed"
    },
    "tags": []
   },
   "outputs": [],
   "source": [
    "from rouge_score import rouge_scorer\n",
    "\n",
    "scorer = rouge_scorer.RougeScorer(['rouge1', \"rouge2\", 'rougeL'], use_stemmer=True)\n"
   ]
  },
  {
   "cell_type": "code",
   "execution_count": null,
   "id": "28b229e6-acd5-4ac4-ab0d-b5f74076bf82",
   "metadata": {
    "execution": {
     "iopub.execute_input": "2024-04-07T17:08:11.356009Z",
     "iopub.status.busy": "2024-04-07T17:08:11.355719Z",
     "iopub.status.idle": "2024-04-07T17:08:11.430722Z",
     "shell.execute_reply": "2024-04-07T17:08:11.429907Z"
    },
    "papermill": {
     "duration": null,
     "end_time": null,
     "exception": null,
     "start_time": null,
     "status": "completed"
    },
    "tags": []
   },
   "outputs": [],
   "source": [
    "all_scores = []\n",
    "for gen, ref in zip(completions, test_dataset['output']):\n",
    "    scores = scorer.score(gen, ref)\n",
    "    print(scores)\n",
    "    scores_dict = {\"rouge1_precision\":scores['rouge1'][0], \n",
    "                  \"rouge1_recall\":scores['rouge1'][1], \n",
    "                  \"rouge1_f1\":scores['rouge1'][2], \n",
    "                  \"rouge2_precision\":scores['rouge2'][0], \n",
    "                  \"rouge2_recall\":scores['rouge2'][1], \n",
    "                  \"rouge2_f1\":scores['rouge2'][2], \n",
    "                  \"rougeL_precision\":scores['rougeL'][0], \n",
    "                  \"rougeL_recall\":scores['rougeL'][1], \n",
    "                  \"rougeL_f1\":scores['rougeL'][2], }\n",
    "    all_scores.append(scores_dict)"
   ]
  },
  {
   "cell_type": "code",
   "execution_count": null,
   "id": "87cf1811-ba8f-4aca-9183-f43316c23d68",
   "metadata": {
    "execution": {
     "iopub.execute_input": "2024-04-07T17:08:11.448348Z",
     "iopub.status.busy": "2024-04-07T17:08:11.448189Z",
     "iopub.status.idle": "2024-04-07T17:08:11.678154Z",
     "shell.execute_reply": "2024-04-07T17:08:11.677783Z"
    },
    "papermill": {
     "duration": null,
     "end_time": null,
     "exception": null,
     "start_time": null,
     "status": "completed"
    },
    "tags": []
   },
   "outputs": [],
   "source": [
    "comparison_df = pd.DataFrame([completions, test_dataset['output']]).T.rename({0:\"GPT\", 1:\"gold-standard\"}, axis=1)"
   ]
  },
  {
   "cell_type": "code",
   "execution_count": null,
   "id": "fcca3f5a-f03f-4b3f-9095-58f0dab51591",
   "metadata": {
    "execution": {
     "iopub.execute_input": "2024-04-07T17:08:11.697082Z",
     "iopub.status.busy": "2024-04-07T17:08:11.696910Z",
     "iopub.status.idle": "2024-04-07T17:08:11.701202Z",
     "shell.execute_reply": "2024-04-07T17:08:11.700756Z"
    },
    "papermill": {
     "duration": null,
     "end_time": null,
     "exception": null,
     "start_time": null,
     "status": "completed"
    },
    "tags": []
   },
   "outputs": [],
   "source": [
    "test_dataset_df['gpt_completion'] = completions"
   ]
  },
  {
   "cell_type": "code",
   "execution_count": null,
   "id": "62675afb-ff83-4d1a-903f-f983e0b947ba",
   "metadata": {
    "execution": {
     "iopub.execute_input": "2024-04-07T17:08:11.718902Z",
     "iopub.status.busy": "2024-04-07T17:08:11.718756Z",
     "iopub.status.idle": "2024-04-07T17:08:11.732262Z",
     "shell.execute_reply": "2024-04-07T17:08:11.731801Z"
    },
    "papermill": {
     "duration": null,
     "end_time": null,
     "exception": null,
     "start_time": null,
     "status": "completed"
    },
    "tags": []
   },
   "outputs": [],
   "source": [
    "test_dataset_df.to_csv(\"comparison_simple_gpt3.5_2shot_v2.csv\")"
   ]
  },
  {
   "cell_type": "code",
   "execution_count": null,
   "id": "e7e62675-3f8e-4eb4-97df-c7f62a6a5eb6",
   "metadata": {
    "execution": {
     "iopub.execute_input": "2024-04-07T17:08:11.748978Z",
     "iopub.status.busy": "2024-04-07T17:08:11.748837Z",
     "iopub.status.idle": "2024-04-07T17:08:11.799565Z",
     "shell.execute_reply": "2024-04-07T17:08:11.798956Z"
    },
    "papermill": {
     "duration": null,
     "end_time": null,
     "exception": null,
     "start_time": null,
     "status": "completed"
    },
    "tags": []
   },
   "outputs": [],
   "source": [
    "comparison_df['GPT'] = comparison_df['GPT'].str.replace(\"\\n\", \"<br>\")\n",
    "comparison_df['gold-standard'] = comparison_df['gold-standard'].str.replace(\"\\n\", \"<br>\")"
   ]
  },
  {
   "cell_type": "code",
   "execution_count": null,
   "id": "c50a1145-d2ce-45a1-bcad-a1e705fe241b",
   "metadata": {
    "execution": {
     "iopub.execute_input": "2024-04-07T17:08:11.818087Z",
     "iopub.status.busy": "2024-04-07T17:08:11.817927Z",
     "iopub.status.idle": "2024-04-07T17:08:12.378185Z",
     "shell.execute_reply": "2024-04-07T17:08:12.377733Z"
    },
    "papermill": {
     "duration": null,
     "end_time": null,
     "exception": null,
     "start_time": null,
     "status": "completed"
    },
    "tags": []
   },
   "outputs": [],
   "source": [
    "comparison_df.to_html(f\"comparison_simple_gpt3.5_2shot_v2.html\", escape=False)"
   ]
  },
  {
   "cell_type": "code",
   "execution_count": null,
   "id": "a0743d01-a7e1-4798-b5e8-285a76ef8474",
   "metadata": {
    "execution": {
     "iopub.execute_input": "2024-04-07T17:08:12.399473Z",
     "iopub.status.busy": "2024-04-07T17:08:12.399301Z",
     "iopub.status.idle": "2024-04-07T17:08:12.407023Z",
     "shell.execute_reply": "2024-04-07T17:08:12.406518Z"
    },
    "papermill": {
     "duration": null,
     "end_time": null,
     "exception": null,
     "start_time": null,
     "status": "completed"
    },
    "tags": []
   },
   "outputs": [],
   "source": [
    "pd.DataFrame.from_records(all_scores).to_csv(\"scoresv2.csv\")"
   ]
  },
  {
   "cell_type": "code",
   "execution_count": null,
   "id": "bb66b41c-2e2f-4984-8f47-ed86be98af46",
   "metadata": {
    "execution": {
     "iopub.execute_input": "2024-04-07T17:08:12.424423Z",
     "iopub.status.busy": "2024-04-07T17:08:12.424280Z",
     "iopub.status.idle": "2024-04-07T17:08:12.429092Z",
     "shell.execute_reply": "2024-04-07T17:08:12.428776Z"
    },
    "papermill": {
     "duration": null,
     "end_time": null,
     "exception": null,
     "start_time": null,
     "status": "completed"
    },
    "tags": []
   },
   "outputs": [],
   "source": [
    "pd.DataFrame.from_records(all_scores).mean()"
   ]
  },
  {
   "cell_type": "code",
   "execution_count": null,
   "id": "06087e2b-1625-474f-924e-96a50c1a0a83",
   "metadata": {
    "papermill": {
     "duration": null,
     "end_time": null,
     "exception": null,
     "start_time": null,
     "status": "completed"
    },
    "tags": []
   },
   "outputs": [],
   "source": []
  },
  {
   "cell_type": "code",
   "execution_count": null,
   "id": "61061dde-4239-434e-9d29-f0778c346b06",
   "metadata": {
    "papermill": {
     "duration": null,
     "end_time": null,
     "exception": null,
     "start_time": null,
     "status": "completed"
    },
    "tags": []
   },
   "outputs": [],
   "source": []
  }
 ],
 "metadata": {
  "kernelspec": {
   "display_name": "Python 3 (ipykernel)",
   "language": "python",
   "name": "python3"
  },
  "language_info": {
   "codemirror_mode": {
    "name": "ipython",
    "version": 3
   },
   "file_extension": ".py",
   "mimetype": "text/x-python",
   "name": "python",
   "nbconvert_exporter": "python",
   "pygments_lexer": "ipython3",
   "version": "3.12.2"
  },
  "papermill": {
   "default_parameters": {},
   "duration": 5089.963389,
   "end_time": "2024-04-07T18:41:30.090174",
   "environment_variables": {},
   "exception": null,
   "input_path": "GPT4_Simple_runv1.ipynb",
   "output_path": "GPT4_Simple_runv1.ipynb",
   "parameters": {
    "N": 1000
   },
   "start_time": "2024-04-07T17:16:40.126785",
   "version": "2.5.0"
  }
 },
 "nbformat": 4,
 "nbformat_minor": 5
}
