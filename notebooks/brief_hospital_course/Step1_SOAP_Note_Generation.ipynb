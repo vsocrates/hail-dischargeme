{
 "cells": [
  {
   "cell_type": "code",
   "execution_count": 1,
   "id": "89f6f9bd-ffb3-456c-9195-926aa168e1a6",
   "metadata": {
    "editable": true,
    "slideshow": {
     "slide_type": ""
    },
    "tags": [
     "parameters"
    ]
   },
   "outputs": [],
   "source": [
    "output = \"sample_output2.csv\""
   ]
  },
  {
   "cell_type": "markdown",
   "id": "8201b927-ffb6-4ec5-9e7c-6ce39b89804f",
   "metadata": {
    "editable": true,
    "slideshow": {
     "slide_type": ""
    },
    "tags": []
   },
   "source": [
    "# SOAP Note Generation\n",
    "\n",
    "This notebook performs step 1 of the Brief Hospital Course pipeline, in which we generate a SOAP note for each service based on a list of information that has been passed into a GPT-3.5 model. "
   ]
  },
  {
   "cell_type": "code",
   "execution_count": 2,
   "id": "47f4516e-b3cb-4179-982e-f783e7cc1514",
   "metadata": {
    "editable": true,
    "slideshow": {
     "slide_type": ""
    },
    "tags": []
   },
   "outputs": [],
   "source": [
    "import pandas as pd\n",
    "import ast\n",
    "import numpy as np\n",
    "\n",
    "from tqdm import tqdm\n",
    "# from tqdm.auto import tqdm  # for notebooks\n",
    "tqdm.pandas()\n",
    "\n",
    "import os\n",
    "import openai"
   ]
  },
  {
   "cell_type": "code",
   "execution_count": 3,
   "id": "a3beef81-0897-454d-ba25-bff5bb47fa3e",
   "metadata": {},
   "outputs": [
    {
     "data": {
      "text/plain": [
       "True"
      ]
     },
     "execution_count": 3,
     "metadata": {},
     "output_type": "execute_result"
    }
   ],
   "source": [
    "from dotenv import load_dotenv\n",
    "load_dotenv()  # take environment variables from .env."
   ]
  },
  {
   "cell_type": "code",
   "execution_count": 4,
   "id": "412bcad0-1916-41ab-9387-4176baefbcb7",
   "metadata": {},
   "outputs": [],
   "source": [
    "from preprocessing import *"
   ]
  },
  {
   "cell_type": "code",
   "execution_count": 5,
   "id": "7a4edfef-c890-4257-87a9-d7a42d363d08",
   "metadata": {},
   "outputs": [],
   "source": [
    "N = 5"
   ]
  },
  {
   "cell_type": "markdown",
   "id": "3bed84bf-c057-48f3-82e9-aa4ca381ce39",
   "metadata": {},
   "source": [
    "## Read in Radiology Reports"
   ]
  },
  {
   "cell_type": "code",
   "execution_count": 6,
   "id": "e61e5e2e-abb1-4c55-8ad4-3a021195ac56",
   "metadata": {},
   "outputs": [],
   "source": [
    "radiology = pd.read_csv(\"/gpfs/milgram/project/rtaylor/shared/DischargeMe/public/train/radiology.csv.gz\")"
   ]
  },
  {
   "cell_type": "markdown",
   "id": "c2754157-fa3a-448b-9f8e-79b42c5b94dd",
   "metadata": {},
   "source": [
    "## Read in Structured Data"
   ]
  },
  {
   "cell_type": "code",
   "execution_count": 7,
   "id": "f3d29f00-43fb-4b8a-bfac-dc45246dd6c3",
   "metadata": {},
   "outputs": [],
   "source": [
    "# discharge summaries\n",
    "discharges = pd.read_csv(\"/gpfs/milgram/project/rtaylor/shared/DischargeMe/public/train/discharge.csv.gz\")\n",
    "\n",
    "# ed stays\n",
    "edstays = pd.read_csv('/gpfs/milgram/project/rtaylor/shared/DischargeMe/public/train/edstays.csv.gz')\n",
    "\n",
    "# triage\n",
    "triage = pd.read_csv('/gpfs/milgram/project/rtaylor/shared/DischargeMe/public/train/triage.csv.gz')\n",
    "\n",
    "# ward transfers\n",
    "transfers = pd.read_csv('/gpfs/milgram/project/rtaylor/shared/DischargeMe/mimiciv/hosp/transfers.csv.gz')\n",
    "\n",
    "# higher-level services (ICU, CARD, etc)\n",
    "services = pd.read_csv('/gpfs/milgram/project/rtaylor/shared/DischargeMe/mimiciv/hosp/services.csv.gz')\n",
    "\n",
    "# get patient info\n",
    "pts = pd.read_csv('/gpfs/milgram/project/rtaylor/shared/DischargeMe/mimiciv/hosp/patients.csv.gz')\n",
    "\n",
    "# admission demographics\n",
    "admissions = pd.read_csv('/gpfs/milgram/project/rtaylor/shared/DischargeMe/mimiciv/hosp/admissions.csv.gz')\n",
    "\n",
    "# procedures\n",
    "procs = pd.read_csv('/gpfs/milgram/project/rtaylor/shared/DischargeMe/mimiciv/hosp/procedures_icd.csv.gz')\n",
    "procs_icd = pd.read_csv('/gpfs/milgram/project/rtaylor/shared/DischargeMe/mimiciv/hosp/d_icd_procedures.csv.gz')\n",
    "\n",
    "# diagnoses\n",
    "diags = pd.read_csv('/gpfs/milgram/project/rtaylor/shared/DischargeMe/mimiciv/hosp/diagnoses_icd.csv.gz')\n",
    "diags_icd = pd.read_csv('/gpfs/milgram/project/rtaylor/shared/DischargeMe/mimiciv/hosp/d_icd_diagnoses.csv.gz')\n",
    "\n",
    "# meds\n",
    "med_orders = pd.read_csv('/gpfs/milgram/project/rtaylor/shared/DischargeMe/mimiciv/hosp/emar.csv.gz')\n"
   ]
  },
  {
   "cell_type": "code",
   "execution_count": 8,
   "id": "a0efc978-2fcf-4ef2-8d72-10a90c5218f7",
   "metadata": {},
   "outputs": [],
   "source": [
    "\n",
    "# # procedures\n",
    "# procs = pd.read_csv('/gpfs/milgram/project/rtaylor/shared/DischargeMe/mimiciv/hosp/procedures_icd.csv.gz')\n",
    "# procs_icd = pd.read_csv('/gpfs/milgram/project/rtaylor/shared/DischargeMe/mimiciv/hosp/d_icd_procedures.csv.gz')\n",
    "\n",
    "# # diagnoses\n",
    "# diags = pd.read_csv('/gpfs/milgram/project/rtaylor/shared/DischargeMe/mimiciv/hosp/diagnoses_icd.csv.gz')\n",
    "# diags_icd = pd.read_csv('/gpfs/milgram/project/rtaylor/shared/DischargeMe/mimiciv/hosp/d_icd_diagnoses.csv.gz')\n"
   ]
  },
  {
   "cell_type": "code",
   "execution_count": null,
   "id": "3bd2f59c-6e0d-4943-91b5-c506b5d00448",
   "metadata": {},
   "outputs": [],
   "source": [
    "prescriptions = pd.read_csv('/gpfs/milgram/project/rtaylor/shared/DischargeMe/mimiciv/hosp/prescriptions.csv.gz')\n",
    "labs = pd.read_csv('/gpfs/milgram/project/rtaylor/shared/DischargeMe/mimiciv/hosp/labevents.csv.gz')\n",
    "microbio = pd.read_csv('/gpfs/milgram/project/rtaylor/shared/DischargeMe/mimiciv/hosp/microbiologyevents.csv.gz')"
   ]
  },
  {
   "cell_type": "code",
   "execution_count": null,
   "id": "065746c8-45df-40f4-88ee-235ecdb6f077",
   "metadata": {},
   "outputs": [],
   "source": [
    "labs_icd = pd.read_csv(\"/gpfs/milgram/project/rtaylor/shared/DischargeMe/mimiciv/hosp/d_labitems.csv.gz\")"
   ]
  },
  {
   "cell_type": "code",
   "execution_count": null,
   "id": "d96d2771-0d46-43ab-a441-7396cf6d1fbf",
   "metadata": {},
   "outputs": [],
   "source": [
    "labs = labs.merge(labs_icd, on=\"itemid\", how=\"left\")"
   ]
  },
  {
   "cell_type": "markdown",
   "id": "634a8b4d-3160-448b-b438-98dc96af4335",
   "metadata": {},
   "source": [
    "### Clean up/type cast data"
   ]
  },
  {
   "cell_type": "code",
   "execution_count": null,
   "id": "3a251ee2-4e76-49ac-ba8b-66440c7c1769",
   "metadata": {},
   "outputs": [],
   "source": [
    "med_orders = med_orders[~med_orders['charttime'].isna() & \n",
    "                        ~med_orders['medication'].isna() & \n",
    "                        ~med_orders['event_txt'].isna()]"
   ]
  },
  {
   "cell_type": "code",
   "execution_count": null,
   "id": "f9f637d2-fb88-4f4e-91ec-5ce68edba838",
   "metadata": {},
   "outputs": [],
   "source": [
    "procs = procs.astype({\"chartdate\":\"datetime64[ns]\"})\n",
    "med_orders = med_orders.astype({\"charttime\":\"datetime64[ns]\",\n",
    "                  \"scheduletime\":\"datetime64[ns]\",\n",
    "                  \"storetime\":\"datetime64[ns]\",})\n",
    "\n",
    "discharges = discharges.astype({\"charttime\":\"datetime64[ns]\",\n",
    "                               \"storetime\":\"datetime64[ns]\"})"
   ]
  },
  {
   "cell_type": "code",
   "execution_count": null,
   "id": "a8e2a812-1cb0-4f24-89af-cf0ecdfe6097",
   "metadata": {},
   "outputs": [],
   "source": [
    "prescriptions = prescriptions.astype({\"starttime\":\"datetime64[ns]\",\n",
    "                      \"stoptime\":\"datetime64[ns]\"})\n",
    "labs = labs.astype({\"charttime\":\"datetime64[ns]\",\n",
    "                      \"storetime\":\"datetime64[ns]\"})\n",
    "\n",
    "microbio = microbio.astype({\"chartdate\":\"datetime64[ns]\",\n",
    "                      \"charttime\":\"datetime64[ns]\",\n",
    "                           \"storetime\":\"datetime64[ns]\",\n",
    "                      \"charttime\":\"datetime64[ns]\"})"
   ]
  },
  {
   "cell_type": "code",
   "execution_count": null,
   "id": "31a9fe0f-66b9-494c-979c-222870026ad3",
   "metadata": {},
   "outputs": [],
   "source": [
    "# drop any potential repeats\n",
    "procs_icd = procs_icd.groupby([\"icd_code\", \"icd_version\"]).first().reset_index()\n",
    "diags_icd = diags_icd.groupby([\"icd_code\", \"icd_version\"]).first().reset_index()"
   ]
  },
  {
   "cell_type": "code",
   "execution_count": null,
   "id": "1e386567-6250-4f4c-ad5f-de0ca33c9fdc",
   "metadata": {},
   "outputs": [],
   "source": [
    "# grab long_titles for procs/diags\n",
    "procs = procs.merge(procs_icd, on=[\"icd_code\", \"icd_version\"], how=\"left\")\n",
    "diags = diags.merge(diags_icd, on=[\"icd_code\", \"icd_version\"], how=\"left\")"
   ]
  },
  {
   "cell_type": "markdown",
   "id": "48101bf9-6b84-4e65-97c8-7aac60b57e13",
   "metadata": {},
   "source": [
    "\n",
    "### Define Extraction Functions"
   ]
  },
  {
   "cell_type": "code",
   "execution_count": null,
   "id": "deb34385-f3b9-4216-ba67-a65d13c97449",
   "metadata": {},
   "outputs": [],
   "source": [
    "# generate free text sections of tables concatenating columns\n",
    "med_orders['admin_text'] = med_orders['medication'] + \" at \" + med_orders['charttime'].dt.strftime('%B %d, %Y, %r')\n",
    "# TODO: Add the right information in here that we actually want for the meds\n",
    "prescriptions['text'] = prescriptions['drug'] + \" \" + prescriptions['prod_strength']\n"
   ]
  },
  {
   "cell_type": "code",
   "execution_count": null,
   "id": "96b07f8e-7f75-4151-ae67-baf7aa9db539",
   "metadata": {},
   "outputs": [],
   "source": [
    "with pd.option_context(\"display.max_columns\", None):\n",
    "    display(prescriptions.sample(2))"
   ]
  },
  {
   "cell_type": "code",
   "execution_count": null,
   "id": "d484f8d6-13cb-4d27-a0ab-3ff60ee4aee0",
   "metadata": {},
   "outputs": [],
   "source": [
    "# TODO: figure out how to better encapsulate lab values\n",
    "labs['text'] = labs['category'] + \" \" + labs['fluid'] + \" \" + labs['label'] + \": \" + labs['value'] + \" \" + labs['valueuom']"
   ]
  },
  {
   "cell_type": "code",
   "execution_count": null,
   "id": "41115aff-2145-4d88-93fd-cd00e690a32a",
   "metadata": {},
   "outputs": [],
   "source": [
    "# TODO: check for those patients that don't have comments\n",
    "microbio['text'] = microbio['test_name'] + \": \" + microbio['comments']"
   ]
  },
  {
   "cell_type": "code",
   "execution_count": null,
   "id": "eab40499-9b75-47ca-9730-75c7e918ce40",
   "metadata": {},
   "outputs": [],
   "source": [
    "microbio.isna().sum()"
   ]
  },
  {
   "cell_type": "code",
   "execution_count": null,
   "id": "c794836e-7082-4e5c-82df-3bcd18d86431",
   "metadata": {},
   "outputs": [],
   "source": []
  },
  {
   "cell_type": "code",
   "execution_count": null,
   "id": "a2c8bca7-07a4-4dd6-8a69-1c69f57ba185",
   "metadata": {},
   "outputs": [],
   "source": [
    "def create_pt_prompt_per_service(discharge_row):\n",
    "\n",
    "    demos = get_demos(discharge_row['subject_id'])\n",
    "    if demos.empty:\n",
    "        age = r\"[UNKNOWN AGE]\"\n",
    "        sex = r\"[UNKNOWN SEX]\"\n",
    "    else:\n",
    "        age = demos['anchor_age']\n",
    "        sex = demos['gender']\n",
    "\n",
    "    pt_edstays = edstays[edstays['hadm_id'] == discharge_row['hadm_id']]\n",
    "\n",
    "    ccs = []\n",
    "    for stay_id in pt_edstays['stay_id'].tolist():\n",
    "        triage_info = get_triage_info(stay_id)\n",
    "        ccs.append(triage_info['chiefcomplaint'].squeeze())\n",
    "        \n",
    "    chief_complaints = \", \".join(ccs)\n",
    "\n",
    "    if sex:\n",
    "        pronoun = [\"he\",\"his\"] if sex == \"M\" else ['she',\"her\"]\n",
    "    else:\n",
    "        pronoun = [\"they\", \"their\"]\n",
    "\n",
    "    # transfers with dates\n",
    "    transfers = get_transfers(discharge_row['hadm_id'])\n",
    "\n",
    "    # get stay admission diagnoses\n",
    "    diags = get_diags(discharge_row['hadm_id'])\n",
    "\n",
    "    init_prompt = f\"___ is a {age} year old {sex} that initially presented to the ED with {chief_complaints}. By the end of {pronoun[1]} hospital stay, {pronoun[0]} was given the following diagnoses: {', '.join(diags['long_title'])} in order of importance to this admission. \"\n",
    "    transfer_service_prompts = []\n",
    "\n",
    "    for index, row in transfers.iterrows():\n",
    "        if row['eventtype'] == \"discharge\":\n",
    "             transfer_service_prompts.append(\"\")\n",
    "        else:\n",
    "            within_service_prompt = f\"The patient was transferred and stayed in the {row['careunit']} ward between {row['intime']} and {row['outtime']}. ___ received \"\n",
    "            \n",
    "            procs = get_procs_within_service(discharge_row['hadm_id'], row)\n",
    "            # med_orders = get_med_orders_within_service(discharge_row['hadm_id'], row)\n",
    "            prescriptions = get_prescriptions_within_service(discharge_row['hadm_id'], row)\n",
    "            labs = get_labs_within_service(discharge_row['hadm_id'], row)\n",
    "            microbio = get_microbio_within_service(discharge_row['hadm_id'], row)\n",
    "            \n",
    "            within_service_prompt = within_service_prompt + f\"the following procedures (ordered by priority): {', '.join(procs['long_title'].tolist())}. \"\n",
    "            # within_service_prompt = within_service_prompt + f\"{pronoun[0]} also received the following medications (ordered chronologically) during the service: {', '.join(med_orders['medication'].tolist())}. \"            \n",
    "            within_service_prompt = within_service_prompt + f\"\\n------------------------\\n{pronoun[0]} also received the following medications (ordered chronologically) during the service: {', '.join(prescriptions['text'].tolist())}. \"\n",
    "            within_service_prompt = within_service_prompt + f\"\\n------------------------\\nThe following labs were also drawn during the service: {', '.join(labs['text'].tolist())}. \"\n",
    "            within_service_prompt = within_service_prompt + f\"\\n------------------------\\nThe physician also ordered the following microbiology cultures during the service: {', '.join(microbio['text'].tolist())}. \"\n",
    "            \n",
    "            full_prompt = init_prompt + within_service_prompt + f\"Given this information, please generate a progress note for this patient for their care during this part of their hospital course staying in the {row['careunit']} ward. Be SPECIFIC to the conditions, any abnormal labs, vitals, or procedures that were conducted, and significant medications as they relate to the hospital course.\"\n",
    "            transfer_service_prompts.append(full_prompt)\n",
    "\n",
    "    transfers['service_prompts'] = transfer_service_prompts\n",
    "    \n",
    "    return transfers\n",
    "    \n"
   ]
  },
  {
   "cell_type": "code",
   "execution_count": null,
   "id": "2e1dbbda-36b6-4756-84c0-6a5eff81bd7b",
   "metadata": {},
   "outputs": [],
   "source": [
    "def create_pt_prompt_per_day(discharge_row):\n",
    "\n",
    "    demos = get_demos(discharge_row['subject_id'])\n",
    "    if demos.empty:\n",
    "        age = r\"[UNKNOWN AGE]\"\n",
    "        sex = r\"[UNKNOWN SEX]\"\n",
    "    else:\n",
    "        age = demos['anchor_age']\n",
    "        sex = demos['gender']\n",
    "\n",
    "    pt_edstays = edstays[edstays['hadm_id'] == discharge_row['hadm_id']]\n",
    "\n",
    "    ccs = []\n",
    "    for stay_id in pt_edstays['stay_id'].tolist():\n",
    "        triage_info = get_triage_info(stay_id)\n",
    "        ccs.append(triage_info['chiefcomplaint'].squeeze())\n",
    "        \n",
    "    chief_complaints = \", \".join(ccs)\n",
    "\n",
    "    if sex:\n",
    "        pronoun = [\"he\",\"his\"] if sex == \"M\" else ['she',\"her\"]\n",
    "    else:\n",
    "        pronoun = [\"they\", \"their\"]\n",
    "\n",
    "    # transfers with dates\n",
    "    transfers = get_transfers(discharge_row['hadm_id'])\n",
    "\n",
    "    # get stay admission diagnoses\n",
    "    diags = get_diags(discharge_row['hadm_id'])\n",
    "\n",
    "    init_prompt = f\"___ is a {age} year old {sex} that initially presented to the ED with {chief_complaints}. By the end of {pronoun[1]} hospital stay, {pronoun[0]} was given the following diagnoses: {', '.join(diags['long_title'])} in order of importance to this admission. \"\n",
    "    transfer_service_prompts = []\n",
    "\n",
    "    for index, row in transfers.iterrows():\n",
    "        if row['eventtype'] == \"discharge\":\n",
    "             transfer_service_prompts.append(\"\")\n",
    "        else:\n",
    "            # split time in this ward into days. \n",
    "            service_date_ranges = pd.date_range(start=row['intime'], end=row['outtime'])\n",
    "            \n",
    "            for previous, current in zip(service_date_ranges.tolist(), service_date_ranges[1:].tolist()):\n",
    "                print(previous, current)            \n",
    "            # TODO: add from here. \n",
    "            within_service_prompt = f\"The patient was transferred and stayed in the {row['careunit']} ward between {row['intime']} and {row['outtime']}. ___ received \"\n",
    "            \n",
    "            procs = get_procs_within_service(discharge_row['hadm_id'], row)\n",
    "            # med_orders = get_med_orders_within_service(discharge_row['hadm_id'], row)\n",
    "            prescriptions = get_prescriptions_within_service(discharge_row['hadm_id'], row)\n",
    "            labs = get_labs_within_service(discharge_row['hadm_id'], row)\n",
    "            microbio = get_microbio_within_service(discharge_row['hadm_id'], row)\n",
    "            \n",
    "            within_service_prompt = within_service_prompt + f\"the following procedures (ordered by priority): {', '.join(procs['long_title'].tolist())}. \"\n",
    "            # within_service_prompt = within_service_prompt + f\"{pronoun[0]} also received the following medications (ordered chronologically) during the service: {', '.join(med_orders['medication'].tolist())}. \"            \n",
    "            within_service_prompt = within_service_prompt + f\"\\n------------------------\\n{pronoun[0]} also received the following medications (ordered chronologically) during the service: {', '.join(prescriptions['text'].tolist())}. \"\n",
    "            within_service_prompt = within_service_prompt + f\"\\n------------------------\\nThe following labs were also drawn during the service: {', '.join(labs['text'].tolist())}. \"\n",
    "            within_service_prompt = within_service_prompt + f\"\\n------------------------\\nThe physician also ordered the following microbiology cultures during the service: {', '.join(microbio['text'].tolist())}. \"\n",
    "            \n",
    "            full_prompt = init_prompt + within_service_prompt + f\"Given this information, please generate a progress note for this patient for their care during this part of their hospital course staying in the {row['careunit']} ward. Be SPECIFIC to the conditions, any abnormal labs, vitals, or procedures that were conducted, and significant medications as they relate to the hospital course.\"\n",
    "            transfer_service_prompts.append(full_prompt)\n",
    "\n",
    "    transfers['service_prompts'] = transfer_service_prompts\n",
    "    \n",
    "    return transfers\n",
    "    \n"
   ]
  },
  {
   "cell_type": "markdown",
   "id": "8f773b89-0263-416c-93a5-98c59087637b",
   "metadata": {},
   "source": [
    "## Generate Input Data List Prompt"
   ]
  },
  {
   "cell_type": "code",
   "execution_count": null,
   "id": "6ccf49b8-1cfb-4cb1-9740-bf20e8eb5e66",
   "metadata": {},
   "outputs": [],
   "source": [
    "# TODO: why are there so many NAs?: 22680492\n",
    "labs = labs[~labs['text'].isna()]"
   ]
  },
  {
   "cell_type": "code",
   "execution_count": null,
   "id": "905736ec-2cb7-4d8d-b2da-291ddeedf7f2",
   "metadata": {},
   "outputs": [],
   "source": [
    "service_prompts = create_pt_prompt_per_service(discharges.sample(1).squeeze())"
   ]
  },
  {
   "cell_type": "code",
   "execution_count": null,
   "id": "5e188c9e-3d0f-458f-979c-c49180bc79f4",
   "metadata": {},
   "outputs": [],
   "source": [
    "print(service_prompts['service_prompts'].iloc[1])"
   ]
  },
  {
   "cell_type": "markdown",
   "id": "75bc770f-6381-460c-ac06-d72074822ce8",
   "metadata": {},
   "source": [
    "## Create SOAP notes from GPT API"
   ]
  },
  {
   "cell_type": "code",
   "execution_count": 32,
   "id": "245df893-0d7a-47d1-9c7c-11cdfee44a6e",
   "metadata": {},
   "outputs": [],
   "source": [
    "import openai\n",
    "openai.api_type = \"azure\"\n",
    "openai.api_base = os.getenv(\"OPENAI_API_BASE\")\n",
    "openai.api_version = \"2023-07-01-preview\"\n",
    "openai.api_key = os.getenv(\"OPENAI_API_KEY\")\n",
    "engine = \"decile-gpt-35-turbo-16k\"\n"
   ]
  },
  {
   "cell_type": "code",
   "execution_count": 33,
   "id": "2e33987e-600d-48c7-8a38-50c368a8ab85",
   "metadata": {},
   "outputs": [],
   "source": [
    "# drop all eventtypes of type: discharge, since we don't need a note for that\n",
    "service_prompts = service_prompts[service_prompts['eventtype'] != \"discharge\"]"
   ]
  },
  {
   "cell_type": "code",
   "execution_count": 34,
   "id": "ccda464c-45c5-486c-812c-5c1e54b35de0",
   "metadata": {},
   "outputs": [],
   "source": [
    "gpt_inputs = []\n",
    "for _, row in service_prompts.iterrows():\n",
    "    message_text = [{\"role\":\"system\",\"content\":f\"You are a physician that is reviewing a patient's medical record during their stay in your ward: ({row['careunit']}) and writing a SOAP Note based on this information.\"},]\n",
    "    \n",
    "    gpt_service_prompt = {\"role\":\"user\",\n",
    "                     \"content\":row['service_prompts']}\n",
    "    \n",
    "    message_text.append(gpt_service_prompt)\n",
    "    \n",
    "    # print(f\"Deprescribe Prompt: {message_text}\")\n",
    "    gpt_inputs.append(message_text)"
   ]
  },
  {
   "cell_type": "code",
   "execution_count": 35,
   "id": "a76f779f-abf8-4e94-8f09-76b90d4d631f",
   "metadata": {},
   "outputs": [],
   "source": [
    "completions = []\n",
    "for input in gpt_inputs:\n",
    "    completion = openai.ChatCompletion.create(\n",
    "      engine=engine,\n",
    "      messages = input,\n",
    "    )\n",
    "    completions.append(completion['choices'][0]['message']['content'])"
   ]
  },
  {
   "cell_type": "code",
   "execution_count": 36,
   "id": "2b67b886-e525-477f-8989-b68a8d60b3be",
   "metadata": {},
   "outputs": [],
   "source": [
    "service_prompts['gpt_SOAP_note'] = completions"
   ]
  },
  {
   "cell_type": "code",
   "execution_count": 37,
   "id": "dca64878-2b22-4e73-a80d-c1291c982a11",
   "metadata": {
    "editable": true,
    "slideshow": {
     "slide_type": ""
    },
    "tags": []
   },
   "outputs": [],
   "source": [
    "service_prompts.to_csv(output)"
   ]
  },
  {
   "cell_type": "code",
   "execution_count": null,
   "id": "a6f76b83-56ea-475f-afa6-18b3afaefd75",
   "metadata": {},
   "outputs": [],
   "source": []
  }
 ],
 "metadata": {
  "kernelspec": {
   "display_name": "Python 3 (ipykernel)",
   "language": "python",
   "name": "python3"
  },
  "language_info": {
   "codemirror_mode": {
    "name": "ipython",
    "version": 3
   },
   "file_extension": ".py",
   "mimetype": "text/x-python",
   "name": "python",
   "nbconvert_exporter": "python",
   "pygments_lexer": "ipython3",
   "version": "3.10.13"
  },
  "widgets": {
   "application/vnd.jupyter.widget-state+json": {
    "state": {},
    "version_major": 2,
    "version_minor": 0
   }
  }
 },
 "nbformat": 4,
 "nbformat_minor": 5
}
