{
 "cells": [
  {
   "cell_type": "markdown",
   "id": "836a1a5d",
   "metadata": {
    "tags": [
     "papermill-error-cell-tag"
    ]
   },
   "source": [
    "<span style=\"color:red; font-family:Helvetica Neue, Helvetica, Arial, sans-serif; font-size:2em;\">An Exception was encountered at '<a href=\"#papermill-error-cell\">In [28]</a>'.</span>"
   ]
  },
  {
   "cell_type": "code",
   "execution_count": 1,
   "id": "89f6f9bd-ffb3-456c-9195-926aa168e1a6",
   "metadata": {
    "editable": true,
    "execution": {
     "iopub.execute_input": "2024-03-25T17:51:37.371230Z",
     "iopub.status.busy": "2024-03-25T17:51:37.371004Z",
     "iopub.status.idle": "2024-03-25T17:51:37.377129Z",
     "shell.execute_reply": "2024-03-25T17:51:37.376720Z"
    },
    "papermill": {
     "duration": 0.01403,
     "end_time": "2024-03-25T17:51:37.378476",
     "exception": false,
     "start_time": "2024-03-25T17:51:37.364446",
     "status": "completed"
    },
    "slideshow": {
     "slide_type": ""
    },
    "tags": [
     "parameters"
    ]
   },
   "outputs": [],
   "source": [
    "soap_notes_fp = \"sample_output.csv\"\n",
    "note_id = \"10000032-DS-22\""
   ]
  },
  {
   "cell_type": "code",
   "execution_count": 2,
   "id": "8a6c9e82",
   "metadata": {
    "execution": {
     "iopub.execute_input": "2024-03-25T17:51:37.391948Z",
     "iopub.status.busy": "2024-03-25T17:51:37.391779Z",
     "iopub.status.idle": "2024-03-25T17:51:37.394868Z",
     "shell.execute_reply": "2024-03-25T17:51:37.394493Z"
    },
    "papermill": {
     "duration": 0.009687,
     "end_time": "2024-03-25T17:51:37.396022",
     "exception": false,
     "start_time": "2024-03-25T17:51:37.386335",
     "status": "completed"
    },
    "tags": [
     "injected-parameters"
    ]
   },
   "outputs": [],
   "source": [
    "# Parameters\n",
    "soap_notes_fp = \"soap_note_sample1test_10415772-DS-14.csv\"\n",
    "note_id = \"10415772-DS-14\"\n"
   ]
  },
  {
   "cell_type": "code",
   "execution_count": 3,
   "id": "f2eb266c-533f-41d3-aae0-525d8e27ccd6",
   "metadata": {
    "editable": true,
    "execution": {
     "iopub.execute_input": "2024-03-25T17:51:37.406503Z",
     "iopub.status.busy": "2024-03-25T17:51:37.406337Z",
     "iopub.status.idle": "2024-03-25T17:51:37.410447Z",
     "shell.execute_reply": "2024-03-25T17:51:37.410060Z"
    },
    "papermill": {
     "duration": 0.010768,
     "end_time": "2024-03-25T17:51:37.411611",
     "exception": false,
     "start_time": "2024-03-25T17:51:37.400843",
     "status": "completed"
    },
    "slideshow": {
     "slide_type": ""
    },
    "tags": []
   },
   "outputs": [
    {
     "name": "stdout",
     "output_type": "stream",
     "text": [
      "soap_notes_fp = soap_note_sample1test_10415772-DS-14.csv note_id = 10415772-DS-14\n"
     ]
    }
   ],
   "source": [
    "print(\"soap_notes_fp =\", soap_notes_fp, \"note_id =\", note_id)"
   ]
  },
  {
   "cell_type": "markdown",
   "id": "8201b927-ffb6-4ec5-9e7c-6ce39b89804f",
   "metadata": {
    "editable": true,
    "papermill": {
     "duration": 0.004864,
     "end_time": "2024-03-25T17:51:37.421508",
     "exception": false,
     "start_time": "2024-03-25T17:51:37.416644",
     "status": "completed"
    },
    "slideshow": {
     "slide_type": ""
    },
    "tags": []
   },
   "source": [
    "# SOAP Note Generation\n",
    "\n",
    "This notebook performs step 1 of the Brief Hospital Course pipeline, in which we generate a SOAP note for each service based on a list of information that has been passed into a GPT-3.5 model. "
   ]
  },
  {
   "cell_type": "code",
   "execution_count": 4,
   "id": "aceb2e41-5c87-4ded-9797-74a5bf121c09",
   "metadata": {
    "editable": true,
    "execution": {
     "iopub.execute_input": "2024-03-25T17:51:37.431989Z",
     "iopub.status.busy": "2024-03-25T17:51:37.431829Z",
     "iopub.status.idle": "2024-03-25T17:51:37.446747Z",
     "shell.execute_reply": "2024-03-25T17:51:37.446374Z"
    },
    "papermill": {
     "duration": 0.021493,
     "end_time": "2024-03-25T17:51:37.447913",
     "exception": false,
     "start_time": "2024-03-25T17:51:37.426420",
     "status": "completed"
    },
    "slideshow": {
     "slide_type": ""
    },
    "tags": []
   },
   "outputs": [],
   "source": [
    "%load_ext autoreload\n",
    "%autoreload 2"
   ]
  },
  {
   "cell_type": "code",
   "execution_count": 5,
   "id": "47f4516e-b3cb-4179-982e-f783e7cc1514",
   "metadata": {
    "editable": true,
    "execution": {
     "iopub.execute_input": "2024-03-25T17:51:37.459335Z",
     "iopub.status.busy": "2024-03-25T17:51:37.458559Z",
     "iopub.status.idle": "2024-03-25T17:51:39.777049Z",
     "shell.execute_reply": "2024-03-25T17:51:39.776553Z"
    },
    "papermill": {
     "duration": 2.325658,
     "end_time": "2024-03-25T17:51:39.778600",
     "exception": false,
     "start_time": "2024-03-25T17:51:37.452942",
     "status": "completed"
    },
    "slideshow": {
     "slide_type": ""
    },
    "tags": []
   },
   "outputs": [],
   "source": [
    "import pandas as pd\n",
    "import ast\n",
    "import numpy as np\n",
    "\n",
    "from tqdm import tqdm\n",
    "# from tqdm.auto import tqdm  # for notebooks\n",
    "tqdm.pandas()\n",
    "\n",
    "import os\n",
    "import openai"
   ]
  },
  {
   "cell_type": "code",
   "execution_count": 6,
   "id": "a3beef81-0897-454d-ba25-bff5bb47fa3e",
   "metadata": {
    "execution": {
     "iopub.execute_input": "2024-03-25T17:51:39.794526Z",
     "iopub.status.busy": "2024-03-25T17:51:39.793439Z",
     "iopub.status.idle": "2024-03-25T17:51:39.821036Z",
     "shell.execute_reply": "2024-03-25T17:51:39.820606Z"
    },
    "papermill": {
     "duration": 0.03529,
     "end_time": "2024-03-25T17:51:39.822420",
     "exception": false,
     "start_time": "2024-03-25T17:51:39.787130",
     "status": "completed"
    },
    "tags": []
   },
   "outputs": [
    {
     "data": {
      "text/plain": [
       "True"
      ]
     },
     "execution_count": 6,
     "metadata": {},
     "output_type": "execute_result"
    }
   ],
   "source": [
    "from dotenv import load_dotenv\n",
    "load_dotenv()  # take environment variables from .env."
   ]
  },
  {
   "cell_type": "code",
   "execution_count": 7,
   "id": "412bcad0-1916-41ab-9387-4176baefbcb7",
   "metadata": {
    "editable": true,
    "execution": {
     "iopub.execute_input": "2024-03-25T17:51:39.834990Z",
     "iopub.status.busy": "2024-03-25T17:51:39.834066Z",
     "iopub.status.idle": "2024-03-25T17:51:39.856075Z",
     "shell.execute_reply": "2024-03-25T17:51:39.855588Z"
    },
    "papermill": {
     "duration": 0.029679,
     "end_time": "2024-03-25T17:51:39.857609",
     "exception": false,
     "start_time": "2024-03-25T17:51:39.827930",
     "status": "completed"
    },
    "slideshow": {
     "slide_type": ""
    },
    "tags": []
   },
   "outputs": [],
   "source": [
    "from preprocessing import *\n",
    "from prompt_functions import create_pt_prompt_per_day, create_pt_prompt_per_service"
   ]
  },
  {
   "cell_type": "markdown",
   "id": "b10e1a55-ff0b-4c1d-b0de-5d209e31c1cb",
   "metadata": {
    "editable": true,
    "papermill": {
     "duration": 0.005241,
     "end_time": "2024-03-25T17:51:39.868283",
     "exception": false,
     "start_time": "2024-03-25T17:51:39.863042",
     "status": "completed"
    },
    "slideshow": {
     "slide_type": ""
    },
    "tags": []
   },
   "source": [
    "## Read in Prompts"
   ]
  },
  {
   "cell_type": "code",
   "execution_count": 8,
   "id": "86a5e990-619b-4da2-a109-c0839622afeb",
   "metadata": {
    "execution": {
     "iopub.execute_input": "2024-03-25T17:51:39.880725Z",
     "iopub.status.busy": "2024-03-25T17:51:39.879711Z",
     "iopub.status.idle": "2024-03-25T17:51:39.900593Z",
     "shell.execute_reply": "2024-03-25T17:51:39.900126Z"
    },
    "papermill": {
     "duration": 0.028419,
     "end_time": "2024-03-25T17:51:39.902058",
     "exception": false,
     "start_time": "2024-03-25T17:51:39.873639",
     "status": "completed"
    },
    "tags": []
   },
   "outputs": [],
   "source": [
    "prompts = pd.read_csv(\"soap_note_prompts.csv\")"
   ]
  },
  {
   "cell_type": "markdown",
   "id": "3bed84bf-c057-48f3-82e9-aa4ca381ce39",
   "metadata": {
    "editable": true,
    "papermill": {
     "duration": 0.005328,
     "end_time": "2024-03-25T17:51:39.915857",
     "exception": false,
     "start_time": "2024-03-25T17:51:39.910529",
     "status": "completed"
    },
    "slideshow": {
     "slide_type": ""
    },
    "tags": []
   },
   "source": [
    "## Read in Radiology Reports"
   ]
  },
  {
   "cell_type": "code",
   "execution_count": 9,
   "id": "e61e5e2e-abb1-4c55-8ad4-3a021195ac56",
   "metadata": {
    "execution": {
     "iopub.execute_input": "2024-03-25T17:51:39.928126Z",
     "iopub.status.busy": "2024-03-25T17:51:39.927159Z",
     "iopub.status.idle": "2024-03-25T17:51:44.899943Z",
     "shell.execute_reply": "2024-03-25T17:51:44.899443Z"
    },
    "papermill": {
     "duration": 4.980475,
     "end_time": "2024-03-25T17:51:44.901511",
     "exception": false,
     "start_time": "2024-03-25T17:51:39.921036",
     "status": "completed"
    },
    "tags": []
   },
   "outputs": [],
   "source": [
    "radiology = pd.read_csv(\"/gpfs/milgram/project/rtaylor/shared/DischargeMe/public/train/radiology.csv.gz\")"
   ]
  },
  {
   "cell_type": "markdown",
   "id": "c2754157-fa3a-448b-9f8e-79b42c5b94dd",
   "metadata": {
    "papermill": {
     "duration": 0.005161,
     "end_time": "2024-03-25T17:51:44.916810",
     "exception": false,
     "start_time": "2024-03-25T17:51:44.911649",
     "status": "completed"
    },
    "tags": []
   },
   "source": [
    "## Read in Structured Data"
   ]
  },
  {
   "cell_type": "code",
   "execution_count": 10,
   "id": "f3d29f00-43fb-4b8a-bfac-dc45246dd6c3",
   "metadata": {
    "editable": true,
    "execution": {
     "iopub.execute_input": "2024-03-25T17:51:44.928774Z",
     "iopub.status.busy": "2024-03-25T17:51:44.927895Z",
     "iopub.status.idle": "2024-03-25T17:52:05.662564Z",
     "shell.execute_reply": "2024-03-25T17:52:05.662062Z"
    },
    "papermill": {
     "duration": 20.742119,
     "end_time": "2024-03-25T17:52:05.664098",
     "exception": false,
     "start_time": "2024-03-25T17:51:44.921979",
     "status": "completed"
    },
    "slideshow": {
     "slide_type": ""
    },
    "tags": []
   },
   "outputs": [],
   "source": [
    "###### \n",
    "# Challenge Data\n",
    "\n",
    "# discharge summaries\n",
    "discharges = pd.read_csv(\"/gpfs/milgram/project/rtaylor/shared/DischargeMe/public/train/discharge.csv.gz\")\n",
    "\n",
    "# ed stays\n",
    "edstays = pd.read_csv('/gpfs/milgram/project/rtaylor/shared/DischargeMe/public/train/edstays.csv.gz')\n",
    "\n",
    "# triage\n",
    "triage = pd.read_csv('/gpfs/milgram/project/rtaylor/shared/DischargeMe/public/train/triage.csv.gz')\n",
    "\n",
    "###### \n",
    "# MIMIC-IV Data\n",
    "\n",
    "# ward transfers\n",
    "transfers = pd.read_pickle('/gpfs/milgram/project/rtaylor/shared/DischargeMe/mimiciv/hosp/cohort_transfers.pkl')\n",
    "\n",
    "# higher-level services (ICU, CARD, etc)\n",
    "services = pd.read_pickle('/gpfs/milgram/project/rtaylor/shared/DischargeMe/mimiciv/hosp/cohort_services.pkl')\n",
    "\n",
    "# get patient info\n",
    "pts = pd.read_pickle('/gpfs/milgram/project/rtaylor/shared/DischargeMe/mimiciv/hosp/cohort_patients.pkl')\n",
    "\n",
    "# admission demographics\n",
    "admissions = pd.read_pickle('/gpfs/milgram/project/rtaylor/shared/DischargeMe/mimiciv/hosp/cohort_admissions.pkl')\n",
    "\n",
    "# procedures\n",
    "procs = pd.read_pickle('/gpfs/milgram/project/rtaylor/shared/DischargeMe/mimiciv/hosp/cohort_procedures_icd.pkl')\n",
    "\n",
    "# diagnoses\n",
    "diags = pd.read_pickle('/gpfs/milgram/project/rtaylor/shared/DischargeMe/mimiciv/hosp/cohort_diagnoses_icd.pkl')\n",
    "\n",
    "# meds\n",
    "med_orders = pd.read_pickle('/gpfs/milgram/project/rtaylor/shared/DischargeMe/mimiciv/hosp/cohort_emar.pkl')\n"
   ]
  },
  {
   "cell_type": "code",
   "execution_count": 11,
   "id": "3bd2f59c-6e0d-4943-91b5-c506b5d00448",
   "metadata": {
    "editable": true,
    "execution": {
     "iopub.execute_input": "2024-03-25T17:52:05.681365Z",
     "iopub.status.busy": "2024-03-25T17:52:05.680339Z",
     "iopub.status.idle": "2024-03-25T17:52:36.406244Z",
     "shell.execute_reply": "2024-03-25T17:52:36.405755Z"
    },
    "papermill": {
     "duration": 30.733612,
     "end_time": "2024-03-25T17:52:36.407831",
     "exception": false,
     "start_time": "2024-03-25T17:52:05.674219",
     "status": "completed"
    },
    "slideshow": {
     "slide_type": ""
    },
    "tags": []
   },
   "outputs": [],
   "source": [
    "prescriptions = pd.read_pickle('/gpfs/milgram/project/rtaylor/shared/DischargeMe/mimiciv/hosp/cohort_prescriptions.pkl')\n",
    "labs = pd.read_pickle('/gpfs/milgram/project/rtaylor/shared/DischargeMe/mimiciv/hosp/cohort_labevents.pkl')\n",
    "microbio = pd.read_pickle('/gpfs/milgram/project/rtaylor/shared/DischargeMe/mimiciv/hosp/cohort_microbiologyevents.pkl')"
   ]
  },
  {
   "cell_type": "markdown",
   "id": "634a8b4d-3160-448b-b438-98dc96af4335",
   "metadata": {
    "papermill": {
     "duration": 0.004532,
     "end_time": "2024-03-25T17:52:36.422644",
     "exception": false,
     "start_time": "2024-03-25T17:52:36.418112",
     "status": "completed"
    },
    "tags": []
   },
   "source": [
    "### Clean up/type cast data"
   ]
  },
  {
   "cell_type": "code",
   "execution_count": 12,
   "id": "d87389d5-a996-40f0-929b-dbd36ef65457",
   "metadata": {
    "execution": {
     "iopub.execute_input": "2024-03-25T17:52:36.433649Z",
     "iopub.status.busy": "2024-03-25T17:52:36.432853Z",
     "iopub.status.idle": "2024-03-25T17:52:36.701182Z",
     "shell.execute_reply": "2024-03-25T17:52:36.700703Z"
    },
    "papermill": {
     "duration": 0.275217,
     "end_time": "2024-03-25T17:52:36.702740",
     "exception": false,
     "start_time": "2024-03-25T17:52:36.427523",
     "status": "completed"
    },
    "tags": []
   },
   "outputs": [
    {
     "name": "stderr",
     "output_type": "stream",
     "text": [
      "/tmp/ipykernel_262221/85971565.py:1: FutureWarning: errors='ignore' is deprecated and will raise in a future version. Use to_numeric without passing `errors` and catch exceptions explicitly instead\n",
      "  transfers.loc['hadm_id'] = pd.to_numeric(transfers[\"hadm_id\"], errors=\"ignore\")\n"
     ]
    }
   ],
   "source": [
    "transfers.loc['hadm_id'] = pd.to_numeric(transfers[\"hadm_id\"], errors=\"ignore\")"
   ]
  },
  {
   "cell_type": "code",
   "execution_count": 13,
   "id": "3a251ee2-4e76-49ac-ba8b-66440c7c1769",
   "metadata": {
    "execution": {
     "iopub.execute_input": "2024-03-25T17:52:36.719316Z",
     "iopub.status.busy": "2024-03-25T17:52:36.718466Z",
     "iopub.status.idle": "2024-03-25T17:52:40.433716Z",
     "shell.execute_reply": "2024-03-25T17:52:40.433210Z"
    },
    "papermill": {
     "duration": 3.722936,
     "end_time": "2024-03-25T17:52:40.435316",
     "exception": false,
     "start_time": "2024-03-25T17:52:36.712380",
     "status": "completed"
    },
    "tags": []
   },
   "outputs": [],
   "source": [
    "med_orders = med_orders[~med_orders['charttime'].isna() & \n",
    "                        ~med_orders['medication'].isna() & \n",
    "                        ~med_orders['event_txt'].isna()]"
   ]
  },
  {
   "cell_type": "code",
   "execution_count": 14,
   "id": "f9f637d2-fb88-4f4e-91ec-5ce68edba838",
   "metadata": {
    "execution": {
     "iopub.execute_input": "2024-03-25T17:52:40.452293Z",
     "iopub.status.busy": "2024-03-25T17:52:40.451447Z",
     "iopub.status.idle": "2024-03-25T17:53:01.346286Z",
     "shell.execute_reply": "2024-03-25T17:53:01.345825Z"
    },
    "papermill": {
     "duration": 20.902358,
     "end_time": "2024-03-25T17:53:01.347797",
     "exception": false,
     "start_time": "2024-03-25T17:52:40.445439",
     "status": "completed"
    },
    "tags": []
   },
   "outputs": [],
   "source": [
    "procs = procs.astype({\"chartdate\":\"datetime64[ns]\"})\n",
    "med_orders = med_orders.astype({\"charttime\":\"datetime64[ns]\",\n",
    "                  \"scheduletime\":\"datetime64[ns]\",\n",
    "                  \"storetime\":\"datetime64[ns]\",})\n",
    "\n",
    "discharges = discharges.astype({\"charttime\":\"datetime64[ns]\",\n",
    "                               \"storetime\":\"datetime64[ns]\"})"
   ]
  },
  {
   "cell_type": "code",
   "execution_count": 15,
   "id": "b27d6895-105f-4a1f-8eda-9e94dcb2325f",
   "metadata": {
    "execution": {
     "iopub.execute_input": "2024-03-25T17:53:01.364559Z",
     "iopub.status.busy": "2024-03-25T17:53:01.363714Z",
     "iopub.status.idle": "2024-03-25T17:53:01.435481Z",
     "shell.execute_reply": "2024-03-25T17:53:01.435021Z"
    },
    "papermill": {
     "duration": 0.079103,
     "end_time": "2024-03-25T17:53:01.436929",
     "exception": false,
     "start_time": "2024-03-25T17:53:01.357826",
     "status": "completed"
    },
    "tags": []
   },
   "outputs": [],
   "source": [
    "edstays = edstays.astype({\"intime\":\"datetime64[ns]\",\n",
    "                         \"outtime\":\"datetime64[ns]\"})"
   ]
  },
  {
   "cell_type": "code",
   "execution_count": 16,
   "id": "a8e2a812-1cb0-4f24-89af-cf0ecdfe6097",
   "metadata": {
    "execution": {
     "iopub.execute_input": "2024-03-25T17:53:01.449297Z",
     "iopub.status.busy": "2024-03-25T17:53:01.448444Z",
     "iopub.status.idle": "2024-03-25T17:53:52.990411Z",
     "shell.execute_reply": "2024-03-25T17:53:52.989868Z"
    },
    "papermill": {
     "duration": 51.549702,
     "end_time": "2024-03-25T17:53:52.992147",
     "exception": false,
     "start_time": "2024-03-25T17:53:01.442445",
     "status": "completed"
    },
    "tags": []
   },
   "outputs": [],
   "source": [
    "prescriptions = prescriptions.astype({\"starttime\":\"datetime64[ns]\",\n",
    "                      \"stoptime\":\"datetime64[ns]\"})\n",
    "labs = labs.astype({\"charttime\":\"datetime64[ns]\",\n",
    "                      \"storetime\":\"datetime64[ns]\"})\n",
    "\n",
    "microbio = microbio.astype({\"chartdate\":\"datetime64[ns]\",\n",
    "                      \"charttime\":\"datetime64[ns]\",\n",
    "                           \"storetime\":\"datetime64[ns]\",\n",
    "                      \"charttime\":\"datetime64[ns]\"})"
   ]
  },
  {
   "cell_type": "code",
   "execution_count": 17,
   "id": "deb34385-f3b9-4216-ba67-a65d13c97449",
   "metadata": {
    "execution": {
     "iopub.execute_input": "2024-03-25T17:53:53.011363Z",
     "iopub.status.busy": "2024-03-25T17:53:53.010104Z",
     "iopub.status.idle": "2024-03-25T17:55:02.585516Z",
     "shell.execute_reply": "2024-03-25T17:55:02.585039Z"
    },
    "papermill": {
     "duration": 69.583767,
     "end_time": "2024-03-25T17:55:02.587057",
     "exception": false,
     "start_time": "2024-03-25T17:53:53.003290",
     "status": "completed"
    },
    "tags": []
   },
   "outputs": [],
   "source": [
    "# generate free text sections of tables concatenating columns\n",
    "med_orders['admin_text'] = med_orders['medication'] + \" at \" + med_orders['charttime'].dt.strftime('%B %d, %Y, %r')\n",
    "# TODO SORAYA: Add the right information in here that we actually want for the meds\n",
    "prescriptions['text'] = prescriptions['drug'] + \" \" + prescriptions['prod_strength']\n"
   ]
  },
  {
   "cell_type": "code",
   "execution_count": 18,
   "id": "d484f8d6-13cb-4d27-a0ab-3ff60ee4aee0",
   "metadata": {
    "execution": {
     "iopub.execute_input": "2024-03-25T17:55:02.603887Z",
     "iopub.status.busy": "2024-03-25T17:55:02.603049Z",
     "iopub.status.idle": "2024-03-25T17:55:56.122856Z",
     "shell.execute_reply": "2024-03-25T17:55:56.122352Z"
    },
    "papermill": {
     "duration": 53.527213,
     "end_time": "2024-03-25T17:55:56.124436",
     "exception": false,
     "start_time": "2024-03-25T17:55:02.597223",
     "status": "completed"
    },
    "tags": []
   },
   "outputs": [],
   "source": [
    "# TODO THOMAS: figure out how to better encapsulate lab values\n",
    "labs['text'] = (labs['category'].fillna(\"\") + \" \" + labs['fluid'].fillna(\"\") + \" \" \n",
    "                + labs['label'].fillna(\"\") + \": \" + labs['value'].fillna(\"\") + \" \" \n",
    "                + labs['valueuom'].fillna(\"\"))"
   ]
  },
  {
   "cell_type": "code",
   "execution_count": 19,
   "id": "41115aff-2145-4d88-93fd-cd00e690a32a",
   "metadata": {
    "editable": true,
    "execution": {
     "iopub.execute_input": "2024-03-25T17:55:56.141717Z",
     "iopub.status.busy": "2024-03-25T17:55:56.140813Z",
     "iopub.status.idle": "2024-03-25T17:55:56.632237Z",
     "shell.execute_reply": "2024-03-25T17:55:56.631746Z"
    },
    "papermill": {
     "duration": 0.499027,
     "end_time": "2024-03-25T17:55:56.633806",
     "exception": false,
     "start_time": "2024-03-25T17:55:56.134779",
     "status": "completed"
    },
    "slideshow": {
     "slide_type": ""
    },
    "tags": []
   },
   "outputs": [],
   "source": [
    "# TODO SORAYA: check for those patients that don't have comments (they might not have useful information in the test)\n",
    "microbio['text'] = microbio['test_name'].fillna(\"\") + \": \" + microbio['comments'].fillna(\"\")"
   ]
  },
  {
   "cell_type": "markdown",
   "id": "8f773b89-0263-416c-93a5-98c59087637b",
   "metadata": {
    "editable": true,
    "papermill": {
     "duration": 0.005084,
     "end_time": "2024-03-25T17:55:56.647561",
     "exception": false,
     "start_time": "2024-03-25T17:55:56.642477",
     "status": "completed"
    },
    "slideshow": {
     "slide_type": ""
    },
    "tags": []
   },
   "source": [
    "## Generate Input Data List Prompt"
   ]
  },
  {
   "cell_type": "code",
   "execution_count": 20,
   "id": "d6e5df17-0f93-4d67-9640-f2faa91a48fc",
   "metadata": {
    "execution": {
     "iopub.execute_input": "2024-03-25T17:55:56.659521Z",
     "iopub.status.busy": "2024-03-25T17:55:56.658656Z",
     "iopub.status.idle": "2024-03-25T17:55:56.682826Z",
     "shell.execute_reply": "2024-03-25T17:55:56.682416Z"
    },
    "papermill": {
     "duration": 0.031315,
     "end_time": "2024-03-25T17:55:56.684081",
     "exception": false,
     "start_time": "2024-03-25T17:55:56.652766",
     "status": "completed"
    },
    "tags": []
   },
   "outputs": [],
   "source": [
    "z = discharges[discharges['note_id'] == note_id].squeeze()"
   ]
  },
  {
   "cell_type": "code",
   "execution_count": 21,
   "id": "a77878a6-623d-45ec-8c16-e4a52944f830",
   "metadata": {
    "execution": {
     "iopub.execute_input": "2024-03-25T17:55:56.696177Z",
     "iopub.status.busy": "2024-03-25T17:55:56.695362Z",
     "iopub.status.idle": "2024-03-25T17:55:56.716388Z",
     "shell.execute_reply": "2024-03-25T17:55:56.716002Z"
    },
    "papermill": {
     "duration": 0.028104,
     "end_time": "2024-03-25T17:55:56.717592",
     "exception": false,
     "start_time": "2024-03-25T17:55:56.689488",
     "status": "completed"
    },
    "tags": []
   },
   "outputs": [
    {
     "data": {
      "text/plain": [
       "note_id                                          10415772-DS-14\n",
       "subject_id                                             10415772\n",
       "hadm_id                                                20648185\n",
       "note_type                                                    DS\n",
       "note_seq                                                     14\n",
       "charttime                                   2180-11-01 00:00:00\n",
       "storetime                                   2180-11-01 16:42:00\n",
       "text           \\nName:  ___                    Unit No:   __...\n",
       "Name: 2640, dtype: object"
      ]
     },
     "metadata": {},
     "output_type": "display_data"
    }
   ],
   "source": [
    "display(z)"
   ]
  },
  {
   "cell_type": "code",
   "execution_count": 22,
   "id": "905736ec-2cb7-4d8d-b2da-291ddeedf7f2",
   "metadata": {
    "editable": true,
    "execution": {
     "iopub.execute_input": "2024-03-25T17:55:56.729701Z",
     "iopub.status.busy": "2024-03-25T17:55:56.728892Z",
     "iopub.status.idle": "2024-03-25T17:55:56.923788Z",
     "shell.execute_reply": "2024-03-25T17:55:56.923311Z"
    },
    "papermill": {
     "duration": 0.202304,
     "end_time": "2024-03-25T17:55:56.925351",
     "exception": false,
     "start_time": "2024-03-25T17:55:56.723047",
     "status": "completed"
    },
    "slideshow": {
     "slide_type": ""
    },
    "tags": []
   },
   "outputs": [],
   "source": [
    "transfers_with_soap_notes = create_pt_prompt_per_service(z, prompts, \n",
    "                                               edstays, \n",
    "                                               pts, triage, transfers, diags, procs, prescriptions, labs, microbio)"
   ]
  },
  {
   "cell_type": "code",
   "execution_count": 23,
   "id": "5e188c9e-3d0f-458f-979c-c49180bc79f4",
   "metadata": {
    "execution": {
     "iopub.execute_input": "2024-03-25T17:55:56.941098Z",
     "iopub.status.busy": "2024-03-25T17:55:56.940232Z",
     "iopub.status.idle": "2024-03-25T17:55:56.966773Z",
     "shell.execute_reply": "2024-03-25T17:55:56.966366Z"
    },
    "papermill": {
     "duration": 0.033935,
     "end_time": "2024-03-25T17:55:56.967995",
     "exception": false,
     "start_time": "2024-03-25T17:55:56.934060",
     "status": "completed"
    },
    "tags": []
   },
   "outputs": [
    {
     "data": {
      "text/html": [
       "<div>\n",
       "<style scoped>\n",
       "    .dataframe tbody tr th:only-of-type {\n",
       "        vertical-align: middle;\n",
       "    }\n",
       "\n",
       "    .dataframe tbody tr th {\n",
       "        vertical-align: top;\n",
       "    }\n",
       "\n",
       "    .dataframe thead th {\n",
       "        text-align: right;\n",
       "    }\n",
       "</style>\n",
       "<table border=\"1\" class=\"dataframe\">\n",
       "  <thead>\n",
       "    <tr style=\"text-align: right;\">\n",
       "      <th></th>\n",
       "      <th>subject_id</th>\n",
       "      <th>hadm_id</th>\n",
       "      <th>transfer_id</th>\n",
       "      <th>eventtype</th>\n",
       "      <th>careunit</th>\n",
       "      <th>intime</th>\n",
       "      <th>outtime</th>\n",
       "      <th>service_prompts</th>\n",
       "    </tr>\n",
       "  </thead>\n",
       "  <tbody>\n",
       "    <tr>\n",
       "      <th>76105</th>\n",
       "      <td>10415772.0</td>\n",
       "      <td>20648185.0</td>\n",
       "      <td>35979851.0</td>\n",
       "      <td>ED</td>\n",
       "      <td>Emergency Department</td>\n",
       "      <td>2180-10-31 11:42:00</td>\n",
       "      <td>2180-10-31 20:10:00</td>\n",
       "      <td>___ is a 69 year old F that initially presente...</td>\n",
       "    </tr>\n",
       "    <tr>\n",
       "      <th>76104</th>\n",
       "      <td>10415772.0</td>\n",
       "      <td>20648185.0</td>\n",
       "      <td>34016963.0</td>\n",
       "      <td>admit</td>\n",
       "      <td>Med/Surg</td>\n",
       "      <td>2180-10-31 20:10:00</td>\n",
       "      <td>2180-11-01 16:36:57</td>\n",
       "      <td>___ is a 69 year old F that initially presente...</td>\n",
       "    </tr>\n",
       "    <tr>\n",
       "      <th>76103</th>\n",
       "      <td>10415772.0</td>\n",
       "      <td>20648185.0</td>\n",
       "      <td>31811597.0</td>\n",
       "      <td>discharge</td>\n",
       "      <td>NaN</td>\n",
       "      <td>2180-11-01 16:36:57</td>\n",
       "      <td>NaN</td>\n",
       "      <td></td>\n",
       "    </tr>\n",
       "  </tbody>\n",
       "</table>\n",
       "</div>"
      ],
      "text/plain": [
       "       subject_id     hadm_id  transfer_id  eventtype              careunit  \\\n",
       "76105  10415772.0  20648185.0   35979851.0         ED  Emergency Department   \n",
       "76104  10415772.0  20648185.0   34016963.0      admit              Med/Surg   \n",
       "76103  10415772.0  20648185.0   31811597.0  discharge                   NaN   \n",
       "\n",
       "                    intime              outtime  \\\n",
       "76105  2180-10-31 11:42:00  2180-10-31 20:10:00   \n",
       "76104  2180-10-31 20:10:00  2180-11-01 16:36:57   \n",
       "76103  2180-11-01 16:36:57                  NaN   \n",
       "\n",
       "                                         service_prompts  \n",
       "76105  ___ is a 69 year old F that initially presente...  \n",
       "76104  ___ is a 69 year old F that initially presente...  \n",
       "76103                                                     "
      ]
     },
     "metadata": {},
     "output_type": "display_data"
    }
   ],
   "source": [
    "display(transfers_with_soap_notes)"
   ]
  },
  {
   "cell_type": "markdown",
   "id": "75bc770f-6381-460c-ac06-d72074822ce8",
   "metadata": {
    "papermill": {
     "duration": 0.005264,
     "end_time": "2024-03-25T17:55:56.978918",
     "exception": false,
     "start_time": "2024-03-25T17:55:56.973654",
     "status": "completed"
    },
    "tags": []
   },
   "source": [
    "## Create SOAP notes from GPT API"
   ]
  },
  {
   "cell_type": "code",
   "execution_count": 24,
   "id": "245df893-0d7a-47d1-9c7c-11cdfee44a6e",
   "metadata": {
    "editable": true,
    "execution": {
     "iopub.execute_input": "2024-03-25T17:55:56.991241Z",
     "iopub.status.busy": "2024-03-25T17:55:56.990418Z",
     "iopub.status.idle": "2024-03-25T17:55:57.009363Z",
     "shell.execute_reply": "2024-03-25T17:55:57.008967Z"
    },
    "papermill": {
     "duration": 0.026213,
     "end_time": "2024-03-25T17:55:57.010589",
     "exception": false,
     "start_time": "2024-03-25T17:55:56.984376",
     "status": "completed"
    },
    "slideshow": {
     "slide_type": ""
    },
    "tags": []
   },
   "outputs": [],
   "source": [
    "import openai\n",
    "openai.api_type = \"azure\"\n",
    "openai.api_base = os.getenv(\"OPENAI_API_BASE\")\n",
    "openai.api_version = \"2023-07-01-preview\"\n",
    "openai.api_key = os.getenv(\"OPENAI_API_KEY\")\n",
    "engine = \"decile-gpt-35-turbo-16k\"\n"
   ]
  },
  {
   "cell_type": "code",
   "execution_count": 25,
   "id": "2e33987e-600d-48c7-8a38-50c368a8ab85",
   "metadata": {
    "execution": {
     "iopub.execute_input": "2024-03-25T17:55:57.022795Z",
     "iopub.status.busy": "2024-03-25T17:55:57.021982Z",
     "iopub.status.idle": "2024-03-25T17:55:57.040888Z",
     "shell.execute_reply": "2024-03-25T17:55:57.040498Z"
    },
    "papermill": {
     "duration": 0.026053,
     "end_time": "2024-03-25T17:55:57.042104",
     "exception": false,
     "start_time": "2024-03-25T17:55:57.016051",
     "status": "completed"
    },
    "tags": []
   },
   "outputs": [],
   "source": [
    "# drop all eventtypes of type: discharge, since we don't need a note for that\n",
    "transfers_with_soap_notes = transfers_with_soap_notes[transfers_with_soap_notes['eventtype'] != \"discharge\"]"
   ]
  },
  {
   "cell_type": "code",
   "execution_count": 26,
   "id": "ccda464c-45c5-486c-812c-5c1e54b35de0",
   "metadata": {
    "editable": true,
    "execution": {
     "iopub.execute_input": "2024-03-25T17:55:57.057302Z",
     "iopub.status.busy": "2024-03-25T17:55:57.056494Z",
     "iopub.status.idle": "2024-03-25T17:55:57.076768Z",
     "shell.execute_reply": "2024-03-25T17:55:57.076365Z"
    },
    "papermill": {
     "duration": 0.027478,
     "end_time": "2024-03-25T17:55:57.077989",
     "exception": false,
     "start_time": "2024-03-25T17:55:57.050511",
     "status": "completed"
    },
    "slideshow": {
     "slide_type": ""
    },
    "tags": []
   },
   "outputs": [],
   "source": [
    "gpt_inputs = []\n",
    "for _, row in transfers_with_soap_notes.iterrows():\n",
    "    system_role = prompts.loc[prompts['prompt_name'] == 'SOAP_system_message', \"prompt\"].squeeze()\n",
    "    system_role = system_role.replace(r\"{{ward}}\", row['careunit'])\n",
    "    message_text = [{\"role\":\"system\",\"content\":system_role}]\n",
    "    \n",
    "    gpt_service_prompt = {\"role\":\"user\",\n",
    "                     \"content\":row['service_prompts']}\n",
    "    \n",
    "    message_text.append(gpt_service_prompt)\n",
    "    \n",
    "    # print(f\"Deprescribe Prompt: {message_text}\")\n",
    "    gpt_inputs.append(message_text)"
   ]
  },
  {
   "cell_type": "code",
   "execution_count": 27,
   "id": "a76f779f-abf8-4e94-8f09-76b90d4d631f",
   "metadata": {
    "execution": {
     "iopub.execute_input": "2024-03-25T17:55:57.090268Z",
     "iopub.status.busy": "2024-03-25T17:55:57.089467Z",
     "iopub.status.idle": "2024-03-25T17:56:27.080101Z",
     "shell.execute_reply": "2024-03-25T17:56:27.079485Z"
    },
    "papermill": {
     "duration": 29.998163,
     "end_time": "2024-03-25T17:56:27.081645",
     "exception": false,
     "start_time": "2024-03-25T17:55:57.083482",
     "status": "completed"
    },
    "tags": []
   },
   "outputs": [],
   "source": [
    "completions = []\n",
    "for input in gpt_inputs:\n",
    "    completion = openai.ChatCompletion.create(\n",
    "      engine=engine,\n",
    "      messages = input,\n",
    "    )\n",
    "    completions.append(completion['choices'][0]['message']['content'])"
   ]
  },
  {
   "cell_type": "markdown",
   "id": "8b1d3913",
   "metadata": {
    "tags": [
     "papermill-error-cell-tag"
    ]
   },
   "source": [
    "<span id=\"papermill-error-cell\" style=\"color:red; font-family:Helvetica Neue, Helvetica, Arial, sans-serif; font-size:2em;\">Execution using papermill encountered an exception here and stopped:</span>"
   ]
  },
  {
   "cell_type": "code",
   "execution_count": 28,
   "id": "2b67b886-e525-477f-8989-b68a8d60b3be",
   "metadata": {
    "execution": {
     "iopub.execute_input": "2024-03-25T17:56:27.097979Z",
     "iopub.status.busy": "2024-03-25T17:56:27.097794Z",
     "iopub.status.idle": "2024-03-25T17:56:27.440553Z",
     "shell.execute_reply": "2024-03-25T17:56:27.439260Z"
    },
    "papermill": {
     "duration": 0.349492,
     "end_time": "2024-03-25T17:56:27.441351",
     "exception": true,
     "start_time": "2024-03-25T17:56:27.091859",
     "status": "failed"
    },
    "tags": []
   },
   "outputs": [
    {
     "ename": "NameError",
     "evalue": "name 'service_prompts' is not defined",
     "output_type": "error",
     "traceback": [
      "\u001b[0;31m---------------------------------------------------------------------------\u001b[0m",
      "\u001b[0;31mNameError\u001b[0m                                 Traceback (most recent call last)",
      "Cell \u001b[0;32mIn[28], line 1\u001b[0m\n\u001b[0;32m----> 1\u001b[0m \u001b[43mservice_prompts\u001b[49m[\u001b[38;5;124m'\u001b[39m\u001b[38;5;124mgpt_SOAP_note\u001b[39m\u001b[38;5;124m'\u001b[39m] \u001b[38;5;241m=\u001b[39m completions\n",
      "\u001b[0;31mNameError\u001b[0m: name 'service_prompts' is not defined"
     ]
    }
   ],
   "source": [
    "transfers_with_soap_notes['gpt_SOAP_note'] = completions"
   ]
  },
  {
   "cell_type": "code",
   "execution_count": null,
   "id": "dca64878-2b22-4e73-a80d-c1291c982a11",
   "metadata": {
    "editable": true,
    "papermill": {
     "duration": null,
     "end_time": null,
     "exception": null,
     "start_time": null,
     "status": "pending"
    },
    "slideshow": {
     "slide_type": ""
    },
    "tags": []
   },
   "outputs": [],
   "source": [
    "transfers_with_soap_notes.to_csv(soap_notes_fp)"
   ]
  },
  {
   "cell_type": "code",
   "execution_count": null,
   "id": "a6f76b83-56ea-475f-afa6-18b3afaefd75",
   "metadata": {
    "papermill": {
     "duration": null,
     "end_time": null,
     "exception": null,
     "start_time": null,
     "status": "pending"
    },
    "tags": []
   },
   "outputs": [],
   "source": []
  }
 ],
 "metadata": {
  "kernelspec": {
   "display_name": "Python 3 (ipykernel)",
   "language": "python",
   "name": "python3"
  },
  "language_info": {
   "codemirror_mode": {
    "name": "ipython",
    "version": 3
   },
   "file_extension": ".py",
   "mimetype": "text/x-python",
   "name": "python",
   "nbconvert_exporter": "python",
   "pygments_lexer": "ipython3",
   "version": "3.10.13"
  },
  "papermill": {
   "default_parameters": {},
   "duration": 294.84658,
   "end_time": "2024-03-25T17:56:30.570020",
   "environment_variables": {},
   "exception": true,
   "input_path": "Step1_SOAP_Note_Generation.ipynb",
   "output_path": "Step1_SOAP_Note_Generation.ipynb",
   "parameters": {
    "note_id": "10415772-DS-14",
    "soap_notes_fp": "soap_note_sample1test_10415772-DS-14.csv"
   },
   "start_time": "2024-03-25T17:51:35.723440",
   "version": "2.5.0"
  },
  "widgets": {
   "application/vnd.jupyter.widget-state+json": {
    "state": {},
    "version_major": 2,
    "version_minor": 0
   }
  }
 },
 "nbformat": 4,
 "nbformat_minor": 5
}
