{
 "cells": [
  {
   "cell_type": "code",
   "execution_count": 1,
   "id": "89f6f9bd-ffb3-456c-9195-926aa168e1a6",
   "metadata": {
    "editable": true,
    "slideshow": {
     "slide_type": ""
    },
    "tags": [
     "parameters"
    ]
   },
   "outputs": [],
   "source": [
    "output = \"sample_output2.csv\""
   ]
  },
  {
   "cell_type": "markdown",
   "id": "8201b927-ffb6-4ec5-9e7c-6ce39b89804f",
   "metadata": {
    "editable": true,
    "slideshow": {
     "slide_type": ""
    },
    "tags": []
   },
   "source": [
    "# SOAP Note Generation\n",
    "\n",
    "This notebook performs step 1 of the Brief Hospital Course pipeline, in which we generate a SOAP note for each service based on a list of information that has been passed into a GPT-3.5 model. "
   ]
  },
  {
   "cell_type": "code",
   "execution_count": 34,
   "id": "aceb2e41-5c87-4ded-9797-74a5bf121c09",
   "metadata": {},
   "outputs": [],
   "source": [
    "%load_ext autoreload\n",
    "%autoreload 2"
   ]
  },
  {
   "cell_type": "code",
   "execution_count": 35,
   "id": "47f4516e-b3cb-4179-982e-f783e7cc1514",
   "metadata": {
    "editable": true,
    "slideshow": {
     "slide_type": ""
    },
    "tags": []
   },
   "outputs": [],
   "source": [
    "import pandas as pd\n",
    "import ast\n",
    "import numpy as np\n",
    "\n",
    "from tqdm import tqdm\n",
    "# from tqdm.auto import tqdm  # for notebooks\n",
    "tqdm.pandas()\n",
    "\n",
    "import os\n",
    "import openai"
   ]
  },
  {
   "cell_type": "code",
   "execution_count": 36,
   "id": "a3beef81-0897-454d-ba25-bff5bb47fa3e",
   "metadata": {},
   "outputs": [
    {
     "data": {
      "text/plain": [
       "True"
      ]
     },
     "execution_count": 36,
     "metadata": {},
     "output_type": "execute_result"
    }
   ],
   "source": [
    "from dotenv import load_dotenv\n",
    "load_dotenv()  # take environment variables from .env."
   ]
  },
  {
   "cell_type": "code",
   "execution_count": 37,
   "id": "412bcad0-1916-41ab-9387-4176baefbcb7",
   "metadata": {},
   "outputs": [],
   "source": [
    "from preprocessing import *"
   ]
  },
  {
   "cell_type": "code",
   "execution_count": 38,
   "id": "7a4edfef-c890-4257-87a9-d7a42d363d08",
   "metadata": {},
   "outputs": [],
   "source": [
    "N = 5"
   ]
  },
  {
   "cell_type": "markdown",
   "id": "3bed84bf-c057-48f3-82e9-aa4ca381ce39",
   "metadata": {},
   "source": [
    "## Read in Radiology Reports"
   ]
  },
  {
   "cell_type": "code",
   "execution_count": 6,
   "id": "e61e5e2e-abb1-4c55-8ad4-3a021195ac56",
   "metadata": {},
   "outputs": [],
   "source": [
    "radiology = pd.read_csv(\"/gpfs/milgram/project/rtaylor/shared/DischargeMe/public/train/radiology.csv.gz\")"
   ]
  },
  {
   "cell_type": "markdown",
   "id": "c2754157-fa3a-448b-9f8e-79b42c5b94dd",
   "metadata": {},
   "source": [
    "## Read in Structured Data"
   ]
  },
  {
   "cell_type": "code",
   "execution_count": 7,
   "id": "f3d29f00-43fb-4b8a-bfac-dc45246dd6c3",
   "metadata": {},
   "outputs": [],
   "source": [
    "# discharge summaries\n",
    "discharges = pd.read_csv(\"/gpfs/milgram/project/rtaylor/shared/DischargeMe/public/train/discharge.csv.gz\")\n",
    "\n",
    "# ed stays\n",
    "edstays = pd.read_csv('/gpfs/milgram/project/rtaylor/shared/DischargeMe/public/train/edstays.csv.gz')\n",
    "\n",
    "# triage\n",
    "triage = pd.read_csv('/gpfs/milgram/project/rtaylor/shared/DischargeMe/public/train/triage.csv.gz')\n",
    "\n",
    "# ward transfers\n",
    "transfers = pd.read_csv('/gpfs/milgram/project/rtaylor/shared/DischargeMe/mimiciv/hosp/transfers.csv.gz')\n",
    "\n",
    "# higher-level services (ICU, CARD, etc)\n",
    "services = pd.read_csv('/gpfs/milgram/project/rtaylor/shared/DischargeMe/mimiciv/hosp/services.csv.gz')\n",
    "\n",
    "# get patient info\n",
    "pts = pd.read_csv('/gpfs/milgram/project/rtaylor/shared/DischargeMe/mimiciv/hosp/patients.csv.gz')\n",
    "\n",
    "# admission demographics\n",
    "admissions = pd.read_csv('/gpfs/milgram/project/rtaylor/shared/DischargeMe/mimiciv/hosp/admissions.csv.gz')\n",
    "\n",
    "# procedures\n",
    "procs = pd.read_csv('/gpfs/milgram/project/rtaylor/shared/DischargeMe/mimiciv/hosp/procedures_icd.csv.gz')\n",
    "procs_icd = pd.read_csv('/gpfs/milgram/project/rtaylor/shared/DischargeMe/mimiciv/hosp/d_icd_procedures.csv.gz')\n",
    "\n",
    "# diagnoses\n",
    "diags = pd.read_csv('/gpfs/milgram/project/rtaylor/shared/DischargeMe/mimiciv/hosp/diagnoses_icd.csv.gz')\n",
    "diags_icd = pd.read_csv('/gpfs/milgram/project/rtaylor/shared/DischargeMe/mimiciv/hosp/d_icd_diagnoses.csv.gz')\n",
    "\n",
    "# meds\n",
    "med_orders = pd.read_csv('/gpfs/milgram/project/rtaylor/shared/DischargeMe/mimiciv/hosp/emar.csv.gz')\n"
   ]
  },
  {
   "cell_type": "code",
   "execution_count": 8,
   "id": "a0efc978-2fcf-4ef2-8d72-10a90c5218f7",
   "metadata": {},
   "outputs": [],
   "source": [
    "\n",
    "# # procedures\n",
    "# procs = pd.read_csv('/gpfs/milgram/project/rtaylor/shared/DischargeMe/mimiciv/hosp/procedures_icd.csv.gz')\n",
    "# procs_icd = pd.read_csv('/gpfs/milgram/project/rtaylor/shared/DischargeMe/mimiciv/hosp/d_icd_procedures.csv.gz')\n",
    "\n",
    "# # diagnoses\n",
    "# diags = pd.read_csv('/gpfs/milgram/project/rtaylor/shared/DischargeMe/mimiciv/hosp/diagnoses_icd.csv.gz')\n",
    "# diags_icd = pd.read_csv('/gpfs/milgram/project/rtaylor/shared/DischargeMe/mimiciv/hosp/d_icd_diagnoses.csv.gz')\n"
   ]
  },
  {
   "cell_type": "code",
   "execution_count": 9,
   "id": "3bd2f59c-6e0d-4943-91b5-c506b5d00448",
   "metadata": {},
   "outputs": [
    {
     "name": "stderr",
     "output_type": "stream",
     "text": [
      "/tmp/ipykernel_3969003/295397496.py:1: DtypeWarning: Columns (11) have mixed types. Specify dtype option on import or set low_memory=False.\n",
      "  prescriptions = pd.read_csv('/gpfs/milgram/project/rtaylor/shared/DischargeMe/mimiciv/hosp/prescriptions.csv.gz')\n",
      "/tmp/ipykernel_3969003/295397496.py:3: DtypeWarning: Columns (17) have mixed types. Specify dtype option on import or set low_memory=False.\n",
      "  microbio = pd.read_csv('/gpfs/milgram/project/rtaylor/shared/DischargeMe/mimiciv/hosp/microbiologyevents.csv.gz')\n"
     ]
    }
   ],
   "source": [
    "prescriptions = pd.read_csv('/gpfs/milgram/project/rtaylor/shared/DischargeMe/mimiciv/hosp/prescriptions.csv.gz')\n",
    "labs = pd.read_csv('/gpfs/milgram/project/rtaylor/shared/DischargeMe/mimiciv/hosp/labevents.csv.gz')\n",
    "microbio = pd.read_csv('/gpfs/milgram/project/rtaylor/shared/DischargeMe/mimiciv/hosp/microbiologyevents.csv.gz')"
   ]
  },
  {
   "cell_type": "code",
   "execution_count": 10,
   "id": "065746c8-45df-40f4-88ee-235ecdb6f077",
   "metadata": {},
   "outputs": [],
   "source": [
    "labs_icd = pd.read_csv(\"/gpfs/milgram/project/rtaylor/shared/DischargeMe/mimiciv/hosp/d_labitems.csv.gz\")"
   ]
  },
  {
   "cell_type": "code",
   "execution_count": 11,
   "id": "d96d2771-0d46-43ab-a441-7396cf6d1fbf",
   "metadata": {},
   "outputs": [],
   "source": [
    "labs = labs.merge(labs_icd, on=\"itemid\", how=\"left\")"
   ]
  },
  {
   "cell_type": "markdown",
   "id": "634a8b4d-3160-448b-b438-98dc96af4335",
   "metadata": {},
   "source": [
    "### Clean up/type cast data"
   ]
  },
  {
   "cell_type": "code",
   "execution_count": 12,
   "id": "3a251ee2-4e76-49ac-ba8b-66440c7c1769",
   "metadata": {},
   "outputs": [],
   "source": [
    "med_orders = med_orders[~med_orders['charttime'].isna() & \n",
    "                        ~med_orders['medication'].isna() & \n",
    "                        ~med_orders['event_txt'].isna()]"
   ]
  },
  {
   "cell_type": "code",
   "execution_count": 13,
   "id": "f9f637d2-fb88-4f4e-91ec-5ce68edba838",
   "metadata": {},
   "outputs": [],
   "source": [
    "procs = procs.astype({\"chartdate\":\"datetime64[ns]\"})\n",
    "med_orders = med_orders.astype({\"charttime\":\"datetime64[ns]\",\n",
    "                  \"scheduletime\":\"datetime64[ns]\",\n",
    "                  \"storetime\":\"datetime64[ns]\",})\n",
    "\n",
    "discharges = discharges.astype({\"charttime\":\"datetime64[ns]\",\n",
    "                               \"storetime\":\"datetime64[ns]\"})"
   ]
  },
  {
   "cell_type": "code",
   "execution_count": 14,
   "id": "a8e2a812-1cb0-4f24-89af-cf0ecdfe6097",
   "metadata": {},
   "outputs": [],
   "source": [
    "prescriptions = prescriptions.astype({\"starttime\":\"datetime64[ns]\",\n",
    "                      \"stoptime\":\"datetime64[ns]\"})\n",
    "labs = labs.astype({\"charttime\":\"datetime64[ns]\",\n",
    "                      \"storetime\":\"datetime64[ns]\"})\n",
    "\n",
    "microbio = microbio.astype({\"chartdate\":\"datetime64[ns]\",\n",
    "                      \"charttime\":\"datetime64[ns]\",\n",
    "                           \"storetime\":\"datetime64[ns]\",\n",
    "                      \"charttime\":\"datetime64[ns]\"})"
   ]
  },
  {
   "cell_type": "code",
   "execution_count": 15,
   "id": "31a9fe0f-66b9-494c-979c-222870026ad3",
   "metadata": {},
   "outputs": [],
   "source": [
    "# drop any potential repeats\n",
    "procs_icd = procs_icd.groupby([\"icd_code\", \"icd_version\"]).first().reset_index()\n",
    "diags_icd = diags_icd.groupby([\"icd_code\", \"icd_version\"]).first().reset_index()"
   ]
  },
  {
   "cell_type": "code",
   "execution_count": 16,
   "id": "1e386567-6250-4f4c-ad5f-de0ca33c9fdc",
   "metadata": {},
   "outputs": [],
   "source": [
    "# grab long_titles for procs/diags\n",
    "procs = procs.merge(procs_icd, on=[\"icd_code\", \"icd_version\"], how=\"left\")\n",
    "diags = diags.merge(diags_icd, on=[\"icd_code\", \"icd_version\"], how=\"left\")"
   ]
  },
  {
   "cell_type": "markdown",
   "id": "48101bf9-6b84-4e65-97c8-7aac60b57e13",
   "metadata": {},
   "source": [
    "\n",
    "### Define Extraction Functions"
   ]
  },
  {
   "cell_type": "code",
   "execution_count": 17,
   "id": "deb34385-f3b9-4216-ba67-a65d13c97449",
   "metadata": {},
   "outputs": [],
   "source": [
    "# generate free text sections of tables concatenating columns\n",
    "med_orders['admin_text'] = med_orders['medication'] + \" at \" + med_orders['charttime'].dt.strftime('%B %d, %Y, %r')\n",
    "# TODO SORAYA: Add the right information in here that we actually want for the meds\n",
    "prescriptions['text'] = prescriptions['drug'] + \" \" + prescriptions['prod_strength']\n"
   ]
  },
  {
   "cell_type": "code",
   "execution_count": 18,
   "id": "96b07f8e-7f75-4151-ae67-baf7aa9db539",
   "metadata": {},
   "outputs": [
    {
     "data": {
      "text/html": [
       "<div>\n",
       "<style scoped>\n",
       "    .dataframe tbody tr th:only-of-type {\n",
       "        vertical-align: middle;\n",
       "    }\n",
       "\n",
       "    .dataframe tbody tr th {\n",
       "        vertical-align: top;\n",
       "    }\n",
       "\n",
       "    .dataframe thead th {\n",
       "        text-align: right;\n",
       "    }\n",
       "</style>\n",
       "<table border=\"1\" class=\"dataframe\">\n",
       "  <thead>\n",
       "    <tr style=\"text-align: right;\">\n",
       "      <th></th>\n",
       "      <th>subject_id</th>\n",
       "      <th>hadm_id</th>\n",
       "      <th>pharmacy_id</th>\n",
       "      <th>poe_id</th>\n",
       "      <th>poe_seq</th>\n",
       "      <th>order_provider_id</th>\n",
       "      <th>starttime</th>\n",
       "      <th>stoptime</th>\n",
       "      <th>drug_type</th>\n",
       "      <th>drug</th>\n",
       "      <th>formulary_drug_cd</th>\n",
       "      <th>gsn</th>\n",
       "      <th>ndc</th>\n",
       "      <th>prod_strength</th>\n",
       "      <th>form_rx</th>\n",
       "      <th>dose_val_rx</th>\n",
       "      <th>dose_unit_rx</th>\n",
       "      <th>form_val_disp</th>\n",
       "      <th>form_unit_disp</th>\n",
       "      <th>doses_per_24_hrs</th>\n",
       "      <th>route</th>\n",
       "      <th>text</th>\n",
       "    </tr>\n",
       "  </thead>\n",
       "  <tbody>\n",
       "    <tr>\n",
       "      <th>6026403</th>\n",
       "      <td>13901573</td>\n",
       "      <td>26791489</td>\n",
       "      <td>64120137</td>\n",
       "      <td>13901573-666</td>\n",
       "      <td>666.0</td>\n",
       "      <td>P30P24</td>\n",
       "      <td>2162-09-02 21:00:00</td>\n",
       "      <td>2162-09-03 22:00:00</td>\n",
       "      <td>MAIN</td>\n",
       "      <td>Glucose Gel</td>\n",
       "      <td>GLUCOSEGEL</td>\n",
       "      <td>001781</td>\n",
       "      <td>3.839606e+10</td>\n",
       "      <td>15 g Tube</td>\n",
       "      <td>NaN</td>\n",
       "      <td>15</td>\n",
       "      <td>g</td>\n",
       "      <td>1</td>\n",
       "      <td>TUBE</td>\n",
       "      <td>NaN</td>\n",
       "      <td>PO</td>\n",
       "      <td>Glucose Gel 15 g Tube</td>\n",
       "    </tr>\n",
       "    <tr>\n",
       "      <th>1016827</th>\n",
       "      <td>10680429</td>\n",
       "      <td>20834032</td>\n",
       "      <td>27094241</td>\n",
       "      <td>10680429-145</td>\n",
       "      <td>145.0</td>\n",
       "      <td>P363MT</td>\n",
       "      <td>2172-10-06 08:00:00</td>\n",
       "      <td>2172-10-06 18:00:00</td>\n",
       "      <td>MAIN</td>\n",
       "      <td>Amlodipine</td>\n",
       "      <td>AMLO25</td>\n",
       "      <td>016925</td>\n",
       "      <td>5.107905e+10</td>\n",
       "      <td>2.5mg Tablet</td>\n",
       "      <td>NaN</td>\n",
       "      <td>2.5</td>\n",
       "      <td>mg</td>\n",
       "      <td>1</td>\n",
       "      <td>TAB</td>\n",
       "      <td>1.0</td>\n",
       "      <td>PO/NG</td>\n",
       "      <td>Amlodipine 2.5mg Tablet</td>\n",
       "    </tr>\n",
       "  </tbody>\n",
       "</table>\n",
       "</div>"
      ],
      "text/plain": [
       "         subject_id   hadm_id  pharmacy_id        poe_id  poe_seq  \\\n",
       "6026403    13901573  26791489     64120137  13901573-666    666.0   \n",
       "1016827    10680429  20834032     27094241  10680429-145    145.0   \n",
       "\n",
       "        order_provider_id           starttime            stoptime drug_type  \\\n",
       "6026403            P30P24 2162-09-02 21:00:00 2162-09-03 22:00:00      MAIN   \n",
       "1016827            P363MT 2172-10-06 08:00:00 2172-10-06 18:00:00      MAIN   \n",
       "\n",
       "                drug formulary_drug_cd     gsn           ndc prod_strength  \\\n",
       "6026403  Glucose Gel        GLUCOSEGEL  001781  3.839606e+10     15 g Tube   \n",
       "1016827   Amlodipine            AMLO25  016925  5.107905e+10  2.5mg Tablet   \n",
       "\n",
       "        form_rx dose_val_rx dose_unit_rx form_val_disp form_unit_disp  \\\n",
       "6026403     NaN          15            g             1           TUBE   \n",
       "1016827     NaN         2.5           mg             1            TAB   \n",
       "\n",
       "         doses_per_24_hrs  route                     text  \n",
       "6026403               NaN     PO    Glucose Gel 15 g Tube  \n",
       "1016827               1.0  PO/NG  Amlodipine 2.5mg Tablet  "
      ]
     },
     "metadata": {},
     "output_type": "display_data"
    }
   ],
   "source": [
    "with pd.option_context(\"display.max_columns\", None):\n",
    "    display(prescriptions.sample(2))"
   ]
  },
  {
   "cell_type": "code",
   "execution_count": 19,
   "id": "d484f8d6-13cb-4d27-a0ab-3ff60ee4aee0",
   "metadata": {},
   "outputs": [],
   "source": [
    "# TODO THOMAS: figure out how to better encapsulate lab values\n",
    "labs['text'] = labs['category'] + \" \" + labs['fluid'] + \" \" + labs['label'] + \": \" + labs['value'] + \" \" + labs['valueuom']"
   ]
  },
  {
   "cell_type": "code",
   "execution_count": 20,
   "id": "41115aff-2145-4d88-93fd-cd00e690a32a",
   "metadata": {},
   "outputs": [],
   "source": [
    "# TODO SORAYA: check for those patients that don't have comments (they might not have useful information in the test)\n",
    "microbio['text'] = microbio['test_name'] + \": \" + microbio['comments']"
   ]
  },
  {
   "cell_type": "code",
   "execution_count": 21,
   "id": "eab40499-9b75-47ca-9730-75c7e918ce40",
   "metadata": {},
   "outputs": [
    {
     "data": {
      "text/plain": [
       "microevent_id                0\n",
       "subject_id                   0\n",
       "hadm_id                1830396\n",
       "micro_specimen_id            0\n",
       "order_provider_id      2272201\n",
       "chartdate                    0\n",
       "charttime               257699\n",
       "spec_itemid                  0\n",
       "spec_type_desc               1\n",
       "test_seq                     0\n",
       "storedate                12251\n",
       "storetime                25186\n",
       "test_itemid                  0\n",
       "test_name                    0\n",
       "org_itemid             1942044\n",
       "org_name               1942044\n",
       "isolate_num            1942044\n",
       "quantity               3228683\n",
       "ab_itemid              2121435\n",
       "ab_name                2121435\n",
       "dilution_text          2148780\n",
       "dilution_comparison    2149420\n",
       "dilution_value         2149420\n",
       "interpretation         2121435\n",
       "comments                990931\n",
       "text                    990931\n",
       "dtype: int64"
      ]
     },
     "execution_count": 21,
     "metadata": {},
     "output_type": "execute_result"
    }
   ],
   "source": [
    "microbio.isna().sum()"
   ]
  },
  {
   "cell_type": "code",
   "execution_count": null,
   "id": "c794836e-7082-4e5c-82df-3bcd18d86431",
   "metadata": {},
   "outputs": [],
   "source": []
  },
  {
   "cell_type": "code",
   "execution_count": 42,
   "id": "a2c8bca7-07a4-4dd6-8a69-1c69f57ba185",
   "metadata": {},
   "outputs": [],
   "source": [
    "def create_pt_prompt_per_service(discharge_row, demos_in, triage_in, transfers_in, diags_in, procs_in, prescriptions_in, labs_in, microbio_in):\n",
    "\n",
    "    demos = get_demos(discharge_row['subject_id'], demos_in)\n",
    "    if demos.empty:\n",
    "        age = r\"[UNKNOWN AGE]\"\n",
    "        sex = r\"[UNKNOWN SEX]\"\n",
    "    else:\n",
    "        age = demos['anchor_age']\n",
    "        sex = demos['gender']\n",
    "\n",
    "    pt_edstays = edstays[edstays['hadm_id'] == discharge_row['hadm_id']]\n",
    "\n",
    "    ccs = []\n",
    "    for stay_id in pt_edstays['stay_id'].tolist():\n",
    "        triage_info = get_triage_info(stay_id, triage_in)\n",
    "        ccs.append(triage_info['chiefcomplaint'].squeeze())\n",
    "        \n",
    "    chief_complaints = \", \".join(ccs)\n",
    "\n",
    "    if sex:\n",
    "        pronoun = [\"he\",\"his\"] if sex == \"M\" else ['she',\"her\"]\n",
    "    else:\n",
    "        pronoun = [\"they\", \"their\"]\n",
    "\n",
    "    # transfers with dates\n",
    "    transfers = get_transfers(discharge_row['hadm_id'], transfers_in)\n",
    "\n",
    "    # get stay admission diagnoses\n",
    "    diags = get_diags(discharge_row['hadm_id'], diags_in)\n",
    "\n",
    "    init_prompt = f\"___ is a {age} year old {sex} that initially presented to the ED with {chief_complaints}. By the end of {pronoun[1]} hospital stay, {pronoun[0]} was given the following diagnoses: {', '.join(diags['long_title'])} in order of importance to this admission. \"\n",
    "    transfer_service_prompts = []\n",
    "\n",
    "    for index, row in transfers.iterrows():\n",
    "        if row['eventtype'] == \"discharge\":\n",
    "             transfer_service_prompts.append(\"\")\n",
    "        else:\n",
    "            procs = get_procs_within_service(discharge_row['hadm_id'], row, procs_in)\n",
    "            # med_orders = get_med_orders_within_service(discharge_row['hadm_id'], row)\n",
    "            prescriptions = get_prescriptions_within_service(discharge_row['hadm_id'], row, prescriptions_in)\n",
    "            labs = get_labs_within_service(discharge_row['hadm_id'], row, labs_in)\n",
    "            microbio = get_microbio_within_service(discharge_row['hadm_id'], row, microbio_in)\n",
    "            \n",
    "            within_service_prompt = f\"The patient was transferred and stayed in the {row['careunit']} ward between {row['intime']} and {row['outtime']}. ___ received the following procedures (ordered by priority): {', '.join(procs['long_title'].tolist())}. \\n------------------------\\n{pronoun[0]} also received the following medications (ordered chronologically) during the service: {', '.join(prescriptions['text'].tolist())}. \\n------------------------\\nThe following labs were also drawn during the service: {', '.join(labs['text'].tolist())}. \\n------------------------\\nThe physician also ordered the following microbiology cultures during the service: {', '.join(microbio['text'].tolist())}. \"\n",
    "            \n",
    "            full_prompt = init_prompt + within_service_prompt + f\"Given this information, please generate a progress note for this patient for their care during this part of their hospital course staying in the {row['careunit']} ward. Be SPECIFIC to the conditions, any abnormal labs, vitals, or procedures that were conducted, and significant medications as they relate to the hospital course.\"\n",
    "            transfer_service_prompts.append(full_prompt)\n",
    "\n",
    "    transfers['service_prompts'] = transfer_service_prompts\n",
    "    \n",
    "    return transfers\n",
    "    \n"
   ]
  },
  {
   "cell_type": "code",
   "execution_count": 29,
   "id": "2e1dbbda-36b6-4756-84c0-6a5eff81bd7b",
   "metadata": {},
   "outputs": [],
   "source": [
    "def create_pt_prompt_per_day(discharge_row, demos_in, triage_in, transfers_in, diags_in, procs_in, prescriptions_in, labs_in, microbio_in):\n",
    "\n",
    "    demos = get_demos(discharge_row['subject_id'])\n",
    "    if demos.empty:\n",
    "        age = r\"[UNKNOWN AGE]\"\n",
    "        sex = r\"[UNKNOWN SEX]\"\n",
    "    else:\n",
    "        age = demos['anchor_age']\n",
    "        sex = demos['gender']\n",
    "\n",
    "    pt_edstays = edstays[edstays['hadm_id'] == discharge_row['hadm_id']]\n",
    "\n",
    "    ccs = []\n",
    "    for stay_id in pt_edstays['stay_id'].tolist():\n",
    "        triage_info = get_triage_info(stay_id)\n",
    "        ccs.append(triage_info['chiefcomplaint'].squeeze())\n",
    "        \n",
    "    chief_complaints = \", \".join(ccs)\n",
    "\n",
    "    if sex:\n",
    "        pronoun = [\"he\",\"his\"] if sex == \"M\" else ['she',\"her\"]\n",
    "    else:\n",
    "        pronoun = [\"they\", \"their\"]\n",
    "\n",
    "    # transfers with dates\n",
    "    transfers = get_transfers(discharge_row['hadm_id'])\n",
    "\n",
    "    # get stay admission diagnoses\n",
    "    diags = get_diags(discharge_row['hadm_id'])\n",
    "\n",
    "    init_prompt = f\"___ is a {age} year old {sex} that initially presented to the ED with {chief_complaints}. By the end of {pronoun[1]} hospital stay, {pronoun[0]} was given the following diagnoses: {', '.join(diags['long_title'])} in order of importance to this admission. \"\n",
    "    transfer_service_prompts = []\n",
    "\n",
    "    for index, row in transfers.iterrows():\n",
    "        if row['eventtype'] == \"discharge\":\n",
    "             transfer_service_prompts.append(\"\")\n",
    "        else:\n",
    "            # split time in this ward into days. \n",
    "            service_date_ranges = pd.date_range(start=row['intime'], end=row['outtime'])\n",
    "            \n",
    "            for previous, current in zip(service_date_ranges.tolist(), service_date_ranges[1:].tolist()):\n",
    "                print(previous, current) \n",
    "            # TODO VIMIG: finish creating the per-day SOAP note\n",
    "\n",
    "            within_service_prompt = f\"The patient was transferred and stayed in the {row['careunit']} ward between {row['intime']} and {row['outtime']}. ___ received \"\n",
    "            \n",
    "            procs = get_procs_within_service(discharge_row['hadm_id'], row)\n",
    "            # med_orders = get_med_orders_within_service(discharge_row['hadm_id'], row)\n",
    "            prescriptions = get_prescriptions_within_service(discharge_row['hadm_id'], row)\n",
    "            labs = get_labs_within_service(discharge_row['hadm_id'], row)\n",
    "            microbio = get_microbio_within_service(discharge_row['hadm_id'], row)\n",
    "            \n",
    "            within_service_prompt = within_service_prompt + f\"the following procedures (ordered by priority): {', '.join(procs['long_title'].tolist())}.\\n------------------------\\n{pronoun[0]} also received the following medications (ordered chronologically) during the service: {', '.join(prescriptions['text'].tolist())}. \\n------------------------\\nThe following labs were also drawn during the service: {', '.join(labs['text'].tolist())}. \\n------------------------\\nThe physician also ordered the following microbiology cultures during the service: {', '.join(microbio['text'].tolist())}. \"\n",
    "            \n",
    "            full_prompt = init_prompt + within_service_prompt + f\"Given this information, please generate a progress note for this patient for their care during this part of their hospital course staying in the {row['careunit']} ward. Be SPECIFIC to the conditions, any abnormal labs, vitals, or procedures that were conducted, and significant medications as they relate to the hospital course.\"\n",
    "            transfer_service_prompts.append(full_prompt)\n",
    "\n",
    "    transfers['service_prompts'] = transfer_service_prompts\n",
    "    \n",
    "    return transfers\n",
    "    \n"
   ]
  },
  {
   "cell_type": "markdown",
   "id": "8f773b89-0263-416c-93a5-98c59087637b",
   "metadata": {},
   "source": [
    "## Generate Input Data List Prompt"
   ]
  },
  {
   "cell_type": "code",
   "execution_count": null,
   "id": "6ccf49b8-1cfb-4cb1-9740-bf20e8eb5e66",
   "metadata": {},
   "outputs": [],
   "source": [
    "# TODO THOMAS: why are there so many NAs?: 22680492\n",
    "labs = labs[~labs['text'].isna()]"
   ]
  },
  {
   "cell_type": "code",
   "execution_count": 45,
   "id": "905736ec-2cb7-4d8d-b2da-291ddeedf7f2",
   "metadata": {},
   "outputs": [],
   "source": [
    "service_prompts = create_pt_prompt_per_service(discharges.sample(1).squeeze(), pts, triage, transfers, diags, procs, prescriptions, labs, microbio)"
   ]
  },
  {
   "cell_type": "code",
   "execution_count": 46,
   "id": "5e188c9e-3d0f-458f-979c-c49180bc79f4",
   "metadata": {},
   "outputs": [
    {
     "name": "stdout",
     "output_type": "stream",
     "text": [
      "___ is a 38 year old F that initially presented to the ED with RLQ abdominal pain, R Leg swelling. By the end of her hospital stay, she was given the following diagnoses: Localized edema, Pain in right ankle and joints of right foot, Pain in right lower leg, Malignant neoplasm of unspecified ovary, Personal history of pulmonary embolism, Long term (current) use of anticoagulants, Localized enlarged lymph nodes, Urinary tract infection, site not specified, Unspecified osteoarthritis, unspecified site in order of importance to this admission. The patient was transferred and stayed in the Hematology/Oncology ward between 2193-02-01 00:26:00 and 2193-02-04 15:00:02. ___ received the following procedures (ordered by priority): . \n",
      "------------------------\n",
      "she also received the following medications (ordered chronologically) during the service: Gabapentin 400mg Capsule, Acetaminophen 500mg Tablet, Heparin Flush (10 units/ml) 10 Units/mL - 5 mL Syringe, Morphine Sulfate IR 15mg Tab, Docusate Sodium 100mg Capsule, Ketorolac 15mg/mL Vial, Omeprazole 20mg DR Capsule, Fluticasone Propionate NASAL 16g NASAL SPRAY, Sodium Chloride 0.9%  Flush 10 mL Syringe, Morphine Sulfate IR 15mg Tab, Nitrofurantoin Monohyd (MacroBID) 100mg Capsule, Heparin Flush (100 units/ml) 100 Units/mL-5mL Syringe, Sodium Chloride 0.9%  Flush 10 mL Syringe, Bisacodyl 5 mg Tab, dalteparin (porcine) 12,500 anti-Xa unit/0.5 mL subcutaneous syringe, Senna 8.6 mg Tablet, Ondansetron 2mg/mL-2mL, Gabapentin 300mg Capsule. \n",
      "------------------------\n",
      "The following labs were also drawn during the service: Hematology Blood Hematocrit: 34.6 %, Hematology Blood Hemoglobin: 11.1 g/dL, Hematology Blood MCH: 30.6 pg, Hematology Blood MCHC: 32.1 g/dL, Hematology Blood MCV: 95 fL, Hematology Blood Platelet Count: 191 K/uL, Hematology Blood RDW: 14.3 %, Hematology Blood Red Blood Cells: 3.63 m/uL, Hematology Blood White Blood Cells: 4.2 K/uL, Hematology Blood RDW-SD: 49.7 fL, Hematology Blood PT: 11.1 sec, Hematology Blood PTT: 29.6 sec, Chemistry Blood Anion Gap: 13 mEq/L, Chemistry Blood Bicarbonate: 27 mEq/L, Chemistry Blood Calcium, Total: 9.6 mg/dL, Chemistry Blood Chloride: 105 mEq/L, Chemistry Blood Creatinine: 0.7 mg/dL, Chemistry Blood Glucose: ___ mg/dL, Chemistry Blood Magnesium: 2.0 mg/dL, Chemistry Blood Phosphate: 5.4 mg/dL, Chemistry Blood Potassium: 4.1 mEq/L, Chemistry Blood Sodium: 141 mEq/L, Chemistry Blood Urea Nitrogen: 11 mg/dL, Hematology Blood Hematocrit: 38.1 %, Hematology Blood Hemoglobin: 12.0 g/dL, Hematology Blood MCH: 30.0 pg, Hematology Blood MCHC: 31.5 g/dL, Hematology Blood MCV: 95 fL, Hematology Blood Platelet Count: 212 K/uL, Hematology Blood RDW: 14.0 %, Hematology Blood Red Blood Cells: 4.00 m/uL, Hematology Blood White Blood Cells: 4.5 K/uL, Hematology Blood RDW-SD: 48.9 fL, Chemistry Blood Anion Gap: 16 mEq/L, Chemistry Blood Bicarbonate: 22 mEq/L, Chemistry Blood Calcium, Total: 9.9 mg/dL, Chemistry Blood Chloride: 105 mEq/L, Chemistry Blood Creatinine: 0.8 mg/dL, Chemistry Blood Glucose: ___ mg/dL, Chemistry Blood Magnesium: 2.0 mg/dL, Chemistry Blood Phosphate: 6.0 mg/dL, Chemistry Blood Potassium: 4.0 mEq/L, Chemistry Blood Sodium: 142 mEq/L, Chemistry Blood Urea Nitrogen: 12 mg/dL, Hematology Blood Hematocrit: 36.0 %, Hematology Blood Hemoglobin: 11.5 g/dL, Hematology Blood MCH: 30.4 pg, Hematology Blood MCHC: 31.9 g/dL, Hematology Blood MCV: 95 fL, Hematology Blood Platelet Count: 212 K/uL, Hematology Blood RDW: 14.0 %, Hematology Blood Red Blood Cells: 3.78 m/uL, Hematology Blood White Blood Cells: 5.5 K/uL, Hematology Blood RDW-SD: 49.6 fL, Chemistry Blood Anion Gap: 15 mEq/L, Chemistry Blood Bicarbonate: 26 mEq/L, Chemistry Blood Calcium, Total: 9.2 mg/dL, Chemistry Blood Chloride: 99 mEq/L, Chemistry Blood Creatinine: 0.7 mg/dL, Chemistry Blood Glucose: ___ mg/dL, Chemistry Blood Magnesium: 2.0 mg/dL, Chemistry Blood Phosphate: 5.1 mg/dL, Chemistry Blood Potassium: 4.0 mEq/L, Chemistry Blood Sodium: 136 mEq/L, Chemistry Blood Urea Nitrogen: 13 mg/dL, Chemistry Blood Anion Gap: 17 mEq/L, Chemistry Blood Bicarbonate: 25 mEq/L, Chemistry Blood Calcium, Total: 9.4 mg/dL, Chemistry Blood Chloride: 101 mEq/L, Chemistry Blood Creatine Kinase (CK): ___ IU/L, Chemistry Blood Creatinine: 0.7 mg/dL, Chemistry Blood Glucose: ___ mg/dL, Chemistry Blood Magnesium: 2.1 mg/dL, Chemistry Blood Phosphate: 5.2 mg/dL, Chemistry Blood Potassium: 4.0 mEq/L, Chemistry Blood Sodium: 139 mEq/L, Chemistry Blood Urea Nitrogen: 13 mg/dL, Hematology Blood Hematocrit: 35.8 %, Hematology Blood Hemoglobin: 11.4 g/dL, Hematology Blood MCH: 29.9 pg, Hematology Blood MCHC: 31.8 g/dL, Hematology Blood MCV: 94 fL, Hematology Blood Platelet Count: 202 K/uL, Hematology Blood RDW: 13.8 %, Hematology Blood Red Blood Cells: 3.81 m/uL, Hematology Blood White Blood Cells: 3.7 K/uL, Hematology Blood RDW-SD: 46.5 fL. \n",
      "------------------------\n",
      "The physician also ordered the following microbiology cultures during the service: . Given this information, please generate a progress note for this patient for their care during this part of their hospital course staying in the Hematology/Oncology ward. Be SPECIFIC to the conditions, any abnormal labs, vitals, or procedures that were conducted, and significant medications as they relate to the hospital course.\n"
     ]
    }
   ],
   "source": [
    "print(service_prompts['service_prompts'].iloc[1])"
   ]
  },
  {
   "cell_type": "markdown",
   "id": "75bc770f-6381-460c-ac06-d72074822ce8",
   "metadata": {},
   "source": [
    "## Create SOAP notes from GPT API"
   ]
  },
  {
   "cell_type": "code",
   "execution_count": null,
   "id": "245df893-0d7a-47d1-9c7c-11cdfee44a6e",
   "metadata": {},
   "outputs": [],
   "source": [
    "import openai\n",
    "openai.api_type = \"azure\"\n",
    "openai.api_base = os.getenv(\"OPENAI_API_BASE\")\n",
    "openai.api_version = \"2023-07-01-preview\"\n",
    "openai.api_key = os.getenv(\"OPENAI_API_KEY\")\n",
    "engine = \"decile-gpt-35-turbo-16k\"\n"
   ]
  },
  {
   "cell_type": "code",
   "execution_count": null,
   "id": "2e33987e-600d-48c7-8a38-50c368a8ab85",
   "metadata": {},
   "outputs": [],
   "source": [
    "# drop all eventtypes of type: discharge, since we don't need a note for that\n",
    "service_prompts = service_prompts[service_prompts['eventtype'] != \"discharge\"]"
   ]
  },
  {
   "cell_type": "code",
   "execution_count": null,
   "id": "ccda464c-45c5-486c-812c-5c1e54b35de0",
   "metadata": {},
   "outputs": [],
   "source": [
    "gpt_inputs = []\n",
    "for _, row in service_prompts.iterrows():\n",
    "    message_text = [{\"role\":\"system\",\"content\":f\"You are a physician that is reviewing a patient's medical record during their stay in your ward: ({row['careunit']}) and writing a SOAP Note based on this information.\"},]\n",
    "    \n",
    "    gpt_service_prompt = {\"role\":\"user\",\n",
    "                     \"content\":row['service_prompts']}\n",
    "    \n",
    "    message_text.append(gpt_service_prompt)\n",
    "    \n",
    "    # print(f\"Deprescribe Prompt: {message_text}\")\n",
    "    gpt_inputs.append(message_text)"
   ]
  },
  {
   "cell_type": "code",
   "execution_count": null,
   "id": "a76f779f-abf8-4e94-8f09-76b90d4d631f",
   "metadata": {},
   "outputs": [],
   "source": [
    "completions = []\n",
    "for input in gpt_inputs:\n",
    "    completion = openai.ChatCompletion.create(\n",
    "      engine=engine,\n",
    "      messages = input,\n",
    "    )\n",
    "    completions.append(completion['choices'][0]['message']['content'])"
   ]
  },
  {
   "cell_type": "code",
   "execution_count": null,
   "id": "2b67b886-e525-477f-8989-b68a8d60b3be",
   "metadata": {},
   "outputs": [],
   "source": [
    "service_prompts['gpt_SOAP_note'] = completions"
   ]
  },
  {
   "cell_type": "code",
   "execution_count": null,
   "id": "dca64878-2b22-4e73-a80d-c1291c982a11",
   "metadata": {
    "editable": true,
    "slideshow": {
     "slide_type": ""
    },
    "tags": []
   },
   "outputs": [],
   "source": [
    "service_prompts.to_csv(output)"
   ]
  },
  {
   "cell_type": "code",
   "execution_count": null,
   "id": "a6f76b83-56ea-475f-afa6-18b3afaefd75",
   "metadata": {},
   "outputs": [],
   "source": []
  }
 ],
 "metadata": {
  "kernelspec": {
   "display_name": "Python 3 (ipykernel)",
   "language": "python",
   "name": "python3"
  },
  "language_info": {
   "codemirror_mode": {
    "name": "ipython",
    "version": 3
   },
   "file_extension": ".py",
   "mimetype": "text/x-python",
   "name": "python",
   "nbconvert_exporter": "python",
   "pygments_lexer": "ipython3",
   "version": "3.10.13"
  },
  "widgets": {
   "application/vnd.jupyter.widget-state+json": {
    "state": {},
    "version_major": 2,
    "version_minor": 0
   }
  }
 },
 "nbformat": 4,
 "nbformat_minor": 5
}
