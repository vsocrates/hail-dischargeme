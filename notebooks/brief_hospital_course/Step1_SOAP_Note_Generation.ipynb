{
 "cells": [
  {
   "cell_type": "markdown",
   "id": "c6453196",
   "metadata": {
    "tags": [
     "papermill-error-cell-tag"
    ]
   },
   "source": [
    "<span style=\"color:red; font-family:Helvetica Neue, Helvetica, Arial, sans-serif; font-size:2em;\">An Exception was encountered at '<a href=\"#papermill-error-cell\">In [26]</a>'.</span>"
   ]
  },
  {
   "cell_type": "code",
   "execution_count": 1,
   "id": "89f6f9bd-ffb3-456c-9195-926aa168e1a6",
   "metadata": {
    "editable": true,
    "execution": {
     "iopub.execute_input": "2024-03-25T17:32:43.189136Z",
     "iopub.status.busy": "2024-03-25T17:32:43.188903Z",
     "iopub.status.idle": "2024-03-25T17:32:43.194813Z",
     "shell.execute_reply": "2024-03-25T17:32:43.194430Z"
    },
    "papermill": {
     "duration": 0.013507,
     "end_time": "2024-03-25T17:32:43.195958",
     "exception": false,
     "start_time": "2024-03-25T17:32:43.182451",
     "status": "completed"
    },
    "slideshow": {
     "slide_type": ""
    },
    "tags": [
     "parameters"
    ]
   },
   "outputs": [],
   "source": [
    "soap_notes_fp = \"sample_output.csv\"\n",
    "note_id = \"10000032-DS-22\""
   ]
  },
  {
   "cell_type": "code",
   "execution_count": 2,
   "id": "a8391c96",
   "metadata": {
    "execution": {
     "iopub.execute_input": "2024-03-25T17:32:43.209367Z",
     "iopub.status.busy": "2024-03-25T17:32:43.208630Z",
     "iopub.status.idle": "2024-03-25T17:32:43.211755Z",
     "shell.execute_reply": "2024-03-25T17:32:43.211411Z"
    },
    "papermill": {
     "duration": 0.011291,
     "end_time": "2024-03-25T17:32:43.212975",
     "exception": false,
     "start_time": "2024-03-25T17:32:43.201684",
     "status": "completed"
    },
    "tags": [
     "injected-parameters"
    ]
   },
   "outputs": [],
   "source": [
    "# Parameters\n",
    "soap_notes_fp = \"soap_note_sample1test_10415772-DS-14.csv\"\n",
    "note_id = \"10415772-DS-14\"\n"
   ]
  },
  {
   "cell_type": "code",
   "execution_count": 3,
   "id": "f2eb266c-533f-41d3-aae0-525d8e27ccd6",
   "metadata": {
    "editable": true,
    "execution": {
     "iopub.execute_input": "2024-03-25T17:32:43.222708Z",
     "iopub.status.busy": "2024-03-25T17:32:43.222550Z",
     "iopub.status.idle": "2024-03-25T17:32:43.226604Z",
     "shell.execute_reply": "2024-03-25T17:32:43.226233Z"
    },
    "papermill": {
     "duration": 0.010295,
     "end_time": "2024-03-25T17:32:43.227758",
     "exception": false,
     "start_time": "2024-03-25T17:32:43.217463",
     "status": "completed"
    },
    "slideshow": {
     "slide_type": ""
    },
    "tags": []
   },
   "outputs": [
    {
     "name": "stdout",
     "output_type": "stream",
     "text": [
      "soap_notes_fp = soap_note_sample1test_10415772-DS-14.csv note_id = 10415772-DS-14\n"
     ]
    }
   ],
   "source": [
    "print(\"soap_notes_fp =\", soap_notes_fp, \"note_id =\", note_id)"
   ]
  },
  {
   "cell_type": "markdown",
   "id": "8201b927-ffb6-4ec5-9e7c-6ce39b89804f",
   "metadata": {
    "editable": true,
    "papermill": {
     "duration": 0.00451,
     "end_time": "2024-03-25T17:32:43.237018",
     "exception": false,
     "start_time": "2024-03-25T17:32:43.232508",
     "status": "completed"
    },
    "slideshow": {
     "slide_type": ""
    },
    "tags": []
   },
   "source": [
    "# SOAP Note Generation\n",
    "\n",
    "This notebook performs step 1 of the Brief Hospital Course pipeline, in which we generate a SOAP note for each service based on a list of information that has been passed into a GPT-3.5 model. "
   ]
  },
  {
   "cell_type": "code",
   "execution_count": 4,
   "id": "aceb2e41-5c87-4ded-9797-74a5bf121c09",
   "metadata": {
    "editable": true,
    "execution": {
     "iopub.execute_input": "2024-03-25T17:32:43.246731Z",
     "iopub.status.busy": "2024-03-25T17:32:43.246577Z",
     "iopub.status.idle": "2024-03-25T17:32:43.260663Z",
     "shell.execute_reply": "2024-03-25T17:32:43.260301Z"
    },
    "papermill": {
     "duration": 0.020205,
     "end_time": "2024-03-25T17:32:43.261775",
     "exception": false,
     "start_time": "2024-03-25T17:32:43.241570",
     "status": "completed"
    },
    "slideshow": {
     "slide_type": ""
    },
    "tags": []
   },
   "outputs": [],
   "source": [
    "%load_ext autoreload\n",
    "%autoreload 2"
   ]
  },
  {
   "cell_type": "code",
   "execution_count": 5,
   "id": "47f4516e-b3cb-4179-982e-f783e7cc1514",
   "metadata": {
    "editable": true,
    "execution": {
     "iopub.execute_input": "2024-03-25T17:32:43.272193Z",
     "iopub.status.busy": "2024-03-25T17:32:43.271433Z",
     "iopub.status.idle": "2024-03-25T17:32:44.282626Z",
     "shell.execute_reply": "2024-03-25T17:32:44.282183Z"
    },
    "papermill": {
     "duration": 1.017789,
     "end_time": "2024-03-25T17:32:44.284115",
     "exception": false,
     "start_time": "2024-03-25T17:32:43.266326",
     "status": "completed"
    },
    "slideshow": {
     "slide_type": ""
    },
    "tags": []
   },
   "outputs": [],
   "source": [
    "import pandas as pd\n",
    "import ast\n",
    "import numpy as np\n",
    "\n",
    "from tqdm import tqdm\n",
    "# from tqdm.auto import tqdm  # for notebooks\n",
    "tqdm.pandas()\n",
    "\n",
    "import os\n",
    "import openai"
   ]
  },
  {
   "cell_type": "code",
   "execution_count": 6,
   "id": "a3beef81-0897-454d-ba25-bff5bb47fa3e",
   "metadata": {
    "execution": {
     "iopub.execute_input": "2024-03-25T17:32:44.299715Z",
     "iopub.status.busy": "2024-03-25T17:32:44.298716Z",
     "iopub.status.idle": "2024-03-25T17:32:44.324529Z",
     "shell.execute_reply": "2024-03-25T17:32:44.324145Z"
    },
    "papermill": {
     "duration": 0.033136,
     "end_time": "2024-03-25T17:32:44.325681",
     "exception": false,
     "start_time": "2024-03-25T17:32:44.292545",
     "status": "completed"
    },
    "tags": []
   },
   "outputs": [
    {
     "data": {
      "text/plain": [
       "True"
      ]
     },
     "execution_count": 6,
     "metadata": {},
     "output_type": "execute_result"
    }
   ],
   "source": [
    "from dotenv import load_dotenv\n",
    "load_dotenv()  # take environment variables from .env."
   ]
  },
  {
   "cell_type": "code",
   "execution_count": 7,
   "id": "412bcad0-1916-41ab-9387-4176baefbcb7",
   "metadata": {
    "editable": true,
    "execution": {
     "iopub.execute_input": "2024-03-25T17:32:44.337004Z",
     "iopub.status.busy": "2024-03-25T17:32:44.336245Z",
     "iopub.status.idle": "2024-03-25T17:32:44.354548Z",
     "shell.execute_reply": "2024-03-25T17:32:44.354191Z"
    },
    "papermill": {
     "duration": 0.025026,
     "end_time": "2024-03-25T17:32:44.355667",
     "exception": false,
     "start_time": "2024-03-25T17:32:44.330641",
     "status": "completed"
    },
    "slideshow": {
     "slide_type": ""
    },
    "tags": []
   },
   "outputs": [],
   "source": [
    "from preprocessing import *\n",
    "from prompt_functions import create_pt_prompt_per_day, create_pt_prompt_per_service"
   ]
  },
  {
   "cell_type": "markdown",
   "id": "b10e1a55-ff0b-4c1d-b0de-5d209e31c1cb",
   "metadata": {
    "editable": true,
    "papermill": {
     "duration": 0.004639,
     "end_time": "2024-03-25T17:32:44.365152",
     "exception": false,
     "start_time": "2024-03-25T17:32:44.360513",
     "status": "completed"
    },
    "slideshow": {
     "slide_type": ""
    },
    "tags": []
   },
   "source": [
    "## Read in Prompts"
   ]
  },
  {
   "cell_type": "code",
   "execution_count": 8,
   "id": "86a5e990-619b-4da2-a109-c0839622afeb",
   "metadata": {
    "execution": {
     "iopub.execute_input": "2024-03-25T17:32:44.376132Z",
     "iopub.status.busy": "2024-03-25T17:32:44.375391Z",
     "iopub.status.idle": "2024-03-25T17:32:44.393776Z",
     "shell.execute_reply": "2024-03-25T17:32:44.393409Z"
    },
    "papermill": {
     "duration": 0.025114,
     "end_time": "2024-03-25T17:32:44.394944",
     "exception": false,
     "start_time": "2024-03-25T17:32:44.369830",
     "status": "completed"
    },
    "tags": []
   },
   "outputs": [],
   "source": [
    "prompts = pd.read_csv(\"soap_note_prompts.csv\")"
   ]
  },
  {
   "cell_type": "markdown",
   "id": "3bed84bf-c057-48f3-82e9-aa4ca381ce39",
   "metadata": {
    "editable": true,
    "papermill": {
     "duration": 0.00473,
     "end_time": "2024-03-25T17:32:44.407295",
     "exception": false,
     "start_time": "2024-03-25T17:32:44.402565",
     "status": "completed"
    },
    "slideshow": {
     "slide_type": ""
    },
    "tags": []
   },
   "source": [
    "## Read in Radiology Reports"
   ]
  },
  {
   "cell_type": "code",
   "execution_count": 9,
   "id": "e61e5e2e-abb1-4c55-8ad4-3a021195ac56",
   "metadata": {
    "execution": {
     "iopub.execute_input": "2024-03-25T17:32:44.418143Z",
     "iopub.status.busy": "2024-03-25T17:32:44.417393Z",
     "iopub.status.idle": "2024-03-25T17:32:48.880187Z",
     "shell.execute_reply": "2024-03-25T17:32:48.879714Z"
    },
    "papermill": {
     "duration": 4.469788,
     "end_time": "2024-03-25T17:32:48.881748",
     "exception": false,
     "start_time": "2024-03-25T17:32:44.411960",
     "status": "completed"
    },
    "tags": []
   },
   "outputs": [],
   "source": [
    "radiology = pd.read_csv(\"/gpfs/milgram/project/rtaylor/shared/DischargeMe/public/train/radiology.csv.gz\")"
   ]
  },
  {
   "cell_type": "markdown",
   "id": "c2754157-fa3a-448b-9f8e-79b42c5b94dd",
   "metadata": {
    "papermill": {
     "duration": 0.004789,
     "end_time": "2024-03-25T17:32:48.896210",
     "exception": false,
     "start_time": "2024-03-25T17:32:48.891421",
     "status": "completed"
    },
    "tags": []
   },
   "source": [
    "## Read in Structured Data"
   ]
  },
  {
   "cell_type": "code",
   "execution_count": 10,
   "id": "f3d29f00-43fb-4b8a-bfac-dc45246dd6c3",
   "metadata": {
    "editable": true,
    "execution": {
     "iopub.execute_input": "2024-03-25T17:32:48.907550Z",
     "iopub.status.busy": "2024-03-25T17:32:48.906749Z",
     "iopub.status.idle": "2024-03-25T17:33:09.067251Z",
     "shell.execute_reply": "2024-03-25T17:33:09.066773Z"
    },
    "papermill": {
     "duration": 20.167651,
     "end_time": "2024-03-25T17:33:09.068821",
     "exception": false,
     "start_time": "2024-03-25T17:32:48.901170",
     "status": "completed"
    },
    "slideshow": {
     "slide_type": ""
    },
    "tags": []
   },
   "outputs": [],
   "source": [
    "###### \n",
    "# Challenge Data\n",
    "\n",
    "# discharge summaries\n",
    "discharges = pd.read_csv(\"/gpfs/milgram/project/rtaylor/shared/DischargeMe/public/train/discharge.csv.gz\")\n",
    "\n",
    "# ed stays\n",
    "edstays = pd.read_csv('/gpfs/milgram/project/rtaylor/shared/DischargeMe/public/train/edstays.csv.gz')\n",
    "\n",
    "# triage\n",
    "triage = pd.read_csv('/gpfs/milgram/project/rtaylor/shared/DischargeMe/public/train/triage.csv.gz')\n",
    "\n",
    "###### \n",
    "# MIMIC-IV Data\n",
    "\n",
    "# ward transfers\n",
    "transfers = pd.read_pickle('/gpfs/milgram/project/rtaylor/shared/DischargeMe/mimiciv/hosp/cohort_transfers.pkl')\n",
    "\n",
    "# higher-level services (ICU, CARD, etc)\n",
    "services = pd.read_pickle('/gpfs/milgram/project/rtaylor/shared/DischargeMe/mimiciv/hosp/cohort_services.pkl')\n",
    "\n",
    "# get patient info\n",
    "pts = pd.read_pickle('/gpfs/milgram/project/rtaylor/shared/DischargeMe/mimiciv/hosp/cohort_patients.pkl')\n",
    "\n",
    "# admission demographics\n",
    "admissions = pd.read_pickle('/gpfs/milgram/project/rtaylor/shared/DischargeMe/mimiciv/hosp/cohort_admissions.pkl')\n",
    "\n",
    "# procedures\n",
    "procs = pd.read_pickle('/gpfs/milgram/project/rtaylor/shared/DischargeMe/mimiciv/hosp/cohort_procedures_icd.pkl')\n",
    "\n",
    "# diagnoses\n",
    "diags = pd.read_pickle('/gpfs/milgram/project/rtaylor/shared/DischargeMe/mimiciv/hosp/cohort_diagnoses_icd.pkl')\n",
    "\n",
    "# meds\n",
    "med_orders = pd.read_pickle('/gpfs/milgram/project/rtaylor/shared/DischargeMe/mimiciv/hosp/cohort_emar.pkl')\n"
   ]
  },
  {
   "cell_type": "code",
   "execution_count": 11,
   "id": "3bd2f59c-6e0d-4943-91b5-c506b5d00448",
   "metadata": {
    "editable": true,
    "execution": {
     "iopub.execute_input": "2024-03-25T17:33:09.085768Z",
     "iopub.status.busy": "2024-03-25T17:33:09.084719Z",
     "iopub.status.idle": "2024-03-25T17:33:40.232246Z",
     "shell.execute_reply": "2024-03-25T17:33:40.231759Z"
    },
    "papermill": {
     "duration": 31.155348,
     "end_time": "2024-03-25T17:33:40.233847",
     "exception": false,
     "start_time": "2024-03-25T17:33:09.078499",
     "status": "completed"
    },
    "slideshow": {
     "slide_type": ""
    },
    "tags": []
   },
   "outputs": [],
   "source": [
    "prescriptions = pd.read_pickle('/gpfs/milgram/project/rtaylor/shared/DischargeMe/mimiciv/hosp/cohort_prescriptions.pkl')\n",
    "labs = pd.read_pickle('/gpfs/milgram/project/rtaylor/shared/DischargeMe/mimiciv/hosp/cohort_labevents.pkl')\n",
    "microbio = pd.read_pickle('/gpfs/milgram/project/rtaylor/shared/DischargeMe/mimiciv/hosp/cohort_microbiologyevents.pkl')"
   ]
  },
  {
   "cell_type": "markdown",
   "id": "634a8b4d-3160-448b-b438-98dc96af4335",
   "metadata": {
    "papermill": {
     "duration": 0.004934,
     "end_time": "2024-03-25T17:33:40.249014",
     "exception": false,
     "start_time": "2024-03-25T17:33:40.244080",
     "status": "completed"
    },
    "tags": []
   },
   "source": [
    "### Clean up/type cast data"
   ]
  },
  {
   "cell_type": "code",
   "execution_count": 12,
   "id": "d87389d5-a996-40f0-929b-dbd36ef65457",
   "metadata": {
    "execution": {
     "iopub.execute_input": "2024-03-25T17:33:40.260850Z",
     "iopub.status.busy": "2024-03-25T17:33:40.259961Z",
     "iopub.status.idle": "2024-03-25T17:33:40.529868Z",
     "shell.execute_reply": "2024-03-25T17:33:40.529381Z"
    },
    "papermill": {
     "duration": 0.277225,
     "end_time": "2024-03-25T17:33:40.531447",
     "exception": false,
     "start_time": "2024-03-25T17:33:40.254222",
     "status": "completed"
    },
    "tags": []
   },
   "outputs": [
    {
     "name": "stderr",
     "output_type": "stream",
     "text": [
      "/tmp/ipykernel_261133/85971565.py:1: FutureWarning: errors='ignore' is deprecated and will raise in a future version. Use to_numeric without passing `errors` and catch exceptions explicitly instead\n",
      "  transfers.loc['hadm_id'] = pd.to_numeric(transfers[\"hadm_id\"], errors=\"ignore\")\n"
     ]
    }
   ],
   "source": [
    "transfers.loc['hadm_id'] = pd.to_numeric(transfers[\"hadm_id\"], errors=\"ignore\")"
   ]
  },
  {
   "cell_type": "code",
   "execution_count": 13,
   "id": "3a251ee2-4e76-49ac-ba8b-66440c7c1769",
   "metadata": {
    "execution": {
     "iopub.execute_input": "2024-03-25T17:33:40.546830Z",
     "iopub.status.busy": "2024-03-25T17:33:40.545968Z",
     "iopub.status.idle": "2024-03-25T17:33:44.323014Z",
     "shell.execute_reply": "2024-03-25T17:33:44.322512Z"
    },
    "papermill": {
     "duration": 3.784736,
     "end_time": "2024-03-25T17:33:44.324705",
     "exception": false,
     "start_time": "2024-03-25T17:33:40.539969",
     "status": "completed"
    },
    "tags": []
   },
   "outputs": [],
   "source": [
    "med_orders = med_orders[~med_orders['charttime'].isna() & \n",
    "                        ~med_orders['medication'].isna() & \n",
    "                        ~med_orders['event_txt'].isna()]"
   ]
  },
  {
   "cell_type": "code",
   "execution_count": 14,
   "id": "f9f637d2-fb88-4f4e-91ec-5ce68edba838",
   "metadata": {
    "execution": {
     "iopub.execute_input": "2024-03-25T17:33:44.407353Z",
     "iopub.status.busy": "2024-03-25T17:33:44.406357Z",
     "iopub.status.idle": "2024-03-25T17:34:03.721750Z",
     "shell.execute_reply": "2024-03-25T17:34:03.721259Z"
    },
    "papermill": {
     "duration": 19.323409,
     "end_time": "2024-03-25T17:34:03.723354",
     "exception": false,
     "start_time": "2024-03-25T17:33:44.399945",
     "status": "completed"
    },
    "tags": []
   },
   "outputs": [],
   "source": [
    "procs = procs.astype({\"chartdate\":\"datetime64[ns]\"})\n",
    "med_orders = med_orders.astype({\"charttime\":\"datetime64[ns]\",\n",
    "                  \"scheduletime\":\"datetime64[ns]\",\n",
    "                  \"storetime\":\"datetime64[ns]\",})\n",
    "\n",
    "discharges = discharges.astype({\"charttime\":\"datetime64[ns]\",\n",
    "                               \"storetime\":\"datetime64[ns]\"})"
   ]
  },
  {
   "cell_type": "code",
   "execution_count": 15,
   "id": "b27d6895-105f-4a1f-8eda-9e94dcb2325f",
   "metadata": {
    "execution": {
     "iopub.execute_input": "2024-03-25T17:34:03.740416Z",
     "iopub.status.busy": "2024-03-25T17:34:03.739546Z",
     "iopub.status.idle": "2024-03-25T17:34:03.810914Z",
     "shell.execute_reply": "2024-03-25T17:34:03.810441Z"
    },
    "papermill": {
     "duration": 0.078931,
     "end_time": "2024-03-25T17:34:03.812421",
     "exception": false,
     "start_time": "2024-03-25T17:34:03.733490",
     "status": "completed"
    },
    "tags": []
   },
   "outputs": [],
   "source": [
    "edstays = edstays.astype({\"intime\":\"datetime64[ns]\",\n",
    "                         \"outtime\":\"datetime64[ns]\"})"
   ]
  },
  {
   "cell_type": "code",
   "execution_count": 16,
   "id": "a8e2a812-1cb0-4f24-89af-cf0ecdfe6097",
   "metadata": {
    "execution": {
     "iopub.execute_input": "2024-03-25T17:34:03.824818Z",
     "iopub.status.busy": "2024-03-25T17:34:03.823963Z",
     "iopub.status.idle": "2024-03-25T17:34:51.898051Z",
     "shell.execute_reply": "2024-03-25T17:34:51.897562Z"
    },
    "papermill": {
     "duration": 48.081673,
     "end_time": "2024-03-25T17:34:51.899638",
     "exception": false,
     "start_time": "2024-03-25T17:34:03.817965",
     "status": "completed"
    },
    "tags": []
   },
   "outputs": [],
   "source": [
    "prescriptions = prescriptions.astype({\"starttime\":\"datetime64[ns]\",\n",
    "                      \"stoptime\":\"datetime64[ns]\"})\n",
    "labs = labs.astype({\"charttime\":\"datetime64[ns]\",\n",
    "                      \"storetime\":\"datetime64[ns]\"})\n",
    "\n",
    "microbio = microbio.astype({\"chartdate\":\"datetime64[ns]\",\n",
    "                      \"charttime\":\"datetime64[ns]\",\n",
    "                           \"storetime\":\"datetime64[ns]\",\n",
    "                      \"charttime\":\"datetime64[ns]\"})"
   ]
  },
  {
   "cell_type": "code",
   "execution_count": 17,
   "id": "deb34385-f3b9-4216-ba67-a65d13c97449",
   "metadata": {
    "execution": {
     "iopub.execute_input": "2024-03-25T17:34:51.924100Z",
     "iopub.status.busy": "2024-03-25T17:34:51.923142Z",
     "iopub.status.idle": "2024-03-25T17:36:02.281012Z",
     "shell.execute_reply": "2024-03-25T17:36:02.280494Z"
    },
    "papermill": {
     "duration": 70.365658,
     "end_time": "2024-03-25T17:36:02.282609",
     "exception": false,
     "start_time": "2024-03-25T17:34:51.916951",
     "status": "completed"
    },
    "tags": []
   },
   "outputs": [],
   "source": [
    "# generate free text sections of tables concatenating columns\n",
    "med_orders['admin_text'] = med_orders['medication'] + \" at \" + med_orders['charttime'].dt.strftime('%B %d, %Y, %r')\n",
    "# TODO SORAYA: Add the right information in here that we actually want for the meds\n",
    "prescriptions['text'] = prescriptions['drug'] + \" \" + prescriptions['prod_strength']\n"
   ]
  },
  {
   "cell_type": "code",
   "execution_count": 18,
   "id": "d484f8d6-13cb-4d27-a0ab-3ff60ee4aee0",
   "metadata": {
    "execution": {
     "iopub.execute_input": "2024-03-25T17:36:02.393797Z",
     "iopub.status.busy": "2024-03-25T17:36:02.392589Z",
     "iopub.status.idle": "2024-03-25T17:36:55.780231Z",
     "shell.execute_reply": "2024-03-25T17:36:55.779718Z"
    },
    "papermill": {
     "duration": 53.395912,
     "end_time": "2024-03-25T17:36:55.781776",
     "exception": false,
     "start_time": "2024-03-25T17:36:02.385864",
     "status": "completed"
    },
    "tags": []
   },
   "outputs": [],
   "source": [
    "# TODO THOMAS: figure out how to better encapsulate lab values\n",
    "labs['text'] = (labs['category'].fillna(\"\") + \" \" + labs['fluid'].fillna(\"\") + \" \" \n",
    "                + labs['label'].fillna(\"\") + \": \" + labs['value'].fillna(\"\") + \" \" \n",
    "                + labs['valueuom'].fillna(\"\"))"
   ]
  },
  {
   "cell_type": "code",
   "execution_count": 19,
   "id": "41115aff-2145-4d88-93fd-cd00e690a32a",
   "metadata": {
    "editable": true,
    "execution": {
     "iopub.execute_input": "2024-03-25T17:36:55.798383Z",
     "iopub.status.busy": "2024-03-25T17:36:55.797570Z",
     "iopub.status.idle": "2024-03-25T17:36:56.288892Z",
     "shell.execute_reply": "2024-03-25T17:36:56.288415Z"
    },
    "papermill": {
     "duration": 0.498866,
     "end_time": "2024-03-25T17:36:56.290420",
     "exception": false,
     "start_time": "2024-03-25T17:36:55.791554",
     "status": "completed"
    },
    "slideshow": {
     "slide_type": ""
    },
    "tags": []
   },
   "outputs": [],
   "source": [
    "# TODO SORAYA: check for those patients that don't have comments (they might not have useful information in the test)\n",
    "microbio['text'] = microbio['test_name'].fillna(\"\") + \": \" + microbio['comments'].fillna(\"\")"
   ]
  },
  {
   "cell_type": "markdown",
   "id": "8f773b89-0263-416c-93a5-98c59087637b",
   "metadata": {
    "editable": true,
    "papermill": {
     "duration": 0.004734,
     "end_time": "2024-03-25T17:36:56.303696",
     "exception": false,
     "start_time": "2024-03-25T17:36:56.298962",
     "status": "completed"
    },
    "slideshow": {
     "slide_type": ""
    },
    "tags": []
   },
   "source": [
    "## Generate Input Data List Prompt"
   ]
  },
  {
   "cell_type": "code",
   "execution_count": 20,
   "id": "d6e5df17-0f93-4d67-9640-f2faa91a48fc",
   "metadata": {
    "execution": {
     "iopub.execute_input": "2024-03-25T17:36:56.315285Z",
     "iopub.status.busy": "2024-03-25T17:36:56.314422Z",
     "iopub.status.idle": "2024-03-25T17:36:56.337287Z",
     "shell.execute_reply": "2024-03-25T17:36:56.336889Z"
    },
    "papermill": {
     "duration": 0.029766,
     "end_time": "2024-03-25T17:36:56.338476",
     "exception": false,
     "start_time": "2024-03-25T17:36:56.308710",
     "status": "completed"
    },
    "tags": []
   },
   "outputs": [],
   "source": [
    "z = discharges[discharges['note_id'] == note_id].squeeze()"
   ]
  },
  {
   "cell_type": "code",
   "execution_count": 21,
   "id": "a77878a6-623d-45ec-8c16-e4a52944f830",
   "metadata": {
    "execution": {
     "iopub.execute_input": "2024-03-25T17:36:56.349658Z",
     "iopub.status.busy": "2024-03-25T17:36:56.348861Z",
     "iopub.status.idle": "2024-03-25T17:36:56.368835Z",
     "shell.execute_reply": "2024-03-25T17:36:56.368483Z"
    },
    "papermill": {
     "duration": 0.026425,
     "end_time": "2024-03-25T17:36:56.369948",
     "exception": false,
     "start_time": "2024-03-25T17:36:56.343523",
     "status": "completed"
    },
    "tags": []
   },
   "outputs": [
    {
     "data": {
      "text/plain": [
       "note_id                                          10415772-DS-14\n",
       "subject_id                                             10415772\n",
       "hadm_id                                                20648185\n",
       "note_type                                                    DS\n",
       "note_seq                                                     14\n",
       "charttime                                   2180-11-01 00:00:00\n",
       "storetime                                   2180-11-01 16:42:00\n",
       "text           \\nName:  ___                    Unit No:   __...\n",
       "Name: 2640, dtype: object"
      ]
     },
     "metadata": {},
     "output_type": "display_data"
    }
   ],
   "source": [
    "display(z)"
   ]
  },
  {
   "cell_type": "code",
   "execution_count": 22,
   "id": "905736ec-2cb7-4d8d-b2da-291ddeedf7f2",
   "metadata": {
    "editable": true,
    "execution": {
     "iopub.execute_input": "2024-03-25T17:36:56.380889Z",
     "iopub.status.busy": "2024-03-25T17:36:56.380138Z",
     "iopub.status.idle": "2024-03-25T17:36:56.568403Z",
     "shell.execute_reply": "2024-03-25T17:36:56.567924Z"
    },
    "papermill": {
     "duration": 0.195156,
     "end_time": "2024-03-25T17:36:56.569980",
     "exception": false,
     "start_time": "2024-03-25T17:36:56.374824",
     "status": "completed"
    },
    "slideshow": {
     "slide_type": ""
    },
    "tags": []
   },
   "outputs": [],
   "source": [
    "service_prompts, care_units = create_pt_prompt_per_service(z, prompts, \n",
    "                                               edstays, \n",
    "                                               pts, triage, transfers, diags, procs, prescriptions, labs, microbio)"
   ]
  },
  {
   "cell_type": "code",
   "execution_count": 23,
   "id": "5e188c9e-3d0f-458f-979c-c49180bc79f4",
   "metadata": {
    "execution": {
     "iopub.execute_input": "2024-03-25T17:36:56.585043Z",
     "iopub.status.busy": "2024-03-25T17:36:56.584189Z",
     "iopub.status.idle": "2024-03-25T17:36:56.603637Z",
     "shell.execute_reply": "2024-03-25T17:36:56.603246Z"
    },
    "papermill": {
     "duration": 0.026442,
     "end_time": "2024-03-25T17:36:56.604753",
     "exception": false,
     "start_time": "2024-03-25T17:36:56.578311",
     "status": "completed"
    },
    "tags": []
   },
   "outputs": [
    {
     "name": "stdout",
     "output_type": "stream",
     "text": [
      "[\"___ is a 69 year old F that initially presented to the ED with ETOH. By the end of the hospital stay, ___ was given the following diagnoses in order of importance to this admission: Acute alcoholic intoxication in alcoholism, unspecified, Alcohol withdrawal, Other specified cardiac dysrhythmias, Hypoxemia, Open wound of back, without mention of complication, Other nonspecific abnormal finding of lung field, Chronic airway obstruction, not elsewhere classified, Other dependence on machines, supplemental oxygen, Personal history of tobacco use, Unspecified accident, Accidents occurring in unspecified place.A full list of the patient's procedures, medications, labs, and lab cultures is given below. Procedures are ordered by priority and medications are ordered chronologically. Given this information, please generate a SOAP progress note for this patient for their care during this part of their hospital course staying in the Emergency Department ward. Be SPECIFIC to the conditions, any abnormal labs, vitals, or procedures that were conducted, and significant medications as they relate to the hospital course: \\n\\nProcedures (ordered by priority):\\n----------------------------\\nNone\\n\\nMedications (ordered chronologically):\\n----------------------------\\nFluticasone-Salmeterol Diskus (250/50)  250/50mcg Diskus, Heparin 5000 Units / mL- 1mL Vial\\n\\nLabs:\\n----------------------------\\nNone\\n\\nMicrobio Cultures:\\n----------------------------\\nNone\", \"___ is a 69 year old F that initially presented to the ED with ETOH. By the end of the hospital stay, ___ was given the following diagnoses in order of importance to this admission: Acute alcoholic intoxication in alcoholism, unspecified, Alcohol withdrawal, Other specified cardiac dysrhythmias, Hypoxemia, Open wound of back, without mention of complication, Other nonspecific abnormal finding of lung field, Chronic airway obstruction, not elsewhere classified, Other dependence on machines, supplemental oxygen, Personal history of tobacco use, Unspecified accident, Accidents occurring in unspecified place.A full list of the patient's procedures, medications, labs, and lab cultures is given below. Procedures are ordered by priority and medications are ordered chronologically. Given this information, please generate a SOAP progress note for this patient for their care during this part of their hospital course staying in the Med/Surg ward. Be SPECIFIC to the conditions, any abnormal labs, vitals, or procedures that were conducted, and significant medications as they relate to the hospital course: \\n\\nProcedures (ordered by priority):\\n----------------------------\\nNone\\n\\nMedications (ordered chronologically):\\n----------------------------\\nAlbuterol 0.083% Neb Soln 0.083%;3mL Vial, Pneumococcal Vac Polyvalent 25mcg/0.5mL Vial, Diazepam 5 mg Tab, Bag 50 mL Bag, Magnesium Sulfate 2 g / 50 mL Premix Bag, Multivitamin IV 10mL Vial, Thiamine 100mg/mL-2mL, 0.9% Sodium Chloride 1000mL Bag, FoLIC Acid 5mg/mL-10mL, Sodium Chloride 0.9%  Flush Syringe, 0.9% Sodium Chloride 1000mL Bag\\n\\nLabs:\\n----------------------------\\nChemistry Blood Anion Gap: 15 mEq/L, Chemistry Blood Bicarbonate: 29 mEq/L, Chemistry Blood Calcium, Total: 8.7 mg/dL, Chemistry Blood Chloride: 104 mEq/L, Chemistry Blood Creatinine: 0.5 mg/dL, Chemistry Blood Glucose: ___ mg/dL, Chemistry Blood Magnesium: 1.7 mg/dL, Chemistry Blood Phosphate: 2.8 mg/dL, Chemistry Blood Potassium: 4.2 mEq/L, Chemistry Blood Sodium: 144 mEq/L, Chemistry Blood Urea Nitrogen: 4 mg/dL, Hematology Blood Hematocrit: 29.7 %, Hematology Blood Hemoglobin: 8.6 g/dL, Hematology Blood MCH: 23.7 pg, Hematology Blood MCHC: 28.8 %, Hematology Blood MCV: 82 fL, Hematology Blood Platelet Count: 450 K/uL, Hematology Blood RDW: 18.8 %, Hematology Blood Red Blood Cells: 3.61 m/uL, Hematology Blood White Blood Cells: 7.9 K/uL\\n\\nMicrobio Cultures:\\n----------------------------\\nNone\", '']\n",
      "['Emergency Department', 'Med/Surg']\n"
     ]
    }
   ],
   "source": [
    "print(service_prompts)\n",
    "print(care_units)"
   ]
  },
  {
   "cell_type": "markdown",
   "id": "75bc770f-6381-460c-ac06-d72074822ce8",
   "metadata": {
    "papermill": {
     "duration": 0.004967,
     "end_time": "2024-03-25T17:36:56.614781",
     "exception": false,
     "start_time": "2024-03-25T17:36:56.609814",
     "status": "completed"
    },
    "tags": []
   },
   "source": [
    "## Create SOAP notes from GPT API"
   ]
  },
  {
   "cell_type": "code",
   "execution_count": 24,
   "id": "245df893-0d7a-47d1-9c7c-11cdfee44a6e",
   "metadata": {
    "editable": true,
    "execution": {
     "iopub.execute_input": "2024-03-25T17:36:56.626000Z",
     "iopub.status.busy": "2024-03-25T17:36:56.625242Z",
     "iopub.status.idle": "2024-03-25T17:36:56.643273Z",
     "shell.execute_reply": "2024-03-25T17:36:56.642899Z"
    },
    "papermill": {
     "duration": 0.024634,
     "end_time": "2024-03-25T17:36:56.644419",
     "exception": false,
     "start_time": "2024-03-25T17:36:56.619785",
     "status": "completed"
    },
    "slideshow": {
     "slide_type": ""
    },
    "tags": []
   },
   "outputs": [],
   "source": [
    "import openai\n",
    "openai.api_type = \"azure\"\n",
    "openai.api_base = os.getenv(\"OPENAI_API_BASE\")\n",
    "openai.api_version = \"2023-07-01-preview\"\n",
    "openai.api_key = os.getenv(\"OPENAI_API_KEY\")\n",
    "engine = \"decile-gpt-35-turbo-16k\"\n"
   ]
  },
  {
   "cell_type": "code",
   "execution_count": 25,
   "id": "2e33987e-600d-48c7-8a38-50c368a8ab85",
   "metadata": {
    "execution": {
     "iopub.execute_input": "2024-03-25T17:36:56.656085Z",
     "iopub.status.busy": "2024-03-25T17:36:56.655273Z",
     "iopub.status.idle": "2024-03-25T17:36:56.672625Z",
     "shell.execute_reply": "2024-03-25T17:36:56.672262Z"
    },
    "papermill": {
     "duration": 0.024147,
     "end_time": "2024-03-25T17:36:56.673734",
     "exception": false,
     "start_time": "2024-03-25T17:36:56.649587",
     "status": "completed"
    },
    "tags": []
   },
   "outputs": [],
   "source": [
    "# drop all eventtypes of type: discharge, since we don't need a note for that\n",
    "# service_prompts = service_prompts[service_prompts['eventtype'] != \"discharge\"]\n",
    "\n",
    "# we assume the last one is discharge and drop anything that's an empty string: \n",
    "service_prompts = [prompt for prompt in service_prompts if prompt]"
   ]
  },
  {
   "cell_type": "markdown",
   "id": "63c76c11",
   "metadata": {
    "tags": [
     "papermill-error-cell-tag"
    ]
   },
   "source": [
    "<span id=\"papermill-error-cell\" style=\"color:red; font-family:Helvetica Neue, Helvetica, Arial, sans-serif; font-size:2em;\">Execution using papermill encountered an exception here and stopped:</span>"
   ]
  },
  {
   "cell_type": "code",
   "execution_count": 26,
   "id": "ccda464c-45c5-486c-812c-5c1e54b35de0",
   "metadata": {
    "editable": true,
    "execution": {
     "iopub.execute_input": "2024-03-25T17:36:56.687786Z",
     "iopub.status.busy": "2024-03-25T17:36:56.687002Z",
     "iopub.status.idle": "2024-03-25T17:36:57.026061Z",
     "shell.execute_reply": "2024-03-25T17:36:57.024740Z"
    },
    "papermill": {
     "duration": 0.345507,
     "end_time": "2024-03-25T17:36:57.026895",
     "exception": true,
     "start_time": "2024-03-25T17:36:56.681388",
     "status": "failed"
    },
    "slideshow": {
     "slide_type": ""
    },
    "tags": []
   },
   "outputs": [
    {
     "ename": "NameError",
     "evalue": "name 'careunit' is not defined",
     "output_type": "error",
     "traceback": [
      "\u001b[0;31m---------------------------------------------------------------------------\u001b[0m",
      "\u001b[0;31mNameError\u001b[0m                                 Traceback (most recent call last)",
      "Cell \u001b[0;32mIn[26], line 4\u001b[0m\n\u001b[1;32m      2\u001b[0m \u001b[38;5;28;01mfor\u001b[39;00m service_prompt, care_unit \u001b[38;5;129;01min\u001b[39;00m \u001b[38;5;28mzip\u001b[39m(service_prompts, care_units):\n\u001b[1;32m      3\u001b[0m     system_role \u001b[38;5;241m=\u001b[39m prompts\u001b[38;5;241m.\u001b[39mloc[prompts[\u001b[38;5;124m'\u001b[39m\u001b[38;5;124mprompt_name\u001b[39m\u001b[38;5;124m'\u001b[39m] \u001b[38;5;241m==\u001b[39m \u001b[38;5;124m'\u001b[39m\u001b[38;5;124mSOAP_system_message\u001b[39m\u001b[38;5;124m'\u001b[39m, \u001b[38;5;124m\"\u001b[39m\u001b[38;5;124mprompt\u001b[39m\u001b[38;5;124m\"\u001b[39m]\u001b[38;5;241m.\u001b[39msqueeze()\n\u001b[0;32m----> 4\u001b[0m     system_role \u001b[38;5;241m=\u001b[39m system_role\u001b[38;5;241m.\u001b[39mreplace(\u001b[38;5;124mr\u001b[39m\u001b[38;5;124m\"\u001b[39m\u001b[38;5;124m{{\u001b[39m\u001b[38;5;124mward}}\u001b[39m\u001b[38;5;124m\"\u001b[39m, \u001b[43mcareunit\u001b[49m)\n\u001b[1;32m      5\u001b[0m     message_text \u001b[38;5;241m=\u001b[39m [{\u001b[38;5;124m\"\u001b[39m\u001b[38;5;124mrole\u001b[39m\u001b[38;5;124m\"\u001b[39m:\u001b[38;5;124m\"\u001b[39m\u001b[38;5;124msystem\u001b[39m\u001b[38;5;124m\"\u001b[39m,\u001b[38;5;124m\"\u001b[39m\u001b[38;5;124mcontent\u001b[39m\u001b[38;5;124m\"\u001b[39m:system_role}]\n\u001b[1;32m      7\u001b[0m     gpt_service_prompt \u001b[38;5;241m=\u001b[39m {\u001b[38;5;124m\"\u001b[39m\u001b[38;5;124mrole\u001b[39m\u001b[38;5;124m\"\u001b[39m:\u001b[38;5;124m\"\u001b[39m\u001b[38;5;124muser\u001b[39m\u001b[38;5;124m\"\u001b[39m,\n\u001b[1;32m      8\u001b[0m                      \u001b[38;5;124m\"\u001b[39m\u001b[38;5;124mcontent\u001b[39m\u001b[38;5;124m\"\u001b[39m:service_prompt}\n",
      "\u001b[0;31mNameError\u001b[0m: name 'careunit' is not defined"
     ]
    }
   ],
   "source": [
    "gpt_inputs = []\n",
    "for service_prompt, care_unit in zip(service_prompts, care_units):\n",
    "    system_role = prompts.loc[prompts['prompt_name'] == 'SOAP_system_message', \"prompt\"].squeeze()\n",
    "    system_role = system_role.replace(r\"{{ward}}\", care_unit)\n",
    "    message_text = [{\"role\":\"system\",\"content\":system_role}]\n",
    "    \n",
    "    gpt_service_prompt = {\"role\":\"user\",\n",
    "                     \"content\":service_prompt}\n",
    "    \n",
    "    message_text.append(gpt_service_prompt)\n",
    "    \n",
    "    # print(f\"Deprescribe Prompt: {message_text}\")\n",
    "    gpt_inputs.append(message_text)"
   ]
  },
  {
   "cell_type": "code",
   "execution_count": null,
   "id": "a76f779f-abf8-4e94-8f09-76b90d4d631f",
   "metadata": {
    "papermill": {
     "duration": null,
     "end_time": null,
     "exception": null,
     "start_time": null,
     "status": "pending"
    },
    "tags": []
   },
   "outputs": [],
   "source": [
    "completions = []\n",
    "for input in gpt_inputs:\n",
    "    completion = openai.ChatCompletion.create(\n",
    "      engine=engine,\n",
    "      messages = input,\n",
    "    )\n",
    "    completions.append(completion['choices'][0]['message']['content'])"
   ]
  },
  {
   "cell_type": "code",
   "execution_count": null,
   "id": "2b67b886-e525-477f-8989-b68a8d60b3be",
   "metadata": {
    "papermill": {
     "duration": null,
     "end_time": null,
     "exception": null,
     "start_time": null,
     "status": "pending"
    },
    "tags": []
   },
   "outputs": [],
   "source": [
    "service_prompts['gpt_SOAP_note'] = completions"
   ]
  },
  {
   "cell_type": "code",
   "execution_count": null,
   "id": "dca64878-2b22-4e73-a80d-c1291c982a11",
   "metadata": {
    "editable": true,
    "papermill": {
     "duration": null,
     "end_time": null,
     "exception": null,
     "start_time": null,
     "status": "pending"
    },
    "slideshow": {
     "slide_type": ""
    },
    "tags": []
   },
   "outputs": [],
   "source": [
    "service_prompts.to_csv(soap_notes_fp)"
   ]
  },
  {
   "cell_type": "code",
   "execution_count": null,
   "id": "a6f76b83-56ea-475f-afa6-18b3afaefd75",
   "metadata": {
    "papermill": {
     "duration": null,
     "end_time": null,
     "exception": null,
     "start_time": null,
     "status": "pending"
    },
    "tags": []
   },
   "outputs": [],
   "source": []
  }
 ],
 "metadata": {
  "kernelspec": {
   "display_name": "Python 3 (ipykernel)",
   "language": "python",
   "name": "python3"
  },
  "language_info": {
   "codemirror_mode": {
    "name": "ipython",
    "version": 3
   },
   "file_extension": ".py",
   "mimetype": "text/x-python",
   "name": "python",
   "nbconvert_exporter": "python",
   "pygments_lexer": "ipython3",
   "version": "3.10.13"
  },
  "papermill": {
   "default_parameters": {},
   "duration": 258.697684,
   "end_time": "2024-03-25T17:37:00.053173",
   "environment_variables": {},
   "exception": true,
   "input_path": "Step1_SOAP_Note_Generation.ipynb",
   "output_path": "Step1_SOAP_Note_Generation.ipynb",
   "parameters": {
    "note_id": "10415772-DS-14",
    "soap_notes_fp": "soap_note_sample1test_10415772-DS-14.csv"
   },
   "start_time": "2024-03-25T17:32:41.355489",
   "version": "2.5.0"
  },
  "widgets": {
   "application/vnd.jupyter.widget-state+json": {
    "state": {},
    "version_major": 2,
    "version_minor": 0
   }
  }
 },
 "nbformat": 4,
 "nbformat_minor": 5
}
