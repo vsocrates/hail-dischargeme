{
 "cells": [
  {
   "cell_type": "code",
   "execution_count": null,
   "id": "89f6f9bd-ffb3-456c-9195-926aa168e1a6",
   "metadata": {
    "editable": true,
    "papermill": {
     "duration": 0.014788,
     "end_time": "2024-03-25T17:58:41.832181",
     "exception": false,
     "start_time": "2024-03-25T17:58:41.817393",
     "status": "completed"
    },
    "slideshow": {
     "slide_type": ""
    },
    "tags": [
     "parameters"
    ]
   },
   "outputs": [],
   "source": [
    "soap_notes_fp = \"sample_output.csv\"\n",
    "note_id = \"10000032-DS-22\""
   ]
  },
  {
   "cell_type": "code",
   "execution_count": null,
   "id": "04f6a705",
   "metadata": {
    "papermill": {
     "duration": 0.011198,
     "end_time": "2024-03-25T17:58:41.851987",
     "exception": false,
     "start_time": "2024-03-25T17:58:41.840789",
     "status": "completed"
    },
    "tags": [
     "injected-parameters"
    ]
   },
   "outputs": [],
   "source": [
    "# Parameters\n",
    "soap_notes_fp = \"soap_note_sample1test_10415772-DS-14.csv\"\n",
    "note_id = \"10415772-DS-14\"\n"
   ]
  },
  {
   "cell_type": "code",
   "execution_count": null,
   "id": "f2eb266c-533f-41d3-aae0-525d8e27ccd6",
   "metadata": {
    "editable": true,
    "papermill": {
     "duration": 0.011972,
     "end_time": "2024-03-25T17:58:41.868889",
     "exception": false,
     "start_time": "2024-03-25T17:58:41.856917",
     "status": "completed"
    },
    "slideshow": {
     "slide_type": ""
    },
    "tags": []
   },
   "outputs": [],
   "source": [
    "print(\"soap_notes_fp =\", soap_notes_fp, \"note_id =\", note_id)"
   ]
  },
  {
   "cell_type": "markdown",
   "id": "8201b927-ffb6-4ec5-9e7c-6ce39b89804f",
   "metadata": {
    "editable": true,
    "papermill": {
     "duration": 0.004907,
     "end_time": "2024-03-25T17:58:41.878724",
     "exception": false,
     "start_time": "2024-03-25T17:58:41.873817",
     "status": "completed"
    },
    "slideshow": {
     "slide_type": ""
    },
    "tags": []
   },
   "source": [
    "# SOAP Note Generation\n",
    "\n",
    "This notebook performs step 1 of the Brief Hospital Course pipeline, in which we generate a SOAP note for each service based on a list of information that has been passed into a GPT-3.5 model. "
   ]
  },
  {
   "cell_type": "code",
   "execution_count": null,
   "id": "aceb2e41-5c87-4ded-9797-74a5bf121c09",
   "metadata": {
    "editable": true,
    "papermill": {
     "duration": 0.023497,
     "end_time": "2024-03-25T17:58:41.907481",
     "exception": false,
     "start_time": "2024-03-25T17:58:41.883984",
     "status": "completed"
    },
    "slideshow": {
     "slide_type": ""
    },
    "tags": []
   },
   "outputs": [],
   "source": [
    "%load_ext autoreload\n",
    "%autoreload 2"
   ]
  },
  {
   "cell_type": "code",
   "execution_count": null,
   "id": "47f4516e-b3cb-4179-982e-f783e7cc1514",
   "metadata": {
    "editable": true,
    "papermill": {
     "duration": 2.540264,
     "end_time": "2024-03-25T17:58:44.452880",
     "exception": false,
     "start_time": "2024-03-25T17:58:41.912616",
     "status": "completed"
    },
    "slideshow": {
     "slide_type": ""
    },
    "tags": []
   },
   "outputs": [],
   "source": [
    "import pandas as pd\n",
    "import ast\n",
    "import numpy as np\n",
    "\n",
    "from tqdm import tqdm\n",
    "# from tqdm.auto import tqdm  # for notebooks\n",
    "tqdm.pandas()\n",
    "\n",
    "import os\n",
    "import openai"
   ]
  },
  {
   "cell_type": "code",
   "execution_count": null,
   "id": "a3beef81-0897-454d-ba25-bff5bb47fa3e",
   "metadata": {
    "papermill": {
     "duration": 0.034064,
     "end_time": "2024-03-25T17:58:44.565236",
     "exception": false,
     "start_time": "2024-03-25T17:58:44.531172",
     "status": "completed"
    },
    "tags": []
   },
   "outputs": [],
   "source": [
    "from dotenv import load_dotenv\n",
    "load_dotenv()  # take environment variables from .env."
   ]
  },
  {
   "cell_type": "code",
   "execution_count": null,
   "id": "412bcad0-1916-41ab-9387-4176baefbcb7",
   "metadata": {
    "editable": true,
    "papermill": {
     "duration": 0.025167,
     "end_time": "2024-03-25T17:58:44.595690",
     "exception": false,
     "start_time": "2024-03-25T17:58:44.570523",
     "status": "completed"
    },
    "slideshow": {
     "slide_type": ""
    },
    "tags": []
   },
   "outputs": [],
   "source": [
    "from preprocessing import *\n",
    "from prompt_functions import create_pt_prompt_per_day, create_pt_prompt_per_service"
   ]
  },
  {
   "cell_type": "markdown",
   "id": "b10e1a55-ff0b-4c1d-b0de-5d209e31c1cb",
   "metadata": {
    "editable": true,
    "papermill": {
     "duration": 0.004698,
     "end_time": "2024-03-25T17:58:44.605307",
     "exception": false,
     "start_time": "2024-03-25T17:58:44.600609",
     "status": "completed"
    },
    "slideshow": {
     "slide_type": ""
    },
    "tags": []
   },
   "source": [
    "## Read in Prompts"
   ]
  },
  {
   "cell_type": "code",
   "execution_count": null,
   "id": "86a5e990-619b-4da2-a109-c0839622afeb",
   "metadata": {
    "papermill": {
     "duration": 0.025601,
     "end_time": "2024-03-25T17:58:44.635523",
     "exception": false,
     "start_time": "2024-03-25T17:58:44.609922",
     "status": "completed"
    },
    "tags": []
   },
   "outputs": [],
   "source": [
    "prompts = pd.read_csv(\"soap_note_prompts.csv\")"
   ]
  },
  {
   "cell_type": "markdown",
   "id": "3bed84bf-c057-48f3-82e9-aa4ca381ce39",
   "metadata": {
    "editable": true,
    "papermill": {
     "duration": 0.004965,
     "end_time": "2024-03-25T17:58:44.648569",
     "exception": false,
     "start_time": "2024-03-25T17:58:44.643604",
     "status": "completed"
    },
    "slideshow": {
     "slide_type": ""
    },
    "tags": []
   },
   "source": [
    "## Read in Radiology Reports"
   ]
  },
  {
   "cell_type": "code",
   "execution_count": null,
   "id": "e61e5e2e-abb1-4c55-8ad4-3a021195ac56",
   "metadata": {
    "papermill": {
     "duration": 4.624049,
     "end_time": "2024-03-25T17:58:49.277648",
     "exception": false,
     "start_time": "2024-03-25T17:58:44.653599",
     "status": "completed"
    },
    "tags": []
   },
   "outputs": [],
   "source": [
    "radiology = pd.read_csv(\"/gpfs/milgram/project/rtaylor/shared/DischargeMe/public/train/radiology.csv.gz\")"
   ]
  },
  {
   "cell_type": "markdown",
   "id": "c2754157-fa3a-448b-9f8e-79b42c5b94dd",
   "metadata": {
    "papermill": {
     "duration": 0.005097,
     "end_time": "2024-03-25T17:58:49.292736",
     "exception": false,
     "start_time": "2024-03-25T17:58:49.287639",
     "status": "completed"
    },
    "tags": []
   },
   "source": [
    "## Read in Structured Data"
   ]
  },
  {
   "cell_type": "code",
   "execution_count": null,
   "id": "f3d29f00-43fb-4b8a-bfac-dc45246dd6c3",
   "metadata": {
    "editable": true,
    "papermill": {
     "duration": 20.05104,
     "end_time": "2024-03-25T17:59:09.348800",
     "exception": false,
     "start_time": "2024-03-25T17:58:49.297760",
     "status": "completed"
    },
    "slideshow": {
     "slide_type": ""
    },
    "tags": []
   },
   "outputs": [],
   "source": [
    "###### \n",
    "# Challenge Data\n",
    "\n",
    "# discharge summaries\n",
    "discharges = pd.read_csv(\"/gpfs/milgram/project/rtaylor/shared/DischargeMe/public/train/discharge.csv.gz\")\n",
    "\n",
    "# ed stays\n",
    "edstays = pd.read_csv('/gpfs/milgram/project/rtaylor/shared/DischargeMe/public/train/edstays.csv.gz')\n",
    "\n",
    "# triage\n",
    "triage = pd.read_csv('/gpfs/milgram/project/rtaylor/shared/DischargeMe/public/train/triage.csv.gz')\n",
    "\n",
    "###### \n",
    "# MIMIC-IV Data\n",
    "\n",
    "# ward transfers\n",
    "transfers = pd.read_pickle('/gpfs/milgram/project/rtaylor/shared/DischargeMe/mimiciv/hosp/cohort_transfers.pkl')\n",
    "\n",
    "# higher-level services (ICU, CARD, etc)\n",
    "services = pd.read_pickle('/gpfs/milgram/project/rtaylor/shared/DischargeMe/mimiciv/hosp/cohort_services.pkl')\n",
    "\n",
    "# get patient info\n",
    "pts = pd.read_pickle('/gpfs/milgram/project/rtaylor/shared/DischargeMe/mimiciv/hosp/cohort_patients.pkl')\n",
    "\n",
    "# admission demographics\n",
    "admissions = pd.read_pickle('/gpfs/milgram/project/rtaylor/shared/DischargeMe/mimiciv/hosp/cohort_admissions.pkl')\n",
    "\n",
    "# procedures\n",
    "procs = pd.read_pickle('/gpfs/milgram/project/rtaylor/shared/DischargeMe/mimiciv/hosp/cohort_procedures_icd.pkl')\n",
    "\n",
    "# diagnoses\n",
    "diags = pd.read_pickle('/gpfs/milgram/project/rtaylor/shared/DischargeMe/mimiciv/hosp/cohort_diagnoses_icd.pkl')\n",
    "\n",
    "# meds\n",
    "med_orders = pd.read_pickle('/gpfs/milgram/project/rtaylor/shared/DischargeMe/mimiciv/hosp/cohort_emar.pkl')\n"
   ]
  },
  {
   "cell_type": "code",
   "execution_count": null,
   "id": "3bd2f59c-6e0d-4943-91b5-c506b5d00448",
   "metadata": {
    "editable": true,
    "papermill": {
     "duration": 30.308404,
     "end_time": "2024-03-25T17:59:39.666744",
     "exception": false,
     "start_time": "2024-03-25T17:59:09.358340",
     "status": "completed"
    },
    "slideshow": {
     "slide_type": ""
    },
    "tags": []
   },
   "outputs": [],
   "source": [
    "prescriptions = pd.read_pickle('/gpfs/milgram/project/rtaylor/shared/DischargeMe/mimiciv/hosp/cohort_prescriptions.pkl')\n",
    "labs = pd.read_pickle('/gpfs/milgram/project/rtaylor/shared/DischargeMe/mimiciv/hosp/cohort_labevents.pkl')\n",
    "microbio = pd.read_pickle('/gpfs/milgram/project/rtaylor/shared/DischargeMe/mimiciv/hosp/cohort_microbiologyevents.pkl')"
   ]
  },
  {
   "cell_type": "markdown",
   "id": "634a8b4d-3160-448b-b438-98dc96af4335",
   "metadata": {
    "papermill": {
     "duration": 0.004761,
     "end_time": "2024-03-25T17:59:39.703120",
     "exception": false,
     "start_time": "2024-03-25T17:59:39.698359",
     "status": "completed"
    },
    "tags": []
   },
   "source": [
    "### Clean up/type cast data"
   ]
  },
  {
   "cell_type": "code",
   "execution_count": null,
   "id": "d87389d5-a996-40f0-929b-dbd36ef65457",
   "metadata": {
    "papermill": {
     "duration": 0.262095,
     "end_time": "2024-03-25T17:59:39.971016",
     "exception": false,
     "start_time": "2024-03-25T17:59:39.708921",
     "status": "completed"
    },
    "tags": []
   },
   "outputs": [],
   "source": [
    "transfers.loc['hadm_id'] = pd.to_numeric(transfers[\"hadm_id\"], errors=\"ignore\")"
   ]
  },
  {
   "cell_type": "code",
   "execution_count": null,
   "id": "3a251ee2-4e76-49ac-ba8b-66440c7c1769",
   "metadata": {
    "papermill": {
     "duration": 3.633792,
     "end_time": "2024-03-25T17:59:43.613564",
     "exception": false,
     "start_time": "2024-03-25T17:59:39.979772",
     "status": "completed"
    },
    "tags": []
   },
   "outputs": [],
   "source": [
    "med_orders = med_orders[~med_orders['charttime'].isna() & \n",
    "                        ~med_orders['medication'].isna() & \n",
    "                        ~med_orders['event_txt'].isna()]"
   ]
  },
  {
   "cell_type": "code",
   "execution_count": null,
   "id": "f9f637d2-fb88-4f4e-91ec-5ce68edba838",
   "metadata": {
    "papermill": {
     "duration": 19.455717,
     "end_time": "2024-03-25T18:00:03.077696",
     "exception": false,
     "start_time": "2024-03-25T17:59:43.621979",
     "status": "completed"
    },
    "tags": []
   },
   "outputs": [],
   "source": [
    "procs = procs.astype({\"chartdate\":\"datetime64[ns]\"})\n",
    "med_orders = med_orders.astype({\"charttime\":\"datetime64[ns]\",\n",
    "                  \"scheduletime\":\"datetime64[ns]\",\n",
    "                  \"storetime\":\"datetime64[ns]\",})\n",
    "\n",
    "discharges = discharges.astype({\"charttime\":\"datetime64[ns]\",\n",
    "                               \"storetime\":\"datetime64[ns]\"})"
   ]
  },
  {
   "cell_type": "code",
   "execution_count": null,
   "id": "b27d6895-105f-4a1f-8eda-9e94dcb2325f",
   "metadata": {
    "papermill": {
     "duration": 0.076614,
     "end_time": "2024-03-25T18:00:03.163808",
     "exception": false,
     "start_time": "2024-03-25T18:00:03.087194",
     "status": "completed"
    },
    "tags": []
   },
   "outputs": [],
   "source": [
    "edstays = edstays.astype({\"intime\":\"datetime64[ns]\",\n",
    "                         \"outtime\":\"datetime64[ns]\"})"
   ]
  },
  {
   "cell_type": "code",
   "execution_count": null,
   "id": "a8e2a812-1cb0-4f24-89af-cf0ecdfe6097",
   "metadata": {
    "papermill": {
     "duration": 50.808363,
     "end_time": "2024-03-25T18:00:53.977312",
     "exception": false,
     "start_time": "2024-03-25T18:00:03.168949",
     "status": "completed"
    },
    "tags": []
   },
   "outputs": [],
   "source": [
    "prescriptions = prescriptions.astype({\"starttime\":\"datetime64[ns]\",\n",
    "                      \"stoptime\":\"datetime64[ns]\"})\n",
    "labs = labs.astype({\"charttime\":\"datetime64[ns]\",\n",
    "                      \"storetime\":\"datetime64[ns]\"})\n",
    "\n",
    "microbio = microbio.astype({\"chartdate\":\"datetime64[ns]\",\n",
    "                      \"charttime\":\"datetime64[ns]\",\n",
    "                           \"storetime\":\"datetime64[ns]\",\n",
    "                      \"charttime\":\"datetime64[ns]\"})"
   ]
  },
  {
   "cell_type": "code",
   "execution_count": null,
   "id": "deb34385-f3b9-4216-ba67-a65d13c97449",
   "metadata": {
    "papermill": {
     "duration": 69.724524,
     "end_time": "2024-03-25T18:02:03.713153",
     "exception": false,
     "start_time": "2024-03-25T18:00:53.988629",
     "status": "completed"
    },
    "tags": []
   },
   "outputs": [],
   "source": [
    "# generate free text sections of tables concatenating columns\n",
    "med_orders['admin_text'] = med_orders['medication'] + \" at \" + med_orders['charttime'].dt.strftime('%B %d, %Y, %r')\n",
    "# TODO SORAYA: Add the right information in here that we actually want for the meds\n",
    "prescriptions['text'] = prescriptions['drug'] + \" \" + prescriptions['prod_strength']\n"
   ]
  },
  {
   "cell_type": "code",
   "execution_count": null,
   "id": "d484f8d6-13cb-4d27-a0ab-3ff60ee4aee0",
   "metadata": {
    "papermill": {
     "duration": 53.383171,
     "end_time": "2024-03-25T18:02:57.106136",
     "exception": false,
     "start_time": "2024-03-25T18:02:03.722965",
     "status": "completed"
    },
    "tags": []
   },
   "outputs": [],
   "source": [
    "# TODO THOMAS: figure out how to better encapsulate lab values\n",
    "labs['text'] = (labs['category'].fillna(\"\") + \" \" + labs['fluid'].fillna(\"\") + \" \" \n",
    "                + labs['label'].fillna(\"\") + \": \" + labs['value'].fillna(\"\") + \" \" \n",
    "                + labs['valueuom'].fillna(\"\"))"
   ]
  },
  {
   "cell_type": "code",
   "execution_count": null,
   "id": "41115aff-2145-4d88-93fd-cd00e690a32a",
   "metadata": {
    "editable": true,
    "papermill": {
     "duration": 0.498004,
     "end_time": "2024-03-25T18:02:57.614331",
     "exception": false,
     "start_time": "2024-03-25T18:02:57.116327",
     "status": "completed"
    },
    "slideshow": {
     "slide_type": ""
    },
    "tags": []
   },
   "outputs": [],
   "source": [
    "# TODO SORAYA: check for those patients that don't have comments (they might not have useful information in the test)\n",
    "microbio['text'] = microbio['test_name'].fillna(\"\") + \": \" + microbio['comments'].fillna(\"\")"
   ]
  },
  {
   "cell_type": "markdown",
   "id": "8f773b89-0263-416c-93a5-98c59087637b",
   "metadata": {
    "editable": true,
    "papermill": {
     "duration": 0.004958,
     "end_time": "2024-03-25T18:02:57.627801",
     "exception": false,
     "start_time": "2024-03-25T18:02:57.622843",
     "status": "completed"
    },
    "slideshow": {
     "slide_type": ""
    },
    "tags": []
   },
   "source": [
    "## Generate Input Data List Prompt"
   ]
  },
  {
   "cell_type": "code",
   "execution_count": null,
   "id": "d6e5df17-0f93-4d67-9640-f2faa91a48fc",
   "metadata": {
    "papermill": {
     "duration": 0.03099,
     "end_time": "2024-03-25T18:02:57.664053",
     "exception": false,
     "start_time": "2024-03-25T18:02:57.633063",
     "status": "completed"
    },
    "tags": []
   },
   "outputs": [],
   "source": [
    "z = discharges[discharges['note_id'] == note_id].squeeze()"
   ]
  },
  {
   "cell_type": "code",
   "execution_count": null,
   "id": "a77878a6-623d-45ec-8c16-e4a52944f830",
   "metadata": {
    "papermill": {
     "duration": 0.02795,
     "end_time": "2024-03-25T18:02:57.697423",
     "exception": false,
     "start_time": "2024-03-25T18:02:57.669473",
     "status": "completed"
    },
    "tags": []
   },
   "outputs": [],
   "source": [
    "display(z)"
   ]
  },
  {
   "cell_type": "code",
   "execution_count": null,
   "id": "905736ec-2cb7-4d8d-b2da-291ddeedf7f2",
   "metadata": {
    "editable": true,
    "papermill": {
     "duration": 0.20258,
     "end_time": "2024-03-25T18:02:57.905325",
     "exception": false,
     "start_time": "2024-03-25T18:02:57.702745",
     "status": "completed"
    },
    "slideshow": {
     "slide_type": ""
    },
    "tags": []
   },
   "outputs": [],
   "source": [
    "transfers_with_soap_notes = create_pt_prompt_per_service(z, prompts, \n",
    "                                               edstays, \n",
    "                                               pts, triage, transfers, diags, procs, prescriptions, labs, microbio)"
   ]
  },
  {
   "cell_type": "code",
   "execution_count": null,
   "id": "5e188c9e-3d0f-458f-979c-c49180bc79f4",
   "metadata": {
    "papermill": {
     "duration": 0.034056,
     "end_time": "2024-03-25T18:02:57.948227",
     "exception": false,
     "start_time": "2024-03-25T18:02:57.914171",
     "status": "completed"
    },
    "tags": []
   },
   "outputs": [],
   "source": [
    "display(transfers_with_soap_notes)"
   ]
  },
  {
   "cell_type": "markdown",
   "id": "75bc770f-6381-460c-ac06-d72074822ce8",
   "metadata": {
    "papermill": {
     "duration": 0.005166,
     "end_time": "2024-03-25T18:02:57.959063",
     "exception": false,
     "start_time": "2024-03-25T18:02:57.953897",
     "status": "completed"
    },
    "tags": []
   },
   "source": [
    "## Create SOAP notes from GPT API"
   ]
  },
  {
   "cell_type": "code",
   "execution_count": null,
   "id": "245df893-0d7a-47d1-9c7c-11cdfee44a6e",
   "metadata": {
    "editable": true,
    "papermill": {
     "duration": 0.026118,
     "end_time": "2024-03-25T18:02:57.990961",
     "exception": false,
     "start_time": "2024-03-25T18:02:57.964843",
     "status": "completed"
    },
    "slideshow": {
     "slide_type": ""
    },
    "tags": []
   },
   "outputs": [],
   "source": [
    "import openai\n",
    "openai.api_type = \"azure\"\n",
    "openai.api_base = os.getenv(\"OPENAI_API_BASE\")\n",
    "openai.api_version = \"2023-07-01-preview\"\n",
    "openai.api_key = os.getenv(\"OPENAI_API_KEY\")\n",
    "engine = \"decile-gpt-35-turbo-16k\"\n"
   ]
  },
  {
   "cell_type": "code",
   "execution_count": null,
   "id": "2e33987e-600d-48c7-8a38-50c368a8ab85",
   "metadata": {
    "papermill": {
     "duration": 0.025868,
     "end_time": "2024-03-25T18:02:58.022225",
     "exception": false,
     "start_time": "2024-03-25T18:02:57.996357",
     "status": "completed"
    },
    "tags": []
   },
   "outputs": [],
   "source": [
    "# drop all eventtypes of type: discharge, since we don't need a note for that\n",
    "transfers_with_soap_notes = transfers_with_soap_notes[transfers_with_soap_notes['eventtype'] != \"discharge\"]"
   ]
  },
  {
   "cell_type": "code",
   "execution_count": null,
   "id": "ccda464c-45c5-486c-812c-5c1e54b35de0",
   "metadata": {
    "editable": true,
    "papermill": {
     "duration": 0.027346,
     "end_time": "2024-03-25T18:02:58.057966",
     "exception": false,
     "start_time": "2024-03-25T18:02:58.030620",
     "status": "completed"
    },
    "slideshow": {
     "slide_type": ""
    },
    "tags": []
   },
   "outputs": [],
   "source": [
    "gpt_inputs = []\n",
    "for _, row in transfers_with_soap_notes.iterrows():\n",
    "    system_role = prompts.loc[prompts['prompt_name'] == 'SOAP_system_message', \"prompt\"].squeeze()\n",
    "    system_role = system_role.replace(r\"{{ward}}\", row['careunit'])\n",
    "    message_text = [{\"role\":\"system\",\"content\":system_role}]\n",
    "    \n",
    "    gpt_service_prompt = {\"role\":\"user\",\n",
    "                     \"content\":row['service_prompts']}\n",
    "    \n",
    "    message_text.append(gpt_service_prompt)\n",
    "    \n",
    "    # print(f\"Deprescribe Prompt: {message_text}\")\n",
    "    gpt_inputs.append(message_text)"
   ]
  },
  {
   "cell_type": "code",
   "execution_count": null,
   "id": "a76f779f-abf8-4e94-8f09-76b90d4d631f",
   "metadata": {
    "papermill": {
     "duration": 31.355898,
     "end_time": "2024-03-25T18:03:29.419355",
     "exception": false,
     "start_time": "2024-03-25T18:02:58.063457",
     "status": "completed"
    },
    "tags": []
   },
   "outputs": [],
   "source": [
    "completions = []\n",
    "for input in gpt_inputs:\n",
    "    completion = openai.ChatCompletion.create(\n",
    "      engine=engine,\n",
    "      messages = input,\n",
    "    )\n",
    "    completions.append(completion['choices'][0]['message']['content'])"
   ]
  },
  {
   "cell_type": "code",
   "execution_count": null,
   "id": "2b67b886-e525-477f-8989-b68a8d60b3be",
   "metadata": {
    "papermill": {
     "duration": 0.028149,
     "end_time": "2024-03-25T18:03:29.455947",
     "exception": false,
     "start_time": "2024-03-25T18:03:29.427798",
     "status": "completed"
    },
    "tags": []
   },
   "outputs": [],
   "source": [
    "transfers_with_soap_notes['gpt_SOAP_note'] = completions"
   ]
  },
  {
   "cell_type": "code",
   "execution_count": null,
   "id": "dca64878-2b22-4e73-a80d-c1291c982a11",
   "metadata": {
    "editable": true,
    "papermill": {
     "duration": 0.139921,
     "end_time": "2024-03-25T18:03:29.601449",
     "exception": false,
     "start_time": "2024-03-25T18:03:29.461528",
     "status": "completed"
    },
    "slideshow": {
     "slide_type": ""
    },
    "tags": []
   },
   "outputs": [],
   "source": [
    "transfers_with_soap_notes.to_csv(soap_notes_fp)"
   ]
  },
  {
   "cell_type": "code",
   "execution_count": null,
   "id": "a6f76b83-56ea-475f-afa6-18b3afaefd75",
   "metadata": {
    "papermill": {
     "duration": 0.005194,
     "end_time": "2024-03-25T18:03:29.615251",
     "exception": false,
     "start_time": "2024-03-25T18:03:29.610057",
     "status": "completed"
    },
    "tags": []
   },
   "outputs": [],
   "source": []
  }
 ],
 "metadata": {
  "kernelspec": {
   "display_name": "Python 3 (ipykernel)",
   "language": "python",
   "name": "python3"
  },
  "language_info": {
   "codemirror_mode": {
    "name": "ipython",
    "version": 3
   },
   "file_extension": ".py",
   "mimetype": "text/x-python",
   "name": "python",
   "nbconvert_exporter": "python",
   "pygments_lexer": "ipython3",
   "version": "3.10.13"
  },
  "papermill": {
   "default_parameters": {},
   "duration": 292.560056,
   "end_time": "2024-03-25T18:03:32.741818",
   "environment_variables": {},
   "exception": null,
   "input_path": "Step1_SOAP_Note_Generation.ipynb",
   "output_path": "Step1_SOAP_Note_Generation.ipynb",
   "parameters": {
    "note_id": "10415772-DS-14",
    "soap_notes_fp": "soap_note_sample1test_10415772-DS-14.csv"
   },
   "start_time": "2024-03-25T17:58:40.181762",
   "version": "2.5.0"
  },
  "widgets": {
   "application/vnd.jupyter.widget-state+json": {
    "state": {},
    "version_major": 2,
    "version_minor": 0
   }
  }
 },
 "nbformat": 4,
 "nbformat_minor": 5
}
