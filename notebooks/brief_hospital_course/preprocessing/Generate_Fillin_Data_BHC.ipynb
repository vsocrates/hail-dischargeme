{
 "cells": [
  {
   "cell_type": "code",
   "execution_count": 1,
   "id": "89f6f9bd-ffb3-456c-9195-926aa168e1a6",
   "metadata": {
    "papermill": {
     "duration": 0.014788,
     "end_time": "2024-03-25T17:58:41.832181",
     "exception": false,
     "start_time": "2024-03-25T17:58:41.817393",
     "status": "completed"
    },
    "slideshow": {
     "slide_type": ""
    },
    "tags": [
     "parameters"
    ]
   },
   "outputs": [],
   "source": [
    "soap_notes_fp = \"sample_output.csv\"\n",
    "note_id = \"10000032-DS-22\""
   ]
  },
  {
   "cell_type": "code",
   "execution_count": 2,
   "id": "04f6a705",
   "metadata": {
    "papermill": {
     "duration": 0.011198,
     "end_time": "2024-03-25T17:58:41.851987",
     "exception": false,
     "start_time": "2024-03-25T17:58:41.840789",
     "status": "completed"
    },
    "tags": [
     "injected-parameters"
    ]
   },
   "outputs": [],
   "source": [
    "# Parameters\n",
    "soap_notes_fp = \"soap_note_sample1test_10415772-DS-14.csv\"\n",
    "note_id = \"10415772-DS-14\"\n"
   ]
  },
  {
   "cell_type": "code",
   "execution_count": 3,
   "id": "f2eb266c-533f-41d3-aae0-525d8e27ccd6",
   "metadata": {
    "papermill": {
     "duration": 0.011972,
     "end_time": "2024-03-25T17:58:41.868889",
     "exception": false,
     "start_time": "2024-03-25T17:58:41.856917",
     "status": "completed"
    },
    "slideshow": {
     "slide_type": ""
    },
    "tags": []
   },
   "outputs": [
    {
     "name": "stdout",
     "output_type": "stream",
     "text": [
      "soap_notes_fp = soap_note_sample1test_10415772-DS-14.csv note_id = 10415772-DS-14\n"
     ]
    }
   ],
   "source": [
    "print(\"soap_notes_fp =\", soap_notes_fp, \"note_id =\", note_id)"
   ]
  },
  {
   "cell_type": "markdown",
   "id": "8201b927-ffb6-4ec5-9e7c-6ce39b89804f",
   "metadata": {
    "papermill": {
     "duration": 0.004907,
     "end_time": "2024-03-25T17:58:41.878724",
     "exception": false,
     "start_time": "2024-03-25T17:58:41.873817",
     "status": "completed"
    },
    "slideshow": {
     "slide_type": ""
    },
    "tags": []
   },
   "source": [
    "# SOAP Note Generation\n",
    "\n",
    "This notebook performs step 1 of the Brief Hospital Course pipeline, in which we generate a SOAP note for each service based on a list of information that has been passed into a GPT-3.5 model. "
   ]
  },
  {
   "cell_type": "code",
   "execution_count": 4,
   "id": "aceb2e41-5c87-4ded-9797-74a5bf121c09",
   "metadata": {
    "papermill": {
     "duration": 0.023497,
     "end_time": "2024-03-25T17:58:41.907481",
     "exception": false,
     "start_time": "2024-03-25T17:58:41.883984",
     "status": "completed"
    },
    "slideshow": {
     "slide_type": ""
    },
    "tags": []
   },
   "outputs": [],
   "source": [
    "%load_ext autoreload\n",
    "%autoreload 2"
   ]
  },
  {
   "cell_type": "code",
   "execution_count": 5,
   "id": "47f4516e-b3cb-4179-982e-f783e7cc1514",
   "metadata": {
    "papermill": {
     "duration": 2.540264,
     "end_time": "2024-03-25T17:58:44.452880",
     "exception": false,
     "start_time": "2024-03-25T17:58:41.912616",
     "status": "completed"
    },
    "slideshow": {
     "slide_type": ""
    },
    "tags": []
   },
   "outputs": [],
   "source": [
    "import pandas as pd\n",
    "import ast\n",
    "import numpy as np\n",
    "\n",
    "from tqdm import tqdm\n",
    "# from tqdm.auto import tqdm  # for notebooks\n",
    "tqdm.pandas()\n",
    "\n",
    "import os\n",
    "import openai"
   ]
  },
  {
   "cell_type": "code",
   "execution_count": 6,
   "id": "a3beef81-0897-454d-ba25-bff5bb47fa3e",
   "metadata": {
    "papermill": {
     "duration": 0.034064,
     "end_time": "2024-03-25T17:58:44.565236",
     "exception": false,
     "start_time": "2024-03-25T17:58:44.531172",
     "status": "completed"
    },
    "tags": []
   },
   "outputs": [
    {
     "data": {
      "text/plain": [
       "True"
      ]
     },
     "execution_count": 6,
     "metadata": {},
     "output_type": "execute_result"
    }
   ],
   "source": [
    "from dotenv import load_dotenv\n",
    "load_dotenv()  # take environment variables from .env."
   ]
  },
  {
   "cell_type": "code",
   "execution_count": 29,
   "id": "412bcad0-1916-41ab-9387-4176baefbcb7",
   "metadata": {
    "papermill": {
     "duration": 0.025167,
     "end_time": "2024-03-25T17:58:44.595690",
     "exception": false,
     "start_time": "2024-03-25T17:58:44.570523",
     "status": "completed"
    },
    "slideshow": {
     "slide_type": ""
    },
    "tags": []
   },
   "outputs": [],
   "source": [
    "from preprocessing import *\n",
    "from prompt_functions import get_replacement_data"
   ]
  },
  {
   "cell_type": "code",
   "execution_count": 8,
   "id": "4b0be8c0-fc35-41c8-bb40-34d7780e0021",
   "metadata": {},
   "outputs": [],
   "source": [
    "root_path = \"/gpfs/gibbs/project/rtaylor/shared/DischargeMe/\""
   ]
  },
  {
   "cell_type": "markdown",
   "id": "b10e1a55-ff0b-4c1d-b0de-5d209e31c1cb",
   "metadata": {
    "papermill": {
     "duration": 0.004698,
     "end_time": "2024-03-25T17:58:44.605307",
     "exception": false,
     "start_time": "2024-03-25T17:58:44.600609",
     "status": "completed"
    },
    "slideshow": {
     "slide_type": ""
    },
    "tags": []
   },
   "source": [
    "## Read in Prompts"
   ]
  },
  {
   "cell_type": "code",
   "execution_count": 9,
   "id": "86a5e990-619b-4da2-a109-c0839622afeb",
   "metadata": {
    "papermill": {
     "duration": 0.025601,
     "end_time": "2024-03-25T17:58:44.635523",
     "exception": false,
     "start_time": "2024-03-25T17:58:44.609922",
     "status": "completed"
    },
    "tags": []
   },
   "outputs": [],
   "source": [
    "prompts = pd.read_csv(\"soap_note_prompts.csv\")"
   ]
  },
  {
   "cell_type": "markdown",
   "id": "3bed84bf-c057-48f3-82e9-aa4ca381ce39",
   "metadata": {
    "papermill": {
     "duration": 0.004965,
     "end_time": "2024-03-25T17:58:44.648569",
     "exception": false,
     "start_time": "2024-03-25T17:58:44.643604",
     "status": "completed"
    },
    "slideshow": {
     "slide_type": ""
    },
    "tags": []
   },
   "source": [
    "## Read in Radiology Reports"
   ]
  },
  {
   "cell_type": "code",
   "execution_count": null,
   "id": "92b98f68-904c-4c1a-8b64-0259f1b67c13",
   "metadata": {},
   "outputs": [],
   "source": []
  },
  {
   "cell_type": "code",
   "execution_count": 10,
   "id": "e61e5e2e-abb1-4c55-8ad4-3a021195ac56",
   "metadata": {
    "papermill": {
     "duration": 4.624049,
     "end_time": "2024-03-25T17:58:49.277648",
     "exception": false,
     "start_time": "2024-03-25T17:58:44.653599",
     "status": "completed"
    },
    "tags": []
   },
   "outputs": [],
   "source": [
    "radiology = pd.read_csv(f\"{root_path}public/train/radiology.csv.gz\")"
   ]
  },
  {
   "cell_type": "markdown",
   "id": "c2754157-fa3a-448b-9f8e-79b42c5b94dd",
   "metadata": {
    "papermill": {
     "duration": 0.005097,
     "end_time": "2024-03-25T17:58:49.292736",
     "exception": false,
     "start_time": "2024-03-25T17:58:49.287639",
     "status": "completed"
    },
    "tags": []
   },
   "source": [
    "## Read in Structured Data"
   ]
  },
  {
   "cell_type": "code",
   "execution_count": 311,
   "id": "4e5225a1-4fda-4c9f-978a-eb54b071296b",
   "metadata": {},
   "outputs": [],
   "source": [
    "###### \n",
    "# Challenge Data\n",
    "\n",
    "# discharge summaries\n",
    "discharges = pd.read_csv(f\"{root_path}public/train/discharge.csv.gz\")\n",
    "\n",
    "# ed stays\n",
    "train_edstays = pd.read_csv(f'{root_path}public/train/edstays.csv.gz')\n",
    "valid_edstays = pd.read_csv(f'{root_path}public/valid/edstays.csv.gz')\n",
    "test_edstays = pd.read_csv(f'{root_path}public/test_phase_1/edstays.csv.gz')\n",
    "\n",
    "# triage\n",
    "train_triage = pd.read_csv(f'{root_path}public/train/triage.csv.gz')\n",
    "valid_triage = pd.read_csv(f'{root_path}public/valid/triage.csv.gz')\n",
    "test_triage = pd.read_csv(f'{root_path}public/test_phase_1/triage.csv.gz')\n"
   ]
  },
  {
   "cell_type": "code",
   "execution_count": 315,
   "id": "82862657-f972-4c72-b47c-6bd83a7dd2c8",
   "metadata": {},
   "outputs": [],
   "source": [
    "train_edstays['split'] = \"train\"\n",
    "valid_edstays['split'] = \"valid\"\n",
    "test_edstays['split'] = \"test\"\n",
    "\n",
    "\n",
    "train_triage['split'] = \"train\"\n",
    "valid_triage['split'] = \"valid\"\n",
    "test_triage['split'] = \"test\""
   ]
  },
  {
   "cell_type": "code",
   "execution_count": 316,
   "id": "35fc8916-94b5-4157-826c-0cc546ff3e77",
   "metadata": {},
   "outputs": [],
   "source": [
    "edstays = pd.concat([train_edstays, valid_edstays, test_edstays], axis=0)\n",
    "triage = pd.concat([train_triage, valid_triage, test_triage], axis=0)\n"
   ]
  },
  {
   "cell_type": "code",
   "execution_count": 11,
   "id": "f3d29f00-43fb-4b8a-bfac-dc45246dd6c3",
   "metadata": {
    "papermill": {
     "duration": 20.05104,
     "end_time": "2024-03-25T17:59:09.348800",
     "exception": false,
     "start_time": "2024-03-25T17:58:49.297760",
     "status": "completed"
    },
    "slideshow": {
     "slide_type": ""
    },
    "tags": []
   },
   "outputs": [],
   "source": [
    "\n",
    "###### \n",
    "# MIMIC-IV Data\n",
    "\n",
    "# ward transfers\n",
    "transfers = pd.read_pickle(f'{root_path}mimiciv/hosp/cohort_transfers.pkl')\n",
    "\n",
    "# higher-level services (ICU, CARD, etc)\n",
    "services = pd.read_pickle(f'{root_path}mimiciv/hosp/cohort_services.pkl')\n",
    "\n",
    "# get patient info\n",
    "pts = pd.read_pickle(f'{root_path}mimiciv/hosp/cohort_patients.pkl')\n",
    "\n",
    "# admission demographics\n",
    "admissions = pd.read_pickle(f'{root_path}mimiciv/hosp/cohort_admissions.pkl')\n",
    "\n",
    "# procedures\n",
    "procs = pd.read_pickle(f'{root_path}mimiciv/hosp/cohort_procedures_icd.pkl')\n",
    "\n",
    "# diagnoses\n",
    "diags = pd.read_pickle(f'{root_path}mimiciv/hosp/cohort_diagnoses_icd.pkl')\n",
    "\n",
    "# meds\n",
    "med_orders = pd.read_pickle(f'{root_path}mimiciv/hosp/cohort_emar.pkl')\n"
   ]
  },
  {
   "cell_type": "code",
   "execution_count": 12,
   "id": "3bd2f59c-6e0d-4943-91b5-c506b5d00448",
   "metadata": {
    "papermill": {
     "duration": 30.308404,
     "end_time": "2024-03-25T17:59:39.666744",
     "exception": false,
     "start_time": "2024-03-25T17:59:09.358340",
     "status": "completed"
    },
    "slideshow": {
     "slide_type": ""
    },
    "tags": []
   },
   "outputs": [],
   "source": [
    "prescriptions = pd.read_pickle(f'{root_path}mimiciv/hosp/cohort_prescriptions.pkl')\n",
    "labs = pd.read_pickle(f'{root_path}mimiciv/hosp/cohort_labevents.pkl')\n",
    "microbio = pd.read_pickle(f'{root_path}mimiciv/hosp/cohort_microbiologyevents.pkl')"
   ]
  },
  {
   "cell_type": "markdown",
   "id": "634a8b4d-3160-448b-b438-98dc96af4335",
   "metadata": {
    "papermill": {
     "duration": 0.004761,
     "end_time": "2024-03-25T17:59:39.703120",
     "exception": false,
     "start_time": "2024-03-25T17:59:39.698359",
     "status": "completed"
    },
    "tags": []
   },
   "source": [
    "### Clean up/type cast data"
   ]
  },
  {
   "cell_type": "code",
   "execution_count": 13,
   "id": "d87389d5-a996-40f0-929b-dbd36ef65457",
   "metadata": {
    "papermill": {
     "duration": 0.262095,
     "end_time": "2024-03-25T17:59:39.971016",
     "exception": false,
     "start_time": "2024-03-25T17:59:39.708921",
     "status": "completed"
    },
    "tags": []
   },
   "outputs": [
    {
     "name": "stderr",
     "output_type": "stream",
     "text": [
      "/tmp/ipykernel_334481/85971565.py:1: FutureWarning: errors='ignore' is deprecated and will raise in a future version. Use to_numeric without passing `errors` and catch exceptions explicitly instead\n",
      "  transfers.loc['hadm_id'] = pd.to_numeric(transfers[\"hadm_id\"], errors=\"ignore\")\n"
     ]
    }
   ],
   "source": [
    "transfers.loc['hadm_id'] = pd.to_numeric(transfers[\"hadm_id\"], errors=\"ignore\")"
   ]
  },
  {
   "cell_type": "code",
   "execution_count": 14,
   "id": "3a251ee2-4e76-49ac-ba8b-66440c7c1769",
   "metadata": {
    "papermill": {
     "duration": 3.633792,
     "end_time": "2024-03-25T17:59:43.613564",
     "exception": false,
     "start_time": "2024-03-25T17:59:39.979772",
     "status": "completed"
    },
    "tags": []
   },
   "outputs": [],
   "source": [
    "med_orders = med_orders[~med_orders['charttime'].isna() & \n",
    "                        ~med_orders['medication'].isna() & \n",
    "                        ~med_orders['event_txt'].isna()]"
   ]
  },
  {
   "cell_type": "code",
   "execution_count": 15,
   "id": "f9f637d2-fb88-4f4e-91ec-5ce68edba838",
   "metadata": {
    "papermill": {
     "duration": 19.455717,
     "end_time": "2024-03-25T18:00:03.077696",
     "exception": false,
     "start_time": "2024-03-25T17:59:43.621979",
     "status": "completed"
    },
    "tags": []
   },
   "outputs": [],
   "source": [
    "procs = procs.astype({\"chartdate\":\"datetime64[ns]\"})\n",
    "med_orders = med_orders.astype({\"charttime\":\"datetime64[ns]\",\n",
    "                  \"scheduletime\":\"datetime64[ns]\",\n",
    "                  \"storetime\":\"datetime64[ns]\",})\n",
    "\n",
    "discharges = discharges.astype({\"charttime\":\"datetime64[ns]\",\n",
    "                               \"storetime\":\"datetime64[ns]\"})"
   ]
  },
  {
   "cell_type": "code",
   "execution_count": 16,
   "id": "b27d6895-105f-4a1f-8eda-9e94dcb2325f",
   "metadata": {
    "papermill": {
     "duration": 0.076614,
     "end_time": "2024-03-25T18:00:03.163808",
     "exception": false,
     "start_time": "2024-03-25T18:00:03.087194",
     "status": "completed"
    },
    "tags": []
   },
   "outputs": [],
   "source": [
    "edstays = edstays.astype({\"intime\":\"datetime64[ns]\",\n",
    "                         \"outtime\":\"datetime64[ns]\"})"
   ]
  },
  {
   "cell_type": "code",
   "execution_count": 17,
   "id": "a8e2a812-1cb0-4f24-89af-cf0ecdfe6097",
   "metadata": {
    "papermill": {
     "duration": 50.808363,
     "end_time": "2024-03-25T18:00:53.977312",
     "exception": false,
     "start_time": "2024-03-25T18:00:03.168949",
     "status": "completed"
    },
    "tags": []
   },
   "outputs": [],
   "source": [
    "prescriptions = prescriptions.astype({\"starttime\":\"datetime64[ns]\",\n",
    "                      \"stoptime\":\"datetime64[ns]\"})\n",
    "labs = labs.astype({\"charttime\":\"datetime64[ns]\",\n",
    "                      \"storetime\":\"datetime64[ns]\"})\n",
    "\n",
    "microbio = microbio.astype({\"chartdate\":\"datetime64[ns]\",\n",
    "                      \"charttime\":\"datetime64[ns]\",\n",
    "                           \"storetime\":\"datetime64[ns]\",\n",
    "                      \"charttime\":\"datetime64[ns]\"})"
   ]
  },
  {
   "cell_type": "code",
   "execution_count": 195,
   "id": "deb34385-f3b9-4216-ba67-a65d13c97449",
   "metadata": {
    "papermill": {
     "duration": 69.724524,
     "end_time": "2024-03-25T18:02:03.713153",
     "exception": false,
     "start_time": "2024-03-25T18:00:53.988629",
     "status": "completed"
    },
    "tags": []
   },
   "outputs": [],
   "source": [
    "# generate free text sections of tables concatenating columns\n",
    "med_orders['admin_text'] = med_orders['medication'].fillna(\"\") + \" at \" + med_orders['charttime'].dt.strftime('%B %d, %Y, %r').fillna(\"\")\n",
    "# TODO SORAYA: Add the right information in here that we actually want for the meds\n",
    "prescriptions['drug'] = prescriptions['drug'].str.lower()\n",
    "Flush = [\".*flush.*\", \".*dextrose.*\", \".*sodium chloride.*\", \".*syringe.*\", \".*d10w.*\",\n",
    "        \".*nacl.*\", \".*d5.*\",\".*solution.*\",  \".*water.*\", \"lr \",\".*bag.*\", \".*soln.*\",\n",
    "        \".*dextran.*\", \".*saline.*\",\".*ringer.*\", r\"\\bns\\b\", r\"\\blr\\b\", \".*sw.*\"]\n",
    "\n",
    "Other = [\".*vaccine.*\", \".*rinse.*\", \".*vial.*\", \".*tear.*\", \".*nicotine.*\", \".*iohexol.*\", \".*ethanol.*\",\n",
    "        \".*spray.*\", \".*patch.*\", \".*barium.*\", \".*catheter.*\", \".*pad.*\"]\n",
    "Lotions = [\".*oil.*\",\".*cream.*\", \".*oint.*\", \".*gel.*\",\".*lotion.*\"]\n",
    "GI = [\".*ondansetron.*\", \".*prazol.*\",\".*senna.*\",\".*docusate.*\", \".*scopolamine.*\", \".*ibuprofen.*\", \n",
    "      \".*lactulose.*\", \".*simethicone.*\",  \".*bisacodyl.*\", \".*polyethylene.*\", \".*ranitidine.*\", \".*lactulose.*\",\n",
    "     \".*magnesium.*\", \".*famotidine.*\", \".*magnesia.*\", \".*dicyclomin.*\", \".*promethazine.*\", \".*zofran.*\"]\n",
    "Pain = [\".*caine.*\", \".*acetaminophen.*\", \".*codein.*\", \".*gabapentin.*\"]\n",
    "Mineral = [\".*vitamin.*\",  \".*folic acid.*\", \".*ferrous.*\", \".*thiamine.*\", \".*neutra-phos.*\"]\n",
    "SoreThroat = [\".*cepacol.*\", \".*guaifenesin.*\"]\n",
    "Primary = [\".*statin.*\"]\n",
    "Antidepress = [\".*sertraline.*\", \".*bupropion.*\", \".*xetine.*\", \".*pram.*\", \".*fluvoxamine.*\", \n",
    "          \".*faxine.*\", \".*levomilnacipran .*\", \".*mirtazapine.*\", \".*triptyline.*\", \".*ipramine.*\"]\n",
    "Sleeping = [\".*trazodone.*\", \".*zolpidem.*\", \".*zaleplon.*\", \".*triazolam .*\", \".*zaleplon.*\", \n",
    "           \".*temazepam.*\", \".*suvorexant.*\", \".*ramelteon.*\", \".*lemborexant.*\", \".*eszopiclone.*\",\n",
    "           \".doxepin.*\", \".*daridorexant.*\", \".*zz.*\"]\n",
    "dementia = ['.*donepezil.*', '.*rivastigmine.*', '.*galantamine.*', \".*memantine.*\"]\n",
    "MED_check = Flush + Other + Lotions + Pain + Mineral + SoreThroat + Primary + Sleeping + GI + dementia + Antidepress\n",
    "\n",
    "# Creating a single regex pattern\n",
    "combined_pattern = '|'.join(MED_check)\n",
    "\n",
    "# Filter rows based on regex pattern\n",
    "mask = prescriptions['drug'].notna() & prescriptions['drug'].str.contains(combined_pattern, regex=True)\n",
    "prescriptions = prescriptions[~mask]\n",
    "\n",
    "prescriptions['text'] = prescriptions['drug'].fillna(\"\") + \" \" + prescriptions['prod_strength'].fillna(\"\")"
   ]
  },
  {
   "cell_type": "code",
   "execution_count": 58,
   "id": "d484f8d6-13cb-4d27-a0ab-3ff60ee4aee0",
   "metadata": {
    "papermill": {
     "duration": 53.383171,
     "end_time": "2024-03-25T18:02:57.106136",
     "exception": false,
     "start_time": "2024-03-25T18:02:03.722965",
     "status": "completed"
    },
    "tags": []
   },
   "outputs": [],
   "source": [
    "# TODO THOMAS: figure out how to better encapsulate lab values\n",
    "\n",
    "# Filtering labs for only abnormal lab values\n",
    "filtered_labs = labs[(labs['valuenum'] < labs['ref_range_lower']) | (labs['valuenum'] > labs['ref_range_upper'])]\n",
    "\n",
    "filtered_labs['text'] = (filtered_labs['category'].fillna(\"\") + \" ordered with \"+filtered_labs['priority'].fillna(\"\")+\" priority, \" + filtered_labs['fluid'].fillna(\"\") + \" \" \n",
    "                + filtered_labs['label'].fillna(\"\") + \": \" + filtered_labs['value'].fillna(\"\") + \" \" \n",
    "                + filtered_labs['valueuom'].fillna(\"\")\n",
    "                + \" with additional comments\" + filtered_labs['comments'].fillna(\"\"))\n",
    "\n",
    "#Commented out for now to avoid overwriting original labs, but uncomment to bring the filtered labs back into the labs name\n",
    "labs = filtered_labs"
   ]
  },
  {
   "cell_type": "code",
   "execution_count": 20,
   "id": "41115aff-2145-4d88-93fd-cd00e690a32a",
   "metadata": {
    "papermill": {
     "duration": 0.498004,
     "end_time": "2024-03-25T18:02:57.614331",
     "exception": false,
     "start_time": "2024-03-25T18:02:57.116327",
     "status": "completed"
    },
    "slideshow": {
     "slide_type": ""
    },
    "tags": []
   },
   "outputs": [
    {
     "name": "stderr",
     "output_type": "stream",
     "text": [
      "/tmp/ipykernel_334481/2317201544.py:13: UserWarning: This pattern is interpreted as a regular expression, and has match groups. To actually get the groups, use str.extract.\n",
      "  microbio['negation_or_negative_detected'] = microbio['comments'].str.contains(pattern, regex=True)\n",
      "/tmp/ipykernel_334481/2317201544.py:14: FutureWarning: Downcasting object dtype arrays on .fillna, .ffill, .bfill is deprecated and will change in a future version. Call result.infer_objects(copy=False) instead. To opt-in to the future behavior, set `pd.set_option('future.no_silent_downcasting', True)`\n",
      "  microbio['negation_or_negative_detected'] = microbio['negation_or_negative_detected'].fillna(False)\n"
     ]
    }
   ],
   "source": [
    "# TODO SORAYA: check for those patients that don't have comments (they might not have useful information in the test)\n",
    "\n",
    "#drop labs with no organism detected\n",
    "microbio.dropna(subset=['org_name'], inplace=True)\n",
    "# Filter out rows where 'org_name' contains 'cancelled'\n",
    "microbio = microbio[~microbio['org_name'].str.contains('cancelled', case=False)]\n",
    "\n",
    "# regex pattern\n",
    "pattern = r'\\b(not detected|negative|nonreactive|no|discontinued|not|unknown|absent|cancelled|non|rare|unable|sparse|___|none|duplicate|invalidates)\\b'\n",
    "\n",
    "# Check for the negation patterns and eliminate them\n",
    "microbio['comments'] = microbio['comments'].str.lower()\n",
    "microbio['negation_or_negative_detected'] = microbio['comments'].str.contains(pattern, regex=True)\n",
    "microbio['negation_or_negative_detected'] = microbio['negation_or_negative_detected'].fillna(False)\n",
    "microbio = microbio[~microbio['negation_or_negative_detected']]\n",
    "\n",
    "microbio['text'] = microbio['test_name'].fillna(\"\") + \": \" + microbio['org_name'].fillna(\"\")"
   ]
  },
  {
   "cell_type": "code",
   "execution_count": 21,
   "id": "dfdc04d3-0756-4600-bf94-3c03b3598250",
   "metadata": {},
   "outputs": [
    {
     "data": {
      "text/html": [
       "<div>\n",
       "<style scoped>\n",
       "    .dataframe tbody tr th:only-of-type {\n",
       "        vertical-align: middle;\n",
       "    }\n",
       "\n",
       "    .dataframe tbody tr th {\n",
       "        vertical-align: top;\n",
       "    }\n",
       "\n",
       "    .dataframe thead th {\n",
       "        text-align: right;\n",
       "    }\n",
       "</style>\n",
       "<table border=\"1\" class=\"dataframe\">\n",
       "  <thead>\n",
       "    <tr style=\"text-align: right;\">\n",
       "      <th></th>\n",
       "      <th>subject_id</th>\n",
       "      <th>gender</th>\n",
       "      <th>anchor_age</th>\n",
       "      <th>anchor_year</th>\n",
       "      <th>anchor_year_group</th>\n",
       "      <th>dod</th>\n",
       "    </tr>\n",
       "  </thead>\n",
       "  <tbody>\n",
       "    <tr>\n",
       "      <th>0</th>\n",
       "      <td>10000032</td>\n",
       "      <td>F</td>\n",
       "      <td>52</td>\n",
       "      <td>2180</td>\n",
       "      <td>2014 - 2016</td>\n",
       "      <td>2180-09-09</td>\n",
       "    </tr>\n",
       "    <tr>\n",
       "      <th>7</th>\n",
       "      <td>10000117</td>\n",
       "      <td>F</td>\n",
       "      <td>48</td>\n",
       "      <td>2174</td>\n",
       "      <td>2008 - 2010</td>\n",
       "      <td>NaN</td>\n",
       "    </tr>\n",
       "    <tr>\n",
       "      <th>23</th>\n",
       "      <td>10000764</td>\n",
       "      <td>M</td>\n",
       "      <td>86</td>\n",
       "      <td>2132</td>\n",
       "      <td>2014 - 2016</td>\n",
       "      <td>NaN</td>\n",
       "    </tr>\n",
       "    <tr>\n",
       "      <th>30</th>\n",
       "      <td>10000935</td>\n",
       "      <td>F</td>\n",
       "      <td>52</td>\n",
       "      <td>2182</td>\n",
       "      <td>2008 - 2010</td>\n",
       "      <td>2187-11-12</td>\n",
       "    </tr>\n",
       "    <tr>\n",
       "      <th>33</th>\n",
       "      <td>10000980</td>\n",
       "      <td>F</td>\n",
       "      <td>73</td>\n",
       "      <td>2186</td>\n",
       "      <td>2008 - 2010</td>\n",
       "      <td>2193-08-26</td>\n",
       "    </tr>\n",
       "    <tr>\n",
       "      <th>...</th>\n",
       "      <td>...</td>\n",
       "      <td>...</td>\n",
       "      <td>...</td>\n",
       "      <td>...</td>\n",
       "      <td>...</td>\n",
       "      <td>...</td>\n",
       "    </tr>\n",
       "    <tr>\n",
       "      <th>299688</th>\n",
       "      <td>19999204</td>\n",
       "      <td>M</td>\n",
       "      <td>61</td>\n",
       "      <td>2146</td>\n",
       "      <td>2017 - 2019</td>\n",
       "      <td>2146-08-29</td>\n",
       "    </tr>\n",
       "    <tr>\n",
       "      <th>299689</th>\n",
       "      <td>19999287</td>\n",
       "      <td>F</td>\n",
       "      <td>71</td>\n",
       "      <td>2191</td>\n",
       "      <td>2008 - 2010</td>\n",
       "      <td>2197-09-02</td>\n",
       "    </tr>\n",
       "    <tr>\n",
       "      <th>299706</th>\n",
       "      <td>19999784</td>\n",
       "      <td>M</td>\n",
       "      <td>57</td>\n",
       "      <td>2119</td>\n",
       "      <td>2017 - 2019</td>\n",
       "      <td>NaN</td>\n",
       "    </tr>\n",
       "    <tr>\n",
       "      <th>299707</th>\n",
       "      <td>19999828</td>\n",
       "      <td>F</td>\n",
       "      <td>46</td>\n",
       "      <td>2147</td>\n",
       "      <td>2017 - 2019</td>\n",
       "      <td>NaN</td>\n",
       "    </tr>\n",
       "    <tr>\n",
       "      <th>299711</th>\n",
       "      <td>19999987</td>\n",
       "      <td>F</td>\n",
       "      <td>57</td>\n",
       "      <td>2145</td>\n",
       "      <td>2011 - 2013</td>\n",
       "      <td>NaN</td>\n",
       "    </tr>\n",
       "  </tbody>\n",
       "</table>\n",
       "<p>61316 rows × 6 columns</p>\n",
       "</div>"
      ],
      "text/plain": [
       "        subject_id gender  anchor_age  anchor_year anchor_year_group  \\\n",
       "0         10000032      F          52         2180       2014 - 2016   \n",
       "7         10000117      F          48         2174       2008 - 2010   \n",
       "23        10000764      M          86         2132       2014 - 2016   \n",
       "30        10000935      F          52         2182       2008 - 2010   \n",
       "33        10000980      F          73         2186       2008 - 2010   \n",
       "...            ...    ...         ...          ...               ...   \n",
       "299688    19999204      M          61         2146       2017 - 2019   \n",
       "299689    19999287      F          71         2191       2008 - 2010   \n",
       "299706    19999784      M          57         2119       2017 - 2019   \n",
       "299707    19999828      F          46         2147       2017 - 2019   \n",
       "299711    19999987      F          57         2145       2011 - 2013   \n",
       "\n",
       "               dod  \n",
       "0       2180-09-09  \n",
       "7              NaN  \n",
       "23             NaN  \n",
       "30      2187-11-12  \n",
       "33      2193-08-26  \n",
       "...            ...  \n",
       "299688  2146-08-29  \n",
       "299689  2197-09-02  \n",
       "299706         NaN  \n",
       "299707         NaN  \n",
       "299711         NaN  \n",
       "\n",
       "[61316 rows x 6 columns]"
      ]
     },
     "execution_count": 21,
     "metadata": {},
     "output_type": "execute_result"
    }
   ],
   "source": [
    "pts"
   ]
  },
  {
   "cell_type": "markdown",
   "id": "8f773b89-0263-416c-93a5-98c59087637b",
   "metadata": {
    "papermill": {
     "duration": 0.004958,
     "end_time": "2024-03-25T18:02:57.627801",
     "exception": false,
     "start_time": "2024-03-25T18:02:57.622843",
     "status": "completed"
    },
    "slideshow": {
     "slide_type": ""
    },
    "tags": []
   },
   "source": [
    "## Generate Replacement Data\n",
    "\n",
    "In case something is missing from the preceding text, we can generate it using this"
   ]
  },
  {
   "cell_type": "code",
   "execution_count": 321,
   "id": "468a30eb-598e-445d-a438-4737c834c6a6",
   "metadata": {},
   "outputs": [],
   "source": [
    "from prompt_functions import get_replacement_data"
   ]
  },
  {
   "cell_type": "code",
   "execution_count": 208,
   "id": "dc615fe0-36bb-4a1e-b4ad-7d1897e01cac",
   "metadata": {},
   "outputs": [],
   "source": [
    "# discharge summaries\n",
    "target_train = pd.read_pickle(root_path + \"public/train/discharge_target_with_preceding_text.pickle\")\n",
    "target_valid = pd.read_pickle(root_path + \"public/valid/discharge_target_with_preceding_text.pickle\")\n",
    "target_test = pd.read_pickle(root_path + \"public/test_phase_1/discharge_target_with_preceding_text.pickle\")"
   ]
  },
  {
   "cell_type": "code",
   "execution_count": 294,
   "id": "d6e5df17-0f93-4d67-9640-f2faa91a48fc",
   "metadata": {
    "papermill": {
     "duration": 0.03099,
     "end_time": "2024-03-25T18:02:57.664053",
     "exception": false,
     "start_time": "2024-03-25T18:02:57.633063",
     "status": "completed"
    },
    "tags": []
   },
   "outputs": [],
   "source": [
    "z = target_test.sample(20)"
   ]
  },
  {
   "cell_type": "code",
   "execution_count": null,
   "id": "f4e22228-a395-42f9-a7f1-bcb0e36764cf",
   "metadata": {
    "scrolled": true
   },
   "outputs": [
    {
     "name": "stdout",
     "output_type": "stream",
     "text": [
      "0\n",
      "100\n",
      "200\n",
      "300\n",
      "400\n",
      "500\n",
      "600\n",
      "700\n",
      "800\n",
      "900\n",
      "1000\n",
      "1100\n",
      "1200\n",
      "1300\n",
      "1400\n",
      "1500\n",
      "1600\n",
      "1700\n",
      "1800\n",
      "1900\n",
      "2000\n",
      "2100\n",
      "2200\n",
      "2300\n",
      "2400\n",
      "2500\n",
      "2600\n",
      "2700\n",
      "2800\n",
      "2900\n",
      "3000\n",
      "3100\n",
      "3200\n",
      "3300\n",
      "3400\n",
      "3500\n",
      "3600\n",
      "3700\n",
      "3800\n",
      "3900\n",
      "4000\n",
      "4100\n",
      "4200\n",
      "4300\n",
      "4400\n",
      "4500\n",
      "4600\n",
      "4700\n",
      "4800\n",
      "4900\n",
      "5000\n",
      "5100\n",
      "5200\n",
      "5300\n",
      "5400\n",
      "5500\n",
      "5600\n",
      "5700\n",
      "5800\n",
      "5900\n",
      "6000\n",
      "6100\n",
      "6200\n",
      "6300\n",
      "6400\n",
      "6500\n",
      "6600\n",
      "6700\n",
      "6800\n",
      "6900\n",
      "7000\n",
      "7100\n",
      "7200\n",
      "7300\n",
      "7400\n",
      "7500\n",
      "7600\n",
      "7700\n",
      "7800\n",
      "7900\n",
      "8000\n",
      "8100\n",
      "8200\n",
      "8300\n",
      "8400\n",
      "8500\n",
      "8600\n",
      "8700\n",
      "8800\n",
      "8900\n",
      "9000\n",
      "9100\n",
      "9200\n",
      "9300\n",
      "9400\n",
      "9500\n",
      "9600\n",
      "9700\n",
      "9800\n",
      "9900\n",
      "10000\n",
      "10100\n",
      "10200\n",
      "10300\n",
      "10400\n",
      "10500\n",
      "10600\n",
      "10700\n",
      "10800\n",
      "10900\n",
      "11000\n",
      "11100\n",
      "11200\n",
      "11300\n",
      "11400\n",
      "11500\n",
      "11600\n",
      "11700\n",
      "11800\n",
      "11900\n",
      "12000\n",
      "12100\n",
      "12200\n",
      "12300\n",
      "12400\n",
      "12500\n",
      "12600\n",
      "12700\n",
      "12800\n",
      "12900\n",
      "13000\n",
      "13100\n",
      "13200\n",
      "13300\n",
      "13400\n",
      "13500\n",
      "13600\n",
      "13700\n",
      "13800\n",
      "13900\n",
      "14000\n",
      "14100\n",
      "14200\n",
      "14300\n",
      "14400\n",
      "14500\n",
      "14600\n",
      "14700\n",
      "14800\n",
      "14900\n",
      "15000\n",
      "15100\n",
      "15200\n",
      "15300\n",
      "15400\n",
      "15500\n",
      "15600\n",
      "15700\n",
      "15800\n",
      "15900\n",
      "16000\n",
      "16100\n",
      "16200\n",
      "16300\n",
      "16400\n",
      "16500\n",
      "16600\n",
      "16700\n",
      "16800\n",
      "16900\n",
      "17000\n",
      "17100\n",
      "17200\n",
      "17300\n",
      "17400\n",
      "17500\n",
      "17600\n",
      "17700\n",
      "17800\n",
      "17900\n",
      "18000\n",
      "18100\n",
      "18200\n",
      "18300\n",
      "18400\n",
      "18500\n",
      "18600\n",
      "18700\n",
      "18800\n",
      "18900\n",
      "19000\n",
      "19100\n",
      "19200\n",
      "19300\n",
      "19400\n",
      "19500\n",
      "19600\n",
      "19700\n",
      "19800\n",
      "19900\n",
      "20000\n",
      "20100\n",
      "20200\n",
      "20300\n",
      "20400\n",
      "20500\n",
      "20600\n",
      "20700\n",
      "20800\n",
      "20900\n",
      "21000\n",
      "21100\n",
      "21200\n",
      "21300\n",
      "21400\n",
      "21500\n",
      "21600\n",
      "21700\n",
      "21800\n",
      "21900\n",
      "22000\n",
      "22100\n",
      "22200\n",
      "22300\n",
      "22400\n",
      "22500\n",
      "22600\n",
      "22700\n",
      "22800\n",
      "22900\n",
      "23000\n",
      "23100\n",
      "23200\n",
      "23300\n",
      "23400\n",
      "23500\n",
      "23600\n",
      "23700\n",
      "23800\n",
      "23900\n",
      "24000\n",
      "24100\n",
      "24200\n",
      "24300\n",
      "24400\n",
      "24500\n",
      "24600\n",
      "24700\n",
      "24800\n",
      "24900\n",
      "25000\n",
      "25100\n",
      "25200\n",
      "25300\n",
      "25400\n",
      "25500\n",
      "25600\n",
      "25700\n",
      "25800\n",
      "25900\n",
      "26000\n",
      "26100\n",
      "26200\n",
      "26300\n",
      "26400\n",
      "26500\n",
      "26600\n",
      "26700\n",
      "26800\n",
      "26900\n",
      "27000\n",
      "27100\n",
      "27200\n",
      "27300\n",
      "27400\n",
      "27500\n",
      "27600\n",
      "27700\n",
      "27800\n",
      "27900\n",
      "28000\n",
      "28100\n",
      "28200\n",
      "28300\n",
      "28400\n",
      "28500\n",
      "28600\n",
      "28700\n",
      "28800\n",
      "28900\n",
      "29000\n",
      "29100\n",
      "29200\n",
      "29300\n",
      "29400\n",
      "29500\n",
      "29600\n",
      "29700\n",
      "29800\n",
      "29900\n",
      "30000\n",
      "30100\n",
      "30200\n",
      "30300\n",
      "30400\n",
      "30500\n",
      "30600\n",
      "30700\n",
      "30800\n",
      "30900\n",
      "31000\n",
      "31100\n",
      "31200\n",
      "31300\n",
      "31400\n",
      "31500\n",
      "31600\n",
      "31700\n",
      "31800\n",
      "31900\n",
      "32000\n",
      "32100\n",
      "32200\n",
      "32300\n",
      "32400\n",
      "32500\n",
      "32600\n",
      "32700\n",
      "32800\n",
      "32900\n",
      "33000\n",
      "33100\n",
      "33200\n",
      "33300\n",
      "33400\n",
      "33500\n",
      "33600\n",
      "33700\n",
      "33800\n",
      "33900\n",
      "34000\n",
      "34100\n",
      "34200\n",
      "34300\n",
      "34400\n",
      "34500\n",
      "34600\n",
      "34700\n",
      "34800\n",
      "34900\n",
      "35000\n",
      "35100\n",
      "35200\n",
      "35300\n",
      "35400\n",
      "35500\n",
      "35600\n",
      "35700\n",
      "35800\n",
      "35900\n",
      "36000\n",
      "36100\n",
      "36200\n",
      "36300\n",
      "36400\n",
      "36500\n",
      "36600\n",
      "36700\n",
      "36800\n",
      "36900\n",
      "37000\n",
      "37100\n",
      "37200\n",
      "37300\n",
      "37400\n",
      "37500\n",
      "37600\n",
      "37700\n",
      "37800\n",
      "37900\n",
      "38000\n",
      "38100\n",
      "38200\n",
      "38300\n",
      "38400\n",
      "38500\n",
      "38600\n",
      "38700\n",
      "38800\n",
      "38900\n",
      "39000\n",
      "39100\n",
      "39200\n",
      "39300\n",
      "39400\n",
      "39500\n",
      "39600\n",
      "39700\n",
      "39800\n",
      "39900\n",
      "40000\n",
      "40100\n",
      "40200\n",
      "40300\n",
      "40400\n",
      "40500\n",
      "40600\n",
      "40700\n",
      "40800\n",
      "40900\n",
      "41000\n",
      "41100\n",
      "41200\n",
      "41300\n",
      "41400\n",
      "41500\n",
      "41600\n",
      "41700\n",
      "41800\n",
      "41900\n",
      "42000\n",
      "42100\n",
      "42200\n",
      "42300\n",
      "42400\n",
      "42500\n",
      "42600\n",
      "42700\n",
      "42800\n",
      "42900\n",
      "43000\n",
      "43100\n",
      "43200\n",
      "43300\n",
      "43400\n",
      "43500\n",
      "43600\n",
      "43700\n",
      "43800\n",
      "43900\n",
      "44000\n",
      "44100\n",
      "44200\n",
      "44300\n",
      "44400\n",
      "44500\n",
      "44600\n",
      "44700\n",
      "44800\n",
      "44900\n",
      "45000\n",
      "45100\n",
      "45200\n",
      "45300\n",
      "45400\n",
      "45500\n",
      "45600\n",
      "45700\n",
      "45800\n",
      "45900\n",
      "46000\n",
      "46100\n",
      "46200\n",
      "46300\n",
      "46400\n",
      "46500\n",
      "46600\n",
      "46700\n",
      "46800\n",
      "46900\n",
      "47000\n",
      "47100\n",
      "47200\n",
      "47300\n",
      "47400\n",
      "47500\n",
      "47600\n",
      "47700\n",
      "47800\n",
      "47900\n",
      "48000\n",
      "48100\n",
      "48200\n",
      "48300\n",
      "48400\n",
      "48500\n",
      "48600\n",
      "48700\n",
      "48800\n",
      "48900\n",
      "49000\n",
      "49100\n",
      "49200\n",
      "49300\n",
      "49400\n",
      "49500\n",
      "49600\n",
      "49700\n",
      "49800\n",
      "49900\n",
      "50000\n",
      "50100\n",
      "50200\n",
      "50300\n",
      "50400\n",
      "50500\n",
      "50600\n",
      "50700\n",
      "50800\n",
      "50900\n",
      "51000\n",
      "51100\n",
      "51200\n",
      "51300\n",
      "51400\n",
      "51500\n",
      "51600\n",
      "51700\n",
      "51800\n",
      "51900\n",
      "52000\n",
      "52100\n",
      "52200\n",
      "52300\n",
      "52400\n",
      "52500\n",
      "52600\n",
      "52700\n",
      "52800\n",
      "52900\n",
      "53000\n",
      "53100\n",
      "53200\n",
      "53300\n",
      "53400\n",
      "53500\n",
      "53600\n"
     ]
    }
   ],
   "source": [
    "target_train_with_structured = get_replacement_data(target_train, edstays, \n",
    "                         pts, triage, transfers, diags, procs, prescriptions, labs, microbio)\n"
   ]
  },
  {
   "cell_type": "code",
   "execution_count": 349,
   "id": "353c8ded-6a07-44c6-8a11-1789b981b4c2",
   "metadata": {
    "scrolled": true
   },
   "outputs": [
    {
     "name": "stdout",
     "output_type": "stream",
     "text": [
      "0\n",
      "100\n",
      "200\n",
      "300\n",
      "400\n",
      "500\n",
      "600\n",
      "700\n",
      "800\n",
      "900\n",
      "1000\n",
      "1100\n",
      "1200\n",
      "1300\n",
      "1400\n",
      "1500\n",
      "1600\n",
      "1700\n",
      "1800\n",
      "1900\n",
      "2000\n",
      "2100\n",
      "2200\n",
      "2300\n",
      "2400\n",
      "2500\n",
      "2600\n",
      "2700\n",
      "2800\n",
      "2900\n",
      "3000\n",
      "3100\n",
      "3200\n",
      "3300\n",
      "3400\n",
      "3500\n",
      "3600\n",
      "3700\n",
      "3800\n",
      "3900\n",
      "4000\n",
      "4100\n",
      "4200\n",
      "4300\n",
      "4400\n",
      "4500\n",
      "4600\n",
      "4700\n",
      "4800\n",
      "4900\n",
      "5000\n",
      "5100\n",
      "5200\n",
      "5300\n",
      "5400\n",
      "5500\n",
      "5600\n",
      "5700\n",
      "5800\n",
      "5900\n",
      "6000\n",
      "6100\n",
      "6200\n",
      "6300\n",
      "6400\n",
      "6500\n",
      "6600\n",
      "6700\n",
      "6800\n",
      "6900\n",
      "7000\n",
      "7100\n",
      "7200\n",
      "7300\n",
      "7400\n",
      "7500\n",
      "7600\n",
      "7700\n",
      "7800\n",
      "7900\n",
      "8000\n",
      "8100\n",
      "8200\n",
      "8300\n",
      "8400\n",
      "8500\n",
      "8600\n",
      "8700\n",
      "8800\n",
      "8900\n",
      "9000\n",
      "9100\n",
      "9200\n",
      "9300\n",
      "9400\n",
      "9500\n",
      "9600\n",
      "9700\n",
      "9800\n",
      "9900\n",
      "10000\n",
      "10100\n",
      "10200\n",
      "10300\n",
      "10400\n",
      "10500\n",
      "10600\n",
      "10700\n",
      "10800\n",
      "10900\n",
      "11000\n",
      "11100\n",
      "11200\n",
      "11300\n",
      "11400\n",
      "11500\n",
      "11600\n",
      "11700\n",
      "11800\n",
      "11900\n",
      "12000\n",
      "12100\n",
      "12200\n",
      "12300\n",
      "12400\n",
      "12500\n",
      "12600\n",
      "12700\n",
      "12800\n",
      "12900\n",
      "13000\n",
      "13100\n",
      "13200\n",
      "13300\n",
      "13400\n",
      "13500\n",
      "13600\n",
      "13700\n",
      "13800\n",
      "13900\n",
      "14000\n",
      "14100\n",
      "14200\n",
      "14300\n",
      "14400\n",
      "14500\n",
      "14600\n",
      "14700\n"
     ]
    }
   ],
   "source": [
    "target_valid_with_structured = get_replacement_data(target_valid, edstays, \n",
    "                         pts, triage, transfers, diags, procs, prescriptions, labs, microbio)\n"
   ]
  },
  {
   "cell_type": "code",
   "execution_count": null,
   "id": "2bd2d462-0085-4fe5-9a9e-483de1227e64",
   "metadata": {
    "scrolled": true
   },
   "outputs": [],
   "source": [
    "target_test_with_structured = get_replacement_data(target_test,\n",
    "                                                   edstays, \n",
    "                         pts, triage, transfers, diags, procs, prescriptions, labs, microbio)\n"
   ]
  },
  {
   "cell_type": "code",
   "execution_count": null,
   "id": "ee516a20-78a0-45bc-b548-6746b61da51a",
   "metadata": {},
   "outputs": [],
   "source": [
    "target_train_with_structured.to_pickle(root_path + \"public/train/discharge_target_with_preceding_text&structured_data.pickle\")\n",
    "target_valid_with_structured.to_pickle(root_path + \"public/valid/discharge_target_with_preceding_text&structured_data.pickle\")\n",
    "target_test_with_structured.to_pickle(root_path + \"public/test_phase_1/discharge_target_with_preceding_text&structured_data.pickle\")"
   ]
  },
  {
   "cell_type": "code",
   "execution_count": 326,
   "id": "58a9a4ba-a31f-4ae6-b7b3-3967f0c1dadd",
   "metadata": {},
   "outputs": [
    {
     "data": {
      "text/plain": [
       "Index(['index', 'note_id', 'hadm_id', 'discharge_instructions',\n",
       "       'brief_hospital_course', 'discharge_instructions_word_count',\n",
       "       'brief_hospital_course_word_count', 'bhc_preceding_text', '_merge',\n",
       "       'subject_id', 'note_type', 'note_seq', 'charttime', 'storetime', 'text',\n",
       "       'age', 'sex', 'cc', 'diags', 'procs', 'prescriptions', 'labs',\n",
       "       'microbio'],\n",
       "      dtype='object')"
      ]
     },
     "execution_count": 326,
     "metadata": {},
     "output_type": "execute_result"
    }
   ],
   "source": [
    "target_test_with_structured.columns"
   ]
  },
  {
   "cell_type": "code",
   "execution_count": 336,
   "id": "75ff7403-b0f9-4a7c-84c0-c22f3330fa7c",
   "metadata": {},
   "outputs": [],
   "source": [
    "from IPython.display import display, HTML\n",
    "\n",
    "def pretty_print(df):\n",
    "    return display( HTML( df.to_html().replace(\"\\\\n\",\"<br>\") ) )"
   ]
  },
  {
   "cell_type": "code",
   "execution_count": 348,
   "id": "83839d1b-ea80-44ef-9fa8-be0da4d3a0ef",
   "metadata": {},
   "outputs": [
    {
     "data": {
      "text/html": [
       "<table border=\"1\" class=\"dataframe\">\n",
       "  <thead>\n",
       "    <tr style=\"text-align: right;\">\n",
       "      <th></th>\n",
       "      <th>age</th>\n",
       "      <th>sex</th>\n",
       "      <th>cc</th>\n",
       "      <th>diags</th>\n",
       "      <th>procs</th>\n",
       "      <th>prescriptions</th>\n",
       "      <th>labs</th>\n",
       "      <th>microbio</th>\n",
       "    </tr>\n",
       "  </thead>\n",
       "  <tbody>\n",
       "    <tr>\n",
       "      <th>7939</th>\n",
       "      <td>Age:<br>59<br><br></td>\n",
       "      <td>Sex:<br>F<br><br></td>\n",
       "      <td>Chief Complaints:<br>CHEST PAIN<br><br></td>\n",
       "      <td>Admission Diagnoses (ordered by importance):<br>Other chest pain<br>Atrial fibrillation<br>Other fluid overload<br>Sickle-cell trait<br>Anemia in chronic kidney disease<br>Hypertensive chronic kidney disease, unspecified, with chronic kidney disease stage V or end stage renal disease<br>End stage renal disease<br>Glycogenosis<br>Hyperparathyroidism, unspecified<br>Leukocytosis, unspecified<br><br></td>\n",
       "      <td>Procedures (ordered by priority):<br>None<br><br></td>\n",
       "      <td>Medications (ordered chronologically):<br>metoprolol tartrate 5mg/5mL Vial<br>ipratropium bromide neb 2.5mL Vial<br>metoprolol tartrate 5mg/5mL Vial<br>valsartan 40mg Tablet<br>epoetin alfa 4000 Unit Vial<br>hydroxyurea 500mg Capsule<br>amlodipine 5mg Tablet<br>sevelamer carbonate 800mg Tablet<br>heparin (hemodialysis) 1000 Units/mL- 10mL Vial<br>heparin 5000 Units / mL- 1mL Vial<br>diltiazem 50mg/10mL Vial<br>diltiazem 50mg/10mL Vial<br>furosemide 40mg Tablet<br>epoetin alfa 10,000 Unit Vial<br>diltiazem 30 mg Tab<br>hydromorphone (dilaudid) 1mg/1mL Syringe<br>hydromorphone (dilaudid) 2mg Tablet<br>cyclobenzaprine 10 mg Tab<br>lorazepam 1mg Tablet<br>allopurinol 100mg Tab<br>heparin (hemodialysis) 1000 Units/mL- 10mL Vial<br>cyanocobalamin 100 mcg Tablet<br>doxercalciferol 2 mcg / 1 mL Vial<br>albuterol-ipratropium 14.7g Inhaler<br><br></td>\n",
       "      <td>Labs:<br>Chemistry ordered with STAT priority, Blood Lactate Dehydrogenase (LD): 258 IU/L with additional comments<br>Chemistry ordered with STAT priority, Blood Troponin T: ___ ng/mL with additional commentsCTROPNT &gt; 0.10 NG/ML SUGGESTS ACUTE MI.<br>Hematology ordered with ROUTINE priority, Blood Hematocrit: 17.1 % with additional comments<br>Hematology ordered with ROUTINE priority, Blood Hemoglobin: 6.0 g/dL with additional comments<br>Hematology ordered with ROUTINE priority, Blood MCH: 37.3 pg with additional comments<br>Hematology ordered with ROUTINE priority, Blood MCHC: 35.1 % with additional comments<br>Hematology ordered with ROUTINE priority, Blood MCV: 106 fL with additional comments<br>Hematology ordered with ROUTINE priority, Blood RDW: 23.0 % with additional comments<br>Hematology ordered with ROUTINE priority, Blood Red Blood Cells: 1.61 m/uL with additional comments<br>Chemistry ordered with ROUTINE priority, Blood Alkaline Phosphatase: 253 IU/L with additional comments<br>Chemistry ordered with ROUTINE priority, Blood Creatinine: 5.3 mg/dL with additional comments<br>Chemistry ordered with ROUTINE priority, Blood Glucose: ___ mg/dL with additional commentsIF FASTING, 70-100 NORMAL, &gt;125 PROVISIONAL DIABETES.<br>Chemistry ordered with ROUTINE priority, Blood Lactate Dehydrogenase (LD): 260 IU/L with additional comments<br>Chemistry ordered with ROUTINE priority, Blood Troponin T: ___ ng/mL with additional commentsCTROPNT &gt; 0.10 NG/ML SUGGESTS ACUTE MI.<br>Chemistry ordered with ROUTINE priority, Blood Urea Nitrogen: 29 mg/dL with additional comments<br><br></td>\n",
       "      <td>Microbiology Culture Results:<br>None<br><br></td>\n",
       "    </tr>\n",
       "  </tbody>\n",
       "</table>"
      ],
      "text/plain": [
       "<IPython.core.display.HTML object>"
      ]
     },
     "metadata": {},
     "output_type": "display_data"
    }
   ],
   "source": [
    "pretty_print(target_test_with_structured.sample(1)[[\"age\", \"sex\", \"cc\", \"diags\", \"procs\", \"prescriptions\", \"labs\", \"microbio\"]])"
   ]
  },
  {
   "cell_type": "code",
   "execution_count": 331,
   "id": "772edcac-9885-4e0a-bea1-30e34d73b1b7",
   "metadata": {},
   "outputs": [
    {
     "data": {
      "text/html": [
       "<div>\n",
       "<style scoped>\n",
       "    .dataframe tbody tr th:only-of-type {\n",
       "        vertical-align: middle;\n",
       "    }\n",
       "\n",
       "    .dataframe tbody tr th {\n",
       "        vertical-align: top;\n",
       "    }\n",
       "\n",
       "    .dataframe thead th {\n",
       "        text-align: right;\n",
       "    }\n",
       "</style>\n",
       "<table border=\"1\" class=\"dataframe\">\n",
       "  <thead>\n",
       "    <tr style=\"text-align: right;\">\n",
       "      <th></th>\n",
       "      <th>index</th>\n",
       "      <th>note_id</th>\n",
       "      <th>hadm_id</th>\n",
       "      <th>discharge_instructions</th>\n",
       "      <th>brief_hospital_course</th>\n",
       "      <th>discharge_instructions_word_count</th>\n",
       "      <th>brief_hospital_course_word_count</th>\n",
       "      <th>bhc_preceding_text</th>\n",
       "      <th>_merge</th>\n",
       "      <th>subject_id</th>\n",
       "      <th>...</th>\n",
       "      <th>storetime</th>\n",
       "      <th>text</th>\n",
       "      <th>age</th>\n",
       "      <th>sex</th>\n",
       "      <th>cc</th>\n",
       "      <th>diags</th>\n",
       "      <th>procs</th>\n",
       "      <th>prescriptions</th>\n",
       "      <th>labs</th>\n",
       "      <th>microbio</th>\n",
       "    </tr>\n",
       "  </thead>\n",
       "  <tbody>\n",
       "    <tr>\n",
       "      <th>0</th>\n",
       "      <td>0</td>\n",
       "      <td>19766998-DS-20</td>\n",
       "      <td>26231944</td>\n",
       "      <td>Dear Mr. ___,\\n\\nIt was a pleasure to care for...</td>\n",
       "      <td>___ with PMH HCV, ETOH cirrhosis with ascites,...</td>\n",
       "      <td>145</td>\n",
       "      <td>62</td>\n",
       "      <td>\\nName:  ___                Unit No:   ___\\n ...</td>\n",
       "      <td>both</td>\n",
       "      <td>19766998</td>\n",
       "      <td>...</td>\n",
       "      <td>2157-07-24 10:22:00</td>\n",
       "      <td>\\nName:  ___                Unit No:   ___\\n ...</td>\n",
       "      <td>Age:\\n53\\n\\n</td>\n",
       "      <td>Sex:\\nM\\n\\n</td>\n",
       "      <td>Chief Complaints:\\nASCITES/NEW LIVER MASS\\n\\n</td>\n",
       "      <td>Admission Diagnoses (ordered by importance):\\n...</td>\n",
       "      <td>Procedures (ordered by priority):\\nNone\\n\\n</td>\n",
       "      <td>Medications (ordered chronologically):\\nciprof...</td>\n",
       "      <td>Labs:\\nHematology ordered with STAT priority, ...</td>\n",
       "      <td>Microbiology Culture Results:\\nNone\\n\\n</td>\n",
       "    </tr>\n",
       "    <tr>\n",
       "      <th>1</th>\n",
       "      <td>1</td>\n",
       "      <td>10336082-DS-11</td>\n",
       "      <td>28542384</td>\n",
       "      <td>Dear Ms. ___, \\n We had the pleasure of taking...</td>\n",
       "      <td>___ yo F with recent lumbar laminectomy c/b MS...</td>\n",
       "      <td>76</td>\n",
       "      <td>466</td>\n",
       "      <td>\\nName:  ___             Unit No:   ___\\n \\nA...</td>\n",
       "      <td>both</td>\n",
       "      <td>10336082</td>\n",
       "      <td>...</td>\n",
       "      <td>2127-12-19 07:20:00</td>\n",
       "      <td>\\nName:  ___             Unit No:   ___\\n \\nA...</td>\n",
       "      <td>Age:\\n81\\n\\n</td>\n",
       "      <td>Sex:\\nF\\n\\n</td>\n",
       "      <td>Chief Complaints:\\nSUTURES BLEEDING\\n\\n</td>\n",
       "      <td>Admission Diagnoses (ordered by importance):\\n...</td>\n",
       "      <td>Procedures (ordered by priority):\\nNone\\n\\n</td>\n",
       "      <td>Medications (ordered chronologically):\\ncyclob...</td>\n",
       "      <td>Labs:\\nHematology ordered with ROUTINE priorit...</td>\n",
       "      <td>Microbiology Culture Results:\\nNone\\n\\n</td>\n",
       "    </tr>\n",
       "  </tbody>\n",
       "</table>\n",
       "<p>2 rows × 23 columns</p>\n",
       "</div>"
      ],
      "text/plain": [
       "   index         note_id   hadm_id  \\\n",
       "0      0  19766998-DS-20  26231944   \n",
       "1      1  10336082-DS-11  28542384   \n",
       "\n",
       "                              discharge_instructions  \\\n",
       "0  Dear Mr. ___,\\n\\nIt was a pleasure to care for...   \n",
       "1  Dear Ms. ___, \\n We had the pleasure of taking...   \n",
       "\n",
       "                               brief_hospital_course  \\\n",
       "0  ___ with PMH HCV, ETOH cirrhosis with ascites,...   \n",
       "1  ___ yo F with recent lumbar laminectomy c/b MS...   \n",
       "\n",
       "   discharge_instructions_word_count  brief_hospital_course_word_count  \\\n",
       "0                                145                                62   \n",
       "1                                 76                               466   \n",
       "\n",
       "                                  bhc_preceding_text _merge  subject_id  ...  \\\n",
       "0   \\nName:  ___                Unit No:   ___\\n ...   both    19766998  ...   \n",
       "1   \\nName:  ___             Unit No:   ___\\n \\nA...   both    10336082  ...   \n",
       "\n",
       "             storetime                                               text  \\\n",
       "0  2157-07-24 10:22:00   \\nName:  ___                Unit No:   ___\\n ...   \n",
       "1  2127-12-19 07:20:00   \\nName:  ___             Unit No:   ___\\n \\nA...   \n",
       "\n",
       "            age          sex                                             cc  \\\n",
       "0  Age:\\n53\\n\\n  Sex:\\nM\\n\\n  Chief Complaints:\\nASCITES/NEW LIVER MASS\\n\\n   \n",
       "1  Age:\\n81\\n\\n  Sex:\\nF\\n\\n        Chief Complaints:\\nSUTURES BLEEDING\\n\\n   \n",
       "\n",
       "                                               diags  \\\n",
       "0  Admission Diagnoses (ordered by importance):\\n...   \n",
       "1  Admission Diagnoses (ordered by importance):\\n...   \n",
       "\n",
       "                                         procs  \\\n",
       "0  Procedures (ordered by priority):\\nNone\\n\\n   \n",
       "1  Procedures (ordered by priority):\\nNone\\n\\n   \n",
       "\n",
       "                                       prescriptions  \\\n",
       "0  Medications (ordered chronologically):\\nciprof...   \n",
       "1  Medications (ordered chronologically):\\ncyclob...   \n",
       "\n",
       "                                                labs  \\\n",
       "0  Labs:\\nHematology ordered with STAT priority, ...   \n",
       "1  Labs:\\nHematology ordered with ROUTINE priorit...   \n",
       "\n",
       "                                  microbio  \n",
       "0  Microbiology Culture Results:\\nNone\\n\\n  \n",
       "1  Microbiology Culture Results:\\nNone\\n\\n  \n",
       "\n",
       "[2 rows x 23 columns]"
      ]
     },
     "execution_count": 331,
     "metadata": {},
     "output_type": "execute_result"
    }
   ],
   "source": [
    "target_test_with_structured.head(2)"
   ]
  },
  {
   "cell_type": "code",
   "execution_count": null,
   "id": "a2122f1e-ff7b-4ea7-8d4d-df2611f2f522",
   "metadata": {},
   "outputs": [],
   "source": []
  }
 ],
 "metadata": {
  "kernelspec": {
   "display_name": "Python 3 (ipykernel)",
   "language": "python",
   "name": "python3"
  },
  "language_info": {
   "codemirror_mode": {
    "name": "ipython",
    "version": 3
   },
   "file_extension": ".py",
   "mimetype": "text/x-python",
   "name": "python",
   "nbconvert_exporter": "python",
   "pygments_lexer": "ipython3",
   "version": "3.12.2"
  },
  "papermill": {
   "default_parameters": {},
   "duration": 292.560056,
   "end_time": "2024-03-25T18:03:32.741818",
   "environment_variables": {},
   "exception": null,
   "input_path": "Step1_SOAP_Note_Generation.ipynb",
   "output_path": "Step1_SOAP_Note_Generation.ipynb",
   "parameters": {
    "note_id": "10415772-DS-14",
    "soap_notes_fp": "soap_note_sample1test_10415772-DS-14.csv"
   },
   "start_time": "2024-03-25T17:58:40.181762",
   "version": "2.5.0"
  },
  "widgets": {
   "application/vnd.jupyter.widget-state+json": {
    "state": {},
    "version_major": 2,
    "version_minor": 0
   }
  }
 },
 "nbformat": 4,
 "nbformat_minor": 5
}
