{
 "cells": [
  {
   "cell_type": "code",
   "execution_count": null,
   "id": "ffd894ee-1492-46ee-a849-c9e9e2185a43",
   "metadata": {},
   "outputs": [],
   "source": [
    "import sys\n",
    "import os\n",
    "import pandas as pd\n",
    "sys.path.append('/home/vs428/Documents/DischargeMe/hail-dischargeme/scoring/scoring.py')"
   ]
  },
  {
   "cell_type": "code",
   "execution_count": null,
   "id": "664561e4-293b-42ee-a071-10191825f43b",
   "metadata": {
    "papermill": {
     "duration": 0.012594,
     "end_time": "2024-04-01T08:15:11.436673",
     "exception": false,
     "start_time": "2024-04-01T08:15:11.424079",
     "status": "completed"
    },
    "tags": []
   },
   "outputs": [],
   "source": [
    "challenge_data_fp = \"/gpfs/gibbs/project/rtaylor/shared/DischargeMe/public/\"\n"
   ]
  },
  {
   "cell_type": "code",
   "execution_count": null,
   "id": "0b9876f4-65e6-4da7-beeb-bbc211500447",
   "metadata": {
    "papermill": {
     "duration": 0.014793,
     "end_time": "2024-04-01T08:15:11.459206",
     "exception": false,
     "start_time": "2024-04-01T08:15:11.444413",
     "status": "completed"
    },
    "tags": []
   },
   "outputs": [],
   "source": [
    "challenge_data_fp + \"train/simple_train.json\""
   ]
  },
  {
   "cell_type": "code",
   "execution_count": null,
   "id": "42ff68b3-22cd-4a46-95a6-6a25e51ddc4f",
   "metadata": {
    "id": "s6f4z8EYmcJ6",
    "papermill": {
     "duration": 2.563612,
     "end_time": "2024-04-01T08:15:14.030988",
     "exception": false,
     "start_time": "2024-04-01T08:15:11.467376",
     "status": "completed"
    },
    "tags": []
   },
   "outputs": [],
   "source": [
    "from datasets import load_dataset\n",
    "\n",
    "train_dataset = load_dataset('json', data_files=challenge_data_fp + \"train/simple_train.json\", split='train')\n",
    "eval_dataset = load_dataset('json', data_files=challenge_data_fp + \"valid/simple_valid.json\", split='train')"
   ]
  },
  {
   "cell_type": "code",
   "execution_count": null,
   "id": "17ec06f2-9cc6-48bb-bd51-dd337127bef7",
   "metadata": {
    "papermill": {
     "duration": 0.017855,
     "end_time": "2024-04-01T08:15:14.058021",
     "exception": false,
     "start_time": "2024-04-01T08:15:14.040166",
     "status": "completed"
    },
    "tags": []
   },
   "outputs": [],
   "source": [
    "eval_dataset = eval_dataset.select(range(500))"
   ]
  },
  {
   "cell_type": "code",
   "execution_count": null,
   "id": "492f1fc9-fbb0-47a7-8224-915a7d45d0fc",
   "metadata": {},
   "outputs": [],
   "source": []
  },
  {
   "cell_type": "code",
   "execution_count": null,
   "id": "f779fef2-970e-4971-9f5d-627dd093b99a",
   "metadata": {
    "editable": true,
    "papermill": {
     "duration": 0.026118,
     "end_time": "2024-03-25T18:02:57.990961",
     "exception": false,
     "start_time": "2024-03-25T18:02:57.964843",
     "status": "completed"
    },
    "slideshow": {
     "slide_type": ""
    },
    "tags": []
   },
   "outputs": [],
   "source": [
    "import openai\n",
    "openai.api_type = \"azure\"\n",
    "openai.api_base = \"https://decile-openai-llm.openai.azure.com/\" #os.getenv(\"OPENAI_API_BASE\")\n",
    "openai.api_version = \"2023-07-01-preview\"\n",
    "openai.api_key = \"bfdc4ba059264591a99da53f0fbb71ca\"#os.getenv(\"OPENAI_API_KEY\")\n",
    "engine = \"decile-gpt-35-turbo-16k\"\n",
    "\n",
    "# AZURE_OPENAI_ENDPOINT=\"https://decile-openai-llm.openai.azure.com/\"\n",
    "# OLD_AZURE_OPENAI_KEY=\"67e338a6726c4c1981d15686d55bd841\"\n",
    "# AZURE_OPENAI_KEY=\"bfdc4ba059264591a99da53f0fbb71ca\""
   ]
  },
  {
   "cell_type": "code",
   "execution_count": null,
   "id": "1cb78e2d-552e-452f-988e-740843b60317",
   "metadata": {
    "editable": true,
    "papermill": {
     "duration": 0.027346,
     "end_time": "2024-03-25T18:02:58.057966",
     "exception": false,
     "start_time": "2024-03-25T18:02:58.030620",
     "status": "completed"
    },
    "slideshow": {
     "slide_type": ""
    },
    "tags": []
   },
   "outputs": [],
   "source": [
    "gpt_inputs = []\n",
    "for datum in eval_dataset:\n",
    "    message_text = [{\"role\":\"system\",\"content\":\"You are a physician generating a summary brief hospital course from the patient encounter information given\"}]\n",
    "    \n",
    "    gpt_service_prompt = {\"role\":\"user\",\n",
    "                     \"content\":f\"Summarize the following patient hospital encounter into a brief hospital course:\\n\\n{datum['input']}\" }\n",
    "    \n",
    "    message_text.append(gpt_service_prompt)\n",
    "    \n",
    "    # print(f\"Deprescribe Prompt: {message_text}\")\n",
    "    gpt_inputs.append(message_text)"
   ]
  },
  {
   "cell_type": "code",
   "execution_count": null,
   "id": "7874fb72-2a17-4b3b-a279-d8919f2da73a",
   "metadata": {},
   "outputs": [],
   "source": [
    "len(gpt_inputs)"
   ]
  },
  {
   "cell_type": "code",
   "execution_count": null,
   "id": "949a010a-285f-42b7-a628-2a333f70c1a5",
   "metadata": {
    "papermill": {
     "duration": 31.355898,
     "end_time": "2024-03-25T18:03:29.419355",
     "exception": false,
     "start_time": "2024-03-25T18:02:58.063457",
     "status": "completed"
    },
    "tags": []
   },
   "outputs": [],
   "source": [
    "completions = []\n",
    "for idx, gpt_input in enumerate(gpt_inputs[:10]):\n",
    "    completion = openai.ChatCompletion.create(\n",
    "      engine=engine,\n",
    "      messages = gpt_input,\n",
    "    )\n",
    "    print(idx)\n",
    "    completions.append(completion['choices'][0]['message']['content'])"
   ]
  },
  {
   "cell_type": "code",
   "execution_count": null,
   "id": "e425fdd5-17dd-4b02-95bb-e1671c901f82",
   "metadata": {
    "scrolled": true
   },
   "outputs": [],
   "source": [
    "completions"
   ]
  },
  {
   "cell_type": "code",
   "execution_count": null,
   "id": "c04f82a3-129f-4a4e-8b48-b671a0572478",
   "metadata": {
    "papermill": {
     "duration": null,
     "end_time": null,
     "exception": null,
     "start_time": null,
     "status": "pending"
    },
    "tags": []
   },
   "outputs": [],
   "source": [
    "from rouge_score import rouge_scorer\n",
    "\n",
    "scorer = rouge_scorer.RougeScorer(['rouge1', \"rouge2\", 'rougeL'], use_stemmer=True)\n"
   ]
  },
  {
   "cell_type": "code",
   "execution_count": null,
   "id": "08d868ac-c177-4ede-af67-98d01749255f",
   "metadata": {},
   "outputs": [],
   "source": [
    "all_scores = []\n",
    "for gen, ref in zip(completions, eval_dataset['output'][:10]):\n",
    "    scores = scorer.score(gen, ref)\n",
    "    print(scores)\n",
    "    scores_dict = {\"rouge1_precision\":scores['rouge1'][0], \n",
    "                  \"rouge1_recall\":scores['rouge1'][1], \n",
    "                  \"rouge1_f1\":scores['rouge1'][2], \n",
    "                  \"rouge2_precision\":scores['rouge2'][0], \n",
    "                  \"rouge2_recall\":scores['rouge2'][1], \n",
    "                  \"rouge2_f1\":scores['rouge2'][2], \n",
    "                  \"rougeL_precision\":scores['rougeL'][0], \n",
    "                  \"rougeL_recall\":scores['rougeL'][1], \n",
    "                  \"rougeL_f1\":scores['rougeL'][2], }\n",
    "    all_scores.append(scores_dict)"
   ]
  },
  {
   "cell_type": "code",
   "execution_count": null,
   "id": "2eacdafe-076e-4d9f-abe9-c1cc07f77389",
   "metadata": {},
   "outputs": [],
   "source": [
    "\n",
    "def add_line_breaks(text):\n",
    "    return text.replace('\\n', '<br>')\n"
   ]
  },
  {
   "cell_type": "code",
   "execution_count": null,
   "id": "8202309a-265d-4322-926a-b6194469dc18",
   "metadata": {},
   "outputs": [],
   "source": [
    "comparison_df = pd.DataFrame([completions, eval_dataset['output'][:10]]).T.rename({0:\"GPT\", 1:\"gold-standard\"}, axis=1)"
   ]
  },
  {
   "cell_type": "code",
   "execution_count": null,
   "id": "301bbeb2-2fdc-40da-9f08-226cb17ac21b",
   "metadata": {},
   "outputs": [],
   "source": [
    "comparison_df_styled = comparison_df.style.format({'completion_text': add_line_breaks})\n"
   ]
  },
  {
   "cell_type": "code",
   "execution_count": null,
   "id": "2d5d24bc-4683-4aa8-8622-2ba0059588fd",
   "metadata": {},
   "outputs": [],
   "source": [
    "\n",
    "with open(f\"comparison_simple_gpt3.5.html\", \"w\") as file:\n",
    "    file.write(comparison_df_styled.to_html())"
   ]
  },
  {
   "cell_type": "code",
   "execution_count": null,
   "id": "a35163ab-5806-4e6e-b439-dbba0a2be949",
   "metadata": {},
   "outputs": [],
   "source": [
    "import pandas as pd\n",
    "pd.DataFrame.from_records(all_scores).describe()"
   ]
  },
  {
   "cell_type": "markdown",
   "id": "36197ae1-f42e-4ca6-852b-5a46102c401c",
   "metadata": {},
   "source": [
    "# One-shot"
   ]
  },
  {
   "cell_type": "code",
   "execution_count": null,
   "id": "8cfad60d-220c-4880-91c6-1ef6c5b4c0dc",
   "metadata": {},
   "outputs": [],
   "source": [
    "examples = [\"Example\\n######\\n\\n\" + ex for ex in eval_dataset['output'][5:7]]"
   ]
  },
  {
   "cell_type": "code",
   "execution_count": null,
   "id": "0d976e6b-fb20-46f0-b07d-465e40d07e26",
   "metadata": {},
   "outputs": [],
   "source": [
    "print(examples[0])"
   ]
  },
  {
   "cell_type": "code",
   "execution_count": null,
   "id": "eb31cf29-fc62-4277-af8d-54b0c211acd8",
   "metadata": {
    "editable": true,
    "papermill": {
     "duration": 0.027346,
     "end_time": "2024-03-25T18:02:58.057966",
     "exception": false,
     "start_time": "2024-03-25T18:02:58.030620",
     "status": "completed"
    },
    "slideshow": {
     "slide_type": ""
    },
    "tags": []
   },
   "outputs": [],
   "source": [
    "gpt_inputs = []\n",
    "for datum in eval_dataset:\n",
    "    message_text = [{\"role\":\"system\",\"content\":\"You are a physician generating a summary brief hospital course from the patient encounter information given\"}]\n",
    "    \n",
    "    gpt_service_prompt = {\"role\":\"user\",\n",
    "                     \"content\":f\"Summarize the following patient hospital encounter into a brief hospital course:\\n\\n{datum['input']}.\\n\\nUse these two as examples:\\n\\n{'\\n\\n'.join(examples)}\" }\n",
    "    \n",
    "    message_text.append(gpt_service_prompt)\n",
    "    \n",
    "    # print(f\"Deprescribe Prompt: {message_text}\")\n",
    "    gpt_inputs.append(message_text)"
   ]
  },
  {
   "cell_type": "code",
   "execution_count": null,
   "id": "462d25fe-3cfe-4279-b16b-4f72deec3bc1",
   "metadata": {},
   "outputs": [],
   "source": [
    "len(gpt_inputs)"
   ]
  },
  {
   "cell_type": "code",
   "execution_count": null,
   "id": "d2aa6512-6382-4d98-8eda-44918f85623b",
   "metadata": {
    "scrolled": true
   },
   "outputs": [],
   "source": [
    "print(gpt_inputs[0][1]['content'])"
   ]
  },
  {
   "cell_type": "code",
   "execution_count": null,
   "id": "572e845b-49e1-4898-a4f1-8e6b894df06b",
   "metadata": {
    "papermill": {
     "duration": 31.355898,
     "end_time": "2024-03-25T18:03:29.419355",
     "exception": false,
     "start_time": "2024-03-25T18:02:58.063457",
     "status": "completed"
    },
    "tags": []
   },
   "outputs": [],
   "source": [
    "completions = []\n",
    "for idx, gpt_input in enumerate(gpt_inputs[:10]):\n",
    "    completion = openai.ChatCompletion.create(\n",
    "      engine=engine,\n",
    "      messages = gpt_input,\n",
    "    )\n",
    "    print(idx)\n",
    "    completions.append(completion['choices'][0]['message']['content'])"
   ]
  },
  {
   "cell_type": "code",
   "execution_count": null,
   "id": "baf72e3c-4791-45f5-b043-0a861798af29",
   "metadata": {
    "scrolled": true
   },
   "outputs": [],
   "source": [
    "completions"
   ]
  },
  {
   "cell_type": "code",
   "execution_count": null,
   "id": "f43a29cf-3fd1-48ca-88b0-52fc3d441fe2",
   "metadata": {
    "papermill": {
     "duration": null,
     "end_time": null,
     "exception": null,
     "start_time": null,
     "status": "pending"
    },
    "tags": []
   },
   "outputs": [],
   "source": [
    "from rouge_score import rouge_scorer\n",
    "\n",
    "scorer = rouge_scorer.RougeScorer(['rouge1', \"rouge2\", 'rougeL'], use_stemmer=True)\n"
   ]
  },
  {
   "cell_type": "code",
   "execution_count": null,
   "id": "28b229e6-acd5-4ac4-ab0d-b5f74076bf82",
   "metadata": {},
   "outputs": [],
   "source": [
    "all_scores = []\n",
    "for gen, ref in zip(completions, eval_dataset['output'][:10]):\n",
    "    scores = scorer.score(gen, ref)\n",
    "    print(scores)\n",
    "    scores_dict = {\"rouge1_precision\":scores['rouge1'][0], \n",
    "                  \"rouge1_recall\":scores['rouge1'][1], \n",
    "                  \"rouge1_f1\":scores['rouge1'][2], \n",
    "                  \"rouge2_precision\":scores['rouge2'][0], \n",
    "                  \"rouge2_recall\":scores['rouge2'][1], \n",
    "                  \"rouge2_f1\":scores['rouge2'][2], \n",
    "                  \"rougeL_precision\":scores['rougeL'][0], \n",
    "                  \"rougeL_recall\":scores['rougeL'][1], \n",
    "                  \"rougeL_f1\":scores['rougeL'][2], }\n",
    "    all_scores.append(scores_dict)"
   ]
  },
  {
   "cell_type": "code",
   "execution_count": null,
   "id": "1e9255ba-2ae5-4c68-a07f-22513a6ec86a",
   "metadata": {},
   "outputs": [],
   "source": [
    "\n",
    "def add_line_breaks(text):\n",
    "    return text.replace('\\n', '<br>')\n"
   ]
  },
  {
   "cell_type": "code",
   "execution_count": null,
   "id": "87cf1811-ba8f-4aca-9183-f43316c23d68",
   "metadata": {},
   "outputs": [],
   "source": [
    "comparison_df = pd.DataFrame([completions, eval_dataset['output'][:10]]).T.rename({0:\"GPT\", 1:\"gold-standard\"}, axis=1)"
   ]
  },
  {
   "cell_type": "code",
   "execution_count": null,
   "id": "dd2cafaf-7d4d-4b80-981c-40295d67d1ba",
   "metadata": {},
   "outputs": [],
   "source": [
    "comparison_df_styled = comparison_df.style.format({'completion_text': add_line_breaks})\n"
   ]
  },
  {
   "cell_type": "code",
   "execution_count": null,
   "id": "c50a1145-d2ce-45a1-bcad-a1e705fe241b",
   "metadata": {},
   "outputs": [],
   "source": [
    "\n",
    "with open(f\"comparison_simple_gpt3.5_2shot.html\", \"w\") as file:\n",
    "    file.write(comparison_df_styled.to_html())"
   ]
  },
  {
   "cell_type": "code",
   "execution_count": null,
   "id": "a0743d01-a7e1-4798-b5e8-285a76ef8474",
   "metadata": {},
   "outputs": [],
   "source": [
    "import pandas as pd\n",
    "pd.DataFrame.from_records(all_scores).describe()"
   ]
  },
  {
   "cell_type": "code",
   "execution_count": null,
   "id": "7eb23119-19cc-4b82-ae56-09ef00666163",
   "metadata": {},
   "outputs": [],
   "source": []
  }
 ],
 "metadata": {
  "kernelspec": {
   "display_name": "Python 3 (ipykernel)",
   "language": "python",
   "name": "python3"
  },
  "language_info": {
   "codemirror_mode": {
    "name": "ipython",
    "version": 3
   },
   "file_extension": ".py",
   "mimetype": "text/x-python",
   "name": "python",
   "nbconvert_exporter": "python",
   "pygments_lexer": "ipython3",
   "version": "3.12.2"
  }
 },
 "nbformat": 4,
 "nbformat_minor": 5
}
