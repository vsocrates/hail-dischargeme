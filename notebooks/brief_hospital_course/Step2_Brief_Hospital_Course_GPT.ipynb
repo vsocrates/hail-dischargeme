{
 "cells": [
  {
   "cell_type": "code",
   "execution_count": null,
   "id": "3faddad8-6798-41ab-b0b4-95b795bb591b",
   "metadata": {
    "editable": true,
    "papermill": {
     "duration": 0.015732,
     "end_time": "2024-03-25T18:08:44.635218",
     "exception": false,
     "start_time": "2024-03-25T18:08:44.619486",
     "status": "completed"
    },
    "slideshow": {
     "slide_type": ""
    },
    "tags": [
     "parameters"
    ]
   },
   "outputs": [],
   "source": [
    "soap_notes_fp = \"sample_output1.csv\"\n",
    "bhc_html_fp = \"eval.csv\"\n",
    "scores_fp = \"scores.csv\""
   ]
  },
  {
   "cell_type": "code",
   "execution_count": null,
   "id": "a9b4af4a",
   "metadata": {
    "papermill": {
     "duration": 0.011656,
     "end_time": "2024-03-25T18:08:44.656567",
     "exception": false,
     "start_time": "2024-03-25T18:08:44.644911",
     "status": "completed"
    },
    "tags": [
     "injected-parameters"
    ]
   },
   "outputs": [],
   "source": [
    "# Parameters\n",
    "soap_notes_fp = \"soap_note_sample1test_10415772-DS-14.csv\"\n",
    "bhc_html_fp = \"sample1html_10415772-DS-14.html\"\n",
    "scores_fp = \"sample1scores_10415772-DS-14.csv\"\n"
   ]
  },
  {
   "cell_type": "markdown",
   "id": "8201b927-ffb6-4ec5-9e7c-6ce39b89804f",
   "metadata": {
    "editable": true,
    "papermill": {
     "duration": 0.005827,
     "end_time": "2024-03-25T18:08:44.668454",
     "exception": false,
     "start_time": "2024-03-25T18:08:44.662627",
     "status": "completed"
    },
    "slideshow": {
     "slide_type": ""
    },
    "tags": []
   },
   "source": [
    "# Brief Hospital Course Generation\n",
    "\n",
    "This notebook performs step 2 of the Brief Hospital Course pipeline, in which we generate a brief hospital course from a set of service-level SOAP notes passed into a GPT-3.5 model. "
   ]
  },
  {
   "cell_type": "code",
   "execution_count": null,
   "id": "f64518d3-b2e4-4fab-807d-fbd9dcfde6e6",
   "metadata": {
    "editable": true,
    "papermill": {
     "duration": 0.022792,
     "end_time": "2024-03-25T18:08:44.697388",
     "exception": false,
     "start_time": "2024-03-25T18:08:44.674596",
     "status": "completed"
    },
    "slideshow": {
     "slide_type": ""
    },
    "tags": []
   },
   "outputs": [],
   "source": [
    "%load_ext autoreload\n",
    "%autoreload 2"
   ]
  },
  {
   "cell_type": "code",
   "execution_count": null,
   "id": "47f4516e-b3cb-4179-982e-f783e7cc1514",
   "metadata": {
    "papermill": {
     "duration": 2.037344,
     "end_time": "2024-03-25T18:08:46.740830",
     "exception": false,
     "start_time": "2024-03-25T18:08:44.703486",
     "status": "completed"
    },
    "tags": []
   },
   "outputs": [],
   "source": [
    "import pandas as pd\n",
    "import ast\n",
    "import numpy as np\n",
    "\n",
    "from tqdm import tqdm\n",
    "# from tqdm.auto import tqdm  # for notebooks\n",
    "tqdm.pandas()\n",
    "\n",
    "import os\n",
    "import openai"
   ]
  },
  {
   "cell_type": "code",
   "execution_count": null,
   "id": "a3beef81-0897-454d-ba25-bff5bb47fa3e",
   "metadata": {
    "papermill": {
     "duration": 0.032891,
     "end_time": "2024-03-25T18:08:46.784328",
     "exception": false,
     "start_time": "2024-03-25T18:08:46.751437",
     "status": "completed"
    },
    "tags": []
   },
   "outputs": [],
   "source": [
    "from dotenv import load_dotenv\n",
    "load_dotenv()  # take environment variables from .env."
   ]
  },
  {
   "cell_type": "code",
   "execution_count": null,
   "id": "21007277-cbda-4d47-b785-da285c5bab09",
   "metadata": {
    "papermill": {
     "duration": 0.125225,
     "end_time": "2024-03-25T18:08:46.915698",
     "exception": false,
     "start_time": "2024-03-25T18:08:46.790473",
     "status": "completed"
    },
    "tags": []
   },
   "outputs": [],
   "source": [
    "from prompt_functions import create_brief_hospital_course_prompts\n",
    "from openai_utils import num_tokens_from_string, completion_with_backoff"
   ]
  },
  {
   "cell_type": "code",
   "execution_count": null,
   "id": "5e8841fe-f0a0-458d-884e-822f3894af22",
   "metadata": {
    "papermill": {
     "duration": 0.026843,
     "end_time": "2024-03-25T18:08:46.951846",
     "exception": false,
     "start_time": "2024-03-25T18:08:46.925003",
     "status": "completed"
    },
    "tags": []
   },
   "outputs": [],
   "source": [
    "import openai\n",
    "openai.api_type = \"azure\"\n",
    "openai.api_base = os.getenv(\"OPENAI_API_BASE\")\n",
    "openai.api_version = \"2023-07-01-preview\"\n",
    "openai.api_key = os.getenv(\"OPENAI_API_KEY\")\n",
    "# engine = \"decile-gpt-35-turbo-16k\"\n",
    "engine = \"decile-gpt-4-128K\"\n"
   ]
  },
  {
   "cell_type": "markdown",
   "id": "b0c5da71-ea5e-499d-89ed-510541e2f6d8",
   "metadata": {
    "papermill": {
     "duration": 0.005943,
     "end_time": "2024-03-25T18:08:46.963938",
     "exception": false,
     "start_time": "2024-03-25T18:08:46.957995",
     "status": "completed"
    },
    "tags": []
   },
   "source": [
    "## Read in GPT-Generated SOAP Notes"
   ]
  },
  {
   "cell_type": "code",
   "execution_count": null,
   "id": "e2823bcb-3e33-4e9c-90e8-b2388b8c652c",
   "metadata": {
    "papermill": {
     "duration": 0.027229,
     "end_time": "2024-03-25T18:08:46.997276",
     "exception": false,
     "start_time": "2024-03-25T18:08:46.970047",
     "status": "completed"
    },
    "tags": []
   },
   "outputs": [],
   "source": [
    "soap_notes = pd.read_csv(soap_notes_fp)"
   ]
  },
  {
   "cell_type": "markdown",
   "id": "06bac8b2-807f-4376-8ba3-e9910434666f",
   "metadata": {
    "papermill": {
     "duration": 0.005986,
     "end_time": "2024-03-25T18:08:47.009455",
     "exception": false,
     "start_time": "2024-03-25T18:08:47.003469",
     "status": "completed"
    },
    "tags": []
   },
   "source": [
    "## Read in Prompts"
   ]
  },
  {
   "cell_type": "code",
   "execution_count": null,
   "id": "a3cb6739-2144-4e3d-88a8-f5152d11bea2",
   "metadata": {
    "papermill": {
     "duration": 0.025869,
     "end_time": "2024-03-25T18:08:47.041424",
     "exception": false,
     "start_time": "2024-03-25T18:08:47.015555",
     "status": "completed"
    },
    "tags": []
   },
   "outputs": [],
   "source": [
    "prompts = pd.read_csv(\"bhc_prompts.csv\")"
   ]
  },
  {
   "cell_type": "code",
   "execution_count": null,
   "id": "0e8c3a9d-1b35-45a1-a1e5-8480e915c5a3",
   "metadata": {
    "papermill": {
     "duration": 0.030255,
     "end_time": "2024-03-25T18:08:47.080246",
     "exception": false,
     "start_time": "2024-03-25T18:08:47.049991",
     "status": "completed"
    },
    "tags": []
   },
   "outputs": [],
   "source": [
    "prompts"
   ]
  },
  {
   "cell_type": "markdown",
   "id": "3bed84bf-c057-48f3-82e9-aa4ca381ce39",
   "metadata": {
    "papermill": {
     "duration": 0.00608,
     "end_time": "2024-03-25T18:08:47.092610",
     "exception": false,
     "start_time": "2024-03-25T18:08:47.086530",
     "status": "completed"
    },
    "tags": []
   },
   "source": [
    "## Read in Radiology Reports"
   ]
  },
  {
   "cell_type": "code",
   "execution_count": null,
   "id": "e61e5e2e-abb1-4c55-8ad4-3a021195ac56",
   "metadata": {
    "papermill": {
     "duration": 4.438303,
     "end_time": "2024-03-25T18:08:51.537072",
     "exception": false,
     "start_time": "2024-03-25T18:08:47.098769",
     "status": "completed"
    },
    "tags": []
   },
   "outputs": [],
   "source": [
    "radiology = pd.read_csv(\"/gpfs/milgram/project/rtaylor/shared/DischargeMe/public/train/radiology.csv.gz\")"
   ]
  },
  {
   "cell_type": "markdown",
   "id": "c2754157-fa3a-448b-9f8e-79b42c5b94dd",
   "metadata": {
    "papermill": {
     "duration": 0.006009,
     "end_time": "2024-03-25T18:08:51.552744",
     "exception": false,
     "start_time": "2024-03-25T18:08:51.546735",
     "status": "completed"
    },
    "tags": []
   },
   "source": [
    "## Read in Encounter-Level Structured Data"
   ]
  },
  {
   "cell_type": "code",
   "execution_count": null,
   "id": "f3d29f00-43fb-4b8a-bfac-dc45246dd6c3",
   "metadata": {
    "papermill": {
     "duration": 10.483565,
     "end_time": "2024-03-25T18:09:02.042428",
     "exception": false,
     "start_time": "2024-03-25T18:08:51.558863",
     "status": "completed"
    },
    "tags": []
   },
   "outputs": [],
   "source": [
    "###### \n",
    "# Challenge Data\n",
    "\n",
    "# discharge summaries\n",
    "discharges = pd.read_csv(\"/gpfs/milgram/project/rtaylor/shared/DischargeMe/public/train/discharge.csv.gz\")\n",
    "\n",
    "# ed stays\n",
    "edstays = pd.read_csv('/gpfs/milgram/project/rtaylor/shared/DischargeMe/public/train/edstays.csv.gz')\n",
    "\n",
    "# triage\n",
    "triage = pd.read_csv('/gpfs/milgram/project/rtaylor/shared/DischargeMe/public/train/triage.csv.gz')\n",
    "\n",
    "###### \n",
    "# MIMIC-IV Data\n",
    "\n",
    "# ward transfers\n",
    "transfers = pd.read_pickle('/gpfs/milgram/project/rtaylor/shared/DischargeMe/mimiciv/hosp/cohort_transfers.pkl')\n",
    "\n",
    "# higher-level services (ICU, CARD, etc)\n",
    "services = pd.read_pickle('/gpfs/milgram/project/rtaylor/shared/DischargeMe/mimiciv/hosp/cohort_services.pkl')\n",
    "\n",
    "# get patient info\n",
    "pts = pd.read_pickle('/gpfs/milgram/project/rtaylor/shared/DischargeMe/mimiciv/hosp/cohort_patients.pkl')\n",
    "\n",
    "# admission demographics\n",
    "admissions = pd.read_pickle('/gpfs/milgram/project/rtaylor/shared/DischargeMe/mimiciv/hosp/cohort_admissions.pkl')"
   ]
  },
  {
   "cell_type": "code",
   "execution_count": null,
   "id": "5c888685-988c-4897-b34f-6ef21d677dca",
   "metadata": {
    "papermill": {
     "duration": 0.257095,
     "end_time": "2024-03-25T18:09:02.427357",
     "exception": false,
     "start_time": "2024-03-25T18:09:02.170262",
     "status": "completed"
    },
    "tags": []
   },
   "outputs": [],
   "source": [
    "# diagnoses\n",
    "diags = pd.read_pickle('/gpfs/milgram/project/rtaylor/shared/DischargeMe/mimiciv/hosp/cohort_diagnoses_icd.pkl')"
   ]
  },
  {
   "cell_type": "markdown",
   "id": "634a8b4d-3160-448b-b438-98dc96af4335",
   "metadata": {
    "papermill": {
     "duration": 0.006284,
     "end_time": "2024-03-25T18:09:02.443098",
     "exception": false,
     "start_time": "2024-03-25T18:09:02.436814",
     "status": "completed"
    },
    "tags": []
   },
   "source": [
    "### Clean up/type cast data"
   ]
  },
  {
   "cell_type": "code",
   "execution_count": null,
   "id": "f9f637d2-fb88-4f4e-91ec-5ce68edba838",
   "metadata": {
    "papermill": {
     "duration": 0.08245,
     "end_time": "2024-03-25T18:09:02.531569",
     "exception": false,
     "start_time": "2024-03-25T18:09:02.449119",
     "status": "completed"
    },
    "tags": []
   },
   "outputs": [],
   "source": [
    "discharges = discharges.astype({\"charttime\":\"datetime64[ns]\",\n",
    "                               \"storetime\":\"datetime64[ns]\"})"
   ]
  },
  {
   "cell_type": "markdown",
   "id": "8f773b89-0263-416c-93a5-98c59087637b",
   "metadata": {
    "papermill": {
     "duration": 0.00617,
     "end_time": "2024-03-25T18:09:02.547438",
     "exception": false,
     "start_time": "2024-03-25T18:09:02.541268",
     "status": "completed"
    },
    "tags": []
   },
   "source": [
    "## Generate SOAP Note List Prompt"
   ]
  },
  {
   "cell_type": "code",
   "execution_count": null,
   "id": "907c48c1-0bc6-42ba-8cc7-3b85888f9278",
   "metadata": {
    "papermill": {
     "duration": 0.033795,
     "end_time": "2024-03-25T18:09:02.587515",
     "exception": false,
     "start_time": "2024-03-25T18:09:02.553720",
     "status": "completed"
    },
    "tags": []
   },
   "outputs": [],
   "source": [
    "soap_notes"
   ]
  },
  {
   "cell_type": "code",
   "execution_count": null,
   "id": "a7c63942-3741-43db-ab8e-51e5b93250ec",
   "metadata": {
    "papermill": {
     "duration": 0.029524,
     "end_time": "2024-03-25T18:09:02.623305",
     "exception": false,
     "start_time": "2024-03-25T18:09:02.593781",
     "status": "completed"
    },
    "tags": []
   },
   "outputs": [],
   "source": [
    "discharges[discharges['hadm_id'] == soap_notes.iloc[0]['hadm_id']].squeeze()"
   ]
  },
  {
   "cell_type": "markdown",
   "id": "75bc770f-6381-460c-ac06-d72074822ce8",
   "metadata": {
    "papermill": {
     "duration": 0.00609,
     "end_time": "2024-03-25T18:09:02.635752",
     "exception": false,
     "start_time": "2024-03-25T18:09:02.629662",
     "status": "completed"
    },
    "tags": []
   },
   "source": [
    "## Create SOAP notes from GPT API (0-shot)"
   ]
  },
  {
   "cell_type": "code",
   "execution_count": null,
   "id": "905736ec-2cb7-4d8d-b2da-291ddeedf7f2",
   "metadata": {
    "papermill": {
     "duration": 0.03598,
     "end_time": "2024-03-25T18:09:02.680972",
     "exception": false,
     "start_time": "2024-03-25T18:09:02.644992",
     "status": "completed"
    },
    "tags": []
   },
   "outputs": [],
   "source": [
    "bhc_prompt_zeroshot = create_brief_hospital_course_prompts(discharges[discharges['hadm_id'] == soap_notes.iloc[0]['hadm_id']].squeeze(),\n",
    "                                                  soap_notes, prompts, \n",
    "                                                  edstays, radiology, \n",
    "                                                  pts, triage, transfers, diags,\n",
    "                                                  shots=None\n",
    "                                                 )"
   ]
  },
  {
   "cell_type": "code",
   "execution_count": null,
   "id": "c1eeba43-763b-4cef-b335-1d1d963cfe53",
   "metadata": {
    "papermill": {
     "duration": 0.243552,
     "end_time": "2024-03-25T18:09:02.931085",
     "exception": false,
     "start_time": "2024-03-25T18:09:02.687533",
     "status": "completed"
    },
    "tags": []
   },
   "outputs": [],
   "source": [
    "num_tokens_from_string(bhc_prompt_zeroshot, \"cl100k_base\")"
   ]
  },
  {
   "cell_type": "code",
   "execution_count": null,
   "id": "ccda464c-45c5-486c-812c-5c1e54b35de0",
   "metadata": {
    "papermill": {
     "duration": 0.029578,
     "end_time": "2024-03-25T18:09:02.967384",
     "exception": false,
     "start_time": "2024-03-25T18:09:02.937806",
     "status": "completed"
    },
    "scrolled": true,
    "tags": []
   },
   "outputs": [],
   "source": [
    "messages = [{\"role\":\"system\",\"content\":prompts.loc[prompts['prompt_name'] == \"bhc_system_message\", \"prompt\"].squeeze()}]\n",
    "\n",
    "gpt_bhc_prompt = {\"role\":\"user\",\n",
    "                 \"content\":bhc_prompt_zeroshot}\n",
    "\n",
    "messages.append(gpt_bhc_prompt)\n",
    "\n",
    "print(f\"Brief Hospital Course 1-shot Prompt: {messages}\")"
   ]
  },
  {
   "cell_type": "code",
   "execution_count": null,
   "id": "1704de3b-7d78-473e-b1b8-00e0858036c9",
   "metadata": {
    "papermill": {
     "duration": 42.64745,
     "end_time": "2024-03-25T18:09:45.624416",
     "exception": false,
     "start_time": "2024-03-25T18:09:02.976966",
     "status": "completed"
    },
    "tags": []
   },
   "outputs": [],
   "source": [
    "zeroshot_completion = completion_with_backoff(engine=engine,\n",
    "                        messages=messages,\n",
    "                        )\n"
   ]
  },
  {
   "cell_type": "code",
   "execution_count": null,
   "id": "0aad3d79-1cb2-4d64-b4e7-d3c16a83797d",
   "metadata": {
    "papermill": {
     "duration": 0.030951,
     "end_time": "2024-03-25T18:09:45.664917",
     "exception": false,
     "start_time": "2024-03-25T18:09:45.633966",
     "status": "completed"
    },
    "tags": []
   },
   "outputs": [],
   "source": [
    "zero_shot_output = zeroshot_completion['choices'][0]['message']['content']; print(zero_shot_output)"
   ]
  },
  {
   "cell_type": "markdown",
   "id": "d16a43c1-7755-4bea-a107-c38527d5f6ab",
   "metadata": {
    "papermill": {
     "duration": 0.006734,
     "end_time": "2024-03-25T18:09:45.678699",
     "exception": false,
     "start_time": "2024-03-25T18:09:45.671965",
     "status": "completed"
    },
    "tags": []
   },
   "source": [
    "## Create SOAP notes from GPT API (2-shot)\n",
    "\n",
    "It's really one shot I'm just testing two of the same example"
   ]
  },
  {
   "cell_type": "code",
   "execution_count": null,
   "id": "438056e5-db78-443d-aadd-e411f031e497",
   "metadata": {
    "papermill": {
     "duration": 3.02043,
     "end_time": "2024-03-25T18:09:48.706133",
     "exception": false,
     "start_time": "2024-03-25T18:09:45.685703",
     "status": "completed"
    },
    "tags": []
   },
   "outputs": [],
   "source": [
    "targets = pd.read_csv('/gpfs/milgram/project/rtaylor/shared/DischargeMe/public/train/discharge_target.csv.gz')"
   ]
  },
  {
   "cell_type": "code",
   "execution_count": null,
   "id": "ec1383f6-5fc2-49b0-88c9-c4bd553a3f5d",
   "metadata": {
    "papermill": {
     "duration": 0.028866,
     "end_time": "2024-03-25T18:09:48.829710",
     "exception": false,
     "start_time": "2024-03-25T18:09:48.800844",
     "status": "completed"
    },
    "tags": []
   },
   "outputs": [],
   "source": [
    "bhc_oneshot_sample = targets.sample(1)['brief_hospital_course'].squeeze()"
   ]
  },
  {
   "cell_type": "code",
   "execution_count": null,
   "id": "e6145b90-3152-459c-8b47-18244d8542b9",
   "metadata": {
    "papermill": {
     "duration": 0.034084,
     "end_time": "2024-03-25T18:09:48.870285",
     "exception": false,
     "start_time": "2024-03-25T18:09:48.836201",
     "status": "completed"
    },
    "tags": []
   },
   "outputs": [],
   "source": [
    "bhc_prompt_2shot = create_brief_hospital_course_prompts(discharges[discharges['hadm_id'] == soap_notes.iloc[0]['hadm_id']].squeeze(),\n",
    "                                                  soap_notes, prompts, \n",
    "                                                  edstays, radiology, \n",
    "                                                  pts, triage, transfers, diags,\n",
    "                                                  shots=[bhc_oneshot_sample, bhc_oneshot_sample]\n",
    "                                                 )"
   ]
  },
  {
   "cell_type": "code",
   "execution_count": null,
   "id": "2f1fcf6d-d764-49e6-a663-a02d02985255",
   "metadata": {
    "papermill": {
     "duration": 0.031207,
     "end_time": "2024-03-25T18:09:48.908134",
     "exception": false,
     "start_time": "2024-03-25T18:09:48.876927",
     "status": "completed"
    },
    "tags": []
   },
   "outputs": [],
   "source": [
    "num_tokens_from_string(bhc_prompt_2shot, \"cl100k_base\")"
   ]
  },
  {
   "cell_type": "code",
   "execution_count": null,
   "id": "1ef984ce-2ea5-48b6-89e5-1adcdf0045a7",
   "metadata": {
    "papermill": {
     "duration": 0.030243,
     "end_time": "2024-03-25T18:09:48.948803",
     "exception": false,
     "start_time": "2024-03-25T18:09:48.918560",
     "status": "completed"
    },
    "scrolled": true,
    "tags": []
   },
   "outputs": [],
   "source": [
    "messages = [{\"role\":\"system\",\"content\":prompts.loc[prompts['prompt_name'] == \"bhc_system_message\", \"prompt\"].squeeze()}]\n",
    "\n",
    "gpt_bhc_prompt = {\"role\":\"user\",\n",
    "                 \"content\":bhc_prompt_2shot}\n",
    "\n",
    "messages.append(gpt_bhc_prompt)\n",
    "\n",
    "print(f\"Brief Hospital Course N-shot Prompt: {messages}\")"
   ]
  },
  {
   "cell_type": "code",
   "execution_count": null,
   "id": "dc406513-ca39-4918-a8ef-b789a5c02950",
   "metadata": {
    "papermill": {
     "duration": 42.917806,
     "end_time": "2024-03-25T18:10:31.873944",
     "exception": false,
     "start_time": "2024-03-25T18:09:48.956138",
     "status": "completed"
    },
    "tags": []
   },
   "outputs": [],
   "source": [
    "nshot_completion = completion_with_backoff(engine=engine,\n",
    "                        messages=messages,\n",
    "                        )\n"
   ]
  },
  {
   "cell_type": "code",
   "execution_count": null,
   "id": "1b656d1f-0aa9-4944-97f6-3cfcef7ff029",
   "metadata": {
    "papermill": {
     "duration": 0.030753,
     "end_time": "2024-03-25T18:10:31.978187",
     "exception": false,
     "start_time": "2024-03-25T18:10:31.947434",
     "status": "completed"
    },
    "tags": []
   },
   "outputs": [],
   "source": [
    "n_shot_output = nshot_completion['choices'][0]['message']['content']; print(n_shot_output)"
   ]
  },
  {
   "cell_type": "code",
   "execution_count": null,
   "id": "ce60e820-6d53-4148-8107-df324b2b6da8",
   "metadata": {
    "papermill": {
     "duration": 0.029252,
     "end_time": "2024-03-25T18:10:32.015130",
     "exception": false,
     "start_time": "2024-03-25T18:10:31.985878",
     "status": "completed"
    },
    "tags": []
   },
   "outputs": [],
   "source": [
    "n_shot_output"
   ]
  },
  {
   "cell_type": "markdown",
   "id": "ac88b501-d6eb-4c58-a0d4-e97f1fe33622",
   "metadata": {
    "papermill": {
     "duration": 0.007087,
     "end_time": "2024-03-25T18:10:32.029377",
     "exception": false,
     "start_time": "2024-03-25T18:10:32.022290",
     "status": "completed"
    },
    "tags": []
   },
   "source": [
    "## Compute ROUGE Scores from Output"
   ]
  },
  {
   "cell_type": "code",
   "execution_count": null,
   "id": "36137dc3-70e3-40a1-883d-a31a0cb4b554",
   "metadata": {
    "papermill": {
     "duration": 15.398344,
     "end_time": "2024-03-25T18:10:47.434682",
     "exception": false,
     "start_time": "2024-03-25T18:10:32.036338",
     "status": "completed"
    },
    "tags": []
   },
   "outputs": [],
   "source": [
    "from rouge_score import rouge_scorer\n"
   ]
  },
  {
   "cell_type": "code",
   "execution_count": null,
   "id": "674658ea-de27-4346-a59d-1f2c92a92016",
   "metadata": {
    "papermill": {
     "duration": 0.038326,
     "end_time": "2024-03-25T18:10:47.484923",
     "exception": false,
     "start_time": "2024-03-25T18:10:47.446597",
     "status": "completed"
    },
    "scrolled": true,
    "tags": []
   },
   "outputs": [],
   "source": [
    "# discharges[discharges['hadm_id'] == soap_notes.iloc[0]['hadm_id']].squeeze()\n",
    "pt_target = targets[targets['hadm_id'] == soap_notes.iloc[0]['hadm_id']]['brief_hospital_course'].squeeze()"
   ]
  },
  {
   "cell_type": "code",
   "execution_count": null,
   "id": "d65c1e48-46a2-4cca-adc0-efdeb9cd4030",
   "metadata": {
    "papermill": {
     "duration": 0.042099,
     "end_time": "2024-03-25T18:10:47.534382",
     "exception": false,
     "start_time": "2024-03-25T18:10:47.492283",
     "status": "completed"
    },
    "tags": []
   },
   "outputs": [],
   "source": [
    "scorer = rouge_scorer.RougeScorer(['rouge1',  \"rouge2\", 'rougeL'], use_stemmer=True)\n",
    "scores1 = scorer.score(zero_shot_output,\n",
    "                      pt_target)"
   ]
  },
  {
   "cell_type": "code",
   "execution_count": null,
   "id": "7473d3f6-43dd-4484-ad80-1a3b37f12cfb",
   "metadata": {
    "papermill": {
     "duration": 0.039628,
     "end_time": "2024-03-25T18:10:47.581713",
     "exception": false,
     "start_time": "2024-03-25T18:10:47.542085",
     "status": "completed"
    },
    "tags": []
   },
   "outputs": [],
   "source": [
    "scores1"
   ]
  },
  {
   "cell_type": "code",
   "execution_count": null,
   "id": "5a182e0a-0606-4004-8785-4f9ecbd8938f",
   "metadata": {
    "papermill": {
     "duration": 0.042517,
     "end_time": "2024-03-25T18:10:47.634479",
     "exception": false,
     "start_time": "2024-03-25T18:10:47.591962",
     "status": "completed"
    },
    "tags": []
   },
   "outputs": [],
   "source": [
    "scorer = rouge_scorer.RougeScorer(['rouge1', \"rouge2\", 'rougeL'], use_stemmer=True)\n",
    "scores2 = scorer.score(n_shot_output,\n",
    "                      pt_target)"
   ]
  },
  {
   "cell_type": "code",
   "execution_count": null,
   "id": "cfb17644-e6e4-4edc-80b0-5eb81d96ca5b",
   "metadata": {
    "papermill": {
     "duration": 0.037705,
     "end_time": "2024-03-25T18:10:47.679453",
     "exception": false,
     "start_time": "2024-03-25T18:10:47.641748",
     "status": "completed"
    },
    "tags": []
   },
   "outputs": [],
   "source": [
    "scores2"
   ]
  },
  {
   "cell_type": "markdown",
   "id": "f8134c08-e32d-4167-b0ae-14e80f4b0d0c",
   "metadata": {
    "papermill": {
     "duration": 0.007225,
     "end_time": "2024-03-25T18:10:47.694010",
     "exception": false,
     "start_time": "2024-03-25T18:10:47.686785",
     "status": "completed"
    },
    "tags": []
   },
   "source": [
    "# Qualitative Eval"
   ]
  },
  {
   "cell_type": "markdown",
   "id": "065d01ec-e29a-4f08-9ead-1dacccc1f534",
   "metadata": {
    "papermill": {
     "duration": 0.007235,
     "end_time": "2024-03-25T18:10:47.711542",
     "exception": false,
     "start_time": "2024-03-25T18:10:47.704307",
     "status": "completed"
    },
    "tags": []
   },
   "source": [
    "## Final outputs\n"
   ]
  },
  {
   "cell_type": "code",
   "execution_count": null,
   "id": "3899f8eb-d458-4a95-8b4c-ebb170e0c30f",
   "metadata": {
    "papermill": {
     "duration": 0.087005,
     "end_time": "2024-03-25T18:10:47.805829",
     "exception": false,
     "start_time": "2024-03-25T18:10:47.718824",
     "status": "completed"
    },
    "tags": []
   },
   "outputs": [],
   "source": [
    "pd.DataFrame.from_records([scores1, scores2], index=[\"zero-shot\", \"2-shot\"]).to_csv(scores_fp)"
   ]
  },
  {
   "cell_type": "code",
   "execution_count": null,
   "id": "4bace2cf-7497-4a42-b05f-1fcde9c4c792",
   "metadata": {
    "papermill": {
     "duration": 0.038693,
     "end_time": "2024-03-25T18:10:47.852281",
     "exception": false,
     "start_time": "2024-03-25T18:10:47.813588",
     "status": "completed"
    },
    "tags": []
   },
   "outputs": [],
   "source": [
    "eval = pd.Series([n_shot_output, zero_shot_output, pt_target], index=[\"gpt-2-shot\", \"gpt-zero-shot\", \"gold-standard\"])"
   ]
  },
  {
   "cell_type": "code",
   "execution_count": null,
   "id": "12668570-cd82-4aa8-b5d9-d35efd9c735b",
   "metadata": {
    "papermill": {
     "duration": 0.03725,
     "end_time": "2024-03-25T18:10:47.899913",
     "exception": false,
     "start_time": "2024-03-25T18:10:47.862663",
     "status": "completed"
    },
    "tags": []
   },
   "outputs": [],
   "source": [
    "def add_line_breaks(text):\n",
    "    return text.replace(r'\\n', r'<br>')"
   ]
  },
  {
   "cell_type": "code",
   "execution_count": null,
   "id": "f6e03b4a-afcf-46b3-9044-45dc9ec0d581",
   "metadata": {
    "papermill": {
     "duration": 0.037962,
     "end_time": "2024-03-25T18:10:47.945664",
     "exception": false,
     "start_time": "2024-03-25T18:10:47.907702",
     "status": "completed"
    },
    "tags": []
   },
   "outputs": [],
   "source": [
    "output_str = eval.to_frame().to_html(escape=False).replace(r\"\\n\",\"<br>\")\n",
    "with open(bhc_html_fp, 'w') as file:\n",
    "    file.write(output_str)\n",
    "    \n"
   ]
  },
  {
   "cell_type": "code",
   "execution_count": null,
   "id": "5d674128-e36b-4caf-a422-e5a2d6663101",
   "metadata": {
    "papermill": {
     "duration": 0.036936,
     "end_time": "2024-03-25T18:10:47.990061",
     "exception": false,
     "start_time": "2024-03-25T18:10:47.953125",
     "status": "completed"
    },
    "tags": []
   },
   "outputs": [],
   "source": [
    "print(n_shot_output)"
   ]
  },
  {
   "cell_type": "code",
   "execution_count": null,
   "id": "7f8ca5fc-3cf1-4f7f-b0d5-b1c2b43956c1",
   "metadata": {
    "papermill": {
     "duration": 0.037027,
     "end_time": "2024-03-25T18:10:48.037539",
     "exception": false,
     "start_time": "2024-03-25T18:10:48.000512",
     "status": "completed"
    },
    "tags": []
   },
   "outputs": [],
   "source": [
    "print(zero_shot_output)"
   ]
  },
  {
   "cell_type": "code",
   "execution_count": null,
   "id": "872e3591-d11c-43c2-af6f-e5d0b2c05599",
   "metadata": {
    "papermill": {
     "duration": 0.036906,
     "end_time": "2024-03-25T18:10:48.082217",
     "exception": false,
     "start_time": "2024-03-25T18:10:48.045311",
     "status": "completed"
    },
    "tags": []
   },
   "outputs": [],
   "source": [
    "print(pt_target)"
   ]
  },
  {
   "cell_type": "markdown",
   "id": "35653a78-3baf-4a67-9de1-a95f08a4ad0d",
   "metadata": {
    "papermill": {
     "duration": 0.00748,
     "end_time": "2024-03-25T18:10:48.097400",
     "exception": false,
     "start_time": "2024-03-25T18:10:48.089920",
     "status": "completed"
    },
    "tags": []
   },
   "source": [
    "## SOAP Notes"
   ]
  },
  {
   "cell_type": "code",
   "execution_count": null,
   "id": "c17897ed-8dde-4da1-978b-d813eecaff9c",
   "metadata": {
    "papermill": {
     "duration": 0.03847,
     "end_time": "2024-03-25T18:10:48.146339",
     "exception": false,
     "start_time": "2024-03-25T18:10:48.107869",
     "status": "completed"
    },
    "scrolled": true,
    "tags": []
   },
   "outputs": [],
   "source": [
    "print(\"\\n----------------------------------------------------------------------\\n\")\n",
    "print(soap_notes['gpt_SOAP_note'].tolist()[0])\n",
    "print(\"\\n----------------------------------------------------------------------\\n\")\n",
    "print(soap_notes['gpt_SOAP_note'].tolist()[1])"
   ]
  },
  {
   "cell_type": "markdown",
   "id": "01bae5ba-cfeb-447a-8ebd-73b7a9223367",
   "metadata": {
    "papermill": {
     "duration": 0.00781,
     "end_time": "2024-03-25T18:10:48.162803",
     "exception": false,
     "start_time": "2024-03-25T18:10:48.154993",
     "status": "completed"
    },
    "tags": []
   },
   "source": [
    "## Full Discharge Summary"
   ]
  },
  {
   "cell_type": "code",
   "execution_count": null,
   "id": "c49f332b-eb9c-4ed1-b02e-1670979fa3be",
   "metadata": {
    "papermill": {
     "duration": 0.040142,
     "end_time": "2024-03-25T18:10:48.210823",
     "exception": false,
     "start_time": "2024-03-25T18:10:48.170681",
     "status": "completed"
    },
    "scrolled": true,
    "tags": []
   },
   "outputs": [],
   "source": [
    "print(discharges[discharges['hadm_id'] == soap_notes.iloc[0]['hadm_id']]['text'].squeeze())"
   ]
  },
  {
   "cell_type": "code",
   "execution_count": null,
   "id": "c9a464bd-3579-4743-b76a-fff02d7ad6d9",
   "metadata": {
    "papermill": {
     "duration": 0.007958,
     "end_time": "2024-03-25T18:10:48.229655",
     "exception": false,
     "start_time": "2024-03-25T18:10:48.221697",
     "status": "completed"
    },
    "tags": []
   },
   "outputs": [],
   "source": []
  }
 ],
 "metadata": {
  "kernelspec": {
   "display_name": "Python 3 (ipykernel)",
   "language": "python",
   "name": "python3"
  },
  "language_info": {
   "codemirror_mode": {
    "name": "ipython",
    "version": 3
   },
   "file_extension": ".py",
   "mimetype": "text/x-python",
   "name": "python",
   "nbconvert_exporter": "python",
   "pygments_lexer": "ipython3",
   "version": "3.10.13"
  },
  "papermill": {
   "default_parameters": {},
   "duration": 125.648832,
   "end_time": "2024-03-25T18:10:48.854943",
   "environment_variables": {},
   "exception": null,
   "input_path": "Step2_Brief_Hospital_Course_GPT.ipynb",
   "output_path": "Step2_Brief_Hospital_Course_GPT.ipynb",
   "parameters": {
    "bhc_html_fp": "sample1html_10415772-DS-14.html",
    "scores_fp": "sample1scores_10415772-DS-14.csv",
    "soap_notes_fp": "soap_note_sample1test_10415772-DS-14.csv"
   },
   "start_time": "2024-03-25T18:08:43.206111",
   "version": "2.5.0"
  },
  "widgets": {
   "application/vnd.jupyter.widget-state+json": {
    "state": {},
    "version_major": 2,
    "version_minor": 0
   }
  }
 },
 "nbformat": 4,
 "nbformat_minor": 5
}
