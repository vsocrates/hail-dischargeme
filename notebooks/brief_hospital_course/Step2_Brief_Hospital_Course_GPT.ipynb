{
 "cells": [
  {
   "cell_type": "code",
   "execution_count": 1,
   "id": "3faddad8-6798-41ab-b0b4-95b795bb591b",
   "metadata": {
    "editable": true,
    "execution": {
     "iopub.execute_input": "2024-03-25T18:08:44.627705Z",
     "iopub.status.busy": "2024-03-25T18:08:44.627464Z",
     "iopub.status.idle": "2024-03-25T18:08:44.633936Z",
     "shell.execute_reply": "2024-03-25T18:08:44.633507Z"
    },
    "papermill": {
     "duration": 0.015732,
     "end_time": "2024-03-25T18:08:44.635218",
     "exception": false,
     "start_time": "2024-03-25T18:08:44.619486",
     "status": "completed"
    },
    "slideshow": {
     "slide_type": ""
    },
    "tags": [
     "parameters"
    ]
   },
   "outputs": [],
   "source": [
    "soap_notes_fp = \"sample_output1.csv\"\n",
    "bhc_html_fp = \"eval.csv\"\n",
    "scores_fp = \"scores.csv\""
   ]
  },
  {
   "cell_type": "code",
   "execution_count": 2,
   "id": "a9b4af4a",
   "metadata": {
    "execution": {
     "iopub.execute_input": "2024-03-25T18:08:44.652256Z",
     "iopub.status.busy": "2024-03-25T18:08:44.652053Z",
     "iopub.status.idle": "2024-03-25T18:08:44.655376Z",
     "shell.execute_reply": "2024-03-25T18:08:44.654997Z"
    },
    "papermill": {
     "duration": 0.011656,
     "end_time": "2024-03-25T18:08:44.656567",
     "exception": false,
     "start_time": "2024-03-25T18:08:44.644911",
     "status": "completed"
    },
    "tags": [
     "injected-parameters"
    ]
   },
   "outputs": [],
   "source": [
    "# Parameters\n",
    "soap_notes_fp = \"soap_note_sample1test_10415772-DS-14.csv\"\n",
    "bhc_html_fp = \"sample1html_10415772-DS-14.html\"\n",
    "scores_fp = \"sample1scores_10415772-DS-14.csv\"\n"
   ]
  },
  {
   "cell_type": "markdown",
   "id": "8201b927-ffb6-4ec5-9e7c-6ce39b89804f",
   "metadata": {
    "editable": true,
    "papermill": {
     "duration": 0.005827,
     "end_time": "2024-03-25T18:08:44.668454",
     "exception": false,
     "start_time": "2024-03-25T18:08:44.662627",
     "status": "completed"
    },
    "slideshow": {
     "slide_type": ""
    },
    "tags": []
   },
   "source": [
    "# Brief Hospital Course Generation\n",
    "\n",
    "This notebook performs step 2 of the Brief Hospital Course pipeline, in which we generate a brief hospital course from a set of service-level SOAP notes passed into a GPT-3.5 model. "
   ]
  },
  {
   "cell_type": "code",
   "execution_count": 3,
   "id": "f64518d3-b2e4-4fab-807d-fbd9dcfde6e6",
   "metadata": {
    "editable": true,
    "execution": {
     "iopub.execute_input": "2024-03-25T18:08:44.681572Z",
     "iopub.status.busy": "2024-03-25T18:08:44.681374Z",
     "iopub.status.idle": "2024-03-25T18:08:44.696265Z",
     "shell.execute_reply": "2024-03-25T18:08:44.695907Z"
    },
    "papermill": {
     "duration": 0.022792,
     "end_time": "2024-03-25T18:08:44.697388",
     "exception": false,
     "start_time": "2024-03-25T18:08:44.674596",
     "status": "completed"
    },
    "slideshow": {
     "slide_type": ""
    },
    "tags": []
   },
   "outputs": [],
   "source": [
    "%load_ext autoreload\n",
    "%autoreload 2"
   ]
  },
  {
   "cell_type": "code",
   "execution_count": 7,
   "id": "47f4516e-b3cb-4179-982e-f783e7cc1514",
   "metadata": {
    "papermill": {
     "duration": 2.037344,
     "end_time": "2024-03-25T18:08:46.740830",
     "exception": false,
     "start_time": "2024-03-25T18:08:44.703486",
     "status": "completed"
    },
    "tags": []
   },
   "outputs": [],
   "source": [
    "import pandas as pd\n",
    "import ast\n",
    "import numpy as np\n",
    "\n",
    "from tqdm import tqdm\n",
    "# from tqdm.auto import tqdm  # for notebooks\n",
    "tqdm.pandas()\n",
    "\n",
    "import os\n",
    "import openai"
   ]
  },
  {
   "cell_type": "code",
   "execution_count": 5,
   "id": "a3beef81-0897-454d-ba25-bff5bb47fa3e",
   "metadata": {
    "execution": {
     "iopub.execute_input": "2024-03-25T18:08:46.759219Z",
     "iopub.status.busy": "2024-03-25T18:08:46.758295Z",
     "iopub.status.idle": "2024-03-25T18:08:46.783154Z",
     "shell.execute_reply": "2024-03-25T18:08:46.782787Z"
    },
    "papermill": {
     "duration": 0.032891,
     "end_time": "2024-03-25T18:08:46.784328",
     "exception": false,
     "start_time": "2024-03-25T18:08:46.751437",
     "status": "completed"
    },
    "tags": []
   },
   "outputs": [
    {
     "data": {
      "text/plain": [
       "True"
      ]
     },
     "execution_count": 5,
     "metadata": {},
     "output_type": "execute_result"
    }
   ],
   "source": [
    "from dotenv import load_dotenv\n",
    "load_dotenv()  # take environment variables from .env."
   ]
  },
  {
   "cell_type": "code",
   "execution_count": 6,
   "id": "21007277-cbda-4d47-b785-da285c5bab09",
   "metadata": {
    "execution": {
     "iopub.execute_input": "2024-03-25T18:08:46.798057Z",
     "iopub.status.busy": "2024-03-25T18:08:46.797278Z",
     "iopub.status.idle": "2024-03-25T18:08:46.914118Z",
     "shell.execute_reply": "2024-03-25T18:08:46.913635Z"
    },
    "papermill": {
     "duration": 0.125225,
     "end_time": "2024-03-25T18:08:46.915698",
     "exception": false,
     "start_time": "2024-03-25T18:08:46.790473",
     "status": "completed"
    },
    "tags": []
   },
   "outputs": [],
   "source": [
    "from prompt_functions import create_brief_hospital_course_prompts\n",
    "from openai_utils import num_tokens_from_string, completion_with_backoff"
   ]
  },
  {
   "cell_type": "code",
   "execution_count": 7,
   "id": "5e8841fe-f0a0-458d-884e-822f3894af22",
   "metadata": {
    "execution": {
     "iopub.execute_input": "2024-03-25T18:08:46.932843Z",
     "iopub.status.busy": "2024-03-25T18:08:46.931990Z",
     "iopub.status.idle": "2024-03-25T18:08:46.950727Z",
     "shell.execute_reply": "2024-03-25T18:08:46.950357Z"
    },
    "papermill": {
     "duration": 0.026843,
     "end_time": "2024-03-25T18:08:46.951846",
     "exception": false,
     "start_time": "2024-03-25T18:08:46.925003",
     "status": "completed"
    },
    "tags": []
   },
   "outputs": [],
   "source": [
    "import openai\n",
    "openai.api_type = \"azure\"\n",
    "openai.api_base = os.getenv(\"OPENAI_API_BASE\")\n",
    "openai.api_version = \"2023-07-01-preview\"\n",
    "openai.api_key = os.getenv(\"OPENAI_API_KEY\")\n",
    "# engine = \"decile-gpt-35-turbo-16k\"\n",
    "engine = \"decile-gpt-4-128K\"\n"
   ]
  },
  {
   "cell_type": "markdown",
   "id": "b0c5da71-ea5e-499d-89ed-510541e2f6d8",
   "metadata": {
    "papermill": {
     "duration": 0.005943,
     "end_time": "2024-03-25T18:08:46.963938",
     "exception": false,
     "start_time": "2024-03-25T18:08:46.957995",
     "status": "completed"
    },
    "tags": []
   },
   "source": [
    "## Read in GPT-Generated SOAP Notes"
   ]
  },
  {
   "cell_type": "code",
   "execution_count": 8,
   "id": "e2823bcb-3e33-4e9c-90e8-b2388b8c652c",
   "metadata": {
    "execution": {
     "iopub.execute_input": "2024-03-25T18:08:46.976630Z",
     "iopub.status.busy": "2024-03-25T18:08:46.976449Z",
     "iopub.status.idle": "2024-03-25T18:08:46.996110Z",
     "shell.execute_reply": "2024-03-25T18:08:46.995751Z"
    },
    "papermill": {
     "duration": 0.027229,
     "end_time": "2024-03-25T18:08:46.997276",
     "exception": false,
     "start_time": "2024-03-25T18:08:46.970047",
     "status": "completed"
    },
    "tags": []
   },
   "outputs": [],
   "source": [
    "soap_notes = pd.read_csv(soap_notes_fp)"
   ]
  },
  {
   "cell_type": "markdown",
   "id": "06bac8b2-807f-4376-8ba3-e9910434666f",
   "metadata": {
    "papermill": {
     "duration": 0.005986,
     "end_time": "2024-03-25T18:08:47.009455",
     "exception": false,
     "start_time": "2024-03-25T18:08:47.003469",
     "status": "completed"
    },
    "tags": []
   },
   "source": [
    "## Read in Prompts"
   ]
  },
  {
   "cell_type": "code",
   "execution_count": 9,
   "id": "a3cb6739-2144-4e3d-88a8-f5152d11bea2",
   "metadata": {
    "execution": {
     "iopub.execute_input": "2024-03-25T18:08:47.022420Z",
     "iopub.status.busy": "2024-03-25T18:08:47.022250Z",
     "iopub.status.idle": "2024-03-25T18:08:47.040317Z",
     "shell.execute_reply": "2024-03-25T18:08:47.039965Z"
    },
    "papermill": {
     "duration": 0.025869,
     "end_time": "2024-03-25T18:08:47.041424",
     "exception": false,
     "start_time": "2024-03-25T18:08:47.015555",
     "status": "completed"
    },
    "tags": []
   },
   "outputs": [],
   "source": [
    "prompts = pd.read_csv(\"bhc_prompts.csv\")"
   ]
  },
  {
   "cell_type": "code",
   "execution_count": 10,
   "id": "0e8c3a9d-1b35-45a1-a1e5-8480e915c5a3",
   "metadata": {
    "execution": {
     "iopub.execute_input": "2024-03-25T18:08:47.057112Z",
     "iopub.status.busy": "2024-03-25T18:08:47.056364Z",
     "iopub.status.idle": "2024-03-25T18:08:47.078994Z",
     "shell.execute_reply": "2024-03-25T18:08:47.078598Z"
    },
    "papermill": {
     "duration": 0.030255,
     "end_time": "2024-03-25T18:08:47.080246",
     "exception": false,
     "start_time": "2024-03-25T18:08:47.049991",
     "status": "completed"
    },
    "tags": []
   },
   "outputs": [
    {
     "data": {
      "text/html": [
       "<div>\n",
       "<style scoped>\n",
       "    .dataframe tbody tr th:only-of-type {\n",
       "        vertical-align: middle;\n",
       "    }\n",
       "\n",
       "    .dataframe tbody tr th {\n",
       "        vertical-align: top;\n",
       "    }\n",
       "\n",
       "    .dataframe thead th {\n",
       "        text-align: right;\n",
       "    }\n",
       "</style>\n",
       "<table border=\"1\" class=\"dataframe\">\n",
       "  <thead>\n",
       "    <tr style=\"text-align: right;\">\n",
       "      <th></th>\n",
       "      <th>prompt_name</th>\n",
       "      <th>prompt</th>\n",
       "    </tr>\n",
       "  </thead>\n",
       "  <tbody>\n",
       "    <tr>\n",
       "      <th>0</th>\n",
       "      <td>bhc_prompt_zero_shot</td>\n",
       "      <td>___ is a {age} year old {sex} presenting to th...</td>\n",
       "    </tr>\n",
       "    <tr>\n",
       "      <th>1</th>\n",
       "      <td>bhc_prompt_n_shot</td>\n",
       "      <td>___ is a {age} year old {sex} presenting to th...</td>\n",
       "    </tr>\n",
       "    <tr>\n",
       "      <th>2</th>\n",
       "      <td>bhc_system_message</td>\n",
       "      <td>You are the discharging physician that is revi...</td>\n",
       "    </tr>\n",
       "  </tbody>\n",
       "</table>\n",
       "</div>"
      ],
      "text/plain": [
       "            prompt_name                                             prompt\n",
       "0  bhc_prompt_zero_shot  ___ is a {age} year old {sex} presenting to th...\n",
       "1     bhc_prompt_n_shot  ___ is a {age} year old {sex} presenting to th...\n",
       "2    bhc_system_message  You are the discharging physician that is revi..."
      ]
     },
     "execution_count": 10,
     "metadata": {},
     "output_type": "execute_result"
    }
   ],
   "source": [
    "prompts"
   ]
  },
  {
   "cell_type": "markdown",
   "id": "3bed84bf-c057-48f3-82e9-aa4ca381ce39",
   "metadata": {
    "papermill": {
     "duration": 0.00608,
     "end_time": "2024-03-25T18:08:47.092610",
     "exception": false,
     "start_time": "2024-03-25T18:08:47.086530",
     "status": "completed"
    },
    "tags": []
   },
   "source": [
    "## Read in Radiology Reports"
   ]
  },
  {
   "cell_type": "code",
   "execution_count": 11,
   "id": "e61e5e2e-abb1-4c55-8ad4-3a021195ac56",
   "metadata": {
    "execution": {
     "iopub.execute_input": "2024-03-25T18:08:47.105681Z",
     "iopub.status.busy": "2024-03-25T18:08:47.105492Z",
     "iopub.status.idle": "2024-03-25T18:08:51.535525Z",
     "shell.execute_reply": "2024-03-25T18:08:51.535033Z"
    },
    "papermill": {
     "duration": 4.438303,
     "end_time": "2024-03-25T18:08:51.537072",
     "exception": false,
     "start_time": "2024-03-25T18:08:47.098769",
     "status": "completed"
    },
    "tags": []
   },
   "outputs": [],
   "source": [
    "radiology = pd.read_csv(\"/gpfs/milgram/project/rtaylor/shared/DischargeMe/public/train/radiology.csv.gz\")"
   ]
  },
  {
   "cell_type": "markdown",
   "id": "c2754157-fa3a-448b-9f8e-79b42c5b94dd",
   "metadata": {
    "papermill": {
     "duration": 0.006009,
     "end_time": "2024-03-25T18:08:51.552744",
     "exception": false,
     "start_time": "2024-03-25T18:08:51.546735",
     "status": "completed"
    },
    "tags": []
   },
   "source": [
    "## Read in Encounter-Level Structured Data"
   ]
  },
  {
   "cell_type": "code",
   "execution_count": 12,
   "id": "f3d29f00-43fb-4b8a-bfac-dc45246dd6c3",
   "metadata": {
    "execution": {
     "iopub.execute_input": "2024-03-25T18:08:51.565866Z",
     "iopub.status.busy": "2024-03-25T18:08:51.565670Z",
     "iopub.status.idle": "2024-03-25T18:09:02.040893Z",
     "shell.execute_reply": "2024-03-25T18:09:02.040154Z"
    },
    "papermill": {
     "duration": 10.483565,
     "end_time": "2024-03-25T18:09:02.042428",
     "exception": false,
     "start_time": "2024-03-25T18:08:51.558863",
     "status": "completed"
    },
    "tags": []
   },
   "outputs": [],
   "source": [
    "###### \n",
    "# Challenge Data\n",
    "\n",
    "# discharge summaries\n",
    "discharges = pd.read_csv(\"/gpfs/milgram/project/rtaylor/shared/DischargeMe/public/train/discharge.csv.gz\")\n",
    "\n",
    "# ed stays\n",
    "edstays = pd.read_csv('/gpfs/milgram/project/rtaylor/shared/DischargeMe/public/train/edstays.csv.gz')\n",
    "\n",
    "# triage\n",
    "triage = pd.read_csv('/gpfs/milgram/project/rtaylor/shared/DischargeMe/public/train/triage.csv.gz')\n",
    "\n",
    "###### \n",
    "# MIMIC-IV Data\n",
    "\n",
    "# ward transfers\n",
    "transfers = pd.read_pickle('/gpfs/milgram/project/rtaylor/shared/DischargeMe/mimiciv/hosp/cohort_transfers.pkl')\n",
    "\n",
    "# higher-level services (ICU, CARD, etc)\n",
    "services = pd.read_pickle('/gpfs/milgram/project/rtaylor/shared/DischargeMe/mimiciv/hosp/cohort_services.pkl')\n",
    "\n",
    "# get patient info\n",
    "pts = pd.read_pickle('/gpfs/milgram/project/rtaylor/shared/DischargeMe/mimiciv/hosp/cohort_patients.pkl')\n",
    "\n",
    "# admission demographics\n",
    "admissions = pd.read_pickle('/gpfs/milgram/project/rtaylor/shared/DischargeMe/mimiciv/hosp/cohort_admissions.pkl')"
   ]
  },
  {
   "cell_type": "code",
   "execution_count": 13,
   "id": "5c888685-988c-4897-b34f-6ef21d677dca",
   "metadata": {
    "execution": {
     "iopub.execute_input": "2024-03-25T18:09:02.178240Z",
     "iopub.status.busy": "2024-03-25T18:09:02.177345Z",
     "iopub.status.idle": "2024-03-25T18:09:02.425820Z",
     "shell.execute_reply": "2024-03-25T18:09:02.425097Z"
    },
    "papermill": {
     "duration": 0.257095,
     "end_time": "2024-03-25T18:09:02.427357",
     "exception": false,
     "start_time": "2024-03-25T18:09:02.170262",
     "status": "completed"
    },
    "tags": []
   },
   "outputs": [],
   "source": [
    "# diagnoses\n",
    "diags = pd.read_pickle('/gpfs/milgram/project/rtaylor/shared/DischargeMe/mimiciv/hosp/cohort_diagnoses_icd.pkl')"
   ]
  },
  {
   "cell_type": "markdown",
   "id": "634a8b4d-3160-448b-b438-98dc96af4335",
   "metadata": {
    "papermill": {
     "duration": 0.006284,
     "end_time": "2024-03-25T18:09:02.443098",
     "exception": false,
     "start_time": "2024-03-25T18:09:02.436814",
     "status": "completed"
    },
    "tags": []
   },
   "source": [
    "### Clean up/type cast data"
   ]
  },
  {
   "cell_type": "code",
   "execution_count": 14,
   "id": "f9f637d2-fb88-4f4e-91ec-5ce68edba838",
   "metadata": {
    "execution": {
     "iopub.execute_input": "2024-03-25T18:09:02.456533Z",
     "iopub.status.busy": "2024-03-25T18:09:02.456309Z",
     "iopub.status.idle": "2024-03-25T18:09:02.530094Z",
     "shell.execute_reply": "2024-03-25T18:09:02.529621Z"
    },
    "papermill": {
     "duration": 0.08245,
     "end_time": "2024-03-25T18:09:02.531569",
     "exception": false,
     "start_time": "2024-03-25T18:09:02.449119",
     "status": "completed"
    },
    "tags": []
   },
   "outputs": [],
   "source": [
    "discharges = discharges.astype({\"charttime\":\"datetime64[ns]\",\n",
    "                               \"storetime\":\"datetime64[ns]\"})"
   ]
  },
  {
   "cell_type": "markdown",
   "id": "8f773b89-0263-416c-93a5-98c59087637b",
   "metadata": {
    "papermill": {
     "duration": 0.00617,
     "end_time": "2024-03-25T18:09:02.547438",
     "exception": false,
     "start_time": "2024-03-25T18:09:02.541268",
     "status": "completed"
    },
    "tags": []
   },
   "source": [
    "## Generate SOAP Note List Prompt"
   ]
  },
  {
   "cell_type": "code",
   "execution_count": 15,
   "id": "907c48c1-0bc6-42ba-8cc7-3b85888f9278",
   "metadata": {
    "execution": {
     "iopub.execute_input": "2024-03-25T18:09:02.560719Z",
     "iopub.status.busy": "2024-03-25T18:09:02.560506Z",
     "iopub.status.idle": "2024-03-25T18:09:02.586339Z",
     "shell.execute_reply": "2024-03-25T18:09:02.585950Z"
    },
    "papermill": {
     "duration": 0.033795,
     "end_time": "2024-03-25T18:09:02.587515",
     "exception": false,
     "start_time": "2024-03-25T18:09:02.553720",
     "status": "completed"
    },
    "tags": []
   },
   "outputs": [
    {
     "data": {
      "text/html": [
       "<div>\n",
       "<style scoped>\n",
       "    .dataframe tbody tr th:only-of-type {\n",
       "        vertical-align: middle;\n",
       "    }\n",
       "\n",
       "    .dataframe tbody tr th {\n",
       "        vertical-align: top;\n",
       "    }\n",
       "\n",
       "    .dataframe thead th {\n",
       "        text-align: right;\n",
       "    }\n",
       "</style>\n",
       "<table border=\"1\" class=\"dataframe\">\n",
       "  <thead>\n",
       "    <tr style=\"text-align: right;\">\n",
       "      <th></th>\n",
       "      <th>Unnamed: 0</th>\n",
       "      <th>subject_id</th>\n",
       "      <th>hadm_id</th>\n",
       "      <th>transfer_id</th>\n",
       "      <th>eventtype</th>\n",
       "      <th>careunit</th>\n",
       "      <th>intime</th>\n",
       "      <th>outtime</th>\n",
       "      <th>service_prompts</th>\n",
       "      <th>gpt_SOAP_note</th>\n",
       "    </tr>\n",
       "  </thead>\n",
       "  <tbody>\n",
       "    <tr>\n",
       "      <th>0</th>\n",
       "      <td>76105</td>\n",
       "      <td>10415772.0</td>\n",
       "      <td>20648185.0</td>\n",
       "      <td>35979851.0</td>\n",
       "      <td>ED</td>\n",
       "      <td>Emergency Department</td>\n",
       "      <td>2180-10-31 11:42:00</td>\n",
       "      <td>2180-10-31 20:10:00</td>\n",
       "      <td>___ is a 69 year old F that initially presente...</td>\n",
       "      <td>S: The patient, ___, is a 69-year-old female w...</td>\n",
       "    </tr>\n",
       "    <tr>\n",
       "      <th>1</th>\n",
       "      <td>76104</td>\n",
       "      <td>10415772.0</td>\n",
       "      <td>20648185.0</td>\n",
       "      <td>34016963.0</td>\n",
       "      <td>admit</td>\n",
       "      <td>Med/Surg</td>\n",
       "      <td>2180-10-31 20:10:00</td>\n",
       "      <td>2180-11-01 16:36:57</td>\n",
       "      <td>___ is a 69 year old F that initially presente...</td>\n",
       "      <td>S: The patient, ___, is a 69-year-old female w...</td>\n",
       "    </tr>\n",
       "  </tbody>\n",
       "</table>\n",
       "</div>"
      ],
      "text/plain": [
       "   Unnamed: 0  subject_id     hadm_id  transfer_id eventtype  \\\n",
       "0       76105  10415772.0  20648185.0   35979851.0        ED   \n",
       "1       76104  10415772.0  20648185.0   34016963.0     admit   \n",
       "\n",
       "               careunit               intime              outtime  \\\n",
       "0  Emergency Department  2180-10-31 11:42:00  2180-10-31 20:10:00   \n",
       "1              Med/Surg  2180-10-31 20:10:00  2180-11-01 16:36:57   \n",
       "\n",
       "                                     service_prompts  \\\n",
       "0  ___ is a 69 year old F that initially presente...   \n",
       "1  ___ is a 69 year old F that initially presente...   \n",
       "\n",
       "                                       gpt_SOAP_note  \n",
       "0  S: The patient, ___, is a 69-year-old female w...  \n",
       "1  S: The patient, ___, is a 69-year-old female w...  "
      ]
     },
     "execution_count": 15,
     "metadata": {},
     "output_type": "execute_result"
    }
   ],
   "source": [
    "soap_notes"
   ]
  },
  {
   "cell_type": "code",
   "execution_count": 16,
   "id": "a7c63942-3741-43db-ab8e-51e5b93250ec",
   "metadata": {
    "execution": {
     "iopub.execute_input": "2024-03-25T18:09:02.601353Z",
     "iopub.status.busy": "2024-03-25T18:09:02.600607Z",
     "iopub.status.idle": "2024-03-25T18:09:02.622201Z",
     "shell.execute_reply": "2024-03-25T18:09:02.621840Z"
    },
    "papermill": {
     "duration": 0.029524,
     "end_time": "2024-03-25T18:09:02.623305",
     "exception": false,
     "start_time": "2024-03-25T18:09:02.593781",
     "status": "completed"
    },
    "tags": []
   },
   "outputs": [
    {
     "data": {
      "text/plain": [
       "note_id                                          10415772-DS-14\n",
       "subject_id                                             10415772\n",
       "hadm_id                                                20648185\n",
       "note_type                                                    DS\n",
       "note_seq                                                     14\n",
       "charttime                                   2180-11-01 00:00:00\n",
       "storetime                                   2180-11-01 16:42:00\n",
       "text           \\nName:  ___                    Unit No:   __...\n",
       "Name: 2640, dtype: object"
      ]
     },
     "execution_count": 16,
     "metadata": {},
     "output_type": "execute_result"
    }
   ],
   "source": [
    "discharges[discharges['hadm_id'] == soap_notes.iloc[0]['hadm_id']].squeeze()"
   ]
  },
  {
   "cell_type": "markdown",
   "id": "75bc770f-6381-460c-ac06-d72074822ce8",
   "metadata": {
    "papermill": {
     "duration": 0.00609,
     "end_time": "2024-03-25T18:09:02.635752",
     "exception": false,
     "start_time": "2024-03-25T18:09:02.629662",
     "status": "completed"
    },
    "tags": []
   },
   "source": [
    "## Create SOAP notes from GPT API (0-shot)"
   ]
  },
  {
   "cell_type": "code",
   "execution_count": 17,
   "id": "905736ec-2cb7-4d8d-b2da-291ddeedf7f2",
   "metadata": {
    "execution": {
     "iopub.execute_input": "2024-03-25T18:09:02.652193Z",
     "iopub.status.busy": "2024-03-25T18:09:02.652021Z",
     "iopub.status.idle": "2024-03-25T18:09:02.679739Z",
     "shell.execute_reply": "2024-03-25T18:09:02.679341Z"
    },
    "papermill": {
     "duration": 0.03598,
     "end_time": "2024-03-25T18:09:02.680972",
     "exception": false,
     "start_time": "2024-03-25T18:09:02.644992",
     "status": "completed"
    },
    "tags": []
   },
   "outputs": [],
   "source": [
    "bhc_prompt_zeroshot = create_brief_hospital_course_prompts(discharges[discharges['hadm_id'] == soap_notes.iloc[0]['hadm_id']].squeeze(),\n",
    "                                                  soap_notes, prompts, \n",
    "                                                  edstays, radiology, \n",
    "                                                  pts, triage, transfers, diags,\n",
    "                                                  shots=None\n",
    "                                                 )"
   ]
  },
  {
   "cell_type": "code",
   "execution_count": 18,
   "id": "c1eeba43-763b-4cef-b335-1d1d963cfe53",
   "metadata": {
    "execution": {
     "iopub.execute_input": "2024-03-25T18:09:02.695442Z",
     "iopub.status.busy": "2024-03-25T18:09:02.694683Z",
     "iopub.status.idle": "2024-03-25T18:09:02.929764Z",
     "shell.execute_reply": "2024-03-25T18:09:02.929324Z"
    },
    "papermill": {
     "duration": 0.243552,
     "end_time": "2024-03-25T18:09:02.931085",
     "exception": false,
     "start_time": "2024-03-25T18:09:02.687533",
     "status": "completed"
    },
    "tags": []
   },
   "outputs": [
    {
     "data": {
      "text/plain": [
       "1734"
      ]
     },
     "execution_count": 18,
     "metadata": {},
     "output_type": "execute_result"
    }
   ],
   "source": [
    "num_tokens_from_string(bhc_prompt_zeroshot, \"cl100k_base\")"
   ]
  },
  {
   "cell_type": "code",
   "execution_count": 19,
   "id": "ccda464c-45c5-486c-812c-5c1e54b35de0",
   "metadata": {
    "execution": {
     "iopub.execute_input": "2024-03-25T18:09:02.946041Z",
     "iopub.status.busy": "2024-03-25T18:09:02.945230Z",
     "iopub.status.idle": "2024-03-25T18:09:02.966252Z",
     "shell.execute_reply": "2024-03-25T18:09:02.965864Z"
    },
    "papermill": {
     "duration": 0.029578,
     "end_time": "2024-03-25T18:09:02.967384",
     "exception": false,
     "start_time": "2024-03-25T18:09:02.937806",
     "status": "completed"
    },
    "scrolled": true,
    "tags": []
   },
   "outputs": [
    {
     "name": "stdout",
     "output_type": "stream",
     "text": [
      "Brief Hospital Course 1-shot Prompt: [{'role': 'system', 'content': \"You are the discharging physician that is reviewing a patient's SOAP notes over their hospital course, starting in the ED and being discharged from your unit and writing a brief hospital course summary based on this information.\"}, {'role': 'user', 'content': '___ is a {age} year old {sex} presenting to the ED with ETOH. The patient visited the following wards in order: Emergency Department, Med/Surg. Over the course of their hospital stay, ___ was given a set of diagnoses, radiology reports from consulting physicians, and a set of daily SOAP notes. Please use these SOAP notes to create a brief hospital course summary. Refer to the patient by three underscores (___). The structure of the brief hospital course summary should be:\\r\\n\\r\\n\"\"\"\\r\\n[patient introduction including age, sex, chief complaints, and relevant past medical history]\\r\\n\\r\\n# Condition 1: medications, vitals, abnormal labs and cultures, and procedures pertinent to Condition 1\\r\\n# Condition 2: medications, vitals, abnormal labs and cultures, and procedures pertinent to Condition 2\\r\\n\\r\\nConclusion\\r\\n\"\"\"\\r\\n----------------------------------------------------------------\\r\\n\\r\\n\\n\\nDiagnoses (ordered by priority):\\n----------------------------\\nAcute alcoholic intoxication in alcoholism, unspecified, Alcohol withdrawal, Other specified cardiac dysrhythmias, Hypoxemia, Open wound of back, without mention of complication, Other nonspecific abnormal finding of lung field, Chronic airway obstruction, not elsewhere classified, Other dependence on machines, supplemental oxygen, Personal history of tobacco use, Unspecified accident, Accidents occurring in unspecified place\\n\\nRadiology Reports:\\n----------------------------\\nRadiology Report #1: HISTORY:  Hypoxia, evaluate for pneumonia edema.\\n\\nCOMPARISON:  ___.\\n\\nFINDINGS:\\n\\nPA and lateral views of the chest.  There is prominence of pulmonary\\nvasculature consistent with mild congestion.  Stable lung hyperinflation is\\nconsistent with underlying emphysema.  There is no focal consolidation,\\npleural effusion or pneumothorax.  The heart is mildly enlarged.\\n\\nIMPRESSION:\\n\\nMild pulmonary congestion and cardiomegaly.  No evidence of pneumonia.\\n\\n\\n-------------\\n\\n\\nDaily SOAP Notes:\\n----------------------------\\nSOAP NOTE #1: S: The patient, ___, is a 69-year-old female who was initially admitted to the Emergency Department (ED) due to acute alcoholic intoxication and alcohol withdrawal. During her hospital stay in the ED, she was also diagnosed with other conditions including other specified cardiac dysrhythmias, hypoxemia, open wound of the back, nonspecific abnormal finding of lung field, chronic airway obstruction, other dependence on machines (supplemental oxygen), personal history of tobacco use, and unspecified accident.\\n\\nO: No procedures were performed during this part of the patient\\'s hospital course.\\n\\nDuring this time, the patient was initiated on Fluticasone-Salmeterol Diskus (250/50) 250/50mcg Diskus for chronic airway obstruction. Additionally, Heparin 5000 Units/mL- 1mL vial was administered, possibly due to the patient being at risk for thromboembolic events.\\n\\nNo abnormal labs or microbiology cultures were documented during this part of the hospital course.\\n\\nA: The patient\\'s main focus of care during this part of the hospital course in the ED was managing acute alcoholic intoxication and alcohol withdrawal, as well as addressing the associated cardiac dysrhythmias, hypoxemia, open wound on the back, and chronic airway obstruction. The patient was dependent on supplemental oxygen and had a personal history of tobacco use. No complications or significant findings were noted in the labs or cultures during this time.\\n\\nP: The patient will be further monitored in the ED for their acute intoxication and withdrawal symptoms. Continuation of Fluticasone-Salmeterol Diskus for chronic airway obstruction is recommended. The patient\\'s dependence on supplemental oxygen will be maintained and monitored. Close observation of vital signs, cardiac rhythm, wound care, and spirometry will be performed as part of the multidisciplinary approach to managing this patient\\'s complex clinical presentation.\\n-------------\\nSOAP NOTE #2: S: The patient, ___, is a 69-year-old female who initially presented to the Emergency Department (ED) with acute alcoholic intoxication. She was subsequently admitted to the Med/Surg ward for further management. Throughout her hospital stay, she was given the following diagnoses: Acute alcoholic intoxication in alcoholism, unspecified, Alcohol withdrawal, Other specified cardiac dysrhythmias, Hypoxemia, Open wound of back, without mention of complication, Other nonspecific abnormal finding of lung field, Chronic airway obstruction, not elsewhere classified, Other dependence on machines, supplemental oxygen, Personal history of tobacco use, Unspecified accident, Accidents occurring in unspecified place.\\n\\nO: No priority procedures were performed during this part of the patient\\'s hospital course.\\n\\nThe patient was administered several medications in chronological order during her stay. These include:\\n- Albuterol 0.083% Neb Soln 0.083%; 3mL Vial\\n- Pneumococcal Vac Polyvalent 25mcg/0.5mL Vial\\n- Diazepam 5 mg Tab\\n- IV fluids: Bag 50 mL Bag, Magnesium Sulfate 2 g / 50 mL Premix Bag, Multivitamin IV 10mL Vial, Thiamine 100mg/mL-2mL, 0.9% Sodium Chloride 1000mL Bag, FoLIC Acid 5mg/mL-10mL, Sodium Chloride 0.9% Flush Syringe, 0.9% Sodium Chloride 1000mL Bag\\n\\nNotable laboratory results include:\\n- Chemistry Blood Anion Gap: 15 mEq/L\\n- Chemistry Blood Bicarbonate: 29 mEq/L\\n- Chemistry Blood Calcium, Total: 8.7 mg/dL\\n- Chemistry Blood Chloride: 104 mEq/L\\n- Chemistry Blood Creatinine: 0.5 mg/dL\\n- Chemistry Blood Glucose: [Value not provided]\\n- Chemistry Blood Magnesium: 1.7 mg/dL\\n- Chemistry Blood Phosphate: 2.8 mg/dL\\n- Chemistry Blood Potassium: 4.2 mEq/L\\n- Chemistry Blood Sodium: 144 mEq/L\\n- Chemistry Blood Urea Nitrogen: 4 mg/dL\\n- Hematology Blood Hematocrit: 29.7%\\n- Hematology Blood Hemoglobin: 8.6 g/dL\\n- Hematology Blood MCH: 23.7 pg\\n- Hematology Blood MCHC: 28.8%\\n- Hematology Blood MCV: 82 fL\\n- Hematology Blood Platelet Count: 450 K/uL\\n- Hematology Blood RDW: 18.8%\\n- Hematology Blood Red Blood Cells: 3.61 m/uL\\n- Hematology Blood White Blood Cells: 7.9 K/uL\\n\\nNo significant microbio cultures were collected during this period.\\n\\nA: Based on the patient\\'s diagnoses, the primary conditions to address during this part of her hospital course are acute alcoholic intoxication in alcoholism, unspecified, alcohol withdrawal, hypoxemia, and chronic airway obstruction.\\n\\nP: During this part of the patient\\'s hospital course, no priority procedures were conducted. However, she was administered Albuterol nebulizer solution for her chronic airway obstruction. To address alcohol withdrawal, Diazepam was prescribed. To manage hypoxemia, oxygen supplementation was provided using a 0.9% Sodium Chloride Flush Syringe and a 1000mL bag of 0.9% Sodium Chloride. The patient also received various other medications including a pneumococcal vaccine, magnesium sulfate, and nutritional supplementation with multivitamin, thiamine, and folic acid.\\n\\nLabs revealed several abnormalities, including an elevated anion gap, normal bicarbonate and calcium levels, normal electrolytes (sodium, potassium, chloride), normal kidney function (creatinine and blood urea nitrogen), and normal glucose level. The patient had a low hemoglobin level and hematocrit, suggesting anemia. There were also abnormal MCH, MCHC, MCV, and RDW values, suggestive of abnormal red blood cell characteristics.\\n\\nThe patient\\'s respiratory condition will continue to be monitored, and further interventions may be necessary to manage her chronic airway obstruction and hypoxemia. She will also receive appropriate support and interventions for her alcohol withdrawal and alcoholism. Regular follow-up and monitoring of her laboratory results will be conducted to ensure appropriate management of her anemia and other related conditions.\\n-------------\\n'}]\n"
     ]
    }
   ],
   "source": [
    "messages = [{\"role\":\"system\",\"content\":prompts.loc[prompts['prompt_name'] == \"bhc_system_message\", \"prompt\"].squeeze()}]\n",
    "\n",
    "gpt_bhc_prompt = {\"role\":\"user\",\n",
    "                 \"content\":bhc_prompt_zeroshot}\n",
    "\n",
    "messages.append(gpt_bhc_prompt)\n",
    "\n",
    "print(f\"Brief Hospital Course 1-shot Prompt: {messages}\")"
   ]
  },
  {
   "cell_type": "code",
   "execution_count": 20,
   "id": "1704de3b-7d78-473e-b1b8-00e0858036c9",
   "metadata": {
    "execution": {
     "iopub.execute_input": "2024-03-25T18:09:02.984913Z",
     "iopub.status.busy": "2024-03-25T18:09:02.984160Z",
     "iopub.status.idle": "2024-03-25T18:09:45.622692Z",
     "shell.execute_reply": "2024-03-25T18:09:45.622223Z"
    },
    "papermill": {
     "duration": 42.64745,
     "end_time": "2024-03-25T18:09:45.624416",
     "exception": false,
     "start_time": "2024-03-25T18:09:02.976966",
     "status": "completed"
    },
    "tags": []
   },
   "outputs": [],
   "source": [
    "zeroshot_completion = completion_with_backoff(engine=engine,\n",
    "                        messages=messages,\n",
    "                        )\n"
   ]
  },
  {
   "cell_type": "code",
   "execution_count": 21,
   "id": "0aad3d79-1cb2-4d64-b4e7-d3c16a83797d",
   "metadata": {
    "execution": {
     "iopub.execute_input": "2024-03-25T18:09:45.643437Z",
     "iopub.status.busy": "2024-03-25T18:09:45.643225Z",
     "iopub.status.idle": "2024-03-25T18:09:45.663709Z",
     "shell.execute_reply": "2024-03-25T18:09:45.663304Z"
    },
    "papermill": {
     "duration": 0.030951,
     "end_time": "2024-03-25T18:09:45.664917",
     "exception": false,
     "start_time": "2024-03-25T18:09:45.633966",
     "status": "completed"
    },
    "tags": []
   },
   "outputs": [
    {
     "name": "stdout",
     "output_type": "stream",
     "text": [
      "\"\"\"\n",
      "___ is a 69-year-old female presenting to the ED with acute alcoholic intoxication. Her past medical history includes alcoholism, chronic airway obstruction consistent with underlying emphysema, personal history of tobacco use, and an unspecified accident.\n",
      "\n",
      "# Condition 1: Acute Alcoholic Intoxication and Alcohol Withdrawal\n",
      "Medications: Diazepam 5 mg was administered for alcohol withdrawal. The patient was also provided with nutritional supplements including Thiamine 100mg/mL, Folic Acid 5mg/mL, and a multivitamin IV.\n",
      "Vitals & Labs: Regular monitoring of vital signs was conducted, though specific values were not provided.\n",
      "Procedures: No significant procedures were performed during this time.\n",
      "\n",
      "# Condition 2: Chronic Airway Obstruction and Hypoxemia\n",
      "Medications: Fluticasone-Salmeterol Diskus (250/50) 250/50mcg and Albuterol 0.083% Neb Soln were administered for chronic airway obstruction.\n",
      "Vitals: The patient was dependent on supplemental oxygen due to hypoxemia.\n",
      "Labs: No specific lab values pertaining to respiratory function were mentioned, however, related medication (magnesium sulfate and sodium chloride solutions) was provided which could be part of addressing complications from the chronic airway obstruction.\n",
      "Procedures: No specific respiratory procedures were mentioned.\n",
      "\n",
      "Radiology Reports revealed mild pulmonary congestion and cardiomegaly with no evidence of pneumonia, lung field abnormalities, or focal consolidation. The heart was mildly enlarged, and stable lung hyperinflation was noted, consistent with the patient's history of emphysema.\n",
      "\n",
      "Conclusion\n",
      "Throughout the hospital course, ___ was managed for acute alcoholic intoxication with hydration and supportive care including diazepam for withdrawal symptoms. Her chronic airway obstruction was treated with nebulized bronchodilators and inhaled corticosteroids. She was carefully monitored for cardiac dysrhythmias due to her alcohol intoxication, though no significant interventions were reported. The presence of hypoxemia necessitated ongoing oxygen therapy. Mild anemia and elevated RDW were noted, which may require further evaluation and management. No further diagnostic cultures were obtained, suggesting that infections were not a primary concern. During the stay, the patient also received pneumococcal vaccine as part of preventive care.\n",
      "\n",
      "Further monitoring in a medical setting, sobriety support, pulmonary rehabilitation, and close follow-up with primary care and pulmonary specialists might be necessary to address her chronic conditions and to prevent future hospitalizations.\n",
      "\"\"\"\n",
      "\n"
     ]
    }
   ],
   "source": [
    "zero_shot_output = zeroshot_completion['choices'][0]['message']['content']; print(zero_shot_output)"
   ]
  },
  {
   "cell_type": "markdown",
   "id": "d16a43c1-7755-4bea-a107-c38527d5f6ab",
   "metadata": {
    "papermill": {
     "duration": 0.006734,
     "end_time": "2024-03-25T18:09:45.678699",
     "exception": false,
     "start_time": "2024-03-25T18:09:45.671965",
     "status": "completed"
    },
    "tags": []
   },
   "source": [
    "## Create SOAP notes from GPT API (2-shot)\n",
    "\n",
    "It's really one shot I'm just testing two of the same example"
   ]
  },
  {
   "cell_type": "code",
   "execution_count": 8,
   "id": "438056e5-db78-443d-aadd-e411f031e497",
   "metadata": {
    "papermill": {
     "duration": 3.02043,
     "end_time": "2024-03-25T18:09:48.706133",
     "exception": false,
     "start_time": "2024-03-25T18:09:45.685703",
     "status": "completed"
    },
    "tags": []
   },
   "outputs": [],
   "source": [
    "targets = pd.read_csv('/gpfs/milgram/project/rtaylor/shared/DischargeMe/public/train/discharge_target.csv.gz')"
   ]
  },
  {
   "cell_type": "code",
   "execution_count": 23,
   "id": "ec1383f6-5fc2-49b0-88c9-c4bd553a3f5d",
   "metadata": {
    "execution": {
     "iopub.execute_input": "2024-03-25T18:09:48.809565Z",
     "iopub.status.busy": "2024-03-25T18:09:48.808635Z",
     "iopub.status.idle": "2024-03-25T18:09:48.828574Z",
     "shell.execute_reply": "2024-03-25T18:09:48.827907Z"
    },
    "papermill": {
     "duration": 0.028866,
     "end_time": "2024-03-25T18:09:48.829710",
     "exception": false,
     "start_time": "2024-03-25T18:09:48.800844",
     "status": "completed"
    },
    "tags": []
   },
   "outputs": [],
   "source": [
    "bhc_oneshot_sample = targets.sample(1)['brief_hospital_course'].squeeze()"
   ]
  },
  {
   "cell_type": "code",
   "execution_count": 24,
   "id": "e6145b90-3152-459c-8b47-18244d8542b9",
   "metadata": {
    "execution": {
     "iopub.execute_input": "2024-03-25T18:09:48.844071Z",
     "iopub.status.busy": "2024-03-25T18:09:48.843324Z",
     "iopub.status.idle": "2024-03-25T18:09:48.869157Z",
     "shell.execute_reply": "2024-03-25T18:09:48.868795Z"
    },
    "papermill": {
     "duration": 0.034084,
     "end_time": "2024-03-25T18:09:48.870285",
     "exception": false,
     "start_time": "2024-03-25T18:09:48.836201",
     "status": "completed"
    },
    "tags": []
   },
   "outputs": [],
   "source": [
    "bhc_prompt_2shot = create_brief_hospital_course_prompts(discharges[discharges['hadm_id'] == soap_notes.iloc[0]['hadm_id']].squeeze(),\n",
    "                                                  soap_notes, prompts, \n",
    "                                                  edstays, radiology, \n",
    "                                                  pts, triage, transfers, diags,\n",
    "                                                  shots=[bhc_oneshot_sample, bhc_oneshot_sample]\n",
    "                                                 )"
   ]
  },
  {
   "cell_type": "code",
   "execution_count": 25,
   "id": "2f1fcf6d-d764-49e6-a663-a02d02985255",
   "metadata": {
    "execution": {
     "iopub.execute_input": "2024-03-25T18:09:48.885042Z",
     "iopub.status.busy": "2024-03-25T18:09:48.884269Z",
     "iopub.status.idle": "2024-03-25T18:09:48.906829Z",
     "shell.execute_reply": "2024-03-25T18:09:48.906404Z"
    },
    "papermill": {
     "duration": 0.031207,
     "end_time": "2024-03-25T18:09:48.908134",
     "exception": false,
     "start_time": "2024-03-25T18:09:48.876927",
     "status": "completed"
    },
    "tags": []
   },
   "outputs": [
    {
     "data": {
      "text/plain": [
       "2473"
      ]
     },
     "execution_count": 25,
     "metadata": {},
     "output_type": "execute_result"
    }
   ],
   "source": [
    "num_tokens_from_string(bhc_prompt_2shot, \"cl100k_base\")"
   ]
  },
  {
   "cell_type": "code",
   "execution_count": 26,
   "id": "1ef984ce-2ea5-48b6-89e5-1adcdf0045a7",
   "metadata": {
    "execution": {
     "iopub.execute_input": "2024-03-25T18:09:48.927650Z",
     "iopub.status.busy": "2024-03-25T18:09:48.926689Z",
     "iopub.status.idle": "2024-03-25T18:09:48.947683Z",
     "shell.execute_reply": "2024-03-25T18:09:48.947282Z"
    },
    "papermill": {
     "duration": 0.030243,
     "end_time": "2024-03-25T18:09:48.948803",
     "exception": false,
     "start_time": "2024-03-25T18:09:48.918560",
     "status": "completed"
    },
    "scrolled": true,
    "tags": []
   },
   "outputs": [
    {
     "name": "stdout",
     "output_type": "stream",
     "text": [
      "Brief Hospital Course N-shot Prompt: [{'role': 'system', 'content': \"You are the discharging physician that is reviewing a patient's SOAP notes over their hospital course, starting in the ED and being discharged from your unit and writing a brief hospital course summary based on this information.\"}, {'role': 'user', 'content': '___ is a {age} year old {sex} presenting to the ED with ETOH. The patient visited the following wards in order: Emergency Department, Med/Surg. Over the course of their hospital stay, ___ was given a set of diagnoses, radiology reports from consulting physicians, and a set of daily SOAP notes. Please use these SOAP notes to create a brief hospital course summary. Refer to the patient by three underscores (___). The structure of the brief hospital course summary should be:\\r\\n\\r\\n\"\"\"\\r\\n[patient introduction including age, sex, chief complaints, and relevant past medical history]\\r\\n\\r\\n# Condition 1: medications, vitals, abnormal labs and cultures, and procedures pertinent to Condition 1\\r\\n# Condition 2: medications, vitals, abnormal labs and cultures, and procedures pertinent to Condition 2\\r\\n\\r\\nConclusion\\r\\n\"\"\"\\r\\nPlease use the following brief hospital course as an example: \\r\\n\\r\\nExample 1: Ms. ___ is a ___ yo F pedestrian struck by car with \\nhypertension, atrial fibrillation, thyroid nodules who was \\nadmitted to the Acute Care Trauma Surgery Service on ___. \\nDiagnostic imaging revealed left lateral ___ rib fractures,\\nGrade 3 splenic subcapsular hematoma, non-displaced left \\nproximal humerus fracture, and a periprosthetic lateral femoral \\ncondyle fracture. She was intubated for airway protection \\nrelated to impaired ___ comma scale. Inteventional radiology \\nwas consulted and she was taken directly to the ___ suite for \\ndistal splenic arty embolization with coils and gelfoam and \\nproximal splenic artery embolization with amplatzer plug. Post \\nprocedure she was admitted to the Trauma ICU for further \\nmanagement of her injuries and close hemodynamic monitoring. \\n\\nOn HD1 she was given 2 units of packed red blood cells for a \\nhematocrit of 22.7 down from 31.9. She was successfully \\nextubated. A 500 mL IV fluid bolus was given for low urine \\noutput with good effect. Orthopedic surgery was consulted for \\nthe humerus and femoral condyle fracture. A CT scan of the left \\nleg was obtained. Orthopedic surgery recommended non-operative \\nmanagement of her injuries at this time. \\n\\nOn HD2 her pain was managed with IV medication with good effect. \\nHer diet was progressively advanced to regular with good \\ntolerability. Her foley catheter was removed and she was able to \\nvoid spontaneously. Her elevated heart rate was managed with \\nmetoprolol IV since she take oral metoprolol at home. \\n-------------\\nExample 2: Ms. ___ is a ___ yo F pedestrian struck by car with \\nhypertension, atrial fibrillation, thyroid nodules who was \\nadmitted to the Acute Care Trauma Surgery Service on ___. \\nDiagnostic imaging revealed left lateral ___ rib fractures,\\nGrade 3 splenic subcapsular hematoma, non-displaced left \\nproximal humerus fracture, and a periprosthetic lateral femoral \\ncondyle fracture. She was intubated for airway protection \\nrelated to impaired ___ comma scale. Inteventional radiology \\nwas consulted and she was taken directly to the ___ suite for \\ndistal splenic arty embolization with coils and gelfoam and \\nproximal splenic artery embolization with amplatzer plug. Post \\nprocedure she was admitted to the Trauma ICU for further \\nmanagement of her injuries and close hemodynamic monitoring. \\n\\nOn HD1 she was given 2 units of packed red blood cells for a \\nhematocrit of 22.7 down from 31.9. She was successfully \\nextubated. A 500 mL IV fluid bolus was given for low urine \\noutput with good effect. Orthopedic surgery was consulted for \\nthe humerus and femoral condyle fracture. A CT scan of the left \\nleg was obtained. Orthopedic surgery recommended non-operative \\nmanagement of her injuries at this time. \\n\\nOn HD2 her pain was managed with IV medication with good effect. \\nHer diet was progressively advanced to regular with good \\ntolerability. Her foley catheter was removed and she was able to \\nvoid spontaneously. Her elevated heart rate was managed with \\nmetoprolol IV since she take oral metoprolol at home. \\n-------------\\n\\r\\n----------------------------------------------------------------\\r\\n\\r\\n\\n\\nDiagnoses (ordered by priority):\\n----------------------------\\nAcute alcoholic intoxication in alcoholism, unspecified, Alcohol withdrawal, Other specified cardiac dysrhythmias, Hypoxemia, Open wound of back, without mention of complication, Other nonspecific abnormal finding of lung field, Chronic airway obstruction, not elsewhere classified, Other dependence on machines, supplemental oxygen, Personal history of tobacco use, Unspecified accident, Accidents occurring in unspecified place\\n\\nRadiology Reports:\\n----------------------------\\nRadiology Report #1: HISTORY:  Hypoxia, evaluate for pneumonia edema.\\n\\nCOMPARISON:  ___.\\n\\nFINDINGS:\\n\\nPA and lateral views of the chest.  There is prominence of pulmonary\\nvasculature consistent with mild congestion.  Stable lung hyperinflation is\\nconsistent with underlying emphysema.  There is no focal consolidation,\\npleural effusion or pneumothorax.  The heart is mildly enlarged.\\n\\nIMPRESSION:\\n\\nMild pulmonary congestion and cardiomegaly.  No evidence of pneumonia.\\n\\n\\n-------------\\n\\n\\nDaily SOAP Notes:\\n----------------------------\\nSOAP NOTE #1: S: The patient, ___, is a 69-year-old female who was initially admitted to the Emergency Department (ED) due to acute alcoholic intoxication and alcohol withdrawal. During her hospital stay in the ED, she was also diagnosed with other conditions including other specified cardiac dysrhythmias, hypoxemia, open wound of the back, nonspecific abnormal finding of lung field, chronic airway obstruction, other dependence on machines (supplemental oxygen), personal history of tobacco use, and unspecified accident.\\n\\nO: No procedures were performed during this part of the patient\\'s hospital course.\\n\\nDuring this time, the patient was initiated on Fluticasone-Salmeterol Diskus (250/50) 250/50mcg Diskus for chronic airway obstruction. Additionally, Heparin 5000 Units/mL- 1mL vial was administered, possibly due to the patient being at risk for thromboembolic events.\\n\\nNo abnormal labs or microbiology cultures were documented during this part of the hospital course.\\n\\nA: The patient\\'s main focus of care during this part of the hospital course in the ED was managing acute alcoholic intoxication and alcohol withdrawal, as well as addressing the associated cardiac dysrhythmias, hypoxemia, open wound on the back, and chronic airway obstruction. The patient was dependent on supplemental oxygen and had a personal history of tobacco use. No complications or significant findings were noted in the labs or cultures during this time.\\n\\nP: The patient will be further monitored in the ED for their acute intoxication and withdrawal symptoms. Continuation of Fluticasone-Salmeterol Diskus for chronic airway obstruction is recommended. The patient\\'s dependence on supplemental oxygen will be maintained and monitored. Close observation of vital signs, cardiac rhythm, wound care, and spirometry will be performed as part of the multidisciplinary approach to managing this patient\\'s complex clinical presentation.\\n-------------\\nSOAP NOTE #2: S: The patient, ___, is a 69-year-old female who initially presented to the Emergency Department (ED) with acute alcoholic intoxication. She was subsequently admitted to the Med/Surg ward for further management. Throughout her hospital stay, she was given the following diagnoses: Acute alcoholic intoxication in alcoholism, unspecified, Alcohol withdrawal, Other specified cardiac dysrhythmias, Hypoxemia, Open wound of back, without mention of complication, Other nonspecific abnormal finding of lung field, Chronic airway obstruction, not elsewhere classified, Other dependence on machines, supplemental oxygen, Personal history of tobacco use, Unspecified accident, Accidents occurring in unspecified place.\\n\\nO: No priority procedures were performed during this part of the patient\\'s hospital course.\\n\\nThe patient was administered several medications in chronological order during her stay. These include:\\n- Albuterol 0.083% Neb Soln 0.083%; 3mL Vial\\n- Pneumococcal Vac Polyvalent 25mcg/0.5mL Vial\\n- Diazepam 5 mg Tab\\n- IV fluids: Bag 50 mL Bag, Magnesium Sulfate 2 g / 50 mL Premix Bag, Multivitamin IV 10mL Vial, Thiamine 100mg/mL-2mL, 0.9% Sodium Chloride 1000mL Bag, FoLIC Acid 5mg/mL-10mL, Sodium Chloride 0.9% Flush Syringe, 0.9% Sodium Chloride 1000mL Bag\\n\\nNotable laboratory results include:\\n- Chemistry Blood Anion Gap: 15 mEq/L\\n- Chemistry Blood Bicarbonate: 29 mEq/L\\n- Chemistry Blood Calcium, Total: 8.7 mg/dL\\n- Chemistry Blood Chloride: 104 mEq/L\\n- Chemistry Blood Creatinine: 0.5 mg/dL\\n- Chemistry Blood Glucose: [Value not provided]\\n- Chemistry Blood Magnesium: 1.7 mg/dL\\n- Chemistry Blood Phosphate: 2.8 mg/dL\\n- Chemistry Blood Potassium: 4.2 mEq/L\\n- Chemistry Blood Sodium: 144 mEq/L\\n- Chemistry Blood Urea Nitrogen: 4 mg/dL\\n- Hematology Blood Hematocrit: 29.7%\\n- Hematology Blood Hemoglobin: 8.6 g/dL\\n- Hematology Blood MCH: 23.7 pg\\n- Hematology Blood MCHC: 28.8%\\n- Hematology Blood MCV: 82 fL\\n- Hematology Blood Platelet Count: 450 K/uL\\n- Hematology Blood RDW: 18.8%\\n- Hematology Blood Red Blood Cells: 3.61 m/uL\\n- Hematology Blood White Blood Cells: 7.9 K/uL\\n\\nNo significant microbio cultures were collected during this period.\\n\\nA: Based on the patient\\'s diagnoses, the primary conditions to address during this part of her hospital course are acute alcoholic intoxication in alcoholism, unspecified, alcohol withdrawal, hypoxemia, and chronic airway obstruction.\\n\\nP: During this part of the patient\\'s hospital course, no priority procedures were conducted. However, she was administered Albuterol nebulizer solution for her chronic airway obstruction. To address alcohol withdrawal, Diazepam was prescribed. To manage hypoxemia, oxygen supplementation was provided using a 0.9% Sodium Chloride Flush Syringe and a 1000mL bag of 0.9% Sodium Chloride. The patient also received various other medications including a pneumococcal vaccine, magnesium sulfate, and nutritional supplementation with multivitamin, thiamine, and folic acid.\\n\\nLabs revealed several abnormalities, including an elevated anion gap, normal bicarbonate and calcium levels, normal electrolytes (sodium, potassium, chloride), normal kidney function (creatinine and blood urea nitrogen), and normal glucose level. The patient had a low hemoglobin level and hematocrit, suggesting anemia. There were also abnormal MCH, MCHC, MCV, and RDW values, suggestive of abnormal red blood cell characteristics.\\n\\nThe patient\\'s respiratory condition will continue to be monitored, and further interventions may be necessary to manage her chronic airway obstruction and hypoxemia. She will also receive appropriate support and interventions for her alcohol withdrawal and alcoholism. Regular follow-up and monitoring of her laboratory results will be conducted to ensure appropriate management of her anemia and other related conditions.\\n-------------\\n'}]\n"
     ]
    }
   ],
   "source": [
    "messages = [{\"role\":\"system\",\"content\":prompts.loc[prompts['prompt_name'] == \"bhc_system_message\", \"prompt\"].squeeze()}]\n",
    "\n",
    "gpt_bhc_prompt = {\"role\":\"user\",\n",
    "                 \"content\":bhc_prompt_2shot}\n",
    "\n",
    "messages.append(gpt_bhc_prompt)\n",
    "\n",
    "print(f\"Brief Hospital Course N-shot Prompt: {messages}\")"
   ]
  },
  {
   "cell_type": "code",
   "execution_count": 27,
   "id": "dc406513-ca39-4918-a8ef-b789a5c02950",
   "metadata": {
    "execution": {
     "iopub.execute_input": "2024-03-25T18:09:48.965153Z",
     "iopub.status.busy": "2024-03-25T18:09:48.964251Z",
     "iopub.status.idle": "2024-03-25T18:10:31.872105Z",
     "shell.execute_reply": "2024-03-25T18:10:31.871632Z"
    },
    "papermill": {
     "duration": 42.917806,
     "end_time": "2024-03-25T18:10:31.873944",
     "exception": false,
     "start_time": "2024-03-25T18:09:48.956138",
     "status": "completed"
    },
    "tags": []
   },
   "outputs": [],
   "source": [
    "nshot_completion = completion_with_backoff(engine=engine,\n",
    "                        messages=messages,\n",
    "                        )\n"
   ]
  },
  {
   "cell_type": "code",
   "execution_count": 28,
   "id": "1b656d1f-0aa9-4944-97f6-3cfcef7ff029",
   "metadata": {
    "execution": {
     "iopub.execute_input": "2024-03-25T18:10:31.957434Z",
     "iopub.status.busy": "2024-03-25T18:10:31.957187Z",
     "iopub.status.idle": "2024-03-25T18:10:31.976967Z",
     "shell.execute_reply": "2024-03-25T18:10:31.976559Z"
    },
    "papermill": {
     "duration": 0.030753,
     "end_time": "2024-03-25T18:10:31.978187",
     "exception": false,
     "start_time": "2024-03-25T18:10:31.947434",
     "status": "completed"
    },
    "tags": []
   },
   "outputs": [
    {
     "name": "stdout",
     "output_type": "stream",
     "text": [
      "___ is a 69-year-old female who presented to the ED with acute alcoholic intoxication and subsequent alcohol withdrawal. Her past medical history is significant for other specified cardiac dysrhythmias, hypoxemia, an open wound of the back, chronic airway obstruction likely secondary to smoking, and was found to be dependent on supplemental oxygen. She suffered an unspecified accident and has a personal history of tobacco use.\n",
      "\n",
      "# Acute alcoholic intoxication and alcohol withdrawal: \n",
      "Medications administered included Fluticasone-Salmeterol Diskus for chronic airway obstruction and Heparin for prophylaxis against possible thromboembolic events. To manage alcohol withdrawal, Diazepam 5 mg was administered orally. She did not undergo any specific procedures for these conditions in the ED. Monitoring in the ED included observation of vital signs, cardiac rhythm, wound care, and spirometry.\n",
      "\n",
      "# Cardiac dysrhythmias and hypoxemia: \n",
      "The patient received Albuterol 0.083% nebulization and supplemental oxygen therapy to manage chronic airway obstruction and hypoxemia. The pneumococcal vaccine was given for prophylaxis against infection, and intravenous fluids, including Magnesium Sulfate, Multivitamin IV, Thiamine, Folic Acid, and normal saline, were provided for nutritional support and hydration.\n",
      "\n",
      "Abnormal labs indicated an elevated anion gap and RDW, a low hemoglobin level and hematocrit indicating anemia, and other abnormal red blood cell characteristics. No microbiology cultures of significance were collected.\n",
      "\n",
      "Radiology Report #1 revealed mild pulmonary congestion and cardiomegaly, but no evidence of pneumonia, consolidation, pleural effusion, or pneumothorax.\n",
      "\n",
      "Conclusion:\n",
      "Throughout her hospital course, ___'s acute intoxication and withdrawal symptoms were managed supportively with medications to address the complex interplay of her chronic airway disease and acute intoxication symptoms. Additional attention was given to the prevention of potential complications from her cardiac dysrhythmias and hypoxemia. The radiology report helped rule out pneumonia, allowing the healthcare team to focus on managing her pre-existing conditions. Regular monitoring of her respiratory status and further interventions were planned to manage her chronic airway obstruction and hypoxemia, with ongoing support for her alcohol withdrawal and alcoholism. Lab results also directed the management of her anemia and continued monitoring of her condition. All her interventions were conducted with close hemodynamic monitoring and multidisciplinary involvement to treat her various medical conditions effectively, culminating in her preparation for discharge.\n"
     ]
    }
   ],
   "source": [
    "n_shot_output = nshot_completion['choices'][0]['message']['content']; print(n_shot_output)"
   ]
  },
  {
   "cell_type": "code",
   "execution_count": 29,
   "id": "ce60e820-6d53-4148-8107-df324b2b6da8",
   "metadata": {
    "execution": {
     "iopub.execute_input": "2024-03-25T18:10:31.994186Z",
     "iopub.status.busy": "2024-03-25T18:10:31.994007Z",
     "iopub.status.idle": "2024-03-25T18:10:32.013992Z",
     "shell.execute_reply": "2024-03-25T18:10:32.013606Z"
    },
    "papermill": {
     "duration": 0.029252,
     "end_time": "2024-03-25T18:10:32.015130",
     "exception": false,
     "start_time": "2024-03-25T18:10:31.985878",
     "status": "completed"
    },
    "tags": []
   },
   "outputs": [
    {
     "data": {
      "text/plain": [
       "\"___ is a 69-year-old female who presented to the ED with acute alcoholic intoxication and subsequent alcohol withdrawal. Her past medical history is significant for other specified cardiac dysrhythmias, hypoxemia, an open wound of the back, chronic airway obstruction likely secondary to smoking, and was found to be dependent on supplemental oxygen. She suffered an unspecified accident and has a personal history of tobacco use.\\n\\n# Acute alcoholic intoxication and alcohol withdrawal: \\nMedications administered included Fluticasone-Salmeterol Diskus for chronic airway obstruction and Heparin for prophylaxis against possible thromboembolic events. To manage alcohol withdrawal, Diazepam 5 mg was administered orally. She did not undergo any specific procedures for these conditions in the ED. Monitoring in the ED included observation of vital signs, cardiac rhythm, wound care, and spirometry.\\n\\n# Cardiac dysrhythmias and hypoxemia: \\nThe patient received Albuterol 0.083% nebulization and supplemental oxygen therapy to manage chronic airway obstruction and hypoxemia. The pneumococcal vaccine was given for prophylaxis against infection, and intravenous fluids, including Magnesium Sulfate, Multivitamin IV, Thiamine, Folic Acid, and normal saline, were provided for nutritional support and hydration.\\n\\nAbnormal labs indicated an elevated anion gap and RDW, a low hemoglobin level and hematocrit indicating anemia, and other abnormal red blood cell characteristics. No microbiology cultures of significance were collected.\\n\\nRadiology Report #1 revealed mild pulmonary congestion and cardiomegaly, but no evidence of pneumonia, consolidation, pleural effusion, or pneumothorax.\\n\\nConclusion:\\nThroughout her hospital course, ___'s acute intoxication and withdrawal symptoms were managed supportively with medications to address the complex interplay of her chronic airway disease and acute intoxication symptoms. Additional attention was given to the prevention of potential complications from her cardiac dysrhythmias and hypoxemia. The radiology report helped rule out pneumonia, allowing the healthcare team to focus on managing her pre-existing conditions. Regular monitoring of her respiratory status and further interventions were planned to manage her chronic airway obstruction and hypoxemia, with ongoing support for her alcohol withdrawal and alcoholism. Lab results also directed the management of her anemia and continued monitoring of her condition. All her interventions were conducted with close hemodynamic monitoring and multidisciplinary involvement to treat her various medical conditions effectively, culminating in her preparation for discharge.\""
      ]
     },
     "execution_count": 29,
     "metadata": {},
     "output_type": "execute_result"
    }
   ],
   "source": [
    "n_shot_output"
   ]
  },
  {
   "cell_type": "markdown",
   "id": "ac88b501-d6eb-4c58-a0d4-e97f1fe33622",
   "metadata": {
    "papermill": {
     "duration": 0.007087,
     "end_time": "2024-03-25T18:10:32.029377",
     "exception": false,
     "start_time": "2024-03-25T18:10:32.022290",
     "status": "completed"
    },
    "tags": []
   },
   "source": [
    "## Compute ROUGE Scores from Output"
   ]
  },
  {
   "cell_type": "code",
   "execution_count": 2,
   "id": "36137dc3-70e3-40a1-883d-a31a0cb4b554",
   "metadata": {
    "papermill": {
     "duration": 15.398344,
     "end_time": "2024-03-25T18:10:47.434682",
     "exception": false,
     "start_time": "2024-03-25T18:10:32.036338",
     "status": "completed"
    },
    "tags": []
   },
   "outputs": [],
   "source": [
    "from rouge_score import rouge_scorer\n"
   ]
  },
  {
   "cell_type": "code",
   "execution_count": 31,
   "id": "674658ea-de27-4346-a59d-1f2c92a92016",
   "metadata": {
    "execution": {
     "iopub.execute_input": "2024-03-25T18:10:47.455681Z",
     "iopub.status.busy": "2024-03-25T18:10:47.454724Z",
     "iopub.status.idle": "2024-03-25T18:10:47.483703Z",
     "shell.execute_reply": "2024-03-25T18:10:47.483304Z"
    },
    "papermill": {
     "duration": 0.038326,
     "end_time": "2024-03-25T18:10:47.484923",
     "exception": false,
     "start_time": "2024-03-25T18:10:47.446597",
     "status": "completed"
    },
    "scrolled": true,
    "tags": []
   },
   "outputs": [],
   "source": [
    "# discharges[discharges['hadm_id'] == soap_notes.iloc[0]['hadm_id']].squeeze()\n",
    "pt_target = targets[targets['hadm_id'] == soap_notes.iloc[0]['hadm_id']]['brief_hospital_course'].squeeze()"
   ]
  },
  {
   "cell_type": "code",
   "execution_count": 32,
   "id": "d65c1e48-46a2-4cca-adc0-efdeb9cd4030",
   "metadata": {
    "execution": {
     "iopub.execute_input": "2024-03-25T18:10:47.500653Z",
     "iopub.status.busy": "2024-03-25T18:10:47.499892Z",
     "iopub.status.idle": "2024-03-25T18:10:47.533097Z",
     "shell.execute_reply": "2024-03-25T18:10:47.532687Z"
    },
    "papermill": {
     "duration": 0.042099,
     "end_time": "2024-03-25T18:10:47.534382",
     "exception": false,
     "start_time": "2024-03-25T18:10:47.492283",
     "status": "completed"
    },
    "tags": []
   },
   "outputs": [],
   "source": [
    "scorer = rouge_scorer.RougeScorer(['rouge1',  \"rouge2\", 'rougeL'], use_stemmer=True)\n",
    "scores1 = scorer.score(zero_shot_output,\n",
    "                      pt_target)"
   ]
  },
  {
   "cell_type": "code",
   "execution_count": 33,
   "id": "7473d3f6-43dd-4484-ad80-1a3b37f12cfb",
   "metadata": {
    "execution": {
     "iopub.execute_input": "2024-03-25T18:10:47.551547Z",
     "iopub.status.busy": "2024-03-25T18:10:47.550622Z",
     "iopub.status.idle": "2024-03-25T18:10:47.580575Z",
     "shell.execute_reply": "2024-03-25T18:10:47.580173Z"
    },
    "papermill": {
     "duration": 0.039628,
     "end_time": "2024-03-25T18:10:47.581713",
     "exception": false,
     "start_time": "2024-03-25T18:10:47.542085",
     "status": "completed"
    },
    "tags": []
   },
   "outputs": [
    {
     "data": {
      "text/plain": [
       "{'rouge1': Score(precision=0.6666666666666666, recall=0.022988505747126436, fmeasure=0.044444444444444446),\n",
       " 'rouge2': Score(precision=0.18181818181818182, recall=0.005763688760806916, fmeasure=0.011173184357541898),\n",
       " 'rougeL': Score(precision=0.5833333333333334, recall=0.020114942528735632, fmeasure=0.03888888888888889)}"
      ]
     },
     "execution_count": 33,
     "metadata": {},
     "output_type": "execute_result"
    }
   ],
   "source": [
    "scores1"
   ]
  },
  {
   "cell_type": "code",
   "execution_count": 34,
   "id": "5a182e0a-0606-4004-8785-4f9ecbd8938f",
   "metadata": {
    "execution": {
     "iopub.execute_input": "2024-03-25T18:10:47.600860Z",
     "iopub.status.busy": "2024-03-25T18:10:47.600071Z",
     "iopub.status.idle": "2024-03-25T18:10:47.633299Z",
     "shell.execute_reply": "2024-03-25T18:10:47.632936Z"
    },
    "papermill": {
     "duration": 0.042517,
     "end_time": "2024-03-25T18:10:47.634479",
     "exception": false,
     "start_time": "2024-03-25T18:10:47.591962",
     "status": "completed"
    },
    "tags": []
   },
   "outputs": [],
   "source": [
    "scorer = rouge_scorer.RougeScorer(['rouge1', \"rouge2\", 'rougeL'], use_stemmer=True)\n",
    "scores2 = scorer.score(n_shot_output,\n",
    "                      pt_target)"
   ]
  },
  {
   "cell_type": "code",
   "execution_count": 35,
   "id": "cfb17644-e6e4-4edc-80b0-5eb81d96ca5b",
   "metadata": {
    "execution": {
     "iopub.execute_input": "2024-03-25T18:10:47.650628Z",
     "iopub.status.busy": "2024-03-25T18:10:47.649846Z",
     "iopub.status.idle": "2024-03-25T18:10:47.678314Z",
     "shell.execute_reply": "2024-03-25T18:10:47.677955Z"
    },
    "papermill": {
     "duration": 0.037705,
     "end_time": "2024-03-25T18:10:47.679453",
     "exception": false,
     "start_time": "2024-03-25T18:10:47.641748",
     "status": "completed"
    },
    "tags": []
   },
   "outputs": [
    {
     "data": {
      "text/plain": [
       "{'rouge1': Score(precision=0.6666666666666666, recall=0.02203856749311295, fmeasure=0.042666666666666665),\n",
       " 'rouge2': Score(precision=0.18181818181818182, recall=0.0055248618784530384, fmeasure=0.010723860589812331),\n",
       " 'rougeL': Score(precision=0.5, recall=0.01652892561983471, fmeasure=0.03200000000000001)}"
      ]
     },
     "execution_count": 35,
     "metadata": {},
     "output_type": "execute_result"
    }
   ],
   "source": [
    "scores2"
   ]
  },
  {
   "cell_type": "markdown",
   "id": "f8134c08-e32d-4167-b0ae-14e80f4b0d0c",
   "metadata": {
    "papermill": {
     "duration": 0.007225,
     "end_time": "2024-03-25T18:10:47.694010",
     "exception": false,
     "start_time": "2024-03-25T18:10:47.686785",
     "status": "completed"
    },
    "tags": []
   },
   "source": [
    "# Qualitative Eval"
   ]
  },
  {
   "cell_type": "markdown",
   "id": "065d01ec-e29a-4f08-9ead-1dacccc1f534",
   "metadata": {
    "papermill": {
     "duration": 0.007235,
     "end_time": "2024-03-25T18:10:47.711542",
     "exception": false,
     "start_time": "2024-03-25T18:10:47.704307",
     "status": "completed"
    },
    "tags": []
   },
   "source": [
    "## Final outputs\n"
   ]
  },
  {
   "cell_type": "code",
   "execution_count": 36,
   "id": "3899f8eb-d458-4a95-8b4c-ebb170e0c30f",
   "metadata": {
    "execution": {
     "iopub.execute_input": "2024-03-25T18:10:47.726926Z",
     "iopub.status.busy": "2024-03-25T18:10:47.726750Z",
     "iopub.status.idle": "2024-03-25T18:10:47.804463Z",
     "shell.execute_reply": "2024-03-25T18:10:47.804047Z"
    },
    "papermill": {
     "duration": 0.087005,
     "end_time": "2024-03-25T18:10:47.805829",
     "exception": false,
     "start_time": "2024-03-25T18:10:47.718824",
     "status": "completed"
    },
    "tags": []
   },
   "outputs": [],
   "source": [
    "pd.DataFrame.from_records([scores1, scores2], index=[\"zero-shot\", \"2-shot\"]).to_csv(scores_fp)"
   ]
  },
  {
   "cell_type": "code",
   "execution_count": 37,
   "id": "4bace2cf-7497-4a42-b05f-1fcde9c4c792",
   "metadata": {
    "execution": {
     "iopub.execute_input": "2024-03-25T18:10:47.822663Z",
     "iopub.status.busy": "2024-03-25T18:10:47.821798Z",
     "iopub.status.idle": "2024-03-25T18:10:47.850959Z",
     "shell.execute_reply": "2024-03-25T18:10:47.850559Z"
    },
    "papermill": {
     "duration": 0.038693,
     "end_time": "2024-03-25T18:10:47.852281",
     "exception": false,
     "start_time": "2024-03-25T18:10:47.813588",
     "status": "completed"
    },
    "tags": []
   },
   "outputs": [],
   "source": [
    "eval = pd.Series([n_shot_output, zero_shot_output, pt_target], index=[\"gpt-2-shot\", \"gpt-zero-shot\", \"gold-standard\"])"
   ]
  },
  {
   "cell_type": "code",
   "execution_count": 38,
   "id": "12668570-cd82-4aa8-b5d9-d35efd9c735b",
   "metadata": {
    "execution": {
     "iopub.execute_input": "2024-03-25T18:10:47.871665Z",
     "iopub.status.busy": "2024-03-25T18:10:47.870882Z",
     "iopub.status.idle": "2024-03-25T18:10:47.898734Z",
     "shell.execute_reply": "2024-03-25T18:10:47.898342Z"
    },
    "papermill": {
     "duration": 0.03725,
     "end_time": "2024-03-25T18:10:47.899913",
     "exception": false,
     "start_time": "2024-03-25T18:10:47.862663",
     "status": "completed"
    },
    "tags": []
   },
   "outputs": [],
   "source": [
    "def add_line_breaks(text):\n",
    "    return text.replace(r'\\n', r'<br>')"
   ]
  },
  {
   "cell_type": "code",
   "execution_count": 39,
   "id": "f6e03b4a-afcf-46b3-9044-45dc9ec0d581",
   "metadata": {
    "execution": {
     "iopub.execute_input": "2024-03-25T18:10:47.916448Z",
     "iopub.status.busy": "2024-03-25T18:10:47.915701Z",
     "iopub.status.idle": "2024-03-25T18:10:47.944530Z",
     "shell.execute_reply": "2024-03-25T18:10:47.944145Z"
    },
    "papermill": {
     "duration": 0.037962,
     "end_time": "2024-03-25T18:10:47.945664",
     "exception": false,
     "start_time": "2024-03-25T18:10:47.907702",
     "status": "completed"
    },
    "tags": []
   },
   "outputs": [],
   "source": [
    "output_str = eval.to_frame().to_html(escape=False).replace(r\"\\n\",\"<br>\")\n",
    "with open(bhc_html_fp, 'w') as file:\n",
    "    file.write(output_str)\n",
    "    \n"
   ]
  },
  {
   "cell_type": "code",
   "execution_count": 40,
   "id": "5d674128-e36b-4caf-a422-e5a2d6663101",
   "metadata": {
    "execution": {
     "iopub.execute_input": "2024-03-25T18:10:47.961888Z",
     "iopub.status.busy": "2024-03-25T18:10:47.961107Z",
     "iopub.status.idle": "2024-03-25T18:10:47.988920Z",
     "shell.execute_reply": "2024-03-25T18:10:47.988543Z"
    },
    "papermill": {
     "duration": 0.036936,
     "end_time": "2024-03-25T18:10:47.990061",
     "exception": false,
     "start_time": "2024-03-25T18:10:47.953125",
     "status": "completed"
    },
    "tags": []
   },
   "outputs": [
    {
     "name": "stdout",
     "output_type": "stream",
     "text": [
      "___ is a 69-year-old female who presented to the ED with acute alcoholic intoxication and subsequent alcohol withdrawal. Her past medical history is significant for other specified cardiac dysrhythmias, hypoxemia, an open wound of the back, chronic airway obstruction likely secondary to smoking, and was found to be dependent on supplemental oxygen. She suffered an unspecified accident and has a personal history of tobacco use.\n",
      "\n",
      "# Acute alcoholic intoxication and alcohol withdrawal: \n",
      "Medications administered included Fluticasone-Salmeterol Diskus for chronic airway obstruction and Heparin for prophylaxis against possible thromboembolic events. To manage alcohol withdrawal, Diazepam 5 mg was administered orally. She did not undergo any specific procedures for these conditions in the ED. Monitoring in the ED included observation of vital signs, cardiac rhythm, wound care, and spirometry.\n",
      "\n",
      "# Cardiac dysrhythmias and hypoxemia: \n",
      "The patient received Albuterol 0.083% nebulization and supplemental oxygen therapy to manage chronic airway obstruction and hypoxemia. The pneumococcal vaccine was given for prophylaxis against infection, and intravenous fluids, including Magnesium Sulfate, Multivitamin IV, Thiamine, Folic Acid, and normal saline, were provided for nutritional support and hydration.\n",
      "\n",
      "Abnormal labs indicated an elevated anion gap and RDW, a low hemoglobin level and hematocrit indicating anemia, and other abnormal red blood cell characteristics. No microbiology cultures of significance were collected.\n",
      "\n",
      "Radiology Report #1 revealed mild pulmonary congestion and cardiomegaly, but no evidence of pneumonia, consolidation, pleural effusion, or pneumothorax.\n",
      "\n",
      "Conclusion:\n",
      "Throughout her hospital course, ___'s acute intoxication and withdrawal symptoms were managed supportively with medications to address the complex interplay of her chronic airway disease and acute intoxication symptoms. Additional attention was given to the prevention of potential complications from her cardiac dysrhythmias and hypoxemia. The radiology report helped rule out pneumonia, allowing the healthcare team to focus on managing her pre-existing conditions. Regular monitoring of her respiratory status and further interventions were planned to manage her chronic airway obstruction and hypoxemia, with ongoing support for her alcohol withdrawal and alcoholism. Lab results also directed the management of her anemia and continued monitoring of her condition. All her interventions were conducted with close hemodynamic monitoring and multidisciplinary involvement to treat her various medical conditions effectively, culminating in her preparation for discharge.\n"
     ]
    }
   ],
   "source": [
    "print(n_shot_output)"
   ]
  },
  {
   "cell_type": "code",
   "execution_count": 41,
   "id": "7f8ca5fc-3cf1-4f7f-b0d5-b1c2b43956c1",
   "metadata": {
    "execution": {
     "iopub.execute_input": "2024-03-25T18:10:48.009507Z",
     "iopub.status.busy": "2024-03-25T18:10:48.008731Z",
     "iopub.status.idle": "2024-03-25T18:10:48.036438Z",
     "shell.execute_reply": "2024-03-25T18:10:48.036076Z"
    },
    "papermill": {
     "duration": 0.037027,
     "end_time": "2024-03-25T18:10:48.037539",
     "exception": false,
     "start_time": "2024-03-25T18:10:48.000512",
     "status": "completed"
    },
    "tags": []
   },
   "outputs": [
    {
     "name": "stdout",
     "output_type": "stream",
     "text": [
      "\"\"\"\n",
      "___ is a 69-year-old female presenting to the ED with acute alcoholic intoxication. Her past medical history includes alcoholism, chronic airway obstruction consistent with underlying emphysema, personal history of tobacco use, and an unspecified accident.\n",
      "\n",
      "# Condition 1: Acute Alcoholic Intoxication and Alcohol Withdrawal\n",
      "Medications: Diazepam 5 mg was administered for alcohol withdrawal. The patient was also provided with nutritional supplements including Thiamine 100mg/mL, Folic Acid 5mg/mL, and a multivitamin IV.\n",
      "Vitals & Labs: Regular monitoring of vital signs was conducted, though specific values were not provided.\n",
      "Procedures: No significant procedures were performed during this time.\n",
      "\n",
      "# Condition 2: Chronic Airway Obstruction and Hypoxemia\n",
      "Medications: Fluticasone-Salmeterol Diskus (250/50) 250/50mcg and Albuterol 0.083% Neb Soln were administered for chronic airway obstruction.\n",
      "Vitals: The patient was dependent on supplemental oxygen due to hypoxemia.\n",
      "Labs: No specific lab values pertaining to respiratory function were mentioned, however, related medication (magnesium sulfate and sodium chloride solutions) was provided which could be part of addressing complications from the chronic airway obstruction.\n",
      "Procedures: No specific respiratory procedures were mentioned.\n",
      "\n",
      "Radiology Reports revealed mild pulmonary congestion and cardiomegaly with no evidence of pneumonia, lung field abnormalities, or focal consolidation. The heart was mildly enlarged, and stable lung hyperinflation was noted, consistent with the patient's history of emphysema.\n",
      "\n",
      "Conclusion\n",
      "Throughout the hospital course, ___ was managed for acute alcoholic intoxication with hydration and supportive care including diazepam for withdrawal symptoms. Her chronic airway obstruction was treated with nebulized bronchodilators and inhaled corticosteroids. She was carefully monitored for cardiac dysrhythmias due to her alcohol intoxication, though no significant interventions were reported. The presence of hypoxemia necessitated ongoing oxygen therapy. Mild anemia and elevated RDW were noted, which may require further evaluation and management. No further diagnostic cultures were obtained, suggesting that infections were not a primary concern. During the stay, the patient also received pneumococcal vaccine as part of preventive care.\n",
      "\n",
      "Further monitoring in a medical setting, sobriety support, pulmonary rehabilitation, and close follow-up with primary care and pulmonary specialists might be necessary to address her chronic conditions and to prevent future hospitalizations.\n",
      "\"\"\"\n",
      "\n"
     ]
    }
   ],
   "source": [
    "print(zero_shot_output)"
   ]
  },
  {
   "cell_type": "code",
   "execution_count": 42,
   "id": "872e3591-d11c-43c2-af6f-e5d0b2c05599",
   "metadata": {
    "execution": {
     "iopub.execute_input": "2024-03-25T18:10:48.054493Z",
     "iopub.status.busy": "2024-03-25T18:10:48.053712Z",
     "iopub.status.idle": "2024-03-25T18:10:48.081084Z",
     "shell.execute_reply": "2024-03-25T18:10:48.080711Z"
    },
    "papermill": {
     "duration": 0.036906,
     "end_time": "2024-03-25T18:10:48.082217",
     "exception": false,
     "start_time": "2024-03-25T18:10:48.045311",
     "status": "completed"
    },
    "tags": []
   },
   "outputs": [
    {
     "name": "stdout",
     "output_type": "stream",
     "text": [
      "___ year-old woman with COPD on home O2 presenting with alcohol \n",
      "intoxication.  \n"
     ]
    }
   ],
   "source": [
    "print(pt_target)"
   ]
  },
  {
   "cell_type": "markdown",
   "id": "35653a78-3baf-4a67-9de1-a95f08a4ad0d",
   "metadata": {
    "papermill": {
     "duration": 0.00748,
     "end_time": "2024-03-25T18:10:48.097400",
     "exception": false,
     "start_time": "2024-03-25T18:10:48.089920",
     "status": "completed"
    },
    "tags": []
   },
   "source": [
    "## SOAP Notes"
   ]
  },
  {
   "cell_type": "code",
   "execution_count": 43,
   "id": "c17897ed-8dde-4da1-978b-d813eecaff9c",
   "metadata": {
    "execution": {
     "iopub.execute_input": "2024-03-25T18:10:48.115958Z",
     "iopub.status.busy": "2024-03-25T18:10:48.115798Z",
     "iopub.status.idle": "2024-03-25T18:10:48.145019Z",
     "shell.execute_reply": "2024-03-25T18:10:48.144592Z"
    },
    "papermill": {
     "duration": 0.03847,
     "end_time": "2024-03-25T18:10:48.146339",
     "exception": false,
     "start_time": "2024-03-25T18:10:48.107869",
     "status": "completed"
    },
    "scrolled": true,
    "tags": []
   },
   "outputs": [
    {
     "name": "stdout",
     "output_type": "stream",
     "text": [
      "\n",
      "----------------------------------------------------------------------\n",
      "\n",
      "S: The patient, ___, is a 69-year-old female who was initially admitted to the Emergency Department (ED) due to acute alcoholic intoxication and alcohol withdrawal. During her hospital stay in the ED, she was also diagnosed with other conditions including other specified cardiac dysrhythmias, hypoxemia, open wound of the back, nonspecific abnormal finding of lung field, chronic airway obstruction, other dependence on machines (supplemental oxygen), personal history of tobacco use, and unspecified accident.\n",
      "\n",
      "O: No procedures were performed during this part of the patient's hospital course.\n",
      "\n",
      "During this time, the patient was initiated on Fluticasone-Salmeterol Diskus (250/50) 250/50mcg Diskus for chronic airway obstruction. Additionally, Heparin 5000 Units/mL- 1mL vial was administered, possibly due to the patient being at risk for thromboembolic events.\n",
      "\n",
      "No abnormal labs or microbiology cultures were documented during this part of the hospital course.\n",
      "\n",
      "A: The patient's main focus of care during this part of the hospital course in the ED was managing acute alcoholic intoxication and alcohol withdrawal, as well as addressing the associated cardiac dysrhythmias, hypoxemia, open wound on the back, and chronic airway obstruction. The patient was dependent on supplemental oxygen and had a personal history of tobacco use. No complications or significant findings were noted in the labs or cultures during this time.\n",
      "\n",
      "P: The patient will be further monitored in the ED for their acute intoxication and withdrawal symptoms. Continuation of Fluticasone-Salmeterol Diskus for chronic airway obstruction is recommended. The patient's dependence on supplemental oxygen will be maintained and monitored. Close observation of vital signs, cardiac rhythm, wound care, and spirometry will be performed as part of the multidisciplinary approach to managing this patient's complex clinical presentation.\n",
      "\n",
      "----------------------------------------------------------------------\n",
      "\n",
      "S: The patient, ___, is a 69-year-old female who initially presented to the Emergency Department (ED) with acute alcoholic intoxication. She was subsequently admitted to the Med/Surg ward for further management. Throughout her hospital stay, she was given the following diagnoses: Acute alcoholic intoxication in alcoholism, unspecified, Alcohol withdrawal, Other specified cardiac dysrhythmias, Hypoxemia, Open wound of back, without mention of complication, Other nonspecific abnormal finding of lung field, Chronic airway obstruction, not elsewhere classified, Other dependence on machines, supplemental oxygen, Personal history of tobacco use, Unspecified accident, Accidents occurring in unspecified place.\n",
      "\n",
      "O: No priority procedures were performed during this part of the patient's hospital course.\n",
      "\n",
      "The patient was administered several medications in chronological order during her stay. These include:\n",
      "- Albuterol 0.083% Neb Soln 0.083%; 3mL Vial\n",
      "- Pneumococcal Vac Polyvalent 25mcg/0.5mL Vial\n",
      "- Diazepam 5 mg Tab\n",
      "- IV fluids: Bag 50 mL Bag, Magnesium Sulfate 2 g / 50 mL Premix Bag, Multivitamin IV 10mL Vial, Thiamine 100mg/mL-2mL, 0.9% Sodium Chloride 1000mL Bag, FoLIC Acid 5mg/mL-10mL, Sodium Chloride 0.9% Flush Syringe, 0.9% Sodium Chloride 1000mL Bag\n",
      "\n",
      "Notable laboratory results include:\n",
      "- Chemistry Blood Anion Gap: 15 mEq/L\n",
      "- Chemistry Blood Bicarbonate: 29 mEq/L\n",
      "- Chemistry Blood Calcium, Total: 8.7 mg/dL\n",
      "- Chemistry Blood Chloride: 104 mEq/L\n",
      "- Chemistry Blood Creatinine: 0.5 mg/dL\n",
      "- Chemistry Blood Glucose: [Value not provided]\n",
      "- Chemistry Blood Magnesium: 1.7 mg/dL\n",
      "- Chemistry Blood Phosphate: 2.8 mg/dL\n",
      "- Chemistry Blood Potassium: 4.2 mEq/L\n",
      "- Chemistry Blood Sodium: 144 mEq/L\n",
      "- Chemistry Blood Urea Nitrogen: 4 mg/dL\n",
      "- Hematology Blood Hematocrit: 29.7%\n",
      "- Hematology Blood Hemoglobin: 8.6 g/dL\n",
      "- Hematology Blood MCH: 23.7 pg\n",
      "- Hematology Blood MCHC: 28.8%\n",
      "- Hematology Blood MCV: 82 fL\n",
      "- Hematology Blood Platelet Count: 450 K/uL\n",
      "- Hematology Blood RDW: 18.8%\n",
      "- Hematology Blood Red Blood Cells: 3.61 m/uL\n",
      "- Hematology Blood White Blood Cells: 7.9 K/uL\n",
      "\n",
      "No significant microbio cultures were collected during this period.\n",
      "\n",
      "A: Based on the patient's diagnoses, the primary conditions to address during this part of her hospital course are acute alcoholic intoxication in alcoholism, unspecified, alcohol withdrawal, hypoxemia, and chronic airway obstruction.\n",
      "\n",
      "P: During this part of the patient's hospital course, no priority procedures were conducted. However, she was administered Albuterol nebulizer solution for her chronic airway obstruction. To address alcohol withdrawal, Diazepam was prescribed. To manage hypoxemia, oxygen supplementation was provided using a 0.9% Sodium Chloride Flush Syringe and a 1000mL bag of 0.9% Sodium Chloride. The patient also received various other medications including a pneumococcal vaccine, magnesium sulfate, and nutritional supplementation with multivitamin, thiamine, and folic acid.\n",
      "\n",
      "Labs revealed several abnormalities, including an elevated anion gap, normal bicarbonate and calcium levels, normal electrolytes (sodium, potassium, chloride), normal kidney function (creatinine and blood urea nitrogen), and normal glucose level. The patient had a low hemoglobin level and hematocrit, suggesting anemia. There were also abnormal MCH, MCHC, MCV, and RDW values, suggestive of abnormal red blood cell characteristics.\n",
      "\n",
      "The patient's respiratory condition will continue to be monitored, and further interventions may be necessary to manage her chronic airway obstruction and hypoxemia. She will also receive appropriate support and interventions for her alcohol withdrawal and alcoholism. Regular follow-up and monitoring of her laboratory results will be conducted to ensure appropriate management of her anemia and other related conditions.\n"
     ]
    }
   ],
   "source": [
    "print(\"\\n----------------------------------------------------------------------\\n\")\n",
    "print(soap_notes['gpt_SOAP_note'].tolist()[0])\n",
    "print(\"\\n----------------------------------------------------------------------\\n\")\n",
    "print(soap_notes['gpt_SOAP_note'].tolist()[1])"
   ]
  },
  {
   "cell_type": "markdown",
   "id": "01bae5ba-cfeb-447a-8ebd-73b7a9223367",
   "metadata": {
    "papermill": {
     "duration": 0.00781,
     "end_time": "2024-03-25T18:10:48.162803",
     "exception": false,
     "start_time": "2024-03-25T18:10:48.154993",
     "status": "completed"
    },
    "tags": []
   },
   "source": [
    "## Full Discharge Summary"
   ]
  },
  {
   "cell_type": "code",
   "execution_count": 44,
   "id": "c49f332b-eb9c-4ed1-b02e-1670979fa3be",
   "metadata": {
    "execution": {
     "iopub.execute_input": "2024-03-25T18:10:48.179245Z",
     "iopub.status.busy": "2024-03-25T18:10:48.179046Z",
     "iopub.status.idle": "2024-03-25T18:10:48.209651Z",
     "shell.execute_reply": "2024-03-25T18:10:48.209253Z"
    },
    "papermill": {
     "duration": 0.040142,
     "end_time": "2024-03-25T18:10:48.210823",
     "exception": false,
     "start_time": "2024-03-25T18:10:48.170681",
     "status": "completed"
    },
    "scrolled": true,
    "tags": []
   },
   "outputs": [
    {
     "name": "stdout",
     "output_type": "stream",
     "text": [
      " \n",
      "Name:  ___                    Unit No:   ___\n",
      " \n",
      "Admission Date:  ___              Discharge Date:   ___\n",
      " \n",
      "Date of Birth:  ___             Sex:   F\n",
      " \n",
      "Service: MEDICINE\n",
      " \n",
      "Allergies: \n",
      "No Known Allergies / Adverse Drug Reactions\n",
      " \n",
      "Attending: ___.\n",
      " \n",
      "Chief Complaint:\n",
      "Alcohol intoxication\n",
      " \n",
      "Major Surgical or Invasive Procedure:\n",
      "None\n",
      "\n",
      " \n",
      "History of Present Illness:\n",
      "Ms. ___ ___ year-old woman with a history of COPD 4L home O2 \n",
      "requirement at night presenting with acute alcohol intoxication. \n",
      "She was brought in by EMS for being out on the streets and was \n",
      "having difficulty ambulating. She states that she did not to \n",
      "leave home with her oxygen because she wanted to go out \"to get \n",
      "some booze\". She states that she had about half a pint of vodka \n",
      "today. Of note, she has a recent medical ICU admission for \n",
      "hypoxemia. She denies any evidence of trauma and has no \n",
      "complaints, denies any head, neck, back pain.  \n",
      "On arrival to the ED, initial vitals were 99.8 117 126/61 89% \n",
      "RA. Labs were notable for WBC 10.6 71% PMNs, HCT 31%, Plts 469, \n",
      "Cr 0.4 Osms 348, Lactate 4.9 -> 3.5. UA WNL. He received valium, \n",
      "thiamine, folic acid and multivitamin. Vitals on transfer were \n",
      "98.5 108 141/90 21 96%.  \n",
      "On arrival to the general medical floor, the patient appears \n",
      "comfortable and is without additional complaints.  \n",
      " \n",
      "ROS: per HPI, denies fever, chills, night sweats, headache, \n",
      "vision changes, rhinorrhea, congestion, sore throat, cough, \n",
      "shortness of breath, chest pain, abdominal pain, nausea, \n",
      "vomiting, diarrhea, constipation, BRBPR, melena, hematochezia, \n",
      "dysuria, hematuria.  \n",
      "\n",
      " \n",
      "Past Medical History:\n",
      "Alcohol Dependence\n",
      "COPD\n",
      "Osteoporosis\n",
      "\n",
      " \n",
      "Social History:\n",
      "___\n",
      "Family History:\n",
      "Noncontributory\n",
      " \n",
      "Physical Exam:\n",
      "Admission:\n",
      "VS - 97.8 116 18 157/85 100% 2L  \n",
      "General: Alert, oriented, no acute distress  \n",
      "HEENT: Sclera anicteric, MMM, oropharynx clear, EOMI  \n",
      "Neck: supple, JVP not elevated, no LAD  \n",
      "CV: Sinus tachycardia, normal S1 + S2, no murmurs, rubs, gallops \n",
      " \n",
      "Lungs: Diminished breath sounds bilaterally, scattered end  \n",
      "expiratory wheezes, no rhonchi or crackles  \n",
      "Abdomen: soft, non-tender, non-distended, bowel sounds present,  \n",
      "\n",
      "no organomegaly, scattered eccymosis  \n",
      "GU: foley  \n",
      "Ext: warm, well perfused, 2+ pulses, onychomycosis  \n",
      "Neuro: CNII-XII intact, ___ strength upper/lower extremities,  \n",
      "grossly normal sensation, gait and coordination not tested  \n",
      "\n",
      "Discharge:\n",
      "VS - 97.9 110 20 158/100 95% 2L  \n",
      "General: Alert, oriented, no acute distress  \n",
      "HEENT: Sclera anicteric, MMM, oropharynx clear, EOMI  \n",
      "Neck: supple, JVP not elevated, no LAD  \n",
      "CV: RR, tachycardic, normal S1 + S2, no murmurs, rubs, gallops  \n",
      "Lungs: Diminished breath sounds bilaterally, no wheezes, rhonchi \n",
      "or crackles  \n",
      "Abdomen: soft, non-tender, non-distended, bowel sounds present,  \n",
      "\n",
      "no organomegaly, scattered eccymosis  \n",
      "GU: foley  \n",
      "Ext: warm, well perfused, 2+ pulses, onychomycosis  \n",
      "Neuro: CNII-XII intact, ___ strength upper/lower extremities,  \n",
      "grossly normal sensation, gait and coordination not tested \n",
      " \n",
      "Pertinent Results:\n",
      "Admission:\n",
      "___ 12:15PM BLOOD WBC-10.6 RBC-3.78* Hgb-9.1* Hct-31.1* \n",
      "MCV-82 MCH-24.2* MCHC-29.4* RDW-18.8* Plt ___\n",
      "___ 12:15PM BLOOD Neuts-71.9* ___ Monos-6.1 Eos-1.0 \n",
      "Baso-1.2\n",
      "___ 12:15PM BLOOD Glucose-99 UreaN-7 Creat-0.4 Na-145 K-3.6 \n",
      "Cl-102 HCO3-32 AnGap-15\n",
      "___ 12:48PM BLOOD ___ pO2-93 pCO2-60* pH-7.33* \n",
      "calTCO2-33* Base XS-3\n",
      "___ 12:31PM BLOOD Lactate-4.9*\n",
      "\n",
      "Discharge:\n",
      "___ 07:10AM BLOOD WBC-7.9 RBC-3.61* Hgb-8.6* Hct-29.7* \n",
      "MCV-82 MCH-23.7* MCHC-28.8* RDW-18.8* Plt ___\n",
      "___ 07:10AM BLOOD Glucose-102* UreaN-4* Creat-0.5 Na-144 \n",
      "K-4.2 Cl-104 HCO3-29 AnGap-15\n",
      "___ 07:10AM BLOOD Calcium-8.7 Phos-2.8 Mg-1.7\n",
      "___ 04:39PM BLOOD ___ pO2-52* pCO2-59* pH-7.31* \n",
      "calTCO2-31* Base XS-0 Intubat-NOT INTUBA\n",
      "___ 04:39PM BLOOD Lactate-3.5*\n",
      "\n",
      "Chest Xray:\n",
      "Mild pulmonary congestion and cardiomegaly.  No evidence of \n",
      "pneumonia.\n",
      " \n",
      "Brief Hospital Course:\n",
      "___ year-old woman with COPD on home O2 presenting with alcohol \n",
      "intoxication.  \n",
      "\n",
      "Active Issues:\n",
      "# Alcohol Intoxication: Patient has a history of alcohol \n",
      "dependence with withdrawal symptoms. She required high oral \n",
      "doses of diazepam durring a prior MICU admission. During her \n",
      "recent admission she did not express interest in a \n",
      "detoxification program. On present admission, she was monitored \n",
      "on CIWA scale and showed no signs of withdrawal other than sinus \n",
      "tachycardia to 120s which is consistent with her prior hospital \n",
      "visits. She was continued on thiamine, folate, multivitamin. Her \n",
      "lactate trended down after IV fluids. Patient was strongly \n",
      "encouraged to decrease her alcohol intake.\n",
      "\n",
      "# Sinus tachycardia: Patient was noted to be tachycardic on \n",
      "previous admissions. She was tachy to 120s on prior \n",
      "hospitalization, work up negative for PE. ___ be related to \n",
      "alchol withdrawal or anxiety. No pain or signs of infection.\n",
      "\n",
      "# COPD with home O2: Patient has baseline oxygen requirement of \n",
      "___ NC at home and did not wear oxygen today while buying and \n",
      "drinking alcohol. She was hypoxic to the ___ on RA in the ED \n",
      "that ___ improved with 2L NC to the mid ___. No symptoms of \n",
      "COPD exacerbation. She was instructed to use her oxygen at all \n",
      "times. Home advair, albuterol and tiotropium was continued.  \n",
      "\n",
      "# Prior incidental finding: Still need follow-up of 10mm right \n",
      "apical lesion that is likely scarring. However, recommend follow \n",
      "up with dedicated chest CT in 3 months to ensure stability. At \n",
      "that time, the 2mm right upper lobe nodule can be reassessed.  \n",
      "\n",
      "Transitional Issues:\n",
      "-Follow up CT chest in 3 months for right apical nodule\n",
      "#CODE STATUS: Full  \n",
      "#CONTACT: HCP (neighbor) ___ ___  \n",
      "\n",
      "\n",
      " \n",
      "Medications on Admission:\n",
      "The Preadmission Medication list is accurate and complete.\n",
      "1. Albuterol Inhaler ___ PUFF IH Q4H:PRN SOB \n",
      "2. Fluticasone-Salmeterol Diskus (250/50)  1 INH IH BID \n",
      "3. FoLIC Acid 1 mg PO DAILY \n",
      "4. Multivitamins 1 TAB PO DAILY \n",
      "5. Thiamine 100 mg PO DAILY \n",
      "6. Tiotropium Bromide 1 CAP IH DAILY \n",
      "\n",
      " \n",
      "Discharge Medications:\n",
      "1. Fluticasone-Salmeterol Diskus (250/50)  1 INH IH BID \n",
      "2. FoLIC Acid 1 mg PO DAILY \n",
      "3. Multivitamins 1 TAB PO DAILY \n",
      "4. Thiamine 100 mg PO DAILY \n",
      "5. Tiotropium Bromide 1 CAP IH DAILY \n",
      "6. Albuterol Inhaler ___ PUFF IH Q4H:PRN SOB \n",
      "\n",
      " \n",
      "Discharge Disposition:\n",
      "Home With Service\n",
      " \n",
      "Facility:\n",
      "___\n",
      " \n",
      "Discharge Diagnosis:\n",
      "Primary:\n",
      "- Acute alcohol intoxication\n",
      "- Alcohol withdrawal\n",
      "- COPD 02 dependent\n",
      "- 10mm right apical lung lesion NOS\n",
      "\n",
      " \n",
      "Discharge Condition:\n",
      "Mental Status: Clear and coherent.\n",
      "Level of Consciousness: Alert and interactive.\n",
      "Activity Status: Ambulatory - Independent.\n",
      "\n",
      " \n",
      "Discharge Instructions:\n",
      "Dear Ms. ___,\n",
      "\n",
      "It was a pleasure taking care of you at ___. You were found to \n",
      "be intoxicated from alcohol. Your oxygen level was found to be \n",
      "low because you were not using your oxygen. You should use your \n",
      "home oxygen AT ALL TIMES. We also highly recommend that you \n",
      "gradually cut back on your alcohol use and consider a detox \n",
      "program.\n",
      " \n",
      "Followup Instructions:\n",
      "___\n",
      "\n"
     ]
    }
   ],
   "source": [
    "print(discharges[discharges['hadm_id'] == soap_notes.iloc[0]['hadm_id']]['text'].squeeze())"
   ]
  },
  {
   "cell_type": "code",
   "execution_count": null,
   "id": "c9a464bd-3579-4743-b76a-fff02d7ad6d9",
   "metadata": {
    "papermill": {
     "duration": 0.007958,
     "end_time": "2024-03-25T18:10:48.229655",
     "exception": false,
     "start_time": "2024-03-25T18:10:48.221697",
     "status": "completed"
    },
    "tags": []
   },
   "outputs": [],
   "source": []
  }
 ],
 "metadata": {
  "kernelspec": {
   "display_name": "Python 3 (ipykernel)",
   "language": "python",
   "name": "python3"
  },
  "language_info": {
   "codemirror_mode": {
    "name": "ipython",
    "version": 3
   },
   "file_extension": ".py",
   "mimetype": "text/x-python",
   "name": "python",
   "nbconvert_exporter": "python",
   "pygments_lexer": "ipython3",
   "version": "3.10.13"
  },
  "papermill": {
   "default_parameters": {},
   "duration": 125.648832,
   "end_time": "2024-03-25T18:10:48.854943",
   "environment_variables": {},
   "exception": null,
   "input_path": "Step2_Brief_Hospital_Course_GPT.ipynb",
   "output_path": "Step2_Brief_Hospital_Course_GPT.ipynb",
   "parameters": {
    "bhc_html_fp": "sample1html_10415772-DS-14.html",
    "scores_fp": "sample1scores_10415772-DS-14.csv",
    "soap_notes_fp": "soap_note_sample1test_10415772-DS-14.csv"
   },
   "start_time": "2024-03-25T18:08:43.206111",
   "version": "2.5.0"
  },
  "widgets": {
   "application/vnd.jupyter.widget-state+json": {
    "state": {},
    "version_major": 2,
    "version_minor": 0
   }
  }
 },
 "nbformat": 4,
 "nbformat_minor": 5
}
