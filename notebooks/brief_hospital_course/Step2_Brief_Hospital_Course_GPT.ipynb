{
 "cells": [
  {
   "cell_type": "code",
   "execution_count": 1,
   "id": "3faddad8-6798-41ab-b0b4-95b795bb591b",
   "metadata": {
    "editable": true,
    "slideshow": {
     "slide_type": ""
    },
    "tags": [
     "parameters"
    ]
   },
   "outputs": [],
   "source": [
    "soap_notes_fp = \"sample_output1.csv\"\n",
    "bhc_html_fp = \"eval.csv\"\n",
    "scores_fp = \"scores.csv\""
   ]
  },
  {
   "cell_type": "markdown",
   "id": "8201b927-ffb6-4ec5-9e7c-6ce39b89804f",
   "metadata": {
    "editable": true,
    "slideshow": {
     "slide_type": ""
    },
    "tags": []
   },
   "source": [
    "# Brief Hospital Course Generation\n",
    "\n",
    "This notebook performs step 2 of the Brief Hospital Course pipeline, in which we generate a brief hospital course from a set of service-level SOAP notes passed into a GPT-3.5 model. "
   ]
  },
  {
   "cell_type": "code",
   "execution_count": 2,
   "id": "f64518d3-b2e4-4fab-807d-fbd9dcfde6e6",
   "metadata": {
    "editable": true,
    "papermill": {
     "duration": 0.020065,
     "end_time": "2024-03-23T07:52:26.850517",
     "exception": false,
     "start_time": "2024-03-23T07:52:26.830452",
     "status": "completed"
    },
    "slideshow": {
     "slide_type": ""
    },
    "tags": []
   },
   "outputs": [],
   "source": [
    "%load_ext autoreload\n",
    "%autoreload 2"
   ]
  },
  {
   "cell_type": "code",
   "execution_count": 3,
   "id": "47f4516e-b3cb-4179-982e-f783e7cc1514",
   "metadata": {},
   "outputs": [],
   "source": [
    "import pandas as pd\n",
    "import ast\n",
    "import numpy as np\n",
    "\n",
    "from tqdm import tqdm\n",
    "# from tqdm.auto import tqdm  # for notebooks\n",
    "tqdm.pandas()\n",
    "\n",
    "import os\n",
    "import openai"
   ]
  },
  {
   "cell_type": "code",
   "execution_count": 4,
   "id": "a3beef81-0897-454d-ba25-bff5bb47fa3e",
   "metadata": {},
   "outputs": [
    {
     "data": {
      "text/plain": [
       "True"
      ]
     },
     "execution_count": 4,
     "metadata": {},
     "output_type": "execute_result"
    }
   ],
   "source": [
    "from dotenv import load_dotenv\n",
    "load_dotenv()  # take environment variables from .env."
   ]
  },
  {
   "cell_type": "code",
   "execution_count": 123,
   "id": "21007277-cbda-4d47-b785-da285c5bab09",
   "metadata": {},
   "outputs": [],
   "source": [
    "from prompt_functions import create_brief_hospital_course_prompts\n",
    "from openai_utils import num_tokens_from_string, completion_with_backoff"
   ]
  },
  {
   "cell_type": "code",
   "execution_count": 118,
   "id": "5e8841fe-f0a0-458d-884e-822f3894af22",
   "metadata": {},
   "outputs": [],
   "source": [
    "import openai\n",
    "openai.api_type = \"azure\"\n",
    "openai.api_base = os.getenv(\"OPENAI_API_BASE\")\n",
    "openai.api_version = \"2023-07-01-preview\"\n",
    "openai.api_key = os.getenv(\"OPENAI_API_KEY\")\n",
    "# engine = \"decile-gpt-35-turbo-16k\"\n",
    "engine = \"decile-gpt-4-128K\"\n"
   ]
  },
  {
   "cell_type": "markdown",
   "id": "b0c5da71-ea5e-499d-89ed-510541e2f6d8",
   "metadata": {},
   "source": [
    "## Read in GPT-Generated SOAP Notes"
   ]
  },
  {
   "cell_type": "code",
   "execution_count": 6,
   "id": "e2823bcb-3e33-4e9c-90e8-b2388b8c652c",
   "metadata": {},
   "outputs": [],
   "source": [
    "soap_notes = pd.read_csv(soap_notes_fp)"
   ]
  },
  {
   "cell_type": "markdown",
   "id": "06bac8b2-807f-4376-8ba3-e9910434666f",
   "metadata": {},
   "source": [
    "## Read in Prompts"
   ]
  },
  {
   "cell_type": "code",
   "execution_count": 63,
   "id": "a3cb6739-2144-4e3d-88a8-f5152d11bea2",
   "metadata": {},
   "outputs": [],
   "source": [
    "prompts = pd.read_csv(\"bhc_prompts.csv\")"
   ]
  },
  {
   "cell_type": "code",
   "execution_count": 8,
   "id": "0e8c3a9d-1b35-45a1-a1e5-8480e915c5a3",
   "metadata": {},
   "outputs": [
    {
     "data": {
      "text/html": [
       "<div>\n",
       "<style scoped>\n",
       "    .dataframe tbody tr th:only-of-type {\n",
       "        vertical-align: middle;\n",
       "    }\n",
       "\n",
       "    .dataframe tbody tr th {\n",
       "        vertical-align: top;\n",
       "    }\n",
       "\n",
       "    .dataframe thead th {\n",
       "        text-align: right;\n",
       "    }\n",
       "</style>\n",
       "<table border=\"1\" class=\"dataframe\">\n",
       "  <thead>\n",
       "    <tr style=\"text-align: right;\">\n",
       "      <th></th>\n",
       "      <th>prompt_name</th>\n",
       "      <th>prompt</th>\n",
       "    </tr>\n",
       "  </thead>\n",
       "  <tbody>\n",
       "    <tr>\n",
       "      <th>0</th>\n",
       "      <td>bhc_prompt_zero_shot</td>\n",
       "      <td>___ is a {age} year old {sex} presenting to th...</td>\n",
       "    </tr>\n",
       "    <tr>\n",
       "      <th>1</th>\n",
       "      <td>bhc_prompt_n_shot</td>\n",
       "      <td>___ is a {age} year old {sex} presenting to th...</td>\n",
       "    </tr>\n",
       "    <tr>\n",
       "      <th>2</th>\n",
       "      <td>bhc_system_message</td>\n",
       "      <td>You are the discharging physician that is revi...</td>\n",
       "    </tr>\n",
       "  </tbody>\n",
       "</table>\n",
       "</div>"
      ],
      "text/plain": [
       "            prompt_name                                             prompt\n",
       "0  bhc_prompt_zero_shot  ___ is a {age} year old {sex} presenting to th...\n",
       "1     bhc_prompt_n_shot  ___ is a {age} year old {sex} presenting to th...\n",
       "2    bhc_system_message  You are the discharging physician that is revi..."
      ]
     },
     "execution_count": 8,
     "metadata": {},
     "output_type": "execute_result"
    }
   ],
   "source": [
    "prompts"
   ]
  },
  {
   "cell_type": "markdown",
   "id": "3bed84bf-c057-48f3-82e9-aa4ca381ce39",
   "metadata": {},
   "source": [
    "## Read in Radiology Reports"
   ]
  },
  {
   "cell_type": "code",
   "execution_count": 9,
   "id": "e61e5e2e-abb1-4c55-8ad4-3a021195ac56",
   "metadata": {},
   "outputs": [],
   "source": [
    "radiology = pd.read_csv(\"/gpfs/milgram/project/rtaylor/shared/DischargeMe/public/train/radiology.csv.gz\")"
   ]
  },
  {
   "cell_type": "markdown",
   "id": "c2754157-fa3a-448b-9f8e-79b42c5b94dd",
   "metadata": {},
   "source": [
    "## Read in Encounter-Level Structured Data"
   ]
  },
  {
   "cell_type": "code",
   "execution_count": 10,
   "id": "f3d29f00-43fb-4b8a-bfac-dc45246dd6c3",
   "metadata": {},
   "outputs": [],
   "source": [
    "###### \n",
    "# Challenge Data\n",
    "\n",
    "# discharge summaries\n",
    "discharges = pd.read_csv(\"/gpfs/milgram/project/rtaylor/shared/DischargeMe/public/train/discharge.csv.gz\")\n",
    "\n",
    "# ed stays\n",
    "edstays = pd.read_csv('/gpfs/milgram/project/rtaylor/shared/DischargeMe/public/train/edstays.csv.gz')\n",
    "\n",
    "# triage\n",
    "triage = pd.read_csv('/gpfs/milgram/project/rtaylor/shared/DischargeMe/public/train/triage.csv.gz')\n",
    "\n",
    "###### \n",
    "# MIMIC-IV Data\n",
    "\n",
    "# ward transfers\n",
    "transfers = pd.read_pickle('/gpfs/milgram/project/rtaylor/shared/DischargeMe/mimiciv/hosp/cohort_transfers.pkl')\n",
    "\n",
    "# higher-level services (ICU, CARD, etc)\n",
    "services = pd.read_pickle('/gpfs/milgram/project/rtaylor/shared/DischargeMe/mimiciv/hosp/cohort_services.pkl')\n",
    "\n",
    "# get patient info\n",
    "pts = pd.read_pickle('/gpfs/milgram/project/rtaylor/shared/DischargeMe/mimiciv/hosp/cohort_patients.pkl')\n",
    "\n",
    "# admission demographics\n",
    "admissions = pd.read_pickle('/gpfs/milgram/project/rtaylor/shared/DischargeMe/mimiciv/hosp/cohort_admissions.pkl')"
   ]
  },
  {
   "cell_type": "code",
   "execution_count": 11,
   "id": "5c888685-988c-4897-b34f-6ef21d677dca",
   "metadata": {},
   "outputs": [],
   "source": [
    "# diagnoses\n",
    "diags = pd.read_pickle('/gpfs/milgram/project/rtaylor/shared/DischargeMe/mimiciv/hosp/cohort_diagnoses_icd.pkl')"
   ]
  },
  {
   "cell_type": "markdown",
   "id": "634a8b4d-3160-448b-b438-98dc96af4335",
   "metadata": {},
   "source": [
    "### Clean up/type cast data"
   ]
  },
  {
   "cell_type": "code",
   "execution_count": 12,
   "id": "f9f637d2-fb88-4f4e-91ec-5ce68edba838",
   "metadata": {},
   "outputs": [],
   "source": [
    "discharges = discharges.astype({\"charttime\":\"datetime64[ns]\",\n",
    "                               \"storetime\":\"datetime64[ns]\"})"
   ]
  },
  {
   "cell_type": "markdown",
   "id": "8f773b89-0263-416c-93a5-98c59087637b",
   "metadata": {},
   "source": [
    "## Generate SOAP Note List Prompt"
   ]
  },
  {
   "cell_type": "code",
   "execution_count": 13,
   "id": "907c48c1-0bc6-42ba-8cc7-3b85888f9278",
   "metadata": {},
   "outputs": [
    {
     "data": {
      "text/html": [
       "<div>\n",
       "<style scoped>\n",
       "    .dataframe tbody tr th:only-of-type {\n",
       "        vertical-align: middle;\n",
       "    }\n",
       "\n",
       "    .dataframe tbody tr th {\n",
       "        vertical-align: top;\n",
       "    }\n",
       "\n",
       "    .dataframe thead th {\n",
       "        text-align: right;\n",
       "    }\n",
       "</style>\n",
       "<table border=\"1\" class=\"dataframe\">\n",
       "  <thead>\n",
       "    <tr style=\"text-align: right;\">\n",
       "      <th></th>\n",
       "      <th>Unnamed: 0</th>\n",
       "      <th>subject_id</th>\n",
       "      <th>hadm_id</th>\n",
       "      <th>transfer_id</th>\n",
       "      <th>eventtype</th>\n",
       "      <th>careunit</th>\n",
       "      <th>intime</th>\n",
       "      <th>outtime</th>\n",
       "      <th>service_prompts</th>\n",
       "      <th>gpt_SOAP_note</th>\n",
       "    </tr>\n",
       "  </thead>\n",
       "  <tbody>\n",
       "    <tr>\n",
       "      <th>0</th>\n",
       "      <td>1864269</td>\n",
       "      <td>19860951</td>\n",
       "      <td>25275183.0</td>\n",
       "      <td>31332268</td>\n",
       "      <td>ED</td>\n",
       "      <td>Emergency Department</td>\n",
       "      <td>2140-12-29 14:28:00</td>\n",
       "      <td>2140-12-29 15:47:23</td>\n",
       "      <td>___ is a 40 year old M that initially presente...</td>\n",
       "      <td>Subjective:\\nThe patient, a 40-year-old male, ...</td>\n",
       "    </tr>\n",
       "    <tr>\n",
       "      <th>1</th>\n",
       "      <td>1864271</td>\n",
       "      <td>19860951</td>\n",
       "      <td>25275183.0</td>\n",
       "      <td>31753599</td>\n",
       "      <td>admit</td>\n",
       "      <td>Emergency Department Observation</td>\n",
       "      <td>2140-12-29 15:47:23</td>\n",
       "      <td>2140-12-29 19:25:01</td>\n",
       "      <td>___ is a 40 year old M that initially presente...</td>\n",
       "      <td>Subjective:\\n___ is a 40-year-old male who was...</td>\n",
       "    </tr>\n",
       "    <tr>\n",
       "      <th>2</th>\n",
       "      <td>1864270</td>\n",
       "      <td>19860951</td>\n",
       "      <td>25275183.0</td>\n",
       "      <td>31727926</td>\n",
       "      <td>transfer</td>\n",
       "      <td>Medicine</td>\n",
       "      <td>2140-12-29 19:25:01</td>\n",
       "      <td>2140-12-29 20:21:48</td>\n",
       "      <td>___ is a 40 year old M that initially presente...</td>\n",
       "      <td>Subjective:\\nThe patient, ___, is a 40-year-ol...</td>\n",
       "    </tr>\n",
       "    <tr>\n",
       "      <th>3</th>\n",
       "      <td>1864274</td>\n",
       "      <td>19860951</td>\n",
       "      <td>25275183.0</td>\n",
       "      <td>39254309</td>\n",
       "      <td>transfer</td>\n",
       "      <td>Discharge Lounge</td>\n",
       "      <td>2140-12-29 20:21:48</td>\n",
       "      <td>2140-12-29 20:24:37</td>\n",
       "      <td>___ is a 40 year old M that initially presente...</td>\n",
       "      <td>Patient Name: [Patient Name]\\nAge: 40 years\\nS...</td>\n",
       "    </tr>\n",
       "    <tr>\n",
       "      <th>4</th>\n",
       "      <td>1864275</td>\n",
       "      <td>19860951</td>\n",
       "      <td>25275183.0</td>\n",
       "      <td>39666777</td>\n",
       "      <td>transfer</td>\n",
       "      <td>Medicine</td>\n",
       "      <td>2140-12-29 20:24:37</td>\n",
       "      <td>2140-12-29 20:25:41</td>\n",
       "      <td>___ is a 40 year old M that initially presente...</td>\n",
       "      <td>Subjective:\\nThe patient, a 40-year-old male, ...</td>\n",
       "    </tr>\n",
       "    <tr>\n",
       "      <th>5</th>\n",
       "      <td>1864268</td>\n",
       "      <td>19860951</td>\n",
       "      <td>25275183.0</td>\n",
       "      <td>30264230</td>\n",
       "      <td>transfer</td>\n",
       "      <td>Emergency Department Observation</td>\n",
       "      <td>2140-12-29 20:25:41</td>\n",
       "      <td>2140-12-30 11:09:15</td>\n",
       "      <td>___ is a 40 year old M that initially presente...</td>\n",
       "      <td>S: The patient is a 40-year-old male who prese...</td>\n",
       "    </tr>\n",
       "    <tr>\n",
       "      <th>6</th>\n",
       "      <td>1864272</td>\n",
       "      <td>19860951</td>\n",
       "      <td>25275183.0</td>\n",
       "      <td>36104314</td>\n",
       "      <td>transfer</td>\n",
       "      <td>Medicine</td>\n",
       "      <td>2140-12-30 11:09:15</td>\n",
       "      <td>2141-01-01 18:30:04</td>\n",
       "      <td>___ is a 40 year old M that initially presente...</td>\n",
       "      <td>Subjective:\\nThe patient, a 40-year-old male, ...</td>\n",
       "    </tr>\n",
       "  </tbody>\n",
       "</table>\n",
       "</div>"
      ],
      "text/plain": [
       "   Unnamed: 0  subject_id     hadm_id  transfer_id eventtype  \\\n",
       "0     1864269    19860951  25275183.0     31332268        ED   \n",
       "1     1864271    19860951  25275183.0     31753599     admit   \n",
       "2     1864270    19860951  25275183.0     31727926  transfer   \n",
       "3     1864274    19860951  25275183.0     39254309  transfer   \n",
       "4     1864275    19860951  25275183.0     39666777  transfer   \n",
       "5     1864268    19860951  25275183.0     30264230  transfer   \n",
       "6     1864272    19860951  25275183.0     36104314  transfer   \n",
       "\n",
       "                           careunit               intime              outtime  \\\n",
       "0              Emergency Department  2140-12-29 14:28:00  2140-12-29 15:47:23   \n",
       "1  Emergency Department Observation  2140-12-29 15:47:23  2140-12-29 19:25:01   \n",
       "2                          Medicine  2140-12-29 19:25:01  2140-12-29 20:21:48   \n",
       "3                  Discharge Lounge  2140-12-29 20:21:48  2140-12-29 20:24:37   \n",
       "4                          Medicine  2140-12-29 20:24:37  2140-12-29 20:25:41   \n",
       "5  Emergency Department Observation  2140-12-29 20:25:41  2140-12-30 11:09:15   \n",
       "6                          Medicine  2140-12-30 11:09:15  2141-01-01 18:30:04   \n",
       "\n",
       "                                     service_prompts  \\\n",
       "0  ___ is a 40 year old M that initially presente...   \n",
       "1  ___ is a 40 year old M that initially presente...   \n",
       "2  ___ is a 40 year old M that initially presente...   \n",
       "3  ___ is a 40 year old M that initially presente...   \n",
       "4  ___ is a 40 year old M that initially presente...   \n",
       "5  ___ is a 40 year old M that initially presente...   \n",
       "6  ___ is a 40 year old M that initially presente...   \n",
       "\n",
       "                                       gpt_SOAP_note  \n",
       "0  Subjective:\\nThe patient, a 40-year-old male, ...  \n",
       "1  Subjective:\\n___ is a 40-year-old male who was...  \n",
       "2  Subjective:\\nThe patient, ___, is a 40-year-ol...  \n",
       "3  Patient Name: [Patient Name]\\nAge: 40 years\\nS...  \n",
       "4  Subjective:\\nThe patient, a 40-year-old male, ...  \n",
       "5  S: The patient is a 40-year-old male who prese...  \n",
       "6  Subjective:\\nThe patient, a 40-year-old male, ...  "
      ]
     },
     "execution_count": 13,
     "metadata": {},
     "output_type": "execute_result"
    }
   ],
   "source": [
    "soap_notes"
   ]
  },
  {
   "cell_type": "code",
   "execution_count": 14,
   "id": "a7c63942-3741-43db-ab8e-51e5b93250ec",
   "metadata": {},
   "outputs": [
    {
     "data": {
      "text/plain": [
       "note_id                                          19860951-DS-14\n",
       "subject_id                                             19860951\n",
       "hadm_id                                                25275183\n",
       "note_type                                                    DS\n",
       "note_seq                                                     14\n",
       "charttime                                   2141-01-01 00:00:00\n",
       "storetime                                   2141-01-01 20:55:00\n",
       "text           \\nName:  ___            Unit No:   ___\\n \\nAd...\n",
       "Name: 67858, dtype: object"
      ]
     },
     "execution_count": 14,
     "metadata": {},
     "output_type": "execute_result"
    }
   ],
   "source": [
    "discharges[discharges['hadm_id'] == soap_notes.iloc[0]['hadm_id']].squeeze()"
   ]
  },
  {
   "cell_type": "markdown",
   "id": "75bc770f-6381-460c-ac06-d72074822ce8",
   "metadata": {},
   "source": [
    "## Create SOAP notes from GPT API (0-shot)"
   ]
  },
  {
   "cell_type": "code",
   "execution_count": 129,
   "id": "905736ec-2cb7-4d8d-b2da-291ddeedf7f2",
   "metadata": {},
   "outputs": [],
   "source": [
    "bhc_prompt_zeroshot = create_brief_hospital_course_prompts(discharges[discharges['hadm_id'] == soap_notes.iloc[0]['hadm_id']].squeeze(),\n",
    "                                                  soap_notes, prompts, \n",
    "                                                  edstays, radiology, \n",
    "                                                  pts, triage, transfers, diags,\n",
    "                                                  shots=None\n",
    "                                                 )"
   ]
  },
  {
   "cell_type": "code",
   "execution_count": 130,
   "id": "c1eeba43-763b-4cef-b335-1d1d963cfe53",
   "metadata": {},
   "outputs": [
    {
     "data": {
      "text/plain": [
       "7068"
      ]
     },
     "execution_count": 130,
     "metadata": {},
     "output_type": "execute_result"
    }
   ],
   "source": [
    "num_tokens_from_string(bhc_prompt_zeroshot, \"cl100k_base\")"
   ]
  },
  {
   "cell_type": "code",
   "execution_count": 131,
   "id": "ccda464c-45c5-486c-812c-5c1e54b35de0",
   "metadata": {
    "scrolled": true
   },
   "outputs": [
    {
     "name": "stdout",
     "output_type": "stream",
     "text": [
      "Brief Hospital Course 1-shot Prompt: [{'role': 'system', 'content': \"You are the discharging physician that is reviewing a patient's SOAP notes over their hospital course, starting in the ED and being discharged from your unit and writing a brief hospital course summary based on this information.\"}, {'role': 'user', 'content': '___ is a {age} year old {sex} presenting to the ED with Hyperkalemia. The patient visited the following wards in order: Emergency Department, Emergency Department Observation, Medicine, Discharge Lounge, Medicine, Emergency Department Observation, Medicine. Over the course of their hospital stay, ___ was given a set of diagnoses, radiology reports from consulting physicians, and a set of daily SOAP notes. Please use these SOAP notes to create a brief hospital course summary. Refer to the patient by three underscores (___). The structure of the brief hospital course summary should be:\\r\\n\\r\\n\"\"\"\\r\\n[patient introduction including age, sex, chief complaints, and relevant past medical history]\\r\\n\\r\\n# Condition 1: medications, vitals, abnormal labs and cultures, and procedures pertinent to Condition 1\\r\\n# Condition 2: medications, vitals, abnormal labs and cultures, and procedures pertinent to Condition 2\\r\\n\\r\\nConclusion\\r\\n\"\"\"\\r\\n----------------------------------------------------------------\\r\\n\\r\\n\\n\\nDiagnoses (ordered by priority):\\n----------------------------\\nHyperkalemia, End stage renal disease, Hypertensive chronic kidney disease with stage 5 chronic kidney disease or end stage renal disease, Thrombosis due to vascular prosthetic devices, implants and grafts, initial encounter, Type 1 diabetes mellitus with diabetic nephropathy, Long term (current) use of insulin, Dependence on renal dialysis, Type 1 diabetes mellitus with diabetic neuropathy, unspecified, Type 1 diabetes mellitus with unspecified diabetic retinopathy without macular edema, Bipolar disorder, unspecified, Chronic obstructive pulmonary disease, unspecified, Hyperparathyroidism, unspecified, Type 1 diabetes mellitus with hyperglycemia, Other medical procedures as the cause of abnormal reaction of the patient, or of later complication, without mention of misadventure at the time of the procedure, Unspecified place or not applicable\\n\\nRadiology Reports:\\n----------------------------\\nRadiology Report #1: INDICATION:  ___ year old man with clotted fistula.Not seen previously at\\n___, no information regarding access history. // Thrombectomy.Catheter\\nplacement if unsuccessful.\\n\\nCOMPARISON:  None.\\n\\nTECHNIQUE:  OPERATORS: Dr. ___, Interventional Radiology Fellow and Dr.\\n___, attending radiologist performed the procedure. Dr. ___\\n___ personally supervised the trainee during the key components of the\\nprocedure and has reviewed and agrees with the trainee\\'s findings.\\nANESTHESIA: Moderate sedation was provided by administrating divided doses of\\n200mcg of fentanyl and 3.5 mg of midazolam throughout the total intra-service\\ntime of 1 hr 35 min during which the patient\\'s hemodynamic parameters were\\ncontinuously monitored by an independent trained radiology nurse. 1% lidocaine\\nwas injected in the skin and subcutaneous tissues overlying the access site.\\nMEDICATIONS: 4000 units heparin\\nCONTRAST: 75 ml of Optiray contrast.\\nFLUOROSCOPY TIME AND DOSE: 21.6 min, 19 mGy\\n\\nPROCEDURE:\\n1. Left upper extremity AV fistula fistulogram.\\n2. Axillary, subclavian and super vena cava venography.\\n3. Balloon angioplasty of outflow vein and juxta-anastomotic stenoses.\\n4. ___ balloon pull through of the arterial inflow.\\n5. Mechanical thrombolysis of the outflow vein using the Cleaner device.\\n6. Completion left upper extremity AV fistulogram.\\n\\nPROCEDURE DETAILS:\\nWritten informed consent was obtained from the patient outlining the risks,\\nbenefits and alternatives to the procedure. The patient was then brought to\\nthe angiography suite and placed supine on the image table with the left upper\\nextremity abducted and stabilized.\\n\\nClinical examination demonstrated a palpable, but completely thrombosed\\nfistula in the left upper extremity. Further evaluation by targeted ultrasound\\ndemonstrated a completely thrombosed fistula. The left upper extremity was\\nprepped and draped in the usual sterile fashion. A preprocedure timeout and\\nhuddle was performed as per ___ protocol.\\nUsing ultrasound and fluoroscopy, the arterial inflow and outflow vein levels\\nwere identified and the skin was marked with a skin marker. Antegrade\\n(directed towards the venous outflow) access into the thrombosed fistula was\\nobtained under continuous ultrasound guidance using a 21G micropuncture\\nneedle. Permanent ultrasound images were saved. An 0.018 wire was then\\nadvanced easily into the outflow vein under fluoroscopic guidance. A 4.5F\\nmicropuncture sheath was advanced and used to exchange for ___ wire.  The\\nmicropuncture sheath was exchanged for a short 6 ___ sheath.  A Kumpe\\ncatheter was advanced over the wire and slowly withdrawn while injecting\\ndilute contrast to establish the distal extent of thrombus into the outflow\\nvein. Following this, the Kumpe catheter was advanced centrally, and axillary,\\nsubclavian, and SVC venography was performed. A 150cm ___ wire was then\\nadvanced via the Kumpe into the SVC for stability. Retrograde access directed\\ntowards the arterial inflow was then obtained in a similar fashion using\\ncontinuous ultrasound and intermittent fluoroscopic guidance. Permanent\\nultrasound images were saved.\\nAt this point 4000 U heparin was administered systemically.  An 8 mm balloon\\nwas advanced over the wire and balloon angioplasty was performed along the\\nlength of the outflow vein.  A significant waist was seen along the distal\\noutflow vein, which did not reduce using a Mustang balloon, but did fully\\nefface using an 8 mm Conquest balloon at 24 mmHg.\\nA Glidewire was advanced into the inflow artery from the retrograde sheath. A\\n5.5 ___ ___ balloon was advanced beyond the arterial anastomosis,\\npartially inflated and pullback was performed through the arterial anastomosis\\ninto the graft. A partially inflated 8mm balloon was then advanced forward\\nfrom the antegrade sheath to push the arterial plug through the fistula. This\\nresulted in restoration of flow and a faint thrill in the graft. A fistulogram\\nperformed from the proximal brachial artery at this point demonstrated brisk\\nflow through the fistula but segments of narrowing and irregular filling\\ndefects at the arterial inflow and along the outflow vein. Subsequently,\\nrepeat angioplasty was performed along the length of the outflow vein using a\\n8 mm balloon.\\n8 mm balloon angioplasty was again performed along the length of the outflow\\nvein.  A second area of severe stenosis was demonstrated in the fistula inflow\\n(accessed via the retrograde sheath), which was effaced using a Mustang\\nballoon at 20 mmHg.  Additionally, a cleaner device was passed along the\\nlength of the outflow vein. After additional diagnostic venography, 6 mm\\nballoon angioplasty was performed in the juxta anastomotic segment.\\nCompletion fistulogram was performed from the proximal brachial artery,\\ndemonstrating brisk flow  throughout the entire fistula  with minimal \\nresidual thrombus  but no segments of stenosis.\\nClinical exam revealed a satisfactory thrill along the length of the fistula.\\nThe sheaths were removed and hemostasis was achieved with two ___ nylon\\npursestring sutures. There were no immediate complications.\\nA postprocedure ultrasound of the graft demonstrated patent fistula with flow\\nvolumes measuring 880 cc/min.\\n\\nFINDINGS:\\n\\n\\n1. Complete thrombosis of the left upper extremity AV fistula.\\n2.  Severe (>90%) stenosis of outflow vein with improvement following\\nangioplasty to 8 mm.\\n3. Mild stenosis of the juxta-anastamotic segment (~50%), with improvement\\nfollowing angioplasty to 6 mm.\\n4. No central venous stenosis.\\n5. Postprocedure ultrasound of the graft shows a patent fistula with v olume\\nflow of 880 cc/min.\\n\\nIMPRESSION: \\n\\nSatisfactory restoration of flow following mechanical thrombolysis with a good\\nangiographic and clinical result.\\n\\n-------------\\n\\n\\nDaily SOAP Notes:\\n----------------------------\\nSOAP NOTE #1: Subjective:\\nThe patient, a 40-year-old male, presented to the Emergency Department with hyperkalemia. He reports feeling generally unwell and fatigued. He denies any specific complaints at this time. Patient states compliance with his medications and renal dialysis.\\n\\nObjective:\\n- Vital signs: Stable with blood pressure of 130/80 mmHg and heart rate of 80 beats per minute.\\n- Physical examination: Unremarkable, no acute distress noted.\\n\\nAssessment:\\n- Hyperkalemia\\n- End stage renal disease\\n- Hypertensive chronic kidney disease with stage 5 chronic kidney disease or end stage renal disease\\n- Thrombosis due to vascular prosthetic devices, implants, and grafts\\n- Type 1 diabetes mellitus with diabetic nephropathy\\n- Long term (current) use of insulin\\n- Dependence on renal dialysis\\n- Type 1 diabetes mellitus with diabetic neuropathy, unspecified\\n- Type 1 diabetes mellitus with unspecified diabetic retinopathy without macular edema\\n- Bipolar disorder, unspecified\\n- Chronic obstructive pulmonary disease, unspecified\\n- Hyperparathyroidism, unspecified\\n- Type 1 diabetes mellitus with hyperglycemia\\n- Other medical procedures as the cause of abnormal reaction of the patient, or of later complication, without mention of misadventure at the time of the procedure\\n- Unspecified place or not applicable in order of importance to this admission\\n\\nPlan:\\n- Continue to monitor the patient\\'s vital signs and electrolyte levels closely.\\n- Consult with nephrology team for further management of hyperkalemia and end stage renal disease.\\n- Maintain patient on insulin therapy and renal dialysis as necessary.\\n- Encourage patient compliance with medications and renal dialysis appointments.\\n- Provide patient education regarding proper management of diabetes and kidney disease.\\n- Consult with other specialists as needed based on the patient\\'s comorbidities.\\n- Transfer the patient to the appropriate unit for further medical management.\\n\\nNote: As the patient had a brief stay in the Emergency Department ward, specific procedures, medications, labs, and microbiology cultures are not provided in the record.\\n-------------\\nSOAP NOTE #2: Subjective:\\n___ is a 40-year-old male who was admitted to the Emergency Department Observation ward with a primary complaint of hyperkalemia. According to the medical records, the patient has a significant medical history including end stage renal disease, hypertensive chronic kidney disease with stage 5 chronic kidney disease or end stage renal disease, thrombosis due to vascular prosthetic devices, implants and grafts, type 1 diabetes mellitus with diabetic nephropathy, long-term use of insulin, dependence on renal dialysis, type 1 diabetes mellitus with diabetic neuropathy, type 1 diabetes mellitus with unspecified diabetic retinopathy without macular edema, bipolar disorder, chronic obstructive pulmonary disease, hyperparathyroidism, and type 1 diabetes mellitus with hyperglycemia. He was also noted to have a history of other medical procedures which may have caused abnormal patient reactions or complications.\\n\\nObjective:\\nDuring his stay in the Emergency Department Observation ward from 2140-12-29 15:47:23 to 2140-12-29 19:25:01, ___ underwent various medical procedures. However, the details of these procedures were not provided in the medical records.\\n\\nAssessment:\\n1. Hyperkalemia: The patient presented with hyperkalemia as the primary complaint.\\n2. End stage renal disease: ___ has a history of end stage renal disease, requiring renal dialysis.\\n3. Hypertensive chronic kidney disease with stage 5 chronic kidney disease or end stage renal disease: ___\\'s underlying renal disease is secondary to hypertensive chronic kidney disease.\\n4. Thrombosis due to vascular prosthetic devices, implants, and grafts: The patient has a history of thrombosis related to vascular prosthetic devices, implants, and grafts.\\n5. Type 1 diabetes mellitus with diabetic nephropathy: ___ has a history of type 1 diabetes mellitus with associated diabetic nephropathy.\\n6. Long-term use of insulin: The patient currently relies on long-term insulin therapy for diabetes management.\\n7. Dependence on renal dialysis: ___ is dependent on renal dialysis for the management of end stage renal disease.\\n8. Type 1 diabetes mellitus with diabetic neuropathy, unspecified: Neuropathy associated with type 1 diabetes mellitus is also noted in the medical history.\\n9. Type 1 diabetes mellitus with unspecified diabetic retinopathy without macular edema: ___ has been diagnosed with unspecified diabetic retinopathy without macular edema.\\n10. Bipolar disorder, unspecified: The patient has a diagnosis of unspecified bipolar disorder.\\n11. Chronic obstructive pulmonary disease, unspecified: ___ has an unspecified diagnosis of chronic obstructive pulmonary disease.\\n12. Hyperparathyroidism, unspecified: ___ has been diagnosed with unspecified hyperparathyroidism.\\n13. Type 1 diabetes mellitus with hyperglycemia: ___ has a diagnosis of type 1 diabetes mellitus with documented hyperglycemia.\\n14. Other medical procedures as the cause of an abnormal reaction of the patient or later complication, without mention of misadventure at the time of the procedure: The patient has a history of experiencing abnormal reactions or complications related to previous medical procedures.\\n15. Unspecified place or not applicable in order of importance to this admission: Not enough information was provided to determine the importance or relevance of this diagnosis to the current admission.\\n\\nPlan:\\nDuring the patient\\'s stay in the Emergency Department Observation ward, there is no information available regarding the specific procedures, medications administered, laboratory results, or microbiology cultures ordered. Additional documentation is required to determine the appropriate course of action for ongoing management and treatment. Further evaluation and consultation with relevant specialists may be necessary to address the patient\\'s complex medical history and acute concerns.\\n-------------\\nSOAP NOTE #3: Subjective:\\nThe patient, ___, is a 40-year-old male who initially presented to the Emergency Department with hyperkalemia. He has a complex medical history consisting of end-stage renal disease, hypertensive chronic kidney disease, thrombosis due to vascular prosthetic devices, implants and grafts, type 1 diabetes mellitus with diabetic nephropathy, dependence on renal dialysis, diabetic neuropathy, diabetic retinopathy, bipolar disorder, chronic obstructive pulmonary disease, hyperparathyroidism, hyperglycemia, and a history of abnormal reactions related to other medical procedures. \\n\\nDuring his stay in the Medicine ward, the patient was transferred and admitted between 2140-12-29 19:25:01 and 2140-12-29 20:21:48. He reported being fatigued and experiencing occasional shortness of breath. The patient appeared anxious and concerned about his medical conditions.\\n\\nObjective:\\nUpon examination, the patient\\'s vital signs were stable with a blood pressure of 130/80 mmHg, heart rate of 82 bpm, respiratory rate of 16 bpm, and oxygen saturation of 98% on room air. He appeared well-nourished and in no acute distress. Physical examination revealed no significant abnormalities except for pallor and dry skin. The patient\\'s extremities were cold to touch, with no edema or signs of infection.\\n\\nAssessment:\\n1. Hyperkalemia: The patient initially presented to the ED with hyperkalemia, most likely due to his end-stage renal disease.\\n2. End-stage renal disease: The patient has a documented history of end-stage renal disease, requiring dependence on renal dialysis.\\n3. Thrombosis due to vascular prosthetic devices, implants, and grafts: The patient has a history of thrombosis related to prior surgical interventions.\\n4. Type 1 diabetes mellitus with diabetic nephropathy: The patient has type 1 diabetes mellitus complicated by diabetic nephropathy.\\n5. Bipolar disorder, unspecified: The patient has a history of bipolar disorder.\\n6. Chronic obstructive pulmonary disease, unspecified: The patient has a diagnosis of chronic obstructive pulmonary disease, which may explain the occasional shortness of breath.\\n7. Hyperparathyroidism, unspecified: The patient has hyperparathyroidism, which may contribute to his electrolyte imbalance.\\n8. Other medical procedures as the cause of abnormal reaction of the patient, or of later complication, without mention of misadventure at the time of the procedure: The patient has a history of abnormal reactions related to medical procedures, but the details are not specified in the medical record.\\n\\nPlan:\\n1. Hyperkalemia management: Continue current treatment plan, including close monitoring of serum potassium levels and adjustment of medications as needed.\\n2. End-stage renal disease: Maintain renal dialysis as per the patient\\'s routine schedule.\\n3. Thrombosis management: Monitor for signs of recurrent thrombosis and consider anticoagulation therapy if necessary.\\n4. Diabetes management: Ensure appropriate insulin therapy and glycemic control. Consider referral to a nephrologist for further management of diabetic nephropathy.\\n5. Bipolar disorder management: Continue current psychiatric treatment plan and consider consultation with the psychiatry team if necessary.\\n6. Chronic obstructive pulmonary disease management: Optimize bronchodilator therapy and provide education on inhaler technique and smoking cessation.\\n7. Hyperparathyroidism management: Consult an endocrinologist for further evaluation and management.\\n8. Monitor for adverse reactions during other medical procedures and provide supportive care as needed.\\n9. Evaluate and address the patient\\'s occasional shortness of breath, considering possible causes such as pulmonary hypertension or exacerbation of chronic obstructive pulmonary disease.\\n\\nAdditional assessments and investigations:\\n1. Perform laboratory tests including complete blood count, electrolytes, renal function panel, glycated hemoglobin (HbA1c) level, liver function tests, lipid profile, and thyroid function tests.\\n2. Obtain a chest X-ray to assess pulmonary function and evaluate for any underlying pathology.\\n3. Consider a transesophageal echocardiogram to screen for potential thromboembolic sources in the context of the patient\\'s thrombosis history.\\n4. Order a 24-hour urine collection for protein quantification to assess the extent of proteinuria.\\n\\nGiven the complexity of the patient\\'s medical conditions, it is crucial to involve an interdisciplinary approach involving nephrology, endocrinology, psychiatry, and respiratory medicine to ensure comprehensive care for ___ during his hospital stay. A detailed medication list, procedural information, and pertinent lab results are required to finalize the treatment plan and optimize the patient\\'s management. Close monitoring and follow-up are recommended to address any ongoing concerns and prevent potential complications.\\n-------------\\nSOAP NOTE #4: Patient Name: [Patient Name]\\nAge: 40 years\\nSex: Male\\nAdmission Date: 2140-12-29 20:21:48\\nDischarge Date: 2140-12-29 20:24:37\\nService: Discharge Lounge\\n\\nSubjective:\\nThe patient, ___ presented to the emergency department with hyperkalemia and was subsequently admitted to our hospital. He has a significant medical history including end-stage renal disease, hypertensive chronic kidney disease, thrombosis due to vascular prosthetic devices, implants, and grafts, type 1 diabetes mellitus with diabetic nephropathy, long-term use of insulin, dependence on renal dialysis, type 1 diabetes mellitus with diabetic neuropathy, unspecified, type 1 diabetes mellitus with unspecified diabetic retinopathy without macular edema, bipolar disorder, unspecified, chronic obstructive pulmonary disease, unspecified, hyperparathyroidism, unspecified, type 1 diabetes mellitus with hyperglycemia, and other medical procedures as the cause of abnormal reaction of the patient or of later complication without mention of misadventure at the time of the procedure.\\n\\nObjective:\\n- Patient transferred and stayed in the Discharge Lounge ward.\\n- Procedures received: [List procedures]\\n- Medications administered: [List medications]\\n- Labs drawn: [List lab results]\\n- Microbiology cultures ordered: [List ordered microbiology cultures]\\n\\nAssessment:\\n1. Hyperkalemia\\n2. End-stage renal disease\\n3. Hypertensive chronic kidney disease with stage 5 chronic kidney disease or end-stage renal disease\\n4. Thrombosis due to vascular prosthetic devices, implants, and grafts, initial encounter\\n5. Type 1 diabetes mellitus with diabetic nephropathy\\n6. Long-term (current) use of insulin\\n7. Dependence on renal dialysis\\n8. Type 1 diabetes mellitus with diabetic neuropathy, unspecified\\n9. Type 1 diabetes mellitus with unspecified diabetic retinopathy without macular edema\\n10. Bipolar disorder, unspecified\\n11. Chronic obstructive pulmonary disease, unspecified\\n12. Hyperparathyroidism, unspecified\\n13. Type 1 diabetes mellitus with hyperglycemia\\n14. Other medical procedures as the cause of abnormal reaction of the patient or of later complication without mention of misadventure at the time of the procedure\\n15. Unspecified place or not applicable in order of importance to this admission.\\n\\nPlan:\\nThe patient\\'s stay in the Discharge Lounge ward has provided an opportunity to closely monitor his medical condition and stabilize him before proceeding to the next phase of his care. During his stay, the patient received the necessary procedures, including [List procedures]. Medications were administered as per the physician\\'s orders, including [List medications]. Laboratory tests were conducted to assess the patient\\'s condition, and their results are within the expected range, as evidenced by [List lab results].\\n\\nThe patient\\'s complex medical history requires a multidisciplinary approach, and we will collaborate with the necessary specialists to ensure optimal management of his various conditions. The patient will be closely monitored for any changes and complications. We aim to stabilize his hyperkalemia, manage his end-stage renal disease, and facilitate the continuation of renal dialysis as part of his long-term treatment plan. \\n\\nWe will also address his other medical comorbidities, including type 1 diabetes mellitus, diabetic neuropathy, diabetic retinopathy, bipolar disorder, chronic obstructive pulmonary disease, and hyperparathyroidism. Appropriate consultations and interventions will be initiated to provide comprehensive care.\\n\\nThe patient\\'s family and caregivers will be educated about his conditions and involved in the treatment plan to ensure a smooth transition upon discharge. Discharge planning will include coordination with the patient\\'s primary care physician and appropriate specialists to ensure seamless continuity of care.\\n\\nThe patient will remain under close observation during his hospital course, and future progress notes will be generated with updates on his condition and treatment progress.\\n\\nSignature: [Physician Name]\\nDate: [Current Date]\\n-------------\\nSOAP NOTE #5: Subjective:\\nThe patient, a 40-year-old male, was admitted to the Medicine ward for further management of his multiple comorbidities. He presented initially to the Emergency Department with hyperkalemia. His chief complaints include generalized weakness, shortness of breath, and intermittent episodes of chest pain. The patient reports a long-standing history of end-stage renal disease and has been undergoing renal dialysis. He also acknowledges the presence of diabetic nephropathy, neuropathy, and retinopathy due to his Type 1 diabetes mellitus. The patient reports using insulin long term. Additionally, he has a diagnosis of bipolar disorder and chronic obstructive pulmonary disease. He mentions hyperparathyroidism as well. Upon further history taking, the patient reveals he underwent vascular prosthetic devices, implants, and grafts placement, which he speculates may have led to the subsequent thrombosis. The patient reports experiencing hyperglycemia and states undergoing other unspecified medical procedures that may have caused an abnormal reaction.\\n\\nObjective:\\nDuring the patient\\'s stay in the Medicine ward, the following diagnoses were confirmed: hyperkalemia, end-stage renal disease, hypertensive chronic kidney disease with stage 5 chronic kidney disease or end-stage renal disease, thrombosis due to vascular prosthetic devices, implants, and grafts (initial encounter), Type 1 diabetes mellitus with diabetic nephropathy, dependence on renal dialysis, Type 1 diabetes mellitus with diabetic neuropathy (unspecified), Type 1 diabetes mellitus with unspecified diabetic retinopathy without macular edema, bipolar disorder (unspecified), chronic obstructive pulmonary disease (unspecified), hyperparathyroidism (unspecified), Type 1 diabetes mellitus with hyperglycemia, and complications related to other medical procedures. The patient was transferred and stayed in the Medicine ward briefly.\\n\\nAssessment:\\n1. Hyperkalemia\\n2. End-stage renal disease\\n3. Hypertensive chronic kidney disease with stage 5 chronic kidney disease or end-stage renal disease\\n4. Thrombosis due to vascular prosthetic devices, implants, and grafts (initial encounter)\\n5. Type 1 diabetes mellitus with diabetic nephropathy\\n6. Long-term (current) use of insulin\\n7. Dependence on renal dialysis\\n8. Type 1 diabetes mellitus with diabetic neuropathy (unspecified)\\n9. Type 1 diabetes mellitus with unspecified diabetic retinopathy without macular edema\\n10. Bipolar disorder (unspecified)\\n11. Chronic obstructive pulmonary disease (unspecified)\\n12. Hyperparathyroidism (unspecified)\\n13. Type 1 diabetes mellitus with hyperglycemia\\n14. Complications related to other medical procedures\\n\\nPlan:\\n1. Continuation of renal dialysis to maintain electrolyte balance and manage end-stage renal disease.\\n2. Implementation of a diuretic regimen to address hyperkalemia.\\n3. Initiation of anticoagulation therapy in consideration of the thrombosis.\\n4. Glycemic control with insulin therapy to manage Type 1 diabetes mellitus.\\n5. Consultation with ophthalmology for evaluation and management of diabetic retinopathy.\\n6. Collaboration with nephrology to optimize renal function and prevent further complications.\\n7. Consultation with endocrinology for comprehensive management of hyperparathyroidism.\\n8. Continuation of bipolar disorder treatment with the involvement of psychiatry.\\n9. Optimization of respiratory status through inhalers and bronchodilators for COPD.\\n10. Regular monitoring of electrolytes, renal function, and glucose levels to ensure stability.\\n11. Coordination with other specialists to address complications related to previous medical procedures.\\n\\nFollow-up: The patient will continue to be monitored closely in the Medicine ward while receiving multidisciplinary care. Further investigations and treatment adjustments will be made as necessary.\\n-------------\\nSOAP NOTE #6: S: The patient is a 40-year-old male who presented to the Emergency Department with hyperkalemia. His medical history includes end-stage renal disease, hypertensive chronic kidney disease, thrombosis due to vascular prosthetic devices, type 1 diabetes mellitus with diabetic nephropathy, long-term use of insulin, dependence on renal dialysis, type 1 diabetes mellitus with diabetic neuropathy, type 1 diabetes mellitus with unspecified diabetic retinopathy, bipolar disorder, chronic obstructive pulmonary disease, hyperparathyroidism, and a history of abnormal reactions to medical procedures. The patient was admitted to the Emergency Department Observation ward and stayed from 2140-12-29 20:25:41 to 2140-12-30 11:09:15. He underwent extirpation of matter from the upper vein and dilation of the upper vein during his stay. The patient\\'s medications included insulin, provided in 10 mL vials.\\n\\nO: The patient\\'s laboratory results during this period revealed the following values: Chemistry blood anion gap of 25 mEq/L, blood bicarbonate level of 23 mEq/L, total calcium of 9.5 mg/dL, blood chloride level of 89 mEq/L, creatinine level of 7.7 mg/dL, magnesium level of 2.0 mg/dL, phosphate level of 3.4 mg/dL, potassium level pending, sodium level of 130 mEq/L, blood urea nitrogen level of 57 mg/dL. Urine analysis showed epithelial cells within normal limits, pH of 7.0, protein level of 100 mg/dL, 2 red blood cells per high power field, specific gravity of 1.012, 1 white blood cell per high power field. Blood gas results included a base excess of 0 mEq/L, calculated total CO2 of 25 mEq/L, oxygen saturation of 87%, pCO2 of 36 mm Hg, pH of 7.44, pO2 pending, calculated bicarbonate of 22 mEq/L, chloride level of 91 mEq/L, glucose level of 390 mg/dL, potassium level of 4.7 mEq/L, and sodium level of 132 mEq/L. Repeat blood gas results showed a glucose level of 361 mg/dL, potassium level of 4.8 mEq/L, and sodium level pending. In terms of hematological values, the patient had a hematocrit of 32.9%, hemoglobin level of 10.8 g/dL, MCH of 30.7 pg, MCHC of 32.8 g/dL, MCV of 94 fL, platelet count of 238 K/uL, RDW of 12.8%, red blood cell count of 3.52 m/uL, white blood cell count of 7.8 K/uL, and RDW-SD of 43.6 fL.\\n\\nA: During the patient\\'s stay in the Emergency Department Observation ward, the diagnoses remained consistent with his preexisting conditions, including hyperkalemia, end-stage renal disease, hypertensive chronic kidney disease, thrombosis due to vascular prosthetic devices, type 1 diabetes mellitus with diabetic nephropathy, type 1 diabetes mellitus with diabetic neuropathy, type 1 diabetes mellitus with unspecified diabetic retinopathy, bipolar disorder, chronic obstructive pulmonary disease, hyperparathyroidism, and a history of abnormal reactions to medical procedures.\\n\\nP: The patient will continue to be monitored closely in the Emergency Department Observation ward. His hyperkalemia will be managed with appropriate interventions, and his renal function will be closely monitored. The patient\\'s glucose levels will be managed with insulin as needed. General supportive measures will be provided to address the patient\\'s other comorbidities, including bipolar disorder and chronic obstructive pulmonary disease. Consultations with the appropriate specialists may be necessary to optimize the patient\\'s care and management. Close follow-up with the patient\\'s primary care physician and renal dialysis team will be arranged to ensure continuity of care. Further investigations, including additional laboratory tests and imaging studies, may be warranted to assess the patient\\'s overall condition and guide further management.\\n-------------\\nSOAP NOTE #7: Subjective:\\nThe patient, a 40-year-old male, was admitted to the Medicine ward with a diagnosis of hyperkalemia. He presented initially to the ED and was diagnosed with several chronic conditions including end-stage renal disease, hypertensive chronic kidney disease, thrombosis due to vascular prosthetic devices, implants, and grafts, type 1 diabetes mellitus with diabetic nephropathy, bipolar disorder, chronic obstructive pulmonary disease, hyperparathyroidism, and several other conditions. He is dependent on renal dialysis. There is no specific complaint mentioned in the record.\\n\\nObjective:\\nDuring his stay in the Medicine ward, the patient received multiple medications including lisinopril, insulin, furosemide, ondansetron, metoprolol tartrate, senna, docusate sodium, sevelamer carbonate, polyethylene glycol, gabapentin, glucagon, heparin, atorvastatin, acetaminophen, codeine, lactulose, aluminum-magnesium hydroxide-simethicone, and glucose gel. Various laboratory tests were performed which showed abnormalities in the patient\\'s blood parameters such as reduced hemoglobin, elevated creatinine, reduced glucose, and abnormal electrolyte levels including low calcium, chloride, and sodium levels.\\n\\nAssessment:\\n1. Hyperkalemia\\n2. End stage renal disease\\n3. Hypertensive chronic kidney disease with stage 5 chronic kidney disease or end stage renal disease\\n4. Thrombosis due to vascular prosthetic devices, implants, and grafts\\n5. Type 1 diabetes mellitus with diabetic nephropathy\\n6. Long term use of insulin\\n7. Dependence on renal dialysis\\n8. Type 1 diabetes mellitus with diabetic neuropathy, unspecified\\n9. Type 1 diabetes mellitus with unspecified diabetic retinopathy without macular edema\\n10. Bipolar disorder, unspecified\\n11. Chronic obstructive pulmonary disease, unspecified\\n12. Hyperparathyroidism, unspecified\\n13. Type 1 diabetes mellitus with hyperglycemia\\n14. Other medical procedures as the cause of abnormal reaction of the patient, or of later complication, without mention of misadventure at the time of the procedure\\n15. Unspecified place or not applicable in order of importance to this admission.\\n\\nPlan:\\nThe patient\\'s complex medical condition requires close monitoring and management. The treatment plan includes continuing hemodialysis as needed, adjusting medications to control blood pressure and blood sugar levels, assessing for and managing any potential complications related to the patient\\'s chronic conditions, and addressing any acute concerns as they arise. Close collaboration with the nephrology, endocrinology, and psychiatry departments will be vital for optimal management of the patient\\'s multiple comorbidities. The patient\\'s family and social support system will also be involved in the care plan. Regular follow-up will be arranged to track the patient\\'s progress and address any arising issues.\\n-------------\\n'}]\n"
     ]
    }
   ],
   "source": [
    "messages = [{\"role\":\"system\",\"content\":prompts.loc[prompts['prompt_name'] == \"bhc_system_message\", \"prompt\"].squeeze()}]\n",
    "\n",
    "gpt_bhc_prompt = {\"role\":\"user\",\n",
    "                 \"content\":bhc_prompt_zeroshot}\n",
    "\n",
    "messages.append(gpt_bhc_prompt)\n",
    "\n",
    "print(f\"Brief Hospital Course 1-shot Prompt: {messages}\")"
   ]
  },
  {
   "cell_type": "code",
   "execution_count": 132,
   "id": "1704de3b-7d78-473e-b1b8-00e0858036c9",
   "metadata": {},
   "outputs": [],
   "source": [
    "zeroshot_completion = completion_with_backoff(engine=engine,\n",
    "                        messages=message_text,\n",
    "                        )\n"
   ]
  },
  {
   "cell_type": "code",
   "execution_count": 133,
   "id": "0aad3d79-1cb2-4d64-b4e7-d3c16a83797d",
   "metadata": {},
   "outputs": [
    {
     "name": "stdout",
     "output_type": "stream",
     "text": [
      "To create a summary of the patient's hospital course based on the SOAP notes from the Emergency Department (ED) to discharge, the following framework would be used, highlighting the essential information throughout the patient's stay. \n",
      "\n",
      "Subjective: This section will summarize the patient's primary complaints, history of the presenting illness, any relevant personal or family history, and other pertinent information the patient provided upon admission and during their stay.\n",
      "\n",
      "Objective: This part will synthesize findings from physical exams, vital signs, laboratory results, imaging studies, and any other diagnostic tests performed.\n",
      "\n",
      "Assessment: Here, I will summarize the diagnoses or differentials considered throughout the patient's hospital course, including how the patient’s condition evolved over time and responses to treatments or interventions.\n",
      "\n",
      "Plan: This section will outline the treatments administered, including medications, surgical procedures if any, therapeutic interventions, and plans laid out for follow-up care after discharge.\n",
      "\n",
      "Based on this approach, here is an example of how the hospital course summary might look:\n",
      "\n",
      "---\n",
      "\n",
      "Hospital Course Summary:\n",
      "\n",
      "Patient Name: [Patient's Name]\n",
      "Hospital ID: [Patient's ID]\n",
      "Admission Date: [Admission Date]\n",
      "Discharge Date: [Discharge Date]\n",
      "\n",
      "Subjective:\n",
      "The patient, a [age]-year-old [male/female], presented to the ED with chief complaints of [chief complaints, e.g., chest pain, shortness of breath], which started [duration of symptoms]. The patient reported [other symptoms or pertinent history]. There was no significant past medical or family history of [relevant conditions, e.g., heart disease, diabetes]. During their stay, the patient expressed concerns regarding [e.g., pain management, mobility], which were addressed in daily assessments. \n",
      "\n",
      "Objective:\n",
      "Upon admission, the patient's vital signs were [vitals upon admission, e.g., blood pressure, heart rate, respiratory rate, temperature]. Physical exam revealed [findings from physical exam]. Lab work including [relevant labs, e.g., CBC, BMP, cardiac enzymes] showed [lab findings]. [Imaging studies, e.g., X-rays, CT scans, MRIs] were performed revealing [imaging findings]. Throughout the hospital stay, objective data was monitored, showing [e.g., improvement, stabilization].\n",
      "\n",
      "Assessment:\n",
      "The differential diagnosis on presentation included [differential diagnoses]. Over the course of hospitalization, the assessment evolved to a final diagnosis of [final diagnosis]. The patient's condition was monitored, with [complications, improvements] being noted. The patient’s response to treatment was [e.g., favorable, placeholder for specific outcomes].\n",
      "\n",
      "Plan:\n",
      "The treatment plan included [initial treatments administered in ED], followed by [ongoing treatments, surgical interventions if performed]. The patient was also seen by [any specialists or consultations involved]. Education on [disease management, lifestyle changes] was provided. Upon discharge, the patient is prescribed [medications] and recommended to follow-up with [specific outpatient care, e.g., primary care physician, specialist appointments]. The patient was counseled on warning signs and symptoms that would warrant immediate medical attention. Discharge instructions include [lifestyle recommendations, dietary changes, activity limitations].\n",
      "\n",
      "The patient tolerated the prescribed treatment well and is being discharged in a stable condition. Continued outpatient care and adherence to the follow-up plan are emphasized to facilitate full recovery and prevent potential complications.\n",
      "\n",
      "[Additional personalized recommendations or comments tailored to the patient’s individual situation]\n",
      "\n",
      "The patient and family were given the opportunity to discuss concerns and understand the care plan. They verbalized understanding and readiness for discharge.\n",
      "\n",
      "---\n",
      "\n",
      "This summary provides a succinct and comprehensive overview of the patient's hospital stay from admission to discharge, and will serve as a vital component of documentation for future medical care and reference.\n"
     ]
    }
   ],
   "source": [
    "zero_shot_output = zeroshot_completion['choices'][0]['message']['content']; print(zero_shot_output)"
   ]
  },
  {
   "cell_type": "markdown",
   "id": "d16a43c1-7755-4bea-a107-c38527d5f6ab",
   "metadata": {},
   "source": [
    "## Create SOAP notes from GPT API (1-shot)"
   ]
  },
  {
   "cell_type": "code",
   "execution_count": 134,
   "id": "438056e5-db78-443d-aadd-e411f031e497",
   "metadata": {},
   "outputs": [],
   "source": [
    "targets = pd.read_csv('/gpfs/milgram/project/rtaylor/shared/DischargeMe/public/train/discharge_target.csv.gz')"
   ]
  },
  {
   "cell_type": "code",
   "execution_count": 138,
   "id": "ec1383f6-5fc2-49b0-88c9-c4bd553a3f5d",
   "metadata": {},
   "outputs": [],
   "source": [
    "bhc_oneshot_sample = targets.sample(1)['brief_hospital_course'].squeeze()"
   ]
  },
  {
   "cell_type": "code",
   "execution_count": 139,
   "id": "e6145b90-3152-459c-8b47-18244d8542b9",
   "metadata": {},
   "outputs": [],
   "source": [
    "bhc_prompt_nshot = create_brief_hospital_course_prompts(discharges[discharges['hadm_id'] == soap_notes.iloc[0]['hadm_id']].squeeze(),\n",
    "                                                  soap_notes, prompts, \n",
    "                                                  edstays, radiology, \n",
    "                                                  pts, triage, transfers, diags,\n",
    "                                                  shots=[bhc_oneshot_sample, bhc_oneshot_sample]\n",
    "                                                 )"
   ]
  },
  {
   "cell_type": "code",
   "execution_count": 140,
   "id": "2f1fcf6d-d764-49e6-a663-a02d02985255",
   "metadata": {},
   "outputs": [
    {
     "data": {
      "text/plain": [
       "7783"
      ]
     },
     "execution_count": 140,
     "metadata": {},
     "output_type": "execute_result"
    }
   ],
   "source": [
    "num_tokens_from_string(bhc_prompt_nshot, \"cl100k_base\")"
   ]
  },
  {
   "cell_type": "code",
   "execution_count": 141,
   "id": "1ef984ce-2ea5-48b6-89e5-1adcdf0045a7",
   "metadata": {
    "scrolled": true
   },
   "outputs": [
    {
     "name": "stdout",
     "output_type": "stream",
     "text": [
      "Brief Hospital Course N-shot Prompt: [{'role': 'system', 'content': \"You are the discharging physician that is reviewing a patient's SOAP notes over their hospital course, starting in the ED and being discharged from your unit and writing a brief hospital course summary based on this information.\"}, {'role': 'user', 'content': '___ is a {age} year old {sex} presenting to the ED with Hyperkalemia. The patient visited the following wards in order: Emergency Department, Emergency Department Observation, Medicine, Discharge Lounge, Medicine, Emergency Department Observation, Medicine. Over the course of their hospital stay, ___ was given a set of diagnoses, radiology reports from consulting physicians, and a set of daily SOAP notes. Please use these SOAP notes to create a brief hospital course summary. Refer to the patient by three underscores (___). The structure of the brief hospital course summary should be:\\r\\n\\r\\n\"\"\"\\r\\n[patient introduction including age, sex, chief complaints, and relevant past medical history]\\r\\n\\r\\n# Condition 1: medications, vitals, abnormal labs and cultures, and procedures pertinent to Condition 1\\r\\n# Condition 2: medications, vitals, abnormal labs and cultures, and procedures pertinent to Condition 2\\r\\n\\r\\nConclusion\\r\\n\"\"\"\\r\\nPlease use the following brief hospital course as an example: \\r\\n\\r\\nExample 1: Ms. ___ is a ___ woman who presented to an outside\\nhospital emergency department for left-sided chest pain worse \\nwith movement and deep inspiration that started after shoveling \\nsnow. Her workup at OSH was negative for cardiac or respiratory \\netiology; however, her CT chest angio demonstrated a large \\ngoiter with significant substernal component compressing the \\ntrachea to 5 mm, for which she was transferred to ___ for \\nfurther workup.\\n\\nShe was initially made NPO in case urgent surgical intervention \\nwas required. However, she complained of no respiratory symptoms \\nand demonstrated no airway compromise or respiratory distress, \\nso her diet was advanced and tolerated. Thyroid ultrasound was \\nobtained, which showed a diffusely enlarged thyroid incompletely \\nvisualized due to substernal component, confluent nodules \\nwithout discrete nodule to biopsy. Thoracic surgery was \\nconsulted given the large substernal component who will follow \\nup with Dr. ___ surgical planning. Endocrinology was \\nconsulted and recommended obtaining Ca, 25-hydroxyl, and plasma \\nfree metanephrine levels given concern for bilateral adrenal \\nmasses on CT. Endocrine will follow up with the patient on \\noutpatient basis and discuss these results. Her TSH was 1.1. By \\nthe time of discharge, patient was ambulating, voiding \\nindependently, tolerating regular diet, and expressed readiness \\nfor discharge. Warning signs were discussed with patient that \\nshould prompt immediate return to the emergency department. She \\nwill be contacted by Dr. ___ administrative assistant for \\npre-anesthesia clearance and surgical scheduling on an elective \\nbasis.\\n-------------\\nExample 2: Ms. ___ is a ___ woman who presented to an outside\\nhospital emergency department for left-sided chest pain worse \\nwith movement and deep inspiration that started after shoveling \\nsnow. Her workup at OSH was negative for cardiac or respiratory \\netiology; however, her CT chest angio demonstrated a large \\ngoiter with significant substernal component compressing the \\ntrachea to 5 mm, for which she was transferred to ___ for \\nfurther workup.\\n\\nShe was initially made NPO in case urgent surgical intervention \\nwas required. However, she complained of no respiratory symptoms \\nand demonstrated no airway compromise or respiratory distress, \\nso her diet was advanced and tolerated. Thyroid ultrasound was \\nobtained, which showed a diffusely enlarged thyroid incompletely \\nvisualized due to substernal component, confluent nodules \\nwithout discrete nodule to biopsy. Thoracic surgery was \\nconsulted given the large substernal component who will follow \\nup with Dr. ___ surgical planning. Endocrinology was \\nconsulted and recommended obtaining Ca, 25-hydroxyl, and plasma \\nfree metanephrine levels given concern for bilateral adrenal \\nmasses on CT. Endocrine will follow up with the patient on \\noutpatient basis and discuss these results. Her TSH was 1.1. By \\nthe time of discharge, patient was ambulating, voiding \\nindependently, tolerating regular diet, and expressed readiness \\nfor discharge. Warning signs were discussed with patient that \\nshould prompt immediate return to the emergency department. She \\nwill be contacted by Dr. ___ administrative assistant for \\npre-anesthesia clearance and surgical scheduling on an elective \\nbasis.\\n-------------\\n\\r\\n----------------------------------------------------------------\\r\\n\\r\\n\\n\\nDiagnoses (ordered by priority):\\n----------------------------\\nHyperkalemia, End stage renal disease, Hypertensive chronic kidney disease with stage 5 chronic kidney disease or end stage renal disease, Thrombosis due to vascular prosthetic devices, implants and grafts, initial encounter, Type 1 diabetes mellitus with diabetic nephropathy, Long term (current) use of insulin, Dependence on renal dialysis, Type 1 diabetes mellitus with diabetic neuropathy, unspecified, Type 1 diabetes mellitus with unspecified diabetic retinopathy without macular edema, Bipolar disorder, unspecified, Chronic obstructive pulmonary disease, unspecified, Hyperparathyroidism, unspecified, Type 1 diabetes mellitus with hyperglycemia, Other medical procedures as the cause of abnormal reaction of the patient, or of later complication, without mention of misadventure at the time of the procedure, Unspecified place or not applicable\\n\\nRadiology Reports:\\n----------------------------\\nRadiology Report #1: INDICATION:  ___ year old man with clotted fistula.Not seen previously at\\n___, no information regarding access history. // Thrombectomy.Catheter\\nplacement if unsuccessful.\\n\\nCOMPARISON:  None.\\n\\nTECHNIQUE:  OPERATORS: Dr. ___, Interventional Radiology Fellow and Dr.\\n___, attending radiologist performed the procedure. Dr. ___\\n___ personally supervised the trainee during the key components of the\\nprocedure and has reviewed and agrees with the trainee\\'s findings.\\nANESTHESIA: Moderate sedation was provided by administrating divided doses of\\n200mcg of fentanyl and 3.5 mg of midazolam throughout the total intra-service\\ntime of 1 hr 35 min during which the patient\\'s hemodynamic parameters were\\ncontinuously monitored by an independent trained radiology nurse. 1% lidocaine\\nwas injected in the skin and subcutaneous tissues overlying the access site.\\nMEDICATIONS: 4000 units heparin\\nCONTRAST: 75 ml of Optiray contrast.\\nFLUOROSCOPY TIME AND DOSE: 21.6 min, 19 mGy\\n\\nPROCEDURE:\\n1. Left upper extremity AV fistula fistulogram.\\n2. Axillary, subclavian and super vena cava venography.\\n3. Balloon angioplasty of outflow vein and juxta-anastomotic stenoses.\\n4. ___ balloon pull through of the arterial inflow.\\n5. Mechanical thrombolysis of the outflow vein using the Cleaner device.\\n6. Completion left upper extremity AV fistulogram.\\n\\nPROCEDURE DETAILS:\\nWritten informed consent was obtained from the patient outlining the risks,\\nbenefits and alternatives to the procedure. The patient was then brought to\\nthe angiography suite and placed supine on the image table with the left upper\\nextremity abducted and stabilized.\\n\\nClinical examination demonstrated a palpable, but completely thrombosed\\nfistula in the left upper extremity. Further evaluation by targeted ultrasound\\ndemonstrated a completely thrombosed fistula. The left upper extremity was\\nprepped and draped in the usual sterile fashion. A preprocedure timeout and\\nhuddle was performed as per ___ protocol.\\nUsing ultrasound and fluoroscopy, the arterial inflow and outflow vein levels\\nwere identified and the skin was marked with a skin marker. Antegrade\\n(directed towards the venous outflow) access into the thrombosed fistula was\\nobtained under continuous ultrasound guidance using a 21G micropuncture\\nneedle. Permanent ultrasound images were saved. An 0.018 wire was then\\nadvanced easily into the outflow vein under fluoroscopic guidance. A 4.5F\\nmicropuncture sheath was advanced and used to exchange for ___ wire.  The\\nmicropuncture sheath was exchanged for a short 6 ___ sheath.  A Kumpe\\ncatheter was advanced over the wire and slowly withdrawn while injecting\\ndilute contrast to establish the distal extent of thrombus into the outflow\\nvein. Following this, the Kumpe catheter was advanced centrally, and axillary,\\nsubclavian, and SVC venography was performed. A 150cm ___ wire was then\\nadvanced via the Kumpe into the SVC for stability. Retrograde access directed\\ntowards the arterial inflow was then obtained in a similar fashion using\\ncontinuous ultrasound and intermittent fluoroscopic guidance. Permanent\\nultrasound images were saved.\\nAt this point 4000 U heparin was administered systemically.  An 8 mm balloon\\nwas advanced over the wire and balloon angioplasty was performed along the\\nlength of the outflow vein.  A significant waist was seen along the distal\\noutflow vein, which did not reduce using a Mustang balloon, but did fully\\nefface using an 8 mm Conquest balloon at 24 mmHg.\\nA Glidewire was advanced into the inflow artery from the retrograde sheath. A\\n5.5 ___ ___ balloon was advanced beyond the arterial anastomosis,\\npartially inflated and pullback was performed through the arterial anastomosis\\ninto the graft. A partially inflated 8mm balloon was then advanced forward\\nfrom the antegrade sheath to push the arterial plug through the fistula. This\\nresulted in restoration of flow and a faint thrill in the graft. A fistulogram\\nperformed from the proximal brachial artery at this point demonstrated brisk\\nflow through the fistula but segments of narrowing and irregular filling\\ndefects at the arterial inflow and along the outflow vein. Subsequently,\\nrepeat angioplasty was performed along the length of the outflow vein using a\\n8 mm balloon.\\n8 mm balloon angioplasty was again performed along the length of the outflow\\nvein.  A second area of severe stenosis was demonstrated in the fistula inflow\\n(accessed via the retrograde sheath), which was effaced using a Mustang\\nballoon at 20 mmHg.  Additionally, a cleaner device was passed along the\\nlength of the outflow vein. After additional diagnostic venography, 6 mm\\nballoon angioplasty was performed in the juxta anastomotic segment.\\nCompletion fistulogram was performed from the proximal brachial artery,\\ndemonstrating brisk flow  throughout the entire fistula  with minimal \\nresidual thrombus  but no segments of stenosis.\\nClinical exam revealed a satisfactory thrill along the length of the fistula.\\nThe sheaths were removed and hemostasis was achieved with two ___ nylon\\npursestring sutures. There were no immediate complications.\\nA postprocedure ultrasound of the graft demonstrated patent fistula with flow\\nvolumes measuring 880 cc/min.\\n\\nFINDINGS:\\n\\n\\n1. Complete thrombosis of the left upper extremity AV fistula.\\n2.  Severe (>90%) stenosis of outflow vein with improvement following\\nangioplasty to 8 mm.\\n3. Mild stenosis of the juxta-anastamotic segment (~50%), with improvement\\nfollowing angioplasty to 6 mm.\\n4. No central venous stenosis.\\n5. Postprocedure ultrasound of the graft shows a patent fistula with v olume\\nflow of 880 cc/min.\\n\\nIMPRESSION: \\n\\nSatisfactory restoration of flow following mechanical thrombolysis with a good\\nangiographic and clinical result.\\n\\n-------------\\n\\n\\nDaily SOAP Notes:\\n----------------------------\\nSOAP NOTE #1: Subjective:\\nThe patient, a 40-year-old male, presented to the Emergency Department with hyperkalemia. He reports feeling generally unwell and fatigued. He denies any specific complaints at this time. Patient states compliance with his medications and renal dialysis.\\n\\nObjective:\\n- Vital signs: Stable with blood pressure of 130/80 mmHg and heart rate of 80 beats per minute.\\n- Physical examination: Unremarkable, no acute distress noted.\\n\\nAssessment:\\n- Hyperkalemia\\n- End stage renal disease\\n- Hypertensive chronic kidney disease with stage 5 chronic kidney disease or end stage renal disease\\n- Thrombosis due to vascular prosthetic devices, implants, and grafts\\n- Type 1 diabetes mellitus with diabetic nephropathy\\n- Long term (current) use of insulin\\n- Dependence on renal dialysis\\n- Type 1 diabetes mellitus with diabetic neuropathy, unspecified\\n- Type 1 diabetes mellitus with unspecified diabetic retinopathy without macular edema\\n- Bipolar disorder, unspecified\\n- Chronic obstructive pulmonary disease, unspecified\\n- Hyperparathyroidism, unspecified\\n- Type 1 diabetes mellitus with hyperglycemia\\n- Other medical procedures as the cause of abnormal reaction of the patient, or of later complication, without mention of misadventure at the time of the procedure\\n- Unspecified place or not applicable in order of importance to this admission\\n\\nPlan:\\n- Continue to monitor the patient\\'s vital signs and electrolyte levels closely.\\n- Consult with nephrology team for further management of hyperkalemia and end stage renal disease.\\n- Maintain patient on insulin therapy and renal dialysis as necessary.\\n- Encourage patient compliance with medications and renal dialysis appointments.\\n- Provide patient education regarding proper management of diabetes and kidney disease.\\n- Consult with other specialists as needed based on the patient\\'s comorbidities.\\n- Transfer the patient to the appropriate unit for further medical management.\\n\\nNote: As the patient had a brief stay in the Emergency Department ward, specific procedures, medications, labs, and microbiology cultures are not provided in the record.\\n-------------\\nSOAP NOTE #2: Subjective:\\n___ is a 40-year-old male who was admitted to the Emergency Department Observation ward with a primary complaint of hyperkalemia. According to the medical records, the patient has a significant medical history including end stage renal disease, hypertensive chronic kidney disease with stage 5 chronic kidney disease or end stage renal disease, thrombosis due to vascular prosthetic devices, implants and grafts, type 1 diabetes mellitus with diabetic nephropathy, long-term use of insulin, dependence on renal dialysis, type 1 diabetes mellitus with diabetic neuropathy, type 1 diabetes mellitus with unspecified diabetic retinopathy without macular edema, bipolar disorder, chronic obstructive pulmonary disease, hyperparathyroidism, and type 1 diabetes mellitus with hyperglycemia. He was also noted to have a history of other medical procedures which may have caused abnormal patient reactions or complications.\\n\\nObjective:\\nDuring his stay in the Emergency Department Observation ward from 2140-12-29 15:47:23 to 2140-12-29 19:25:01, ___ underwent various medical procedures. However, the details of these procedures were not provided in the medical records.\\n\\nAssessment:\\n1. Hyperkalemia: The patient presented with hyperkalemia as the primary complaint.\\n2. End stage renal disease: ___ has a history of end stage renal disease, requiring renal dialysis.\\n3. Hypertensive chronic kidney disease with stage 5 chronic kidney disease or end stage renal disease: ___\\'s underlying renal disease is secondary to hypertensive chronic kidney disease.\\n4. Thrombosis due to vascular prosthetic devices, implants, and grafts: The patient has a history of thrombosis related to vascular prosthetic devices, implants, and grafts.\\n5. Type 1 diabetes mellitus with diabetic nephropathy: ___ has a history of type 1 diabetes mellitus with associated diabetic nephropathy.\\n6. Long-term use of insulin: The patient currently relies on long-term insulin therapy for diabetes management.\\n7. Dependence on renal dialysis: ___ is dependent on renal dialysis for the management of end stage renal disease.\\n8. Type 1 diabetes mellitus with diabetic neuropathy, unspecified: Neuropathy associated with type 1 diabetes mellitus is also noted in the medical history.\\n9. Type 1 diabetes mellitus with unspecified diabetic retinopathy without macular edema: ___ has been diagnosed with unspecified diabetic retinopathy without macular edema.\\n10. Bipolar disorder, unspecified: The patient has a diagnosis of unspecified bipolar disorder.\\n11. Chronic obstructive pulmonary disease, unspecified: ___ has an unspecified diagnosis of chronic obstructive pulmonary disease.\\n12. Hyperparathyroidism, unspecified: ___ has been diagnosed with unspecified hyperparathyroidism.\\n13. Type 1 diabetes mellitus with hyperglycemia: ___ has a diagnosis of type 1 diabetes mellitus with documented hyperglycemia.\\n14. Other medical procedures as the cause of an abnormal reaction of the patient or later complication, without mention of misadventure at the time of the procedure: The patient has a history of experiencing abnormal reactions or complications related to previous medical procedures.\\n15. Unspecified place or not applicable in order of importance to this admission: Not enough information was provided to determine the importance or relevance of this diagnosis to the current admission.\\n\\nPlan:\\nDuring the patient\\'s stay in the Emergency Department Observation ward, there is no information available regarding the specific procedures, medications administered, laboratory results, or microbiology cultures ordered. Additional documentation is required to determine the appropriate course of action for ongoing management and treatment. Further evaluation and consultation with relevant specialists may be necessary to address the patient\\'s complex medical history and acute concerns.\\n-------------\\nSOAP NOTE #3: Subjective:\\nThe patient, ___, is a 40-year-old male who initially presented to the Emergency Department with hyperkalemia. He has a complex medical history consisting of end-stage renal disease, hypertensive chronic kidney disease, thrombosis due to vascular prosthetic devices, implants and grafts, type 1 diabetes mellitus with diabetic nephropathy, dependence on renal dialysis, diabetic neuropathy, diabetic retinopathy, bipolar disorder, chronic obstructive pulmonary disease, hyperparathyroidism, hyperglycemia, and a history of abnormal reactions related to other medical procedures. \\n\\nDuring his stay in the Medicine ward, the patient was transferred and admitted between 2140-12-29 19:25:01 and 2140-12-29 20:21:48. He reported being fatigued and experiencing occasional shortness of breath. The patient appeared anxious and concerned about his medical conditions.\\n\\nObjective:\\nUpon examination, the patient\\'s vital signs were stable with a blood pressure of 130/80 mmHg, heart rate of 82 bpm, respiratory rate of 16 bpm, and oxygen saturation of 98% on room air. He appeared well-nourished and in no acute distress. Physical examination revealed no significant abnormalities except for pallor and dry skin. The patient\\'s extremities were cold to touch, with no edema or signs of infection.\\n\\nAssessment:\\n1. Hyperkalemia: The patient initially presented to the ED with hyperkalemia, most likely due to his end-stage renal disease.\\n2. End-stage renal disease: The patient has a documented history of end-stage renal disease, requiring dependence on renal dialysis.\\n3. Thrombosis due to vascular prosthetic devices, implants, and grafts: The patient has a history of thrombosis related to prior surgical interventions.\\n4. Type 1 diabetes mellitus with diabetic nephropathy: The patient has type 1 diabetes mellitus complicated by diabetic nephropathy.\\n5. Bipolar disorder, unspecified: The patient has a history of bipolar disorder.\\n6. Chronic obstructive pulmonary disease, unspecified: The patient has a diagnosis of chronic obstructive pulmonary disease, which may explain the occasional shortness of breath.\\n7. Hyperparathyroidism, unspecified: The patient has hyperparathyroidism, which may contribute to his electrolyte imbalance.\\n8. Other medical procedures as the cause of abnormal reaction of the patient, or of later complication, without mention of misadventure at the time of the procedure: The patient has a history of abnormal reactions related to medical procedures, but the details are not specified in the medical record.\\n\\nPlan:\\n1. Hyperkalemia management: Continue current treatment plan, including close monitoring of serum potassium levels and adjustment of medications as needed.\\n2. End-stage renal disease: Maintain renal dialysis as per the patient\\'s routine schedule.\\n3. Thrombosis management: Monitor for signs of recurrent thrombosis and consider anticoagulation therapy if necessary.\\n4. Diabetes management: Ensure appropriate insulin therapy and glycemic control. Consider referral to a nephrologist for further management of diabetic nephropathy.\\n5. Bipolar disorder management: Continue current psychiatric treatment plan and consider consultation with the psychiatry team if necessary.\\n6. Chronic obstructive pulmonary disease management: Optimize bronchodilator therapy and provide education on inhaler technique and smoking cessation.\\n7. Hyperparathyroidism management: Consult an endocrinologist for further evaluation and management.\\n8. Monitor for adverse reactions during other medical procedures and provide supportive care as needed.\\n9. Evaluate and address the patient\\'s occasional shortness of breath, considering possible causes such as pulmonary hypertension or exacerbation of chronic obstructive pulmonary disease.\\n\\nAdditional assessments and investigations:\\n1. Perform laboratory tests including complete blood count, electrolytes, renal function panel, glycated hemoglobin (HbA1c) level, liver function tests, lipid profile, and thyroid function tests.\\n2. Obtain a chest X-ray to assess pulmonary function and evaluate for any underlying pathology.\\n3. Consider a transesophageal echocardiogram to screen for potential thromboembolic sources in the context of the patient\\'s thrombosis history.\\n4. Order a 24-hour urine collection for protein quantification to assess the extent of proteinuria.\\n\\nGiven the complexity of the patient\\'s medical conditions, it is crucial to involve an interdisciplinary approach involving nephrology, endocrinology, psychiatry, and respiratory medicine to ensure comprehensive care for ___ during his hospital stay. A detailed medication list, procedural information, and pertinent lab results are required to finalize the treatment plan and optimize the patient\\'s management. Close monitoring and follow-up are recommended to address any ongoing concerns and prevent potential complications.\\n-------------\\nSOAP NOTE #4: Patient Name: [Patient Name]\\nAge: 40 years\\nSex: Male\\nAdmission Date: 2140-12-29 20:21:48\\nDischarge Date: 2140-12-29 20:24:37\\nService: Discharge Lounge\\n\\nSubjective:\\nThe patient, ___ presented to the emergency department with hyperkalemia and was subsequently admitted to our hospital. He has a significant medical history including end-stage renal disease, hypertensive chronic kidney disease, thrombosis due to vascular prosthetic devices, implants, and grafts, type 1 diabetes mellitus with diabetic nephropathy, long-term use of insulin, dependence on renal dialysis, type 1 diabetes mellitus with diabetic neuropathy, unspecified, type 1 diabetes mellitus with unspecified diabetic retinopathy without macular edema, bipolar disorder, unspecified, chronic obstructive pulmonary disease, unspecified, hyperparathyroidism, unspecified, type 1 diabetes mellitus with hyperglycemia, and other medical procedures as the cause of abnormal reaction of the patient or of later complication without mention of misadventure at the time of the procedure.\\n\\nObjective:\\n- Patient transferred and stayed in the Discharge Lounge ward.\\n- Procedures received: [List procedures]\\n- Medications administered: [List medications]\\n- Labs drawn: [List lab results]\\n- Microbiology cultures ordered: [List ordered microbiology cultures]\\n\\nAssessment:\\n1. Hyperkalemia\\n2. End-stage renal disease\\n3. Hypertensive chronic kidney disease with stage 5 chronic kidney disease or end-stage renal disease\\n4. Thrombosis due to vascular prosthetic devices, implants, and grafts, initial encounter\\n5. Type 1 diabetes mellitus with diabetic nephropathy\\n6. Long-term (current) use of insulin\\n7. Dependence on renal dialysis\\n8. Type 1 diabetes mellitus with diabetic neuropathy, unspecified\\n9. Type 1 diabetes mellitus with unspecified diabetic retinopathy without macular edema\\n10. Bipolar disorder, unspecified\\n11. Chronic obstructive pulmonary disease, unspecified\\n12. Hyperparathyroidism, unspecified\\n13. Type 1 diabetes mellitus with hyperglycemia\\n14. Other medical procedures as the cause of abnormal reaction of the patient or of later complication without mention of misadventure at the time of the procedure\\n15. Unspecified place or not applicable in order of importance to this admission.\\n\\nPlan:\\nThe patient\\'s stay in the Discharge Lounge ward has provided an opportunity to closely monitor his medical condition and stabilize him before proceeding to the next phase of his care. During his stay, the patient received the necessary procedures, including [List procedures]. Medications were administered as per the physician\\'s orders, including [List medications]. Laboratory tests were conducted to assess the patient\\'s condition, and their results are within the expected range, as evidenced by [List lab results].\\n\\nThe patient\\'s complex medical history requires a multidisciplinary approach, and we will collaborate with the necessary specialists to ensure optimal management of his various conditions. The patient will be closely monitored for any changes and complications. We aim to stabilize his hyperkalemia, manage his end-stage renal disease, and facilitate the continuation of renal dialysis as part of his long-term treatment plan. \\n\\nWe will also address his other medical comorbidities, including type 1 diabetes mellitus, diabetic neuropathy, diabetic retinopathy, bipolar disorder, chronic obstructive pulmonary disease, and hyperparathyroidism. Appropriate consultations and interventions will be initiated to provide comprehensive care.\\n\\nThe patient\\'s family and caregivers will be educated about his conditions and involved in the treatment plan to ensure a smooth transition upon discharge. Discharge planning will include coordination with the patient\\'s primary care physician and appropriate specialists to ensure seamless continuity of care.\\n\\nThe patient will remain under close observation during his hospital course, and future progress notes will be generated with updates on his condition and treatment progress.\\n\\nSignature: [Physician Name]\\nDate: [Current Date]\\n-------------\\nSOAP NOTE #5: Subjective:\\nThe patient, a 40-year-old male, was admitted to the Medicine ward for further management of his multiple comorbidities. He presented initially to the Emergency Department with hyperkalemia. His chief complaints include generalized weakness, shortness of breath, and intermittent episodes of chest pain. The patient reports a long-standing history of end-stage renal disease and has been undergoing renal dialysis. He also acknowledges the presence of diabetic nephropathy, neuropathy, and retinopathy due to his Type 1 diabetes mellitus. The patient reports using insulin long term. Additionally, he has a diagnosis of bipolar disorder and chronic obstructive pulmonary disease. He mentions hyperparathyroidism as well. Upon further history taking, the patient reveals he underwent vascular prosthetic devices, implants, and grafts placement, which he speculates may have led to the subsequent thrombosis. The patient reports experiencing hyperglycemia and states undergoing other unspecified medical procedures that may have caused an abnormal reaction.\\n\\nObjective:\\nDuring the patient\\'s stay in the Medicine ward, the following diagnoses were confirmed: hyperkalemia, end-stage renal disease, hypertensive chronic kidney disease with stage 5 chronic kidney disease or end-stage renal disease, thrombosis due to vascular prosthetic devices, implants, and grafts (initial encounter), Type 1 diabetes mellitus with diabetic nephropathy, dependence on renal dialysis, Type 1 diabetes mellitus with diabetic neuropathy (unspecified), Type 1 diabetes mellitus with unspecified diabetic retinopathy without macular edema, bipolar disorder (unspecified), chronic obstructive pulmonary disease (unspecified), hyperparathyroidism (unspecified), Type 1 diabetes mellitus with hyperglycemia, and complications related to other medical procedures. The patient was transferred and stayed in the Medicine ward briefly.\\n\\nAssessment:\\n1. Hyperkalemia\\n2. End-stage renal disease\\n3. Hypertensive chronic kidney disease with stage 5 chronic kidney disease or end-stage renal disease\\n4. Thrombosis due to vascular prosthetic devices, implants, and grafts (initial encounter)\\n5. Type 1 diabetes mellitus with diabetic nephropathy\\n6. Long-term (current) use of insulin\\n7. Dependence on renal dialysis\\n8. Type 1 diabetes mellitus with diabetic neuropathy (unspecified)\\n9. Type 1 diabetes mellitus with unspecified diabetic retinopathy without macular edema\\n10. Bipolar disorder (unspecified)\\n11. Chronic obstructive pulmonary disease (unspecified)\\n12. Hyperparathyroidism (unspecified)\\n13. Type 1 diabetes mellitus with hyperglycemia\\n14. Complications related to other medical procedures\\n\\nPlan:\\n1. Continuation of renal dialysis to maintain electrolyte balance and manage end-stage renal disease.\\n2. Implementation of a diuretic regimen to address hyperkalemia.\\n3. Initiation of anticoagulation therapy in consideration of the thrombosis.\\n4. Glycemic control with insulin therapy to manage Type 1 diabetes mellitus.\\n5. Consultation with ophthalmology for evaluation and management of diabetic retinopathy.\\n6. Collaboration with nephrology to optimize renal function and prevent further complications.\\n7. Consultation with endocrinology for comprehensive management of hyperparathyroidism.\\n8. Continuation of bipolar disorder treatment with the involvement of psychiatry.\\n9. Optimization of respiratory status through inhalers and bronchodilators for COPD.\\n10. Regular monitoring of electrolytes, renal function, and glucose levels to ensure stability.\\n11. Coordination with other specialists to address complications related to previous medical procedures.\\n\\nFollow-up: The patient will continue to be monitored closely in the Medicine ward while receiving multidisciplinary care. Further investigations and treatment adjustments will be made as necessary.\\n-------------\\nSOAP NOTE #6: S: The patient is a 40-year-old male who presented to the Emergency Department with hyperkalemia. His medical history includes end-stage renal disease, hypertensive chronic kidney disease, thrombosis due to vascular prosthetic devices, type 1 diabetes mellitus with diabetic nephropathy, long-term use of insulin, dependence on renal dialysis, type 1 diabetes mellitus with diabetic neuropathy, type 1 diabetes mellitus with unspecified diabetic retinopathy, bipolar disorder, chronic obstructive pulmonary disease, hyperparathyroidism, and a history of abnormal reactions to medical procedures. The patient was admitted to the Emergency Department Observation ward and stayed from 2140-12-29 20:25:41 to 2140-12-30 11:09:15. He underwent extirpation of matter from the upper vein and dilation of the upper vein during his stay. The patient\\'s medications included insulin, provided in 10 mL vials.\\n\\nO: The patient\\'s laboratory results during this period revealed the following values: Chemistry blood anion gap of 25 mEq/L, blood bicarbonate level of 23 mEq/L, total calcium of 9.5 mg/dL, blood chloride level of 89 mEq/L, creatinine level of 7.7 mg/dL, magnesium level of 2.0 mg/dL, phosphate level of 3.4 mg/dL, potassium level pending, sodium level of 130 mEq/L, blood urea nitrogen level of 57 mg/dL. Urine analysis showed epithelial cells within normal limits, pH of 7.0, protein level of 100 mg/dL, 2 red blood cells per high power field, specific gravity of 1.012, 1 white blood cell per high power field. Blood gas results included a base excess of 0 mEq/L, calculated total CO2 of 25 mEq/L, oxygen saturation of 87%, pCO2 of 36 mm Hg, pH of 7.44, pO2 pending, calculated bicarbonate of 22 mEq/L, chloride level of 91 mEq/L, glucose level of 390 mg/dL, potassium level of 4.7 mEq/L, and sodium level of 132 mEq/L. Repeat blood gas results showed a glucose level of 361 mg/dL, potassium level of 4.8 mEq/L, and sodium level pending. In terms of hematological values, the patient had a hematocrit of 32.9%, hemoglobin level of 10.8 g/dL, MCH of 30.7 pg, MCHC of 32.8 g/dL, MCV of 94 fL, platelet count of 238 K/uL, RDW of 12.8%, red blood cell count of 3.52 m/uL, white blood cell count of 7.8 K/uL, and RDW-SD of 43.6 fL.\\n\\nA: During the patient\\'s stay in the Emergency Department Observation ward, the diagnoses remained consistent with his preexisting conditions, including hyperkalemia, end-stage renal disease, hypertensive chronic kidney disease, thrombosis due to vascular prosthetic devices, type 1 diabetes mellitus with diabetic nephropathy, type 1 diabetes mellitus with diabetic neuropathy, type 1 diabetes mellitus with unspecified diabetic retinopathy, bipolar disorder, chronic obstructive pulmonary disease, hyperparathyroidism, and a history of abnormal reactions to medical procedures.\\n\\nP: The patient will continue to be monitored closely in the Emergency Department Observation ward. His hyperkalemia will be managed with appropriate interventions, and his renal function will be closely monitored. The patient\\'s glucose levels will be managed with insulin as needed. General supportive measures will be provided to address the patient\\'s other comorbidities, including bipolar disorder and chronic obstructive pulmonary disease. Consultations with the appropriate specialists may be necessary to optimize the patient\\'s care and management. Close follow-up with the patient\\'s primary care physician and renal dialysis team will be arranged to ensure continuity of care. Further investigations, including additional laboratory tests and imaging studies, may be warranted to assess the patient\\'s overall condition and guide further management.\\n-------------\\nSOAP NOTE #7: Subjective:\\nThe patient, a 40-year-old male, was admitted to the Medicine ward with a diagnosis of hyperkalemia. He presented initially to the ED and was diagnosed with several chronic conditions including end-stage renal disease, hypertensive chronic kidney disease, thrombosis due to vascular prosthetic devices, implants, and grafts, type 1 diabetes mellitus with diabetic nephropathy, bipolar disorder, chronic obstructive pulmonary disease, hyperparathyroidism, and several other conditions. He is dependent on renal dialysis. There is no specific complaint mentioned in the record.\\n\\nObjective:\\nDuring his stay in the Medicine ward, the patient received multiple medications including lisinopril, insulin, furosemide, ondansetron, metoprolol tartrate, senna, docusate sodium, sevelamer carbonate, polyethylene glycol, gabapentin, glucagon, heparin, atorvastatin, acetaminophen, codeine, lactulose, aluminum-magnesium hydroxide-simethicone, and glucose gel. Various laboratory tests were performed which showed abnormalities in the patient\\'s blood parameters such as reduced hemoglobin, elevated creatinine, reduced glucose, and abnormal electrolyte levels including low calcium, chloride, and sodium levels.\\n\\nAssessment:\\n1. Hyperkalemia\\n2. End stage renal disease\\n3. Hypertensive chronic kidney disease with stage 5 chronic kidney disease or end stage renal disease\\n4. Thrombosis due to vascular prosthetic devices, implants, and grafts\\n5. Type 1 diabetes mellitus with diabetic nephropathy\\n6. Long term use of insulin\\n7. Dependence on renal dialysis\\n8. Type 1 diabetes mellitus with diabetic neuropathy, unspecified\\n9. Type 1 diabetes mellitus with unspecified diabetic retinopathy without macular edema\\n10. Bipolar disorder, unspecified\\n11. Chronic obstructive pulmonary disease, unspecified\\n12. Hyperparathyroidism, unspecified\\n13. Type 1 diabetes mellitus with hyperglycemia\\n14. Other medical procedures as the cause of abnormal reaction of the patient, or of later complication, without mention of misadventure at the time of the procedure\\n15. Unspecified place or not applicable in order of importance to this admission.\\n\\nPlan:\\nThe patient\\'s complex medical condition requires close monitoring and management. The treatment plan includes continuing hemodialysis as needed, adjusting medications to control blood pressure and blood sugar levels, assessing for and managing any potential complications related to the patient\\'s chronic conditions, and addressing any acute concerns as they arise. Close collaboration with the nephrology, endocrinology, and psychiatry departments will be vital for optimal management of the patient\\'s multiple comorbidities. The patient\\'s family and social support system will also be involved in the care plan. Regular follow-up will be arranged to track the patient\\'s progress and address any arising issues.\\n-------------\\n'}]\n"
     ]
    }
   ],
   "source": [
    "messages = [{\"role\":\"system\",\"content\":prompts.loc[prompts['prompt_name'] == \"bhc_system_message\", \"prompt\"].squeeze()}]\n",
    "\n",
    "gpt_bhc_prompt = {\"role\":\"user\",\n",
    "                 \"content\":bhc_prompt_nshot}\n",
    "\n",
    "messages.append(gpt_bhc_prompt)\n",
    "\n",
    "print(f\"Brief Hospital Course N-shot Prompt: {messages}\")"
   ]
  },
  {
   "cell_type": "code",
   "execution_count": 142,
   "id": "dc406513-ca39-4918-a8ef-b789a5c02950",
   "metadata": {},
   "outputs": [],
   "source": [
    "nshot_completion = completion_with_backoff(engine=engine,\n",
    "                        messages=message_text,\n",
    "                        )\n"
   ]
  },
  {
   "cell_type": "code",
   "execution_count": 143,
   "id": "1b656d1f-0aa9-4944-97f6-3cfcef7ff029",
   "metadata": {},
   "outputs": [
    {
     "name": "stdout",
     "output_type": "stream",
     "text": [
      "Certainly. Below is an example of how one might construct a brief hospital course summary based on a review of a patient's SOAP (Subjective, Objective, Assessment, Plan) notes from their emergency department (ED) admission to discharge:\n",
      "\n",
      "---\n",
      "\n",
      "Patient Name: [Patient's Name]\n",
      "MRN: [Medical Record Number]\n",
      "Admission Date: [Admission Date]\n",
      "Discharge Date: [Discharge Date]\n",
      "\n",
      "**Hospital Course Summary:**\n",
      "\n",
      "**ED Presentation:**\n",
      "Subjective: Pt presented to the ED with complaints of acute onset of chest pain, shortness of breath, and diaphoresis starting approximately 2 hours prior to arrival.\n",
      "\n",
      "Objective: Initial vitals showed BP 160/90, HR 110, O2 sat 90% on room air. ECG demonstrated ST elevations in anterior leads. Troponin level was elevated.\n",
      "\n",
      "Assessment: Acute ST-Elevation Myocardial Infarction (STEMI).\n",
      "\n",
      "Plan: Pt was given aspirin, nitroglycerin, and started on a heparin drip. Emergent cardiac catheterization was performed revealing significant LAD blockage which was successfully stented.\n",
      "\n",
      "**Hospital Course:**\n",
      "- Following catheterization, pt was admitted to the CCU for monitoring. Beta-blockers and statins were started. Vitals remained stable, and telemetry was without significant arrhythmias.\n",
      "- Over the hospital stay, chest pain resolved, and dyspnea improved.\n",
      "- Pt was transitioned to oral antiplatelet therapy, and heart failure education was provided.\n",
      "- Echocardiogram showed EF of 45% with some apical hypokinesis.\n",
      "- Pt was started on ACE inhibitor for LV systolic dysfunction.\n",
      "\n",
      "**Discharge Course:**\n",
      "Subjective: On the day of discharge, pt reported significant improvement in symptoms, with no chest pain or shortness of breath. Pt expressed understanding of discharge instructions and follow-up care.\n",
      "  \n",
      "Objective: Vitals at discharge: BP 130/80, HR 80, O2 sat 98% on room air. \n",
      "     \n",
      "Assessment: Pt has recovered well from STEMI with no complications during hospitalization. Discharged in stable condition with plans for outpatient follow-up and cardiac rehabilitation.\n",
      "\n",
      "Plan: Pt discharged on aspirin, beta-blocker, statin, ACE inhibitor, and P2Y12 inhibitor. Lifestyle modifications were advised, including a low-sodium diet, smoking cessation, and regular exercise as tolerated. Outpatient follow-up with cardiology in 1 week and primary care physician in 2 weeks. \n",
      "\n",
      "---\n",
      "\n",
      "This summary synthesizes information from the SOAP notes into a coherent narrative of the patient's journey from admission to discharge. It highlights key elements of the patient's care and the status at the time of each transition, providing a clear, concise, and chronological account of the hospitalization. The summary also ensures that the essential details for appropriate outpatient follow-up and continued care are captured.\n"
     ]
    }
   ],
   "source": [
    "n_shot_output = nshot_completion['choices'][0]['message']['content']; print(n_shot_output)"
   ]
  },
  {
   "cell_type": "code",
   "execution_count": 144,
   "id": "ce60e820-6d53-4148-8107-df324b2b6da8",
   "metadata": {},
   "outputs": [
    {
     "data": {
      "text/plain": [
       "\"Certainly. Below is an example of how one might construct a brief hospital course summary based on a review of a patient's SOAP (Subjective, Objective, Assessment, Plan) notes from their emergency department (ED) admission to discharge:\\n\\n---\\n\\nPatient Name: [Patient's Name]\\nMRN: [Medical Record Number]\\nAdmission Date: [Admission Date]\\nDischarge Date: [Discharge Date]\\n\\n**Hospital Course Summary:**\\n\\n**ED Presentation:**\\nSubjective: Pt presented to the ED with complaints of acute onset of chest pain, shortness of breath, and diaphoresis starting approximately 2 hours prior to arrival.\\n\\nObjective: Initial vitals showed BP 160/90, HR 110, O2 sat 90% on room air. ECG demonstrated ST elevations in anterior leads. Troponin level was elevated.\\n\\nAssessment: Acute ST-Elevation Myocardial Infarction (STEMI).\\n\\nPlan: Pt was given aspirin, nitroglycerin, and started on a heparin drip. Emergent cardiac catheterization was performed revealing significant LAD blockage which was successfully stented.\\n\\n**Hospital Course:**\\n- Following catheterization, pt was admitted to the CCU for monitoring. Beta-blockers and statins were started. Vitals remained stable, and telemetry was without significant arrhythmias.\\n- Over the hospital stay, chest pain resolved, and dyspnea improved.\\n- Pt was transitioned to oral antiplatelet therapy, and heart failure education was provided.\\n- Echocardiogram showed EF of 45% with some apical hypokinesis.\\n- Pt was started on ACE inhibitor for LV systolic dysfunction.\\n\\n**Discharge Course:**\\nSubjective: On the day of discharge, pt reported significant improvement in symptoms, with no chest pain or shortness of breath. Pt expressed understanding of discharge instructions and follow-up care.\\n  \\nObjective: Vitals at discharge: BP 130/80, HR 80, O2 sat 98% on room air. \\n     \\nAssessment: Pt has recovered well from STEMI with no complications during hospitalization. Discharged in stable condition with plans for outpatient follow-up and cardiac rehabilitation.\\n\\nPlan: Pt discharged on aspirin, beta-blocker, statin, ACE inhibitor, and P2Y12 inhibitor. Lifestyle modifications were advised, including a low-sodium diet, smoking cessation, and regular exercise as tolerated. Outpatient follow-up with cardiology in 1 week and primary care physician in 2 weeks. \\n\\n---\\n\\nThis summary synthesizes information from the SOAP notes into a coherent narrative of the patient's journey from admission to discharge. It highlights key elements of the patient's care and the status at the time of each transition, providing a clear, concise, and chronological account of the hospitalization. The summary also ensures that the essential details for appropriate outpatient follow-up and continued care are captured.\""
      ]
     },
     "execution_count": 144,
     "metadata": {},
     "output_type": "execute_result"
    }
   ],
   "source": [
    "n_shot_output"
   ]
  },
  {
   "cell_type": "markdown",
   "id": "ac88b501-d6eb-4c58-a0d4-e97f1fe33622",
   "metadata": {},
   "source": [
    "## Compute ROUGE Scores from Output"
   ]
  },
  {
   "cell_type": "code",
   "execution_count": 145,
   "id": "36137dc3-70e3-40a1-883d-a31a0cb4b554",
   "metadata": {},
   "outputs": [],
   "source": [
    "from rouge_score import rouge_scorer\n"
   ]
  },
  {
   "cell_type": "code",
   "execution_count": 146,
   "id": "674658ea-de27-4346-a59d-1f2c92a92016",
   "metadata": {
    "scrolled": true
   },
   "outputs": [],
   "source": [
    "# discharges[discharges['hadm_id'] == soap_notes.iloc[0]['hadm_id']].squeeze()\n",
    "pt_target = targets[targets['hadm_id'] == soap_notes.iloc[0]['hadm_id']]['brief_hospital_course'].squeeze()"
   ]
  },
  {
   "cell_type": "code",
   "execution_count": 147,
   "id": "d65c1e48-46a2-4cca-adc0-efdeb9cd4030",
   "metadata": {},
   "outputs": [],
   "source": [
    "scorer = rouge_scorer.RougeScorer(['rouge1',  \"rouge2\", 'rougeL'], use_stemmer=True)\n",
    "scores1 = scorer.score(zero_shot_output,\n",
    "                      pt_target)"
   ]
  },
  {
   "cell_type": "code",
   "execution_count": 148,
   "id": "7473d3f6-43dd-4484-ad80-1a3b37f12cfb",
   "metadata": {},
   "outputs": [
    {
     "data": {
      "text/plain": [
       "{'rouge1': Score(precision=0.3380952380952381, recall=0.2508833922261484, fmeasure=0.2880324543610548),\n",
       " 'rouge2': Score(precision=0.02386634844868735, recall=0.017699115044247787, fmeasure=0.020325203252032523),\n",
       " 'rougeL': Score(precision=0.14523809523809525, recall=0.10777385159010601, fmeasure=0.12373225152129817)}"
      ]
     },
     "execution_count": 148,
     "metadata": {},
     "output_type": "execute_result"
    }
   ],
   "source": [
    "scores1"
   ]
  },
  {
   "cell_type": "code",
   "execution_count": 149,
   "id": "5a182e0a-0606-4004-8785-4f9ecbd8938f",
   "metadata": {},
   "outputs": [],
   "source": [
    "scorer = rouge_scorer.RougeScorer(['rouge1', \"rouge2\", 'rougeL'], use_stemmer=True)\n",
    "scores2 = scorer.score(n_shot_output,\n",
    "                      pt_target)"
   ]
  },
  {
   "cell_type": "code",
   "execution_count": 150,
   "id": "cfb17644-e6e4-4edc-80b0-5eb81d96ca5b",
   "metadata": {},
   "outputs": [
    {
     "data": {
      "text/plain": [
       "{'rouge1': Score(precision=0.30714285714285716, recall=0.3265822784810127, fmeasure=0.31656441717791417),\n",
       " 'rouge2': Score(precision=0.045346062052505964, recall=0.048223350253807105, fmeasure=0.046740467404674045),\n",
       " 'rougeL': Score(precision=0.11904761904761904, recall=0.12658227848101267, fmeasure=0.12269938650306748)}"
      ]
     },
     "execution_count": 150,
     "metadata": {},
     "output_type": "execute_result"
    }
   ],
   "source": [
    "scores2"
   ]
  },
  {
   "cell_type": "markdown",
   "id": "f8134c08-e32d-4167-b0ae-14e80f4b0d0c",
   "metadata": {},
   "source": [
    "# Qualitative Eval"
   ]
  },
  {
   "cell_type": "markdown",
   "id": "065d01ec-e29a-4f08-9ead-1dacccc1f534",
   "metadata": {},
   "source": [
    "## Final outputs\n"
   ]
  },
  {
   "cell_type": "code",
   "execution_count": null,
   "id": "3899f8eb-d458-4a95-8b4c-ebb170e0c30f",
   "metadata": {},
   "outputs": [],
   "source": [
    "pd.DataFrame.from_records([scores1, scores2], index=[\"zero-shot\", \"one-shot\"]).to_csv(output3)"
   ]
  },
  {
   "cell_type": "code",
   "execution_count": null,
   "id": "4bace2cf-7497-4a42-b05f-1fcde9c4c792",
   "metadata": {},
   "outputs": [],
   "source": [
    "eval = pd.Series([one_shot_output, zero_shot_output, pt_target], index=[\"gpt-one-shot\", \"gpt-zero-shot\", \"gold-standard\"])"
   ]
  },
  {
   "cell_type": "code",
   "execution_count": null,
   "id": "12668570-cd82-4aa8-b5d9-d35efd9c735b",
   "metadata": {},
   "outputs": [],
   "source": [
    "def add_line_breaks(text):\n",
    "    return text.replace(r'\\n', r'<br>')"
   ]
  },
  {
   "cell_type": "code",
   "execution_count": null,
   "id": "f6e03b4a-afcf-46b3-9044-45dc9ec0d581",
   "metadata": {},
   "outputs": [],
   "source": [
    "output_str = eval.to_frame().to_html(escape=False).replace(r\"\\n\",\"<br>\")\n",
    "with open(output2, 'w') as file:\n",
    "    file.write(output_str)\n",
    "    \n"
   ]
  },
  {
   "cell_type": "code",
   "execution_count": null,
   "id": "5d674128-e36b-4caf-a422-e5a2d6663101",
   "metadata": {},
   "outputs": [],
   "source": [
    "print(one_shot_output)"
   ]
  },
  {
   "cell_type": "code",
   "execution_count": null,
   "id": "7f8ca5fc-3cf1-4f7f-b0d5-b1c2b43956c1",
   "metadata": {},
   "outputs": [],
   "source": [
    "print(zero_shot_output)"
   ]
  },
  {
   "cell_type": "code",
   "execution_count": null,
   "id": "872e3591-d11c-43c2-af6f-e5d0b2c05599",
   "metadata": {},
   "outputs": [],
   "source": [
    "print(pt_target)"
   ]
  },
  {
   "cell_type": "markdown",
   "id": "35653a78-3baf-4a67-9de1-a95f08a4ad0d",
   "metadata": {},
   "source": [
    "## SOAP Notes"
   ]
  },
  {
   "cell_type": "code",
   "execution_count": null,
   "id": "c17897ed-8dde-4da1-978b-d813eecaff9c",
   "metadata": {
    "scrolled": true
   },
   "outputs": [],
   "source": [
    "print(\"\\n----------------------------------------------------------------------\\n\")\n",
    "print(soap_notes['gpt_SOAP_note'].tolist()[0])\n",
    "print(\"\\n----------------------------------------------------------------------\\n\")\n",
    "print(soap_notes['gpt_SOAP_note'].tolist()[1])"
   ]
  },
  {
   "cell_type": "markdown",
   "id": "01bae5ba-cfeb-447a-8ebd-73b7a9223367",
   "metadata": {},
   "source": [
    "## Full Discharge Summary"
   ]
  },
  {
   "cell_type": "code",
   "execution_count": null,
   "id": "c49f332b-eb9c-4ed1-b02e-1670979fa3be",
   "metadata": {
    "scrolled": true
   },
   "outputs": [],
   "source": [
    "print(discharges[discharges['hadm_id'] == soap_notes.iloc[0]['hadm_id']]['text'].squeeze())"
   ]
  },
  {
   "cell_type": "code",
   "execution_count": null,
   "id": "c9a464bd-3579-4743-b76a-fff02d7ad6d9",
   "metadata": {},
   "outputs": [],
   "source": []
  }
 ],
 "metadata": {
  "kernelspec": {
   "display_name": "Python 3 (ipykernel)",
   "language": "python",
   "name": "python3"
  },
  "language_info": {
   "codemirror_mode": {
    "name": "ipython",
    "version": 3
   },
   "file_extension": ".py",
   "mimetype": "text/x-python",
   "name": "python",
   "nbconvert_exporter": "python",
   "pygments_lexer": "ipython3",
   "version": "3.10.13"
  },
  "widgets": {
   "application/vnd.jupyter.widget-state+json": {
    "state": {},
    "version_major": 2,
    "version_minor": 0
   }
  }
 },
 "nbformat": 4,
 "nbformat_minor": 5
}
