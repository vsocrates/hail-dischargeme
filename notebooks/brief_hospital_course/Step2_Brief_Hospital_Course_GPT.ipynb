{
 "cells": [
  {
   "cell_type": "code",
   "execution_count": 3,
   "id": "3faddad8-6798-41ab-b0b4-95b795bb591b",
   "metadata": {
    "editable": true,
    "slideshow": {
     "slide_type": ""
    },
    "tags": [
     "parameters"
    ]
   },
   "outputs": [],
   "source": [
    "N = 2\n",
    "output = f\"sample_output{N}.csv\"\n",
    "output2 = f\"eval{N}.html\"\n",
    "output3 = f\"scores{N}.csv\"\n"
   ]
  },
  {
   "cell_type": "markdown",
   "id": "8201b927-ffb6-4ec5-9e7c-6ce39b89804f",
   "metadata": {
    "editable": true,
    "slideshow": {
     "slide_type": ""
    },
    "tags": []
   },
   "source": [
    "# Brief Hospital Course Generation\n",
    "\n",
    "This notebook performs step 2 of the Brief Hospital Course pipeline, in which we generate a brief hospital course from a set of service-level SOAP notes passed into a GPT-3.5 model. "
   ]
  },
  {
   "cell_type": "code",
   "execution_count": 4,
   "id": "47f4516e-b3cb-4179-982e-f783e7cc1514",
   "metadata": {},
   "outputs": [],
   "source": [
    "import pandas as pd\n",
    "import ast\n",
    "import numpy as np\n",
    "\n",
    "from tqdm import tqdm\n",
    "# from tqdm.auto import tqdm  # for notebooks\n",
    "tqdm.pandas()\n",
    "\n",
    "import os\n",
    "import openai"
   ]
  },
  {
   "cell_type": "code",
   "execution_count": 5,
   "id": "a3beef81-0897-454d-ba25-bff5bb47fa3e",
   "metadata": {},
   "outputs": [
    {
     "data": {
      "text/plain": [
       "True"
      ]
     },
     "execution_count": 5,
     "metadata": {},
     "output_type": "execute_result"
    }
   ],
   "source": [
    "from dotenv import load_dotenv\n",
    "load_dotenv()  # take environment variables from .env."
   ]
  },
  {
   "cell_type": "markdown",
   "id": "b0c5da71-ea5e-499d-89ed-510541e2f6d8",
   "metadata": {},
   "source": [
    "## Read in GPT-Generated SOAP Notes"
   ]
  },
  {
   "cell_type": "code",
   "execution_count": 6,
   "id": "e2823bcb-3e33-4e9c-90e8-b2388b8c652c",
   "metadata": {},
   "outputs": [],
   "source": [
    "soap_notes = pd.read_csv(output)"
   ]
  },
  {
   "cell_type": "markdown",
   "id": "3bed84bf-c057-48f3-82e9-aa4ca381ce39",
   "metadata": {},
   "source": [
    "## Read in Radiology Reports"
   ]
  },
  {
   "cell_type": "code",
   "execution_count": 7,
   "id": "e61e5e2e-abb1-4c55-8ad4-3a021195ac56",
   "metadata": {},
   "outputs": [],
   "source": [
    "radiology = pd.read_csv(\"/gpfs/milgram/project/rtaylor/shared/DischargeMe/public/train/radiology.csv.gz\")"
   ]
  },
  {
   "cell_type": "markdown",
   "id": "c2754157-fa3a-448b-9f8e-79b42c5b94dd",
   "metadata": {},
   "source": [
    "## Read in Encounter-Level Structured Data"
   ]
  },
  {
   "cell_type": "code",
   "execution_count": 8,
   "id": "f3d29f00-43fb-4b8a-bfac-dc45246dd6c3",
   "metadata": {},
   "outputs": [],
   "source": [
    "# discharge summaries\n",
    "discharges = pd.read_csv(\"/gpfs/milgram/project/rtaylor/shared/DischargeMe/public/train/discharge.csv.gz\")\n",
    "\n",
    "# ed stays\n",
    "edstays = pd.read_csv('/gpfs/milgram/project/rtaylor/shared/DischargeMe/public/train/edstays.csv.gz')\n",
    "\n",
    "# triage\n",
    "triage = pd.read_csv('/gpfs/milgram/project/rtaylor/shared/DischargeMe/public/train/triage.csv.gz')\n",
    "\n",
    "# ward transfers\n",
    "transfers = pd.read_csv('/gpfs/milgram/project/rtaylor/shared/DischargeMe/mimiciv/hosp/transfers.csv.gz')\n",
    "\n",
    "# higher-level services (ICU, CARD, etc)\n",
    "services = pd.read_csv('/gpfs/milgram/project/rtaylor/shared/DischargeMe/mimiciv/hosp/services.csv.gz')\n",
    "\n",
    "# get patient info\n",
    "pts = pd.read_csv('/gpfs/milgram/project/rtaylor/shared/DischargeMe/mimiciv/hosp/patients.csv.gz')\n",
    "\n",
    "# admission demographics\n",
    "admissions = pd.read_csv('/gpfs/milgram/project/rtaylor/shared/DischargeMe/mimiciv/hosp/admissions.csv.gz')"
   ]
  },
  {
   "cell_type": "code",
   "execution_count": 9,
   "id": "5c888685-988c-4897-b34f-6ef21d677dca",
   "metadata": {},
   "outputs": [],
   "source": [
    "\n",
    "# diagnoses\n",
    "diags = pd.read_csv('/gpfs/milgram/project/rtaylor/shared/DischargeMe/mimiciv/hosp/diagnoses_icd.csv.gz')\n",
    "diags_icd = pd.read_csv('/gpfs/milgram/project/rtaylor/shared/DischargeMe/mimiciv/hosp/d_icd_diagnoses.csv.gz')\n"
   ]
  },
  {
   "cell_type": "code",
   "execution_count": 10,
   "id": "a6305b70-cece-4af7-b895-c53ef387a8b3",
   "metadata": {},
   "outputs": [],
   "source": [
    "# drop any potential repeats\n",
    "diags_icd = diags_icd.groupby([\"icd_code\", \"icd_version\"]).first().reset_index()\n",
    "\n",
    "# grab long_titles for procs/diags\n",
    "\n",
    "diags = diags.merge(diags_icd, on=[\"icd_code\", \"icd_version\"], how=\"left\")"
   ]
  },
  {
   "cell_type": "code",
   "execution_count": null,
   "id": "f2f7ffad-ff89-4874-bcfa-c28c0215bec9",
   "metadata": {},
   "outputs": [],
   "source": []
  },
  {
   "cell_type": "markdown",
   "id": "634a8b4d-3160-448b-b438-98dc96af4335",
   "metadata": {},
   "source": [
    "### Clean up/type cast data"
   ]
  },
  {
   "cell_type": "code",
   "execution_count": 11,
   "id": "f9f637d2-fb88-4f4e-91ec-5ce68edba838",
   "metadata": {},
   "outputs": [],
   "source": [
    "discharges = discharges.astype({\"charttime\":\"datetime64[ns]\",\n",
    "                               \"storetime\":\"datetime64[ns]\"})"
   ]
  },
  {
   "cell_type": "markdown",
   "id": "8f773b89-0263-416c-93a5-98c59087637b",
   "metadata": {},
   "source": [
    "## Generate SOAP Note List Prompt"
   ]
  },
  {
   "cell_type": "code",
   "execution_count": 15,
   "id": "907c48c1-0bc6-42ba-8cc7-3b85888f9278",
   "metadata": {},
   "outputs": [
    {
     "data": {
      "text/html": [
       "<div>\n",
       "<style scoped>\n",
       "    .dataframe tbody tr th:only-of-type {\n",
       "        vertical-align: middle;\n",
       "    }\n",
       "\n",
       "    .dataframe tbody tr th {\n",
       "        vertical-align: top;\n",
       "    }\n",
       "\n",
       "    .dataframe thead th {\n",
       "        text-align: right;\n",
       "    }\n",
       "</style>\n",
       "<table border=\"1\" class=\"dataframe\">\n",
       "  <thead>\n",
       "    <tr style=\"text-align: right;\">\n",
       "      <th></th>\n",
       "      <th>Unnamed: 0</th>\n",
       "      <th>subject_id</th>\n",
       "      <th>hadm_id</th>\n",
       "      <th>transfer_id</th>\n",
       "      <th>eventtype</th>\n",
       "      <th>careunit</th>\n",
       "      <th>intime</th>\n",
       "      <th>outtime</th>\n",
       "      <th>service_prompts</th>\n",
       "      <th>gpt_SOAP_note</th>\n",
       "    </tr>\n",
       "  </thead>\n",
       "  <tbody>\n",
       "    <tr>\n",
       "      <th>0</th>\n",
       "      <td>1876400</td>\n",
       "      <td>19921471</td>\n",
       "      <td>26949917.0</td>\n",
       "      <td>37663439</td>\n",
       "      <td>ED</td>\n",
       "      <td>Emergency Department</td>\n",
       "      <td>2153-09-18 21:58:00</td>\n",
       "      <td>2153-09-19 03:32:00</td>\n",
       "      <td>___ is a 62 year old M that initially presente...</td>\n",
       "      <td>S: The patient, a 62-year-old male, presented ...</td>\n",
       "    </tr>\n",
       "    <tr>\n",
       "      <th>1</th>\n",
       "      <td>1876399</td>\n",
       "      <td>19921471</td>\n",
       "      <td>26949917.0</td>\n",
       "      <td>31958057</td>\n",
       "      <td>admit</td>\n",
       "      <td>Medicine</td>\n",
       "      <td>2153-09-19 03:32:00</td>\n",
       "      <td>2153-09-19 20:39:55</td>\n",
       "      <td>___ is a 62 year old M that initially presente...</td>\n",
       "      <td>Subjective:\\nMr. ___, a 62-year-old male, was ...</td>\n",
       "    </tr>\n",
       "    <tr>\n",
       "      <th>2</th>\n",
       "      <td>1876402</td>\n",
       "      <td>19921471</td>\n",
       "      <td>26949917.0</td>\n",
       "      <td>38441125</td>\n",
       "      <td>transfer</td>\n",
       "      <td>Medicine</td>\n",
       "      <td>2153-09-19 20:39:55</td>\n",
       "      <td>2153-09-20 13:05:42</td>\n",
       "      <td>___ is a 62 year old M that initially presente...</td>\n",
       "      <td>Subjective:\\nThe patient, ___ presented to the...</td>\n",
       "    </tr>\n",
       "  </tbody>\n",
       "</table>\n",
       "</div>"
      ],
      "text/plain": [
       "   Unnamed: 0  subject_id     hadm_id  transfer_id eventtype  \\\n",
       "0     1876400    19921471  26949917.0     37663439        ED   \n",
       "1     1876399    19921471  26949917.0     31958057     admit   \n",
       "2     1876402    19921471  26949917.0     38441125  transfer   \n",
       "\n",
       "               careunit               intime              outtime  \\\n",
       "0  Emergency Department  2153-09-18 21:58:00  2153-09-19 03:32:00   \n",
       "1              Medicine  2153-09-19 03:32:00  2153-09-19 20:39:55   \n",
       "2              Medicine  2153-09-19 20:39:55  2153-09-20 13:05:42   \n",
       "\n",
       "                                     service_prompts  \\\n",
       "0  ___ is a 62 year old M that initially presente...   \n",
       "1  ___ is a 62 year old M that initially presente...   \n",
       "2  ___ is a 62 year old M that initially presente...   \n",
       "\n",
       "                                       gpt_SOAP_note  \n",
       "0  S: The patient, a 62-year-old male, presented ...  \n",
       "1  Subjective:\\nMr. ___, a 62-year-old male, was ...  \n",
       "2  Subjective:\\nThe patient, ___ presented to the...  "
      ]
     },
     "execution_count": 15,
     "metadata": {},
     "output_type": "execute_result"
    }
   ],
   "source": [
    "soap_notes"
   ]
  },
  {
   "cell_type": "code",
   "execution_count": 16,
   "id": "a7c63942-3741-43db-ab8e-51e5b93250ec",
   "metadata": {},
   "outputs": [
    {
     "data": {
      "text/plain": [
       "note_id                                          19921471-DS-40\n",
       "subject_id                                             19921471\n",
       "hadm_id                                                26949917\n",
       "note_type                                                    DS\n",
       "note_seq                                                     40\n",
       "charttime                                   2153-09-20 00:00:00\n",
       "storetime                                   2153-09-20 13:16:00\n",
       "text           \\nName:  ___                   Unit No:   ___...\n",
       "Name: 71296, dtype: object"
      ]
     },
     "execution_count": 16,
     "metadata": {},
     "output_type": "execute_result"
    }
   ],
   "source": [
    "discharges[discharges['hadm_id'] == soap_notes.iloc[0]['hadm_id']].squeeze()"
   ]
  },
  {
   "cell_type": "code",
   "execution_count": null,
   "id": "1fe99987-5060-4aa5-b9c0-762d9e6a9de3",
   "metadata": {},
   "outputs": [],
   "source": [
    "def create_pt_prompt(discharge_row, shots=None):\n",
    "    '''Loop over the discharge instructions file in the challenge data. We include any additional examples we might want to include using the `shots` variable. \n",
    "    '''\n",
    "\n",
    "    pt_edstays = edstays[edstays['hadm_id'] == discharge_row['hadm_id']]\n",
    "\n",
    "    demos = get_demos(discharge_row['subject_id'])\n",
    "    if demos.empty:\n",
    "        age = r\"[UNKNOWN AGE]\"\n",
    "        sex = r\"[UNKNOWN SEX]\"\n",
    "    else:\n",
    "        age = demos['anchor_age']\n",
    "        sex = demos['gender']\n",
    "\n",
    "    ccs = []\n",
    "    for stay_id in pt_edstays['stay_id'].tolist():\n",
    "        # TODO: Drop in Triage Vitals/Pain Scale, etc. Currently only using CCs\n",
    "        triage_info = get_triage_info(stay_id)\n",
    "        ccs.append(triage_info['chiefcomplaint'].squeeze())\n",
    "        \n",
    "    chief_complaints = \", \".join(ccs)    \n",
    "    \n",
    "    if sex:\n",
    "        pronoun = [\"he\",\"his\"] if sex == \"M\" else ['she',\"her\"]\n",
    "    else:\n",
    "        pronoun = [\"they\", \"their\"]\n",
    "\n",
    "    transfers = get_transfers(discharge_row['hadm_id'])\n",
    "    transfers = transfers[~transfers['careunit'].isna()]\n",
    "    careunits = transfers['careunit'].tolist()\n",
    "    \n",
    "    # transfers with dates\n",
    "    tranfers = get_transfers(discharge_row['hadm_id'])\n",
    "    diags = get_diags(discharge_row['hadm_id'])\n",
    "\n",
    "    # get GPT-created SOAP Notes\n",
    "    soap_notes = get_soap_notes(discharge_row['hadm_id'])\n",
    "    # get radiology reports\n",
    "    radiology_reps = get_radiology_reports(discharge_row['hadm_id'])\n",
    "\n",
    "    if shots:\n",
    "        prompt = f\"___ is a {age} year old {sex} presenting to the ED with {chief_complaints}. Over the course of {pronoun[1]} hospital course, ___ started at {careunits[0]} and then visited {', '.join(careunits[1:])}. Over the course of their hospital stay, {pronoun[0]} was given the following diagnoses: {', '.join(diags['long_title'])} in order of importance to this admission.\\n----------------------------------------------------The patient received the following radiology consult reports:{'----------------'.join(radiology_reps['text'].tolist())}.\\n----------------------------------------------------Please use the following SOAP notes from the patient's complete hospital course to create a brief hospital course summary. Break down the hospital course summary by condition starting with a #: {'----------------'.join(soap_notes['gpt_SOAP_note'].tolist())}\"\n",
    "        \n",
    "    else:\n",
    "        # only support one shot right now\n",
    "        prompt = f\"___ is a {age} year old {sex} presenting to the ED with {chief_complaints}. Over the course of {pronoun[1]} hospital course, ___ started at {careunits[0]} and then visited {', '.join(careunits[1:])}. Over the course of their hospital stay, {pronoun[0]} was given the following diagnoses: {', '.join(diags['long_title'])} in order of importance to this admission.\\n----------------------------------------------------The patient received the following radiology consult reports:{'----------------'.join(radiology_reps['text'].tolist())}.\\n----------------------------------------------------Please use the following SOAP notes from the patient's complete hospital course to create a brief hospital course summary. Break down the hospital course summary by condition starting with a #: {'----------------'.join(soap_notes['gpt_SOAP_note'].tolist())} Use the following brief hospital course as an example: {shots[0]}\"\n",
    "    \n",
    "    return prompt\n",
    "    "
   ]
  },
  {
   "cell_type": "code",
   "execution_count": 17,
   "id": "905736ec-2cb7-4d8d-b2da-291ddeedf7f2",
   "metadata": {},
   "outputs": [],
   "source": [
    "bhc_prompt = create_pt_prompt(discharges[discharges['hadm_id'] == soap_notes.iloc[0]['hadm_id']].squeeze())"
   ]
  },
  {
   "cell_type": "markdown",
   "id": "75bc770f-6381-460c-ac06-d72074822ce8",
   "metadata": {},
   "source": [
    "## Create SOAP notes from GPT API (0-shot)"
   ]
  },
  {
   "cell_type": "code",
   "execution_count": 18,
   "id": "245df893-0d7a-47d1-9c7c-11cdfee44a6e",
   "metadata": {},
   "outputs": [],
   "source": [
    "import openai\n",
    "openai.api_type = \"azure\"\n",
    "openai.api_base = os.getenv(\"OPENAI_API_BASE\")\n",
    "openai.api_version = \"2023-07-01-preview\"\n",
    "openai.api_key = os.getenv(\"OPENAI_API_KEY\")\n",
    "# engine = \"decile-gpt-35-turbo-16k\"\n",
    "engine = \"decile-gpt-4-128K\"\n"
   ]
  },
  {
   "cell_type": "code",
   "execution_count": 19,
   "id": "ccda464c-45c5-486c-812c-5c1e54b35de0",
   "metadata": {
    "scrolled": true
   },
   "outputs": [
    {
     "name": "stdout",
     "output_type": "stream",
     "text": [
      "Brief Hospital Course Prompt: [{'role': 'system', 'content': \"You are the discharging physician that is reviewing a patient's SOAP notes over their hospital course, starting in the ED and being discharged from your unit and writing a brief hospital course summary based on this information. Begin with a brief overview of the patient's demographics, ED chief complaint, and past medical history. Then, write your hospital course summary by condition starting with a #: \"}, {'role': 'user', 'content': \"___ is a 62 year old M presenting to the ED with R Flank pain. Over the course of his hospital course, ___ started at Emergency Department and then visited Medicine, Medicine. Over the course of their hospital stay, he was given the following diagnoses: Infection and inflammatory reaction due to other urinary catheter, initial encounter, Sepsis, unspecified organism, Secondary malignant neoplasm of bladder, Type 2 diabetes mellitus without complications, Chronic obstructive pulmonary disease, unspecified, Urinary tract infection, site not specified, Unspecified medical devices associated with adverse incidents, Unspecified place in unspecified non-institutional (private) residence as the place of occurrence of the external cause, Hyperlipidemia, unspecified, Essential (primary) hypertension, Atherosclerotic heart disease of native coronary artery without angina pectoris, Personal history of other malignant neoplasm of kidney, Benign prostatic hyperplasia without lower urinary tract symptoms, Gastro-esophageal reflux disease without esophagitis, Personal history of nicotine dependence, Major depressive disorder, single episode, unspecified, Other chronic pain in order of importance to this admission.----------------------------------------------------The patient received the following radiology consult reports:EXAMINATION:\\nChest:  Frontal and lateral views\\n\\nINDICATION:  History: ___ with kidney cancer, productive cough// eval for pna\\n\\nTECHNIQUE:  Chest:  Frontal and Lateral\\n\\nCOMPARISON:  Chest radiograph ___\\n\\nFINDINGS: \\n\\nAgain noted are severe emphysematous changes and chronic scarring, unchanged\\nsince the prior study.  Hyperinflation of the right hemithorax is unchanged.No\\nfocal consolidation is seen.  No pleural effusion or pneumothorax is seen. \\nRightward mediastinal shift is unchanged.\\n\\nIMPRESSION: \\n\\nNo acute cardiopulmonary process.\\n----------------INDICATION:  History: ___ with flank pain, UTI// Flank pain, UTI\\n\\nTECHNIQUE:  Multidetector CT images of the abdomen and pelvis were acquired\\nwithout intravenous contrast. Non-contrast scan has several limitations in\\ndetecting vascular and parenchymal organ abnormalities, including tumor\\ndetection.\\nOral contrast was not administered.\\nCoronal and sagittal reformations were performed and reviewed on PACS.\\n\\nDOSE:  Acquisition sequence:\\n   1) Spiral Acquisition 6.6 s, 52.1 cm; CTDIvol = 13.5 mGy (Body) DLP = 704.9\\nmGy-cm.\\n Total DLP (Body) = 705 mGy-cm.\\n\\nCOMPARISON:  CT abdomen and pelvis ___\\n\\nFINDINGS: \\n\\nLOWER CHEST: Again seen are severe emphysematous changes in the lung bases.  A\\n3 mm nodule is seen in the right lower lobe (2:3).  There is no evidence of\\npleural or pericardial effusion.\\n\\nABDOMEN:\\n\\nHEPATOBILIARY: The liver demonstrates homogeneous attenuation throughout. \\nThere is no evidence of focal lesions within the limitations of an unenhanced\\nscan.  There is no evidence of intrahepatic or extrahepatic biliary\\ndilatation.  The gallbladder contains gallstones without wall thickening or\\nevidence of inflammation.\\n\\nPANCREAS: The pancreas is atrophic, without evidence of focal lesions within\\nthe limitations of an unenhanced scan.  There is no pancreatic ductal\\ndilatation.  There is no peripancreatic stranding.\\n\\nSPLEEN: The spleen shows normal size and attenuation throughout, without\\nevidence of focal lesions.\\n\\nADRENALS: The right adrenal gland is normal in size and shape.  1.9 cm left\\nadrenal adenoma.\\n\\nURINARY: Patient is status post left nephrectomy.  The right kidney is not\\nenlarged.  Multiple cysts are seen in the right kidney the largest measuring\\n2.8 cm in the lower pole.  There is no hydronephrosis.  A few punctate\\nhyperdensities in the right kidney are compatible with nonobstructing stones. \\nThere is no perinephric abnormality.\\n\\nGASTROINTESTINAL: The stomach is unremarkable.  Small bowel loops demonstrate\\nnormal caliber and wall thickness throughout.  The colon and rectum are within\\nnormal limits.  The appendix is not visualized.\\n\\nPELVIS: The urinary bladder is under distended and contains a Foley catheter. \\nThere is no free fluid in the pelvis.\\n\\nREPRODUCTIVE ORGANS: The prostate is enlarged.\\n\\nLYMPH NODES: There is no retroperitoneal or mesenteric lymphadenopathy.  There\\nis no pelvic or inguinal lymphadenopathy.\\n\\nVASCULAR: There is no abdominal aortic aneurysm.  Mild atherosclerotic disease\\nis noted.\\n\\nBONES: There is no evidence of worrisome osseous lesions or acute fracture.\\n\\nSOFT TISSUES: An umbilical hernia containing fat is noted.  A supraumbilical\\nhernia containing a loop of transverse colon is noted.\\n\\nIMPRESSION:\\n\\n\\n1. No acute abnormality in the abdomen or pelvis.\\n2. Stable left adrenal adenoma.\\n3. 3 mm right lower lobe nodule.\\n For incidentally detected nodules smaller than 6mm in the setting of an\\nincomplete chest CT, no CT follow-up is recommended.\\n.----------------------------------------------------Please use the following SOAP notes from the patient's complete hospital course to create a brief hospital course summary. Break down the hospital course summary by condition starting with a #: S: The patient, a 62-year-old male, presented to the Emergency Department (ED) with complaints of right flank pain. Upon further evaluation and treatment, the following diagnoses were made: Infection and inflammatory reaction due to other urinary catheter, initial encounter, Sepsis, unspecified organism, Secondary malignant neoplasm of bladder, Type 2 diabetes mellitus without complications, Chronic obstructive pulmonary disease, unspecified, Urinary tract infection, site not specified, Unspecified medical devices associated with adverse incidents, Unspecified place in unspecified non-institutional (private) residence as the place of occurrence of the external cause, Hyperlipidemia, unspecified, Essential (primary) hypertension, Atherosclerotic heart disease of native coronary artery without angina pectoris, Personal history of other malignant neoplasm of kidney, Benign prostatic hyperplasia without lower urinary tract symptoms, Gastro-esophageal reflux disease without esophagitis, Personal history of nicotine dependence, Major depressive disorder, single episode, unspecified, and Other chronic pain.\\n\\nO: The patient stayed in the ED ward from 2153-09-18 21:58:00 to 2153-09-19 03:32:00. The following procedure was performed during the patient's stay: Introduction of Oxazolidinones into Peripheral Vein, Percutaneous Approach.\\n\\nSignificant medications administered during the patient's stay in the ED include (list medication names and indications here).\\n\\nLabs were drawn during the patient's stay; however, specifics regarding the results are not provided.\\n\\nA: The patient's complex medical history and comorbidities, including urinary catheter-related infection, sepsis, secondary malignant neoplasm of the bladder, diabetes, COPD, urinary tract infection, adverse incidents associated with medical devices, hyperlipidemia, hypertension, atherosclerotic heart disease, personal history of other malignant neoplasm of kidney, benign prostatic hyperplasia, GERD, personal history of nicotine dependence, major depressive disorder, and chronic pain, were considered during their ED stay.\\n\\nP: The patient received thorough monitoring and supportive care during their stay in the ED. The provision of oxygen and intravenous fluids was ensured. Analgesics were administered to manage the patient's pain. The patient's vital signs were closely monitored and antibiotics were initiated to address their infection. Consultations with appropriate specialists were made to address the multiple medical concerns and coordinate further management.\\n\\nUpon stabilization, the patient was transferred to an appropriate inpatient unit for further evaluation and management of their complex medical conditions. Communication was made with the receiving team to ensure a smooth transition of care.\\n\\nFollow-up appointments were scheduled for the patient with the relevant specialists to address the multidimensional aspects of their healthcare needs. Symptom management, disease control, and appropriate supportive care were emphasized during the patient's stay in the ED.\\n\\nPlease note that the documentation regarding the patient's specific labs, procedures, and medications during their ED stay is unavailable.----------------Subjective:\\nMr. ___, a 62-year-old male, was admitted to the hospital with complaints of right flank pain. He has been diagnosed with multiple conditions including infection and inflammatory reaction due to other urinary catheter, sepsis, secondary malignant neoplasm of bladder, type 2 diabetes mellitus, chronic obstructive pulmonary disease (COPD), urinary tract infection (UTI), unspecified medical devices associated with adverse incidents, hyperlipidemia, essential hypertension, atherosclerotic heart disease, personal history of other malignant neoplasm of kidney, benign prostatic hyperplasia, gastro-esophageal reflux disease (GERD), personal history of nicotine dependence, major depressive disorder, and other chronic pain.\\n\\nObjective:\\nDuring his stay in the Medicine ward, Mr. ___ received various medications. These include Albuterol Inhaler, Senna 8.6 mg Tablet, Heparin 5000 Units / mL- 1mL Vial, Finasteride 5mg Tablet, Linezolid 600mg Tablet, Glucagon 1mg Vial, Aspirin 81mg Tab, Dextrose 50% 25 g / 50 mL Syringe, Insulin 100 Units / mL - 10 mL Vial, Glucose Gel 15 g Tube, Atorvastatin 40mg Tablet, Fluticasone-Salmeterol Diskus (250/50) 250/50mcg Diskus, Sodium Chloride 0.9% Flush 10 mL Syringe, Omeprazole 20mg DR Capsule, Metoprolol Succinate XL 50mg XL Tab, Docusate Sodium 100mg Capsule, Acetaminophen 325mg Tablet, and Tiotropium Bromide 18mcg Capsule-Inhalation Device.\\n\\nVitals:\\nVital signs were stable throughout the hospital stay, with no significant abnormalities noted.\\n\\nLab results:\\nHematology:\\n- Hemoglobin: 10.8 g/dL (low)\\n- Platelet Count: 203 K/uL (normal)\\n- White Blood Cells: 14.3 K/uL (elevated)\\n\\nChemistry:\\n- Hematology Blood Hematocrit: 33.0% (normal)\\n- Hematology Blood MCH: 31.0 pg (normal)\\n- Hematology Blood MCHC: 32.7 g/dL (normal)\\n- Hematology Blood MCV: 95 fL (normal)\\n- Hematology Blood RDW: 16.4% (normal)\\n- Hematology Blood Red Blood Cells: 3.48 m/uL (normal)\\n\\n- Anion Gap: ___ mEq/L (result not available)\\n- Bicarbonate: 26 mEq/L (normal)\\n- Calcium, Total: 9.7 mg/dL (normal)\\n- Chloride: 111 mEq/L (normal)\\n- Creatinine: 1.0 mg/dL (normal)\\n- Glucose: ___ mg/dL (result not available)\\n- Magnesium: 1.7 mg/dL (normal)\\n- Phosphate: 2.9 mg/dL (normal)\\n- Potassium: 4.3 mEq/L (normal)\\n- Sodium: ___ mEq/L (result not available)\\n- Urea Nitrogen: 18 mg/dL (normal)\\n\\nAssessment:\\n1. Infection and inflammatory reaction due to other urinary catheter, initial encounter\\n2. Sepsis, unspecified organism\\n3. Secondary malignant neoplasm of bladder\\n4. Type 2 diabetes mellitus without complications\\n5. Chronic obstructive pulmonary disease, unspecified\\n6. Urinary tract infection, site not specified\\n7. Unspecified medical devices associated with adverse incidents\\n8. Unspecified place in unspecified non-institutional (private) residence as the place of occurrence of the external cause\\n9. Hyperlipidemia, unspecified\\n10. Essential (primary) hypertension\\n11. Atherosclerotic heart disease of native coronary artery without angina pectoris\\n12. Personal history of other malignant neoplasm of kidney\\n13. Benign prostatic hyperplasia without lower urinary tract symptoms\\n14. Gastro-esophageal reflux disease without esophagitis\\n15. Personal history of nicotine dependence\\n16. Major depressive disorder, single episode, unspecified\\n17. Other chronic pain\\n\\nPlan:\\nMr. ___'s management during his stay in the Medicine ward was focused on the treatment of his various conditions. He received appropriate medication therapy for each diagnosis. The specific management plan was tailored to control infections, ensure adequate pain control, optimize glycemic control, manage hypertension, COPD symptoms, and other chronic pain, and monitor the known history of malignancies.\\n\\nThe patient's vital signs remained stable and there were no significant abnormalities noted during his hospital course. The laboratory values showed a low hemoglobin level, which may require monitoring and appropriate intervention. However, the availability of some lab results is pending.\\n\\nThe multidisciplinary approach involved the coordination of care between the medicine team, infectious disease specialists, urologists, endocrinologists, and psychiatrists to address the various conditions and provide comprehensive care. The patient's condition improved during his stay, and he was transferred to the appropriate specialty service for further management.\\n\\nContinued monitoring of lab results, vitals, and response to treatments is necessary to ensure the patient's ongoing well-being and management of his complex medical history.----------------Subjective:\\nThe patient, ___ presented to the ED with right flank pain. He has been diagnosed with multiple medical conditions including infection and inflammatory reaction due to other urinary catheter, sepsis, secondary malignant neoplasm of bladder, type 2 diabetes mellitus, chronic obstructive pulmonary disease (COPD), urinary tract infection, unspecified medical devices associated with adverse incidents, hyperlipidemia, essential hypertension, atherosclerotic heart disease of native coronary artery without angina pectoris, personal history of other malignant neoplasm of kidney, benign prostatic hyperplasia, gastro-esophageal reflux disease, personal history of nicotine dependence, major depressive disorder, and chronic pain. \\n\\nObjective:\\nDuring his stay in the Medicine ward, the patient received the following medications: Phenazopyridine 100mg Tablet and Oxybutynin 5 mg Tablet. The patient also had various laboratory tests performed, with notable abnormal values including blood anion gap (___ mEq/L), blood bicarbonate (25 mEq/L), total blood calcium (10.2 mg/dL), blood chloride (107 mEq/L), blood creatinine (1.2 mg/dL), blood glucose (___ mg/dL), blood magnesium (1.6 mg/dL), blood phosphate (3.1 mg/dL), blood potassium (4.6 mEq/L), blood sodium (___ mEq/L), and blood urea nitrogen (20 mg/dL). Hematology results revealed decreased hematocrit (36.9%), decreased hemoglobin (12.0 g/dL), increased MCH (30.7 pg), increased MCHC (32.5 g/dL), increased MCV (94 fL), normal platelet count (234 K/uL), increased RDW (16.4%), decreased red blood cells (3.91 m/uL), and increased white blood cells (12.7 K/uL). The patient also underwent microbiology cultures, the results of which are pending.\\n\\nAssessment:\\n1. Infection and inflammatory reaction due to other urinary catheter\\n2. Sepsis, unspecified organism\\n3. Secondary malignant neoplasm of bladder\\n4. Type 2 diabetes mellitus without complications\\n5. Chronic obstructive pulmonary disease, unspecified\\n6. Urinary tract infection, site not specified\\n7. Unspecified medical devices associated with adverse incidents\\n8. Unspecified place in unspecified non-institutional (private) residence as the place of occurrence of the external cause\\n9. Hyperlipidemia, unspecified\\n10. Essential (primary) hypertension\\n11. Atherosclerotic heart disease of native coronary artery without angina pectoris\\n12. Personal history of other malignant neoplasm of kidney\\n13. Benign prostatic hyperplasia without lower urinary tract symptoms\\n14. Gastro-esophageal reflux disease without esophagitis\\n15. Personal history of nicotine dependence\\n16. Major depressive disorder, single episode, unspecified\\n17. Other chronic pain\\n\\nPlan:\\n1. Continue the treatment for the diagnosed conditions and manage symptoms accordingly.\\n2. Monitor vital signs regularly and assess for any signs of sepsis.\\n3. Complete the pending microbiology cultures for further evaluation.\\n4. Adjust medications as needed based on laboratory results and patient response.\\n5. Provide appropriate pain management for chronic pain.\\n6. Coordinate with other specialties for further evaluation and management of specific conditions such as bladder malignancy, COPD, and diabetes mellitus.\\n7. Educate the patient about the importance of lifestyle modifications, including smoking cessation and adherence to prescribed medications, to optimize management of chronic conditions.\\n8. Consider the need for a social work referral to address any social determinants of health that may impact the patient's overall well-being.\\n9. Continue to monitor and document the patient's progress and make appropriate referrals as needed.\\n\\nNote: This is a brief summary of the patient's hospital course during their stay in the Medicine ward. The assessment and plan should be tailored to the patient's specific needs and may require further evaluation and consultation.\"}]\n"
     ]
    }
   ],
   "source": [
    "message_text = [{\"role\":\"system\",\"content\":f\"You are the discharging physician that is reviewing a patient's SOAP notes over their hospital course, starting in the ED and being discharged from your unit and writing a brief hospital course summary based on this information. Begin with a brief overview of the patient's demographics, ED chief complaint, and past medical history. Then, write your hospital course summary by condition starting with a #: \"},]\n",
    "\n",
    "gpt_bhc_prompt = {\"role\":\"user\",\n",
    "                 \"content\":bhc_prompt}\n",
    "\n",
    "message_text.append(gpt_bhc_prompt)\n",
    "\n",
    "print(f\"Brief Hospital Course Prompt: {message_text}\")"
   ]
  },
  {
   "cell_type": "code",
   "execution_count": 20,
   "id": "1704de3b-7d78-473e-b1b8-00e0858036c9",
   "metadata": {},
   "outputs": [],
   "source": [
    "completion = openai.ChatCompletion.create(\n",
    "  engine=engine,\n",
    "  messages = message_text,\n",
    ")"
   ]
  },
  {
   "cell_type": "code",
   "execution_count": 21,
   "id": "0aad3d79-1cb2-4d64-b4e7-d3c16a83797d",
   "metadata": {},
   "outputs": [
    {
     "name": "stdout",
     "output_type": "stream",
     "text": [
      "Patient Summary:\n",
      "Mr. [Name], a 62-year-old male, initially presented to the Emergency Department (ED) with chief complaints of right flank pain. He has a complex medical history, including past hospitalizations and treatments for numerous conditions.\n",
      "\n",
      "Hospital Course by Condition:\n",
      "\n",
      "# Infection and inflammatory reaction due to urinary catheter, initial encounter\n",
      "The patient presented with an infection related to urinary catheter use. He was treated with appropriate antibiotics, and the urinary catheter was managed as per the infection control protocol.\n",
      "\n",
      "# Sepsis, unspecified organism\n",
      "The management in the ED and subsequent inpatient stay focused on stabilizing the patient's septic condition with appropriate intravenous fluids, antibiotics, and close monitoring.\n",
      "\n",
      "# Secondary malignant neoplasm of bladder\n",
      "Oncology consultation was sought, and further investigations and management plans for the bladder malignancy were scheduled post-discharge.\n",
      "\n",
      "# Type 2 diabetes mellitus without complications\n",
      "The patient's blood glucose levels were managed with insulin and oral hypoglycemics, and blood glucose was closely monitored throughout the hospital stay.\n",
      "\n",
      "# Chronic obstructive pulmonary disease, unspecified\n",
      "COPD was managed with bronchodilators and corticosteroids. The patients' pulmonary function was monitored, and oxygen therapy was provided as needed.\n",
      "\n",
      "# Urinary tract infection, site not specified\n",
      "The UTI was treated with a course of antibiotics, and urine cultures were obtained to ensure appropriate antibiotic coverage.\n",
      "\n",
      "# Hyperlipidemia, unspecified\n",
      "Hyperlipidemia was managed with statin therapy, and lipid profile monitoring was advised for outpatient follow-up.\n",
      "\n",
      "# Essential (primary) hypertension\n",
      "Blood pressure was controlled with antihypertensive medications, and the patient was counseled on lifestyle modifications for hypertension management.\n",
      "\n",
      "# Atherosclerotic heart disease of native coronary artery without angina pectoris\n",
      "Aspirin and other standard therapy for atherosclerotic heart disease were continued, and cardiology follow-up was recommended.\n",
      "\n",
      "# Personal history of other malignant neoplasm of kidney\n",
      "Given the patient's history of kidney cancer, serial imaging and oncology follow-up were advised to monitor for recurrence or metastasis.\n",
      "\n",
      "# Benign prostatic hyperplasia without lower urinary tract symptoms\n",
      "The patient's BPH was managed with medication, and urology follow-up was arranged.\n",
      "\n",
      "# Gastro-esophageal reflux disease without esophagitis\n",
      "GERD was treated with proton pump inhibitors, and the patient was advised on dietary modifications.\n",
      "\n",
      "# Personal history of nicotine dependence\n",
      "The patient was offered smoking cessation support and resources were provided on the risks associated with continued tobacco use.\n",
      "\n",
      "# Major depressive disorder, single episode, unspecified\n",
      "The patient's psychiatric condition was addressed with appropriate medications and a referral to mental health services for ongoing support.\n",
      "\n",
      "# Other chronic pain\n",
      "Pain management specialists were involved to address chronic pain with multimodal therapy, including pharmacological and non-pharmacological interventions.\n",
      "\n",
      "Radiology:\n",
      "Chest and abdominal CT scans were reviewed. A stable left adrenal adenoma was noted, and no acute cardiopulmonary or abdominal process was identified.\n",
      "\n",
      "The patient's vitals remained stable and showed improvement in response to the therapeutic interventions. Abnormal lab values, such as a low hemoglobin, were monitored, and with controlled WBC, indicated a managed infection. \n",
      "\n",
      "Post-stabilization, Mr. [Name] was transferred to the inpatient Medicine ward for continued treatment, monitoring, and optimization of his chronic medical conditions. Prior to discharge, follow-up appointments with relevant specialists were scheduled to ensure comprehensive outpatient care. The patient was educated on medication adherence, lifestyle modifications, and management of his various health issues. Social work was engaged to address any social determinates impacting his care. \n",
      "\n",
      "Note: Specific medications and lab values from ED stay records are not provided in this summary. Further information will be needed from those files.\n"
     ]
    }
   ],
   "source": [
    "zero_shot_output = completion['choices'][0]['message']['content']; print(zero_shot_output)"
   ]
  },
  {
   "cell_type": "markdown",
   "id": "d16a43c1-7755-4bea-a107-c38527d5f6ab",
   "metadata": {},
   "source": [
    "## Create SOAP notes from GPT API (1-shot)"
   ]
  },
  {
   "cell_type": "code",
   "execution_count": 22,
   "id": "b0b31163-e9e4-4f07-8cc4-31fc04fa1833",
   "metadata": {},
   "outputs": [],
   "source": [
    "import openai\n",
    "openai.api_type = \"azure\"\n",
    "openai.api_base = os.getenv(\"OPENAI_API_BASE\")\n",
    "openai.api_version = \"2023-07-01-preview\"\n",
    "openai.api_key = os.getenv(\"OPENAI_API_KEY\")\n",
    "engine = \"decile-gpt-35-turbo-16k\"\n"
   ]
  },
  {
   "cell_type": "code",
   "execution_count": 23,
   "id": "438056e5-db78-443d-aadd-e411f031e497",
   "metadata": {},
   "outputs": [],
   "source": [
    "targets = pd.read_csv('/gpfs/milgram/project/rtaylor/shared/DischargeMe/public/train/discharge_target.csv.gz')"
   ]
  },
  {
   "cell_type": "code",
   "execution_count": 24,
   "id": "ec1383f6-5fc2-49b0-88c9-c4bd553a3f5d",
   "metadata": {},
   "outputs": [],
   "source": [
    "bhc_oneshot_sample = targets.sample(1)['brief_hospital_course'].squeeze()"
   ]
  },
  {
   "cell_type": "code",
   "execution_count": 44,
   "id": "88a8bef9-c133-4846-bf82-48a8e0cfd08b",
   "metadata": {
    "scrolled": true
   },
   "outputs": [
    {
     "name": "stdout",
     "output_type": "stream",
     "text": [
      "Brief Hospital Course Prompt: [{'role': 'system', 'content': \"You are the discharging physician that is reviewing a patient's SOAP notes over their hospital course, starting in the ED and being discharged from your unit and writing a brief hospital course summary based on this information. Using the following brief hospital course as an example: Summary: ___ h/o IVDU, tobacco use who presents with 10 days of \\nprogressive back pain. MRI, elevated CRP/ESR concerning for \\nosteomyelitis. \\n\\n# Osteomyelitis L2/L3 \\n# ___ intermittent weakness/numbness\\nPatient was started on Vancomycin/Ceftriaxone x 1 at an outside \\nhospital and transferred to ___ for neurosurgical evaluation. \\nHis MRI showed cortical destruction on L2-3 with enhancing soft \\ntissue with edema. No neurosurgical interventions indicated. \\nAntibiotics were held until a CT guided bone biopsy on ___. \\nPatient was started on Vancomycin/Cefepime on ___.  Cefepime \\nwas given for concern of pseudomonas (use of water to clean \\nneedles). His bone culture and blood culture results returned \\nnegative - and universal PCR was sent with the hopes of \\ntargeting the antibiotics according to an identified organism. \\nThe universal PCR was negative.   The psoas abscesses were too \\nsmall to target for sampling.  TTE showed no sign of vegetation. \\n A PICC Line was plced on ___.  The patient completed 6 weeks \\nof IV therapy while hospitalized. He had a repeat MRI which \\nshowed resolution of abscesses and expected spine changes. CRP \\nwas checked and was 9.9. He was seen by ID who recommended an \\nadditional 2 weeks of cipro/doxycycline. The patient's pain had \\nimproved prior to discharge. He has outpatient follow up with ID \\narranged. \\n\\n#Bilateral Psoas Abscesses\\nPatient's initial MRI with bilateral psoas abscesses that were \\nre-imaged by CT on ___. ___ unable to drain abscesses. MRI \\ncompleted prior to discharge showed resolution of abscess.   \\n\\n# Substance abuse: hx IV heroin, tobacco. HIV negative, HCV Ab \\npositive. Nicotine patch now discontinued. Patient desires to \\nattend ___ CSS after discharge. The patient was weaned to \\nmethadone 12.5mg TID during his hospitalization and he will be \\ndischarged to detox. He will follow up with ID (as above) and \\ncan discuss treatment of hepatitis C at that time.\\n\\nTRANSITIONAL ISSUES\\n- 2 weeks of oral antibiotics provided to the patient on \\ndischarge.  Last day ___. The patient has follow up scheduled \\nwith ID and with a new PCP\\n-___ abuse resources provided for the patient\\n\\nBegin with a brief overview of the patient's demographics, ED chief complaint, and past medical history. Then, write your hospital course summary by condition starting with a #.\"}, {'role': 'user', 'content': \"___ is a 62 year old M presenting to the ED with R Flank pain. Over the course of his hospital course, ___ started at Emergency Department and then visited Medicine, Medicine. Over the course of their hospital stay, he was given the following diagnoses: Infection and inflammatory reaction due to other urinary catheter, initial encounter, Sepsis, unspecified organism, Secondary malignant neoplasm of bladder, Type 2 diabetes mellitus without complications, Chronic obstructive pulmonary disease, unspecified, Urinary tract infection, site not specified, Unspecified medical devices associated with adverse incidents, Unspecified place in unspecified non-institutional (private) residence as the place of occurrence of the external cause, Hyperlipidemia, unspecified, Essential (primary) hypertension, Atherosclerotic heart disease of native coronary artery without angina pectoris, Personal history of other malignant neoplasm of kidney, Benign prostatic hyperplasia without lower urinary tract symptoms, Gastro-esophageal reflux disease without esophagitis, Personal history of nicotine dependence, Major depressive disorder, single episode, unspecified, Other chronic pain in order of importance to this admission.----------------------------------------------------The patient received the following radiology consult reports:EXAMINATION:\\nChest:  Frontal and lateral views\\n\\nINDICATION:  History: ___ with kidney cancer, productive cough// eval for pna\\n\\nTECHNIQUE:  Chest:  Frontal and Lateral\\n\\nCOMPARISON:  Chest radiograph ___\\n\\nFINDINGS: \\n\\nAgain noted are severe emphysematous changes and chronic scarring, unchanged\\nsince the prior study.  Hyperinflation of the right hemithorax is unchanged.No\\nfocal consolidation is seen.  No pleural effusion or pneumothorax is seen. \\nRightward mediastinal shift is unchanged.\\n\\nIMPRESSION: \\n\\nNo acute cardiopulmonary process.\\n----------------INDICATION:  History: ___ with flank pain, UTI// Flank pain, UTI\\n\\nTECHNIQUE:  Multidetector CT images of the abdomen and pelvis were acquired\\nwithout intravenous contrast. Non-contrast scan has several limitations in\\ndetecting vascular and parenchymal organ abnormalities, including tumor\\ndetection.\\nOral contrast was not administered.\\nCoronal and sagittal reformations were performed and reviewed on PACS.\\n\\nDOSE:  Acquisition sequence:\\n   1) Spiral Acquisition 6.6 s, 52.1 cm; CTDIvol = 13.5 mGy (Body) DLP = 704.9\\nmGy-cm.\\n Total DLP (Body) = 705 mGy-cm.\\n\\nCOMPARISON:  CT abdomen and pelvis ___\\n\\nFINDINGS: \\n\\nLOWER CHEST: Again seen are severe emphysematous changes in the lung bases.  A\\n3 mm nodule is seen in the right lower lobe (2:3).  There is no evidence of\\npleural or pericardial effusion.\\n\\nABDOMEN:\\n\\nHEPATOBILIARY: The liver demonstrates homogeneous attenuation throughout. \\nThere is no evidence of focal lesions within the limitations of an unenhanced\\nscan.  There is no evidence of intrahepatic or extrahepatic biliary\\ndilatation.  The gallbladder contains gallstones without wall thickening or\\nevidence of inflammation.\\n\\nPANCREAS: The pancreas is atrophic, without evidence of focal lesions within\\nthe limitations of an unenhanced scan.  There is no pancreatic ductal\\ndilatation.  There is no peripancreatic stranding.\\n\\nSPLEEN: The spleen shows normal size and attenuation throughout, without\\nevidence of focal lesions.\\n\\nADRENALS: The right adrenal gland is normal in size and shape.  1.9 cm left\\nadrenal adenoma.\\n\\nURINARY: Patient is status post left nephrectomy.  The right kidney is not\\nenlarged.  Multiple cysts are seen in the right kidney the largest measuring\\n2.8 cm in the lower pole.  There is no hydronephrosis.  A few punctate\\nhyperdensities in the right kidney are compatible with nonobstructing stones. \\nThere is no perinephric abnormality.\\n\\nGASTROINTESTINAL: The stomach is unremarkable.  Small bowel loops demonstrate\\nnormal caliber and wall thickness throughout.  The colon and rectum are within\\nnormal limits.  The appendix is not visualized.\\n\\nPELVIS: The urinary bladder is under distended and contains a Foley catheter. \\nThere is no free fluid in the pelvis.\\n\\nREPRODUCTIVE ORGANS: The prostate is enlarged.\\n\\nLYMPH NODES: There is no retroperitoneal or mesenteric lymphadenopathy.  There\\nis no pelvic or inguinal lymphadenopathy.\\n\\nVASCULAR: There is no abdominal aortic aneurysm.  Mild atherosclerotic disease\\nis noted.\\n\\nBONES: There is no evidence of worrisome osseous lesions or acute fracture.\\n\\nSOFT TISSUES: An umbilical hernia containing fat is noted.  A supraumbilical\\nhernia containing a loop of transverse colon is noted.\\n\\nIMPRESSION:\\n\\n\\n1. No acute abnormality in the abdomen or pelvis.\\n2. Stable left adrenal adenoma.\\n3. 3 mm right lower lobe nodule.\\n For incidentally detected nodules smaller than 6mm in the setting of an\\nincomplete chest CT, no CT follow-up is recommended.\\n.----------------------------------------------------Please use the following SOAP notes from the patient's complete hospital course to create a brief hospital course summary. Break down the hospital course summary by condition starting with a #: S: The patient, a 62-year-old male, presented to the Emergency Department (ED) with complaints of right flank pain. Upon further evaluation and treatment, the following diagnoses were made: Infection and inflammatory reaction due to other urinary catheter, initial encounter, Sepsis, unspecified organism, Secondary malignant neoplasm of bladder, Type 2 diabetes mellitus without complications, Chronic obstructive pulmonary disease, unspecified, Urinary tract infection, site not specified, Unspecified medical devices associated with adverse incidents, Unspecified place in unspecified non-institutional (private) residence as the place of occurrence of the external cause, Hyperlipidemia, unspecified, Essential (primary) hypertension, Atherosclerotic heart disease of native coronary artery without angina pectoris, Personal history of other malignant neoplasm of kidney, Benign prostatic hyperplasia without lower urinary tract symptoms, Gastro-esophageal reflux disease without esophagitis, Personal history of nicotine dependence, Major depressive disorder, single episode, unspecified, and Other chronic pain.\\n\\nO: The patient stayed in the ED ward from 2153-09-18 21:58:00 to 2153-09-19 03:32:00. The following procedure was performed during the patient's stay: Introduction of Oxazolidinones into Peripheral Vein, Percutaneous Approach.\\n\\nSignificant medications administered during the patient's stay in the ED include (list medication names and indications here).\\n\\nLabs were drawn during the patient's stay; however, specifics regarding the results are not provided.\\n\\nA: The patient's complex medical history and comorbidities, including urinary catheter-related infection, sepsis, secondary malignant neoplasm of the bladder, diabetes, COPD, urinary tract infection, adverse incidents associated with medical devices, hyperlipidemia, hypertension, atherosclerotic heart disease, personal history of other malignant neoplasm of kidney, benign prostatic hyperplasia, GERD, personal history of nicotine dependence, major depressive disorder, and chronic pain, were considered during their ED stay.\\n\\nP: The patient received thorough monitoring and supportive care during their stay in the ED. The provision of oxygen and intravenous fluids was ensured. Analgesics were administered to manage the patient's pain. The patient's vital signs were closely monitored and antibiotics were initiated to address their infection. Consultations with appropriate specialists were made to address the multiple medical concerns and coordinate further management.\\n\\nUpon stabilization, the patient was transferred to an appropriate inpatient unit for further evaluation and management of their complex medical conditions. Communication was made with the receiving team to ensure a smooth transition of care.\\n\\nFollow-up appointments were scheduled for the patient with the relevant specialists to address the multidimensional aspects of their healthcare needs. Symptom management, disease control, and appropriate supportive care were emphasized during the patient's stay in the ED.\\n\\nPlease note that the documentation regarding the patient's specific labs, procedures, and medications during their ED stay is unavailable.----------------Subjective:\\nMr. ___, a 62-year-old male, was admitted to the hospital with complaints of right flank pain. He has been diagnosed with multiple conditions including infection and inflammatory reaction due to other urinary catheter, sepsis, secondary malignant neoplasm of bladder, type 2 diabetes mellitus, chronic obstructive pulmonary disease (COPD), urinary tract infection (UTI), unspecified medical devices associated with adverse incidents, hyperlipidemia, essential hypertension, atherosclerotic heart disease, personal history of other malignant neoplasm of kidney, benign prostatic hyperplasia, gastro-esophageal reflux disease (GERD), personal history of nicotine dependence, major depressive disorder, and other chronic pain.\\n\\nObjective:\\nDuring his stay in the Medicine ward, Mr. ___ received various medications. These include Albuterol Inhaler, Senna 8.6 mg Tablet, Heparin 5000 Units / mL- 1mL Vial, Finasteride 5mg Tablet, Linezolid 600mg Tablet, Glucagon 1mg Vial, Aspirin 81mg Tab, Dextrose 50% 25 g / 50 mL Syringe, Insulin 100 Units / mL - 10 mL Vial, Glucose Gel 15 g Tube, Atorvastatin 40mg Tablet, Fluticasone-Salmeterol Diskus (250/50) 250/50mcg Diskus, Sodium Chloride 0.9% Flush 10 mL Syringe, Omeprazole 20mg DR Capsule, Metoprolol Succinate XL 50mg XL Tab, Docusate Sodium 100mg Capsule, Acetaminophen 325mg Tablet, and Tiotropium Bromide 18mcg Capsule-Inhalation Device.\\n\\nVitals:\\nVital signs were stable throughout the hospital stay, with no significant abnormalities noted.\\n\\nLab results:\\nHematology:\\n- Hemoglobin: 10.8 g/dL (low)\\n- Platelet Count: 203 K/uL (normal)\\n- White Blood Cells: 14.3 K/uL (elevated)\\n\\nChemistry:\\n- Hematology Blood Hematocrit: 33.0% (normal)\\n- Hematology Blood MCH: 31.0 pg (normal)\\n- Hematology Blood MCHC: 32.7 g/dL (normal)\\n- Hematology Blood MCV: 95 fL (normal)\\n- Hematology Blood RDW: 16.4% (normal)\\n- Hematology Blood Red Blood Cells: 3.48 m/uL (normal)\\n\\n- Anion Gap: ___ mEq/L (result not available)\\n- Bicarbonate: 26 mEq/L (normal)\\n- Calcium, Total: 9.7 mg/dL (normal)\\n- Chloride: 111 mEq/L (normal)\\n- Creatinine: 1.0 mg/dL (normal)\\n- Glucose: ___ mg/dL (result not available)\\n- Magnesium: 1.7 mg/dL (normal)\\n- Phosphate: 2.9 mg/dL (normal)\\n- Potassium: 4.3 mEq/L (normal)\\n- Sodium: ___ mEq/L (result not available)\\n- Urea Nitrogen: 18 mg/dL (normal)\\n\\nAssessment:\\n1. Infection and inflammatory reaction due to other urinary catheter, initial encounter\\n2. Sepsis, unspecified organism\\n3. Secondary malignant neoplasm of bladder\\n4. Type 2 diabetes mellitus without complications\\n5. Chronic obstructive pulmonary disease, unspecified\\n6. Urinary tract infection, site not specified\\n7. Unspecified medical devices associated with adverse incidents\\n8. Unspecified place in unspecified non-institutional (private) residence as the place of occurrence of the external cause\\n9. Hyperlipidemia, unspecified\\n10. Essential (primary) hypertension\\n11. Atherosclerotic heart disease of native coronary artery without angina pectoris\\n12. Personal history of other malignant neoplasm of kidney\\n13. Benign prostatic hyperplasia without lower urinary tract symptoms\\n14. Gastro-esophageal reflux disease without esophagitis\\n15. Personal history of nicotine dependence\\n16. Major depressive disorder, single episode, unspecified\\n17. Other chronic pain\\n\\nPlan:\\nMr. ___'s management during his stay in the Medicine ward was focused on the treatment of his various conditions. He received appropriate medication therapy for each diagnosis. The specific management plan was tailored to control infections, ensure adequate pain control, optimize glycemic control, manage hypertension, COPD symptoms, and other chronic pain, and monitor the known history of malignancies.\\n\\nThe patient's vital signs remained stable and there were no significant abnormalities noted during his hospital course. The laboratory values showed a low hemoglobin level, which may require monitoring and appropriate intervention. However, the availability of some lab results is pending.\\n\\nThe multidisciplinary approach involved the coordination of care between the medicine team, infectious disease specialists, urologists, endocrinologists, and psychiatrists to address the various conditions and provide comprehensive care. The patient's condition improved during his stay, and he was transferred to the appropriate specialty service for further management.\\n\\nContinued monitoring of lab results, vitals, and response to treatments is necessary to ensure the patient's ongoing well-being and management of his complex medical history.----------------Subjective:\\nThe patient, ___ presented to the ED with right flank pain. He has been diagnosed with multiple medical conditions including infection and inflammatory reaction due to other urinary catheter, sepsis, secondary malignant neoplasm of bladder, type 2 diabetes mellitus, chronic obstructive pulmonary disease (COPD), urinary tract infection, unspecified medical devices associated with adverse incidents, hyperlipidemia, essential hypertension, atherosclerotic heart disease of native coronary artery without angina pectoris, personal history of other malignant neoplasm of kidney, benign prostatic hyperplasia, gastro-esophageal reflux disease, personal history of nicotine dependence, major depressive disorder, and chronic pain. \\n\\nObjective:\\nDuring his stay in the Medicine ward, the patient received the following medications: Phenazopyridine 100mg Tablet and Oxybutynin 5 mg Tablet. The patient also had various laboratory tests performed, with notable abnormal values including blood anion gap (___ mEq/L), blood bicarbonate (25 mEq/L), total blood calcium (10.2 mg/dL), blood chloride (107 mEq/L), blood creatinine (1.2 mg/dL), blood glucose (___ mg/dL), blood magnesium (1.6 mg/dL), blood phosphate (3.1 mg/dL), blood potassium (4.6 mEq/L), blood sodium (___ mEq/L), and blood urea nitrogen (20 mg/dL). Hematology results revealed decreased hematocrit (36.9%), decreased hemoglobin (12.0 g/dL), increased MCH (30.7 pg), increased MCHC (32.5 g/dL), increased MCV (94 fL), normal platelet count (234 K/uL), increased RDW (16.4%), decreased red blood cells (3.91 m/uL), and increased white blood cells (12.7 K/uL). The patient also underwent microbiology cultures, the results of which are pending.\\n\\nAssessment:\\n1. Infection and inflammatory reaction due to other urinary catheter\\n2. Sepsis, unspecified organism\\n3. Secondary malignant neoplasm of bladder\\n4. Type 2 diabetes mellitus without complications\\n5. Chronic obstructive pulmonary disease, unspecified\\n6. Urinary tract infection, site not specified\\n7. Unspecified medical devices associated with adverse incidents\\n8. Unspecified place in unspecified non-institutional (private) residence as the place of occurrence of the external cause\\n9. Hyperlipidemia, unspecified\\n10. Essential (primary) hypertension\\n11. Atherosclerotic heart disease of native coronary artery without angina pectoris\\n12. Personal history of other malignant neoplasm of kidney\\n13. Benign prostatic hyperplasia without lower urinary tract symptoms\\n14. Gastro-esophageal reflux disease without esophagitis\\n15. Personal history of nicotine dependence\\n16. Major depressive disorder, single episode, unspecified\\n17. Other chronic pain\\n\\nPlan:\\n1. Continue the treatment for the diagnosed conditions and manage symptoms accordingly.\\n2. Monitor vital signs regularly and assess for any signs of sepsis.\\n3. Complete the pending microbiology cultures for further evaluation.\\n4. Adjust medications as needed based on laboratory results and patient response.\\n5. Provide appropriate pain management for chronic pain.\\n6. Coordinate with other specialties for further evaluation and management of specific conditions such as bladder malignancy, COPD, and diabetes mellitus.\\n7. Educate the patient about the importance of lifestyle modifications, including smoking cessation and adherence to prescribed medications, to optimize management of chronic conditions.\\n8. Consider the need for a social work referral to address any social determinants of health that may impact the patient's overall well-being.\\n9. Continue to monitor and document the patient's progress and make appropriate referrals as needed.\\n\\nNote: This is a brief summary of the patient's hospital course during their stay in the Medicine ward. The assessment and plan should be tailored to the patient's specific needs and may require further evaluation and consultation.\"}]\n"
     ]
    }
   ],
   "source": [
    "message_text2 = [{\"role\":\"system\",\"content\":f\"You are the discharging physician that is reviewing a patient's SOAP notes over their hospital course, starting in the ED and being discharged from your unit and writing a brief hospital course summary based on this information. Using the following brief hospital course as an example: {bhc_oneshot_sample}\\n\\nBegin with a brief overview of the patient's demographics, ED chief complaint, and past medical history. Then, write your hospital course summary by condition starting with a #.\"},]\n",
    "\n",
    "message_text2.append(gpt_bhc_prompt)\n",
    "\n",
    "print(f\"Brief Hospital Course Prompt: {message_text2}\")"
   ]
  },
  {
   "cell_type": "code",
   "execution_count": 45,
   "id": "18241417-c7be-4d41-8eda-c55d3edaa4cb",
   "metadata": {},
   "outputs": [],
   "source": [
    "completion2 = openai.ChatCompletion.create(\n",
    "  engine=engine,\n",
    "  messages = message_text2,\n",
    ")"
   ]
  },
  {
   "cell_type": "code",
   "execution_count": 46,
   "id": "eb623558-e862-4748-97cb-0a1e5995e396",
   "metadata": {},
   "outputs": [
    {
     "name": "stdout",
     "output_type": "stream",
     "text": [
      "# Infection and inflammatory reaction due to other urinary catheter, sepsis, secondary malignant neoplasm of bladder, type 2 diabetes mellitus without complications, chronic obstructive pulmonary disease, unspecified, urinary tract infection, site not specified, unspecified medical devices associated with adverse incidents, unspecified place in unspecified non-institutional (private) residence as the place of occurrence of the external cause, hyperlipidemia, unspecified, essential (primary) hypertension, atherosclerotic heart disease of native coronary artery without angina pectoris, personal history of other malignant neoplasm of kidney, benign prostatic hyperplasia without lower urinary tract symptoms, gastro-esophageal reflux disease without esophagitis, personal history of nicotine dependence, major depressive disorder, single episode, unspecified, and other chronic pain:\n",
      "\n",
      "The patient, a 62-year-old male, presented to the ED with complaints of right flank pain. During his hospital stay in the Medicine ward, the patient was diagnosed with multiple medical conditions including infection and inflammatory reaction due to other urinary catheter, sepsis, secondary malignant neoplasm of bladder, type 2 diabetes mellitus, chronic obstructive pulmonary disease (COPD), urinary tract infection, unspecified medical devices associated with adverse incidents, hyperlipidemia, essential hypertension, atherosclerotic heart disease of native coronary artery without angina pectoris, personal history of other malignant neoplasm of kidney, benign prostatic hyperplasia, gastro-esophageal reflux disease, personal history of nicotine dependence, major depressive disorder, and chronic pain.\n",
      "\n",
      "The patient's management during his stay in the Medicine ward focused on the treatment and control of his various medical conditions. Medication therapy, including Phenazopyridine 100mg Tablet and Oxybutynin 5 mg Tablet, was provided to address specific symptoms and control infections. Laboratory tests revealed abnormalities in various values, warranting close monitoring and appropriate interventions.\n",
      "\n",
      "The patient's vital signs remained stable throughout his hospital course. The multidisciplinary care team collaborated to ensure comprehensive and tailored management for each diagnosed condition. Further evaluation, consultation, and follow-up with appropriate specialists were arranged to address the complexity of the patient's medical history.\n",
      "\n",
      "Continued monitoring of laboratory results, vital signs, and response to treatment will be crucial to optimize the patient's management and overall well-being. Education regarding lifestyle modifications, smoking cessation, medication adherence, and symptom management was provided to the patient to promote long-term health. Social work involvement may be considered to address any social determinants of health that could impact the patient's overall outcome.\n",
      "\n",
      "Note: The assessment and plan provided in this summary should be individualized and may require further evaluation and consultation.\n"
     ]
    }
   ],
   "source": [
    "one_shot_output = completion2['choices'][0]['message']['content']; print(one_shot_output)"
   ]
  },
  {
   "cell_type": "markdown",
   "id": "ac88b501-d6eb-4c58-a0d4-e97f1fe33622",
   "metadata": {},
   "source": [
    "## Compute ROUGE Scores from Output"
   ]
  },
  {
   "cell_type": "code",
   "execution_count": 48,
   "id": "36137dc3-70e3-40a1-883d-a31a0cb4b554",
   "metadata": {},
   "outputs": [],
   "source": [
    "from rouge_score import rouge_scorer\n"
   ]
  },
  {
   "cell_type": "code",
   "execution_count": 49,
   "id": "674658ea-de27-4346-a59d-1f2c92a92016",
   "metadata": {
    "scrolled": true
   },
   "outputs": [],
   "source": [
    "# discharges[discharges['hadm_id'] == soap_notes.iloc[0]['hadm_id']].squeeze()\n",
    "pt_target = targets[targets['hadm_id'] == soap_notes.iloc[0]['hadm_id']]['brief_hospital_course'].squeeze()"
   ]
  },
  {
   "cell_type": "code",
   "execution_count": 50,
   "id": "d65c1e48-46a2-4cca-adc0-efdeb9cd4030",
   "metadata": {},
   "outputs": [],
   "source": [
    "scorer = rouge_scorer.RougeScorer(['rouge1',  \"rouge2\", 'rougeL'], use_stemmer=True)\n",
    "scores1 = scorer.score(zero_shot_output,\n",
    "                      pt_target)"
   ]
  },
  {
   "cell_type": "code",
   "execution_count": 51,
   "id": "7473d3f6-43dd-4484-ad80-1a3b37f12cfb",
   "metadata": {},
   "outputs": [
    {
     "data": {
      "text/plain": [
       "{'rouge1': Score(precision=0.4174757281553398, recall=0.2275132275132275, fmeasure=0.2945205479452055),\n",
       " 'rouge2': Score(precision=0.02922077922077922, recall=0.015901060070671377, fmeasure=0.020594965675057208),\n",
       " 'rougeL': Score(precision=0.15857605177993528, recall=0.08641975308641975, fmeasure=0.11187214611872147)}"
      ]
     },
     "execution_count": 51,
     "metadata": {},
     "output_type": "execute_result"
    }
   ],
   "source": [
    "scores1"
   ]
  },
  {
   "cell_type": "code",
   "execution_count": 52,
   "id": "5a182e0a-0606-4004-8785-4f9ecbd8938f",
   "metadata": {},
   "outputs": [],
   "source": [
    "scorer = rouge_scorer.RougeScorer(['rouge1', \"rouge2\", 'rougeL'], use_stemmer=True)\n",
    "scores2 = scorer.score(one_shot_output,\n",
    "                      pt_target)"
   ]
  },
  {
   "cell_type": "code",
   "execution_count": 53,
   "id": "cfb17644-e6e4-4edc-80b0-5eb81d96ca5b",
   "metadata": {},
   "outputs": [
    {
     "data": {
      "text/plain": [
       "{'rouge1': Score(precision=0.2621359223300971, recall=0.20149253731343283, fmeasure=0.22784810126582278),\n",
       " 'rouge2': Score(precision=0.012987012987012988, recall=0.00997506234413965, fmeasure=0.011283497884344146),\n",
       " 'rougeL': Score(precision=0.11003236245954692, recall=0.0845771144278607, fmeasure=0.09563994374120957)}"
      ]
     },
     "execution_count": 53,
     "metadata": {},
     "output_type": "execute_result"
    }
   ],
   "source": [
    "scores2"
   ]
  },
  {
   "cell_type": "markdown",
   "id": "f8134c08-e32d-4167-b0ae-14e80f4b0d0c",
   "metadata": {},
   "source": [
    "# Qualitative Eval"
   ]
  },
  {
   "cell_type": "markdown",
   "id": "065d01ec-e29a-4f08-9ead-1dacccc1f534",
   "metadata": {},
   "source": [
    "## Final outputs\n"
   ]
  },
  {
   "cell_type": "code",
   "execution_count": 54,
   "id": "3899f8eb-d458-4a95-8b4c-ebb170e0c30f",
   "metadata": {},
   "outputs": [],
   "source": [
    "pd.DataFrame.from_records([scores1, scores2], index=[\"zero-shot\", \"one-shot\"]).to_csv(output3)"
   ]
  },
  {
   "cell_type": "code",
   "execution_count": 55,
   "id": "4bace2cf-7497-4a42-b05f-1fcde9c4c792",
   "metadata": {},
   "outputs": [],
   "source": [
    "eval = pd.Series([one_shot_output, zero_shot_output, pt_target], index=[\"gpt-one-shot\", \"gpt-zero-shot\", \"gold-standard\"])"
   ]
  },
  {
   "cell_type": "code",
   "execution_count": 56,
   "id": "12668570-cd82-4aa8-b5d9-d35efd9c735b",
   "metadata": {},
   "outputs": [],
   "source": [
    "def add_line_breaks(text):\n",
    "    return text.replace(r'\\n', r'<br>')"
   ]
  },
  {
   "cell_type": "code",
   "execution_count": 57,
   "id": "f6e03b4a-afcf-46b3-9044-45dc9ec0d581",
   "metadata": {},
   "outputs": [],
   "source": [
    "output_str = eval.to_frame().to_html(escape=False).replace(r\"\\n\",\"<br>\")\n",
    "with open(output2, 'w') as file:\n",
    "    file.write(output_str)\n",
    "    \n"
   ]
  },
  {
   "cell_type": "code",
   "execution_count": 58,
   "id": "5d674128-e36b-4caf-a422-e5a2d6663101",
   "metadata": {},
   "outputs": [
    {
     "name": "stdout",
     "output_type": "stream",
     "text": [
      "# Infection and inflammatory reaction due to other urinary catheter, sepsis, secondary malignant neoplasm of bladder, type 2 diabetes mellitus without complications, chronic obstructive pulmonary disease, unspecified, urinary tract infection, site not specified, unspecified medical devices associated with adverse incidents, unspecified place in unspecified non-institutional (private) residence as the place of occurrence of the external cause, hyperlipidemia, unspecified, essential (primary) hypertension, atherosclerotic heart disease of native coronary artery without angina pectoris, personal history of other malignant neoplasm of kidney, benign prostatic hyperplasia without lower urinary tract symptoms, gastro-esophageal reflux disease without esophagitis, personal history of nicotine dependence, major depressive disorder, single episode, unspecified, and other chronic pain:\n",
      "\n",
      "The patient, a 62-year-old male, presented to the ED with complaints of right flank pain. During his hospital stay in the Medicine ward, the patient was diagnosed with multiple medical conditions including infection and inflammatory reaction due to other urinary catheter, sepsis, secondary malignant neoplasm of bladder, type 2 diabetes mellitus, chronic obstructive pulmonary disease (COPD), urinary tract infection, unspecified medical devices associated with adverse incidents, hyperlipidemia, essential hypertension, atherosclerotic heart disease of native coronary artery without angina pectoris, personal history of other malignant neoplasm of kidney, benign prostatic hyperplasia, gastro-esophageal reflux disease, personal history of nicotine dependence, major depressive disorder, and chronic pain.\n",
      "\n",
      "The patient's management during his stay in the Medicine ward focused on the treatment and control of his various medical conditions. Medication therapy, including Phenazopyridine 100mg Tablet and Oxybutynin 5 mg Tablet, was provided to address specific symptoms and control infections. Laboratory tests revealed abnormalities in various values, warranting close monitoring and appropriate interventions.\n",
      "\n",
      "The patient's vital signs remained stable throughout his hospital course. The multidisciplinary care team collaborated to ensure comprehensive and tailored management for each diagnosed condition. Further evaluation, consultation, and follow-up with appropriate specialists were arranged to address the complexity of the patient's medical history.\n",
      "\n",
      "Continued monitoring of laboratory results, vital signs, and response to treatment will be crucial to optimize the patient's management and overall well-being. Education regarding lifestyle modifications, smoking cessation, medication adherence, and symptom management was provided to the patient to promote long-term health. Social work involvement may be considered to address any social determinants of health that could impact the patient's overall outcome.\n",
      "\n",
      "Note: The assessment and plan provided in this summary should be individualized and may require further evaluation and consultation.\n"
     ]
    }
   ],
   "source": [
    "print(one_shot_output)"
   ]
  },
  {
   "cell_type": "code",
   "execution_count": 59,
   "id": "7f8ca5fc-3cf1-4f7f-b0d5-b1c2b43956c1",
   "metadata": {},
   "outputs": [
    {
     "name": "stdout",
     "output_type": "stream",
     "text": [
      "Patient Summary:\n",
      "Mr. [Name], a 62-year-old male, initially presented to the Emergency Department (ED) with chief complaints of right flank pain. He has a complex medical history, including past hospitalizations and treatments for numerous conditions.\n",
      "\n",
      "Hospital Course by Condition:\n",
      "\n",
      "# Infection and inflammatory reaction due to urinary catheter, initial encounter\n",
      "The patient presented with an infection related to urinary catheter use. He was treated with appropriate antibiotics, and the urinary catheter was managed as per the infection control protocol.\n",
      "\n",
      "# Sepsis, unspecified organism\n",
      "The management in the ED and subsequent inpatient stay focused on stabilizing the patient's septic condition with appropriate intravenous fluids, antibiotics, and close monitoring.\n",
      "\n",
      "# Secondary malignant neoplasm of bladder\n",
      "Oncology consultation was sought, and further investigations and management plans for the bladder malignancy were scheduled post-discharge.\n",
      "\n",
      "# Type 2 diabetes mellitus without complications\n",
      "The patient's blood glucose levels were managed with insulin and oral hypoglycemics, and blood glucose was closely monitored throughout the hospital stay.\n",
      "\n",
      "# Chronic obstructive pulmonary disease, unspecified\n",
      "COPD was managed with bronchodilators and corticosteroids. The patients' pulmonary function was monitored, and oxygen therapy was provided as needed.\n",
      "\n",
      "# Urinary tract infection, site not specified\n",
      "The UTI was treated with a course of antibiotics, and urine cultures were obtained to ensure appropriate antibiotic coverage.\n",
      "\n",
      "# Hyperlipidemia, unspecified\n",
      "Hyperlipidemia was managed with statin therapy, and lipid profile monitoring was advised for outpatient follow-up.\n",
      "\n",
      "# Essential (primary) hypertension\n",
      "Blood pressure was controlled with antihypertensive medications, and the patient was counseled on lifestyle modifications for hypertension management.\n",
      "\n",
      "# Atherosclerotic heart disease of native coronary artery without angina pectoris\n",
      "Aspirin and other standard therapy for atherosclerotic heart disease were continued, and cardiology follow-up was recommended.\n",
      "\n",
      "# Personal history of other malignant neoplasm of kidney\n",
      "Given the patient's history of kidney cancer, serial imaging and oncology follow-up were advised to monitor for recurrence or metastasis.\n",
      "\n",
      "# Benign prostatic hyperplasia without lower urinary tract symptoms\n",
      "The patient's BPH was managed with medication, and urology follow-up was arranged.\n",
      "\n",
      "# Gastro-esophageal reflux disease without esophagitis\n",
      "GERD was treated with proton pump inhibitors, and the patient was advised on dietary modifications.\n",
      "\n",
      "# Personal history of nicotine dependence\n",
      "The patient was offered smoking cessation support and resources were provided on the risks associated with continued tobacco use.\n",
      "\n",
      "# Major depressive disorder, single episode, unspecified\n",
      "The patient's psychiatric condition was addressed with appropriate medications and a referral to mental health services for ongoing support.\n",
      "\n",
      "# Other chronic pain\n",
      "Pain management specialists were involved to address chronic pain with multimodal therapy, including pharmacological and non-pharmacological interventions.\n",
      "\n",
      "Radiology:\n",
      "Chest and abdominal CT scans were reviewed. A stable left adrenal adenoma was noted, and no acute cardiopulmonary or abdominal process was identified.\n",
      "\n",
      "The patient's vitals remained stable and showed improvement in response to the therapeutic interventions. Abnormal lab values, such as a low hemoglobin, were monitored, and with controlled WBC, indicated a managed infection. \n",
      "\n",
      "Post-stabilization, Mr. [Name] was transferred to the inpatient Medicine ward for continued treatment, monitoring, and optimization of his chronic medical conditions. Prior to discharge, follow-up appointments with relevant specialists were scheduled to ensure comprehensive outpatient care. The patient was educated on medication adherence, lifestyle modifications, and management of his various health issues. Social work was engaged to address any social determinates impacting his care. \n",
      "\n",
      "Note: Specific medications and lab values from ED stay records are not provided in this summary. Further information will be needed from those files.\n"
     ]
    }
   ],
   "source": [
    "print(zero_shot_output)"
   ]
  },
  {
   "cell_type": "code",
   "execution_count": 60,
   "id": "872e3591-d11c-43c2-af6f-e5d0b2c05599",
   "metadata": {},
   "outputs": [
    {
     "name": "stdout",
     "output_type": "stream",
     "text": [
      "___ yo M with hx COPD, renal ca, bladder cancer with chronic \n",
      "indwelling foley now presenting with flankpain and abnormal UA \n",
      "with VRE growing in urine cxs.\n",
      "\n",
      "ACTIVE ISSUES\n",
      "# Sepsis\n",
      "# VRE UTI\n",
      "Has chronic indwelling Foley due to known bladder cancer. \n",
      "Refused exchange of Foley, as noted this was done just prior to \n",
      "presentation at ___ (no documentation of this found in ___ \n",
      "record). Was non-toxic appearing and vitals stabilized on \n",
      "admission. Urine culture grew VRE. Treated with linezolid x7 \n",
      "days (to continue at home) -- HELD escitalopram until ___ to \n",
      "avoid Serotonin syndrome. Patient counseled on this. \n",
      "Patient improved from sepsis rapidly, though WBC still slightly \n",
      "elevated. Clinically sepsis resolved, and infection improving. \n",
      "Patient very angered and believed was never seen by physician at \n",
      "___ (though documented 2 visits with MD). Demanded to leave \n",
      "hospital. Patient was medically stable for discharge; reviewed \n",
      "with patient medical plan on discharge. An Rx was generated for \n",
      "linezolid, though patient eloped from hospital before PIV \n",
      "removed and Rx given. ___ and RN searched floor & lobby and \n",
      "patient not found. Called patient, though phone message \n",
      "indicated \"not receiving calls.\" Similar message also \n",
      "encountered when called HCP and alternate HCP. No prior history \n",
      "of IV drug use, but communicated with PCP that eloped with PIV \n",
      "in place. Rx sent to patient's preferred pharmacy, in event they \n",
      "can reach him -- also included note to pharmacy to hold \n",
      "escitalopram, as above, given concomitant linezolid use. \n",
      "\n",
      "CHRONIC ISSUES\n",
      "# Chest pain, likely \n",
      "# Costochondritis: chronic, reproducible on exam, EKG WNL, very \n",
      "low concern for ACS.\n",
      "# Depression: held ecitalopram given interaction with linezolid\n",
      "# DM: ISS while in house; resumed metformin on discharge. \n",
      "# COPD: Continued albuterol, tiotropium\n",
      "# CAD: continued home asa, metop, statin\n",
      "# GERD: continued metoprolol \n",
      "\n",
      "TRANSITIONAL ISSUES\n",
      "=====================\n",
      "- Pulmonary nodule: repeat CT in 12 months \n",
      "- Treatment of UTI with linezolid final day, ___\n",
      "- Restart escitalopram on ___ \n",
      "\n",
      "35 minutes was spent on coordination of care, counseling & \n",
      "discharge planning. \n"
     ]
    }
   ],
   "source": [
    "print(pt_target)"
   ]
  },
  {
   "cell_type": "markdown",
   "id": "35653a78-3baf-4a67-9de1-a95f08a4ad0d",
   "metadata": {},
   "source": [
    "## SOAP Notes"
   ]
  },
  {
   "cell_type": "code",
   "execution_count": 42,
   "id": "c17897ed-8dde-4da1-978b-d813eecaff9c",
   "metadata": {
    "scrolled": true
   },
   "outputs": [
    {
     "name": "stdout",
     "output_type": "stream",
     "text": [
      "\n",
      "----------------------------------------------------------------------\n",
      "\n",
      "S: The patient, a 62-year-old male, presented to the Emergency Department (ED) with complaints of right flank pain. Upon further evaluation and treatment, the following diagnoses were made: Infection and inflammatory reaction due to other urinary catheter, initial encounter, Sepsis, unspecified organism, Secondary malignant neoplasm of bladder, Type 2 diabetes mellitus without complications, Chronic obstructive pulmonary disease, unspecified, Urinary tract infection, site not specified, Unspecified medical devices associated with adverse incidents, Unspecified place in unspecified non-institutional (private) residence as the place of occurrence of the external cause, Hyperlipidemia, unspecified, Essential (primary) hypertension, Atherosclerotic heart disease of native coronary artery without angina pectoris, Personal history of other malignant neoplasm of kidney, Benign prostatic hyperplasia without lower urinary tract symptoms, Gastro-esophageal reflux disease without esophagitis, Personal history of nicotine dependence, Major depressive disorder, single episode, unspecified, and Other chronic pain.\n",
      "\n",
      "O: The patient stayed in the ED ward from 2153-09-18 21:58:00 to 2153-09-19 03:32:00. The following procedure was performed during the patient's stay: Introduction of Oxazolidinones into Peripheral Vein, Percutaneous Approach.\n",
      "\n",
      "Significant medications administered during the patient's stay in the ED include (list medication names and indications here).\n",
      "\n",
      "Labs were drawn during the patient's stay; however, specifics regarding the results are not provided.\n",
      "\n",
      "A: The patient's complex medical history and comorbidities, including urinary catheter-related infection, sepsis, secondary malignant neoplasm of the bladder, diabetes, COPD, urinary tract infection, adverse incidents associated with medical devices, hyperlipidemia, hypertension, atherosclerotic heart disease, personal history of other malignant neoplasm of kidney, benign prostatic hyperplasia, GERD, personal history of nicotine dependence, major depressive disorder, and chronic pain, were considered during their ED stay.\n",
      "\n",
      "P: The patient received thorough monitoring and supportive care during their stay in the ED. The provision of oxygen and intravenous fluids was ensured. Analgesics were administered to manage the patient's pain. The patient's vital signs were closely monitored and antibiotics were initiated to address their infection. Consultations with appropriate specialists were made to address the multiple medical concerns and coordinate further management.\n",
      "\n",
      "Upon stabilization, the patient was transferred to an appropriate inpatient unit for further evaluation and management of their complex medical conditions. Communication was made with the receiving team to ensure a smooth transition of care.\n",
      "\n",
      "Follow-up appointments were scheduled for the patient with the relevant specialists to address the multidimensional aspects of their healthcare needs. Symptom management, disease control, and appropriate supportive care were emphasized during the patient's stay in the ED.\n",
      "\n",
      "Please note that the documentation regarding the patient's specific labs, procedures, and medications during their ED stay is unavailable.\n",
      "\n",
      "----------------------------------------------------------------------\n",
      "\n",
      "Subjective:\n",
      "Mr. ___, a 62-year-old male, was admitted to the hospital with complaints of right flank pain. He has been diagnosed with multiple conditions including infection and inflammatory reaction due to other urinary catheter, sepsis, secondary malignant neoplasm of bladder, type 2 diabetes mellitus, chronic obstructive pulmonary disease (COPD), urinary tract infection (UTI), unspecified medical devices associated with adverse incidents, hyperlipidemia, essential hypertension, atherosclerotic heart disease, personal history of other malignant neoplasm of kidney, benign prostatic hyperplasia, gastro-esophageal reflux disease (GERD), personal history of nicotine dependence, major depressive disorder, and other chronic pain.\n",
      "\n",
      "Objective:\n",
      "During his stay in the Medicine ward, Mr. ___ received various medications. These include Albuterol Inhaler, Senna 8.6 mg Tablet, Heparin 5000 Units / mL- 1mL Vial, Finasteride 5mg Tablet, Linezolid 600mg Tablet, Glucagon 1mg Vial, Aspirin 81mg Tab, Dextrose 50% 25 g / 50 mL Syringe, Insulin 100 Units / mL - 10 mL Vial, Glucose Gel 15 g Tube, Atorvastatin 40mg Tablet, Fluticasone-Salmeterol Diskus (250/50) 250/50mcg Diskus, Sodium Chloride 0.9% Flush 10 mL Syringe, Omeprazole 20mg DR Capsule, Metoprolol Succinate XL 50mg XL Tab, Docusate Sodium 100mg Capsule, Acetaminophen 325mg Tablet, and Tiotropium Bromide 18mcg Capsule-Inhalation Device.\n",
      "\n",
      "Vitals:\n",
      "Vital signs were stable throughout the hospital stay, with no significant abnormalities noted.\n",
      "\n",
      "Lab results:\n",
      "Hematology:\n",
      "- Hemoglobin: 10.8 g/dL (low)\n",
      "- Platelet Count: 203 K/uL (normal)\n",
      "- White Blood Cells: 14.3 K/uL (elevated)\n",
      "\n",
      "Chemistry:\n",
      "- Hematology Blood Hematocrit: 33.0% (normal)\n",
      "- Hematology Blood MCH: 31.0 pg (normal)\n",
      "- Hematology Blood MCHC: 32.7 g/dL (normal)\n",
      "- Hematology Blood MCV: 95 fL (normal)\n",
      "- Hematology Blood RDW: 16.4% (normal)\n",
      "- Hematology Blood Red Blood Cells: 3.48 m/uL (normal)\n",
      "\n",
      "- Anion Gap: ___ mEq/L (result not available)\n",
      "- Bicarbonate: 26 mEq/L (normal)\n",
      "- Calcium, Total: 9.7 mg/dL (normal)\n",
      "- Chloride: 111 mEq/L (normal)\n",
      "- Creatinine: 1.0 mg/dL (normal)\n",
      "- Glucose: ___ mg/dL (result not available)\n",
      "- Magnesium: 1.7 mg/dL (normal)\n",
      "- Phosphate: 2.9 mg/dL (normal)\n",
      "- Potassium: 4.3 mEq/L (normal)\n",
      "- Sodium: ___ mEq/L (result not available)\n",
      "- Urea Nitrogen: 18 mg/dL (normal)\n",
      "\n",
      "Assessment:\n",
      "1. Infection and inflammatory reaction due to other urinary catheter, initial encounter\n",
      "2. Sepsis, unspecified organism\n",
      "3. Secondary malignant neoplasm of bladder\n",
      "4. Type 2 diabetes mellitus without complications\n",
      "5. Chronic obstructive pulmonary disease, unspecified\n",
      "6. Urinary tract infection, site not specified\n",
      "7. Unspecified medical devices associated with adverse incidents\n",
      "8. Unspecified place in unspecified non-institutional (private) residence as the place of occurrence of the external cause\n",
      "9. Hyperlipidemia, unspecified\n",
      "10. Essential (primary) hypertension\n",
      "11. Atherosclerotic heart disease of native coronary artery without angina pectoris\n",
      "12. Personal history of other malignant neoplasm of kidney\n",
      "13. Benign prostatic hyperplasia without lower urinary tract symptoms\n",
      "14. Gastro-esophageal reflux disease without esophagitis\n",
      "15. Personal history of nicotine dependence\n",
      "16. Major depressive disorder, single episode, unspecified\n",
      "17. Other chronic pain\n",
      "\n",
      "Plan:\n",
      "Mr. ___'s management during his stay in the Medicine ward was focused on the treatment of his various conditions. He received appropriate medication therapy for each diagnosis. The specific management plan was tailored to control infections, ensure adequate pain control, optimize glycemic control, manage hypertension, COPD symptoms, and other chronic pain, and monitor the known history of malignancies.\n",
      "\n",
      "The patient's vital signs remained stable and there were no significant abnormalities noted during his hospital course. The laboratory values showed a low hemoglobin level, which may require monitoring and appropriate intervention. However, the availability of some lab results is pending.\n",
      "\n",
      "The multidisciplinary approach involved the coordination of care between the medicine team, infectious disease specialists, urologists, endocrinologists, and psychiatrists to address the various conditions and provide comprehensive care. The patient's condition improved during his stay, and he was transferred to the appropriate specialty service for further management.\n",
      "\n",
      "Continued monitoring of lab results, vitals, and response to treatments is necessary to ensure the patient's ongoing well-being and management of his complex medical history.\n"
     ]
    }
   ],
   "source": [
    "print(\"\\n----------------------------------------------------------------------\\n\")\n",
    "print(soap_notes['gpt_SOAP_note'].tolist()[0])\n",
    "print(\"\\n----------------------------------------------------------------------\\n\")\n",
    "print(soap_notes['gpt_SOAP_note'].tolist()[1])"
   ]
  },
  {
   "cell_type": "markdown",
   "id": "01bae5ba-cfeb-447a-8ebd-73b7a9223367",
   "metadata": {},
   "source": [
    "## Full Discharge Summary"
   ]
  },
  {
   "cell_type": "code",
   "execution_count": 43,
   "id": "c49f332b-eb9c-4ed1-b02e-1670979fa3be",
   "metadata": {
    "scrolled": true
   },
   "outputs": [
    {
     "name": "stdout",
     "output_type": "stream",
     "text": [
      " \n",
      "Name:  ___                   Unit No:   ___\n",
      " \n",
      "Admission Date:  ___              Discharge Date:   ___\n",
      " \n",
      "Date of Birth:  ___             Sex:   M\n",
      " \n",
      "Service: MEDICINE\n",
      " \n",
      "Allergies: \n",
      "terazosin / doxazosin / chocolate flavor / montelukast / \n",
      "tamsulosin / garlic\n",
      " \n",
      "Attending: ___.\n",
      " \n",
      "Chief Complaint:\n",
      "flank pain\n",
      " \n",
      "Major Surgical or Invasive Procedure:\n",
      "None\n",
      "\n",
      " \n",
      "History of Present Illness:\n",
      " Mr ___ is a ___ with history of\n",
      "BPH, kidney cancer s/p L nephrectomy ___ years ago, known \n",
      "bladder\n",
      "mets and recurrent UTIs with foley in place due to obstructive\n",
      "uropathy from bladder masses who presents with ___ days R flank\n",
      "and back pain extending to the R groin. No fevers or frank\n",
      "pyuria. Intermittent hematuria. UCX drawn in the ED on ___\n",
      "growing VRE sensitive only to linezolid.  Pt had not yet been\n",
      "started on abx on arrival to the ED.  \n",
      "\n",
      "In the ED, initial vitals were: 97.2 114 158/98 16 99% RA.  Labs\n",
      "were notable for WBC 20.1, positive UA.   He was found to have\n",
      "R-sided abd pain and CVA tenderness.  CTAP showed no acute\n",
      "process.  EKG showed NSR.  Pt was given linezolid and 1 L NS,\n",
      "admitted to medicine for further management of urosepsis.\n",
      " \n",
      "On the floor, he c/o on and off again pain in \"lower R bladder\",\n",
      "denies back pain.  Denies respiratory complaints.  He has \n",
      "sternal\n",
      "CP which has been present for ___ years.   No fevers at home.  No\n",
      "cough. \n",
      "\n",
      " \n",
      "Past Medical History:\n",
      "COPD (stage III COPD, FEV1 47%, FVC 87%, FEV1/FVC 54; most \n",
      "recent CT w/ severe pan-lobular emphysema)\n",
      "renal cancer s/p L nephrectomy\n",
      "Bladder cancer w/ recurrent UTIs & pyelonephritis\n",
      "T2DM\n",
      "HTN\n",
      "HLD\n",
      "GERD\n",
      "BPH\n",
      "anxiety & depression\n",
      "CAD\n",
      "\n",
      " \n",
      "Social History:\n",
      "___\n",
      "Family History:\n",
      "Father and sister with bladder cancer. Mom with ___ \n",
      "Spotted Fever and subsequent renal failure, now deceased.  \n",
      "\n",
      " \n",
      "Physical Exam:\n",
      "Admission physical exam\n",
      "Vitals: 97.7 PO106 / ___\n",
      "Constitutional: Sleepy but arousable, no acute distress\n",
      "EYES: Sclera anicteric,  EOMI, PERRL\n",
      "ENMT: MMM, oropharynx clear, normal hearing, normal nares\n",
      "CV: Regular rate and rhythm, normal S1 + S2, no murmurs, rubs,\n",
      "gallops, CP reproducible with palpation of sternum\n",
      "Respiratory: Clear to auscultation bilaterally, no wheezes,\n",
      "rales, rhonchi\n",
      "GI: Soft, ttp in suprapubic region, non-distended, bowel sounds\n",
      "present, no organomegaly, no rebound or guarding\n",
      "GU: Foley in place draining clear urine, + bilat CVA tenderness\n",
      "EXT: Warm, well perfused, 1+ bilat ___ \n",
      "NEURO: aaox3 CNII-XII and strength grossly intact \n",
      "SKIN: no rashes or lesions\n",
      "\n",
      "Discharge physical exam\n",
      "Vitals: 97.7 93/63 72 18 95 RA\n",
      "General: well appearing, non-toxic, refusing physical exam \n",
      "Eyes: anicteric\n",
      "ENT: moist tongue\n",
      "CV: pulse regular\n",
      "Respi: unlabored\n",
      "Neuro: face symmetric, gait normal, speech fluent, oriented x3\n",
      "Psych: agitated\n",
      " \n",
      "Pertinent Results:\n",
      "Admission labs\n",
      "___ 12:10AM BLOOD WBC-20.1* RBC-3.84* Hgb-11.7* Hct-35.7* \n",
      "MCV-93 MCH-30.5 MCHC-32.8 RDW-16.6* RDWSD-53.7* Plt ___\n",
      "___ 12:10AM BLOOD Glucose-76 UreaN-16 Creat-1.0 Na-141 \n",
      "K-7.5* Cl-106 HCO3-27 AnGap-8*\n",
      "___ 06:10AM BLOOD Calcium-9.7 Phos-2.9 Mg-1.7\n",
      "___ 12:23AM BLOOD Lactate-2.0 K-4.9\n",
      "\n",
      "Discharge labs\n",
      "___ 07:38AM BLOOD WBC-12.7* RBC-3.91* Hgb-12.0* Hct-36.9* \n",
      "MCV-94 MCH-30.7 MCHC-32.5 RDW-16.4* RDWSD-56.1* Plt ___\n",
      "___ 07:38AM BLOOD Glucose-122* UreaN-20 Creat-1.2 Na-143 \n",
      "K-4.6 Cl-107 HCO3-25 AnGap-11\n",
      "___ 07:38AM BLOOD Calcium-10.2 Phos-3.1 Mg-1.6\n",
      "\n",
      "Microbiology\n",
      "___ 12:10 am URINE     Site: NOT SPECIFIED\n",
      "\n",
      "   URINE CULTURE (Preliminary): \n",
      "      ENTEROCOCCUS SP..    >100,000 CFU/mL. \n",
      "\n",
      "___ 12:10 am BLOOD CULTURE\n",
      "\n",
      "   Blood Culture, Routine (Pending): \n",
      "\n",
      "___ 11:20 pm URINE\n",
      "\n",
      "                            **FINAL REPORT ___\n",
      "\n",
      "   URINE CULTURE (Final ___: \n",
      "      MIXED BACTERIAL FLORA ( >= 3 COLONY TYPES), CONSISTENT \n",
      "WITH SKIN\n",
      "      AND/OR GENITAL CONTAMINATION. \n",
      "      ENTEROCOCCUS SP..    >100,000 CFU/mL.  PREDOMINATING \n",
      "ORGANISM. \n",
      "         INTERPRET RESULTS WITH CAUTION. \n",
      "\n",
      "                              SENSITIVITIES: MIC expressed in \n",
      "MCG/ML\n",
      "                      \n",
      "_________________________________________________________\n",
      "                             ENTEROCOCCUS SP.\n",
      "                             |   \n",
      "AMPICILLIN------------  =>32 R\n",
      "LINEZOLID-------------     2 S\n",
      "NITROFURANTOIN--------    64 I\n",
      "TETRACYCLINE----------  =>16 R\n",
      "VANCOMYCIN------------  =>32 R\n",
      " \n",
      "Brief Hospital Course:\n",
      "___ yo M with hx COPD, renal ca, bladder cancer with chronic \n",
      "indwelling foley now presenting with flankpain and abnormal UA \n",
      "with VRE growing in urine cxs.\n",
      "\n",
      "ACTIVE ISSUES\n",
      "# Sepsis\n",
      "# VRE UTI\n",
      "Has chronic indwelling Foley due to known bladder cancer. \n",
      "Refused exchange of Foley, as noted this was done just prior to \n",
      "presentation at ___ (no documentation of this found in ___ \n",
      "record). Was non-toxic appearing and vitals stabilized on \n",
      "admission. Urine culture grew VRE. Treated with linezolid x7 \n",
      "days (to continue at home) -- HELD escitalopram until ___ to \n",
      "avoid Serotonin syndrome. Patient counseled on this. \n",
      "Patient improved from sepsis rapidly, though WBC still slightly \n",
      "elevated. Clinically sepsis resolved, and infection improving. \n",
      "Patient very angered and believed was never seen by physician at \n",
      "___ (though documented 2 visits with MD). Demanded to leave \n",
      "hospital. Patient was medically stable for discharge; reviewed \n",
      "with patient medical plan on discharge. An Rx was generated for \n",
      "linezolid, though patient eloped from hospital before PIV \n",
      "removed and Rx given. ___ and RN searched floor & lobby and \n",
      "patient not found. Called patient, though phone message \n",
      "indicated \"not receiving calls.\" Similar message also \n",
      "encountered when called HCP and alternate HCP. No prior history \n",
      "of IV drug use, but communicated with PCP that eloped with PIV \n",
      "in place. Rx sent to patient's preferred pharmacy, in event they \n",
      "can reach him -- also included note to pharmacy to hold \n",
      "escitalopram, as above, given concomitant linezolid use. \n",
      "\n",
      "CHRONIC ISSUES\n",
      "# Chest pain, likely \n",
      "# Costochondritis: chronic, reproducible on exam, EKG WNL, very \n",
      "low concern for ACS.\n",
      "# Depression: held ecitalopram given interaction with linezolid\n",
      "# DM: ISS while in house; resumed metformin on discharge. \n",
      "# COPD: Continued albuterol, tiotropium\n",
      "# CAD: continued home asa, metop, statin\n",
      "# GERD: continued metoprolol \n",
      "\n",
      "TRANSITIONAL ISSUES\n",
      "=====================\n",
      "- Pulmonary nodule: repeat CT in 12 months \n",
      "- Treatment of UTI with linezolid final day, ___\n",
      "- Restart escitalopram on ___ \n",
      "\n",
      "35 minutes was spent on coordination of care, counseling & \n",
      "discharge planning. \n",
      " \n",
      "Medications on Admission:\n",
      "The Preadmission Medication list is accurate and complete.\n",
      "1. Albuterol Inhaler 2 PUFF IH Q6H:PRN sob \n",
      "2. Aspirin 81 mg PO DAILY \n",
      "3. Docusate Sodium 100 mg PO BID \n",
      "4. Escitalopram Oxalate 2.5 mg PO DAILY \n",
      "5. Finasteride 5 mg PO DAILY \n",
      "6. fluticasone-salmeterol 100-50 mcg/dose inhalation BID \n",
      "7. Furosemide 20 mg PO DAILY \n",
      "8. MetFORMIN (Glucophage) 500 mg PO DAILY \n",
      "9. Metoprolol Succinate XL 50 mg PO DAILY \n",
      "10. Omeprazole 40 mg PO DAILY \n",
      "11. Senna 8.6 mg PO BID:PRN constipation \n",
      "12. Tiotropium Bromide 1 CAP IH DAILY \n",
      "13. Atorvastatin 40 mg PO QPM \n",
      "\n",
      " \n",
      "Discharge Medications:\n",
      "1.  Linezolid ___ mg PO Q12H Duration: 11 Doses \n",
      "RX *linezolid ___ mg 1 tablet(s) by mouth twice daily Disp #*11 \n",
      "Tablet Refills:*0 \n",
      "2.  Phenazopyridine 100 mg PO TID:PRN bladder spasm Duration: 3 \n",
      "Days \n",
      "RX *phenazopyridine 100 mg 1 tablet(s) by mouth three times a \n",
      "day Disp #*9 Tablet Refills:*0 \n",
      "3.  Albuterol Inhaler 2 PUFF IH Q6H:PRN sob  \n",
      "4.  Aspirin 81 mg PO DAILY  \n",
      "5.  Atorvastatin 40 mg PO QPM  \n",
      "6.  Docusate Sodium 100 mg PO BID  \n",
      "7.  Finasteride 5 mg PO DAILY  \n",
      "8.  fluticasone-salmeterol 100-50 mcg/dose inhalation BID  \n",
      "9.  Furosemide 20 mg PO DAILY  \n",
      "10.  MetFORMIN (Glucophage) 500 mg PO DAILY  \n",
      "11.  Metoprolol Succinate XL 50 mg PO DAILY  \n",
      "12.  Omeprazole 40 mg PO DAILY  \n",
      "13.  Senna 8.6 mg PO BID:PRN constipation  \n",
      "14.  Tiotropium Bromide 1 CAP IH DAILY  \n",
      "15. HELD- Escitalopram Oxalate 2.5 mg PO DAILY  This medication \n",
      "was held. Do not restart Escitalopram Oxalate until 72 hours \n",
      "after completing your antibiotics (Linezolid), ___, to \n",
      "avoid a potentially LIFE THREATENING drug-drug \n",
      "interaction/effect. \n",
      "\n",
      " \n",
      "Discharge Disposition:\n",
      "Home\n",
      " \n",
      "Discharge Diagnosis:\n",
      "Primary diagnosis\n",
      "Urinary tract infection\n",
      "Sepsis\n",
      "\n",
      "Secondary\n",
      "Chronic chest pain\n",
      "\n",
      " \n",
      "Discharge Condition:\n",
      "Mental Status: Clear and coherent.\n",
      "Level of Consciousness: Alert and interactive.\n",
      "Activity Status: Ambulatory - Independent.\n",
      "\n",
      " \n",
      "Discharge Instructions:\n",
      "Dear Mr ___,\n",
      "\n",
      "You were admitted due to flank pain and found to have a urinary \n",
      "tract infection. The bacteria you had was very resistant to a \n",
      "few antibiotics thus you were started treatment on Linezolid.\n",
      "\n",
      "Please continue to take your antibiotics and we recommend \n",
      "straight cath rather than the foley tube.\n",
      "\n",
      "It was a pleasure being part of your care\n",
      "Your ___ Team\n",
      " \n",
      "Followup Instructions:\n",
      "___\n",
      "\n"
     ]
    }
   ],
   "source": [
    "print(discharges[discharges['hadm_id'] == soap_notes.iloc[0]['hadm_id']]['text'].squeeze())"
   ]
  },
  {
   "cell_type": "code",
   "execution_count": null,
   "id": "c9a464bd-3579-4743-b76a-fff02d7ad6d9",
   "metadata": {},
   "outputs": [],
   "source": []
  }
 ],
 "metadata": {
  "kernelspec": {
   "display_name": "Python 3 (ipykernel)",
   "language": "python",
   "name": "python3"
  },
  "language_info": {
   "codemirror_mode": {
    "name": "ipython",
    "version": 3
   },
   "file_extension": ".py",
   "mimetype": "text/x-python",
   "name": "python",
   "nbconvert_exporter": "python",
   "pygments_lexer": "ipython3",
   "version": "3.10.13"
  },
  "widgets": {
   "application/vnd.jupyter.widget-state+json": {
    "state": {},
    "version_major": 2,
    "version_minor": 0
   }
  }
 },
 "nbformat": 4,
 "nbformat_minor": 5
}
