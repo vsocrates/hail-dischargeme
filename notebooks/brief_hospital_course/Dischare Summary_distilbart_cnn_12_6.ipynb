{
 "cells": [
  {
   "cell_type": "markdown",
   "metadata": {
    "id": "HaFnDDS1ewBs"
   },
   "source": [
    "**An Automated Discharge Summary system Built for\n",
    "Multiple Clinical Texts by Pre-trained distilbart Model**"
   ]
  },
  {
   "cell_type": "markdown",
   "metadata": {
    "id": "QGC-HTcrexEV"
   },
   "source": [
    "The code mounts Google Drive into the Colab environment, allowing access to files and folders stored in the Google Drive."
   ]
  },
  {
   "cell_type": "markdown",
   "metadata": {
    "id": "DGfGGxqCfOvM"
   },
   "source": [
    "Installind and importing necessary libraries"
   ]
  },
  {
   "cell_type": "code",
   "execution_count": 1,
   "metadata": {
    "id": "aNmzGIjEfZm4"
   },
   "outputs": [
    {
     "name": "stderr",
     "output_type": "stream",
     "text": [
      "2024-02-23 14:15:27.841029: I tensorflow/core/util/port.cc:113] oneDNN custom operations are on. You may see slightly different numerical results due to floating-point round-off errors from different computation orders. To turn them off, set the environment variable `TF_ENABLE_ONEDNN_OPTS=0`.\n",
      "2024-02-23 14:15:27.877635: E external/local_xla/xla/stream_executor/cuda/cuda_dnn.cc:9261] Unable to register cuDNN factory: Attempting to register factory for plugin cuDNN when one has already been registered\n",
      "2024-02-23 14:15:27.877673: E external/local_xla/xla/stream_executor/cuda/cuda_fft.cc:607] Unable to register cuFFT factory: Attempting to register factory for plugin cuFFT when one has already been registered\n",
      "2024-02-23 14:15:27.878777: E external/local_xla/xla/stream_executor/cuda/cuda_blas.cc:1515] Unable to register cuBLAS factory: Attempting to register factory for plugin cuBLAS when one has already been registered\n",
      "2024-02-23 14:15:27.885540: I tensorflow/core/platform/cpu_feature_guard.cc:182] This TensorFlow binary is optimized to use available CPU instructions in performance-critical operations.\n",
      "To enable the following instructions: AVX2 AVX512F AVX512_VNNI FMA, in other operations, rebuild TensorFlow with the appropriate compiler flags.\n",
      "2024-02-23 14:15:28.721149: W tensorflow/compiler/tf2tensorrt/utils/py_utils.cc:38] TF-TRT Warning: Could not find TensorRT\n"
     ]
    }
   ],
   "source": [
    "import pandas as pd\n",
    "import numpy as np\n",
    "import tensorflow as tf\n",
    "from datasets import load_dataset\n",
    "from sklearn.model_selection import train_test_split\n",
    "from transformers import BartTokenizer, TFBartForConditionalGeneration\n",
    "from transformers import AutoTokenizer\n",
    "from sklearn.model_selection import train_test_split"
   ]
  },
  {
   "cell_type": "code",
   "execution_count": 2,
   "metadata": {},
   "outputs": [
    {
     "name": "stderr",
     "output_type": "stream",
     "text": [
      "[nltk_data] Downloading package punkt to /home/vs428/nltk_data...\n",
      "[nltk_data]   Package punkt is already up-to-date!\n",
      "[nltk_data] Downloading package stopwords to /home/vs428/nltk_data...\n",
      "[nltk_data]   Package stopwords is already up-to-date!\n"
     ]
    }
   ],
   "source": [
    "from datasets import load_metric\n",
    "from tqdm import tqdm\n",
    "import numpy as np\n",
    "import nltk\n",
    "nltk.download(\"punkt\")\n",
    "nltk.download('stopwords')\n",
    "from nltk.tokenize import sent_tokenize\n"
   ]
  },
  {
   "cell_type": "code",
   "execution_count": 3,
   "metadata": {},
   "outputs": [],
   "source": [
    "from datasets import Features, Value"
   ]
  },
  {
   "cell_type": "markdown",
   "metadata": {
    "id": "2awrCpVGfjb5"
   },
   "source": [
    "The code reads a CSV dataset named \"sample_data_1000.csv\" from the mounted Google Drive and loads it into a variable called \"Dataset_for_BART_Model.\" Then, it uses the Hugging Face's `load_dataset` function to load the same CSV dataset into a variable called \"ds.\""
   ]
  },
  {
   "cell_type": "code",
   "execution_count": 4,
   "metadata": {
    "colab": {
     "base_uri": "https://localhost:8080/",
     "height": 87,
     "referenced_widgets": [
      "e14778774573423f80ea12b4c159b604",
      "5142ebc604354707a59e3a89947f12fa",
      "2b28f4138c6d4c4794a6fcb89a04e8e2",
      "ca55c674bcd94494a7de0a99f2ec7c6c",
      "2364980adef64751b08bbab51e9eb239",
      "7c41f6f0ebca421fb2d7a22809c0c52a",
      "f2c25a15889e45d5b0aadcb58d8ef38b",
      "ff5ef3f234fe4837a007f71158d2e26c",
      "428640bf1cbb485e81c604c4160deb81",
      "afbe586f64a54b7fbed583524a6f2f47",
      "7591e1c168284e67baa69f03db96d41f"
     ]
    },
    "id": "GF8EBjmpfZpk",
    "outputId": "e146ce28-b916-4046-c62a-231fe57d8964"
   },
   "outputs": [
    {
     "name": "stderr",
     "output_type": "stream",
     "text": [
      "Found cached dataset csv (/home/vs428/.cache/huggingface/datasets/csv/default-0ee6477ca1b61895/0.0.0/eea64c71ca8b46dd3f537ed218fc9bf495d5707789152eb2764f5c78fa66d59d)\n"
     ]
    },
    {
     "data": {
      "application/vnd.jupyter.widget-view+json": {
       "model_id": "b149a98a767049a6a8c41f625199f21d",
       "version_major": 2,
       "version_minor": 0
      },
      "text/plain": [
       "  0%|          | 0/1 [00:00<?, ?it/s]"
      ]
     },
     "metadata": {},
     "output_type": "display_data"
    }
   ],
   "source": [
    "Dataset_for_BART_Model = pd.read_csv('/gpfs/milgram/project/rtaylor/shared/DischargeMe/combined_data_export_with_prompts.csv')\n",
    "ds = load_dataset('csv',\n",
    "                    data_files = '/gpfs/milgram/project/rtaylor/shared/DischargeMe/combined_data_export_with_prompts.csv',\n",
    "                 # features=Features({\n",
    "                 #     \"idx\":Value(dtype=\"int32\", id=None),\n",
    "                 #     \"hadm_id\":Value(dtype=\"int32\", id=None),\n",
    "                 #     \"brief_hospital_course\":Value(dtype=\"string\", id=None),\n",
    "                 #     \"prompts\":Value(dtype=\"string\", id=None),\n",
    "                 # })\n",
    "                 )\n"
   ]
  },
  {
   "cell_type": "code",
   "execution_count": 5,
   "metadata": {},
   "outputs": [
    {
     "data": {
      "text/plain": [
       "Index(['idx', 'hadm_id', 'brief_hospital_course', 'prompts'], dtype='object')"
      ]
     },
     "execution_count": 5,
     "metadata": {},
     "output_type": "execute_result"
    }
   ],
   "source": [
    "Dataset_for_BART_Model.columns"
   ]
  },
  {
   "cell_type": "code",
   "execution_count": 6,
   "metadata": {
    "colab": {
     "base_uri": "https://localhost:8080/"
    },
    "id": "kaClVqJrfZu1",
    "outputId": "0ba60077-68d4-44ee-f00a-cca681f7ee28"
   },
   "outputs": [
    {
     "name": "stderr",
     "output_type": "stream",
     "text": [
      "Loading cached processed dataset at /home/vs428/.cache/huggingface/datasets/csv/default-0ee6477ca1b61895/0.0.0/eea64c71ca8b46dd3f537ed218fc9bf495d5707789152eb2764f5c78fa66d59d/cache-01a4263d58b6ac36.arrow\n"
     ]
    }
   ],
   "source": [
    "def convert_to_string(example):\n",
    "  for key in example.keys():\n",
    "    example[key] = str(example[key])\n",
    "  return example\n",
    "\n",
    "ds = ds.map(convert_to_string)"
   ]
  },
  {
   "cell_type": "code",
   "execution_count": 7,
   "metadata": {
    "colab": {
     "base_uri": "https://localhost:8080/"
    },
    "id": "uPM3pJEsfZ0E",
    "outputId": "303564f6-9487-43a4-9651-48d255634261"
   },
   "outputs": [],
   "source": [
    "# Load model directly\n",
    "from transformers import AutoTokenizer, AutoModelForSeq2SeqLM\n",
    "\n",
    "tokenizer = AutoTokenizer.from_pretrained(\"sshleifer/distilbart-cnn-12-6\")\n",
    "model = AutoModelForSeq2SeqLM.from_pretrained(\"sshleifer/distilbart-cnn-12-6\")"
   ]
  },
  {
   "cell_type": "code",
   "execution_count": 8,
   "metadata": {
    "id": "fzlDhH0qfZ3o"
   },
   "outputs": [],
   "source": [
    "model_name = \"sshleifer/distilbart-cnn-12-6\""
   ]
  },
  {
   "cell_type": "code",
   "execution_count": 9,
   "metadata": {},
   "outputs": [
    {
     "data": {
      "text/plain": [
       "BartForConditionalGeneration(\n",
       "  (model): BartModel(\n",
       "    (shared): Embedding(50264, 1024, padding_idx=1)\n",
       "    (encoder): BartEncoder(\n",
       "      (embed_tokens): Embedding(50264, 1024, padding_idx=1)\n",
       "      (embed_positions): BartLearnedPositionalEmbedding(1026, 1024)\n",
       "      (layers): ModuleList(\n",
       "        (0-11): 12 x BartEncoderLayer(\n",
       "          (self_attn): BartAttention(\n",
       "            (k_proj): Linear(in_features=1024, out_features=1024, bias=True)\n",
       "            (v_proj): Linear(in_features=1024, out_features=1024, bias=True)\n",
       "            (q_proj): Linear(in_features=1024, out_features=1024, bias=True)\n",
       "            (out_proj): Linear(in_features=1024, out_features=1024, bias=True)\n",
       "          )\n",
       "          (self_attn_layer_norm): LayerNorm((1024,), eps=1e-05, elementwise_affine=True)\n",
       "          (activation_fn): GELUActivation()\n",
       "          (fc1): Linear(in_features=1024, out_features=4096, bias=True)\n",
       "          (fc2): Linear(in_features=4096, out_features=1024, bias=True)\n",
       "          (final_layer_norm): LayerNorm((1024,), eps=1e-05, elementwise_affine=True)\n",
       "        )\n",
       "      )\n",
       "      (layernorm_embedding): LayerNorm((1024,), eps=1e-05, elementwise_affine=True)\n",
       "    )\n",
       "    (decoder): BartDecoder(\n",
       "      (embed_tokens): Embedding(50264, 1024, padding_idx=1)\n",
       "      (embed_positions): BartLearnedPositionalEmbedding(1026, 1024)\n",
       "      (layers): ModuleList(\n",
       "        (0-5): 6 x BartDecoderLayer(\n",
       "          (self_attn): BartAttention(\n",
       "            (k_proj): Linear(in_features=1024, out_features=1024, bias=True)\n",
       "            (v_proj): Linear(in_features=1024, out_features=1024, bias=True)\n",
       "            (q_proj): Linear(in_features=1024, out_features=1024, bias=True)\n",
       "            (out_proj): Linear(in_features=1024, out_features=1024, bias=True)\n",
       "          )\n",
       "          (activation_fn): GELUActivation()\n",
       "          (self_attn_layer_norm): LayerNorm((1024,), eps=1e-05, elementwise_affine=True)\n",
       "          (encoder_attn): BartAttention(\n",
       "            (k_proj): Linear(in_features=1024, out_features=1024, bias=True)\n",
       "            (v_proj): Linear(in_features=1024, out_features=1024, bias=True)\n",
       "            (q_proj): Linear(in_features=1024, out_features=1024, bias=True)\n",
       "            (out_proj): Linear(in_features=1024, out_features=1024, bias=True)\n",
       "          )\n",
       "          (encoder_attn_layer_norm): LayerNorm((1024,), eps=1e-05, elementwise_affine=True)\n",
       "          (fc1): Linear(in_features=1024, out_features=4096, bias=True)\n",
       "          (fc2): Linear(in_features=4096, out_features=1024, bias=True)\n",
       "          (final_layer_norm): LayerNorm((1024,), eps=1e-05, elementwise_affine=True)\n",
       "        )\n",
       "      )\n",
       "      (layernorm_embedding): LayerNorm((1024,), eps=1e-05, elementwise_affine=True)\n",
       "    )\n",
       "  )\n",
       "  (lm_head): Linear(in_features=1024, out_features=50264, bias=False)\n",
       ")"
      ]
     },
     "execution_count": 9,
     "metadata": {},
     "output_type": "execute_result"
    }
   ],
   "source": [
    "# import torch\n",
    "# dev = torch.device(\"cuda\") if torch.cuda.is_available() else torch.device(\"cpu\")\n",
    "# model.to(dev)"
   ]
  },
  {
   "cell_type": "markdown",
   "metadata": {
    "id": "3CtebeUlgHUG"
   },
   "source": [
    "The code imports a configuration class called \"BartConfig\" from the Hugging Face's Transformers library. It then creates a BART model configuration by loading a pre-trained configuration named \"philschmid/tf-distilbart-cnn-12-6.\" The code accesses the maximum input dimension of the BART model configuration and stores it in the variable \"max_input_dimension.\""
   ]
  },
  {
   "cell_type": "code",
   "execution_count": 10,
   "metadata": {
    "colab": {
     "base_uri": "https://localhost:8080/"
    },
    "id": "S1I0k-d7fZ9l",
    "outputId": "d31df066-08f4-4ee4-d626-603ab1dd7582"
   },
   "outputs": [
    {
     "name": "stdout",
     "output_type": "stream",
     "text": [
      "Maximum Input Dimension: 1024\n"
     ]
    }
   ],
   "source": [
    "from transformers import BartConfig\n",
    "\n",
    "# Create a BART model configuration\n",
    "config = BartConfig.from_pretrained(\"sshleifer/distilbart-cnn-12-6\")\n",
    "\n",
    "# Access the maximum input dimension\n",
    "max_input_dimension = config.max_position_embeddings\n",
    "\n",
    "print(\"Maximum Input Dimension:\", max_input_dimension)"
   ]
  },
  {
   "cell_type": "code",
   "execution_count": 11,
   "metadata": {
    "id": "iuOirm_Yf4cV"
   },
   "outputs": [],
   "source": [
    "# tf.config.optimizer.set_experimental_options({\"auto_mixed_precision\": True})\n"
   ]
  },
  {
   "cell_type": "markdown",
   "metadata": {
    "id": "uROgt5oEgPmx"
   },
   "source": [
    "Preprocessing dataset"
   ]
  },
  {
   "cell_type": "code",
   "execution_count": 12,
   "metadata": {
    "id": "6gn5jxcUf4ks"
   },
   "outputs": [],
   "source": [
    "remove_columns = [\"hadm_id\"]\n",
    "\n",
    "ds = ds[\"train\"].remove_columns(remove_columns)\n"
   ]
  },
  {
   "cell_type": "code",
   "execution_count": null,
   "metadata": {
    "colab": {
     "base_uri": "https://localhost:8080/"
    },
    "id": "AvNAikS0gjKW",
    "outputId": "53ce99a0-7128-48d4-a550-db5b42d80626"
   },
   "outputs": [],
   "source": []
  },
  {
   "cell_type": "code",
   "execution_count": 13,
   "metadata": {
    "colab": {
     "base_uri": "https://localhost:8080/",
     "height": 91,
     "referenced_widgets": [
      "a2ac3ed12ad243d4afe3b17919dec71b",
      "af4da2e30f24439a89f9c729282b8145",
      "af545badcb054574bf9e618da9158769",
      "ffd7bf5af3824965b54af81402de51fa",
      "224b576a802f40e7bc185d0430098df7",
      "93cb3297a5ff462a888e2b9ea74a4261",
      "da9cf9b7019143559e47e13bdec6a9ae",
      "09d301cc9bcd4fe8af4f381c910c9a12",
      "5e73c61ca07a43baa40d1ddfbd811aab",
      "8527f16d972a46ae94e3bf087fc9319b",
      "1790ade1106747dcbcd502227cf9effe"
     ]
    },
    "id": "BlEuB9tBgM7x",
    "outputId": "060d2632-cce7-4a46-ced3-c483c03466cd"
   },
   "outputs": [
    {
     "name": "stderr",
     "output_type": "stream",
     "text": [
      "Parameter 'function'=<function preprocess_function at 0x151aefa46a70> of the transform datasets.arrow_dataset.Dataset._map_single couldn't be hashed properly, a random hash was used instead. Make sure your transforms and parameters are serializable with pickle or dill for the dataset fingerprinting and caching to work. If you reuse this transform, the caching mechanism will consider it to be different from the previous calls and recompute everything. This warning is only showed once. Subsequent hashing failures won't be showed.\n"
     ]
    },
    {
     "data": {
      "application/vnd.jupyter.widget-view+json": {
       "model_id": "",
       "version_major": 2,
       "version_minor": 0
      },
      "text/plain": [
       "Map:   0%|          | 0/500 [00:00<?, ? examples/s]"
      ]
     },
     "metadata": {},
     "output_type": "display_data"
    },
    {
     "name": "stderr",
     "output_type": "stream",
     "text": [
      "/gpfs/milgram/project/rtaylor/vs428/conda_envs/dischargeme/lib/python3.10/site-packages/transformers/tokenization_utils_base.py:3619: UserWarning: `as_target_tokenizer` is deprecated and will be removed in v5 of Transformers. You can tokenize your labels by using the argument `text_target` of the regular `__call__` method (either in the same call as your input texts if you use the same keyword arguments, or in a separate call.\n",
      "  warnings.warn(\n"
     ]
    }
   ],
   "source": [
    "\n",
    "max_input_length = 256 #400 #4000 #47000\n",
    "max_target_length = 256 #200 #1000 #10700\n",
    "#(10681.578, 46985.783)\n",
    "from nltk.corpus import stopwords\n",
    "from nltk.corpus import stopwords\n",
    "\n",
    "def preprocess_function(examples):\n",
    "    stop_words = set(stopwords.words('english')) # Get the English stop words\n",
    "\n",
    "    # Define a function to remove stop words from a given text\n",
    "    def remove_stop_words(text):\n",
    "        tokens = text.split()\n",
    "        filtered_tokens = [token for token in tokens if token.lower() not in stop_words]\n",
    "        return ' '.join(filtered_tokens)\n",
    "\n",
    "    # Remove stop words from examples['Concatenated_Text']\n",
    "    examples['prompts'] = [remove_stop_words(text) for text in examples['prompts']]\n",
    "\n",
    "    # Remove stop words from examples['Discharge summary']\n",
    "    examples['brief_hospital_course'] = [remove_stop_words(text) for text in examples['brief_hospital_course']]\n",
    "\n",
    "    model_inputs = tokenizer(\n",
    "        examples['prompts'],\n",
    "        max_length=max_input_length,\n",
    "        truncation=True,\n",
    "        padding=True,\n",
    "        return_tensors=\"pt\",\n",
    "    )\n",
    "\n",
    "    with tokenizer.as_target_tokenizer():\n",
    "        labels=tokenizer(\n",
    "            examples['brief_hospital_course'],\n",
    "            max_length=max_target_length,\n",
    "            truncation=True,\n",
    "            padding=True,\n",
    "            return_tensors=\"pt\",\n",
    "        )\n",
    "\n",
    "    model_inputs[\"labels\"] = labels[\"input_ids\"]\n",
    "    model_inputs[\"references\"] = examples['brief_hospital_course']\n",
    "\n",
    "    return model_inputs\n",
    "\n",
    "tokenized_datasets = ds.map(preprocess_function, batched=True)"
   ]
  },
  {
   "cell_type": "markdown",
   "metadata": {
    "id": "Tjn4wiaEgjAh"
   },
   "source": [
    "The code sets the value of the test size to 15% of the total dataset size. Then, it processes the tokenized dataset and splits it into training and testing subsets using the specified test size."
   ]
  },
  {
   "cell_type": "code",
   "execution_count": 14,
   "metadata": {
    "id": "dznQAD5fgM_c"
   },
   "outputs": [],
   "source": [
    "test_size=.15\n",
    "\n",
    "processed_dataset= tokenized_datasets.shuffle().train_test_split(test_size=test_size)"
   ]
  },
  {
   "cell_type": "markdown",
   "metadata": {
    "id": "Fsc3zAzAhJDZ"
   },
   "source": [
    "The code sets various configuration parameters for training a machine learning model using the Hugging Face Transformers library."
   ]
  },
  {
   "cell_type": "code",
   "execution_count": 15,
   "metadata": {
    "id": "d7ZUhlUwgNCU"
   },
   "outputs": [],
   "source": [
    "# import tensorflow as tf\n",
    "\n",
    "\n",
    "# num_train_epochs = 5\n",
    "# train_batch_size = 2\n",
    "# eval_batch_size = 2\n",
    "# learning_rate = 5.6e-5\n",
    "# weight_decay_rate= 0.01\n",
    "# num_warmup_steps= 155\n",
    "# output_dir=model_name.split(\"/\")[1]\n",
    "# # hub_token = HfFolder.get_token() \n",
    "# # hub_model_id = f'{model_name.split(\"/\")[1]}-tradetheevent'\n",
    "# fp16= False #True\n",
    "\n",
    "\n",
    "# if fp16:\n",
    "#   tf.keras.mixed_precision.set_global_policy(\"mixed_float16\")\n",
    "\n"
   ]
  },
  {
   "cell_type": "markdown",
   "metadata": {
    "id": "gTma8vtqie_J"
   },
   "source": [
    "The code imports a model class called \"TFAutoModelForSeq2SeqLM\" from the Hugging Face Transformers library. It then loads a pre-trained sequence-to-sequence language model using the \"from_pretrained\" method and stores it in the variable \"model.\""
   ]
  },
  {
   "cell_type": "markdown",
   "metadata": {
    "id": "DNTNLPm0i8V3"
   },
   "source": [
    "The code imports a data collator class called \"DataCollatorForSeq2Seq\" from the Hugging Face Transformers library. It creates a data collator instance named \"data_collator\" that dynamically pads the input and label sequences.\n",
    "\n",
    "Then, it converts the processed training dataset (\"processed_dataset['train']\") and testing dataset (\"processed_dataset['test']\") into TensorFlow `tf.data.Dataset` objects. During conversion, it selects specific columns (\"input_ids,\" \"attention_mask,\" and \"labels\") from the dataset and shuffles the training dataset. It uses the previously created \"data_collator\" to collate the data into batches based on the specified batch sizes for training and evaluation (\"train_batch_size\" and \"eval_batch_size,\" respectively)."
   ]
  },
  {
   "cell_type": "code",
   "execution_count": 16,
   "metadata": {},
   "outputs": [
    {
     "data": {
      "text/plain": [
       "'4.30.2'"
      ]
     },
     "execution_count": 16,
     "metadata": {},
     "output_type": "execute_result"
    }
   ],
   "source": [
    "import transformers\n",
    "transformers.__version__"
   ]
  },
  {
   "cell_type": "code",
   "execution_count": 17,
   "metadata": {},
   "outputs": [
    {
     "data": {
      "text/plain": [
       "Dataset({\n",
       "    features: ['idx', 'brief_hospital_course', 'prompts', 'input_ids', 'attention_mask', 'labels', 'references'],\n",
       "    num_rows: 425\n",
       "})"
      ]
     },
     "execution_count": 17,
     "metadata": {},
     "output_type": "execute_result"
    }
   ],
   "source": [
    "processed_dataset[\"train\"]"
   ]
  },
  {
   "cell_type": "code",
   "execution_count": 18,
   "metadata": {},
   "outputs": [
    {
     "data": {
      "text/plain": [
       "DatasetDict({\n",
       "    train: Dataset({\n",
       "        features: ['idx', 'brief_hospital_course', 'prompts', 'input_ids', 'attention_mask', 'labels', 'references'],\n",
       "        num_rows: 425\n",
       "    })\n",
       "    test: Dataset({\n",
       "        features: ['idx', 'brief_hospital_course', 'prompts', 'input_ids', 'attention_mask', 'labels', 'references'],\n",
       "        num_rows: 75\n",
       "    })\n",
       "})"
      ]
     },
     "execution_count": 18,
     "metadata": {},
     "output_type": "execute_result"
    }
   ],
   "source": [
    "processed_dataset"
   ]
  },
  {
   "cell_type": "code",
   "execution_count": 19,
   "metadata": {},
   "outputs": [],
   "source": [
    "remove_columns = ['idx', 'brief_hospital_course', \"prompts\"]\n",
    "\n",
    "processed_dataset = processed_dataset.remove_columns(remove_columns)\n"
   ]
  },
  {
   "cell_type": "code",
   "execution_count": 20,
   "metadata": {},
   "outputs": [
    {
     "data": {
      "text/plain": [
       "DatasetDict({\n",
       "    train: Dataset({\n",
       "        features: ['input_ids', 'attention_mask', 'labels', 'references'],\n",
       "        num_rows: 425\n",
       "    })\n",
       "    test: Dataset({\n",
       "        features: ['input_ids', 'attention_mask', 'labels', 'references'],\n",
       "        num_rows: 75\n",
       "    })\n",
       "})"
      ]
     },
     "execution_count": 20,
     "metadata": {},
     "output_type": "execute_result"
    }
   ],
   "source": [
    "processed_dataset"
   ]
  },
  {
   "cell_type": "code",
   "execution_count": 21,
   "metadata": {},
   "outputs": [
    {
     "data": {
      "text/plain": [
       "'2.13.0'"
      ]
     },
     "execution_count": 21,
     "metadata": {},
     "output_type": "execute_result"
    }
   ],
   "source": [
    "import datasets\n",
    "datasets.__version__\n",
    "\n",
    "# import transformers\n",
    "# transformers.__version__"
   ]
  },
  {
   "cell_type": "code",
   "execution_count": 22,
   "metadata": {},
   "outputs": [
    {
     "data": {
      "text/plain": [
       "{'input_ids': Sequence(feature=Value(dtype='int32', id=None), length=-1, id=None),\n",
       " 'attention_mask': Sequence(feature=Value(dtype='int8', id=None), length=-1, id=None),\n",
       " 'labels': Sequence(feature=Value(dtype='int64', id=None), length=-1, id=None),\n",
       " 'references': Value(dtype='string', id=None)}"
      ]
     },
     "execution_count": 22,
     "metadata": {},
     "output_type": "execute_result"
    }
   ],
   "source": [
    "processed_dataset['train'].features#.to_tf_dataset"
   ]
  },
  {
   "cell_type": "code",
   "execution_count": 23,
   "metadata": {},
   "outputs": [
    {
     "data": {
      "text/plain": [
       "DatasetDict({\n",
       "    train: Dataset({\n",
       "        features: ['input_ids', 'attention_mask', 'labels', 'references'],\n",
       "        num_rows: 425\n",
       "    })\n",
       "    test: Dataset({\n",
       "        features: ['input_ids', 'attention_mask', 'labels', 'references'],\n",
       "        num_rows: 75\n",
       "    })\n",
       "})"
      ]
     },
     "execution_count": 23,
     "metadata": {},
     "output_type": "execute_result"
    }
   ],
   "source": [
    "processed_dataset"
   ]
  },
  {
   "cell_type": "code",
   "execution_count": 25,
   "metadata": {
    "colab": {
     "base_uri": "https://localhost:8080/"
    },
    "id": "Z1ERw-1qhPdz",
    "outputId": "8b3cdbb3-e423-4088-ebd6-ff2e913e1528"
   },
   "outputs": [],
   "source": [
    "\n",
    "from transformers import DataCollatorForSeq2Seq\n",
    "\n",
    "# Data collator that will dynamically pad the inputs received, as well as the labels.\n",
    "data_collator = DataCollatorForSeq2Seq(tokenizer, model=model)\n",
    "\n",
    "# # converting our train dataset to tf.data.Dataset\n",
    "# tf_train_dataset = processed_dataset[\"train\"].to_tf_dataset(\n",
    "#    columns=[\"input_ids\", \"attention_mask\", \"labels\"],\n",
    "#    shuffle=True,\n",
    "#    batch_size=1,\n",
    "#    collate_fn=data_collator\n",
    "# )\n",
    "\n",
    "# # converting our test dataset to tf.data.Dataset\n",
    "# tf_eval_dataset = processed_dataset[\"test\"].to_tf_dataset(\n",
    "#    columns=[\"input_ids\", \"attention_mask\", \"labels\"],\n",
    "#    shuffle=True,\n",
    "#    batch_size=1,\n",
    "#    collate_fn=data_collator)\n"
   ]
  },
  {
   "cell_type": "code",
   "execution_count": null,
   "metadata": {},
   "outputs": [],
   "source": []
  },
  {
   "cell_type": "markdown",
   "metadata": {
    "id": "yM8a_oAdjOQH"
   },
   "source": [
    "The code imports a function called \"create_optimizer\" from the Hugging Face Transformers library. It creates an optimizer with weight decay, which is commonly used for fine-tuning machine learning models.\n",
    "\n",
    "The number of training steps is calculated based on the length of the training dataset and the number of training epochs. The optimizer is initialized with the specified learning rate, weight decay rate, and the number of warm-up steps.\n",
    "\n",
    "After creating the optimizer and learning rate schedule, the model is compiled using the specified optimizer."
   ]
  },
  {
   "cell_type": "code",
   "execution_count": 26,
   "metadata": {},
   "outputs": [],
   "source": [
    "from transformers import AutoModelForSeq2SeqLM, DataCollatorForSeq2Seq, Seq2SeqTrainingArguments, Seq2SeqTrainer\n"
   ]
  },
  {
   "cell_type": "code",
   "execution_count": 27,
   "metadata": {},
   "outputs": [],
   "source": [
    "batch_size = 1\n",
    "# model_name = model_checkpoint.split(\"/\")[-1]\n",
    "args = Seq2SeqTrainingArguments(\n",
    "    f\"{model_name}-finetuned-xsum\",\n",
    "    evaluation_strategy = \"epoch\",\n",
    "    learning_rate=2e-5,\n",
    "    per_device_train_batch_size=batch_size,\n",
    "    per_device_eval_batch_size=batch_size,\n",
    "    weight_decay=0.01,\n",
    "    save_total_limit=1,\n",
    "    num_train_epochs=1,\n",
    "    predict_with_generate=True,\n",
    "    fp16=True,\n",
    "\n",
    ")"
   ]
  },
  {
   "cell_type": "code",
   "execution_count": 28,
   "metadata": {
    "id": "W8oxAUBthPgz"
   },
   "outputs": [],
   "source": [
    "# from transformers import create_optimizer\n",
    "\n",
    "\n",
    "# # create optimizer wight weigh decay\n",
    "# num_train_steps = len(tf_train_dataset) * num_train_epochs\n",
    "# optimizer,lr_schedule = create_optimizer(\n",
    "#     init_lr=learning_rate,\n",
    "#     num_train_steps=num_train_steps,\n",
    "#     weight_decay_rate=weight_decay_rate,\n",
    "#     num_warmup_steps=num_warmup_steps,\n",
    "# )\n",
    "\n",
    "# # compile model\n",
    "# model.compile(optimizer=optimizer)\n"
   ]
  },
  {
   "cell_type": "markdown",
   "metadata": {
    "id": "Eml5QX4aj0VA"
   },
   "source": [
    "In this code, several callbacks are defined and stored in the \"callbacks\" list. First, the \"TensorboardCallback\" from TensorFlow is included to log training and evaluation metrics during model training. Then, an \"if\" condition checks if the \"hub_token\" variable has a value. If the condition is true (i.e., a valid Hugging Face Hub token is available), the \"PushToHubCallback\" from Hugging Face Transformers is included in the \"callbacks\" list. This callback is used to push the trained model and its associated tokenizer to the Hugging Face model hub, allowing easy sharing and version control of the model. The \"PushToHubCallback\" requires the \"output_dir,\" \"tokenizer,\" \"hub_model_id,\" and \"hub_token\" as inputs, which are provided accordingly in the callback definition."
   ]
  },
  {
   "cell_type": "code",
   "execution_count": 40,
   "metadata": {},
   "outputs": [],
   "source": [
    "import nltk\n",
    "import numpy as np\n",
    "\n",
    "def compute_metrics(eval_pred):\n",
    "    predictions, labels = eval_pred\n",
    "    decoded_preds = tokenizer.batch_decode(predictions, skip_special_tokens=True)\n",
    "    # Replace -100 in the labels as we can't decode them.\n",
    "    labels = np.where(labels != -100, labels, tokenizer.pad_token_id)\n",
    "    decoded_labels = tokenizer.batch_decode(labels, skip_special_tokens=True)\n",
    "    \n",
    "    # Rouge expects a newline after each sentence\n",
    "    decoded_preds = [\"\\n\".join(nltk.sent_tokenize(pred.strip())) for pred in decoded_preds]\n",
    "    decoded_labels = [\"\\n\".join(nltk.sent_tokenize(label.strip())) for label in decoded_labels]\n",
    "    \n",
    "    # Note that other metrics may not have a `use_aggregator` parameter\n",
    "    # and thus will return a list, computing a metric for each sentence.\n",
    "    result = metric.compute(predictions=decoded_preds, references=decoded_labels, use_stemmer=True, use_aggregator=True)\n",
    "    # Extract a few results\n",
    "    result = {key: value * 100 for key, value in result.items()}\n",
    "    \n",
    "    # Add mean generated length\n",
    "    prediction_lens = [np.count_nonzero(pred != tokenizer.pad_token_id) for pred in predictions]\n",
    "    result[\"gen_len\"] = np.mean(prediction_lens)\n",
    "    print(result)\n",
    "    return {k: round(v, 4) for k, v in result.items()}"
   ]
  },
  {
   "cell_type": "code",
   "execution_count": 41,
   "metadata": {
    "id": "obCgLJNohPjd"
   },
   "outputs": [],
   "source": [
    "import os\n",
    "from transformers.keras_callbacks import PushToHubCallback\n",
    "from tensorflow.keras.callbacks import TensorBoard as TensorboardCallback\n",
    "\n",
    "callbacks=[]\n",
    "\n",
    "# callbacks.append(TensorboardCallback(log_dir=os.path.join(output_dir,\"logs\")))\n",
    "# hub_token = False\n",
    "# if hub_token:\n",
    "#   callbacks.append(PushToHubCallback(output_dir=output_dir,\n",
    "#                                      tokenizer=tokenizer,\n",
    "#                                      hub_model_id=hub_model_id,\n",
    "#                                      hub_token=hub_token))\n",
    "\n",
    "\n"
   ]
  },
  {
   "cell_type": "markdown",
   "metadata": {
    "id": "D6hrxvPZj3eB"
   },
   "source": [
    "Fit the model"
   ]
  },
  {
   "cell_type": "code",
   "execution_count": 42,
   "metadata": {},
   "outputs": [
    {
     "data": {
      "text/plain": [
       "Dataset({\n",
       "    features: ['idx', 'brief_hospital_course', 'prompts', 'input_ids', 'attention_mask', 'labels', 'references'],\n",
       "    num_rows: 500\n",
       "})"
      ]
     },
     "execution_count": 42,
     "metadata": {},
     "output_type": "execute_result"
    }
   ],
   "source": [
    "tokenized_datasets"
   ]
  },
  {
   "cell_type": "code",
   "execution_count": 43,
   "metadata": {},
   "outputs": [],
   "source": [
    "# import torch\n",
    "# device = torch.device(\"cuda\") if torch.cuda.is_available() else torch.device(\"cpu\")\n",
    "# model.to(device)"
   ]
  },
  {
   "cell_type": "code",
   "execution_count": 44,
   "metadata": {
    "colab": {
     "base_uri": "https://localhost:8080/"
    },
    "id": "A6XUGIrGhPpO",
    "outputId": "161d00ca-ba36-4380-9b40-8a4841cfd88d"
   },
   "outputs": [
    {
     "name": "stderr",
     "output_type": "stream",
     "text": [
      "WARNING:accelerate.utils.other:Detected kernel version 4.18.0, which is below the recommended minimum of 5.5.0; this can cause the process to hang. It is recommended to upgrade the kernel to the minimum version or higher.\n"
     ]
    }
   ],
   "source": [
    "# train_results = model.fit(\n",
    "#     tf_train_dataset,\n",
    "#     validation_data=tf_eval_dataset,\n",
    "#     callbacks=callbacks,\n",
    "#     epochs=num_train_epochs,\n",
    "# )\n",
    "\n",
    "trainer = Seq2SeqTrainer(\n",
    "    model,\n",
    "    args,\n",
    "    train_dataset=processed_dataset[\"train\"],\n",
    "    eval_dataset=processed_dataset[\"test\"],\n",
    "    data_collator=data_collator,\n",
    "    tokenizer=tokenizer,\n",
    "    compute_metrics=compute_metrics\n",
    ")"
   ]
  },
  {
   "cell_type": "code",
   "execution_count": 45,
   "metadata": {
    "scrolled": true
   },
   "outputs": [
    {
     "data": {
      "text/html": [
       "\n",
       "    <div>\n",
       "      \n",
       "      <progress value='426' max='425' style='width:300px; height:20px; vertical-align: middle;'></progress>\n",
       "      [425/425 00:58, Epoch 1/1]\n",
       "    </div>\n",
       "    <table border=\"1\" class=\"dataframe\">\n",
       "  <thead>\n",
       " <tr style=\"text-align: left;\">\n",
       "      <th>Epoch</th>\n",
       "      <th>Training Loss</th>\n",
       "      <th>Validation Loss</th>\n",
       "    </tr>\n",
       "  </thead>\n",
       "  <tbody>\n",
       "  </tbody>\n",
       "</table><p>\n",
       "    <div>\n",
       "      \n",
       "      <progress value='150' max='75' style='width:300px; height:20px; vertical-align: middle;'></progress>\n",
       "      [75/75 04:06]\n",
       "    </div>\n",
       "    "
      ],
      "text/plain": [
       "<IPython.core.display.HTML object>"
      ]
     },
     "metadata": {},
     "output_type": "display_data"
    },
    {
     "name": "stdout",
     "output_type": "stream",
     "text": [
      "{'rouge1': (Score(precision=0.2018864112967795, recall=0.13835394350674052, fmeasure=0.15438251913254905), Score(precision=0.23139345039353787, recall=0.15556272154181477, fmeasure=0.17283682014862428), Score(precision=0.2632967514717338, recall=0.17647090636046134, fmeasure=0.19562683011643586), Score(precision=0.2018864112967795, recall=0.13835394350674052, fmeasure=0.15438251913254905), Score(precision=0.23139345039353787, recall=0.15556272154181477, fmeasure=0.17283682014862428), Score(precision=0.2632967514717338, recall=0.17647090636046134, fmeasure=0.19562683011643586), Score(precision=0.2018864112967795, recall=0.13835394350674052, fmeasure=0.15438251913254905), Score(precision=0.23139345039353787, recall=0.15556272154181477, fmeasure=0.17283682014862428), Score(precision=0.2632967514717338, recall=0.17647090636046134, fmeasure=0.19562683011643586), Score(precision=0.2018864112967795, recall=0.13835394350674052, fmeasure=0.15438251913254905), Score(precision=0.23139345039353787, recall=0.15556272154181477, fmeasure=0.17283682014862428), Score(precision=0.2632967514717338, recall=0.17647090636046134, fmeasure=0.19562683011643586), Score(precision=0.2018864112967795, recall=0.13835394350674052, fmeasure=0.15438251913254905), Score(precision=0.23139345039353787, recall=0.15556272154181477, fmeasure=0.17283682014862428), Score(precision=0.2632967514717338, recall=0.17647090636046134, fmeasure=0.19562683011643586), Score(precision=0.2018864112967795, recall=0.13835394350674052, fmeasure=0.15438251913254905), Score(precision=0.23139345039353787, recall=0.15556272154181477, fmeasure=0.17283682014862428), Score(precision=0.2632967514717338, recall=0.17647090636046134, fmeasure=0.19562683011643586), Score(precision=0.2018864112967795, recall=0.13835394350674052, fmeasure=0.15438251913254905), Score(precision=0.23139345039353787, recall=0.15556272154181477, fmeasure=0.17283682014862428), Score(precision=0.2632967514717338, recall=0.17647090636046134, fmeasure=0.19562683011643586), Score(precision=0.2018864112967795, recall=0.13835394350674052, fmeasure=0.15438251913254905), Score(precision=0.23139345039353787, recall=0.15556272154181477, fmeasure=0.17283682014862428), Score(precision=0.2632967514717338, recall=0.17647090636046134, fmeasure=0.19562683011643586), Score(precision=0.2018864112967795, recall=0.13835394350674052, fmeasure=0.15438251913254905), Score(precision=0.23139345039353787, recall=0.15556272154181477, fmeasure=0.17283682014862428), Score(precision=0.2632967514717338, recall=0.17647090636046134, fmeasure=0.19562683011643586), Score(precision=0.2018864112967795, recall=0.13835394350674052, fmeasure=0.15438251913254905), Score(precision=0.23139345039353787, recall=0.15556272154181477, fmeasure=0.17283682014862428), Score(precision=0.2632967514717338, recall=0.17647090636046134, fmeasure=0.19562683011643586), Score(precision=0.2018864112967795, recall=0.13835394350674052, fmeasure=0.15438251913254905), Score(precision=0.23139345039353787, recall=0.15556272154181477, fmeasure=0.17283682014862428), Score(precision=0.2632967514717338, recall=0.17647090636046134, fmeasure=0.19562683011643586), Score(precision=0.2018864112967795, recall=0.13835394350674052, fmeasure=0.15438251913254905), Score(precision=0.23139345039353787, recall=0.15556272154181477, fmeasure=0.17283682014862428), Score(precision=0.2632967514717338, recall=0.17647090636046134, fmeasure=0.19562683011643586), Score(precision=0.2018864112967795, recall=0.13835394350674052, fmeasure=0.15438251913254905), Score(precision=0.23139345039353787, recall=0.15556272154181477, fmeasure=0.17283682014862428), Score(precision=0.2632967514717338, recall=0.17647090636046134, fmeasure=0.19562683011643586), Score(precision=0.2018864112967795, recall=0.13835394350674052, fmeasure=0.15438251913254905), Score(precision=0.23139345039353787, recall=0.15556272154181477, fmeasure=0.17283682014862428), Score(precision=0.2632967514717338, recall=0.17647090636046134, fmeasure=0.19562683011643586), Score(precision=0.2018864112967795, recall=0.13835394350674052, fmeasure=0.15438251913254905), Score(precision=0.23139345039353787, recall=0.15556272154181477, fmeasure=0.17283682014862428), Score(precision=0.2632967514717338, recall=0.17647090636046134, fmeasure=0.19562683011643586), Score(precision=0.2018864112967795, recall=0.13835394350674052, fmeasure=0.15438251913254905), Score(precision=0.23139345039353787, recall=0.15556272154181477, fmeasure=0.17283682014862428), Score(precision=0.2632967514717338, recall=0.17647090636046134, fmeasure=0.19562683011643586), Score(precision=0.2018864112967795, recall=0.13835394350674052, fmeasure=0.15438251913254905), Score(precision=0.23139345039353787, recall=0.15556272154181477, fmeasure=0.17283682014862428), Score(precision=0.2632967514717338, recall=0.17647090636046134, fmeasure=0.19562683011643586), Score(precision=0.2018864112967795, recall=0.13835394350674052, fmeasure=0.15438251913254905), Score(precision=0.23139345039353787, recall=0.15556272154181477, fmeasure=0.17283682014862428), Score(precision=0.2632967514717338, recall=0.17647090636046134, fmeasure=0.19562683011643586), Score(precision=0.2018864112967795, recall=0.13835394350674052, fmeasure=0.15438251913254905), Score(precision=0.23139345039353787, recall=0.15556272154181477, fmeasure=0.17283682014862428), Score(precision=0.2632967514717338, recall=0.17647090636046134, fmeasure=0.19562683011643586), Score(precision=0.2018864112967795, recall=0.13835394350674052, fmeasure=0.15438251913254905), Score(precision=0.23139345039353787, recall=0.15556272154181477, fmeasure=0.17283682014862428), Score(precision=0.2632967514717338, recall=0.17647090636046134, fmeasure=0.19562683011643586), Score(precision=0.2018864112967795, recall=0.13835394350674052, fmeasure=0.15438251913254905), Score(precision=0.23139345039353787, recall=0.15556272154181477, fmeasure=0.17283682014862428), Score(precision=0.2632967514717338, recall=0.17647090636046134, fmeasure=0.19562683011643586), Score(precision=0.2018864112967795, recall=0.13835394350674052, fmeasure=0.15438251913254905), Score(precision=0.23139345039353787, recall=0.15556272154181477, fmeasure=0.17283682014862428), Score(precision=0.2632967514717338, recall=0.17647090636046134, fmeasure=0.19562683011643586), Score(precision=0.2018864112967795, recall=0.13835394350674052, fmeasure=0.15438251913254905), Score(precision=0.23139345039353787, recall=0.15556272154181477, fmeasure=0.17283682014862428), Score(precision=0.2632967514717338, recall=0.17647090636046134, fmeasure=0.19562683011643586), Score(precision=0.2018864112967795, recall=0.13835394350674052, fmeasure=0.15438251913254905), Score(precision=0.23139345039353787, recall=0.15556272154181477, fmeasure=0.17283682014862428), Score(precision=0.2632967514717338, recall=0.17647090636046134, fmeasure=0.19562683011643586), Score(precision=0.2018864112967795, recall=0.13835394350674052, fmeasure=0.15438251913254905), Score(precision=0.23139345039353787, recall=0.15556272154181477, fmeasure=0.17283682014862428), Score(precision=0.2632967514717338, recall=0.17647090636046134, fmeasure=0.19562683011643586), Score(precision=0.2018864112967795, recall=0.13835394350674052, fmeasure=0.15438251913254905), Score(precision=0.23139345039353787, recall=0.15556272154181477, fmeasure=0.17283682014862428), Score(precision=0.2632967514717338, recall=0.17647090636046134, fmeasure=0.19562683011643586), Score(precision=0.2018864112967795, recall=0.13835394350674052, fmeasure=0.15438251913254905), Score(precision=0.23139345039353787, recall=0.15556272154181477, fmeasure=0.17283682014862428), Score(precision=0.2632967514717338, recall=0.17647090636046134, fmeasure=0.19562683011643586), Score(precision=0.2018864112967795, recall=0.13835394350674052, fmeasure=0.15438251913254905), Score(precision=0.23139345039353787, recall=0.15556272154181477, fmeasure=0.17283682014862428), Score(precision=0.2632967514717338, recall=0.17647090636046134, fmeasure=0.19562683011643586), Score(precision=0.2018864112967795, recall=0.13835394350674052, fmeasure=0.15438251913254905), Score(precision=0.23139345039353787, recall=0.15556272154181477, fmeasure=0.17283682014862428), Score(precision=0.2632967514717338, recall=0.17647090636046134, fmeasure=0.19562683011643586), Score(precision=0.2018864112967795, recall=0.13835394350674052, fmeasure=0.15438251913254905), Score(precision=0.23139345039353787, recall=0.15556272154181477, fmeasure=0.17283682014862428), Score(precision=0.2632967514717338, recall=0.17647090636046134, fmeasure=0.19562683011643586), Score(precision=0.2018864112967795, recall=0.13835394350674052, fmeasure=0.15438251913254905), Score(precision=0.23139345039353787, recall=0.15556272154181477, fmeasure=0.17283682014862428), Score(precision=0.2632967514717338, recall=0.17647090636046134, fmeasure=0.19562683011643586), Score(precision=0.2018864112967795, recall=0.13835394350674052, fmeasure=0.15438251913254905), Score(precision=0.23139345039353787, recall=0.15556272154181477, fmeasure=0.17283682014862428), Score(precision=0.2632967514717338, recall=0.17647090636046134, fmeasure=0.19562683011643586), Score(precision=0.2018864112967795, recall=0.13835394350674052, fmeasure=0.15438251913254905), Score(precision=0.23139345039353787, recall=0.15556272154181477, fmeasure=0.17283682014862428), Score(precision=0.2632967514717338, recall=0.17647090636046134, fmeasure=0.19562683011643586), Score(precision=0.2018864112967795, recall=0.13835394350674052, fmeasure=0.15438251913254905), Score(precision=0.23139345039353787, recall=0.15556272154181477, fmeasure=0.17283682014862428), Score(precision=0.2632967514717338, recall=0.17647090636046134, fmeasure=0.19562683011643586), Score(precision=0.2018864112967795, recall=0.13835394350674052, fmeasure=0.15438251913254905), Score(precision=0.23139345039353787, recall=0.15556272154181477, fmeasure=0.17283682014862428), Score(precision=0.2632967514717338, recall=0.17647090636046134, fmeasure=0.19562683011643586), Score(precision=0.2018864112967795, recall=0.13835394350674052, fmeasure=0.15438251913254905), Score(precision=0.23139345039353787, recall=0.15556272154181477, fmeasure=0.17283682014862428), Score(precision=0.2632967514717338, recall=0.17647090636046134, fmeasure=0.19562683011643586), Score(precision=0.2018864112967795, recall=0.13835394350674052, fmeasure=0.15438251913254905), Score(precision=0.23139345039353787, recall=0.15556272154181477, fmeasure=0.17283682014862428), Score(precision=0.2632967514717338, recall=0.17647090636046134, fmeasure=0.19562683011643586), Score(precision=0.2018864112967795, recall=0.13835394350674052, fmeasure=0.15438251913254905), Score(precision=0.23139345039353787, recall=0.15556272154181477, fmeasure=0.17283682014862428), Score(precision=0.2632967514717338, recall=0.17647090636046134, fmeasure=0.19562683011643586), Score(precision=0.2018864112967795, recall=0.13835394350674052, fmeasure=0.15438251913254905), Score(precision=0.23139345039353787, recall=0.15556272154181477, fmeasure=0.17283682014862428), Score(precision=0.2632967514717338, recall=0.17647090636046134, fmeasure=0.19562683011643586), Score(precision=0.2018864112967795, recall=0.13835394350674052, fmeasure=0.15438251913254905), Score(precision=0.23139345039353787, recall=0.15556272154181477, fmeasure=0.17283682014862428), Score(precision=0.2632967514717338, recall=0.17647090636046134, fmeasure=0.19562683011643586), Score(precision=0.2018864112967795, recall=0.13835394350674052, fmeasure=0.15438251913254905), Score(precision=0.23139345039353787, recall=0.15556272154181477, fmeasure=0.17283682014862428), Score(precision=0.2632967514717338, recall=0.17647090636046134, fmeasure=0.19562683011643586), Score(precision=0.2018864112967795, recall=0.13835394350674052, fmeasure=0.15438251913254905), Score(precision=0.23139345039353787, recall=0.15556272154181477, fmeasure=0.17283682014862428), Score(precision=0.2632967514717338, recall=0.17647090636046134, fmeasure=0.19562683011643586), Score(precision=0.2018864112967795, recall=0.13835394350674052, fmeasure=0.15438251913254905), Score(precision=0.23139345039353787, recall=0.15556272154181477, fmeasure=0.17283682014862428), Score(precision=0.2632967514717338, recall=0.17647090636046134, fmeasure=0.19562683011643586), Score(precision=0.2018864112967795, recall=0.13835394350674052, fmeasure=0.15438251913254905), Score(precision=0.23139345039353787, recall=0.15556272154181477, fmeasure=0.17283682014862428), Score(precision=0.2632967514717338, recall=0.17647090636046134, fmeasure=0.19562683011643586), Score(precision=0.2018864112967795, recall=0.13835394350674052, fmeasure=0.15438251913254905), Score(precision=0.23139345039353787, recall=0.15556272154181477, fmeasure=0.17283682014862428), Score(precision=0.2632967514717338, recall=0.17647090636046134, fmeasure=0.19562683011643586), Score(precision=0.2018864112967795, recall=0.13835394350674052, fmeasure=0.15438251913254905), Score(precision=0.23139345039353787, recall=0.15556272154181477, fmeasure=0.17283682014862428), Score(precision=0.2632967514717338, recall=0.17647090636046134, fmeasure=0.19562683011643586), Score(precision=0.2018864112967795, recall=0.13835394350674052, fmeasure=0.15438251913254905), Score(precision=0.23139345039353787, recall=0.15556272154181477, fmeasure=0.17283682014862428), Score(precision=0.2632967514717338, recall=0.17647090636046134, fmeasure=0.19562683011643586), Score(precision=0.2018864112967795, recall=0.13835394350674052, fmeasure=0.15438251913254905), Score(precision=0.23139345039353787, recall=0.15556272154181477, fmeasure=0.17283682014862428), Score(precision=0.2632967514717338, recall=0.17647090636046134, fmeasure=0.19562683011643586), Score(precision=0.2018864112967795, recall=0.13835394350674052, fmeasure=0.15438251913254905), Score(precision=0.23139345039353787, recall=0.15556272154181477, fmeasure=0.17283682014862428), Score(precision=0.2632967514717338, recall=0.17647090636046134, fmeasure=0.19562683011643586), Score(precision=0.2018864112967795, recall=0.13835394350674052, fmeasure=0.15438251913254905), Score(precision=0.23139345039353787, recall=0.15556272154181477, fmeasure=0.17283682014862428), Score(precision=0.2632967514717338, recall=0.17647090636046134, fmeasure=0.19562683011643586), Score(precision=0.2018864112967795, recall=0.13835394350674052, fmeasure=0.15438251913254905), Score(precision=0.23139345039353787, recall=0.15556272154181477, fmeasure=0.17283682014862428), Score(precision=0.2632967514717338, recall=0.17647090636046134, fmeasure=0.19562683011643586), Score(precision=0.2018864112967795, recall=0.13835394350674052, fmeasure=0.15438251913254905), Score(precision=0.23139345039353787, recall=0.15556272154181477, fmeasure=0.17283682014862428), Score(precision=0.2632967514717338, recall=0.17647090636046134, fmeasure=0.19562683011643586), Score(precision=0.2018864112967795, recall=0.13835394350674052, fmeasure=0.15438251913254905), Score(precision=0.23139345039353787, recall=0.15556272154181477, fmeasure=0.17283682014862428), Score(precision=0.2632967514717338, recall=0.17647090636046134, fmeasure=0.19562683011643586), Score(precision=0.2018864112967795, recall=0.13835394350674052, fmeasure=0.15438251913254905), Score(precision=0.23139345039353787, recall=0.15556272154181477, fmeasure=0.17283682014862428), Score(precision=0.2632967514717338, recall=0.17647090636046134, fmeasure=0.19562683011643586), Score(precision=0.2018864112967795, recall=0.13835394350674052, fmeasure=0.15438251913254905), Score(precision=0.23139345039353787, recall=0.15556272154181477, fmeasure=0.17283682014862428), Score(precision=0.2632967514717338, recall=0.17647090636046134, fmeasure=0.19562683011643586), Score(precision=0.2018864112967795, recall=0.13835394350674052, fmeasure=0.15438251913254905), Score(precision=0.23139345039353787, recall=0.15556272154181477, fmeasure=0.17283682014862428), Score(precision=0.2632967514717338, recall=0.17647090636046134, fmeasure=0.19562683011643586), Score(precision=0.2018864112967795, recall=0.13835394350674052, fmeasure=0.15438251913254905), Score(precision=0.23139345039353787, recall=0.15556272154181477, fmeasure=0.17283682014862428), Score(precision=0.2632967514717338, recall=0.17647090636046134, fmeasure=0.19562683011643586), Score(precision=0.2018864112967795, recall=0.13835394350674052, fmeasure=0.15438251913254905), Score(precision=0.23139345039353787, recall=0.15556272154181477, fmeasure=0.17283682014862428), Score(precision=0.2632967514717338, recall=0.17647090636046134, fmeasure=0.19562683011643586), Score(precision=0.2018864112967795, recall=0.13835394350674052, fmeasure=0.15438251913254905), Score(precision=0.23139345039353787, recall=0.15556272154181477, fmeasure=0.17283682014862428), Score(precision=0.2632967514717338, recall=0.17647090636046134, fmeasure=0.19562683011643586), Score(precision=0.2018864112967795, recall=0.13835394350674052, fmeasure=0.15438251913254905), Score(precision=0.23139345039353787, recall=0.15556272154181477, fmeasure=0.17283682014862428), Score(precision=0.2632967514717338, recall=0.17647090636046134, fmeasure=0.19562683011643586), Score(precision=0.2018864112967795, recall=0.13835394350674052, fmeasure=0.15438251913254905), Score(precision=0.23139345039353787, recall=0.15556272154181477, fmeasure=0.17283682014862428), Score(precision=0.2632967514717338, recall=0.17647090636046134, fmeasure=0.19562683011643586), Score(precision=0.2018864112967795, recall=0.13835394350674052, fmeasure=0.15438251913254905), Score(precision=0.23139345039353787, recall=0.15556272154181477, fmeasure=0.17283682014862428), Score(precision=0.2632967514717338, recall=0.17647090636046134, fmeasure=0.19562683011643586), Score(precision=0.2018864112967795, recall=0.13835394350674052, fmeasure=0.15438251913254905), Score(precision=0.23139345039353787, recall=0.15556272154181477, fmeasure=0.17283682014862428), Score(precision=0.2632967514717338, recall=0.17647090636046134, fmeasure=0.19562683011643586), Score(precision=0.2018864112967795, recall=0.13835394350674052, fmeasure=0.15438251913254905), Score(precision=0.23139345039353787, recall=0.15556272154181477, fmeasure=0.17283682014862428), Score(precision=0.2632967514717338, recall=0.17647090636046134, fmeasure=0.19562683011643586), Score(precision=0.2018864112967795, recall=0.13835394350674052, fmeasure=0.15438251913254905), Score(precision=0.23139345039353787, recall=0.15556272154181477, fmeasure=0.17283682014862428), Score(precision=0.2632967514717338, recall=0.17647090636046134, fmeasure=0.19562683011643586), Score(precision=0.2018864112967795, recall=0.13835394350674052, fmeasure=0.15438251913254905), Score(precision=0.23139345039353787, recall=0.15556272154181477, fmeasure=0.17283682014862428), Score(precision=0.2632967514717338, recall=0.17647090636046134, fmeasure=0.19562683011643586), Score(precision=0.2018864112967795, recall=0.13835394350674052, fmeasure=0.15438251913254905), Score(precision=0.23139345039353787, recall=0.15556272154181477, fmeasure=0.17283682014862428), Score(precision=0.2632967514717338, recall=0.17647090636046134, fmeasure=0.19562683011643586), Score(precision=0.2018864112967795, recall=0.13835394350674052, fmeasure=0.15438251913254905), Score(precision=0.23139345039353787, recall=0.15556272154181477, fmeasure=0.17283682014862428), Score(precision=0.2632967514717338, recall=0.17647090636046134, fmeasure=0.19562683011643586), Score(precision=0.2018864112967795, recall=0.13835394350674052, fmeasure=0.15438251913254905), Score(precision=0.23139345039353787, recall=0.15556272154181477, fmeasure=0.17283682014862428), Score(precision=0.2632967514717338, recall=0.17647090636046134, fmeasure=0.19562683011643586), Score(precision=0.2018864112967795, recall=0.13835394350674052, fmeasure=0.15438251913254905), Score(precision=0.23139345039353787, recall=0.15556272154181477, fmeasure=0.17283682014862428), Score(precision=0.2632967514717338, recall=0.17647090636046134, fmeasure=0.19562683011643586), Score(precision=0.2018864112967795, recall=0.13835394350674052, fmeasure=0.15438251913254905), Score(precision=0.23139345039353787, recall=0.15556272154181477, fmeasure=0.17283682014862428), Score(precision=0.2632967514717338, recall=0.17647090636046134, fmeasure=0.19562683011643586), Score(precision=0.2018864112967795, recall=0.13835394350674052, fmeasure=0.15438251913254905), Score(precision=0.23139345039353787, recall=0.15556272154181477, fmeasure=0.17283682014862428), Score(precision=0.2632967514717338, recall=0.17647090636046134, fmeasure=0.19562683011643586), Score(precision=0.2018864112967795, recall=0.13835394350674052, fmeasure=0.15438251913254905), Score(precision=0.23139345039353787, recall=0.15556272154181477, fmeasure=0.17283682014862428), Score(precision=0.2632967514717338, recall=0.17647090636046134, fmeasure=0.19562683011643586), Score(precision=0.2018864112967795, recall=0.13835394350674052, fmeasure=0.15438251913254905), Score(precision=0.23139345039353787, recall=0.15556272154181477, fmeasure=0.17283682014862428), Score(precision=0.2632967514717338, recall=0.17647090636046134, fmeasure=0.19562683011643586), Score(precision=0.2018864112967795, recall=0.13835394350674052, fmeasure=0.15438251913254905), Score(precision=0.23139345039353787, recall=0.15556272154181477, fmeasure=0.17283682014862428), Score(precision=0.2632967514717338, recall=0.17647090636046134, fmeasure=0.19562683011643586), Score(precision=0.2018864112967795, recall=0.13835394350674052, fmeasure=0.15438251913254905), Score(precision=0.23139345039353787, recall=0.15556272154181477, fmeasure=0.17283682014862428), Score(precision=0.2632967514717338, recall=0.17647090636046134, fmeasure=0.19562683011643586), Score(precision=0.2018864112967795, recall=0.13835394350674052, fmeasure=0.15438251913254905), Score(precision=0.23139345039353787, recall=0.15556272154181477, fmeasure=0.17283682014862428), Score(precision=0.2632967514717338, recall=0.17647090636046134, fmeasure=0.19562683011643586), Score(precision=0.2018864112967795, recall=0.13835394350674052, fmeasure=0.15438251913254905), Score(precision=0.23139345039353787, recall=0.15556272154181477, fmeasure=0.17283682014862428), Score(precision=0.2632967514717338, recall=0.17647090636046134, fmeasure=0.19562683011643586), Score(precision=0.2018864112967795, recall=0.13835394350674052, fmeasure=0.15438251913254905), Score(precision=0.23139345039353787, recall=0.15556272154181477, fmeasure=0.17283682014862428), Score(precision=0.2632967514717338, recall=0.17647090636046134, fmeasure=0.19562683011643586), Score(precision=0.2018864112967795, recall=0.13835394350674052, fmeasure=0.15438251913254905), Score(precision=0.23139345039353787, recall=0.15556272154181477, fmeasure=0.17283682014862428), Score(precision=0.2632967514717338, recall=0.17647090636046134, fmeasure=0.19562683011643586), Score(precision=0.2018864112967795, recall=0.13835394350674052, fmeasure=0.15438251913254905), Score(precision=0.23139345039353787, recall=0.15556272154181477, fmeasure=0.17283682014862428), Score(precision=0.2632967514717338, recall=0.17647090636046134, fmeasure=0.19562683011643586), Score(precision=0.2018864112967795, recall=0.13835394350674052, fmeasure=0.15438251913254905), Score(precision=0.23139345039353787, recall=0.15556272154181477, fmeasure=0.17283682014862428), Score(precision=0.2632967514717338, recall=0.17647090636046134, fmeasure=0.19562683011643586), Score(precision=0.2018864112967795, recall=0.13835394350674052, fmeasure=0.15438251913254905), Score(precision=0.23139345039353787, recall=0.15556272154181477, fmeasure=0.17283682014862428), Score(precision=0.2632967514717338, recall=0.17647090636046134, fmeasure=0.19562683011643586), Score(precision=0.2018864112967795, recall=0.13835394350674052, fmeasure=0.15438251913254905), Score(precision=0.23139345039353787, recall=0.15556272154181477, fmeasure=0.17283682014862428), Score(precision=0.2632967514717338, recall=0.17647090636046134, fmeasure=0.19562683011643586), Score(precision=0.2018864112967795, recall=0.13835394350674052, fmeasure=0.15438251913254905), Score(precision=0.23139345039353787, recall=0.15556272154181477, fmeasure=0.17283682014862428), Score(precision=0.2632967514717338, recall=0.17647090636046134, fmeasure=0.19562683011643586), Score(precision=0.2018864112967795, recall=0.13835394350674052, fmeasure=0.15438251913254905), Score(precision=0.23139345039353787, recall=0.15556272154181477, fmeasure=0.17283682014862428), Score(precision=0.2632967514717338, recall=0.17647090636046134, fmeasure=0.19562683011643586), Score(precision=0.2018864112967795, recall=0.13835394350674052, fmeasure=0.15438251913254905), Score(precision=0.23139345039353787, recall=0.15556272154181477, fmeasure=0.17283682014862428), Score(precision=0.2632967514717338, recall=0.17647090636046134, fmeasure=0.19562683011643586), Score(precision=0.2018864112967795, recall=0.13835394350674052, fmeasure=0.15438251913254905), Score(precision=0.23139345039353787, recall=0.15556272154181477, fmeasure=0.17283682014862428), Score(precision=0.2632967514717338, recall=0.17647090636046134, fmeasure=0.19562683011643586), Score(precision=0.2018864112967795, recall=0.13835394350674052, fmeasure=0.15438251913254905), Score(precision=0.23139345039353787, recall=0.15556272154181477, fmeasure=0.17283682014862428), Score(precision=0.2632967514717338, recall=0.17647090636046134, fmeasure=0.19562683011643586), Score(precision=0.2018864112967795, recall=0.13835394350674052, fmeasure=0.15438251913254905), Score(precision=0.23139345039353787, recall=0.15556272154181477, fmeasure=0.17283682014862428), Score(precision=0.2632967514717338, recall=0.17647090636046134, fmeasure=0.19562683011643586), Score(precision=0.2018864112967795, recall=0.13835394350674052, fmeasure=0.15438251913254905), Score(precision=0.23139345039353787, recall=0.15556272154181477, fmeasure=0.17283682014862428), Score(precision=0.2632967514717338, recall=0.17647090636046134, fmeasure=0.19562683011643586), Score(precision=0.2018864112967795, recall=0.13835394350674052, fmeasure=0.15438251913254905), Score(precision=0.23139345039353787, recall=0.15556272154181477, fmeasure=0.17283682014862428), Score(precision=0.2632967514717338, recall=0.17647090636046134, fmeasure=0.19562683011643586), Score(precision=0.2018864112967795, recall=0.13835394350674052, fmeasure=0.15438251913254905), Score(precision=0.23139345039353787, recall=0.15556272154181477, fmeasure=0.17283682014862428), Score(precision=0.2632967514717338, recall=0.17647090636046134, fmeasure=0.19562683011643586), Score(precision=0.2018864112967795, recall=0.13835394350674052, fmeasure=0.15438251913254905), Score(precision=0.23139345039353787, recall=0.15556272154181477, fmeasure=0.17283682014862428), Score(precision=0.2632967514717338, recall=0.17647090636046134, fmeasure=0.19562683011643586), Score(precision=0.2018864112967795, recall=0.13835394350674052, fmeasure=0.15438251913254905), Score(precision=0.23139345039353787, recall=0.15556272154181477, fmeasure=0.17283682014862428), Score(precision=0.2632967514717338, recall=0.17647090636046134, fmeasure=0.19562683011643586), Score(precision=0.2018864112967795, recall=0.13835394350674052, fmeasure=0.15438251913254905), Score(precision=0.23139345039353787, recall=0.15556272154181477, fmeasure=0.17283682014862428), Score(precision=0.2632967514717338, recall=0.17647090636046134, fmeasure=0.19562683011643586), Score(precision=0.2018864112967795, recall=0.13835394350674052, fmeasure=0.15438251913254905), Score(precision=0.23139345039353787, recall=0.15556272154181477, fmeasure=0.17283682014862428), Score(precision=0.2632967514717338, recall=0.17647090636046134, fmeasure=0.19562683011643586), Score(precision=0.2018864112967795, recall=0.13835394350674052, fmeasure=0.15438251913254905), Score(precision=0.23139345039353787, recall=0.15556272154181477, fmeasure=0.17283682014862428), Score(precision=0.2632967514717338, recall=0.17647090636046134, fmeasure=0.19562683011643586), Score(precision=0.2018864112967795, recall=0.13835394350674052, fmeasure=0.15438251913254905), Score(precision=0.23139345039353787, recall=0.15556272154181477, fmeasure=0.17283682014862428), Score(precision=0.2632967514717338, recall=0.17647090636046134, fmeasure=0.19562683011643586), Score(precision=0.2018864112967795, recall=0.13835394350674052, fmeasure=0.15438251913254905), Score(precision=0.23139345039353787, recall=0.15556272154181477, fmeasure=0.17283682014862428), Score(precision=0.2632967514717338, recall=0.17647090636046134, fmeasure=0.19562683011643586)), 'rouge2': (Score(precision=0.04225462402576355, recall=0.02781999456808696, fmeasure=0.03210246815162973), Score(precision=0.056798129409375134, recall=0.037357859749455435, fmeasure=0.04308939761331248), Score(precision=0.0790369812621286, recall=0.050504240577349147, fmeasure=0.06016778944606756), Score(precision=0.04225462402576355, recall=0.02781999456808696, fmeasure=0.03210246815162973), Score(precision=0.056798129409375134, recall=0.037357859749455435, fmeasure=0.04308939761331248), Score(precision=0.0790369812621286, recall=0.050504240577349147, fmeasure=0.06016778944606756), Score(precision=0.04225462402576355, recall=0.02781999456808696, fmeasure=0.03210246815162973), Score(precision=0.056798129409375134, recall=0.037357859749455435, fmeasure=0.04308939761331248), Score(precision=0.0790369812621286, recall=0.050504240577349147, fmeasure=0.06016778944606756), Score(precision=0.04225462402576355, recall=0.02781999456808696, fmeasure=0.03210246815162973), Score(precision=0.056798129409375134, recall=0.037357859749455435, fmeasure=0.04308939761331248), Score(precision=0.0790369812621286, recall=0.050504240577349147, fmeasure=0.06016778944606756), Score(precision=0.04225462402576355, recall=0.02781999456808696, fmeasure=0.03210246815162973), Score(precision=0.056798129409375134, recall=0.037357859749455435, fmeasure=0.04308939761331248), Score(precision=0.0790369812621286, recall=0.050504240577349147, fmeasure=0.06016778944606756), Score(precision=0.04225462402576355, recall=0.02781999456808696, fmeasure=0.03210246815162973), Score(precision=0.056798129409375134, recall=0.037357859749455435, fmeasure=0.04308939761331248), Score(precision=0.0790369812621286, recall=0.050504240577349147, fmeasure=0.06016778944606756), Score(precision=0.04225462402576355, recall=0.02781999456808696, fmeasure=0.03210246815162973), Score(precision=0.056798129409375134, recall=0.037357859749455435, fmeasure=0.04308939761331248), Score(precision=0.0790369812621286, recall=0.050504240577349147, fmeasure=0.06016778944606756), Score(precision=0.04225462402576355, recall=0.02781999456808696, fmeasure=0.03210246815162973), Score(precision=0.056798129409375134, recall=0.037357859749455435, fmeasure=0.04308939761331248), Score(precision=0.0790369812621286, recall=0.050504240577349147, fmeasure=0.06016778944606756), Score(precision=0.04225462402576355, recall=0.02781999456808696, fmeasure=0.03210246815162973), Score(precision=0.056798129409375134, recall=0.037357859749455435, fmeasure=0.04308939761331248), Score(precision=0.0790369812621286, recall=0.050504240577349147, fmeasure=0.06016778944606756), Score(precision=0.04225462402576355, recall=0.02781999456808696, fmeasure=0.03210246815162973), Score(precision=0.056798129409375134, recall=0.037357859749455435, fmeasure=0.04308939761331248), Score(precision=0.0790369812621286, recall=0.050504240577349147, fmeasure=0.06016778944606756), Score(precision=0.04225462402576355, recall=0.02781999456808696, fmeasure=0.03210246815162973), Score(precision=0.056798129409375134, recall=0.037357859749455435, fmeasure=0.04308939761331248), Score(precision=0.0790369812621286, recall=0.050504240577349147, fmeasure=0.06016778944606756), Score(precision=0.04225462402576355, recall=0.02781999456808696, fmeasure=0.03210246815162973), Score(precision=0.056798129409375134, recall=0.037357859749455435, fmeasure=0.04308939761331248), Score(precision=0.0790369812621286, recall=0.050504240577349147, fmeasure=0.06016778944606756), Score(precision=0.04225462402576355, recall=0.02781999456808696, fmeasure=0.03210246815162973), Score(precision=0.056798129409375134, recall=0.037357859749455435, fmeasure=0.04308939761331248), Score(precision=0.0790369812621286, recall=0.050504240577349147, fmeasure=0.06016778944606756), Score(precision=0.04225462402576355, recall=0.02781999456808696, fmeasure=0.03210246815162973), Score(precision=0.056798129409375134, recall=0.037357859749455435, fmeasure=0.04308939761331248), Score(precision=0.0790369812621286, recall=0.050504240577349147, fmeasure=0.06016778944606756), Score(precision=0.04225462402576355, recall=0.02781999456808696, fmeasure=0.03210246815162973), Score(precision=0.056798129409375134, recall=0.037357859749455435, fmeasure=0.04308939761331248), Score(precision=0.0790369812621286, recall=0.050504240577349147, fmeasure=0.06016778944606756), Score(precision=0.04225462402576355, recall=0.02781999456808696, fmeasure=0.03210246815162973), Score(precision=0.056798129409375134, recall=0.037357859749455435, fmeasure=0.04308939761331248), Score(precision=0.0790369812621286, recall=0.050504240577349147, fmeasure=0.06016778944606756), Score(precision=0.04225462402576355, recall=0.02781999456808696, fmeasure=0.03210246815162973), Score(precision=0.056798129409375134, recall=0.037357859749455435, fmeasure=0.04308939761331248), Score(precision=0.0790369812621286, recall=0.050504240577349147, fmeasure=0.06016778944606756), Score(precision=0.04225462402576355, recall=0.02781999456808696, fmeasure=0.03210246815162973), Score(precision=0.056798129409375134, recall=0.037357859749455435, fmeasure=0.04308939761331248), Score(precision=0.0790369812621286, recall=0.050504240577349147, fmeasure=0.06016778944606756), Score(precision=0.04225462402576355, recall=0.02781999456808696, fmeasure=0.03210246815162973), Score(precision=0.056798129409375134, recall=0.037357859749455435, fmeasure=0.04308939761331248), Score(precision=0.0790369812621286, recall=0.050504240577349147, fmeasure=0.06016778944606756), Score(precision=0.04225462402576355, recall=0.02781999456808696, fmeasure=0.03210246815162973), Score(precision=0.056798129409375134, recall=0.037357859749455435, fmeasure=0.04308939761331248), Score(precision=0.0790369812621286, recall=0.050504240577349147, fmeasure=0.06016778944606756), Score(precision=0.04225462402576355, recall=0.02781999456808696, fmeasure=0.03210246815162973), Score(precision=0.056798129409375134, recall=0.037357859749455435, fmeasure=0.04308939761331248), Score(precision=0.0790369812621286, recall=0.050504240577349147, fmeasure=0.06016778944606756), Score(precision=0.04225462402576355, recall=0.02781999456808696, fmeasure=0.03210246815162973), Score(precision=0.056798129409375134, recall=0.037357859749455435, fmeasure=0.04308939761331248), Score(precision=0.0790369812621286, recall=0.050504240577349147, fmeasure=0.06016778944606756), Score(precision=0.04225462402576355, recall=0.02781999456808696, fmeasure=0.03210246815162973), Score(precision=0.056798129409375134, recall=0.037357859749455435, fmeasure=0.04308939761331248), Score(precision=0.0790369812621286, recall=0.050504240577349147, fmeasure=0.06016778944606756), Score(precision=0.04225462402576355, recall=0.02781999456808696, fmeasure=0.03210246815162973), Score(precision=0.056798129409375134, recall=0.037357859749455435, fmeasure=0.04308939761331248), Score(precision=0.0790369812621286, recall=0.050504240577349147, fmeasure=0.06016778944606756), Score(precision=0.04225462402576355, recall=0.02781999456808696, fmeasure=0.03210246815162973), Score(precision=0.056798129409375134, recall=0.037357859749455435, fmeasure=0.04308939761331248), Score(precision=0.0790369812621286, recall=0.050504240577349147, fmeasure=0.06016778944606756), Score(precision=0.04225462402576355, recall=0.02781999456808696, fmeasure=0.03210246815162973), Score(precision=0.056798129409375134, recall=0.037357859749455435, fmeasure=0.04308939761331248), Score(precision=0.0790369812621286, recall=0.050504240577349147, fmeasure=0.06016778944606756), Score(precision=0.04225462402576355, recall=0.02781999456808696, fmeasure=0.03210246815162973), Score(precision=0.056798129409375134, recall=0.037357859749455435, fmeasure=0.04308939761331248), Score(precision=0.0790369812621286, recall=0.050504240577349147, fmeasure=0.06016778944606756), Score(precision=0.04225462402576355, recall=0.02781999456808696, fmeasure=0.03210246815162973), Score(precision=0.056798129409375134, recall=0.037357859749455435, fmeasure=0.04308939761331248), Score(precision=0.0790369812621286, recall=0.050504240577349147, fmeasure=0.06016778944606756), Score(precision=0.04225462402576355, recall=0.02781999456808696, fmeasure=0.03210246815162973), Score(precision=0.056798129409375134, recall=0.037357859749455435, fmeasure=0.04308939761331248), Score(precision=0.0790369812621286, recall=0.050504240577349147, fmeasure=0.06016778944606756), Score(precision=0.04225462402576355, recall=0.02781999456808696, fmeasure=0.03210246815162973), Score(precision=0.056798129409375134, recall=0.037357859749455435, fmeasure=0.04308939761331248), Score(precision=0.0790369812621286, recall=0.050504240577349147, fmeasure=0.06016778944606756), Score(precision=0.04225462402576355, recall=0.02781999456808696, fmeasure=0.03210246815162973), Score(precision=0.056798129409375134, recall=0.037357859749455435, fmeasure=0.04308939761331248), Score(precision=0.0790369812621286, recall=0.050504240577349147, fmeasure=0.06016778944606756), Score(precision=0.04225462402576355, recall=0.02781999456808696, fmeasure=0.03210246815162973), Score(precision=0.056798129409375134, recall=0.037357859749455435, fmeasure=0.04308939761331248), Score(precision=0.0790369812621286, recall=0.050504240577349147, fmeasure=0.06016778944606756), Score(precision=0.04225462402576355, recall=0.02781999456808696, fmeasure=0.03210246815162973), Score(precision=0.056798129409375134, recall=0.037357859749455435, fmeasure=0.04308939761331248), Score(precision=0.0790369812621286, recall=0.050504240577349147, fmeasure=0.06016778944606756), Score(precision=0.04225462402576355, recall=0.02781999456808696, fmeasure=0.03210246815162973), Score(precision=0.056798129409375134, recall=0.037357859749455435, fmeasure=0.04308939761331248), Score(precision=0.0790369812621286, recall=0.050504240577349147, fmeasure=0.06016778944606756), Score(precision=0.04225462402576355, recall=0.02781999456808696, fmeasure=0.03210246815162973), Score(precision=0.056798129409375134, recall=0.037357859749455435, fmeasure=0.04308939761331248), Score(precision=0.0790369812621286, recall=0.050504240577349147, fmeasure=0.06016778944606756), Score(precision=0.04225462402576355, recall=0.02781999456808696, fmeasure=0.03210246815162973), Score(precision=0.056798129409375134, recall=0.037357859749455435, fmeasure=0.04308939761331248), Score(precision=0.0790369812621286, recall=0.050504240577349147, fmeasure=0.06016778944606756), Score(precision=0.04225462402576355, recall=0.02781999456808696, fmeasure=0.03210246815162973), Score(precision=0.056798129409375134, recall=0.037357859749455435, fmeasure=0.04308939761331248), Score(precision=0.0790369812621286, recall=0.050504240577349147, fmeasure=0.06016778944606756), Score(precision=0.04225462402576355, recall=0.02781999456808696, fmeasure=0.03210246815162973), Score(precision=0.056798129409375134, recall=0.037357859749455435, fmeasure=0.04308939761331248), Score(precision=0.0790369812621286, recall=0.050504240577349147, fmeasure=0.06016778944606756), Score(precision=0.04225462402576355, recall=0.02781999456808696, fmeasure=0.03210246815162973), Score(precision=0.056798129409375134, recall=0.037357859749455435, fmeasure=0.04308939761331248), Score(precision=0.0790369812621286, recall=0.050504240577349147, fmeasure=0.06016778944606756), Score(precision=0.04225462402576355, recall=0.02781999456808696, fmeasure=0.03210246815162973), Score(precision=0.056798129409375134, recall=0.037357859749455435, fmeasure=0.04308939761331248), Score(precision=0.0790369812621286, recall=0.050504240577349147, fmeasure=0.06016778944606756), Score(precision=0.04225462402576355, recall=0.02781999456808696, fmeasure=0.03210246815162973), Score(precision=0.056798129409375134, recall=0.037357859749455435, fmeasure=0.04308939761331248), Score(precision=0.0790369812621286, recall=0.050504240577349147, fmeasure=0.06016778944606756), Score(precision=0.04225462402576355, recall=0.02781999456808696, fmeasure=0.03210246815162973), Score(precision=0.056798129409375134, recall=0.037357859749455435, fmeasure=0.04308939761331248), Score(precision=0.0790369812621286, recall=0.050504240577349147, fmeasure=0.06016778944606756), Score(precision=0.04225462402576355, recall=0.02781999456808696, fmeasure=0.03210246815162973), Score(precision=0.056798129409375134, recall=0.037357859749455435, fmeasure=0.04308939761331248), Score(precision=0.0790369812621286, recall=0.050504240577349147, fmeasure=0.06016778944606756), Score(precision=0.04225462402576355, recall=0.02781999456808696, fmeasure=0.03210246815162973), Score(precision=0.056798129409375134, recall=0.037357859749455435, fmeasure=0.04308939761331248), Score(precision=0.0790369812621286, recall=0.050504240577349147, fmeasure=0.06016778944606756), Score(precision=0.04225462402576355, recall=0.02781999456808696, fmeasure=0.03210246815162973), Score(precision=0.056798129409375134, recall=0.037357859749455435, fmeasure=0.04308939761331248), Score(precision=0.0790369812621286, recall=0.050504240577349147, fmeasure=0.06016778944606756), Score(precision=0.04225462402576355, recall=0.02781999456808696, fmeasure=0.03210246815162973), Score(precision=0.056798129409375134, recall=0.037357859749455435, fmeasure=0.04308939761331248), Score(precision=0.0790369812621286, recall=0.050504240577349147, fmeasure=0.06016778944606756), Score(precision=0.04225462402576355, recall=0.02781999456808696, fmeasure=0.03210246815162973), Score(precision=0.056798129409375134, recall=0.037357859749455435, fmeasure=0.04308939761331248), Score(precision=0.0790369812621286, recall=0.050504240577349147, fmeasure=0.06016778944606756), Score(precision=0.04225462402576355, recall=0.02781999456808696, fmeasure=0.03210246815162973), Score(precision=0.056798129409375134, recall=0.037357859749455435, fmeasure=0.04308939761331248), Score(precision=0.0790369812621286, recall=0.050504240577349147, fmeasure=0.06016778944606756), Score(precision=0.04225462402576355, recall=0.02781999456808696, fmeasure=0.03210246815162973), Score(precision=0.056798129409375134, recall=0.037357859749455435, fmeasure=0.04308939761331248), Score(precision=0.0790369812621286, recall=0.050504240577349147, fmeasure=0.06016778944606756), Score(precision=0.04225462402576355, recall=0.02781999456808696, fmeasure=0.03210246815162973), Score(precision=0.056798129409375134, recall=0.037357859749455435, fmeasure=0.04308939761331248), Score(precision=0.0790369812621286, recall=0.050504240577349147, fmeasure=0.06016778944606756), Score(precision=0.04225462402576355, recall=0.02781999456808696, fmeasure=0.03210246815162973), Score(precision=0.056798129409375134, recall=0.037357859749455435, fmeasure=0.04308939761331248), Score(precision=0.0790369812621286, recall=0.050504240577349147, fmeasure=0.06016778944606756), Score(precision=0.04225462402576355, recall=0.02781999456808696, fmeasure=0.03210246815162973), Score(precision=0.056798129409375134, recall=0.037357859749455435, fmeasure=0.04308939761331248), Score(precision=0.0790369812621286, recall=0.050504240577349147, fmeasure=0.06016778944606756), Score(precision=0.04225462402576355, recall=0.02781999456808696, fmeasure=0.03210246815162973), Score(precision=0.056798129409375134, recall=0.037357859749455435, fmeasure=0.04308939761331248), Score(precision=0.0790369812621286, recall=0.050504240577349147, fmeasure=0.06016778944606756), Score(precision=0.04225462402576355, recall=0.02781999456808696, fmeasure=0.03210246815162973), Score(precision=0.056798129409375134, recall=0.037357859749455435, fmeasure=0.04308939761331248), Score(precision=0.0790369812621286, recall=0.050504240577349147, fmeasure=0.06016778944606756), Score(precision=0.04225462402576355, recall=0.02781999456808696, fmeasure=0.03210246815162973), Score(precision=0.056798129409375134, recall=0.037357859749455435, fmeasure=0.04308939761331248), Score(precision=0.0790369812621286, recall=0.050504240577349147, fmeasure=0.06016778944606756), Score(precision=0.04225462402576355, recall=0.02781999456808696, fmeasure=0.03210246815162973), Score(precision=0.056798129409375134, recall=0.037357859749455435, fmeasure=0.04308939761331248), Score(precision=0.0790369812621286, recall=0.050504240577349147, fmeasure=0.06016778944606756), Score(precision=0.04225462402576355, recall=0.02781999456808696, fmeasure=0.03210246815162973), Score(precision=0.056798129409375134, recall=0.037357859749455435, fmeasure=0.04308939761331248), Score(precision=0.0790369812621286, recall=0.050504240577349147, fmeasure=0.06016778944606756), Score(precision=0.04225462402576355, recall=0.02781999456808696, fmeasure=0.03210246815162973), Score(precision=0.056798129409375134, recall=0.037357859749455435, fmeasure=0.04308939761331248), Score(precision=0.0790369812621286, recall=0.050504240577349147, fmeasure=0.06016778944606756), Score(precision=0.04225462402576355, recall=0.02781999456808696, fmeasure=0.03210246815162973), Score(precision=0.056798129409375134, recall=0.037357859749455435, fmeasure=0.04308939761331248), Score(precision=0.0790369812621286, recall=0.050504240577349147, fmeasure=0.06016778944606756), Score(precision=0.04225462402576355, recall=0.02781999456808696, fmeasure=0.03210246815162973), Score(precision=0.056798129409375134, recall=0.037357859749455435, fmeasure=0.04308939761331248), Score(precision=0.0790369812621286, recall=0.050504240577349147, fmeasure=0.06016778944606756), Score(precision=0.04225462402576355, recall=0.02781999456808696, fmeasure=0.03210246815162973), Score(precision=0.056798129409375134, recall=0.037357859749455435, fmeasure=0.04308939761331248), Score(precision=0.0790369812621286, recall=0.050504240577349147, fmeasure=0.06016778944606756), Score(precision=0.04225462402576355, recall=0.02781999456808696, fmeasure=0.03210246815162973), Score(precision=0.056798129409375134, recall=0.037357859749455435, fmeasure=0.04308939761331248), Score(precision=0.0790369812621286, recall=0.050504240577349147, fmeasure=0.06016778944606756), Score(precision=0.04225462402576355, recall=0.02781999456808696, fmeasure=0.03210246815162973), Score(precision=0.056798129409375134, recall=0.037357859749455435, fmeasure=0.04308939761331248), Score(precision=0.0790369812621286, recall=0.050504240577349147, fmeasure=0.06016778944606756), Score(precision=0.04225462402576355, recall=0.02781999456808696, fmeasure=0.03210246815162973), Score(precision=0.056798129409375134, recall=0.037357859749455435, fmeasure=0.04308939761331248), Score(precision=0.0790369812621286, recall=0.050504240577349147, fmeasure=0.06016778944606756), Score(precision=0.04225462402576355, recall=0.02781999456808696, fmeasure=0.03210246815162973), Score(precision=0.056798129409375134, recall=0.037357859749455435, fmeasure=0.04308939761331248), Score(precision=0.0790369812621286, recall=0.050504240577349147, fmeasure=0.06016778944606756), Score(precision=0.04225462402576355, recall=0.02781999456808696, fmeasure=0.03210246815162973), Score(precision=0.056798129409375134, recall=0.037357859749455435, fmeasure=0.04308939761331248), Score(precision=0.0790369812621286, recall=0.050504240577349147, fmeasure=0.06016778944606756), Score(precision=0.04225462402576355, recall=0.02781999456808696, fmeasure=0.03210246815162973), Score(precision=0.056798129409375134, recall=0.037357859749455435, fmeasure=0.04308939761331248), Score(precision=0.0790369812621286, recall=0.050504240577349147, fmeasure=0.06016778944606756), Score(precision=0.04225462402576355, recall=0.02781999456808696, fmeasure=0.03210246815162973), Score(precision=0.056798129409375134, recall=0.037357859749455435, fmeasure=0.04308939761331248), Score(precision=0.0790369812621286, recall=0.050504240577349147, fmeasure=0.06016778944606756), Score(precision=0.04225462402576355, recall=0.02781999456808696, fmeasure=0.03210246815162973), Score(precision=0.056798129409375134, recall=0.037357859749455435, fmeasure=0.04308939761331248), Score(precision=0.0790369812621286, recall=0.050504240577349147, fmeasure=0.06016778944606756), Score(precision=0.04225462402576355, recall=0.02781999456808696, fmeasure=0.03210246815162973), Score(precision=0.056798129409375134, recall=0.037357859749455435, fmeasure=0.04308939761331248), Score(precision=0.0790369812621286, recall=0.050504240577349147, fmeasure=0.06016778944606756), Score(precision=0.04225462402576355, recall=0.02781999456808696, fmeasure=0.03210246815162973), Score(precision=0.056798129409375134, recall=0.037357859749455435, fmeasure=0.04308939761331248), Score(precision=0.0790369812621286, recall=0.050504240577349147, fmeasure=0.06016778944606756), Score(precision=0.04225462402576355, recall=0.02781999456808696, fmeasure=0.03210246815162973), Score(precision=0.056798129409375134, recall=0.037357859749455435, fmeasure=0.04308939761331248), Score(precision=0.0790369812621286, recall=0.050504240577349147, fmeasure=0.06016778944606756), Score(precision=0.04225462402576355, recall=0.02781999456808696, fmeasure=0.03210246815162973), Score(precision=0.056798129409375134, recall=0.037357859749455435, fmeasure=0.04308939761331248), Score(precision=0.0790369812621286, recall=0.050504240577349147, fmeasure=0.06016778944606756), Score(precision=0.04225462402576355, recall=0.02781999456808696, fmeasure=0.03210246815162973), Score(precision=0.056798129409375134, recall=0.037357859749455435, fmeasure=0.04308939761331248), Score(precision=0.0790369812621286, recall=0.050504240577349147, fmeasure=0.06016778944606756), Score(precision=0.04225462402576355, recall=0.02781999456808696, fmeasure=0.03210246815162973), Score(precision=0.056798129409375134, recall=0.037357859749455435, fmeasure=0.04308939761331248), Score(precision=0.0790369812621286, recall=0.050504240577349147, fmeasure=0.06016778944606756), Score(precision=0.04225462402576355, recall=0.02781999456808696, fmeasure=0.03210246815162973), Score(precision=0.056798129409375134, recall=0.037357859749455435, fmeasure=0.04308939761331248), Score(precision=0.0790369812621286, recall=0.050504240577349147, fmeasure=0.06016778944606756), Score(precision=0.04225462402576355, recall=0.02781999456808696, fmeasure=0.03210246815162973), Score(precision=0.056798129409375134, recall=0.037357859749455435, fmeasure=0.04308939761331248), Score(precision=0.0790369812621286, recall=0.050504240577349147, fmeasure=0.06016778944606756), Score(precision=0.04225462402576355, recall=0.02781999456808696, fmeasure=0.03210246815162973), Score(precision=0.056798129409375134, recall=0.037357859749455435, fmeasure=0.04308939761331248), Score(precision=0.0790369812621286, recall=0.050504240577349147, fmeasure=0.06016778944606756), Score(precision=0.04225462402576355, recall=0.02781999456808696, fmeasure=0.03210246815162973), Score(precision=0.056798129409375134, recall=0.037357859749455435, fmeasure=0.04308939761331248), Score(precision=0.0790369812621286, recall=0.050504240577349147, fmeasure=0.06016778944606756), Score(precision=0.04225462402576355, recall=0.02781999456808696, fmeasure=0.03210246815162973), Score(precision=0.056798129409375134, recall=0.037357859749455435, fmeasure=0.04308939761331248), Score(precision=0.0790369812621286, recall=0.050504240577349147, fmeasure=0.06016778944606756), Score(precision=0.04225462402576355, recall=0.02781999456808696, fmeasure=0.03210246815162973), Score(precision=0.056798129409375134, recall=0.037357859749455435, fmeasure=0.04308939761331248), Score(precision=0.0790369812621286, recall=0.050504240577349147, fmeasure=0.06016778944606756), Score(precision=0.04225462402576355, recall=0.02781999456808696, fmeasure=0.03210246815162973), Score(precision=0.056798129409375134, recall=0.037357859749455435, fmeasure=0.04308939761331248), Score(precision=0.0790369812621286, recall=0.050504240577349147, fmeasure=0.06016778944606756), Score(precision=0.04225462402576355, recall=0.02781999456808696, fmeasure=0.03210246815162973), Score(precision=0.056798129409375134, recall=0.037357859749455435, fmeasure=0.04308939761331248), Score(precision=0.0790369812621286, recall=0.050504240577349147, fmeasure=0.06016778944606756), Score(precision=0.04225462402576355, recall=0.02781999456808696, fmeasure=0.03210246815162973), Score(precision=0.056798129409375134, recall=0.037357859749455435, fmeasure=0.04308939761331248), Score(precision=0.0790369812621286, recall=0.050504240577349147, fmeasure=0.06016778944606756), Score(precision=0.04225462402576355, recall=0.02781999456808696, fmeasure=0.03210246815162973), Score(precision=0.056798129409375134, recall=0.037357859749455435, fmeasure=0.04308939761331248), Score(precision=0.0790369812621286, recall=0.050504240577349147, fmeasure=0.06016778944606756), Score(precision=0.04225462402576355, recall=0.02781999456808696, fmeasure=0.03210246815162973), Score(precision=0.056798129409375134, recall=0.037357859749455435, fmeasure=0.04308939761331248), Score(precision=0.0790369812621286, recall=0.050504240577349147, fmeasure=0.06016778944606756), Score(precision=0.04225462402576355, recall=0.02781999456808696, fmeasure=0.03210246815162973), Score(precision=0.056798129409375134, recall=0.037357859749455435, fmeasure=0.04308939761331248), Score(precision=0.0790369812621286, recall=0.050504240577349147, fmeasure=0.06016778944606756), Score(precision=0.04225462402576355, recall=0.02781999456808696, fmeasure=0.03210246815162973), Score(precision=0.056798129409375134, recall=0.037357859749455435, fmeasure=0.04308939761331248), Score(precision=0.0790369812621286, recall=0.050504240577349147, fmeasure=0.06016778944606756), Score(precision=0.04225462402576355, recall=0.02781999456808696, fmeasure=0.03210246815162973), Score(precision=0.056798129409375134, recall=0.037357859749455435, fmeasure=0.04308939761331248), Score(precision=0.0790369812621286, recall=0.050504240577349147, fmeasure=0.06016778944606756), Score(precision=0.04225462402576355, recall=0.02781999456808696, fmeasure=0.03210246815162973), Score(precision=0.056798129409375134, recall=0.037357859749455435, fmeasure=0.04308939761331248), Score(precision=0.0790369812621286, recall=0.050504240577349147, fmeasure=0.06016778944606756), Score(precision=0.04225462402576355, recall=0.02781999456808696, fmeasure=0.03210246815162973), Score(precision=0.056798129409375134, recall=0.037357859749455435, fmeasure=0.04308939761331248), Score(precision=0.0790369812621286, recall=0.050504240577349147, fmeasure=0.06016778944606756), Score(precision=0.04225462402576355, recall=0.02781999456808696, fmeasure=0.03210246815162973), Score(precision=0.056798129409375134, recall=0.037357859749455435, fmeasure=0.04308939761331248), Score(precision=0.0790369812621286, recall=0.050504240577349147, fmeasure=0.06016778944606756), Score(precision=0.04225462402576355, recall=0.02781999456808696, fmeasure=0.03210246815162973), Score(precision=0.056798129409375134, recall=0.037357859749455435, fmeasure=0.04308939761331248), Score(precision=0.0790369812621286, recall=0.050504240577349147, fmeasure=0.06016778944606756), Score(precision=0.04225462402576355, recall=0.02781999456808696, fmeasure=0.03210246815162973), Score(precision=0.056798129409375134, recall=0.037357859749455435, fmeasure=0.04308939761331248), Score(precision=0.0790369812621286, recall=0.050504240577349147, fmeasure=0.06016778944606756), Score(precision=0.04225462402576355, recall=0.02781999456808696, fmeasure=0.03210246815162973), Score(precision=0.056798129409375134, recall=0.037357859749455435, fmeasure=0.04308939761331248), Score(precision=0.0790369812621286, recall=0.050504240577349147, fmeasure=0.06016778944606756), Score(precision=0.04225462402576355, recall=0.02781999456808696, fmeasure=0.03210246815162973), Score(precision=0.056798129409375134, recall=0.037357859749455435, fmeasure=0.04308939761331248), Score(precision=0.0790369812621286, recall=0.050504240577349147, fmeasure=0.06016778944606756), Score(precision=0.04225462402576355, recall=0.02781999456808696, fmeasure=0.03210246815162973), Score(precision=0.056798129409375134, recall=0.037357859749455435, fmeasure=0.04308939761331248), Score(precision=0.0790369812621286, recall=0.050504240577349147, fmeasure=0.06016778944606756), Score(precision=0.04225462402576355, recall=0.02781999456808696, fmeasure=0.03210246815162973), Score(precision=0.056798129409375134, recall=0.037357859749455435, fmeasure=0.04308939761331248), Score(precision=0.0790369812621286, recall=0.050504240577349147, fmeasure=0.06016778944606756), Score(precision=0.04225462402576355, recall=0.02781999456808696, fmeasure=0.03210246815162973), Score(precision=0.056798129409375134, recall=0.037357859749455435, fmeasure=0.04308939761331248), Score(precision=0.0790369812621286, recall=0.050504240577349147, fmeasure=0.06016778944606756), Score(precision=0.04225462402576355, recall=0.02781999456808696, fmeasure=0.03210246815162973), Score(precision=0.056798129409375134, recall=0.037357859749455435, fmeasure=0.04308939761331248), Score(precision=0.0790369812621286, recall=0.050504240577349147, fmeasure=0.06016778944606756)), 'rougeL': (Score(precision=0.13811368689088654, recall=0.09648895789012804, fmeasure=0.10590893954800037), Score(precision=0.15688352625176838, recall=0.1113577147463112, fmeasure=0.11943996131860113), Score(precision=0.1768769168122868, recall=0.12839554574527282, fmeasure=0.13446316674156597), Score(precision=0.13811368689088654, recall=0.09648895789012804, fmeasure=0.10590893954800037), Score(precision=0.15688352625176838, recall=0.1113577147463112, fmeasure=0.11943996131860113), Score(precision=0.1768769168122868, recall=0.12839554574527282, fmeasure=0.13446316674156597), Score(precision=0.13811368689088654, recall=0.09648895789012804, fmeasure=0.10590893954800037), Score(precision=0.15688352625176838, recall=0.1113577147463112, fmeasure=0.11943996131860113), Score(precision=0.1768769168122868, recall=0.12839554574527282, fmeasure=0.13446316674156597), Score(precision=0.13811368689088654, recall=0.09648895789012804, fmeasure=0.10590893954800037), Score(precision=0.15688352625176838, recall=0.1113577147463112, fmeasure=0.11943996131860113), Score(precision=0.1768769168122868, recall=0.12839554574527282, fmeasure=0.13446316674156597), Score(precision=0.13811368689088654, recall=0.09648895789012804, fmeasure=0.10590893954800037), Score(precision=0.15688352625176838, recall=0.1113577147463112, fmeasure=0.11943996131860113), Score(precision=0.1768769168122868, recall=0.12839554574527282, fmeasure=0.13446316674156597), Score(precision=0.13811368689088654, recall=0.09648895789012804, fmeasure=0.10590893954800037), Score(precision=0.15688352625176838, recall=0.1113577147463112, fmeasure=0.11943996131860113), Score(precision=0.1768769168122868, recall=0.12839554574527282, fmeasure=0.13446316674156597), Score(precision=0.13811368689088654, recall=0.09648895789012804, fmeasure=0.10590893954800037), Score(precision=0.15688352625176838, recall=0.1113577147463112, fmeasure=0.11943996131860113), Score(precision=0.1768769168122868, recall=0.12839554574527282, fmeasure=0.13446316674156597), Score(precision=0.13811368689088654, recall=0.09648895789012804, fmeasure=0.10590893954800037), Score(precision=0.15688352625176838, recall=0.1113577147463112, fmeasure=0.11943996131860113), Score(precision=0.1768769168122868, recall=0.12839554574527282, fmeasure=0.13446316674156597), Score(precision=0.13811368689088654, recall=0.09648895789012804, fmeasure=0.10590893954800037), Score(precision=0.15688352625176838, recall=0.1113577147463112, fmeasure=0.11943996131860113), Score(precision=0.1768769168122868, recall=0.12839554574527282, fmeasure=0.13446316674156597), Score(precision=0.13811368689088654, recall=0.09648895789012804, fmeasure=0.10590893954800037), Score(precision=0.15688352625176838, recall=0.1113577147463112, fmeasure=0.11943996131860113), Score(precision=0.1768769168122868, recall=0.12839554574527282, fmeasure=0.13446316674156597), Score(precision=0.13811368689088654, recall=0.09648895789012804, fmeasure=0.10590893954800037), Score(precision=0.15688352625176838, recall=0.1113577147463112, fmeasure=0.11943996131860113), Score(precision=0.1768769168122868, recall=0.12839554574527282, fmeasure=0.13446316674156597), Score(precision=0.13811368689088654, recall=0.09648895789012804, fmeasure=0.10590893954800037), Score(precision=0.15688352625176838, recall=0.1113577147463112, fmeasure=0.11943996131860113), Score(precision=0.1768769168122868, recall=0.12839554574527282, fmeasure=0.13446316674156597), Score(precision=0.13811368689088654, recall=0.09648895789012804, fmeasure=0.10590893954800037), Score(precision=0.15688352625176838, recall=0.1113577147463112, fmeasure=0.11943996131860113), Score(precision=0.1768769168122868, recall=0.12839554574527282, fmeasure=0.13446316674156597), Score(precision=0.13811368689088654, recall=0.09648895789012804, fmeasure=0.10590893954800037), Score(precision=0.15688352625176838, recall=0.1113577147463112, fmeasure=0.11943996131860113), Score(precision=0.1768769168122868, recall=0.12839554574527282, fmeasure=0.13446316674156597), Score(precision=0.13811368689088654, recall=0.09648895789012804, fmeasure=0.10590893954800037), Score(precision=0.15688352625176838, recall=0.1113577147463112, fmeasure=0.11943996131860113), Score(precision=0.1768769168122868, recall=0.12839554574527282, fmeasure=0.13446316674156597), Score(precision=0.13811368689088654, recall=0.09648895789012804, fmeasure=0.10590893954800037), Score(precision=0.15688352625176838, recall=0.1113577147463112, fmeasure=0.11943996131860113), Score(precision=0.1768769168122868, recall=0.12839554574527282, fmeasure=0.13446316674156597), Score(precision=0.13811368689088654, recall=0.09648895789012804, fmeasure=0.10590893954800037), Score(precision=0.15688352625176838, recall=0.1113577147463112, fmeasure=0.11943996131860113), Score(precision=0.1768769168122868, recall=0.12839554574527282, fmeasure=0.13446316674156597), Score(precision=0.13811368689088654, recall=0.09648895789012804, fmeasure=0.10590893954800037), Score(precision=0.15688352625176838, recall=0.1113577147463112, fmeasure=0.11943996131860113), Score(precision=0.1768769168122868, recall=0.12839554574527282, fmeasure=0.13446316674156597), Score(precision=0.13811368689088654, recall=0.09648895789012804, fmeasure=0.10590893954800037), Score(precision=0.15688352625176838, recall=0.1113577147463112, fmeasure=0.11943996131860113), Score(precision=0.1768769168122868, recall=0.12839554574527282, fmeasure=0.13446316674156597), Score(precision=0.13811368689088654, recall=0.09648895789012804, fmeasure=0.10590893954800037), Score(precision=0.15688352625176838, recall=0.1113577147463112, fmeasure=0.11943996131860113), Score(precision=0.1768769168122868, recall=0.12839554574527282, fmeasure=0.13446316674156597), Score(precision=0.13811368689088654, recall=0.09648895789012804, fmeasure=0.10590893954800037), Score(precision=0.15688352625176838, recall=0.1113577147463112, fmeasure=0.11943996131860113), Score(precision=0.1768769168122868, recall=0.12839554574527282, fmeasure=0.13446316674156597), Score(precision=0.13811368689088654, recall=0.09648895789012804, fmeasure=0.10590893954800037), Score(precision=0.15688352625176838, recall=0.1113577147463112, fmeasure=0.11943996131860113), Score(precision=0.1768769168122868, recall=0.12839554574527282, fmeasure=0.13446316674156597), Score(precision=0.13811368689088654, recall=0.09648895789012804, fmeasure=0.10590893954800037), Score(precision=0.15688352625176838, recall=0.1113577147463112, fmeasure=0.11943996131860113), Score(precision=0.1768769168122868, recall=0.12839554574527282, fmeasure=0.13446316674156597), Score(precision=0.13811368689088654, recall=0.09648895789012804, fmeasure=0.10590893954800037), Score(precision=0.15688352625176838, recall=0.1113577147463112, fmeasure=0.11943996131860113), Score(precision=0.1768769168122868, recall=0.12839554574527282, fmeasure=0.13446316674156597), Score(precision=0.13811368689088654, recall=0.09648895789012804, fmeasure=0.10590893954800037), Score(precision=0.15688352625176838, recall=0.1113577147463112, fmeasure=0.11943996131860113), Score(precision=0.1768769168122868, recall=0.12839554574527282, fmeasure=0.13446316674156597), Score(precision=0.13811368689088654, recall=0.09648895789012804, fmeasure=0.10590893954800037), Score(precision=0.15688352625176838, recall=0.1113577147463112, fmeasure=0.11943996131860113), Score(precision=0.1768769168122868, recall=0.12839554574527282, fmeasure=0.13446316674156597), Score(precision=0.13811368689088654, recall=0.09648895789012804, fmeasure=0.10590893954800037), Score(precision=0.15688352625176838, recall=0.1113577147463112, fmeasure=0.11943996131860113), Score(precision=0.1768769168122868, recall=0.12839554574527282, fmeasure=0.13446316674156597), Score(precision=0.13811368689088654, recall=0.09648895789012804, fmeasure=0.10590893954800037), Score(precision=0.15688352625176838, recall=0.1113577147463112, fmeasure=0.11943996131860113), Score(precision=0.1768769168122868, recall=0.12839554574527282, fmeasure=0.13446316674156597), Score(precision=0.13811368689088654, recall=0.09648895789012804, fmeasure=0.10590893954800037), Score(precision=0.15688352625176838, recall=0.1113577147463112, fmeasure=0.11943996131860113), Score(precision=0.1768769168122868, recall=0.12839554574527282, fmeasure=0.13446316674156597), Score(precision=0.13811368689088654, recall=0.09648895789012804, fmeasure=0.10590893954800037), Score(precision=0.15688352625176838, recall=0.1113577147463112, fmeasure=0.11943996131860113), Score(precision=0.1768769168122868, recall=0.12839554574527282, fmeasure=0.13446316674156597), Score(precision=0.13811368689088654, recall=0.09648895789012804, fmeasure=0.10590893954800037), Score(precision=0.15688352625176838, recall=0.1113577147463112, fmeasure=0.11943996131860113), Score(precision=0.1768769168122868, recall=0.12839554574527282, fmeasure=0.13446316674156597), Score(precision=0.13811368689088654, recall=0.09648895789012804, fmeasure=0.10590893954800037), Score(precision=0.15688352625176838, recall=0.1113577147463112, fmeasure=0.11943996131860113), Score(precision=0.1768769168122868, recall=0.12839554574527282, fmeasure=0.13446316674156597), Score(precision=0.13811368689088654, recall=0.09648895789012804, fmeasure=0.10590893954800037), Score(precision=0.15688352625176838, recall=0.1113577147463112, fmeasure=0.11943996131860113), Score(precision=0.1768769168122868, recall=0.12839554574527282, fmeasure=0.13446316674156597), Score(precision=0.13811368689088654, recall=0.09648895789012804, fmeasure=0.10590893954800037), Score(precision=0.15688352625176838, recall=0.1113577147463112, fmeasure=0.11943996131860113), Score(precision=0.1768769168122868, recall=0.12839554574527282, fmeasure=0.13446316674156597), Score(precision=0.13811368689088654, recall=0.09648895789012804, fmeasure=0.10590893954800037), Score(precision=0.15688352625176838, recall=0.1113577147463112, fmeasure=0.11943996131860113), Score(precision=0.1768769168122868, recall=0.12839554574527282, fmeasure=0.13446316674156597), Score(precision=0.13811368689088654, recall=0.09648895789012804, fmeasure=0.10590893954800037), Score(precision=0.15688352625176838, recall=0.1113577147463112, fmeasure=0.11943996131860113), Score(precision=0.1768769168122868, recall=0.12839554574527282, fmeasure=0.13446316674156597), Score(precision=0.13811368689088654, recall=0.09648895789012804, fmeasure=0.10590893954800037), Score(precision=0.15688352625176838, recall=0.1113577147463112, fmeasure=0.11943996131860113), Score(precision=0.1768769168122868, recall=0.12839554574527282, fmeasure=0.13446316674156597), Score(precision=0.13811368689088654, recall=0.09648895789012804, fmeasure=0.10590893954800037), Score(precision=0.15688352625176838, recall=0.1113577147463112, fmeasure=0.11943996131860113), Score(precision=0.1768769168122868, recall=0.12839554574527282, fmeasure=0.13446316674156597), Score(precision=0.13811368689088654, recall=0.09648895789012804, fmeasure=0.10590893954800037), Score(precision=0.15688352625176838, recall=0.1113577147463112, fmeasure=0.11943996131860113), Score(precision=0.1768769168122868, recall=0.12839554574527282, fmeasure=0.13446316674156597), Score(precision=0.13811368689088654, recall=0.09648895789012804, fmeasure=0.10590893954800037), Score(precision=0.15688352625176838, recall=0.1113577147463112, fmeasure=0.11943996131860113), Score(precision=0.1768769168122868, recall=0.12839554574527282, fmeasure=0.13446316674156597), Score(precision=0.13811368689088654, recall=0.09648895789012804, fmeasure=0.10590893954800037), Score(precision=0.15688352625176838, recall=0.1113577147463112, fmeasure=0.11943996131860113), Score(precision=0.1768769168122868, recall=0.12839554574527282, fmeasure=0.13446316674156597), Score(precision=0.13811368689088654, recall=0.09648895789012804, fmeasure=0.10590893954800037), Score(precision=0.15688352625176838, recall=0.1113577147463112, fmeasure=0.11943996131860113), Score(precision=0.1768769168122868, recall=0.12839554574527282, fmeasure=0.13446316674156597), Score(precision=0.13811368689088654, recall=0.09648895789012804, fmeasure=0.10590893954800037), Score(precision=0.15688352625176838, recall=0.1113577147463112, fmeasure=0.11943996131860113), Score(precision=0.1768769168122868, recall=0.12839554574527282, fmeasure=0.13446316674156597), Score(precision=0.13811368689088654, recall=0.09648895789012804, fmeasure=0.10590893954800037), Score(precision=0.15688352625176838, recall=0.1113577147463112, fmeasure=0.11943996131860113), Score(precision=0.1768769168122868, recall=0.12839554574527282, fmeasure=0.13446316674156597), Score(precision=0.13811368689088654, recall=0.09648895789012804, fmeasure=0.10590893954800037), Score(precision=0.15688352625176838, recall=0.1113577147463112, fmeasure=0.11943996131860113), Score(precision=0.1768769168122868, recall=0.12839554574527282, fmeasure=0.13446316674156597), Score(precision=0.13811368689088654, recall=0.09648895789012804, fmeasure=0.10590893954800037), Score(precision=0.15688352625176838, recall=0.1113577147463112, fmeasure=0.11943996131860113), Score(precision=0.1768769168122868, recall=0.12839554574527282, fmeasure=0.13446316674156597), Score(precision=0.13811368689088654, recall=0.09648895789012804, fmeasure=0.10590893954800037), Score(precision=0.15688352625176838, recall=0.1113577147463112, fmeasure=0.11943996131860113), Score(precision=0.1768769168122868, recall=0.12839554574527282, fmeasure=0.13446316674156597), Score(precision=0.13811368689088654, recall=0.09648895789012804, fmeasure=0.10590893954800037), Score(precision=0.15688352625176838, recall=0.1113577147463112, fmeasure=0.11943996131860113), Score(precision=0.1768769168122868, recall=0.12839554574527282, fmeasure=0.13446316674156597), Score(precision=0.13811368689088654, recall=0.09648895789012804, fmeasure=0.10590893954800037), Score(precision=0.15688352625176838, recall=0.1113577147463112, fmeasure=0.11943996131860113), Score(precision=0.1768769168122868, recall=0.12839554574527282, fmeasure=0.13446316674156597), Score(precision=0.13811368689088654, recall=0.09648895789012804, fmeasure=0.10590893954800037), Score(precision=0.15688352625176838, recall=0.1113577147463112, fmeasure=0.11943996131860113), Score(precision=0.1768769168122868, recall=0.12839554574527282, fmeasure=0.13446316674156597), Score(precision=0.13811368689088654, recall=0.09648895789012804, fmeasure=0.10590893954800037), Score(precision=0.15688352625176838, recall=0.1113577147463112, fmeasure=0.11943996131860113), Score(precision=0.1768769168122868, recall=0.12839554574527282, fmeasure=0.13446316674156597), Score(precision=0.13811368689088654, recall=0.09648895789012804, fmeasure=0.10590893954800037), Score(precision=0.15688352625176838, recall=0.1113577147463112, fmeasure=0.11943996131860113), Score(precision=0.1768769168122868, recall=0.12839554574527282, fmeasure=0.13446316674156597), Score(precision=0.13811368689088654, recall=0.09648895789012804, fmeasure=0.10590893954800037), Score(precision=0.15688352625176838, recall=0.1113577147463112, fmeasure=0.11943996131860113), Score(precision=0.1768769168122868, recall=0.12839554574527282, fmeasure=0.13446316674156597), Score(precision=0.13811368689088654, recall=0.09648895789012804, fmeasure=0.10590893954800037), Score(precision=0.15688352625176838, recall=0.1113577147463112, fmeasure=0.11943996131860113), Score(precision=0.1768769168122868, recall=0.12839554574527282, fmeasure=0.13446316674156597), Score(precision=0.13811368689088654, recall=0.09648895789012804, fmeasure=0.10590893954800037), Score(precision=0.15688352625176838, recall=0.1113577147463112, fmeasure=0.11943996131860113), Score(precision=0.1768769168122868, recall=0.12839554574527282, fmeasure=0.13446316674156597), Score(precision=0.13811368689088654, recall=0.09648895789012804, fmeasure=0.10590893954800037), Score(precision=0.15688352625176838, recall=0.1113577147463112, fmeasure=0.11943996131860113), Score(precision=0.1768769168122868, recall=0.12839554574527282, fmeasure=0.13446316674156597), Score(precision=0.13811368689088654, recall=0.09648895789012804, fmeasure=0.10590893954800037), Score(precision=0.15688352625176838, recall=0.1113577147463112, fmeasure=0.11943996131860113), Score(precision=0.1768769168122868, recall=0.12839554574527282, fmeasure=0.13446316674156597), Score(precision=0.13811368689088654, recall=0.09648895789012804, fmeasure=0.10590893954800037), Score(precision=0.15688352625176838, recall=0.1113577147463112, fmeasure=0.11943996131860113), Score(precision=0.1768769168122868, recall=0.12839554574527282, fmeasure=0.13446316674156597), Score(precision=0.13811368689088654, recall=0.09648895789012804, fmeasure=0.10590893954800037), Score(precision=0.15688352625176838, recall=0.1113577147463112, fmeasure=0.11943996131860113), Score(precision=0.1768769168122868, recall=0.12839554574527282, fmeasure=0.13446316674156597), Score(precision=0.13811368689088654, recall=0.09648895789012804, fmeasure=0.10590893954800037), Score(precision=0.15688352625176838, recall=0.1113577147463112, fmeasure=0.11943996131860113), Score(precision=0.1768769168122868, recall=0.12839554574527282, fmeasure=0.13446316674156597), Score(precision=0.13811368689088654, recall=0.09648895789012804, fmeasure=0.10590893954800037), Score(precision=0.15688352625176838, recall=0.1113577147463112, fmeasure=0.11943996131860113), Score(precision=0.1768769168122868, recall=0.12839554574527282, fmeasure=0.13446316674156597), Score(precision=0.13811368689088654, recall=0.09648895789012804, fmeasure=0.10590893954800037), Score(precision=0.15688352625176838, recall=0.1113577147463112, fmeasure=0.11943996131860113), Score(precision=0.1768769168122868, recall=0.12839554574527282, fmeasure=0.13446316674156597), Score(precision=0.13811368689088654, recall=0.09648895789012804, fmeasure=0.10590893954800037), Score(precision=0.15688352625176838, recall=0.1113577147463112, fmeasure=0.11943996131860113), Score(precision=0.1768769168122868, recall=0.12839554574527282, fmeasure=0.13446316674156597), Score(precision=0.13811368689088654, recall=0.09648895789012804, fmeasure=0.10590893954800037), Score(precision=0.15688352625176838, recall=0.1113577147463112, fmeasure=0.11943996131860113), Score(precision=0.1768769168122868, recall=0.12839554574527282, fmeasure=0.13446316674156597), Score(precision=0.13811368689088654, recall=0.09648895789012804, fmeasure=0.10590893954800037), Score(precision=0.15688352625176838, recall=0.1113577147463112, fmeasure=0.11943996131860113), Score(precision=0.1768769168122868, recall=0.12839554574527282, fmeasure=0.13446316674156597), Score(precision=0.13811368689088654, recall=0.09648895789012804, fmeasure=0.10590893954800037), Score(precision=0.15688352625176838, recall=0.1113577147463112, fmeasure=0.11943996131860113), Score(precision=0.1768769168122868, recall=0.12839554574527282, fmeasure=0.13446316674156597), Score(precision=0.13811368689088654, recall=0.09648895789012804, fmeasure=0.10590893954800037), Score(precision=0.15688352625176838, recall=0.1113577147463112, fmeasure=0.11943996131860113), Score(precision=0.1768769168122868, recall=0.12839554574527282, fmeasure=0.13446316674156597), Score(precision=0.13811368689088654, recall=0.09648895789012804, fmeasure=0.10590893954800037), Score(precision=0.15688352625176838, recall=0.1113577147463112, fmeasure=0.11943996131860113), Score(precision=0.1768769168122868, recall=0.12839554574527282, fmeasure=0.13446316674156597), Score(precision=0.13811368689088654, recall=0.09648895789012804, fmeasure=0.10590893954800037), Score(precision=0.15688352625176838, recall=0.1113577147463112, fmeasure=0.11943996131860113), Score(precision=0.1768769168122868, recall=0.12839554574527282, fmeasure=0.13446316674156597), Score(precision=0.13811368689088654, recall=0.09648895789012804, fmeasure=0.10590893954800037), Score(precision=0.15688352625176838, recall=0.1113577147463112, fmeasure=0.11943996131860113), Score(precision=0.1768769168122868, recall=0.12839554574527282, fmeasure=0.13446316674156597), Score(precision=0.13811368689088654, recall=0.09648895789012804, fmeasure=0.10590893954800037), Score(precision=0.15688352625176838, recall=0.1113577147463112, fmeasure=0.11943996131860113), Score(precision=0.1768769168122868, recall=0.12839554574527282, fmeasure=0.13446316674156597), Score(precision=0.13811368689088654, recall=0.09648895789012804, fmeasure=0.10590893954800037), Score(precision=0.15688352625176838, recall=0.1113577147463112, fmeasure=0.11943996131860113), Score(precision=0.1768769168122868, recall=0.12839554574527282, fmeasure=0.13446316674156597), Score(precision=0.13811368689088654, recall=0.09648895789012804, fmeasure=0.10590893954800037), Score(precision=0.15688352625176838, recall=0.1113577147463112, fmeasure=0.11943996131860113), Score(precision=0.1768769168122868, recall=0.12839554574527282, fmeasure=0.13446316674156597), Score(precision=0.13811368689088654, recall=0.09648895789012804, fmeasure=0.10590893954800037), Score(precision=0.15688352625176838, recall=0.1113577147463112, fmeasure=0.11943996131860113), Score(precision=0.1768769168122868, recall=0.12839554574527282, fmeasure=0.13446316674156597), Score(precision=0.13811368689088654, recall=0.09648895789012804, fmeasure=0.10590893954800037), Score(precision=0.15688352625176838, recall=0.1113577147463112, fmeasure=0.11943996131860113), Score(precision=0.1768769168122868, recall=0.12839554574527282, fmeasure=0.13446316674156597), Score(precision=0.13811368689088654, recall=0.09648895789012804, fmeasure=0.10590893954800037), Score(precision=0.15688352625176838, recall=0.1113577147463112, fmeasure=0.11943996131860113), Score(precision=0.1768769168122868, recall=0.12839554574527282, fmeasure=0.13446316674156597), Score(precision=0.13811368689088654, recall=0.09648895789012804, fmeasure=0.10590893954800037), Score(precision=0.15688352625176838, recall=0.1113577147463112, fmeasure=0.11943996131860113), Score(precision=0.1768769168122868, recall=0.12839554574527282, fmeasure=0.13446316674156597), Score(precision=0.13811368689088654, recall=0.09648895789012804, fmeasure=0.10590893954800037), Score(precision=0.15688352625176838, recall=0.1113577147463112, fmeasure=0.11943996131860113), Score(precision=0.1768769168122868, recall=0.12839554574527282, fmeasure=0.13446316674156597), Score(precision=0.13811368689088654, recall=0.09648895789012804, fmeasure=0.10590893954800037), Score(precision=0.15688352625176838, recall=0.1113577147463112, fmeasure=0.11943996131860113), Score(precision=0.1768769168122868, recall=0.12839554574527282, fmeasure=0.13446316674156597), Score(precision=0.13811368689088654, recall=0.09648895789012804, fmeasure=0.10590893954800037), Score(precision=0.15688352625176838, recall=0.1113577147463112, fmeasure=0.11943996131860113), Score(precision=0.1768769168122868, recall=0.12839554574527282, fmeasure=0.13446316674156597), Score(precision=0.13811368689088654, recall=0.09648895789012804, fmeasure=0.10590893954800037), Score(precision=0.15688352625176838, recall=0.1113577147463112, fmeasure=0.11943996131860113), Score(precision=0.1768769168122868, recall=0.12839554574527282, fmeasure=0.13446316674156597), Score(precision=0.13811368689088654, recall=0.09648895789012804, fmeasure=0.10590893954800037), Score(precision=0.15688352625176838, recall=0.1113577147463112, fmeasure=0.11943996131860113), Score(precision=0.1768769168122868, recall=0.12839554574527282, fmeasure=0.13446316674156597), Score(precision=0.13811368689088654, recall=0.09648895789012804, fmeasure=0.10590893954800037), Score(precision=0.15688352625176838, recall=0.1113577147463112, fmeasure=0.11943996131860113), Score(precision=0.1768769168122868, recall=0.12839554574527282, fmeasure=0.13446316674156597), Score(precision=0.13811368689088654, recall=0.09648895789012804, fmeasure=0.10590893954800037), Score(precision=0.15688352625176838, recall=0.1113577147463112, fmeasure=0.11943996131860113), Score(precision=0.1768769168122868, recall=0.12839554574527282, fmeasure=0.13446316674156597), Score(precision=0.13811368689088654, recall=0.09648895789012804, fmeasure=0.10590893954800037), Score(precision=0.15688352625176838, recall=0.1113577147463112, fmeasure=0.11943996131860113), Score(precision=0.1768769168122868, recall=0.12839554574527282, fmeasure=0.13446316674156597), Score(precision=0.13811368689088654, recall=0.09648895789012804, fmeasure=0.10590893954800037), Score(precision=0.15688352625176838, recall=0.1113577147463112, fmeasure=0.11943996131860113), Score(precision=0.1768769168122868, recall=0.12839554574527282, fmeasure=0.13446316674156597), Score(precision=0.13811368689088654, recall=0.09648895789012804, fmeasure=0.10590893954800037), Score(precision=0.15688352625176838, recall=0.1113577147463112, fmeasure=0.11943996131860113), Score(precision=0.1768769168122868, recall=0.12839554574527282, fmeasure=0.13446316674156597), Score(precision=0.13811368689088654, recall=0.09648895789012804, fmeasure=0.10590893954800037), Score(precision=0.15688352625176838, recall=0.1113577147463112, fmeasure=0.11943996131860113), Score(precision=0.1768769168122868, recall=0.12839554574527282, fmeasure=0.13446316674156597), Score(precision=0.13811368689088654, recall=0.09648895789012804, fmeasure=0.10590893954800037), Score(precision=0.15688352625176838, recall=0.1113577147463112, fmeasure=0.11943996131860113), Score(precision=0.1768769168122868, recall=0.12839554574527282, fmeasure=0.13446316674156597), Score(precision=0.13811368689088654, recall=0.09648895789012804, fmeasure=0.10590893954800037), Score(precision=0.15688352625176838, recall=0.1113577147463112, fmeasure=0.11943996131860113), Score(precision=0.1768769168122868, recall=0.12839554574527282, fmeasure=0.13446316674156597), Score(precision=0.13811368689088654, recall=0.09648895789012804, fmeasure=0.10590893954800037), Score(precision=0.15688352625176838, recall=0.1113577147463112, fmeasure=0.11943996131860113), Score(precision=0.1768769168122868, recall=0.12839554574527282, fmeasure=0.13446316674156597), Score(precision=0.13811368689088654, recall=0.09648895789012804, fmeasure=0.10590893954800037), Score(precision=0.15688352625176838, recall=0.1113577147463112, fmeasure=0.11943996131860113), Score(precision=0.1768769168122868, recall=0.12839554574527282, fmeasure=0.13446316674156597), Score(precision=0.13811368689088654, recall=0.09648895789012804, fmeasure=0.10590893954800037), Score(precision=0.15688352625176838, recall=0.1113577147463112, fmeasure=0.11943996131860113), Score(precision=0.1768769168122868, recall=0.12839554574527282, fmeasure=0.13446316674156597), Score(precision=0.13811368689088654, recall=0.09648895789012804, fmeasure=0.10590893954800037), Score(precision=0.15688352625176838, recall=0.1113577147463112, fmeasure=0.11943996131860113), Score(precision=0.1768769168122868, recall=0.12839554574527282, fmeasure=0.13446316674156597), Score(precision=0.13811368689088654, recall=0.09648895789012804, fmeasure=0.10590893954800037), Score(precision=0.15688352625176838, recall=0.1113577147463112, fmeasure=0.11943996131860113), Score(precision=0.1768769168122868, recall=0.12839554574527282, fmeasure=0.13446316674156597), Score(precision=0.13811368689088654, recall=0.09648895789012804, fmeasure=0.10590893954800037), Score(precision=0.15688352625176838, recall=0.1113577147463112, fmeasure=0.11943996131860113), Score(precision=0.1768769168122868, recall=0.12839554574527282, fmeasure=0.13446316674156597), Score(precision=0.13811368689088654, recall=0.09648895789012804, fmeasure=0.10590893954800037), Score(precision=0.15688352625176838, recall=0.1113577147463112, fmeasure=0.11943996131860113), Score(precision=0.1768769168122868, recall=0.12839554574527282, fmeasure=0.13446316674156597), Score(precision=0.13811368689088654, recall=0.09648895789012804, fmeasure=0.10590893954800037), Score(precision=0.15688352625176838, recall=0.1113577147463112, fmeasure=0.11943996131860113), Score(precision=0.1768769168122868, recall=0.12839554574527282, fmeasure=0.13446316674156597), Score(precision=0.13811368689088654, recall=0.09648895789012804, fmeasure=0.10590893954800037), Score(precision=0.15688352625176838, recall=0.1113577147463112, fmeasure=0.11943996131860113), Score(precision=0.1768769168122868, recall=0.12839554574527282, fmeasure=0.13446316674156597), Score(precision=0.13811368689088654, recall=0.09648895789012804, fmeasure=0.10590893954800037), Score(precision=0.15688352625176838, recall=0.1113577147463112, fmeasure=0.11943996131860113), Score(precision=0.1768769168122868, recall=0.12839554574527282, fmeasure=0.13446316674156597)), 'rougeLsum': (Score(precision=0.19160754744418387, recall=0.13220095353810493, fmeasure=0.14630727583215913), Score(precision=0.2211995207693365, recall=0.14927761752706828, fmeasure=0.16581303495902733), Score(precision=0.25141267565574726, recall=0.16947705950310263, fmeasure=0.18785955356031384), Score(precision=0.19160754744418387, recall=0.13220095353810493, fmeasure=0.14630727583215913), Score(precision=0.2211995207693365, recall=0.14927761752706828, fmeasure=0.16581303495902733), Score(precision=0.25141267565574726, recall=0.16947705950310263, fmeasure=0.18785955356031384), Score(precision=0.19160754744418387, recall=0.13220095353810493, fmeasure=0.14630727583215913), Score(precision=0.2211995207693365, recall=0.14927761752706828, fmeasure=0.16581303495902733), Score(precision=0.25141267565574726, recall=0.16947705950310263, fmeasure=0.18785955356031384), Score(precision=0.19160754744418387, recall=0.13220095353810493, fmeasure=0.14630727583215913), Score(precision=0.2211995207693365, recall=0.14927761752706828, fmeasure=0.16581303495902733), Score(precision=0.25141267565574726, recall=0.16947705950310263, fmeasure=0.18785955356031384), Score(precision=0.19160754744418387, recall=0.13220095353810493, fmeasure=0.14630727583215913), Score(precision=0.2211995207693365, recall=0.14927761752706828, fmeasure=0.16581303495902733), Score(precision=0.25141267565574726, recall=0.16947705950310263, fmeasure=0.18785955356031384), Score(precision=0.19160754744418387, recall=0.13220095353810493, fmeasure=0.14630727583215913), Score(precision=0.2211995207693365, recall=0.14927761752706828, fmeasure=0.16581303495902733), Score(precision=0.25141267565574726, recall=0.16947705950310263, fmeasure=0.18785955356031384), Score(precision=0.19160754744418387, recall=0.13220095353810493, fmeasure=0.14630727583215913), Score(precision=0.2211995207693365, recall=0.14927761752706828, fmeasure=0.16581303495902733), Score(precision=0.25141267565574726, recall=0.16947705950310263, fmeasure=0.18785955356031384), Score(precision=0.19160754744418387, recall=0.13220095353810493, fmeasure=0.14630727583215913), Score(precision=0.2211995207693365, recall=0.14927761752706828, fmeasure=0.16581303495902733), Score(precision=0.25141267565574726, recall=0.16947705950310263, fmeasure=0.18785955356031384), Score(precision=0.19160754744418387, recall=0.13220095353810493, fmeasure=0.14630727583215913), Score(precision=0.2211995207693365, recall=0.14927761752706828, fmeasure=0.16581303495902733), Score(precision=0.25141267565574726, recall=0.16947705950310263, fmeasure=0.18785955356031384), Score(precision=0.19160754744418387, recall=0.13220095353810493, fmeasure=0.14630727583215913), Score(precision=0.2211995207693365, recall=0.14927761752706828, fmeasure=0.16581303495902733), Score(precision=0.25141267565574726, recall=0.16947705950310263, fmeasure=0.18785955356031384), Score(precision=0.19160754744418387, recall=0.13220095353810493, fmeasure=0.14630727583215913), Score(precision=0.2211995207693365, recall=0.14927761752706828, fmeasure=0.16581303495902733), Score(precision=0.25141267565574726, recall=0.16947705950310263, fmeasure=0.18785955356031384), Score(precision=0.19160754744418387, recall=0.13220095353810493, fmeasure=0.14630727583215913), Score(precision=0.2211995207693365, recall=0.14927761752706828, fmeasure=0.16581303495902733), Score(precision=0.25141267565574726, recall=0.16947705950310263, fmeasure=0.18785955356031384), Score(precision=0.19160754744418387, recall=0.13220095353810493, fmeasure=0.14630727583215913), Score(precision=0.2211995207693365, recall=0.14927761752706828, fmeasure=0.16581303495902733), Score(precision=0.25141267565574726, recall=0.16947705950310263, fmeasure=0.18785955356031384), Score(precision=0.19160754744418387, recall=0.13220095353810493, fmeasure=0.14630727583215913), Score(precision=0.2211995207693365, recall=0.14927761752706828, fmeasure=0.16581303495902733), Score(precision=0.25141267565574726, recall=0.16947705950310263, fmeasure=0.18785955356031384), Score(precision=0.19160754744418387, recall=0.13220095353810493, fmeasure=0.14630727583215913), Score(precision=0.2211995207693365, recall=0.14927761752706828, fmeasure=0.16581303495902733), Score(precision=0.25141267565574726, recall=0.16947705950310263, fmeasure=0.18785955356031384), Score(precision=0.19160754744418387, recall=0.13220095353810493, fmeasure=0.14630727583215913), Score(precision=0.2211995207693365, recall=0.14927761752706828, fmeasure=0.16581303495902733), Score(precision=0.25141267565574726, recall=0.16947705950310263, fmeasure=0.18785955356031384), Score(precision=0.19160754744418387, recall=0.13220095353810493, fmeasure=0.14630727583215913), Score(precision=0.2211995207693365, recall=0.14927761752706828, fmeasure=0.16581303495902733), Score(precision=0.25141267565574726, recall=0.16947705950310263, fmeasure=0.18785955356031384), Score(precision=0.19160754744418387, recall=0.13220095353810493, fmeasure=0.14630727583215913), Score(precision=0.2211995207693365, recall=0.14927761752706828, fmeasure=0.16581303495902733), Score(precision=0.25141267565574726, recall=0.16947705950310263, fmeasure=0.18785955356031384), Score(precision=0.19160754744418387, recall=0.13220095353810493, fmeasure=0.14630727583215913), Score(precision=0.2211995207693365, recall=0.14927761752706828, fmeasure=0.16581303495902733), Score(precision=0.25141267565574726, recall=0.16947705950310263, fmeasure=0.18785955356031384), Score(precision=0.19160754744418387, recall=0.13220095353810493, fmeasure=0.14630727583215913), Score(precision=0.2211995207693365, recall=0.14927761752706828, fmeasure=0.16581303495902733), Score(precision=0.25141267565574726, recall=0.16947705950310263, fmeasure=0.18785955356031384), Score(precision=0.19160754744418387, recall=0.13220095353810493, fmeasure=0.14630727583215913), Score(precision=0.2211995207693365, recall=0.14927761752706828, fmeasure=0.16581303495902733), Score(precision=0.25141267565574726, recall=0.16947705950310263, fmeasure=0.18785955356031384), Score(precision=0.19160754744418387, recall=0.13220095353810493, fmeasure=0.14630727583215913), Score(precision=0.2211995207693365, recall=0.14927761752706828, fmeasure=0.16581303495902733), Score(precision=0.25141267565574726, recall=0.16947705950310263, fmeasure=0.18785955356031384), Score(precision=0.19160754744418387, recall=0.13220095353810493, fmeasure=0.14630727583215913), Score(precision=0.2211995207693365, recall=0.14927761752706828, fmeasure=0.16581303495902733), Score(precision=0.25141267565574726, recall=0.16947705950310263, fmeasure=0.18785955356031384), Score(precision=0.19160754744418387, recall=0.13220095353810493, fmeasure=0.14630727583215913), Score(precision=0.2211995207693365, recall=0.14927761752706828, fmeasure=0.16581303495902733), Score(precision=0.25141267565574726, recall=0.16947705950310263, fmeasure=0.18785955356031384), Score(precision=0.19160754744418387, recall=0.13220095353810493, fmeasure=0.14630727583215913), Score(precision=0.2211995207693365, recall=0.14927761752706828, fmeasure=0.16581303495902733), Score(precision=0.25141267565574726, recall=0.16947705950310263, fmeasure=0.18785955356031384), Score(precision=0.19160754744418387, recall=0.13220095353810493, fmeasure=0.14630727583215913), Score(precision=0.2211995207693365, recall=0.14927761752706828, fmeasure=0.16581303495902733), Score(precision=0.25141267565574726, recall=0.16947705950310263, fmeasure=0.18785955356031384), Score(precision=0.19160754744418387, recall=0.13220095353810493, fmeasure=0.14630727583215913), Score(precision=0.2211995207693365, recall=0.14927761752706828, fmeasure=0.16581303495902733), Score(precision=0.25141267565574726, recall=0.16947705950310263, fmeasure=0.18785955356031384), Score(precision=0.19160754744418387, recall=0.13220095353810493, fmeasure=0.14630727583215913), Score(precision=0.2211995207693365, recall=0.14927761752706828, fmeasure=0.16581303495902733), Score(precision=0.25141267565574726, recall=0.16947705950310263, fmeasure=0.18785955356031384), Score(precision=0.19160754744418387, recall=0.13220095353810493, fmeasure=0.14630727583215913), Score(precision=0.2211995207693365, recall=0.14927761752706828, fmeasure=0.16581303495902733), Score(precision=0.25141267565574726, recall=0.16947705950310263, fmeasure=0.18785955356031384), Score(precision=0.19160754744418387, recall=0.13220095353810493, fmeasure=0.14630727583215913), Score(precision=0.2211995207693365, recall=0.14927761752706828, fmeasure=0.16581303495902733), Score(precision=0.25141267565574726, recall=0.16947705950310263, fmeasure=0.18785955356031384), Score(precision=0.19160754744418387, recall=0.13220095353810493, fmeasure=0.14630727583215913), Score(precision=0.2211995207693365, recall=0.14927761752706828, fmeasure=0.16581303495902733), Score(precision=0.25141267565574726, recall=0.16947705950310263, fmeasure=0.18785955356031384), Score(precision=0.19160754744418387, recall=0.13220095353810493, fmeasure=0.14630727583215913), Score(precision=0.2211995207693365, recall=0.14927761752706828, fmeasure=0.16581303495902733), Score(precision=0.25141267565574726, recall=0.16947705950310263, fmeasure=0.18785955356031384), Score(precision=0.19160754744418387, recall=0.13220095353810493, fmeasure=0.14630727583215913), Score(precision=0.2211995207693365, recall=0.14927761752706828, fmeasure=0.16581303495902733), Score(precision=0.25141267565574726, recall=0.16947705950310263, fmeasure=0.18785955356031384), Score(precision=0.19160754744418387, recall=0.13220095353810493, fmeasure=0.14630727583215913), Score(precision=0.2211995207693365, recall=0.14927761752706828, fmeasure=0.16581303495902733), Score(precision=0.25141267565574726, recall=0.16947705950310263, fmeasure=0.18785955356031384), Score(precision=0.19160754744418387, recall=0.13220095353810493, fmeasure=0.14630727583215913), Score(precision=0.2211995207693365, recall=0.14927761752706828, fmeasure=0.16581303495902733), Score(precision=0.25141267565574726, recall=0.16947705950310263, fmeasure=0.18785955356031384), Score(precision=0.19160754744418387, recall=0.13220095353810493, fmeasure=0.14630727583215913), Score(precision=0.2211995207693365, recall=0.14927761752706828, fmeasure=0.16581303495902733), Score(precision=0.25141267565574726, recall=0.16947705950310263, fmeasure=0.18785955356031384), Score(precision=0.19160754744418387, recall=0.13220095353810493, fmeasure=0.14630727583215913), Score(precision=0.2211995207693365, recall=0.14927761752706828, fmeasure=0.16581303495902733), Score(precision=0.25141267565574726, recall=0.16947705950310263, fmeasure=0.18785955356031384), Score(precision=0.19160754744418387, recall=0.13220095353810493, fmeasure=0.14630727583215913), Score(precision=0.2211995207693365, recall=0.14927761752706828, fmeasure=0.16581303495902733), Score(precision=0.25141267565574726, recall=0.16947705950310263, fmeasure=0.18785955356031384), Score(precision=0.19160754744418387, recall=0.13220095353810493, fmeasure=0.14630727583215913), Score(precision=0.2211995207693365, recall=0.14927761752706828, fmeasure=0.16581303495902733), Score(precision=0.25141267565574726, recall=0.16947705950310263, fmeasure=0.18785955356031384), Score(precision=0.19160754744418387, recall=0.13220095353810493, fmeasure=0.14630727583215913), Score(precision=0.2211995207693365, recall=0.14927761752706828, fmeasure=0.16581303495902733), Score(precision=0.25141267565574726, recall=0.16947705950310263, fmeasure=0.18785955356031384), Score(precision=0.19160754744418387, recall=0.13220095353810493, fmeasure=0.14630727583215913), Score(precision=0.2211995207693365, recall=0.14927761752706828, fmeasure=0.16581303495902733), Score(precision=0.25141267565574726, recall=0.16947705950310263, fmeasure=0.18785955356031384), Score(precision=0.19160754744418387, recall=0.13220095353810493, fmeasure=0.14630727583215913), Score(precision=0.2211995207693365, recall=0.14927761752706828, fmeasure=0.16581303495902733), Score(precision=0.25141267565574726, recall=0.16947705950310263, fmeasure=0.18785955356031384), Score(precision=0.19160754744418387, recall=0.13220095353810493, fmeasure=0.14630727583215913), Score(precision=0.2211995207693365, recall=0.14927761752706828, fmeasure=0.16581303495902733), Score(precision=0.25141267565574726, recall=0.16947705950310263, fmeasure=0.18785955356031384), Score(precision=0.19160754744418387, recall=0.13220095353810493, fmeasure=0.14630727583215913), Score(precision=0.2211995207693365, recall=0.14927761752706828, fmeasure=0.16581303495902733), Score(precision=0.25141267565574726, recall=0.16947705950310263, fmeasure=0.18785955356031384), Score(precision=0.19160754744418387, recall=0.13220095353810493, fmeasure=0.14630727583215913), Score(precision=0.2211995207693365, recall=0.14927761752706828, fmeasure=0.16581303495902733), Score(precision=0.25141267565574726, recall=0.16947705950310263, fmeasure=0.18785955356031384), Score(precision=0.19160754744418387, recall=0.13220095353810493, fmeasure=0.14630727583215913), Score(precision=0.2211995207693365, recall=0.14927761752706828, fmeasure=0.16581303495902733), Score(precision=0.25141267565574726, recall=0.16947705950310263, fmeasure=0.18785955356031384), Score(precision=0.19160754744418387, recall=0.13220095353810493, fmeasure=0.14630727583215913), Score(precision=0.2211995207693365, recall=0.14927761752706828, fmeasure=0.16581303495902733), Score(precision=0.25141267565574726, recall=0.16947705950310263, fmeasure=0.18785955356031384), Score(precision=0.19160754744418387, recall=0.13220095353810493, fmeasure=0.14630727583215913), Score(precision=0.2211995207693365, recall=0.14927761752706828, fmeasure=0.16581303495902733), Score(precision=0.25141267565574726, recall=0.16947705950310263, fmeasure=0.18785955356031384), Score(precision=0.19160754744418387, recall=0.13220095353810493, fmeasure=0.14630727583215913), Score(precision=0.2211995207693365, recall=0.14927761752706828, fmeasure=0.16581303495902733), Score(precision=0.25141267565574726, recall=0.16947705950310263, fmeasure=0.18785955356031384), Score(precision=0.19160754744418387, recall=0.13220095353810493, fmeasure=0.14630727583215913), Score(precision=0.2211995207693365, recall=0.14927761752706828, fmeasure=0.16581303495902733), Score(precision=0.25141267565574726, recall=0.16947705950310263, fmeasure=0.18785955356031384), Score(precision=0.19160754744418387, recall=0.13220095353810493, fmeasure=0.14630727583215913), Score(precision=0.2211995207693365, recall=0.14927761752706828, fmeasure=0.16581303495902733), Score(precision=0.25141267565574726, recall=0.16947705950310263, fmeasure=0.18785955356031384), Score(precision=0.19160754744418387, recall=0.13220095353810493, fmeasure=0.14630727583215913), Score(precision=0.2211995207693365, recall=0.14927761752706828, fmeasure=0.16581303495902733), Score(precision=0.25141267565574726, recall=0.16947705950310263, fmeasure=0.18785955356031384), Score(precision=0.19160754744418387, recall=0.13220095353810493, fmeasure=0.14630727583215913), Score(precision=0.2211995207693365, recall=0.14927761752706828, fmeasure=0.16581303495902733), Score(precision=0.25141267565574726, recall=0.16947705950310263, fmeasure=0.18785955356031384), Score(precision=0.19160754744418387, recall=0.13220095353810493, fmeasure=0.14630727583215913), Score(precision=0.2211995207693365, recall=0.14927761752706828, fmeasure=0.16581303495902733), Score(precision=0.25141267565574726, recall=0.16947705950310263, fmeasure=0.18785955356031384), Score(precision=0.19160754744418387, recall=0.13220095353810493, fmeasure=0.14630727583215913), Score(precision=0.2211995207693365, recall=0.14927761752706828, fmeasure=0.16581303495902733), Score(precision=0.25141267565574726, recall=0.16947705950310263, fmeasure=0.18785955356031384), Score(precision=0.19160754744418387, recall=0.13220095353810493, fmeasure=0.14630727583215913), Score(precision=0.2211995207693365, recall=0.14927761752706828, fmeasure=0.16581303495902733), Score(precision=0.25141267565574726, recall=0.16947705950310263, fmeasure=0.18785955356031384), Score(precision=0.19160754744418387, recall=0.13220095353810493, fmeasure=0.14630727583215913), Score(precision=0.2211995207693365, recall=0.14927761752706828, fmeasure=0.16581303495902733), Score(precision=0.25141267565574726, recall=0.16947705950310263, fmeasure=0.18785955356031384), Score(precision=0.19160754744418387, recall=0.13220095353810493, fmeasure=0.14630727583215913), Score(precision=0.2211995207693365, recall=0.14927761752706828, fmeasure=0.16581303495902733), Score(precision=0.25141267565574726, recall=0.16947705950310263, fmeasure=0.18785955356031384), Score(precision=0.19160754744418387, recall=0.13220095353810493, fmeasure=0.14630727583215913), Score(precision=0.2211995207693365, recall=0.14927761752706828, fmeasure=0.16581303495902733), Score(precision=0.25141267565574726, recall=0.16947705950310263, fmeasure=0.18785955356031384), Score(precision=0.19160754744418387, recall=0.13220095353810493, fmeasure=0.14630727583215913), Score(precision=0.2211995207693365, recall=0.14927761752706828, fmeasure=0.16581303495902733), Score(precision=0.25141267565574726, recall=0.16947705950310263, fmeasure=0.18785955356031384), Score(precision=0.19160754744418387, recall=0.13220095353810493, fmeasure=0.14630727583215913), Score(precision=0.2211995207693365, recall=0.14927761752706828, fmeasure=0.16581303495902733), Score(precision=0.25141267565574726, recall=0.16947705950310263, fmeasure=0.18785955356031384), Score(precision=0.19160754744418387, recall=0.13220095353810493, fmeasure=0.14630727583215913), Score(precision=0.2211995207693365, recall=0.14927761752706828, fmeasure=0.16581303495902733), Score(precision=0.25141267565574726, recall=0.16947705950310263, fmeasure=0.18785955356031384), Score(precision=0.19160754744418387, recall=0.13220095353810493, fmeasure=0.14630727583215913), Score(precision=0.2211995207693365, recall=0.14927761752706828, fmeasure=0.16581303495902733), Score(precision=0.25141267565574726, recall=0.16947705950310263, fmeasure=0.18785955356031384), Score(precision=0.19160754744418387, recall=0.13220095353810493, fmeasure=0.14630727583215913), Score(precision=0.2211995207693365, recall=0.14927761752706828, fmeasure=0.16581303495902733), Score(precision=0.25141267565574726, recall=0.16947705950310263, fmeasure=0.18785955356031384), Score(precision=0.19160754744418387, recall=0.13220095353810493, fmeasure=0.14630727583215913), Score(precision=0.2211995207693365, recall=0.14927761752706828, fmeasure=0.16581303495902733), Score(precision=0.25141267565574726, recall=0.16947705950310263, fmeasure=0.18785955356031384), Score(precision=0.19160754744418387, recall=0.13220095353810493, fmeasure=0.14630727583215913), Score(precision=0.2211995207693365, recall=0.14927761752706828, fmeasure=0.16581303495902733), Score(precision=0.25141267565574726, recall=0.16947705950310263, fmeasure=0.18785955356031384), Score(precision=0.19160754744418387, recall=0.13220095353810493, fmeasure=0.14630727583215913), Score(precision=0.2211995207693365, recall=0.14927761752706828, fmeasure=0.16581303495902733), Score(precision=0.25141267565574726, recall=0.16947705950310263, fmeasure=0.18785955356031384), Score(precision=0.19160754744418387, recall=0.13220095353810493, fmeasure=0.14630727583215913), Score(precision=0.2211995207693365, recall=0.14927761752706828, fmeasure=0.16581303495902733), Score(precision=0.25141267565574726, recall=0.16947705950310263, fmeasure=0.18785955356031384), Score(precision=0.19160754744418387, recall=0.13220095353810493, fmeasure=0.14630727583215913), Score(precision=0.2211995207693365, recall=0.14927761752706828, fmeasure=0.16581303495902733), Score(precision=0.25141267565574726, recall=0.16947705950310263, fmeasure=0.18785955356031384), Score(precision=0.19160754744418387, recall=0.13220095353810493, fmeasure=0.14630727583215913), Score(precision=0.2211995207693365, recall=0.14927761752706828, fmeasure=0.16581303495902733), Score(precision=0.25141267565574726, recall=0.16947705950310263, fmeasure=0.18785955356031384), Score(precision=0.19160754744418387, recall=0.13220095353810493, fmeasure=0.14630727583215913), Score(precision=0.2211995207693365, recall=0.14927761752706828, fmeasure=0.16581303495902733), Score(precision=0.25141267565574726, recall=0.16947705950310263, fmeasure=0.18785955356031384), Score(precision=0.19160754744418387, recall=0.13220095353810493, fmeasure=0.14630727583215913), Score(precision=0.2211995207693365, recall=0.14927761752706828, fmeasure=0.16581303495902733), Score(precision=0.25141267565574726, recall=0.16947705950310263, fmeasure=0.18785955356031384), Score(precision=0.19160754744418387, recall=0.13220095353810493, fmeasure=0.14630727583215913), Score(precision=0.2211995207693365, recall=0.14927761752706828, fmeasure=0.16581303495902733), Score(precision=0.25141267565574726, recall=0.16947705950310263, fmeasure=0.18785955356031384), Score(precision=0.19160754744418387, recall=0.13220095353810493, fmeasure=0.14630727583215913), Score(precision=0.2211995207693365, recall=0.14927761752706828, fmeasure=0.16581303495902733), Score(precision=0.25141267565574726, recall=0.16947705950310263, fmeasure=0.18785955356031384), Score(precision=0.19160754744418387, recall=0.13220095353810493, fmeasure=0.14630727583215913), Score(precision=0.2211995207693365, recall=0.14927761752706828, fmeasure=0.16581303495902733), Score(precision=0.25141267565574726, recall=0.16947705950310263, fmeasure=0.18785955356031384), Score(precision=0.19160754744418387, recall=0.13220095353810493, fmeasure=0.14630727583215913), Score(precision=0.2211995207693365, recall=0.14927761752706828, fmeasure=0.16581303495902733), Score(precision=0.25141267565574726, recall=0.16947705950310263, fmeasure=0.18785955356031384), Score(precision=0.19160754744418387, recall=0.13220095353810493, fmeasure=0.14630727583215913), Score(precision=0.2211995207693365, recall=0.14927761752706828, fmeasure=0.16581303495902733), Score(precision=0.25141267565574726, recall=0.16947705950310263, fmeasure=0.18785955356031384), Score(precision=0.19160754744418387, recall=0.13220095353810493, fmeasure=0.14630727583215913), Score(precision=0.2211995207693365, recall=0.14927761752706828, fmeasure=0.16581303495902733), Score(precision=0.25141267565574726, recall=0.16947705950310263, fmeasure=0.18785955356031384), Score(precision=0.19160754744418387, recall=0.13220095353810493, fmeasure=0.14630727583215913), Score(precision=0.2211995207693365, recall=0.14927761752706828, fmeasure=0.16581303495902733), Score(precision=0.25141267565574726, recall=0.16947705950310263, fmeasure=0.18785955356031384), Score(precision=0.19160754744418387, recall=0.13220095353810493, fmeasure=0.14630727583215913), Score(precision=0.2211995207693365, recall=0.14927761752706828, fmeasure=0.16581303495902733), Score(precision=0.25141267565574726, recall=0.16947705950310263, fmeasure=0.18785955356031384), Score(precision=0.19160754744418387, recall=0.13220095353810493, fmeasure=0.14630727583215913), Score(precision=0.2211995207693365, recall=0.14927761752706828, fmeasure=0.16581303495902733), Score(precision=0.25141267565574726, recall=0.16947705950310263, fmeasure=0.18785955356031384), Score(precision=0.19160754744418387, recall=0.13220095353810493, fmeasure=0.14630727583215913), Score(precision=0.2211995207693365, recall=0.14927761752706828, fmeasure=0.16581303495902733), Score(precision=0.25141267565574726, recall=0.16947705950310263, fmeasure=0.18785955356031384), Score(precision=0.19160754744418387, recall=0.13220095353810493, fmeasure=0.14630727583215913), Score(precision=0.2211995207693365, recall=0.14927761752706828, fmeasure=0.16581303495902733), Score(precision=0.25141267565574726, recall=0.16947705950310263, fmeasure=0.18785955356031384), Score(precision=0.19160754744418387, recall=0.13220095353810493, fmeasure=0.14630727583215913), Score(precision=0.2211995207693365, recall=0.14927761752706828, fmeasure=0.16581303495902733), Score(precision=0.25141267565574726, recall=0.16947705950310263, fmeasure=0.18785955356031384), Score(precision=0.19160754744418387, recall=0.13220095353810493, fmeasure=0.14630727583215913), Score(precision=0.2211995207693365, recall=0.14927761752706828, fmeasure=0.16581303495902733), Score(precision=0.25141267565574726, recall=0.16947705950310263, fmeasure=0.18785955356031384), Score(precision=0.19160754744418387, recall=0.13220095353810493, fmeasure=0.14630727583215913), Score(precision=0.2211995207693365, recall=0.14927761752706828, fmeasure=0.16581303495902733), Score(precision=0.25141267565574726, recall=0.16947705950310263, fmeasure=0.18785955356031384), Score(precision=0.19160754744418387, recall=0.13220095353810493, fmeasure=0.14630727583215913), Score(precision=0.2211995207693365, recall=0.14927761752706828, fmeasure=0.16581303495902733), Score(precision=0.25141267565574726, recall=0.16947705950310263, fmeasure=0.18785955356031384), Score(precision=0.19160754744418387, recall=0.13220095353810493, fmeasure=0.14630727583215913), Score(precision=0.2211995207693365, recall=0.14927761752706828, fmeasure=0.16581303495902733), Score(precision=0.25141267565574726, recall=0.16947705950310263, fmeasure=0.18785955356031384), Score(precision=0.19160754744418387, recall=0.13220095353810493, fmeasure=0.14630727583215913), Score(precision=0.2211995207693365, recall=0.14927761752706828, fmeasure=0.16581303495902733), Score(precision=0.25141267565574726, recall=0.16947705950310263, fmeasure=0.18785955356031384), Score(precision=0.19160754744418387, recall=0.13220095353810493, fmeasure=0.14630727583215913), Score(precision=0.2211995207693365, recall=0.14927761752706828, fmeasure=0.16581303495902733), Score(precision=0.25141267565574726, recall=0.16947705950310263, fmeasure=0.18785955356031384), Score(precision=0.19160754744418387, recall=0.13220095353810493, fmeasure=0.14630727583215913), Score(precision=0.2211995207693365, recall=0.14927761752706828, fmeasure=0.16581303495902733), Score(precision=0.25141267565574726, recall=0.16947705950310263, fmeasure=0.18785955356031384), Score(precision=0.19160754744418387, recall=0.13220095353810493, fmeasure=0.14630727583215913), Score(precision=0.2211995207693365, recall=0.14927761752706828, fmeasure=0.16581303495902733), Score(precision=0.25141267565574726, recall=0.16947705950310263, fmeasure=0.18785955356031384), Score(precision=0.19160754744418387, recall=0.13220095353810493, fmeasure=0.14630727583215913), Score(precision=0.2211995207693365, recall=0.14927761752706828, fmeasure=0.16581303495902733), Score(precision=0.25141267565574726, recall=0.16947705950310263, fmeasure=0.18785955356031384), Score(precision=0.19160754744418387, recall=0.13220095353810493, fmeasure=0.14630727583215913), Score(precision=0.2211995207693365, recall=0.14927761752706828, fmeasure=0.16581303495902733), Score(precision=0.25141267565574726, recall=0.16947705950310263, fmeasure=0.18785955356031384), Score(precision=0.19160754744418387, recall=0.13220095353810493, fmeasure=0.14630727583215913), Score(precision=0.2211995207693365, recall=0.14927761752706828, fmeasure=0.16581303495902733), Score(precision=0.25141267565574726, recall=0.16947705950310263, fmeasure=0.18785955356031384), Score(precision=0.19160754744418387, recall=0.13220095353810493, fmeasure=0.14630727583215913), Score(precision=0.2211995207693365, recall=0.14927761752706828, fmeasure=0.16581303495902733), Score(precision=0.25141267565574726, recall=0.16947705950310263, fmeasure=0.18785955356031384), Score(precision=0.19160754744418387, recall=0.13220095353810493, fmeasure=0.14630727583215913), Score(precision=0.2211995207693365, recall=0.14927761752706828, fmeasure=0.16581303495902733), Score(precision=0.25141267565574726, recall=0.16947705950310263, fmeasure=0.18785955356031384), Score(precision=0.19160754744418387, recall=0.13220095353810493, fmeasure=0.14630727583215913), Score(precision=0.2211995207693365, recall=0.14927761752706828, fmeasure=0.16581303495902733), Score(precision=0.25141267565574726, recall=0.16947705950310263, fmeasure=0.18785955356031384), Score(precision=0.19160754744418387, recall=0.13220095353810493, fmeasure=0.14630727583215913), Score(precision=0.2211995207693365, recall=0.14927761752706828, fmeasure=0.16581303495902733), Score(precision=0.25141267565574726, recall=0.16947705950310263, fmeasure=0.18785955356031384), Score(precision=0.19160754744418387, recall=0.13220095353810493, fmeasure=0.14630727583215913), Score(precision=0.2211995207693365, recall=0.14927761752706828, fmeasure=0.16581303495902733), Score(precision=0.25141267565574726, recall=0.16947705950310263, fmeasure=0.18785955356031384)), 'gen_len': 139.34666666666666}\n"
     ]
    },
    {
     "ename": "TypeError",
     "evalue": "type tuple doesn't define __round__ method",
     "output_type": "error",
     "traceback": [
      "\u001b[0;31m---------------------------------------------------------------------------\u001b[0m",
      "\u001b[0;31mTypeError\u001b[0m                                 Traceback (most recent call last)",
      "Cell \u001b[0;32mIn[45], line 1\u001b[0m\n\u001b[0;32m----> 1\u001b[0m \u001b[43mtrainer\u001b[49m\u001b[38;5;241;43m.\u001b[39;49m\u001b[43mtrain\u001b[49m\u001b[43m(\u001b[49m\u001b[43m)\u001b[49m\n",
      "File \u001b[0;32m/gpfs/milgram/project/rtaylor/vs428/conda_envs/dischargeme/lib/python3.10/site-packages/transformers/trainer.py:1645\u001b[0m, in \u001b[0;36mTrainer.train\u001b[0;34m(self, resume_from_checkpoint, trial, ignore_keys_for_eval, **kwargs)\u001b[0m\n\u001b[1;32m   1640\u001b[0m     \u001b[38;5;28mself\u001b[39m\u001b[38;5;241m.\u001b[39mmodel_wrapped \u001b[38;5;241m=\u001b[39m \u001b[38;5;28mself\u001b[39m\u001b[38;5;241m.\u001b[39mmodel\n\u001b[1;32m   1642\u001b[0m inner_training_loop \u001b[38;5;241m=\u001b[39m find_executable_batch_size(\n\u001b[1;32m   1643\u001b[0m     \u001b[38;5;28mself\u001b[39m\u001b[38;5;241m.\u001b[39m_inner_training_loop, \u001b[38;5;28mself\u001b[39m\u001b[38;5;241m.\u001b[39m_train_batch_size, args\u001b[38;5;241m.\u001b[39mauto_find_batch_size\n\u001b[1;32m   1644\u001b[0m )\n\u001b[0;32m-> 1645\u001b[0m \u001b[38;5;28;01mreturn\u001b[39;00m \u001b[43minner_training_loop\u001b[49m\u001b[43m(\u001b[49m\n\u001b[1;32m   1646\u001b[0m \u001b[43m    \u001b[49m\u001b[43margs\u001b[49m\u001b[38;5;241;43m=\u001b[39;49m\u001b[43margs\u001b[49m\u001b[43m,\u001b[49m\n\u001b[1;32m   1647\u001b[0m \u001b[43m    \u001b[49m\u001b[43mresume_from_checkpoint\u001b[49m\u001b[38;5;241;43m=\u001b[39;49m\u001b[43mresume_from_checkpoint\u001b[49m\u001b[43m,\u001b[49m\n\u001b[1;32m   1648\u001b[0m \u001b[43m    \u001b[49m\u001b[43mtrial\u001b[49m\u001b[38;5;241;43m=\u001b[39;49m\u001b[43mtrial\u001b[49m\u001b[43m,\u001b[49m\n\u001b[1;32m   1649\u001b[0m \u001b[43m    \u001b[49m\u001b[43mignore_keys_for_eval\u001b[49m\u001b[38;5;241;43m=\u001b[39;49m\u001b[43mignore_keys_for_eval\u001b[49m\u001b[43m,\u001b[49m\n\u001b[1;32m   1650\u001b[0m \u001b[43m\u001b[49m\u001b[43m)\u001b[49m\n",
      "File \u001b[0;32m/gpfs/milgram/project/rtaylor/vs428/conda_envs/dischargeme/lib/python3.10/site-packages/transformers/trainer.py:2035\u001b[0m, in \u001b[0;36mTrainer._inner_training_loop\u001b[0;34m(self, batch_size, args, resume_from_checkpoint, trial, ignore_keys_for_eval)\u001b[0m\n\u001b[1;32m   2032\u001b[0m     \u001b[38;5;28mself\u001b[39m\u001b[38;5;241m.\u001b[39mcontrol\u001b[38;5;241m.\u001b[39mshould_training_stop \u001b[38;5;241m=\u001b[39m \u001b[38;5;28;01mTrue\u001b[39;00m\n\u001b[1;32m   2034\u001b[0m \u001b[38;5;28mself\u001b[39m\u001b[38;5;241m.\u001b[39mcontrol \u001b[38;5;241m=\u001b[39m \u001b[38;5;28mself\u001b[39m\u001b[38;5;241m.\u001b[39mcallback_handler\u001b[38;5;241m.\u001b[39mon_epoch_end(args, \u001b[38;5;28mself\u001b[39m\u001b[38;5;241m.\u001b[39mstate, \u001b[38;5;28mself\u001b[39m\u001b[38;5;241m.\u001b[39mcontrol)\n\u001b[0;32m-> 2035\u001b[0m \u001b[38;5;28;43mself\u001b[39;49m\u001b[38;5;241;43m.\u001b[39;49m\u001b[43m_maybe_log_save_evaluate\u001b[49m\u001b[43m(\u001b[49m\u001b[43mtr_loss\u001b[49m\u001b[43m,\u001b[49m\u001b[43m \u001b[49m\u001b[43mmodel\u001b[49m\u001b[43m,\u001b[49m\u001b[43m \u001b[49m\u001b[43mtrial\u001b[49m\u001b[43m,\u001b[49m\u001b[43m \u001b[49m\u001b[43mepoch\u001b[49m\u001b[43m,\u001b[49m\u001b[43m \u001b[49m\u001b[43mignore_keys_for_eval\u001b[49m\u001b[43m)\u001b[49m\n\u001b[1;32m   2037\u001b[0m \u001b[38;5;28;01mif\u001b[39;00m DebugOption\u001b[38;5;241m.\u001b[39mTPU_METRICS_DEBUG \u001b[38;5;129;01min\u001b[39;00m \u001b[38;5;28mself\u001b[39m\u001b[38;5;241m.\u001b[39margs\u001b[38;5;241m.\u001b[39mdebug:\n\u001b[1;32m   2038\u001b[0m     \u001b[38;5;28;01mif\u001b[39;00m is_torch_tpu_available():\n\u001b[1;32m   2039\u001b[0m         \u001b[38;5;66;03m# tpu-comment: Logging debug metrics for PyTorch/XLA (compile, execute times, ops, etc.)\u001b[39;00m\n",
      "File \u001b[0;32m/gpfs/milgram/project/rtaylor/vs428/conda_envs/dischargeme/lib/python3.10/site-packages/transformers/trainer.py:2321\u001b[0m, in \u001b[0;36mTrainer._maybe_log_save_evaluate\u001b[0;34m(self, tr_loss, model, trial, epoch, ignore_keys_for_eval)\u001b[0m\n\u001b[1;32m   2319\u001b[0m         metrics\u001b[38;5;241m.\u001b[39mupdate(dataset_metrics)\n\u001b[1;32m   2320\u001b[0m \u001b[38;5;28;01melse\u001b[39;00m:\n\u001b[0;32m-> 2321\u001b[0m     metrics \u001b[38;5;241m=\u001b[39m \u001b[38;5;28;43mself\u001b[39;49m\u001b[38;5;241;43m.\u001b[39;49m\u001b[43mevaluate\u001b[49m\u001b[43m(\u001b[49m\u001b[43mignore_keys\u001b[49m\u001b[38;5;241;43m=\u001b[39;49m\u001b[43mignore_keys_for_eval\u001b[49m\u001b[43m)\u001b[49m\n\u001b[1;32m   2322\u001b[0m \u001b[38;5;28mself\u001b[39m\u001b[38;5;241m.\u001b[39m_report_to_hp_search(trial, \u001b[38;5;28mself\u001b[39m\u001b[38;5;241m.\u001b[39mstate\u001b[38;5;241m.\u001b[39mglobal_step, metrics)\n\u001b[1;32m   2324\u001b[0m \u001b[38;5;66;03m# Run delayed LR scheduler now that metrics are populated\u001b[39;00m\n",
      "File \u001b[0;32m/gpfs/milgram/project/rtaylor/vs428/conda_envs/dischargeme/lib/python3.10/site-packages/transformers/trainer_seq2seq.py:159\u001b[0m, in \u001b[0;36mSeq2SeqTrainer.evaluate\u001b[0;34m(self, eval_dataset, ignore_keys, metric_key_prefix, **gen_kwargs)\u001b[0m\n\u001b[1;32m    154\u001b[0m gen_kwargs[\u001b[38;5;124m\"\u001b[39m\u001b[38;5;124mnum_beams\u001b[39m\u001b[38;5;124m\"\u001b[39m] \u001b[38;5;241m=\u001b[39m (\n\u001b[1;32m    155\u001b[0m     gen_kwargs[\u001b[38;5;124m\"\u001b[39m\u001b[38;5;124mnum_beams\u001b[39m\u001b[38;5;124m\"\u001b[39m] \u001b[38;5;28;01mif\u001b[39;00m gen_kwargs\u001b[38;5;241m.\u001b[39mget(\u001b[38;5;124m\"\u001b[39m\u001b[38;5;124mnum_beams\u001b[39m\u001b[38;5;124m\"\u001b[39m) \u001b[38;5;129;01mis\u001b[39;00m \u001b[38;5;129;01mnot\u001b[39;00m \u001b[38;5;28;01mNone\u001b[39;00m \u001b[38;5;28;01melse\u001b[39;00m \u001b[38;5;28mself\u001b[39m\u001b[38;5;241m.\u001b[39margs\u001b[38;5;241m.\u001b[39mgeneration_num_beams\n\u001b[1;32m    156\u001b[0m )\n\u001b[1;32m    157\u001b[0m \u001b[38;5;28mself\u001b[39m\u001b[38;5;241m.\u001b[39m_gen_kwargs \u001b[38;5;241m=\u001b[39m gen_kwargs\n\u001b[0;32m--> 159\u001b[0m \u001b[38;5;28;01mreturn\u001b[39;00m \u001b[38;5;28;43msuper\u001b[39;49m\u001b[43m(\u001b[49m\u001b[43m)\u001b[49m\u001b[38;5;241;43m.\u001b[39;49m\u001b[43mevaluate\u001b[49m\u001b[43m(\u001b[49m\u001b[43meval_dataset\u001b[49m\u001b[43m,\u001b[49m\u001b[43m \u001b[49m\u001b[43mignore_keys\u001b[49m\u001b[38;5;241;43m=\u001b[39;49m\u001b[43mignore_keys\u001b[49m\u001b[43m,\u001b[49m\u001b[43m \u001b[49m\u001b[43mmetric_key_prefix\u001b[49m\u001b[38;5;241;43m=\u001b[39;49m\u001b[43mmetric_key_prefix\u001b[49m\u001b[43m)\u001b[49m\n",
      "File \u001b[0;32m/gpfs/milgram/project/rtaylor/vs428/conda_envs/dischargeme/lib/python3.10/site-packages/transformers/trainer.py:3053\u001b[0m, in \u001b[0;36mTrainer.evaluate\u001b[0;34m(self, eval_dataset, ignore_keys, metric_key_prefix)\u001b[0m\n\u001b[1;32m   3050\u001b[0m start_time \u001b[38;5;241m=\u001b[39m time\u001b[38;5;241m.\u001b[39mtime()\n\u001b[1;32m   3052\u001b[0m eval_loop \u001b[38;5;241m=\u001b[39m \u001b[38;5;28mself\u001b[39m\u001b[38;5;241m.\u001b[39mprediction_loop \u001b[38;5;28;01mif\u001b[39;00m \u001b[38;5;28mself\u001b[39m\u001b[38;5;241m.\u001b[39margs\u001b[38;5;241m.\u001b[39muse_legacy_prediction_loop \u001b[38;5;28;01melse\u001b[39;00m \u001b[38;5;28mself\u001b[39m\u001b[38;5;241m.\u001b[39mevaluation_loop\n\u001b[0;32m-> 3053\u001b[0m output \u001b[38;5;241m=\u001b[39m \u001b[43meval_loop\u001b[49m\u001b[43m(\u001b[49m\n\u001b[1;32m   3054\u001b[0m \u001b[43m    \u001b[49m\u001b[43meval_dataloader\u001b[49m\u001b[43m,\u001b[49m\n\u001b[1;32m   3055\u001b[0m \u001b[43m    \u001b[49m\u001b[43mdescription\u001b[49m\u001b[38;5;241;43m=\u001b[39;49m\u001b[38;5;124;43m\"\u001b[39;49m\u001b[38;5;124;43mEvaluation\u001b[39;49m\u001b[38;5;124;43m\"\u001b[39;49m\u001b[43m,\u001b[49m\n\u001b[1;32m   3056\u001b[0m \u001b[43m    \u001b[49m\u001b[38;5;66;43;03m# No point gathering the predictions if there are no metrics, otherwise we defer to\u001b[39;49;00m\n\u001b[1;32m   3057\u001b[0m \u001b[43m    \u001b[49m\u001b[38;5;66;43;03m# self.args.prediction_loss_only\u001b[39;49;00m\n\u001b[1;32m   3058\u001b[0m \u001b[43m    \u001b[49m\u001b[43mprediction_loss_only\u001b[49m\u001b[38;5;241;43m=\u001b[39;49m\u001b[38;5;28;43;01mTrue\u001b[39;49;00m\u001b[43m \u001b[49m\u001b[38;5;28;43;01mif\u001b[39;49;00m\u001b[43m \u001b[49m\u001b[38;5;28;43mself\u001b[39;49m\u001b[38;5;241;43m.\u001b[39;49m\u001b[43mcompute_metrics\u001b[49m\u001b[43m \u001b[49m\u001b[38;5;129;43;01mis\u001b[39;49;00m\u001b[43m \u001b[49m\u001b[38;5;28;43;01mNone\u001b[39;49;00m\u001b[43m \u001b[49m\u001b[38;5;28;43;01melse\u001b[39;49;00m\u001b[43m \u001b[49m\u001b[38;5;28;43;01mNone\u001b[39;49;00m\u001b[43m,\u001b[49m\n\u001b[1;32m   3059\u001b[0m \u001b[43m    \u001b[49m\u001b[43mignore_keys\u001b[49m\u001b[38;5;241;43m=\u001b[39;49m\u001b[43mignore_keys\u001b[49m\u001b[43m,\u001b[49m\n\u001b[1;32m   3060\u001b[0m \u001b[43m    \u001b[49m\u001b[43mmetric_key_prefix\u001b[49m\u001b[38;5;241;43m=\u001b[39;49m\u001b[43mmetric_key_prefix\u001b[49m\u001b[43m,\u001b[49m\n\u001b[1;32m   3061\u001b[0m \u001b[43m\u001b[49m\u001b[43m)\u001b[49m\n\u001b[1;32m   3063\u001b[0m total_batch_size \u001b[38;5;241m=\u001b[39m \u001b[38;5;28mself\u001b[39m\u001b[38;5;241m.\u001b[39margs\u001b[38;5;241m.\u001b[39meval_batch_size \u001b[38;5;241m*\u001b[39m \u001b[38;5;28mself\u001b[39m\u001b[38;5;241m.\u001b[39margs\u001b[38;5;241m.\u001b[39mworld_size\n\u001b[1;32m   3064\u001b[0m \u001b[38;5;28;01mif\u001b[39;00m \u001b[38;5;124mf\u001b[39m\u001b[38;5;124m\"\u001b[39m\u001b[38;5;132;01m{\u001b[39;00mmetric_key_prefix\u001b[38;5;132;01m}\u001b[39;00m\u001b[38;5;124m_jit_compilation_time\u001b[39m\u001b[38;5;124m\"\u001b[39m \u001b[38;5;129;01min\u001b[39;00m output\u001b[38;5;241m.\u001b[39mmetrics:\n",
      "File \u001b[0;32m/gpfs/milgram/project/rtaylor/vs428/conda_envs/dischargeme/lib/python3.10/site-packages/transformers/trainer.py:3353\u001b[0m, in \u001b[0;36mTrainer.evaluation_loop\u001b[0;34m(self, dataloader, description, prediction_loss_only, ignore_keys, metric_key_prefix)\u001b[0m\n\u001b[1;32m   3349\u001b[0m         metrics \u001b[38;5;241m=\u001b[39m \u001b[38;5;28mself\u001b[39m\u001b[38;5;241m.\u001b[39mcompute_metrics(\n\u001b[1;32m   3350\u001b[0m             EvalPrediction(predictions\u001b[38;5;241m=\u001b[39mall_preds, label_ids\u001b[38;5;241m=\u001b[39mall_labels, inputs\u001b[38;5;241m=\u001b[39mall_inputs)\n\u001b[1;32m   3351\u001b[0m         )\n\u001b[1;32m   3352\u001b[0m     \u001b[38;5;28;01melse\u001b[39;00m:\n\u001b[0;32m-> 3353\u001b[0m         metrics \u001b[38;5;241m=\u001b[39m \u001b[38;5;28;43mself\u001b[39;49m\u001b[38;5;241;43m.\u001b[39;49m\u001b[43mcompute_metrics\u001b[49m\u001b[43m(\u001b[49m\u001b[43mEvalPrediction\u001b[49m\u001b[43m(\u001b[49m\u001b[43mpredictions\u001b[49m\u001b[38;5;241;43m=\u001b[39;49m\u001b[43mall_preds\u001b[49m\u001b[43m,\u001b[49m\u001b[43m \u001b[49m\u001b[43mlabel_ids\u001b[49m\u001b[38;5;241;43m=\u001b[39;49m\u001b[43mall_labels\u001b[49m\u001b[43m)\u001b[49m\u001b[43m)\u001b[49m\n\u001b[1;32m   3354\u001b[0m \u001b[38;5;28;01melse\u001b[39;00m:\n\u001b[1;32m   3355\u001b[0m     metrics \u001b[38;5;241m=\u001b[39m {}\n",
      "Cell \u001b[0;32mIn[40], line 25\u001b[0m, in \u001b[0;36mcompute_metrics\u001b[0;34m(eval_pred)\u001b[0m\n\u001b[1;32m     23\u001b[0m result[\u001b[38;5;124m\"\u001b[39m\u001b[38;5;124mgen_len\u001b[39m\u001b[38;5;124m\"\u001b[39m] \u001b[38;5;241m=\u001b[39m np\u001b[38;5;241m.\u001b[39mmean(prediction_lens)\n\u001b[1;32m     24\u001b[0m \u001b[38;5;28mprint\u001b[39m(result)\n\u001b[0;32m---> 25\u001b[0m \u001b[38;5;28;01mreturn\u001b[39;00m {k: \u001b[38;5;28mround\u001b[39m(v, \u001b[38;5;241m4\u001b[39m) \u001b[38;5;28;01mfor\u001b[39;00m k, v \u001b[38;5;129;01min\u001b[39;00m result\u001b[38;5;241m.\u001b[39mitems()}\n",
      "Cell \u001b[0;32mIn[40], line 25\u001b[0m, in \u001b[0;36m<dictcomp>\u001b[0;34m(.0)\u001b[0m\n\u001b[1;32m     23\u001b[0m result[\u001b[38;5;124m\"\u001b[39m\u001b[38;5;124mgen_len\u001b[39m\u001b[38;5;124m\"\u001b[39m] \u001b[38;5;241m=\u001b[39m np\u001b[38;5;241m.\u001b[39mmean(prediction_lens)\n\u001b[1;32m     24\u001b[0m \u001b[38;5;28mprint\u001b[39m(result)\n\u001b[0;32m---> 25\u001b[0m \u001b[38;5;28;01mreturn\u001b[39;00m {k: \u001b[38;5;28;43mround\u001b[39;49m\u001b[43m(\u001b[49m\u001b[43mv\u001b[49m\u001b[43m,\u001b[49m\u001b[43m \u001b[49m\u001b[38;5;241;43m4\u001b[39;49m\u001b[43m)\u001b[49m \u001b[38;5;28;01mfor\u001b[39;00m k, v \u001b[38;5;129;01min\u001b[39;00m result\u001b[38;5;241m.\u001b[39mitems()}\n",
      "\u001b[0;31mTypeError\u001b[0m: type tuple doesn't define __round__ method"
     ]
    }
   ],
   "source": [
    "trainer.train()"
   ]
  },
  {
   "cell_type": "markdown",
   "metadata": {
    "id": "0oJTIFbzj8jH"
   },
   "source": [
    "calculating ROUGE"
   ]
  },
  {
   "cell_type": "code",
   "execution_count": 51,
   "metadata": {},
   "outputs": [
    {
     "data": {
      "text/plain": [
       "{'input_ids': [0, 40018, 35, 653, 16, 3330, 17487, 5377, 35, 3330, 16, 5, 1948, 7, 301, 6, 5, 9468, 8, 960, 2], 'attention_mask': [1, 1, 1, 1, 1, 1, 1, 1, 1, 1, 1, 1, 1, 1, 1, 1, 1, 1, 1, 1, 1]}"
      ]
     },
     "execution_count": 51,
     "metadata": {},
     "output_type": "execute_result"
    }
   ],
   "source": [
    "tokenizer(\"question: What is 42 ? context: 42 is the answer to life, the universe and everything\")"
   ]
  },
  {
   "cell_type": "code",
   "execution_count": 53,
   "metadata": {},
   "outputs": [
    {
     "ename": "RuntimeError",
     "evalue": "Inferring the task automatically requires to check the hub with a model_id defined as a `str`.BartForConditionalGeneration(\n  (model): BartModel(\n    (shared): Embedding(50264, 1024, padding_idx=1)\n    (encoder): BartEncoder(\n      (embed_tokens): Embedding(50264, 1024, padding_idx=1)\n      (embed_positions): BartLearnedPositionalEmbedding(1026, 1024)\n      (layers): ModuleList(\n        (0-11): 12 x BartEncoderLayer(\n          (self_attn): BartAttention(\n            (k_proj): Linear(in_features=1024, out_features=1024, bias=True)\n            (v_proj): Linear(in_features=1024, out_features=1024, bias=True)\n            (q_proj): Linear(in_features=1024, out_features=1024, bias=True)\n            (out_proj): Linear(in_features=1024, out_features=1024, bias=True)\n          )\n          (self_attn_layer_norm): LayerNorm((1024,), eps=1e-05, elementwise_affine=True)\n          (activation_fn): GELUActivation()\n          (fc1): Linear(in_features=1024, out_features=4096, bias=True)\n          (fc2): Linear(in_features=4096, out_features=1024, bias=True)\n          (final_layer_norm): LayerNorm((1024,), eps=1e-05, elementwise_affine=True)\n        )\n      )\n      (layernorm_embedding): LayerNorm((1024,), eps=1e-05, elementwise_affine=True)\n    )\n    (decoder): BartDecoder(\n      (embed_tokens): Embedding(50264, 1024, padding_idx=1)\n      (embed_positions): BartLearnedPositionalEmbedding(1026, 1024)\n      (layers): ModuleList(\n        (0-5): 6 x BartDecoderLayer(\n          (self_attn): BartAttention(\n            (k_proj): Linear(in_features=1024, out_features=1024, bias=True)\n            (v_proj): Linear(in_features=1024, out_features=1024, bias=True)\n            (q_proj): Linear(in_features=1024, out_features=1024, bias=True)\n            (out_proj): Linear(in_features=1024, out_features=1024, bias=True)\n          )\n          (activation_fn): GELUActivation()\n          (self_attn_layer_norm): LayerNorm((1024,), eps=1e-05, elementwise_affine=True)\n          (encoder_attn): BartAttention(\n            (k_proj): Linear(in_features=1024, out_features=1024, bias=True)\n            (v_proj): Linear(in_features=1024, out_features=1024, bias=True)\n            (q_proj): Linear(in_features=1024, out_features=1024, bias=True)\n            (out_proj): Linear(in_features=1024, out_features=1024, bias=True)\n          )\n          (encoder_attn_layer_norm): LayerNorm((1024,), eps=1e-05, elementwise_affine=True)\n          (fc1): Linear(in_features=1024, out_features=4096, bias=True)\n          (fc2): Linear(in_features=4096, out_features=1024, bias=True)\n          (final_layer_norm): LayerNorm((1024,), eps=1e-05, elementwise_affine=True)\n        )\n      )\n      (layernorm_embedding): LayerNorm((1024,), eps=1e-05, elementwise_affine=True)\n    )\n  )\n  (lm_head): Linear(in_features=1024, out_features=50264, bias=False)\n) is not a valid model_id.",
     "output_type": "error",
     "traceback": [
      "\u001b[0;31m---------------------------------------------------------------------------\u001b[0m",
      "\u001b[0;31mRuntimeError\u001b[0m                              Traceback (most recent call last)",
      "Cell \u001b[0;32mIn[53], line 2\u001b[0m\n\u001b[1;32m      1\u001b[0m \u001b[38;5;28;01mfrom\u001b[39;00m \u001b[38;5;21;01mtransformers\u001b[39;00m \u001b[38;5;28;01mimport\u001b[39;00m pipeline\n\u001b[0;32m----> 2\u001b[0m text2text_generator \u001b[38;5;241m=\u001b[39m \u001b[43mpipeline\u001b[49m\u001b[43m(\u001b[49m\u001b[43mmodel\u001b[49m\u001b[38;5;241;43m=\u001b[39;49m\u001b[43mmodel\u001b[49m\u001b[43m,\u001b[49m\u001b[43m \u001b[49m\u001b[43mtokenizer\u001b[49m\u001b[38;5;241;43m=\u001b[39;49m\u001b[43mtokenizer\u001b[49m\u001b[43m)\u001b[49m\n\u001b[1;32m      3\u001b[0m text2text_generator()\n",
      "File \u001b[0;32m/gpfs/milgram/project/rtaylor/vs428/conda_envs/dischargeme/lib/python3.10/site-packages/transformers/pipelines/__init__.py:722\u001b[0m, in \u001b[0;36mpipeline\u001b[0;34m(task, model, config, tokenizer, feature_extractor, image_processor, framework, revision, use_fast, use_auth_token, device, device_map, torch_dtype, trust_remote_code, model_kwargs, pipeline_class, **kwargs)\u001b[0m\n\u001b[1;32m    720\u001b[0m \u001b[38;5;28;01mif\u001b[39;00m task \u001b[38;5;129;01mis\u001b[39;00m \u001b[38;5;28;01mNone\u001b[39;00m \u001b[38;5;129;01mand\u001b[39;00m model \u001b[38;5;129;01mis\u001b[39;00m \u001b[38;5;129;01mnot\u001b[39;00m \u001b[38;5;28;01mNone\u001b[39;00m:\n\u001b[1;32m    721\u001b[0m     \u001b[38;5;28;01mif\u001b[39;00m \u001b[38;5;129;01mnot\u001b[39;00m \u001b[38;5;28misinstance\u001b[39m(model, \u001b[38;5;28mstr\u001b[39m):\n\u001b[0;32m--> 722\u001b[0m         \u001b[38;5;28;01mraise\u001b[39;00m \u001b[38;5;167;01mRuntimeError\u001b[39;00m(\n\u001b[1;32m    723\u001b[0m             \u001b[38;5;124m\"\u001b[39m\u001b[38;5;124mInferring the task automatically requires to check the hub with a model_id defined as a `str`.\u001b[39m\u001b[38;5;124m\"\u001b[39m\n\u001b[1;32m    724\u001b[0m             \u001b[38;5;124mf\u001b[39m\u001b[38;5;124m\"\u001b[39m\u001b[38;5;132;01m{\u001b[39;00mmodel\u001b[38;5;132;01m}\u001b[39;00m\u001b[38;5;124m is not a valid model_id.\u001b[39m\u001b[38;5;124m\"\u001b[39m\n\u001b[1;32m    725\u001b[0m         )\n\u001b[1;32m    726\u001b[0m     task \u001b[38;5;241m=\u001b[39m get_task(model, use_auth_token)\n\u001b[1;32m    728\u001b[0m \u001b[38;5;66;03m# Retrieve the task\u001b[39;00m\n",
      "\u001b[0;31mRuntimeError\u001b[0m: Inferring the task automatically requires to check the hub with a model_id defined as a `str`.BartForConditionalGeneration(\n  (model): BartModel(\n    (shared): Embedding(50264, 1024, padding_idx=1)\n    (encoder): BartEncoder(\n      (embed_tokens): Embedding(50264, 1024, padding_idx=1)\n      (embed_positions): BartLearnedPositionalEmbedding(1026, 1024)\n      (layers): ModuleList(\n        (0-11): 12 x BartEncoderLayer(\n          (self_attn): BartAttention(\n            (k_proj): Linear(in_features=1024, out_features=1024, bias=True)\n            (v_proj): Linear(in_features=1024, out_features=1024, bias=True)\n            (q_proj): Linear(in_features=1024, out_features=1024, bias=True)\n            (out_proj): Linear(in_features=1024, out_features=1024, bias=True)\n          )\n          (self_attn_layer_norm): LayerNorm((1024,), eps=1e-05, elementwise_affine=True)\n          (activation_fn): GELUActivation()\n          (fc1): Linear(in_features=1024, out_features=4096, bias=True)\n          (fc2): Linear(in_features=4096, out_features=1024, bias=True)\n          (final_layer_norm): LayerNorm((1024,), eps=1e-05, elementwise_affine=True)\n        )\n      )\n      (layernorm_embedding): LayerNorm((1024,), eps=1e-05, elementwise_affine=True)\n    )\n    (decoder): BartDecoder(\n      (embed_tokens): Embedding(50264, 1024, padding_idx=1)\n      (embed_positions): BartLearnedPositionalEmbedding(1026, 1024)\n      (layers): ModuleList(\n        (0-5): 6 x BartDecoderLayer(\n          (self_attn): BartAttention(\n            (k_proj): Linear(in_features=1024, out_features=1024, bias=True)\n            (v_proj): Linear(in_features=1024, out_features=1024, bias=True)\n            (q_proj): Linear(in_features=1024, out_features=1024, bias=True)\n            (out_proj): Linear(in_features=1024, out_features=1024, bias=True)\n          )\n          (activation_fn): GELUActivation()\n          (self_attn_layer_norm): LayerNorm((1024,), eps=1e-05, elementwise_affine=True)\n          (encoder_attn): BartAttention(\n            (k_proj): Linear(in_features=1024, out_features=1024, bias=True)\n            (v_proj): Linear(in_features=1024, out_features=1024, bias=True)\n            (q_proj): Linear(in_features=1024, out_features=1024, bias=True)\n            (out_proj): Linear(in_features=1024, out_features=1024, bias=True)\n          )\n          (encoder_attn_layer_norm): LayerNorm((1024,), eps=1e-05, elementwise_affine=True)\n          (fc1): Linear(in_features=1024, out_features=4096, bias=True)\n          (fc2): Linear(in_features=4096, out_features=1024, bias=True)\n          (final_layer_norm): LayerNorm((1024,), eps=1e-05, elementwise_affine=True)\n        )\n      )\n      (layernorm_embedding): LayerNorm((1024,), eps=1e-05, elementwise_affine=True)\n    )\n  )\n  (lm_head): Linear(in_features=1024, out_features=50264, bias=False)\n) is not a valid model_id."
     ]
    }
   ],
   "source": [
    "from transformers import pipeline\n",
    "text2text_generator = pipeline(model=model, tokenizer=tokenizer)\n",
    "text2text_generator()"
   ]
  },
  {
   "cell_type": "code",
   "execution_count": 46,
   "metadata": {
    "scrolled": true
   },
   "outputs": [
    {
     "name": "stdout",
     "output_type": "stream",
     "text": [
      "{'rouge1': (Score(precision=0.2018864112967795, recall=0.13835394350674052, fmeasure=0.15438251913254905), Score(precision=0.23139345039353787, recall=0.15556272154181477, fmeasure=0.17283682014862428), Score(precision=0.2632967514717338, recall=0.17647090636046134, fmeasure=0.19562683011643586), Score(precision=0.2018864112967795, recall=0.13835394350674052, fmeasure=0.15438251913254905), Score(precision=0.23139345039353787, recall=0.15556272154181477, fmeasure=0.17283682014862428), Score(precision=0.2632967514717338, recall=0.17647090636046134, fmeasure=0.19562683011643586), Score(precision=0.2018864112967795, recall=0.13835394350674052, fmeasure=0.15438251913254905), Score(precision=0.23139345039353787, recall=0.15556272154181477, fmeasure=0.17283682014862428), Score(precision=0.2632967514717338, recall=0.17647090636046134, fmeasure=0.19562683011643586), Score(precision=0.2018864112967795, recall=0.13835394350674052, fmeasure=0.15438251913254905), Score(precision=0.23139345039353787, recall=0.15556272154181477, fmeasure=0.17283682014862428), Score(precision=0.2632967514717338, recall=0.17647090636046134, fmeasure=0.19562683011643586), Score(precision=0.2018864112967795, recall=0.13835394350674052, fmeasure=0.15438251913254905), Score(precision=0.23139345039353787, recall=0.15556272154181477, fmeasure=0.17283682014862428), Score(precision=0.2632967514717338, recall=0.17647090636046134, fmeasure=0.19562683011643586), Score(precision=0.2018864112967795, recall=0.13835394350674052, fmeasure=0.15438251913254905), Score(precision=0.23139345039353787, recall=0.15556272154181477, fmeasure=0.17283682014862428), Score(precision=0.2632967514717338, recall=0.17647090636046134, fmeasure=0.19562683011643586), Score(precision=0.2018864112967795, recall=0.13835394350674052, fmeasure=0.15438251913254905), Score(precision=0.23139345039353787, recall=0.15556272154181477, fmeasure=0.17283682014862428), Score(precision=0.2632967514717338, recall=0.17647090636046134, fmeasure=0.19562683011643586), Score(precision=0.2018864112967795, recall=0.13835394350674052, fmeasure=0.15438251913254905), Score(precision=0.23139345039353787, recall=0.15556272154181477, fmeasure=0.17283682014862428), Score(precision=0.2632967514717338, recall=0.17647090636046134, fmeasure=0.19562683011643586), Score(precision=0.2018864112967795, recall=0.13835394350674052, fmeasure=0.15438251913254905), Score(precision=0.23139345039353787, recall=0.15556272154181477, fmeasure=0.17283682014862428), Score(precision=0.2632967514717338, recall=0.17647090636046134, fmeasure=0.19562683011643586), Score(precision=0.2018864112967795, recall=0.13835394350674052, fmeasure=0.15438251913254905), Score(precision=0.23139345039353787, recall=0.15556272154181477, fmeasure=0.17283682014862428), Score(precision=0.2632967514717338, recall=0.17647090636046134, fmeasure=0.19562683011643586), Score(precision=0.2018864112967795, recall=0.13835394350674052, fmeasure=0.15438251913254905), Score(precision=0.23139345039353787, recall=0.15556272154181477, fmeasure=0.17283682014862428), Score(precision=0.2632967514717338, recall=0.17647090636046134, fmeasure=0.19562683011643586), Score(precision=0.2018864112967795, recall=0.13835394350674052, fmeasure=0.15438251913254905), Score(precision=0.23139345039353787, recall=0.15556272154181477, fmeasure=0.17283682014862428), Score(precision=0.2632967514717338, recall=0.17647090636046134, fmeasure=0.19562683011643586), Score(precision=0.2018864112967795, recall=0.13835394350674052, fmeasure=0.15438251913254905), Score(precision=0.23139345039353787, recall=0.15556272154181477, fmeasure=0.17283682014862428), Score(precision=0.2632967514717338, recall=0.17647090636046134, fmeasure=0.19562683011643586), Score(precision=0.2018864112967795, recall=0.13835394350674052, fmeasure=0.15438251913254905), Score(precision=0.23139345039353787, recall=0.15556272154181477, fmeasure=0.17283682014862428), Score(precision=0.2632967514717338, recall=0.17647090636046134, fmeasure=0.19562683011643586), Score(precision=0.2018864112967795, recall=0.13835394350674052, fmeasure=0.15438251913254905), Score(precision=0.23139345039353787, recall=0.15556272154181477, fmeasure=0.17283682014862428), Score(precision=0.2632967514717338, recall=0.17647090636046134, fmeasure=0.19562683011643586), Score(precision=0.2018864112967795, recall=0.13835394350674052, fmeasure=0.15438251913254905), Score(precision=0.23139345039353787, recall=0.15556272154181477, fmeasure=0.17283682014862428), Score(precision=0.2632967514717338, recall=0.17647090636046134, fmeasure=0.19562683011643586), Score(precision=0.2018864112967795, recall=0.13835394350674052, fmeasure=0.15438251913254905), Score(precision=0.23139345039353787, recall=0.15556272154181477, fmeasure=0.17283682014862428), Score(precision=0.2632967514717338, recall=0.17647090636046134, fmeasure=0.19562683011643586), Score(precision=0.2018864112967795, recall=0.13835394350674052, fmeasure=0.15438251913254905), Score(precision=0.23139345039353787, recall=0.15556272154181477, fmeasure=0.17283682014862428), Score(precision=0.2632967514717338, recall=0.17647090636046134, fmeasure=0.19562683011643586), Score(precision=0.2018864112967795, recall=0.13835394350674052, fmeasure=0.15438251913254905), Score(precision=0.23139345039353787, recall=0.15556272154181477, fmeasure=0.17283682014862428), Score(precision=0.2632967514717338, recall=0.17647090636046134, fmeasure=0.19562683011643586), Score(precision=0.2018864112967795, recall=0.13835394350674052, fmeasure=0.15438251913254905), Score(precision=0.23139345039353787, recall=0.15556272154181477, fmeasure=0.17283682014862428), Score(precision=0.2632967514717338, recall=0.17647090636046134, fmeasure=0.19562683011643586), Score(precision=0.2018864112967795, recall=0.13835394350674052, fmeasure=0.15438251913254905), Score(precision=0.23139345039353787, recall=0.15556272154181477, fmeasure=0.17283682014862428), Score(precision=0.2632967514717338, recall=0.17647090636046134, fmeasure=0.19562683011643586), Score(precision=0.2018864112967795, recall=0.13835394350674052, fmeasure=0.15438251913254905), Score(precision=0.23139345039353787, recall=0.15556272154181477, fmeasure=0.17283682014862428), Score(precision=0.2632967514717338, recall=0.17647090636046134, fmeasure=0.19562683011643586), Score(precision=0.2018864112967795, recall=0.13835394350674052, fmeasure=0.15438251913254905), Score(precision=0.23139345039353787, recall=0.15556272154181477, fmeasure=0.17283682014862428), Score(precision=0.2632967514717338, recall=0.17647090636046134, fmeasure=0.19562683011643586), Score(precision=0.2018864112967795, recall=0.13835394350674052, fmeasure=0.15438251913254905), Score(precision=0.23139345039353787, recall=0.15556272154181477, fmeasure=0.17283682014862428), Score(precision=0.2632967514717338, recall=0.17647090636046134, fmeasure=0.19562683011643586), Score(precision=0.2018864112967795, recall=0.13835394350674052, fmeasure=0.15438251913254905), Score(precision=0.23139345039353787, recall=0.15556272154181477, fmeasure=0.17283682014862428), Score(precision=0.2632967514717338, recall=0.17647090636046134, fmeasure=0.19562683011643586), Score(precision=0.2018864112967795, recall=0.13835394350674052, fmeasure=0.15438251913254905), Score(precision=0.23139345039353787, recall=0.15556272154181477, fmeasure=0.17283682014862428), Score(precision=0.2632967514717338, recall=0.17647090636046134, fmeasure=0.19562683011643586), Score(precision=0.2018864112967795, recall=0.13835394350674052, fmeasure=0.15438251913254905), Score(precision=0.23139345039353787, recall=0.15556272154181477, fmeasure=0.17283682014862428), Score(precision=0.2632967514717338, recall=0.17647090636046134, fmeasure=0.19562683011643586), Score(precision=0.2018864112967795, recall=0.13835394350674052, fmeasure=0.15438251913254905), Score(precision=0.23139345039353787, recall=0.15556272154181477, fmeasure=0.17283682014862428), Score(precision=0.2632967514717338, recall=0.17647090636046134, fmeasure=0.19562683011643586), Score(precision=0.2018864112967795, recall=0.13835394350674052, fmeasure=0.15438251913254905), Score(precision=0.23139345039353787, recall=0.15556272154181477, fmeasure=0.17283682014862428), Score(precision=0.2632967514717338, recall=0.17647090636046134, fmeasure=0.19562683011643586), Score(precision=0.2018864112967795, recall=0.13835394350674052, fmeasure=0.15438251913254905), Score(precision=0.23139345039353787, recall=0.15556272154181477, fmeasure=0.17283682014862428), Score(precision=0.2632967514717338, recall=0.17647090636046134, fmeasure=0.19562683011643586), Score(precision=0.2018864112967795, recall=0.13835394350674052, fmeasure=0.15438251913254905), Score(precision=0.23139345039353787, recall=0.15556272154181477, fmeasure=0.17283682014862428), Score(precision=0.2632967514717338, recall=0.17647090636046134, fmeasure=0.19562683011643586), Score(precision=0.2018864112967795, recall=0.13835394350674052, fmeasure=0.15438251913254905), Score(precision=0.23139345039353787, recall=0.15556272154181477, fmeasure=0.17283682014862428), Score(precision=0.2632967514717338, recall=0.17647090636046134, fmeasure=0.19562683011643586), Score(precision=0.2018864112967795, recall=0.13835394350674052, fmeasure=0.15438251913254905), Score(precision=0.23139345039353787, recall=0.15556272154181477, fmeasure=0.17283682014862428), Score(precision=0.2632967514717338, recall=0.17647090636046134, fmeasure=0.19562683011643586), Score(precision=0.2018864112967795, recall=0.13835394350674052, fmeasure=0.15438251913254905), Score(precision=0.23139345039353787, recall=0.15556272154181477, fmeasure=0.17283682014862428), Score(precision=0.2632967514717338, recall=0.17647090636046134, fmeasure=0.19562683011643586), Score(precision=0.2018864112967795, recall=0.13835394350674052, fmeasure=0.15438251913254905), Score(precision=0.23139345039353787, recall=0.15556272154181477, fmeasure=0.17283682014862428), Score(precision=0.2632967514717338, recall=0.17647090636046134, fmeasure=0.19562683011643586), Score(precision=0.2018864112967795, recall=0.13835394350674052, fmeasure=0.15438251913254905), Score(precision=0.23139345039353787, recall=0.15556272154181477, fmeasure=0.17283682014862428), Score(precision=0.2632967514717338, recall=0.17647090636046134, fmeasure=0.19562683011643586), Score(precision=0.2018864112967795, recall=0.13835394350674052, fmeasure=0.15438251913254905), Score(precision=0.23139345039353787, recall=0.15556272154181477, fmeasure=0.17283682014862428), Score(precision=0.2632967514717338, recall=0.17647090636046134, fmeasure=0.19562683011643586), Score(precision=0.2018864112967795, recall=0.13835394350674052, fmeasure=0.15438251913254905), Score(precision=0.23139345039353787, recall=0.15556272154181477, fmeasure=0.17283682014862428), Score(precision=0.2632967514717338, recall=0.17647090636046134, fmeasure=0.19562683011643586), Score(precision=0.2018864112967795, recall=0.13835394350674052, fmeasure=0.15438251913254905), Score(precision=0.23139345039353787, recall=0.15556272154181477, fmeasure=0.17283682014862428), Score(precision=0.2632967514717338, recall=0.17647090636046134, fmeasure=0.19562683011643586), Score(precision=0.2018864112967795, recall=0.13835394350674052, fmeasure=0.15438251913254905), Score(precision=0.23139345039353787, recall=0.15556272154181477, fmeasure=0.17283682014862428), Score(precision=0.2632967514717338, recall=0.17647090636046134, fmeasure=0.19562683011643586), Score(precision=0.2018864112967795, recall=0.13835394350674052, fmeasure=0.15438251913254905), Score(precision=0.23139345039353787, recall=0.15556272154181477, fmeasure=0.17283682014862428), Score(precision=0.2632967514717338, recall=0.17647090636046134, fmeasure=0.19562683011643586), Score(precision=0.2018864112967795, recall=0.13835394350674052, fmeasure=0.15438251913254905), Score(precision=0.23139345039353787, recall=0.15556272154181477, fmeasure=0.17283682014862428), Score(precision=0.2632967514717338, recall=0.17647090636046134, fmeasure=0.19562683011643586), Score(precision=0.2018864112967795, recall=0.13835394350674052, fmeasure=0.15438251913254905), Score(precision=0.23139345039353787, recall=0.15556272154181477, fmeasure=0.17283682014862428), Score(precision=0.2632967514717338, recall=0.17647090636046134, fmeasure=0.19562683011643586), Score(precision=0.2018864112967795, recall=0.13835394350674052, fmeasure=0.15438251913254905), Score(precision=0.23139345039353787, recall=0.15556272154181477, fmeasure=0.17283682014862428), Score(precision=0.2632967514717338, recall=0.17647090636046134, fmeasure=0.19562683011643586), Score(precision=0.2018864112967795, recall=0.13835394350674052, fmeasure=0.15438251913254905), Score(precision=0.23139345039353787, recall=0.15556272154181477, fmeasure=0.17283682014862428), Score(precision=0.2632967514717338, recall=0.17647090636046134, fmeasure=0.19562683011643586), Score(precision=0.2018864112967795, recall=0.13835394350674052, fmeasure=0.15438251913254905), Score(precision=0.23139345039353787, recall=0.15556272154181477, fmeasure=0.17283682014862428), Score(precision=0.2632967514717338, recall=0.17647090636046134, fmeasure=0.19562683011643586), Score(precision=0.2018864112967795, recall=0.13835394350674052, fmeasure=0.15438251913254905), Score(precision=0.23139345039353787, recall=0.15556272154181477, fmeasure=0.17283682014862428), Score(precision=0.2632967514717338, recall=0.17647090636046134, fmeasure=0.19562683011643586), Score(precision=0.2018864112967795, recall=0.13835394350674052, fmeasure=0.15438251913254905), Score(precision=0.23139345039353787, recall=0.15556272154181477, fmeasure=0.17283682014862428), Score(precision=0.2632967514717338, recall=0.17647090636046134, fmeasure=0.19562683011643586), Score(precision=0.2018864112967795, recall=0.13835394350674052, fmeasure=0.15438251913254905), Score(precision=0.23139345039353787, recall=0.15556272154181477, fmeasure=0.17283682014862428), Score(precision=0.2632967514717338, recall=0.17647090636046134, fmeasure=0.19562683011643586), Score(precision=0.2018864112967795, recall=0.13835394350674052, fmeasure=0.15438251913254905), Score(precision=0.23139345039353787, recall=0.15556272154181477, fmeasure=0.17283682014862428), Score(precision=0.2632967514717338, recall=0.17647090636046134, fmeasure=0.19562683011643586), Score(precision=0.2018864112967795, recall=0.13835394350674052, fmeasure=0.15438251913254905), Score(precision=0.23139345039353787, recall=0.15556272154181477, fmeasure=0.17283682014862428), Score(precision=0.2632967514717338, recall=0.17647090636046134, fmeasure=0.19562683011643586), Score(precision=0.2018864112967795, recall=0.13835394350674052, fmeasure=0.15438251913254905), Score(precision=0.23139345039353787, recall=0.15556272154181477, fmeasure=0.17283682014862428), Score(precision=0.2632967514717338, recall=0.17647090636046134, fmeasure=0.19562683011643586), Score(precision=0.2018864112967795, recall=0.13835394350674052, fmeasure=0.15438251913254905), Score(precision=0.23139345039353787, recall=0.15556272154181477, fmeasure=0.17283682014862428), Score(precision=0.2632967514717338, recall=0.17647090636046134, fmeasure=0.19562683011643586), Score(precision=0.2018864112967795, recall=0.13835394350674052, fmeasure=0.15438251913254905), Score(precision=0.23139345039353787, recall=0.15556272154181477, fmeasure=0.17283682014862428), Score(precision=0.2632967514717338, recall=0.17647090636046134, fmeasure=0.19562683011643586), Score(precision=0.2018864112967795, recall=0.13835394350674052, fmeasure=0.15438251913254905), Score(precision=0.23139345039353787, recall=0.15556272154181477, fmeasure=0.17283682014862428), Score(precision=0.2632967514717338, recall=0.17647090636046134, fmeasure=0.19562683011643586), Score(precision=0.2018864112967795, recall=0.13835394350674052, fmeasure=0.15438251913254905), Score(precision=0.23139345039353787, recall=0.15556272154181477, fmeasure=0.17283682014862428), Score(precision=0.2632967514717338, recall=0.17647090636046134, fmeasure=0.19562683011643586), Score(precision=0.2018864112967795, recall=0.13835394350674052, fmeasure=0.15438251913254905), Score(precision=0.23139345039353787, recall=0.15556272154181477, fmeasure=0.17283682014862428), Score(precision=0.2632967514717338, recall=0.17647090636046134, fmeasure=0.19562683011643586), Score(precision=0.2018864112967795, recall=0.13835394350674052, fmeasure=0.15438251913254905), Score(precision=0.23139345039353787, recall=0.15556272154181477, fmeasure=0.17283682014862428), Score(precision=0.2632967514717338, recall=0.17647090636046134, fmeasure=0.19562683011643586), Score(precision=0.2018864112967795, recall=0.13835394350674052, fmeasure=0.15438251913254905), Score(precision=0.23139345039353787, recall=0.15556272154181477, fmeasure=0.17283682014862428), Score(precision=0.2632967514717338, recall=0.17647090636046134, fmeasure=0.19562683011643586), Score(precision=0.2018864112967795, recall=0.13835394350674052, fmeasure=0.15438251913254905), Score(precision=0.23139345039353787, recall=0.15556272154181477, fmeasure=0.17283682014862428), Score(precision=0.2632967514717338, recall=0.17647090636046134, fmeasure=0.19562683011643586), Score(precision=0.2018864112967795, recall=0.13835394350674052, fmeasure=0.15438251913254905), Score(precision=0.23139345039353787, recall=0.15556272154181477, fmeasure=0.17283682014862428), Score(precision=0.2632967514717338, recall=0.17647090636046134, fmeasure=0.19562683011643586), Score(precision=0.2018864112967795, recall=0.13835394350674052, fmeasure=0.15438251913254905), Score(precision=0.23139345039353787, recall=0.15556272154181477, fmeasure=0.17283682014862428), Score(precision=0.2632967514717338, recall=0.17647090636046134, fmeasure=0.19562683011643586), Score(precision=0.2018864112967795, recall=0.13835394350674052, fmeasure=0.15438251913254905), Score(precision=0.23139345039353787, recall=0.15556272154181477, fmeasure=0.17283682014862428), Score(precision=0.2632967514717338, recall=0.17647090636046134, fmeasure=0.19562683011643586), Score(precision=0.2018864112967795, recall=0.13835394350674052, fmeasure=0.15438251913254905), Score(precision=0.23139345039353787, recall=0.15556272154181477, fmeasure=0.17283682014862428), Score(precision=0.2632967514717338, recall=0.17647090636046134, fmeasure=0.19562683011643586), Score(precision=0.2018864112967795, recall=0.13835394350674052, fmeasure=0.15438251913254905), Score(precision=0.23139345039353787, recall=0.15556272154181477, fmeasure=0.17283682014862428), Score(precision=0.2632967514717338, recall=0.17647090636046134, fmeasure=0.19562683011643586), Score(precision=0.2018864112967795, recall=0.13835394350674052, fmeasure=0.15438251913254905), Score(precision=0.23139345039353787, recall=0.15556272154181477, fmeasure=0.17283682014862428), Score(precision=0.2632967514717338, recall=0.17647090636046134, fmeasure=0.19562683011643586), Score(precision=0.2018864112967795, recall=0.13835394350674052, fmeasure=0.15438251913254905), Score(precision=0.23139345039353787, recall=0.15556272154181477, fmeasure=0.17283682014862428), Score(precision=0.2632967514717338, recall=0.17647090636046134, fmeasure=0.19562683011643586), Score(precision=0.2018864112967795, recall=0.13835394350674052, fmeasure=0.15438251913254905), Score(precision=0.23139345039353787, recall=0.15556272154181477, fmeasure=0.17283682014862428), Score(precision=0.2632967514717338, recall=0.17647090636046134, fmeasure=0.19562683011643586), Score(precision=0.2018864112967795, recall=0.13835394350674052, fmeasure=0.15438251913254905), Score(precision=0.23139345039353787, recall=0.15556272154181477, fmeasure=0.17283682014862428), Score(precision=0.2632967514717338, recall=0.17647090636046134, fmeasure=0.19562683011643586), Score(precision=0.2018864112967795, recall=0.13835394350674052, fmeasure=0.15438251913254905), Score(precision=0.23139345039353787, recall=0.15556272154181477, fmeasure=0.17283682014862428), Score(precision=0.2632967514717338, recall=0.17647090636046134, fmeasure=0.19562683011643586), Score(precision=0.2018864112967795, recall=0.13835394350674052, fmeasure=0.15438251913254905), Score(precision=0.23139345039353787, recall=0.15556272154181477, fmeasure=0.17283682014862428), Score(precision=0.2632967514717338, recall=0.17647090636046134, fmeasure=0.19562683011643586), Score(precision=0.2018864112967795, recall=0.13835394350674052, fmeasure=0.15438251913254905), Score(precision=0.23139345039353787, recall=0.15556272154181477, fmeasure=0.17283682014862428), Score(precision=0.2632967514717338, recall=0.17647090636046134, fmeasure=0.19562683011643586), Score(precision=0.2018864112967795, recall=0.13835394350674052, fmeasure=0.15438251913254905), Score(precision=0.23139345039353787, recall=0.15556272154181477, fmeasure=0.17283682014862428), Score(precision=0.2632967514717338, recall=0.17647090636046134, fmeasure=0.19562683011643586), Score(precision=0.2018864112967795, recall=0.13835394350674052, fmeasure=0.15438251913254905), Score(precision=0.23139345039353787, recall=0.15556272154181477, fmeasure=0.17283682014862428), Score(precision=0.2632967514717338, recall=0.17647090636046134, fmeasure=0.19562683011643586), Score(precision=0.2018864112967795, recall=0.13835394350674052, fmeasure=0.15438251913254905), Score(precision=0.23139345039353787, recall=0.15556272154181477, fmeasure=0.17283682014862428), Score(precision=0.2632967514717338, recall=0.17647090636046134, fmeasure=0.19562683011643586), Score(precision=0.2018864112967795, recall=0.13835394350674052, fmeasure=0.15438251913254905), Score(precision=0.23139345039353787, recall=0.15556272154181477, fmeasure=0.17283682014862428), Score(precision=0.2632967514717338, recall=0.17647090636046134, fmeasure=0.19562683011643586), Score(precision=0.2018864112967795, recall=0.13835394350674052, fmeasure=0.15438251913254905), Score(precision=0.23139345039353787, recall=0.15556272154181477, fmeasure=0.17283682014862428), Score(precision=0.2632967514717338, recall=0.17647090636046134, fmeasure=0.19562683011643586), Score(precision=0.2018864112967795, recall=0.13835394350674052, fmeasure=0.15438251913254905), Score(precision=0.23139345039353787, recall=0.15556272154181477, fmeasure=0.17283682014862428), Score(precision=0.2632967514717338, recall=0.17647090636046134, fmeasure=0.19562683011643586), Score(precision=0.2018864112967795, recall=0.13835394350674052, fmeasure=0.15438251913254905), Score(precision=0.23139345039353787, recall=0.15556272154181477, fmeasure=0.17283682014862428), Score(precision=0.2632967514717338, recall=0.17647090636046134, fmeasure=0.19562683011643586), Score(precision=0.2018864112967795, recall=0.13835394350674052, fmeasure=0.15438251913254905), Score(precision=0.23139345039353787, recall=0.15556272154181477, fmeasure=0.17283682014862428), Score(precision=0.2632967514717338, recall=0.17647090636046134, fmeasure=0.19562683011643586), Score(precision=0.2018864112967795, recall=0.13835394350674052, fmeasure=0.15438251913254905), Score(precision=0.23139345039353787, recall=0.15556272154181477, fmeasure=0.17283682014862428), Score(precision=0.2632967514717338, recall=0.17647090636046134, fmeasure=0.19562683011643586), Score(precision=0.2018864112967795, recall=0.13835394350674052, fmeasure=0.15438251913254905), Score(precision=0.23139345039353787, recall=0.15556272154181477, fmeasure=0.17283682014862428), Score(precision=0.2632967514717338, recall=0.17647090636046134, fmeasure=0.19562683011643586), Score(precision=0.2018864112967795, recall=0.13835394350674052, fmeasure=0.15438251913254905), Score(precision=0.23139345039353787, recall=0.15556272154181477, fmeasure=0.17283682014862428), Score(precision=0.2632967514717338, recall=0.17647090636046134, fmeasure=0.19562683011643586), Score(precision=0.2018864112967795, recall=0.13835394350674052, fmeasure=0.15438251913254905), Score(precision=0.23139345039353787, recall=0.15556272154181477, fmeasure=0.17283682014862428), Score(precision=0.2632967514717338, recall=0.17647090636046134, fmeasure=0.19562683011643586), Score(precision=0.2018864112967795, recall=0.13835394350674052, fmeasure=0.15438251913254905), Score(precision=0.23139345039353787, recall=0.15556272154181477, fmeasure=0.17283682014862428), Score(precision=0.2632967514717338, recall=0.17647090636046134, fmeasure=0.19562683011643586), Score(precision=0.2018864112967795, recall=0.13835394350674052, fmeasure=0.15438251913254905), Score(precision=0.23139345039353787, recall=0.15556272154181477, fmeasure=0.17283682014862428), Score(precision=0.2632967514717338, recall=0.17647090636046134, fmeasure=0.19562683011643586), Score(precision=0.2018864112967795, recall=0.13835394350674052, fmeasure=0.15438251913254905), Score(precision=0.23139345039353787, recall=0.15556272154181477, fmeasure=0.17283682014862428), Score(precision=0.2632967514717338, recall=0.17647090636046134, fmeasure=0.19562683011643586), Score(precision=0.2018864112967795, recall=0.13835394350674052, fmeasure=0.15438251913254905), Score(precision=0.23139345039353787, recall=0.15556272154181477, fmeasure=0.17283682014862428), Score(precision=0.2632967514717338, recall=0.17647090636046134, fmeasure=0.19562683011643586), Score(precision=0.2018864112967795, recall=0.13835394350674052, fmeasure=0.15438251913254905), Score(precision=0.23139345039353787, recall=0.15556272154181477, fmeasure=0.17283682014862428), Score(precision=0.2632967514717338, recall=0.17647090636046134, fmeasure=0.19562683011643586), Score(precision=0.2018864112967795, recall=0.13835394350674052, fmeasure=0.15438251913254905), Score(precision=0.23139345039353787, recall=0.15556272154181477, fmeasure=0.17283682014862428), Score(precision=0.2632967514717338, recall=0.17647090636046134, fmeasure=0.19562683011643586), Score(precision=0.2018864112967795, recall=0.13835394350674052, fmeasure=0.15438251913254905), Score(precision=0.23139345039353787, recall=0.15556272154181477, fmeasure=0.17283682014862428), Score(precision=0.2632967514717338, recall=0.17647090636046134, fmeasure=0.19562683011643586), Score(precision=0.2018864112967795, recall=0.13835394350674052, fmeasure=0.15438251913254905), Score(precision=0.23139345039353787, recall=0.15556272154181477, fmeasure=0.17283682014862428), Score(precision=0.2632967514717338, recall=0.17647090636046134, fmeasure=0.19562683011643586), Score(precision=0.2018864112967795, recall=0.13835394350674052, fmeasure=0.15438251913254905), Score(precision=0.23139345039353787, recall=0.15556272154181477, fmeasure=0.17283682014862428), Score(precision=0.2632967514717338, recall=0.17647090636046134, fmeasure=0.19562683011643586), Score(precision=0.2018864112967795, recall=0.13835394350674052, fmeasure=0.15438251913254905), Score(precision=0.23139345039353787, recall=0.15556272154181477, fmeasure=0.17283682014862428), Score(precision=0.2632967514717338, recall=0.17647090636046134, fmeasure=0.19562683011643586), Score(precision=0.2018864112967795, recall=0.13835394350674052, fmeasure=0.15438251913254905), Score(precision=0.23139345039353787, recall=0.15556272154181477, fmeasure=0.17283682014862428), Score(precision=0.2632967514717338, recall=0.17647090636046134, fmeasure=0.19562683011643586), Score(precision=0.2018864112967795, recall=0.13835394350674052, fmeasure=0.15438251913254905), Score(precision=0.23139345039353787, recall=0.15556272154181477, fmeasure=0.17283682014862428), Score(precision=0.2632967514717338, recall=0.17647090636046134, fmeasure=0.19562683011643586), Score(precision=0.2018864112967795, recall=0.13835394350674052, fmeasure=0.15438251913254905), Score(precision=0.23139345039353787, recall=0.15556272154181477, fmeasure=0.17283682014862428), Score(precision=0.2632967514717338, recall=0.17647090636046134, fmeasure=0.19562683011643586), Score(precision=0.2018864112967795, recall=0.13835394350674052, fmeasure=0.15438251913254905), Score(precision=0.23139345039353787, recall=0.15556272154181477, fmeasure=0.17283682014862428), Score(precision=0.2632967514717338, recall=0.17647090636046134, fmeasure=0.19562683011643586), Score(precision=0.2018864112967795, recall=0.13835394350674052, fmeasure=0.15438251913254905), Score(precision=0.23139345039353787, recall=0.15556272154181477, fmeasure=0.17283682014862428), Score(precision=0.2632967514717338, recall=0.17647090636046134, fmeasure=0.19562683011643586), Score(precision=0.2018864112967795, recall=0.13835394350674052, fmeasure=0.15438251913254905), Score(precision=0.23139345039353787, recall=0.15556272154181477, fmeasure=0.17283682014862428), Score(precision=0.2632967514717338, recall=0.17647090636046134, fmeasure=0.19562683011643586)), 'rouge2': (Score(precision=0.04225462402576355, recall=0.02781999456808696, fmeasure=0.03210246815162973), Score(precision=0.056798129409375134, recall=0.037357859749455435, fmeasure=0.04308939761331248), Score(precision=0.0790369812621286, recall=0.050504240577349147, fmeasure=0.06016778944606756), Score(precision=0.04225462402576355, recall=0.02781999456808696, fmeasure=0.03210246815162973), Score(precision=0.056798129409375134, recall=0.037357859749455435, fmeasure=0.04308939761331248), Score(precision=0.0790369812621286, recall=0.050504240577349147, fmeasure=0.06016778944606756), Score(precision=0.04225462402576355, recall=0.02781999456808696, fmeasure=0.03210246815162973), Score(precision=0.056798129409375134, recall=0.037357859749455435, fmeasure=0.04308939761331248), Score(precision=0.0790369812621286, recall=0.050504240577349147, fmeasure=0.06016778944606756), Score(precision=0.04225462402576355, recall=0.02781999456808696, fmeasure=0.03210246815162973), Score(precision=0.056798129409375134, recall=0.037357859749455435, fmeasure=0.04308939761331248), Score(precision=0.0790369812621286, recall=0.050504240577349147, fmeasure=0.06016778944606756), Score(precision=0.04225462402576355, recall=0.02781999456808696, fmeasure=0.03210246815162973), Score(precision=0.056798129409375134, recall=0.037357859749455435, fmeasure=0.04308939761331248), Score(precision=0.0790369812621286, recall=0.050504240577349147, fmeasure=0.06016778944606756), Score(precision=0.04225462402576355, recall=0.02781999456808696, fmeasure=0.03210246815162973), Score(precision=0.056798129409375134, recall=0.037357859749455435, fmeasure=0.04308939761331248), Score(precision=0.0790369812621286, recall=0.050504240577349147, fmeasure=0.06016778944606756), Score(precision=0.04225462402576355, recall=0.02781999456808696, fmeasure=0.03210246815162973), Score(precision=0.056798129409375134, recall=0.037357859749455435, fmeasure=0.04308939761331248), Score(precision=0.0790369812621286, recall=0.050504240577349147, fmeasure=0.06016778944606756), Score(precision=0.04225462402576355, recall=0.02781999456808696, fmeasure=0.03210246815162973), Score(precision=0.056798129409375134, recall=0.037357859749455435, fmeasure=0.04308939761331248), Score(precision=0.0790369812621286, recall=0.050504240577349147, fmeasure=0.06016778944606756), Score(precision=0.04225462402576355, recall=0.02781999456808696, fmeasure=0.03210246815162973), Score(precision=0.056798129409375134, recall=0.037357859749455435, fmeasure=0.04308939761331248), Score(precision=0.0790369812621286, recall=0.050504240577349147, fmeasure=0.06016778944606756), Score(precision=0.04225462402576355, recall=0.02781999456808696, fmeasure=0.03210246815162973), Score(precision=0.056798129409375134, recall=0.037357859749455435, fmeasure=0.04308939761331248), Score(precision=0.0790369812621286, recall=0.050504240577349147, fmeasure=0.06016778944606756), Score(precision=0.04225462402576355, recall=0.02781999456808696, fmeasure=0.03210246815162973), Score(precision=0.056798129409375134, recall=0.037357859749455435, fmeasure=0.04308939761331248), Score(precision=0.0790369812621286, recall=0.050504240577349147, fmeasure=0.06016778944606756), Score(precision=0.04225462402576355, recall=0.02781999456808696, fmeasure=0.03210246815162973), Score(precision=0.056798129409375134, recall=0.037357859749455435, fmeasure=0.04308939761331248), Score(precision=0.0790369812621286, recall=0.050504240577349147, fmeasure=0.06016778944606756), Score(precision=0.04225462402576355, recall=0.02781999456808696, fmeasure=0.03210246815162973), Score(precision=0.056798129409375134, recall=0.037357859749455435, fmeasure=0.04308939761331248), Score(precision=0.0790369812621286, recall=0.050504240577349147, fmeasure=0.06016778944606756), Score(precision=0.04225462402576355, recall=0.02781999456808696, fmeasure=0.03210246815162973), Score(precision=0.056798129409375134, recall=0.037357859749455435, fmeasure=0.04308939761331248), Score(precision=0.0790369812621286, recall=0.050504240577349147, fmeasure=0.06016778944606756), Score(precision=0.04225462402576355, recall=0.02781999456808696, fmeasure=0.03210246815162973), Score(precision=0.056798129409375134, recall=0.037357859749455435, fmeasure=0.04308939761331248), Score(precision=0.0790369812621286, recall=0.050504240577349147, fmeasure=0.06016778944606756), Score(precision=0.04225462402576355, recall=0.02781999456808696, fmeasure=0.03210246815162973), Score(precision=0.056798129409375134, recall=0.037357859749455435, fmeasure=0.04308939761331248), Score(precision=0.0790369812621286, recall=0.050504240577349147, fmeasure=0.06016778944606756), Score(precision=0.04225462402576355, recall=0.02781999456808696, fmeasure=0.03210246815162973), Score(precision=0.056798129409375134, recall=0.037357859749455435, fmeasure=0.04308939761331248), Score(precision=0.0790369812621286, recall=0.050504240577349147, fmeasure=0.06016778944606756), Score(precision=0.04225462402576355, recall=0.02781999456808696, fmeasure=0.03210246815162973), Score(precision=0.056798129409375134, recall=0.037357859749455435, fmeasure=0.04308939761331248), Score(precision=0.0790369812621286, recall=0.050504240577349147, fmeasure=0.06016778944606756), Score(precision=0.04225462402576355, recall=0.02781999456808696, fmeasure=0.03210246815162973), Score(precision=0.056798129409375134, recall=0.037357859749455435, fmeasure=0.04308939761331248), Score(precision=0.0790369812621286, recall=0.050504240577349147, fmeasure=0.06016778944606756), Score(precision=0.04225462402576355, recall=0.02781999456808696, fmeasure=0.03210246815162973), Score(precision=0.056798129409375134, recall=0.037357859749455435, fmeasure=0.04308939761331248), Score(precision=0.0790369812621286, recall=0.050504240577349147, fmeasure=0.06016778944606756), Score(precision=0.04225462402576355, recall=0.02781999456808696, fmeasure=0.03210246815162973), Score(precision=0.056798129409375134, recall=0.037357859749455435, fmeasure=0.04308939761331248), Score(precision=0.0790369812621286, recall=0.050504240577349147, fmeasure=0.06016778944606756), Score(precision=0.04225462402576355, recall=0.02781999456808696, fmeasure=0.03210246815162973), Score(precision=0.056798129409375134, recall=0.037357859749455435, fmeasure=0.04308939761331248), Score(precision=0.0790369812621286, recall=0.050504240577349147, fmeasure=0.06016778944606756), Score(precision=0.04225462402576355, recall=0.02781999456808696, fmeasure=0.03210246815162973), Score(precision=0.056798129409375134, recall=0.037357859749455435, fmeasure=0.04308939761331248), Score(precision=0.0790369812621286, recall=0.050504240577349147, fmeasure=0.06016778944606756), Score(precision=0.04225462402576355, recall=0.02781999456808696, fmeasure=0.03210246815162973), Score(precision=0.056798129409375134, recall=0.037357859749455435, fmeasure=0.04308939761331248), Score(precision=0.0790369812621286, recall=0.050504240577349147, fmeasure=0.06016778944606756), Score(precision=0.04225462402576355, recall=0.02781999456808696, fmeasure=0.03210246815162973), Score(precision=0.056798129409375134, recall=0.037357859749455435, fmeasure=0.04308939761331248), Score(precision=0.0790369812621286, recall=0.050504240577349147, fmeasure=0.06016778944606756), Score(precision=0.04225462402576355, recall=0.02781999456808696, fmeasure=0.03210246815162973), Score(precision=0.056798129409375134, recall=0.037357859749455435, fmeasure=0.04308939761331248), Score(precision=0.0790369812621286, recall=0.050504240577349147, fmeasure=0.06016778944606756), Score(precision=0.04225462402576355, recall=0.02781999456808696, fmeasure=0.03210246815162973), Score(precision=0.056798129409375134, recall=0.037357859749455435, fmeasure=0.04308939761331248), Score(precision=0.0790369812621286, recall=0.050504240577349147, fmeasure=0.06016778944606756), Score(precision=0.04225462402576355, recall=0.02781999456808696, fmeasure=0.03210246815162973), Score(precision=0.056798129409375134, recall=0.037357859749455435, fmeasure=0.04308939761331248), Score(precision=0.0790369812621286, recall=0.050504240577349147, fmeasure=0.06016778944606756), Score(precision=0.04225462402576355, recall=0.02781999456808696, fmeasure=0.03210246815162973), Score(precision=0.056798129409375134, recall=0.037357859749455435, fmeasure=0.04308939761331248), Score(precision=0.0790369812621286, recall=0.050504240577349147, fmeasure=0.06016778944606756), Score(precision=0.04225462402576355, recall=0.02781999456808696, fmeasure=0.03210246815162973), Score(precision=0.056798129409375134, recall=0.037357859749455435, fmeasure=0.04308939761331248), Score(precision=0.0790369812621286, recall=0.050504240577349147, fmeasure=0.06016778944606756), Score(precision=0.04225462402576355, recall=0.02781999456808696, fmeasure=0.03210246815162973), Score(precision=0.056798129409375134, recall=0.037357859749455435, fmeasure=0.04308939761331248), Score(precision=0.0790369812621286, recall=0.050504240577349147, fmeasure=0.06016778944606756), Score(precision=0.04225462402576355, recall=0.02781999456808696, fmeasure=0.03210246815162973), Score(precision=0.056798129409375134, recall=0.037357859749455435, fmeasure=0.04308939761331248), Score(precision=0.0790369812621286, recall=0.050504240577349147, fmeasure=0.06016778944606756), Score(precision=0.04225462402576355, recall=0.02781999456808696, fmeasure=0.03210246815162973), Score(precision=0.056798129409375134, recall=0.037357859749455435, fmeasure=0.04308939761331248), Score(precision=0.0790369812621286, recall=0.050504240577349147, fmeasure=0.06016778944606756), Score(precision=0.04225462402576355, recall=0.02781999456808696, fmeasure=0.03210246815162973), Score(precision=0.056798129409375134, recall=0.037357859749455435, fmeasure=0.04308939761331248), Score(precision=0.0790369812621286, recall=0.050504240577349147, fmeasure=0.06016778944606756), Score(precision=0.04225462402576355, recall=0.02781999456808696, fmeasure=0.03210246815162973), Score(precision=0.056798129409375134, recall=0.037357859749455435, fmeasure=0.04308939761331248), Score(precision=0.0790369812621286, recall=0.050504240577349147, fmeasure=0.06016778944606756), Score(precision=0.04225462402576355, recall=0.02781999456808696, fmeasure=0.03210246815162973), Score(precision=0.056798129409375134, recall=0.037357859749455435, fmeasure=0.04308939761331248), Score(precision=0.0790369812621286, recall=0.050504240577349147, fmeasure=0.06016778944606756), Score(precision=0.04225462402576355, recall=0.02781999456808696, fmeasure=0.03210246815162973), Score(precision=0.056798129409375134, recall=0.037357859749455435, fmeasure=0.04308939761331248), Score(precision=0.0790369812621286, recall=0.050504240577349147, fmeasure=0.06016778944606756), Score(precision=0.04225462402576355, recall=0.02781999456808696, fmeasure=0.03210246815162973), Score(precision=0.056798129409375134, recall=0.037357859749455435, fmeasure=0.04308939761331248), Score(precision=0.0790369812621286, recall=0.050504240577349147, fmeasure=0.06016778944606756), Score(precision=0.04225462402576355, recall=0.02781999456808696, fmeasure=0.03210246815162973), Score(precision=0.056798129409375134, recall=0.037357859749455435, fmeasure=0.04308939761331248), Score(precision=0.0790369812621286, recall=0.050504240577349147, fmeasure=0.06016778944606756), Score(precision=0.04225462402576355, recall=0.02781999456808696, fmeasure=0.03210246815162973), Score(precision=0.056798129409375134, recall=0.037357859749455435, fmeasure=0.04308939761331248), Score(precision=0.0790369812621286, recall=0.050504240577349147, fmeasure=0.06016778944606756), Score(precision=0.04225462402576355, recall=0.02781999456808696, fmeasure=0.03210246815162973), Score(precision=0.056798129409375134, recall=0.037357859749455435, fmeasure=0.04308939761331248), Score(precision=0.0790369812621286, recall=0.050504240577349147, fmeasure=0.06016778944606756), Score(precision=0.04225462402576355, recall=0.02781999456808696, fmeasure=0.03210246815162973), Score(precision=0.056798129409375134, recall=0.037357859749455435, fmeasure=0.04308939761331248), Score(precision=0.0790369812621286, recall=0.050504240577349147, fmeasure=0.06016778944606756), Score(precision=0.04225462402576355, recall=0.02781999456808696, fmeasure=0.03210246815162973), Score(precision=0.056798129409375134, recall=0.037357859749455435, fmeasure=0.04308939761331248), Score(precision=0.0790369812621286, recall=0.050504240577349147, fmeasure=0.06016778944606756), Score(precision=0.04225462402576355, recall=0.02781999456808696, fmeasure=0.03210246815162973), Score(precision=0.056798129409375134, recall=0.037357859749455435, fmeasure=0.04308939761331248), Score(precision=0.0790369812621286, recall=0.050504240577349147, fmeasure=0.06016778944606756), Score(precision=0.04225462402576355, recall=0.02781999456808696, fmeasure=0.03210246815162973), Score(precision=0.056798129409375134, recall=0.037357859749455435, fmeasure=0.04308939761331248), Score(precision=0.0790369812621286, recall=0.050504240577349147, fmeasure=0.06016778944606756), Score(precision=0.04225462402576355, recall=0.02781999456808696, fmeasure=0.03210246815162973), Score(precision=0.056798129409375134, recall=0.037357859749455435, fmeasure=0.04308939761331248), Score(precision=0.0790369812621286, recall=0.050504240577349147, fmeasure=0.06016778944606756), Score(precision=0.04225462402576355, recall=0.02781999456808696, fmeasure=0.03210246815162973), Score(precision=0.056798129409375134, recall=0.037357859749455435, fmeasure=0.04308939761331248), Score(precision=0.0790369812621286, recall=0.050504240577349147, fmeasure=0.06016778944606756), Score(precision=0.04225462402576355, recall=0.02781999456808696, fmeasure=0.03210246815162973), Score(precision=0.056798129409375134, recall=0.037357859749455435, fmeasure=0.04308939761331248), Score(precision=0.0790369812621286, recall=0.050504240577349147, fmeasure=0.06016778944606756), Score(precision=0.04225462402576355, recall=0.02781999456808696, fmeasure=0.03210246815162973), Score(precision=0.056798129409375134, recall=0.037357859749455435, fmeasure=0.04308939761331248), Score(precision=0.0790369812621286, recall=0.050504240577349147, fmeasure=0.06016778944606756), Score(precision=0.04225462402576355, recall=0.02781999456808696, fmeasure=0.03210246815162973), Score(precision=0.056798129409375134, recall=0.037357859749455435, fmeasure=0.04308939761331248), Score(precision=0.0790369812621286, recall=0.050504240577349147, fmeasure=0.06016778944606756), Score(precision=0.04225462402576355, recall=0.02781999456808696, fmeasure=0.03210246815162973), Score(precision=0.056798129409375134, recall=0.037357859749455435, fmeasure=0.04308939761331248), Score(precision=0.0790369812621286, recall=0.050504240577349147, fmeasure=0.06016778944606756), Score(precision=0.04225462402576355, recall=0.02781999456808696, fmeasure=0.03210246815162973), Score(precision=0.056798129409375134, recall=0.037357859749455435, fmeasure=0.04308939761331248), Score(precision=0.0790369812621286, recall=0.050504240577349147, fmeasure=0.06016778944606756), Score(precision=0.04225462402576355, recall=0.02781999456808696, fmeasure=0.03210246815162973), Score(precision=0.056798129409375134, recall=0.037357859749455435, fmeasure=0.04308939761331248), Score(precision=0.0790369812621286, recall=0.050504240577349147, fmeasure=0.06016778944606756), Score(precision=0.04225462402576355, recall=0.02781999456808696, fmeasure=0.03210246815162973), Score(precision=0.056798129409375134, recall=0.037357859749455435, fmeasure=0.04308939761331248), Score(precision=0.0790369812621286, recall=0.050504240577349147, fmeasure=0.06016778944606756), Score(precision=0.04225462402576355, recall=0.02781999456808696, fmeasure=0.03210246815162973), Score(precision=0.056798129409375134, recall=0.037357859749455435, fmeasure=0.04308939761331248), Score(precision=0.0790369812621286, recall=0.050504240577349147, fmeasure=0.06016778944606756), Score(precision=0.04225462402576355, recall=0.02781999456808696, fmeasure=0.03210246815162973), Score(precision=0.056798129409375134, recall=0.037357859749455435, fmeasure=0.04308939761331248), Score(precision=0.0790369812621286, recall=0.050504240577349147, fmeasure=0.06016778944606756), Score(precision=0.04225462402576355, recall=0.02781999456808696, fmeasure=0.03210246815162973), Score(precision=0.056798129409375134, recall=0.037357859749455435, fmeasure=0.04308939761331248), Score(precision=0.0790369812621286, recall=0.050504240577349147, fmeasure=0.06016778944606756), Score(precision=0.04225462402576355, recall=0.02781999456808696, fmeasure=0.03210246815162973), Score(precision=0.056798129409375134, recall=0.037357859749455435, fmeasure=0.04308939761331248), Score(precision=0.0790369812621286, recall=0.050504240577349147, fmeasure=0.06016778944606756), Score(precision=0.04225462402576355, recall=0.02781999456808696, fmeasure=0.03210246815162973), Score(precision=0.056798129409375134, recall=0.037357859749455435, fmeasure=0.04308939761331248), Score(precision=0.0790369812621286, recall=0.050504240577349147, fmeasure=0.06016778944606756), Score(precision=0.04225462402576355, recall=0.02781999456808696, fmeasure=0.03210246815162973), Score(precision=0.056798129409375134, recall=0.037357859749455435, fmeasure=0.04308939761331248), Score(precision=0.0790369812621286, recall=0.050504240577349147, fmeasure=0.06016778944606756), Score(precision=0.04225462402576355, recall=0.02781999456808696, fmeasure=0.03210246815162973), Score(precision=0.056798129409375134, recall=0.037357859749455435, fmeasure=0.04308939761331248), Score(precision=0.0790369812621286, recall=0.050504240577349147, fmeasure=0.06016778944606756), Score(precision=0.04225462402576355, recall=0.02781999456808696, fmeasure=0.03210246815162973), Score(precision=0.056798129409375134, recall=0.037357859749455435, fmeasure=0.04308939761331248), Score(precision=0.0790369812621286, recall=0.050504240577349147, fmeasure=0.06016778944606756), Score(precision=0.04225462402576355, recall=0.02781999456808696, fmeasure=0.03210246815162973), Score(precision=0.056798129409375134, recall=0.037357859749455435, fmeasure=0.04308939761331248), Score(precision=0.0790369812621286, recall=0.050504240577349147, fmeasure=0.06016778944606756), Score(precision=0.04225462402576355, recall=0.02781999456808696, fmeasure=0.03210246815162973), Score(precision=0.056798129409375134, recall=0.037357859749455435, fmeasure=0.04308939761331248), Score(precision=0.0790369812621286, recall=0.050504240577349147, fmeasure=0.06016778944606756), Score(precision=0.04225462402576355, recall=0.02781999456808696, fmeasure=0.03210246815162973), Score(precision=0.056798129409375134, recall=0.037357859749455435, fmeasure=0.04308939761331248), Score(precision=0.0790369812621286, recall=0.050504240577349147, fmeasure=0.06016778944606756), Score(precision=0.04225462402576355, recall=0.02781999456808696, fmeasure=0.03210246815162973), Score(precision=0.056798129409375134, recall=0.037357859749455435, fmeasure=0.04308939761331248), Score(precision=0.0790369812621286, recall=0.050504240577349147, fmeasure=0.06016778944606756), Score(precision=0.04225462402576355, recall=0.02781999456808696, fmeasure=0.03210246815162973), Score(precision=0.056798129409375134, recall=0.037357859749455435, fmeasure=0.04308939761331248), Score(precision=0.0790369812621286, recall=0.050504240577349147, fmeasure=0.06016778944606756), Score(precision=0.04225462402576355, recall=0.02781999456808696, fmeasure=0.03210246815162973), Score(precision=0.056798129409375134, recall=0.037357859749455435, fmeasure=0.04308939761331248), Score(precision=0.0790369812621286, recall=0.050504240577349147, fmeasure=0.06016778944606756), Score(precision=0.04225462402576355, recall=0.02781999456808696, fmeasure=0.03210246815162973), Score(precision=0.056798129409375134, recall=0.037357859749455435, fmeasure=0.04308939761331248), Score(precision=0.0790369812621286, recall=0.050504240577349147, fmeasure=0.06016778944606756), Score(precision=0.04225462402576355, recall=0.02781999456808696, fmeasure=0.03210246815162973), Score(precision=0.056798129409375134, recall=0.037357859749455435, fmeasure=0.04308939761331248), Score(precision=0.0790369812621286, recall=0.050504240577349147, fmeasure=0.06016778944606756), Score(precision=0.04225462402576355, recall=0.02781999456808696, fmeasure=0.03210246815162973), Score(precision=0.056798129409375134, recall=0.037357859749455435, fmeasure=0.04308939761331248), Score(precision=0.0790369812621286, recall=0.050504240577349147, fmeasure=0.06016778944606756), Score(precision=0.04225462402576355, recall=0.02781999456808696, fmeasure=0.03210246815162973), Score(precision=0.056798129409375134, recall=0.037357859749455435, fmeasure=0.04308939761331248), Score(precision=0.0790369812621286, recall=0.050504240577349147, fmeasure=0.06016778944606756), Score(precision=0.04225462402576355, recall=0.02781999456808696, fmeasure=0.03210246815162973), Score(precision=0.056798129409375134, recall=0.037357859749455435, fmeasure=0.04308939761331248), Score(precision=0.0790369812621286, recall=0.050504240577349147, fmeasure=0.06016778944606756), Score(precision=0.04225462402576355, recall=0.02781999456808696, fmeasure=0.03210246815162973), Score(precision=0.056798129409375134, recall=0.037357859749455435, fmeasure=0.04308939761331248), Score(precision=0.0790369812621286, recall=0.050504240577349147, fmeasure=0.06016778944606756), Score(precision=0.04225462402576355, recall=0.02781999456808696, fmeasure=0.03210246815162973), Score(precision=0.056798129409375134, recall=0.037357859749455435, fmeasure=0.04308939761331248), Score(precision=0.0790369812621286, recall=0.050504240577349147, fmeasure=0.06016778944606756), Score(precision=0.04225462402576355, recall=0.02781999456808696, fmeasure=0.03210246815162973), Score(precision=0.056798129409375134, recall=0.037357859749455435, fmeasure=0.04308939761331248), Score(precision=0.0790369812621286, recall=0.050504240577349147, fmeasure=0.06016778944606756), Score(precision=0.04225462402576355, recall=0.02781999456808696, fmeasure=0.03210246815162973), Score(precision=0.056798129409375134, recall=0.037357859749455435, fmeasure=0.04308939761331248), Score(precision=0.0790369812621286, recall=0.050504240577349147, fmeasure=0.06016778944606756), Score(precision=0.04225462402576355, recall=0.02781999456808696, fmeasure=0.03210246815162973), Score(precision=0.056798129409375134, recall=0.037357859749455435, fmeasure=0.04308939761331248), Score(precision=0.0790369812621286, recall=0.050504240577349147, fmeasure=0.06016778944606756), Score(precision=0.04225462402576355, recall=0.02781999456808696, fmeasure=0.03210246815162973), Score(precision=0.056798129409375134, recall=0.037357859749455435, fmeasure=0.04308939761331248), Score(precision=0.0790369812621286, recall=0.050504240577349147, fmeasure=0.06016778944606756), Score(precision=0.04225462402576355, recall=0.02781999456808696, fmeasure=0.03210246815162973), Score(precision=0.056798129409375134, recall=0.037357859749455435, fmeasure=0.04308939761331248), Score(precision=0.0790369812621286, recall=0.050504240577349147, fmeasure=0.06016778944606756), Score(precision=0.04225462402576355, recall=0.02781999456808696, fmeasure=0.03210246815162973), Score(precision=0.056798129409375134, recall=0.037357859749455435, fmeasure=0.04308939761331248), Score(precision=0.0790369812621286, recall=0.050504240577349147, fmeasure=0.06016778944606756), Score(precision=0.04225462402576355, recall=0.02781999456808696, fmeasure=0.03210246815162973), Score(precision=0.056798129409375134, recall=0.037357859749455435, fmeasure=0.04308939761331248), Score(precision=0.0790369812621286, recall=0.050504240577349147, fmeasure=0.06016778944606756), Score(precision=0.04225462402576355, recall=0.02781999456808696, fmeasure=0.03210246815162973), Score(precision=0.056798129409375134, recall=0.037357859749455435, fmeasure=0.04308939761331248), Score(precision=0.0790369812621286, recall=0.050504240577349147, fmeasure=0.06016778944606756), Score(precision=0.04225462402576355, recall=0.02781999456808696, fmeasure=0.03210246815162973), Score(precision=0.056798129409375134, recall=0.037357859749455435, fmeasure=0.04308939761331248), Score(precision=0.0790369812621286, recall=0.050504240577349147, fmeasure=0.06016778944606756), Score(precision=0.04225462402576355, recall=0.02781999456808696, fmeasure=0.03210246815162973), Score(precision=0.056798129409375134, recall=0.037357859749455435, fmeasure=0.04308939761331248), Score(precision=0.0790369812621286, recall=0.050504240577349147, fmeasure=0.06016778944606756), Score(precision=0.04225462402576355, recall=0.02781999456808696, fmeasure=0.03210246815162973), Score(precision=0.056798129409375134, recall=0.037357859749455435, fmeasure=0.04308939761331248), Score(precision=0.0790369812621286, recall=0.050504240577349147, fmeasure=0.06016778944606756), Score(precision=0.04225462402576355, recall=0.02781999456808696, fmeasure=0.03210246815162973), Score(precision=0.056798129409375134, recall=0.037357859749455435, fmeasure=0.04308939761331248), Score(precision=0.0790369812621286, recall=0.050504240577349147, fmeasure=0.06016778944606756), Score(precision=0.04225462402576355, recall=0.02781999456808696, fmeasure=0.03210246815162973), Score(precision=0.056798129409375134, recall=0.037357859749455435, fmeasure=0.04308939761331248), Score(precision=0.0790369812621286, recall=0.050504240577349147, fmeasure=0.06016778944606756), Score(precision=0.04225462402576355, recall=0.02781999456808696, fmeasure=0.03210246815162973), Score(precision=0.056798129409375134, recall=0.037357859749455435, fmeasure=0.04308939761331248), Score(precision=0.0790369812621286, recall=0.050504240577349147, fmeasure=0.06016778944606756), Score(precision=0.04225462402576355, recall=0.02781999456808696, fmeasure=0.03210246815162973), Score(precision=0.056798129409375134, recall=0.037357859749455435, fmeasure=0.04308939761331248), Score(precision=0.0790369812621286, recall=0.050504240577349147, fmeasure=0.06016778944606756), Score(precision=0.04225462402576355, recall=0.02781999456808696, fmeasure=0.03210246815162973), Score(precision=0.056798129409375134, recall=0.037357859749455435, fmeasure=0.04308939761331248), Score(precision=0.0790369812621286, recall=0.050504240577349147, fmeasure=0.06016778944606756), Score(precision=0.04225462402576355, recall=0.02781999456808696, fmeasure=0.03210246815162973), Score(precision=0.056798129409375134, recall=0.037357859749455435, fmeasure=0.04308939761331248), Score(precision=0.0790369812621286, recall=0.050504240577349147, fmeasure=0.06016778944606756), Score(precision=0.04225462402576355, recall=0.02781999456808696, fmeasure=0.03210246815162973), Score(precision=0.056798129409375134, recall=0.037357859749455435, fmeasure=0.04308939761331248), Score(precision=0.0790369812621286, recall=0.050504240577349147, fmeasure=0.06016778944606756), Score(precision=0.04225462402576355, recall=0.02781999456808696, fmeasure=0.03210246815162973), Score(precision=0.056798129409375134, recall=0.037357859749455435, fmeasure=0.04308939761331248), Score(precision=0.0790369812621286, recall=0.050504240577349147, fmeasure=0.06016778944606756), Score(precision=0.04225462402576355, recall=0.02781999456808696, fmeasure=0.03210246815162973), Score(precision=0.056798129409375134, recall=0.037357859749455435, fmeasure=0.04308939761331248), Score(precision=0.0790369812621286, recall=0.050504240577349147, fmeasure=0.06016778944606756), Score(precision=0.04225462402576355, recall=0.02781999456808696, fmeasure=0.03210246815162973), Score(precision=0.056798129409375134, recall=0.037357859749455435, fmeasure=0.04308939761331248), Score(precision=0.0790369812621286, recall=0.050504240577349147, fmeasure=0.06016778944606756), Score(precision=0.04225462402576355, recall=0.02781999456808696, fmeasure=0.03210246815162973), Score(precision=0.056798129409375134, recall=0.037357859749455435, fmeasure=0.04308939761331248), Score(precision=0.0790369812621286, recall=0.050504240577349147, fmeasure=0.06016778944606756), Score(precision=0.04225462402576355, recall=0.02781999456808696, fmeasure=0.03210246815162973), Score(precision=0.056798129409375134, recall=0.037357859749455435, fmeasure=0.04308939761331248), Score(precision=0.0790369812621286, recall=0.050504240577349147, fmeasure=0.06016778944606756), Score(precision=0.04225462402576355, recall=0.02781999456808696, fmeasure=0.03210246815162973), Score(precision=0.056798129409375134, recall=0.037357859749455435, fmeasure=0.04308939761331248), Score(precision=0.0790369812621286, recall=0.050504240577349147, fmeasure=0.06016778944606756), Score(precision=0.04225462402576355, recall=0.02781999456808696, fmeasure=0.03210246815162973), Score(precision=0.056798129409375134, recall=0.037357859749455435, fmeasure=0.04308939761331248), Score(precision=0.0790369812621286, recall=0.050504240577349147, fmeasure=0.06016778944606756)), 'rougeL': (Score(precision=0.13811368689088654, recall=0.09648895789012804, fmeasure=0.10590893954800037), Score(precision=0.15688352625176838, recall=0.1113577147463112, fmeasure=0.11943996131860113), Score(precision=0.1768769168122868, recall=0.12839554574527282, fmeasure=0.13446316674156597), Score(precision=0.13811368689088654, recall=0.09648895789012804, fmeasure=0.10590893954800037), Score(precision=0.15688352625176838, recall=0.1113577147463112, fmeasure=0.11943996131860113), Score(precision=0.1768769168122868, recall=0.12839554574527282, fmeasure=0.13446316674156597), Score(precision=0.13811368689088654, recall=0.09648895789012804, fmeasure=0.10590893954800037), Score(precision=0.15688352625176838, recall=0.1113577147463112, fmeasure=0.11943996131860113), Score(precision=0.1768769168122868, recall=0.12839554574527282, fmeasure=0.13446316674156597), Score(precision=0.13811368689088654, recall=0.09648895789012804, fmeasure=0.10590893954800037), Score(precision=0.15688352625176838, recall=0.1113577147463112, fmeasure=0.11943996131860113), Score(precision=0.1768769168122868, recall=0.12839554574527282, fmeasure=0.13446316674156597), Score(precision=0.13811368689088654, recall=0.09648895789012804, fmeasure=0.10590893954800037), Score(precision=0.15688352625176838, recall=0.1113577147463112, fmeasure=0.11943996131860113), Score(precision=0.1768769168122868, recall=0.12839554574527282, fmeasure=0.13446316674156597), Score(precision=0.13811368689088654, recall=0.09648895789012804, fmeasure=0.10590893954800037), Score(precision=0.15688352625176838, recall=0.1113577147463112, fmeasure=0.11943996131860113), Score(precision=0.1768769168122868, recall=0.12839554574527282, fmeasure=0.13446316674156597), Score(precision=0.13811368689088654, recall=0.09648895789012804, fmeasure=0.10590893954800037), Score(precision=0.15688352625176838, recall=0.1113577147463112, fmeasure=0.11943996131860113), Score(precision=0.1768769168122868, recall=0.12839554574527282, fmeasure=0.13446316674156597), Score(precision=0.13811368689088654, recall=0.09648895789012804, fmeasure=0.10590893954800037), Score(precision=0.15688352625176838, recall=0.1113577147463112, fmeasure=0.11943996131860113), Score(precision=0.1768769168122868, recall=0.12839554574527282, fmeasure=0.13446316674156597), Score(precision=0.13811368689088654, recall=0.09648895789012804, fmeasure=0.10590893954800037), Score(precision=0.15688352625176838, recall=0.1113577147463112, fmeasure=0.11943996131860113), Score(precision=0.1768769168122868, recall=0.12839554574527282, fmeasure=0.13446316674156597), Score(precision=0.13811368689088654, recall=0.09648895789012804, fmeasure=0.10590893954800037), Score(precision=0.15688352625176838, recall=0.1113577147463112, fmeasure=0.11943996131860113), Score(precision=0.1768769168122868, recall=0.12839554574527282, fmeasure=0.13446316674156597), Score(precision=0.13811368689088654, recall=0.09648895789012804, fmeasure=0.10590893954800037), Score(precision=0.15688352625176838, recall=0.1113577147463112, fmeasure=0.11943996131860113), Score(precision=0.1768769168122868, recall=0.12839554574527282, fmeasure=0.13446316674156597), Score(precision=0.13811368689088654, recall=0.09648895789012804, fmeasure=0.10590893954800037), Score(precision=0.15688352625176838, recall=0.1113577147463112, fmeasure=0.11943996131860113), Score(precision=0.1768769168122868, recall=0.12839554574527282, fmeasure=0.13446316674156597), Score(precision=0.13811368689088654, recall=0.09648895789012804, fmeasure=0.10590893954800037), Score(precision=0.15688352625176838, recall=0.1113577147463112, fmeasure=0.11943996131860113), Score(precision=0.1768769168122868, recall=0.12839554574527282, fmeasure=0.13446316674156597), Score(precision=0.13811368689088654, recall=0.09648895789012804, fmeasure=0.10590893954800037), Score(precision=0.15688352625176838, recall=0.1113577147463112, fmeasure=0.11943996131860113), Score(precision=0.1768769168122868, recall=0.12839554574527282, fmeasure=0.13446316674156597), Score(precision=0.13811368689088654, recall=0.09648895789012804, fmeasure=0.10590893954800037), Score(precision=0.15688352625176838, recall=0.1113577147463112, fmeasure=0.11943996131860113), Score(precision=0.1768769168122868, recall=0.12839554574527282, fmeasure=0.13446316674156597), Score(precision=0.13811368689088654, recall=0.09648895789012804, fmeasure=0.10590893954800037), Score(precision=0.15688352625176838, recall=0.1113577147463112, fmeasure=0.11943996131860113), Score(precision=0.1768769168122868, recall=0.12839554574527282, fmeasure=0.13446316674156597), Score(precision=0.13811368689088654, recall=0.09648895789012804, fmeasure=0.10590893954800037), Score(precision=0.15688352625176838, recall=0.1113577147463112, fmeasure=0.11943996131860113), Score(precision=0.1768769168122868, recall=0.12839554574527282, fmeasure=0.13446316674156597), Score(precision=0.13811368689088654, recall=0.09648895789012804, fmeasure=0.10590893954800037), Score(precision=0.15688352625176838, recall=0.1113577147463112, fmeasure=0.11943996131860113), Score(precision=0.1768769168122868, recall=0.12839554574527282, fmeasure=0.13446316674156597), Score(precision=0.13811368689088654, recall=0.09648895789012804, fmeasure=0.10590893954800037), Score(precision=0.15688352625176838, recall=0.1113577147463112, fmeasure=0.11943996131860113), Score(precision=0.1768769168122868, recall=0.12839554574527282, fmeasure=0.13446316674156597), Score(precision=0.13811368689088654, recall=0.09648895789012804, fmeasure=0.10590893954800037), Score(precision=0.15688352625176838, recall=0.1113577147463112, fmeasure=0.11943996131860113), Score(precision=0.1768769168122868, recall=0.12839554574527282, fmeasure=0.13446316674156597), Score(precision=0.13811368689088654, recall=0.09648895789012804, fmeasure=0.10590893954800037), Score(precision=0.15688352625176838, recall=0.1113577147463112, fmeasure=0.11943996131860113), Score(precision=0.1768769168122868, recall=0.12839554574527282, fmeasure=0.13446316674156597), Score(precision=0.13811368689088654, recall=0.09648895789012804, fmeasure=0.10590893954800037), Score(precision=0.15688352625176838, recall=0.1113577147463112, fmeasure=0.11943996131860113), Score(precision=0.1768769168122868, recall=0.12839554574527282, fmeasure=0.13446316674156597), Score(precision=0.13811368689088654, recall=0.09648895789012804, fmeasure=0.10590893954800037), Score(precision=0.15688352625176838, recall=0.1113577147463112, fmeasure=0.11943996131860113), Score(precision=0.1768769168122868, recall=0.12839554574527282, fmeasure=0.13446316674156597), Score(precision=0.13811368689088654, recall=0.09648895789012804, fmeasure=0.10590893954800037), Score(precision=0.15688352625176838, recall=0.1113577147463112, fmeasure=0.11943996131860113), Score(precision=0.1768769168122868, recall=0.12839554574527282, fmeasure=0.13446316674156597), Score(precision=0.13811368689088654, recall=0.09648895789012804, fmeasure=0.10590893954800037), Score(precision=0.15688352625176838, recall=0.1113577147463112, fmeasure=0.11943996131860113), Score(precision=0.1768769168122868, recall=0.12839554574527282, fmeasure=0.13446316674156597), Score(precision=0.13811368689088654, recall=0.09648895789012804, fmeasure=0.10590893954800037), Score(precision=0.15688352625176838, recall=0.1113577147463112, fmeasure=0.11943996131860113), Score(precision=0.1768769168122868, recall=0.12839554574527282, fmeasure=0.13446316674156597), Score(precision=0.13811368689088654, recall=0.09648895789012804, fmeasure=0.10590893954800037), Score(precision=0.15688352625176838, recall=0.1113577147463112, fmeasure=0.11943996131860113), Score(precision=0.1768769168122868, recall=0.12839554574527282, fmeasure=0.13446316674156597), Score(precision=0.13811368689088654, recall=0.09648895789012804, fmeasure=0.10590893954800037), Score(precision=0.15688352625176838, recall=0.1113577147463112, fmeasure=0.11943996131860113), Score(precision=0.1768769168122868, recall=0.12839554574527282, fmeasure=0.13446316674156597), Score(precision=0.13811368689088654, recall=0.09648895789012804, fmeasure=0.10590893954800037), Score(precision=0.15688352625176838, recall=0.1113577147463112, fmeasure=0.11943996131860113), Score(precision=0.1768769168122868, recall=0.12839554574527282, fmeasure=0.13446316674156597), Score(precision=0.13811368689088654, recall=0.09648895789012804, fmeasure=0.10590893954800037), Score(precision=0.15688352625176838, recall=0.1113577147463112, fmeasure=0.11943996131860113), Score(precision=0.1768769168122868, recall=0.12839554574527282, fmeasure=0.13446316674156597), Score(precision=0.13811368689088654, recall=0.09648895789012804, fmeasure=0.10590893954800037), Score(precision=0.15688352625176838, recall=0.1113577147463112, fmeasure=0.11943996131860113), Score(precision=0.1768769168122868, recall=0.12839554574527282, fmeasure=0.13446316674156597), Score(precision=0.13811368689088654, recall=0.09648895789012804, fmeasure=0.10590893954800037), Score(precision=0.15688352625176838, recall=0.1113577147463112, fmeasure=0.11943996131860113), Score(precision=0.1768769168122868, recall=0.12839554574527282, fmeasure=0.13446316674156597), Score(precision=0.13811368689088654, recall=0.09648895789012804, fmeasure=0.10590893954800037), Score(precision=0.15688352625176838, recall=0.1113577147463112, fmeasure=0.11943996131860113), Score(precision=0.1768769168122868, recall=0.12839554574527282, fmeasure=0.13446316674156597), Score(precision=0.13811368689088654, recall=0.09648895789012804, fmeasure=0.10590893954800037), Score(precision=0.15688352625176838, recall=0.1113577147463112, fmeasure=0.11943996131860113), Score(precision=0.1768769168122868, recall=0.12839554574527282, fmeasure=0.13446316674156597), Score(precision=0.13811368689088654, recall=0.09648895789012804, fmeasure=0.10590893954800037), Score(precision=0.15688352625176838, recall=0.1113577147463112, fmeasure=0.11943996131860113), Score(precision=0.1768769168122868, recall=0.12839554574527282, fmeasure=0.13446316674156597), Score(precision=0.13811368689088654, recall=0.09648895789012804, fmeasure=0.10590893954800037), Score(precision=0.15688352625176838, recall=0.1113577147463112, fmeasure=0.11943996131860113), Score(precision=0.1768769168122868, recall=0.12839554574527282, fmeasure=0.13446316674156597), Score(precision=0.13811368689088654, recall=0.09648895789012804, fmeasure=0.10590893954800037), Score(precision=0.15688352625176838, recall=0.1113577147463112, fmeasure=0.11943996131860113), Score(precision=0.1768769168122868, recall=0.12839554574527282, fmeasure=0.13446316674156597), Score(precision=0.13811368689088654, recall=0.09648895789012804, fmeasure=0.10590893954800037), Score(precision=0.15688352625176838, recall=0.1113577147463112, fmeasure=0.11943996131860113), Score(precision=0.1768769168122868, recall=0.12839554574527282, fmeasure=0.13446316674156597), Score(precision=0.13811368689088654, recall=0.09648895789012804, fmeasure=0.10590893954800037), Score(precision=0.15688352625176838, recall=0.1113577147463112, fmeasure=0.11943996131860113), Score(precision=0.1768769168122868, recall=0.12839554574527282, fmeasure=0.13446316674156597), Score(precision=0.13811368689088654, recall=0.09648895789012804, fmeasure=0.10590893954800037), Score(precision=0.15688352625176838, recall=0.1113577147463112, fmeasure=0.11943996131860113), Score(precision=0.1768769168122868, recall=0.12839554574527282, fmeasure=0.13446316674156597), Score(precision=0.13811368689088654, recall=0.09648895789012804, fmeasure=0.10590893954800037), Score(precision=0.15688352625176838, recall=0.1113577147463112, fmeasure=0.11943996131860113), Score(precision=0.1768769168122868, recall=0.12839554574527282, fmeasure=0.13446316674156597), Score(precision=0.13811368689088654, recall=0.09648895789012804, fmeasure=0.10590893954800037), Score(precision=0.15688352625176838, recall=0.1113577147463112, fmeasure=0.11943996131860113), Score(precision=0.1768769168122868, recall=0.12839554574527282, fmeasure=0.13446316674156597), Score(precision=0.13811368689088654, recall=0.09648895789012804, fmeasure=0.10590893954800037), Score(precision=0.15688352625176838, recall=0.1113577147463112, fmeasure=0.11943996131860113), Score(precision=0.1768769168122868, recall=0.12839554574527282, fmeasure=0.13446316674156597), Score(precision=0.13811368689088654, recall=0.09648895789012804, fmeasure=0.10590893954800037), Score(precision=0.15688352625176838, recall=0.1113577147463112, fmeasure=0.11943996131860113), Score(precision=0.1768769168122868, recall=0.12839554574527282, fmeasure=0.13446316674156597), Score(precision=0.13811368689088654, recall=0.09648895789012804, fmeasure=0.10590893954800037), Score(precision=0.15688352625176838, recall=0.1113577147463112, fmeasure=0.11943996131860113), Score(precision=0.1768769168122868, recall=0.12839554574527282, fmeasure=0.13446316674156597), Score(precision=0.13811368689088654, recall=0.09648895789012804, fmeasure=0.10590893954800037), Score(precision=0.15688352625176838, recall=0.1113577147463112, fmeasure=0.11943996131860113), Score(precision=0.1768769168122868, recall=0.12839554574527282, fmeasure=0.13446316674156597), Score(precision=0.13811368689088654, recall=0.09648895789012804, fmeasure=0.10590893954800037), Score(precision=0.15688352625176838, recall=0.1113577147463112, fmeasure=0.11943996131860113), Score(precision=0.1768769168122868, recall=0.12839554574527282, fmeasure=0.13446316674156597), Score(precision=0.13811368689088654, recall=0.09648895789012804, fmeasure=0.10590893954800037), Score(precision=0.15688352625176838, recall=0.1113577147463112, fmeasure=0.11943996131860113), Score(precision=0.1768769168122868, recall=0.12839554574527282, fmeasure=0.13446316674156597), Score(precision=0.13811368689088654, recall=0.09648895789012804, fmeasure=0.10590893954800037), Score(precision=0.15688352625176838, recall=0.1113577147463112, fmeasure=0.11943996131860113), Score(precision=0.1768769168122868, recall=0.12839554574527282, fmeasure=0.13446316674156597), Score(precision=0.13811368689088654, recall=0.09648895789012804, fmeasure=0.10590893954800037), Score(precision=0.15688352625176838, recall=0.1113577147463112, fmeasure=0.11943996131860113), Score(precision=0.1768769168122868, recall=0.12839554574527282, fmeasure=0.13446316674156597), Score(precision=0.13811368689088654, recall=0.09648895789012804, fmeasure=0.10590893954800037), Score(precision=0.15688352625176838, recall=0.1113577147463112, fmeasure=0.11943996131860113), Score(precision=0.1768769168122868, recall=0.12839554574527282, fmeasure=0.13446316674156597), Score(precision=0.13811368689088654, recall=0.09648895789012804, fmeasure=0.10590893954800037), Score(precision=0.15688352625176838, recall=0.1113577147463112, fmeasure=0.11943996131860113), Score(precision=0.1768769168122868, recall=0.12839554574527282, fmeasure=0.13446316674156597), Score(precision=0.13811368689088654, recall=0.09648895789012804, fmeasure=0.10590893954800037), Score(precision=0.15688352625176838, recall=0.1113577147463112, fmeasure=0.11943996131860113), Score(precision=0.1768769168122868, recall=0.12839554574527282, fmeasure=0.13446316674156597), Score(precision=0.13811368689088654, recall=0.09648895789012804, fmeasure=0.10590893954800037), Score(precision=0.15688352625176838, recall=0.1113577147463112, fmeasure=0.11943996131860113), Score(precision=0.1768769168122868, recall=0.12839554574527282, fmeasure=0.13446316674156597), Score(precision=0.13811368689088654, recall=0.09648895789012804, fmeasure=0.10590893954800037), Score(precision=0.15688352625176838, recall=0.1113577147463112, fmeasure=0.11943996131860113), Score(precision=0.1768769168122868, recall=0.12839554574527282, fmeasure=0.13446316674156597), Score(precision=0.13811368689088654, recall=0.09648895789012804, fmeasure=0.10590893954800037), Score(precision=0.15688352625176838, recall=0.1113577147463112, fmeasure=0.11943996131860113), Score(precision=0.1768769168122868, recall=0.12839554574527282, fmeasure=0.13446316674156597), Score(precision=0.13811368689088654, recall=0.09648895789012804, fmeasure=0.10590893954800037), Score(precision=0.15688352625176838, recall=0.1113577147463112, fmeasure=0.11943996131860113), Score(precision=0.1768769168122868, recall=0.12839554574527282, fmeasure=0.13446316674156597), Score(precision=0.13811368689088654, recall=0.09648895789012804, fmeasure=0.10590893954800037), Score(precision=0.15688352625176838, recall=0.1113577147463112, fmeasure=0.11943996131860113), Score(precision=0.1768769168122868, recall=0.12839554574527282, fmeasure=0.13446316674156597), Score(precision=0.13811368689088654, recall=0.09648895789012804, fmeasure=0.10590893954800037), Score(precision=0.15688352625176838, recall=0.1113577147463112, fmeasure=0.11943996131860113), Score(precision=0.1768769168122868, recall=0.12839554574527282, fmeasure=0.13446316674156597), Score(precision=0.13811368689088654, recall=0.09648895789012804, fmeasure=0.10590893954800037), Score(precision=0.15688352625176838, recall=0.1113577147463112, fmeasure=0.11943996131860113), Score(precision=0.1768769168122868, recall=0.12839554574527282, fmeasure=0.13446316674156597), Score(precision=0.13811368689088654, recall=0.09648895789012804, fmeasure=0.10590893954800037), Score(precision=0.15688352625176838, recall=0.1113577147463112, fmeasure=0.11943996131860113), Score(precision=0.1768769168122868, recall=0.12839554574527282, fmeasure=0.13446316674156597), Score(precision=0.13811368689088654, recall=0.09648895789012804, fmeasure=0.10590893954800037), Score(precision=0.15688352625176838, recall=0.1113577147463112, fmeasure=0.11943996131860113), Score(precision=0.1768769168122868, recall=0.12839554574527282, fmeasure=0.13446316674156597), Score(precision=0.13811368689088654, recall=0.09648895789012804, fmeasure=0.10590893954800037), Score(precision=0.15688352625176838, recall=0.1113577147463112, fmeasure=0.11943996131860113), Score(precision=0.1768769168122868, recall=0.12839554574527282, fmeasure=0.13446316674156597), Score(precision=0.13811368689088654, recall=0.09648895789012804, fmeasure=0.10590893954800037), Score(precision=0.15688352625176838, recall=0.1113577147463112, fmeasure=0.11943996131860113), Score(precision=0.1768769168122868, recall=0.12839554574527282, fmeasure=0.13446316674156597), Score(precision=0.13811368689088654, recall=0.09648895789012804, fmeasure=0.10590893954800037), Score(precision=0.15688352625176838, recall=0.1113577147463112, fmeasure=0.11943996131860113), Score(precision=0.1768769168122868, recall=0.12839554574527282, fmeasure=0.13446316674156597), Score(precision=0.13811368689088654, recall=0.09648895789012804, fmeasure=0.10590893954800037), Score(precision=0.15688352625176838, recall=0.1113577147463112, fmeasure=0.11943996131860113), Score(precision=0.1768769168122868, recall=0.12839554574527282, fmeasure=0.13446316674156597), Score(precision=0.13811368689088654, recall=0.09648895789012804, fmeasure=0.10590893954800037), Score(precision=0.15688352625176838, recall=0.1113577147463112, fmeasure=0.11943996131860113), Score(precision=0.1768769168122868, recall=0.12839554574527282, fmeasure=0.13446316674156597), Score(precision=0.13811368689088654, recall=0.09648895789012804, fmeasure=0.10590893954800037), Score(precision=0.15688352625176838, recall=0.1113577147463112, fmeasure=0.11943996131860113), Score(precision=0.1768769168122868, recall=0.12839554574527282, fmeasure=0.13446316674156597), Score(precision=0.13811368689088654, recall=0.09648895789012804, fmeasure=0.10590893954800037), Score(precision=0.15688352625176838, recall=0.1113577147463112, fmeasure=0.11943996131860113), Score(precision=0.1768769168122868, recall=0.12839554574527282, fmeasure=0.13446316674156597), Score(precision=0.13811368689088654, recall=0.09648895789012804, fmeasure=0.10590893954800037), Score(precision=0.15688352625176838, recall=0.1113577147463112, fmeasure=0.11943996131860113), Score(precision=0.1768769168122868, recall=0.12839554574527282, fmeasure=0.13446316674156597), Score(precision=0.13811368689088654, recall=0.09648895789012804, fmeasure=0.10590893954800037), Score(precision=0.15688352625176838, recall=0.1113577147463112, fmeasure=0.11943996131860113), Score(precision=0.1768769168122868, recall=0.12839554574527282, fmeasure=0.13446316674156597), Score(precision=0.13811368689088654, recall=0.09648895789012804, fmeasure=0.10590893954800037), Score(precision=0.15688352625176838, recall=0.1113577147463112, fmeasure=0.11943996131860113), Score(precision=0.1768769168122868, recall=0.12839554574527282, fmeasure=0.13446316674156597), Score(precision=0.13811368689088654, recall=0.09648895789012804, fmeasure=0.10590893954800037), Score(precision=0.15688352625176838, recall=0.1113577147463112, fmeasure=0.11943996131860113), Score(precision=0.1768769168122868, recall=0.12839554574527282, fmeasure=0.13446316674156597), Score(precision=0.13811368689088654, recall=0.09648895789012804, fmeasure=0.10590893954800037), Score(precision=0.15688352625176838, recall=0.1113577147463112, fmeasure=0.11943996131860113), Score(precision=0.1768769168122868, recall=0.12839554574527282, fmeasure=0.13446316674156597), Score(precision=0.13811368689088654, recall=0.09648895789012804, fmeasure=0.10590893954800037), Score(precision=0.15688352625176838, recall=0.1113577147463112, fmeasure=0.11943996131860113), Score(precision=0.1768769168122868, recall=0.12839554574527282, fmeasure=0.13446316674156597), Score(precision=0.13811368689088654, recall=0.09648895789012804, fmeasure=0.10590893954800037), Score(precision=0.15688352625176838, recall=0.1113577147463112, fmeasure=0.11943996131860113), Score(precision=0.1768769168122868, recall=0.12839554574527282, fmeasure=0.13446316674156597), Score(precision=0.13811368689088654, recall=0.09648895789012804, fmeasure=0.10590893954800037), Score(precision=0.15688352625176838, recall=0.1113577147463112, fmeasure=0.11943996131860113), Score(precision=0.1768769168122868, recall=0.12839554574527282, fmeasure=0.13446316674156597), Score(precision=0.13811368689088654, recall=0.09648895789012804, fmeasure=0.10590893954800037), Score(precision=0.15688352625176838, recall=0.1113577147463112, fmeasure=0.11943996131860113), Score(precision=0.1768769168122868, recall=0.12839554574527282, fmeasure=0.13446316674156597), Score(precision=0.13811368689088654, recall=0.09648895789012804, fmeasure=0.10590893954800037), Score(precision=0.15688352625176838, recall=0.1113577147463112, fmeasure=0.11943996131860113), Score(precision=0.1768769168122868, recall=0.12839554574527282, fmeasure=0.13446316674156597), Score(precision=0.13811368689088654, recall=0.09648895789012804, fmeasure=0.10590893954800037), Score(precision=0.15688352625176838, recall=0.1113577147463112, fmeasure=0.11943996131860113), Score(precision=0.1768769168122868, recall=0.12839554574527282, fmeasure=0.13446316674156597), Score(precision=0.13811368689088654, recall=0.09648895789012804, fmeasure=0.10590893954800037), Score(precision=0.15688352625176838, recall=0.1113577147463112, fmeasure=0.11943996131860113), Score(precision=0.1768769168122868, recall=0.12839554574527282, fmeasure=0.13446316674156597), Score(precision=0.13811368689088654, recall=0.09648895789012804, fmeasure=0.10590893954800037), Score(precision=0.15688352625176838, recall=0.1113577147463112, fmeasure=0.11943996131860113), Score(precision=0.1768769168122868, recall=0.12839554574527282, fmeasure=0.13446316674156597), Score(precision=0.13811368689088654, recall=0.09648895789012804, fmeasure=0.10590893954800037), Score(precision=0.15688352625176838, recall=0.1113577147463112, fmeasure=0.11943996131860113), Score(precision=0.1768769168122868, recall=0.12839554574527282, fmeasure=0.13446316674156597), Score(precision=0.13811368689088654, recall=0.09648895789012804, fmeasure=0.10590893954800037), Score(precision=0.15688352625176838, recall=0.1113577147463112, fmeasure=0.11943996131860113), Score(precision=0.1768769168122868, recall=0.12839554574527282, fmeasure=0.13446316674156597), Score(precision=0.13811368689088654, recall=0.09648895789012804, fmeasure=0.10590893954800037), Score(precision=0.15688352625176838, recall=0.1113577147463112, fmeasure=0.11943996131860113), Score(precision=0.1768769168122868, recall=0.12839554574527282, fmeasure=0.13446316674156597), Score(precision=0.13811368689088654, recall=0.09648895789012804, fmeasure=0.10590893954800037), Score(precision=0.15688352625176838, recall=0.1113577147463112, fmeasure=0.11943996131860113), Score(precision=0.1768769168122868, recall=0.12839554574527282, fmeasure=0.13446316674156597), Score(precision=0.13811368689088654, recall=0.09648895789012804, fmeasure=0.10590893954800037), Score(precision=0.15688352625176838, recall=0.1113577147463112, fmeasure=0.11943996131860113), Score(precision=0.1768769168122868, recall=0.12839554574527282, fmeasure=0.13446316674156597), Score(precision=0.13811368689088654, recall=0.09648895789012804, fmeasure=0.10590893954800037), Score(precision=0.15688352625176838, recall=0.1113577147463112, fmeasure=0.11943996131860113), Score(precision=0.1768769168122868, recall=0.12839554574527282, fmeasure=0.13446316674156597), Score(precision=0.13811368689088654, recall=0.09648895789012804, fmeasure=0.10590893954800037), Score(precision=0.15688352625176838, recall=0.1113577147463112, fmeasure=0.11943996131860113), Score(precision=0.1768769168122868, recall=0.12839554574527282, fmeasure=0.13446316674156597), Score(precision=0.13811368689088654, recall=0.09648895789012804, fmeasure=0.10590893954800037), Score(precision=0.15688352625176838, recall=0.1113577147463112, fmeasure=0.11943996131860113), Score(precision=0.1768769168122868, recall=0.12839554574527282, fmeasure=0.13446316674156597), Score(precision=0.13811368689088654, recall=0.09648895789012804, fmeasure=0.10590893954800037), Score(precision=0.15688352625176838, recall=0.1113577147463112, fmeasure=0.11943996131860113), Score(precision=0.1768769168122868, recall=0.12839554574527282, fmeasure=0.13446316674156597), Score(precision=0.13811368689088654, recall=0.09648895789012804, fmeasure=0.10590893954800037), Score(precision=0.15688352625176838, recall=0.1113577147463112, fmeasure=0.11943996131860113), Score(precision=0.1768769168122868, recall=0.12839554574527282, fmeasure=0.13446316674156597), Score(precision=0.13811368689088654, recall=0.09648895789012804, fmeasure=0.10590893954800037), Score(precision=0.15688352625176838, recall=0.1113577147463112, fmeasure=0.11943996131860113), Score(precision=0.1768769168122868, recall=0.12839554574527282, fmeasure=0.13446316674156597), Score(precision=0.13811368689088654, recall=0.09648895789012804, fmeasure=0.10590893954800037), Score(precision=0.15688352625176838, recall=0.1113577147463112, fmeasure=0.11943996131860113), Score(precision=0.1768769168122868, recall=0.12839554574527282, fmeasure=0.13446316674156597), Score(precision=0.13811368689088654, recall=0.09648895789012804, fmeasure=0.10590893954800037), Score(precision=0.15688352625176838, recall=0.1113577147463112, fmeasure=0.11943996131860113), Score(precision=0.1768769168122868, recall=0.12839554574527282, fmeasure=0.13446316674156597), Score(precision=0.13811368689088654, recall=0.09648895789012804, fmeasure=0.10590893954800037), Score(precision=0.15688352625176838, recall=0.1113577147463112, fmeasure=0.11943996131860113), Score(precision=0.1768769168122868, recall=0.12839554574527282, fmeasure=0.13446316674156597), Score(precision=0.13811368689088654, recall=0.09648895789012804, fmeasure=0.10590893954800037), Score(precision=0.15688352625176838, recall=0.1113577147463112, fmeasure=0.11943996131860113), Score(precision=0.1768769168122868, recall=0.12839554574527282, fmeasure=0.13446316674156597), Score(precision=0.13811368689088654, recall=0.09648895789012804, fmeasure=0.10590893954800037), Score(precision=0.15688352625176838, recall=0.1113577147463112, fmeasure=0.11943996131860113), Score(precision=0.1768769168122868, recall=0.12839554574527282, fmeasure=0.13446316674156597), Score(precision=0.13811368689088654, recall=0.09648895789012804, fmeasure=0.10590893954800037), Score(precision=0.15688352625176838, recall=0.1113577147463112, fmeasure=0.11943996131860113), Score(precision=0.1768769168122868, recall=0.12839554574527282, fmeasure=0.13446316674156597), Score(precision=0.13811368689088654, recall=0.09648895789012804, fmeasure=0.10590893954800037), Score(precision=0.15688352625176838, recall=0.1113577147463112, fmeasure=0.11943996131860113), Score(precision=0.1768769168122868, recall=0.12839554574527282, fmeasure=0.13446316674156597)), 'rougeLsum': (Score(precision=0.19160754744418387, recall=0.13220095353810493, fmeasure=0.14630727583215913), Score(precision=0.2211995207693365, recall=0.14927761752706828, fmeasure=0.16581303495902733), Score(precision=0.25141267565574726, recall=0.16947705950310263, fmeasure=0.18785955356031384), Score(precision=0.19160754744418387, recall=0.13220095353810493, fmeasure=0.14630727583215913), Score(precision=0.2211995207693365, recall=0.14927761752706828, fmeasure=0.16581303495902733), Score(precision=0.25141267565574726, recall=0.16947705950310263, fmeasure=0.18785955356031384), Score(precision=0.19160754744418387, recall=0.13220095353810493, fmeasure=0.14630727583215913), Score(precision=0.2211995207693365, recall=0.14927761752706828, fmeasure=0.16581303495902733), Score(precision=0.25141267565574726, recall=0.16947705950310263, fmeasure=0.18785955356031384), Score(precision=0.19160754744418387, recall=0.13220095353810493, fmeasure=0.14630727583215913), Score(precision=0.2211995207693365, recall=0.14927761752706828, fmeasure=0.16581303495902733), Score(precision=0.25141267565574726, recall=0.16947705950310263, fmeasure=0.18785955356031384), Score(precision=0.19160754744418387, recall=0.13220095353810493, fmeasure=0.14630727583215913), Score(precision=0.2211995207693365, recall=0.14927761752706828, fmeasure=0.16581303495902733), Score(precision=0.25141267565574726, recall=0.16947705950310263, fmeasure=0.18785955356031384), Score(precision=0.19160754744418387, recall=0.13220095353810493, fmeasure=0.14630727583215913), Score(precision=0.2211995207693365, recall=0.14927761752706828, fmeasure=0.16581303495902733), Score(precision=0.25141267565574726, recall=0.16947705950310263, fmeasure=0.18785955356031384), Score(precision=0.19160754744418387, recall=0.13220095353810493, fmeasure=0.14630727583215913), Score(precision=0.2211995207693365, recall=0.14927761752706828, fmeasure=0.16581303495902733), Score(precision=0.25141267565574726, recall=0.16947705950310263, fmeasure=0.18785955356031384), Score(precision=0.19160754744418387, recall=0.13220095353810493, fmeasure=0.14630727583215913), Score(precision=0.2211995207693365, recall=0.14927761752706828, fmeasure=0.16581303495902733), Score(precision=0.25141267565574726, recall=0.16947705950310263, fmeasure=0.18785955356031384), Score(precision=0.19160754744418387, recall=0.13220095353810493, fmeasure=0.14630727583215913), Score(precision=0.2211995207693365, recall=0.14927761752706828, fmeasure=0.16581303495902733), Score(precision=0.25141267565574726, recall=0.16947705950310263, fmeasure=0.18785955356031384), Score(precision=0.19160754744418387, recall=0.13220095353810493, fmeasure=0.14630727583215913), Score(precision=0.2211995207693365, recall=0.14927761752706828, fmeasure=0.16581303495902733), Score(precision=0.25141267565574726, recall=0.16947705950310263, fmeasure=0.18785955356031384), Score(precision=0.19160754744418387, recall=0.13220095353810493, fmeasure=0.14630727583215913), Score(precision=0.2211995207693365, recall=0.14927761752706828, fmeasure=0.16581303495902733), Score(precision=0.25141267565574726, recall=0.16947705950310263, fmeasure=0.18785955356031384), Score(precision=0.19160754744418387, recall=0.13220095353810493, fmeasure=0.14630727583215913), Score(precision=0.2211995207693365, recall=0.14927761752706828, fmeasure=0.16581303495902733), Score(precision=0.25141267565574726, recall=0.16947705950310263, fmeasure=0.18785955356031384), Score(precision=0.19160754744418387, recall=0.13220095353810493, fmeasure=0.14630727583215913), Score(precision=0.2211995207693365, recall=0.14927761752706828, fmeasure=0.16581303495902733), Score(precision=0.25141267565574726, recall=0.16947705950310263, fmeasure=0.18785955356031384), Score(precision=0.19160754744418387, recall=0.13220095353810493, fmeasure=0.14630727583215913), Score(precision=0.2211995207693365, recall=0.14927761752706828, fmeasure=0.16581303495902733), Score(precision=0.25141267565574726, recall=0.16947705950310263, fmeasure=0.18785955356031384), Score(precision=0.19160754744418387, recall=0.13220095353810493, fmeasure=0.14630727583215913), Score(precision=0.2211995207693365, recall=0.14927761752706828, fmeasure=0.16581303495902733), Score(precision=0.25141267565574726, recall=0.16947705950310263, fmeasure=0.18785955356031384), Score(precision=0.19160754744418387, recall=0.13220095353810493, fmeasure=0.14630727583215913), Score(precision=0.2211995207693365, recall=0.14927761752706828, fmeasure=0.16581303495902733), Score(precision=0.25141267565574726, recall=0.16947705950310263, fmeasure=0.18785955356031384), Score(precision=0.19160754744418387, recall=0.13220095353810493, fmeasure=0.14630727583215913), Score(precision=0.2211995207693365, recall=0.14927761752706828, fmeasure=0.16581303495902733), Score(precision=0.25141267565574726, recall=0.16947705950310263, fmeasure=0.18785955356031384), Score(precision=0.19160754744418387, recall=0.13220095353810493, fmeasure=0.14630727583215913), Score(precision=0.2211995207693365, recall=0.14927761752706828, fmeasure=0.16581303495902733), Score(precision=0.25141267565574726, recall=0.16947705950310263, fmeasure=0.18785955356031384), Score(precision=0.19160754744418387, recall=0.13220095353810493, fmeasure=0.14630727583215913), Score(precision=0.2211995207693365, recall=0.14927761752706828, fmeasure=0.16581303495902733), Score(precision=0.25141267565574726, recall=0.16947705950310263, fmeasure=0.18785955356031384), Score(precision=0.19160754744418387, recall=0.13220095353810493, fmeasure=0.14630727583215913), Score(precision=0.2211995207693365, recall=0.14927761752706828, fmeasure=0.16581303495902733), Score(precision=0.25141267565574726, recall=0.16947705950310263, fmeasure=0.18785955356031384), Score(precision=0.19160754744418387, recall=0.13220095353810493, fmeasure=0.14630727583215913), Score(precision=0.2211995207693365, recall=0.14927761752706828, fmeasure=0.16581303495902733), Score(precision=0.25141267565574726, recall=0.16947705950310263, fmeasure=0.18785955356031384), Score(precision=0.19160754744418387, recall=0.13220095353810493, fmeasure=0.14630727583215913), Score(precision=0.2211995207693365, recall=0.14927761752706828, fmeasure=0.16581303495902733), Score(precision=0.25141267565574726, recall=0.16947705950310263, fmeasure=0.18785955356031384), Score(precision=0.19160754744418387, recall=0.13220095353810493, fmeasure=0.14630727583215913), Score(precision=0.2211995207693365, recall=0.14927761752706828, fmeasure=0.16581303495902733), Score(precision=0.25141267565574726, recall=0.16947705950310263, fmeasure=0.18785955356031384), Score(precision=0.19160754744418387, recall=0.13220095353810493, fmeasure=0.14630727583215913), Score(precision=0.2211995207693365, recall=0.14927761752706828, fmeasure=0.16581303495902733), Score(precision=0.25141267565574726, recall=0.16947705950310263, fmeasure=0.18785955356031384), Score(precision=0.19160754744418387, recall=0.13220095353810493, fmeasure=0.14630727583215913), Score(precision=0.2211995207693365, recall=0.14927761752706828, fmeasure=0.16581303495902733), Score(precision=0.25141267565574726, recall=0.16947705950310263, fmeasure=0.18785955356031384), Score(precision=0.19160754744418387, recall=0.13220095353810493, fmeasure=0.14630727583215913), Score(precision=0.2211995207693365, recall=0.14927761752706828, fmeasure=0.16581303495902733), Score(precision=0.25141267565574726, recall=0.16947705950310263, fmeasure=0.18785955356031384), Score(precision=0.19160754744418387, recall=0.13220095353810493, fmeasure=0.14630727583215913), Score(precision=0.2211995207693365, recall=0.14927761752706828, fmeasure=0.16581303495902733), Score(precision=0.25141267565574726, recall=0.16947705950310263, fmeasure=0.18785955356031384), Score(precision=0.19160754744418387, recall=0.13220095353810493, fmeasure=0.14630727583215913), Score(precision=0.2211995207693365, recall=0.14927761752706828, fmeasure=0.16581303495902733), Score(precision=0.25141267565574726, recall=0.16947705950310263, fmeasure=0.18785955356031384), Score(precision=0.19160754744418387, recall=0.13220095353810493, fmeasure=0.14630727583215913), Score(precision=0.2211995207693365, recall=0.14927761752706828, fmeasure=0.16581303495902733), Score(precision=0.25141267565574726, recall=0.16947705950310263, fmeasure=0.18785955356031384), Score(precision=0.19160754744418387, recall=0.13220095353810493, fmeasure=0.14630727583215913), Score(precision=0.2211995207693365, recall=0.14927761752706828, fmeasure=0.16581303495902733), Score(precision=0.25141267565574726, recall=0.16947705950310263, fmeasure=0.18785955356031384), Score(precision=0.19160754744418387, recall=0.13220095353810493, fmeasure=0.14630727583215913), Score(precision=0.2211995207693365, recall=0.14927761752706828, fmeasure=0.16581303495902733), Score(precision=0.25141267565574726, recall=0.16947705950310263, fmeasure=0.18785955356031384), Score(precision=0.19160754744418387, recall=0.13220095353810493, fmeasure=0.14630727583215913), Score(precision=0.2211995207693365, recall=0.14927761752706828, fmeasure=0.16581303495902733), Score(precision=0.25141267565574726, recall=0.16947705950310263, fmeasure=0.18785955356031384), Score(precision=0.19160754744418387, recall=0.13220095353810493, fmeasure=0.14630727583215913), Score(precision=0.2211995207693365, recall=0.14927761752706828, fmeasure=0.16581303495902733), Score(precision=0.25141267565574726, recall=0.16947705950310263, fmeasure=0.18785955356031384), Score(precision=0.19160754744418387, recall=0.13220095353810493, fmeasure=0.14630727583215913), Score(precision=0.2211995207693365, recall=0.14927761752706828, fmeasure=0.16581303495902733), Score(precision=0.25141267565574726, recall=0.16947705950310263, fmeasure=0.18785955356031384), Score(precision=0.19160754744418387, recall=0.13220095353810493, fmeasure=0.14630727583215913), Score(precision=0.2211995207693365, recall=0.14927761752706828, fmeasure=0.16581303495902733), Score(precision=0.25141267565574726, recall=0.16947705950310263, fmeasure=0.18785955356031384), Score(precision=0.19160754744418387, recall=0.13220095353810493, fmeasure=0.14630727583215913), Score(precision=0.2211995207693365, recall=0.14927761752706828, fmeasure=0.16581303495902733), Score(precision=0.25141267565574726, recall=0.16947705950310263, fmeasure=0.18785955356031384), Score(precision=0.19160754744418387, recall=0.13220095353810493, fmeasure=0.14630727583215913), Score(precision=0.2211995207693365, recall=0.14927761752706828, fmeasure=0.16581303495902733), Score(precision=0.25141267565574726, recall=0.16947705950310263, fmeasure=0.18785955356031384), Score(precision=0.19160754744418387, recall=0.13220095353810493, fmeasure=0.14630727583215913), Score(precision=0.2211995207693365, recall=0.14927761752706828, fmeasure=0.16581303495902733), Score(precision=0.25141267565574726, recall=0.16947705950310263, fmeasure=0.18785955356031384), Score(precision=0.19160754744418387, recall=0.13220095353810493, fmeasure=0.14630727583215913), Score(precision=0.2211995207693365, recall=0.14927761752706828, fmeasure=0.16581303495902733), Score(precision=0.25141267565574726, recall=0.16947705950310263, fmeasure=0.18785955356031384), Score(precision=0.19160754744418387, recall=0.13220095353810493, fmeasure=0.14630727583215913), Score(precision=0.2211995207693365, recall=0.14927761752706828, fmeasure=0.16581303495902733), Score(precision=0.25141267565574726, recall=0.16947705950310263, fmeasure=0.18785955356031384), Score(precision=0.19160754744418387, recall=0.13220095353810493, fmeasure=0.14630727583215913), Score(precision=0.2211995207693365, recall=0.14927761752706828, fmeasure=0.16581303495902733), Score(precision=0.25141267565574726, recall=0.16947705950310263, fmeasure=0.18785955356031384), Score(precision=0.19160754744418387, recall=0.13220095353810493, fmeasure=0.14630727583215913), Score(precision=0.2211995207693365, recall=0.14927761752706828, fmeasure=0.16581303495902733), Score(precision=0.25141267565574726, recall=0.16947705950310263, fmeasure=0.18785955356031384), Score(precision=0.19160754744418387, recall=0.13220095353810493, fmeasure=0.14630727583215913), Score(precision=0.2211995207693365, recall=0.14927761752706828, fmeasure=0.16581303495902733), Score(precision=0.25141267565574726, recall=0.16947705950310263, fmeasure=0.18785955356031384), Score(precision=0.19160754744418387, recall=0.13220095353810493, fmeasure=0.14630727583215913), Score(precision=0.2211995207693365, recall=0.14927761752706828, fmeasure=0.16581303495902733), Score(precision=0.25141267565574726, recall=0.16947705950310263, fmeasure=0.18785955356031384), Score(precision=0.19160754744418387, recall=0.13220095353810493, fmeasure=0.14630727583215913), Score(precision=0.2211995207693365, recall=0.14927761752706828, fmeasure=0.16581303495902733), Score(precision=0.25141267565574726, recall=0.16947705950310263, fmeasure=0.18785955356031384), Score(precision=0.19160754744418387, recall=0.13220095353810493, fmeasure=0.14630727583215913), Score(precision=0.2211995207693365, recall=0.14927761752706828, fmeasure=0.16581303495902733), Score(precision=0.25141267565574726, recall=0.16947705950310263, fmeasure=0.18785955356031384), Score(precision=0.19160754744418387, recall=0.13220095353810493, fmeasure=0.14630727583215913), Score(precision=0.2211995207693365, recall=0.14927761752706828, fmeasure=0.16581303495902733), Score(precision=0.25141267565574726, recall=0.16947705950310263, fmeasure=0.18785955356031384), Score(precision=0.19160754744418387, recall=0.13220095353810493, fmeasure=0.14630727583215913), Score(precision=0.2211995207693365, recall=0.14927761752706828, fmeasure=0.16581303495902733), Score(precision=0.25141267565574726, recall=0.16947705950310263, fmeasure=0.18785955356031384), Score(precision=0.19160754744418387, recall=0.13220095353810493, fmeasure=0.14630727583215913), Score(precision=0.2211995207693365, recall=0.14927761752706828, fmeasure=0.16581303495902733), Score(precision=0.25141267565574726, recall=0.16947705950310263, fmeasure=0.18785955356031384), Score(precision=0.19160754744418387, recall=0.13220095353810493, fmeasure=0.14630727583215913), Score(precision=0.2211995207693365, recall=0.14927761752706828, fmeasure=0.16581303495902733), Score(precision=0.25141267565574726, recall=0.16947705950310263, fmeasure=0.18785955356031384), Score(precision=0.19160754744418387, recall=0.13220095353810493, fmeasure=0.14630727583215913), Score(precision=0.2211995207693365, recall=0.14927761752706828, fmeasure=0.16581303495902733), Score(precision=0.25141267565574726, recall=0.16947705950310263, fmeasure=0.18785955356031384), Score(precision=0.19160754744418387, recall=0.13220095353810493, fmeasure=0.14630727583215913), Score(precision=0.2211995207693365, recall=0.14927761752706828, fmeasure=0.16581303495902733), Score(precision=0.25141267565574726, recall=0.16947705950310263, fmeasure=0.18785955356031384), Score(precision=0.19160754744418387, recall=0.13220095353810493, fmeasure=0.14630727583215913), Score(precision=0.2211995207693365, recall=0.14927761752706828, fmeasure=0.16581303495902733), Score(precision=0.25141267565574726, recall=0.16947705950310263, fmeasure=0.18785955356031384), Score(precision=0.19160754744418387, recall=0.13220095353810493, fmeasure=0.14630727583215913), Score(precision=0.2211995207693365, recall=0.14927761752706828, fmeasure=0.16581303495902733), Score(precision=0.25141267565574726, recall=0.16947705950310263, fmeasure=0.18785955356031384), Score(precision=0.19160754744418387, recall=0.13220095353810493, fmeasure=0.14630727583215913), Score(precision=0.2211995207693365, recall=0.14927761752706828, fmeasure=0.16581303495902733), Score(precision=0.25141267565574726, recall=0.16947705950310263, fmeasure=0.18785955356031384), Score(precision=0.19160754744418387, recall=0.13220095353810493, fmeasure=0.14630727583215913), Score(precision=0.2211995207693365, recall=0.14927761752706828, fmeasure=0.16581303495902733), Score(precision=0.25141267565574726, recall=0.16947705950310263, fmeasure=0.18785955356031384), Score(precision=0.19160754744418387, recall=0.13220095353810493, fmeasure=0.14630727583215913), Score(precision=0.2211995207693365, recall=0.14927761752706828, fmeasure=0.16581303495902733), Score(precision=0.25141267565574726, recall=0.16947705950310263, fmeasure=0.18785955356031384), Score(precision=0.19160754744418387, recall=0.13220095353810493, fmeasure=0.14630727583215913), Score(precision=0.2211995207693365, recall=0.14927761752706828, fmeasure=0.16581303495902733), Score(precision=0.25141267565574726, recall=0.16947705950310263, fmeasure=0.18785955356031384), Score(precision=0.19160754744418387, recall=0.13220095353810493, fmeasure=0.14630727583215913), Score(precision=0.2211995207693365, recall=0.14927761752706828, fmeasure=0.16581303495902733), Score(precision=0.25141267565574726, recall=0.16947705950310263, fmeasure=0.18785955356031384), Score(precision=0.19160754744418387, recall=0.13220095353810493, fmeasure=0.14630727583215913), Score(precision=0.2211995207693365, recall=0.14927761752706828, fmeasure=0.16581303495902733), Score(precision=0.25141267565574726, recall=0.16947705950310263, fmeasure=0.18785955356031384), Score(precision=0.19160754744418387, recall=0.13220095353810493, fmeasure=0.14630727583215913), Score(precision=0.2211995207693365, recall=0.14927761752706828, fmeasure=0.16581303495902733), Score(precision=0.25141267565574726, recall=0.16947705950310263, fmeasure=0.18785955356031384), Score(precision=0.19160754744418387, recall=0.13220095353810493, fmeasure=0.14630727583215913), Score(precision=0.2211995207693365, recall=0.14927761752706828, fmeasure=0.16581303495902733), Score(precision=0.25141267565574726, recall=0.16947705950310263, fmeasure=0.18785955356031384), Score(precision=0.19160754744418387, recall=0.13220095353810493, fmeasure=0.14630727583215913), Score(precision=0.2211995207693365, recall=0.14927761752706828, fmeasure=0.16581303495902733), Score(precision=0.25141267565574726, recall=0.16947705950310263, fmeasure=0.18785955356031384), Score(precision=0.19160754744418387, recall=0.13220095353810493, fmeasure=0.14630727583215913), Score(precision=0.2211995207693365, recall=0.14927761752706828, fmeasure=0.16581303495902733), Score(precision=0.25141267565574726, recall=0.16947705950310263, fmeasure=0.18785955356031384), Score(precision=0.19160754744418387, recall=0.13220095353810493, fmeasure=0.14630727583215913), Score(precision=0.2211995207693365, recall=0.14927761752706828, fmeasure=0.16581303495902733), Score(precision=0.25141267565574726, recall=0.16947705950310263, fmeasure=0.18785955356031384), Score(precision=0.19160754744418387, recall=0.13220095353810493, fmeasure=0.14630727583215913), Score(precision=0.2211995207693365, recall=0.14927761752706828, fmeasure=0.16581303495902733), Score(precision=0.25141267565574726, recall=0.16947705950310263, fmeasure=0.18785955356031384), Score(precision=0.19160754744418387, recall=0.13220095353810493, fmeasure=0.14630727583215913), Score(precision=0.2211995207693365, recall=0.14927761752706828, fmeasure=0.16581303495902733), Score(precision=0.25141267565574726, recall=0.16947705950310263, fmeasure=0.18785955356031384), Score(precision=0.19160754744418387, recall=0.13220095353810493, fmeasure=0.14630727583215913), Score(precision=0.2211995207693365, recall=0.14927761752706828, fmeasure=0.16581303495902733), Score(precision=0.25141267565574726, recall=0.16947705950310263, fmeasure=0.18785955356031384), Score(precision=0.19160754744418387, recall=0.13220095353810493, fmeasure=0.14630727583215913), Score(precision=0.2211995207693365, recall=0.14927761752706828, fmeasure=0.16581303495902733), Score(precision=0.25141267565574726, recall=0.16947705950310263, fmeasure=0.18785955356031384), Score(precision=0.19160754744418387, recall=0.13220095353810493, fmeasure=0.14630727583215913), Score(precision=0.2211995207693365, recall=0.14927761752706828, fmeasure=0.16581303495902733), Score(precision=0.25141267565574726, recall=0.16947705950310263, fmeasure=0.18785955356031384), Score(precision=0.19160754744418387, recall=0.13220095353810493, fmeasure=0.14630727583215913), Score(precision=0.2211995207693365, recall=0.14927761752706828, fmeasure=0.16581303495902733), Score(precision=0.25141267565574726, recall=0.16947705950310263, fmeasure=0.18785955356031384), Score(precision=0.19160754744418387, recall=0.13220095353810493, fmeasure=0.14630727583215913), Score(precision=0.2211995207693365, recall=0.14927761752706828, fmeasure=0.16581303495902733), Score(precision=0.25141267565574726, recall=0.16947705950310263, fmeasure=0.18785955356031384), Score(precision=0.19160754744418387, recall=0.13220095353810493, fmeasure=0.14630727583215913), Score(precision=0.2211995207693365, recall=0.14927761752706828, fmeasure=0.16581303495902733), Score(precision=0.25141267565574726, recall=0.16947705950310263, fmeasure=0.18785955356031384), Score(precision=0.19160754744418387, recall=0.13220095353810493, fmeasure=0.14630727583215913), Score(precision=0.2211995207693365, recall=0.14927761752706828, fmeasure=0.16581303495902733), Score(precision=0.25141267565574726, recall=0.16947705950310263, fmeasure=0.18785955356031384), Score(precision=0.19160754744418387, recall=0.13220095353810493, fmeasure=0.14630727583215913), Score(precision=0.2211995207693365, recall=0.14927761752706828, fmeasure=0.16581303495902733), Score(precision=0.25141267565574726, recall=0.16947705950310263, fmeasure=0.18785955356031384), Score(precision=0.19160754744418387, recall=0.13220095353810493, fmeasure=0.14630727583215913), Score(precision=0.2211995207693365, recall=0.14927761752706828, fmeasure=0.16581303495902733), Score(precision=0.25141267565574726, recall=0.16947705950310263, fmeasure=0.18785955356031384), Score(precision=0.19160754744418387, recall=0.13220095353810493, fmeasure=0.14630727583215913), Score(precision=0.2211995207693365, recall=0.14927761752706828, fmeasure=0.16581303495902733), Score(precision=0.25141267565574726, recall=0.16947705950310263, fmeasure=0.18785955356031384), Score(precision=0.19160754744418387, recall=0.13220095353810493, fmeasure=0.14630727583215913), Score(precision=0.2211995207693365, recall=0.14927761752706828, fmeasure=0.16581303495902733), Score(precision=0.25141267565574726, recall=0.16947705950310263, fmeasure=0.18785955356031384), Score(precision=0.19160754744418387, recall=0.13220095353810493, fmeasure=0.14630727583215913), Score(precision=0.2211995207693365, recall=0.14927761752706828, fmeasure=0.16581303495902733), Score(precision=0.25141267565574726, recall=0.16947705950310263, fmeasure=0.18785955356031384), Score(precision=0.19160754744418387, recall=0.13220095353810493, fmeasure=0.14630727583215913), Score(precision=0.2211995207693365, recall=0.14927761752706828, fmeasure=0.16581303495902733), Score(precision=0.25141267565574726, recall=0.16947705950310263, fmeasure=0.18785955356031384), Score(precision=0.19160754744418387, recall=0.13220095353810493, fmeasure=0.14630727583215913), Score(precision=0.2211995207693365, recall=0.14927761752706828, fmeasure=0.16581303495902733), Score(precision=0.25141267565574726, recall=0.16947705950310263, fmeasure=0.18785955356031384), Score(precision=0.19160754744418387, recall=0.13220095353810493, fmeasure=0.14630727583215913), Score(precision=0.2211995207693365, recall=0.14927761752706828, fmeasure=0.16581303495902733), Score(precision=0.25141267565574726, recall=0.16947705950310263, fmeasure=0.18785955356031384), Score(precision=0.19160754744418387, recall=0.13220095353810493, fmeasure=0.14630727583215913), Score(precision=0.2211995207693365, recall=0.14927761752706828, fmeasure=0.16581303495902733), Score(precision=0.25141267565574726, recall=0.16947705950310263, fmeasure=0.18785955356031384), Score(precision=0.19160754744418387, recall=0.13220095353810493, fmeasure=0.14630727583215913), Score(precision=0.2211995207693365, recall=0.14927761752706828, fmeasure=0.16581303495902733), Score(precision=0.25141267565574726, recall=0.16947705950310263, fmeasure=0.18785955356031384), Score(precision=0.19160754744418387, recall=0.13220095353810493, fmeasure=0.14630727583215913), Score(precision=0.2211995207693365, recall=0.14927761752706828, fmeasure=0.16581303495902733), Score(precision=0.25141267565574726, recall=0.16947705950310263, fmeasure=0.18785955356031384), Score(precision=0.19160754744418387, recall=0.13220095353810493, fmeasure=0.14630727583215913), Score(precision=0.2211995207693365, recall=0.14927761752706828, fmeasure=0.16581303495902733), Score(precision=0.25141267565574726, recall=0.16947705950310263, fmeasure=0.18785955356031384), Score(precision=0.19160754744418387, recall=0.13220095353810493, fmeasure=0.14630727583215913), Score(precision=0.2211995207693365, recall=0.14927761752706828, fmeasure=0.16581303495902733), Score(precision=0.25141267565574726, recall=0.16947705950310263, fmeasure=0.18785955356031384), Score(precision=0.19160754744418387, recall=0.13220095353810493, fmeasure=0.14630727583215913), Score(precision=0.2211995207693365, recall=0.14927761752706828, fmeasure=0.16581303495902733), Score(precision=0.25141267565574726, recall=0.16947705950310263, fmeasure=0.18785955356031384), Score(precision=0.19160754744418387, recall=0.13220095353810493, fmeasure=0.14630727583215913), Score(precision=0.2211995207693365, recall=0.14927761752706828, fmeasure=0.16581303495902733), Score(precision=0.25141267565574726, recall=0.16947705950310263, fmeasure=0.18785955356031384), Score(precision=0.19160754744418387, recall=0.13220095353810493, fmeasure=0.14630727583215913), Score(precision=0.2211995207693365, recall=0.14927761752706828, fmeasure=0.16581303495902733), Score(precision=0.25141267565574726, recall=0.16947705950310263, fmeasure=0.18785955356031384), Score(precision=0.19160754744418387, recall=0.13220095353810493, fmeasure=0.14630727583215913), Score(precision=0.2211995207693365, recall=0.14927761752706828, fmeasure=0.16581303495902733), Score(precision=0.25141267565574726, recall=0.16947705950310263, fmeasure=0.18785955356031384), Score(precision=0.19160754744418387, recall=0.13220095353810493, fmeasure=0.14630727583215913), Score(precision=0.2211995207693365, recall=0.14927761752706828, fmeasure=0.16581303495902733), Score(precision=0.25141267565574726, recall=0.16947705950310263, fmeasure=0.18785955356031384), Score(precision=0.19160754744418387, recall=0.13220095353810493, fmeasure=0.14630727583215913), Score(precision=0.2211995207693365, recall=0.14927761752706828, fmeasure=0.16581303495902733), Score(precision=0.25141267565574726, recall=0.16947705950310263, fmeasure=0.18785955356031384), Score(precision=0.19160754744418387, recall=0.13220095353810493, fmeasure=0.14630727583215913), Score(precision=0.2211995207693365, recall=0.14927761752706828, fmeasure=0.16581303495902733), Score(precision=0.25141267565574726, recall=0.16947705950310263, fmeasure=0.18785955356031384), Score(precision=0.19160754744418387, recall=0.13220095353810493, fmeasure=0.14630727583215913), Score(precision=0.2211995207693365, recall=0.14927761752706828, fmeasure=0.16581303495902733), Score(precision=0.25141267565574726, recall=0.16947705950310263, fmeasure=0.18785955356031384), Score(precision=0.19160754744418387, recall=0.13220095353810493, fmeasure=0.14630727583215913), Score(precision=0.2211995207693365, recall=0.14927761752706828, fmeasure=0.16581303495902733), Score(precision=0.25141267565574726, recall=0.16947705950310263, fmeasure=0.18785955356031384), Score(precision=0.19160754744418387, recall=0.13220095353810493, fmeasure=0.14630727583215913), Score(precision=0.2211995207693365, recall=0.14927761752706828, fmeasure=0.16581303495902733), Score(precision=0.25141267565574726, recall=0.16947705950310263, fmeasure=0.18785955356031384), Score(precision=0.19160754744418387, recall=0.13220095353810493, fmeasure=0.14630727583215913), Score(precision=0.2211995207693365, recall=0.14927761752706828, fmeasure=0.16581303495902733), Score(precision=0.25141267565574726, recall=0.16947705950310263, fmeasure=0.18785955356031384), Score(precision=0.19160754744418387, recall=0.13220095353810493, fmeasure=0.14630727583215913), Score(precision=0.2211995207693365, recall=0.14927761752706828, fmeasure=0.16581303495902733), Score(precision=0.25141267565574726, recall=0.16947705950310263, fmeasure=0.18785955356031384), Score(precision=0.19160754744418387, recall=0.13220095353810493, fmeasure=0.14630727583215913), Score(precision=0.2211995207693365, recall=0.14927761752706828, fmeasure=0.16581303495902733), Score(precision=0.25141267565574726, recall=0.16947705950310263, fmeasure=0.18785955356031384)), 'gen_len': 139.34666666666666}\n"
     ]
    },
    {
     "ename": "TypeError",
     "evalue": "type tuple doesn't define __round__ method",
     "output_type": "error",
     "traceback": [
      "\u001b[0;31m---------------------------------------------------------------------------\u001b[0m",
      "\u001b[0;31mTypeError\u001b[0m                                 Traceback (most recent call last)",
      "Cell \u001b[0;32mIn[46], line 1\u001b[0m\n\u001b[0;32m----> 1\u001b[0m outputs \u001b[38;5;241m=\u001b[39m \u001b[43mtrainer\u001b[49m\u001b[38;5;241;43m.\u001b[39;49m\u001b[43mpredict\u001b[49m\u001b[43m(\u001b[49m\u001b[43mprocessed_dataset\u001b[49m\u001b[43m[\u001b[49m\u001b[38;5;124;43m\"\u001b[39;49m\u001b[38;5;124;43mtest\u001b[39;49m\u001b[38;5;124;43m\"\u001b[39;49m\u001b[43m]\u001b[49m\u001b[43m)\u001b[49m\n",
      "File \u001b[0;32m/gpfs/milgram/project/rtaylor/vs428/conda_envs/dischargeme/lib/python3.10/site-packages/transformers/trainer_seq2seq.py:216\u001b[0m, in \u001b[0;36mSeq2SeqTrainer.predict\u001b[0;34m(self, test_dataset, ignore_keys, metric_key_prefix, **gen_kwargs)\u001b[0m\n\u001b[1;32m    211\u001b[0m gen_kwargs[\u001b[38;5;124m\"\u001b[39m\u001b[38;5;124mnum_beams\u001b[39m\u001b[38;5;124m\"\u001b[39m] \u001b[38;5;241m=\u001b[39m (\n\u001b[1;32m    212\u001b[0m     gen_kwargs[\u001b[38;5;124m\"\u001b[39m\u001b[38;5;124mnum_beams\u001b[39m\u001b[38;5;124m\"\u001b[39m] \u001b[38;5;28;01mif\u001b[39;00m gen_kwargs\u001b[38;5;241m.\u001b[39mget(\u001b[38;5;124m\"\u001b[39m\u001b[38;5;124mnum_beams\u001b[39m\u001b[38;5;124m\"\u001b[39m) \u001b[38;5;129;01mis\u001b[39;00m \u001b[38;5;129;01mnot\u001b[39;00m \u001b[38;5;28;01mNone\u001b[39;00m \u001b[38;5;28;01melse\u001b[39;00m \u001b[38;5;28mself\u001b[39m\u001b[38;5;241m.\u001b[39margs\u001b[38;5;241m.\u001b[39mgeneration_num_beams\n\u001b[1;32m    213\u001b[0m )\n\u001b[1;32m    214\u001b[0m \u001b[38;5;28mself\u001b[39m\u001b[38;5;241m.\u001b[39m_gen_kwargs \u001b[38;5;241m=\u001b[39m gen_kwargs\n\u001b[0;32m--> 216\u001b[0m \u001b[38;5;28;01mreturn\u001b[39;00m \u001b[38;5;28;43msuper\u001b[39;49m\u001b[43m(\u001b[49m\u001b[43m)\u001b[49m\u001b[38;5;241;43m.\u001b[39;49m\u001b[43mpredict\u001b[49m\u001b[43m(\u001b[49m\u001b[43mtest_dataset\u001b[49m\u001b[43m,\u001b[49m\u001b[43m \u001b[49m\u001b[43mignore_keys\u001b[49m\u001b[38;5;241;43m=\u001b[39;49m\u001b[43mignore_keys\u001b[49m\u001b[43m,\u001b[49m\u001b[43m \u001b[49m\u001b[43mmetric_key_prefix\u001b[49m\u001b[38;5;241;43m=\u001b[39;49m\u001b[43mmetric_key_prefix\u001b[49m\u001b[43m)\u001b[49m\n",
      "File \u001b[0;32m/gpfs/milgram/project/rtaylor/vs428/conda_envs/dischargeme/lib/python3.10/site-packages/transformers/trainer.py:3129\u001b[0m, in \u001b[0;36mTrainer.predict\u001b[0;34m(self, test_dataset, ignore_keys, metric_key_prefix)\u001b[0m\n\u001b[1;32m   3126\u001b[0m start_time \u001b[38;5;241m=\u001b[39m time\u001b[38;5;241m.\u001b[39mtime()\n\u001b[1;32m   3128\u001b[0m eval_loop \u001b[38;5;241m=\u001b[39m \u001b[38;5;28mself\u001b[39m\u001b[38;5;241m.\u001b[39mprediction_loop \u001b[38;5;28;01mif\u001b[39;00m \u001b[38;5;28mself\u001b[39m\u001b[38;5;241m.\u001b[39margs\u001b[38;5;241m.\u001b[39muse_legacy_prediction_loop \u001b[38;5;28;01melse\u001b[39;00m \u001b[38;5;28mself\u001b[39m\u001b[38;5;241m.\u001b[39mevaluation_loop\n\u001b[0;32m-> 3129\u001b[0m output \u001b[38;5;241m=\u001b[39m \u001b[43meval_loop\u001b[49m\u001b[43m(\u001b[49m\n\u001b[1;32m   3130\u001b[0m \u001b[43m    \u001b[49m\u001b[43mtest_dataloader\u001b[49m\u001b[43m,\u001b[49m\u001b[43m \u001b[49m\u001b[43mdescription\u001b[49m\u001b[38;5;241;43m=\u001b[39;49m\u001b[38;5;124;43m\"\u001b[39;49m\u001b[38;5;124;43mPrediction\u001b[39;49m\u001b[38;5;124;43m\"\u001b[39;49m\u001b[43m,\u001b[49m\u001b[43m \u001b[49m\u001b[43mignore_keys\u001b[49m\u001b[38;5;241;43m=\u001b[39;49m\u001b[43mignore_keys\u001b[49m\u001b[43m,\u001b[49m\u001b[43m \u001b[49m\u001b[43mmetric_key_prefix\u001b[49m\u001b[38;5;241;43m=\u001b[39;49m\u001b[43mmetric_key_prefix\u001b[49m\n\u001b[1;32m   3131\u001b[0m \u001b[43m\u001b[49m\u001b[43m)\u001b[49m\n\u001b[1;32m   3132\u001b[0m total_batch_size \u001b[38;5;241m=\u001b[39m \u001b[38;5;28mself\u001b[39m\u001b[38;5;241m.\u001b[39margs\u001b[38;5;241m.\u001b[39meval_batch_size \u001b[38;5;241m*\u001b[39m \u001b[38;5;28mself\u001b[39m\u001b[38;5;241m.\u001b[39margs\u001b[38;5;241m.\u001b[39mworld_size\n\u001b[1;32m   3133\u001b[0m \u001b[38;5;28;01mif\u001b[39;00m \u001b[38;5;124mf\u001b[39m\u001b[38;5;124m\"\u001b[39m\u001b[38;5;132;01m{\u001b[39;00mmetric_key_prefix\u001b[38;5;132;01m}\u001b[39;00m\u001b[38;5;124m_jit_compilation_time\u001b[39m\u001b[38;5;124m\"\u001b[39m \u001b[38;5;129;01min\u001b[39;00m output\u001b[38;5;241m.\u001b[39mmetrics:\n",
      "File \u001b[0;32m/gpfs/milgram/project/rtaylor/vs428/conda_envs/dischargeme/lib/python3.10/site-packages/transformers/trainer.py:3353\u001b[0m, in \u001b[0;36mTrainer.evaluation_loop\u001b[0;34m(self, dataloader, description, prediction_loss_only, ignore_keys, metric_key_prefix)\u001b[0m\n\u001b[1;32m   3349\u001b[0m         metrics \u001b[38;5;241m=\u001b[39m \u001b[38;5;28mself\u001b[39m\u001b[38;5;241m.\u001b[39mcompute_metrics(\n\u001b[1;32m   3350\u001b[0m             EvalPrediction(predictions\u001b[38;5;241m=\u001b[39mall_preds, label_ids\u001b[38;5;241m=\u001b[39mall_labels, inputs\u001b[38;5;241m=\u001b[39mall_inputs)\n\u001b[1;32m   3351\u001b[0m         )\n\u001b[1;32m   3352\u001b[0m     \u001b[38;5;28;01melse\u001b[39;00m:\n\u001b[0;32m-> 3353\u001b[0m         metrics \u001b[38;5;241m=\u001b[39m \u001b[38;5;28;43mself\u001b[39;49m\u001b[38;5;241;43m.\u001b[39;49m\u001b[43mcompute_metrics\u001b[49m\u001b[43m(\u001b[49m\u001b[43mEvalPrediction\u001b[49m\u001b[43m(\u001b[49m\u001b[43mpredictions\u001b[49m\u001b[38;5;241;43m=\u001b[39;49m\u001b[43mall_preds\u001b[49m\u001b[43m,\u001b[49m\u001b[43m \u001b[49m\u001b[43mlabel_ids\u001b[49m\u001b[38;5;241;43m=\u001b[39;49m\u001b[43mall_labels\u001b[49m\u001b[43m)\u001b[49m\u001b[43m)\u001b[49m\n\u001b[1;32m   3354\u001b[0m \u001b[38;5;28;01melse\u001b[39;00m:\n\u001b[1;32m   3355\u001b[0m     metrics \u001b[38;5;241m=\u001b[39m {}\n",
      "Cell \u001b[0;32mIn[40], line 25\u001b[0m, in \u001b[0;36mcompute_metrics\u001b[0;34m(eval_pred)\u001b[0m\n\u001b[1;32m     23\u001b[0m result[\u001b[38;5;124m\"\u001b[39m\u001b[38;5;124mgen_len\u001b[39m\u001b[38;5;124m\"\u001b[39m] \u001b[38;5;241m=\u001b[39m np\u001b[38;5;241m.\u001b[39mmean(prediction_lens)\n\u001b[1;32m     24\u001b[0m \u001b[38;5;28mprint\u001b[39m(result)\n\u001b[0;32m---> 25\u001b[0m \u001b[38;5;28;01mreturn\u001b[39;00m {k: \u001b[38;5;28mround\u001b[39m(v, \u001b[38;5;241m4\u001b[39m) \u001b[38;5;28;01mfor\u001b[39;00m k, v \u001b[38;5;129;01min\u001b[39;00m result\u001b[38;5;241m.\u001b[39mitems()}\n",
      "Cell \u001b[0;32mIn[40], line 25\u001b[0m, in \u001b[0;36m<dictcomp>\u001b[0;34m(.0)\u001b[0m\n\u001b[1;32m     23\u001b[0m result[\u001b[38;5;124m\"\u001b[39m\u001b[38;5;124mgen_len\u001b[39m\u001b[38;5;124m\"\u001b[39m] \u001b[38;5;241m=\u001b[39m np\u001b[38;5;241m.\u001b[39mmean(prediction_lens)\n\u001b[1;32m     24\u001b[0m \u001b[38;5;28mprint\u001b[39m(result)\n\u001b[0;32m---> 25\u001b[0m \u001b[38;5;28;01mreturn\u001b[39;00m {k: \u001b[38;5;28;43mround\u001b[39;49m\u001b[43m(\u001b[49m\u001b[43mv\u001b[49m\u001b[43m,\u001b[49m\u001b[43m \u001b[49m\u001b[38;5;241;43m4\u001b[39;49m\u001b[43m)\u001b[49m \u001b[38;5;28;01mfor\u001b[39;00m k, v \u001b[38;5;129;01min\u001b[39;00m result\u001b[38;5;241m.\u001b[39mitems()}\n",
      "\u001b[0;31mTypeError\u001b[0m: type tuple doesn't define __round__ method"
     ]
    }
   ],
   "source": [
    "outputs = trainer.predict(processed_dataset[\"test\"])"
   ]
  },
  {
   "cell_type": "code",
   "execution_count": 47,
   "metadata": {},
   "outputs": [
    {
     "ename": "NameError",
     "evalue": "name 'outputs' is not defined",
     "output_type": "error",
     "traceback": [
      "\u001b[0;31m---------------------------------------------------------------------------\u001b[0m",
      "\u001b[0;31mNameError\u001b[0m                                 Traceback (most recent call last)",
      "Cell \u001b[0;32mIn[47], line 1\u001b[0m\n\u001b[0;32m----> 1\u001b[0m \u001b[43moutputs\u001b[49m\n",
      "\u001b[0;31mNameError\u001b[0m: name 'outputs' is not defined"
     ]
    }
   ],
   "source": [
    "outputs"
   ]
  },
  {
   "cell_type": "code",
   "execution_count": null,
   "metadata": {
    "colab": {
     "base_uri": "https://localhost:8080/"
    },
    "id": "zBkhXSSuhmNd",
    "outputId": "b32c83ca-6b47-4b34-bba7-fc088a19d628"
   },
   "outputs": [],
   "source": [
    "metric = load_metric(\"rouge\")"
   ]
  },
  {
   "cell_type": "code",
   "execution_count": null,
   "metadata": {},
   "outputs": [],
   "source": []
  },
  {
   "cell_type": "code",
   "execution_count": null,
   "metadata": {
    "colab": {
     "base_uri": "https://localhost:8080/"
    },
    "id": "cqyb8WFLhmRF",
    "outputId": "6f4a1059-526d-4236-c60d-8a9aa41197a0"
   },
   "outputs": [],
   "source": [
    "# def evaluate(model, dataset):\n",
    "#     all_predictions = []\n",
    "#     all_labels = []\n",
    "#     for batch in tqdm(dataset):\n",
    "#         predictions = model.generate(batch[\"input_ids\"])\n",
    "#         decoded_preds = tokenizer.batch_decode(predictions, skip_special_tokens=True)\n",
    "#         labels = batch[\"labels\"].numpy()\n",
    "#         labels = np.where(labels != -100, labels, tokenizer.pad_token_id)\n",
    "#         decoded_labels = tokenizer.batch_decode(labels, skip_special_tokens=True)\n",
    "#         decoded_preds = [\"\\n\".join(sent_tokenize(pred.strip())) for pred in decoded_preds]\n",
    "#         decoded_labels = [\"\\n\".join(sent_tokenize(label.strip())) for label in decoded_labels]\n",
    "#         all_predictions.extend(decoded_preds)\n",
    "#         all_labels.extend(decoded_labels)\n",
    "#         result = metric.compute(\n",
    "#             predictions=decoded_preds, references=decoded_labels, use_stemmer=True\n",
    "#         )\n",
    "#     result = {key: value.mid.fmeasure * 100 for key, value in result.items()}\n",
    "#     return {k: round(v, 4) for k, v in result.items()}\n",
    "\n",
    "# # results = evaluate(model, processed_dataset[\"test\"])\n"
   ]
  },
  {
   "cell_type": "markdown",
   "metadata": {
    "id": "NsuuACgDkFO_"
   },
   "source": [
    "ROUGE scores"
   ]
  },
  {
   "cell_type": "code",
   "execution_count": null,
   "metadata": {
    "colab": {
     "base_uri": "https://localhost:8080/"
    },
    "id": "XVsSdvychmUk",
    "outputId": "9b22ce35-879b-48e7-898e-a9d6958e3367"
   },
   "outputs": [],
   "source": [
    "print(results)\n",
    "#1 epoch = {'rouge1': 34.0009, 'rouge2': 19.8162, 'rougeL': 27.9357, 'rougeLsum': 32.1849}"
   ]
  }
 ],
 "metadata": {
  "accelerator": "TPU",
  "colab": {
   "machine_shape": "hm",
   "provenance": []
  },
  "kernelspec": {
   "display_name": "Python 3 (ipykernel)",
   "language": "python",
   "name": "python3"
  },
  "language_info": {
   "codemirror_mode": {
    "name": "ipython",
    "version": 3
   },
   "file_extension": ".py",
   "mimetype": "text/x-python",
   "name": "python",
   "nbconvert_exporter": "python",
   "pygments_lexer": "ipython3",
   "version": "3.10.13"
  },
  "widgets": {
   "application/vnd.jupyter.widget-state+json": {
    "09d301cc9bcd4fe8af4f381c910c9a12": {
     "model_module": "@jupyter-widgets/base",
     "model_module_version": "1.2.0",
     "model_name": "LayoutModel",
     "state": {
      "_model_module": "@jupyter-widgets/base",
      "_model_module_version": "1.2.0",
      "_model_name": "LayoutModel",
      "_view_count": null,
      "_view_module": "@jupyter-widgets/base",
      "_view_module_version": "1.2.0",
      "_view_name": "LayoutView",
      "align_content": null,
      "align_items": null,
      "align_self": null,
      "border": null,
      "bottom": null,
      "display": null,
      "flex": null,
      "flex_flow": null,
      "grid_area": null,
      "grid_auto_columns": null,
      "grid_auto_flow": null,
      "grid_auto_rows": null,
      "grid_column": null,
      "grid_gap": null,
      "grid_row": null,
      "grid_template_areas": null,
      "grid_template_columns": null,
      "grid_template_rows": null,
      "height": null,
      "justify_content": null,
      "justify_items": null,
      "left": null,
      "margin": null,
      "max_height": null,
      "max_width": null,
      "min_height": null,
      "min_width": null,
      "object_fit": null,
      "object_position": null,
      "order": null,
      "overflow": null,
      "overflow_x": null,
      "overflow_y": null,
      "padding": null,
      "right": null,
      "top": null,
      "visibility": null,
      "width": null
     }
    },
    "1790ade1106747dcbcd502227cf9effe": {
     "model_module": "@jupyter-widgets/controls",
     "model_module_version": "1.5.0",
     "model_name": "DescriptionStyleModel",
     "state": {
      "_model_module": "@jupyter-widgets/controls",
      "_model_module_version": "1.5.0",
      "_model_name": "DescriptionStyleModel",
      "_view_count": null,
      "_view_module": "@jupyter-widgets/base",
      "_view_module_version": "1.2.0",
      "_view_name": "StyleView",
      "description_width": ""
     }
    },
    "224b576a802f40e7bc185d0430098df7": {
     "model_module": "@jupyter-widgets/base",
     "model_module_version": "1.2.0",
     "model_name": "LayoutModel",
     "state": {
      "_model_module": "@jupyter-widgets/base",
      "_model_module_version": "1.2.0",
      "_model_name": "LayoutModel",
      "_view_count": null,
      "_view_module": "@jupyter-widgets/base",
      "_view_module_version": "1.2.0",
      "_view_name": "LayoutView",
      "align_content": null,
      "align_items": null,
      "align_self": null,
      "border": null,
      "bottom": null,
      "display": null,
      "flex": null,
      "flex_flow": null,
      "grid_area": null,
      "grid_auto_columns": null,
      "grid_auto_flow": null,
      "grid_auto_rows": null,
      "grid_column": null,
      "grid_gap": null,
      "grid_row": null,
      "grid_template_areas": null,
      "grid_template_columns": null,
      "grid_template_rows": null,
      "height": null,
      "justify_content": null,
      "justify_items": null,
      "left": null,
      "margin": null,
      "max_height": null,
      "max_width": null,
      "min_height": null,
      "min_width": null,
      "object_fit": null,
      "object_position": null,
      "order": null,
      "overflow": null,
      "overflow_x": null,
      "overflow_y": null,
      "padding": null,
      "right": null,
      "top": null,
      "visibility": "hidden",
      "width": null
     }
    },
    "2364980adef64751b08bbab51e9eb239": {
     "model_module": "@jupyter-widgets/base",
     "model_module_version": "1.2.0",
     "model_name": "LayoutModel",
     "state": {
      "_model_module": "@jupyter-widgets/base",
      "_model_module_version": "1.2.0",
      "_model_name": "LayoutModel",
      "_view_count": null,
      "_view_module": "@jupyter-widgets/base",
      "_view_module_version": "1.2.0",
      "_view_name": "LayoutView",
      "align_content": null,
      "align_items": null,
      "align_self": null,
      "border": null,
      "bottom": null,
      "display": null,
      "flex": null,
      "flex_flow": null,
      "grid_area": null,
      "grid_auto_columns": null,
      "grid_auto_flow": null,
      "grid_auto_rows": null,
      "grid_column": null,
      "grid_gap": null,
      "grid_row": null,
      "grid_template_areas": null,
      "grid_template_columns": null,
      "grid_template_rows": null,
      "height": null,
      "justify_content": null,
      "justify_items": null,
      "left": null,
      "margin": null,
      "max_height": null,
      "max_width": null,
      "min_height": null,
      "min_width": null,
      "object_fit": null,
      "object_position": null,
      "order": null,
      "overflow": null,
      "overflow_x": null,
      "overflow_y": null,
      "padding": null,
      "right": null,
      "top": null,
      "visibility": null,
      "width": null
     }
    },
    "2b28f4138c6d4c4794a6fcb89a04e8e2": {
     "model_module": "@jupyter-widgets/controls",
     "model_module_version": "1.5.0",
     "model_name": "FloatProgressModel",
     "state": {
      "_dom_classes": [],
      "_model_module": "@jupyter-widgets/controls",
      "_model_module_version": "1.5.0",
      "_model_name": "FloatProgressModel",
      "_view_count": null,
      "_view_module": "@jupyter-widgets/controls",
      "_view_module_version": "1.5.0",
      "_view_name": "ProgressView",
      "bar_style": "success",
      "description": "",
      "description_tooltip": null,
      "layout": "IPY_MODEL_ff5ef3f234fe4837a007f71158d2e26c",
      "max": 1,
      "min": 0,
      "orientation": "horizontal",
      "style": "IPY_MODEL_428640bf1cbb485e81c604c4160deb81",
      "value": 1
     }
    },
    "428640bf1cbb485e81c604c4160deb81": {
     "model_module": "@jupyter-widgets/controls",
     "model_module_version": "1.5.0",
     "model_name": "ProgressStyleModel",
     "state": {
      "_model_module": "@jupyter-widgets/controls",
      "_model_module_version": "1.5.0",
      "_model_name": "ProgressStyleModel",
      "_view_count": null,
      "_view_module": "@jupyter-widgets/base",
      "_view_module_version": "1.2.0",
      "_view_name": "StyleView",
      "bar_color": null,
      "description_width": ""
     }
    },
    "5142ebc604354707a59e3a89947f12fa": {
     "model_module": "@jupyter-widgets/controls",
     "model_module_version": "1.5.0",
     "model_name": "HTMLModel",
     "state": {
      "_dom_classes": [],
      "_model_module": "@jupyter-widgets/controls",
      "_model_module_version": "1.5.0",
      "_model_name": "HTMLModel",
      "_view_count": null,
      "_view_module": "@jupyter-widgets/controls",
      "_view_module_version": "1.5.0",
      "_view_name": "HTMLView",
      "description": "",
      "description_tooltip": null,
      "layout": "IPY_MODEL_7c41f6f0ebca421fb2d7a22809c0c52a",
      "placeholder": "​",
      "style": "IPY_MODEL_f2c25a15889e45d5b0aadcb58d8ef38b",
      "value": "100%"
     }
    },
    "5e73c61ca07a43baa40d1ddfbd811aab": {
     "model_module": "@jupyter-widgets/controls",
     "model_module_version": "1.5.0",
     "model_name": "ProgressStyleModel",
     "state": {
      "_model_module": "@jupyter-widgets/controls",
      "_model_module_version": "1.5.0",
      "_model_name": "ProgressStyleModel",
      "_view_count": null,
      "_view_module": "@jupyter-widgets/base",
      "_view_module_version": "1.2.0",
      "_view_name": "StyleView",
      "bar_color": null,
      "description_width": ""
     }
    },
    "7591e1c168284e67baa69f03db96d41f": {
     "model_module": "@jupyter-widgets/controls",
     "model_module_version": "1.5.0",
     "model_name": "DescriptionStyleModel",
     "state": {
      "_model_module": "@jupyter-widgets/controls",
      "_model_module_version": "1.5.0",
      "_model_name": "DescriptionStyleModel",
      "_view_count": null,
      "_view_module": "@jupyter-widgets/base",
      "_view_module_version": "1.2.0",
      "_view_name": "StyleView",
      "description_width": ""
     }
    },
    "7c41f6f0ebca421fb2d7a22809c0c52a": {
     "model_module": "@jupyter-widgets/base",
     "model_module_version": "1.2.0",
     "model_name": "LayoutModel",
     "state": {
      "_model_module": "@jupyter-widgets/base",
      "_model_module_version": "1.2.0",
      "_model_name": "LayoutModel",
      "_view_count": null,
      "_view_module": "@jupyter-widgets/base",
      "_view_module_version": "1.2.0",
      "_view_name": "LayoutView",
      "align_content": null,
      "align_items": null,
      "align_self": null,
      "border": null,
      "bottom": null,
      "display": null,
      "flex": null,
      "flex_flow": null,
      "grid_area": null,
      "grid_auto_columns": null,
      "grid_auto_flow": null,
      "grid_auto_rows": null,
      "grid_column": null,
      "grid_gap": null,
      "grid_row": null,
      "grid_template_areas": null,
      "grid_template_columns": null,
      "grid_template_rows": null,
      "height": null,
      "justify_content": null,
      "justify_items": null,
      "left": null,
      "margin": null,
      "max_height": null,
      "max_width": null,
      "min_height": null,
      "min_width": null,
      "object_fit": null,
      "object_position": null,
      "order": null,
      "overflow": null,
      "overflow_x": null,
      "overflow_y": null,
      "padding": null,
      "right": null,
      "top": null,
      "visibility": null,
      "width": null
     }
    },
    "8527f16d972a46ae94e3bf087fc9319b": {
     "model_module": "@jupyter-widgets/base",
     "model_module_version": "1.2.0",
     "model_name": "LayoutModel",
     "state": {
      "_model_module": "@jupyter-widgets/base",
      "_model_module_version": "1.2.0",
      "_model_name": "LayoutModel",
      "_view_count": null,
      "_view_module": "@jupyter-widgets/base",
      "_view_module_version": "1.2.0",
      "_view_name": "LayoutView",
      "align_content": null,
      "align_items": null,
      "align_self": null,
      "border": null,
      "bottom": null,
      "display": null,
      "flex": null,
      "flex_flow": null,
      "grid_area": null,
      "grid_auto_columns": null,
      "grid_auto_flow": null,
      "grid_auto_rows": null,
      "grid_column": null,
      "grid_gap": null,
      "grid_row": null,
      "grid_template_areas": null,
      "grid_template_columns": null,
      "grid_template_rows": null,
      "height": null,
      "justify_content": null,
      "justify_items": null,
      "left": null,
      "margin": null,
      "max_height": null,
      "max_width": null,
      "min_height": null,
      "min_width": null,
      "object_fit": null,
      "object_position": null,
      "order": null,
      "overflow": null,
      "overflow_x": null,
      "overflow_y": null,
      "padding": null,
      "right": null,
      "top": null,
      "visibility": null,
      "width": null
     }
    },
    "93cb3297a5ff462a888e2b9ea74a4261": {
     "model_module": "@jupyter-widgets/base",
     "model_module_version": "1.2.0",
     "model_name": "LayoutModel",
     "state": {
      "_model_module": "@jupyter-widgets/base",
      "_model_module_version": "1.2.0",
      "_model_name": "LayoutModel",
      "_view_count": null,
      "_view_module": "@jupyter-widgets/base",
      "_view_module_version": "1.2.0",
      "_view_name": "LayoutView",
      "align_content": null,
      "align_items": null,
      "align_self": null,
      "border": null,
      "bottom": null,
      "display": null,
      "flex": null,
      "flex_flow": null,
      "grid_area": null,
      "grid_auto_columns": null,
      "grid_auto_flow": null,
      "grid_auto_rows": null,
      "grid_column": null,
      "grid_gap": null,
      "grid_row": null,
      "grid_template_areas": null,
      "grid_template_columns": null,
      "grid_template_rows": null,
      "height": null,
      "justify_content": null,
      "justify_items": null,
      "left": null,
      "margin": null,
      "max_height": null,
      "max_width": null,
      "min_height": null,
      "min_width": null,
      "object_fit": null,
      "object_position": null,
      "order": null,
      "overflow": null,
      "overflow_x": null,
      "overflow_y": null,
      "padding": null,
      "right": null,
      "top": null,
      "visibility": null,
      "width": null
     }
    },
    "a2ac3ed12ad243d4afe3b17919dec71b": {
     "model_module": "@jupyter-widgets/controls",
     "model_module_version": "1.5.0",
     "model_name": "HBoxModel",
     "state": {
      "_dom_classes": [],
      "_model_module": "@jupyter-widgets/controls",
      "_model_module_version": "1.5.0",
      "_model_name": "HBoxModel",
      "_view_count": null,
      "_view_module": "@jupyter-widgets/controls",
      "_view_module_version": "1.5.0",
      "_view_name": "HBoxView",
      "box_style": "",
      "children": [
       "IPY_MODEL_af4da2e30f24439a89f9c729282b8145",
       "IPY_MODEL_af545badcb054574bf9e618da9158769",
       "IPY_MODEL_ffd7bf5af3824965b54af81402de51fa"
      ],
      "layout": "IPY_MODEL_224b576a802f40e7bc185d0430098df7"
     }
    },
    "af4da2e30f24439a89f9c729282b8145": {
     "model_module": "@jupyter-widgets/controls",
     "model_module_version": "1.5.0",
     "model_name": "HTMLModel",
     "state": {
      "_dom_classes": [],
      "_model_module": "@jupyter-widgets/controls",
      "_model_module_version": "1.5.0",
      "_model_name": "HTMLModel",
      "_view_count": null,
      "_view_module": "@jupyter-widgets/controls",
      "_view_module_version": "1.5.0",
      "_view_name": "HTMLView",
      "description": "",
      "description_tooltip": null,
      "layout": "IPY_MODEL_93cb3297a5ff462a888e2b9ea74a4261",
      "placeholder": "​",
      "style": "IPY_MODEL_da9cf9b7019143559e47e13bdec6a9ae",
      "value": "Map: 100%"
     }
    },
    "af545badcb054574bf9e618da9158769": {
     "model_module": "@jupyter-widgets/controls",
     "model_module_version": "1.5.0",
     "model_name": "FloatProgressModel",
     "state": {
      "_dom_classes": [],
      "_model_module": "@jupyter-widgets/controls",
      "_model_module_version": "1.5.0",
      "_model_name": "FloatProgressModel",
      "_view_count": null,
      "_view_module": "@jupyter-widgets/controls",
      "_view_module_version": "1.5.0",
      "_view_name": "ProgressView",
      "bar_style": "",
      "description": "",
      "description_tooltip": null,
      "layout": "IPY_MODEL_09d301cc9bcd4fe8af4f381c910c9a12",
      "max": 1000,
      "min": 0,
      "orientation": "horizontal",
      "style": "IPY_MODEL_5e73c61ca07a43baa40d1ddfbd811aab",
      "value": 1000
     }
    },
    "afbe586f64a54b7fbed583524a6f2f47": {
     "model_module": "@jupyter-widgets/base",
     "model_module_version": "1.2.0",
     "model_name": "LayoutModel",
     "state": {
      "_model_module": "@jupyter-widgets/base",
      "_model_module_version": "1.2.0",
      "_model_name": "LayoutModel",
      "_view_count": null,
      "_view_module": "@jupyter-widgets/base",
      "_view_module_version": "1.2.0",
      "_view_name": "LayoutView",
      "align_content": null,
      "align_items": null,
      "align_self": null,
      "border": null,
      "bottom": null,
      "display": null,
      "flex": null,
      "flex_flow": null,
      "grid_area": null,
      "grid_auto_columns": null,
      "grid_auto_flow": null,
      "grid_auto_rows": null,
      "grid_column": null,
      "grid_gap": null,
      "grid_row": null,
      "grid_template_areas": null,
      "grid_template_columns": null,
      "grid_template_rows": null,
      "height": null,
      "justify_content": null,
      "justify_items": null,
      "left": null,
      "margin": null,
      "max_height": null,
      "max_width": null,
      "min_height": null,
      "min_width": null,
      "object_fit": null,
      "object_position": null,
      "order": null,
      "overflow": null,
      "overflow_x": null,
      "overflow_y": null,
      "padding": null,
      "right": null,
      "top": null,
      "visibility": null,
      "width": null
     }
    },
    "ca55c674bcd94494a7de0a99f2ec7c6c": {
     "model_module": "@jupyter-widgets/controls",
     "model_module_version": "1.5.0",
     "model_name": "HTMLModel",
     "state": {
      "_dom_classes": [],
      "_model_module": "@jupyter-widgets/controls",
      "_model_module_version": "1.5.0",
      "_model_name": "HTMLModel",
      "_view_count": null,
      "_view_module": "@jupyter-widgets/controls",
      "_view_module_version": "1.5.0",
      "_view_name": "HTMLView",
      "description": "",
      "description_tooltip": null,
      "layout": "IPY_MODEL_afbe586f64a54b7fbed583524a6f2f47",
      "placeholder": "​",
      "style": "IPY_MODEL_7591e1c168284e67baa69f03db96d41f",
      "value": " 1/1 [00:00&lt;00:00, 55.92it/s]"
     }
    },
    "da9cf9b7019143559e47e13bdec6a9ae": {
     "model_module": "@jupyter-widgets/controls",
     "model_module_version": "1.5.0",
     "model_name": "DescriptionStyleModel",
     "state": {
      "_model_module": "@jupyter-widgets/controls",
      "_model_module_version": "1.5.0",
      "_model_name": "DescriptionStyleModel",
      "_view_count": null,
      "_view_module": "@jupyter-widgets/base",
      "_view_module_version": "1.2.0",
      "_view_name": "StyleView",
      "description_width": ""
     }
    },
    "e14778774573423f80ea12b4c159b604": {
     "model_module": "@jupyter-widgets/controls",
     "model_module_version": "1.5.0",
     "model_name": "HBoxModel",
     "state": {
      "_dom_classes": [],
      "_model_module": "@jupyter-widgets/controls",
      "_model_module_version": "1.5.0",
      "_model_name": "HBoxModel",
      "_view_count": null,
      "_view_module": "@jupyter-widgets/controls",
      "_view_module_version": "1.5.0",
      "_view_name": "HBoxView",
      "box_style": "",
      "children": [
       "IPY_MODEL_5142ebc604354707a59e3a89947f12fa",
       "IPY_MODEL_2b28f4138c6d4c4794a6fcb89a04e8e2",
       "IPY_MODEL_ca55c674bcd94494a7de0a99f2ec7c6c"
      ],
      "layout": "IPY_MODEL_2364980adef64751b08bbab51e9eb239"
     }
    },
    "f2c25a15889e45d5b0aadcb58d8ef38b": {
     "model_module": "@jupyter-widgets/controls",
     "model_module_version": "1.5.0",
     "model_name": "DescriptionStyleModel",
     "state": {
      "_model_module": "@jupyter-widgets/controls",
      "_model_module_version": "1.5.0",
      "_model_name": "DescriptionStyleModel",
      "_view_count": null,
      "_view_module": "@jupyter-widgets/base",
      "_view_module_version": "1.2.0",
      "_view_name": "StyleView",
      "description_width": ""
     }
    },
    "ff5ef3f234fe4837a007f71158d2e26c": {
     "model_module": "@jupyter-widgets/base",
     "model_module_version": "1.2.0",
     "model_name": "LayoutModel",
     "state": {
      "_model_module": "@jupyter-widgets/base",
      "_model_module_version": "1.2.0",
      "_model_name": "LayoutModel",
      "_view_count": null,
      "_view_module": "@jupyter-widgets/base",
      "_view_module_version": "1.2.0",
      "_view_name": "LayoutView",
      "align_content": null,
      "align_items": null,
      "align_self": null,
      "border": null,
      "bottom": null,
      "display": null,
      "flex": null,
      "flex_flow": null,
      "grid_area": null,
      "grid_auto_columns": null,
      "grid_auto_flow": null,
      "grid_auto_rows": null,
      "grid_column": null,
      "grid_gap": null,
      "grid_row": null,
      "grid_template_areas": null,
      "grid_template_columns": null,
      "grid_template_rows": null,
      "height": null,
      "justify_content": null,
      "justify_items": null,
      "left": null,
      "margin": null,
      "max_height": null,
      "max_width": null,
      "min_height": null,
      "min_width": null,
      "object_fit": null,
      "object_position": null,
      "order": null,
      "overflow": null,
      "overflow_x": null,
      "overflow_y": null,
      "padding": null,
      "right": null,
      "top": null,
      "visibility": null,
      "width": null
     }
    },
    "ffd7bf5af3824965b54af81402de51fa": {
     "model_module": "@jupyter-widgets/controls",
     "model_module_version": "1.5.0",
     "model_name": "HTMLModel",
     "state": {
      "_dom_classes": [],
      "_model_module": "@jupyter-widgets/controls",
      "_model_module_version": "1.5.0",
      "_model_name": "HTMLModel",
      "_view_count": null,
      "_view_module": "@jupyter-widgets/controls",
      "_view_module_version": "1.5.0",
      "_view_name": "HTMLView",
      "description": "",
      "description_tooltip": null,
      "layout": "IPY_MODEL_8527f16d972a46ae94e3bf087fc9319b",
      "placeholder": "​",
      "style": "IPY_MODEL_1790ade1106747dcbcd502227cf9effe",
      "value": " 1000/1000 [00:08&lt;00:00, 124.82 examples/s]"
     }
    }
   }
  }
 },
 "nbformat": 4,
 "nbformat_minor": 4
}
