{
 "cells": [
  {
   "cell_type": "code",
   "execution_count": 92,
   "id": "ffd894ee-1492-46ee-a849-c9e9e2185a43",
   "metadata": {},
   "outputs": [],
   "source": [
    "import sys\n",
    "import os\n",
    "import pandas as pd\n",
    "import tiktoken\n",
    "from tenacity import (\n",
    "    retry,\n",
    "    stop_after_attempt,\n",
    "    wait_random_exponential,\n",
    ")  # for exponential backoff\n",
    "\n",
    "#sys.path.append('/home/vs428/Documents/DischargeMe/hail-dischargeme/scoring/scoring.py')"
   ]
  },
  {
   "cell_type": "code",
   "execution_count": 235,
   "id": "b4232fdb-a965-439d-9b9e-cea1bd090939",
   "metadata": {},
   "outputs": [],
   "source": [
    "import re"
   ]
  },
  {
   "cell_type": "code",
   "execution_count": 93,
   "id": "a58f0cb5-f130-411f-a450-f89d91fef0f9",
   "metadata": {},
   "outputs": [
    {
     "name": "stdout",
     "output_type": "stream",
     "text": [
      "The dotenv extension is already loaded. To reload it, use:\n",
      "  %reload_ext dotenv\n"
     ]
    }
   ],
   "source": [
    "%load_ext dotenv\n",
    "%dotenv /vast/palmer/home.mccleary/vs428/Documents/DischargeMe/hail-dischargeme/.env"
   ]
  },
  {
   "cell_type": "code",
   "execution_count": 94,
   "id": "afcd9251-1fb7-488d-9b53-5c61b1a9db6d",
   "metadata": {},
   "outputs": [],
   "source": [
    "def num_tokens_from_string(string: str, encoding_name: str=\"cl100k_base\") -> int:\n",
    "    \"\"\"Returns the number of tokens in a text string.\"\"\"\n",
    "    encoding = tiktoken.get_encoding(encoding_name)\n",
    "    num_tokens = len(encoding.encode(string))\n",
    "    return num_tokens"
   ]
  },
  {
   "cell_type": "code",
   "execution_count": 95,
   "id": "9ea390ba-d078-4175-a556-1542984b0050",
   "metadata": {},
   "outputs": [],
   "source": [
    "@retry(wait=wait_random_exponential(min=1, max=60), stop=stop_after_attempt(6))\n",
    "def completion_with_backoff(**kwargs):\n",
    "    return openai.ChatCompletion.create(**kwargs)\n"
   ]
  },
  {
   "cell_type": "code",
   "execution_count": 96,
   "id": "b28040ef-6883-401f-84ee-5a61b26da34b",
   "metadata": {},
   "outputs": [],
   "source": [
    "from IPython.display import display, HTML\n",
    "\n",
    "def add_line_breaks(text):\n",
    "    return text.replace('\\n', '<br>')\n",
    "\n",
    "\n",
    "def pretty_print(df):\n",
    "    return display( HTML( df.to_html().replace(\"\\\\n\",\"<br>\") ) )"
   ]
  },
  {
   "cell_type": "code",
   "execution_count": 97,
   "id": "664561e4-293b-42ee-a071-10191825f43b",
   "metadata": {
    "papermill": {
     "duration": 0.012594,
     "end_time": "2024-04-01T08:15:11.436673",
     "exception": false,
     "start_time": "2024-04-01T08:15:11.424079",
     "status": "completed"
    },
    "tags": []
   },
   "outputs": [],
   "source": [
    "challenge_data_fp = \"/gpfs/gibbs/project/rtaylor/shared/DischargeMe/public/\"\n"
   ]
  },
  {
   "cell_type": "code",
   "execution_count": 98,
   "id": "42ff68b3-22cd-4a46-95a6-6a25e51ddc4f",
   "metadata": {
    "id": "s6f4z8EYmcJ6",
    "papermill": {
     "duration": 2.563612,
     "end_time": "2024-04-01T08:15:14.030988",
     "exception": false,
     "start_time": "2024-04-01T08:15:11.467376",
     "status": "completed"
    },
    "tags": []
   },
   "outputs": [
    {
     "data": {
      "application/vnd.jupyter.widget-view+json": {
       "model_id": "85f36971b611446aa0deb4cce0ca363d",
       "version_major": 2,
       "version_minor": 0
      },
      "text/plain": [
       "Generating train split: 0 examples [00:00, ? examples/s]"
      ]
     },
     "metadata": {},
     "output_type": "display_data"
    }
   ],
   "source": [
    "from datasets import load_dataset\n",
    "\n",
    "#train_dataset = load_dataset('json', data_files=challenge_data_fp + \"train/simple_train.json\", split='train')\n",
    "#eval_dataset = load_dataset('json', data_files=challenge_data_fp + \"valid/simple_valid.json\", split='train')\n",
    "test_dataset = load_dataset('json', data_files=\"/home/vs428/Documents/DischargeMe/hail-dischargeme/notebooks/data_processing/simple_test.json\", split=\"train\")"
   ]
  },
  {
   "cell_type": "code",
   "execution_count": 99,
   "id": "17ec06f2-9cc6-48bb-bd51-dd337127bef7",
   "metadata": {
    "papermill": {
     "duration": 0.017855,
     "end_time": "2024-04-01T08:15:14.058021",
     "exception": false,
     "start_time": "2024-04-01T08:15:14.040166",
     "status": "completed"
    },
    "tags": []
   },
   "outputs": [],
   "source": [
    "#eval_dataset = eval_dataset.select(range(500))"
   ]
  },
  {
   "cell_type": "code",
   "execution_count": null,
   "id": "492f1fc9-fbb0-47a7-8224-915a7d45d0fc",
   "metadata": {},
   "outputs": [],
   "source": []
  },
  {
   "cell_type": "code",
   "execution_count": 100,
   "id": "f779fef2-970e-4971-9f5d-627dd093b99a",
   "metadata": {
    "editable": true,
    "papermill": {
     "duration": 0.026118,
     "end_time": "2024-03-25T18:02:57.990961",
     "exception": false,
     "start_time": "2024-03-25T18:02:57.964843",
     "status": "completed"
    },
    "slideshow": {
     "slide_type": ""
    },
    "tags": []
   },
   "outputs": [],
   "source": [
    "import openai\n",
    "openai.api_type = \"azure\"\n",
    "openai.api_base = os.getenv(\"AZURE_OPENAI_ENDPOINT\")\n",
    "openai.api_version = \"2023-07-01-preview\"\n",
    "openai.api_key = os.getenv(\"AZURE_OPENAI_KEY\")\n",
    "engine = \"decile-gpt-35-turbo-16k\""
   ]
  },
  {
   "cell_type": "code",
   "execution_count": 101,
   "id": "1cb78e2d-552e-452f-988e-740843b60317",
   "metadata": {
    "editable": true,
    "papermill": {
     "duration": 0.027346,
     "end_time": "2024-03-25T18:02:58.057966",
     "exception": false,
     "start_time": "2024-03-25T18:02:58.030620",
     "status": "completed"
    },
    "slideshow": {
     "slide_type": ""
    },
    "tags": []
   },
   "outputs": [],
   "source": [
    "gpt_inputs = []\n",
    "for datum in test_dataset:\n",
    "    message_text = [{\"role\":\"system\",\"content\":\"You are a physician generating a summary brief hospital course from the patient encounter information given\"}]\n",
    "    \n",
    "    gpt_service_prompt = {\"role\":\"user\",\n",
    "                     \"content\":f\"Summarize the following patient hospital encounter into a brief hospital course:\\n\\n{datum['input']}\" }\n",
    "    \n",
    "    message_text.append(gpt_service_prompt)\n",
    "    \n",
    "    # print(f\"Deprescribe Prompt: {message_text}\")\n",
    "    gpt_inputs.append(message_text)"
   ]
  },
  {
   "cell_type": "code",
   "execution_count": 102,
   "id": "7874fb72-2a17-4b3b-a279-d8919f2da73a",
   "metadata": {},
   "outputs": [
    {
     "data": {
      "text/plain": [
       "14702"
      ]
     },
     "execution_count": 102,
     "metadata": {},
     "output_type": "execute_result"
    }
   ],
   "source": [
    "len(gpt_inputs)"
   ]
  },
  {
   "cell_type": "code",
   "execution_count": 103,
   "id": "949a010a-285f-42b7-a628-2a333f70c1a5",
   "metadata": {
    "papermill": {
     "duration": 31.355898,
     "end_time": "2024-03-25T18:03:29.419355",
     "exception": false,
     "start_time": "2024-03-25T18:02:58.063457",
     "status": "completed"
    },
    "tags": []
   },
   "outputs": [
    {
     "name": "stdout",
     "output_type": "stream",
     "text": [
      "0\n",
      "1\n",
      "2\n",
      "3\n",
      "4\n",
      "5\n",
      "6\n",
      "7\n",
      "8\n",
      "9\n"
     ]
    }
   ],
   "source": [
    "completions = []\n",
    "for idx, gpt_input in enumerate(gpt_inputs[:10]):\n",
    "    completion = openai.ChatCompletion.create(\n",
    "      engine=engine,\n",
    "      messages = gpt_input,\n",
    "    )\n",
    "    print(idx)\n",
    "    completions.append(completion['choices'][0]['message']['content'])"
   ]
  },
  {
   "cell_type": "code",
   "execution_count": 104,
   "id": "e425fdd5-17dd-4b02-95bb-e1671c901f82",
   "metadata": {
    "scrolled": true
   },
   "outputs": [
    {
     "data": {
      "text/plain": [
       "['The patient, a male with a history of HCV, ETOH cirrhosis, lymphedema, and COPD, presented with increasing jaundice, abdominal pain, and distension. On examination, he had tense ascites, diffuse tenderness throughout the abdomen, and crackles heard on lung auscultation. Imaging studies showed a shrunken cirrhotic liver, a liver mass, and moderate ascites. Laboratory results were significant for low hemoglobin and platelet counts, and elevated liver enzymes. The patient underwent a paracentesis, which revealed no evidence of spontaneous bacterial peritonitis. Microbiological cultures were negative. He was discharged with ongoing symptoms of abdominal pain and difficulty breathing.  Further evaluation with an MRI was recommended to assess the liver mass.',\n",
       " \"Patient hospital encounter summary:\\n\\nThe patient is a middle-aged female who was admitted to the Medicine service with a chief complaint of bleeding from her surgical wound. She had previously undergone a L4-5 discectomy/fusion and developed a wound infection with methicillin-sensitive Staphylococcus aureus (MSSA) and pseudomonas. During her prior admission, she had serosanguinous drainage from her lumbar surgical site and was found to have a paraspinal fluid collection, which was drained surgically. She was treated with antibiotics and the drains were removed. She was also diagnosed with atrial fibrillation and started on warfarin therapy.\\n\\nOn presentation to the emergency department, the patient had uncontrolled bleeding from the wound, along with worsening pain at the incision site. Her vital signs were stable but laboratory findings showed low hemoglobin and INR suggestive of anticoagulation. Neurosurgery evaluated the patient and recommended reversal of anticoagulation, evaluation for possible blood transfusion, and a CT lumbar spine to assess the bleeding. The patient received pain medication, vitamin K, and antibiotics.\\n\\nUpon discharge, the patient's bleeding had resolved, and she was in stable condition. She had tenderness at the lateral ankles, but otherwise, her physical exam was unremarkable. Laboratory values showed improvement in her hemoglobin and INR.\\n\\nImaging studies showed a large hematoma at the surgical site and the presence of a PICC line without complications.\\n\\nOverall, the patient had a complicated hospital course due to a wound infection, bleeding from the surgical site, and the need for anticoagulation management. She improved with treatment and was discharged in stable condition. Close follow-up was planned with infectious disease specialists and consideration for transition to oral antibiotics.\",\n",
       " 'Name:  Not provided                Unit No:   Not provided\\n \\nAdmission Date:  Not provided              Discharge Date:   Not provided\\n \\nDate of Birth:  Not provided             Sex:   Male\\n \\nService: Surgery\\n \\nAllergies: \\nNo Known Allergies / Adverse Drug Reactions\\n \\nAttending: Not provided.\\n \\nChief Complaint:\\nWound infection at old ileostomy site, s/p ileostomy takedown.\\n \\nMajor Surgical or Invasive Procedure:\\nOpening of wound at bedside. \\n\\n \\nHospital Course:\\nThe patient was assessed in the emergency department on POD 6 from the takedown of ileostomy. He presented with increased abdominal pain and tenderness around the ileostomy takedown site. He reported doing well at discharge 5 days ago, but in the interim, he experienced increasing pain, erythema, and drainage from the wound. He also reported increased abdominal pain radiating to his right flank and back, along with intermittent subjective fevers over the past few days.\\n\\nPhysical Exam at Discharge:\\nThe patient appeared well with minimal pain. His vital signs were stable, and there were no significant abnormalities on cardiac and lung examination. The abdomen was tender at the ileostomy site with erythema and a beefy base. No purulent drainage was noted.\\n\\nPertinent Results:\\n- Blood work showed normal white blood cell count, red blood cell count, hemoglobin, hematocrit, platelet count, and coagulation profile.\\n- Urine analysis was normal.\\n- Gram stain of the abscess showed polymorphonuclear leukocytes and Gram-positive cocci clusters.\\n- Wound culture showed heavy growth of two colonial morphologies, including Staphylococcus aureus coagulase positive.\\n- No anaerobes were isolated from the anaerobic culture.\\n\\nSummary:\\nThe patient was admitted with a wound infection at the old ileostomy site following ileostomy takedown. He underwent bedside wound opening. During his hospital course, he experienced increasing pain, erythema, and drainage from the wound, along with abdominal pain radiating to his right flank and back. Blood work and urine analysis were within normal limits except for the presence of Staphylococcus aureus in the wound culture. No complications or other significant findings were noted.',\n",
       " \"Brief Hospital Course:\\n\\nThe patient, a ___ y/o female with a history of CAD and ESRD on HD, presented with chest pain. She was initially discharged from the OSH ED but returned later with recurrent chest pain, nausea/vomiting, and dyspnea. Troponin levels were elevated, indicating unstable angina. Left heart catheterization with stent placement in the LAD and double balloon placement in the LCx was performed. The patient was transferred to ___. On admission, the patient had severe pulmonary edema and received IV heparin, Dilaudid, Zofran, and Lasix. Chest pain resolved on the floor, but she felt mildly short of breath. The patient's past medical history included type II diabetes, ESRD, CAD, PAD, hypertension, hyperlipidemia, carpal tunnel syndrome, and breast cancer. Physical exam on admission showed crackles in the lung fields and JVP elevation. Labs were significant for elevated troponin, glucose, urea nitrogen, and creatinine. On discharge, the patient was well-appearing with improved vital signs and pulmonary edema. Follow-up studies showed improvement in pulmonary edema with no evidence of pneumonia or pleural effusion.\",\n",
       " 'Patient: Mr. ___\\nAdmission Date: ___\\nDischarge Date: ___\\nSex: M\\nService: Medicine\\nChief Complaint: Abdominal pain\\nMajor Surgical or Invasive Procedure: None\\n\\nHistory of Present Illness:\\n- 2 days of abdominal pain, initially over xiphoid, then right-sided and aching when sitting up or touching abdomen\\n- CT imaging showed gallbladder wall thickening and fluid suggestive of cholecystitis\\n\\nAdmission Exam:\\n- Vitals: BP 157/75, HR 75, 97.7 temp\\n- General: Alert, oriented, no acute distress\\n- Abdomen: Soft, significant tenderness RUQ, no tenderness RLQ\\n\\nPertinent Results:\\n- Labs: WBC 10.0, Hgb 13.4, Cr 1.3, Lactate 1.2\\n- Imaging: CT scan suggestive of acute cholecystitis, no calcified gallstones seen\\n\\nHospital Course:\\n- Admitted to medicine for IV antibiotics, IV fluids, and possible surgery for cholecystitis\\n- Given Unasyn and IV fluids\\n- Pain remains the same, constipation reported\\n- Developed rash on lower legs, itching and burning\\n\\nDischarge Exam:\\n- Vitals: T 98.7/97.5, BP 106-151/64-69\\n- Abdomen: Tender to palpation on right side, RLQ>RUQ\\n- Extremities: Diffuse raised erythematous papules over anterior aspect of right lower leg and left lower leg\\n\\nDischarge Labs:\\n- Labs: WBC 6.2, Hgb 11.8, Cr 1.2, Calcium 7.8\\n\\nImaging and Studies:\\n- Chest X-ray: Right lower lobe atelectasis, no definite pneumonia\\n- CT abdomen and pelvis: Suggestive of acute cholecystitis, possible chronic dissection of infrarenal aorta\\n- Liver/gallbladder ultrasound: Gallbladder distension and wall thickening without evidence of cholelithiasis\\n- HIDA scan: Normal hepatobiliary scan, no suggestion of acalculous cholecystitis',\n",
       " 'Patient Summary:\\n\\nThe patient is a ___ year old female with a history of pancreatic tumor status post Whipple procedure. She presented with abdominal pain radiating to the back, which she described as similar to her previous episodes of pancreatitis. The patient denied recent alcohol use or eating fatty meals. She had a history of POTS and neuropathy secondary to the tumor. On examination, she had diminished abdominal sounds and pain with palpation throughout the abdomen. Lab results showed elevated lipase levels and an unremarkable urine analysis. A CXR revealed a small left pleural effusion with adjacent parenchymal opacity. Pain management and supportive care were provided during the hospital stay. The patient was discharged with stable vital signs and improved symptoms.\\n\\nAttendings:\\n___',\n",
       " \"Summary Hospital Course:\\n\\nThe patient, a middle-aged male with a history of chronic kidney disease, gastric cancer status post gastrojejunostomy, gastrointestinal bleeding, and lower extremity deep vein thrombosis presented with a 2-day history of generalized weakness. Initial evaluation in the emergency department revealed a low hemoglobin level and he received intravenous fluids. Further workup included a chest x-ray, urine analysis, and ultrasound of the lower extremity, all of which were unremarkable. The next morning, the patient's hemoglobin levels decreased further, leading to a recommendation for admission to the medicine service.\\n\\nDuring his hospital stay, the patient underwent a colonoscopy, which revealed polyps in the descending and ascending colon, as well as diverticulosis. A nodule was also found in the gastroesophageal junction during an esophagogastroduodenoscopy. Biopsies were performed, and the pathology report showed an adenoma in the hepatic flexure polyp and colonic mucosa with surface hyperplastic changes in the descending colon polyp. The patient also had an endoscopically-guided nasojejunal tube placed into the alimentary limb for nutrition. \\n\\nThroughout his hospital course, the patient remained alert and oriented with no acute distress, but was cachectic. Laboratory results showed low hemoglobin and elevated creatinine levels at admission, which improved at discharge. His vital signs were stable at both admission and discharge.\\n\\nThe patient's overall hospital course was focused on evaluating and managing his generalized weakness and gastrointestinal issues, including polyp removal and nutrition support with a nasojejunal tube. He was discharged with plans for follow-up appointments and repeat procedures as recommended.\",\n",
       " \"Summary Hospital Course:\\n\\n- The patient was admitted to the Medicine service with a chief complaint of chest pain.\\n- She had a history of hypertension, hyperlipidemia, hypothyroidism, and osteoporosis.\\n- The patient presented with abdominal pain and was found to have an inferior ST-elevation myocardial infarction (STEMI).\\n- On initial evaluation, the patient had no chest pressure, pain, palpitation, shortness of breath, or nausea.\\n- She underwent a cardiac catheterization.\\n- The patient was found to have 80% stenosis in the proximal right coronary artery (RCA) and 99-100% stenosis in the mid-RCA.\\n- She also had 70% stenosis in the mid-left anterior descending artery (LAD).\\n- The patient's labs showed elevated troponin levels and mild interstitial pulmonary edema with bilateral pleural effusions on chest X-ray.\\n- She was managed with medications including anticoagulants and pain control.\\n- The echo results were pending.\\n- Throughout her hospitalization, the patient remained stable with stable vital signs and no significant changes in her physical exam findings.\\n- She was discharged with instructions for follow-up and continued medication management.\",\n",
       " \"Summary Hospital Course:\\n\\nThe patient, a female with a complex medical history including multiple comorbidities and a history of seizures, was admitted to the hospital after experiencing a generalized tonic-clonic seizure at home. On arrival to the emergency department, the patient was found to be in status epilepticus and was intubated and sedated. Continuous EEG monitoring was initiated and neurology was consulted.\\n\\nIn terms of her seizure history, the patient has been diagnosed with focal epilepsy with impaired awareness, possible secondarily generalized seizures, and several other event types that are not clearly epileptic seizures. The patient has poor control of her seizures, with multiple hospitalizations in recent months.\\n\\nPhysical examination on admission revealed the patient to be intubated and sedated. The patient had a cataract in her right eye, blindness in the right eye, and scattered excoriations on her legs, chest, and arms without evidence of infection.\\n\\nPertinent laboratory results on admission showed abnormal blood values including low hemoglobin, low hematocrit, and elevated glucose levels.\\n\\nThe patient was initially planned to be admitted to the neuro ICU but due to a lack of beds, she was admitted to the medical ICU instead. The patient was ultimately discharged from the hospital with stable vital signs, improved laboratory values, and the plan to continue monitoring her seizures and adjust her medications as necessary.\\n\\nImaging studies showed no evidence of acute pathology, but did note involutional changes with prominence of the ventricles and sulci.\\n\\nOverall, the patient's hospital course was complicated by a status epilepticus episode requiring intubation and sedation. The patient will need close follow-up for ongoing management of her seizures and other comorbidities.\",\n",
       " 'Name:  Not provided                Unit No:   Not provided\\n \\nAdmission Date:  Not provided              Discharge Date:   Not provided\\n \\nDate of Birth:  Not provided             Sex:   F\\n \\nService: MEDICINE\\n \\nAllergies: Cipro / Sulfa (Sulfonamide Antibiotics)\\n \\nAttending: Not provided.\\n \\nMajor Surgical or Invasive Procedure:\\nEGD (Esophagogastroduodenoscopy) and Colonoscopy\\n \\nPertinent Results:\\nAdmission Labs:\\n- WBC (White Blood Cell count): 6.4\\n- RBC (Red Blood Cell count): 3.97\\n- Hgb (Hemoglobin level): 12.6\\n- Hct (Hematocrit level): 38.5\\n- Glucose level: 107\\n- UreaN (Blood Urea Nitrogen level): 29\\n- Creat (Creatinine level): 0.6\\n- Na (Sodium level): 139\\n- K (Potassium level): 4.6\\n- Cl (Chloride level): 97\\n- HCO3 (Bicarbonate level): 28\\n- AnGap (Anion Gap): 14\\n- PTT (Partial Thromboplastin Time): 29.5\\n- ALT (Alanine Aminotransferase level): 17\\n- AST (Aspartate Aminotransferase level): 26\\n- AlkPhos (Alkaline Phosphatase level): 70\\n- TotBili (Total Bilirubin level): 0.6\\n- Lipase level: 65\\n- cTropnT (Cardiac Troponin T level): <0.01\\n- Calcium level: 8.8\\n- Phos (Phosphorus level): 3.5\\n- Mg (Magnesium level): 2.1\\n- Triglyc (Triglyceride level): 65\\n- HDL (Good Cholesterol level): 39\\n- CHOL/HD (Cholesterol to HDL ratio): 3.1\\n- LDLcalc (Calculated LDL-Cholesterol level): 70\\n \\nDischarge Labs:\\n- WBC: 6.4\\n- RBC: 3.53\\n- Hgb: 11.1\\n- Hct: 35.8\\n- MCV (Mean Corpuscular Volume): 101\\n- MCH (Mean Corpuscular Hemoglobin): 31.4\\n- MCHC (Mean Corpuscular Hemoglobin Concentration): 31.0\\n- RDW (Red Cell Distribution Width): 13.9\\n- RDWSD (Red Cell Distribution Width Standard Deviation): 51.7\\n- Glucose: 125\\n- UreaN: 11\\n- Creat: 0.7\\n- Na: 146\\n- K: 3.8\\n- Cl: 105\\n- HCO3: 24\\n- AnGap: 17\\n \\nReports:\\nEGD and Colonoscopy were normal without any signs of bleeding or abnormalities.']"
      ]
     },
     "execution_count": 104,
     "metadata": {},
     "output_type": "execute_result"
    }
   ],
   "source": [
    "completions"
   ]
  },
  {
   "cell_type": "code",
   "execution_count": 105,
   "id": "c04f82a3-129f-4a4e-8b48-b671a0572478",
   "metadata": {
    "papermill": {
     "duration": null,
     "end_time": null,
     "exception": null,
     "start_time": null,
     "status": "pending"
    },
    "tags": []
   },
   "outputs": [],
   "source": [
    "from rouge_score import rouge_scorer\n",
    "\n",
    "scorer = rouge_scorer.RougeScorer(['rouge1', \"rouge2\", 'rougeL'], use_stemmer=True)\n"
   ]
  },
  {
   "cell_type": "code",
   "execution_count": 106,
   "id": "08d868ac-c177-4ede-af67-98d01749255f",
   "metadata": {},
   "outputs": [],
   "source": [
    "all_scores = []\n",
    "for gen, ref in zip(completions, test_dataset['output'][:10]):\n",
    "    scores = scorer.score(gen, ref)\n",
    "    scores_dict = {\"rouge1_precision\":scores['rouge1'][0], \n",
    "                  \"rouge1_recall\":scores['rouge1'][1], \n",
    "                  \"rouge1_f1\":scores['rouge1'][2], \n",
    "                  \"rouge2_precision\":scores['rouge2'][0], \n",
    "                  \"rouge2_recall\":scores['rouge2'][1], \n",
    "                  \"rouge2_f1\":scores['rouge2'][2], \n",
    "                  \"rougeL_precision\":scores['rougeL'][0], \n",
    "                  \"rougeL_recall\":scores['rougeL'][1], \n",
    "                  \"rougeL_f1\":scores['rougeL'][2], }\n",
    "    all_scores.append(scores_dict)"
   ]
  },
  {
   "cell_type": "code",
   "execution_count": 107,
   "id": "8202309a-265d-4322-926a-b6194469dc18",
   "metadata": {},
   "outputs": [],
   "source": [
    "comparison_df = pd.DataFrame([completions, test_dataset['output'][:10]]).T.rename({0:\"GPT\", 1:\"gold-standard\"}, axis=1)"
   ]
  },
  {
   "cell_type": "code",
   "execution_count": 108,
   "id": "301bbeb2-2fdc-40da-9f08-226cb17ac21b",
   "metadata": {},
   "outputs": [],
   "source": [
    "comparison_df_styled = comparison_df.style.format({'completion_text': add_line_breaks})\n"
   ]
  },
  {
   "cell_type": "code",
   "execution_count": 116,
   "id": "840ef60e-c7d0-4f21-b3d0-f8dd332e3ad6",
   "metadata": {},
   "outputs": [
    {
     "data": {
      "text/html": [
       "<div>\n",
       "<style scoped>\n",
       "    .dataframe tbody tr th:only-of-type {\n",
       "        vertical-align: middle;\n",
       "    }\n",
       "\n",
       "    .dataframe tbody tr th {\n",
       "        vertical-align: top;\n",
       "    }\n",
       "\n",
       "    .dataframe thead th {\n",
       "        text-align: right;\n",
       "    }\n",
       "</style>\n",
       "<table border=\"1\" class=\"dataframe\">\n",
       "  <thead>\n",
       "    <tr style=\"text-align: right;\">\n",
       "      <th></th>\n",
       "      <th>GPT</th>\n",
       "      <th>gold-standard</th>\n",
       "    </tr>\n",
       "  </thead>\n",
       "  <tbody>\n",
       "    <tr>\n",
       "      <th>0</th>\n",
       "      <td>The patient, a male with a history of HCV, ETO...</td>\n",
       "      <td>___ with PMH HCV, ETOH cirrhosis with ascites,...</td>\n",
       "    </tr>\n",
       "  </tbody>\n",
       "</table>\n",
       "</div>"
      ],
      "text/plain": [
       "                                                 GPT  \\\n",
       "0  The patient, a male with a history of HCV, ETO...   \n",
       "\n",
       "                                       gold-standard  \n",
       "0  ___ with PMH HCV, ETOH cirrhosis with ascites,...  "
      ]
     },
     "execution_count": 116,
     "metadata": {},
     "output_type": "execute_result"
    }
   ],
   "source": []
  },
  {
   "cell_type": "code",
   "execution_count": 117,
   "id": "76092963-2397-4706-9d2e-29420f87b570",
   "metadata": {
    "scrolled": true
   },
   "outputs": [
    {
     "data": {
      "text/html": [
       "<table border=\"1\" class=\"dataframe\">\n",
       "  <thead>\n",
       "    <tr style=\"text-align: right;\">\n",
       "      <th></th>\n",
       "      <th>GPT</th>\n",
       "      <th>gold-standard</th>\n",
       "    </tr>\n",
       "  </thead>\n",
       "  <tbody>\n",
       "    <tr>\n",
       "      <th>0</th>\n",
       "      <td>The patient, a male with a history of HCV, ETOH cirrhosis, lymphedema, and COPD, presented with increasing jaundice, abdominal pain, and distension. On examination, he had tense ascites, diffuse tenderness throughout the abdomen, and crackles heard on lung auscultation. Imaging studies showed a shrunken cirrhotic liver, a liver mass, and moderate ascites. Laboratory results were significant for low hemoglobin and platelet counts, and elevated liver enzymes. The patient underwent a paracentesis, which revealed no evidence of spontaneous bacterial peritonitis. Microbiological cultures were negative. He was discharged with ongoing symptoms of abdominal pain and difficulty breathing.  Further evaluation with an MRI was recommended to assess the liver mass.</td>\n",
       "      <td>___ with PMH HCV, ETOH cirrhosis with ascites, hx of DVT, <br>lymphedema, COPD, hx of MRSA bacteremia s/p 4 week course of <br>daptomycin (completed ___ transfer from ___ after <br>presenting with 2 weeks of worsening abdominal distention and <br>pain as well as worsening jaundice found to have decompensated <br>cirrhosis, ___, and a new liver lesion very concerning for ___, <br>discharged to hospice.</td>\n",
       "    </tr>\n",
       "  </tbody>\n",
       "</table>"
      ],
      "text/plain": [
       "<IPython.core.display.HTML object>"
      ]
     },
     "metadata": {},
     "output_type": "display_data"
    }
   ],
   "source": [
    "with pd.option_context('display.max_colwidth', None):\n",
    "    pretty_print(comparison_df.iloc[[0]]\n",
    ")"
   ]
  },
  {
   "cell_type": "code",
   "execution_count": 110,
   "id": "2d5d24bc-4683-4aa8-8622-2ba0059588fd",
   "metadata": {},
   "outputs": [],
   "source": [
    "# with open(f\"comparison_simple_gpt3.5.html\", \"w\") as file:\n",
    "#     file.write(comparison_df_styled.to_html())"
   ]
  },
  {
   "cell_type": "code",
   "execution_count": 111,
   "id": "a35163ab-5806-4e6e-b439-dbba0a2be949",
   "metadata": {},
   "outputs": [
    {
     "data": {
      "text/plain": [
       "rouge1_precision    0.264161\n",
       "rouge1_recall       0.390879\n",
       "rouge1_f1           0.298986\n",
       "rouge2_precision    0.051340\n",
       "rouge2_recall       0.076467\n",
       "rouge2_f1           0.058354\n",
       "rougeL_precision    0.129027\n",
       "rougeL_recall       0.179565\n",
       "rougeL_f1           0.141151\n",
       "dtype: float64"
      ]
     },
     "execution_count": 111,
     "metadata": {},
     "output_type": "execute_result"
    }
   ],
   "source": [
    "import pandas as pd\n",
    "pd.DataFrame.from_records(all_scores).mean()"
   ]
  },
  {
   "cell_type": "markdown",
   "id": "36197ae1-f42e-4ca6-852b-5a46102c401c",
   "metadata": {},
   "source": [
    "# N-shot"
   ]
  },
  {
   "cell_type": "code",
   "execution_count": 451,
   "id": "8cfad60d-220c-4880-91c6-1ef6c5b4c0dc",
   "metadata": {},
   "outputs": [],
   "source": [
    "# examples = [\"Example\\n######\\n\\n\" + ex for ex in eval_dataset['output'][5:7]]\n",
    "ex1 = \"\"\"Mr. ___ presented to the ED s/p mechanical fall with head \n",
    "strike. CTH at OSH with subacute right SDH for which patient was \n",
    "transferred to ___ for evaluation and neurosurgery was \n",
    "consulted on arrival to ___ ED. \n",
    "\n",
    "#Right SDH\n",
    "Patient remained neurologically at his baseline in the ED. He \n",
    "was admitted to the neurosurgery service and transferred to the \n",
    "floor for continued neurological monitoring. Patient's INR on \n",
    "admission was 1.5 and he was given Vitamin K 10mg IV x1 and then \n",
    "vitamin K 5mg x2 for a total of 3 doses. Patient's INR was \n",
    "monitored closely during hospitalization and down trended \n",
    "appropriately. Repeat CTH showed a stable SDH size. Patient \n",
    "remained stable neurologically. He remained on TF as he was at \n",
    "home and will follow up with SLP and laryngologist outpatient. \n",
    "While hospitalized patient remained at his neurological \n",
    "baseline. \n",
    "\n",
    "#Hx colloid cyst rupture s/p bilateral VPS placement\n",
    "On patient's initial and repeat NCHCTs, his ventricles were \n",
    "shown to be slit. His bilateral VPS were turned up from 1.0 to \n",
    "1.5. No scan was repeated following adjustment of his VPS \n",
    "settings. He remained neurologically stable following this \n",
    "change. \n",
    "\n",
    "#Hx of DVT\n",
    "Patient with a history of bilateral femoral vein occlusive DVTs \n",
    "for which he was started on Eliquis. Due to this subacute SDH \n",
    "Eliquis was held and bilateral LENIs were obtained to assess \n",
    "DVTs. These were negative for thrombus and the Eliquis was \n",
    "stopped indefinitely. Patient was placed on ___ 24hrs s/p \n",
    "trauma. \n",
    "\n",
    "#Disposition\n",
    "Patient was evaluated by physical therapy who recommended \n",
    "___ rehab. Patient was discharged to rehab on ___. \n",
    "Patient discharged with follow up instructions with Dr. ___ in \n",
    "4 weeks with a repeat non contrast CTH\"\"\"\n",
    "\n",
    "ex2 = \"\"\"Mr. ___ is a ___ y/o man w/ HTN who presented w/ sudden-onset LUE \n",
    "weakness ___ AM). Next day, presented to ED. Pt noted to have \n",
    "L facial droop, LUE weakness (more prominent distally) and \n",
    "decreased LUE sensation. CTA showed significant R ICA stenosis; \n",
    "U/S indicated occlusion between 80 and 100%. MRI brain showed \n",
    "acute small infarcts in R frontal and parietal lobes in the MCA \n",
    "territory, consistent w/ watershed infarcts. Started on ASA and \n",
    "clopidogrel.\"\"\"\n",
    "\n",
    "examples = [ex1, ex2]"
   ]
  },
  {
   "cell_type": "code",
   "execution_count": null,
   "id": "eb31cf29-fc62-4277-af8d-54b0c211acd8",
   "metadata": {
    "editable": true,
    "papermill": {
     "duration": 0.027346,
     "end_time": "2024-03-25T18:02:58.057966",
     "exception": false,
     "start_time": "2024-03-25T18:02:58.030620",
     "status": "completed"
    },
    "slideshow": {
     "slide_type": ""
    },
    "tags": []
   },
   "outputs": [],
   "source": [
    "gpt_inputs = []\n",
    "for datum in eval_dataset:\n",
    "    message_text = [{\"role\":\"system\",\"content\":\"You are a physician generating a summary brief hospital course from the patient encounter information given\"}]\n",
    "    \n",
    "    gpt_service_prompt = {\"role\":\"user\",\n",
    "                     \"content\":f\"Summarize the following patient hospital encounter into a brief hospital course:\\n\\n{datum['input']}.\\n\\nUse these two as examples:\\n\\n{'\\n\\n'.join(examples)}\" }\n",
    "    \n",
    "    message_text.append(gpt_service_prompt)\n",
    "    \n",
    "    # print(f\"Deprescribe Prompt: {message_text}\")\n",
    "    gpt_inputs.append(message_text)"
   ]
  },
  {
   "cell_type": "code",
   "execution_count": null,
   "id": "37aa1f36-25ab-48bf-a067-5906b627ce28",
   "metadata": {},
   "outputs": [],
   "source": [
    "# (((num_tokens_from_string(gpt_inputs[123][1]['content'], \"cl100k_base\")) / 1000 * 0.01) + (400 / 1000 * 0.03)) * 10_000"
   ]
  },
  {
   "cell_type": "code",
   "execution_count": null,
   "id": "462d25fe-3cfe-4279-b16b-4f72deec3bc1",
   "metadata": {},
   "outputs": [],
   "source": [
    "len(gpt_inputs)"
   ]
  },
  {
   "cell_type": "code",
   "execution_count": null,
   "id": "d2aa6512-6382-4d98-8eda-44918f85623b",
   "metadata": {
    "scrolled": true
   },
   "outputs": [],
   "source": [
    "print(gpt_inputs[0][1]['content'])"
   ]
  },
  {
   "cell_type": "code",
   "execution_count": null,
   "id": "572e845b-49e1-4898-a4f1-8e6b894df06b",
   "metadata": {
    "papermill": {
     "duration": 31.355898,
     "end_time": "2024-03-25T18:03:29.419355",
     "exception": false,
     "start_time": "2024-03-25T18:02:58.063457",
     "status": "completed"
    },
    "tags": []
   },
   "outputs": [],
   "source": [
    "completions = []\n",
    "for idx, gpt_input in enumerate(gpt_inputs[:10]):\n",
    "    completion_with_backoff(\n",
    "      engine=engine,\n",
    "      messages = gpt_input,        \n",
    "    )\n",
    "    print(idx)\n",
    "    completions.append(completion['choices'][0]['message']['content'])"
   ]
  },
  {
   "cell_type": "code",
   "execution_count": null,
   "id": "baf72e3c-4791-45f5-b043-0a861798af29",
   "metadata": {
    "scrolled": true
   },
   "outputs": [],
   "source": [
    "completions"
   ]
  },
  {
   "cell_type": "code",
   "execution_count": null,
   "id": "f43a29cf-3fd1-48ca-88b0-52fc3d441fe2",
   "metadata": {
    "papermill": {
     "duration": null,
     "end_time": null,
     "exception": null,
     "start_time": null,
     "status": "pending"
    },
    "tags": []
   },
   "outputs": [],
   "source": [
    "from rouge_score import rouge_scorer\n",
    "\n",
    "scorer = rouge_scorer.RougeScorer(['rouge1', \"rouge2\", 'rougeL'], use_stemmer=True)\n"
   ]
  },
  {
   "cell_type": "code",
   "execution_count": null,
   "id": "28b229e6-acd5-4ac4-ab0d-b5f74076bf82",
   "metadata": {},
   "outputs": [],
   "source": [
    "all_scores = []\n",
    "for gen, ref in zip(completions, eval_dataset['output'][:10]):\n",
    "    scores = scorer.score(gen, ref)\n",
    "    print(scores)\n",
    "    scores_dict = {\"rouge1_precision\":scores['rouge1'][0], \n",
    "                  \"rouge1_recall\":scores['rouge1'][1], \n",
    "                  \"rouge1_f1\":scores['rouge1'][2], \n",
    "                  \"rouge2_precision\":scores['rouge2'][0], \n",
    "                  \"rouge2_recall\":scores['rouge2'][1], \n",
    "                  \"rouge2_f1\":scores['rouge2'][2], \n",
    "                  \"rougeL_precision\":scores['rougeL'][0], \n",
    "                  \"rougeL_recall\":scores['rougeL'][1], \n",
    "                  \"rougeL_f1\":scores['rougeL'][2], }\n",
    "    all_scores.append(scores_dict)"
   ]
  },
  {
   "cell_type": "code",
   "execution_count": null,
   "id": "1e9255ba-2ae5-4c68-a07f-22513a6ec86a",
   "metadata": {},
   "outputs": [],
   "source": [
    "\n",
    "def add_line_breaks(text):\n",
    "    return text.replace('\\n', '<br>')\n"
   ]
  },
  {
   "cell_type": "code",
   "execution_count": null,
   "id": "87cf1811-ba8f-4aca-9183-f43316c23d68",
   "metadata": {},
   "outputs": [],
   "source": [
    "comparison_df = pd.DataFrame([completions, eval_dataset['output'][:10]]).T.rename({0:\"GPT\", 1:\"gold-standard\"}, axis=1)"
   ]
  },
  {
   "cell_type": "code",
   "execution_count": null,
   "id": "dd2cafaf-7d4d-4b80-981c-40295d67d1ba",
   "metadata": {},
   "outputs": [],
   "source": [
    "comparison_df_styled = comparison_df.style.format({'completion_text': add_line_breaks})\n"
   ]
  },
  {
   "cell_type": "code",
   "execution_count": null,
   "id": "c50a1145-d2ce-45a1-bcad-a1e705fe241b",
   "metadata": {},
   "outputs": [],
   "source": [
    "\n",
    "with open(f\"comparison_simple_gpt3.5_2shot.html\", \"w\") as file:\n",
    "    file.write(comparison_df_styled.to_html())"
   ]
  },
  {
   "cell_type": "code",
   "execution_count": null,
   "id": "a0743d01-a7e1-4798-b5e8-285a76ef8474",
   "metadata": {},
   "outputs": [],
   "source": [
    "import pandas as pd\n",
    "pd.DataFrame.from_records(all_scores).describe()"
   ]
  },
  {
   "cell_type": "markdown",
   "id": "bcd6407b-ed20-44ff-9774-32e208c5545b",
   "metadata": {},
   "source": [
    "# Integrate Service/Ward info\n",
    "\n",
    "This section will integrate the service-file to match the structure of the note as much as possible. "
   ]
  },
  {
   "cell_type": "code",
   "execution_count": 118,
   "id": "f69ddb74-986a-47fe-9639-8d2b21b2cf97",
   "metadata": {},
   "outputs": [],
   "source": [
    "target_test = pd.read_csv(challenge_data_fp + \"test_phase_1/discharge_target.csv.gz\", keep_default_na=False)\n"
   ]
  },
  {
   "cell_type": "code",
   "execution_count": 68,
   "id": "5579b3e5-c144-484a-b017-2f9f60151569",
   "metadata": {},
   "outputs": [],
   "source": [
    "# ward transfers\n",
    "transfers = pd.read_pickle('/gpfs/gibbs/project/rtaylor/shared/DischargeMe/mimiciv/hosp/cohort_transfers.pkl')\n",
    "\n",
    "# higher-level services (ICU, CARD, etc)\n",
    "services = pd.read_pickle('/gpfs/gibbs/project/rtaylor/shared/DischargeMe/mimiciv/hosp/cohort_services.pkl')\n"
   ]
  },
  {
   "cell_type": "code",
   "execution_count": 84,
   "id": "c6a25751-6b74-4f40-a98b-14543fa426a3",
   "metadata": {},
   "outputs": [],
   "source": [
    "transfers = transfers[transfers['eventtype'] != \"discharge\"]"
   ]
  },
  {
   "cell_type": "code",
   "execution_count": 85,
   "id": "e8180d9c-ce8c-45f2-9925-67fd247b9b01",
   "metadata": {},
   "outputs": [],
   "source": [
    "transfers = transfers.sort_values(['hadm_id', \"intime\"])"
   ]
  },
  {
   "cell_type": "code",
   "execution_count": 220,
   "id": "22962026-5424-44dd-a325-7eae4964317d",
   "metadata": {},
   "outputs": [],
   "source": [
    "discharging_transfer = transfers.groupby(\"hadm_id\").last().reset_index()"
   ]
  },
  {
   "cell_type": "code",
   "execution_count": 221,
   "id": "da601eff-1a40-4c8e-94d4-016297a36db3",
   "metadata": {},
   "outputs": [
    {
     "data": {
      "text/plain": [
       "careunit\n",
       "Medicine                                            59400\n",
       "Med/Surg                                            20460\n",
       "Emergency Department Observation                    20027\n",
       "Medicine/Cardiology                                 15441\n",
       "Neurology                                           14445\n",
       "Hematology/Oncology                                 13244\n",
       "Transplant                                          12433\n",
       "Vascular                                            10642\n",
       "Med/Surg/Trauma                                     10496\n",
       "Med/Surg/GYN                                         9831\n",
       "Hematology/Oncology Intermediate                     4937\n",
       "Surgery/Trauma                                       4525\n",
       "Cardiac Surgery                                      3442\n",
       "Surgery                                              2980\n",
       "Medicine/Cardiology Intermediate                     2626\n",
       "Psychiatry                                           1823\n",
       "Medical/Surgical (Gynecology)                        1684\n",
       "Observation                                          1351\n",
       "Medical Intensive Care Unit (MICU)                   1340\n",
       "Surgery/Pancreatic/Biliary/Bariatric                 1339\n",
       "Obstetrics (Postpartum & Antepartum)                 1313\n",
       "Cardiology Surgery Intermediate                      1024\n",
       "Medical/Surgical Intensive Care Unit (MICU/SICU)     1002\n",
       "Neuro Intermediate                                    917\n",
       "Cardiology                                            731\n",
       "PACU                                                  681\n",
       "Coronary Care Unit (CCU)                              520\n",
       "Surgical Intensive Care Unit (SICU)                   472\n",
       "Thoracic Surgery                                      468\n",
       "Obstetrics Postpartum                                 381\n",
       "Trauma SICU (TSICU)                                   302\n",
       "Neuro Stepdown                                        265\n",
       "Cardiac Vascular Intensive Care Unit (CVICU)          208\n",
       "Obstetrics Antepartum                                 163\n",
       "Neuro Surgical Intensive Care Unit (Neuro SICU)       101\n",
       "Labor & Delivery                                       51\n",
       "Unknown                                                42\n",
       "Name: count, dtype: int64"
      ]
     },
     "execution_count": 221,
     "metadata": {},
     "output_type": "execute_result"
    }
   ],
   "source": [
    "discharging_transfer['careunit'].value_counts()"
   ]
  },
  {
   "cell_type": "code",
   "execution_count": 222,
   "id": "a97dd1e2-604c-49e5-9eb6-68a556f7ab9f",
   "metadata": {},
   "outputs": [],
   "source": [
    "discharging_service = services.sort_values(['hadm_id', \"transfertime\"]).groupby(\"hadm_id\").last().reset_index()"
   ]
  },
  {
   "cell_type": "code",
   "execution_count": 233,
   "id": "0166749c-8801-44cb-87fc-e755f4ea8153",
   "metadata": {},
   "outputs": [
    {
     "data": {
      "text/plain": [
       "(14702, 4)"
      ]
     },
     "execution_count": 233,
     "metadata": {},
     "output_type": "execute_result"
    }
   ],
   "source": [
    "test_dataset_df = test_dataset.to_pandas(); test_dataset_df.shape"
   ]
  },
  {
   "cell_type": "code",
   "execution_count": 234,
   "id": "26e4a470-eadf-4888-b683-0ec543dddd5b",
   "metadata": {},
   "outputs": [
    {
     "data": {
      "text/plain": [
       "(14702, 6)"
      ]
     },
     "execution_count": 234,
     "metadata": {},
     "output_type": "execute_result"
    }
   ],
   "source": [
    "test_dataset_df = test_dataset_df.merge(discharging_transfer[['hadm_id', 'careunit', 'eventtype']], on=\"hadm_id\", how=\"left\"); test_dataset_df.shape"
   ]
  },
  {
   "cell_type": "code",
   "execution_count": 237,
   "id": "7dc4fd49-4a90-448d-9473-44821f62478a",
   "metadata": {},
   "outputs": [
    {
     "data": {
      "text/html": [
       "<div>\n",
       "<style scoped>\n",
       "    .dataframe tbody tr th:only-of-type {\n",
       "        vertical-align: middle;\n",
       "    }\n",
       "\n",
       "    .dataframe tbody tr th {\n",
       "        vertical-align: top;\n",
       "    }\n",
       "\n",
       "    .dataframe thead th {\n",
       "        text-align: right;\n",
       "    }\n",
       "</style>\n",
       "<table border=\"1\" class=\"dataframe\">\n",
       "  <thead>\n",
       "    <tr style=\"text-align: right;\">\n",
       "      <th></th>\n",
       "      <th>note_id</th>\n",
       "      <th>hadm_id</th>\n",
       "      <th>input</th>\n",
       "      <th>output</th>\n",
       "      <th>careunit</th>\n",
       "      <th>eventtype</th>\n",
       "      <th>curr_service</th>\n",
       "    </tr>\n",
       "  </thead>\n",
       "  <tbody>\n",
       "    <tr>\n",
       "      <th>0</th>\n",
       "      <td>19766998-DS-20</td>\n",
       "      <td>26231944</td>\n",
       "      <td>\\nName:  ___                Unit No:   ___\\n ...</td>\n",
       "      <td>___ with PMH HCV, ETOH cirrhosis with ascites,...</td>\n",
       "      <td>Med/Surg</td>\n",
       "      <td>transfer</td>\n",
       "      <td>MED</td>\n",
       "    </tr>\n",
       "    <tr>\n",
       "      <th>1</th>\n",
       "      <td>10336082-DS-11</td>\n",
       "      <td>28542384</td>\n",
       "      <td>\\nName:  ___             Unit No:   ___\\n \\nA...</td>\n",
       "      <td>___ yo F with recent lumbar laminectomy c/b MS...</td>\n",
       "      <td>Neurology</td>\n",
       "      <td>admit</td>\n",
       "      <td>MED</td>\n",
       "    </tr>\n",
       "    <tr>\n",
       "      <th>2</th>\n",
       "      <td>10481170-DS-22</td>\n",
       "      <td>26489329</td>\n",
       "      <td>\\nName:  ___                Unit No:   ___\\n ...</td>\n",
       "      <td>The patient was seen ___ the emergency departm...</td>\n",
       "      <td>Med/Surg/GYN</td>\n",
       "      <td>transfer</td>\n",
       "      <td>SURG</td>\n",
       "    </tr>\n",
       "    <tr>\n",
       "      <th>3</th>\n",
       "      <td>11576109-DS-14</td>\n",
       "      <td>22641254</td>\n",
       "      <td>\\nName:  ___                Unit No:   ___\\n ...</td>\n",
       "      <td>Ms. ___ is a ___ woman with a history of T2DM,...</td>\n",
       "      <td>Medicine/Cardiology</td>\n",
       "      <td>transfer</td>\n",
       "      <td>CMED</td>\n",
       "    </tr>\n",
       "    <tr>\n",
       "      <th>4</th>\n",
       "      <td>19249697-DS-17</td>\n",
       "      <td>29265750</td>\n",
       "      <td>\\nName:  ___                       Unit No:  ...</td>\n",
       "      <td>___ with IDDM and h/o provoked PE on apixiban ...</td>\n",
       "      <td>Vascular</td>\n",
       "      <td>admit</td>\n",
       "      <td>MED</td>\n",
       "    </tr>\n",
       "    <tr>\n",
       "      <th>...</th>\n",
       "      <td>...</td>\n",
       "      <td>...</td>\n",
       "      <td>...</td>\n",
       "      <td>...</td>\n",
       "      <td>...</td>\n",
       "      <td>...</td>\n",
       "      <td>...</td>\n",
       "    </tr>\n",
       "    <tr>\n",
       "      <th>14697</th>\n",
       "      <td>18995174-DS-17</td>\n",
       "      <td>27445071</td>\n",
       "      <td>\\nName:  ___                  Unit No:   ___\\...</td>\n",
       "      <td>___ M PMHx dilated non-ischemic cardiomyopathy...</td>\n",
       "      <td>Medicine/Cardiology</td>\n",
       "      <td>admit</td>\n",
       "      <td>CMED</td>\n",
       "    </tr>\n",
       "    <tr>\n",
       "      <th>14698</th>\n",
       "      <td>13588195-DS-9</td>\n",
       "      <td>26192891</td>\n",
       "      <td>\\nName:  ___                Unit No:   ___\\n ...</td>\n",
       "      <td>Mr. ___ is a ___ year-old man with CAD, HTN, H...</td>\n",
       "      <td>Med/Surg</td>\n",
       "      <td>admit</td>\n",
       "      <td>MED</td>\n",
       "    </tr>\n",
       "    <tr>\n",
       "      <th>14699</th>\n",
       "      <td>10873131-DS-17</td>\n",
       "      <td>26584893</td>\n",
       "      <td>\\nName:  ___                     Unit No:   _...</td>\n",
       "      <td>___ year old female with past medical history ...</td>\n",
       "      <td>Medicine</td>\n",
       "      <td>transfer</td>\n",
       "      <td>MED</td>\n",
       "    </tr>\n",
       "    <tr>\n",
       "      <th>14700</th>\n",
       "      <td>12332377-DS-11</td>\n",
       "      <td>25623241</td>\n",
       "      <td>\\nName:  ___                Unit No:   ___\\n ...</td>\n",
       "      <td>Mr. ___ is a ___ male with a past medical hist...</td>\n",
       "      <td>Med/Surg/Trauma</td>\n",
       "      <td>admit</td>\n",
       "      <td>MED</td>\n",
       "    </tr>\n",
       "    <tr>\n",
       "      <th>14701</th>\n",
       "      <td>11030142-DS-22</td>\n",
       "      <td>23318613</td>\n",
       "      <td>\\nName:  ___                Unit No:   ___\\n ...</td>\n",
       "      <td>Mr. ___ is a ___ year old male with a history ...</td>\n",
       "      <td>Medicine</td>\n",
       "      <td>admit</td>\n",
       "      <td>MED</td>\n",
       "    </tr>\n",
       "  </tbody>\n",
       "</table>\n",
       "<p>14702 rows × 7 columns</p>\n",
       "</div>"
      ],
      "text/plain": [
       "              note_id   hadm_id  \\\n",
       "0      19766998-DS-20  26231944   \n",
       "1      10336082-DS-11  28542384   \n",
       "2      10481170-DS-22  26489329   \n",
       "3      11576109-DS-14  22641254   \n",
       "4      19249697-DS-17  29265750   \n",
       "...               ...       ...   \n",
       "14697  18995174-DS-17  27445071   \n",
       "14698   13588195-DS-9  26192891   \n",
       "14699  10873131-DS-17  26584893   \n",
       "14700  12332377-DS-11  25623241   \n",
       "14701  11030142-DS-22  23318613   \n",
       "\n",
       "                                                   input  \\\n",
       "0       \\nName:  ___                Unit No:   ___\\n ...   \n",
       "1       \\nName:  ___             Unit No:   ___\\n \\nA...   \n",
       "2       \\nName:  ___                Unit No:   ___\\n ...   \n",
       "3       \\nName:  ___                Unit No:   ___\\n ...   \n",
       "4       \\nName:  ___                       Unit No:  ...   \n",
       "...                                                  ...   \n",
       "14697   \\nName:  ___                  Unit No:   ___\\...   \n",
       "14698   \\nName:  ___                Unit No:   ___\\n ...   \n",
       "14699   \\nName:  ___                     Unit No:   _...   \n",
       "14700   \\nName:  ___                Unit No:   ___\\n ...   \n",
       "14701   \\nName:  ___                Unit No:   ___\\n ...   \n",
       "\n",
       "                                                  output             careunit  \\\n",
       "0      ___ with PMH HCV, ETOH cirrhosis with ascites,...             Med/Surg   \n",
       "1      ___ yo F with recent lumbar laminectomy c/b MS...            Neurology   \n",
       "2      The patient was seen ___ the emergency departm...         Med/Surg/GYN   \n",
       "3      Ms. ___ is a ___ woman with a history of T2DM,...  Medicine/Cardiology   \n",
       "4      ___ with IDDM and h/o provoked PE on apixiban ...             Vascular   \n",
       "...                                                  ...                  ...   \n",
       "14697  ___ M PMHx dilated non-ischemic cardiomyopathy...  Medicine/Cardiology   \n",
       "14698  Mr. ___ is a ___ year-old man with CAD, HTN, H...             Med/Surg   \n",
       "14699  ___ year old female with past medical history ...             Medicine   \n",
       "14700  Mr. ___ is a ___ male with a past medical hist...      Med/Surg/Trauma   \n",
       "14701  Mr. ___ is a ___ year old male with a history ...             Medicine   \n",
       "\n",
       "      eventtype curr_service  \n",
       "0      transfer          MED  \n",
       "1         admit          MED  \n",
       "2      transfer         SURG  \n",
       "3      transfer         CMED  \n",
       "4         admit          MED  \n",
       "...         ...          ...  \n",
       "14697     admit         CMED  \n",
       "14698     admit          MED  \n",
       "14699  transfer          MED  \n",
       "14700     admit          MED  \n",
       "14701     admit          MED  \n",
       "\n",
       "[14702 rows x 7 columns]"
      ]
     },
     "execution_count": 237,
     "metadata": {},
     "output_type": "execute_result"
    }
   ],
   "source": [
    "test_dataset_df = test_dataset_df.merge(discharging_service[['hadm_id', 'curr_service']], on=\"hadm_id\", how=\"left\"); test_dataset_df"
   ]
  },
  {
   "cell_type": "code",
   "execution_count": 241,
   "id": "6888da5a-dbc7-4da4-8a11-f6bbff354188",
   "metadata": {},
   "outputs": [
    {
     "data": {
      "text/plain": [
       "curr_service\n",
       "MED      7616\n",
       "CMED     1340\n",
       "NMED     1333\n",
       "SURG     1293\n",
       "OMED      883\n",
       "ORTHO     699\n",
       "NSURG     481\n",
       "TRAUM     340\n",
       "VSURG     210\n",
       "CSURG     132\n",
       "GYN        99\n",
       "GU         95\n",
       "TSURG      87\n",
       "PSURG      42\n",
       "OBS        38\n",
       "PSYCH       8\n",
       "ENT         6\n",
       "Name: count, dtype: int64"
      ]
     },
     "execution_count": 241,
     "metadata": {},
     "output_type": "execute_result"
    }
   ],
   "source": [
    "test_dataset_df['curr_service'].value_counts()"
   ]
  },
  {
   "cell_type": "code",
   "execution_count": 202,
   "id": "7c3ef716-8c5f-4a0a-a731-ccf5d630a0b7",
   "metadata": {},
   "outputs": [
    {
     "data": {
      "text/plain": [
       "output\n",
       "False    697\n",
       "True      17\n",
       "Name: count, dtype: int64"
      ]
     },
     "execution_count": 202,
     "metadata": {},
     "output_type": "execute_result"
    }
   ],
   "source": [
    "# print(test_dataset_df[test_dataset_df['careunit'] == \"Med/Surg\"].sample(1)['output'].squeeze())\n",
    "\n",
    "test_dataset_df[test_dataset_df['careunit'] == \"Hematology/Oncology\"]['output'].str.contains(\"ACUTE ISSUES\", case=False).value_counts()"
   ]
  },
  {
   "cell_type": "code",
   "execution_count": 494,
   "id": "bda4d7d6-a453-4596-a13e-0a32166afd99",
   "metadata": {},
   "outputs": [
    {
     "data": {
      "text/html": [
       "<div>\n",
       "<style scoped>\n",
       "    .dataframe tbody tr th:only-of-type {\n",
       "        vertical-align: middle;\n",
       "    }\n",
       "\n",
       "    .dataframe tbody tr th {\n",
       "        vertical-align: top;\n",
       "    }\n",
       "\n",
       "    .dataframe thead th {\n",
       "        text-align: right;\n",
       "    }\n",
       "</style>\n",
       "<table border=\"1\" class=\"dataframe\">\n",
       "  <thead>\n",
       "    <tr style=\"text-align: right;\">\n",
       "      <th></th>\n",
       "      <th>note_id</th>\n",
       "      <th>hadm_id</th>\n",
       "      <th>input</th>\n",
       "      <th>output</th>\n",
       "      <th>careunit</th>\n",
       "      <th>eventtype</th>\n",
       "      <th>curr_service</th>\n",
       "    </tr>\n",
       "  </thead>\n",
       "  <tbody>\n",
       "    <tr>\n",
       "      <th>0</th>\n",
       "      <td>19766998-DS-20</td>\n",
       "      <td>26231944</td>\n",
       "      <td>\\nName:  ___                Unit No:   ___\\n ...</td>\n",
       "      <td>___ with PMH HCV, ETOH cirrhosis with ascites,...</td>\n",
       "      <td>Med/Surg</td>\n",
       "      <td>transfer</td>\n",
       "      <td>MED</td>\n",
       "    </tr>\n",
       "    <tr>\n",
       "      <th>1</th>\n",
       "      <td>10336082-DS-11</td>\n",
       "      <td>28542384</td>\n",
       "      <td>\\nName:  ___             Unit No:   ___\\n \\nA...</td>\n",
       "      <td>___ yo F with recent lumbar laminectomy c/b MS...</td>\n",
       "      <td>Neurology</td>\n",
       "      <td>admit</td>\n",
       "      <td>MED</td>\n",
       "    </tr>\n",
       "    <tr>\n",
       "      <th>2</th>\n",
       "      <td>10481170-DS-22</td>\n",
       "      <td>26489329</td>\n",
       "      <td>\\nName:  ___                Unit No:   ___\\n ...</td>\n",
       "      <td>The patient was seen ___ the emergency departm...</td>\n",
       "      <td>Med/Surg/GYN</td>\n",
       "      <td>transfer</td>\n",
       "      <td>SURG</td>\n",
       "    </tr>\n",
       "    <tr>\n",
       "      <th>3</th>\n",
       "      <td>11576109-DS-14</td>\n",
       "      <td>22641254</td>\n",
       "      <td>\\nName:  ___                Unit No:   ___\\n ...</td>\n",
       "      <td>Ms. ___ is a ___ woman with a history of T2DM,...</td>\n",
       "      <td>Medicine/Cardiology</td>\n",
       "      <td>transfer</td>\n",
       "      <td>CMED</td>\n",
       "    </tr>\n",
       "    <tr>\n",
       "      <th>4</th>\n",
       "      <td>19249697-DS-17</td>\n",
       "      <td>29265750</td>\n",
       "      <td>\\nName:  ___                       Unit No:  ...</td>\n",
       "      <td>___ with IDDM and h/o provoked PE on apixiban ...</td>\n",
       "      <td>Vascular</td>\n",
       "      <td>admit</td>\n",
       "      <td>MED</td>\n",
       "    </tr>\n",
       "    <tr>\n",
       "      <th>...</th>\n",
       "      <td>...</td>\n",
       "      <td>...</td>\n",
       "      <td>...</td>\n",
       "      <td>...</td>\n",
       "      <td>...</td>\n",
       "      <td>...</td>\n",
       "      <td>...</td>\n",
       "    </tr>\n",
       "    <tr>\n",
       "      <th>14697</th>\n",
       "      <td>18995174-DS-17</td>\n",
       "      <td>27445071</td>\n",
       "      <td>\\nName:  ___                  Unit No:   ___\\...</td>\n",
       "      <td>___ M PMHx dilated non-ischemic cardiomyopathy...</td>\n",
       "      <td>Medicine/Cardiology</td>\n",
       "      <td>admit</td>\n",
       "      <td>CMED</td>\n",
       "    </tr>\n",
       "    <tr>\n",
       "      <th>14698</th>\n",
       "      <td>13588195-DS-9</td>\n",
       "      <td>26192891</td>\n",
       "      <td>\\nName:  ___                Unit No:   ___\\n ...</td>\n",
       "      <td>Mr. ___ is a ___ year-old man with CAD, HTN, H...</td>\n",
       "      <td>Med/Surg</td>\n",
       "      <td>admit</td>\n",
       "      <td>MED</td>\n",
       "    </tr>\n",
       "    <tr>\n",
       "      <th>14699</th>\n",
       "      <td>10873131-DS-17</td>\n",
       "      <td>26584893</td>\n",
       "      <td>\\nName:  ___                     Unit No:   _...</td>\n",
       "      <td>___ year old female with past medical history ...</td>\n",
       "      <td>Medicine</td>\n",
       "      <td>transfer</td>\n",
       "      <td>MED</td>\n",
       "    </tr>\n",
       "    <tr>\n",
       "      <th>14700</th>\n",
       "      <td>12332377-DS-11</td>\n",
       "      <td>25623241</td>\n",
       "      <td>\\nName:  ___                Unit No:   ___\\n ...</td>\n",
       "      <td>Mr. ___ is a ___ male with a past medical hist...</td>\n",
       "      <td>Med/Surg/Trauma</td>\n",
       "      <td>admit</td>\n",
       "      <td>MED</td>\n",
       "    </tr>\n",
       "    <tr>\n",
       "      <th>14701</th>\n",
       "      <td>11030142-DS-22</td>\n",
       "      <td>23318613</td>\n",
       "      <td>\\nName:  ___                Unit No:   ___\\n ...</td>\n",
       "      <td>Mr. ___ is a ___ year old male with a history ...</td>\n",
       "      <td>Medicine</td>\n",
       "      <td>admit</td>\n",
       "      <td>MED</td>\n",
       "    </tr>\n",
       "  </tbody>\n",
       "</table>\n",
       "<p>14702 rows × 7 columns</p>\n",
       "</div>"
      ],
      "text/plain": [
       "              note_id   hadm_id  \\\n",
       "0      19766998-DS-20  26231944   \n",
       "1      10336082-DS-11  28542384   \n",
       "2      10481170-DS-22  26489329   \n",
       "3      11576109-DS-14  22641254   \n",
       "4      19249697-DS-17  29265750   \n",
       "...               ...       ...   \n",
       "14697  18995174-DS-17  27445071   \n",
       "14698   13588195-DS-9  26192891   \n",
       "14699  10873131-DS-17  26584893   \n",
       "14700  12332377-DS-11  25623241   \n",
       "14701  11030142-DS-22  23318613   \n",
       "\n",
       "                                                   input  \\\n",
       "0       \\nName:  ___                Unit No:   ___\\n ...   \n",
       "1       \\nName:  ___             Unit No:   ___\\n \\nA...   \n",
       "2       \\nName:  ___                Unit No:   ___\\n ...   \n",
       "3       \\nName:  ___                Unit No:   ___\\n ...   \n",
       "4       \\nName:  ___                       Unit No:  ...   \n",
       "...                                                  ...   \n",
       "14697   \\nName:  ___                  Unit No:   ___\\...   \n",
       "14698   \\nName:  ___                Unit No:   ___\\n ...   \n",
       "14699   \\nName:  ___                     Unit No:   _...   \n",
       "14700   \\nName:  ___                Unit No:   ___\\n ...   \n",
       "14701   \\nName:  ___                Unit No:   ___\\n ...   \n",
       "\n",
       "                                                  output             careunit  \\\n",
       "0      ___ with PMH HCV, ETOH cirrhosis with ascites,...             Med/Surg   \n",
       "1      ___ yo F with recent lumbar laminectomy c/b MS...            Neurology   \n",
       "2      The patient was seen ___ the emergency departm...         Med/Surg/GYN   \n",
       "3      Ms. ___ is a ___ woman with a history of T2DM,...  Medicine/Cardiology   \n",
       "4      ___ with IDDM and h/o provoked PE on apixiban ...             Vascular   \n",
       "...                                                  ...                  ...   \n",
       "14697  ___ M PMHx dilated non-ischemic cardiomyopathy...  Medicine/Cardiology   \n",
       "14698  Mr. ___ is a ___ year-old man with CAD, HTN, H...             Med/Surg   \n",
       "14699  ___ year old female with past medical history ...             Medicine   \n",
       "14700  Mr. ___ is a ___ male with a past medical hist...      Med/Surg/Trauma   \n",
       "14701  Mr. ___ is a ___ year old male with a history ...             Medicine   \n",
       "\n",
       "      eventtype curr_service  \n",
       "0      transfer          MED  \n",
       "1         admit          MED  \n",
       "2      transfer         SURG  \n",
       "3      transfer         CMED  \n",
       "4         admit          MED  \n",
       "...         ...          ...  \n",
       "14697     admit         CMED  \n",
       "14698     admit          MED  \n",
       "14699  transfer          MED  \n",
       "14700     admit          MED  \n",
       "14701     admit          MED  \n",
       "\n",
       "[14702 rows x 7 columns]"
      ]
     },
     "execution_count": 494,
     "metadata": {},
     "output_type": "execute_result"
    }
   ],
   "source": [
    "test_dataset_df"
   ]
  },
  {
   "cell_type": "code",
   "execution_count": 493,
   "id": "6a57f9be-d743-4413-840b-8e6259e56cb1",
   "metadata": {},
   "outputs": [
    {
     "name": "stdout",
     "output_type": "stream",
     "text": [
      "The patient's CT Abd/Pelvis in the ED was negative for an \n",
      "internal hernia. She was admitted to the ___ service under \n",
      "Dr ___.\n",
      "\n",
      "Neuro: The patient was alert and oriented throughout \n",
      "hospitalization; pain was initially managed with IV pain \n",
      "medication and then transitioned to PO pain medications once \n",
      "patient was tolerating a stage 2 diet. \n",
      "\n",
      "CV: The patient remained stable from a cardiovascular \n",
      "standpoint; vital signs were routinely monitored.\n",
      "\n",
      "Pulmonary: The patient remained stable from a pulmonary \n",
      "standpoint; vital signs were routinely monitored. Good pulmonary \n",
      "toilet, early ambulation and incentive spirometry were \n",
      "encouraged throughout hospitalization.\n",
      " \n",
      "GI/GU/FEN: The patient was initially kept NPO. She was initially \n",
      "kept NPO and started on a banana bag. Full work up including \n",
      "nutrition labs were sent and the patient was started on a \n",
      "PPI/Carafate. A RUQ ultrasound was negative for gallstones or \n",
      "cholecystits and an EGD was normal up to the jejunojejunal \n",
      "anastomosis with no evidence of marginal ulcers. Thereafter her \n",
      "diet was advanced sequentially to a Bariatric Stage 3 diet, \n",
      "which was well tolerated. Patient's intake and output were \n",
      "closely monitored.  \n",
      "\n",
      "ID: The patient's fever curves were closely watched for signs of \n",
      "infection. Her UA in the ED was positive for a UTI so she was \n",
      "started on Ciprofloxacin which was continued post-discharge for \n",
      "a total of 3 days.\n",
      "\n",
      "HEME: The patient's blood counts were closely watched for signs \n",
      "of bleeding, of which there were none.\n",
      "\n",
      "Prophylaxis: The patient received subcutaneous heparin and ___ \n",
      "dyne boots were used during this stay and was encouraged to get \n",
      "up and ambulate as early as possible.\n",
      "\n",
      "At the time of discharge on ___ the patient was doing \n",
      "well, afebrile with stable vital signs.  The patient was \n",
      "tolerating a stage 3 diet, ambulating, voiding without \n",
      "assistance, and pain was well controlled.  The patient received \n",
      "discharge teaching and follow-up instructions with understanding \n",
      "verbalized and agreement with the discharge plan.\n"
     ]
    }
   ],
   "source": [
    "print(test_dataset_df[test_dataset_df['curr_service'] == \"SURG\"]['output'].sample(1).squeeze())"
   ]
  },
  {
   "cell_type": "code",
   "execution_count": 400,
   "id": "4cb38827-d6f1-4440-9af1-6555b276ab28",
   "metadata": {
    "scrolled": true
   },
   "outputs": [
    {
     "data": {
      "text/html": [
       "<div>\n",
       "<style scoped>\n",
       "    .dataframe tbody tr th:only-of-type {\n",
       "        vertical-align: middle;\n",
       "    }\n",
       "\n",
       "    .dataframe tbody tr th {\n",
       "        vertical-align: top;\n",
       "    }\n",
       "\n",
       "    .dataframe thead th {\n",
       "        text-align: right;\n",
       "    }\n",
       "</style>\n",
       "<table border=\"1\" class=\"dataframe\">\n",
       "  <thead>\n",
       "    <tr style=\"text-align: right;\">\n",
       "      <th></th>\n",
       "      <th>output</th>\n",
       "    </tr>\n",
       "    <tr>\n",
       "      <th>curr_service</th>\n",
       "      <th></th>\n",
       "    </tr>\n",
       "  </thead>\n",
       "  <tbody>\n",
       "    <tr>\n",
       "      <th>OMED</th>\n",
       "      <td>0.768969</td>\n",
       "    </tr>\n",
       "    <tr>\n",
       "      <th>CMED</th>\n",
       "      <td>0.752985</td>\n",
       "    </tr>\n",
       "    <tr>\n",
       "      <th>PSYCH</th>\n",
       "      <td>0.750000</td>\n",
       "    </tr>\n",
       "    <tr>\n",
       "      <th>MED</th>\n",
       "      <td>0.721376</td>\n",
       "    </tr>\n",
       "    <tr>\n",
       "      <th>ORTHO</th>\n",
       "      <td>0.686695</td>\n",
       "    </tr>\n",
       "    <tr>\n",
       "      <th>PSURG</th>\n",
       "      <td>0.547619</td>\n",
       "    </tr>\n",
       "    <tr>\n",
       "      <th>OBS</th>\n",
       "      <td>0.421053</td>\n",
       "    </tr>\n",
       "    <tr>\n",
       "      <th>CSURG</th>\n",
       "      <td>0.363636</td>\n",
       "    </tr>\n",
       "    <tr>\n",
       "      <th>NMED</th>\n",
       "      <td>0.363091</td>\n",
       "    </tr>\n",
       "    <tr>\n",
       "      <th>NSURG</th>\n",
       "      <td>0.347193</td>\n",
       "    </tr>\n",
       "    <tr>\n",
       "      <th>GYN</th>\n",
       "      <td>0.303030</td>\n",
       "    </tr>\n",
       "    <tr>\n",
       "      <th>SURG</th>\n",
       "      <td>0.206497</td>\n",
       "    </tr>\n",
       "    <tr>\n",
       "      <th>VSURG</th>\n",
       "      <td>0.166667</td>\n",
       "    </tr>\n",
       "    <tr>\n",
       "      <th>TRAUM</th>\n",
       "      <td>0.158824</td>\n",
       "    </tr>\n",
       "    <tr>\n",
       "      <th>TSURG</th>\n",
       "      <td>0.137931</td>\n",
       "    </tr>\n",
       "    <tr>\n",
       "      <th>GU</th>\n",
       "      <td>0.126316</td>\n",
       "    </tr>\n",
       "    <tr>\n",
       "      <th>ENT</th>\n",
       "      <td>0.000000</td>\n",
       "    </tr>\n",
       "  </tbody>\n",
       "</table>\n",
       "</div>"
      ],
      "text/plain": [
       "                output\n",
       "curr_service          \n",
       "OMED          0.768969\n",
       "CMED          0.752985\n",
       "PSYCH         0.750000\n",
       "MED           0.721376\n",
       "ORTHO         0.686695\n",
       "PSURG         0.547619\n",
       "OBS           0.421053\n",
       "CSURG         0.363636\n",
       "NMED          0.363091\n",
       "NSURG         0.347193\n",
       "GYN           0.303030\n",
       "SURG          0.206497\n",
       "VSURG         0.166667\n",
       "TRAUM         0.158824\n",
       "TSURG         0.137931\n",
       "GU            0.126316\n",
       "ENT           0.000000"
      ]
     },
     "execution_count": 400,
     "metadata": {},
     "output_type": "execute_result"
    }
   ],
   "source": [
    "test_dataset_df.groupby(\"curr_service\").agg({\"output\":lambda x: x.str.contains(\"#\").sum()/x.shape[0]}).sort_values('output', ascending=False)"
   ]
  },
  {
   "cell_type": "code",
   "execution_count": 421,
   "id": "a2f4df67-72cf-478a-827e-e51f4228b4ae",
   "metadata": {
    "scrolled": true
   },
   "outputs": [
    {
     "data": {
      "text/html": [
       "<div>\n",
       "<style scoped>\n",
       "    .dataframe tbody tr th:only-of-type {\n",
       "        vertical-align: middle;\n",
       "    }\n",
       "\n",
       "    .dataframe tbody tr th {\n",
       "        vertical-align: top;\n",
       "    }\n",
       "\n",
       "    .dataframe thead th {\n",
       "        text-align: right;\n",
       "    }\n",
       "</style>\n",
       "<table border=\"1\" class=\"dataframe\">\n",
       "  <thead>\n",
       "    <tr style=\"text-align: right;\">\n",
       "      <th></th>\n",
       "      <th>output</th>\n",
       "    </tr>\n",
       "    <tr>\n",
       "      <th>careunit</th>\n",
       "      <th></th>\n",
       "    </tr>\n",
       "  </thead>\n",
       "  <tbody>\n",
       "    <tr>\n",
       "      <th>Medicine</th>\n",
       "      <td>3099</td>\n",
       "    </tr>\n",
       "    <tr>\n",
       "      <th>Med/Surg</th>\n",
       "      <td>1116</td>\n",
       "    </tr>\n",
       "    <tr>\n",
       "      <th>Medicine/Cardiology</th>\n",
       "      <td>750</td>\n",
       "    </tr>\n",
       "    <tr>\n",
       "      <th>Neurology</th>\n",
       "      <td>562</td>\n",
       "    </tr>\n",
       "    <tr>\n",
       "      <th>Hematology/Oncology</th>\n",
       "      <td>555</td>\n",
       "    </tr>\n",
       "    <tr>\n",
       "      <th>Med/Surg/Trauma</th>\n",
       "      <td>500</td>\n",
       "    </tr>\n",
       "    <tr>\n",
       "      <th>Transplant</th>\n",
       "      <td>457</td>\n",
       "    </tr>\n",
       "    <tr>\n",
       "      <th>Med/Surg/GYN</th>\n",
       "      <td>394</td>\n",
       "    </tr>\n",
       "    <tr>\n",
       "      <th>Vascular</th>\n",
       "      <td>367</td>\n",
       "    </tr>\n",
       "    <tr>\n",
       "      <th>Hematology/Oncology Intermediate</th>\n",
       "      <td>211</td>\n",
       "    </tr>\n",
       "    <tr>\n",
       "      <th>Surgery/Trauma</th>\n",
       "      <td>171</td>\n",
       "    </tr>\n",
       "    <tr>\n",
       "      <th>Medicine/Cardiology Intermediate</th>\n",
       "      <td>147</td>\n",
       "    </tr>\n",
       "    <tr>\n",
       "      <th>Cardiac Surgery</th>\n",
       "      <td>118</td>\n",
       "    </tr>\n",
       "    <tr>\n",
       "      <th>Neuro Intermediate</th>\n",
       "      <td>60</td>\n",
       "    </tr>\n",
       "    <tr>\n",
       "      <th>Medical Intensive Care Unit (MICU)</th>\n",
       "      <td>57</td>\n",
       "    </tr>\n",
       "    <tr>\n",
       "      <th>Surgery</th>\n",
       "      <td>56</td>\n",
       "    </tr>\n",
       "    <tr>\n",
       "      <th>Observation</th>\n",
       "      <td>47</td>\n",
       "    </tr>\n",
       "    <tr>\n",
       "      <th>Medical/Surgical Intensive Care Unit (MICU/SICU)</th>\n",
       "      <td>46</td>\n",
       "    </tr>\n",
       "    <tr>\n",
       "      <th>Cardiology Surgery Intermediate</th>\n",
       "      <td>22</td>\n",
       "    </tr>\n",
       "    <tr>\n",
       "      <th>Coronary Care Unit (CCU)</th>\n",
       "      <td>20</td>\n",
       "    </tr>\n",
       "    <tr>\n",
       "      <th>Neuro Stepdown</th>\n",
       "      <td>15</td>\n",
       "    </tr>\n",
       "    <tr>\n",
       "      <th>Surgical Intensive Care Unit (SICU)</th>\n",
       "      <td>11</td>\n",
       "    </tr>\n",
       "    <tr>\n",
       "      <th>Obstetrics (Postpartum &amp; Antepartum)</th>\n",
       "      <td>7</td>\n",
       "    </tr>\n",
       "    <tr>\n",
       "      <th>PACU</th>\n",
       "      <td>6</td>\n",
       "    </tr>\n",
       "    <tr>\n",
       "      <th>Psychiatry</th>\n",
       "      <td>6</td>\n",
       "    </tr>\n",
       "    <tr>\n",
       "      <th>Cardiac Vascular Intensive Care Unit (CVICU)</th>\n",
       "      <td>4</td>\n",
       "    </tr>\n",
       "    <tr>\n",
       "      <th>Neuro Surgical Intensive Care Unit (Neuro SICU)</th>\n",
       "      <td>4</td>\n",
       "    </tr>\n",
       "    <tr>\n",
       "      <th>Obstetrics Antepartum</th>\n",
       "      <td>3</td>\n",
       "    </tr>\n",
       "    <tr>\n",
       "      <th>Trauma SICU (TSICU)</th>\n",
       "      <td>2</td>\n",
       "    </tr>\n",
       "    <tr>\n",
       "      <th>Unknown</th>\n",
       "      <td>2</td>\n",
       "    </tr>\n",
       "    <tr>\n",
       "      <th>Obstetrics Postpartum</th>\n",
       "      <td>1</td>\n",
       "    </tr>\n",
       "  </tbody>\n",
       "</table>\n",
       "</div>"
      ],
      "text/plain": [
       "                                                  output\n",
       "careunit                                                \n",
       "Medicine                                            3099\n",
       "Med/Surg                                            1116\n",
       "Medicine/Cardiology                                  750\n",
       "Neurology                                            562\n",
       "Hematology/Oncology                                  555\n",
       "Med/Surg/Trauma                                      500\n",
       "Transplant                                           457\n",
       "Med/Surg/GYN                                         394\n",
       "Vascular                                             367\n",
       "Hematology/Oncology Intermediate                     211\n",
       "Surgery/Trauma                                       171\n",
       "Medicine/Cardiology Intermediate                     147\n",
       "Cardiac Surgery                                      118\n",
       "Neuro Intermediate                                    60\n",
       "Medical Intensive Care Unit (MICU)                    57\n",
       "Surgery                                               56\n",
       "Observation                                           47\n",
       "Medical/Surgical Intensive Care Unit (MICU/SICU)      46\n",
       "Cardiology Surgery Intermediate                       22\n",
       "Coronary Care Unit (CCU)                              20\n",
       "Neuro Stepdown                                        15\n",
       "Surgical Intensive Care Unit (SICU)                   11\n",
       "Obstetrics (Postpartum & Antepartum)                   7\n",
       "PACU                                                   6\n",
       "Psychiatry                                             6\n",
       "Cardiac Vascular Intensive Care Unit (CVICU)           4\n",
       "Neuro Surgical Intensive Care Unit (Neuro SICU)        4\n",
       "Obstetrics Antepartum                                  3\n",
       "Trauma SICU (TSICU)                                    2\n",
       "Unknown                                                2\n",
       "Obstetrics Postpartum                                  1"
      ]
     },
     "execution_count": 421,
     "metadata": {},
     "output_type": "execute_result"
    }
   ],
   "source": [
    "test_dataset_df.groupby(\"careunit\").agg({\"output\":lambda x: x.str.contains(\"#\").sum()}).sort_values('output', ascending=False)"
   ]
  },
  {
   "cell_type": "code",
   "execution_count": 420,
   "id": "a0c42bd0-73ca-43ec-9e11-87edc2a6155c",
   "metadata": {
    "scrolled": true
   },
   "outputs": [
    {
     "data": {
      "text/html": [
       "<div>\n",
       "<style scoped>\n",
       "    .dataframe tbody tr th:only-of-type {\n",
       "        vertical-align: middle;\n",
       "    }\n",
       "\n",
       "    .dataframe tbody tr th {\n",
       "        vertical-align: top;\n",
       "    }\n",
       "\n",
       "    .dataframe thead th {\n",
       "        text-align: right;\n",
       "    }\n",
       "</style>\n",
       "<table border=\"1\" class=\"dataframe\">\n",
       "  <thead>\n",
       "    <tr style=\"text-align: right;\">\n",
       "      <th></th>\n",
       "      <th>output</th>\n",
       "    </tr>\n",
       "    <tr>\n",
       "      <th>careunit</th>\n",
       "      <th></th>\n",
       "    </tr>\n",
       "  </thead>\n",
       "  <tbody>\n",
       "    <tr>\n",
       "      <th>Medicine</th>\n",
       "      <td>0.665450</td>\n",
       "    </tr>\n",
       "    <tr>\n",
       "      <th>Med/Surg</th>\n",
       "      <td>0.595836</td>\n",
       "    </tr>\n",
       "    <tr>\n",
       "      <th>Medicine/Cardiology</th>\n",
       "      <td>0.746269</td>\n",
       "    </tr>\n",
       "    <tr>\n",
       "      <th>Neurology</th>\n",
       "      <td>0.374168</td>\n",
       "    </tr>\n",
       "    <tr>\n",
       "      <th>Hematology/Oncology</th>\n",
       "      <td>0.777311</td>\n",
       "    </tr>\n",
       "    <tr>\n",
       "      <th>Med/Surg/Trauma</th>\n",
       "      <td>0.465116</td>\n",
       "    </tr>\n",
       "    <tr>\n",
       "      <th>Transplant</th>\n",
       "      <td>0.604497</td>\n",
       "    </tr>\n",
       "    <tr>\n",
       "      <th>Med/Surg/GYN</th>\n",
       "      <td>0.617555</td>\n",
       "    </tr>\n",
       "    <tr>\n",
       "      <th>Vascular</th>\n",
       "      <td>0.558600</td>\n",
       "    </tr>\n",
       "    <tr>\n",
       "      <th>Hematology/Oncology Intermediate</th>\n",
       "      <td>0.649231</td>\n",
       "    </tr>\n",
       "    <tr>\n",
       "      <th>Surgery/Trauma</th>\n",
       "      <td>0.453581</td>\n",
       "    </tr>\n",
       "    <tr>\n",
       "      <th>Medicine/Cardiology Intermediate</th>\n",
       "      <td>0.671233</td>\n",
       "    </tr>\n",
       "    <tr>\n",
       "      <th>Cardiac Surgery</th>\n",
       "      <td>0.590000</td>\n",
       "    </tr>\n",
       "    <tr>\n",
       "      <th>Neuro Intermediate</th>\n",
       "      <td>0.618557</td>\n",
       "    </tr>\n",
       "    <tr>\n",
       "      <th>Medical Intensive Care Unit (MICU)</th>\n",
       "      <td>0.721519</td>\n",
       "    </tr>\n",
       "    <tr>\n",
       "      <th>Surgery</th>\n",
       "      <td>0.341463</td>\n",
       "    </tr>\n",
       "    <tr>\n",
       "      <th>Observation</th>\n",
       "      <td>0.610390</td>\n",
       "    </tr>\n",
       "    <tr>\n",
       "      <th>Medical/Surgical Intensive Care Unit (MICU/SICU)</th>\n",
       "      <td>0.807018</td>\n",
       "    </tr>\n",
       "    <tr>\n",
       "      <th>Cardiology Surgery Intermediate</th>\n",
       "      <td>0.354839</td>\n",
       "    </tr>\n",
       "    <tr>\n",
       "      <th>Coronary Care Unit (CCU)</th>\n",
       "      <td>0.869565</td>\n",
       "    </tr>\n",
       "    <tr>\n",
       "      <th>Neuro Stepdown</th>\n",
       "      <td>0.681818</td>\n",
       "    </tr>\n",
       "    <tr>\n",
       "      <th>Surgical Intensive Care Unit (SICU)</th>\n",
       "      <td>0.392857</td>\n",
       "    </tr>\n",
       "    <tr>\n",
       "      <th>Obstetrics (Postpartum &amp; Antepartum)</th>\n",
       "      <td>0.388889</td>\n",
       "    </tr>\n",
       "    <tr>\n",
       "      <th>PACU</th>\n",
       "      <td>0.352941</td>\n",
       "    </tr>\n",
       "    <tr>\n",
       "      <th>Psychiatry</th>\n",
       "      <td>0.750000</td>\n",
       "    </tr>\n",
       "    <tr>\n",
       "      <th>Cardiac Vascular Intensive Care Unit (CVICU)</th>\n",
       "      <td>0.444444</td>\n",
       "    </tr>\n",
       "    <tr>\n",
       "      <th>Neuro Surgical Intensive Care Unit (Neuro SICU)</th>\n",
       "      <td>0.500000</td>\n",
       "    </tr>\n",
       "    <tr>\n",
       "      <th>Obstetrics Antepartum</th>\n",
       "      <td>0.500000</td>\n",
       "    </tr>\n",
       "    <tr>\n",
       "      <th>Trauma SICU (TSICU)</th>\n",
       "      <td>0.080000</td>\n",
       "    </tr>\n",
       "    <tr>\n",
       "      <th>Unknown</th>\n",
       "      <td>1.000000</td>\n",
       "    </tr>\n",
       "    <tr>\n",
       "      <th>Obstetrics Postpartum</th>\n",
       "      <td>0.500000</td>\n",
       "    </tr>\n",
       "  </tbody>\n",
       "</table>\n",
       "</div>"
      ],
      "text/plain": [
       "                                                    output\n",
       "careunit                                                  \n",
       "Medicine                                          0.665450\n",
       "Med/Surg                                          0.595836\n",
       "Medicine/Cardiology                               0.746269\n",
       "Neurology                                         0.374168\n",
       "Hematology/Oncology                               0.777311\n",
       "Med/Surg/Trauma                                   0.465116\n",
       "Transplant                                        0.604497\n",
       "Med/Surg/GYN                                      0.617555\n",
       "Vascular                                          0.558600\n",
       "Hematology/Oncology Intermediate                  0.649231\n",
       "Surgery/Trauma                                    0.453581\n",
       "Medicine/Cardiology Intermediate                  0.671233\n",
       "Cardiac Surgery                                   0.590000\n",
       "Neuro Intermediate                                0.618557\n",
       "Medical Intensive Care Unit (MICU)                0.721519\n",
       "Surgery                                           0.341463\n",
       "Observation                                       0.610390\n",
       "Medical/Surgical Intensive Care Unit (MICU/SICU)  0.807018\n",
       "Cardiology Surgery Intermediate                   0.354839\n",
       "Coronary Care Unit (CCU)                          0.869565\n",
       "Neuro Stepdown                                    0.681818\n",
       "Surgical Intensive Care Unit (SICU)               0.392857\n",
       "Obstetrics (Postpartum & Antepartum)              0.388889\n",
       "PACU                                              0.352941\n",
       "Psychiatry                                        0.750000\n",
       "Cardiac Vascular Intensive Care Unit (CVICU)      0.444444\n",
       "Neuro Surgical Intensive Care Unit (Neuro SICU)   0.500000\n",
       "Obstetrics Antepartum                             0.500000\n",
       "Trauma SICU (TSICU)                               0.080000\n",
       "Unknown                                           1.000000\n",
       "Obstetrics Postpartum                             0.500000"
      ]
     },
     "execution_count": 420,
     "metadata": {},
     "output_type": "execute_result"
    }
   ],
   "source": [
    "test_dataset_df.groupby(\"careunit\").agg({\"output\":lambda x: x.str.contains(\"#\").sum()/x.shape[0]}).sort_values('output', ascending=False).loc[test_dataset_df.groupby(\"careunit\").agg({\"output\":lambda x: x.str.contains(\"#\").sum()}).sort_values('output', ascending=False).index]"
   ]
  },
  {
   "cell_type": "code",
   "execution_count": 450,
   "id": "a502cf53-a0c1-4f8d-becd-5c4301011c75",
   "metadata": {},
   "outputs": [
    {
     "name": "stdout",
     "output_type": "stream",
     "text": [
      "Patient admission summary:\n",
      "Mr. ___ is a ___ y/o man w/ HTN who presented w/ sudden-onset LUE \n",
      "weakness ___ AM). Next day, presented to ED. Pt noted to have \n",
      "L facial droop, LUE weakness (more prominent distally) and \n",
      "decreased LUE sensation. CTA showed significant R ICA stenosis; \n",
      "U/S indicated occlusion between 80 and 100%. MRI brain showed \n",
      "acute small infarcts in R frontal and parietal lobes in the MCA \n",
      "territory, consistent w/ watershed infarcts. Started on ASA and \n",
      "clopidogrel.\n"
     ]
    }
   ],
   "source": [
    "print(test_dataset_df[test_dataset_df['careunit'] == \"Medicine\"]['output'].sample(1).squeeze())"
   ]
  },
  {
   "cell_type": "code",
   "execution_count": null,
   "id": "a9ec70b8-5bb1-463f-906a-392f6887e9f7",
   "metadata": {},
   "outputs": [],
   "source": []
  },
  {
   "cell_type": "code",
   "execution_count": null,
   "id": "b4b8fc68-ae05-453f-bc16-69bab676c327",
   "metadata": {},
   "outputs": [],
   "source": []
  }
 ],
 "metadata": {
  "kernelspec": {
   "display_name": "Python 3 (ipykernel)",
   "language": "python",
   "name": "python3"
  },
  "language_info": {
   "codemirror_mode": {
    "name": "ipython",
    "version": 3
   },
   "file_extension": ".py",
   "mimetype": "text/x-python",
   "name": "python",
   "nbconvert_exporter": "python",
   "pygments_lexer": "ipython3",
   "version": "3.12.2"
  }
 },
 "nbformat": 4,
 "nbformat_minor": 5
}
