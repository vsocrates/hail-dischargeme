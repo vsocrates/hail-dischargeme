{
 "cells": [
  {
   "cell_type": "markdown",
   "id": "32179576-2f4b-46f0-a5cc-180a647ce059",
   "metadata": {
    "editable": true,
    "slideshow": {
     "slide_type": ""
    },
    "tags": []
   },
   "source": [
    "# Full Pipeline for Generation of the Brief Hospital Course"
   ]
  },
  {
   "cell_type": "code",
   "execution_count": null,
   "id": "1a1bfcdf-ff0a-4351-a5e9-7f6ea72b2e5e",
   "metadata": {
    "editable": true,
    "slideshow": {
     "slide_type": ""
    },
    "tags": []
   },
   "outputs": [],
   "source": [
    "import pandas as pd\n",
    "import papermill as pm"
   ]
  },
  {
   "cell_type": "markdown",
   "id": "585be6b3-12ca-4aee-a729-c1b0d2995a26",
   "metadata": {
    "editable": true,
    "slideshow": {
     "slide_type": ""
    },
    "tags": []
   },
   "source": [
    "## Read in Test Set Patients"
   ]
  },
  {
   "cell_type": "code",
   "execution_count": null,
   "id": "d137ffdb-0b63-4ca9-b3a4-6d3fbc5347f0",
   "metadata": {},
   "outputs": [],
   "source": [
    "challenge_data_fp = \"/gpfs/milgram/project/rtaylor/shared/DischargeMe/public/\"\n"
   ]
  },
  {
   "cell_type": "code",
   "execution_count": null,
   "id": "8addd285-ee49-497c-ad25-ebd331c0def9",
   "metadata": {},
   "outputs": [],
   "source": [
    "target_train = pd.read_csv(challenge_data_fp + \"train/discharge_target.csv.gz\", keep_default_na=False)\n",
    "target_valid = pd.read_csv(challenge_data_fp + \"valid/discharge_target.csv.gz\", keep_default_na=False)\n",
    "target_test = pd.read_csv(challenge_data_fp + \"test_phase_1/discharge_target.csv.gz\", keep_default_na=False)\n"
   ]
  },
  {
   "cell_type": "code",
   "execution_count": null,
   "id": "c892738a-6414-4a65-ad15-e5c819d23711",
   "metadata": {},
   "outputs": [],
   "source": [
    "discharge_summ_train = pd.read_csv(challenge_data_fp + \"train/discharge.csv.gz\", keep_default_na=False)\n",
    "discharge_summ_valid = pd.read_csv(challenge_data_fp + \"valid/discharge.csv.gz\", keep_default_na=False)\n",
    "discharge_summ_test = pd.read_csv(challenge_data_fp + \"test_phase_1/discharge.csv.gz\", keep_default_na=False)"
   ]
  },
  {
   "cell_type": "code",
   "execution_count": null,
   "id": "f7b44e07-b886-488a-9aef-607002142b3c",
   "metadata": {},
   "outputs": [],
   "source": [
    "note_id = discharge_summ_train['note_id'].sample(1).squeeze()"
   ]
  },
  {
   "cell_type": "code",
   "execution_count": null,
   "id": "03a1c4f0-a56d-4052-9a29-c580f580521a",
   "metadata": {},
   "outputs": [],
   "source": []
  },
  {
   "cell_type": "markdown",
   "id": "a9a450e6-838f-476c-bef0-d697b05f57ea",
   "metadata": {},
   "source": [
    "## Generate SOAP notes for patient"
   ]
  },
  {
   "cell_type": "code",
   "execution_count": null,
   "id": "eca85097-fae3-4dfb-b39a-9b57cbd03d77",
   "metadata": {
    "editable": true,
    "scrolled": true,
    "slideshow": {
     "slide_type": ""
    },
    "tags": []
   },
   "outputs": [],
   "source": [
    "pm.execute_notebook(\n",
    "   'Step1_SOAP_Note_Generation.ipynb',\n",
    "   'Step1_SOAP_Note_Generation.ipynb',\n",
    "   parameters=dict(soap_notes_fp=f\"soap_note_sample1test_{note_id}.csv\", note_id=note_id),\n",
    "    log_output=True,\n",
    "    autosave_cell_every=10\n",
    ")\n",
    "\n",
    "# !papermill Step1_SOAP_Note_Generation.ipynb Step1_SOAP_Note_Generation.ipynb -p soap_notes_fp    --"
   ]
  },
  {
   "cell_type": "markdown",
   "id": "e78bcf98-3371-4651-85ae-bc3e9c98675a",
   "metadata": {
    "editable": true,
    "slideshow": {
     "slide_type": ""
    },
    "tags": []
   },
   "source": [
    "## Generate Brief Hospital Course from daily SOAP notes"
   ]
  },
  {
   "cell_type": "code",
   "execution_count": null,
   "id": "42240dd0-db01-4954-a83d-40f5a1c87876",
   "metadata": {
    "editable": true,
    "scrolled": true,
    "slideshow": {
     "slide_type": ""
    },
    "tags": []
   },
   "outputs": [],
   "source": [
    "pm.execute_notebook(\n",
    "   'Step2_Brief_Hospital_Course_GPT.ipynb',\n",
    "   'Step2_Brief_Hospital_Course_GPT.ipynb',\n",
    "   parameters=dict(soap_notes_fp=f\"soap_note_sample1test_{note_id}.csv\", \n",
    "                   bhc_html_fp=f\"sample1html_{note_id}.html\",\n",
    "                  scores_fp=f\"sample1scores_{note_id}.csv\"),\n",
    "    log_output=True,\n",
    "    autosave_cell_every=10\n",
    ")\n",
    "\n",
    "# !papermill Step2_Brief_Hospital_Course_GPT.ipynb Step2_Brief_Hospital_Course_GPT.ipynb -p soap_notes_fp \"soap_note_sample1test.csv\" bhc_html_fp \"sample1html.html\" scores_fp \"sample1scores.csv\" --log-output"
   ]
  },
  {
   "cell_type": "markdown",
   "id": "812f2cd9-8ced-4fcf-aca2-a3e4f02dd525",
   "metadata": {},
   "source": [
    "## Generate Discharge Instructions from Brief Hospital Course"
   ]
  },
  {
   "cell_type": "code",
   "execution_count": null,
   "id": "756d2dd3-27ef-439b-ae27-600cce027785",
   "metadata": {},
   "outputs": [],
   "source": []
  }
 ],
 "metadata": {
  "kernelspec": {
   "display_name": "Python 3 (ipykernel)",
   "language": "python",
   "name": "python3"
  },
  "language_info": {
   "codemirror_mode": {
    "name": "ipython",
    "version": 3
   },
   "file_extension": ".py",
   "mimetype": "text/x-python",
   "name": "python",
   "nbconvert_exporter": "python",
   "pygments_lexer": "ipython3",
   "version": "3.12.2"
  },
  "widgets": {
   "application/vnd.jupyter.widget-state+json": {
    "state": {},
    "version_major": 2,
    "version_minor": 0
   }
  }
 },
 "nbformat": 4,
 "nbformat_minor": 5
}
