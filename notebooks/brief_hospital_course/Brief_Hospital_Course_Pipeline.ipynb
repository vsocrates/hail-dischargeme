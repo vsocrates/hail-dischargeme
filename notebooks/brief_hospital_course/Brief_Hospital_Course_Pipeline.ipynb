{
 "cells": [
  {
   "cell_type": "markdown",
   "id": "32179576-2f4b-46f0-a5cc-180a647ce059",
   "metadata": {
    "editable": true,
    "slideshow": {
     "slide_type": ""
    },
    "tags": []
   },
   "source": [
    "# Full Pipeline for Generation of the Brief Hospital Course"
   ]
  },
  {
   "cell_type": "code",
   "execution_count": 1,
   "id": "1a1bfcdf-ff0a-4351-a5e9-7f6ea72b2e5e",
   "metadata": {
    "editable": true,
    "slideshow": {
     "slide_type": ""
    },
    "tags": []
   },
   "outputs": [],
   "source": [
    "import pandas as pd\n"
   ]
  },
  {
   "cell_type": "markdown",
   "id": "585be6b3-12ca-4aee-a729-c1b0d2995a26",
   "metadata": {
    "editable": true,
    "slideshow": {
     "slide_type": ""
    },
    "tags": []
   },
   "source": [
    "## Read in Test Set Patients"
   ]
  },
  {
   "cell_type": "code",
   "execution_count": 2,
   "id": "5418c74c-0b05-4026-8436-aed529e01d8f",
   "metadata": {},
   "outputs": [],
   "source": [
    "!export HF_DATASETS_CACHE=\"/gpfs/milgram/project/rtaylor/shared/DischargeMe/hf_cache\""
   ]
  },
  {
   "cell_type": "code",
   "execution_count": null,
   "id": "67071531-8d14-497b-933f-e144343f218f",
   "metadata": {
    "editable": true,
    "scrolled": true,
    "slideshow": {
     "slide_type": ""
    },
    "tags": []
   },
   "outputs": [],
   "source": [
    "from datasets import load_dataset\n",
    "\n",
    "# If the dataset is gated/private, make sure you have run huggingface-cli login\n",
    "configs = ['1. Discharge Summary Sections (Targets)', '2. Discharge Summaries', '3. Radiology Reports', '4. ED Stays', '5. ED Triages', '6. ED Diagnoses']\n",
    "datasets = []\n",
    "for config in configs:\n",
    "    dataset = load_dataset(\"justin13601/discharge-me\", config)\n",
    "    datasets.append(dataset)"
   ]
  },
  {
   "cell_type": "code",
   "execution_count": null,
   "id": "f7b44e07-b886-488a-9aef-607002142b3c",
   "metadata": {},
   "outputs": [],
   "source": [
    "target_test = pd.DataFrame(datasets[0]['test'])\n",
    "discharge_summ_test = pd.DataFrame(datasets[1]['test'])\n",
    "radiology_test = pd.DataFrame(datasets[2]['test'])\n",
    "edstay_test = pd.DataFrame(datasets[3]['test'])\n",
    "edtriage_test = pd.DataFrame(datasets[4]['test'])\n",
    "eddiags_test = pd.DataFrame(datasets[5]['test'])"
   ]
  },
  {
   "cell_type": "code",
   "execution_count": null,
   "id": "9c06acc9-ab6c-414e-859c-94947a889c30",
   "metadata": {
    "scrolled": true
   },
   "outputs": [],
   "source": [
    "print(discharge_summ.sample(1)['text'].squeeze())"
   ]
  },
  {
   "cell_type": "markdown",
   "id": "a9a450e6-838f-476c-bef0-d697b05f57ea",
   "metadata": {},
   "source": [
    "## Generate SOAP notes for patient"
   ]
  },
  {
   "cell_type": "code",
   "execution_count": 7,
   "id": "eca85097-fae3-4dfb-b39a-9b57cbd03d77",
   "metadata": {
    "editable": true,
    "slideshow": {
     "slide_type": ""
    },
    "tags": []
   },
   "outputs": [
    {
     "name": "stdout",
     "output_type": "stream",
     "text": [
      "Input Notebook:  Step1_SOAP_Note_Generation.ipynb\n",
      "Output Notebook: Step1_SOAP_Note_Generation.ipynb\n",
      "Executing notebook with kernel: python3\n",
      "Executing Cell 1---------------------------------------\n",
      "Ending Cell 1------------------------------------------\n",
      "Executing Cell 2---------------------------------------\n",
      "Ending Cell 2------------------------------------------\n",
      "Executing Cell 3---------------------------------------\n",
      "output = soap_note_sample1test.csv\n",
      "\n",
      "Ending Cell 3------------------------------------------\n",
      "Executing Cell 4---------------------------------------\n",
      "Ending Cell 4------------------------------------------\n",
      "Executing Cell 5---------------------------------------\n",
      "Ending Cell 5------------------------------------------\n",
      "Executing Cell 6---------------------------------------\n",
      "Ending Cell 6------------------------------------------\n",
      "Executing Cell 7---------------------------------------\n",
      "True\n",
      "Ending Cell 7------------------------------------------\n",
      "Executing Cell 8---------------------------------------\n",
      "Ending Cell 8------------------------------------------\n",
      "Executing Cell 9---------------------------------------\n",
      "Ending Cell 9------------------------------------------\n",
      "Executing Cell 10--------------------------------------\n",
      "Ending Cell 10-----------------------------------------\n",
      "Executing Cell 11--------------------------------------\n",
      "Ending Cell 11-----------------------------------------\n",
      "Executing Cell 12--------------------------------------\n",
      "Ending Cell 12-----------------------------------------\n",
      "Executing Cell 13--------------------------------------\n",
      "^C\n",
      "Ending Cell 13-----------------------------------------\n"
     ]
    }
   ],
   "source": [
    "!papermill Step1_SOAP_Note_Generation.ipynb Step1_SOAP_Note_Generation.ipynb -p soap_notes_fp \"soap_note_sample1test.csv\" --log-output"
   ]
  },
  {
   "cell_type": "markdown",
   "id": "e78bcf98-3371-4651-85ae-bc3e9c98675a",
   "metadata": {
    "editable": true,
    "slideshow": {
     "slide_type": ""
    },
    "tags": []
   },
   "source": [
    "## Generate Brief Hospital Course from daily SOAP notes"
   ]
  },
  {
   "cell_type": "code",
   "execution_count": null,
   "id": "42240dd0-db01-4954-a83d-40f5a1c87876",
   "metadata": {
    "editable": true,
    "slideshow": {
     "slide_type": ""
    },
    "tags": []
   },
   "outputs": [],
   "source": [
    "!papermill Step2_Brief_Hospital_Course_GPT.ipynb Step2_Brief_Hospital_Course_GPT.ipynb -p soap_notes_fp \"soap_note_sample1test.csv\" bhc_html_fp \"\" scores_fp \"\" --log-output"
   ]
  },
  {
   "cell_type": "markdown",
   "id": "812f2cd9-8ced-4fcf-aca2-a3e4f02dd525",
   "metadata": {},
   "source": [
    "## Generate Discharge Instructions from Brief Hospital Course"
   ]
  },
  {
   "cell_type": "code",
   "execution_count": null,
   "id": "756d2dd3-27ef-439b-ae27-600cce027785",
   "metadata": {},
   "outputs": [],
   "source": []
  }
 ],
 "metadata": {
  "kernelspec": {
   "display_name": "Python 3 (ipykernel)",
   "language": "python",
   "name": "python3"
  },
  "language_info": {
   "codemirror_mode": {
    "name": "ipython",
    "version": 3
   },
   "file_extension": ".py",
   "mimetype": "text/x-python",
   "name": "python",
   "nbconvert_exporter": "python",
   "pygments_lexer": "ipython3",
   "version": "3.10.13"
  },
  "widgets": {
   "application/vnd.jupyter.widget-state+json": {
    "state": {},
    "version_major": 2,
    "version_minor": 0
   }
  }
 },
 "nbformat": 4,
 "nbformat_minor": 5
}
