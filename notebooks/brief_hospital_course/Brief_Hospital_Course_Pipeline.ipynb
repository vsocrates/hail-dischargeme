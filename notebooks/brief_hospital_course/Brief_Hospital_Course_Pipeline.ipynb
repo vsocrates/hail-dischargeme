{
 "cells": [
  {
   "cell_type": "markdown",
   "id": "32179576-2f4b-46f0-a5cc-180a647ce059",
   "metadata": {},
   "source": [
    "# Full Pipeline for Generation of the Brief Hospital Course"
   ]
  },
  {
   "cell_type": "code",
   "execution_count": null,
   "id": "1a1bfcdf-ff0a-4351-a5e9-7f6ea72b2e5e",
   "metadata": {},
   "outputs": [],
   "source": [
    "import pandas as pd\n"
   ]
  }
 ],
 "metadata": {
  "kernelspec": {
   "display_name": "Python 3 (ipykernel)",
   "language": "python",
   "name": "python3"
  },
  "language_info": {
   "codemirror_mode": {
    "name": "ipython",
    "version": 3
   },
   "file_extension": ".py",
   "mimetype": "text/x-python",
   "name": "python",
   "nbconvert_exporter": "python",
   "pygments_lexer": "ipython3",
   "version": "3.10.13"
  },
  "widgets": {
   "application/vnd.jupyter.widget-state+json": {
    "state": {},
    "version_major": 2,
    "version_minor": 0
   }
  }
 },
 "nbformat": 4,
 "nbformat_minor": 5
}
