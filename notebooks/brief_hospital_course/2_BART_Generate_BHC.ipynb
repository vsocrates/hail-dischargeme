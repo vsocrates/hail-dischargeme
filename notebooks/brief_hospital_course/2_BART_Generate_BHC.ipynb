{
 "cells": [
  {
   "cell_type": "code",
   "execution_count": null,
   "id": "26f71feb-358a-4ae9-b332-f9936d07f1ec",
   "metadata": {
    "editable": true,
    "slideshow": {
     "slide_type": ""
    },
    "tags": [
     "parameters"
    ]
   },
   "outputs": [],
   "source": [
    "split = \"valid\"\n",
    "version = \"v1\"\n"
   ]
  },
  {
   "cell_type": "code",
   "execution_count": null,
   "id": "fa2ce77a-caa0-4719-9898-a43747f0a203",
   "metadata": {},
   "outputs": [],
   "source": [
    "import datasets\n",
    "from transformers import pipeline\n",
    "from transformers.pipelines.pt_utils import KeyDataset\n",
    "from tqdm.auto import tqdm\n",
    "from pathlib import Path\n"
   ]
  },
  {
   "cell_type": "code",
   "execution_count": null,
   "id": "f29333b2-6acf-4ece-a3cf-2b05c74dc40b",
   "metadata": {},
   "outputs": [],
   "source": [
    "pipe = pipeline(\"text2text-generation\", model=\"/home/vs428/Documents/DischargeMe/hail-dischargeme/notebooks/brief_hospital_course/template_code/bart-dischargeme-results_v2/checkpoint-16500\", device=0)"
   ]
  },
  {
   "cell_type": "code",
   "execution_count": null,
   "id": "6b14226a-1d91-4f02-8240-b3317c0cf0ab",
   "metadata": {},
   "outputs": [],
   "source": [
    "from pynvml import *\n",
    "\n",
    "\n",
    "def print_gpu_utilization():\n",
    "    nvmlInit()\n",
    "    handle = nvmlDeviceGetHandleByIndex(0)\n",
    "    info = nvmlDeviceGetMemoryInfo(handle)\n",
    "    print(f\"GPU memory occupied: {info.used//1024**2} MB.\", flush=True)\n",
    "\n",
    "\n",
    "def print_summary(result):\n",
    "    print(f\"Time: {result.metrics['train_runtime']:.2f}\", flush=True)\n",
    "    print(f\"Samples/second: {result.metrics['train_samples_per_second']:.2f}\", flush=True)\n",
    "    print_gpu_utilization()"
   ]
  },
  {
   "cell_type": "markdown",
   "id": "d6bdf57a-8ff5-4d9e-b129-3d216f54b4b9",
   "metadata": {
    "id": "wwtSPRJgomBS"
   },
   "source": [
    "## Data\n",
    "\n",
    "---"
   ]
  },
  {
   "cell_type": "code",
   "execution_count": null,
   "id": "67abc409-3df1-459d-8f2e-6ba02f2a18ab",
   "metadata": {},
   "outputs": [],
   "source": [
    "import pandas as pd\n",
    "from datasets import Dataset\n"
   ]
  },
  {
   "cell_type": "code",
   "execution_count": null,
   "id": "c0684a2b-4a92-4981-ad40-7dd400894956",
   "metadata": {},
   "outputs": [],
   "source": [
    "print_gpu_utilization()"
   ]
  },
  {
   "cell_type": "code",
   "execution_count": null,
   "id": "549619b1-de5f-4fa9-bf1f-7fa5ee35b6cc",
   "metadata": {},
   "outputs": [],
   "source": [
    "# train_data = pd.read_pickle(\"/gpfs/gibbs/project/rtaylor/shared/DischargeMe/public/train/discharge_target_with_preceding_text+structured_data.pickle\")\n",
    "# train_ds = Dataset.from_pandas(train_data[['hadm_id', \"bhc_preceding_text\", \"brief_hospital_course\"]], split=\"train\")\n"
   ]
  },
  {
   "cell_type": "code",
   "execution_count": null,
   "id": "922c2e5f-5b85-4415-aa00-c9d715498384",
   "metadata": {},
   "outputs": [],
   "source": [
    "if split == \"valid\":\n",
    "    fname = \"/gpfs/gibbs/project/rtaylor/shared/DischargeMe/public/valid/discharge_target_with_preceding_text+structured_data.pickle\"\n",
    "elif split == \"test_phase_1\":\n",
    "    fname = \"/gpfs/gibbs/project/rtaylor/shared/DischargeMe/public/test/discharge_target_with_preceding_text+structured_data.pickle\"\n",
    "else:\n",
    "    raise Exception(\"Split doesn't exist!\")"
   ]
  },
  {
   "cell_type": "code",
   "execution_count": null,
   "id": "51050e85-b594-4b3d-99a5-38b04aa20f69",
   "metadata": {},
   "outputs": [],
   "source": [
    "data = pd.read_pickle(fname)\n",
    "ds = Dataset.from_pandas(data[['hadm_id', \"bhc_preceding_text\", \"brief_hospital_course\"]], split=\"test\")\n"
   ]
  },
  {
   "cell_type": "code",
   "execution_count": null,
   "id": "9765756d-d0ce-43e2-a0a7-5e4b92bac557",
   "metadata": {},
   "outputs": [],
   "source": [
    "data['brief_hospital_course_word_count'].describe()"
   ]
  },
  {
   "cell_type": "code",
   "execution_count": null,
   "id": "bd05d541-018f-40c2-beb9-03da76281a0a",
   "metadata": {},
   "outputs": [],
   "source": [
    "ds"
   ]
  },
  {
   "cell_type": "code",
   "execution_count": null,
   "id": "18747070-ee92-4d7a-aafc-3ea5c82edbc8",
   "metadata": {},
   "outputs": [],
   "source": [
    "BATCH_SIZE = 16"
   ]
  },
  {
   "cell_type": "code",
   "execution_count": null,
   "id": "a940379d-5597-4290-8f98-ab2dbfecf9d7",
   "metadata": {},
   "outputs": [],
   "source": [
    "range(14952, ds.num_rows)"
   ]
  },
  {
   "cell_type": "code",
   "execution_count": null,
   "id": "6ed5354d-c15c-4702-8165-92ad00f93388",
   "metadata": {},
   "outputs": [],
   "source": [
    "ds.select(range(14576, ds.num_rows))"
   ]
  },
  {
   "cell_type": "code",
   "execution_count": null,
   "id": "18ff086c-18a2-492e-8f51-2b5d86e84d82",
   "metadata": {
    "scrolled": true
   },
   "outputs": [],
   "source": [
    "%%time\n",
    "# KeyDataset (only *pt*) will simply return the item in the dict returned by the dataset item\n",
    "# as we're not interested in the *target* part of the dataset. For sentence pair use KeyPairDataset\n",
    "outs = []\n",
    "for idx, out in enumerate(pipe(KeyDataset(ds.select(range(14576, ds.num_rows)), \"bhc_preceding_text\"), \n",
    "                     batch_size=BATCH_SIZE,\n",
    "                     clean_up_tokenization_spaces=True,\n",
    "                     truncation=True,\n",
    "                     return_text=True,\n",
    "                     max_length=1028,\n",
    "                     no_repeat_ngram_size=5, \n",
    "                     num_beams=3, \n",
    "                     early_stopping=True\n",
    "                    )):\n",
    "    print(f\"{idx}/920\")\n",
    "    outs.append(out)"
   ]
  },
  {
   "cell_type": "code",
   "execution_count": null,
   "id": "1851606a-5291-4f8f-afab-886ec9a0cf68",
   "metadata": {},
   "outputs": [],
   "source": [
    "print_gpu_utilization()"
   ]
  },
  {
   "cell_type": "code",
   "execution_count": null,
   "id": "d460705d-7607-49a6-9c20-dfb843d58ac1",
   "metadata": {},
   "outputs": [],
   "source": [
    "def flatten(xss):\n",
    "    return [x for xs in xss for x in xs]"
   ]
  },
  {
   "cell_type": "code",
   "execution_count": null,
   "id": "5ee32f9b-daf2-45f7-ad6f-8bcde0523377",
   "metadata": {},
   "outputs": [],
   "source": [
    "outs = flatten(outs)"
   ]
  },
  {
   "cell_type": "code",
   "execution_count": null,
   "id": "7a93b20a-aef0-422a-9288-f7ae70752db4",
   "metadata": {},
   "outputs": [],
   "source": [
    "data_out = pd.concat([data, pd.DataFrame.from_records(outs).rename({\"generated_text\": \"brief_hospital_course_BART\"}, axis=1)], axis=1)"
   ]
  },
  {
   "cell_type": "code",
   "execution_count": null,
   "id": "ae3d653f-7d8a-493f-a3f7-bd9caaf56ea5",
   "metadata": {},
   "outputs": [],
   "source": [
    "# data_out.to_pickle(f\"/home/vs428/Documents/DischargeMe/hail-dischargeme/notebooks/brief_hospital_course/outputs/bhc_scores/{Path(fname).stem}_BART_gen_{version}.pickle\")"
   ]
  },
  {
   "cell_type": "code",
   "execution_count": null,
   "id": "665e8e82-6551-4db9-9f03-12f53ac07401",
   "metadata": {},
   "outputs": [],
   "source": []
  },
  {
   "cell_type": "code",
   "execution_count": null,
   "id": "7269bc0b-72ef-412a-a417-10ccf489aec1",
   "metadata": {},
   "outputs": [],
   "source": [
    "ds.num_rows/16"
   ]
  },
  {
   "cell_type": "code",
   "execution_count": null,
   "id": "4a98c23c-faf8-4fcd-8d53-01281557632c",
   "metadata": {},
   "outputs": [],
   "source": [
    "16 * 911"
   ]
  },
  {
   "cell_type": "markdown",
   "id": "8c398ad5-5adf-4ce8-b5e7-3d66c674524f",
   "metadata": {},
   "source": [
    "# Check results"
   ]
  },
  {
   "cell_type": "code",
   "execution_count": null,
   "id": "dc279b79-9ffe-4b9d-bad8-f8e8291520a3",
   "metadata": {},
   "outputs": [],
   "source": [
    "out = pd.read_pickle(\"/home/vs428/Documents/DischargeMe/hail-dischargeme/notebooks/brief_hospital_course/outputs/bhc_scores/discharge_target_with_preceding_text+structured_data_BART_gen_v1.pickle\")"
   ]
  },
  {
   "cell_type": "code",
   "execution_count": null,
   "id": "0fe2a1b9-d6f3-4d19-96de-cbfda32ad350",
   "metadata": {},
   "outputs": [],
   "source": [
    "out[[\"brief_hospital_course_BART\", 'brief_hospital_course']]"
   ]
  },
  {
   "cell_type": "code",
   "execution_count": null,
   "id": "22b5e4c9-65d4-4fc8-b56a-fa0ce008a0e1",
   "metadata": {},
   "outputs": [],
   "source": [
    "data_out['brief_hospital_course_BART'].isna().sum()\n"
   ]
  },
  {
   "cell_type": "code",
   "execution_count": null,
   "id": "1ac6dd33-dd61-4de6-8e4d-58be6df3a6b1",
   "metadata": {},
   "outputs": [],
   "source": []
  },
  {
   "cell_type": "code",
   "execution_count": null,
   "id": "d89a0bc5-468d-47d3-9d8c-2d017281c00e",
   "metadata": {},
   "outputs": [],
   "source": []
  },
  {
   "cell_type": "code",
   "execution_count": null,
   "id": "6a05db8a-375e-44e7-8537-7d7db185c24f",
   "metadata": {},
   "outputs": [],
   "source": []
  },
  {
   "cell_type": "code",
   "execution_count": 2,
   "id": "dac76cba-64a6-4206-aaec-df3caa5b186c",
   "metadata": {},
   "outputs": [
    {
     "name": "stdout",
     "output_type": "stream",
     "text": [
      "GPU memory occupied: 2086 MB.\n",
      "count    14719.000000\n",
      "mean       325.122495\n",
      "std        238.098437\n",
      "min         10.000000\n",
      "25%        160.000000\n",
      "50%        278.000000\n",
      "75%        439.000000\n",
      "max       4414.000000\n",
      "Name: brief_hospital_course_word_count, dtype: float64\n"
     ]
    }
   ],
   "source": [
    "\n",
    "split = \"valid\"\n",
    "version = \"v2_test\"\n",
    "\n",
    "import datasets\n",
    "from transformers import pipeline\n",
    "from transformers.pipelines.pt_utils import KeyDataset\n",
    "from tqdm.auto import tqdm\n",
    "from pathlib import Path\n",
    "\n",
    "\n",
    "pipe = pipeline(\"text2text-generation\", model=\"/home/vs428/Documents/DischargeMe/hail-dischargeme/notebooks/brief_hospital_course/template_code/bart-dischargeme-results_v2/checkpoint-16500\", device=0)\n",
    "\n",
    "\n",
    "from pynvml import *\n",
    "\n",
    "\n",
    "def print_gpu_utilization():\n",
    "    nvmlInit()\n",
    "    handle = nvmlDeviceGetHandleByIndex(0)\n",
    "    info = nvmlDeviceGetMemoryInfo(handle)\n",
    "    print(f\"GPU memory occupied: {info.used//1024**2} MB.\", flush=True)\n",
    "\n",
    "\n",
    "def print_summary(result):\n",
    "    print(f\"Time: {result.metrics['train_runtime']:.2f}\", flush=True)\n",
    "    print(f\"Samples/second: {result.metrics['train_samples_per_second']:.2f}\", flush=True)\n",
    "    print_gpu_utilization()\n",
    "\n",
    "\n",
    "import pandas as pd\n",
    "from datasets import Dataset\n",
    "\n",
    "\n",
    "print_gpu_utilization()\n",
    "\n",
    "# train_data = pd.read_pickle(\"/gpfs/gibbs/project/rtaylor/shared/DischargeMe/public/train/discharge_target_with_preceding_text+structured_data.pickle\")\n",
    "# train_ds = Dataset.from_pandas(train_data[['hadm_id', \"bhc_preceding_text\", \"brief_hospital_course\"]], split=\"train\")\n",
    "\n",
    "if split == \"valid\":\n",
    "    fname = \"/gpfs/gibbs/project/rtaylor/shared/DischargeMe/public/valid/discharge_target_with_preceding_text+structured_data.pickle\"\n",
    "elif split == \"test_phase_1\":\n",
    "    fname = \"/gpfs/gibbs/project/rtaylor/shared/DischargeMe/public/test_phase_1/discharge_target_with_preceding_text+structured_data.pickle\"\n",
    "else:\n",
    "    raise Exception(\"Split doesn't exist!\")\n",
    "\n",
    "\n",
    "data = pd.read_pickle(fname)\n",
    "ds = Dataset.from_pandas(data[['hadm_id', \"bhc_preceding_text\", \"brief_hospital_course\"]], split=\"test\")\n",
    "\n",
    "print(data['brief_hospital_course_word_count'].describe())\n",
    "\n"
   ]
  },
  {
   "cell_type": "code",
   "execution_count": 6,
   "id": "20f35319-7462-4244-9162-00414925702e",
   "metadata": {},
   "outputs": [
    {
     "name": "stdout",
     "output_type": "stream",
     "text": [
      "Dataset({\n",
      "    features: ['hadm_id', 'bhc_preceding_text', 'brief_hospital_course'],\n",
      "    num_rows: 14719\n",
      "})\n"
     ]
    },
    {
     "data": {
      "application/vnd.jupyter.widget-view+json": {
       "model_id": "afc6043f8fcb4d26805fd44230251cbe",
       "version_major": 2,
       "version_minor": 0
      },
      "text/plain": [
       "  0%|          | 0/920 [00:00<?, ?it/s]"
      ]
     },
     "metadata": {},
     "output_type": "display_data"
    },
    {
     "name": "stdout",
     "output_type": "stream",
     "text": [
      "CPU times: user 9min 8s, sys: 1.05 s, total: 9min 9s\n",
      "Wall time: 9min 15s\n"
     ]
    }
   ],
   "source": [
    "%%time\n",
    "\n",
    "BATCH_SIZE = 16\n",
    "\n",
    "# KeyDataset (only *pt*) will simply return the item in the dict returned by the dataset item\n",
    "# as we're not interested in the *target* part of the dataset. For sentence pair use KeyPairDataset\n",
    "outs = []\n",
    "print(ds)\n",
    "ds = ds\n",
    "count = 0\n",
    "for out in tqdm(pipe(KeyDataset(ds, \"bhc_preceding_text\"), \n",
    "                     batch_size=BATCH_SIZE,\n",
    "                     clean_up_tokenization_spaces=True,\n",
    "                     truncation=True,\n",
    "                     return_text=True,\n",
    "                     max_length=1024,\n",
    "                     no_repeat_ngram_size=5, \n",
    "                     num_beams=3, \n",
    "                     early_stopping=True\n",
    "                    )):\n",
    "    outs.append(out)\n",
    "    count += 1\n",
    "    if count == 100:\n",
    "        break\n",
    "        \n",
    "\n"
   ]
  },
  {
   "cell_type": "code",
   "execution_count": 7,
   "id": "ce0ab8b6-8f53-470e-a102-341833105d8a",
   "metadata": {},
   "outputs": [
    {
     "name": "stdout",
     "output_type": "stream",
     "text": [
      "GPU memory occupied: 21360 MB.\n"
     ]
    }
   ],
   "source": [
    "print_gpu_utilization()\n",
    "def flatten(xss):\n",
    "    return [x for xs in xss for x in xs]\n",
    "\n",
    "outs = flatten(outs)\n",
    "\n",
    "data_out = pd.concat([data, pd.DataFrame.from_records(outs).rename({\"generated_text\": \"brief_hospital_course_BART\"}, axis=1)], axis=1)\n"
   ]
  },
  {
   "cell_type": "code",
   "execution_count": 8,
   "id": "78bd0dd9-c81a-4b10-9b84-66f10fa90565",
   "metadata": {},
   "outputs": [
    {
     "data": {
      "text/plain": [
       "100"
      ]
     },
     "execution_count": 8,
     "metadata": {},
     "output_type": "execute_result"
    }
   ],
   "source": [
    "data_out.shape[0] - data_out['brief_hospital_course_BART'].isna().sum()"
   ]
  },
  {
   "cell_type": "code",
   "execution_count": null,
   "id": "8830e106-743a-47a3-8830-1dc022433f67",
   "metadata": {},
   "outputs": [],
   "source": [
    "\n",
    "# print(\"Writing file to:\")\n",
    "# print(f\"/home/vs428/Documents/DischargeMe/hail-dischargeme/notebooks/brief_hospital_course/outputs/bhc_scores/{Path(fname).stem}_BART_gen_{version}.pickle\")\n",
    "# data_out.to_pickle(f\"/home/vs428/Documents/DischargeMe/hail-dischargeme/notebooks/brief_hospital_course/outputs/bhc_scores/{Path(fname).stem}_BART_gen_{version}.pickle\")\n",
    "\n"
   ]
  },
  {
   "cell_type": "code",
   "execution_count": 12,
   "id": "944945d3-6de6-4d25-bc29-d2a319be82e8",
   "metadata": {},
   "outputs": [],
   "source": [
    "import sys\n",
    "sys.path.insert(0,\"../../scoring\")"
   ]
  },
  {
   "cell_type": "code",
   "execution_count": 15,
   "id": "8e73dd7d-6199-4d2e-bf5d-e0f2f266d530",
   "metadata": {},
   "outputs": [],
   "source": [
    "from scoring_bhc import calculate_scores_bhc\n",
    "from scoring_bhc import compute_overall_score_bhc"
   ]
  },
  {
   "cell_type": "code",
   "execution_count": 16,
   "id": "0abd87f5-b493-421c-a656-4fc82fa48524",
   "metadata": {},
   "outputs": [],
   "source": [
    "from scoring_instructions import calculate_scores_instructions\n",
    "from scoring_instructions import compute_overall_score_instructions"
   ]
  },
  {
   "cell_type": "markdown",
   "id": "aedf11c7-f035-4c28-b040-f6b69867c1c7",
   "metadata": {},
   "source": [
    "# Test"
   ]
  },
  {
   "cell_type": "code",
   "execution_count": 54,
   "id": "863ff3b0-ca88-434d-b53b-1421908a24de",
   "metadata": {},
   "outputs": [],
   "source": [
    "bart_results = data_out[~data_out['brief_hospital_course_BART'].isna()]"
   ]
  },
  {
   "cell_type": "code",
   "execution_count": 74,
   "id": "62c1c563-16c0-4c55-a1c8-601a694a4b1a",
   "metadata": {
    "scrolled": true
   },
   "outputs": [
    {
     "name": "stdout",
     "output_type": "stream",
     "text": [
      " \n",
      "Name:  ___                    Unit No:   ___\n",
      " \n",
      "Admission Date:  ___              Discharge Date:   ___\n",
      " \n",
      "Date of Birth:  ___             Sex:   F\n",
      " \n",
      "Service: MEDICINE\n",
      " \n",
      "Allergies: \n",
      "Heparin Agents / Iodine-Iodine Containing / ACE Inhibitors / \n",
      "prednisone / contrast dye\n",
      " \n",
      "Attending: ___.\n",
      " \n",
      "Chief Complaint:\n",
      "SOB, Chest Pressure\n",
      " \n",
      "Major Surgical or Invasive Procedure:\n",
      "None\n",
      "\n",
      " \n",
      "History of Present Illness:\n",
      "Ms ___ is a ___ year old woman with PMHx notable for \n",
      "___, PE on coumadin since 1990s, pericardial effusion (___), \n",
      "and HIT who presents with chest tightness and sob for the last 3 \n",
      "days. SHe reports that she stopped her coumadin 7 days ago as \n",
      "she had a steroid injection for cervical pain. She reports that \n",
      "she does not know what her dry weight is. She weighs herself \n",
      "occasionally. In the setting of not feeling well for the last \n",
      "couple of days she has not taken her torsemide. She reports that \n",
      "the symtpoms are worse with exertion. Reports non productive \n",
      "cough, no fevers or chills. She does feel like she has had a \n",
      "couple of \"hot flashes\". Pt reports ___ edema at baseline and \n",
      "denies change in weight. No n/v/d or recent falls. SHe does \n",
      "report that he daughter and grandson were sick ___ weeks ago.  \n",
      "In the ED intial vitals were: 6 98.9 72 150/pap 24 99%  \n",
      " \n",
      "Patient was given:  \n",
      "___ Fondaparinux 10 mg SC DAILY Start: Today - ___, First \n",
      "Dose: Next Routine Administration Time new  \n",
      "___ Furosemide 40 mg IV ONCE  \n",
      "Labs were notable for:  \n",
      "D-Dimer: 1596  \n",
      "___: 16.2 PTT: 34.3 INR: 1.5  \n",
      "proBNP: 401  \n",
      "Vitals on transfer: 85 158/78 16 98% Nasal Cannula  \n",
      "On the floor the patient reports that her breathing has mildy \n",
      "improved since she got the lasix.  \n",
      " \n",
      "ROS: On review of systems, s/he denies any prior history of \n",
      "stroke, TIA, deep venous thrombosis, pulmonary embolism, \n",
      "bleeding at the time of surgery, myalgias, joint pains, cough, \n",
      "hemoptysis, black stools or red stools. S/he denies recent \n",
      "fevers, chills or rigors. S/he denies exertional buttock or calf \n",
      "pain. All of the other review of systems were negative.  \n",
      " \n",
      "Cardiac review of systems is notable for absence of chest pain, \n",
      "dyspnea on exertion, paroxysmal nocturnal dyspnea, orthopnea, \n",
      "ankle edema, palpitations, syncope or presyncope.  \n",
      "\n",
      " \n",
      "Past Medical History:\n",
      "1. Obesity.  \n",
      "2. Chronic diastolic CHF.  \n",
      "3. Pulmonary hypertension, reportedly mild.  \n",
      "4. Sleep apnea/obesity hypoventilation syndrome  \n",
      "5. History of positive PPD.  \n",
      "6. Paroxysmal atrial fibrillation/flutter with RVR.  \n",
      "7. Mitral regurgitation.  \n",
      "8. PE in ___, on Coumadin.  \n",
      "9. COPD/asthma.  \n",
      "10. Hypertension.  \n",
      "11. Hypothyroidism.  \n",
      "12. Chronic dyspnea on exertion and hypoxia with need for home  \n",
      "O2. She uses four liters with exercise and currently three  \n",
      "liters with sleep (overnight oximetry performed on two liters in \n",
      " \n",
      "___, revealed 22 minutes less than 88%, for which her  \n",
      "\n",
      "nocturnal O2 was increased to 3 liters). DME is ___.  \n",
      "13. Anemia.  \n",
      "14. Tension headaches.  \n",
      "15. History of pericarditis with hemorrhagic pericardial  \n",
      "effusion status post pericardiocentesis in ___.  \n",
      "16. Sacroiliitis.  \n",
      "17. Cervical radiculopathy, with shoulder, back and neck pain.  \n",
      "18. Scoliosis.  \n",
      "19. Status post cataract surgery.  \n",
      "20. History of dysfunctional uterine bleeding status post  \n",
      "vaginal hysterectomy and left salpingo-oophorectomy in ___.  \n",
      "21. Vitamin D deficiency.  \n",
      " \n",
      "Social History:\n",
      "___\n",
      "Family History:\n",
      "No family history of early MI, arrhythmia, cardiomyopathies, or \n",
      "sudden cardiac death; otherwise non-contributory.  \n",
      " \n",
      "Physical Exam:\n",
      "Initial Physical Exam\n",
      "==========================\n",
      "VS: T=98.1 BP=152/78 HR=77 RR=22 O2 sat=100% on 5LNC  \n",
      "GENERAL: NAD, laying in bed. Oriented x3. Mood, affect \n",
      "appropriate.  \n",
      "HEENT: NCAT. Sclera anicteric. PERRL, EOMI. Conjunctiva were \n",
      "pink, no pallor or cyanosis of the oral mucosa. No xanthelasma.  \n",
      "\n",
      "NECK: Supple. Unable to appreciate JVP due to body habitus  \n",
      "CARDIAC: RRr, normal S1, S2. No m/r/g.  \n",
      "LUNGS: Resp were unlabored, no accessory muscle use. Difficult \n",
      "to auscultate. Distant breath sounds anteriorly, not ablt to \n",
      "asucultate posteriorly.  \n",
      "ABDOMEN: Soft, NTND. Obese  \n",
      "EXTREMITIES: 1+ lower extermity edema  \n",
      "SKIN: No stasis dermatitis, ulcers, scars, or xanthomas.  \n",
      "\n",
      "Discharge Physical Exam\n",
      "===========================\n",
      "VS: T=98.3 BP=103-121/48-63 HR=56-62 RR=18 O2 sat=96% on 4L  \n",
      "GENERAL: NAD, . Oriented x3. Mood, affect appropriate.  \n",
      "HEENT: NCAT. Sclera anicteric. EOMI, right ocular exotropia. no \n",
      "pallor or cyanosis of the oral mucosa. No xanthelasma.  \n",
      "NECK: Supple. Unable to appreciate JVP due to body habitus  \n",
      "CARDIAC: RRr, normal S1, S2. No m/r/g.  \n",
      "LUNGS: Resp were unlabored, no accessory muscle use. Difficult \n",
      "to auscultate. Distant breath sounds posteriorly.  \n",
      "ABDOMEN: Soft, NTND. Obese  \n",
      "EXTREMITIES: 1+ lower extermity edema  \n",
      "SKIN: No stasis dermatitis, ulcers, scars, or xanthomas.  \n",
      " \n",
      "Pertinent Results:\n",
      "Initial Lab Results\n",
      "========================\n",
      "\n",
      "___ 02:05PM BLOOD WBC-8.8 RBC-4.55# Hgb-13.6# Hct-43.9# \n",
      "MCV-97 MCH-30.0 MCHC-31.1 RDW-16.2* Plt ___\n",
      "___ 03:00PM BLOOD Glucose-94 UreaN-16 Creat-1.0 Na-139 \n",
      "K-4.7 Cl-102 HCO3-25 AnGap-17\n",
      "___ 02:05PM BLOOD cTropnT-<0.01\n",
      "___ 06:00AM BLOOD CK-MB-1 cTropnT-<0.01\n",
      "___ 03:00PM BLOOD proBNP-401*\n",
      "___ 06:00AM BLOOD Calcium-8.9 Phos-4.0 Mg-2.2\n",
      "___ 02:51PM BLOOD D-Dimer-1596*\n",
      "___ 02:49PM BLOOD Lactate-1.4\n",
      "\n",
      "Imaging\n",
      "===========================\n",
      "___ CXR\n",
      "FINDINGS: There is cardiomegaly as well as diffuse alveolar \n",
      "opacities and \n",
      "septal thickening consistent with mild pulmonary edema. The \n",
      "cardiomediastinal \n",
      "silhouette and hilar contours are normal.  The pleural surfaces \n",
      "are normal \n",
      "without effusion or pneumothorax.   \n",
      "  \n",
      "IMPRESSION: Mild pulmonary edema and cardiomegaly \n",
      "\n",
      "Discharge Labs\n",
      "============================\n",
      "\n",
      "___ 07:00AM BLOOD WBC-9.1 RBC-4.53 Hgb-13.6 Hct-44.8 \n",
      "MCV-99* MCH-30.0 MCHC-30.4* RDW-14.6 Plt ___\n",
      "___ 07:00AM BLOOD Glucose-117* UreaN-24* Creat-1.0 Na-142 \n",
      "K-4.4 Cl-96 HCO3-31 AnGap-19\n",
      "___ 07:00AM BLOOD Calcium-9.2 Phos-4.5 Mg-2.0\n",
      "___ 07:00AM BLOOD ___ PTT-41.5* ___\n",
      " \n",
      "\n"
     ]
    }
   ],
   "source": [
    "print(bart_results['bhc_preceding_text'].sample(1).squeeze())"
   ]
  },
  {
   "cell_type": "code",
   "execution_count": 20,
   "id": "982fb3f3-2f33-4357-a58f-171c21865717",
   "metadata": {},
   "outputs": [],
   "source": [
    "reference = bart_results[['hadm_id', \"brief_hospital_course\"]]\n",
    "generated = bart_results[['hadm_id', \"brief_hospital_course_BART\"]].rename({\"brief_hospital_course_BART\":\"brief_hospital_course\"}, axis=1)"
   ]
  },
  {
   "cell_type": "code",
   "execution_count": 21,
   "id": "29469f67-f9fa-4228-9feb-4ae2598ad797",
   "metadata": {
    "scrolled": true
   },
   "outputs": [
    {
     "name": "stdout",
     "output_type": "stream",
     "text": [
      "Beginning scoring...\n",
      "rougeScorer initialized\n",
      "Processed 128/100 samples.\n",
      "Processed 100/100 samples.\n",
      "Done.\n"
     ]
    }
   ],
   "source": [
    "scores = calculate_scores_bhc(generated,\n",
    "                 reference,\n",
    "                 [\n",
    "                     # \"bleu\", \n",
    "                  \"rouge\",\n",
    "                     # \"bertscore\",\n",
    "                     # \"meteor\"\n",
    "                 ])"
   ]
  },
  {
   "cell_type": "code",
   "execution_count": null,
   "id": "e82174e2-d327-4387-a90f-619d8be9a6ff",
   "metadata": {},
   "outputs": [],
   "source": []
  },
  {
   "cell_type": "code",
   "execution_count": 23,
   "id": "8705b4e3-1b83-4910-915c-7c3c88ce5a07",
   "metadata": {},
   "outputs": [],
   "source": [
    "from evaluate import load\n",
    "# Load the ROUGE metric\n",
    "import evaluate\n",
    "rouge = evaluate.load('rouge')"
   ]
  },
  {
   "cell_type": "code",
   "execution_count": 49,
   "id": "a783ccb0-0dea-45ee-a16f-3c1c724db5b1",
   "metadata": {},
   "outputs": [
    {
     "name": "stdout",
     "output_type": "stream",
     "text": [
      "{'rouge1': 0.3680905356845382, 'rouge2': 0.17954054111488255, 'rougeL': 0.2507297384670023, 'rougeLsum': 0.36203777225555756}\n"
     ]
    }
   ],
   "source": [
    "bart_results = rouge.compute(predictions=generated[\"brief_hospital_course\"].tolist(), references=reference[\"brief_hospital_course\"].tolist())\n",
    "print(bart_results)"
   ]
  },
  {
   "cell_type": "code",
   "execution_count": 53,
   "id": "425aca0e-4992-41a6-bb03-03feaa824882",
   "metadata": {},
   "outputs": [
    {
     "data": {
      "text/plain": [
       "{'rouge1': 0.3680905356845382,\n",
       " 'rouge2': 0.17954054111488255,\n",
       " 'rougeL': 0.2507297384670023,\n",
       " 'rougeLsum': 0.36203777225555756}"
      ]
     },
     "execution_count": 53,
     "metadata": {},
     "output_type": "execute_result"
    }
   ],
   "source": []
  },
  {
   "cell_type": "code",
   "execution_count": 37,
   "id": "6a04d690-d5a6-43e5-8449-7952131fb40b",
   "metadata": {
    "scrolled": true
   },
   "outputs": [
    {
     "name": "stdout",
     "output_type": "stream",
     "text": [
      "    brief_hospital_course                                                                                                   brief_hospital_course_BART\n",
      "--  ----------------------------------------------------------------------------------------------------------------------  -------------------------------------------------------------------------------------------------------------------------\n",
      "25  Mr ___ is a ___ yr old male with hx of                                                                                  ___ with history of treated diffuse large B-cell\n",
      "    DLBCL s/p 6C of R-CHOP, XRT to meseneteric mass in ___                                                                  lymphoma in ___, s/p 6 cycles of R-CHOP, XRT to\n",
      "    presenting with new onset abdominal pain, CT scan consistent                                                            mesenteric mass, recently noted to have relapsed\n",
      "    with widespread lymphadenopathy and mesenteric mass, exploratory                                                        disease, s/p 2 cycle of ICE course c/b persistent\n",
      "    laparotomy consistent with recurrent lymphoma, now s/p ERCP with                                                        emesis, lack of appetite, deconditioning,\n",
      "    pancreatic stenting and C2 ICE. Admitted for weakness and                                                               depression, biliary obstruction s/p ERCP w/stent\n",
      "    unsteadiness while counts at nadir.                                                                                     x 2, proximal RTA causing hypophosphatemia, and FN. He\n",
      "                                                                                                                            was recently admitted ___ to ___ for worsening\n",
      "    C2D16 ICE                                                                                                               abdominal pain and C2 ICE. He presented to the ED\n",
      "                                                                                                                            with worsening unsteadiness and weakness that started on\n",
      "    #Weakness/unsteadiness: no true fever documented but with                                                               ___. He had received transfusion of 2U PRBCs on\n",
      "    neutropenia concern for infection. initaited vanc/cefe                                                                  ___ and started to feel better. He also reports\n",
      "    empirically, d/c after neg cultures >48hrs                                                                              mild dry cough and diffuse upper abdominal pain that is\n",
      "    -b culture NTD, u culture contaminate, repeat PND                                                                       chronic and stable.\n",
      "    -CT head neg, CT torso stable, no acute source of infection\n",
      "    found                                                                                                                   ACTIVE ISSUES\n",
      "    -symptoms improved with count recovery, IVF                                                                             =============\n",
      "                                                                                                                            # Weakness\n",
      "    # Abdominal pain: Improved. Was of unclear etiology esp given                                                           # Unsteadiness\n",
      "    extensive w/u last admission, had ERCP w/ stent patent on ___,                                                          Patient presented with worsening unsteadiness\n",
      "    no ulcers on endoscopy. No signs of bowel obstruction. PET                                                              and weakness that started on ___. He had\n",
      "    improved therefore unlikely secondary to disease. abd u/s neg                                                           received transfusion of 2 U PRBCs on ___ and started to feel\n",
      "    for cholecystitis. Drug rxn vs intermittent, partial                                                                    better. He also reports mild dry cough and diffuse\n",
      "    obstruction?                                                                                                            upper abdominal pain that is chronic and\n",
      "    - continue oxycodone +/- simethicone, as responding well to                                                             stable. cranial nerve to 12\n",
      "    these                                                                                                                   intact, muscle strength out of 5 in upper and lower\n",
      "                                                                                                                            extremities.\n",
      "    # Relpased DLBCL: s/p C2 of ICE c/b FN and RTA from C1. PET\n",
      "    stable to improved s/p C1 of ICE. Plan to restage and screen for                                                        # Abdominal pain\n",
      "    auto with recovery after this most recent cycle.                                                                        Patient with chronic abdominal pain that is likely\n",
      "    -PET/echo/PFTs outpatient ___, f/u for labs ___ and to see Dr.                                                          related to his lymphoma. He had a CT abdomen/pelvis\n",
      "    ___ on ___                                                                                                              on ___ that showed no evidence of acute\n",
      "                                                                                                                            intra-abdominal process. He was continued on his home\n",
      "    # Fanconi's syndrome/RTA history: monitor for recurrence with                                                           regimen of oxycodone and acetaminophen.\n",
      "    most recent cycle of chemo. Type 1 proximal renal tubular\n",
      "    acidosis secondary to ___ s/p C1. Renal consulted last                                                                  CHRONIC ISSUES\n",
      "    admission, improved w/ po phos bid and less aggressive IV phos                                                          ===================\n",
      "    repletion (<1 or symptomatic).                                                                                          # Large B-cell lymphoma\n",
      "    - lytes stable this AM                                                                                                  Patient with relapsed disease, s/p two cycles of\n",
      "    - aggressive lyte sliding scales prn, check lytes BID only if                                                           ICE course c/bpersistent emesis, lack of\n",
      "    deficiencies noted on routine labs                                                                                      appetite, deconditioned, depression, biliary\n",
      "                                                                                                                            obstruction s/p EUS w/stent x 2. He was\n",
      "    # Hypophosphetemia: likely some degree of fanconis syndrome as                                                          continued on his home regimen of acyclovir,\n",
      "    above, replete prn, repeat lytes from afternoon PND                                                                     fluconazole, and bactrim prophylaxis.\n",
      "\n",
      "    #Hypokalemia: as above secondary to RTA, replete prn                                                                    # Hypophosphatemia\n",
      "                                                                                                                            Patient with history of hypophosphatemic\n",
      "    # HBV history: on lamivudine suppression post rituxan, VL in                                                            hyperphosphatemia secondary to his lymphoma and\n",
      "    ___ neg, recheck in ___ neg                                                                                             chemotherapy. His phosphate was monitored daily and\n",
      "                                                                                                                            remained within normal limits.\n",
      "    # Gastroparesis: Prev requiring TPN/reglan. IV reglan prn for\n",
      "    now. PO intake has now improved                                                                                         # Hypertension\n",
      "    - Encouraging po intake                                                                                                 Patient was continued on home regimen of\n",
      "    - antiemetics prn                                                                                                       amlodipine, metoprolol, and lisinopril.\n",
      "\n",
      "    # Infectious prophylaxis:\n",
      "    - HSV/VZV: acyclovir\n",
      "91  ___ with hx of metastatic colon ca (liver, lung, spine) on                                                              ___ with hx of tobacco use, metastatic colon cancer on\n",
      "    palliative chemotherapy presenting with drop in hgb and guaiac                                                          palliative chemotherapy (s/p XRT ___, FLOX,\n",
      "    positive stool, ultimately with stable Hct but found to have                                                            Irinotecan, with plans to start capecitabine)\n",
      "    fever, strep bovis bacteremia, and PE.                                                                                  sent to ___ ED for Hb 6.2 in routine oncology\n",
      "                                                                                                                            visit.\n",
      "    # Fever/S. Bovis bacteremia: fevers resolved. No localizing\n",
      "    signs or symptoms but blood culture turned positive for pan                                                             # Anemia: Patient presented with Hgb 6.2 from\n",
      "    sensitive S. Bovis in ___ bottles ___, started on vanc ___ and                                                          baseline ___. He was transfused 2 units of\n",
      "    changed to CTX ___ per ID recs. No subsequent positive                                                                  pRBCs with appropriate bump in H/H. He was\n",
      "    cultures. Port removed ___, though suspect unresected primary                                                           evaluated by hematology who felt that his anemia\n",
      "    colon cancer likely portal of entry. TTE negative, CT a/p                                                               was most likely due to his malignancy. His port-a-cath\n",
      "    without e/o abscess. it was decided not to pursue TEE at this                                                           was removed on ___ and he was started on\n",
      "    time but plan for 4 week total course of IV antibiotics (CTX                                                            ciprofloxacin for prophylaxis.\n",
      "    till ___. PICC in ___. Pt has OPAT Infectious disease\n",
      "    follow up scheduled. He needs weekly CBC, bun/creat, and LFTs                                                           # Metastatic colon cancer: Patient with known\n",
      "    faxed to them while on ceftriaxone, see transitional issues                                                             metastatic disease to liver, lung, and spine. He\n",
      "    below.                                                                                                                  received XRT ___, and FLOX begininning ___. He\n",
      "                                                                                                                            has had numerous complications related to his various\n",
      "    # Relative hypotension/tachycardia - resolved. intermittent                                                             chemotherapy regimens, necessitating delays in\n",
      "    throughout his hospital course, likely from poor PO intake in                                                           treatment. Most recently, he has received Irinotecan\n",
      "    setting of loss of appetite and depression. We had been holding                                                         alone (C3D1 ___. CEA has continued to rise\n",
      "    steroids in setting of infection on admission but pt stable on                                                          and most recent imaging (CT ___ shows progression\n",
      "    CTX and per rad onc the steroids may be benefiting his bony mets                                                        of disease. He received XRT to sternal mass ___,\n",
      "    particularly in the spine so restarted dex prior to discharge                                                           and was seen in ___ clinic on ___ for f/u and\n",
      "    (relative hypotension may have involved component of adrenal                                                            plans to startcapecitabine. Routine blood work\n",
      "    insufficiency). No evidence of significant bleeding throughout                                                          revealed H/H 6.2/19.9. Pt was referred to ED for\n",
      "    his stay. BP was in the 110s when Hct was higher also. More over                                                        further evaluation.\n",
      "    prior clinc notes suggest baseline BP in ___.\n",
      "                                                                                                                            # History of L4 compression fracture: Patient\n",
      "    # Acute PE: no symptoms, found on CT scans to look for S.bovis                                                          with pathologic L4 compression fracture s/p 10\n",
      "    related abscesses. Had been off ppx heparin here initially due                                                          sessions of radiation therapy that started on ___ and\n",
      "    to low platelets and concern for GI bleeding. Hgb was stable and                                                        was to be completed by ___. Workup showed multiple\n",
      "    thrombocytopenia improved ___, so benefit of                                                                            liver and lung nodules that were concerning for\n",
      "    anticoagulation outweighed risks. Heparin gtt started ___, Hct                                                          malignancy. Colonoscopy on ___ that\n",
      "    stable and plts uptrending so changed to lovenox on ___. Pt on                                                          demonstrated a 5-cm mass that was biopsied from the\n",
      "    omeprazole given anticoagulation and dex use.                                                                           hepatic flexure.\n",
      "\n",
      "    # Anemia/ GI bleed: Hct stable. No signs of melena and Hct                                                              # Tobacco use: Patient with history of tobacco\n",
      "    stable at this point. Likely myelosuppression given no                                                                  use. He was continued on his home nicotine patch.\n",
      "    significant clinical GI bleed. Bone marrow underproduction may\n",
      "    be from chemo, more likely it is from his malignancy however                                                            TRANSITIONAL ISSUES\n",
      "    given extensive bone marrow involvement. Hemolysis labs not                                                             ===================\n",
      "    suggestive of hemolysis process and his retic index was low                                                             - Patient will need to follow up with his primary\n",
      "    suggesting inadequate bone marrow response. Note that pt also                                                           oncologist, Dr. ___.\n",
      "    reportedly has sickle trait and/or thalassemia per Hb\n",
      "    electropheresis at ___ in ___. GI saw pt and recommended\n",
      "    simply monitoring for now given it was not ever apparent that\n",
      "    the GI bleed was a dominant problem. He tolerated a regular\n",
      "    diet. His LDH was quite elevated, but lower than it had been in\n",
      "    the past and Tbili low so nothing to suggest active hemolysis.\n",
      "    Iron supplementation was continued though not clear pt was iron\n",
      "    deficient but this could be helpful. Holding bactrim prophylaxis\n",
      "    with his steroids for now given its marrow suppression effects.\n",
      "    Pt will need weekly CBC checks every ___ for the time being\n",
      "    and will need a red blood cell transfusion for Hct <21.\n",
      "\n",
      "    # LLE edema:  Resolved. LLE u/s with doppler negative for DVT\n",
      "\n",
      "    # Thrombocytopenia: improved. Has been attributed to irinotecan\n",
      "    but last chemo almost 2 months ago. other concerns as above,\n",
      "    bone marrow involvement, radiation effect. PLTs improved and pt\n",
      "    was switched from heparin gtt to therapeutic lovenox as above.\n",
      "\n",
      "    # Lower extremity weakness - pt reports inability to walk at\n",
      "    times and has h/o spinal mets s/p XRT to lumbar and thoracic\n",
      "    spine. Declined surgical intervention for impending cord\n",
      "    compression earlier this year. Per radiation oncologist exam\n",
      "    prior to discharge is stable compared to his prior exam and pt\n",
      "    is very much averse to surgical intervention or further XRT.\n",
      "    Restarted dex as per surgery there may be some benefit ongoing\n",
      "    for spinal mets. Holding bactrim prophylaxis with his steroids\n",
      "    for now given its marrow suppression effects. (Unfortuantely due\n",
      "    to liver disease, did not start at___). Pt will be off PCP\n",
      "    ppx for now. Can consider steroid taper.\n",
      "\n",
      "    # Peripheral neuropathy: ___ chemotherapy, chronic. Continued\n",
      "    home gabapentin\n",
      "\n",
      "    # Metastatic colon cancer: s/p 11 cycles full dose FLOX with\n",
      "    cycle 2 c/b neutropenic enteroclitis and SBO, s/p progression in\n",
      "    ___ so switched to irinotecan alone but not able to\n",
      "    tolerate therapy and changed to lower dose. Thrombocytopenia has\n",
      "    required multiple treatment delays. Last chemo ___. He has\n",
      "    also undergone sternal XRT in ___.  Had planned to\n",
      "    initiate capecitabine, on hold for now. if he remains\n",
      "    pancytopenic that may limit our ability to start a new\n",
      "    chemotherapy regimen. Due to his extensive bony disease, the\n",
      "    pthas also been receiving zoledronic acid injections every 3\n",
      "    months. He will be due for next injection in ___. S/P\n",
      "    XRT to T and L spine as well as sternum.\n",
      "\n",
      "    # Pain control: Back pain ___ known osseous disease. Stable on\n",
      "    home regimen.\n",
      "    Continued home MScontin 30 mg qAM, 15 mg qPM with oxycodone 10\n",
      "    mg prn for breakthrough and gabapentin as above\n",
      "\n",
      "    # Code: DNR/DNI. Pt discussed hospice and wishes to pursue this.\n",
      "    He understands there is no further treatment for his cancer and\n",
      "    wishes to be as comfortable as possible.\n",
      "\n",
      "    # Contact: ___\n",
      "    Relationship: brother\n",
      "    Phone number: ___\n",
      "    Cell phone: ___\n",
      "36  She was admitted to ___ on ___ and underwent routine                                                                    Ms. ___ is a ___ year old ___ year old woman with a history of aortic\n",
      "    preoperative testing and evaluation. She remained                                                                       insufficiency, coronary artery disease,\n",
      "    hemodynamically stable and was taken to the operating room on                                                           hyperlipidemia, and hypertension. She presented to\n",
      "    ___. She underwent coronary artery bypass grafting X 3.                                                                 ___ with exertional chest pain and diaphoresis.\n",
      "    Please see operative note for full details. She tolerated the                                                           She has had several weeks of exertional chest pain\n",
      "    procedure well and was transferred to the CVICU in stable                                                               with activity level steadily decreasing. She had an\n",
      "    condition for recovery and invasive monitoring.                                                                         abnormal stress test 2 weeks ago, with plan for medical\n",
      "                                                                                                                            management given her age, however her exertional\n",
      "    She was weaned from sedation, awoke neurologically intact, and                                                          ability keeps decreasing. She underwent a cardiac\n",
      "    was extubated on POD 1. She was weaned from inotropic and                                                               catheterization which revealed coronary artery\n",
      "    vasopressor support. She had delirium post-operatively and                                                              disease and she was referred for a coronary artery bypass graft\n",
      "    narcotic pain medicine was discontinued. An initial urinalysis                                                          evaluation.\n",
      "    was positive and she was started on cefepime. The urine culture\n",
      "    showed fecal contamination and a UA was repeated. The repeat UA                                                         # CORONARIES:\n",
      "    was negative and antibiotics were stopped. She was transfused 1                                                         # PUMP:\n",
      "    unit of PRBCs for acute blood loss anemia. Beta blocker was                                                             # RHYTHM:\n",
      "    initiated and she was diuresed toward her preoperative weight.                                                          Ms. ___ was admitted to the ___\n",
      "    She remained hemodynamically stable and was transferred to the                                                          Cardiac Surgery Service on ___. She\n",
      "    telemetry floor for further recovery.                                                                                   underwent coronary artery bypass graft x 3,\n",
      "                                                                                                                            Total arterial revascularization. Skeletonized left\n",
      "    The patient developed mild post operative dysphagia and was                                                             internal mammary artery grafting to second obtuse\n",
      "    followed by the speech pathology team. She will be discharged on                                                        marginal artery, Skeletonized in situ right internal\n",
      "    a Ground (dysphagia) and Nectar prethickened liquids. She will                                                          mammary grafting to left anterior descending artery, Left\n",
      "    be followed at rehab for further management. She was evaluated                                                          radial artery grafting to first obtuse marginal artery.\n",
      "    by the physical therapy service for assistance with their                                                               Endoscopic harvesting of the left radial artery.\n",
      "    strength and mobility. By the time of discharge on POD 10 pt was                                                        Overall the patient tolerated the procedure well\n",
      "    deconditioned, ambulating with assist, all wounds were healing,                                                         and post-operatively was transferred to the CVICU\n",
      "    and pain was controlled with oral analgesics. She was discharged                                                        in stable condition for recovery and invasive\n",
      "    to ___ in good condition with appropriate follow up                                                                     monitoring.\n",
      "    instructions. Of note, PCP requested that her synthroid be                                                              POD 1 found the patient extubated, alert and\n",
      "    increased from 25 to 50 mcgs, which was done.                                                                           oriented and breathing comfortably.  The\n",
      "                                                                                                                            patient was neurologically intact and hemodynamically\n",
      "                                                                                                                            stable. Beta blocker was initiated and the patient\n",
      "                                                                                                                            was gently diuresed toward the preoperative weight.\n",
      "                                                                                                                            The patient was transferred to the telemetry\n",
      "                                                                                                                            floor for further recovery. Chest tubes and pacing\n",
      "                                                                                                                            wires were discontinued without complication. The\n",
      "                                                                                                                            patient voided without problem. The patient was\n",
      "                                                                                                                            evaluated by the physical therapy service for\n",
      "                                                                                                                            assistance with strength and mobility. By the time\n",
      "                                                                                                                            of discharge on POD 5 the patient was ambulating\n",
      "                                                                                                                            freely, the wound was healing and pain was controlled\n",
      "                                                                                                                            with oral analgesics. The patient was discharged to\n",
      "                                                                                                                            ___ in good condition with appropriate\n",
      "                                                                                                                            follow up instructions.\n",
      "96  TRANSITIONAL ISSUES:                                                                                                    Mr. ___ is a ___ year old man with well\n",
      "    [ ] Creatinine should be checked within ___ days of discharge.                                                          controlled HIV (on Biktarvy), CKD (etiology unclear,\n",
      "    Discharge Cr 3.9. Results will be forwarded to the patient's                                                            perhaps related to ATN that never recovered after a\n",
      "    PCP.                                                                                                                    cholecystectomy in ___, suboptimally\n",
      "    [ ] Urology arranging time for surgery to treat calculi. Will                                                           controlled hypertension, nephrolithiasis s/p lithotripsy\n",
      "    contact patient directly.                                                                                               with ureter stenting ___, and prior right MCA\n",
      "    [ ] Lisinopril and potassium supplementation held on discharge.                                                         ischemic stroke on aspirin/plavix who is presenting to\n",
      "    Should be restarted once creatinine returns to baseline.                                                                the ED for evaluation of acute on chronic renal\n",
      "    [ ] Follow-up blood pressure in outpatient setting, as                                                                  failure.\n",
      "    lisinopril was held during this hospitalization.\n",
      "                                                                                                                            # Acute on chronic renal failure:\n",
      "    ___ is a ___ year old man with well controlled HIV (on                                                                  Patient presented with acute on chronic kidney\n",
      "    Biktarvy), CKD (etiology unclear, Fanconi syndrome from                                                                 injury with a creatinine of 3.5 from a baseline of\n",
      "    tenofovir use, also possibly related to ATN that never recovered                                                        1.5-1.8. The etiology of his acute on chronic\n",
      "    after a cholecystectomy in ___, baseline Cr ~1.7), suboptimally                                                         renal failure was unclear. He had a recent increase\n",
      "    controlled hypertension, nephrolithiasis s/p lithotripsy with                                                           in his lisinopril from 30mg to 40mg due to\n",
      "    ureter stenting ___, and prior right MCA ischemic stroke on                                                             hypertensive urgency. His lisinopril was stopped and\n",
      "    aspirin/plavix who is presenting to the ED for evaluation of                                                            his creatinine improved to 1.7. He underwent a right\n",
      "    acute on chronic renal failure.                                                                                         ureteral stent placement on ___. His creatinine\n",
      "                                                                                                                            improved to 1.7 at the time of discharge. His\n",
      "    #Acute on chronic renal failure                                                                                         lisinopril was restarted at a lower dose of 2.5mg\n",
      "    #New moderate-severe hydronephrosis                                                                                     daily. He was instructed to follow up with his PCP\n",
      "    #Two obstructing calculi (6 and 5 mm) within right ureter                                                               and nephrologist.\n",
      "    Baseline creatinine around 1.7, presented with a creatinine of\n",
      "    3.7-3.8 in the setting of new right hydronephrosis with                                                                 # Hypertensive urgency:\n",
      "    mid-to-distal right ureteral stones. S/p right ureteral stent                                                           Patient has a history of poorly controlled\n",
      "    placement w/ urology. Post procedure, made 1.5L urine over next                                                         hypertension. He presented with blood pressures in the\n",
      "    ___ hours. ___ secondary to obstructive uropathy and increased                                                          200s/100s. He was started on lisinopril 2.5mg daily.\n",
      "    lisinopril dose (increased from 30mg to 40mg at end of ___. Cr on discharge 3.9. Post discharge, patient will need Cr   His blood pressure improved to the 150s/70s. He was\n",
      "    checked within two days. Held lisinopril on discharge and it can                                                        discharged on his home lisinopril.\n",
      "    be restarted after his creatinine improves. Patient also\n",
      "    instructed to measure urine output and  to increase oral                                                                # HIV:\n",
      "    fluidintake to match losses.  Advised to come back and if he                                                            Patient was continued on his home Biktarvy.\n",
      "    produces more than 3 L of urine in a 24-hour. will follow up\n",
      "    with urology as an outpatient.                                                                                          # Hyperlipidemia:\n",
      "                                                                                                                            Continued on his home atorvastatin.\n",
      "    #Hypertension\n",
      "    Held Lisinopril 40mg daily in setting of ___. Continued                                                                 # OSA:\n",
      "    Labetalol 800mg BID.                                                                                                    Continued home CPAP.\n",
      "\n",
      "    #HIV                                                                                                                    TRANSITIONAL ISSUES\n",
      "    Continued Biktarvy.                                                                                                     ===================\n",
      "                                                                                                                            [ ] Lisinopril decreased to 2.5 mg daily. Please\n",
      "    #Tenofovir-induced Fanconi's syndrome                                                                                   follow up blood pressure and adjust lisinopril as\n",
      "    Held Klor-Con 20mEq daily in setting of ___.                                                                            needed.\n",
      "                                                                                                                            [ ] Please follow up creatinine at the time of\n",
      "    #Prior right MCA CVA                                                                                                    discharge.\n",
      "    Continued Aspirin 81mg daily, Clopidogrel 75mg daily,                                                                   [ ] Please continue to monitor blood pressure and\n",
      "    Rosuvastatin 40mg daily.                                                                                                titrate antihypertensives as needed.\n",
      "\n",
      "    35 minutes spent on discharge preparation and coordination of\n",
      "    care\n",
      "67  The patient was admitted for further management of her abdominal                                                        The patient was admitted to the General Surgical\n",
      "    wound. Due to persistnat foul smelling discharge and necrotic                                                           Service on ___ for evaluation and treatment of\n",
      "    fat, she was taken to the OR for debridement. She was also                                                              abdominal pain, drainage and erythema.  Admission\n",
      "    started on antibiotics. A wet-to-dry dressing was placed. After                                                         abdomen/pelvis was notable for a large left sided\n",
      "    a day of wet-to-dry dressing changes, a wound VAC was placed. 3                                                         subcutaneous hematoma with surrounding erythema and\n",
      "    days later, her VAC was removed. The wound had healthy                                                                  drainage. The patient was started on broad spectrum\n",
      "    granulation tissue throughout without evidence of infection. The                                                        antibiotics. The patient was taken to the operating\n",
      "    wound VAC was replaced and her antibiotics were discontinued.                                                           room on ___ for an abdominal wound debridement.\n",
      "    The following day, she was discharged home with ___ for VAC                                                             The patient tolerated the procedure well and was\n",
      "    changes and close follow-up in ___ clinic.                                                                              transferred to the PACU in stable condition.\n",
      "\n",
      "                                                                                                                            Post-operatively, the patient remained afebrile\n",
      "                                                                                                                            with stable vital signs. The patient was initially\n",
      "                                                                                                                            given IV fluids postoperatively, which were discontinued\n",
      "                                                                                                                            when the patient was tolerating PO's. The patient's\n",
      "                                                                                                                            home medications were continued throughout this\n",
      "                                                                                                                            hospitalization. The patient worked with ___ who\n",
      "                                                                                                                            determined that discharge to home was appropriate.\n",
      "                                                                                                                            The ___ hospital course was otherwise\n",
      "                                                                                                                            unremarkable.\n",
      "\n",
      "                                                                                                                            At the time of discharge, the patient was doing well,\n",
      "                                                                                                                            afebrile with stable vital signs.  The patient was\n",
      "                                                                                                                            tolerating a regular diet, ambulating, voiding\n",
      "                                                                                                                            without assistance, and pain was well controlled.  The\n",
      "                                                                                                                            patient was discharged home without services. The\n",
      "                                                                                                                            patient received discharge teaching and follow-up\n",
      "                                                                                                                            instructions with understanding verbalized and\n",
      "                                                                                                                            agreement with the discharge plan.\n",
      "24  ___ with PMH significant for HTN, DM, CKD who presents with                                                             ___ hypertension, asthma, diabetes, chronic\n",
      "    shortness of breath and 30lb weight gain over 1 month.                                                                  renal insufficiency presents with shortness of\n",
      "                                                                                                                            breath starting the morning of admission.\n",
      "    # Acute on chronic diastolic CHF exacerbation:\n",
      "    As evidenced by 30lb weight gain, dyspnea on exertion, elevated                                                         # Acute on chronic diastolic heart failure:\n",
      "    JVP, and CXR findings. Recent echo (___) with preserved                                                                 Patient presented with shortness of breath and was\n",
      "    ejection fraction (LVEF >55%), therefore CHF likely due to                                                              found to have pulmonary edema on CXR. She was\n",
      "    diastolic dysfunction secondary to longstanding hypertension and                                                        diuresed with IV lasix and transitioned to PO\n",
      "    aortic stenosis. Etiology of acute exacerbation likely secondary                                                        torsemide. She was also started on metolazone for\n",
      "    to dietary noncompliance, as patient reports eating salty foods.                                                        hypertension. She was discharged on torsemide 20mg\n",
      "    Other etiologies include ACS vs worsening valvular disease. ACS                                                         daily and metolazone 2.5mg BID. She will follow up\n",
      "    felt to be less likely given negative troponins and normal EKG.                                                         with her PCP and cardiologist.\n",
      "    Patient was aggressively diuresed with lasix 40mg IV BID. This\n",
      "    was later transitioned to torsemide 30mg daily when euvolemic.                                                          # Hypertension:\n",
      "    She was also started on diamox 500mg daily x 3 days as she                                                              Patient was hypertensive to the 180s systolic on\n",
      "    developed contraction alkalosis. This is now improving. Patient                                                         admission. She was continued on her home amlodipine\n",
      "    remained hemodynamically stable. Discharge weight 109.7kg.                                                              and metoprolol.\n",
      "\n",
      "    # Chest pain:                                                                                                           # Asthma:\n",
      "    Patient developed substernal, crushing chest pain on ___ while                                                          She was continued on home albuterol and\n",
      "    at rest. SBP at that time was 170s. EKG without ST-changes, and                                                         ipratropium nebulizers.\n",
      "    troponins remained flat. Chest pain improved with sublingual\n",
      "    nitrogen. Likely angina in the setting of hypertension. Other\n",
      "    diagnoses to consider include GERD as was also given maalox with\n",
      "    resolution of symptoms.\n",
      "\n",
      "    # ___: Baseline Cr appears to be 1.5-1.6. Cr on admission 2.4,\n",
      "    with BUN:Cr >20, indicating pre-renal etiology. ___ be secondary\n",
      "    to poor forward flow in setting of acute CHF. Cr remained stable\n",
      "    at 2.1-2.2. This may be her new baseline.\n",
      "\n",
      "    # HTN:\n",
      "    Continued doxazosin and nifedepine. She is not on a beta-blocker\n",
      "    due to asthma. Isosorbide dinitrate 30mg TID was started as\n",
      "    patient developed chest pain in the setting of elevated BP.\n",
      "\n",
      "    # Asthma:\n",
      "    Well controlled. She was continued on albuterol/ipratropium\n",
      "    nebulizers and fluticasone nasal inhaler.\n",
      "\n",
      "    # H/o Gout: Continued allopurinol, which was renally dosed.\n",
      "\n",
      "    # HLD: Continued atorvastatin.\n",
      "\n",
      "    # Anemia: H/H at baseline. Continued ferrous sulfate.\n",
      "\n",
      "    # DM: Oral hypoglycemics held. She was placed on humalog insulin\n",
      "    sliding scale.\n",
      "\n",
      "    # Bladder spasm:  Continued oxybutynin.\n",
      "\n",
      "    # Constipation: Continued on outpatient bowel regime:\n",
      "    senna/colace, miralax, bisacodyl PR, lactulose, sorbitol, and\n",
      "    fleet enema PRN.\n",
      "\n",
      "    # HCM: Continued other home medications- ascorbic acid,\n",
      "    multivitamin, and aspirin.\n",
      " 3  The patient was admitted to the ___ Surgery Service from the                                                            The patient was admitted to the General Surgical\n",
      "    Emergency Department on ___. Please refer to the HPI for                                                                Service on ___ for evaluation and treatment of\n",
      "    details of his initial presentation. Patient's Abd CT scan with                                                         abdominal pain.  Admission abdominal/pelvic CT\n",
      "    oral and IV contrast in the ED a distended gallbladder with                                                             revealed acute cholecystitis. The patient underwent\n",
      "    gallbladder wall edema consistent with cholecystitis. On                                                                laparoscopic converted to open cholecystectomy,\n",
      "    hosptial day (HD) 1 (___), he had a RUQ US that showed                                                                  which went well without complication (reader\n",
      "    sludge (no stones) within a distended gallbladder with                                                                  referred to the Operative Note for details). After a\n",
      "    gallbladder wall edema, and no biliary dilatation. On HD1 he                                                            brief, uneventful stay in the PACU, the patient arrived\n",
      "    also had an ERCP done by GI where he had a sphincterotomy and                                                           on the floor tolerating clears, on IV fluids, and\n",
      "    sludge extracted with relief of symptoms. On HD2 his Tbili and                                                          oral analgesia for pain control.  The patient was\n",
      "    AlkPhos were increased from the day prior. At that time, it was                                                         hemodynamically stable.\n",
      "    decided that his symptoms would be best treated with operative                                                          .\n",
      "    managment. He was taken to the OR later that evening for a                                                              When tolerating a diet, the patient was converted to\n",
      "    cholecystectomy. It was originally planned for him to have a lap                                                        oral pain medication with continued good effect.\n",
      "    chole, which was turned to an open chole given his gangrenous                                                           During this hospitalization, the patient ambulated\n",
      "    and necrotic gallbladder. The operation was other wise                                                                  early and frequently, was adherent with respiratory\n",
      "    uncomplicated. The patient recovered in the PACU and was                                                                toilet and incentive spirometry, and actively\n",
      "    transferred back up to the surgical floor when he was stable.                                                           participated in the plan of care. The patient received\n",
      "    Immediately post-op, the patient was made NPO and was given IV                                                          subcutaneous heparin and venodyne boots were used\n",
      "    meds for pain control. His foley remained in. On post-op day                                                            during this stay.\n",
      "    (POD) 1 his diet was advanced to sips and later to clears, which                                                        .\n",
      "    were well-tolerated. PO pain meds were added to his pain regimen                                                        At the time of discharge, the patient was doing well,\n",
      "    for optimal pain control. On POD2, his foley was d/c and he                                                             afebrile with stable vital signs. The patient was tolerating\n",
      "    voided. The morning of POD3 the patient was complaining of chest                                                        a regular diet, ambulating, voiding without\n",
      "    discomfort. At that time, a cardica work-up was sent, the                                                               assistance, and pain was well controlled.  The patient\n",
      "    results of which were all negative (please see the Pertinent                                                            was discharged home without services. The patient\n",
      "    Results section for lab values and studies). Later that morning                                                         received discharge teaching and follow-up\n",
      "    he was complaining of abdominal distention. He had not yet                                                              instructions with understanding verbalized and\n",
      "    passed flatus. At that time, his diet was switched back to sips                                                         agreement with the discharge plan.\n",
      "    until he was more comfortable. He was also written for senna and\n",
      "    colace to promote bowel function. On POD4, the patient was\n",
      "    feeling better. He passed flatus and had a BM. His diet was\n",
      "    advnaced as tolerated. His IVF were d/c, and his JP drain was\n",
      "    d/c. POD5 the patient continued to recover well. He was\n",
      "    requiring less pain medication and continued to tolerate his\n",
      "    regular diabetic diet. POD7 his LFT's continued to downtrend and\n",
      "    his vital signs were stable. His staples were d/c and steri\n",
      "    strips were placed. Overall, he was ready for discharge to\n",
      "    rehab.\n",
      "77  Mrs. ___ is a ___ woman with a 1.5 month intermittent                                                                   Mrs. ___ is a ___ woman with a\n",
      "    headache and neurological symptoms who was found to have a right                                                        history of right a-comm aneurysm status post\n",
      "    a-comm aneurysm s/p coiling on ___, followed by left orbital                                                            coiling on ___ with discharge from the\n",
      "    and temporal headache with associated numbness which was found                                                          neurosurgery service on ___. She then\n",
      "    to                                                                                                                      returned to the ED on ___ with complaints of a\n",
      "    be a new left precentral cSAH ___ which was thought to be                                                               left orbital and temporal headache with associated\n",
      "    secondary to RCVS and started on verapamil and nortryptiline.                                                           numbness and was found to have a new left precentral\n",
      "    This admission, she presented with persistent headache, newly                                                           cSAH with RCVS as a possible etiology. MRI\n",
      "    right-sided that has subsequently shifted back to the left.                                                             brain w and wo contrast was performed showing\n",
      "                                                                                                                            changes secondary to the blood as well as left\n",
      "    The right a-comm aneurysm incidentally found at the first                                                               subacute/chronic small white matter ischemic\n",
      "    admission was 3mm and unlikely to account for her headache, due                                                         changes. The etiology of these changes was not entirely\n",
      "    to its small size. We are now looking to determine the etiology                                                         clear, but thought to be possibly due to periprocedural\n",
      "    of her persistent headache, which did not respond to verapamil                                                          from her aneurysm coiling vs sequelae of RCVS.\n",
      "    and nortryptiline, as would be expected in ___.  We wanted to                                                           CTA during this admission, which was done during her\n",
      "    ensure that there was no other cause for her headache such as                                                           headache had no evidence of vasospasm. She was started\n",
      "    systemic or CNS vasculitis. NCHCT showed no acute hemorrhage.                                                           on verapamil 120mg daily and nortriptyline 10mg\n",
      "    MRI showed resolving SAH. Systemic vasculitis workup sent, which                                                        qhs. Two weeks after discharge she again started\n",
      "    was all negative. LP was performed to assess for inflammatory or                                                        complaining of headaches. Describes them as low-grade\n",
      "    infectious etiology, results were normal. We saw no evidence of                                                          constant nagging headaches. Mostly located on\n",
      "    CNS vasculitis as cause of headache, and she previously had a                                                           the left side associated with some nausea\n",
      "    normal conventional angiogram in ___, which makes this                                                                  photophobia and phonophobia and some intermittent left\n",
      "    diagnosis less likely.  As echo demonstrates a PFO,                                                                     sided facial numbness. She called Dr. ___\n",
      "    hypercoaguability workup sent, which was negative (although the                                                         recommended to increase the nortriptyline to 20 mg\n",
      "    full workup cannot be sent in the hospital and will need to be                                                          nightly and instructed her to go back to the ED should\n",
      "    done as an outpatient). LENIs showed no acute DVT.                                                                      she again experience a thunderclap headache. This\n",
      "    Her headache improved with standing toradol, and toradol was                                                            morning around 1 AM patient reports she woke up\n",
      "    decreased to BID. Discussion with patient regarding cerebral                                                            of severe headache 8 out of 10 associated with mild\n",
      "    angiogram repeat for diagnosis, patient opted to pursue medical                                                         nausea, and may be subtle photo and phonophobia,\n",
      "    management as she already had a normal angio ___. She was                                                               no other neurological symptoms associated with the\n",
      "    started on IV steroids, and after 6 doses her headache                                                                  headache. It was located centrally on her forehead\n",
      "    persisted, so she was switched to IV Depakote. Her headache                                                             and she describes it as throbbing. She went back\n",
      "    improved, and she was switched to PO Depakote. She remained                                                             to bed and at 7 AM again woke up with severe\n",
      "    headache free for >48 hours, and was amenable to discharge with                                                         headache ___ out of 10. This time the headache was\n",
      "    outpatient follow up ___.                                                                                                located on her right side. This\n",
      "                                                                                                                            worried her since her headache is usually on the\n",
      "    #Headache - unclear etiology                                                                                            left side so she decided to go to the emergency room\n",
      "    -Improved with IV toradol to ___, and was resolved with                                                                 of an outside hospital. There CT head was performed\n",
      "    Depakote.                                                                                                               and did not show any new bleed. She was given 8 mg\n",
      "    - on discharge patient's pain well controlled on Depakote 500mg                                                         of morphine which for short time relieved her\n",
      "    Q12H                                                                                                                    symptoms but then the headache restarted. She was\n",
      "    - Plan to continue Depakote for 1 month, then titrate down at                                                           subsequently transferred back to ___ for\n",
      "    follow up appointment with neurology in ___. Also has                                                                   further management.\n",
      "    headache follow up in ___ scheduled.\n",
      "                                                                                                                            # NEURO: Patient was admitted to the general\n",
      "    #SAH                                                                                                                    neurology service for further management of her\n",
      "    -Resolving as seen on MRI on admission                                                                                  headaches. She was continued on her home nortriptyline\n",
      "                                                                                                                            20 mg qhs and verapamil. She was also started on a\n",
      "    #Hypercoaguable workup                                                                                                  dexamethasone taper. Her headache improved and she\n",
      "    - Initially was sent because small infarct seen around the area                                                         was able to tolerate a regular diet. Her\n",
      "    of SAH. Per discussion with radiology, the likely etiology of                                                           nortriptyline was decreased to 10 mg qhs. Her\n",
      "    these infarcts are secondary to the ___ itself, and likely not a                                                        verapamil was increased to 120 mg daily. She was also\n",
      "    hypercoaguable state.                                                                                                   started on a diazepam taper.\n",
      "    - Beta 2 macroglobulin negative, Cardiolipin IgG negative, IgM\n",
      "    13 (indeterminant ___                                                                                                   # CV: Patient was monitored on telemetry with no\n",
      "    - Outpatient labs studies to be sent to complete hypercoaguable                                                         events.\n",
      "    workup: Factor V leiden, prothrombin gene mutation, antithrombin\n",
      "    gene mutation. Protein C and Protein S pending. Determine                                                               # ENDO: Patient's HbA1c was 5.6% and LDL was\n",
      "    necessity at follow up appointment with stroke.                                                                         103. She was started on atorvastatin 40 mg daily.\n",
      "\n",
      "                                                                                                                            # FEN/GI: Patient was started on a regular diet.\n",
      "\n",
      "                                                                                                                            # PPX: Patient received subcutaneous heparin and\n",
      "                                                                                                                            venodyne boots were used during this stay and was\n",
      "                                                                                                                            encouraged to get up and ambulate as early as possible.\n",
      "49  Patient is a ___ female with a past medical history of                                                                  ___ PMH of Stage IIa Pancreatic Adenocarcinoma\n",
      "    stage IIa pancreatic adenocarcinoma who presented with diarrhea                                                         (On cycle ___ FOLFIRINOX, w/ planned SRS\n",
      "    and neutropenic fever.                                                                                                  prior to resection with curative intent), who\n",
      "                                                                                                                            presents with persistent diarrhea and fever, was\n",
      "    #Neutropenic fever                                                                                                      admitted for further evaluation/treatment.\n",
      "    #GBS urinary tract infection\n",
      "    Patient was found to have a GBS urinary tract infection and was                                                         # Diarrhea\n",
      "    treated initially with vancomycin/cefepime/Flagyl and narrowed                                                          # Neutropenic Fever\n",
      "    to Augmentin for a 7 day course (completed on ___. She was                                                              # Pancreatic Cancer\n",
      "    given Neulasta and her white count improved. Her other cultures                                                         Patient presented with persistent diarrhea and\n",
      "    were negative. She had no fevers after she was admitted.                                                                fever, found to have neutropenic fever. She was\n",
      "                                                                                                                            started on cefepime and flagyl for neutropenic\n",
      "    #Diarrhea                                                                                                               fever and coverage of possible GI infection, as well\n",
      "    Stool cultures have been negative. She has tried multiple                                                               as IVF and Tylenol. Her diarrhea improved with\n",
      "    medications for this in the past and now has had good                                                                   treatment of her neutropenia. She was discharged on\n",
      "    improvement with opium tincture in the hospital. She will                                                               ciprofloxacin and flagyl to complete a 14 day course\n",
      "    continue the opium tincture on discharge.                                                                               of antibiotics.\n",
      "\n",
      "    #Mucositis/thrush                                                                                                       # Stage IIa pancreatic adenocarcinoma\n",
      "    Started on 5 day course of p.o. fluconazole.                                                                            Patient with known stage IIa pancreatic\n",
      "                                                                                                                            adenocarcinoma, s/p resection in ___. She was\n",
      "    #Pancreatic adenocarcinoma                                                                                              continued on her home creon and sucralfate.\n",
      "    She has close follow-up with her outpatient oncologist.\n",
      "                                                                                                                            # Hyponatremia\n",
      "    Otherwise no changes were made to her home medications.                                                                 Patient with hyponatremia to 134 on admission,\n",
      "                                                                                                                            likely hypovolemic in the setting of diarrhea and\n",
      "    #CODE: Full Code, presumed                                                                                              poor PO intake. Her sodium improved with IVF and\n",
      "    #EMERGENCY CONTACT / HCP: ___ / husband, has been d/w husband                                                           encouragement of PO intake.\n",
      "    at\n",
      "    bedside daily\n",
      "    Phone number: ___\n",
      "    Cell phone: ___\n",
      "95  The patient presented to the emergency department and was                                                               The patient presented to the emergency department\n",
      "    evaluated by the orthopedic surgery team. The patient was found                                                         and was evaluated by the orthopedic surgery\n",
      "    to have right leg compartment syndrome and was admitted to the                                                          team. The patient was found to have right leg\n",
      "    orthopedic surgery service. The patient was taken to the                                                                fasciitis and was admitted to the orthopedic\n",
      "    operating room on ___ for right leg fasciotomies, ___                                                                   surgery service. The patient was taken to the\n",
      "    for right leg irrigation and debridement, medial closure,                                                               operating room on ___ for right leg\n",
      "    lateral wound vac placement, and                                                                                        irrigation and debridement, medial closure,\n",
      "    ___ for right leg incision and draingae, lateral closure,                                                               lateral wound vac placement, which the patient\n",
      "    all of which the patient tolerated well (for full details please                                                        tolerated well. For full details of the procedure please\n",
      "    see the separately dictated operative reports).                                                                         see the separately dictated operative report.\n",
      "    Following all operations, the patient was taken from the OR to                                                          The patient was taken from the OR to the PACU\n",
      "    the PACU in stable condition and after recovery from anesthesia                                                         in stable condition and after satisfactory recovery\n",
      "    was transferred to the floor. The patient was given                                                                     from anesthesia was transferred to the floor. The\n",
      "    perioperative antibiotics and anticoagulation per routine. The                                                          patient was initially given IV fluids and IV pain\n",
      "    patient's home medications were continued throughout this                                                               medications, and progressed to a regular diet and oral\n",
      "    hospitalization.                                                                                                        medications by POD#1. The patient was given\n",
      "    The patient was also found to have right hand motor dysfunction                                                         ___ antibiotics and anticoagulation\n",
      "    likely secondary to neurapraxic injury of the PIN and ulnar                                                             per routine. The patient's home medications were continued\n",
      "    nerves. Right forearm and hand films were taken and found to be                                                         throughout this hospitalization. The patient worked\n",
      "    normal. The patient was given a volar resting splint with                                                               with ___ who determined that discharge to rehab\n",
      "    fingers in extension to be worn at night only. She will                                                                 was appropriate. The ___ hospital course was\n",
      "    follow-up in hand clinic in ___ weeks.                                                                                  otherwise unremarkable.\n",
      "    Of note, there were two instances when the patient was found to\n",
      "    have needles on her possession. After the second time she was                                                           At the time of discharge the patient's pain was well\n",
      "    found with a needle, she was restricted to no visitors. These                                                           controlled with oral medications, incisions were\n",
      "    incidences were documented in the medical record.                                                                       clean/dry/intact, and the patient was voiding/moving\n",
      "    The patient worked with ___ who determined that discharge to home                                                        bowels spontaneously. The patient is nonweight\n",
      "    was appropriate.                                                                                                        bearing in the right lower extremity, and will be\n",
      "    At the time of discharge the patient was afebrile with stable                                                           discharged on lovenox for DVT prophylaxis. The\n",
      "    vital signs that were within normal limits, pain was well                                                                patient will follow up with Dr. ___ routine. A thorough discussion was had with the patient regarding the diagnosis and\n",
      "    controlled with oral medications, incisions were                                                                        expected post-discharge course including reasons\n",
      "    clean/dry/intact, and the patient was voiding/moving bowels                                                             to call the office or return to the hospital, and\n",
      "    spontaneously. She was tolerating a regular diet. The patient is                                                        all questions were answered. The patient was also given\n",
      "    weight bearing as tolerated in the right upper extremity and                                                            written instructions concerning precautionary instructions\n",
      "    right lower extremity. She will be discharged on lovenox for DVT                                                        and the appropriate follow-up care. The patient\n",
      "    prophylaxis. The patient will follow up in two weeks per                                                                expressed readiness for discharge.\n",
      "    routine. A thorough discussion was had with the patient\n",
      "    regarding the diagnosis and expected post-discharge course, and\n",
      "    all questions were answered prior to discharge.\n"
     ]
    }
   ],
   "source": [
    "import tabulate\n",
    "\n",
    "\n",
    "print(tabulate.tabulate(bart_results[['brief_hospital_course', \"brief_hospital_course_BART\"]].sample(10), headers='keys', tablefmt='simple'))\n",
    "\n"
   ]
  },
  {
   "cell_type": "code",
   "execution_count": 36,
   "id": "bcc89e33-5f62-4744-8f9d-b3b5ce9c2f7f",
   "metadata": {},
   "outputs": [],
   "source": [
    "with open('sample_BART_results_v1.txt', 'w') as f:\n",
    "    f.write(tabulate.tabulate(bart_results[['brief_hospital_course', \"brief_hospital_course_BART\"]].sample(10), headers='keys', tablefmt='simple'))\n"
   ]
  },
  {
   "cell_type": "code",
   "execution_count": 39,
   "id": "db6de6ca-d78d-4f70-858b-d1f4dc1997a0",
   "metadata": {},
   "outputs": [],
   "source": [
    "gpt_output = pd.read_csv(\"~/Documents/DischargeMe/hail-dischargeme/notebooks/brief_hospital_course/outputs/bhc_submission/comparison_simple_gpt3.5_2shot_2500-3500.csv\")"
   ]
  },
  {
   "cell_type": "code",
   "execution_count": 40,
   "id": "0ccfe037-7cc6-425e-a173-c966ee890524",
   "metadata": {},
   "outputs": [
    {
     "data": {
      "text/html": [
       "<div>\n",
       "<style scoped>\n",
       "    .dataframe tbody tr th:only-of-type {\n",
       "        vertical-align: middle;\n",
       "    }\n",
       "\n",
       "    .dataframe tbody tr th {\n",
       "        vertical-align: top;\n",
       "    }\n",
       "\n",
       "    .dataframe thead th {\n",
       "        text-align: right;\n",
       "    }\n",
       "</style>\n",
       "<table border=\"1\" class=\"dataframe\">\n",
       "  <thead>\n",
       "    <tr style=\"text-align: right;\">\n",
       "      <th></th>\n",
       "      <th>Unnamed: 0</th>\n",
       "      <th>note_id</th>\n",
       "      <th>hadm_id</th>\n",
       "      <th>input</th>\n",
       "      <th>output</th>\n",
       "      <th>careunit</th>\n",
       "      <th>eventtype</th>\n",
       "      <th>curr_service</th>\n",
       "      <th>gpt_input</th>\n",
       "      <th>gpt_completion</th>\n",
       "    </tr>\n",
       "  </thead>\n",
       "  <tbody>\n",
       "    <tr>\n",
       "      <th>0</th>\n",
       "      <td>2500</td>\n",
       "      <td>16468691-DS-13</td>\n",
       "      <td>27150697</td>\n",
       "      <td>\\nName:  ___                  Unit No:   ___\\...</td>\n",
       "      <td>## Acute pancreatitis: Ms. ___ is a relatively...</td>\n",
       "      <td>Med/Surg/GYN</td>\n",
       "      <td>transfer</td>\n",
       "      <td>MED</td>\n",
       "      <td>[{'role': 'system', 'content': 'You are a phys...</td>\n",
       "      <td>Ms. ___ is a ___-year-old woman with a history...</td>\n",
       "    </tr>\n",
       "    <tr>\n",
       "      <th>1</th>\n",
       "      <td>2501</td>\n",
       "      <td>15894430-DS-5</td>\n",
       "      <td>29437146</td>\n",
       "      <td>\\nName:  ___                 Unit No:   ___\\n...</td>\n",
       "      <td>___ yo ___ female with h/o dementia, hypertens...</td>\n",
       "      <td>Med/Surg/Trauma</td>\n",
       "      <td>transfer</td>\n",
       "      <td>MED</td>\n",
       "      <td>[{'role': 'system', 'content': 'You are a phys...</td>\n",
       "      <td>Ms. ___ presented with right hip pain after an...</td>\n",
       "    </tr>\n",
       "    <tr>\n",
       "      <th>2</th>\n",
       "      <td>2502</td>\n",
       "      <td>11323860-DS-11</td>\n",
       "      <td>29570429</td>\n",
       "      <td>\\nName:  ___                 Unit No:   ___\\n...</td>\n",
       "      <td>BRIEF SUMMARY\\n=============\\nMr. ___ is a ___...</td>\n",
       "      <td>Medicine/Cardiology</td>\n",
       "      <td>transfer</td>\n",
       "      <td>CMED</td>\n",
       "      <td>[{'role': 'system', 'content': 'You are a phys...</td>\n",
       "      <td>Mr. ___ is a ___ y/o male with a history of he...</td>\n",
       "    </tr>\n",
       "    <tr>\n",
       "      <th>3</th>\n",
       "      <td>2503</td>\n",
       "      <td>16940938-DS-5</td>\n",
       "      <td>28987319</td>\n",
       "      <td>\\nName:  ___                  Unit No:   ___\\...</td>\n",
       "      <td>Mr ___ is an ___ w/ h/o ___ Disease, Alzheimer...</td>\n",
       "      <td>Med/Surg/Trauma</td>\n",
       "      <td>admit</td>\n",
       "      <td>MED</td>\n",
       "      <td>[{'role': 'system', 'content': 'You are a phys...</td>\n",
       "      <td>Mr. ___ was transferred to the medicine servic...</td>\n",
       "    </tr>\n",
       "    <tr>\n",
       "      <th>4</th>\n",
       "      <td>2504</td>\n",
       "      <td>16095232-DS-6</td>\n",
       "      <td>24682082</td>\n",
       "      <td>\\nName:  ___                 Unit No:   ___\\n...</td>\n",
       "      <td>___ y/o F w/ IDDM, HTN, alcohol abuse, tobacco...</td>\n",
       "      <td>Medicine</td>\n",
       "      <td>transfer</td>\n",
       "      <td>MED</td>\n",
       "      <td>[{'role': 'system', 'content': 'You are a phys...</td>\n",
       "      <td>Ms. ___ presented to the ED with dyspnea and a...</td>\n",
       "    </tr>\n",
       "    <tr>\n",
       "      <th>...</th>\n",
       "      <td>...</td>\n",
       "      <td>...</td>\n",
       "      <td>...</td>\n",
       "      <td>...</td>\n",
       "      <td>...</td>\n",
       "      <td>...</td>\n",
       "      <td>...</td>\n",
       "      <td>...</td>\n",
       "      <td>...</td>\n",
       "      <td>...</td>\n",
       "    </tr>\n",
       "    <tr>\n",
       "      <th>995</th>\n",
       "      <td>3495</td>\n",
       "      <td>13470788-DS-61</td>\n",
       "      <td>22192648</td>\n",
       "      <td>\\nName:  ___              Unit No:   ___\\n \\n...</td>\n",
       "      <td>___ with Hep C and EtOH cirrhosis, HCC, s/p li...</td>\n",
       "      <td>Transplant</td>\n",
       "      <td>admit</td>\n",
       "      <td>MED</td>\n",
       "      <td>[{'role': 'system', 'content': 'You are a phys...</td>\n",
       "      <td>Ms. ___ presented with 1-day history of epigas...</td>\n",
       "    </tr>\n",
       "    <tr>\n",
       "      <th>996</th>\n",
       "      <td>3496</td>\n",
       "      <td>13893809-DS-7</td>\n",
       "      <td>24320687</td>\n",
       "      <td>\\nName:  ___                    Unit No:   __...</td>\n",
       "      <td>Mr. ___ is a ___ with history of alcohol use d...</td>\n",
       "      <td>Medicine</td>\n",
       "      <td>transfer</td>\n",
       "      <td>MED</td>\n",
       "      <td>[{'role': 'system', 'content': 'You are a phys...</td>\n",
       "      <td>Mr. ___ presented to the emergency department ...</td>\n",
       "    </tr>\n",
       "    <tr>\n",
       "      <th>997</th>\n",
       "      <td>3497</td>\n",
       "      <td>15250779-DS-4</td>\n",
       "      <td>28137597</td>\n",
       "      <td>\\nName:  ___                  Unit No:   ___\\...</td>\n",
       "      <td>Mr. ___ (DOB: ___ is a ___ year old male, with...</td>\n",
       "      <td>Medicine/Cardiology</td>\n",
       "      <td>transfer</td>\n",
       "      <td>CMED</td>\n",
       "      <td>[{'role': 'system', 'content': 'You are a phys...</td>\n",
       "      <td>Mr. ___ presented to the ED after a cardiac ar...</td>\n",
       "    </tr>\n",
       "    <tr>\n",
       "      <th>998</th>\n",
       "      <td>3498</td>\n",
       "      <td>12370269-DS-8</td>\n",
       "      <td>26162379</td>\n",
       "      <td>\\nName:  ___                  Unit No:   ___\\...</td>\n",
       "      <td>The patient was admitted to the General Surgic...</td>\n",
       "      <td>Med/Surg/Trauma</td>\n",
       "      <td>admit</td>\n",
       "      <td>SURG</td>\n",
       "      <td>[{'role': 'system', 'content': 'You are a phys...</td>\n",
       "      <td>Mrs. ___ presented to the ED with right-sided ...</td>\n",
       "    </tr>\n",
       "    <tr>\n",
       "      <th>999</th>\n",
       "      <td>3499</td>\n",
       "      <td>16514111-DS-15</td>\n",
       "      <td>25237206</td>\n",
       "      <td>\\nName:  ___                  Unit No:   ___\\...</td>\n",
       "      <td>Patient is a ___ male with PMH of HepC/alcohol...</td>\n",
       "      <td>Transplant</td>\n",
       "      <td>transfer</td>\n",
       "      <td>MED</td>\n",
       "      <td>[{'role': 'system', 'content': 'You are a phys...</td>\n",
       "      <td>Mr. ___ is a ___ y/o male with a history of He...</td>\n",
       "    </tr>\n",
       "  </tbody>\n",
       "</table>\n",
       "<p>1000 rows × 10 columns</p>\n",
       "</div>"
      ],
      "text/plain": [
       "     Unnamed: 0         note_id   hadm_id  \\\n",
       "0          2500  16468691-DS-13  27150697   \n",
       "1          2501   15894430-DS-5  29437146   \n",
       "2          2502  11323860-DS-11  29570429   \n",
       "3          2503   16940938-DS-5  28987319   \n",
       "4          2504   16095232-DS-6  24682082   \n",
       "..          ...             ...       ...   \n",
       "995        3495  13470788-DS-61  22192648   \n",
       "996        3496   13893809-DS-7  24320687   \n",
       "997        3497   15250779-DS-4  28137597   \n",
       "998        3498   12370269-DS-8  26162379   \n",
       "999        3499  16514111-DS-15  25237206   \n",
       "\n",
       "                                                 input  \\\n",
       "0     \\nName:  ___                  Unit No:   ___\\...   \n",
       "1     \\nName:  ___                 Unit No:   ___\\n...   \n",
       "2     \\nName:  ___                 Unit No:   ___\\n...   \n",
       "3     \\nName:  ___                  Unit No:   ___\\...   \n",
       "4     \\nName:  ___                 Unit No:   ___\\n...   \n",
       "..                                                 ...   \n",
       "995   \\nName:  ___              Unit No:   ___\\n \\n...   \n",
       "996   \\nName:  ___                    Unit No:   __...   \n",
       "997   \\nName:  ___                  Unit No:   ___\\...   \n",
       "998   \\nName:  ___                  Unit No:   ___\\...   \n",
       "999   \\nName:  ___                  Unit No:   ___\\...   \n",
       "\n",
       "                                                output             careunit  \\\n",
       "0    ## Acute pancreatitis: Ms. ___ is a relatively...         Med/Surg/GYN   \n",
       "1    ___ yo ___ female with h/o dementia, hypertens...      Med/Surg/Trauma   \n",
       "2    BRIEF SUMMARY\\n=============\\nMr. ___ is a ___...  Medicine/Cardiology   \n",
       "3    Mr ___ is an ___ w/ h/o ___ Disease, Alzheimer...      Med/Surg/Trauma   \n",
       "4    ___ y/o F w/ IDDM, HTN, alcohol abuse, tobacco...             Medicine   \n",
       "..                                                 ...                  ...   \n",
       "995  ___ with Hep C and EtOH cirrhosis, HCC, s/p li...           Transplant   \n",
       "996  Mr. ___ is a ___ with history of alcohol use d...             Medicine   \n",
       "997  Mr. ___ (DOB: ___ is a ___ year old male, with...  Medicine/Cardiology   \n",
       "998  The patient was admitted to the General Surgic...      Med/Surg/Trauma   \n",
       "999  Patient is a ___ male with PMH of HepC/alcohol...           Transplant   \n",
       "\n",
       "    eventtype curr_service                                          gpt_input  \\\n",
       "0    transfer          MED  [{'role': 'system', 'content': 'You are a phys...   \n",
       "1    transfer          MED  [{'role': 'system', 'content': 'You are a phys...   \n",
       "2    transfer         CMED  [{'role': 'system', 'content': 'You are a phys...   \n",
       "3       admit          MED  [{'role': 'system', 'content': 'You are a phys...   \n",
       "4    transfer          MED  [{'role': 'system', 'content': 'You are a phys...   \n",
       "..        ...          ...                                                ...   \n",
       "995     admit          MED  [{'role': 'system', 'content': 'You are a phys...   \n",
       "996  transfer          MED  [{'role': 'system', 'content': 'You are a phys...   \n",
       "997  transfer         CMED  [{'role': 'system', 'content': 'You are a phys...   \n",
       "998     admit         SURG  [{'role': 'system', 'content': 'You are a phys...   \n",
       "999  transfer          MED  [{'role': 'system', 'content': 'You are a phys...   \n",
       "\n",
       "                                        gpt_completion  \n",
       "0    Ms. ___ is a ___-year-old woman with a history...  \n",
       "1    Ms. ___ presented with right hip pain after an...  \n",
       "2    Mr. ___ is a ___ y/o male with a history of he...  \n",
       "3    Mr. ___ was transferred to the medicine servic...  \n",
       "4    Ms. ___ presented to the ED with dyspnea and a...  \n",
       "..                                                 ...  \n",
       "995  Ms. ___ presented with 1-day history of epigas...  \n",
       "996  Mr. ___ presented to the emergency department ...  \n",
       "997  Mr. ___ presented to the ED after a cardiac ar...  \n",
       "998  Mrs. ___ presented to the ED with right-sided ...  \n",
       "999  Mr. ___ is a ___ y/o male with a history of He...  \n",
       "\n",
       "[1000 rows x 10 columns]"
      ]
     },
     "execution_count": 40,
     "metadata": {},
     "output_type": "execute_result"
    }
   ],
   "source": [
    "gpt_output"
   ]
  },
  {
   "cell_type": "code",
   "execution_count": 48,
   "id": "2d39bbc3-3ca6-439c-ba6f-b680180faad1",
   "metadata": {},
   "outputs": [
    {
     "name": "stdout",
     "output_type": "stream",
     "text": [
      "{'rouge1': 0.29054295458361973, 'rouge2': 0.06733841617256617, 'rougeL': 0.14695558221582145, 'rougeLsum': 0.278719714358029}\n"
     ]
    }
   ],
   "source": [
    "gpt_results = rouge.compute(predictions=gpt_output[\"gpt_completion\"].tolist()[300:500], references=gpt_output[\"output\"].tolist()[300:500])\n",
    "print(gpt_results)"
   ]
  },
  {
   "cell_type": "code",
   "execution_count": 52,
   "id": "0ea7fef6-c466-4dba-94f6-2160770f9fd0",
   "metadata": {},
   "outputs": [
    {
     "data": {
      "text/html": [
       "<div>\n",
       "<style scoped>\n",
       "    .dataframe tbody tr th:only-of-type {\n",
       "        vertical-align: middle;\n",
       "    }\n",
       "\n",
       "    .dataframe tbody tr th {\n",
       "        vertical-align: top;\n",
       "    }\n",
       "\n",
       "    .dataframe thead th {\n",
       "        text-align: right;\n",
       "    }\n",
       "</style>\n",
       "<table border=\"1\" class=\"dataframe\">\n",
       "  <thead>\n",
       "    <tr style=\"text-align: right;\">\n",
       "      <th></th>\n",
       "      <th>rouge1</th>\n",
       "      <th>rouge2</th>\n",
       "      <th>rougeL</th>\n",
       "      <th>rougeLsum</th>\n",
       "    </tr>\n",
       "  </thead>\n",
       "  <tbody>\n",
       "    <tr>\n",
       "      <th>BART</th>\n",
       "      <td>0.368091</td>\n",
       "      <td>0.179541</td>\n",
       "      <td>0.250730</td>\n",
       "      <td>0.362038</td>\n",
       "    </tr>\n",
       "    <tr>\n",
       "      <th>GPT-3.5</th>\n",
       "      <td>0.290543</td>\n",
       "      <td>0.067338</td>\n",
       "      <td>0.146956</td>\n",
       "      <td>0.278720</td>\n",
       "    </tr>\n",
       "  </tbody>\n",
       "</table>\n",
       "</div>"
      ],
      "text/plain": [
       "           rouge1    rouge2    rougeL  rougeLsum\n",
       "BART     0.368091  0.179541  0.250730   0.362038\n",
       "GPT-3.5  0.290543  0.067338  0.146956   0.278720"
      ]
     },
     "execution_count": 52,
     "metadata": {},
     "output_type": "execute_result"
    }
   ],
   "source": [
    "pd.DataFrame.from_records([bart_results, gpt_results], index=['BART', \"GPT-3.5\"])"
   ]
  },
  {
   "cell_type": "code",
   "execution_count": null,
   "id": "074a8eb7-94b9-4fff-95e3-7020e1efbdd4",
   "metadata": {},
   "outputs": [],
   "source": []
  }
 ],
 "metadata": {
  "kernelspec": {
   "display_name": "Python 3 (ipykernel)",
   "language": "python",
   "name": "python3"
  },
  "language_info": {
   "codemirror_mode": {
    "name": "ipython",
    "version": 3
   },
   "file_extension": ".py",
   "mimetype": "text/x-python",
   "name": "python",
   "nbconvert_exporter": "python",
   "pygments_lexer": "ipython3",
   "version": "3.12.2"
  },
  "widgets": {
   "application/vnd.jupyter.widget-state+json": {
    "state": {
     "01da605fc38f4102b20b5494eefa651e": {
      "model_module": "@jupyter-widgets/controls",
      "model_module_version": "2.0.0",
      "model_name": "ProgressStyleModel",
      "state": {
       "description_width": ""
      }
     },
     "0226f2c43cf742d69a75f793c336acde": {
      "model_module": "@jupyter-widgets/base",
      "model_module_version": "2.0.0",
      "model_name": "LayoutModel",
      "state": {}
     },
     "1bf81716ac694adc815a5c7cf15ab6de": {
      "model_module": "@jupyter-widgets/controls",
      "model_module_version": "2.0.0",
      "model_name": "FloatProgressModel",
      "state": {
       "bar_style": "danger",
       "layout": "IPY_MODEL_0226f2c43cf742d69a75f793c336acde",
       "max": 920,
       "style": "IPY_MODEL_fa563e24d03f4fd38acb8563f56c9bf1",
       "value": 2
      }
     },
     "204f4117ae91489da18a9d0b46eaafe5": {
      "model_module": "@jupyter-widgets/controls",
      "model_module_version": "2.0.0",
      "model_name": "HTMLModel",
      "state": {
       "layout": "IPY_MODEL_be57daaadf5e48f0a01350d741443654",
       "style": "IPY_MODEL_52b5b2e4036f45e19bbebf0f985c9a3f",
       "value": " 2/920 [01:40&lt;25:36:22, 100.42s/it]"
      }
     },
     "50c3e7e95b384e109936f54f5995fe1c": {
      "model_module": "@jupyter-widgets/base",
      "model_module_version": "2.0.0",
      "model_name": "LayoutModel",
      "state": {}
     },
     "52b5b2e4036f45e19bbebf0f985c9a3f": {
      "model_module": "@jupyter-widgets/controls",
      "model_module_version": "2.0.0",
      "model_name": "HTMLStyleModel",
      "state": {
       "description_width": "",
       "font_size": null,
       "text_color": null
      }
     },
     "5eb98ca31cbc479d857e81f649349f57": {
      "model_module": "@jupyter-widgets/controls",
      "model_module_version": "2.0.0",
      "model_name": "HTMLStyleModel",
      "state": {
       "description_width": "",
       "font_size": null,
       "text_color": null
      }
     },
     "79c747975f0b4f60864aca62b95aff1a": {
      "model_module": "@jupyter-widgets/base",
      "model_module_version": "2.0.0",
      "model_name": "LayoutModel",
      "state": {}
     },
     "9627ca7b2fd34995bc36f0a57c3d7f4d": {
      "model_module": "@jupyter-widgets/controls",
      "model_module_version": "2.0.0",
      "model_name": "HTMLModel",
      "state": {
       "layout": "IPY_MODEL_a859bc61df9f479a8cf4df3dffdee41f",
       "style": "IPY_MODEL_5eb98ca31cbc479d857e81f649349f57",
       "value": " 11%"
      }
     },
     "9c017491e850412b956270f272cae1aa": {
      "model_module": "@jupyter-widgets/controls",
      "model_module_version": "2.0.0",
      "model_name": "HTMLModel",
      "state": {
       "layout": "IPY_MODEL_50c3e7e95b384e109936f54f5995fe1c",
       "style": "IPY_MODEL_f4ec6c029a6046e98c4850c76b7100de",
       "value": "  0%"
      }
     },
     "a0c70b74b77f4fe9867b4a1c34f13013": {
      "model_module": "@jupyter-widgets/base",
      "model_module_version": "2.0.0",
      "model_name": "LayoutModel",
      "state": {}
     },
     "a859bc61df9f479a8cf4df3dffdee41f": {
      "model_module": "@jupyter-widgets/base",
      "model_module_version": "2.0.0",
      "model_name": "LayoutModel",
      "state": {}
     },
     "afc6043f8fcb4d26805fd44230251cbe": {
      "model_module": "@jupyter-widgets/controls",
      "model_module_version": "2.0.0",
      "model_name": "HBoxModel",
      "state": {
       "children": [
        "IPY_MODEL_9627ca7b2fd34995bc36f0a57c3d7f4d",
        "IPY_MODEL_e1a297f10e004180add0922abc9268a3",
        "IPY_MODEL_ddbc602765ad4d82b127cde38cf20bb0"
       ],
       "layout": "IPY_MODEL_dbeb83f20d1145a69ec45b17a03c1e71"
      }
     },
     "be57daaadf5e48f0a01350d741443654": {
      "model_module": "@jupyter-widgets/base",
      "model_module_version": "2.0.0",
      "model_name": "LayoutModel",
      "state": {}
     },
     "c02d2057bf1f49e59f855138e47978bd": {
      "model_module": "@jupyter-widgets/base",
      "model_module_version": "2.0.0",
      "model_name": "LayoutModel",
      "state": {}
     },
     "cc56142c4484421e878bfe2754b796ff": {
      "model_module": "@jupyter-widgets/controls",
      "model_module_version": "2.0.0",
      "model_name": "HBoxModel",
      "state": {
       "children": [
        "IPY_MODEL_9c017491e850412b956270f272cae1aa",
        "IPY_MODEL_1bf81716ac694adc815a5c7cf15ab6de",
        "IPY_MODEL_204f4117ae91489da18a9d0b46eaafe5"
       ],
       "layout": "IPY_MODEL_79c747975f0b4f60864aca62b95aff1a"
      }
     },
     "dbeb83f20d1145a69ec45b17a03c1e71": {
      "model_module": "@jupyter-widgets/base",
      "model_module_version": "2.0.0",
      "model_name": "LayoutModel",
      "state": {}
     },
     "ddbc602765ad4d82b127cde38cf20bb0": {
      "model_module": "@jupyter-widgets/controls",
      "model_module_version": "2.0.0",
      "model_name": "HTMLModel",
      "state": {
       "layout": "IPY_MODEL_a0c70b74b77f4fe9867b4a1c34f13013",
       "style": "IPY_MODEL_ee570ed5ed3844ec982eebd6c15f6166",
       "value": " 99/920 [09:15&lt;1:05:02,  4.75s/it]"
      }
     },
     "e1a297f10e004180add0922abc9268a3": {
      "model_module": "@jupyter-widgets/controls",
      "model_module_version": "2.0.0",
      "model_name": "FloatProgressModel",
      "state": {
       "bar_style": "danger",
       "layout": "IPY_MODEL_c02d2057bf1f49e59f855138e47978bd",
       "max": 920,
       "style": "IPY_MODEL_01da605fc38f4102b20b5494eefa651e",
       "value": 99
      }
     },
     "ee570ed5ed3844ec982eebd6c15f6166": {
      "model_module": "@jupyter-widgets/controls",
      "model_module_version": "2.0.0",
      "model_name": "HTMLStyleModel",
      "state": {
       "description_width": "",
       "font_size": null,
       "text_color": null
      }
     },
     "f4ec6c029a6046e98c4850c76b7100de": {
      "model_module": "@jupyter-widgets/controls",
      "model_module_version": "2.0.0",
      "model_name": "HTMLStyleModel",
      "state": {
       "description_width": "",
       "font_size": null,
       "text_color": null
      }
     },
     "fa563e24d03f4fd38acb8563f56c9bf1": {
      "model_module": "@jupyter-widgets/controls",
      "model_module_version": "2.0.0",
      "model_name": "ProgressStyleModel",
      "state": {
       "description_width": ""
      }
     }
    },
    "version_major": 2,
    "version_minor": 0
   }
  }
 },
 "nbformat": 4,
 "nbformat_minor": 5
}
