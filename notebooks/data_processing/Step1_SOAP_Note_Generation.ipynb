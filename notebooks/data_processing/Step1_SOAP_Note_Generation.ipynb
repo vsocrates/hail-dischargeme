{
 "cells": [
  {
   "cell_type": "markdown",
   "id": "8201b927-ffb6-4ec5-9e7c-6ce39b89804f",
   "metadata": {},
   "source": [
    "# SOAP Note Generation\n",
    "\n",
    "This notebook performs step 1 of the Brief Hospital Course pipeline, in which we generate a SOAP note for each service based on a list of information that has been passed into a GPT-3.5 model. "
   ]
  },
  {
   "cell_type": "code",
   "execution_count": 11,
   "id": "47f4516e-b3cb-4179-982e-f783e7cc1514",
   "metadata": {},
   "outputs": [],
   "source": [
    "import pandas as pd\n",
    "import ast\n",
    "import numpy as np\n",
    "\n",
    "from tqdm import tqdm\n",
    "# from tqdm.auto import tqdm  # for notebooks\n",
    "tqdm.pandas()\n",
    "\n",
    "import os\n",
    "import openai"
   ]
  },
  {
   "cell_type": "code",
   "execution_count": 12,
   "id": "a3beef81-0897-454d-ba25-bff5bb47fa3e",
   "metadata": {},
   "outputs": [
    {
     "data": {
      "text/plain": [
       "True"
      ]
     },
     "execution_count": 12,
     "metadata": {},
     "output_type": "execute_result"
    }
   ],
   "source": [
    "from dotenv import load_dotenv\n",
    "load_dotenv()  # take environment variables from .env."
   ]
  },
  {
   "cell_type": "code",
   "execution_count": 21,
   "id": "7a4edfef-c890-4257-87a9-d7a42d363d08",
   "metadata": {},
   "outputs": [],
   "source": [
    "N = 5"
   ]
  },
  {
   "cell_type": "markdown",
   "id": "3bed84bf-c057-48f3-82e9-aa4ca381ce39",
   "metadata": {},
   "source": [
    "## Read in Radiology Reports"
   ]
  },
  {
   "cell_type": "code",
   "execution_count": 19,
   "id": "e61e5e2e-abb1-4c55-8ad4-3a021195ac56",
   "metadata": {},
   "outputs": [],
   "source": [
    "radiology = pd.read_csv(\"/gpfs/milgram/project/rtaylor/shared/DischargeMe/public/train/radiology.csv.gz\")"
   ]
  },
  {
   "cell_type": "markdown",
   "id": "c2754157-fa3a-448b-9f8e-79b42c5b94dd",
   "metadata": {},
   "source": [
    "## Read in Structured Data"
   ]
  },
  {
   "cell_type": "code",
   "execution_count": 5,
   "id": "f3d29f00-43fb-4b8a-bfac-dc45246dd6c3",
   "metadata": {},
   "outputs": [],
   "source": [
    "# discharge summaries\n",
    "discharges = pd.read_csv(\"/gpfs/milgram/project/rtaylor/shared/DischargeMe/public/train/discharge.csv.gz\")\n",
    "\n",
    "# ed stays\n",
    "edstays = pd.read_csv('/gpfs/milgram/project/rtaylor/shared/DischargeMe/public/train/edstays.csv.gz')\n",
    "\n",
    "# triage\n",
    "triage = pd.read_csv('/gpfs/milgram/project/rtaylor/shared/DischargeMe/public/train/triage.csv.gz')\n",
    "\n",
    "# ward transfers\n",
    "transfers = pd.read_csv('/gpfs/milgram/project/rtaylor/shared/DischargeMe/mimiciv/hosp/transfers.csv.gz')\n",
    "\n",
    "# higher-level services (ICU, CARD, etc)\n",
    "services = pd.read_csv('/gpfs/milgram/project/rtaylor/shared/DischargeMe/mimiciv/hosp/services.csv.gz')\n",
    "\n",
    "# get patient info\n",
    "pts = pd.read_csv('/gpfs/milgram/project/rtaylor/shared/DischargeMe/mimiciv/hosp/patients.csv.gz')\n",
    "\n",
    "# admission demographics\n",
    "admissions = pd.read_csv('/gpfs/milgram/project/rtaylor/shared/DischargeMe/mimiciv/hosp/admissions.csv.gz')\n",
    "\n",
    "# procedures\n",
    "procs = pd.read_csv('/gpfs/milgram/project/rtaylor/shared/DischargeMe/mimiciv/hosp/procedures_icd.csv.gz')\n",
    "procs_icd = pd.read_csv('/gpfs/milgram/project/rtaylor/shared/DischargeMe/mimiciv/hosp/d_icd_procedures.csv.gz')\n",
    "\n",
    "# diagnoses\n",
    "diags = pd.read_csv('/gpfs/milgram/project/rtaylor/shared/DischargeMe/mimiciv/hosp/diagnoses_icd.csv.gz')\n",
    "diags_icd = pd.read_csv('/gpfs/milgram/project/rtaylor/shared/DischargeMe/mimiciv/hosp/d_icd_diagnoses.csv.gz')\n",
    "\n",
    "# meds\n",
    "med_orders = pd.read_csv('/gpfs/milgram/project/rtaylor/shared/DischargeMe/mimiciv/hosp/emar.csv.gz')\n"
   ]
  },
  {
   "cell_type": "code",
   "execution_count": 70,
   "id": "a0efc978-2fcf-4ef2-8d72-10a90c5218f7",
   "metadata": {},
   "outputs": [],
   "source": [
    "\n",
    "# # procedures\n",
    "# procs = pd.read_csv('/gpfs/milgram/project/rtaylor/shared/DischargeMe/mimiciv/hosp/procedures_icd.csv.gz')\n",
    "# procs_icd = pd.read_csv('/gpfs/milgram/project/rtaylor/shared/DischargeMe/mimiciv/hosp/d_icd_procedures.csv.gz')\n",
    "\n",
    "# # diagnoses\n",
    "# diags = pd.read_csv('/gpfs/milgram/project/rtaylor/shared/DischargeMe/mimiciv/hosp/diagnoses_icd.csv.gz')\n",
    "# diags_icd = pd.read_csv('/gpfs/milgram/project/rtaylor/shared/DischargeMe/mimiciv/hosp/d_icd_diagnoses.csv.gz')\n"
   ]
  },
  {
   "cell_type": "code",
   "execution_count": 13,
   "id": "3bd2f59c-6e0d-4943-91b5-c506b5d00448",
   "metadata": {},
   "outputs": [
    {
     "name": "stderr",
     "output_type": "stream",
     "text": [
      "/tmp/ipykernel_2337815/295397496.py:1: DtypeWarning: Columns (11) have mixed types. Specify dtype option on import or set low_memory=False.\n",
      "  prescriptions = pd.read_csv('/gpfs/milgram/project/rtaylor/shared/DischargeMe/mimiciv/hosp/prescriptions.csv.gz')\n",
      "/tmp/ipykernel_2337815/295397496.py:3: DtypeWarning: Columns (17) have mixed types. Specify dtype option on import or set low_memory=False.\n",
      "  microbio = pd.read_csv('/gpfs/milgram/project/rtaylor/shared/DischargeMe/mimiciv/hosp/microbiologyevents.csv.gz')\n"
     ]
    }
   ],
   "source": [
    "prescriptions = pd.read_csv('/gpfs/milgram/project/rtaylor/shared/DischargeMe/mimiciv/hosp/prescriptions.csv.gz')\n",
    "labs = pd.read_csv('/gpfs/milgram/project/rtaylor/shared/DischargeMe/mimiciv/hosp/labevents.csv.gz')\n",
    "microbio = pd.read_csv('/gpfs/milgram/project/rtaylor/shared/DischargeMe/mimiciv/hosp/microbiologyevents.csv.gz')"
   ]
  },
  {
   "cell_type": "code",
   "execution_count": 37,
   "id": "065746c8-45df-40f4-88ee-235ecdb6f077",
   "metadata": {},
   "outputs": [],
   "source": [
    "labs_icd = pd.read_csv(\"/gpfs/milgram/project/rtaylor/shared/DischargeMe/mimiciv/hosp/d_labitems.csv.gz\")"
   ]
  },
  {
   "cell_type": "code",
   "execution_count": 50,
   "id": "d96d2771-0d46-43ab-a441-7396cf6d1fbf",
   "metadata": {},
   "outputs": [],
   "source": [
    "labs = labs.merge(labs_icd, on=\"itemid\", how=\"left\")"
   ]
  },
  {
   "cell_type": "markdown",
   "id": "634a8b4d-3160-448b-b438-98dc96af4335",
   "metadata": {},
   "source": [
    "### Clean up/type cast data"
   ]
  },
  {
   "cell_type": "code",
   "execution_count": 14,
   "id": "3a251ee2-4e76-49ac-ba8b-66440c7c1769",
   "metadata": {},
   "outputs": [],
   "source": [
    "med_orders = med_orders[~med_orders['charttime'].isna() & \n",
    "                        ~med_orders['medication'].isna() & \n",
    "                        ~med_orders['event_txt'].isna()]"
   ]
  },
  {
   "cell_type": "code",
   "execution_count": 15,
   "id": "f9f637d2-fb88-4f4e-91ec-5ce68edba838",
   "metadata": {},
   "outputs": [],
   "source": [
    "procs = procs.astype({\"chartdate\":\"datetime64[ns]\"})\n",
    "med_orders = med_orders.astype({\"charttime\":\"datetime64[ns]\",\n",
    "                  \"scheduletime\":\"datetime64[ns]\",\n",
    "                  \"storetime\":\"datetime64[ns]\",})\n",
    "\n",
    "discharges = discharges.astype({\"charttime\":\"datetime64[ns]\",\n",
    "                               \"storetime\":\"datetime64[ns]\"})"
   ]
  },
  {
   "cell_type": "code",
   "execution_count": 29,
   "id": "a8e2a812-1cb0-4f24-89af-cf0ecdfe6097",
   "metadata": {},
   "outputs": [],
   "source": [
    "prescriptions = prescriptions.astype({\"starttime\":\"datetime64[ns]\",\n",
    "                      \"stoptime\":\"datetime64[ns]\"})\n",
    "labs = labs.astype({\"charttime\":\"datetime64[ns]\",\n",
    "                      \"storetime\":\"datetime64[ns]\"})\n",
    "\n",
    "microbio = microbio.astype({\"chartdate\":\"datetime64[ns]\",\n",
    "                      \"charttime\":\"datetime64[ns]\",\n",
    "                           \"storetime\":\"datetime64[ns]\",\n",
    "                      \"charttime\":\"datetime64[ns]\"})"
   ]
  },
  {
   "cell_type": "code",
   "execution_count": 71,
   "id": "31a9fe0f-66b9-494c-979c-222870026ad3",
   "metadata": {},
   "outputs": [],
   "source": [
    "# drop any potential repeats\n",
    "procs_icd = procs_icd.groupby([\"icd_code\", \"icd_version\"]).first().reset_index()\n",
    "diags_icd = diags_icd.groupby([\"icd_code\", \"icd_version\"]).first().reset_index()"
   ]
  },
  {
   "cell_type": "code",
   "execution_count": 72,
   "id": "1e386567-6250-4f4c-ad5f-de0ca33c9fdc",
   "metadata": {},
   "outputs": [],
   "source": [
    "# grab long_titles for procs/diags\n",
    "procs = procs.merge(procs_icd, on=[\"icd_code\", \"icd_version\"], how=\"left\")\n",
    "diags = diags.merge(diags_icd, on=[\"icd_code\", \"icd_version\"], how=\"left\")"
   ]
  },
  {
   "cell_type": "markdown",
   "id": "48101bf9-6b84-4e65-97c8-7aac60b57e13",
   "metadata": {},
   "source": [
    "\n",
    "### Define Extraction Functions"
   ]
  },
  {
   "cell_type": "code",
   "execution_count": 30,
   "id": "deb34385-f3b9-4216-ba67-a65d13c97449",
   "metadata": {},
   "outputs": [],
   "source": [
    "# generate free text sections of tables concatenating columns\n",
    "med_orders['admin_text'] = med_orders['medication'] + \" at \" + med_orders['charttime'].dt.strftime('%B %d, %Y, %r')\n",
    "# TODO: Add the right information in here that we actually want for the meds\n",
    "prescriptions['text'] = prescriptions['drug'] + \" \" + prescriptions['prod_strength']\n"
   ]
  },
  {
   "cell_type": "code",
   "execution_count": 35,
   "id": "96b07f8e-7f75-4151-ae67-baf7aa9db539",
   "metadata": {},
   "outputs": [
    {
     "data": {
      "text/html": [
       "<div>\n",
       "<style scoped>\n",
       "    .dataframe tbody tr th:only-of-type {\n",
       "        vertical-align: middle;\n",
       "    }\n",
       "\n",
       "    .dataframe tbody tr th {\n",
       "        vertical-align: top;\n",
       "    }\n",
       "\n",
       "    .dataframe thead th {\n",
       "        text-align: right;\n",
       "    }\n",
       "</style>\n",
       "<table border=\"1\" class=\"dataframe\">\n",
       "  <thead>\n",
       "    <tr style=\"text-align: right;\">\n",
       "      <th></th>\n",
       "      <th>subject_id</th>\n",
       "      <th>hadm_id</th>\n",
       "      <th>pharmacy_id</th>\n",
       "      <th>poe_id</th>\n",
       "      <th>poe_seq</th>\n",
       "      <th>order_provider_id</th>\n",
       "      <th>starttime</th>\n",
       "      <th>stoptime</th>\n",
       "      <th>drug_type</th>\n",
       "      <th>drug</th>\n",
       "      <th>formulary_drug_cd</th>\n",
       "      <th>gsn</th>\n",
       "      <th>ndc</th>\n",
       "      <th>prod_strength</th>\n",
       "      <th>form_rx</th>\n",
       "      <th>dose_val_rx</th>\n",
       "      <th>dose_unit_rx</th>\n",
       "      <th>form_val_disp</th>\n",
       "      <th>form_unit_disp</th>\n",
       "      <th>doses_per_24_hrs</th>\n",
       "      <th>route</th>\n",
       "      <th>text</th>\n",
       "    </tr>\n",
       "  </thead>\n",
       "  <tbody>\n",
       "    <tr>\n",
       "      <th>15265619</th>\n",
       "      <td>19906572</td>\n",
       "      <td>20909471</td>\n",
       "      <td>94135471</td>\n",
       "      <td>19906572-1000</td>\n",
       "      <td>1000.0</td>\n",
       "      <td>P99E90</td>\n",
       "      <td>2135-11-06 05:00:00</td>\n",
       "      <td>2135-11-08 18:00:00</td>\n",
       "      <td>BASE</td>\n",
       "      <td>SW</td>\n",
       "      <td>KCLBASE</td>\n",
       "      <td>NaN</td>\n",
       "      <td>0.000000e+00</td>\n",
       "      <td>100ml Bag</td>\n",
       "      <td>NaN</td>\n",
       "      <td>200</td>\n",
       "      <td>mL</td>\n",
       "      <td>200</td>\n",
       "      <td>mL</td>\n",
       "      <td>NaN</td>\n",
       "      <td>IV</td>\n",
       "      <td>SW 100ml Bag</td>\n",
       "    </tr>\n",
       "    <tr>\n",
       "      <th>3784434</th>\n",
       "      <td>12462463</td>\n",
       "      <td>24666064</td>\n",
       "      <td>48450074</td>\n",
       "      <td>12462463-134</td>\n",
       "      <td>134.0</td>\n",
       "      <td>P12FN3</td>\n",
       "      <td>2117-07-16 08:00:00</td>\n",
       "      <td>2117-07-16 08:00:00</td>\n",
       "      <td>MAIN</td>\n",
       "      <td>Potassium Chloride</td>\n",
       "      <td>KCL20P</td>\n",
       "      <td>001262</td>\n",
       "      <td>6.954304e+10</td>\n",
       "      <td>20mEq Packet</td>\n",
       "      <td>NaN</td>\n",
       "      <td>40</td>\n",
       "      <td>mEq</td>\n",
       "      <td>2</td>\n",
       "      <td>PKT</td>\n",
       "      <td>1.0</td>\n",
       "      <td>PO</td>\n",
       "      <td>Potassium Chloride 20mEq Packet</td>\n",
       "    </tr>\n",
       "  </tbody>\n",
       "</table>\n",
       "</div>"
      ],
      "text/plain": [
       "          subject_id   hadm_id  pharmacy_id         poe_id  poe_seq  \\\n",
       "15265619    19906572  20909471     94135471  19906572-1000   1000.0   \n",
       "3784434     12462463  24666064     48450074   12462463-134    134.0   \n",
       "\n",
       "         order_provider_id           starttime            stoptime drug_type  \\\n",
       "15265619            P99E90 2135-11-06 05:00:00 2135-11-08 18:00:00      BASE   \n",
       "3784434             P12FN3 2117-07-16 08:00:00 2117-07-16 08:00:00      MAIN   \n",
       "\n",
       "                        drug formulary_drug_cd     gsn           ndc  \\\n",
       "15265619                  SW           KCLBASE     NaN  0.000000e+00   \n",
       "3784434   Potassium Chloride            KCL20P  001262  6.954304e+10   \n",
       "\n",
       "         prod_strength form_rx dose_val_rx dose_unit_rx form_val_disp  \\\n",
       "15265619     100ml Bag     NaN         200           mL           200   \n",
       "3784434   20mEq Packet     NaN          40          mEq             2   \n",
       "\n",
       "         form_unit_disp  doses_per_24_hrs route  \\\n",
       "15265619             mL               NaN    IV   \n",
       "3784434             PKT               1.0    PO   \n",
       "\n",
       "                                     text  \n",
       "15265619                     SW 100ml Bag  \n",
       "3784434   Potassium Chloride 20mEq Packet  "
      ]
     },
     "metadata": {},
     "output_type": "display_data"
    }
   ],
   "source": [
    "with pd.option_context(\"display.max_columns\", None):\n",
    "    display(prescriptions.sample(2))"
   ]
  },
  {
   "cell_type": "code",
   "execution_count": 52,
   "id": "d484f8d6-13cb-4d27-a0ab-3ff60ee4aee0",
   "metadata": {},
   "outputs": [],
   "source": [
    "# TODO: figure out how to better encapsulate lab values\n",
    "labs['text'] = labs['category'] + \" \" + labs['fluid'] + \" \" + labs['label'] + \": \" + labs['value'] + \" \" + labs['valueuom']"
   ]
  },
  {
   "cell_type": "code",
   "execution_count": 59,
   "id": "41115aff-2145-4d88-93fd-cd00e690a32a",
   "metadata": {},
   "outputs": [],
   "source": [
    "# TODO: check for those patients that don't have comments\n",
    "microbio['text'] = microbio['test_name'] + \": \" + microbio['comments']"
   ]
  },
  {
   "cell_type": "code",
   "execution_count": 56,
   "id": "eab40499-9b75-47ca-9730-75c7e918ce40",
   "metadata": {},
   "outputs": [
    {
     "data": {
      "text/plain": [
       "microevent_id                0\n",
       "subject_id                   0\n",
       "hadm_id                1830396\n",
       "micro_specimen_id            0\n",
       "order_provider_id      2272201\n",
       "chartdate                    0\n",
       "charttime               257699\n",
       "spec_itemid                  0\n",
       "spec_type_desc               1\n",
       "test_seq                     0\n",
       "storedate                12251\n",
       "storetime                25186\n",
       "test_itemid                  0\n",
       "test_name                    0\n",
       "org_itemid             1942044\n",
       "org_name               1942044\n",
       "isolate_num            1942044\n",
       "quantity               3228683\n",
       "ab_itemid              2121435\n",
       "ab_name                2121435\n",
       "dilution_text          2148780\n",
       "dilution_comparison    2149420\n",
       "dilution_value         2149420\n",
       "interpretation         2121435\n",
       "comments                990931\n",
       "dtype: int64"
      ]
     },
     "execution_count": 56,
     "metadata": {},
     "output_type": "execute_result"
    }
   ],
   "source": [
    "microbio.isna().sum()"
   ]
  },
  {
   "cell_type": "code",
   "execution_count": 76,
   "id": "c794836e-7082-4e5c-82df-3bcd18d86431",
   "metadata": {},
   "outputs": [],
   "source": [
    "# create initial input text prompt\n",
    "def get_demos(subject_id):\n",
    "    # has gender, anchor-age, date-of-death if exists\n",
    "    return pts[pts['subject_id'] == subject_id].squeeze()\n",
    "    \n",
    "def get_transfers(hadm_id):\n",
    "    return transfers[transfers['hadm_id'] == hadm_id].sort_values(\"intime\").squeeze()\n",
    "\n",
    "def get_triage_info(stay_id):\n",
    "    return triage[triage['stay_id'] == stay_id]\n",
    "    \n",
    "def get_procs(hadm_id):\n",
    "    adm_procs = procs[procs['hadm_id'] == hadm_id]\n",
    "    return adm_procs.sort_values(\"seq_num\")\n",
    "\n",
    "def get_diags(hadm_id):\n",
    "    adm_diags = diags[diags['hadm_id'] == hadm_id]\n",
    "    return adm_diags.sort_values(\"seq_num\")\n",
    "\n",
    "def get_med_orders(hadm_id):\n",
    "    med_admin = med_orders[(med_orders['hadm_id'] == hadm_id) & (med_orders['event_txt'] == \"Administered\")]\n",
    "    med_admin['admin_text'] = med_admin['medication'] + \" at \" + med_admin['charttime'].dt.strftime('%B %d, %Y, %r')\n",
    "    return med_admin\n",
    "\n",
    "def get_prescriptions(hadm_id):\n",
    "    adm_prescriptions = prescriptions[(prescriptions['hadm_id'] == hadm_id)]\n",
    "    \n",
    "def get_labs(hadm_id):\n",
    "    adm_labs = labs[(labs['hadm_id'] == hadm_id)]\n",
    "\n",
    "def get_microbio(hadm_id):        \n",
    "    adm_microbio = microbio[(microbio['hadm_id'] == hadm_id)]\n",
    "\n",
    "\n",
    "def get_med_orders_within_service(hadm_id, transfer_event):\n",
    "    med_admin = med_orders[(med_orders['hadm_id'] == hadm_id) & (med_orders['event_txt'] == \"Administered\")]\n",
    "    med_admin = med_admin.sort_values(\"emar_seq\")\n",
    "    \n",
    "    adm_diags_in_unit = med_admin[(med_admin['charttime'] > transfer_event['intime'])\n",
    "                                & (med_admin['charttime'] < transfer_event['outtime'])]\n",
    "\n",
    "    # adm_diags_in_unit['admin_text'] = adm_diags_in_unit['medication'] + \" at \" + adm_diags_in_unit['charttime'].dt.strftime('%B %d, %Y, %r')\n",
    "    \n",
    "    return adm_diags_in_unit\n",
    "\n",
    "def get_procs_within_service(hadm_id, transfer_event):\n",
    "    adm_procs = procs[procs['hadm_id'] == hadm_id]\n",
    "    adm_procs = adm_procs.sort_values(\"seq_num\")\n",
    "    \n",
    "    adm_procs_in_unit = adm_procs[(adm_procs['chartdate'] > transfer_event['intime'])\n",
    "                                & (adm_procs['chartdate'] < transfer_event['outtime'])]\n",
    "    return adm_procs_in_unit\n",
    "\n",
    "\n",
    "def get_prescriptions_within_service(hadm_id, transfer_event):\n",
    "    adm_prescriptions = prescriptions[(prescriptions['hadm_id'] == hadm_id)]\n",
    "    # adm_prescriptions['text'] = adm_prescriptions['drug'] + \" \" + adm_prescriptions['prod_strength']\n",
    "    adm_prescriptions_in_unit = adm_prescriptions[(adm_prescriptions['starttime'] > transfer_event['intime'])\n",
    "                                & (adm_prescriptions['starttime'] < transfer_event['outtime'])]\n",
    "    return adm_prescriptions_in_unit\n",
    "    \n",
    "def get_labs_within_service(hadm_id, transfer_event):\n",
    "    adm_labs = labs[(labs['hadm_id'] == hadm_id)]\n",
    "    adm_labs = adm_labs[(adm_labs['charttime'] > transfer_event['intime'])\n",
    "                                & (adm_labs['charttime'] < transfer_event['outtime'])]\n",
    "    return adm_labs\n",
    "    \n",
    "def get_microbio_within_service(hadm_id, transfer_event):\n",
    "    adm_microbio = microbio[(microbio['hadm_id'] == hadm_id)]\n",
    "    # TODO: we need to do something because chartdate is required, but charttime isn't, so what do we do when we don't have times? \n",
    "    adm_microbio = adm_microbio[(adm_microbio['chartdate'] > transfer_event['intime'])\n",
    "                                & (adm_microbio['chartdate'] < transfer_event['outtime'])]\n",
    "    return adm_microbio\n",
    "    "
   ]
  },
  {
   "cell_type": "code",
   "execution_count": 77,
   "id": "a2c8bca7-07a4-4dd6-8a69-1c69f57ba185",
   "metadata": {},
   "outputs": [],
   "source": [
    "def create_pt_prompt_per_service(discharge_row):\n",
    "\n",
    "    demos = get_demos(discharge_row['subject_id'])\n",
    "    if demos.empty:\n",
    "        age = r\"[UNKNOWN AGE]\"\n",
    "        sex = r\"[UNKNOWN SEX]\"\n",
    "    else:\n",
    "        age = demos['anchor_age']\n",
    "        sex = demos['gender']\n",
    "\n",
    "    pt_edstays = edstays[edstays['hadm_id'] == discharge_row['hadm_id']]\n",
    "\n",
    "    ccs = []\n",
    "    for stay_id in pt_edstays['stay_id'].tolist():\n",
    "        triage_info = get_triage_info(stay_id)\n",
    "        ccs.append(triage_info['chiefcomplaint'].squeeze())\n",
    "        \n",
    "    chief_complaints = \", \".join(ccs)\n",
    "\n",
    "    if sex:\n",
    "        pronoun = [\"he\",\"his\"] if sex == \"M\" else ['she',\"her\"]\n",
    "    else:\n",
    "        pronoun = [\"they\", \"their\"]\n",
    "\n",
    "    # transfers with dates\n",
    "    transfers = get_transfers(discharge_row['hadm_id'])\n",
    "\n",
    "    # get stay admission diagnoses\n",
    "    diags = get_diags(discharge_row['hadm_id'])\n",
    "\n",
    "    init_prompt = f\"___ is a {age} year old {sex} that initially presented to the ED with {chief_complaints}. By the end of {pronoun[1]} hospital stay, {pronoun[0]} was given the following diagnoses: {', '.join(diags['long_title'])} in order of importance to this admission. \"\n",
    "    transfer_service_prompts = []\n",
    "\n",
    "    for index, row in transfers.iterrows():\n",
    "        if row['eventtype'] == \"discharge\":\n",
    "             transfer_service_prompts.append(\"\")\n",
    "        else:\n",
    "            # TODO: add from here. \n",
    "            within_service_prompt = f\"The patient was transferred and stayed in the {row['careunit']} ward between {row['intime']} and {row['outtime']}. ___ received \"\n",
    "            \n",
    "            procs = get_procs_within_service(discharge_row['hadm_id'], row)\n",
    "            # med_orders = get_med_orders_within_service(discharge_row['hadm_id'], row)\n",
    "            prescriptions = get_prescriptions_within_service(discharge_row['hadm_id'], row)\n",
    "            labs = get_labs_within_service(discharge_row['hadm_id'], row)\n",
    "            microbio = get_microbio_within_service(discharge_row['hadm_id'], row)\n",
    "            \n",
    "            within_service_prompt = within_service_prompt + f\"the following procedures (ordered by priority): {', '.join(procs['long_title'].tolist())}. \"\n",
    "            # within_service_prompt = within_service_prompt + f\"{pronoun[0]} also received the following medications (ordered chronologically) during the service: {', '.join(med_orders['medication'].tolist())}. \"            \n",
    "            within_service_prompt = within_service_prompt + f\"\\n------------------------\\n{pronoun[0]} also received the following medications (ordered chronologically) during the service: {', '.join(prescriptions['text'].tolist())}. \"\n",
    "            within_service_prompt = within_service_prompt + f\"\\n------------------------\\nThe following labs were also drawn during the service: {', '.join(labs['text'].tolist())}. \"\n",
    "            within_service_prompt = within_service_prompt + f\"\\n------------------------\\nThe physician also ordered the following microbiology cultures during the service: {', '.join(microbio['text'].tolist())}. \"\n",
    "            \n",
    "            full_prompt = init_prompt + within_service_prompt + f\"Given this information, please generate a progress note for this patient for their care during this part of their hospital course staying in the {row['careunit']} ward.\"\n",
    "            transfer_service_prompts.append(full_prompt)\n",
    "\n",
    "    transfers['service_prompts'] = transfer_service_prompts\n",
    "    \n",
    "    return transfers\n",
    "    \n"
   ]
  },
  {
   "cell_type": "markdown",
   "id": "8f773b89-0263-416c-93a5-98c59087637b",
   "metadata": {},
   "source": [
    "## Generate Input Data List Prompt"
   ]
  },
  {
   "cell_type": "code",
   "execution_count": 83,
   "id": "6ccf49b8-1cfb-4cb1-9740-bf20e8eb5e66",
   "metadata": {},
   "outputs": [],
   "source": [
    "# TODO: why are there so many NAs?: 22680492\n",
    "labs = labs[~labs['text'].isna()]"
   ]
  },
  {
   "cell_type": "code",
   "execution_count": 84,
   "id": "905736ec-2cb7-4d8d-b2da-291ddeedf7f2",
   "metadata": {},
   "outputs": [],
   "source": [
    "service_prompts = create_pt_prompt_per_service(discharges.sample(1).squeeze())"
   ]
  },
  {
   "cell_type": "code",
   "execution_count": 87,
   "id": "5e188c9e-3d0f-458f-979c-c49180bc79f4",
   "metadata": {},
   "outputs": [
    {
     "name": "stdout",
     "output_type": "stream",
     "text": [
      "___ is a 83 year old F that initially presented to the ED with Abd pain, Vomiting. By the end of her hospital stay, she was given the following diagnoses: Sepsis, unspecified organism, Acidosis, Other ascites, Chronic atrial fibrillation, Chronic obstructive pulmonary disease, unspecified, Urinary tract infection, site not specified, Severe sepsis without septic shock, Unspecified Escherichia coli [E. coli] as the cause of diseases classified elsewhere, Do not resuscitate, Long term (current) use of anticoagulants, Personal history of nicotine dependence, Unspecified dementia without behavioral disturbance, Major depressive disorder, single episode, unspecified in order of importance to this admission. The patient was transferred and stayed in the Medicine ward between 2174-10-14 23:08:00 and 2174-10-21 12:26:37. ___ received the following procedures (ordered by priority): Insertion of Infusion Device into Superior Vena Cava, Percutaneous Approach. \n",
      "------------------------\n",
      "she also received the following medications (ordered chronologically) during the service: Sodium Chloride 0.9% Floor Stock Bag, Metoprolol Tartrate 12.5 mg Half Tablet, PNEUMOcoccal 23-valent polysaccharide vaccine 25mcg/0.5mL Vial, Metoprolol Succinate XL 25mg XL Tab, Iso-Osmotic Dextrose 100ml Bag, Piperacillin-Tazobactam 4.5 g Frozen Bag, Sodium Chloride 0.9%  Flush 10 mL Syringe, Metoprolol Succinate XL 25mg XL Tab, Donepezil 5mg Tablet, Digoxin 0.125mg Tablet, Sodium Chloride 0.9%  Flush 10 mL Syringe, Apixaban 5 mg Tablet, Sodium Chloride 0.9%  Flush 10 mL Syringe, Lidocaine 1% (For PICC/Midline Insertions)  5mL Amp - (For PICC/Midline Line Insertion), Heparin Flush (10 units/ml) 10 Units/mL - 5 mL Syringe, 0.9% Sodium Chloride (Mini Bag Plus) 100mL Bag, CefePIME 1 g / 100 mL NS (Mini Bag Plus), 0.9% Sodium Chloride (Mini Bag Plus) 100mL Bag, CefePIME 1 g / 100 mL NS (Mini Bag Plus), Sertraline 50mg Tablet, Iso-Osmotic Dextrose 100ml Bag, Piperacillin-Tazobactam 4.5 g Frozen Bag, Mirtazapine 15 mg Tablet, Apixaban 2.5 mg Tablet. \n",
      "------------------------\n",
      "The following labs were also drawn during the service: Hematology Blood Hematocrit 34.7 %, Hematology Blood Hemoglobin 11.0 g/dL, Hematology Blood MCH 30.9 pg, Hematology Blood MCHC 31.7 g/dL, Hematology Blood MCV 98 fL, Hematology Blood Platelet Count 141 K/uL, Hematology Blood RDW 14.6 %, Hematology Blood Red Blood Cells 3.56 m/uL, Hematology Blood White Blood Cells 8.9 K/uL, Hematology Blood RDW-SD 52.3 fL, Chemistry Blood Anion Gap 15 mEq/L, Chemistry Blood Bicarbonate 24 mEq/L, Chemistry Blood Calcium, Total 8.1 mg/dL, Chemistry Blood Chloride 109 mEq/L, Chemistry Blood Creatinine 0.7 mg/dL, Chemistry Blood Glucose ___ mg/dL, Chemistry Blood Magnesium 1.8 mg/dL, Chemistry Blood Phosphate 2.5 mg/dL, Chemistry Blood Potassium 4.1 mEq/L, Chemistry Blood Sodium 144 mEq/L, Chemistry Blood Urea Nitrogen 15 mg/dL, Blood Gas Blood Lactate 1.6 mmol/L, Chemistry Blood Anion Gap 12 mEq/L, Chemistry Blood Bicarbonate 27 mEq/L, Chemistry Blood Calcium, Total 8.7 mg/dL, Chemistry Blood Chloride 107 mEq/L, Chemistry Blood Creatinine 0.7 mg/dL, Chemistry Blood Glucose ___ mg/dL, Chemistry Blood Magnesium 1.9 mg/dL, Chemistry Blood Phosphate 2.9 mg/dL, Chemistry Blood Potassium 4.0 mEq/L, Chemistry Blood Sodium 142 mEq/L, Chemistry Blood Urea Nitrogen 13 mg/dL, Hematology Blood Hematocrit 37.0 %, Hematology Blood Hemoglobin 11.4 g/dL, Hematology Blood MCH 30.2 pg, Hematology Blood MCHC 30.8 g/dL, Hematology Blood MCV 98 fL, Hematology Blood Platelet Count 158 K/uL, Hematology Blood RDW 15.1 %, Hematology Blood Red Blood Cells 3.77 m/uL, Hematology Blood White Blood Cells 7.5 K/uL, Hematology Blood RDW-SD 54.4 fL, Hematology Blood Hematocrit 39.9 %, Hematology Blood Hemoglobin 12.4 g/dL, Hematology Blood MCH 30.4 pg, Hematology Blood MCHC 31.1 g/dL, Hematology Blood MCV 98 fL, Hematology Blood Platelet Count 168 K/uL, Hematology Blood RDW 14.8 %, Hematology Blood Red Blood Cells 4.08 m/uL, Hematology Blood White Blood Cells 7.9 K/uL, Hematology Blood RDW-SD 54.0 fL, Chemistry Blood Anion Gap 14 mEq/L, Chemistry Blood Bicarbonate 28 mEq/L, Chemistry Blood Calcium, Total 9.1 mg/dL, Chemistry Blood Chloride 104 mEq/L, Chemistry Blood Creatinine 0.8 mg/dL, Chemistry Blood Glucose ___ mg/dL, Chemistry Blood Magnesium 1.9 mg/dL, Chemistry Blood Phosphate 3.5 mg/dL, Chemistry Blood Potassium 4.0 mEq/L, Chemistry Blood Sodium 142 mEq/L, Chemistry Blood Urea Nitrogen 14 mg/dL, Chemistry Blood Anion Gap 14 mEq/L, Chemistry Blood Bicarbonate 28 mEq/L, Chemistry Blood Calcium, Total 9.0 mg/dL, Chemistry Blood Chloride 105 mEq/L, Chemistry Blood Creatinine 0.8 mg/dL, Chemistry Blood Glucose ___ mg/dL, Chemistry Blood Magnesium 1.9 mg/dL, Chemistry Blood Phosphate 3.5 mg/dL, Chemistry Blood Potassium 4.0 mEq/L, Chemistry Blood Sodium 143 mEq/L, Chemistry Blood Urea Nitrogen 15 mg/dL, Hematology Blood Hematocrit 35.7 %, Hematology Blood Hemoglobin 11.3 g/dL, Hematology Blood MCH 30.5 pg, Hematology Blood MCHC 31.7 g/dL, Hematology Blood MCV 96 fL, Hematology Blood Platelet Count 148 K/uL, Hematology Blood RDW 14.6 %, Hematology Blood Red Blood Cells 3.71 m/uL, Hematology Blood White Blood Cells 6.4 K/uL, Hematology Blood RDW-SD 50.8 fL, Hematology Blood Hematocrit 38.1 %, Hematology Blood Hemoglobin 11.9 g/dL, Hematology Blood MCH 30.6 pg, Hematology Blood MCHC 31.2 g/dL, Hematology Blood MCV 98 fL, Hematology Blood Platelet Count 167 K/uL, Hematology Blood RDW 14.6 %, Hematology Blood Red Blood Cells 3.89 m/uL, Hematology Blood White Blood Cells 6.1 K/uL, Hematology Blood RDW-SD 52.5 fL, Chemistry Blood Anion Gap 12 mEq/L, Chemistry Blood Bicarbonate 30 mEq/L, Chemistry Blood Calcium, Total 9.3 mg/dL, Chemistry Blood Chloride 104 mEq/L, Chemistry Blood Creatinine 0.7 mg/dL, Chemistry Blood Glucose ___ mg/dL, Chemistry Blood Magnesium 1.9 mg/dL, Chemistry Blood Phosphate 3.7 mg/dL, Chemistry Blood Potassium 4.1 mEq/L, Chemistry Blood Sodium 142 mEq/L, Chemistry Blood Urea Nitrogen 15 mg/dL, Hematology Blood Hematocrit 36.4 %, Hematology Blood Hemoglobin 11.3 g/dL, Hematology Blood MCH 30.2 pg, Hematology Blood MCHC 31.0 g/dL, Hematology Blood MCV 97 fL, Hematology Blood Platelet Count 165 K/uL, Hematology Blood RDW 14.6 %, Hematology Blood Red Blood Cells 3.74 m/uL, Hematology Blood White Blood Cells 6.2 K/uL, Hematology Blood RDW-SD 51.9 fL, Chemistry Blood Anion Gap 14 mEq/L, Chemistry Blood Bicarbonate 29 mEq/L, Chemistry Blood Calcium, Total 9.5 mg/dL, Chemistry Blood Chloride 106 mEq/L, Chemistry Blood Creatinine 0.8 mg/dL, Chemistry Blood Glucose ___ mg/dL, Chemistry Blood Magnesium 2.0 mg/dL, Chemistry Blood Phosphate 3.5 mg/dL, Chemistry Blood Potassium 4.0 mEq/L, Chemistry Blood Sodium 145 mEq/L, Chemistry Blood Urea Nitrogen 15 mg/dL. \n",
      "------------------------\n",
      "The physician also ordered the following microbiology cultures during the service: . Given this information, please generate a progress note for this patient for their care during this part of their hospital course staying in the Medicine ward.\n"
     ]
    }
   ],
   "source": [
    "print(service_prompts['service_prompts'].iloc[1])"
   ]
  },
  {
   "cell_type": "markdown",
   "id": "75bc770f-6381-460c-ac06-d72074822ce8",
   "metadata": {},
   "source": [
    "## Create SOAP notes from GPT API"
   ]
  },
  {
   "cell_type": "code",
   "execution_count": 20,
   "id": "245df893-0d7a-47d1-9c7c-11cdfee44a6e",
   "metadata": {},
   "outputs": [],
   "source": [
    "import openai\n",
    "openai.api_type = \"azure\"\n",
    "openai.api_base = os.getenv(\"OPENAI_API_BASE\")\n",
    "openai.api_version = \"2023-07-01-preview\"\n",
    "openai.api_key = os.getenv(\"OPENAI_API_KEY\")\n",
    "engine = \"decile-gpt-35-turbo-16k\"\n"
   ]
  },
  {
   "cell_type": "code",
   "execution_count": 91,
   "id": "2e33987e-600d-48c7-8a38-50c368a8ab85",
   "metadata": {},
   "outputs": [],
   "source": [
    "# drop all eventtypes of type: discharge, since we don't need a note for that\n",
    "service_prompts = service_prompts[service_prompts['eventtype'] != \"discharge\"]"
   ]
  },
  {
   "cell_type": "code",
   "execution_count": 96,
   "id": "ccda464c-45c5-486c-812c-5c1e54b35de0",
   "metadata": {},
   "outputs": [],
   "source": [
    "gpt_inputs = []\n",
    "for _, row in service_prompts.iterrows():\n",
    "    message_text = [{\"role\":\"system\",\"content\":f\"You are a physician that is reviewing a patient's medical record during their stay in your ward: ({row['careunit']}) and writing a SOAP Note based on this information.\"},]\n",
    "    \n",
    "    gpt_service_prompt = {\"role\":\"user\",\n",
    "                     \"content\":row['service_prompts']}\n",
    "    \n",
    "    message_text.append(gpt_service_prompt)\n",
    "    \n",
    "    # print(f\"Deprescribe Prompt: {message_text}\")\n",
    "    gpt_inputs.append(message_text)"
   ]
  },
  {
   "cell_type": "code",
   "execution_count": 97,
   "id": "a76f779f-abf8-4e94-8f09-76b90d4d631f",
   "metadata": {},
   "outputs": [],
   "source": [
    "completions = []\n",
    "for input in gpt_inputs:\n",
    "    completion = openai.ChatCompletion.create(\n",
    "      engine=engine,\n",
    "      messages = input,\n",
    "    )\n",
    "    completions.append(completion['choices'][0]['message']['content'])"
   ]
  },
  {
   "cell_type": "code",
   "execution_count": 98,
   "id": "2b67b886-e525-477f-8989-b68a8d60b3be",
   "metadata": {},
   "outputs": [
    {
     "name": "stderr",
     "output_type": "stream",
     "text": [
      "/tmp/ipykernel_2337815/611083610.py:1: SettingWithCopyWarning: \n",
      "A value is trying to be set on a copy of a slice from a DataFrame.\n",
      "Try using .loc[row_indexer,col_indexer] = value instead\n",
      "\n",
      "See the caveats in the documentation: https://pandas.pydata.org/pandas-docs/stable/user_guide/indexing.html#returning-a-view-versus-a-copy\n",
      "  service_prompts['gpt_SOAP_note'] = completions\n"
     ]
    }
   ],
   "source": [
    "service_prompts['gpt_SOAP_note'] = completions"
   ]
  },
  {
   "cell_type": "code",
   "execution_count": 100,
   "id": "dca64878-2b22-4e73-a80d-c1291c982a11",
   "metadata": {},
   "outputs": [],
   "source": [
    "service_prompts.to_csv(\"soap_note_sample.csv\")"
   ]
  },
  {
   "cell_type": "code",
   "execution_count": null,
   "id": "a6f76b83-56ea-475f-afa6-18b3afaefd75",
   "metadata": {},
   "outputs": [],
   "source": []
  }
 ],
 "metadata": {
  "kernelspec": {
   "display_name": "Python 3 (ipykernel)",
   "language": "python",
   "name": "python3"
  },
  "language_info": {
   "codemirror_mode": {
    "name": "ipython",
    "version": 3
   },
   "file_extension": ".py",
   "mimetype": "text/x-python",
   "name": "python",
   "nbconvert_exporter": "python",
   "pygments_lexer": "ipython3",
   "version": "3.10.13"
  },
  "widgets": {
   "application/vnd.jupyter.widget-state+json": {
    "state": {},
    "version_major": 2,
    "version_minor": 0
   }
  }
 },
 "nbformat": 4,
 "nbformat_minor": 5
}
