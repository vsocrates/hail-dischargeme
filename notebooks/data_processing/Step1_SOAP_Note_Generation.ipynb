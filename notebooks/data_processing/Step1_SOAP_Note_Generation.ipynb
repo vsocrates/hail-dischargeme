{
 "cells": [
  {
   "cell_type": "markdown",
   "id": "8201b927-ffb6-4ec5-9e7c-6ce39b89804f",
   "metadata": {},
   "source": [
    "# SOAP Note Generation\n",
    "\n",
    "This notebook performs step 1 of the Brief Hospital Course pipeline, in which we generate a SOAP note for each service based on a list of information that has been passed into a GPT-3.5 model. "
   ]
  },
  {
   "cell_type": "code",
   "execution_count": 1,
   "id": "47f4516e-b3cb-4179-982e-f783e7cc1514",
   "metadata": {},
   "outputs": [],
   "source": [
    "import pandas as pd\n",
    "import ast\n",
    "import numpy as np\n",
    "\n",
    "from tqdm import tqdm\n",
    "# from tqdm.auto import tqdm  # for notebooks\n",
    "tqdm.pandas()\n",
    "\n",
    "import os\n",
    "import openai"
   ]
  },
  {
   "cell_type": "code",
   "execution_count": 2,
   "id": "a3beef81-0897-454d-ba25-bff5bb47fa3e",
   "metadata": {},
   "outputs": [
    {
     "data": {
      "text/plain": [
       "True"
      ]
     },
     "execution_count": 2,
     "metadata": {},
     "output_type": "execute_result"
    }
   ],
   "source": [
    "from dotenv import load_dotenv\n",
    "load_dotenv()  # take environment variables from .env."
   ]
  },
  {
   "cell_type": "markdown",
   "id": "c2754157-fa3a-448b-9f8e-79b42c5b94dd",
   "metadata": {},
   "source": [
    "## Read in Data"
   ]
  },
  {
   "cell_type": "code",
   "execution_count": null,
   "id": "b296e9dc-371a-4193-b4e5-f32bd8507a12",
   "metadata": {},
   "outputs": [],
   "source": []
  },
  {
   "cell_type": "code",
   "execution_count": null,
   "id": "3cb35e86-51a0-491f-9eea-b15fd053e645",
   "metadata": {},
   "outputs": [],
   "source": []
  },
  {
   "cell_type": "code",
   "execution_count": 3,
   "id": "f3d29f00-43fb-4b8a-bfac-dc45246dd6c3",
   "metadata": {},
   "outputs": [],
   "source": [
    "# discharge summaries\n",
    "discharges = pd.read_csv(\"/gpfs/milgram/project/rtaylor/shared/DischargeMe/public/train/discharge.csv.gz\")\n",
    "\n",
    "# ed stays\n",
    "edstays = pd.read_csv('/gpfs/milgram/project/rtaylor/shared/DischargeMe/public/train/edstays.csv.gz')\n",
    "\n",
    "# triage\n",
    "triage = pd.read_csv('/gpfs/milgram/project/rtaylor/shared/DischargeMe/public/train/triage.csv.gz')\n",
    "\n",
    "# ward transfers\n",
    "transfers = pd.read_csv('/gpfs/milgram/project/rtaylor/shared/DischargeMe/mimiciv/hosp/transfers.csv.gz')\n",
    "\n",
    "# higher-level services (ICU, CARD, etc)\n",
    "services = pd.read_csv('/gpfs/milgram/project/rtaylor/shared/DischargeMe/mimiciv/hosp/services.csv.gz')\n",
    "\n",
    "# get patient info\n",
    "pts = pd.read_csv('/gpfs/milgram/project/rtaylor/shared/DischargeMe/mimiciv/hosp/patients.csv.gz')\n",
    "\n",
    "# admission demographics\n",
    "admissions = pd.read_csv('/gpfs/milgram/project/rtaylor/shared/DischargeMe/mimiciv/hosp/admissions.csv.gz')\n",
    "\n",
    "# procedures\n",
    "procs = pd.read_csv('/gpfs/milgram/project/rtaylor/shared/DischargeMe/mimiciv/hosp/procedures_icd.csv.gz')\n",
    "procs_icd = pd.read_csv('/gpfs/milgram/project/rtaylor/shared/DischargeMe/mimiciv/hosp/d_icd_procedures.csv.gz')\n",
    "\n",
    "# diagnoses\n",
    "diags = pd.read_csv('/gpfs/milgram/project/rtaylor/shared/DischargeMe/mimiciv/hosp/diagnoses_icd.csv.gz')\n",
    "diags_icd = pd.read_csv('/gpfs/milgram/project/rtaylor/shared/DischargeMe/mimiciv/hosp/d_icd_diagnoses.csv.gz')\n",
    "\n",
    "# meds\n",
    "med_orders = pd.read_csv('/gpfs/milgram/project/rtaylor/shared/DischargeMe/mimiciv/hosp/emar.csv.gz')\n"
   ]
  },
  {
   "cell_type": "code",
   "execution_count": null,
   "id": "3bd2f59c-6e0d-4943-91b5-c506b5d00448",
   "metadata": {},
   "outputs": [
    {
     "name": "stderr",
     "output_type": "stream",
     "text": [
      "/tmp/ipykernel_2385180/295397496.py:1: DtypeWarning: Columns (11) have mixed types. Specify dtype option on import or set low_memory=False.\n",
      "  prescriptions = pd.read_csv('/gpfs/milgram/project/rtaylor/shared/DischargeMe/mimiciv/hosp/prescriptions.csv.gz')\n"
     ]
    }
   ],
   "source": [
    "prescriptions = pd.read_csv('/gpfs/milgram/project/rtaylor/shared/DischargeMe/mimiciv/hosp/prescriptions.csv.gz')\n",
    "labs = pd.read_csv('/gpfs/milgram/project/rtaylor/shared/DischargeMe/mimiciv/hosp/labevents.csv.gz')\n",
    "microbio = pd.read_csv('/gpfs/milgram/project/rtaylor/shared/DischargeMe/mimiciv/hosp/microbiologyevents.csv.gz')"
   ]
  },
  {
   "cell_type": "markdown",
   "id": "634a8b4d-3160-448b-b438-98dc96af4335",
   "metadata": {},
   "source": [
    "### Clean up/type cast data"
   ]
  },
  {
   "cell_type": "code",
   "execution_count": 5,
   "id": "3a251ee2-4e76-49ac-ba8b-66440c7c1769",
   "metadata": {},
   "outputs": [],
   "source": [
    "med_orders = med_orders[~med_orders['charttime'].isna() & \n",
    "                        ~med_orders['medication'].isna() & \n",
    "                        ~med_orders['event_txt'].isna()]"
   ]
  },
  {
   "cell_type": "code",
   "execution_count": 6,
   "id": "f9f637d2-fb88-4f4e-91ec-5ce68edba838",
   "metadata": {},
   "outputs": [],
   "source": [
    "procs = procs.astype({\"chartdate\":\"datetime64[ns]\"})\n",
    "med_orders = med_orders.astype({\"charttime\":\"datetime64[ns]\",\n",
    "                  \"scheduletime\":\"datetime64[ns]\",\n",
    "                  \"storetime\":\"datetime64[ns]\",})\n",
    "\n",
    "discharges = discharges.astype({\"charttime\":\"datetime64[ns]\",\n",
    "                               \"storetime\":\"datetime64[ns]\"})"
   ]
  },
  {
   "cell_type": "code",
   "execution_count": 7,
   "id": "31a9fe0f-66b9-494c-979c-222870026ad3",
   "metadata": {},
   "outputs": [],
   "source": [
    "# drop any potential repeats\n",
    "procs_icd = procs_icd.groupby([\"icd_code\", \"icd_version\"]).first().reset_index()\n",
    "diags_icd = diags_icd.groupby([\"icd_code\", \"icd_version\"]).first().reset_index()"
   ]
  },
  {
   "cell_type": "code",
   "execution_count": 8,
   "id": "1e386567-6250-4f4c-ad5f-de0ca33c9fdc",
   "metadata": {},
   "outputs": [],
   "source": [
    "# grab long_titles for procs/diags\n",
    "procs = procs.merge(procs_icd, on=[\"icd_code\", \"icd_version\"], how=\"left\")\n",
    "diags = diags.merge(diags_icd, on=[\"icd_code\", \"icd_version\"], how=\"left\")"
   ]
  },
  {
   "cell_type": "code",
   "execution_count": null,
   "id": "c459dec4-4042-4256-ad06-553665bdc536",
   "metadata": {},
   "outputs": [],
   "source": []
  },
  {
   "cell_type": "code",
   "execution_count": 27,
   "id": "c794836e-7082-4e5c-82df-3bcd18d86431",
   "metadata": {},
   "outputs": [],
   "source": [
    "# create initial input text prompt\n",
    "def get_demos(subject_id):\n",
    "    # has gender, anchor-age, date-of-death if exists\n",
    "    return pts[pts['subject_id'] == subject_id].squeeze()\n",
    "    \n",
    "def get_transfers(hadm_id):\n",
    "    return transfers[transfers['hadm_id'] == hadm_id].sort_values(\"intime\").squeeze()\n",
    "    \n",
    "def get_procs_within_service(hadm_id, transfer_event):\n",
    "    adm_procs = procs[procs['hadm_id'] == hadm_id]\n",
    "    adm_procs = adm_procs.sort_values(\"seq_num\")\n",
    "    \n",
    "    adm_procs_in_unit = adm_procs[(adm_procs['chartdate'] > transfer_event['intime'])\n",
    "                                & (adm_procs['chartdate'] < transfer_event['outtime'])]\n",
    "    return adm_procs_in_unit\n",
    "    \n",
    "def get_procs(hadm_id):\n",
    "    adm_procs = procs[procs['hadm_id'] == hadm_id]\n",
    "    return adm_procs.sort_values(\"seq_num\")\n",
    "\n",
    "def get_diags(hadm_id):\n",
    "    adm_diags = diags[diags['hadm_id'] == hadm_id]\n",
    "    return adm_diags.sort_values(\"seq_num\")\n",
    "\n",
    "def get_med_orders_within_service(hadm_id, transfer_event):\n",
    "    med_admin = med_orders[(med_orders['hadm_id'] == hadm_id) & (med_orders['event_txt'] == \"Administered\")]\n",
    "    med_admin = med_admin.sort_values(\"emar_seq\")\n",
    "    \n",
    "    adm_diags_in_unit = med_admin[(med_admin['charttime'] > transfer_event['intime'])\n",
    "                                & (med_admin['charttime'] < transfer_event['outtime'])]\n",
    "\n",
    "    adm_diags_in_unit['admin_text'] = adm_diags_in_unit['medication'] + \" at \" + adm_diags_in_unit['charttime'].dt.strftime('%B %d, %Y, %r')\n",
    "    \n",
    "    return adm_diags_in_unit\n",
    "\n",
    "def get_med_orders(hadm_id):\n",
    "    med_admin = med_orders[(med_orders['hadm_id'] == hadm_id) & (med_orders['event_txt'] == \"Administered\")]\n",
    "    med_admin['admin_text'] = med_admin['medication'] + \" at \" + med_admin['charttime'].dt.strftime('%B %d, %Y, %r')\n",
    "    return med_admin\n",
    "\n",
    "def get_triage_info(stay_id):\n",
    "    return triage[triage['stay_id'] == stay_id]"
   ]
  },
  {
   "cell_type": "code",
   "execution_count": 28,
   "id": "e40407a8-800f-4a95-8c25-adf38936fb9b",
   "metadata": {},
   "outputs": [],
   "source": [
    "def create_pt_prompt(discharge_row):\n",
    "\n",
    "    demos = get_demos(discharge_row['subject_id'])\n",
    "    if demos.empty:\n",
    "        age = r\"[UNKNOWN AGE]\"\n",
    "        sex = r\"[UNKNOWN SEX]\"\n",
    "    else:\n",
    "        age = demos['anchor_age']\n",
    "        sex = demos['gender']\n",
    "    \n",
    "    chief_complaints = discharge_row['chiefcomplaint']\n",
    "    if sex:\n",
    "        pronoun = [\"he\",\"his\"] if sex == \"M\" else ['she',\"her\"]\n",
    "    else:\n",
    "        pronoun = [\"they\", \"their\"]\n",
    "\n",
    "    careunits = ast.literal_eval(discharge_row['careunit'].replace('nan', 'None'))\n",
    "    careunits = [x for x in careunits if x]\n",
    "\n",
    "    # transfers with dates\n",
    "    tranfers = get_transfers(discharge_row['hadm_id'])\n",
    "    \n",
    "    procs = get_procs(discharge_row['hadm_id'])\n",
    "    diags = get_diags(discharge_row['hadm_id'])\n",
    "    \n",
    "    med_orders = get_med_orders(discharge_row['hadm_id'])\n",
    "\n",
    "    prompt = f\"___ is a {age} year old {sex} presenting to the ED with {chief_complaints}. Over the course of {pronoun[1]} hospital course, ___ started at {careunits[0]} and then visited {', '.join(careunits[1:])}. Over the course of their hospital stay, {pronoun[0]} was given the following diagnoses: {', '.join(diags['long_title'])} in order of importance to this admission.\\n\\nThis led to receiving the following procedures: {', '.join(procs['long_title'])} in order of priority.\\n\\n___ also received the following medications: {', '.join(med_orders['admin_text'])}\"\n",
    "    \n",
    "    return prompt\n",
    "    \n"
   ]
  }
 ],
 "metadata": {
  "kernelspec": {
   "display_name": "Python 3 (ipykernel)",
   "language": "python",
   "name": "python3"
  },
  "language_info": {
   "codemirror_mode": {
    "name": "ipython",
    "version": 3
   },
   "file_extension": ".py",
   "mimetype": "text/x-python",
   "name": "python",
   "nbconvert_exporter": "python",
   "pygments_lexer": "ipython3",
   "version": "3.10.13"
  },
  "widgets": {
   "application/vnd.jupyter.widget-state+json": {
    "state": {},
    "version_major": 2,
    "version_minor": 0
   }
  }
 },
 "nbformat": 4,
 "nbformat_minor": 5
}
