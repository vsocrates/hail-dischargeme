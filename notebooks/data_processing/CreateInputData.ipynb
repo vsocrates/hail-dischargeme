{
 "cells": [
  {
   "cell_type": "markdown",
   "id": "39bdf4b8-cbcb-4289-a9df-3f95971752a7",
   "metadata": {},
   "source": [
    "# Initial Tests"
   ]
  },
  {
   "cell_type": "code",
   "execution_count": null,
   "id": "33c960e0",
   "metadata": {},
   "outputs": [],
   "source": [
    "import pandas as pd\n",
    "import ast\n",
    "import numpy as np\n",
    "\n",
    "from tqdm import tqdm\n",
    "# from tqdm.auto import tqdm  # for notebooks\n",
    "tqdm.pandas()\n",
    "\n",
    "import os\n",
    "import openai"
   ]
  },
  {
   "cell_type": "code",
   "execution_count": null,
   "id": "f1bb5f11-308e-4475-ad04-944330028e68",
   "metadata": {},
   "outputs": [],
   "source": [
    "from dotenv import load_dotenv\n",
    "load_dotenv()  # take environment variables from .env."
   ]
  },
  {
   "cell_type": "code",
   "execution_count": null,
   "id": "a5b443f2",
   "metadata": {},
   "outputs": [],
   "source": [
    "# preprocessed file from Thomas\n",
    "transfers_events = pd.read_csv('/gpfs/milgram/project/rtaylor/shared/DischargeMe/combined_data_export.csv')"
   ]
  },
  {
   "cell_type": "code",
   "execution_count": null,
   "id": "c9ca30ac",
   "metadata": {},
   "outputs": [],
   "source": [
    "# bunch of nan rows\n",
    "transfers_events = transfers_events[~transfers_events['stay_id'].isna() & ~transfers_events['hadm_id'].isna()]\n"
   ]
  },
  {
   "cell_type": "code",
   "execution_count": null,
   "id": "4e623c22",
   "metadata": {},
   "outputs": [],
   "source": [
    "# grab subject IDs\n",
    "transfers_events = transfers_events.merge(edstays[['stay_id', \"subject_id\"]], on=\"stay_id\", how=\"left\")"
   ]
  },
  {
   "cell_type": "code",
   "execution_count": null,
   "id": "c8d316ba",
   "metadata": {},
   "outputs": [],
   "source": [
    "# discharge summaries\n",
    "discharges = pd.read_csv(\"/gpfs/milgram/project/rtaylor/shared/DischargeMe/public/train/discharge.csv.gz\")\n",
    "\n",
    "# ed stays\n",
    "edstays = pd.read_csv('/gpfs/milgram/project/rtaylor/shared/DischargeMe/public/train/edstays.csv.gz')\n",
    "\n",
    "# triage\n",
    "triage = pd.read_csv('/gpfs/milgram/project/rtaylor/shared/DischargeMe/public/train/triage.csv.gz')"
   ]
  },
  {
   "cell_type": "code",
   "execution_count": null,
   "id": "f75e641a-31a6-4441-a4d6-24b66839595e",
   "metadata": {},
   "outputs": [],
   "source": [
    "triage.stay_id.nunique(), triage.subject_id.nunique(), triage.shape"
   ]
  },
  {
   "cell_type": "code",
   "execution_count": null,
   "id": "e326dcdc",
   "metadata": {},
   "outputs": [],
   "source": [
    "# ward transfers\n",
    "transfers = pd.read_csv('/gpfs/milgram/project/rtaylor/shared/DischargeMe/mimiciv/hosp/transfers.csv.gz')\n",
    "\n",
    "# higher-level services (ICU, CARD, etc)\n",
    "services = pd.read_csv('/gpfs/milgram/project/rtaylor/shared/DischargeMe/mimiciv/hosp/services.csv.gz')\n",
    "\n",
    "# get patient info\n",
    "pts = pd.read_csv('/gpfs/milgram/project/rtaylor/shared/DischargeMe/mimiciv/hosp/patients.csv.gz')\n",
    "\n",
    "# admission demographics\n",
    "admissions = pd.read_csv('/gpfs/milgram/project/rtaylor/shared/DischargeMe/mimiciv/hosp/admissions.csv.gz')\n",
    "\n",
    "# procedures\n",
    "procs = pd.read_csv('/gpfs/milgram/project/rtaylor/shared/DischargeMe/mimiciv/hosp/procedures_icd.csv.gz')\n",
    "procs_icd = pd.read_csv('/gpfs/milgram/project/rtaylor/shared/DischargeMe/mimiciv/hosp/d_icd_procedures.csv.gz')\n",
    "\n",
    "# diagnoses\n",
    "diags = pd.read_csv('/gpfs/milgram/project/rtaylor/shared/DischargeMe/mimiciv/hosp/diagnoses_icd.csv.gz')\n",
    "diags_icd = pd.read_csv('/gpfs/milgram/project/rtaylor/shared/DischargeMe/mimiciv/hosp/d_icd_diagnoses.csv.gz')\n",
    "\n",
    "# meds\n",
    "med_orders = pd.read_csv('/gpfs/milgram/project/rtaylor/shared/DischargeMe/mimiciv/hosp/emar.csv.gz')\n"
   ]
  },
  {
   "cell_type": "code",
   "execution_count": null,
   "id": "3efc00e6",
   "metadata": {},
   "outputs": [],
   "source": [
    "med_orders = med_orders[~med_orders['charttime'].isna() & \n",
    "                        ~med_orders['medication'].isna() & \n",
    "                        ~med_orders['event_txt'].isna()]"
   ]
  },
  {
   "cell_type": "code",
   "execution_count": null,
   "id": "9f6232b2",
   "metadata": {},
   "outputs": [],
   "source": [
    "procs = procs.astype({\"chartdate\":\"datetime64[ns]\"})\n",
    "med_orders = med_orders.astype({\"charttime\":\"datetime64[ns]\",\n",
    "                  \"scheduletime\":\"datetime64[ns]\",\n",
    "                  \"storetime\":\"datetime64[ns]\",})\n",
    "\n",
    "discharges = discharges.astype({\"charttime\":\"datetime64[ns]\",\n",
    "                               \"storetime\":\"datetime64[ns]\"})"
   ]
  },
  {
   "cell_type": "code",
   "execution_count": null,
   "id": "dcf9101e-7629-448a-86ac-8a73e0b3f07c",
   "metadata": {},
   "outputs": [],
   "source": [
    "# are there multiple icd code mappings? \n",
    "procs_icd.shape, procs_icd.icd_code.nunique()\n",
    "# looks like only for the two versions of ICD"
   ]
  },
  {
   "cell_type": "code",
   "execution_count": null,
   "id": "fcf68498-fd13-43ae-b775-cfaf34bc3142",
   "metadata": {},
   "outputs": [],
   "source": [
    "procs_icd[procs_icd['icd_code'] == \"067\"]"
   ]
  },
  {
   "cell_type": "code",
   "execution_count": null,
   "id": "67f9daea",
   "metadata": {},
   "outputs": [],
   "source": [
    "# drop any potential repeats\n",
    "procs_icd = procs_icd.groupby([\"icd_code\", \"icd_version\"]).first().reset_index()\n",
    "diags_icd = diags_icd.groupby([\"icd_code\", \"icd_version\"]).first().reset_index()"
   ]
  },
  {
   "cell_type": "code",
   "execution_count": null,
   "id": "42f92651-5a47-4aa4-b845-6a6193ebe4ef",
   "metadata": {},
   "outputs": [],
   "source": [
    "# grab long_titles for procs/diags\n",
    "procs = procs.merge(procs_icd, on=[\"icd_code\", \"icd_version\"], how=\"left\")\n",
    "diags = diags.merge(diags_icd, on=[\"icd_code\", \"icd_version\"], how=\"left\")"
   ]
  },
  {
   "cell_type": "code",
   "execution_count": null,
   "id": "be3786d3",
   "metadata": {},
   "outputs": [],
   "source": [
    "\n",
    "# why would someone have multiple ED stays for the same admission?\n",
    "# looks like they came and left the ED multiple times during the course of their hospital course? \n",
    "transfers_events[transfers_events['hadm_id'] == 23880210].iloc[0]['careunit']"
   ]
  },
  {
   "cell_type": "code",
   "execution_count": null,
   "id": "7ebbd17a-71eb-429d-a0cf-10b9995ac3ea",
   "metadata": {},
   "outputs": [],
   "source": [
    "transfers[transfers['hadm_id'] == 29999828].sort_values(\"intime\")[['intime',\"outtime\",'careunit']]"
   ]
  },
  {
   "cell_type": "markdown",
   "id": "86837377-1e7c-4371-9e16-2e05fbdfcb66",
   "metadata": {},
   "source": [
    "# Subset Data by Challenge Cohort"
   ]
  },
  {
   "cell_type": "markdown",
   "id": "9c18ff3c-9373-4121-98ca-c212de7c11e4",
   "metadata": {},
   "source": [
    "## Read in Challenge Data"
   ]
  },
  {
   "cell_type": "code",
   "execution_count": 1,
   "id": "3153079c-cc2a-46c0-acfd-abdee897d2bf",
   "metadata": {},
   "outputs": [],
   "source": [
    "import pandas as pd"
   ]
  },
  {
   "cell_type": "code",
   "execution_count": 2,
   "id": "e461add1-098d-4c10-8dac-0f764a699839",
   "metadata": {},
   "outputs": [],
   "source": [
    "challenge_data_fp = \"/gpfs/milgram/project/rtaylor/shared/DischargeMe/public/\"\n"
   ]
  },
  {
   "cell_type": "code",
   "execution_count": 3,
   "id": "ccc1fbe2-6214-42a6-9987-ceef09d73ee9",
   "metadata": {},
   "outputs": [],
   "source": [
    "target_train = pd.read_csv(challenge_data_fp + \"train/discharge_target.csv.gz\", keep_default_na=False)\n",
    "target_valid = pd.read_csv(challenge_data_fp + \"valid/discharge_target.csv.gz\", keep_default_na=False)\n",
    "target_test = pd.read_csv(challenge_data_fp + \"test_phase_1/discharge_target.csv.gz\", keep_default_na=False)\n"
   ]
  },
  {
   "cell_type": "code",
   "execution_count": 4,
   "id": "91fd4e08-89ba-4108-9799-6dfa1b09a21d",
   "metadata": {},
   "outputs": [
    {
     "data": {
      "text/html": [
       "<div>\n",
       "<style scoped>\n",
       "    .dataframe tbody tr th:only-of-type {\n",
       "        vertical-align: middle;\n",
       "    }\n",
       "\n",
       "    .dataframe tbody tr th {\n",
       "        vertical-align: top;\n",
       "    }\n",
       "\n",
       "    .dataframe thead th {\n",
       "        text-align: right;\n",
       "    }\n",
       "</style>\n",
       "<table border=\"1\" class=\"dataframe\">\n",
       "  <thead>\n",
       "    <tr style=\"text-align: right;\">\n",
       "      <th></th>\n",
       "      <th>note_id</th>\n",
       "      <th>hadm_id</th>\n",
       "      <th>discharge_instructions</th>\n",
       "      <th>brief_hospital_course</th>\n",
       "      <th>discharge_instructions_word_count</th>\n",
       "      <th>brief_hospital_course_word_count</th>\n",
       "    </tr>\n",
       "  </thead>\n",
       "  <tbody>\n",
       "    <tr>\n",
       "      <th>0</th>\n",
       "      <td>15373895-DS-19</td>\n",
       "      <td>28448473</td>\n",
       "      <td>Dear Mr. ___,\\n\\nIt was a pleasure taking care...</td>\n",
       "      <td>Mr. ___ was admitted from the emergency depart...</td>\n",
       "      <td>760</td>\n",
       "      <td>398</td>\n",
       "    </tr>\n",
       "    <tr>\n",
       "      <th>1</th>\n",
       "      <td>19045496-DS-24</td>\n",
       "      <td>22343752</td>\n",
       "      <td>You were admitted to the hospital after walkin...</td>\n",
       "      <td>___ year old female with past medical history ...</td>\n",
       "      <td>302</td>\n",
       "      <td>515</td>\n",
       "    </tr>\n",
       "    <tr>\n",
       "      <th>2</th>\n",
       "      <td>15071083-DS-16</td>\n",
       "      <td>24572540</td>\n",
       "      <td>you were hospitalized for gi bleeding that was...</td>\n",
       "      <td>___ gentleman DM2, CAD s/p CABG, ischemic card...</td>\n",
       "      <td>73</td>\n",
       "      <td>579</td>\n",
       "    </tr>\n",
       "    <tr>\n",
       "      <th>3</th>\n",
       "      <td>11669075-DS-16</td>\n",
       "      <td>25889399</td>\n",
       "      <td>Dear Mr. ___,\\n\\nWHY WERE YOU ADMITTED TO THE ...</td>\n",
       "      <td>Mr. ___ is a pleasant ___ y/o gentleman with a...</td>\n",
       "      <td>113</td>\n",
       "      <td>42</td>\n",
       "    </tr>\n",
       "    <tr>\n",
       "      <th>4</th>\n",
       "      <td>17164417-DS-7</td>\n",
       "      <td>24903173</td>\n",
       "      <td>Take your pain medicine as prescribed.\\n\\n¨   ...</td>\n",
       "      <td>Mr. ___ was admitted from the emergency depart...</td>\n",
       "      <td>226</td>\n",
       "      <td>167</td>\n",
       "    </tr>\n",
       "    <tr>\n",
       "      <th>...</th>\n",
       "      <td>...</td>\n",
       "      <td>...</td>\n",
       "      <td>...</td>\n",
       "      <td>...</td>\n",
       "      <td>...</td>\n",
       "      <td>...</td>\n",
       "    </tr>\n",
       "    <tr>\n",
       "      <th>68780</th>\n",
       "      <td>14439892-DS-19</td>\n",
       "      <td>26082244</td>\n",
       "      <td>Dear Mr. ___,\\n\\nYou were admitted to ___ due ...</td>\n",
       "      <td>Mr. ___ is a ___ year old man with a history o...</td>\n",
       "      <td>125</td>\n",
       "      <td>93</td>\n",
       "    </tr>\n",
       "    <tr>\n",
       "      <th>68781</th>\n",
       "      <td>19466866-DS-13</td>\n",
       "      <td>25505122</td>\n",
       "      <td>Dear Mr. ___,\\n\\nThank you for choosing ___ fo...</td>\n",
       "      <td>___ is a ___ man with known metastatic \\nmelan...</td>\n",
       "      <td>184</td>\n",
       "      <td>779</td>\n",
       "    </tr>\n",
       "    <tr>\n",
       "      <th>68782</th>\n",
       "      <td>17394776-DS-7</td>\n",
       "      <td>25400280</td>\n",
       "      <td>Dear Ms. ___,\\n\\nIt was a pleasure taking care...</td>\n",
       "      <td>___ w/ history of remote cutaneous lymphoma, e...</td>\n",
       "      <td>134</td>\n",
       "      <td>637</td>\n",
       "    </tr>\n",
       "    <tr>\n",
       "      <th>68783</th>\n",
       "      <td>17261183-DS-24</td>\n",
       "      <td>26769375</td>\n",
       "      <td>Dear Ms. ___, \\n\\nYou were admitted to the hos...</td>\n",
       "      <td>___ is a ___ yo F with mild static encephalopa...</td>\n",
       "      <td>95</td>\n",
       "      <td>176</td>\n",
       "    </tr>\n",
       "    <tr>\n",
       "      <th>68784</th>\n",
       "      <td>15633246-DS-9</td>\n",
       "      <td>29912120</td>\n",
       "      <td>Dear Ms. ___, \\n\\nIt was a pleasure caring for...</td>\n",
       "      <td>___ with DM, HTN, HLD, smoker, presents with s...</td>\n",
       "      <td>132</td>\n",
       "      <td>72</td>\n",
       "    </tr>\n",
       "  </tbody>\n",
       "</table>\n",
       "<p>68785 rows × 6 columns</p>\n",
       "</div>"
      ],
      "text/plain": [
       "              note_id   hadm_id  \\\n",
       "0      15373895-DS-19  28448473   \n",
       "1      19045496-DS-24  22343752   \n",
       "2      15071083-DS-16  24572540   \n",
       "3      11669075-DS-16  25889399   \n",
       "4       17164417-DS-7  24903173   \n",
       "...               ...       ...   \n",
       "68780  14439892-DS-19  26082244   \n",
       "68781  19466866-DS-13  25505122   \n",
       "68782   17394776-DS-7  25400280   \n",
       "68783  17261183-DS-24  26769375   \n",
       "68784   15633246-DS-9  29912120   \n",
       "\n",
       "                                  discharge_instructions  \\\n",
       "0      Dear Mr. ___,\\n\\nIt was a pleasure taking care...   \n",
       "1      You were admitted to the hospital after walkin...   \n",
       "2      you were hospitalized for gi bleeding that was...   \n",
       "3      Dear Mr. ___,\\n\\nWHY WERE YOU ADMITTED TO THE ...   \n",
       "4      Take your pain medicine as prescribed.\\n\\n¨   ...   \n",
       "...                                                  ...   \n",
       "68780  Dear Mr. ___,\\n\\nYou were admitted to ___ due ...   \n",
       "68781  Dear Mr. ___,\\n\\nThank you for choosing ___ fo...   \n",
       "68782  Dear Ms. ___,\\n\\nIt was a pleasure taking care...   \n",
       "68783  Dear Ms. ___, \\n\\nYou were admitted to the hos...   \n",
       "68784  Dear Ms. ___, \\n\\nIt was a pleasure caring for...   \n",
       "\n",
       "                                   brief_hospital_course  \\\n",
       "0      Mr. ___ was admitted from the emergency depart...   \n",
       "1      ___ year old female with past medical history ...   \n",
       "2      ___ gentleman DM2, CAD s/p CABG, ischemic card...   \n",
       "3      Mr. ___ is a pleasant ___ y/o gentleman with a...   \n",
       "4      Mr. ___ was admitted from the emergency depart...   \n",
       "...                                                  ...   \n",
       "68780  Mr. ___ is a ___ year old man with a history o...   \n",
       "68781  ___ is a ___ man with known metastatic \\nmelan...   \n",
       "68782  ___ w/ history of remote cutaneous lymphoma, e...   \n",
       "68783  ___ is a ___ yo F with mild static encephalopa...   \n",
       "68784  ___ with DM, HTN, HLD, smoker, presents with s...   \n",
       "\n",
       "       discharge_instructions_word_count  brief_hospital_course_word_count  \n",
       "0                                    760                               398  \n",
       "1                                    302                               515  \n",
       "2                                     73                               579  \n",
       "3                                    113                                42  \n",
       "4                                    226                               167  \n",
       "...                                  ...                               ...  \n",
       "68780                                125                                93  \n",
       "68781                                184                               779  \n",
       "68782                                134                               637  \n",
       "68783                                 95                               176  \n",
       "68784                                132                                72  \n",
       "\n",
       "[68785 rows x 6 columns]"
      ]
     },
     "execution_count": 4,
     "metadata": {},
     "output_type": "execute_result"
    }
   ],
   "source": [
    "target_train"
   ]
  },
  {
   "cell_type": "code",
   "execution_count": 3,
   "id": "5f410351-9386-4202-96b2-d4e360a17ee6",
   "metadata": {},
   "outputs": [],
   "source": [
    "target_train = pd.read_csv(challenge_data_fp + \"train/discharge_target.csv.gz\", keep_default_na=False)\n",
    "target_valid = pd.read_csv(challenge_data_fp + \"valid/discharge_target.csv.gz\", keep_default_na=False)\n",
    "target_test = pd.read_csv(challenge_data_fp + \"test_phase_1/discharge_target.csv.gz\", keep_default_na=False)\n",
    "\n",
    "discharge_summ_train = pd.read_csv(challenge_data_fp + \"train/discharge.csv.gz\", keep_default_na=False)\n",
    "discharge_summ_valid = pd.read_csv(challenge_data_fp + \"valid/discharge.csv.gz\", keep_default_na=False)\n",
    "discharge_summ_test = pd.read_csv(challenge_data_fp + \"test_phase_1/discharge.csv.gz\", keep_default_na=False)\n",
    "\n",
    "radiology_train = pd.read_csv(challenge_data_fp + \"train/radiology.csv.gz\", keep_default_na=False)\n",
    "radiology_valid = pd.read_csv(challenge_data_fp + \"valid/radiology.csv.gz\", keep_default_na=False)\n",
    "radiology_test = pd.read_csv(challenge_data_fp + \"test_phase_1/radiology.csv.gz\", keep_default_na=False)\n",
    "\n",
    "edstay_train = pd.read_csv(challenge_data_fp + \"train/edstays.csv.gz\", keep_default_na=False)\n",
    "edstay_valid = pd.read_csv(challenge_data_fp + \"valid/edstays.csv.gz\", keep_default_na=False)\n",
    "edstay_test = pd.read_csv(challenge_data_fp + \"test_phase_1/edstays.csv.gz\", keep_default_na=False)\n",
    "\n",
    "edtriage_train = pd.read_csv(challenge_data_fp + \"train/triage.csv.gz\", keep_default_na=False)\n",
    "edtriage_valid = pd.read_csv(challenge_data_fp + \"valid/triage.csv.gz\", keep_default_na=False)\n",
    "edtriage_test = pd.read_csv(challenge_data_fp + \"test_phase_1/triage.csv.gz\", keep_default_na=False)\n",
    "\n",
    "eddiags_train = pd.read_csv(challenge_data_fp + \"train/diagnosis.csv.gz\", keep_default_na=False)\n",
    "eddiags_valid = pd.read_csv(challenge_data_fp + \"valid/diagnosis.csv.gz\", keep_default_na=False)\n",
    "eddiags_test = pd.read_csv(challenge_data_fp + \"test_phase_1/diagnosis.csv.gz\", keep_default_na=False)"
   ]
  },
  {
   "cell_type": "code",
   "execution_count": 4,
   "id": "346291b9-ba3d-4fd3-bc82-3c1ce9a54104",
   "metadata": {},
   "outputs": [],
   "source": [
    "target_train['split'] = \"train\"\n",
    "target_valid['split'] = \"valid\"\n",
    "target_test['split'] = \"test\"\n",
    "discharge_summ_train['split'] = \"train\"\n",
    "discharge_summ_valid['split'] = \"valid\"\n",
    "discharge_summ_test['split'] = \"test\"\n",
    "radiology_train['split'] = \"train\"\n",
    "radiology_valid['split'] = \"valid\"\n",
    "radiology_test['split'] = \"test\"\n",
    "edstay_train['split'] = \"train\"\n",
    "edstay_valid['split'] = \"valid\"\n",
    "edstay_test['split'] = \"test\"\n",
    "edtriage_train['split'] = \"train\"\n",
    "edtriage_valid['split'] = \"valid\"\n",
    "edtriage_test['split'] = \"test\"\n",
    "eddiags_train['split'] = \"train\"\n",
    "eddiags_valid['split'] = \"valid\"\n",
    "eddiags_test['split'] = \"test\""
   ]
  },
  {
   "cell_type": "code",
   "execution_count": 5,
   "id": "31a15f6a-9cc4-4747-80b0-4b5dd5a94670",
   "metadata": {},
   "outputs": [],
   "source": [
    "target = pd.concat([target_train, target_valid, target_test])\n",
    "discharge_summ = pd.concat([discharge_summ_train, discharge_summ_valid, discharge_summ_test])\n",
    "radiology = pd.concat([radiology_train, radiology_valid, radiology_test])\n",
    "edstay = pd.concat([edstay_train, edstay_valid, edstay_test])\n",
    "edtriage = pd.concat([edtriage_train, edtriage_valid, edtriage_test])\n",
    "eddiags = pd.concat([eddiags_train, eddiags_valid, eddiags_test])"
   ]
  },
  {
   "cell_type": "code",
   "execution_count": 6,
   "id": "62c46bb4-da91-4a05-9988-f323daf3906d",
   "metadata": {},
   "outputs": [],
   "source": [
    "target = target.reset_index()\n",
    "discharge_summ = discharge_summ.reset_index()\n",
    "radiology = radiology.reset_index()\n",
    "edstay = edstay.reset_index()\n",
    "edtriage = edtriage.reset_index()\n",
    "eddiags = eddiags.reset_index()"
   ]
  },
  {
   "cell_type": "markdown",
   "id": "1f5c5fe1-7361-4186-b198-1ece7cbb109e",
   "metadata": {},
   "source": [
    "## Read in MIMIC-IV Data"
   ]
  },
  {
   "cell_type": "code",
   "execution_count": 8,
   "id": "329231eb-dc00-4d7f-b4a0-8e9fd6287190",
   "metadata": {
    "editable": true,
    "papermill": {
     "duration": 10.779288,
     "end_time": "2024-03-23T07:52:42.650756",
     "exception": false,
     "start_time": "2024-03-23T07:52:31.871468",
     "status": "completed"
    },
    "slideshow": {
     "slide_type": ""
    },
    "tags": []
   },
   "outputs": [],
   "source": [
    "# ward transfers\n",
    "transfers = pd.read_csv('/gpfs/milgram/project/rtaylor/shared/DischargeMe/mimiciv/hosp/transfers.csv.gz')\n",
    "\n",
    "# higher-level services (ICU, CARD, etc)\n",
    "services = pd.read_csv('/gpfs/milgram/project/rtaylor/shared/DischargeMe/mimiciv/hosp/services.csv.gz')\n",
    "\n",
    "# get patient info\n",
    "pts = pd.read_csv('/gpfs/milgram/project/rtaylor/shared/DischargeMe/mimiciv/hosp/patients.csv.gz')\n",
    "\n",
    "# admission demographics\n",
    "admissions = pd.read_csv('/gpfs/milgram/project/rtaylor/shared/DischargeMe/mimiciv/hosp/admissions.csv.gz')\n",
    "\n",
    "# procedures\n",
    "procs = pd.read_csv('/gpfs/milgram/project/rtaylor/shared/DischargeMe/mimiciv/hosp/procedures_icd.csv.gz')\n",
    "procs_icd = pd.read_csv('/gpfs/milgram/project/rtaylor/shared/DischargeMe/mimiciv/hosp/d_icd_procedures.csv.gz')\n",
    "\n",
    "# diagnoses\n",
    "diags = pd.read_csv('/gpfs/milgram/project/rtaylor/shared/DischargeMe/mimiciv/hosp/diagnoses_icd.csv.gz')\n",
    "diags_icd = pd.read_csv('/gpfs/milgram/project/rtaylor/shared/DischargeMe/mimiciv/hosp/d_icd_diagnoses.csv.gz')\n",
    "\n",
    "# meds\n",
    "med_orders = pd.read_csv('/gpfs/milgram/project/rtaylor/shared/DischargeMe/mimiciv/hosp/emar.csv.gz')\n"
   ]
  },
  {
   "cell_type": "code",
   "execution_count": 9,
   "id": "4f134adb-ea95-499f-8cfa-e2fc9e9c551b",
   "metadata": {
    "papermill": {
     "duration": null,
     "end_time": null,
     "exception": null,
     "start_time": null,
     "status": "pending"
    },
    "tags": []
   },
   "outputs": [],
   "source": [
    "# drop any potential repeats\n",
    "procs_icd = procs_icd.groupby([\"icd_code\", \"icd_version\"]).first().reset_index()\n",
    "diags_icd = diags_icd.groupby([\"icd_code\", \"icd_version\"]).first().reset_index()"
   ]
  },
  {
   "cell_type": "code",
   "execution_count": 10,
   "id": "65f7bdcd-3fd7-431e-8632-d122196b0481",
   "metadata": {
    "papermill": {
     "duration": null,
     "end_time": null,
     "exception": null,
     "start_time": null,
     "status": "pending"
    },
    "tags": []
   },
   "outputs": [],
   "source": [
    "# grab long_titles for procs/diags\n",
    "procs = procs.merge(procs_icd, on=[\"icd_code\", \"icd_version\"], how=\"left\")\n",
    "diags = diags.merge(diags_icd, on=[\"icd_code\", \"icd_version\"], how=\"left\")"
   ]
  },
  {
   "cell_type": "code",
   "execution_count": 11,
   "id": "64446cd4-e67f-4c92-b460-85112eea2934",
   "metadata": {
    "editable": true,
    "papermill": {
     "duration": null,
     "end_time": null,
     "exception": null,
     "start_time": null,
     "status": "pending"
    },
    "slideshow": {
     "slide_type": ""
    },
    "tags": []
   },
   "outputs": [
    {
     "name": "stderr",
     "output_type": "stream",
     "text": [
      "/tmp/ipykernel_4086921/295397496.py:1: DtypeWarning: Columns (11) have mixed types. Specify dtype option on import or set low_memory=False.\n",
      "  prescriptions = pd.read_csv('/gpfs/milgram/project/rtaylor/shared/DischargeMe/mimiciv/hosp/prescriptions.csv.gz')\n",
      "/tmp/ipykernel_4086921/295397496.py:3: DtypeWarning: Columns (17) have mixed types. Specify dtype option on import or set low_memory=False.\n",
      "  microbio = pd.read_csv('/gpfs/milgram/project/rtaylor/shared/DischargeMe/mimiciv/hosp/microbiologyevents.csv.gz')\n"
     ]
    }
   ],
   "source": [
    "prescriptions = pd.read_csv('/gpfs/milgram/project/rtaylor/shared/DischargeMe/mimiciv/hosp/prescriptions.csv.gz')\n",
    "labs = pd.read_csv('/gpfs/milgram/project/rtaylor/shared/DischargeMe/mimiciv/hosp/labevents.csv.gz')\n",
    "microbio = pd.read_csv('/gpfs/milgram/project/rtaylor/shared/DischargeMe/mimiciv/hosp/microbiologyevents.csv.gz')"
   ]
  },
  {
   "cell_type": "code",
   "execution_count": 12,
   "id": "c275e071-2cdb-4d26-ae8f-41b3e93bafb6",
   "metadata": {
    "papermill": {
     "duration": null,
     "end_time": null,
     "exception": null,
     "start_time": null,
     "status": "pending"
    },
    "tags": []
   },
   "outputs": [],
   "source": [
    "labs_icd = pd.read_csv(\"/gpfs/milgram/project/rtaylor/shared/DischargeMe/mimiciv/hosp/d_labitems.csv.gz\")"
   ]
  },
  {
   "cell_type": "code",
   "execution_count": 13,
   "id": "e3b252ae-02fc-4312-a246-36475c3ae6b1",
   "metadata": {
    "editable": true,
    "papermill": {
     "duration": null,
     "end_time": null,
     "exception": null,
     "start_time": null,
     "status": "pending"
    },
    "slideshow": {
     "slide_type": ""
    },
    "tags": []
   },
   "outputs": [],
   "source": [
    "labs = labs.merge(labs_icd, on=\"itemid\", how=\"left\")"
   ]
  },
  {
   "cell_type": "markdown",
   "id": "9b2c1828-97f1-4148-a334-c7d8c8c6bed1",
   "metadata": {},
   "source": [
    "## Subset"
   ]
  },
  {
   "cell_type": "code",
   "execution_count": 14,
   "id": "137a7166-45cb-4720-a0b7-0956eb1d6e6f",
   "metadata": {},
   "outputs": [],
   "source": [
    "cohort_subject_ids = edstay['subject_id'].unique()\n",
    "cohort_hadm_ids = edstay['hadm_id'].unique()\n",
    "cohort_stay_ids = edstay['stay_id'].unique()"
   ]
  },
  {
   "cell_type": "code",
   "execution_count": 15,
   "id": "f8c3654c-15e0-45c5-9d1c-78f37b24313c",
   "metadata": {},
   "outputs": [
    {
     "data": {
      "text/plain": [
       "(61316, 98206, 98418)"
      ]
     },
     "execution_count": 15,
     "metadata": {},
     "output_type": "execute_result"
    }
   ],
   "source": [
    "len(cohort_subject_ids), len(cohort_hadm_ids), len(cohort_stay_ids)"
   ]
  },
  {
   "cell_type": "code",
   "execution_count": 16,
   "id": "8270f404-4e30-41cd-8b87-597dbb9ab4e9",
   "metadata": {},
   "outputs": [],
   "source": [
    "transfers = transfers[transfers['subject_id'].isin(cohort_subject_ids)]\n",
    "services = services[services['subject_id'].isin(cohort_subject_ids)]\n",
    "pts = pts[pts['subject_id'].isin(cohort_subject_ids)]\n",
    "admissions = admissions[admissions['hadm_id'].isin(cohort_hadm_ids)]\n",
    "med_orders = med_orders[med_orders['subject_id'].isin(cohort_subject_ids)]\n",
    "procs = procs[procs['hadm_id'].isin(cohort_hadm_ids)]\n",
    "diags = diags[diags['hadm_id'].isin(cohort_hadm_ids)]\n",
    "prescriptions = prescriptions[prescriptions['hadm_id'].isin(cohort_hadm_ids)]\n",
    "labs = labs[labs['subject_id'].isin(cohort_subject_ids)]\n",
    "microbio = microbio[microbio['subject_id'].isin(cohort_subject_ids)]"
   ]
  },
  {
   "cell_type": "code",
   "execution_count": 17,
   "id": "97a27a8b-0d33-41f9-adec-5d5e6908a3a0",
   "metadata": {},
   "outputs": [],
   "source": [
    "transfers.to_pickle('/gpfs/milgram/project/rtaylor/shared/DischargeMe/mimiciv/hosp/cohort_transfers.pkl')\n",
    "services.to_pickle('/gpfs/milgram/project/rtaylor/shared/DischargeMe/mimiciv/hosp/cohort_services.pkl')\n",
    "pts.to_pickle('/gpfs/milgram/project/rtaylor/shared/DischargeMe/mimiciv/hosp/cohort_patients.pkl')\n",
    "admissions.to_pickle('/gpfs/milgram/project/rtaylor/shared/DischargeMe/mimiciv/hosp/cohort_admissions.pkl')\n",
    "med_orders.to_pickle('/gpfs/milgram/project/rtaylor/shared/DischargeMe/mimiciv/hosp/cohort_emar.pkl')\n",
    "procs.to_pickle('/gpfs/milgram/project/rtaylor/shared/DischargeMe/mimiciv/hosp/cohort_procedures_icd.pkl')\n",
    "diags.to_pickle('/gpfs/milgram/project/rtaylor/shared/DischargeMe/mimiciv/hosp/cohort_diagnoses_icd.pkl')\n",
    "prescriptions.to_pickle('/gpfs/milgram/project/rtaylor/shared/DischargeMe/mimiciv/hosp/cohort_prescriptions.pkl')\n",
    "labs.to_pickle('/gpfs/milgram/project/rtaylor/shared/DischargeMe/mimiciv/hosp/cohort_labevents.pkl')\n",
    "microbio.to_pickle('/gpfs/milgram/project/rtaylor/shared/DischargeMe/mimiciv/hosp/cohort_microbiologyevents.pkl')"
   ]
  },
  {
   "cell_type": "code",
   "execution_count": null,
   "id": "0f50415d-8e2d-4919-827f-edae6d45fa4b",
   "metadata": {},
   "outputs": [],
   "source": []
  }
 ],
 "metadata": {
  "kernelspec": {
   "display_name": "Python 3 (ipykernel)",
   "language": "python",
   "name": "python3"
  },
  "language_info": {
   "codemirror_mode": {
    "name": "ipython",
    "version": 3
   },
   "file_extension": ".py",
   "mimetype": "text/x-python",
   "name": "python",
   "nbconvert_exporter": "python",
   "pygments_lexer": "ipython3",
   "version": "3.10.13"
  },
  "widgets": {
   "application/vnd.jupyter.widget-state+json": {
    "state": {},
    "version_major": 2,
    "version_minor": 0
   }
  }
 },
 "nbformat": 4,
 "nbformat_minor": 5
}
