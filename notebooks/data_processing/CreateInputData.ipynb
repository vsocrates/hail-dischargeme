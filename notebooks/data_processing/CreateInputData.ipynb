{
 "cells": [
  {
   "cell_type": "code",
   "execution_count": 44,
   "id": "33c960e0",
   "metadata": {},
   "outputs": [],
   "source": [
    "import pandas as pd\n",
    "import ast\n",
    "import numpy as np\n",
    "\n",
    "from tqdm import tqdm\n",
    "# from tqdm.auto import tqdm  # for notebooks\n",
    "tqdm.pandas()\n",
    "\n",
    "import os\n",
    "import openai"
   ]
  },
  {
   "cell_type": "code",
   "execution_count": 2,
   "id": "f1bb5f11-308e-4475-ad04-944330028e68",
   "metadata": {},
   "outputs": [
    {
     "data": {
      "text/plain": [
       "True"
      ]
     },
     "execution_count": 2,
     "metadata": {},
     "output_type": "execute_result"
    }
   ],
   "source": [
    "from dotenv import load_dotenv\n",
    "load_dotenv()  # take environment variables from .env."
   ]
  },
  {
   "cell_type": "code",
   "execution_count": 3,
   "id": "a5b443f2",
   "metadata": {},
   "outputs": [
    {
     "name": "stderr",
     "output_type": "stream",
     "text": [
      "/tmp/ipykernel_2453867/1048194751.py:2: DtypeWarning: Columns (1) have mixed types. Specify dtype option on import or set low_memory=False.\n",
      "  transfers_events = pd.read_csv('/gpfs/milgram/project/rtaylor/shared/DischargeMe/combined_data_export.csv')\n"
     ]
    }
   ],
   "source": [
    "# preprocessed file from Thomas\n",
    "transfers_events = pd.read_csv('/gpfs/milgram/project/rtaylor/shared/DischargeMe/combined_data_export.csv')"
   ]
  },
  {
   "cell_type": "code",
   "execution_count": 4,
   "id": "c9ca30ac",
   "metadata": {},
   "outputs": [],
   "source": [
    "# bunch of nan rows\n",
    "transfers_events = transfers_events[~transfers_events['stay_id'].isna() & ~transfers_events['hadm_id'].isna()]\n"
   ]
  },
  {
   "cell_type": "code",
   "execution_count": 10,
   "id": "4e623c22",
   "metadata": {},
   "outputs": [],
   "source": [
    "# grab subject IDs\n",
    "transfers_events = transfers_events.merge(edstays[['stay_id', \"subject_id\"]], on=\"stay_id\", how=\"left\")"
   ]
  },
  {
   "cell_type": "code",
   "execution_count": 11,
   "id": "c8d316ba",
   "metadata": {},
   "outputs": [],
   "source": [
    "# discharge summaries\n",
    "discharges = pd.read_csv(\"/gpfs/milgram/project/rtaylor/shared/DischargeMe/public/train/discharge.csv.gz\")\n",
    "\n",
    "# ed stays\n",
    "edstays = pd.read_csv('/gpfs/milgram/project/rtaylor/shared/DischargeMe/public/train/edstays.csv.gz')\n",
    "\n",
    "# triage\n",
    "triage = pd.read_csv('/gpfs/milgram/project/rtaylor/shared/DischargeMe/public/train/triage.csv.gz')"
   ]
  },
  {
   "cell_type": "code",
   "execution_count": 12,
   "id": "f75e641a-31a6-4441-a4d6-24b66839595e",
   "metadata": {},
   "outputs": [
    {
     "data": {
      "text/plain": [
       "(71994, 48915, (71994, 11))"
      ]
     },
     "execution_count": 12,
     "metadata": {},
     "output_type": "execute_result"
    }
   ],
   "source": [
    "triage.stay_id.nunique(), triage.subject_id.nunique(), triage.shape"
   ]
  },
  {
   "cell_type": "code",
   "execution_count": 13,
   "id": "e326dcdc",
   "metadata": {},
   "outputs": [],
   "source": [
    "# ward transfers\n",
    "transfers = pd.read_csv('/gpfs/milgram/project/rtaylor/shared/DischargeMe/mimiciv/hosp/transfers.csv.gz')\n",
    "\n",
    "# higher-level services (ICU, CARD, etc)\n",
    "services = pd.read_csv('/gpfs/milgram/project/rtaylor/shared/DischargeMe/mimiciv/hosp/services.csv.gz')\n",
    "\n",
    "# get patient info\n",
    "pts = pd.read_csv('/gpfs/milgram/project/rtaylor/shared/DischargeMe/mimiciv/hosp/patients.csv.gz')\n",
    "\n",
    "# admission demographics\n",
    "admissions = pd.read_csv('/gpfs/milgram/project/rtaylor/shared/DischargeMe/mimiciv/hosp/admissions.csv.gz')\n",
    "\n",
    "# procedures\n",
    "procs = pd.read_csv('/gpfs/milgram/project/rtaylor/shared/DischargeMe/mimiciv/hosp/procedures_icd.csv.gz')\n",
    "procs_icd = pd.read_csv('/gpfs/milgram/project/rtaylor/shared/DischargeMe/mimiciv/hosp/d_icd_procedures.csv.gz')\n",
    "\n",
    "# diagnoses\n",
    "diags = pd.read_csv('/gpfs/milgram/project/rtaylor/shared/DischargeMe/mimiciv/hosp/diagnoses_icd.csv.gz')\n",
    "diags_icd = pd.read_csv('/gpfs/milgram/project/rtaylor/shared/DischargeMe/mimiciv/hosp/d_icd_diagnoses.csv.gz')\n",
    "\n",
    "# meds\n",
    "med_orders = pd.read_csv('/gpfs/milgram/project/rtaylor/shared/DischargeMe/mimiciv/hosp/emar.csv.gz')\n"
   ]
  },
  {
   "cell_type": "code",
   "execution_count": 14,
   "id": "3efc00e6",
   "metadata": {},
   "outputs": [],
   "source": [
    "med_orders = med_orders[~med_orders['charttime'].isna() & \n",
    "                        ~med_orders['medication'].isna() & \n",
    "                        ~med_orders['event_txt'].isna()]"
   ]
  },
  {
   "cell_type": "code",
   "execution_count": 15,
   "id": "9f6232b2",
   "metadata": {},
   "outputs": [],
   "source": [
    "procs = procs.astype({\"chartdate\":\"datetime64[ns]\"})\n",
    "med_orders = med_orders.astype({\"charttime\":\"datetime64[ns]\",\n",
    "                  \"scheduletime\":\"datetime64[ns]\",\n",
    "                  \"storetime\":\"datetime64[ns]\",})\n",
    "\n",
    "discharges = discharges.astype({\"charttime\":\"datetime64[ns]\",\n",
    "                               \"storetime\":\"datetime64[ns]\"})"
   ]
  },
  {
   "cell_type": "code",
   "execution_count": 16,
   "id": "dcf9101e-7629-448a-86ac-8a73e0b3f07c",
   "metadata": {},
   "outputs": [
    {
     "data": {
      "text/plain": [
       "((85257, 3), 85251)"
      ]
     },
     "execution_count": 16,
     "metadata": {},
     "output_type": "execute_result"
    }
   ],
   "source": [
    "# are there multiple icd code mappings? \n",
    "procs_icd.shape, procs_icd.icd_code.nunique()\n",
    "# looks like only for the two versions of ICD"
   ]
  },
  {
   "cell_type": "code",
   "execution_count": 17,
   "id": "fcf68498-fd13-43ae-b775-cfaf34bc3142",
   "metadata": {},
   "outputs": [
    {
     "data": {
      "text/html": [
       "<div>\n",
       "<style scoped>\n",
       "    .dataframe tbody tr th:only-of-type {\n",
       "        vertical-align: middle;\n",
       "    }\n",
       "\n",
       "    .dataframe tbody tr th {\n",
       "        vertical-align: top;\n",
       "    }\n",
       "\n",
       "    .dataframe thead th {\n",
       "        text-align: right;\n",
       "    }\n",
       "</style>\n",
       "<table border=\"1\" class=\"dataframe\">\n",
       "  <thead>\n",
       "    <tr style=\"text-align: right;\">\n",
       "      <th></th>\n",
       "      <th>icd_code</th>\n",
       "      <th>icd_version</th>\n",
       "      <th>long_title</th>\n",
       "    </tr>\n",
       "  </thead>\n",
       "  <tbody>\n",
       "    <tr>\n",
       "      <th>20005</th>\n",
       "      <td>067</td>\n",
       "      <td>9</td>\n",
       "      <td>Excision of thyroglossal duct or tract</td>\n",
       "    </tr>\n",
       "    <tr>\n",
       "      <th>20006</th>\n",
       "      <td>067</td>\n",
       "      <td>10</td>\n",
       "      <td>Lower Veins, Dilation</td>\n",
       "    </tr>\n",
       "  </tbody>\n",
       "</table>\n",
       "</div>"
      ],
      "text/plain": [
       "      icd_code  icd_version                              long_title\n",
       "20005      067            9  Excision of thyroglossal duct or tract\n",
       "20006      067           10                   Lower Veins, Dilation"
      ]
     },
     "execution_count": 17,
     "metadata": {},
     "output_type": "execute_result"
    }
   ],
   "source": [
    "procs_icd[procs_icd['icd_code'] == \"067\"]"
   ]
  },
  {
   "cell_type": "code",
   "execution_count": 18,
   "id": "67f9daea",
   "metadata": {},
   "outputs": [],
   "source": [
    "# drop any potential repeats\n",
    "procs_icd = procs_icd.groupby([\"icd_code\", \"icd_version\"]).first().reset_index()\n",
    "diags_icd = diags_icd.groupby([\"icd_code\", \"icd_version\"]).first().reset_index()"
   ]
  },
  {
   "cell_type": "code",
   "execution_count": 19,
   "id": "42f92651-5a47-4aa4-b845-6a6193ebe4ef",
   "metadata": {},
   "outputs": [],
   "source": [
    "# grab long_titles for procs/diags\n",
    "procs = procs.merge(procs_icd, on=[\"icd_code\", \"icd_version\"], how=\"left\")\n",
    "diags = diags.merge(diags_icd, on=[\"icd_code\", \"icd_version\"], how=\"left\")"
   ]
  },
  {
   "cell_type": "code",
   "execution_count": 20,
   "id": "be3786d3",
   "metadata": {},
   "outputs": [
    {
     "data": {
      "text/plain": [
       "\"['Emergency Department', 'Emergency Department', nan, 'Medicine']\""
      ]
     },
     "execution_count": 20,
     "metadata": {},
     "output_type": "execute_result"
    }
   ],
   "source": [
    "\n",
    "# why would someone have multiple ED stays for the same admission?\n",
    "# looks like they came and left the ED multiple times during the course of their hospital course? \n",
    "transfers_events[transfers_events['hadm_id'] == 23880210].iloc[0]['careunit']"
   ]
  },
  {
   "cell_type": "code",
   "execution_count": 21,
   "id": "7ebbd17a-71eb-429d-a0cf-10b9995ac3ea",
   "metadata": {},
   "outputs": [
    {
     "data": {
      "text/html": [
       "<div>\n",
       "<style scoped>\n",
       "    .dataframe tbody tr th:only-of-type {\n",
       "        vertical-align: middle;\n",
       "    }\n",
       "\n",
       "    .dataframe tbody tr th {\n",
       "        vertical-align: top;\n",
       "    }\n",
       "\n",
       "    .dataframe thead th {\n",
       "        text-align: right;\n",
       "    }\n",
       "</style>\n",
       "<table border=\"1\" class=\"dataframe\">\n",
       "  <thead>\n",
       "    <tr style=\"text-align: right;\">\n",
       "      <th></th>\n",
       "      <th>intime</th>\n",
       "      <th>outtime</th>\n",
       "      <th>careunit</th>\n",
       "    </tr>\n",
       "  </thead>\n",
       "  <tbody>\n",
       "    <tr>\n",
       "      <th>1242364</th>\n",
       "      <td>2180-10-27 05:24:15</td>\n",
       "      <td>2180-10-27 19:50:31</td>\n",
       "      <td>Discharge Lounge</td>\n",
       "    </tr>\n",
       "    <tr>\n",
       "      <th>1242365</th>\n",
       "      <td>2180-10-27 19:50:31</td>\n",
       "      <td>2180-10-28 09:54:07</td>\n",
       "      <td>Med/Surg</td>\n",
       "    </tr>\n",
       "    <tr>\n",
       "      <th>1242363</th>\n",
       "      <td>2180-10-28 09:54:07</td>\n",
       "      <td>2180-10-29 16:32:32</td>\n",
       "      <td>Coronary Care Unit (CCU)</td>\n",
       "    </tr>\n",
       "    <tr>\n",
       "      <th>1242361</th>\n",
       "      <td>2180-10-29 16:32:32</td>\n",
       "      <td>2180-10-30 17:27:11</td>\n",
       "      <td>Med/Surg</td>\n",
       "    </tr>\n",
       "    <tr>\n",
       "      <th>1242362</th>\n",
       "      <td>2180-10-30 17:27:11</td>\n",
       "      <td>NaN</td>\n",
       "      <td>NaN</td>\n",
       "    </tr>\n",
       "  </tbody>\n",
       "</table>\n",
       "</div>"
      ],
      "text/plain": [
       "                      intime              outtime                  careunit\n",
       "1242364  2180-10-27 05:24:15  2180-10-27 19:50:31          Discharge Lounge\n",
       "1242365  2180-10-27 19:50:31  2180-10-28 09:54:07                  Med/Surg\n",
       "1242363  2180-10-28 09:54:07  2180-10-29 16:32:32  Coronary Care Unit (CCU)\n",
       "1242361  2180-10-29 16:32:32  2180-10-30 17:27:11                  Med/Surg\n",
       "1242362  2180-10-30 17:27:11                  NaN                       NaN"
      ]
     },
     "execution_count": 21,
     "metadata": {},
     "output_type": "execute_result"
    }
   ],
   "source": [
    "transfers[transfers['hadm_id'] == 29999828].sort_values(\"intime\")[['intime',\"outtime\",'careunit']]"
   ]
  },
  {
   "cell_type": "code",
   "execution_count": 22,
   "id": "2830172e",
   "metadata": {},
   "outputs": [
    {
     "data": {
      "text/plain": [
       "159"
      ]
     },
     "execution_count": 22,
     "metadata": {},
     "output_type": "execute_result"
    }
   ],
   "source": [
    "# transfers_events.stay_id.duplicated().sum()\n",
    "transfers_events.hadm_id.duplicated().sum()"
   ]
  },
  {
   "cell_type": "code",
   "execution_count": 27,
   "id": "32eab4ca-23da-4084-b836-65c4831bc641",
   "metadata": {},
   "outputs": [],
   "source": [
    "# create initial input text prompt\n",
    "def get_demos(subject_id):\n",
    "    # has gender, anchor-age, date-of-death if exists\n",
    "    return pts[pts['subject_id'] == subject_id].squeeze()\n",
    "    \n",
    "def get_transfers(hadm_id):\n",
    "    return transfers[transfers['hadm_id'] == hadm_id].sort_values(\"intime\").squeeze()\n",
    "    \n",
    "def get_procs_within_service(hadm_id, transfer_event):\n",
    "    adm_procs = procs[procs['hadm_id'] == hadm_id]\n",
    "    adm_procs = adm_procs.sort_values(\"seq_num\")\n",
    "    \n",
    "    adm_procs_in_unit = adm_procs[(adm_procs['chartdate'] > transfer_event['intime'])\n",
    "                                & (adm_procs['chartdate'] < transfer_event['outtime'])]\n",
    "    return adm_procs_in_unit\n",
    "    \n",
    "def get_procs(hadm_id):\n",
    "    adm_procs = procs[procs['hadm_id'] == hadm_id]\n",
    "    return adm_procs.sort_values(\"seq_num\")\n",
    "\n",
    "def get_diags(hadm_id):\n",
    "    adm_diags = diags[diags['hadm_id'] == hadm_id]\n",
    "    return adm_diags.sort_values(\"seq_num\")\n",
    "\n",
    "def get_med_orders_within_service(hadm_id, transfer_event):\n",
    "    med_admin = med_orders[(med_orders['hadm_id'] == hadm_id) & (med_orders['event_txt'] == \"Administered\")]\n",
    "    med_admin = med_admin.sort_values(\"emar_seq\")\n",
    "    \n",
    "    adm_diags_in_unit = med_admin[(med_admin['charttime'] > transfer_event['intime'])\n",
    "                                & (med_admin['charttime'] < transfer_event['outtime'])]\n",
    "\n",
    "    adm_diags_in_unit['admin_text'] = adm_diags_in_unit['medication'] + \" at \" + adm_diags_in_unit['charttime'].dt.strftime('%B %d, %Y, %r')\n",
    "    \n",
    "    return adm_diags_in_unit\n",
    "\n",
    "def get_med_orders(hadm_id):\n",
    "    med_admin = med_orders[(med_orders['hadm_id'] == hadm_id) & (med_orders['event_txt'] == \"Administered\")]\n",
    "    med_admin['admin_text'] = med_admin['medication'] + \" at \" + med_admin['charttime'].dt.strftime('%B %d, %Y, %r')\n",
    "    return med_admin\n",
    "\n",
    "def get_triage_info(stay_id):\n",
    "    return triage[triage['stay_id'] == stay_id]"
   ]
  },
  {
   "cell_type": "code",
   "execution_count": 28,
   "id": "2f91e7c5",
   "metadata": {},
   "outputs": [],
   "source": [
    "def create_pt_prompt(discharge_row):\n",
    "\n",
    "    demos = get_demos(discharge_row['subject_id'])\n",
    "    if demos.empty:\n",
    "        age = r\"[UNKNOWN AGE]\"\n",
    "        sex = r\"[UNKNOWN SEX]\"\n",
    "    else:\n",
    "        age = demos['anchor_age']\n",
    "        sex = demos['gender']\n",
    "    \n",
    "    chief_complaints = discharge_row['chiefcomplaint']\n",
    "    if sex:\n",
    "        pronoun = [\"he\",\"his\"] if sex == \"M\" else ['she',\"her\"]\n",
    "    else:\n",
    "        pronoun = [\"they\", \"their\"]\n",
    "\n",
    "    careunits = ast.literal_eval(discharge_row['careunit'].replace('nan', 'None'))\n",
    "    careunits = [x for x in careunits if x]\n",
    "\n",
    "    # transfers with dates\n",
    "    tranfers = get_transfers(discharge_row['hadm_id'])\n",
    "    \n",
    "    procs = get_procs(discharge_row['hadm_id'])\n",
    "    diags = get_diags(discharge_row['hadm_id'])\n",
    "    \n",
    "    med_orders = get_med_orders(discharge_row['hadm_id'])\n",
    "\n",
    "    prompt = f\"___ is a {age} year old {sex} presenting to the ED with {chief_complaints}. Over the course of {pronoun[1]} hospital course, ___ started at {careunits[0]} and then visited {', '.join(careunits[1:])}. Over the course of their hospital stay, {pronoun[0]} was given the following diagnoses: {', '.join(diags['long_title'])} in order of importance to this admission.\\n\\nThis led to receiving the following procedures: {', '.join(procs['long_title'])} in order of priority.\\n\\n___ also received the following medications: {', '.join(med_orders['admin_text'])}\"\n",
    "    \n",
    "    return prompt\n",
    "    \n"
   ]
  },
  {
   "cell_type": "code",
   "execution_count": 29,
   "id": "ee53a6ec-3ad7-418d-be95-6fe8aa699fcc",
   "metadata": {},
   "outputs": [
    {
     "data": {
      "text/html": [
       "<div>\n",
       "<style scoped>\n",
       "    .dataframe tbody tr th:only-of-type {\n",
       "        vertical-align: middle;\n",
       "    }\n",
       "\n",
       "    .dataframe tbody tr th {\n",
       "        vertical-align: top;\n",
       "    }\n",
       "\n",
       "    .dataframe thead th {\n",
       "        text-align: right;\n",
       "    }\n",
       "</style>\n",
       "<table border=\"1\" class=\"dataframe\">\n",
       "  <thead>\n",
       "    <tr style=\"text-align: right;\">\n",
       "      <th></th>\n",
       "      <th>subject_id</th>\n",
       "      <th>hadm_id</th>\n",
       "      <th>transfer_id</th>\n",
       "      <th>eventtype</th>\n",
       "      <th>careunit</th>\n",
       "      <th>intime</th>\n",
       "      <th>outtime</th>\n",
       "    </tr>\n",
       "  </thead>\n",
       "  <tbody>\n",
       "  </tbody>\n",
       "</table>\n",
       "</div>"
      ],
      "text/plain": [
       "Empty DataFrame\n",
       "Columns: [subject_id, hadm_id, transfer_id, eventtype, careunit, intime, outtime]\n",
       "Index: []"
      ]
     },
     "execution_count": 29,
     "metadata": {},
     "output_type": "execute_result"
    }
   ],
   "source": [
    "transfers[transfers['hadm_id'] == transfers['hadm_id'].sample(1).squeeze()].sort_values(\"intime\")"
   ]
  },
  {
   "cell_type": "code",
   "execution_count": 30,
   "id": "a07e46ba",
   "metadata": {},
   "outputs": [
    {
     "name": "stdout",
     "output_type": "stream",
     "text": [
      "___ is a [UNKNOWN AGE] year old [UNKNOWN SEX] presenting to the ED with Fever, HEEL WOUND. Over the course of her hospital course, ___ started at Emergency Department and then visited Vascular. Over the course of their hospital stay, she was given the following diagnoses: Unspecified septicemia, Necrotizing fasciitis, Acute kidney failure, unspecified, Atherosclerosis of native arteries of the extremities with gangrene, Diabetes with neurological manifestations, type II or unspecified type, not stated as uncontrolled, Diabetes with peripheral circulatory disorders, type II or unspecified type, not stated as uncontrolled, Ulcer of heel and midfoot, Sepsis, Unspecified essential hypertension, Other and unspecified hyperlipidemia, Tobacco use disorder, Tenosynovitis of foot and ankle, Pure hypercholesterolemia, Other psoriasis, Long-term (current) use of aspirin, Long-term (current) use of insulin, Long-term (current) use of antiplatelet/antithrombotic in order of importance to this admission.\n",
      "\n",
      "This led to receiving the following procedures: Local excision of lesion or tissue of bone, tarsals and metatarsals, Local excision of lesion or tissue of bone, tarsals and metatarsals, Local excision of lesion or tissue of bone, tarsals and metatarsals, Biopsy of bone, tarsals and metatarsals, Excision of lesion of other soft tissue, Excision of lesion of other soft tissue, Aortography, Arteriography of femoral and other lower extremity arteries, Central venous catheter placement with guidance in order of priority.\n",
      "\n",
      "___ also received the following medications: Acetaminophen at September 15, 2169, 03:33:00 PM, Ondansetron at September 15, 2169, 05:02:00 PM, Ciprofloxacin at September 15, 2169, 05:02:00 PM, Labetalol at September 15, 2169, 08:22:00 PM, Insulin at September 15, 2169, 08:45:00 PM, Metoprolol Tartrate at September 15, 2169, 08:56:00 PM, Aspirin at September 15, 2169, 08:56:00 PM, Clopidogrel at September 15, 2169, 08:57:00 PM, Heparin at September 15, 2169, 08:59:00 PM, HydrALAzine at September 15, 2169, 09:01:00 PM, Insulin at September 15, 2169, 09:25:00 PM, Atorvastatin at September 15, 2169, 09:26:00 PM, MetRONIDAZOLE (FLagyl) at September 16, 2169, 04:05:00 AM, Vancomycin at September 16, 2169, 07:40:00 AM, Aspirin at September 16, 2169, 07:49:00 AM, Clopidogrel at September 16, 2169, 07:49:00 AM, Heparin at September 16, 2169, 07:49:00 AM, Insulin at September 16, 2169, 07:49:00 AM, Insulin at September 16, 2169, 07:49:00 AM, Metoprolol Tartrate at September 16, 2169, 07:49:00 AM, Ciprofloxacin at September 16, 2169, 09:01:00 AM, Magnesium Sulfate at September 16, 2169, 11:18:00 AM, MetRONIDAZOLE (FLagyl) at September 16, 2169, 12:34:00 PM, Potassium Chloride at September 16, 2169, 02:28:00 PM, Heparin at September 16, 2169, 02:28:00 PM, Magnesium Sulfate at September 16, 2169, 02:28:00 PM, Insulin at September 16, 2169, 05:07:00 PM, Insulin at September 16, 2169, 05:07:00 PM, MetRONIDAZOLE (FLagyl) at September 16, 2169, 08:00:00 PM, Heparin at September 16, 2169, 08:00:00 PM, Metoprolol Tartrate at September 16, 2169, 08:00:00 PM, Atorvastatin at September 16, 2169, 08:00:00 PM, Vancomycin at September 16, 2169, 09:20:00 PM, Insulin at September 16, 2169, 10:21:00 PM, Ciprofloxacin at September 16, 2169, 10:00:00 PM, MetRONIDAZOLE (FLagyl) at September 17, 2169, 05:00:00 AM, Aspirin at September 17, 2169, 06:40:00 AM, Clopidogrel at September 17, 2169, 06:40:00 AM, Metoprolol Tartrate at September 17, 2169, 06:40:00 AM, Vancomycin at September 17, 2169, 06:42:00 AM, HydrALAzine at September 17, 2169, 08:07:00 AM, Heparin at September 17, 2169, 08:07:00 AM, Ciprofloxacin at September 17, 2169, 09:10:00 AM, Potassium Chloride at September 17, 2169, 11:57:00 AM, MetRONIDAZOLE (FLagyl) at September 17, 2169, 11:57:00 AM, Insulin at September 17, 2169, 12:18:00 PM, Metoprolol Tartrate at September 17, 2169, 12:51:00 PM, Heparin at September 17, 2169, 01:39:00 PM, Insulin at September 17, 2169, 05:27:00 PM, HydrALAzine at September 17, 2169, 05:27:00 PM, Ondansetron at September 17, 2169, 11:46:00 PM, Insulin at September 17, 2169, 11:57:00 PM, MetRONIDAZOLE (FLagyl) at September 18, 2169, 12:03:00 AM, Insulin at September 18, 2169, 12:03:00 AM, Heparin at September 18, 2169, 12:05:00 AM, Atorvastatin at September 18, 2169, 12:32:00 AM, Ondansetron at September 18, 2169, 02:24:00 AM, Vancomycin at September 18, 2169, 02:25:00 AM, Ciprofloxacin at September 18, 2169, 03:51:00 AM, Aspirin at September 18, 2169, 08:29:00 AM, Clopidogrel at September 18, 2169, 08:29:00 AM, Heparin at September 18, 2169, 08:29:00 AM, Insulin at September 18, 2169, 08:29:00 AM, Insulin at September 18, 2169, 08:29:00 AM, Metoprolol Tartrate at September 18, 2169, 08:29:00 AM, Vancomycin at September 18, 2169, 08:29:00 AM, MetRONIDAZOLE (FLagyl) at September 18, 2169, 11:34:00 AM, Insulin at September 18, 2169, 12:25:00 PM, Ciprofloxacin at September 18, 2169, 12:51:00 PM, Heparin at September 18, 2169, 03:35:00 PM, Metoprolol Tartrate at September 18, 2169, 03:35:00 PM, MetRONIDAZOLE (FLagyl) at September 18, 2169, 05:19:00 PM, Insulin at September 18, 2169, 05:37:00 PM, Atorvastatin at September 18, 2169, 07:54:00 PM, Heparin at September 18, 2169, 07:54:00 PM, Metoprolol Tartrate at September 18, 2169, 07:54:00 PM, Vancomycin at September 18, 2169, 07:54:00 PM, Ciprofloxacin at September 18, 2169, 09:58:00 PM, Insulin at September 18, 2169, 09:58:00 PM, MetRONIDAZOLE (FLagyl) at September 18, 2169, 11:40:00 PM, Aspirin at September 19, 2169, 08:03:00 AM, Clopidogrel at September 19, 2169, 08:03:00 AM, Metoprolol Tartrate at September 19, 2169, 08:03:00 AM, HydrALAzine at September 19, 2169, 08:03:00 AM, Heparin at September 19, 2169, 08:03:00 AM, MetRONIDAZOLE (FLagyl) at September 19, 2169, 08:39:00 AM, Insulin at September 19, 2169, 09:25:00 AM, Insulin at September 19, 2169, 09:25:00 AM, Vancomycin at September 19, 2169, 09:50:00 AM, Insulin at September 19, 2169, 11:36:00 AM, Heparin at September 19, 2169, 02:18:00 PM, Metoprolol Tartrate at September 19, 2169, 02:18:00 PM, Insulin at September 19, 2169, 05:52:00 PM, MetRONIDAZOLE (FLagyl) at September 19, 2169, 04:30:00 PM, Atorvastatin at September 19, 2169, 08:25:00 PM, Heparin at September 19, 2169, 08:25:00 PM, Metoprolol Tartrate at September 19, 2169, 08:25:00 PM, Vancomycin at September 19, 2169, 08:25:00 PM, Ciprofloxacin at September 19, 2169, 10:00:00 PM, Insulin at September 19, 2169, 10:00:00 PM, Insulin at September 19, 2169, 10:00:00 PM, MetRONIDAZOLE (FLagyl) at September 20, 2169, 12:20:00 AM, Aspirin at September 20, 2169, 08:27:00 AM, Clopidogrel at September 20, 2169, 08:27:00 AM, Heparin at September 20, 2169, 08:27:00 AM, Insulin at September 20, 2169, 08:27:00 AM, Insulin at September 20, 2169, 08:27:00 AM, Metoprolol Tartrate at September 20, 2169, 08:27:00 AM, Calcium Carbonate at September 20, 2169, 08:27:00 AM, MetRONIDAZOLE (FLagyl) at September 20, 2169, 11:35:00 AM, Insulin at September 20, 2169, 11:47:00 AM, Insulin at September 20, 2169, 11:47:00 AM, Metoprolol Tartrate at September 20, 2169, 03:17:00 PM, Heparin at September 20, 2169, 03:17:00 PM, Dextrose 50% at September 20, 2169, 05:28:00 PM, MetRONIDAZOLE (FLagyl) at September 20, 2169, 06:11:00 PM, HydrALAzine at September 20, 2169, 07:27:00 PM, Atorvastatin at September 20, 2169, 08:09:00 PM, Heparin at September 20, 2169, 08:09:00 PM, Metoprolol Tartrate at September 20, 2169, 08:09:00 PM, Vancomycin at September 20, 2169, 08:09:00 PM, Ciprofloxacin at September 20, 2169, 09:57:00 PM, Insulin at September 20, 2169, 09:57:00 PM, Insulin at September 20, 2169, 09:57:00 PM, MetRONIDAZOLE (FLagyl) at September 20, 2169, 11:17:00 PM, Aspirin at September 21, 2169, 09:17:00 AM, Clopidogrel at September 21, 2169, 09:17:00 AM, Heparin at September 21, 2169, 09:17:00 AM, Insulin at September 21, 2169, 09:17:00 AM, Insulin at September 21, 2169, 09:17:00 AM, Metoprolol Tartrate at September 21, 2169, 09:17:00 AM, MetRONIDAZOLE (FLagyl) at September 21, 2169, 09:17:00 AM, Vancomycin at September 21, 2169, 10:40:00 AM, Ciprofloxacin at September 21, 2169, 12:52:00 PM, Insulin at September 21, 2169, 12:52:00 PM, Insulin at September 21, 2169, 12:53:00 PM, Heparin at September 21, 2169, 02:35:00 PM, Metoprolol Tartrate at September 21, 2169, 02:35:00 PM, MetRONIDAZOLE (FLagyl) at September 21, 2169, 04:35:00 PM, Insulin at September 21, 2169, 06:37:00 PM, Atorvastatin at September 21, 2169, 08:03:00 PM, Heparin at September 21, 2169, 08:03:00 PM, Metoprolol Tartrate at September 21, 2169, 08:03:00 PM, Vancomycin at September 21, 2169, 08:03:00 PM, Ciprofloxacin at September 21, 2169, 10:25:00 PM, Insulin at September 21, 2169, 10:25:00 PM, MetRONIDAZOLE (FLagyl) at September 22, 2169, 12:28:00 AM, HydrALAzine at September 22, 2169, 04:33:00 AM, Aspirin at September 22, 2169, 07:42:00 AM, Metoprolol Tartrate at September 22, 2169, 07:42:00 AM, Clopidogrel at September 22, 2169, 07:42:00 AM, Heparin at September 22, 2169, 07:42:00 AM, MetRONIDAZOLE (FLagyl) at September 22, 2169, 07:42:00 AM, Insulin at September 22, 2169, 08:36:00 AM, Insulin at September 22, 2169, 08:37:00 AM, Vancomycin at September 22, 2169, 09:04:00 AM, Ciprofloxacin at September 22, 2169, 11:52:00 AM, Heparin at September 22, 2169, 05:16:00 PM, Metoprolol Tartrate at September 22, 2169, 05:16:00 PM, MetRONIDAZOLE (FLagyl) at September 22, 2169, 05:16:00 PM, Insulin at September 22, 2169, 05:29:00 PM, Insulin at September 22, 2169, 05:29:00 PM, Atorvastatin at September 22, 2169, 08:35:00 PM, CeftriaXONE at September 22, 2169, 08:35:00 PM, Heparin at September 22, 2169, 08:35:00 PM, Metoprolol Tartrate at September 22, 2169, 08:35:00 PM, Vancomycin at September 22, 2169, 08:35:00 PM, Acetaminophen at September 22, 2169, 08:35:00 PM, Insulin at September 22, 2169, 10:00:00 PM, MetRONIDAZOLE (FLagyl) at September 23, 2169, 12:38:00 AM, Magnesium Sulfate at September 23, 2169, 05:54:00 AM, Aspirin at September 23, 2169, 08:43:00 AM, Clopidogrel at September 23, 2169, 08:43:00 AM, Heparin at September 23, 2169, 08:43:00 AM, Insulin at September 23, 2169, 08:43:00 AM, Metoprolol Tartrate at September 23, 2169, 08:43:00 AM, MetRONIDAZOLE (FLagyl) at September 23, 2169, 08:43:00 AM, Vancomycin at September 23, 2169, 08:43:00 AM, Insulin at September 23, 2169, 12:25:00 PM, Insulin at September 23, 2169, 12:26:00 PM, Heparin at September 23, 2169, 02:20:00 PM, Metoprolol Tartrate at September 23, 2169, 02:20:00 PM, MetRONIDAZOLE (FLagyl) at September 23, 2169, 05:17:00 PM, Insulin at September 23, 2169, 06:12:00 PM, CeftriaXONE at September 23, 2169, 07:40:00 PM, Atorvastatin at September 23, 2169, 07:51:00 PM, Docusate Sodium at September 23, 2169, 07:51:00 PM, Heparin at September 23, 2169, 07:51:00 PM, Metoprolol Tartrate at September 23, 2169, 07:51:00 PM, Vancomycin at September 23, 2169, 07:51:00 PM, Insulin at September 23, 2169, 10:20:00 PM, Insulin at September 23, 2169, 10:20:00 PM, MetRONIDAZOLE (FLagyl) at September 23, 2169, 11:36:00 PM, Aspirin at September 24, 2169, 07:53:00 AM, Clopidogrel at September 24, 2169, 07:53:00 AM, Heparin at September 24, 2169, 07:53:00 AM, Insulin at September 24, 2169, 07:53:00 AM, Insulin at September 24, 2169, 07:53:00 AM, Metoprolol Tartrate at September 24, 2169, 07:53:00 AM, MetRONIDAZOLE (FLagyl) at September 24, 2169, 07:53:00 AM, Vancomycin at September 24, 2169, 07:53:00 AM, Insulin at September 24, 2169, 12:11:00 PM, Heparin at September 24, 2169, 01:03:00 PM, Metoprolol Tartrate at September 24, 2169, 01:03:00 PM, Metoprolol Tartrate at September 24, 2169, 03:24:00 PM, Insulin at September 24, 2169, 06:15:00 PM, MetRONIDAZOLE (FLagyl) at September 24, 2169, 06:20:00 PM, Insulin at September 24, 2169, 07:45:00 PM, Atorvastatin at September 24, 2169, 07:52:00 PM, CeftriaXONE at September 24, 2169, 07:52:00 PM, Metoprolol Tartrate at September 24, 2169, 07:52:00 PM, Insulin at September 24, 2169, 10:19:00 PM, Heparin at September 24, 2169, 10:23:00 PM, MetRONIDAZOLE (FLagyl) at September 24, 2169, 11:24:00 PM, Aspirin at September 25, 2169, 07:40:00 AM, Clopidogrel at September 25, 2169, 07:40:00 AM, Heparin at September 25, 2169, 07:40:00 AM, Metoprolol Tartrate at September 25, 2169, 07:40:00 AM, MetRONIDAZOLE (FLagyl) at September 25, 2169, 07:40:00 AM, Insulin at September 25, 2169, 09:23:00 AM, Insulin at September 25, 2169, 09:23:00 AM, Insulin at September 25, 2169, 11:22:00 AM, Insulin at September 25, 2169, 11:22:00 AM, Heparin at September 25, 2169, 04:19:00 PM, Metoprolol Tartrate at September 25, 2169, 04:19:00 PM, MetRONIDAZOLE (FLagyl) at September 25, 2169, 04:20:00 PM, Insulin at September 25, 2169, 05:58:00 PM, Insulin at September 25, 2169, 05:58:00 PM, Atorvastatin at September 25, 2169, 07:57:00 PM, CeftriaXONE at September 25, 2169, 07:57:00 PM, Heparin at September 25, 2169, 07:57:00 PM, Metoprolol Tartrate at September 25, 2169, 07:57:00 PM, Insulin at September 25, 2169, 09:28:00 PM, Insulin at September 25, 2169, 09:28:00 PM, MetRONIDAZOLE (FLagyl) at September 25, 2169, 11:27:00 PM, Magnesium Sulfate at September 26, 2169, 03:47:00 AM, Aspirin at September 26, 2169, 08:43:00 AM, Clopidogrel at September 26, 2169, 08:43:00 AM, Heparin at September 26, 2169, 08:43:00 AM, Metoprolol Tartrate at September 26, 2169, 08:43:00 AM, MetRONIDAZOLE (FLagyl) at September 26, 2169, 08:43:00 AM, Senna at September 26, 2169, 08:43:00 AM, Insulin at September 26, 2169, 09:00:00 AM, Insulin at September 26, 2169, 09:00:00 AM, Insulin at September 26, 2169, 11:44:00 AM, Insulin at September 26, 2169, 11:44:00 AM, Heparin at September 26, 2169, 02:17:00 PM, Metoprolol Tartrate at September 26, 2169, 02:17:00 PM, MetRONIDAZOLE (FLagyl) at September 26, 2169, 03:45:00 PM, Insulin at September 26, 2169, 05:46:00 PM, Atorvastatin at September 26, 2169, 08:31:00 PM, CeftriaXONE at September 26, 2169, 08:31:00 PM, Heparin at September 26, 2169, 08:31:00 PM, Metoprolol Tartrate at September 26, 2169, 08:31:00 PM, Insulin at September 26, 2169, 09:55:00 PM, MetRONIDAZOLE (FLagyl) at September 27, 2169, 12:24:00 AM, MetRONIDAZOLE (FLagyl) at September 27, 2169, 08:00:00 AM, Heparin at September 27, 2169, 08:00:00 AM, Aspirin at September 27, 2169, 09:17:00 AM, Clopidogrel at September 27, 2169, 09:17:00 AM, Insulin at September 27, 2169, 09:17:00 AM, Insulin at September 27, 2169, 09:17:00 AM, Metoprolol Tartrate at September 27, 2169, 09:17:00 AM, Insulin at September 27, 2169, 12:29:00 PM, Insulin at September 27, 2169, 12:29:00 PM, Heparin at September 27, 2169, 02:24:00 PM, Metoprolol Tartrate at September 27, 2169, 02:24:00 PM, Insulin at September 27, 2169, 04:32:00 PM, Insulin at September 27, 2169, 04:32:00 PM, MetRONIDAZOLE (FLagyl) at September 27, 2169, 04:32:00 PM, Atorvastatin at September 27, 2169, 07:39:00 PM, CeftriaXONE at September 27, 2169, 07:39:00 PM, Heparin at September 27, 2169, 07:39:00 PM, Metoprolol Tartrate at September 27, 2169, 07:39:00 PM, Insulin at September 27, 2169, 10:10:00 PM, Insulin at September 27, 2169, 10:10:00 PM, MetRONIDAZOLE (FLagyl) at September 28, 2169, 12:24:00 AM, Aspirin at September 28, 2169, 08:56:00 AM, Clopidogrel at September 28, 2169, 08:56:00 AM, Heparin at September 28, 2169, 08:56:00 AM, Metoprolol Tartrate at September 28, 2169, 08:56:00 AM, MetRONIDAZOLE (FLagyl) at September 28, 2169, 08:56:00 AM, Acetaminophen at September 28, 2169, 08:56:00 AM, Insulin at September 28, 2169, 09:40:00 AM, Insulin at September 28, 2169, 09:40:00 AM, Heparin at September 28, 2169, 02:21:00 PM, Metoprolol Tartrate at September 28, 2169, 02:21:00 PM, Insulin at September 28, 2169, 01:30:00 PM, Insulin at September 28, 2169, 01:30:00 PM, MetRONIDAZOLE (FLagyl) at September 28, 2169, 03:37:00 PM, Insulin at September 28, 2169, 05:51:00 PM, Atorvastatin at September 28, 2169, 08:05:00 PM, Heparin at September 28, 2169, 08:05:00 PM, Metoprolol Tartrate at September 28, 2169, 08:05:00 PM, Insulin at September 28, 2169, 09:54:00 PM, Insulin at September 28, 2169, 10:02:00 PM, MetRONIDAZOLE (FLagyl) at September 28, 2169, 11:42:00 PM, Aspirin at September 29, 2169, 08:21:00 AM, Clopidogrel at September 29, 2169, 08:21:00 AM, Heparin at September 29, 2169, 08:21:00 AM, Insulin at September 29, 2169, 08:21:00 AM, Insulin at September 29, 2169, 08:21:00 AM, Metoprolol Tartrate at September 29, 2169, 08:21:00 AM, MetRONIDAZOLE (FLagyl) at September 29, 2169, 08:21:00 AM, Insulin at September 29, 2169, 01:24:00 PM, Insulin at September 29, 2169, 01:24:00 PM, Heparin at September 29, 2169, 01:24:00 PM, Metoprolol Tartrate at September 29, 2169, 01:24:00 PM, MetRONIDAZOLE (FLagyl) at September 29, 2169, 05:43:00 PM, Insulin at September 29, 2169, 05:44:00 PM, Insulin at September 29, 2169, 05:44:00 PM, Atorvastatin at September 29, 2169, 07:27:00 PM, CeftriaXONE at September 29, 2169, 07:27:00 PM, Heparin at September 29, 2169, 07:27:00 PM, Metoprolol Tartrate at September 29, 2169, 07:27:00 PM, Insulin at September 29, 2169, 09:36:00 PM, MetRONIDAZOLE (FLagyl) at September 29, 2169, 11:35:00 PM, Aspirin at September 30, 2169, 09:17:00 AM, Clopidogrel at September 30, 2169, 09:17:00 AM, Heparin at September 30, 2169, 09:17:00 AM, Insulin at September 30, 2169, 09:17:00 AM, Insulin at September 30, 2169, 09:17:00 AM, Metoprolol Tartrate at September 30, 2169, 09:17:00 AM, MetRONIDAZOLE (FLagyl) at September 30, 2169, 09:17:00 AM, Insulin at September 30, 2169, 12:22:00 PM, Insulin at September 30, 2169, 12:22:00 PM, Heparin at September 30, 2169, 01:23:00 PM, Metoprolol Tartrate at September 30, 2169, 01:23:00 PM, MetRONIDAZOLE (FLagyl) at September 30, 2169, 03:47:00 PM, Insulin at September 30, 2169, 05:34:00 PM, Insulin at September 30, 2169, 05:35:00 PM, Insulin at September 30, 2169, 05:36:00 PM, Atorvastatin at September 30, 2169, 07:45:00 PM, CeftriaXONE at September 30, 2169, 07:45:00 PM, Heparin at September 30, 2169, 07:45:00 PM, Metoprolol Tartrate at September 30, 2169, 07:45:00 PM, Insulin at September 30, 2169, 09:53:00 PM, MetRONIDAZOLE (FLagyl) at September 30, 2169, 11:03:00 PM, Insulin at October 01, 2169, 05:57:00 AM, Aspirin at October 01, 2169, 07:58:00 AM, Clopidogrel at October 01, 2169, 07:58:00 AM, Heparin at October 01, 2169, 07:58:00 AM, Insulin at October 01, 2169, 07:58:00 AM, Metoprolol Tartrate at October 01, 2169, 07:58:00 AM, MetRONIDAZOLE (FLagyl) at October 01, 2169, 07:58:00 AM, Insulin at October 01, 2169, 12:21:00 PM, Insulin at October 01, 2169, 12:21:00 PM, Heparin at October 01, 2169, 01:45:00 PM, Metoprolol Tartrate at October 01, 2169, 01:45:00 PM, Ertapenem Sodium at October 01, 2169, 03:15:00 PM, MetRONIDAZOLE (FLagyl) at October 01, 2169, 04:14:00 PM\n"
     ]
    },
    {
     "name": "stderr",
     "output_type": "stream",
     "text": [
      "/tmp/ipykernel_2453867/2113063715.py:38: SettingWithCopyWarning: \n",
      "A value is trying to be set on a copy of a slice from a DataFrame.\n",
      "Try using .loc[row_indexer,col_indexer] = value instead\n",
      "\n",
      "See the caveats in the documentation: https://pandas.pydata.org/pandas-docs/stable/user_guide/indexing.html#returning-a-view-versus-a-copy\n",
      "  med_admin['admin_text'] = med_admin['medication'] + \" at \" + med_admin['charttime'].dt.strftime('%B %d, %Y, %r')\n"
     ]
    }
   ],
   "source": [
    "print(create_pt_prompt(transfers_events.sample(1).squeeze()))"
   ]
  },
  {
   "cell_type": "code",
   "execution_count": 34,
   "id": "0f06c983",
   "metadata": {},
   "outputs": [
    {
     "name": "stderr",
     "output_type": "stream",
     "text": [
      "100%|██████████| 2/2 [00:02<00:00,  1.34s/it]\n"
     ]
    }
   ],
   "source": [
    "prompts = transfers_events.sample(2).progress_apply(create_pt_prompt, axis=1)"
   ]
  },
  {
   "cell_type": "code",
   "execution_count": 35,
   "id": "f395f9f6",
   "metadata": {},
   "outputs": [],
   "source": [
    "transfers_events['prompts'] = prompts"
   ]
  },
  {
   "cell_type": "code",
   "execution_count": 36,
   "id": "3c3eccd4",
   "metadata": {},
   "outputs": [],
   "source": [
    "transfers_events_with_prompts = transfers_events[~transfers_events['prompts'].isna()]"
   ]
  },
  {
   "cell_type": "code",
   "execution_count": 37,
   "id": "9c5887dd",
   "metadata": {},
   "outputs": [],
   "source": [
    "# Output \n",
    "\n",
    "# transfers_events_with_prompts.astype({\"hadm_id\":\"int\"}).rename({\"Unnamed: 0\":\"idx\"}, axis=1)[[\"idx\", 'hadm_id','brief_hospital_course','prompts']].to_csv(\"/gpfs/milgram/project/rtaylor/shared/DischargeMe/combined_data_export_with_prompts.csv\", index=False)\n",
    "# transfers_events_with_prompts.astype({\"hadm_id\":\"int\"}).rename({\"Unnamed: 0\":\"idx\"}, axis=1)[[\"idx\", 'hadm_id','brief_hospital_course','prompts']].to_html(\"combined_data_export_with_prompts.html\", index=False)"
   ]
  },
  {
   "cell_type": "code",
   "execution_count": null,
   "id": "6cce4e73",
   "metadata": {},
   "outputs": [],
   "source": [
    "from tabulate import tabulate\n",
    "tabulate(transfers_events_with_prompts.astype({\"hadm_id\":\"int\"}).rename({\"Unnamed: 0\":\"idx\"}, axis=1)[[\"idx\", 'hadm_id','brief_hospital_course','prompts']], tablefmt=\"tsv\")"
   ]
  },
  {
   "cell_type": "markdown",
   "id": "5cbf512f",
   "metadata": {},
   "source": [
    "# Service-Level Progress Note Generation \n",
    "\n",
    "This section generates a pseudo-progress note from service-level information using GPT-3. It uses the raw data, instead of the preprocessed transfers_events data above from Thomas. \n"
   ]
  },
  {
   "cell_type": "code",
   "execution_count": 40,
   "id": "4fa3918d-d683-42b1-8498-046416c9f451",
   "metadata": {},
   "outputs": [],
   "source": [
    "def create_pt_prompt_per_service(discharge_row):\n",
    "\n",
    "    demos = get_demos(discharge_row['subject_id'])\n",
    "    if demos.empty:\n",
    "        age = r\"[UNKNOWN AGE]\"\n",
    "        sex = r\"[UNKNOWN SEX]\"\n",
    "    else:\n",
    "        age = demos['anchor_age']\n",
    "        sex = demos['gender']\n",
    "\n",
    "    pt_edstays = edstays[edstays['hadm_id'] == discharge_row['hadm_id']]\n",
    "\n",
    "    ccs = []\n",
    "    for stay_id in pt_edstays['stay_id'].tolist():\n",
    "        triage_info = get_triage_info(stay_id)\n",
    "        ccs.append(triage_info['chiefcomplaint'].squeeze())\n",
    "        \n",
    "    chief_complaints = \", \".join(ccs)\n",
    "\n",
    "    if sex:\n",
    "        pronoun = [\"he\",\"his\"] if sex == \"M\" else ['she',\"her\"]\n",
    "    else:\n",
    "        pronoun = [\"they\", \"their\"]\n",
    "\n",
    "    # transfers with dates\n",
    "    transfers = get_transfers(discharge_row['hadm_id'])\n",
    "\n",
    "    # get stay admission diagnoses\n",
    "    diags = get_diags(discharge_row['hadm_id'])\n",
    "\n",
    "    init_prompt = f\"___ is a {age} year old {sex} that initially presented to the ED with {chief_complaints}. By the end of {pronoun[1]} hospital stay, {pronoun[0]} was given the following diagnoses: {', '.join(diags['long_title'])} in order of importance to this admission. \"\n",
    "    transfer_service_prompts = []\n",
    "\n",
    "    for index, row in transfers.iterrows():\n",
    "        if row['eventtype'] == \"discharge\":\n",
    "             transfer_service_prompts.append(\"\")\n",
    "        else:\n",
    "            # TODO: add from here. \n",
    "            within_service_prompt = f\"The patient was transferred and stayed in the {row['careunit']} ward between {row['intime']} and {row['outtime']}. ___ received \"\n",
    "            \n",
    "            procs = get_procs_within_service(discharge_row['hadm_id'], row)\n",
    "            med_orders = get_med_orders_within_service(discharge_row['hadm_id'], row)\n",
    "    \n",
    "            within_service_prompt = within_service_prompt + f\"the following procedures (ordered by priority): {', '.join(procs['long_title'].tolist())}. \"\n",
    "            within_service_prompt = within_service_prompt + f\"{pronoun[0]} also received the following medications (ordered chronologically) during the service: {', '.join(med_orders['medication'].tolist())}. \"\n",
    "            \n",
    "            full_prompt = init_prompt + within_service_prompt + f\"Given this information, please generate a progress note for this patient for their care during this part of their hospital course staying in the {row['careunit']} ward.\"\n",
    "            transfer_service_prompts.append(full_prompt)\n",
    "\n",
    "    transfers['service_prompts'] = transfer_service_prompts\n",
    "    \n",
    "    return transfers\n",
    "    \n"
   ]
  },
  {
   "cell_type": "code",
   "execution_count": 41,
   "id": "78ca1abb-1f56-454e-ae23-e0843b57e975",
   "metadata": {},
   "outputs": [
    {
     "data": {
      "text/html": [
       "<div>\n",
       "<style scoped>\n",
       "    .dataframe tbody tr th:only-of-type {\n",
       "        vertical-align: middle;\n",
       "    }\n",
       "\n",
       "    .dataframe tbody tr th {\n",
       "        vertical-align: top;\n",
       "    }\n",
       "\n",
       "    .dataframe thead th {\n",
       "        text-align: right;\n",
       "    }\n",
       "</style>\n",
       "<table border=\"1\" class=\"dataframe\">\n",
       "  <thead>\n",
       "    <tr style=\"text-align: right;\">\n",
       "      <th></th>\n",
       "      <th>note_id</th>\n",
       "      <th>subject_id</th>\n",
       "      <th>hadm_id</th>\n",
       "      <th>note_type</th>\n",
       "      <th>note_seq</th>\n",
       "      <th>charttime</th>\n",
       "      <th>storetime</th>\n",
       "      <th>text</th>\n",
       "    </tr>\n",
       "  </thead>\n",
       "  <tbody>\n",
       "    <tr>\n",
       "      <th>71703</th>\n",
       "      <td>19980545-DS-14</td>\n",
       "      <td>19980545</td>\n",
       "      <td>21585596</td>\n",
       "      <td>DS</td>\n",
       "      <td>14</td>\n",
       "      <td>2179-01-04</td>\n",
       "      <td>2179-01-08 17:24:00</td>\n",
       "      <td>\\nName:  ___                  Unit No:   ___\\...</td>\n",
       "    </tr>\n",
       "  </tbody>\n",
       "</table>\n",
       "</div>"
      ],
      "text/plain": [
       "              note_id  subject_id   hadm_id note_type  note_seq  charttime  \\\n",
       "71703  19980545-DS-14    19980545  21585596        DS        14 2179-01-04   \n",
       "\n",
       "                storetime                                               text  \n",
       "71703 2179-01-08 17:24:00   \\nName:  ___                  Unit No:   ___\\...  "
      ]
     },
     "execution_count": 41,
     "metadata": {},
     "output_type": "execute_result"
    }
   ],
   "source": [
    "discharges.sample(1)"
   ]
  },
  {
   "cell_type": "code",
   "execution_count": 42,
   "id": "f4945f1a-f0ba-4091-aab5-607cf5702001",
   "metadata": {},
   "outputs": [],
   "source": [
    "service_prompts = create_pt_prompt_per_service(discharges.sample(1).squeeze())"
   ]
  },
  {
   "cell_type": "code",
   "execution_count": 45,
   "id": "47428377-28db-4063-b1c0-89d63bf69ef3",
   "metadata": {},
   "outputs": [
    {
     "name": "stdout",
     "output_type": "stream",
     "text": [
      "Deprescribe Prompt: [{'role': 'system', 'content': \"You are a physician that is reviewing a patient's medical record during their stay in your ward: Med/Surg/GYN and writing progress notes based on this information\"}, {'role': 'user', 'content': '___ is a 29 year old M that initially presented to the ED with ABD DISCOMFORT. By the end of his hospital stay, he was given the following diagnoses: Malignant neoplasm of rectosigmoid junction, Nutritional marasmus, Other specified intestinal obstruction, Hydronephrosis, Body Mass Index less than 19, adult, Personal history of malignant neoplasm of large intestine, Stricture or kinking of ureter, Iron deficiency anemia, unspecified, Essential thrombocythemia in order of importance to this admission. The patient was transferred and stayed in the Med/Surg/GYN ward between 2185-01-20 00:04:00 and 2185-01-20 16:49:08. ___ received the following procedures (ordered by priority): . he also received the following medications (ordered chronologically) during the service: . Given this information, please generate a progress note for this patient for their care during this part of their hospital course staying in the Med/Surg/GYN ward.'}]\n"
     ]
    }
   ],
   "source": [
    "\n",
    "\n",
    "openai.api_type = \"azure\"\n",
    "openai.api_base = os.getenv(\"OPENAI_API_BASE\")\n",
    "openai.api_version = \"2023-07-01-preview\"\n",
    "openai.api_key = os.getenv(\"OPENAI_API_KEY\")\n",
    "engine = \"decile-gpt-35-turbo-16k\"\n",
    "\n",
    "\n",
    "\n",
    "message_text = [{\"role\":\"system\",\"content\":f\"You are a physician that is reviewing a patient's medical record during their stay in your ward: {service_prompts.iloc[1]['careunit']} and writing progress notes based on this information\"},]\n",
    "\n",
    "deprescribe_prompt = {\"role\":\"user\",\n",
    "                 \"content\":service_prompts['service_prompts'].iloc[1]}\n",
    "\n",
    "\n",
    "message_text.append(deprescribe_prompt)\n",
    "print(f\"Deprescribe Prompt: {message_text}\")\n",
    "\n",
    "completion = openai.ChatCompletion.create(\n",
    "  engine=engine,\n",
    "  messages = message_text,\n",
    ")\n"
   ]
  },
  {
   "cell_type": "code",
   "execution_count": 46,
   "id": "1342f0e3-1996-4f26-b6d1-ac844d7394c2",
   "metadata": {},
   "outputs": [
    {
     "name": "stdout",
     "output_type": "stream",
     "text": [
      "Patient Name: [Patient's Name]\n",
      "Date: [Current Date]\n",
      "\n",
      "Subjective:\n",
      "The patient, a 29-year-old male, was transferred to the Med/Surg/GYN ward on [Transfer Date]. He presented initially to the ED with complaints of abdominal discomfort. Throughout his hospital stay, the patient has been diagnosed with multiple medical conditions, including a malignant neoplasm of the rectosigmoid junction, nutritional marasmus, other specified intestinal obstruction, hydronephrosis, a body mass index less than 19, a personal history of malignant neoplasm of the large intestine, a stricture or kinking of the ureter, iron deficiency anemia, unspecified, and essential thrombocythemia.\n",
      "\n",
      "Objective:\n",
      "During the patient's hospitalization in the Med/Surg/GYN ward from [Start Date] to [End Date], the following procedures were performed: [List procedures performed in order of priority].\n",
      "\n",
      "The patient was started on several medications during their stay. [List medications prescribed in chronological order].\n",
      "\n",
      "Assessment:\n",
      "1. Malignant neoplasm of rectosigmoid junction: The patient has been diagnosed with this malignancy, and an appropriate treatment plan has been initiated.\n",
      "2. Nutritional marasmus: The patient's nutritional status is poor, likely contributing to his overall health issues. Nutritional support and counseling have been provided.\n",
      "3. Other specified intestinal obstruction: Treatment for intestinal obstruction has been initiated and is being closely monitored.\n",
      "4. Hydronephrosis: The patient's condition of hydronephrosis has been assessed and appropriate management is underway.\n",
      "5. Body Mass Index less than 19, adult: The patient's low BMI indicates severe malnutrition and necessitates nutritional intervention.\n",
      "6. Personal history of malignant neoplasm of large intestine: This prior medical history is relevant to the patient's current condition and plan of care.\n",
      "7. Stricture or kinking of the ureter: Adequate measures are being taken to address the patient's ureteral stricture or kinking.\n",
      "8. Iron deficiency anemia, unspecified: Investigations are ongoing to determine the underlying cause of the patient's iron deficiency anemia.\n",
      "9. Essential thrombocythemia: Appropriate management strategies are being employed to address the patient's essential thrombocythemia.\n",
      "\n",
      "Plan:\n",
      "1. Continue with the ongoing treatment plan for the diagnosed malignant neoplasm of the rectosigmoid junction.\n",
      "2. Monitor and manage the nutritional marasmus, working closely with the nutritionist to optimize the patient's nutritional intake.\n",
      "3. Maintain close monitoring of the intestinal obstruction and adjust treatment accordingly.\n",
      "4. Implement appropriate measures to address the patient's hydronephrosis, considering the need for urologic intervention if required.\n",
      "5. Provide ongoing support and interventions to improve the patient's body mass index.\n",
      "6. Incorporate the patient's personal history of malignant neoplasm of the large intestine into the treatment plan.\n",
      "7. Address the patient's ureteral stricture or kinking as indicated by the urology team.\n",
      "8. Investigate the underlying cause of the patient's iron deficiency anemia and establish an appropriate treatment plan.\n",
      "9. Continue managing the patient's essential thrombocythemia, ensuring close monitoring of platelet levels and adjusting therapy as necessary.\n",
      "\n",
      "It is anticipated that the patient will require ongoing multidisciplinary care to address the complex nature of their medical conditions. Close coordination with the gastroenterology, urology, and hematology teams will be maintained to optimize the patient's treatment outcomes.\n",
      "\n",
      "Signed: [Physician Name]\n",
      "Date: [Current Date]\n"
     ]
    }
   ],
   "source": [
    "print(completion['choices'][0]['message']['content'])"
   ]
  },
  {
   "cell_type": "code",
   "execution_count": null,
   "id": "d8daa04f-a3e6-4fd8-8eba-f8c1a2eb0319",
   "metadata": {},
   "outputs": [],
   "source": []
  }
 ],
 "metadata": {
  "kernelspec": {
   "display_name": "Python 3 (ipykernel)",
   "language": "python",
   "name": "python3"
  },
  "language_info": {
   "codemirror_mode": {
    "name": "ipython",
    "version": 3
   },
   "file_extension": ".py",
   "mimetype": "text/x-python",
   "name": "python",
   "nbconvert_exporter": "python",
   "pygments_lexer": "ipython3",
   "version": "3.10.13"
  }
 },
 "nbformat": 4,
 "nbformat_minor": 5
}
