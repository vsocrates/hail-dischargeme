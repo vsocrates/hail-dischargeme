{
 "cells": [
  {
   "cell_type": "markdown",
   "id": "39bdf4b8-cbcb-4289-a9df-3f95971752a7",
   "metadata": {},
   "source": [
    "# Initial Tests"
   ]
  },
  {
   "cell_type": "code",
   "execution_count": null,
   "id": "33c960e0",
   "metadata": {},
   "outputs": [],
   "source": [
    "import pandas as pd\n",
    "import ast\n",
    "import numpy as np\n",
    "\n",
    "from tqdm import tqdm\n",
    "# from tqdm.auto import tqdm  # for notebooks\n",
    "tqdm.pandas()\n",
    "\n",
    "import os\n",
    "import openai"
   ]
  },
  {
   "cell_type": "code",
   "execution_count": null,
   "id": "f1bb5f11-308e-4475-ad04-944330028e68",
   "metadata": {},
   "outputs": [],
   "source": [
    "from dotenv import load_dotenv\n",
    "load_dotenv()  # take environment variables from .env."
   ]
  },
  {
   "cell_type": "code",
   "execution_count": null,
   "id": "a5b443f2",
   "metadata": {},
   "outputs": [],
   "source": [
    "# preprocessed file from Thomas\n",
    "transfers_events = pd.read_csv('/gpfs/milgram/project/rtaylor/shared/DischargeMe/combined_data_export.csv')"
   ]
  },
  {
   "cell_type": "code",
   "execution_count": null,
   "id": "c9ca30ac",
   "metadata": {},
   "outputs": [],
   "source": [
    "# bunch of nan rows\n",
    "transfers_events = transfers_events[~transfers_events['stay_id'].isna() & ~transfers_events['hadm_id'].isna()]\n"
   ]
  },
  {
   "cell_type": "code",
   "execution_count": null,
   "id": "4e623c22",
   "metadata": {},
   "outputs": [],
   "source": [
    "# grab subject IDs\n",
    "transfers_events = transfers_events.merge(edstays[['stay_id', \"subject_id\"]], on=\"stay_id\", how=\"left\")"
   ]
  },
  {
   "cell_type": "code",
   "execution_count": null,
   "id": "c8d316ba",
   "metadata": {},
   "outputs": [],
   "source": [
    "# discharge summaries\n",
    "discharges = pd.read_csv(\"/gpfs/milgram/project/rtaylor/shared/DischargeMe/public/train/discharge.csv.gz\")\n",
    "\n",
    "# ed stays\n",
    "edstays = pd.read_csv('/gpfs/milgram/project/rtaylor/shared/DischargeMe/public/train/edstays.csv.gz')\n",
    "\n",
    "# triage\n",
    "triage = pd.read_csv('/gpfs/milgram/project/rtaylor/shared/DischargeMe/public/train/triage.csv.gz')"
   ]
  },
  {
   "cell_type": "code",
   "execution_count": null,
   "id": "f75e641a-31a6-4441-a4d6-24b66839595e",
   "metadata": {},
   "outputs": [],
   "source": [
    "triage.stay_id.nunique(), triage.subject_id.nunique(), triage.shape"
   ]
  },
  {
   "cell_type": "code",
   "execution_count": null,
   "id": "e326dcdc",
   "metadata": {},
   "outputs": [],
   "source": [
    "# ward transfers\n",
    "transfers = pd.read_csv('/gpfs/milgram/project/rtaylor/shared/DischargeMe/mimiciv/hosp/transfers.csv.gz')\n",
    "\n",
    "# higher-level services (ICU, CARD, etc)\n",
    "services = pd.read_csv('/gpfs/milgram/project/rtaylor/shared/DischargeMe/mimiciv/hosp/services.csv.gz')\n",
    "\n",
    "# get patient info\n",
    "pts = pd.read_csv('/gpfs/milgram/project/rtaylor/shared/DischargeMe/mimiciv/hosp/patients.csv.gz')\n",
    "\n",
    "# admission demographics\n",
    "admissions = pd.read_csv('/gpfs/milgram/project/rtaylor/shared/DischargeMe/mimiciv/hosp/admissions.csv.gz')\n",
    "\n",
    "# procedures\n",
    "procs = pd.read_csv('/gpfs/milgram/project/rtaylor/shared/DischargeMe/mimiciv/hosp/procedures_icd.csv.gz')\n",
    "procs_icd = pd.read_csv('/gpfs/milgram/project/rtaylor/shared/DischargeMe/mimiciv/hosp/d_icd_procedures.csv.gz')\n",
    "\n",
    "# diagnoses\n",
    "diags = pd.read_csv('/gpfs/milgram/project/rtaylor/shared/DischargeMe/mimiciv/hosp/diagnoses_icd.csv.gz')\n",
    "diags_icd = pd.read_csv('/gpfs/milgram/project/rtaylor/shared/DischargeMe/mimiciv/hosp/d_icd_diagnoses.csv.gz')\n",
    "\n",
    "# meds\n",
    "med_orders = pd.read_csv('/gpfs/milgram/project/rtaylor/shared/DischargeMe/mimiciv/hosp/emar.csv.gz')\n"
   ]
  },
  {
   "cell_type": "code",
   "execution_count": null,
   "id": "3efc00e6",
   "metadata": {},
   "outputs": [],
   "source": [
    "med_orders = med_orders[~med_orders['charttime'].isna() & \n",
    "                        ~med_orders['medication'].isna() & \n",
    "                        ~med_orders['event_txt'].isna()]"
   ]
  },
  {
   "cell_type": "code",
   "execution_count": null,
   "id": "9f6232b2",
   "metadata": {},
   "outputs": [],
   "source": [
    "procs = procs.astype({\"chartdate\":\"datetime64[ns]\"})\n",
    "med_orders = med_orders.astype({\"charttime\":\"datetime64[ns]\",\n",
    "                  \"scheduletime\":\"datetime64[ns]\",\n",
    "                  \"storetime\":\"datetime64[ns]\",})\n",
    "\n",
    "discharges = discharges.astype({\"charttime\":\"datetime64[ns]\",\n",
    "                               \"storetime\":\"datetime64[ns]\"})"
   ]
  },
  {
   "cell_type": "code",
   "execution_count": null,
   "id": "dcf9101e-7629-448a-86ac-8a73e0b3f07c",
   "metadata": {},
   "outputs": [],
   "source": [
    "# are there multiple icd code mappings? \n",
    "procs_icd.shape, procs_icd.icd_code.nunique()\n",
    "# looks like only for the two versions of ICD"
   ]
  },
  {
   "cell_type": "code",
   "execution_count": null,
   "id": "fcf68498-fd13-43ae-b775-cfaf34bc3142",
   "metadata": {},
   "outputs": [],
   "source": [
    "procs_icd[procs_icd['icd_code'] == \"067\"]"
   ]
  },
  {
   "cell_type": "code",
   "execution_count": null,
   "id": "67f9daea",
   "metadata": {},
   "outputs": [],
   "source": [
    "# drop any potential repeats\n",
    "procs_icd = procs_icd.groupby([\"icd_code\", \"icd_version\"]).first().reset_index()\n",
    "diags_icd = diags_icd.groupby([\"icd_code\", \"icd_version\"]).first().reset_index()"
   ]
  },
  {
   "cell_type": "code",
   "execution_count": null,
   "id": "42f92651-5a47-4aa4-b845-6a6193ebe4ef",
   "metadata": {},
   "outputs": [],
   "source": [
    "# grab long_titles for procs/diags\n",
    "procs = procs.merge(procs_icd, on=[\"icd_code\", \"icd_version\"], how=\"left\")\n",
    "diags = diags.merge(diags_icd, on=[\"icd_code\", \"icd_version\"], how=\"left\")"
   ]
  },
  {
   "cell_type": "code",
   "execution_count": null,
   "id": "be3786d3",
   "metadata": {},
   "outputs": [],
   "source": [
    "\n",
    "# why would someone have multiple ED stays for the same admission?\n",
    "# looks like they came and left the ED multiple times during the course of their hospital course? \n",
    "transfers_events[transfers_events['hadm_id'] == 23880210].iloc[0]['careunit']"
   ]
  },
  {
   "cell_type": "code",
   "execution_count": null,
   "id": "7ebbd17a-71eb-429d-a0cf-10b9995ac3ea",
   "metadata": {},
   "outputs": [],
   "source": [
    "transfers[transfers['hadm_id'] == 29999828].sort_values(\"intime\")[['intime',\"outtime\",'careunit']]"
   ]
  },
  {
   "cell_type": "markdown",
   "id": "86837377-1e7c-4371-9e16-2e05fbdfcb66",
   "metadata": {},
   "source": [
    "# Subset Data by Challenge Cohort"
   ]
  },
  {
   "cell_type": "markdown",
   "id": "9c18ff3c-9373-4121-98ca-c212de7c11e4",
   "metadata": {},
   "source": [
    "## Read in Challenge Data"
   ]
  },
  {
   "cell_type": "code",
   "execution_count": null,
   "id": "3153079c-cc2a-46c0-acfd-abdee897d2bf",
   "metadata": {},
   "outputs": [],
   "source": [
    "import pandas as pd"
   ]
  },
  {
   "cell_type": "code",
   "execution_count": null,
   "id": "e461add1-098d-4c10-8dac-0f764a699839",
   "metadata": {},
   "outputs": [],
   "source": [
    "challenge_data_fp = \"/gpfs/milgram/project/rtaylor/shared/DischargeMe/public/\"\n"
   ]
  },
  {
   "cell_type": "code",
   "execution_count": null,
   "id": "ccc1fbe2-6214-42a6-9987-ceef09d73ee9",
   "metadata": {},
   "outputs": [],
   "source": [
    "target_train = pd.read_csv(challenge_data_fp + \"train/discharge_target.csv.gz\", keep_default_na=False)\n",
    "target_valid = pd.read_csv(challenge_data_fp + \"valid/discharge_target.csv.gz\", keep_default_na=False)\n",
    "target_test = pd.read_csv(challenge_data_fp + \"test_phase_1/discharge_target.csv.gz\", keep_default_na=False)\n"
   ]
  },
  {
   "cell_type": "code",
   "execution_count": null,
   "id": "91fd4e08-89ba-4108-9799-6dfa1b09a21d",
   "metadata": {},
   "outputs": [],
   "source": [
    "target_train"
   ]
  },
  {
   "cell_type": "code",
   "execution_count": null,
   "id": "5f410351-9386-4202-96b2-d4e360a17ee6",
   "metadata": {},
   "outputs": [],
   "source": [
    "target_train = pd.read_csv(challenge_data_fp + \"train/discharge_target.csv.gz\", keep_default_na=False)\n",
    "target_valid = pd.read_csv(challenge_data_fp + \"valid/discharge_target.csv.gz\", keep_default_na=False)\n",
    "target_test = pd.read_csv(challenge_data_fp + \"test_phase_1/discharge_target.csv.gz\", keep_default_na=False)\n",
    "\n",
    "discharge_summ_train = pd.read_csv(challenge_data_fp + \"train/discharge.csv.gz\", keep_default_na=False)\n",
    "discharge_summ_valid = pd.read_csv(challenge_data_fp + \"valid/discharge.csv.gz\", keep_default_na=False)\n",
    "discharge_summ_test = pd.read_csv(challenge_data_fp + \"test_phase_1/discharge.csv.gz\", keep_default_na=False)\n",
    "\n",
    "radiology_train = pd.read_csv(challenge_data_fp + \"train/radiology.csv.gz\", keep_default_na=False)\n",
    "radiology_valid = pd.read_csv(challenge_data_fp + \"valid/radiology.csv.gz\", keep_default_na=False)\n",
    "radiology_test = pd.read_csv(challenge_data_fp + \"test_phase_1/radiology.csv.gz\", keep_default_na=False)\n",
    "\n",
    "edstay_train = pd.read_csv(challenge_data_fp + \"train/edstays.csv.gz\", keep_default_na=False)\n",
    "edstay_valid = pd.read_csv(challenge_data_fp + \"valid/edstays.csv.gz\", keep_default_na=False)\n",
    "edstay_test = pd.read_csv(challenge_data_fp + \"test_phase_1/edstays.csv.gz\", keep_default_na=False)\n",
    "\n",
    "edtriage_train = pd.read_csv(challenge_data_fp + \"train/triage.csv.gz\", keep_default_na=False)\n",
    "edtriage_valid = pd.read_csv(challenge_data_fp + \"valid/triage.csv.gz\", keep_default_na=False)\n",
    "edtriage_test = pd.read_csv(challenge_data_fp + \"test_phase_1/triage.csv.gz\", keep_default_na=False)\n",
    "\n",
    "eddiags_train = pd.read_csv(challenge_data_fp + \"train/diagnosis.csv.gz\", keep_default_na=False)\n",
    "eddiags_valid = pd.read_csv(challenge_data_fp + \"valid/diagnosis.csv.gz\", keep_default_na=False)\n",
    "eddiags_test = pd.read_csv(challenge_data_fp + \"test_phase_1/diagnosis.csv.gz\", keep_default_na=False)"
   ]
  },
  {
   "cell_type": "code",
   "execution_count": null,
   "id": "346291b9-ba3d-4fd3-bc82-3c1ce9a54104",
   "metadata": {},
   "outputs": [],
   "source": [
    "target_train['split'] = \"train\"\n",
    "target_valid['split'] = \"valid\"\n",
    "target_test['split'] = \"test\"\n",
    "discharge_summ_train['split'] = \"train\"\n",
    "discharge_summ_valid['split'] = \"valid\"\n",
    "discharge_summ_test['split'] = \"test\"\n",
    "radiology_train['split'] = \"train\"\n",
    "radiology_valid['split'] = \"valid\"\n",
    "radiology_test['split'] = \"test\"\n",
    "edstay_train['split'] = \"train\"\n",
    "edstay_valid['split'] = \"valid\"\n",
    "edstay_test['split'] = \"test\"\n",
    "edtriage_train['split'] = \"train\"\n",
    "edtriage_valid['split'] = \"valid\"\n",
    "edtriage_test['split'] = \"test\"\n",
    "eddiags_train['split'] = \"train\"\n",
    "eddiags_valid['split'] = \"valid\"\n",
    "eddiags_test['split'] = \"test\""
   ]
  },
  {
   "cell_type": "code",
   "execution_count": null,
   "id": "31a15f6a-9cc4-4747-80b0-4b5dd5a94670",
   "metadata": {},
   "outputs": [],
   "source": [
    "target = pd.concat([target_train, target_valid, target_test])\n",
    "discharge_summ = pd.concat([discharge_summ_train, discharge_summ_valid, discharge_summ_test])\n",
    "radiology = pd.concat([radiology_train, radiology_valid, radiology_test])\n",
    "edstay = pd.concat([edstay_train, edstay_valid, edstay_test])\n",
    "edtriage = pd.concat([edtriage_train, edtriage_valid, edtriage_test])\n",
    "eddiags = pd.concat([eddiags_train, eddiags_valid, eddiags_test])"
   ]
  },
  {
   "cell_type": "code",
   "execution_count": null,
   "id": "62c46bb4-da91-4a05-9988-f323daf3906d",
   "metadata": {},
   "outputs": [],
   "source": [
    "target = target.reset_index()\n",
    "discharge_summ = discharge_summ.reset_index()\n",
    "radiology = radiology.reset_index()\n",
    "edstay = edstay.reset_index()\n",
    "edtriage = edtriage.reset_index()\n",
    "eddiags = eddiags.reset_index()"
   ]
  },
  {
   "cell_type": "markdown",
   "id": "1f5c5fe1-7361-4186-b198-1ece7cbb109e",
   "metadata": {},
   "source": [
    "## Read in MIMIC-IV Data"
   ]
  },
  {
   "cell_type": "code",
   "execution_count": null,
   "id": "329231eb-dc00-4d7f-b4a0-8e9fd6287190",
   "metadata": {
    "editable": true,
    "papermill": {
     "duration": 10.779288,
     "end_time": "2024-03-23T07:52:42.650756",
     "exception": false,
     "start_time": "2024-03-23T07:52:31.871468",
     "status": "completed"
    },
    "slideshow": {
     "slide_type": ""
    },
    "tags": []
   },
   "outputs": [],
   "source": [
    "# ward transfers\n",
    "transfers = pd.read_csv('/gpfs/milgram/project/rtaylor/shared/DischargeMe/mimiciv/hosp/transfers.csv.gz')\n",
    "\n",
    "# higher-level services (ICU, CARD, etc)\n",
    "services = pd.read_csv('/gpfs/milgram/project/rtaylor/shared/DischargeMe/mimiciv/hosp/services.csv.gz')\n",
    "\n",
    "# get patient info\n",
    "pts = pd.read_csv('/gpfs/milgram/project/rtaylor/shared/DischargeMe/mimiciv/hosp/patients.csv.gz')\n",
    "\n",
    "# admission demographics\n",
    "admissions = pd.read_csv('/gpfs/milgram/project/rtaylor/shared/DischargeMe/mimiciv/hosp/admissions.csv.gz')\n",
    "\n",
    "# procedures\n",
    "procs = pd.read_csv('/gpfs/milgram/project/rtaylor/shared/DischargeMe/mimiciv/hosp/procedures_icd.csv.gz')\n",
    "procs_icd = pd.read_csv('/gpfs/milgram/project/rtaylor/shared/DischargeMe/mimiciv/hosp/d_icd_procedures.csv.gz')\n",
    "\n",
    "# diagnoses\n",
    "diags = pd.read_csv('/gpfs/milgram/project/rtaylor/shared/DischargeMe/mimiciv/hosp/diagnoses_icd.csv.gz')\n",
    "diags_icd = pd.read_csv('/gpfs/milgram/project/rtaylor/shared/DischargeMe/mimiciv/hosp/d_icd_diagnoses.csv.gz')\n",
    "\n",
    "# meds\n",
    "med_orders = pd.read_csv('/gpfs/milgram/project/rtaylor/shared/DischargeMe/mimiciv/hosp/emar.csv.gz')\n"
   ]
  },
  {
   "cell_type": "code",
   "execution_count": null,
   "id": "4f134adb-ea95-499f-8cfa-e2fc9e9c551b",
   "metadata": {
    "papermill": {
     "duration": null,
     "end_time": null,
     "exception": null,
     "start_time": null,
     "status": "pending"
    },
    "tags": []
   },
   "outputs": [],
   "source": [
    "# drop any potential repeats\n",
    "procs_icd = procs_icd.groupby([\"icd_code\", \"icd_version\"]).first().reset_index()\n",
    "diags_icd = diags_icd.groupby([\"icd_code\", \"icd_version\"]).first().reset_index()"
   ]
  },
  {
   "cell_type": "code",
   "execution_count": null,
   "id": "65f7bdcd-3fd7-431e-8632-d122196b0481",
   "metadata": {
    "papermill": {
     "duration": null,
     "end_time": null,
     "exception": null,
     "start_time": null,
     "status": "pending"
    },
    "tags": []
   },
   "outputs": [],
   "source": [
    "# grab long_titles for procs/diags\n",
    "procs = procs.merge(procs_icd, on=[\"icd_code\", \"icd_version\"], how=\"left\")\n",
    "diags = diags.merge(diags_icd, on=[\"icd_code\", \"icd_version\"], how=\"left\")"
   ]
  },
  {
   "cell_type": "code",
   "execution_count": null,
   "id": "64446cd4-e67f-4c92-b460-85112eea2934",
   "metadata": {
    "editable": true,
    "papermill": {
     "duration": null,
     "end_time": null,
     "exception": null,
     "start_time": null,
     "status": "pending"
    },
    "slideshow": {
     "slide_type": ""
    },
    "tags": []
   },
   "outputs": [],
   "source": [
    "prescriptions = pd.read_csv('/gpfs/milgram/project/rtaylor/shared/DischargeMe/mimiciv/hosp/prescriptions.csv.gz')\n",
    "labs = pd.read_csv('/gpfs/milgram/project/rtaylor/shared/DischargeMe/mimiciv/hosp/labevents.csv.gz')\n",
    "microbio = pd.read_csv('/gpfs/milgram/project/rtaylor/shared/DischargeMe/mimiciv/hosp/microbiologyevents.csv.gz')"
   ]
  },
  {
   "cell_type": "code",
   "execution_count": null,
   "id": "c275e071-2cdb-4d26-ae8f-41b3e93bafb6",
   "metadata": {
    "papermill": {
     "duration": null,
     "end_time": null,
     "exception": null,
     "start_time": null,
     "status": "pending"
    },
    "tags": []
   },
   "outputs": [],
   "source": [
    "labs_icd = pd.read_csv(\"/gpfs/milgram/project/rtaylor/shared/DischargeMe/mimiciv/hosp/d_labitems.csv.gz\")"
   ]
  },
  {
   "cell_type": "code",
   "execution_count": null,
   "id": "e3b252ae-02fc-4312-a246-36475c3ae6b1",
   "metadata": {
    "editable": true,
    "papermill": {
     "duration": null,
     "end_time": null,
     "exception": null,
     "start_time": null,
     "status": "pending"
    },
    "slideshow": {
     "slide_type": ""
    },
    "tags": []
   },
   "outputs": [],
   "source": [
    "labs = labs.merge(labs_icd, on=\"itemid\", how=\"left\")"
   ]
  },
  {
   "cell_type": "markdown",
   "id": "9b2c1828-97f1-4148-a334-c7d8c8c6bed1",
   "metadata": {},
   "source": [
    "## Subset"
   ]
  },
  {
   "cell_type": "code",
   "execution_count": null,
   "id": "137a7166-45cb-4720-a0b7-0956eb1d6e6f",
   "metadata": {},
   "outputs": [],
   "source": [
    "cohort_subject_ids = edstay['subject_id'].unique()\n",
    "cohort_hadm_ids = edstay['hadm_id'].unique()\n",
    "cohort_stay_ids = edstay['stay_id'].unique()"
   ]
  },
  {
   "cell_type": "code",
   "execution_count": null,
   "id": "f8c3654c-15e0-45c5-9d1c-78f37b24313c",
   "metadata": {},
   "outputs": [],
   "source": [
    "len(cohort_subject_ids), len(cohort_hadm_ids), len(cohort_stay_ids)"
   ]
  },
  {
   "cell_type": "code",
   "execution_count": null,
   "id": "8270f404-4e30-41cd-8b87-597dbb9ab4e9",
   "metadata": {},
   "outputs": [],
   "source": [
    "transfers = transfers[transfers['subject_id'].isin(cohort_subject_ids)]\n",
    "services = services[services['subject_id'].isin(cohort_subject_ids)]\n",
    "pts = pts[pts['subject_id'].isin(cohort_subject_ids)]\n",
    "admissions = admissions[admissions['hadm_id'].isin(cohort_hadm_ids)]\n",
    "med_orders = med_orders[med_orders['subject_id'].isin(cohort_subject_ids)]\n",
    "procs = procs[procs['hadm_id'].isin(cohort_hadm_ids)]\n",
    "diags = diags[diags['hadm_id'].isin(cohort_hadm_ids)]\n",
    "prescriptions = prescriptions[prescriptions['hadm_id'].isin(cohort_hadm_ids)]\n",
    "labs = labs[labs['subject_id'].isin(cohort_subject_ids)]\n",
    "microbio = microbio[microbio['subject_id'].isin(cohort_subject_ids)]"
   ]
  },
  {
   "cell_type": "code",
   "execution_count": null,
   "id": "97a27a8b-0d33-41f9-adec-5d5e6908a3a0",
   "metadata": {},
   "outputs": [],
   "source": [
    "transfers.to_pickle('/gpfs/milgram/project/rtaylor/shared/DischargeMe/mimiciv/hosp/cohort_transfers.pkl')\n",
    "services.to_pickle('/gpfs/milgram/project/rtaylor/shared/DischargeMe/mimiciv/hosp/cohort_services.pkl')\n",
    "pts.to_pickle('/gpfs/milgram/project/rtaylor/shared/DischargeMe/mimiciv/hosp/cohort_patients.pkl')\n",
    "admissions.to_pickle('/gpfs/milgram/project/rtaylor/shared/DischargeMe/mimiciv/hosp/cohort_admissions.pkl')\n",
    "med_orders.to_pickle('/gpfs/milgram/project/rtaylor/shared/DischargeMe/mimiciv/hosp/cohort_emar.pkl')\n",
    "procs.to_pickle('/gpfs/milgram/project/rtaylor/shared/DischargeMe/mimiciv/hosp/cohort_procedures_icd.pkl')\n",
    "diags.to_pickle('/gpfs/milgram/project/rtaylor/shared/DischargeMe/mimiciv/hosp/cohort_diagnoses_icd.pkl')\n",
    "prescriptions.to_pickle('/gpfs/milgram/project/rtaylor/shared/DischargeMe/mimiciv/hosp/cohort_prescriptions.pkl')\n",
    "labs.to_pickle('/gpfs/milgram/project/rtaylor/shared/DischargeMe/mimiciv/hosp/cohort_labevents.pkl')\n",
    "microbio.to_pickle('/gpfs/milgram/project/rtaylor/shared/DischargeMe/mimiciv/hosp/cohort_microbiologyevents.pkl')"
   ]
  },
  {
   "cell_type": "code",
   "execution_count": null,
   "id": "0f50415d-8e2d-4919-827f-edae6d45fa4b",
   "metadata": {},
   "outputs": [],
   "source": []
  }
 ],
 "metadata": {
  "kernelspec": {
   "display_name": "Python 3 (ipykernel)",
   "language": "python",
   "name": "python3"
  },
  "language_info": {
   "codemirror_mode": {
    "name": "ipython",
    "version": 3
   },
   "file_extension": ".py",
   "mimetype": "text/x-python",
   "name": "python",
   "nbconvert_exporter": "python",
   "pygments_lexer": "ipython3",
   "version": "3.12.2"
  },
  "widgets": {
   "application/vnd.jupyter.widget-state+json": {
    "state": {},
    "version_major": 2,
    "version_minor": 0
   }
  }
 },
 "nbformat": 4,
 "nbformat_minor": 5
}
