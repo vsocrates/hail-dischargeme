{
 "cells": [
  {
   "cell_type": "markdown",
   "id": "8201b927-ffb6-4ec5-9e7c-6ce39b89804f",
   "metadata": {},
   "source": [
    "# Brief Hospital Course Generation\n",
    "\n",
    "This notebook performs step 2 of the Brief Hospital Course pipeline, in which we generate a brief hospital course from a set of service-level SOAP notes passed into a GPT-3.5 model. "
   ]
  },
  {
   "cell_type": "code",
   "execution_count": 3,
   "id": "47f4516e-b3cb-4179-982e-f783e7cc1514",
   "metadata": {},
   "outputs": [],
   "source": [
    "import pandas as pd\n",
    "import ast\n",
    "import numpy as np\n",
    "\n",
    "from tqdm import tqdm\n",
    "# from tqdm.auto import tqdm  # for notebooks\n",
    "tqdm.pandas()\n",
    "\n",
    "import os\n",
    "import openai"
   ]
  },
  {
   "cell_type": "code",
   "execution_count": 4,
   "id": "a3beef81-0897-454d-ba25-bff5bb47fa3e",
   "metadata": {},
   "outputs": [
    {
     "data": {
      "text/plain": [
       "True"
      ]
     },
     "execution_count": 4,
     "metadata": {},
     "output_type": "execute_result"
    }
   ],
   "source": [
    "from dotenv import load_dotenv\n",
    "load_dotenv()  # take environment variables from .env."
   ]
  },
  {
   "cell_type": "markdown",
   "id": "b0c5da71-ea5e-499d-89ed-510541e2f6d8",
   "metadata": {},
   "source": [
    "## Read in GPT-Generated SOAP Notes"
   ]
  },
  {
   "cell_type": "code",
   "execution_count": 5,
   "id": "e2823bcb-3e33-4e9c-90e8-b2388b8c652c",
   "metadata": {},
   "outputs": [],
   "source": [
    "soap_notes = pd.read_csv(\"soap_note_sample.csv\")"
   ]
  },
  {
   "cell_type": "markdown",
   "id": "3bed84bf-c057-48f3-82e9-aa4ca381ce39",
   "metadata": {},
   "source": [
    "## Read in Radiology Reports"
   ]
  },
  {
   "cell_type": "code",
   "execution_count": 6,
   "id": "e61e5e2e-abb1-4c55-8ad4-3a021195ac56",
   "metadata": {},
   "outputs": [],
   "source": [
    "radiology = pd.read_csv(\"/gpfs/milgram/project/rtaylor/shared/DischargeMe/public/train/radiology.csv.gz\")"
   ]
  },
  {
   "cell_type": "markdown",
   "id": "c2754157-fa3a-448b-9f8e-79b42c5b94dd",
   "metadata": {},
   "source": [
    "## Read in Encounter-Level Structured Data"
   ]
  },
  {
   "cell_type": "code",
   "execution_count": 7,
   "id": "f3d29f00-43fb-4b8a-bfac-dc45246dd6c3",
   "metadata": {},
   "outputs": [],
   "source": [
    "# discharge summaries\n",
    "discharges = pd.read_csv(\"/gpfs/milgram/project/rtaylor/shared/DischargeMe/public/train/discharge.csv.gz\")\n",
    "\n",
    "# ed stays\n",
    "edstays = pd.read_csv('/gpfs/milgram/project/rtaylor/shared/DischargeMe/public/train/edstays.csv.gz')\n",
    "\n",
    "# triage\n",
    "triage = pd.read_csv('/gpfs/milgram/project/rtaylor/shared/DischargeMe/public/train/triage.csv.gz')\n",
    "\n",
    "# ward transfers\n",
    "transfers = pd.read_csv('/gpfs/milgram/project/rtaylor/shared/DischargeMe/mimiciv/hosp/transfers.csv.gz')\n",
    "\n",
    "# higher-level services (ICU, CARD, etc)\n",
    "services = pd.read_csv('/gpfs/milgram/project/rtaylor/shared/DischargeMe/mimiciv/hosp/services.csv.gz')\n",
    "\n",
    "# get patient info\n",
    "pts = pd.read_csv('/gpfs/milgram/project/rtaylor/shared/DischargeMe/mimiciv/hosp/patients.csv.gz')\n",
    "\n",
    "# admission demographics\n",
    "admissions = pd.read_csv('/gpfs/milgram/project/rtaylor/shared/DischargeMe/mimiciv/hosp/admissions.csv.gz')"
   ]
  },
  {
   "cell_type": "code",
   "execution_count": 44,
   "id": "5c888685-988c-4897-b34f-6ef21d677dca",
   "metadata": {},
   "outputs": [],
   "source": [
    "\n",
    "# diagnoses\n",
    "diags = pd.read_csv('/gpfs/milgram/project/rtaylor/shared/DischargeMe/mimiciv/hosp/diagnoses_icd.csv.gz')\n",
    "diags_icd = pd.read_csv('/gpfs/milgram/project/rtaylor/shared/DischargeMe/mimiciv/hosp/d_icd_diagnoses.csv.gz')\n"
   ]
  },
  {
   "cell_type": "code",
   "execution_count": 45,
   "id": "a6305b70-cece-4af7-b895-c53ef387a8b3",
   "metadata": {},
   "outputs": [],
   "source": [
    "# drop any potential repeats\n",
    "diags_icd = diags_icd.groupby([\"icd_code\", \"icd_version\"]).first().reset_index()\n",
    "\n",
    "# grab long_titles for procs/diags\n",
    "\n",
    "diags = diags.merge(diags_icd, on=[\"icd_code\", \"icd_version\"], how=\"left\")"
   ]
  },
  {
   "cell_type": "code",
   "execution_count": 72,
   "id": "f2f7ffad-ff89-4874-bcfa-c28c0215bec9",
   "metadata": {},
   "outputs": [],
   "source": []
  },
  {
   "cell_type": "markdown",
   "id": "634a8b4d-3160-448b-b438-98dc96af4335",
   "metadata": {},
   "source": [
    "### Clean up/type cast data"
   ]
  },
  {
   "cell_type": "code",
   "execution_count": 8,
   "id": "f9f637d2-fb88-4f4e-91ec-5ce68edba838",
   "metadata": {},
   "outputs": [],
   "source": [
    "discharges = discharges.astype({\"charttime\":\"datetime64[ns]\",\n",
    "                               \"storetime\":\"datetime64[ns]\"})"
   ]
  },
  {
   "cell_type": "markdown",
   "id": "48101bf9-6b84-4e65-97c8-7aac60b57e13",
   "metadata": {},
   "source": [
    "### Define Extraction Functions"
   ]
  },
  {
   "cell_type": "code",
   "execution_count": 13,
   "id": "953bd8e1-6e1c-43e5-b159-a3870efd29e1",
   "metadata": {},
   "outputs": [
    {
     "data": {
      "text/html": [
       "<div>\n",
       "<style scoped>\n",
       "    .dataframe tbody tr th:only-of-type {\n",
       "        vertical-align: middle;\n",
       "    }\n",
       "\n",
       "    .dataframe tbody tr th {\n",
       "        vertical-align: top;\n",
       "    }\n",
       "\n",
       "    .dataframe thead th {\n",
       "        text-align: right;\n",
       "    }\n",
       "</style>\n",
       "<table border=\"1\" class=\"dataframe\">\n",
       "  <thead>\n",
       "    <tr style=\"text-align: right;\">\n",
       "      <th></th>\n",
       "      <th>note_id</th>\n",
       "      <th>subject_id</th>\n",
       "      <th>hadm_id</th>\n",
       "      <th>note_type</th>\n",
       "      <th>note_seq</th>\n",
       "      <th>charttime</th>\n",
       "      <th>storetime</th>\n",
       "      <th>text</th>\n",
       "    </tr>\n",
       "  </thead>\n",
       "  <tbody>\n",
       "    <tr>\n",
       "      <th>0</th>\n",
       "      <td>10000032-RR-22</td>\n",
       "      <td>10000032</td>\n",
       "      <td>22841357</td>\n",
       "      <td>RR</td>\n",
       "      <td>22</td>\n",
       "      <td>2180-06-26 17:15:00</td>\n",
       "      <td>2180-06-26 19:28:00</td>\n",
       "      <td>EXAMINATION:  LIVER OR GALLBLADDER US (SINGLE ...</td>\n",
       "    </tr>\n",
       "    <tr>\n",
       "      <th>1</th>\n",
       "      <td>10000032-RR-23</td>\n",
       "      <td>10000032</td>\n",
       "      <td>22841357</td>\n",
       "      <td>RR</td>\n",
       "      <td>23</td>\n",
       "      <td>2180-06-26 17:17:00</td>\n",
       "      <td>2180-06-26 17:28:00</td>\n",
       "      <td>EXAMINATION:  CHEST (PA AND LAT)\\n\\nINDICATION...</td>\n",
       "    </tr>\n",
       "    <tr>\n",
       "      <th>2</th>\n",
       "      <td>10000117-RR-13</td>\n",
       "      <td>10000117</td>\n",
       "      <td>22927623</td>\n",
       "      <td>RR</td>\n",
       "      <td>13</td>\n",
       "      <td>2181-11-15 00:40:00</td>\n",
       "      <td>2181-11-15 07:54:00</td>\n",
       "      <td>EXAMINATION:   CHEST (PA AND LAT)\\n\\nINDICATIO...</td>\n",
       "    </tr>\n",
       "    <tr>\n",
       "      <th>3</th>\n",
       "      <td>10000117-RR-14</td>\n",
       "      <td>10000117</td>\n",
       "      <td>22927623</td>\n",
       "      <td>RR</td>\n",
       "      <td>14</td>\n",
       "      <td>2181-11-15 00:47:00</td>\n",
       "      <td>2181-11-15 01:12:00</td>\n",
       "      <td>EXAMINATION:   NECK SOFT TISSUES\\n\\nINDICATION...</td>\n",
       "    </tr>\n",
       "    <tr>\n",
       "      <th>4</th>\n",
       "      <td>10000935-RR-71</td>\n",
       "      <td>10000935</td>\n",
       "      <td>21738619</td>\n",
       "      <td>RR</td>\n",
       "      <td>71</td>\n",
       "      <td>2187-07-11 11:16:00</td>\n",
       "      <td>2187-07-11 11:42:00</td>\n",
       "      <td>HISTORY:  Recurrent vomiting, subjective fever...</td>\n",
       "    </tr>\n",
       "    <tr>\n",
       "      <th>...</th>\n",
       "      <td>...</td>\n",
       "      <td>...</td>\n",
       "      <td>...</td>\n",
       "      <td>...</td>\n",
       "      <td>...</td>\n",
       "      <td>...</td>\n",
       "      <td>...</td>\n",
       "      <td>...</td>\n",
       "    </tr>\n",
       "    <tr>\n",
       "      <th>284397</th>\n",
       "      <td>19999987-RR-17</td>\n",
       "      <td>19999987</td>\n",
       "      <td>23865745</td>\n",
       "      <td>RR</td>\n",
       "      <td>17</td>\n",
       "      <td>2145-11-02 22:37:00</td>\n",
       "      <td>2145-11-03 18:55:00</td>\n",
       "      <td>HISTORY:  ___, with left occipital bleeding.  ...</td>\n",
       "    </tr>\n",
       "    <tr>\n",
       "      <th>284398</th>\n",
       "      <td>19999987-RR-18</td>\n",
       "      <td>19999987</td>\n",
       "      <td>23865745</td>\n",
       "      <td>RR</td>\n",
       "      <td>18</td>\n",
       "      <td>2145-11-03 04:35:00</td>\n",
       "      <td>2145-11-03 10:46:00</td>\n",
       "      <td>INDICATION:  ___ female intubated for head ble...</td>\n",
       "    </tr>\n",
       "    <tr>\n",
       "      <th>284399</th>\n",
       "      <td>19999987-RR-19</td>\n",
       "      <td>19999987</td>\n",
       "      <td>23865745</td>\n",
       "      <td>RR</td>\n",
       "      <td>19</td>\n",
       "      <td>2145-11-03 16:40:00</td>\n",
       "      <td>2145-11-04 08:36:00</td>\n",
       "      <td>HISTORY:  ___ woman with left occipital hemorr...</td>\n",
       "    </tr>\n",
       "    <tr>\n",
       "      <th>284400</th>\n",
       "      <td>19999987-RR-20</td>\n",
       "      <td>19999987</td>\n",
       "      <td>23865745</td>\n",
       "      <td>RR</td>\n",
       "      <td>20</td>\n",
       "      <td>2145-11-04 05:10:00</td>\n",
       "      <td>2145-11-04 08:58:00</td>\n",
       "      <td>PORTABLE CHEST OF ___\\n\\nCOMPARISON:  ___ radi...</td>\n",
       "    </tr>\n",
       "    <tr>\n",
       "      <th>284401</th>\n",
       "      <td>19999987-RR-21</td>\n",
       "      <td>19999987</td>\n",
       "      <td>23865745</td>\n",
       "      <td>RR</td>\n",
       "      <td>21</td>\n",
       "      <td>2145-11-07 15:18:00</td>\n",
       "      <td>2145-11-08 16:44:00</td>\n",
       "      <td>DATE OF SERVICE:  ___.\\n\\nPRE-OPERATIVE DIAGNO...</td>\n",
       "    </tr>\n",
       "  </tbody>\n",
       "</table>\n",
       "<p>284402 rows × 8 columns</p>\n",
       "</div>"
      ],
      "text/plain": [
       "               note_id  subject_id   hadm_id note_type  note_seq  \\\n",
       "0       10000032-RR-22    10000032  22841357        RR        22   \n",
       "1       10000032-RR-23    10000032  22841357        RR        23   \n",
       "2       10000117-RR-13    10000117  22927623        RR        13   \n",
       "3       10000117-RR-14    10000117  22927623        RR        14   \n",
       "4       10000935-RR-71    10000935  21738619        RR        71   \n",
       "...                ...         ...       ...       ...       ...   \n",
       "284397  19999987-RR-17    19999987  23865745        RR        17   \n",
       "284398  19999987-RR-18    19999987  23865745        RR        18   \n",
       "284399  19999987-RR-19    19999987  23865745        RR        19   \n",
       "284400  19999987-RR-20    19999987  23865745        RR        20   \n",
       "284401  19999987-RR-21    19999987  23865745        RR        21   \n",
       "\n",
       "                  charttime            storetime  \\\n",
       "0       2180-06-26 17:15:00  2180-06-26 19:28:00   \n",
       "1       2180-06-26 17:17:00  2180-06-26 17:28:00   \n",
       "2       2181-11-15 00:40:00  2181-11-15 07:54:00   \n",
       "3       2181-11-15 00:47:00  2181-11-15 01:12:00   \n",
       "4       2187-07-11 11:16:00  2187-07-11 11:42:00   \n",
       "...                     ...                  ...   \n",
       "284397  2145-11-02 22:37:00  2145-11-03 18:55:00   \n",
       "284398  2145-11-03 04:35:00  2145-11-03 10:46:00   \n",
       "284399  2145-11-03 16:40:00  2145-11-04 08:36:00   \n",
       "284400  2145-11-04 05:10:00  2145-11-04 08:58:00   \n",
       "284401  2145-11-07 15:18:00  2145-11-08 16:44:00   \n",
       "\n",
       "                                                     text  \n",
       "0       EXAMINATION:  LIVER OR GALLBLADDER US (SINGLE ...  \n",
       "1       EXAMINATION:  CHEST (PA AND LAT)\\n\\nINDICATION...  \n",
       "2       EXAMINATION:   CHEST (PA AND LAT)\\n\\nINDICATIO...  \n",
       "3       EXAMINATION:   NECK SOFT TISSUES\\n\\nINDICATION...  \n",
       "4       HISTORY:  Recurrent vomiting, subjective fever...  \n",
       "...                                                   ...  \n",
       "284397  HISTORY:  ___, with left occipital bleeding.  ...  \n",
       "284398  INDICATION:  ___ female intubated for head ble...  \n",
       "284399  HISTORY:  ___ woman with left occipital hemorr...  \n",
       "284400  PORTABLE CHEST OF ___\\n\\nCOMPARISON:  ___ radi...  \n",
       "284401  DATE OF SERVICE:  ___.\\n\\nPRE-OPERATIVE DIAGNO...  \n",
       "\n",
       "[284402 rows x 8 columns]"
      ]
     },
     "execution_count": 13,
     "metadata": {},
     "output_type": "execute_result"
    }
   ],
   "source": [
    "radiology"
   ]
  },
  {
   "cell_type": "code",
   "execution_count": 14,
   "id": "c794836e-7082-4e5c-82df-3bcd18d86431",
   "metadata": {},
   "outputs": [],
   "source": [
    "# create initial input text prompt\n",
    "def get_demos(subject_id):\n",
    "    # has gender, anchor-age, date-of-death if exists\n",
    "    return pts[pts['subject_id'] == subject_id].squeeze()\n",
    "    \n",
    "def get_transfers(hadm_id):\n",
    "    return transfers[transfers['hadm_id'] == hadm_id].sort_values(\"intime\").squeeze()\n",
    "\n",
    "def get_triage_info(stay_id):\n",
    "    return triage[triage['stay_id'] == stay_id]\n",
    "    \n",
    "def get_diags(hadm_id):\n",
    "    adm_diags = diags[diags['hadm_id'] == hadm_id]\n",
    "    return adm_diags.sort_values(\"seq_num\")\n",
    "\n",
    "def get_soap_notes(hadm_id):\n",
    "    return soap_notes[soap_notes['hadm_id'] == hadm_id]\n",
    "\n",
    "def get_radiology_reports(hadm_id):\n",
    "    adm_radiology = radiology[radiology['hadm_id'] == hadm_id]\n",
    "    return adm_radiology.sort_values(\"note_seq\")\n",
    "    "
   ]
  },
  {
   "cell_type": "code",
   "execution_count": 58,
   "id": "a2c8bca7-07a4-4dd6-8a69-1c69f57ba185",
   "metadata": {},
   "outputs": [],
   "source": [
    "def create_pt_prompt(discharge_row):\n",
    "\n",
    "    pt_edstays = edstays[edstays['hadm_id'] == discharge_row['hadm_id']]\n",
    "\n",
    "    demos = get_demos(discharge_row['subject_id'])\n",
    "    if demos.empty:\n",
    "        age = r\"[UNKNOWN AGE]\"\n",
    "        sex = r\"[UNKNOWN SEX]\"\n",
    "    else:\n",
    "        age = demos['anchor_age']\n",
    "        sex = demos['gender']\n",
    "\n",
    "    ccs = []\n",
    "    for stay_id in pt_edstays['stay_id'].tolist():\n",
    "        # TODO: Drop in Triage Vitals/Pain Scale, etc. Currently only using CCs\n",
    "        triage_info = get_triage_info(stay_id)\n",
    "        ccs.append(triage_info['chiefcomplaint'].squeeze())\n",
    "        \n",
    "    chief_complaints = \", \".join(ccs)    \n",
    "    \n",
    "    if sex:\n",
    "        pronoun = [\"he\",\"his\"] if sex == \"M\" else ['she',\"her\"]\n",
    "    else:\n",
    "        pronoun = [\"they\", \"their\"]\n",
    "\n",
    "    transfers = get_transfers(discharge_row['hadm_id'])\n",
    "    transfers = transfers[~transfers['careunit'].isna()]\n",
    "    careunits = transfers['careunit'].tolist()\n",
    "    \n",
    "    # transfers with dates\n",
    "    tranfers = get_transfers(discharge_row['hadm_id'])\n",
    "    diags = get_diags(discharge_row['hadm_id'])\n",
    "\n",
    "    # get GPT-created SOAP Notes\n",
    "    soap_notes = get_soap_notes(discharge_row['hadm_id'])\n",
    "    # get radiology reports\n",
    "    radiology_reps = get_radiology_reports(discharge_row['hadm_id'])\n",
    "    \n",
    "    prompt = f\"___ is a {age} year old {sex} presenting to the ED with {chief_complaints}. Over the course of {pronoun[1]} hospital course, ___ started at {careunits[0]} and then visited {', '.join(careunits[1:])}. Over the course of their hospital stay, {pronoun[0]} was given the following diagnoses: {', '.join(diags['long_title'])} in order of importance to this admission.----------------------------------------------------The patient received the following radiology consult reports:{'----------------'.join(radiology_reps['text'].tolist())}.----------------------------------------------------Please use the following SOAP notes from the patient's complete hospital course to create a brief hospital course summary: {'----------------'.join(soap_notes['gpt_SOAP_note'].tolist())}\"\n",
    "    \n",
    "    return prompt\n",
    "    "
   ]
  },
  {
   "cell_type": "markdown",
   "id": "8f773b89-0263-416c-93a5-98c59087637b",
   "metadata": {},
   "source": [
    "## Generate SOAP Note List Prompt"
   ]
  },
  {
   "cell_type": "code",
   "execution_count": 59,
   "id": "907c48c1-0bc6-42ba-8cc7-3b85888f9278",
   "metadata": {},
   "outputs": [
    {
     "data": {
      "text/html": [
       "<div>\n",
       "<style scoped>\n",
       "    .dataframe tbody tr th:only-of-type {\n",
       "        vertical-align: middle;\n",
       "    }\n",
       "\n",
       "    .dataframe tbody tr th {\n",
       "        vertical-align: top;\n",
       "    }\n",
       "\n",
       "    .dataframe thead th {\n",
       "        text-align: right;\n",
       "    }\n",
       "</style>\n",
       "<table border=\"1\" class=\"dataframe\">\n",
       "  <thead>\n",
       "    <tr style=\"text-align: right;\">\n",
       "      <th></th>\n",
       "      <th>Unnamed: 0</th>\n",
       "      <th>subject_id</th>\n",
       "      <th>hadm_id</th>\n",
       "      <th>transfer_id</th>\n",
       "      <th>eventtype</th>\n",
       "      <th>careunit</th>\n",
       "      <th>intime</th>\n",
       "      <th>outtime</th>\n",
       "      <th>service_prompts</th>\n",
       "      <th>gpt_SOAP_note</th>\n",
       "    </tr>\n",
       "  </thead>\n",
       "  <tbody>\n",
       "    <tr>\n",
       "      <th>0</th>\n",
       "      <td>1275771</td>\n",
       "      <td>16752762</td>\n",
       "      <td>22661610.0</td>\n",
       "      <td>37688078</td>\n",
       "      <td>ED</td>\n",
       "      <td>Emergency Department</td>\n",
       "      <td>2174-10-14 14:04:00</td>\n",
       "      <td>2174-10-14 23:08:00</td>\n",
       "      <td>___ is a 83 year old F that initially presente...</td>\n",
       "      <td>Subjective:\\nThe patient, ___, an 83-year-old ...</td>\n",
       "    </tr>\n",
       "    <tr>\n",
       "      <th>1</th>\n",
       "      <td>1275769</td>\n",
       "      <td>16752762</td>\n",
       "      <td>22661610.0</td>\n",
       "      <td>31268773</td>\n",
       "      <td>admit</td>\n",
       "      <td>Medicine</td>\n",
       "      <td>2174-10-14 23:08:00</td>\n",
       "      <td>2174-10-21 12:26:37</td>\n",
       "      <td>___ is a 83 year old F that initially presente...</td>\n",
       "      <td>Subjective:\\nThe patient, an 83-year-old femal...</td>\n",
       "    </tr>\n",
       "  </tbody>\n",
       "</table>\n",
       "</div>"
      ],
      "text/plain": [
       "   Unnamed: 0  subject_id     hadm_id  transfer_id eventtype  \\\n",
       "0     1275771    16752762  22661610.0     37688078        ED   \n",
       "1     1275769    16752762  22661610.0     31268773     admit   \n",
       "\n",
       "               careunit               intime              outtime  \\\n",
       "0  Emergency Department  2174-10-14 14:04:00  2174-10-14 23:08:00   \n",
       "1              Medicine  2174-10-14 23:08:00  2174-10-21 12:26:37   \n",
       "\n",
       "                                     service_prompts  \\\n",
       "0  ___ is a 83 year old F that initially presente...   \n",
       "1  ___ is a 83 year old F that initially presente...   \n",
       "\n",
       "                                       gpt_SOAP_note  \n",
       "0  Subjective:\\nThe patient, ___, an 83-year-old ...  \n",
       "1  Subjective:\\nThe patient, an 83-year-old femal...  "
      ]
     },
     "execution_count": 59,
     "metadata": {},
     "output_type": "execute_result"
    }
   ],
   "source": [
    "soap_notes"
   ]
  },
  {
   "cell_type": "code",
   "execution_count": 60,
   "id": "a7c63942-3741-43db-ab8e-51e5b93250ec",
   "metadata": {},
   "outputs": [
    {
     "data": {
      "text/plain": [
       "note_id                                          16752762-DS-21\n",
       "subject_id                                             16752762\n",
       "hadm_id                                                22661610\n",
       "note_type                                                    DS\n",
       "note_seq                                                     21\n",
       "charttime                                   2174-10-21 00:00:00\n",
       "storetime                                   2174-10-21 13:50:00\n",
       "text           \\nName:  ___                 Unit No:   ___\\n...\n",
       "Name: 48389, dtype: object"
      ]
     },
     "execution_count": 60,
     "metadata": {},
     "output_type": "execute_result"
    }
   ],
   "source": [
    "discharges[discharges['hadm_id'] == soap_notes.iloc[0]['hadm_id']].squeeze()"
   ]
  },
  {
   "cell_type": "code",
   "execution_count": 62,
   "id": "905736ec-2cb7-4d8d-b2da-291ddeedf7f2",
   "metadata": {},
   "outputs": [],
   "source": [
    "bhc_prompt = create_pt_prompt(discharges[discharges['hadm_id'] == soap_notes.iloc[0]['hadm_id']].squeeze())"
   ]
  },
  {
   "cell_type": "markdown",
   "id": "75bc770f-6381-460c-ac06-d72074822ce8",
   "metadata": {},
   "source": [
    "## Create SOAP notes from GPT API (0-shot)"
   ]
  },
  {
   "cell_type": "code",
   "execution_count": 63,
   "id": "245df893-0d7a-47d1-9c7c-11cdfee44a6e",
   "metadata": {},
   "outputs": [],
   "source": [
    "import openai\n",
    "openai.api_type = \"azure\"\n",
    "openai.api_base = os.getenv(\"OPENAI_API_BASE\")\n",
    "openai.api_version = \"2023-07-01-preview\"\n",
    "openai.api_key = os.getenv(\"OPENAI_API_KEY\")\n",
    "engine = \"decile-gpt-35-turbo-16k\"\n"
   ]
  },
  {
   "cell_type": "code",
   "execution_count": 64,
   "id": "ccda464c-45c5-486c-812c-5c1e54b35de0",
   "metadata": {
    "scrolled": true
   },
   "outputs": [
    {
     "name": "stdout",
     "output_type": "stream",
     "text": [
      "Brief Hospital Course Prompt: [{'role': 'system', 'content': \"You are the discharging physician that is reviewing a patient's SOAP notes over their hospital course, starting in the ED and being discharged from your unit and writing a brief hospital course summary based on this information.\"}, {'role': 'user', 'content': \"___ is a 83 year old F presenting to the ED with Abd pain, Vomiting. Over the course of her hospital course, ___ started at Emergency Department and then visited Medicine. Over the course of their hospital stay, she was given the following diagnoses: Sepsis, unspecified organism, Acidosis, Other ascites, Chronic atrial fibrillation, Chronic obstructive pulmonary disease, unspecified, Urinary tract infection, site not specified, Severe sepsis without septic shock, Unspecified Escherichia coli [E. coli] as the cause of diseases classified elsewhere, Do not resuscitate, Long term (current) use of anticoagulants, Personal history of nicotine dependence, Unspecified dementia without behavioral disturbance, Major depressive disorder, single episode, unspecified in order of importance to this admission.----------------------------------------------------The patient received the following radiology consult reports:INDICATION:    ___ with bibasilar crackles on exam  // eval for\\nedema/infiltrate\\n\\nTECHNIQUE:  AP and lateral views the chest.\\n\\nCOMPARISON:  ___.\\n\\nFINDINGS: \\n\\nThe lungs are clear without consolidation or effusion.  Cardiomediastinal\\nsilhouette is within normal limits.  There is slight tortuosity of the\\ndescending thoracic aorta with atherosclerotic calcifications.  Chronic\\ndeformity of the proximal right humerus suggests prior healed fracture.\\n\\nIMPRESSION: \\n\\nNo focal consolidation or pulmonary edema.\\n----------------INDICATION:   ___ with abdominal pain, nausea, weaknessNO_PO contrast  // eval\\nfor intraabdominal pathology\\n\\nTECHNIQUE:  Single phase split bolus contrast: MDCT axial images were acquired\\nthrough the abdomen and pelvis following intravenous contrast administration\\nwith split bolus technique.\\nOral contrast was not administered.\\nCoronal and sagittal reformations were performed and reviewed on PACS.\\n\\nDOSE:    Total DLP (Body) = 318 mGy-cm.\\n\\nCOMPARISON:  CT abdomen ___, CT chest ___, hip\\nradiographs ___\\n\\nFINDINGS: \\n\\nLOWER CHEST: There is mild bibasilar atelectasis. There is no evidence of\\npleural or pericardial effusion.  Coronary artery calcifications are dense.\\n\\nABDOMEN:\\n\\nHEPATOBILIARY: The liver demonstrates homogenous attenuation throughout. \\nThere is no evidence of focal lesions.  There is no evidence of intrahepatic\\nor extrahepatic biliary dilatation.  The gallbladder is within normal limits.\\n\\nPANCREAS: The pancreas has normal attenuation throughout, without evidence of\\nfocal lesions or pancreatic ductal dilatation.  There is no peripancreatic\\nstranding.\\n\\nSPLEEN: The spleen shows normal size and attenuation throughout, without\\nevidence of focal lesions.\\n\\nADRENALS: The right adrenal gland is normal in size and shape.  Slight focal\\nprominence of the left adrenal gland appears similar to prior.\\n\\nURINARY: The kidneys are of normal and symmetric size with normal nephrogram. \\nRegions of cortical thinning in the kidneys bilaterally are suggestive of\\nscarring most notable at the lower pole of the right kidney.  There is no\\nevidence of focal renal lesions or hydronephrosis.  There is no perinephric\\nabnormality.\\n\\nGASTROINTESTINAL: The stomach is unremarkable.  Small bowel loops demonstrate\\nnormal caliber, wall thickness, and enhancement throughout.  There is\\nhyperenhancement of the mucosa of the descending colon, sigmoid colon, and\\nrectum.  Diverticulosis of the sigmoid colon is noted, without evidence of\\nwall thickening nor fat stranding.  The appendix is normal.\\n\\nPELVIS: The urinary bladder and distal ureters are unremarkable.  There is\\ntrace free fluid in the pelvis.\\n\\nREPRODUCTIVE ORGANS: The reproductive organs are unremarkable.\\n\\nLYMPH NODES: There is no retroperitoneal or mesenteric lymphadenopathy.  There\\nis no pelvic or inguinal lymphadenopathy.\\n\\nVASCULAR: There is no abdominal aortic aneurysm.  Extensive atherosclerotic\\ndisease is noted.\\n\\nBONES: There is no evidence of acute fracture.  Foci of sclerosis in the\\nfemurs bilaterally are similar to ___.  Degenerative changes in\\nthe lumbar spine are moderate to severe.  There is severe dextroscoliosis of\\nthe lower thoracic and lumbar spine with right lateral subluxation of L2 on\\nL3.\\n\\nSOFT TISSUES: The abdominal wall is within normal limits.  There is a right\\ngluteal subcutaneous metallic device with a lead leading into the right sacral\\narea compatible with a nerve stimulator.\\n\\nIMPRESSION: \\n\\nNo acute intra-abdominal process.  No findings to explain patient's symptoms.\\nNonspecific trace free fluid in the pelvis, nonphysiologic in a patient of\\nthis age.\\nDiverticulosis without diverticulitis.  Atherosclerosis.\\n\\nNOTIFICATION:  Updated findings were discussed with ___, M.D. by\\n___, M.D. on the telephone on ___ at 9:21 ___, 2 minutes after\\ndiscovery of the findings.\\n----------------EXAMINATION:  DX CHEST PORTABLE PICC LINE PLACEMENT\\n\\nINDICATION:  ___ year old woman with new R PICC  // 42 cm R basilic SL PICC -\\n___ ___   Contact name: ___: ___ cm R basilic SL PICC - ___\\n___\\n\\nIMPRESSION: \\n\\nRight PICC line tip is at the level of mid to lower SVC.  Heart size is\\ntop-normal, unchanged.  Lungs overall clear.  There is no pleural effusion or\\npneumothorax.\\n.----------------------------------------------------Please use the following SOAP notes from the patient's complete hospital course to create a brief hospital course summary: Subjective:\\nThe patient, ___, an 83-year-old female, presented to the Emergency Department with complaints of abdominal pain and vomiting. She appeared distressed and reported a recent decline in her overall health. According to her family, she has a history of chronic atrial fibrillation, chronic obstructive pulmonary disease, urinary tract infections, and recurrent episodes of depression. They also mentioned that she has a diagnosis of unspecified dementia without behavioral disturbance. The patient's family stated that she currently uses anticoagulants and has a history of nicotine dependence. It is important to note that the patient has a Do Not Resuscitate directive in place.\\n\\nObjective:\\nDuring her stay in the Emergency Department ward, the patient's vital signs were stable within normal limits. However, she exhibited signs of sepsis, such as fever, elevated heart rate, and generalized abdominal tenderness. Laboratory results indicated acidosis, elevated white blood cell count, and a positive urine culture for unspecified Escherichia coli.\\n\\nAssessment:\\n1. Sepsis, unspecified organism\\n2. Acidosis\\n3. Other ascites\\n4. Chronic atrial fibrillation\\n5. Chronic obstructive pulmonary disease, unspecified\\n6. Urinary tract infection, site not specified\\n7. Severe sepsis without septic shock\\n8. Unspecified Escherichia coli [E. coli] as the cause of diseases classified elsewhere\\n9. Do not resuscitate\\n10. Long-term (current) use of anticoagulants\\n11. Personal history of nicotine dependence\\n12. Unspecified dementia without behavioral disturbance\\n13. Major depressive disorder, single episode, unspecified\\n\\nPlan:\\n1. The patient's sepsis will be treated with appropriate antibiotics targeting the unidentified organism causing infection.\\n2. Intravenous fluids will be administered to correct the acidosis and maintain hydration.\\n3. To monitor the patient's cardiac rhythm, she will be placed on continuous cardiac monitoring.\\n4. A respiratory treatment plan will be implemented to manage the underlying chronic obstructive pulmonary disease.\\n5. Empiric antibiotic therapy will be initiated to target the urinary tract infection pending further culture sensitivity results.\\n6. Fluid management and supportive care will be provided to manage severe sepsis without septic shock.\\n7. The urology team will be consulted to assess and manage the patient's ascites, as well as to investigate its etiology.\\n8. The patient's existing medications will be continued, including anticoagulants, while monitoring for any complications.\\n9. Supportive counseling will be offered to address the patient's personal history of nicotine dependence, as appropriate.\\n10. The patient's family will be educated on the management and prognosis of unspecified dementia without behavioral disturbance.\\n11. The patient will be evaluated by the psychiatric team to assess and manage her major depressive disorder.\\n\\nIn conclusion, ___, an elderly female, presented with signs of sepsis and multiple comorbidities. The focus of her care in the Emergency Department ward was on the prompt initiation of appropriate antibiotics, fluid resuscitation, and the management of her chronic conditions. Consultations with the urology and psychiatric teams were initiated, and the patient's family was provided with education and support. The patient's overall management plan will be further refined as additional diagnostic results become available.----------------Subjective:\\nThe patient, an 83-year-old female, initially presented to the emergency department with complaints of abdominal pain and vomiting. According to the medical record, she has been diagnosed with sepsis, unspecified organism, acidosis, other ascites, chronic atrial fibrillation, chronic obstructive pulmonary disease, urinary tract infection (site not specified), severe sepsis without septic shock, unspecified Escherichia coli [E. coli] as the cause of diseases classified elsewhere, do not resuscitate status, long term (current) use of anticoagulants, personal history of nicotine dependence, unspecified dementia without behavioral disturbance, and major depressive disorder, single episode, unspecified. The patient was transferred to the Medicine ward and stayed there from 2174-10-14 23:08:00 to 2174-10-21 12:26:37. During her stay, she underwent the insertion of an infusion device into the superior vena cava percutaneously. \\n\\nObjective:\\nThe patient was administered multiple medications during her stay in the ward, including sodium chloride 0.9% floor stock bag, metoprolol tartrate 12.5 mg half tablet, PNEUMOcoccal 23-valent polysaccharide vaccine 25mcg/0.5mL vial, metoprolol succinate XL 25mg XL tab, iso-osmotic dextrose 100ml bag, piperacillin-tazobactam 4.5 g frozen bag, sodium chloride 0.9% flush 10 mL syringe, donepezil 5mg tablet, digoxin 0.125mg tablet, apixaban 5 mg tablet, lidocaine 1% (for PICC/midline insertions) 5mL amp - (for PICC/midline line insertion), heparin flush (10 units/ml) 10 units/mL - 5 mL syringe, 0.9% sodium chloride (Mini Bag Plus) 100mL bag, cefePIME 1 g / 100 mL NS (Mini Bag Plus), sertraline 50mg tablet, mirtazapine 15 mg tablet, and apixaban 2.5 mg tablet.\\n\\nThe patient underwent various laboratory tests during her stay, including hematocrit, hemoglobin, MCH, MCHC, MCV, platelet count, RDW, red blood cells, and white blood cells. Additionally, chemistry blood tests were conducted, evaluating anion gap, bicarbonate, calcium, chloride, creatinine, glucose, magnesium, phosphate, potassium, sodium, and urea nitrogen. Blood gas analysis included lactate levels.\\n\\nAssessment:\\n1. Sepsis, unspecified organism\\n2. Acidosis\\n3. Other ascites\\n4. Chronic atrial fibrillation\\n5. Chronic obstructive pulmonary disease, unspecified\\n6. Urinary tract infection, site not specified\\n7. Severe sepsis without septic shock\\n8. Unspecified Escherichia coli [E. coli] as the cause of diseases classified elsewhere\\n9. Do not resuscitate status\\n10. Long-term (current) use of anticoagulants\\n11. Personal history of nicotine dependence\\n12. Unspecified dementia without behavioral disturbance\\n13. Major depressive disorder, single episode, unspecified\\n\\nPlan:\\nDuring the patient's stay in the Medicine ward, the medical team has managed her conditions and provided appropriate treatment. The patient underwent the insertion of an infusion device into the superior vena cava, which will aid in delivering necessary medications and fluids. \\n\\nThe patient has been receiving a combination of medications to address her various diagnoses. Close monitoring of vital signs and laboratory values will continue throughout her hospital stay. Further management will be based on the patient's clinical progress and response to the ongoing treatment.\\n\\nMicrobiology cultures have been ordered to identify and manage any potential infectious organisms associated with the patient's condition.\\n\\nContinued collaborative care between the medical team, nursing staff, and other healthcare professionals will be crucial in ensuring the patient's comfort, managing her conditions, and addressing any new concerns that may arise during her hospitalization.\\n\\nFollow-up appointments and discussions with the patient and her family will be arranged to discuss discharge planning, medication management, and any necessary referrals for further care.\\n\\nSigned,\\n[Your Name], MD\"}]\n"
     ]
    }
   ],
   "source": [
    "message_text = [{\"role\":\"system\",\"content\":f\"You are the discharging physician that is reviewing a patient's SOAP notes over their hospital course, starting in the ED and being discharged from your unit and writing a brief hospital course summary based on this information.\"},]\n",
    "\n",
    "gpt_bhc_prompt = {\"role\":\"user\",\n",
    "                 \"content\":bhc_prompt}\n",
    "\n",
    "message_text.append(gpt_bhc_prompt)\n",
    "\n",
    "print(f\"Brief Hospital Course Prompt: {message_text}\")"
   ]
  },
  {
   "cell_type": "code",
   "execution_count": 65,
   "id": "1704de3b-7d78-473e-b1b8-00e0858036c9",
   "metadata": {},
   "outputs": [],
   "source": [
    "completion = openai.ChatCompletion.create(\n",
    "  engine=engine,\n",
    "  messages = message_text,\n",
    ")"
   ]
  },
  {
   "cell_type": "code",
   "execution_count": 78,
   "id": "0aad3d79-1cb2-4d64-b4e7-d3c16a83797d",
   "metadata": {},
   "outputs": [
    {
     "name": "stdout",
     "output_type": "stream",
     "text": [
      "Hospital Course Summary:\n",
      "The patient, an 83-year-old female, presented to the ED with abdominal pain and vomiting. She was diagnosed with sepsis of unspecified organism, acidosis, other ascites, chronic atrial fibrillation, chronic obstructive pulmonary disease, urinary tract infection, and major depressive disorder, among other diagnoses. During her stay in the Medicine ward, she underwent PICC line placement and received various medications to manage her conditions. The patient's vital signs, laboratory values, and clinical progress were closely monitored. Microbiology cultures were ordered to identify the infectious organism. Collaborative care was provided by the medical team, nursing staff, and other healthcare professionals. Discharge planning and follow-up appointments were arranged.\n"
     ]
    }
   ],
   "source": [
    "zero_shot_output = completion['choices'][0]['message']['content']; print(zero_shot_output)"
   ]
  },
  {
   "cell_type": "markdown",
   "id": "d16a43c1-7755-4bea-a107-c38527d5f6ab",
   "metadata": {},
   "source": [
    "## Create SOAP notes from GPT API (1-shot)"
   ]
  },
  {
   "cell_type": "code",
   "execution_count": 20,
   "id": "b0b31163-e9e4-4f07-8cc4-31fc04fa1833",
   "metadata": {},
   "outputs": [],
   "source": [
    "import openai\n",
    "openai.api_type = \"azure\"\n",
    "openai.api_base = os.getenv(\"OPENAI_API_BASE\")\n",
    "openai.api_version = \"2023-07-01-preview\"\n",
    "openai.api_key = os.getenv(\"OPENAI_API_KEY\")\n",
    "engine = \"decile-gpt-35-turbo-16k\"\n"
   ]
  },
  {
   "cell_type": "code",
   "execution_count": 84,
   "id": "438056e5-db78-443d-aadd-e411f031e497",
   "metadata": {},
   "outputs": [],
   "source": [
    "targets = pd.read_csv('/gpfs/milgram/project/rtaylor/shared/DischargeMe/public/train/discharge_target.csv.gz')"
   ]
  },
  {
   "cell_type": "code",
   "execution_count": 88,
   "id": "ec1383f6-5fc2-49b0-88c9-c4bd553a3f5d",
   "metadata": {},
   "outputs": [],
   "source": [
    "bhc_oneshot_sample = targets.sample(1)['brief_hospital_course'].squeeze()"
   ]
  },
  {
   "cell_type": "code",
   "execution_count": 89,
   "id": "88a8bef9-c133-4846-bf82-48a8e0cfd08b",
   "metadata": {
    "scrolled": true
   },
   "outputs": [
    {
     "name": "stdout",
     "output_type": "stream",
     "text": [
      "Brief Hospital Course Prompt: [{'role': 'system', 'content': \"You are the discharging physician that is reviewing a patient's SOAP notes over their hospital course, starting in the ED and being discharged from your unit and writing a brief hospital course summary based on this information. Using the following brief hospital course as an example: ___ with stage IIIB NSCLC on chemo and XRT presenting with \\northostasis and a fall in the setting of poor PO intake due to \\nthroat pain.\\n\\n# Near Syncope s/p Fall: Patient was found to be orthostatic in \\nthe setting of poor PO intake due to throat pain.  There was no \\nevidence of arrhythmia on telemetry, head CT was negative, and \\nwas not on any true opiates (only on tramadol).  He was volume \\nrepleted shortly thereafter with resolution of orthostasis.  \\n\\n# Pain/Malnutrition: Patient presented with significant throat \\npain, mostly with swallowing, likely due to his active \\nmalignancy and his ongoing radiation treatment that was \\neventually completed during his hospital stay (___).  Due to \\nthis pain, he was unable to tolerate PO and quickly became \\ndehydrated.  He also had weight loss, albumin <3, and severely \\npoor caloric intake <50% daily needs for >3 days.  This pain was \\nchallenging to treat since he had previously had strong adverse \\nreactions to percocet and vicodin, and was found to have a \\nsimilar reaction to dilaudid with severe nausea and vomiting.  \\nTramadol alone provided minimal relief.  With the assistance of \\npalliative care and the chronic pain service, he eventually, he \\nate much better on a regimen of acetaminophen, ibuprofen, and \\nmorphine when premedicated with alternating reglan and ativan.  \\nHis PO intake slowly improved and was discharged home when his \\ncaloric intake was considered sufficient by both patient, his \\nwife, and the healthcare team.\\n\\n# NSCLC: stage IIIB (T4N3M0) s/p chemo, completed XRT on ___.  \\nHe will follow up with his primary oncologists 3 days after \\ndischarge, and in less than one month will receive a PET scan to \\nassess the treatment response of his cancer.\\n\\n# BPH: tamsulosin held on admission given orthostasis, but this \\nwas restarted soon afterwards.\"}, {'role': 'user', 'content': \"___ is a 83 year old F presenting to the ED with Abd pain, Vomiting. Over the course of her hospital course, ___ started at Emergency Department and then visited Medicine. Over the course of their hospital stay, she was given the following diagnoses: Sepsis, unspecified organism, Acidosis, Other ascites, Chronic atrial fibrillation, Chronic obstructive pulmonary disease, unspecified, Urinary tract infection, site not specified, Severe sepsis without septic shock, Unspecified Escherichia coli [E. coli] as the cause of diseases classified elsewhere, Do not resuscitate, Long term (current) use of anticoagulants, Personal history of nicotine dependence, Unspecified dementia without behavioral disturbance, Major depressive disorder, single episode, unspecified in order of importance to this admission.----------------------------------------------------The patient received the following radiology consult reports:INDICATION:    ___ with bibasilar crackles on exam  // eval for\\nedema/infiltrate\\n\\nTECHNIQUE:  AP and lateral views the chest.\\n\\nCOMPARISON:  ___.\\n\\nFINDINGS: \\n\\nThe lungs are clear without consolidation or effusion.  Cardiomediastinal\\nsilhouette is within normal limits.  There is slight tortuosity of the\\ndescending thoracic aorta with atherosclerotic calcifications.  Chronic\\ndeformity of the proximal right humerus suggests prior healed fracture.\\n\\nIMPRESSION: \\n\\nNo focal consolidation or pulmonary edema.\\n----------------INDICATION:   ___ with abdominal pain, nausea, weaknessNO_PO contrast  // eval\\nfor intraabdominal pathology\\n\\nTECHNIQUE:  Single phase split bolus contrast: MDCT axial images were acquired\\nthrough the abdomen and pelvis following intravenous contrast administration\\nwith split bolus technique.\\nOral contrast was not administered.\\nCoronal and sagittal reformations were performed and reviewed on PACS.\\n\\nDOSE:    Total DLP (Body) = 318 mGy-cm.\\n\\nCOMPARISON:  CT abdomen ___, CT chest ___, hip\\nradiographs ___\\n\\nFINDINGS: \\n\\nLOWER CHEST: There is mild bibasilar atelectasis. There is no evidence of\\npleural or pericardial effusion.  Coronary artery calcifications are dense.\\n\\nABDOMEN:\\n\\nHEPATOBILIARY: The liver demonstrates homogenous attenuation throughout. \\nThere is no evidence of focal lesions.  There is no evidence of intrahepatic\\nor extrahepatic biliary dilatation.  The gallbladder is within normal limits.\\n\\nPANCREAS: The pancreas has normal attenuation throughout, without evidence of\\nfocal lesions or pancreatic ductal dilatation.  There is no peripancreatic\\nstranding.\\n\\nSPLEEN: The spleen shows normal size and attenuation throughout, without\\nevidence of focal lesions.\\n\\nADRENALS: The right adrenal gland is normal in size and shape.  Slight focal\\nprominence of the left adrenal gland appears similar to prior.\\n\\nURINARY: The kidneys are of normal and symmetric size with normal nephrogram. \\nRegions of cortical thinning in the kidneys bilaterally are suggestive of\\nscarring most notable at the lower pole of the right kidney.  There is no\\nevidence of focal renal lesions or hydronephrosis.  There is no perinephric\\nabnormality.\\n\\nGASTROINTESTINAL: The stomach is unremarkable.  Small bowel loops demonstrate\\nnormal caliber, wall thickness, and enhancement throughout.  There is\\nhyperenhancement of the mucosa of the descending colon, sigmoid colon, and\\nrectum.  Diverticulosis of the sigmoid colon is noted, without evidence of\\nwall thickening nor fat stranding.  The appendix is normal.\\n\\nPELVIS: The urinary bladder and distal ureters are unremarkable.  There is\\ntrace free fluid in the pelvis.\\n\\nREPRODUCTIVE ORGANS: The reproductive organs are unremarkable.\\n\\nLYMPH NODES: There is no retroperitoneal or mesenteric lymphadenopathy.  There\\nis no pelvic or inguinal lymphadenopathy.\\n\\nVASCULAR: There is no abdominal aortic aneurysm.  Extensive atherosclerotic\\ndisease is noted.\\n\\nBONES: There is no evidence of acute fracture.  Foci of sclerosis in the\\nfemurs bilaterally are similar to ___.  Degenerative changes in\\nthe lumbar spine are moderate to severe.  There is severe dextroscoliosis of\\nthe lower thoracic and lumbar spine with right lateral subluxation of L2 on\\nL3.\\n\\nSOFT TISSUES: The abdominal wall is within normal limits.  There is a right\\ngluteal subcutaneous metallic device with a lead leading into the right sacral\\narea compatible with a nerve stimulator.\\n\\nIMPRESSION: \\n\\nNo acute intra-abdominal process.  No findings to explain patient's symptoms.\\nNonspecific trace free fluid in the pelvis, nonphysiologic in a patient of\\nthis age.\\nDiverticulosis without diverticulitis.  Atherosclerosis.\\n\\nNOTIFICATION:  Updated findings were discussed with ___, M.D. by\\n___, M.D. on the telephone on ___ at 9:21 ___, 2 minutes after\\ndiscovery of the findings.\\n----------------EXAMINATION:  DX CHEST PORTABLE PICC LINE PLACEMENT\\n\\nINDICATION:  ___ year old woman with new R PICC  // 42 cm R basilic SL PICC -\\n___ ___   Contact name: ___: ___ cm R basilic SL PICC - ___\\n___\\n\\nIMPRESSION: \\n\\nRight PICC line tip is at the level of mid to lower SVC.  Heart size is\\ntop-normal, unchanged.  Lungs overall clear.  There is no pleural effusion or\\npneumothorax.\\n.----------------------------------------------------Please use the following SOAP notes from the patient's complete hospital course to create a brief hospital course summary: Subjective:\\nThe patient, ___, an 83-year-old female, presented to the Emergency Department with complaints of abdominal pain and vomiting. She appeared distressed and reported a recent decline in her overall health. According to her family, she has a history of chronic atrial fibrillation, chronic obstructive pulmonary disease, urinary tract infections, and recurrent episodes of depression. They also mentioned that she has a diagnosis of unspecified dementia without behavioral disturbance. The patient's family stated that she currently uses anticoagulants and has a history of nicotine dependence. It is important to note that the patient has a Do Not Resuscitate directive in place.\\n\\nObjective:\\nDuring her stay in the Emergency Department ward, the patient's vital signs were stable within normal limits. However, she exhibited signs of sepsis, such as fever, elevated heart rate, and generalized abdominal tenderness. Laboratory results indicated acidosis, elevated white blood cell count, and a positive urine culture for unspecified Escherichia coli.\\n\\nAssessment:\\n1. Sepsis, unspecified organism\\n2. Acidosis\\n3. Other ascites\\n4. Chronic atrial fibrillation\\n5. Chronic obstructive pulmonary disease, unspecified\\n6. Urinary tract infection, site not specified\\n7. Severe sepsis without septic shock\\n8. Unspecified Escherichia coli [E. coli] as the cause of diseases classified elsewhere\\n9. Do not resuscitate\\n10. Long-term (current) use of anticoagulants\\n11. Personal history of nicotine dependence\\n12. Unspecified dementia without behavioral disturbance\\n13. Major depressive disorder, single episode, unspecified\\n\\nPlan:\\n1. The patient's sepsis will be treated with appropriate antibiotics targeting the unidentified organism causing infection.\\n2. Intravenous fluids will be administered to correct the acidosis and maintain hydration.\\n3. To monitor the patient's cardiac rhythm, she will be placed on continuous cardiac monitoring.\\n4. A respiratory treatment plan will be implemented to manage the underlying chronic obstructive pulmonary disease.\\n5. Empiric antibiotic therapy will be initiated to target the urinary tract infection pending further culture sensitivity results.\\n6. Fluid management and supportive care will be provided to manage severe sepsis without septic shock.\\n7. The urology team will be consulted to assess and manage the patient's ascites, as well as to investigate its etiology.\\n8. The patient's existing medications will be continued, including anticoagulants, while monitoring for any complications.\\n9. Supportive counseling will be offered to address the patient's personal history of nicotine dependence, as appropriate.\\n10. The patient's family will be educated on the management and prognosis of unspecified dementia without behavioral disturbance.\\n11. The patient will be evaluated by the psychiatric team to assess and manage her major depressive disorder.\\n\\nIn conclusion, ___, an elderly female, presented with signs of sepsis and multiple comorbidities. The focus of her care in the Emergency Department ward was on the prompt initiation of appropriate antibiotics, fluid resuscitation, and the management of her chronic conditions. Consultations with the urology and psychiatric teams were initiated, and the patient's family was provided with education and support. The patient's overall management plan will be further refined as additional diagnostic results become available.----------------Subjective:\\nThe patient, an 83-year-old female, initially presented to the emergency department with complaints of abdominal pain and vomiting. According to the medical record, she has been diagnosed with sepsis, unspecified organism, acidosis, other ascites, chronic atrial fibrillation, chronic obstructive pulmonary disease, urinary tract infection (site not specified), severe sepsis without septic shock, unspecified Escherichia coli [E. coli] as the cause of diseases classified elsewhere, do not resuscitate status, long term (current) use of anticoagulants, personal history of nicotine dependence, unspecified dementia without behavioral disturbance, and major depressive disorder, single episode, unspecified. The patient was transferred to the Medicine ward and stayed there from 2174-10-14 23:08:00 to 2174-10-21 12:26:37. During her stay, she underwent the insertion of an infusion device into the superior vena cava percutaneously. \\n\\nObjective:\\nThe patient was administered multiple medications during her stay in the ward, including sodium chloride 0.9% floor stock bag, metoprolol tartrate 12.5 mg half tablet, PNEUMOcoccal 23-valent polysaccharide vaccine 25mcg/0.5mL vial, metoprolol succinate XL 25mg XL tab, iso-osmotic dextrose 100ml bag, piperacillin-tazobactam 4.5 g frozen bag, sodium chloride 0.9% flush 10 mL syringe, donepezil 5mg tablet, digoxin 0.125mg tablet, apixaban 5 mg tablet, lidocaine 1% (for PICC/midline insertions) 5mL amp - (for PICC/midline line insertion), heparin flush (10 units/ml) 10 units/mL - 5 mL syringe, 0.9% sodium chloride (Mini Bag Plus) 100mL bag, cefePIME 1 g / 100 mL NS (Mini Bag Plus), sertraline 50mg tablet, mirtazapine 15 mg tablet, and apixaban 2.5 mg tablet.\\n\\nThe patient underwent various laboratory tests during her stay, including hematocrit, hemoglobin, MCH, MCHC, MCV, platelet count, RDW, red blood cells, and white blood cells. Additionally, chemistry blood tests were conducted, evaluating anion gap, bicarbonate, calcium, chloride, creatinine, glucose, magnesium, phosphate, potassium, sodium, and urea nitrogen. Blood gas analysis included lactate levels.\\n\\nAssessment:\\n1. Sepsis, unspecified organism\\n2. Acidosis\\n3. Other ascites\\n4. Chronic atrial fibrillation\\n5. Chronic obstructive pulmonary disease, unspecified\\n6. Urinary tract infection, site not specified\\n7. Severe sepsis without septic shock\\n8. Unspecified Escherichia coli [E. coli] as the cause of diseases classified elsewhere\\n9. Do not resuscitate status\\n10. Long-term (current) use of anticoagulants\\n11. Personal history of nicotine dependence\\n12. Unspecified dementia without behavioral disturbance\\n13. Major depressive disorder, single episode, unspecified\\n\\nPlan:\\nDuring the patient's stay in the Medicine ward, the medical team has managed her conditions and provided appropriate treatment. The patient underwent the insertion of an infusion device into the superior vena cava, which will aid in delivering necessary medications and fluids. \\n\\nThe patient has been receiving a combination of medications to address her various diagnoses. Close monitoring of vital signs and laboratory values will continue throughout her hospital stay. Further management will be based on the patient's clinical progress and response to the ongoing treatment.\\n\\nMicrobiology cultures have been ordered to identify and manage any potential infectious organisms associated with the patient's condition.\\n\\nContinued collaborative care between the medical team, nursing staff, and other healthcare professionals will be crucial in ensuring the patient's comfort, managing her conditions, and addressing any new concerns that may arise during her hospitalization.\\n\\nFollow-up appointments and discussions with the patient and her family will be arranged to discuss discharge planning, medication management, and any necessary referrals for further care.\\n\\nSigned,\\n[Your Name], MD\"}]\n"
     ]
    }
   ],
   "source": [
    "message_text2 = [{\"role\":\"system\",\"content\":f\"You are the discharging physician that is reviewing a patient's SOAP notes over their hospital course, starting in the ED and being discharged from your unit and writing a brief hospital course summary based on this information. Using the following brief hospital course as an example: {bhc_oneshot_sample}\"},]\n",
    "\n",
    "gpt_bhc_prompt2 = {\"role\":\"user\",\n",
    "                 \"content\":bhc_prompt}\n",
    "\n",
    "message_text2.append(gpt_bhc_prompt)\n",
    "\n",
    "print(f\"Brief Hospital Course Prompt: {message_text2}\")"
   ]
  },
  {
   "cell_type": "code",
   "execution_count": 90,
   "id": "18241417-c7be-4d41-8eda-c55d3edaa4cb",
   "metadata": {},
   "outputs": [],
   "source": [
    "completion2 = openai.ChatCompletion.create(\n",
    "  engine=engine,\n",
    "  messages = message_text2,\n",
    ")"
   ]
  },
  {
   "cell_type": "code",
   "execution_count": 91,
   "id": "eb623558-e862-4748-97cb-0a1e5995e396",
   "metadata": {},
   "outputs": [
    {
     "name": "stdout",
     "output_type": "stream",
     "text": [
      "Summary:\n",
      "___ is an 83-year-old female with multiple comorbidities who presented to the emergency department with abdominal pain and vomiting. She was diagnosed with sepsis, acidosis, other ascites, chronic atrial fibrillation, chronic obstructive pulmonary disease, urinary tract infection, severe sepsis, and more. During her hospital stay, the patient underwent PICC line placement and received various medications and treatments. Collaborative care was provided by multiple specialties, and close monitoring of vital signs and laboratory values was conducted. Discharge planning and follow-up appointments are underway.\n"
     ]
    }
   ],
   "source": [
    "one_shot_output = completion2['choices'][0]['message']['content']; print(one_shot_output)"
   ]
  },
  {
   "cell_type": "code",
   "execution_count": 97,
   "id": "4a4bb3fe-e22e-48a8-8561-8d846b922f2d",
   "metadata": {},
   "outputs": [
    {
     "data": {
      "text/plain": [
       "\"Hospital Course Summary:\\nThe patient, an 83-year-old female, presented to the ED with abdominal pain and vomiting. She was diagnosed with sepsis of unspecified organism, acidosis, other ascites, chronic atrial fibrillation, chronic obstructive pulmonary disease, urinary tract infection, and major depressive disorder, among other diagnoses. During her stay in the Medicine ward, she underwent PICC line placement and received various medications to manage her conditions. The patient's vital signs, laboratory values, and clinical progress were closely monitored. Microbiology cultures were ordered to identify the infectious organism. Collaborative care was provided by the medical team, nursing staff, and other healthcare professionals. Discharge planning and follow-up appointments were arranged.\""
      ]
     },
     "execution_count": 97,
     "metadata": {},
     "output_type": "execute_result"
    }
   ],
   "source": [
    "zero_shot_output"
   ]
  },
  {
   "cell_type": "markdown",
   "id": "ac88b501-d6eb-4c58-a0d4-e97f1fe33622",
   "metadata": {},
   "source": [
    "## Compute ROUGE Scores from Output"
   ]
  },
  {
   "cell_type": "code",
   "execution_count": 76,
   "id": "36137dc3-70e3-40a1-883d-a31a0cb4b554",
   "metadata": {},
   "outputs": [],
   "source": [
    "from rouge_score import rouge_scorer\n"
   ]
  },
  {
   "cell_type": "code",
   "execution_count": 96,
   "id": "674658ea-de27-4346-a59d-1f2c92a92016",
   "metadata": {
    "scrolled": true
   },
   "outputs": [],
   "source": [
    "# discharges[discharges['hadm_id'] == soap_notes.iloc[0]['hadm_id']].squeeze()\n",
    "pt_target = targets[targets['hadm_id'] == soap_notes.iloc[0]['hadm_id']]['brief_hospital_course'].squeeze()"
   ]
  },
  {
   "cell_type": "code",
   "execution_count": 98,
   "id": "d65c1e48-46a2-4cca-adc0-efdeb9cd4030",
   "metadata": {},
   "outputs": [],
   "source": [
    "scorer = rouge_scorer.RougeScorer(['rouge1', 'rougeL'], use_stemmer=True)\n",
    "scores1 = scorer.score(zero_shot_output,\n",
    "                      pt_target)"
   ]
  },
  {
   "cell_type": "code",
   "execution_count": 99,
   "id": "7473d3f6-43dd-4484-ad80-1a3b37f12cfb",
   "metadata": {},
   "outputs": [
    {
     "data": {
      "text/plain": [
       "{'rouge1': Score(precision=0.18831168831168832, recall=0.26126126126126126, fmeasure=0.2188679245283019),\n",
       " 'rougeL': Score(precision=0.09740259740259741, recall=0.13513513513513514, fmeasure=0.11320754716981132)}"
      ]
     },
     "execution_count": 99,
     "metadata": {},
     "output_type": "execute_result"
    }
   ],
   "source": [
    "scores1"
   ]
  },
  {
   "cell_type": "code",
   "execution_count": 100,
   "id": "5a182e0a-0606-4004-8785-4f9ecbd8938f",
   "metadata": {},
   "outputs": [],
   "source": [
    "scorer = rouge_scorer.RougeScorer(['rouge1', 'rougeL'], use_stemmer=True)\n",
    "scores1 = scorer.score(one_shot_output,\n",
    "                      pt_target)"
   ]
  },
  {
   "cell_type": "code",
   "execution_count": 101,
   "id": "cfb17644-e6e4-4edc-80b0-5eb81d96ca5b",
   "metadata": {},
   "outputs": [
    {
     "data": {
      "text/plain": [
       "{'rouge1': Score(precision=0.17532467532467533, recall=0.3176470588235294, fmeasure=0.22594142259414227),\n",
       " 'rougeL': Score(precision=0.1038961038961039, recall=0.18823529411764706, fmeasure=0.13389121338912133)}"
      ]
     },
     "execution_count": 101,
     "metadata": {},
     "output_type": "execute_result"
    }
   ],
   "source": [
    "scores1"
   ]
  },
  {
   "cell_type": "markdown",
   "id": "f8134c08-e32d-4167-b0ae-14e80f4b0d0c",
   "metadata": {},
   "source": [
    "# Qualitative Eval"
   ]
  },
  {
   "cell_type": "markdown",
   "id": "065d01ec-e29a-4f08-9ead-1dacccc1f534",
   "metadata": {},
   "source": [
    "## Final outputs\n"
   ]
  },
  {
   "cell_type": "code",
   "execution_count": 102,
   "id": "5d674128-e36b-4caf-a422-e5a2d6663101",
   "metadata": {},
   "outputs": [
    {
     "name": "stdout",
     "output_type": "stream",
     "text": [
      "Summary:\n",
      "___ is an 83-year-old female with multiple comorbidities who presented to the emergency department with abdominal pain and vomiting. She was diagnosed with sepsis, acidosis, other ascites, chronic atrial fibrillation, chronic obstructive pulmonary disease, urinary tract infection, severe sepsis, and more. During her hospital stay, the patient underwent PICC line placement and received various medications and treatments. Collaborative care was provided by multiple specialties, and close monitoring of vital signs and laboratory values was conducted. Discharge planning and follow-up appointments are underway.\n"
     ]
    }
   ],
   "source": [
    "print(one_shot_output)"
   ]
  },
  {
   "cell_type": "code",
   "execution_count": 104,
   "id": "7f8ca5fc-3cf1-4f7f-b0d5-b1c2b43956c1",
   "metadata": {},
   "outputs": [
    {
     "name": "stdout",
     "output_type": "stream",
     "text": [
      "Hospital Course Summary:\n",
      "The patient, an 83-year-old female, presented to the ED with abdominal pain and vomiting. She was diagnosed with sepsis of unspecified organism, acidosis, other ascites, chronic atrial fibrillation, chronic obstructive pulmonary disease, urinary tract infection, and major depressive disorder, among other diagnoses. During her stay in the Medicine ward, she underwent PICC line placement and received various medications to manage her conditions. The patient's vital signs, laboratory values, and clinical progress were closely monitored. Microbiology cultures were ordered to identify the infectious organism. Collaborative care was provided by the medical team, nursing staff, and other healthcare professionals. Discharge planning and follow-up appointments were arranged.\n"
     ]
    }
   ],
   "source": [
    "print(zero_shot_output)"
   ]
  },
  {
   "cell_type": "code",
   "execution_count": 105,
   "id": "872e3591-d11c-43c2-af6f-e5d0b2c05599",
   "metadata": {},
   "outputs": [
    {
     "name": "stdout",
     "output_type": "stream",
     "text": [
      "___ female with history of COPD and atrial fibrillation on \n",
      "apixaban who presents with one day of weakness, 1x emesis, 1x \n",
      "diarrhea, found to have sepsis with lactic acidosis (lactate 4) \n",
      "with UTI as suspected source. \n",
      "\n",
      "#Severe sepsis: Patient presented with elevated lactate, WBC \n",
      ">13K, T 96.8, with UTI as suspected source. She received IV \n",
      "cipro in ED, which was broadened to zosyn given history of \n",
      "multidrug resistant E.coli UTI. After receiving 2L IVF, her \n",
      "lactate resolved to 1.8. She completed a 6 days of Zosyn in the \n",
      "hospital followed by a final dose of ertapenem to complete a ___fib: CHADS2 of 2 for age and HTN; CHADSVasc of 4. Dig level on \n",
      "admission 1.6. Continued metoprolol succinate25 mg daily, \n",
      "digoxin 0.125, and Apixaban 2.5 mg BID. \n",
      "\n",
      "#Dementia: continued home donepezil 5 mg\n",
      "\n",
      "#Depression: continued home sertraline 50 mg, mirtazapine 15 mg \n",
      "qHS  \n",
      "\n",
      "#COPD: not on home maintenance medications\n"
     ]
    }
   ],
   "source": [
    "print(pt_target)"
   ]
  },
  {
   "cell_type": "markdown",
   "id": "35653a78-3baf-4a67-9de1-a95f08a4ad0d",
   "metadata": {},
   "source": [
    "## SOAP Notes"
   ]
  },
  {
   "cell_type": "code",
   "execution_count": 111,
   "id": "c17897ed-8dde-4da1-978b-d813eecaff9c",
   "metadata": {},
   "outputs": [
    {
     "name": "stdout",
     "output_type": "stream",
     "text": [
      "\n",
      "----------------------------------------------------------------------\n",
      "\n",
      "Subjective:\n",
      "The patient, ___, an 83-year-old female, presented to the Emergency Department with complaints of abdominal pain and vomiting. She appeared distressed and reported a recent decline in her overall health. According to her family, she has a history of chronic atrial fibrillation, chronic obstructive pulmonary disease, urinary tract infections, and recurrent episodes of depression. They also mentioned that she has a diagnosis of unspecified dementia without behavioral disturbance. The patient's family stated that she currently uses anticoagulants and has a history of nicotine dependence. It is important to note that the patient has a Do Not Resuscitate directive in place.\n",
      "\n",
      "Objective:\n",
      "During her stay in the Emergency Department ward, the patient's vital signs were stable within normal limits. However, she exhibited signs of sepsis, such as fever, elevated heart rate, and generalized abdominal tenderness. Laboratory results indicated acidosis, elevated white blood cell count, and a positive urine culture for unspecified Escherichia coli.\n",
      "\n",
      "Assessment:\n",
      "1. Sepsis, unspecified organism\n",
      "2. Acidosis\n",
      "3. Other ascites\n",
      "4. Chronic atrial fibrillation\n",
      "5. Chronic obstructive pulmonary disease, unspecified\n",
      "6. Urinary tract infection, site not specified\n",
      "7. Severe sepsis without septic shock\n",
      "8. Unspecified Escherichia coli [E. coli] as the cause of diseases classified elsewhere\n",
      "9. Do not resuscitate\n",
      "10. Long-term (current) use of anticoagulants\n",
      "11. Personal history of nicotine dependence\n",
      "12. Unspecified dementia without behavioral disturbance\n",
      "13. Major depressive disorder, single episode, unspecified\n",
      "\n",
      "Plan:\n",
      "1. The patient's sepsis will be treated with appropriate antibiotics targeting the unidentified organism causing infection.\n",
      "2. Intravenous fluids will be administered to correct the acidosis and maintain hydration.\n",
      "3. To monitor the patient's cardiac rhythm, she will be placed on continuous cardiac monitoring.\n",
      "4. A respiratory treatment plan will be implemented to manage the underlying chronic obstructive pulmonary disease.\n",
      "5. Empiric antibiotic therapy will be initiated to target the urinary tract infection pending further culture sensitivity results.\n",
      "6. Fluid management and supportive care will be provided to manage severe sepsis without septic shock.\n",
      "7. The urology team will be consulted to assess and manage the patient's ascites, as well as to investigate its etiology.\n",
      "8. The patient's existing medications will be continued, including anticoagulants, while monitoring for any complications.\n",
      "9. Supportive counseling will be offered to address the patient's personal history of nicotine dependence, as appropriate.\n",
      "10. The patient's family will be educated on the management and prognosis of unspecified dementia without behavioral disturbance.\n",
      "11. The patient will be evaluated by the psychiatric team to assess and manage her major depressive disorder.\n",
      "\n",
      "In conclusion, ___, an elderly female, presented with signs of sepsis and multiple comorbidities. The focus of her care in the Emergency Department ward was on the prompt initiation of appropriate antibiotics, fluid resuscitation, and the management of her chronic conditions. Consultations with the urology and psychiatric teams were initiated, and the patient's family was provided with education and support. The patient's overall management plan will be further refined as additional diagnostic results become available.\n",
      "\n",
      "----------------------------------------------------------------------\n",
      "\n",
      "Subjective:\n",
      "The patient, an 83-year-old female, initially presented to the emergency department with complaints of abdominal pain and vomiting. According to the medical record, she has been diagnosed with sepsis, unspecified organism, acidosis, other ascites, chronic atrial fibrillation, chronic obstructive pulmonary disease, urinary tract infection (site not specified), severe sepsis without septic shock, unspecified Escherichia coli [E. coli] as the cause of diseases classified elsewhere, do not resuscitate status, long term (current) use of anticoagulants, personal history of nicotine dependence, unspecified dementia without behavioral disturbance, and major depressive disorder, single episode, unspecified. The patient was transferred to the Medicine ward and stayed there from 2174-10-14 23:08:00 to 2174-10-21 12:26:37. During her stay, she underwent the insertion of an infusion device into the superior vena cava percutaneously. \n",
      "\n",
      "Objective:\n",
      "The patient was administered multiple medications during her stay in the ward, including sodium chloride 0.9% floor stock bag, metoprolol tartrate 12.5 mg half tablet, PNEUMOcoccal 23-valent polysaccharide vaccine 25mcg/0.5mL vial, metoprolol succinate XL 25mg XL tab, iso-osmotic dextrose 100ml bag, piperacillin-tazobactam 4.5 g frozen bag, sodium chloride 0.9% flush 10 mL syringe, donepezil 5mg tablet, digoxin 0.125mg tablet, apixaban 5 mg tablet, lidocaine 1% (for PICC/midline insertions) 5mL amp - (for PICC/midline line insertion), heparin flush (10 units/ml) 10 units/mL - 5 mL syringe, 0.9% sodium chloride (Mini Bag Plus) 100mL bag, cefePIME 1 g / 100 mL NS (Mini Bag Plus), sertraline 50mg tablet, mirtazapine 15 mg tablet, and apixaban 2.5 mg tablet.\n",
      "\n",
      "The patient underwent various laboratory tests during her stay, including hematocrit, hemoglobin, MCH, MCHC, MCV, platelet count, RDW, red blood cells, and white blood cells. Additionally, chemistry blood tests were conducted, evaluating anion gap, bicarbonate, calcium, chloride, creatinine, glucose, magnesium, phosphate, potassium, sodium, and urea nitrogen. Blood gas analysis included lactate levels.\n",
      "\n",
      "Assessment:\n",
      "1. Sepsis, unspecified organism\n",
      "2. Acidosis\n",
      "3. Other ascites\n",
      "4. Chronic atrial fibrillation\n",
      "5. Chronic obstructive pulmonary disease, unspecified\n",
      "6. Urinary tract infection, site not specified\n",
      "7. Severe sepsis without septic shock\n",
      "8. Unspecified Escherichia coli [E. coli] as the cause of diseases classified elsewhere\n",
      "9. Do not resuscitate status\n",
      "10. Long-term (current) use of anticoagulants\n",
      "11. Personal history of nicotine dependence\n",
      "12. Unspecified dementia without behavioral disturbance\n",
      "13. Major depressive disorder, single episode, unspecified\n",
      "\n",
      "Plan:\n",
      "During the patient's stay in the Medicine ward, the medical team has managed her conditions and provided appropriate treatment. The patient underwent the insertion of an infusion device into the superior vena cava, which will aid in delivering necessary medications and fluids. \n",
      "\n",
      "The patient has been receiving a combination of medications to address her various diagnoses. Close monitoring of vital signs and laboratory values will continue throughout her hospital stay. Further management will be based on the patient's clinical progress and response to the ongoing treatment.\n",
      "\n",
      "Microbiology cultures have been ordered to identify and manage any potential infectious organisms associated with the patient's condition.\n",
      "\n",
      "Continued collaborative care between the medical team, nursing staff, and other healthcare professionals will be crucial in ensuring the patient's comfort, managing her conditions, and addressing any new concerns that may arise during her hospitalization.\n",
      "\n",
      "Follow-up appointments and discussions with the patient and her family will be arranged to discuss discharge planning, medication management, and any necessary referrals for further care.\n",
      "\n",
      "Signed,\n",
      "[Your Name], MD\n"
     ]
    }
   ],
   "source": [
    "print(\"\\n----------------------------------------------------------------------\\n\")\n",
    "print(soap_notes['gpt_SOAP_note'].tolist()[0])\n",
    "print(\"\\n----------------------------------------------------------------------\\n\")\n",
    "print(soap_notes['gpt_SOAP_note'].tolist()[1])"
   ]
  },
  {
   "cell_type": "markdown",
   "id": "01bae5ba-cfeb-447a-8ebd-73b7a9223367",
   "metadata": {},
   "source": [
    "## Full Discharge Summary"
   ]
  },
  {
   "cell_type": "code",
   "execution_count": 116,
   "id": "c49f332b-eb9c-4ed1-b02e-1670979fa3be",
   "metadata": {},
   "outputs": [
    {
     "name": "stdout",
     "output_type": "stream",
     "text": [
      " \n",
      "Name:  ___                 Unit No:   ___\n",
      " \n",
      "Admission Date:  ___              Discharge Date:   ___\n",
      " \n",
      "Date of Birth:  ___             Sex:   F\n",
      " \n",
      "Service: MEDICINE\n",
      " \n",
      "Allergies: \n",
      "Percocet / Sulfa (Sulfonamide Antibiotics)\n",
      " \n",
      "Attending: ___\n",
      " \n",
      "Chief Complaint:\n",
      "Weakness, nausea, vomiting, diarrhea\n",
      " \n",
      "Major Surgical or Invasive Procedure:\n",
      "None\n",
      "\n",
      " \n",
      "History of Present Illness:\n",
      "diarrhea. No known fever. Denies chest pain or shortness of \n",
      "breath. Reports chronic cough.  \n",
      " In the ED, initial vitals were: 96.8 84 128/76 16 96% RA  \n",
      " Labs were significant for lactate of 4.0, WBC 13.1 (85% PMNs), \n",
      "UA w/ > 182 WBCs, few bacteria, neg nitrites, INR 1.4. Trop neg, \n",
      "LFTs normal, dig level 1.6.  \n",
      " CXR and CT abd/pel w/ con were w/o acute processes.  \n",
      " Patient was given:  \n",
      " ___ 16:41 IVF 500 mL NS 500 mL  \n",
      " ___ 18:09 PO Thiamine 100 mg  \n",
      " ___ 18:09 PO FoLIC Acid 1 mg  \n",
      " ___ 18:09 PO Multivitamins 1 TAB  \n",
      " ___ 21:21 IVF 500 mL NS 500 mL  \n",
      " ___ 21:21 IV Ciprofloxacin 400 mg  \n",
      " Repeat lactate was 3.3.  \n",
      " Vitals prior to transfer were: 96.8 84 128/76 16 96% RA  \n",
      " On the floor, the patient is asymptomatic and pleasant, but a \n",
      "poor historian. She says she came to the hospital by ambulance \n",
      "for weakness, but is not sure who called the ambulance. She \n",
      "denies any vomiting or diarrhea. She says she has a few minutes \n",
      "of abdominal pain, lasting minutes, every few days for years. \n",
      "She is not sure which medications she takes.  \n",
      " \n",
      " Review of systems:  \n",
      " (+) Per HPI  \n",
      " (-) Denies fever, chills, night sweats, recent weight loss or \n",
      "gain. Denies headache, sinus tenderness, rhinorrhea or \n",
      "congestion. Denies cough, shortness of breath. Denies chest pain \n",
      "or tightness, palpitations. Denies nausea, vomiting, diarrhea, \n",
      "constipation or abdominal pain. No recent change in bowel or \n",
      "bladder habits. No dysuria. Denies arthralgias or myalgias.  \n",
      "\n",
      " \n",
      "Past Medical History:\n",
      " COPD  \n",
      " Atrial fibrillation  \n",
      " HTN  \n",
      " Osteopenia  \n",
      " Back pain  \n",
      " Ludwigs angina, s/p tracheostomy as child  \n",
      " \n",
      "Social History:\n",
      "___\n",
      "Family History:\n",
      "Father: CHF; Mother: HTN\n",
      " \n",
      "Physical ___:\n",
      "Admission exam:\n",
      "Vital Signs: 98.6 ___ 18 96%RA  \n",
      "General: Alert, oriented x 3, no acute distress  \n",
      "HEENT: Sclera anicteric, MMM, oropharynx clear, EOMI, PERRL, \n",
      "neck supple, JVP not elevated  \n",
      "CV: Irregularly irregular, normal S1 + S2, no murmurs, rubs, \n",
      "gallops  \n",
      "Lungs: Clear to auscultation bilaterally, no wheezes, rales, \n",
      "rhonchi  \n",
      "Abdomen: Soft, non-tender, non-distended, bowel sounds present, \n",
      "no organomegaly, no rebound or guarding  \n",
      "GU: No foley  \n",
      "Ext: Warm, well perfused, 2+ pulses, no clubbing, cyanosis or \n",
      "edema  \n",
      "Neuro: moving all extremities equally \n",
      "\n",
      "Discharge exam:\n",
      "Vitals: 97.7 121/75 78 20 94%RA\n",
      "Wt 51 kg -> 49.3->48.9->50.3->48.4->51.5kg\n",
      "General: frail elderly woman laying in bed, appears fatigued\n",
      "HEENT: NCAT \n",
      "CV: Irregularly irregular, normal S1 + S2, no murmurs, rubs, \n",
      "gallops  \n",
      "Lungs: CTAB  \n",
      "Abdomen: SNTND \n",
      "GU: No foley. No suprapubic tenderness\n",
      "Ext: Warm, well perfused, no clubbing, cyanosis or edema  \n",
      "Neuro: A&Ox3. Grossly normal \n",
      " \n",
      "Pertinent Results:\n",
      "Admission and notable labs:\n",
      "\n",
      "___ 04:00PM BLOOD WBC-13.1*# RBC-4.44 Hgb-13.6 Hct-43.2 \n",
      "MCV-97 MCH-30.6 MCHC-31.5* RDW-14.6 RDWSD-52.1* Plt ___\n",
      "___:00PM BLOOD ___ PTT-33.2 ___\n",
      "___ 04:00PM BLOOD Glucose-52* UreaN-20 Creat-0.9 Na-141 \n",
      "K-4.4 Cl-104 HCO3-19* AnGap-22*\n",
      "___ 04:00PM BLOOD ALT-11 AST-20 AlkPhos-71 TotBili-0.4\n",
      "___ 04:00PM BLOOD Lipase-47\n",
      "___ 04:00PM BLOOD cTropnT-<0.01\n",
      "___ 05:20AM BLOOD Calcium-8.1* Phos-2.5* Mg-1.8\n",
      "___ 04:00PM BLOOD Albumin-4.1\n",
      "___ 04:00PM BLOOD Digoxin-1.6\n",
      "___ 04:00PM BLOOD ASA-NEG Acetmnp-NEG\n",
      "___ 08:32PM BLOOD ___ pO2-22* pCO2-59* pH-7.31* \n",
      "calTCO2-31* Base XS-0\n",
      "___ 08:32PM BLOOD Lactate-4.0*\n",
      "___ 10:10PM BLOOD Lactate-3.3*\n",
      "___ 05:57AM BLOOD Lactate-1.6\n",
      "___ 08:00PM URINE RBC-58* WBC->182* Bacteri-FEW Yeast-NONE \n",
      "Epi-1\n",
      "___ 08:00PM URINE Blood-SM  Nitrite-NEG Protein-30 \n",
      "Glucose-NEG Ketone-NEG Bilirub-NEG Urobiln-2* pH-6.5 Leuks-LG\n",
      "___ 08:00PM URINE Color-Yellow Appear-Cloudy Sp ___\n",
      "\n",
      "Discharge labs:\n",
      "___ 05:40AM BLOOD WBC-6.2 RBC-3.74* Hgb-11.3 Hct-36.4 \n",
      "MCV-97 MCH-30.2 MCHC-31.0* RDW-14.6 RDWSD-51.9* Plt ___\n",
      "___ 05:40AM BLOOD Glucose-85 UreaN-15 Creat-0.8 Na-145 \n",
      "K-4.0 Cl-106 HCO3-29 AnGap-14\n",
      "___ 05:40AM BLOOD Calcium-9.5 Phos-3.5 Mg-2.0\n",
      "\n",
      "Microbiology:\n",
      "      ESCHERICHIA COLI.    >100,000 ORGANISMS/ML.. \n",
      "         PRESUMPTIVE IDENTIFICATION. \n",
      "\n",
      "                              SENSITIVITIES: MIC expressed in \n",
      "MCG/ML\n",
      "                      \n",
      "_________________________________________________________\n",
      "                             ESCHERICHIA COLI\n",
      "                             |   \n",
      "AMPICILLIN------------  =>32 R\n",
      "AMPICILLIN/SULBACTAM--    16 I\n",
      "CEFAZOLIN-------------  =>64 R\n",
      "CEFEPIME--------------  =>64 R\n",
      "CEFTAZIDIME-----------    16 R\n",
      "CEFTRIAXONE-----------  =>64 R\n",
      "CIPROFLOXACIN---------   =>4 R\n",
      "GENTAMICIN------------   <=1 S\n",
      "MEROPENEM-------------<=0.25 S\n",
      "NITROFURANTOIN--------  <=16 S\n",
      "PIPERACILLIN/TAZO-----   <=4 S\n",
      "TOBRAMYCIN------------   <=1 S\n",
      "TRIMETHOPRIM/SULFA----  =>16 R\n",
      " \n",
      "SENSITIVE TO Ertapenem sensitivity testing performed by ___\n",
      "         ___.\n",
      "\n",
      "___ 8:30 pm BLOOD CULTURE\n",
      "   Blood Culture, Routine: NGTD\n",
      "\n",
      "Imaging:\n",
      "___: CT abd/pelvis\n",
      "FINDINGS:  \n",
      "LOWER CHEST: There is mild bibasilar atelectasis. There is no \n",
      "evidence of \n",
      "pleural or pericardial effusion.  Coronary artery calcifications \n",
      "are dense.   \n",
      "ABDOMEN:   \n",
      "HEPATOBILIARY: The liver demonstrates homogenous attenuation \n",
      "throughout.  \n",
      "There is no evidence of focal lesions.  There is no evidence of \n",
      "intrahepatic or extrahepatic biliary dilatation.  The \n",
      "gallbladder is within normal limits.   \n",
      "PANCREAS: The pancreas has normal attenuation throughout, \n",
      "without evidence of focal lesions or pancreatic ductal \n",
      "dilatation.  There is no peripancreatic stranding.   \n",
      "SPLEEN: The spleen shows normal size and attenuation throughout, \n",
      "without \n",
      "evidence of focal lesions.  \n",
      "ADRENALS: The right adrenal gland is normal in size and shape.  \n",
      "Slight focal prominence of the left adrenal gland appears \n",
      "similar to prior. \n",
      "URINARY: The kidneys are of normal and symmetric size with \n",
      "normal nephrogram.  Regions of cortical thinning in the kidneys \n",
      "bilaterally are suggestive of scarring most notable at the lower \n",
      "pole of the right kidney.  There is no evidence of focal renal \n",
      "lesions or hydronephrosis.  There is no perinephric abnormality. \n",
      "\n",
      "GASTROINTESTINAL: The stomach is unremarkable.  Small bowel \n",
      "loops demonstrate normal caliber, wall thickness, and \n",
      "enhancement throughout.  There is hyperenhancement of the mucosa \n",
      "of the descending colon, sigmoid colon, and rectum.  \n",
      "Diverticulosis of the sigmoid colon is noted, without evidence \n",
      "of wall thickening nor fat stranding.  The appendix is normal. \n",
      "PELVIS: The urinary bladder and distal ureters are unremarkable. \n",
      " There is \n",
      "trace free fluid in the pelvis.   \n",
      "REPRODUCTIVE ORGANS: The reproductive organs are unremarkable. \n",
      "LYMPH NODES: There is no retroperitoneal or mesenteric \n",
      "lymphadenopathy.  There is no pelvic or inguinal \n",
      "lymphadenopathy. \n",
      "VASCULAR: There is no abdominal aortic aneurysm.  Extensive \n",
      "atherosclerotic disease is noted. \n",
      "BONES: There is no evidence of acute fracture.  Foci of \n",
      "sclerosis in the \n",
      "femurs bilaterally are similar to ___.  \n",
      "Degenerative changes in the lumbar spine are moderate to severe. \n",
      " There is severe dextroscoliosis of the lower thoracic and \n",
      "lumbar spine with right lateral subluxation of L2 on L3.   \n",
      "SOFT TISSUES: The abdominal wall is within normal limits.  There \n",
      "is a right gluteal subcutaneous metallic device with a lead \n",
      "leading into the right sacral area compatible with a nerve \n",
      "stimulator. \n",
      "IMPRESSION:  No acute intra-abdominal process.  No findings to \n",
      "explain patient's symptoms. Nonspecific trace free fluid in the \n",
      "pelvis, nonphysiologic in a patient of this age. Diverticulosis \n",
      "without diverticulitis.  Atherosclerosis \n",
      "\n",
      "CXR ___ IMPRESSION:  No focal consolidation or pulmonary edema. \n",
      "\n",
      "\n",
      "PICC ___: IMPRESSION:  Right PICC line tip is at the level of \n",
      "mid to lower SVC.  Heart size is top-normal, unchanged.  Lungs \n",
      "overall clear.  There is no pleural effusion or pneumothorax. \n",
      "\n",
      " \n",
      "Brief Hospital Course:\n",
      "___ female with history of COPD and atrial fibrillation on \n",
      "apixaban who presents with one day of weakness, 1x emesis, 1x \n",
      "diarrhea, found to have sepsis with lactic acidosis (lactate 4) \n",
      "with UTI as suspected source. \n",
      "\n",
      "#Severe sepsis: Patient presented with elevated lactate, WBC \n",
      ">13K, T 96.8, with UTI as suspected source. She received IV \n",
      "cipro in ED, which was broadened to zosyn given history of \n",
      "multidrug resistant E.coli UTI. After receiving 2L IVF, her \n",
      "lactate resolved to 1.8. She completed a 6 days of Zosyn in the \n",
      "hospital followed by a final dose of ertapenem to complete a ___fib: CHADS2 of 2 for age and HTN; CHADSVasc of 4. Dig level on \n",
      "admission 1.6. Continued metoprolol succinate25 mg daily, \n",
      "digoxin 0.125, and Apixaban 2.5 mg BID. \n",
      "\n",
      "#Dementia: continued home donepezil 5 mg\n",
      "\n",
      "#Depression: continued home sertraline 50 mg, mirtazapine 15 mg \n",
      "qHS  \n",
      "\n",
      "#COPD: not on home maintenance medications\n",
      "\n",
      "TRANSITIONAL ISSUES:\n",
      "-Patient with short term memory deficits; discharged with \n",
      "services including OT. \n",
      "-Given resistance history of UTIs, pt likely will not able to be \n",
      "managed with oral antibiotics in future. \n",
      "-Patient noted to have small amount of free fluid in the pelvis \n",
      "on CT abd/pelvis. This has been previously noted in the \n",
      "outpatient setting and patient has received pelvic ultrasound. \n",
      "Please continue follow up with further imaging including \n",
      "transvaginal U/S vs MRI if warranted.\n",
      "# CODE: DNR/DNI \n",
      "# CONTACT: ___ (Nephew) ___ \n",
      "\n",
      ">30 minutes spent on day of discharge on coordination of care \n",
      "and counseling\n",
      " \n",
      "Medications on Admission:\n",
      "The Preadmission Medication list may be inaccurate and requires \n",
      "futher investigation.\n",
      "1. Donepezil 5 mg PO QHS \n",
      "2. Apixaban 2.5 mg PO BID \n",
      "3. Mirtazapine 15 mg PO QHS \n",
      "4. Digoxin 0.125 mg PO DAILY \n",
      "5. Sertraline 50 mg PO DAILY \n",
      "6. Metoprolol Succinate XL 25 mg PO DAILY \n",
      "\n",
      " \n",
      "Discharge Medications:\n",
      "1. Apixaban 2.5 mg PO BID \n",
      "2. Digoxin 0.125 mg PO DAILY \n",
      "3. Donepezil 5 mg PO QHS \n",
      "4. Metoprolol Succinate XL 25 mg PO DAILY \n",
      "5. Mirtazapine 15 mg PO QHS \n",
      "6. Sertraline 50 mg PO DAILY \n",
      "\n",
      " \n",
      "Discharge Disposition:\n",
      "Home With Service\n",
      " \n",
      "Facility:\n",
      "___\n",
      " \n",
      "Discharge Diagnosis:\n",
      "Sepsis\n",
      "Complicated urinary tract infection\n",
      "Atrial Fibrillation\n",
      "Advanced Dementia\n",
      "\n",
      " \n",
      "Discharge Condition:\n",
      "Level of Consciousness: Alert and interactive.\n",
      "Activity Status: Ambulatory - Independent.\n",
      "Mental Status: Confused - always.\n",
      "\n",
      " \n",
      "Discharge Instructions:\n",
      "Dear Ms. ___,\n",
      "\n",
      "You were seen at ___ due to weakness, nausea, \n",
      "vomiting, and diarrhea. You were found to have a urinary tract \n",
      "infection and we gave you IV antibiotics.  \n",
      "\n",
      "Please follow up with the appointments we have arranged and \n",
      "please take all medications as prescribed. Call your doctors if \n",
      "___ develop lightheadedness, fainting, burning when you pee, or \n",
      "new weakness. It was a pleasure taking care of you at ___.\n",
      "\n",
      "Sincerely,\n",
      "Your ___ care team\n",
      " \n",
      "Followup Instructions:\n",
      "___\n",
      "\n"
     ]
    }
   ],
   "source": [
    "print(discharges[discharges['hadm_id'] == soap_notes.iloc[0]['hadm_id']]['text'].squeeze())"
   ]
  },
  {
   "cell_type": "code",
   "execution_count": null,
   "id": "c9a464bd-3579-4743-b76a-fff02d7ad6d9",
   "metadata": {},
   "outputs": [],
   "source": []
  }
 ],
 "metadata": {
  "kernelspec": {
   "display_name": "Python 3 (ipykernel)",
   "language": "python",
   "name": "python3"
  },
  "language_info": {
   "codemirror_mode": {
    "name": "ipython",
    "version": 3
   },
   "file_extension": ".py",
   "mimetype": "text/x-python",
   "name": "python",
   "nbconvert_exporter": "python",
   "pygments_lexer": "ipython3",
   "version": "3.10.13"
  },
  "widgets": {
   "application/vnd.jupyter.widget-state+json": {
    "state": {},
    "version_major": 2,
    "version_minor": 0
   }
  }
 },
 "nbformat": 4,
 "nbformat_minor": 5
}
