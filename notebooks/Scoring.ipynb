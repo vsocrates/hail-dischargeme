{
 "cells": [
  {
   "cell_type": "code",
   "execution_count": 8,
   "id": "b47fc2ae-876c-4434-8733-345ed812d677",
   "metadata": {},
   "outputs": [],
   "source": [
    "import pandas as pd"
   ]
  },
  {
   "cell_type": "code",
   "execution_count": 9,
   "id": "f2b36b0d-2d9b-47a1-a084-ca5208831371",
   "metadata": {},
   "outputs": [],
   "source": [
    "import sys\n",
    "sys.path.insert(0,\"../scoring\")"
   ]
  },
  {
   "cell_type": "code",
   "execution_count": 10,
   "id": "6dcd2ae4-e1bb-466a-977f-9fc35beaa996",
   "metadata": {},
   "outputs": [],
   "source": [
    "from scoring_bhc import calculate_scores_bhc\n",
    "from scoring_bhc import compute_overall_score_bhc"
   ]
  },
  {
   "cell_type": "code",
   "execution_count": 11,
   "id": "8d972f50-cac7-4a83-863b-569ddd2be57a",
   "metadata": {},
   "outputs": [],
   "source": [
    "from scoring_instructions import calculate_scores_instructions\n",
    "from scoring_instructions import compute_overall_score_instructions"
   ]
  },
  {
   "cell_type": "markdown",
   "id": "a81fc848-c15d-4216-a9c1-2c49b6595d2c",
   "metadata": {},
   "source": [
    "# Test"
   ]
  },
  {
   "cell_type": "code",
   "execution_count": 12,
   "id": "1c649900-eae8-4d17-9a68-37e0abf3672a",
   "metadata": {},
   "outputs": [],
   "source": [
    "# notes = pd.read_csv(\"/home/vs428/Documents/DischargeMe/hail-dischargeme/notebooks/brief_hospital_course/comparison_simple_gpt3.5_2shot_v2.csv\")\n",
    "notes = pd.read_csv(\"/home/vs428/Documents/DischargeMe/hail-dischargeme/notebooks/brief_hospital_course/outputs/submission.csv\")"
   ]
  },
  {
   "cell_type": "code",
   "execution_count": 13,
   "id": "947c241c-0f64-4f92-a9d6-a081f05b5f59",
   "metadata": {
    "papermill": {
     "duration": 0.010561,
     "end_time": "2024-04-07T17:16:44.847682",
     "exception": false,
     "start_time": "2024-04-07T17:16:44.837121",
     "status": "completed"
    },
    "tags": []
   },
   "outputs": [],
   "source": [
    "challenge_data_fp = \"/gpfs/gibbs/project/rtaylor/shared/DischargeMe/public/\"\n"
   ]
  },
  {
   "cell_type": "code",
   "execution_count": 14,
   "id": "29d5cc66-620c-4cb6-b498-76ddeabb0519",
   "metadata": {},
   "outputs": [],
   "source": [
    "discharge_test = pd.read_csv(challenge_data_fp + \"test_phase_1/discharge.csv.gz\", keep_default_na=False)\n"
   ]
  },
  {
   "cell_type": "code",
   "execution_count": 15,
   "id": "0f8989db-00fe-449f-be01-0d6a9102be54",
   "metadata": {},
   "outputs": [],
   "source": [
    "notes = notes.merge(discharge_test[['hadm_id',\"text\"]], on=\"hadm_id\")"
   ]
  },
  {
   "cell_type": "code",
   "execution_count": 38,
   "id": "fe229f19-8897-4f75-a271-1c1cde027dfa",
   "metadata": {},
   "outputs": [
    {
     "data": {
      "text/html": [
       "<div>\n",
       "<style scoped>\n",
       "    .dataframe tbody tr th:only-of-type {\n",
       "        vertical-align: middle;\n",
       "    }\n",
       "\n",
       "    .dataframe tbody tr th {\n",
       "        vertical-align: top;\n",
       "    }\n",
       "\n",
       "    .dataframe thead th {\n",
       "        text-align: right;\n",
       "    }\n",
       "</style>\n",
       "<table border=\"1\" class=\"dataframe\">\n",
       "  <thead>\n",
       "    <tr style=\"text-align: right;\">\n",
       "      <th></th>\n",
       "      <th>Unnamed: 0</th>\n",
       "      <th>hadm_id</th>\n",
       "      <th>discharge_instruction_gpt</th>\n",
       "      <th>Original</th>\n",
       "      <th>text</th>\n",
       "    </tr>\n",
       "  </thead>\n",
       "  <tbody>\n",
       "    <tr>\n",
       "      <th>0</th>\n",
       "      <td>0</td>\n",
       "      <td>26231944</td>\n",
       "      <td>You were admitted to the hospital for decompen...</td>\n",
       "      <td>Dear Mr. ___,\\n\\nIt was a pleasure to care for...</td>\n",
       "      <td>\\nName:  ___                Unit No:   ___\\n ...</td>\n",
       "    </tr>\n",
       "    <tr>\n",
       "      <th>1</th>\n",
       "      <td>1</td>\n",
       "      <td>28542384</td>\n",
       "      <td>You were admitted to the hospital for a recent...</td>\n",
       "      <td>Dear Ms. ___, \\n We had the pleasure of taking...</td>\n",
       "      <td>\\nName:  ___             Unit No:   ___\\n \\nA...</td>\n",
       "    </tr>\n",
       "    <tr>\n",
       "      <th>2</th>\n",
       "      <td>2</td>\n",
       "      <td>26489329</td>\n",
       "      <td>You were admitted to the hospital for a possib...</td>\n",
       "      <td>You were admitted to the hospital after a with...</td>\n",
       "      <td>\\nName:  ___                Unit No:   ___\\n ...</td>\n",
       "    </tr>\n",
       "    <tr>\n",
       "      <th>3</th>\n",
       "      <td>3</td>\n",
       "      <td>22641254</td>\n",
       "      <td>You were admitted to the hospital for hypoxemi...</td>\n",
       "      <td>Dear Ms. ___, \\n\\nIt was a pleasure caring for...</td>\n",
       "      <td>\\nName:  ___                Unit No:   ___\\n ...</td>\n",
       "    </tr>\n",
       "    <tr>\n",
       "      <th>4</th>\n",
       "      <td>4</td>\n",
       "      <td>29265750</td>\n",
       "      <td>You were admitted to the hospital for right-si...</td>\n",
       "      <td>Dear Mr. ___, \\n\\nYou were admitted to ___ wit...</td>\n",
       "      <td>\\nName:  ___                       Unit No:  ...</td>\n",
       "    </tr>\n",
       "    <tr>\n",
       "      <th>...</th>\n",
       "      <td>...</td>\n",
       "      <td>...</td>\n",
       "      <td>...</td>\n",
       "      <td>...</td>\n",
       "      <td>...</td>\n",
       "    </tr>\n",
       "    <tr>\n",
       "      <th>14692</th>\n",
       "      <td>14692</td>\n",
       "      <td>27445071</td>\n",
       "      <td>Dear Mr. or Ms. [Patient's Last Name], You wer...</td>\n",
       "      <td>Dear Mr. ___,\\n\\nYou were admitted after getti...</td>\n",
       "      <td>\\nName:  ___                  Unit No:   ___\\...</td>\n",
       "    </tr>\n",
       "    <tr>\n",
       "      <th>14693</th>\n",
       "      <td>14693</td>\n",
       "      <td>26192891</td>\n",
       "      <td>Dear Mr. ___, You were admitted to the hospita...</td>\n",
       "      <td>Dear Mr. ___,\\n\\n  You were admitted to ___ af...</td>\n",
       "      <td>\\nName:  ___                Unit No:   ___\\n ...</td>\n",
       "    </tr>\n",
       "    <tr>\n",
       "      <th>14694</th>\n",
       "      <td>14694</td>\n",
       "      <td>26584893</td>\n",
       "      <td>Dear Ms. ___, You were admitted to the hospita...</td>\n",
       "      <td>Dear Ms. ___,\\n\\nIt was a pleasure taking ___ ...</td>\n",
       "      <td>\\nName:  ___                     Unit No:   _...</td>\n",
       "    </tr>\n",
       "    <tr>\n",
       "      <th>14695</th>\n",
       "      <td>14695</td>\n",
       "      <td>25623241</td>\n",
       "      <td>Dear Mr. ___, You were admitted to the hospita...</td>\n",
       "      <td>Dear Mr. ___, \\n\\nYou were admitted to ___ \\nb...</td>\n",
       "      <td>\\nName:  ___                Unit No:   ___\\n ...</td>\n",
       "    </tr>\n",
       "    <tr>\n",
       "      <th>14696</th>\n",
       "      <td>14696</td>\n",
       "      <td>23318613</td>\n",
       "      <td>Dear Mr. ___, You were admitted to the hospita...</td>\n",
       "      <td>Dear ___,\\n.\\nYou were admitted to the hospita...</td>\n",
       "      <td>\\nName:  ___                Unit No:   ___\\n ...</td>\n",
       "    </tr>\n",
       "  </tbody>\n",
       "</table>\n",
       "<p>14697 rows × 5 columns</p>\n",
       "</div>"
      ],
      "text/plain": [
       "       Unnamed: 0   hadm_id  \\\n",
       "0               0  26231944   \n",
       "1               1  28542384   \n",
       "2               2  26489329   \n",
       "3               3  22641254   \n",
       "4               4  29265750   \n",
       "...           ...       ...   \n",
       "14692       14692  27445071   \n",
       "14693       14693  26192891   \n",
       "14694       14694  26584893   \n",
       "14695       14695  25623241   \n",
       "14696       14696  23318613   \n",
       "\n",
       "                               discharge_instruction_gpt  \\\n",
       "0      You were admitted to the hospital for decompen...   \n",
       "1      You were admitted to the hospital for a recent...   \n",
       "2      You were admitted to the hospital for a possib...   \n",
       "3      You were admitted to the hospital for hypoxemi...   \n",
       "4      You were admitted to the hospital for right-si...   \n",
       "...                                                  ...   \n",
       "14692  Dear Mr. or Ms. [Patient's Last Name], You wer...   \n",
       "14693  Dear Mr. ___, You were admitted to the hospita...   \n",
       "14694  Dear Ms. ___, You were admitted to the hospita...   \n",
       "14695  Dear Mr. ___, You were admitted to the hospita...   \n",
       "14696  Dear Mr. ___, You were admitted to the hospita...   \n",
       "\n",
       "                                                Original  \\\n",
       "0      Dear Mr. ___,\\n\\nIt was a pleasure to care for...   \n",
       "1      Dear Ms. ___, \\n We had the pleasure of taking...   \n",
       "2      You were admitted to the hospital after a with...   \n",
       "3      Dear Ms. ___, \\n\\nIt was a pleasure caring for...   \n",
       "4      Dear Mr. ___, \\n\\nYou were admitted to ___ wit...   \n",
       "...                                                  ...   \n",
       "14692  Dear Mr. ___,\\n\\nYou were admitted after getti...   \n",
       "14693  Dear Mr. ___,\\n\\n  You were admitted to ___ af...   \n",
       "14694  Dear Ms. ___,\\n\\nIt was a pleasure taking ___ ...   \n",
       "14695  Dear Mr. ___, \\n\\nYou were admitted to ___ \\nb...   \n",
       "14696  Dear ___,\\n.\\nYou were admitted to the hospita...   \n",
       "\n",
       "                                                    text  \n",
       "0       \\nName:  ___                Unit No:   ___\\n ...  \n",
       "1       \\nName:  ___             Unit No:   ___\\n \\nA...  \n",
       "2       \\nName:  ___                Unit No:   ___\\n ...  \n",
       "3       \\nName:  ___                Unit No:   ___\\n ...  \n",
       "4       \\nName:  ___                       Unit No:  ...  \n",
       "...                                                  ...  \n",
       "14692   \\nName:  ___                  Unit No:   ___\\...  \n",
       "14693   \\nName:  ___                Unit No:   ___\\n ...  \n",
       "14694   \\nName:  ___                     Unit No:   _...  \n",
       "14695   \\nName:  ___                Unit No:   ___\\n ...  \n",
       "14696   \\nName:  ___                Unit No:   ___\\n ...  \n",
       "\n",
       "[14697 rows x 5 columns]"
      ]
     },
     "execution_count": 38,
     "metadata": {},
     "output_type": "execute_result"
    }
   ],
   "source": [
    "notes"
   ]
  },
  {
   "cell_type": "code",
   "execution_count": 39,
   "id": "e1601532-6dbb-4db6-8441-7a7cd11fb78d",
   "metadata": {},
   "outputs": [],
   "source": [
    "# hadm_id,brief_hospital_course,discharge_instructions"
   ]
  },
  {
   "cell_type": "code",
   "execution_count": 40,
   "id": "705d472a-36de-4cc8-9e30-3cf2a25079da",
   "metadata": {},
   "outputs": [],
   "source": [
    "reference = notes[['hadm_id', \"Original\"]].rename({\"Original\":\"brief_hospital_course\"}, axis=1)\n",
    "generated = notes[['hadm_id', \"discharge_instruction_gpt\"]].rename({\"discharge_instruction_gpt\":\"brief_hospital_course\"}, axis=1)"
   ]
  },
  {
   "cell_type": "code",
   "execution_count": 36,
   "id": "13b9f0b1-0c83-43a3-9081-58fb1020a828",
   "metadata": {},
   "outputs": [
    {
     "data": {
      "text/plain": [
       "(Unnamed: 0                   0\n",
       " hadm_id                      0\n",
       " discharge_instruction_gpt    1\n",
       " Original                     0\n",
       " text                         0\n",
       " dtype: int64,\n",
       " hadm_id                  0\n",
       " brief_hospital_course    1\n",
       " dtype: int64)"
      ]
     },
     "execution_count": 36,
     "metadata": {},
     "output_type": "execute_result"
    }
   ],
   "source": [
    "notes.isna().sum(), generated.isna().sum()"
   ]
  },
  {
   "cell_type": "code",
   "execution_count": 43,
   "id": "d96314a1-d97c-4d58-a01c-8b2ee5a1fe4f",
   "metadata": {},
   "outputs": [],
   "source": [
    "# looks like hadm_id 28358078 didn't get generated, and I think it throws an error, so we're dropping it for now\n",
    "generated = generated[generated['hadm_id'] != 28358078]\n",
    "reference = reference[reference['hadm_id'] != 28358078]\n"
   ]
  },
  {
   "cell_type": "code",
   "execution_count": 44,
   "id": "b4f4da6a-76e1-4d1c-9316-c98f850ea8f5",
   "metadata": {
    "scrolled": true
   },
   "outputs": [
    {
     "name": "stdout",
     "output_type": "stream",
     "text": [
      "Beginning scoring...\n",
      "bleuScorer initialized\n",
      "rougeScorer initialized\n",
      "bertScorer initialized\n"
     ]
    },
    {
     "name": "stderr",
     "output_type": "stream",
     "text": [
      "[nltk_data] Downloading package wordnet to /home/vs428/nltk_data...\n",
      "[nltk_data]   Package wordnet is already up-to-date!\n",
      "[nltk_data] Downloading package punkt to /home/vs428/nltk_data...\n",
      "[nltk_data]   Package punkt is already up-to-date!\n",
      "[nltk_data] Downloading package omw-1.4 to /home/vs428/nltk_data...\n",
      "[nltk_data]   Package omw-1.4 is already up-to-date!\n"
     ]
    },
    {
     "name": "stdout",
     "output_type": "stream",
     "text": [
      "meteorScorer initialized\n",
      "Processed 128/14696 samples.\n",
      "Processed 256/14696 samples.\n",
      "Processed 384/14696 samples.\n",
      "Processed 512/14696 samples.\n",
      "Processed 640/14696 samples.\n",
      "Processed 768/14696 samples.\n",
      "Processed 896/14696 samples.\n",
      "Processed 1024/14696 samples.\n",
      "Processed 1152/14696 samples.\n",
      "Processed 1280/14696 samples.\n",
      "Processed 1408/14696 samples.\n",
      "Processed 1536/14696 samples.\n",
      "Processed 1664/14696 samples.\n",
      "Processed 1792/14696 samples.\n",
      "Processed 1920/14696 samples.\n",
      "Processed 2048/14696 samples.\n",
      "Processed 2176/14696 samples.\n",
      "Processed 2304/14696 samples.\n",
      "Processed 2432/14696 samples.\n",
      "Processed 2560/14696 samples.\n",
      "Processed 2688/14696 samples.\n",
      "Processed 2816/14696 samples.\n",
      "Processed 2944/14696 samples.\n",
      "Processed 3072/14696 samples.\n",
      "Processed 3200/14696 samples.\n",
      "Processed 3328/14696 samples.\n",
      "Processed 3456/14696 samples.\n",
      "Processed 3584/14696 samples.\n",
      "Processed 3712/14696 samples.\n",
      "Processed 3840/14696 samples.\n",
      "Processed 3968/14696 samples.\n",
      "Processed 4096/14696 samples.\n",
      "Processed 4224/14696 samples.\n",
      "Processed 4352/14696 samples.\n",
      "Processed 4480/14696 samples.\n",
      "Processed 4608/14696 samples.\n",
      "Processed 4736/14696 samples.\n",
      "Processed 4864/14696 samples.\n",
      "Processed 4992/14696 samples.\n",
      "Processed 5120/14696 samples.\n",
      "Processed 5248/14696 samples.\n",
      "Processed 5376/14696 samples.\n",
      "Processed 5504/14696 samples.\n",
      "Processed 5632/14696 samples.\n",
      "Processed 5760/14696 samples.\n",
      "Processed 5888/14696 samples.\n",
      "Processed 6016/14696 samples.\n",
      "Processed 6144/14696 samples.\n",
      "Processed 6272/14696 samples.\n",
      "Processed 6400/14696 samples.\n",
      "Processed 6528/14696 samples.\n",
      "Processed 6656/14696 samples.\n",
      "Processed 6784/14696 samples.\n",
      "Processed 6912/14696 samples.\n",
      "Processed 7040/14696 samples.\n",
      "Processed 7168/14696 samples.\n",
      "Processed 7296/14696 samples.\n",
      "Processed 7424/14696 samples.\n",
      "Processed 7552/14696 samples.\n",
      "Processed 7680/14696 samples.\n",
      "Processed 7808/14696 samples.\n",
      "Processed 7936/14696 samples.\n",
      "Processed 8064/14696 samples.\n",
      "Processed 8192/14696 samples.\n",
      "Processed 8320/14696 samples.\n",
      "Processed 8448/14696 samples.\n",
      "Processed 8576/14696 samples.\n",
      "Processed 8704/14696 samples.\n",
      "Processed 8832/14696 samples.\n",
      "Processed 8960/14696 samples.\n",
      "Processed 9088/14696 samples.\n",
      "Processed 9216/14696 samples.\n",
      "Processed 9344/14696 samples.\n",
      "Processed 9472/14696 samples.\n",
      "Processed 9600/14696 samples.\n",
      "Processed 9728/14696 samples.\n",
      "Processed 9856/14696 samples.\n",
      "Processed 9984/14696 samples.\n",
      "Processed 10112/14696 samples.\n",
      "Processed 10240/14696 samples.\n",
      "Processed 10368/14696 samples.\n",
      "Processed 10496/14696 samples.\n",
      "Processed 10624/14696 samples.\n",
      "Processed 10752/14696 samples.\n",
      "Processed 10880/14696 samples.\n",
      "Processed 11008/14696 samples.\n",
      "Processed 11136/14696 samples.\n",
      "Processed 11264/14696 samples.\n",
      "Processed 11392/14696 samples.\n",
      "Processed 11520/14696 samples.\n",
      "Processed 11648/14696 samples.\n",
      "Processed 11776/14696 samples.\n",
      "Processed 11904/14696 samples.\n",
      "Processed 12032/14696 samples.\n",
      "Processed 12160/14696 samples.\n",
      "Processed 12288/14696 samples.\n",
      "Processed 12416/14696 samples.\n",
      "Processed 12544/14696 samples.\n",
      "Processed 12672/14696 samples.\n",
      "Processed 12800/14696 samples.\n",
      "Processed 12928/14696 samples.\n",
      "Processed 13056/14696 samples.\n",
      "Processed 13184/14696 samples.\n",
      "Processed 13312/14696 samples.\n",
      "Processed 13440/14696 samples.\n",
      "Processed 13568/14696 samples.\n",
      "Processed 13696/14696 samples.\n",
      "Processed 13824/14696 samples.\n",
      "Processed 13952/14696 samples.\n",
      "Processed 14080/14696 samples.\n",
      "Processed 14208/14696 samples.\n",
      "Processed 14336/14696 samples.\n",
      "Processed 14464/14696 samples.\n",
      "Processed 14592/14696 samples.\n",
      "Processed 14720/14696 samples.\n",
      "Processed 14696/14696 samples.\n",
      "Done.\n"
     ]
    }
   ],
   "source": [
    "scores = calculate_scores_bhc(generated,\n",
    "                 reference,\n",
    "                 [\n",
    "                     \"bleu\", \n",
    "                     \"rouge\", \n",
    "                     \"bertscore\", \n",
    "                     \"meteor\"\n",
    "                 ])"
   ]
  },
  {
   "cell_type": "code",
   "execution_count": 45,
   "id": "e1d6bddf-21a3-4ebe-9cc1-063428bc5953",
   "metadata": {},
   "outputs": [
    {
     "name": "stdout",
     "output_type": "stream",
     "text": [
      "Computing overall score...\n",
      "Done.\n"
     ]
    },
    {
     "data": {
      "text/plain": [
       "{'bleu': 0.025703420659624474,\n",
       " 'rouge1': 0.33952083578709863,\n",
       " 'rouge2': 0.08486844444470257,\n",
       " 'rougel': 0.17360548057604078,\n",
       " 'bertscore': 0.2870371798924518,\n",
       " 'meteor': 0.2756587994626359,\n",
       " 'overall': 0.19773236013709236}"
      ]
     },
     "execution_count": 45,
     "metadata": {},
     "output_type": "execute_result"
    }
   ],
   "source": [
    "compute_overall_score_bhc(scores)"
   ]
  },
  {
   "cell_type": "code",
   "execution_count": null,
   "id": "d2fd7ccc-fe4c-4362-a49f-7856253eb545",
   "metadata": {},
   "outputs": [],
   "source": []
  },
  {
   "cell_type": "code",
   "execution_count": null,
   "id": "96f11b9a-5e93-4840-ac44-f5646d9c8c9f",
   "metadata": {},
   "outputs": [],
   "source": []
  }
 ],
 "metadata": {
  "kernelspec": {
   "display_name": "Python 3 (ipykernel)",
   "language": "python",
   "name": "python3"
  },
  "language_info": {
   "codemirror_mode": {
    "name": "ipython",
    "version": 3
   },
   "file_extension": ".py",
   "mimetype": "text/x-python",
   "name": "python",
   "nbconvert_exporter": "python",
   "pygments_lexer": "ipython3",
   "version": "3.12.2"
  },
  "widgets": {
   "application/vnd.jupyter.widget-state+json": {
    "state": {
     "07c2ef17c5734d93b4dd8e31b4083c06": {
      "model_module": "@jupyter-widgets/base",
      "model_module_version": "2.0.0",
      "model_name": "LayoutModel",
      "state": {}
     },
     "3795e694fe444ce09876b88f7a93b5e2": {
      "model_module": "@jupyter-widgets/controls",
      "model_module_version": "2.0.0",
      "model_name": "HTMLModel",
      "state": {
       "layout": "IPY_MODEL_aa1f6df051b3455eb4443f9affb9489f",
       "style": "IPY_MODEL_ccebd466ce9a47f8b0527a2d1e568c60",
       "value": "Downloading builder script: 100%"
      }
     },
     "7918e5cacf9b41cb8a0f516d989b0872": {
      "model_module": "@jupyter-widgets/controls",
      "model_module_version": "2.0.0",
      "model_name": "ProgressStyleModel",
      "state": {
       "description_width": ""
      }
     },
     "8bdf134f431346abb848acc657a15c60": {
      "model_module": "@jupyter-widgets/controls",
      "model_module_version": "2.0.0",
      "model_name": "HTMLModel",
      "state": {
       "layout": "IPY_MODEL_d13d4ede6b21416d92612cb5669211aa",
       "style": "IPY_MODEL_c430488ad2914590827671b77e03e59d",
       "value": " 6.27k/6.27k [00:00&lt;00:00, 625kB/s]"
      }
     },
     "aa1f6df051b3455eb4443f9affb9489f": {
      "model_module": "@jupyter-widgets/base",
      "model_module_version": "2.0.0",
      "model_name": "LayoutModel",
      "state": {}
     },
     "b4773f7c66d34a5781fa8e64877a1a6f": {
      "model_module": "@jupyter-widgets/controls",
      "model_module_version": "2.0.0",
      "model_name": "HBoxModel",
      "state": {
       "children": [
        "IPY_MODEL_3795e694fe444ce09876b88f7a93b5e2",
        "IPY_MODEL_d9459e9613aa40a7978b60b2c20c195e",
        "IPY_MODEL_8bdf134f431346abb848acc657a15c60"
       ],
       "layout": "IPY_MODEL_e3e00558f0194935be2b99da97519a15"
      }
     },
     "c430488ad2914590827671b77e03e59d": {
      "model_module": "@jupyter-widgets/controls",
      "model_module_version": "2.0.0",
      "model_name": "HTMLStyleModel",
      "state": {
       "description_width": "",
       "font_size": null,
       "text_color": null
      }
     },
     "ccebd466ce9a47f8b0527a2d1e568c60": {
      "model_module": "@jupyter-widgets/controls",
      "model_module_version": "2.0.0",
      "model_name": "HTMLStyleModel",
      "state": {
       "description_width": "",
       "font_size": null,
       "text_color": null
      }
     },
     "d13d4ede6b21416d92612cb5669211aa": {
      "model_module": "@jupyter-widgets/base",
      "model_module_version": "2.0.0",
      "model_name": "LayoutModel",
      "state": {}
     },
     "d9459e9613aa40a7978b60b2c20c195e": {
      "model_module": "@jupyter-widgets/controls",
      "model_module_version": "2.0.0",
      "model_name": "FloatProgressModel",
      "state": {
       "bar_style": "success",
       "layout": "IPY_MODEL_07c2ef17c5734d93b4dd8e31b4083c06",
       "max": 6270,
       "style": "IPY_MODEL_7918e5cacf9b41cb8a0f516d989b0872",
       "value": 6270
      }
     },
     "e3e00558f0194935be2b99da97519a15": {
      "model_module": "@jupyter-widgets/base",
      "model_module_version": "2.0.0",
      "model_name": "LayoutModel",
      "state": {}
     }
    },
    "version_major": 2,
    "version_minor": 0
   }
  }
 },
 "nbformat": 4,
 "nbformat_minor": 5
}
